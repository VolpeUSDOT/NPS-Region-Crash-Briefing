{
 "cells": [
  {
   "cell_type": "markdown",
   "id": "ca4ceb64",
   "metadata": {},
   "source": [
    "## Crash Data Wrangling Jupyter Notebook\n",
    "\n",
    "**Author:** Sophie Kaye \n",
    "\n",
    "**Date:** 7/27/2022 \n",
    "\n",
    "**Purpose:** This notebook combines the IMARS and CDS analysis tables, each containing a subset of the original data attributes, into a single analysis database"
   ]
  },
  {
   "cell_type": "code",
   "execution_count": 10,
   "id": "889ba7d5",
   "metadata": {},
   "outputs": [],
   "source": [
    "import pandas as pd\n",
    "import numpy as np\n",
    "import os"
   ]
  },
  {
   "cell_type": "code",
   "execution_count": 11,
   "id": "3b4de861",
   "metadata": {},
   "outputs": [],
   "source": [
    "myworkingdirectory = r\"C:\\Users\\Sophie.Kaye\\Desktop\\NPS Safety\"\n",
    "os.chdir(myworkingdirectory)"
   ]
  },
  {
   "cell_type": "code",
   "execution_count": 12,
   "id": "d7d16733",
   "metadata": {},
   "outputs": [
    {
     "data": {
      "text/plain": [
       "(194307, 70)"
      ]
     },
     "execution_count": 12,
     "metadata": {},
     "output_type": "execute_result"
    }
   ],
   "source": [
    "cds = pd.read_csv('CDS_slim_clean.csv')\n",
    "cds.shape"
   ]
  },
  {
   "cell_type": "code",
   "execution_count": 13,
   "id": "34eb7c5a",
   "metadata": {},
   "outputs": [
    {
     "data": {
      "text/plain": [
       "(11804, 70)"
      ]
     },
     "execution_count": 13,
     "metadata": {},
     "output_type": "execute_result"
    }
   ],
   "source": [
    "imars = pd.read_csv('IMARS_slim_clean.csv')\n",
    "imars.shape"
   ]
  },
  {
   "cell_type": "code",
   "execution_count": 14,
   "id": "31383b06",
   "metadata": {},
   "outputs": [
    {
     "data": {
      "text/plain": [
       "206111"
      ]
     },
     "execution_count": 14,
     "metadata": {},
     "output_type": "execute_result"
    }
   ],
   "source": [
    "# final database should have 56 columns and the following number of rows:\n",
    "194307+11804"
   ]
  },
  {
   "cell_type": "code",
   "execution_count": 15,
   "id": "442e5239",
   "metadata": {},
   "outputs": [
    {
     "data": {
      "text/plain": [
       "(206111, 70)"
      ]
     },
     "execution_count": 15,
     "metadata": {},
     "output_type": "execute_result"
    }
   ],
   "source": [
    "analysis_database_2022 = pd.concat([cds,imars])\n",
    "analysis_database_2022.shape"
   ]
  },
  {
   "cell_type": "code",
   "execution_count": 16,
   "id": "26eef256",
   "metadata": {},
   "outputs": [
    {
     "data": {
      "text/html": [
       "<div>\n",
       "<style scoped>\n",
       "    .dataframe tbody tr th:only-of-type {\n",
       "        vertical-align: middle;\n",
       "    }\n",
       "\n",
       "    .dataframe tbody tr th {\n",
       "        vertical-align: top;\n",
       "    }\n",
       "\n",
       "    .dataframe thead th {\n",
       "        text-align: right;\n",
       "    }\n",
       "</style>\n",
       "<table border=\"1\" class=\"dataframe\">\n",
       "  <thead>\n",
       "    <tr style=\"text-align: right;\">\n",
       "      <th></th>\n",
       "      <th>INCID_NO</th>\n",
       "      <th>5_mph</th>\n",
       "      <th>10_mph</th>\n",
       "      <th>15_mph</th>\n",
       "      <th>20_mph</th>\n",
       "      <th>25_mph</th>\n",
       "      <th>30_mph</th>\n",
       "      <th>35_mph</th>\n",
       "      <th>40_mph</th>\n",
       "      <th>45_mph</th>\n",
       "      <th>...</th>\n",
       "      <th>Animal in Roadway</th>\n",
       "      <th>Rockfall</th>\n",
       "      <th>LATITUDE</th>\n",
       "      <th>LONGITUDE</th>\n",
       "      <th>Park</th>\n",
       "      <th>RGN</th>\n",
       "      <th>CRASH_DATE</th>\n",
       "      <th>CRASH_TIME</th>\n",
       "      <th>CRASH_YEAR</th>\n",
       "      <th>database</th>\n",
       "    </tr>\n",
       "  </thead>\n",
       "  <tbody>\n",
       "    <tr>\n",
       "      <th>0</th>\n",
       "      <td>ABLI070425075000</td>\n",
       "      <td>0.0</td>\n",
       "      <td>0.0</td>\n",
       "      <td>0.0</td>\n",
       "      <td>0.0</td>\n",
       "      <td>0.0</td>\n",
       "      <td>0.0</td>\n",
       "      <td>0.0</td>\n",
       "      <td>0.0</td>\n",
       "      <td>0.0</td>\n",
       "      <td>...</td>\n",
       "      <td>0.0</td>\n",
       "      <td>0.0</td>\n",
       "      <td>NaN</td>\n",
       "      <td>NaN</td>\n",
       "      <td>ABLI</td>\n",
       "      <td>SER</td>\n",
       "      <td>2007-04-25</td>\n",
       "      <td>750</td>\n",
       "      <td>2007.0</td>\n",
       "      <td>CDS</td>\n",
       "    </tr>\n",
       "    <tr>\n",
       "      <th>1</th>\n",
       "      <td>ABLI070804175500</td>\n",
       "      <td>1.0</td>\n",
       "      <td>0.0</td>\n",
       "      <td>0.0</td>\n",
       "      <td>0.0</td>\n",
       "      <td>0.0</td>\n",
       "      <td>0.0</td>\n",
       "      <td>0.0</td>\n",
       "      <td>0.0</td>\n",
       "      <td>0.0</td>\n",
       "      <td>...</td>\n",
       "      <td>0.0</td>\n",
       "      <td>0.0</td>\n",
       "      <td>NaN</td>\n",
       "      <td>NaN</td>\n",
       "      <td>ABLI</td>\n",
       "      <td>SER</td>\n",
       "      <td>2007-08-04</td>\n",
       "      <td>1755</td>\n",
       "      <td>2007.0</td>\n",
       "      <td>CDS</td>\n",
       "    </tr>\n",
       "    <tr>\n",
       "      <th>2</th>\n",
       "      <td>ABLI091117170900</td>\n",
       "      <td>0.0</td>\n",
       "      <td>0.0</td>\n",
       "      <td>0.0</td>\n",
       "      <td>0.0</td>\n",
       "      <td>1.0</td>\n",
       "      <td>0.0</td>\n",
       "      <td>0.0</td>\n",
       "      <td>0.0</td>\n",
       "      <td>0.0</td>\n",
       "      <td>...</td>\n",
       "      <td>0.0</td>\n",
       "      <td>0.0</td>\n",
       "      <td>NaN</td>\n",
       "      <td>NaN</td>\n",
       "      <td>ABLI</td>\n",
       "      <td>SER</td>\n",
       "      <td>2009-11-17</td>\n",
       "      <td>1709</td>\n",
       "      <td>2009.0</td>\n",
       "      <td>CDS</td>\n",
       "    </tr>\n",
       "    <tr>\n",
       "      <th>3</th>\n",
       "      <td>ABLI121009110000</td>\n",
       "      <td>0.0</td>\n",
       "      <td>0.0</td>\n",
       "      <td>0.0</td>\n",
       "      <td>0.0</td>\n",
       "      <td>1.0</td>\n",
       "      <td>0.0</td>\n",
       "      <td>0.0</td>\n",
       "      <td>0.0</td>\n",
       "      <td>0.0</td>\n",
       "      <td>...</td>\n",
       "      <td>0.0</td>\n",
       "      <td>0.0</td>\n",
       "      <td>NaN</td>\n",
       "      <td>NaN</td>\n",
       "      <td>ABLI</td>\n",
       "      <td>SER</td>\n",
       "      <td>2012-10-09</td>\n",
       "      <td>1100</td>\n",
       "      <td>2012.0</td>\n",
       "      <td>CDS</td>\n",
       "    </tr>\n",
       "    <tr>\n",
       "      <th>4</th>\n",
       "      <td>ABLI140610163500</td>\n",
       "      <td>0.0</td>\n",
       "      <td>0.0</td>\n",
       "      <td>0.0</td>\n",
       "      <td>0.0</td>\n",
       "      <td>0.0</td>\n",
       "      <td>0.0</td>\n",
       "      <td>0.0</td>\n",
       "      <td>0.0</td>\n",
       "      <td>0.0</td>\n",
       "      <td>...</td>\n",
       "      <td>0.0</td>\n",
       "      <td>0.0</td>\n",
       "      <td>38.91205</td>\n",
       "      <td>-76.93412</td>\n",
       "      <td>ABLI</td>\n",
       "      <td>SER</td>\n",
       "      <td>2014-06-10</td>\n",
       "      <td>1635</td>\n",
       "      <td>2014.0</td>\n",
       "      <td>CDS</td>\n",
       "    </tr>\n",
       "  </tbody>\n",
       "</table>\n",
       "<p>5 rows × 70 columns</p>\n",
       "</div>"
      ],
      "text/plain": [
       "           INCID_NO  5_mph  10_mph  15_mph  20_mph  25_mph  30_mph  35_mph  \\\n",
       "0  ABLI070425075000    0.0     0.0     0.0     0.0     0.0     0.0     0.0   \n",
       "1  ABLI070804175500    1.0     0.0     0.0     0.0     0.0     0.0     0.0   \n",
       "2  ABLI091117170900    0.0     0.0     0.0     0.0     1.0     0.0     0.0   \n",
       "3  ABLI121009110000    0.0     0.0     0.0     0.0     1.0     0.0     0.0   \n",
       "4  ABLI140610163500    0.0     0.0     0.0     0.0     0.0     0.0     0.0   \n",
       "\n",
       "   40_mph  45_mph  ...  Animal in Roadway  Rockfall  LATITUDE  LONGITUDE  \\\n",
       "0     0.0     0.0  ...                0.0       0.0       NaN        NaN   \n",
       "1     0.0     0.0  ...                0.0       0.0       NaN        NaN   \n",
       "2     0.0     0.0  ...                0.0       0.0       NaN        NaN   \n",
       "3     0.0     0.0  ...                0.0       0.0       NaN        NaN   \n",
       "4     0.0     0.0  ...                0.0       0.0  38.91205  -76.93412   \n",
       "\n",
       "   Park  RGN  CRASH_DATE  CRASH_TIME  CRASH_YEAR  database  \n",
       "0  ABLI  SER  2007-04-25         750      2007.0       CDS  \n",
       "1  ABLI  SER  2007-08-04        1755      2007.0       CDS  \n",
       "2  ABLI  SER  2009-11-17        1709      2009.0       CDS  \n",
       "3  ABLI  SER  2012-10-09        1100      2012.0       CDS  \n",
       "4  ABLI  SER  2014-06-10        1635      2014.0       CDS  \n",
       "\n",
       "[5 rows x 70 columns]"
      ]
     },
     "execution_count": 16,
     "metadata": {},
     "output_type": "execute_result"
    }
   ],
   "source": [
    "analysis_database_2022.head()"
   ]
  },
  {
   "cell_type": "code",
   "execution_count": 17,
   "id": "39cc949e",
   "metadata": {},
   "outputs": [
    {
     "data": {
      "text/plain": [
       "Index(['INCID_NO', '5_mph', '10_mph', '15_mph', '20_mph', '25_mph', '30_mph',\n",
       "       '35_mph', '40_mph', '45_mph', '50_mph', '55_mph', '60_mph', '65_mph',\n",
       "       '70_mph', '75_mph', 'no_posted_speed', 'Crosswalk',\n",
       "       'Outside a Crosswalk', 'NUM_OCC', 'No Injury', 'Possible Injury',\n",
       "       'Non-incapacitating Injury', 'Incapacitating Injury', 'Fatality',\n",
       "       'Unknown Injury', 'Motorist Distraction', 'Non-motorist Distraction',\n",
       "       'Num_Fatalities', 'Num_Injuries', 'Injury or Fatal',\n",
       "       'Collision w Animal', 'Collision w Fixed Object', 'Non-Collision',\n",
       "       'Other Accident Class', 'Rollover', 'Collision w Other Vehicle',\n",
       "       'Collision w Parked Vehicle', 'Collision w Train',\n",
       "       'Collision w Other Object', 'Collision w Unknown', 'Roadway Departure',\n",
       "       'Avoiding Animal', 'Falling Object', 'Pedestrian', 'Bicycle',\n",
       "       'Pedacycle', 'VRU', 'HorseLlama', 'Cow', 'Deer', 'Elk', 'Moose',\n",
       "       'Buffalo', 'Bear', 'Antelope', 'SheepGoats', 'OtherWild',\n",
       "       'OtherDomestic', 'Rock in Roadway', 'Animal in Roadway', 'Rockfall',\n",
       "       'LATITUDE', 'LONGITUDE', 'Park', 'RGN', 'CRASH_DATE', 'CRASH_TIME',\n",
       "       'CRASH_YEAR', 'database'],\n",
       "      dtype='object')"
      ]
     },
     "execution_count": 17,
     "metadata": {},
     "output_type": "execute_result"
    }
   ],
   "source": [
    "analysis_database_2022.columns"
   ]
  },
  {
   "cell_type": "code",
   "execution_count": 18,
   "id": "25845e60",
   "metadata": {},
   "outputs": [],
   "source": [
    "analysis_database_2022.to_csv('analysis_database_2022.csv',index=False)"
   ]
  },
  {
   "cell_type": "code",
   "execution_count": null,
   "id": "fb6775f4",
   "metadata": {},
   "outputs": [],
   "source": []
  }
 ],
 "metadata": {
  "kernelspec": {
   "display_name": "Python 3",
   "language": "python",
   "name": "python3"
  },
  "language_info": {
   "codemirror_mode": {
    "name": "ipython",
    "version": 3
   },
   "file_extension": ".py",
   "mimetype": "text/x-python",
   "name": "python",
   "nbconvert_exporter": "python",
   "pygments_lexer": "ipython3",
   "version": "3.8.8"
  }
 },
 "nbformat": 4,
 "nbformat_minor": 5
}
