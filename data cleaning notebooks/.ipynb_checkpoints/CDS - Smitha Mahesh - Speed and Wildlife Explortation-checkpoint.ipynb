{
 "cells": [
  {
   "cell_type": "markdown",
   "metadata": {},
   "source": [
    "## Crash Data Speed and Wildlife Exploration Jupyter Notebook\n",
    "\n",
    "**Author:** Smitha Mahesh \n",
    "\n",
    "**Date:** 6/28/2022 \n",
    "\n",
    "**Purpose:** This notebook use the new CDS files as the input and identifies the count present for too fast, speeding, and wildlife-related crashes, as well as figuring out what count of the data is missing for these variables of interest. "
   ]
  },
  {
   "cell_type": "code",
   "execution_count": 1,
   "metadata": {},
   "outputs": [],
   "source": [
    "import pandas as pd\n",
    "import numpy as np\n",
    "import os"
   ]
  },
  {
   "cell_type": "code",
   "execution_count": 2,
   "metadata": {},
   "outputs": [],
   "source": [
    "myworkingdirectory = r\"C:\\Users\\smitha.mahesh\\Desktop\\New CDS Excel Files\"\n",
    "os.chdir(myworkingdirectory)"
   ]
  },
  {
   "cell_type": "code",
   "execution_count": 3,
   "metadata": {
    "scrolled": true
   },
   "outputs": [],
   "source": [
    "cds_df = pd.read_excel('./ALL_CRASH.xlsx')\n",
    "cds_df_passengers = pd.read_excel('./ALL_PASSENGER.xlsx')"
   ]
  },
  {
   "cell_type": "code",
   "execution_count": 10,
   "metadata": {
    "scrolled": true
   },
   "outputs": [
    {
     "data": {
      "text/html": [
       "<div>\n",
       "<style scoped>\n",
       "    .dataframe tbody tr th:only-of-type {\n",
       "        vertical-align: middle;\n",
       "    }\n",
       "\n",
       "    .dataframe tbody tr th {\n",
       "        vertical-align: top;\n",
       "    }\n",
       "\n",
       "    .dataframe thead th {\n",
       "        text-align: right;\n",
       "    }\n",
       "</style>\n",
       "<table border=\"1\" class=\"dataframe\">\n",
       "  <thead>\n",
       "    <tr style=\"text-align: right;\">\n",
       "      <th></th>\n",
       "      <th>OBJECTID</th>\n",
       "      <th>INCID_NO</th>\n",
       "      <th>CASE_NUM</th>\n",
       "      <th>PARK_ALPHA</th>\n",
       "      <th>STATE_CODE</th>\n",
       "      <th>CRASH_DATE</th>\n",
       "      <th>CRASH_TIME</th>\n",
       "      <th>RTE_NO</th>\n",
       "      <th>RTE_NAME</th>\n",
       "      <th>NODE_DIST_FT</th>\n",
       "      <th>...</th>\n",
       "      <th>LATITUDE</th>\n",
       "      <th>LONGITUDE</th>\n",
       "      <th>MILEPOST</th>\n",
       "      <th>IMPORT_DATE</th>\n",
       "      <th>FILE_NAME</th>\n",
       "      <th>SAVE_DATE</th>\n",
       "      <th>ROUTE_IDENT</th>\n",
       "      <th>RIP_CYCLE</th>\n",
       "      <th>MP_NODE</th>\n",
       "      <th>SPTL_LOC</th>\n",
       "    </tr>\n",
       "  </thead>\n",
       "  <tbody>\n",
       "    <tr>\n",
       "      <th>0</th>\n",
       "      <td>2</td>\n",
       "      <td>ABLI070425075000</td>\n",
       "      <td>5540070001</td>\n",
       "      <td>ABLI</td>\n",
       "      <td>KY</td>\n",
       "      <td>2007-04-25</td>\n",
       "      <td>750</td>\n",
       "      <td>0</td>\n",
       "      <td>KNOB CREEK PARKING</td>\n",
       "      <td>0.0</td>\n",
       "      <td>...</td>\n",
       "      <td>NaN</td>\n",
       "      <td>NaN</td>\n",
       "      <td>NaN</td>\n",
       "      <td>NaN</td>\n",
       "      <td>NaN</td>\n",
       "      <td>NaT</td>\n",
       "      <td>NaN</td>\n",
       "      <td>NaN</td>\n",
       "      <td>NaN</td>\n",
       "      <td>0</td>\n",
       "    </tr>\n",
       "    <tr>\n",
       "      <th>1</th>\n",
       "      <td>3</td>\n",
       "      <td>ABLI070804175500</td>\n",
       "      <td>5540070013</td>\n",
       "      <td>ABLI</td>\n",
       "      <td>KY</td>\n",
       "      <td>2007-08-04</td>\n",
       "      <td>1755</td>\n",
       "      <td>0</td>\n",
       "      <td>NaN</td>\n",
       "      <td>0.0</td>\n",
       "      <td>...</td>\n",
       "      <td>NaN</td>\n",
       "      <td>NaN</td>\n",
       "      <td>NaN</td>\n",
       "      <td>NaN</td>\n",
       "      <td>NaN</td>\n",
       "      <td>NaT</td>\n",
       "      <td>NaN</td>\n",
       "      <td>NaN</td>\n",
       "      <td>NaN</td>\n",
       "      <td>0</td>\n",
       "    </tr>\n",
       "    <tr>\n",
       "      <th>2</th>\n",
       "      <td>4</td>\n",
       "      <td>ABLI091117170900</td>\n",
       "      <td>N08113</td>\n",
       "      <td>ABLI</td>\n",
       "      <td>NY</td>\n",
       "      <td>2009-11-17</td>\n",
       "      <td>1709</td>\n",
       "      <td>NaN</td>\n",
       "      <td>NEW YORK AVE</td>\n",
       "      <td>NaN</td>\n",
       "      <td>...</td>\n",
       "      <td>NaN</td>\n",
       "      <td>NaN</td>\n",
       "      <td>NaN</td>\n",
       "      <td>NaN</td>\n",
       "      <td>NaN</td>\n",
       "      <td>2014-02-07</td>\n",
       "      <td>NaN</td>\n",
       "      <td>NaN</td>\n",
       "      <td>NaN</td>\n",
       "      <td>0</td>\n",
       "    </tr>\n",
       "    <tr>\n",
       "      <th>3</th>\n",
       "      <td>5</td>\n",
       "      <td>ABLI121009110000</td>\n",
       "      <td>12474</td>\n",
       "      <td>ABLI</td>\n",
       "      <td>KY</td>\n",
       "      <td>2012-10-09</td>\n",
       "      <td>1100</td>\n",
       "      <td>101</td>\n",
       "      <td>PRIVATE DRIVEWAY OFF EAST BEACH ROAD (875)</td>\n",
       "      <td>NaN</td>\n",
       "      <td>...</td>\n",
       "      <td>NaN</td>\n",
       "      <td>NaN</td>\n",
       "      <td>NaN</td>\n",
       "      <td>NaN</td>\n",
       "      <td>NaN</td>\n",
       "      <td>2015-03-16</td>\n",
       "      <td>NaN</td>\n",
       "      <td>NaN</td>\n",
       "      <td>NaN</td>\n",
       "      <td>0</td>\n",
       "    </tr>\n",
       "    <tr>\n",
       "      <th>4</th>\n",
       "      <td>6</td>\n",
       "      <td>ABLI140610163500</td>\n",
       "      <td>14054379</td>\n",
       "      <td>ABLI</td>\n",
       "      <td>KY</td>\n",
       "      <td>2014-06-10</td>\n",
       "      <td>1635</td>\n",
       "      <td>NaN</td>\n",
       "      <td>DC 295</td>\n",
       "      <td>NaN</td>\n",
       "      <td>...</td>\n",
       "      <td>38.91205</td>\n",
       "      <td>-76.93412</td>\n",
       "      <td>0.0</td>\n",
       "      <td>NaN</td>\n",
       "      <td>NaN</td>\n",
       "      <td>2014-06-18</td>\n",
       "      <td>NaN</td>\n",
       "      <td>NaN</td>\n",
       "      <td>NaN</td>\n",
       "      <td>0</td>\n",
       "    </tr>\n",
       "  </tbody>\n",
       "</table>\n",
       "<p>5 rows × 56 columns</p>\n",
       "</div>"
      ],
      "text/plain": [
       "   OBJECTID          INCID_NO    CASE_NUM PARK_ALPHA STATE_CODE CRASH_DATE  \\\n",
       "0         2  ABLI070425075000  5540070001       ABLI         KY 2007-04-25   \n",
       "1         3  ABLI070804175500  5540070013       ABLI         KY 2007-08-04   \n",
       "2         4  ABLI091117170900      N08113       ABLI         NY 2009-11-17   \n",
       "3         5  ABLI121009110000       12474       ABLI         KY 2012-10-09   \n",
       "4         6  ABLI140610163500    14054379       ABLI         KY 2014-06-10   \n",
       "\n",
       "   CRASH_TIME RTE_NO                                    RTE_NAME  \\\n",
       "0         750      0                          KNOB CREEK PARKING   \n",
       "1        1755      0                                         NaN   \n",
       "2        1709    NaN                                NEW YORK AVE   \n",
       "3        1100    101  PRIVATE DRIVEWAY OFF EAST BEACH ROAD (875)   \n",
       "4        1635    NaN                                      DC 295   \n",
       "\n",
       "   NODE_DIST_FT  ...  LATITUDE LONGITUDE MILEPOST  IMPORT_DATE  FILE_NAME  \\\n",
       "0           0.0  ...       NaN       NaN      NaN          NaN        NaN   \n",
       "1           0.0  ...       NaN       NaN      NaN          NaN        NaN   \n",
       "2           NaN  ...       NaN       NaN      NaN          NaN        NaN   \n",
       "3           NaN  ...       NaN       NaN      NaN          NaN        NaN   \n",
       "4           NaN  ...  38.91205 -76.93412      0.0          NaN        NaN   \n",
       "\n",
       "   SAVE_DATE  ROUTE_IDENT  RIP_CYCLE  MP_NODE  SPTL_LOC  \n",
       "0        NaT          NaN        NaN      NaN         0  \n",
       "1        NaT          NaN        NaN      NaN         0  \n",
       "2 2014-02-07          NaN        NaN      NaN         0  \n",
       "3 2015-03-16          NaN        NaN      NaN         0  \n",
       "4 2014-06-18          NaN        NaN      NaN         0  \n",
       "\n",
       "[5 rows x 56 columns]"
      ]
     },
     "execution_count": 10,
     "metadata": {},
     "output_type": "execute_result"
    }
   ],
   "source": [
    "cds_df.head()"
   ]
  },
  {
   "cell_type": "code",
   "execution_count": 11,
   "metadata": {
    "scrolled": true
   },
   "outputs": [
    {
     "data": {
      "text/html": [
       "<div>\n",
       "<style scoped>\n",
       "    .dataframe tbody tr th:only-of-type {\n",
       "        vertical-align: middle;\n",
       "    }\n",
       "\n",
       "    .dataframe tbody tr th {\n",
       "        vertical-align: top;\n",
       "    }\n",
       "\n",
       "    .dataframe thead th {\n",
       "        text-align: right;\n",
       "    }\n",
       "</style>\n",
       "<table border=\"1\" class=\"dataframe\">\n",
       "  <thead>\n",
       "    <tr style=\"text-align: right;\">\n",
       "      <th></th>\n",
       "      <th>OBJECTID</th>\n",
       "      <th>INCID_NO</th>\n",
       "      <th>UNIT_NO</th>\n",
       "      <th>PASS_SEQ</th>\n",
       "      <th>PASS_SEX</th>\n",
       "      <th>PASS_BELT</th>\n",
       "      <th>PASS_EJECT</th>\n",
       "      <th>PASS_SEAT</th>\n",
       "      <th>PASS_INJ</th>\n",
       "      <th>PASS_AGE</th>\n",
       "    </tr>\n",
       "  </thead>\n",
       "  <tbody>\n",
       "    <tr>\n",
       "      <th>0</th>\n",
       "      <td>5</td>\n",
       "      <td>ABLI121009110000</td>\n",
       "      <td>1</td>\n",
       "      <td>1</td>\n",
       "      <td>1.0</td>\n",
       "      <td>1.0</td>\n",
       "      <td>0.0</td>\n",
       "      <td>3.0</td>\n",
       "      <td>0.0</td>\n",
       "      <td>52.0</td>\n",
       "    </tr>\n",
       "    <tr>\n",
       "      <th>1</th>\n",
       "      <td>193356</td>\n",
       "      <td>ABLI9100000001</td>\n",
       "      <td>1</td>\n",
       "      <td>1</td>\n",
       "      <td>1.0</td>\n",
       "      <td>1.0</td>\n",
       "      <td>0.0</td>\n",
       "      <td>3.0</td>\n",
       "      <td>0.0</td>\n",
       "      <td>64.0</td>\n",
       "    </tr>\n",
       "    <tr>\n",
       "      <th>2</th>\n",
       "      <td>198783</td>\n",
       "      <td>ACAD0000000014</td>\n",
       "      <td>1</td>\n",
       "      <td>1</td>\n",
       "      <td>2.0</td>\n",
       "      <td>1.0</td>\n",
       "      <td>0.0</td>\n",
       "      <td>3.0</td>\n",
       "      <td>0.0</td>\n",
       "      <td>36.0</td>\n",
       "    </tr>\n",
       "    <tr>\n",
       "      <th>3</th>\n",
       "      <td>199384</td>\n",
       "      <td>ACAD0000000083</td>\n",
       "      <td>1</td>\n",
       "      <td>1</td>\n",
       "      <td>2.0</td>\n",
       "      <td>1.0</td>\n",
       "      <td>0.0</td>\n",
       "      <td>3.0</td>\n",
       "      <td>0.0</td>\n",
       "      <td>46.0</td>\n",
       "    </tr>\n",
       "    <tr>\n",
       "      <th>4</th>\n",
       "      <td>199385</td>\n",
       "      <td>ACAD0000000083</td>\n",
       "      <td>1</td>\n",
       "      <td>2</td>\n",
       "      <td>2.0</td>\n",
       "      <td>1.0</td>\n",
       "      <td>0.0</td>\n",
       "      <td>4.0</td>\n",
       "      <td>0.0</td>\n",
       "      <td>25.0</td>\n",
       "    </tr>\n",
       "  </tbody>\n",
       "</table>\n",
       "</div>"
      ],
      "text/plain": [
       "   OBJECTID          INCID_NO  UNIT_NO  PASS_SEQ  PASS_SEX  PASS_BELT  \\\n",
       "0         5  ABLI121009110000        1         1       1.0        1.0   \n",
       "1    193356    ABLI9100000001        1         1       1.0        1.0   \n",
       "2    198783    ACAD0000000014        1         1       2.0        1.0   \n",
       "3    199384    ACAD0000000083        1         1       2.0        1.0   \n",
       "4    199385    ACAD0000000083        1         2       2.0        1.0   \n",
       "\n",
       "   PASS_EJECT  PASS_SEAT  PASS_INJ  PASS_AGE  \n",
       "0         0.0        3.0       0.0      52.0  \n",
       "1         0.0        3.0       0.0      64.0  \n",
       "2         0.0        3.0       0.0      36.0  \n",
       "3         0.0        3.0       0.0      46.0  \n",
       "4         0.0        4.0       0.0      25.0  "
      ]
     },
     "execution_count": 11,
     "metadata": {},
     "output_type": "execute_result"
    }
   ],
   "source": [
    "cds_df_passengers.head()"
   ]
  },
  {
   "cell_type": "code",
   "execution_count": 14,
   "metadata": {
    "scrolled": true
   },
   "outputs": [
    {
     "data": {
      "text/plain": [
       "1.0     102007\n",
       "2.0      47867\n",
       "7.0      18945\n",
       "0.0      14174\n",
       "5.0       8176\n",
       "88.0      5396\n",
       "99.0      2858\n",
       "4.0       1498\n",
       "3.0       1438\n",
       "98.0       822\n",
       "10.0        34\n",
       "6.0         32\n",
       "Name: CRASH_CLASS, dtype: int64"
      ]
     },
     "execution_count": 14,
     "metadata": {},
     "output_type": "execute_result"
    }
   ],
   "source": [
    "cds_df.CRASH_CLASS.value_counts()"
   ]
  },
  {
   "cell_type": "code",
   "execution_count": 15,
   "metadata": {},
   "outputs": [],
   "source": [
    "cds_df['Non-Collision']= np.where(cds_df['CRASH_CLASS']==0, 1,0)\n",
    "cds_df['Collision with Other Motor Vehicle']= np.where(cds_df['CRASH_CLASS']==1, 1,0)\n",
    "cds_df['Collision with Fixed Object']= np.where(cds_df['CRASH_CLASS']==2, 1,0)\n",
    "cds_df['Collision with Pedestrian']= np.where(cds_df['CRASH_CLASS']==3, 1,0)\n",
    "cds_df['Collision with Bicycle']= np.where(cds_df['CRASH_CLASS']==4, 1,0)\n",
    "cds_df['Collision with Parked Motor Vehicle']= np.where(cds_df['CRASH_CLASS']==5, 1,0)\n",
    "cds_df['Collision with Railway Train']= np.where(cds_df['CRASH_CLASS']==6, 1,0)\n",
    "cds_df['Collision with Animal']= np.where(cds_df['CRASH_CLASS']==7, 1,0)\n",
    "cds_df['Collision with Other Object']= np.where(cds_df['CRASH_CLASS']==88, 1,0)\n",
    "cds_df['Collision with Unknown']= np.where(cds_df['CRASH_CLASS']==99, 1,0)\n",
    "cds_df['Other Accident Class']= np.where(cds_df['CRASH_CLASS'].isin([0,1,2,3,4,5,6,7,88,99])==False,\n",
    "                                                                                        1,0)\n"
   ]
  },
  {
   "cell_type": "code",
   "execution_count": 16,
   "metadata": {},
   "outputs": [],
   "source": [
    "cds_df_passengers['No Injury']= np.where(cds_df_passengers['PASS_INJ']==0, 1,0)\n",
    "cds_df_passengers['Possible Injury']= np.where(cds_df_passengers['PASS_INJ']==1, 1,0)\n",
    "cds_df_passengers['Non-incapacitating Injury']= np.where(cds_df_passengers['PASS_INJ']==2, 1,0)\n",
    "cds_df_passengers['Incapacitating Injury']= np.where(cds_df_passengers['PASS_INJ']==3, 1,0)\n",
    "cds_df_passengers['Fatality']= np.where(cds_df_passengers['PASS_INJ']==4, 1,0)\n",
    "cds_df_passengers['Unknown Injury']= np.where(cds_df_passengers['PASS_INJ'].isin([98,99]), 1,0)\n",
    "cds_df_passengers['NUM_OCC']=1"
   ]
  },
  {
   "cell_type": "code",
   "execution_count": 17,
   "metadata": {},
   "outputs": [
    {
     "data": {
      "text/plain": [
       "((114151, 17), (204687, 67))"
      ]
     },
     "execution_count": 17,
     "metadata": {},
     "output_type": "execute_result"
    }
   ],
   "source": [
    "cds_df_passengers.shape, cds_df.shape"
   ]
  },
  {
   "cell_type": "markdown",
   "metadata": {},
   "source": [
    "#### Data Quality Issues\n",
    "- "
   ]
  },
  {
   "cell_type": "code",
   "execution_count": 18,
   "metadata": {},
   "outputs": [
    {
     "data": {
      "text/plain": [
       "(1206.0, 298)"
      ]
     },
     "execution_count": 18,
     "metadata": {},
     "output_type": "execute_result"
    }
   ],
   "source": [
    "cds_df['FATALS'].sum(), cds_df_passengers['Fatality'].sum()"
   ]
  },
  {
   "cell_type": "code",
   "execution_count": 19,
   "metadata": {},
   "outputs": [],
   "source": [
    "cds_df_passengers_slim = cds_df_passengers[['INCID_NO', 'No Injury',\n",
    "       'Possible Injury', 'Non-incapacitating Injury', 'Incapacitating Injury',\n",
    "       'Fatality', 'Unknown Injury', 'NUM_OCC']]"
   ]
  },
  {
   "cell_type": "code",
   "execution_count": 20,
   "metadata": {},
   "outputs": [],
   "source": [
    "cds_df_passengers_agg = cds_df_passengers_slim.groupby(by=['INCID_NO']).sum()\n",
    "cds_df_passengers_agg = cds_df_passengers_agg.reset_index()"
   ]
  },
  {
   "cell_type": "code",
   "execution_count": 21,
   "metadata": {},
   "outputs": [
    {
     "data": {
      "text/plain": [
       "((60136, 8), (114151, 17), (204687, 67))"
      ]
     },
     "execution_count": 21,
     "metadata": {},
     "output_type": "execute_result"
    }
   ],
   "source": [
    "cds_df_passengers_agg.shape, cds_df_passengers.shape, cds_df.shape"
   ]
  },
  {
   "cell_type": "code",
   "execution_count": 22,
   "metadata": {},
   "outputs": [],
   "source": [
    "cds_df_join = cds_df.merge(cds_df_passengers_agg, on = 'INCID_NO',how='left',indicator = True)"
   ]
  },
  {
   "cell_type": "code",
   "execution_count": 23,
   "metadata": {},
   "outputs": [
    {
     "data": {
      "text/plain": [
       "left_only     144551\n",
       "both           60136\n",
       "right_only         0\n",
       "Name: _merge, dtype: int64"
      ]
     },
     "execution_count": 23,
     "metadata": {},
     "output_type": "execute_result"
    }
   ],
   "source": [
    "cds_df_join._merge.value_counts()"
   ]
  },
  {
   "cell_type": "code",
   "execution_count": 24,
   "metadata": {},
   "outputs": [
    {
     "data": {
      "text/plain": [
       "0.31854252555822987"
      ]
     },
     "execution_count": 24,
     "metadata": {},
     "output_type": "execute_result"
    }
   ],
   "source": [
    "26734/83926"
   ]
  },
  {
   "cell_type": "code",
   "execution_count": 25,
   "metadata": {},
   "outputs": [],
   "source": [
    "cds_df_join = cds_df_join.rename(columns={\"CASE_NUM\": \"CASENUM\", \n",
    "                                      \"STATE_CODE\": \"STATE\"})\n"
   ]
  },
  {
   "cell_type": "code",
   "execution_count": 26,
   "metadata": {},
   "outputs": [],
   "source": [
    "cds_df_join['CRASH_DATE2'] = cds_df_join['CRASH_DATE']\n",
    "cds_df_join['CRASH_DATE'] = pd.to_datetime( cds_df_join['CRASH_DATE'], \n",
    "                                            format = '%A, %B %d, %Y')"
   ]
  },
  {
   "cell_type": "code",
   "execution_count": 27,
   "metadata": {},
   "outputs": [],
   "source": [
    "cds_df_join = cds_df_join[['INCID_NO', 'CASENUM', 'NUM_OCC', 'Non-Collision',\n",
    "       'Collision with Other Motor Vehicle', 'Collision with Fixed Object',\n",
    "       'Collision with Pedestrian', 'Collision with Bicycle',\n",
    "       'Collision with Parked Motor Vehicle', 'Collision with Railway Train',\n",
    "       'Collision with Animal', 'Collision with Other Object',\n",
    "       'Collision with Unknown', 'Other Accident Class', 'No Injury',\n",
    "       'Possible Injury', 'Non-incapacitating Injury', 'Incapacitating Injury',\n",
    "       'Fatality', 'Unknown Injury', 'PARK_ALPHA', 'STATE', 'CRASH_DATE',\n",
    "       'CRASH_TIME', 'LATITUDE', 'LONGITUDE', 'FATALS', 'INJURED']]"
   ]
  },
  {
   "cell_type": "code",
   "execution_count": 28,
   "metadata": {},
   "outputs": [
    {
     "data": {
      "text/plain": [
       "((204687, 67), (204687, 28))"
      ]
     },
     "execution_count": 28,
     "metadata": {},
     "output_type": "execute_result"
    }
   ],
   "source": [
    "cds_df.shape, cds_df_join.shape"
   ]
  },
  {
   "cell_type": "code",
   "execution_count": 29,
   "metadata": {},
   "outputs": [],
   "source": [
    "cds_df_join.to_csv(\"crash_data_CDS_clean.csv\", index=False)\n"
   ]
  },
  {
   "cell_type": "code",
   "execution_count": 1,
   "metadata": {},
   "outputs": [],
   "source": [
    "# Speed Data Investigation"
   ]
  },
  {
   "cell_type": "code",
   "execution_count": 5,
   "metadata": {},
   "outputs": [
    {
     "data": {
      "text/plain": [
       "A01     1019\n",
       "A02     5358\n",
       "A03     6476\n",
       "A04     5589\n",
       "A05     4118\n",
       "A06    12306\n",
       "A07     2893\n",
       "A08     1185\n",
       "A09     9620\n",
       "A10     3499\n",
       "A11     8182\n",
       "A12      997\n",
       "A13       81\n",
       "A14     1413\n",
       "A15     3200\n",
       "A16    40316\n",
       "A17      693\n",
       "A18      178\n",
       "A88    13487\n",
       "B01      137\n",
       "B02      806\n",
       "B03      106\n",
       "B04      397\n",
       "B05     6258\n",
       "B06    16703\n",
       "B07      977\n",
       "B08     1816\n",
       "B88     1450\n",
       "C01     1075\n",
       "C02      606\n",
       "C03       10\n",
       "C04       65\n",
       "C05       34\n",
       "C06      185\n",
       "C07      204\n",
       "C08      198\n",
       "C88     1048\n",
       "D01       11\n",
       "D02       26\n",
       "D03      234\n",
       "D04      116\n",
       "D05      184\n",
       "D06       38\n",
       "D07       20\n",
       "D88      128\n",
       "E01     1810\n",
       "E02     2204\n",
       "E03     1106\n",
       "E04      508\n",
       "E05     1123\n",
       "E06       86\n",
       "E07      278\n",
       "E88      621\n",
       "U99    21055\n",
       "a16        2\n",
       "e88        1\n",
       "Name: CON_FACT1, dtype: int64"
      ]
     },
     "execution_count": 5,
     "metadata": {},
     "output_type": "execute_result"
    }
   ],
   "source": [
    "#Contributing Factors  Code A05 refers to Exceeded Posted Speed Limits. Contributing Factors Code A06 refers to Too Fast for Conditions. See Code Dictionary via Microsoft Access Database \n",
    "cds_df['CON_FACT1'].value_counts().sort_index()"
   ]
  },
  {
   "cell_type": "code",
   "execution_count": 7,
   "metadata": {},
   "outputs": [
    {
     "data": {
      "text/plain": [
       "(204687, 56)"
      ]
     },
     "execution_count": 7,
     "metadata": {},
     "output_type": "execute_result"
    }
   ],
   "source": [
    "cds_df.shape"
   ]
  },
  {
   "cell_type": "code",
   "execution_count": 6,
   "metadata": {},
   "outputs": [
    {
     "data": {
      "text/plain": [
       "(22451, 56)"
      ]
     },
     "execution_count": 6,
     "metadata": {},
     "output_type": "execute_result"
    }
   ],
   "source": [
    "cds_df.loc[cds_df['CON_FACT1'].isnull()==True].shape"
   ]
  },
  {
   "cell_type": "code",
   "execution_count": 8,
   "metadata": {},
   "outputs": [
    {
     "data": {
      "text/plain": [
       "11.0"
      ]
     },
     "execution_count": 8,
     "metadata": {},
     "output_type": "execute_result"
    }
   ],
   "source": [
    "#Computing the Null for Contributing Factors 1  \n",
    "round(22451/204687,3)*100"
   ]
  },
  {
   "cell_type": "code",
   "execution_count": 9,
   "metadata": {},
   "outputs": [
    {
     "data": {
      "text/plain": [
       "A01       88\n",
       "A02      680\n",
       "A03      644\n",
       "A04     1341\n",
       "A05     1582\n",
       "A06     3092\n",
       "A07      887\n",
       "A08      645\n",
       "A09     1914\n",
       "A10      777\n",
       "A11     1169\n",
       "A12      427\n",
       "A13       67\n",
       "A14      500\n",
       "A15      562\n",
       "A16    11034\n",
       "A17      513\n",
       "A18      167\n",
       "A88     2355\n",
       "B01      140\n",
       "B02      450\n",
       "B03       57\n",
       "B04      118\n",
       "B05     6221\n",
       "B06     2581\n",
       "B07     1350\n",
       "B08     4082\n",
       "B88     1373\n",
       "C01      565\n",
       "C02      477\n",
       "C03        4\n",
       "C04       78\n",
       "C05      117\n",
       "C06       58\n",
       "C07       98\n",
       "C08      200\n",
       "C88      910\n",
       "D01        2\n",
       "D02       18\n",
       "D03       57\n",
       "D04       74\n",
       "D05      107\n",
       "D06       40\n",
       "D07       34\n",
       "D88      121\n",
       "E01     5979\n",
       "E02     4357\n",
       "E03      835\n",
       "E04      678\n",
       "E05     1199\n",
       "E06       59\n",
       "E07     1167\n",
       "E88     1141\n",
       "U99    80563\n",
       "Name: CON_FACT2, dtype: int64"
      ]
     },
     "execution_count": 9,
     "metadata": {},
     "output_type": "execute_result"
    }
   ],
   "source": [
    "cds_df['CON_FACT2'].value_counts().sort_index()"
   ]
  },
  {
   "cell_type": "code",
   "execution_count": 10,
   "metadata": {},
   "outputs": [
    {
     "data": {
      "text/plain": [
       "(60933, 56)"
      ]
     },
     "execution_count": 10,
     "metadata": {},
     "output_type": "execute_result"
    }
   ],
   "source": [
    "cds_df.loc[cds_df['CON_FACT2'].isnull()==True].shape"
   ]
  },
  {
   "cell_type": "code",
   "execution_count": 43,
   "metadata": {},
   "outputs": [
    {
     "data": {
      "text/plain": [
       "(204687, 56)"
      ]
     },
     "execution_count": 43,
     "metadata": {},
     "output_type": "execute_result"
    }
   ],
   "source": [
    "cds_df.shape"
   ]
  },
  {
   "cell_type": "code",
   "execution_count": 11,
   "metadata": {},
   "outputs": [
    {
     "data": {
      "text/plain": [
       "29.799999999999997"
      ]
     },
     "execution_count": 11,
     "metadata": {},
     "output_type": "execute_result"
    }
   ],
   "source": [
    "#Computing the Null for Contributing Factors 2 \n",
    "round(60933/204687,3)*100"
   ]
  },
  {
   "cell_type": "code",
   "execution_count": 12,
   "metadata": {
    "scrolled": true
   },
   "outputs": [
    {
     "data": {
      "text/plain": [
       "A01        69\n",
       "A02       334\n",
       "A03       219\n",
       "A04       423\n",
       "A05       637\n",
       "A06      1742\n",
       "A07       338\n",
       "A08       330\n",
       "A09       454\n",
       "A10       306\n",
       "A11       249\n",
       "A12       179\n",
       "A13        28\n",
       "A14       106\n",
       "A15       168\n",
       "A16      2693\n",
       "A17       228\n",
       "A18        57\n",
       "A88       680\n",
       "B01        53\n",
       "B02       185\n",
       "B03        29\n",
       "B04        62\n",
       "B05      2448\n",
       "B06       441\n",
       "B07       455\n",
       "B08      2264\n",
       "B88       379\n",
       "C01       226\n",
       "C02       471\n",
       "C03         5\n",
       "C04        33\n",
       "C05        57\n",
       "C06        36\n",
       "C07        41\n",
       "C08        99\n",
       "C88       729\n",
       "D01         2\n",
       "D02         9\n",
       "D03        24\n",
       "D04         7\n",
       "D05        34\n",
       "D06        15\n",
       "D07        24\n",
       "D88        63\n",
       "E01      4356\n",
       "E02      1544\n",
       "E03       314\n",
       "E04       253\n",
       "E05       449\n",
       "E06        43\n",
       "E07       302\n",
       "E88       336\n",
       "U99    104746\n",
       "Name: CON_FACT3, dtype: int64"
      ]
     },
     "execution_count": 12,
     "metadata": {},
     "output_type": "execute_result"
    }
   ],
   "source": [
    "cds_df['CON_FACT3'].value_counts().sort_index()"
   ]
  },
  {
   "cell_type": "code",
   "execution_count": 15,
   "metadata": {},
   "outputs": [
    {
     "data": {
      "text/plain": [
       "(74913, 56)"
      ]
     },
     "execution_count": 15,
     "metadata": {},
     "output_type": "execute_result"
    }
   ],
   "source": [
    "cds_df.loc[cds_df['CON_FACT3'].isnull()==True].shape"
   ]
  },
  {
   "cell_type": "code",
   "execution_count": 16,
   "metadata": {},
   "outputs": [
    {
     "data": {
      "text/plain": [
       "(204687, 56)"
      ]
     },
     "execution_count": 16,
     "metadata": {},
     "output_type": "execute_result"
    }
   ],
   "source": [
    "cds_df.shape"
   ]
  },
  {
   "cell_type": "code",
   "execution_count": 17,
   "metadata": {
    "scrolled": true
   },
   "outputs": [
    {
     "data": {
      "text/plain": [
       "36.6"
      ]
     },
     "execution_count": 17,
     "metadata": {},
     "output_type": "execute_result"
    }
   ],
   "source": [
    "#Computing the Null for Contributing Factors 3\n",
    "round(74913/204687,3)*100"
   ]
  },
  {
   "cell_type": "code",
   "execution_count": 18,
   "metadata": {},
   "outputs": [
    {
     "data": {
      "text/plain": [
       "A01        31\n",
       "A02       219\n",
       "A03       219\n",
       "A04       203\n",
       "A05       302\n",
       "A06       811\n",
       "A07       180\n",
       "A08       194\n",
       "A09       341\n",
       "A10       181\n",
       "A11       236\n",
       "A12        83\n",
       "A13        15\n",
       "A14        99\n",
       "A15        31\n",
       "A16      1391\n",
       "A17        95\n",
       "A18        27\n",
       "A88       474\n",
       "B01        26\n",
       "B02        55\n",
       "B03        11\n",
       "B04        26\n",
       "B05       819\n",
       "B06        97\n",
       "B07       151\n",
       "B08       710\n",
       "B88       124\n",
       "C01        58\n",
       "C02        84\n",
       "C03         1\n",
       "C04         8\n",
       "C05        22\n",
       "C06        10\n",
       "C07         7\n",
       "C08        24\n",
       "C88       101\n",
       "D01         3\n",
       "D02         9\n",
       "D03        18\n",
       "D04        25\n",
       "D05        14\n",
       "D06         9\n",
       "D07        11\n",
       "D88       275\n",
       "E01      1297\n",
       "E02       447\n",
       "E03        90\n",
       "E04        79\n",
       "E05       184\n",
       "E06        11\n",
       "E07       123\n",
       "E88       208\n",
       "U99    114381\n",
       "Name: CON_FACT4, dtype: int64"
      ]
     },
     "execution_count": 18,
     "metadata": {},
     "output_type": "execute_result"
    }
   ],
   "source": [
    "cds_df['CON_FACT4'].value_counts().sort_index()"
   ]
  },
  {
   "cell_type": "code",
   "execution_count": 19,
   "metadata": {},
   "outputs": [
    {
     "data": {
      "text/plain": [
       "(80037, 56)"
      ]
     },
     "execution_count": 19,
     "metadata": {},
     "output_type": "execute_result"
    }
   ],
   "source": [
    "cds_df.loc[cds_df['CON_FACT4'].isnull()==True].shape"
   ]
  },
  {
   "cell_type": "code",
   "execution_count": 20,
   "metadata": {},
   "outputs": [
    {
     "data": {
      "text/plain": [
       "(204687, 56)"
      ]
     },
     "execution_count": 20,
     "metadata": {},
     "output_type": "execute_result"
    }
   ],
   "source": [
    "cds_df.shape"
   ]
  },
  {
   "cell_type": "code",
   "execution_count": 21,
   "metadata": {},
   "outputs": [
    {
     "data": {
      "text/plain": [
       "39.1"
      ]
     },
     "execution_count": 21,
     "metadata": {},
     "output_type": "execute_result"
    }
   ],
   "source": [
    "#Computing the Null for Contributing Factors 4\n",
    "round(80037/204687,3)*100"
   ]
  },
  {
   "cell_type": "code",
   "execution_count": 22,
   "metadata": {},
   "outputs": [
    {
     "data": {
      "text/plain": [
       "A01        17\n",
       "A02        90\n",
       "A03        44\n",
       "A04       105\n",
       "A05       128\n",
       "A06       267\n",
       "A07        37\n",
       "A08        42\n",
       "A09        43\n",
       "A10        27\n",
       "A11        34\n",
       "A12        33\n",
       "A13         9\n",
       "A14         9\n",
       "A15        11\n",
       "A16       418\n",
       "A17        36\n",
       "A18        15\n",
       "A88        99\n",
       "B01         7\n",
       "B02        12\n",
       "B03         4\n",
       "B04         7\n",
       "B05       197\n",
       "B06        15\n",
       "B07        67\n",
       "B08       175\n",
       "B88        63\n",
       "C01        19\n",
       "C02        26\n",
       "C04         5\n",
       "C05         5\n",
       "C06         3\n",
       "C07         1\n",
       "C08         6\n",
       "C88        34\n",
       "D03         5\n",
       "D04         7\n",
       "D05         9\n",
       "D06         3\n",
       "D88        11\n",
       "E01       554\n",
       "E02       210\n",
       "E03        42\n",
       "E04        41\n",
       "E05        82\n",
       "E06         5\n",
       "E07        70\n",
       "E88       272\n",
       "U99    118594\n",
       "Name: CON_FACT5, dtype: int64"
      ]
     },
     "execution_count": 22,
     "metadata": {},
     "output_type": "execute_result"
    }
   ],
   "source": [
    "cds_df['CON_FACT5'].value_counts().sort_index()"
   ]
  },
  {
   "cell_type": "code",
   "execution_count": 23,
   "metadata": {},
   "outputs": [
    {
     "data": {
      "text/plain": [
       "(82672, 56)"
      ]
     },
     "execution_count": 23,
     "metadata": {},
     "output_type": "execute_result"
    }
   ],
   "source": [
    "cds_df.loc[cds_df['CON_FACT5'].isnull()==True].shape"
   ]
  },
  {
   "cell_type": "code",
   "execution_count": 24,
   "metadata": {},
   "outputs": [
    {
     "data": {
      "text/plain": [
       "(204687, 56)"
      ]
     },
     "execution_count": 24,
     "metadata": {},
     "output_type": "execute_result"
    }
   ],
   "source": [
    "cds_df.shape"
   ]
  },
  {
   "cell_type": "code",
   "execution_count": 25,
   "metadata": {},
   "outputs": [
    {
     "data": {
      "text/plain": [
       "40.400000000000006"
      ]
     },
     "execution_count": 25,
     "metadata": {},
     "output_type": "execute_result"
    }
   ],
   "source": [
    "#Computing the Null for Contributing Factors 5\n",
    "round(82672/204687,3)*100"
   ]
  },
  {
   "cell_type": "code",
   "execution_count": 26,
   "metadata": {},
   "outputs": [
    {
     "data": {
      "text/plain": [
       "A01        20\n",
       "A02        52\n",
       "A03        22\n",
       "A04        44\n",
       "A05        39\n",
       "A06        95\n",
       "A07         7\n",
       "A08        16\n",
       "A09         5\n",
       "A10         6\n",
       "A11         7\n",
       "A12         6\n",
       "A14         4\n",
       "A15         1\n",
       "A16        91\n",
       "A17        12\n",
       "A18         3\n",
       "A88        44\n",
       "B01         1\n",
       "B02         4\n",
       "B03         1\n",
       "B05        37\n",
       "B06         3\n",
       "B07        13\n",
       "B08        29\n",
       "B88         3\n",
       "C01         5\n",
       "C02         4\n",
       "C04         2\n",
       "C05         1\n",
       "C07         2\n",
       "C08         3\n",
       "C88         6\n",
       "D02         1\n",
       "D03         4\n",
       "D04         1\n",
       "D88         4\n",
       "E01       168\n",
       "E02        58\n",
       "E03        10\n",
       "E04        19\n",
       "E05        24\n",
       "E06         4\n",
       "E07        29\n",
       "E88        56\n",
       "U99    120172\n",
       "Name: CON_FACT6, dtype: int64"
      ]
     },
     "execution_count": 26,
     "metadata": {},
     "output_type": "execute_result"
    }
   ],
   "source": [
    "cds_df['CON_FACT6'].value_counts().sort_index()"
   ]
  },
  {
   "cell_type": "code",
   "execution_count": 27,
   "metadata": {},
   "outputs": [
    {
     "data": {
      "text/plain": [
       "(83549, 56)"
      ]
     },
     "execution_count": 27,
     "metadata": {},
     "output_type": "execute_result"
    }
   ],
   "source": [
    "cds_df.loc[cds_df['CON_FACT6'].isnull()==True].shape"
   ]
  },
  {
   "cell_type": "code",
   "execution_count": 28,
   "metadata": {},
   "outputs": [
    {
     "data": {
      "text/plain": [
       "(204687, 56)"
      ]
     },
     "execution_count": 28,
     "metadata": {},
     "output_type": "execute_result"
    }
   ],
   "source": [
    "cds_df.shape"
   ]
  },
  {
   "cell_type": "code",
   "execution_count": 29,
   "metadata": {},
   "outputs": [
    {
     "data": {
      "text/plain": [
       "40.8"
      ]
     },
     "execution_count": 29,
     "metadata": {},
     "output_type": "execute_result"
    }
   ],
   "source": [
    "#Computing the Null for Contributing Factors 6\n",
    "round(83549/204687,3)*100"
   ]
  },
  {
   "cell_type": "code",
   "execution_count": null,
   "metadata": {},
   "outputs": [],
   "source": [
    "cds_df_unit = pd.read_excel('./ALL_UNIT.xlsx')"
   ]
  },
  {
   "cell_type": "code",
   "execution_count": 6,
   "metadata": {},
   "outputs": [
    {
     "data": {
      "text/plain": [
       "5.0      9385\n",
       "10.0     4002\n",
       "15.0    26493\n",
       "20.0     3218\n",
       "25.0    65332\n",
       "30.0    14313\n",
       "35.0    47061\n",
       "40.0    15184\n",
       "45.0    47545\n",
       "50.0    16816\n",
       "55.0    28737\n",
       "60.0      132\n",
       "65.0      117\n",
       "70.0        4\n",
       "75.0       19\n",
       "99.0    17894\n",
       "Name: SPEED_LIMIT, dtype: int64"
      ]
     },
     "execution_count": 6,
     "metadata": {},
     "output_type": "execute_result"
    }
   ],
   "source": [
    "cds_df_unit.SPEED_LIMIT.value_counts().sort_index()"
   ]
  },
  {
   "cell_type": "code",
   "execution_count": 7,
   "metadata": {},
   "outputs": [
    {
     "data": {
      "text/plain": [
       "(311057, 31)"
      ]
     },
     "execution_count": 7,
     "metadata": {},
     "output_type": "execute_result"
    }
   ],
   "source": [
    "cds_df_unit.shape"
   ]
  },
  {
   "cell_type": "code",
   "execution_count": 9,
   "metadata": {},
   "outputs": [
    {
     "data": {
      "text/plain": [
       "(14805, 31)"
      ]
     },
     "execution_count": 9,
     "metadata": {},
     "output_type": "execute_result"
    }
   ],
   "source": [
    "cds_df_unit.loc[cds_df_unit['SPEED_LIMIT'].isnull()==True].shape"
   ]
  },
  {
   "cell_type": "code",
   "execution_count": 10,
   "metadata": {},
   "outputs": [
    {
     "data": {
      "text/plain": [
       "4.8"
      ]
     },
     "execution_count": 10,
     "metadata": {},
     "output_type": "execute_result"
    }
   ],
   "source": [
    "#the percentage of vehicle records with missing speed limits is: \n",
    "round(14805/311057,3)*100"
   ]
  },
  {
   "cell_type": "code",
   "execution_count": 11,
   "metadata": {},
   "outputs": [
    {
     "data": {
      "text/plain": [
       "0.0     224650\n",
       "1.0        655\n",
       "2.0       4278\n",
       "3.0       5025\n",
       "4.0       2599\n",
       "5.0        977\n",
       "6.0       4259\n",
       "7.0       1635\n",
       "8.0        753\n",
       "9.0       8226\n",
       "10.0      3137\n",
       "11.0      2356\n",
       "12.0       510\n",
       "13.0        52\n",
       "14.0       423\n",
       "15.0       713\n",
       "16.0     15809\n",
       "17.0       789\n",
       "18.0         4\n",
       "88.0     26051\n",
       "98.0      1638\n",
       "99.0      1331\n",
       "Name: VIOL_CHG1, dtype: int64"
      ]
     },
     "execution_count": 11,
     "metadata": {},
     "output_type": "execute_result"
    }
   ],
   "source": [
    "#Violation Charge Code 05 refers to Exceeding Posted Speed Limit. Charge Code 06 refers to Too Fast for Conditions. See Code Dictionary via Microsoft Access Database \n",
    "cds_df_unit['VIOL_CHG1'].value_counts().sort_index()"
   ]
  },
  {
   "cell_type": "code",
   "execution_count": 62,
   "metadata": {},
   "outputs": [
    {
     "data": {
      "text/plain": [
       "(5187, 31)"
      ]
     },
     "execution_count": 62,
     "metadata": {},
     "output_type": "execute_result"
    }
   ],
   "source": [
    "cds_df_unit.loc[cds_df_unit['VIOL_CHG1'].isnull()==True].shape"
   ]
  },
  {
   "cell_type": "code",
   "execution_count": 15,
   "metadata": {},
   "outputs": [
    {
     "data": {
      "text/plain": [
       "1.7000000000000002"
      ]
     },
     "execution_count": 15,
     "metadata": {},
     "output_type": "execute_result"
    }
   ],
   "source": [
    "#Computing the Null for Violations Charge 1 \n",
    "round(5187/311057,3)*100"
   ]
  },
  {
   "cell_type": "code",
   "execution_count": 12,
   "metadata": {
    "scrolled": true
   },
   "outputs": [
    {
     "data": {
      "text/plain": [
       "0.0     285121\n",
       "1.0        153\n",
       "2.0        580\n",
       "3.0        413\n",
       "4.0        695\n",
       "5.0        463\n",
       "6.0        850\n",
       "7.0        260\n",
       "8.0        281\n",
       "9.0        757\n",
       "10.0       423\n",
       "11.0       225\n",
       "12.0       107\n",
       "13.0        14\n",
       "14.0        73\n",
       "15.0       169\n",
       "16.0      2974\n",
       "17.0       618\n",
       "18.0         3\n",
       "88.0      8381\n",
       "98.0      1832\n",
       "99.0      1313\n",
       "Name: VIOL_CHG2, dtype: int64"
      ]
     },
     "execution_count": 12,
     "metadata": {},
     "output_type": "execute_result"
    }
   ],
   "source": [
    "#Violation Charge Code 05 refers to Exceeding Posted Speed Limit. Charge Code 06 refers to Too Fast for Conditions. See Code Dictionary via Microsoft Access Database \n",
    "cds_df_unit['VIOL_CHG2'].value_counts().sort_index()"
   ]
  },
  {
   "cell_type": "code",
   "execution_count": 63,
   "metadata": {},
   "outputs": [
    {
     "data": {
      "text/plain": [
       "(5352, 31)"
      ]
     },
     "execution_count": 63,
     "metadata": {},
     "output_type": "execute_result"
    }
   ],
   "source": [
    "cds_df_unit.loc[cds_df_unit['VIOL_CHG2'].isnull()==True].shape"
   ]
  },
  {
   "cell_type": "code",
   "execution_count": 61,
   "metadata": {},
   "outputs": [
    {
     "data": {
      "text/plain": [
       "(311057, 31)"
      ]
     },
     "execution_count": 61,
     "metadata": {},
     "output_type": "execute_result"
    }
   ],
   "source": [
    "cds_df_unit.shape"
   ]
  },
  {
   "cell_type": "code",
   "execution_count": 16,
   "metadata": {},
   "outputs": [
    {
     "data": {
      "text/plain": [
       "1.7000000000000002"
      ]
     },
     "execution_count": 16,
     "metadata": {},
     "output_type": "execute_result"
    }
   ],
   "source": [
    "#Computing the Null for Violations Charge 2 \n",
    "round(5352/311057,3)*100"
   ]
  },
  {
   "cell_type": "code",
   "execution_count": 66,
   "metadata": {},
   "outputs": [
    {
     "data": {
      "text/plain": [
       "1.0     102007\n",
       "2.0      47867\n",
       "7.0      18945\n",
       "0.0      14174\n",
       "5.0       8176\n",
       "88.0      5396\n",
       "99.0      2858\n",
       "4.0       1498\n",
       "3.0       1438\n",
       "98.0       822\n",
       "10.0        34\n",
       "6.0         32\n",
       "Name: CRASH_CLASS, dtype: int64"
      ]
     },
     "execution_count": 66,
     "metadata": {},
     "output_type": "execute_result"
    }
   ],
   "source": [
    "##Crash Class 07 (or 7.0 below) refers to Collision with Animal. See Code Dictionary via Microsoft Access Database\n",
    "cds_df['CRASH_CLASS'].value_counts()"
   ]
  },
  {
   "cell_type": "code",
   "execution_count": 67,
   "metadata": {},
   "outputs": [
    {
     "data": {
      "text/plain": [
       "(204687, 56)"
      ]
     },
     "execution_count": 67,
     "metadata": {},
     "output_type": "execute_result"
    }
   ],
   "source": [
    "cds_df.shape "
   ]
  },
  {
   "cell_type": "code",
   "execution_count": 68,
   "metadata": {},
   "outputs": [
    {
     "data": {
      "text/plain": [
       "(1440, 56)"
      ]
     },
     "execution_count": 68,
     "metadata": {},
     "output_type": "execute_result"
    }
   ],
   "source": [
    "cds_df.loc[cds_df['CRASH_CLASS'].isnull()==True].shape"
   ]
  },
  {
   "cell_type": "code",
   "execution_count": 69,
   "metadata": {
    "scrolled": false
   },
   "outputs": [
    {
     "data": {
      "text/plain": [
       "0.7000000000000001"
      ]
     },
     "execution_count": 69,
     "metadata": {},
     "output_type": "execute_result"
    }
   ],
   "source": [
    "#the percentage of unit records with missing \"CRASH CLASS\" \n",
    "round((1440)/204687,3)*100"
   ]
  }
 ],
 "metadata": {
  "kernelspec": {
   "display_name": "Python 3 (ipykernel)",
   "language": "python",
   "name": "python3"
  },
  "language_info": {
   "codemirror_mode": {
    "name": "ipython",
    "version": 3
   },
   "file_extension": ".py",
   "mimetype": "text/x-python",
   "name": "python",
   "nbconvert_exporter": "python",
   "pygments_lexer": "ipython3",
   "version": "3.9.12"
  }
 },
 "nbformat": 4,
 "nbformat_minor": 2
}
