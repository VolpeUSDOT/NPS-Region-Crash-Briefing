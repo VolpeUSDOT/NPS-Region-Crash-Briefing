{
 "cells": [
  {
   "cell_type": "markdown",
   "metadata": {},
   "source": [
    "## Crash Data Wrangling Jupyter Notebook\n",
    "\n",
    "**Author:** Eric Englin, Meredith Raymer, and Sophie Kaye\n",
    "\n",
    "**Date:** 6/23/22\n",
    "\n",
    "**Purpose:** This notebook will clean pre-combined IMARS data and filter data tables for data attributes to be used in analysis. The smaller cleaned tables are then combined to create a dataframe that is joinable with the reciprocal CDS dataset."
   ]
  },
  {
   "cell_type": "code",
   "execution_count": 1,
   "metadata": {},
   "outputs": [],
   "source": [
    "import pandas as pd\n",
    "import geopandas as gpd\n",
    "import numpy as np\n",
    "import os\n",
    "from shapely.geometry import Point, LineString, Polygon"
   ]
  },
  {
   "cell_type": "code",
   "execution_count": 2,
   "metadata": {},
   "outputs": [],
   "source": [
    "myworkingdirectory = r\"C:\\Users\\Sophie.Kaye\\Desktop\\NPS Safety\"\n",
    "os.chdir(myworkingdirectory)"
   ]
  },
  {
   "cell_type": "code",
   "execution_count": 3,
   "metadata": {},
   "outputs": [
    {
     "name": "stdout",
     "output_type": "stream",
     "text": [
      "Archive\n",
      "IMARS 2012 - 2021.xlsx\n",
      "IMARS Crash Module Data Dictionary_Redacted.docx\n",
      "IMARS_noparks_nocoords_someinfo_parks_filled.csv\n"
     ]
    }
   ],
   "source": [
    "path = './IMARS'\n",
    "\n",
    "files = os.listdir(path)\n",
    "\n",
    "for f in files:\n",
    "    print(f)"
   ]
  },
  {
   "cell_type": "code",
   "execution_count": 4,
   "metadata": {},
   "outputs": [],
   "source": [
    "imars_crash = pd.read_excel(\"./IMARS/IMARS 2012 - 2021.xlsx\", sheet_name = \"Location\")\n",
    "imars_passenger = pd.read_excel(\"./IMARS/IMARS 2012 - 2021.xlsx\", sheet_name = \"Person\")\n",
    "imars_vehicle = pd.read_excel(\"./IMARS/IMARS 2012 - 2021.xlsx\", sheet_name = \"Vehicle\")\n",
    "imars_crash_details = pd.read_excel(\"./IMARS/IMARS 2012 - 2021.xlsx\", sheet_name = \"Classification\")"
   ]
  },
  {
   "cell_type": "code",
   "execution_count": 5,
   "metadata": {},
   "outputs": [
    {
     "data": {
      "text/plain": [
       "(17828, 32)"
      ]
     },
     "execution_count": 5,
     "metadata": {},
     "output_type": "execute_result"
    }
   ],
   "source": [
    "imars_crash.shape"
   ]
  },
  {
   "cell_type": "code",
   "execution_count": 6,
   "metadata": {},
   "outputs": [
    {
     "data": {
      "text/plain": [
       "(27932, 29)"
      ]
     },
     "execution_count": 6,
     "metadata": {},
     "output_type": "execute_result"
    }
   ],
   "source": [
    "imars_passenger.shape"
   ]
  },
  {
   "cell_type": "code",
   "execution_count": 7,
   "metadata": {},
   "outputs": [
    {
     "data": {
      "text/plain": [
       "(23577, 51)"
      ]
     },
     "execution_count": 7,
     "metadata": {},
     "output_type": "execute_result"
    }
   ],
   "source": [
    "imars_vehicle.shape"
   ]
  },
  {
   "cell_type": "code",
   "execution_count": 8,
   "metadata": {},
   "outputs": [
    {
     "data": {
      "text/plain": [
       "(16304, 24)"
      ]
     },
     "execution_count": 8,
     "metadata": {},
     "output_type": "execute_result"
    }
   ],
   "source": [
    "imars_crash_details.shape"
   ]
  },
  {
   "cell_type": "code",
   "execution_count": 9,
   "metadata": {},
   "outputs": [],
   "source": [
    "# note that crash_details and crash don't have the same number of entries to begin with"
   ]
  },
  {
   "cell_type": "code",
   "execution_count": 10,
   "metadata": {},
   "outputs": [
    {
     "data": {
      "text/plain": [
       "Index(['IMARS_Record_No', 'Crash_Date_Time', 'Driver_Action',\n",
       "       'Driver_Condition', 'Driver_Distraction', 'Suspect_Alcohol',\n",
       "       'Alcohol_Test', 'Alcohol_Test_Result_1', 'Alcohol_Test_Result_2',\n",
       "       'Suspect_Drugs', 'Drug_Test', 'Violations_Issued', 'Seat_Position',\n",
       "       'Injury_Severity', 'Air_Bag_Deployed', 'Ejection',\n",
       "       'Injury_Transported_By', 'Safety_Equipment_Used', 'Vehicle_number',\n",
       "       'Injured_transported_by', 'Non_motorist_safety_equipment',\n",
       "       'Non_motorist_action_circumstance_prior_to_crash',\n",
       "       'Non_motorist_action_circumstance_at_time_of_crash',\n",
       "       'Non_motorist_condition_at_time_of_crash', 'Non_motorist_distraction',\n",
       "       'Non_motorist_location_at_time_of_crash', 'Pedestrian_Type',\n",
       "       'Pedestrian_Type_Detail', 'Involvement'],\n",
       "      dtype='object')"
      ]
     },
     "execution_count": 10,
     "metadata": {},
     "output_type": "execute_result"
    }
   ],
   "source": [
    "imars_passenger.columns"
   ]
  },
  {
   "cell_type": "code",
   "execution_count": 11,
   "metadata": {},
   "outputs": [
    {
     "data": {
      "text/plain": [
       "Index(['IMARS_Record_No', 'Crash_Date_Time', 'Linked_Address_Classification',\n",
       "       'City_Town_Park_Location', 'State', 'County', 'Direction',\n",
       "       'Linked_Street_Number', 'Linked_Common_Name', 'Street_Type',\n",
       "       'Direction.1', 'NEAR_Distance_to_MI', 'NEAR_Direction_To',\n",
       "       'NEAR_Direction', 'NEAR_route_street_road_name', 'NEAR_Road_Type',\n",
       "       'NEAR_Direction.1', 'AT_Intersection_route_street_road_DIRECTION',\n",
       "       'At_Intersecting_route_street_road_name', 'AT_Road_Type',\n",
       "       'AT_Direction', 'Mile_Marker', 'Latitude', 'Longitude', 'Region',\n",
       "       'State_Zone', 'Park', 'Site', 'Place', 'Point',\n",
       "       'Road_Type_Classification', 'Linked_Address'],\n",
       "      dtype='object')"
      ]
     },
     "execution_count": 11,
     "metadata": {},
     "output_type": "execute_result"
    }
   ],
   "source": [
    "imars_crash.columns"
   ]
  },
  {
   "cell_type": "code",
   "execution_count": 12,
   "metadata": {},
   "outputs": [
    {
     "data": {
      "text/plain": [
       "Index(['IMARS_Record_No', 'Crash_Date_Time', 'Number_of_Vehicles_Involved',\n",
       "       'Injury_or_Fatal_Crash', 'Investigated_at_Scene', 'Hit_and_Run',\n",
       "       'Non_Motor_Vehicl_Property_Damage', 'Amount_of_Property_Damage',\n",
       "       'First_Harmful_Event_Type', 'First_Harmful_Event',\n",
       "       'Location_of_First_Harmful_Event', 'Weather', 'Roadway_Condition',\n",
       "       'Lighting', 'School_Bus_related', 'AS_Road_Circumstance',\n",
       "       'Environmental_Contributing_Circumstances', 'Work_Zone_Related',\n",
       "       'Work_Zone_Workers_Present', 'Work_Zone_Location',\n",
       "       'Law_Enforcement_Present_at_Work_Zone', 'Relation_to_Junction',\n",
       "       'Type_of_Intersection', 'Manner_of_Collision'],\n",
       "      dtype='object')"
      ]
     },
     "execution_count": 12,
     "metadata": {},
     "output_type": "execute_result"
    }
   ],
   "source": [
    "imars_crash_details.columns"
   ]
  },
  {
   "cell_type": "code",
   "execution_count": 13,
   "metadata": {},
   "outputs": [
    {
     "data": {
      "text/plain": [
       "Index(['IMARS_Record_No', 'Crash_Date_Time', 'Vehicle_Number',\n",
       "       'Number_of_Occupants', 'Vehicle_Towed', 'Insurance_verified',\n",
       "       'Initial_Impact_Point', 'Most_Damaged_Area', 'Extent_of_Damage',\n",
       "       'Direction_of_Travel_Prior_to_Crash', 'Posted_Speed',\n",
       "       'First_Event_Type', 'First_Event', 'Second_Event_Type', 'Second_Event',\n",
       "       'Third_Event_Type', 'Third_Event', 'Fourth_Event_Type', 'Fourth_Event',\n",
       "       'Motor_Vehicle_Unit_Type', 'Vehicle_Owner', 'Vehicle_Type',\n",
       "       'Non_Commercial_Trailer_Style', 'Emergency_Vehicle_Use',\n",
       "       'Emergency_Equipment_Activated', 'Special_Function_of_MV_in_Transport',\n",
       "       'Motor_Vehicle_Contributing_Circumstance',\n",
       "       'Vehicle_Maneuver_Action_Prior_to_Crash', 'Road_Surface', 'Grade',\n",
       "       'Roadway_Alignment', 'Total_Number_of_Lanes', 'Traffic_Control',\n",
       "       'Traffic_Control_Working_Properly', 'Roadway_Description',\n",
       "       'Commercial_Non_Commercial', 'Number_of_Axles', 'Gross_Vehicle_Weight',\n",
       "       'Combination_GVW', 'Commercial_Cargo_Body_Type', 'Commercial_Cargo',\n",
       "       'Commercial_MV_Configuration', 'Identification_Number_Type',\n",
       "       'Hazmat_1_Class', 'Hazmat_1_ID', 'Hazmat_2_Class', 'Hazmat_2_ID',\n",
       "       'Hazmat_3_Class', 'Hazmat_3_ID', 'Hazmat_4_Class', 'Hazmat_4_ID'],\n",
       "      dtype='object')"
      ]
     },
     "execution_count": 13,
     "metadata": {},
     "output_type": "execute_result"
    }
   ],
   "source": [
    "imars_vehicle.columns"
   ]
  },
  {
   "cell_type": "markdown",
   "metadata": {},
   "source": [
    "# General Data Cleaning\n",
    "Note that there are crashes with randomly missing park, region, and/or roadway"
   ]
  },
  {
   "cell_type": "markdown",
   "metadata": {},
   "source": [
    "### CHECK FOR MISSING RECORD NUMBERS"
   ]
  },
  {
   "cell_type": "code",
   "execution_count": 14,
   "metadata": {},
   "outputs": [
    {
     "data": {
      "text/plain": [
       "(17828, 32)"
      ]
     },
     "execution_count": 14,
     "metadata": {},
     "output_type": "execute_result"
    }
   ],
   "source": [
    "imars_crash.shape"
   ]
  },
  {
   "cell_type": "code",
   "execution_count": 15,
   "metadata": {},
   "outputs": [
    {
     "data": {
      "text/plain": [
       "(17827, 32)"
      ]
     },
     "execution_count": 15,
     "metadata": {},
     "output_type": "execute_result"
    }
   ],
   "source": [
    "imars_crash.dropna(subset=['IMARS_Record_No']).shape"
   ]
  },
  {
   "cell_type": "code",
   "execution_count": 16,
   "metadata": {},
   "outputs": [],
   "source": [
    "imars_crash = imars_crash.dropna(subset=['IMARS_Record_No'])"
   ]
  },
  {
   "cell_type": "code",
   "execution_count": 17,
   "metadata": {},
   "outputs": [
    {
     "data": {
      "text/plain": [
       "(27932, 29)"
      ]
     },
     "execution_count": 17,
     "metadata": {},
     "output_type": "execute_result"
    }
   ],
   "source": [
    "imars_passenger.shape"
   ]
  },
  {
   "cell_type": "code",
   "execution_count": 18,
   "metadata": {},
   "outputs": [
    {
     "data": {
      "text/plain": [
       "(27931, 29)"
      ]
     },
     "execution_count": 18,
     "metadata": {},
     "output_type": "execute_result"
    }
   ],
   "source": [
    "imars_passenger.dropna(subset=['IMARS_Record_No']).shape"
   ]
  },
  {
   "cell_type": "code",
   "execution_count": 19,
   "metadata": {},
   "outputs": [],
   "source": [
    "imars_passenger = imars_passenger.dropna(subset=['IMARS_Record_No'])"
   ]
  },
  {
   "cell_type": "code",
   "execution_count": 20,
   "metadata": {},
   "outputs": [
    {
     "data": {
      "text/plain": [
       "(23577, 51)"
      ]
     },
     "execution_count": 20,
     "metadata": {},
     "output_type": "execute_result"
    }
   ],
   "source": [
    "imars_vehicle.shape"
   ]
  },
  {
   "cell_type": "code",
   "execution_count": 21,
   "metadata": {},
   "outputs": [
    {
     "data": {
      "text/plain": [
       "(23576, 51)"
      ]
     },
     "execution_count": 21,
     "metadata": {},
     "output_type": "execute_result"
    }
   ],
   "source": [
    "imars_vehicle.dropna(subset=['IMARS_Record_No']).shape"
   ]
  },
  {
   "cell_type": "code",
   "execution_count": 22,
   "metadata": {},
   "outputs": [],
   "source": [
    "imars_vehicle = imars_vehicle.dropna(subset=['IMARS_Record_No'])"
   ]
  },
  {
   "cell_type": "code",
   "execution_count": 23,
   "metadata": {},
   "outputs": [
    {
     "data": {
      "text/plain": [
       "(16304, 24)"
      ]
     },
     "execution_count": 23,
     "metadata": {},
     "output_type": "execute_result"
    }
   ],
   "source": [
    "imars_crash_details.shape"
   ]
  },
  {
   "cell_type": "code",
   "execution_count": 24,
   "metadata": {},
   "outputs": [
    {
     "data": {
      "text/plain": [
       "(16303, 24)"
      ]
     },
     "execution_count": 24,
     "metadata": {},
     "output_type": "execute_result"
    }
   ],
   "source": [
    "imars_crash_details.dropna(subset=['IMARS_Record_No']).shape"
   ]
  },
  {
   "cell_type": "code",
   "execution_count": 25,
   "metadata": {},
   "outputs": [],
   "source": [
    "imars_crash_details = imars_crash_details.dropna(subset=['IMARS_Record_No'])"
   ]
  },
  {
   "cell_type": "markdown",
   "metadata": {},
   "source": [
    "### REMOVE DUPLICATES"
   ]
  },
  {
   "cell_type": "code",
   "execution_count": 26,
   "metadata": {},
   "outputs": [
    {
     "data": {
      "text/plain": [
       "(15130, 32)"
      ]
     },
     "execution_count": 26,
     "metadata": {},
     "output_type": "execute_result"
    }
   ],
   "source": [
    "imars_crash = imars_crash.drop_duplicates(subset=['IMARS_Record_No'])\n",
    "imars_crash.shape"
   ]
  },
  {
   "cell_type": "code",
   "execution_count": 27,
   "metadata": {},
   "outputs": [
    {
     "data": {
      "text/plain": [
       "(15302, 24)"
      ]
     },
     "execution_count": 27,
     "metadata": {},
     "output_type": "execute_result"
    }
   ],
   "source": [
    "imars_crash_details = imars_crash_details.drop_duplicates(subset=['IMARS_Record_No'])\n",
    "imars_crash_details.shape"
   ]
  },
  {
   "cell_type": "code",
   "execution_count": 28,
   "metadata": {},
   "outputs": [],
   "source": [
    "# note that crash and crash details still don't have the same number of entries (although they did with the older archived input data...)"
   ]
  },
  {
   "cell_type": "markdown",
   "metadata": {},
   "source": [
    "### REVERT FLIPPED LAT/LONG"
   ]
  },
  {
   "cell_type": "code",
   "execution_count": 29,
   "metadata": {},
   "outputs": [],
   "source": [
    "need_revert = imars_crash['Latitude'].abs() > 70\n",
    "imars_crash.loc[need_revert, ['Latitude', 'Longitude']] = (imars_crash.loc[need_revert, ['Longitude', 'Latitude']].values)"
   ]
  },
  {
   "cell_type": "markdown",
   "metadata": {},
   "source": [
    "### ADJUST SIGNS TO CORRECT HEMISPHERE"
   ]
  },
  {
   "cell_type": "code",
   "execution_count": 30,
   "metadata": {},
   "outputs": [],
   "source": [
    "imars_crash.loc[imars_crash.Latitude < 0,\"Latitude\"] = imars_crash['Latitude']*(-1)\n",
    "imars_crash.loc[imars_crash.Longitude > 0,\"Longitude\"] = imars_crash['Longitude']*(-1)"
   ]
  },
  {
   "cell_type": "markdown",
   "metadata": {},
   "source": [
    "# Add Parks to Crash Table\n",
    "\n",
    "**Note:** IMARS does not have park units with each crash, so these will have to be added using the Latitude and Longitude fields in the imars_crash dataset. "
   ]
  },
  {
   "cell_type": "code",
   "execution_count": 31,
   "metadata": {},
   "outputs": [
    {
     "data": {
      "text/plain": [
       "(15130, 32)"
      ]
     },
     "execution_count": 31,
     "metadata": {},
     "output_type": "execute_result"
    }
   ],
   "source": [
    "imars_crash.shape"
   ]
  },
  {
   "cell_type": "code",
   "execution_count": 32,
   "metadata": {},
   "outputs": [
    {
     "data": {
      "text/plain": [
       "(12205, 32)"
      ]
     },
     "execution_count": 32,
     "metadata": {},
     "output_type": "execute_result"
    }
   ],
   "source": [
    "imars_crash.dropna(subset=['Park']).shape"
   ]
  },
  {
   "cell_type": "code",
   "execution_count": 33,
   "metadata": {},
   "outputs": [
    {
     "data": {
      "text/plain": [
       "(12205, 32)"
      ]
     },
     "execution_count": 33,
     "metadata": {},
     "output_type": "execute_result"
    }
   ],
   "source": [
    "imars_crash_parks = imars_crash.dropna(subset=['Park'])\n",
    "imars_crash_parks.shape"
   ]
  },
  {
   "cell_type": "code",
   "execution_count": 34,
   "metadata": {},
   "outputs": [
    {
     "data": {
      "text/plain": [
       "(12205, 32)"
      ]
     },
     "execution_count": 34,
     "metadata": {},
     "output_type": "execute_result"
    }
   ],
   "source": [
    "imars_crash.loc[imars_crash['Park'].isnull()==False].shape"
   ]
  },
  {
   "cell_type": "code",
   "execution_count": 35,
   "metadata": {},
   "outputs": [],
   "source": [
    "# 12205 of 15130 crash entries have the park already explicitly identified"
   ]
  },
  {
   "cell_type": "code",
   "execution_count": 36,
   "metadata": {},
   "outputs": [
    {
     "data": {
      "text/plain": [
       "(2925, 32)"
      ]
     },
     "execution_count": 36,
     "metadata": {},
     "output_type": "execute_result"
    }
   ],
   "source": [
    "imars_crash.loc[imars_crash['Park'].isnull()].shape"
   ]
  },
  {
   "cell_type": "code",
   "execution_count": 37,
   "metadata": {},
   "outputs": [],
   "source": [
    "# 2925 of the 15130 crash entries have no park identification"
   ]
  },
  {
   "cell_type": "code",
   "execution_count": 38,
   "metadata": {},
   "outputs": [
    {
     "data": {
      "text/plain": [
       "(591, 32)"
      ]
     },
     "execution_count": 38,
     "metadata": {},
     "output_type": "execute_result"
    }
   ],
   "source": [
    "imars_crash_coords = imars_crash.loc[imars_crash['Park'].isnull()].dropna(subset=['Latitude','Longitude'])\n",
    "imars_crash_coords.shape"
   ]
  },
  {
   "cell_type": "code",
   "execution_count": 39,
   "metadata": {},
   "outputs": [
    {
     "data": {
      "text/plain": [
       "12796"
      ]
     },
     "execution_count": 39,
     "metadata": {},
     "output_type": "execute_result"
    }
   ],
   "source": [
    "# of the 2925 crash entries without park identification, 591 have lat/long coordinates from which park can be assigned using the shapefile\n",
    "# the sum of crashes with pre-identified parks and crashes that can be assigned a park using lat/long coordinates \n",
    "# results in the following total of possible usable crash entries after the spatial join:\n",
    "12205+591"
   ]
  },
  {
   "cell_type": "code",
   "execution_count": 40,
   "metadata": {},
   "outputs": [
    {
     "data": {
      "text/plain": [
       "(2334, 32)"
      ]
     },
     "execution_count": 40,
     "metadata": {},
     "output_type": "execute_result"
    }
   ],
   "source": [
    "imars_crash_noparks = imars_crash.loc[imars_crash['Park'].isnull()]\n",
    "imars_crash_noparks_nolat = imars_crash_noparks.loc[imars_crash_noparks['Latitude'].isnull()]\n",
    "imars_crash_noparks_nocoords = imars_crash_noparks_nolat.loc[imars_crash_noparks_nolat['Longitude'].isnull()]\n",
    "imars_crash_noparks_nocoords.shape"
   ]
  },
  {
   "cell_type": "code",
   "execution_count": 41,
   "metadata": {},
   "outputs": [],
   "source": [
    "# 2334 of the 15130 crashes entries have no park identification or lat/long coordinates"
   ]
  },
  {
   "cell_type": "code",
   "execution_count": 42,
   "metadata": {},
   "outputs": [
    {
     "data": {
      "text/plain": [
       "(109, 32)"
      ]
     },
     "execution_count": 42,
     "metadata": {},
     "output_type": "execute_result"
    }
   ],
   "source": [
    "mask = imars_crash_noparks_nocoords.loc[:,['Linked_Common_Name','Linked_Address','NEAR_route_street_road_name',\n",
    "                                           'At_Intersecting_route_street_road_name']].notnull()\n",
    "imars_noparks_nocoords_someinfo = imars_crash_noparks_nocoords.loc[mask.any(axis=1)]\n",
    "imars_noparks_nocoords_someinfo.shape"
   ]
  },
  {
   "cell_type": "code",
   "execution_count": 43,
   "metadata": {},
   "outputs": [],
   "source": [
    "# of the 2334 crash entries without park identification or lat/long coordinates, 109 have other identifiable information \n",
    "# (e.g., roadway name) which could be used to identify the park name\n",
    "# print file containing only this subset of crashes for manual park identification\n",
    "imars_noparks_nocoords_someinfo.to_csv(\"./IMARS_noparks_nocoords_someinfo.csv\",index=False)"
   ]
  },
  {
   "cell_type": "markdown",
   "metadata": {},
   "source": [
    "## spatial join to assign park names"
   ]
  },
  {
   "cell_type": "code",
   "execution_count": 44,
   "metadata": {},
   "outputs": [],
   "source": [
    "imars_crash_coords_geo=gpd.GeoDataFrame(imars_crash_coords, geometry=gpd.points_from_xy(imars_crash_coords.Longitude, \n",
    "                                                                             imars_crash_coords.Latitude))"
   ]
  },
  {
   "cell_type": "code",
   "execution_count": 45,
   "metadata": {},
   "outputs": [],
   "source": [
    "filename = \"./shapefiles/NPS_-_Land_Resources_Division_Boundary_and_Tract_Data_Service.geojson\"\n",
    "file = open(filename)\n",
    "parks = gpd.read_file(file)"
   ]
  },
  {
   "cell_type": "code",
   "execution_count": 46,
   "metadata": {},
   "outputs": [],
   "source": [
    "imars_crash_coords_geo.crs = \"EPSG:4326\""
   ]
  },
  {
   "cell_type": "code",
   "execution_count": 47,
   "metadata": {},
   "outputs": [
    {
     "name": "stderr",
     "output_type": "stream",
     "text": [
      "C:\\Users\\Sophie.Kaye\\AppData\\Local\\Temp\\ipykernel_16844\\3993503279.py:2: UserWarning: Geometry is in a geographic CRS. Results from 'buffer' are likely incorrect. Use 'GeoSeries.to_crs()' to re-project geometries to a projected CRS before this operation.\n",
      "\n",
      "  parks['geometry']=parks['geometry'].buffer(0.01)\n"
     ]
    },
    {
     "data": {
      "text/html": [
       "<div>\n",
       "<style scoped>\n",
       "    .dataframe tbody tr th:only-of-type {\n",
       "        vertical-align: middle;\n",
       "    }\n",
       "\n",
       "    .dataframe tbody tr th {\n",
       "        vertical-align: top;\n",
       "    }\n",
       "\n",
       "    .dataframe thead th {\n",
       "        text-align: right;\n",
       "    }\n",
       "</style>\n",
       "<table border=\"1\" class=\"dataframe\">\n",
       "  <thead>\n",
       "    <tr style=\"text-align: right;\">\n",
       "      <th></th>\n",
       "      <th>IMARS_Record_No</th>\n",
       "      <th>Crash_Date_Time</th>\n",
       "      <th>Linked_Address_Classification</th>\n",
       "      <th>City_Town_Park_Location</th>\n",
       "      <th>State</th>\n",
       "      <th>County</th>\n",
       "      <th>Direction</th>\n",
       "      <th>Linked_Street_Number</th>\n",
       "      <th>Linked_Common_Name</th>\n",
       "      <th>Street_Type</th>\n",
       "      <th>...</th>\n",
       "      <th>CREATED_BY</th>\n",
       "      <th>METADATA</th>\n",
       "      <th>PARKNAME</th>\n",
       "      <th>CreationDate</th>\n",
       "      <th>Creator</th>\n",
       "      <th>EditDate</th>\n",
       "      <th>Editor</th>\n",
       "      <th>GlobalID</th>\n",
       "      <th>Shape__Area</th>\n",
       "      <th>Shape__Length</th>\n",
       "    </tr>\n",
       "  </thead>\n",
       "  <tbody>\n",
       "    <tr>\n",
       "      <th>439</th>\n",
       "      <td>NP14039836</td>\n",
       "      <td>20140513 13:30:00:000</td>\n",
       "      <td>NaN</td>\n",
       "      <td>NaN</td>\n",
       "      <td>NaN</td>\n",
       "      <td>NaN</td>\n",
       "      <td>NaN</td>\n",
       "      <td>NaN</td>\n",
       "      <td>NaN</td>\n",
       "      <td>NaN</td>\n",
       "      <td>...</td>\n",
       "      <td>Lands</td>\n",
       "      <td>Preliminary data. Contact the Land Resources P...</td>\n",
       "      <td>Olympic</td>\n",
       "      <td>2020-01-09T22:16:03+00:00</td>\n",
       "      <td>SCarlton@nps.gov_nps</td>\n",
       "      <td>2020-01-09T22:16:03+00:00</td>\n",
       "      <td>SCarlton@nps.gov_nps</td>\n",
       "      <td>d568927b-56f4-4f49-a52a-b8ab9f7676a3</td>\n",
       "      <td>8.203591e+09</td>\n",
       "      <td>1.158605e+06</td>\n",
       "    </tr>\n",
       "    <tr>\n",
       "      <th>443</th>\n",
       "      <td>NP14049772</td>\n",
       "      <td>20140607 14:42:00:000</td>\n",
       "      <td>NaN</td>\n",
       "      <td>NaN</td>\n",
       "      <td>NaN</td>\n",
       "      <td>NaN</td>\n",
       "      <td>NaN</td>\n",
       "      <td>NaN</td>\n",
       "      <td>NaN</td>\n",
       "      <td>NaN</td>\n",
       "      <td>...</td>\n",
       "      <td>Lands</td>\n",
       "      <td>Preliminary data. Contact the Land Resources P...</td>\n",
       "      <td>Olympic</td>\n",
       "      <td>2020-01-09T22:16:03+00:00</td>\n",
       "      <td>SCarlton@nps.gov_nps</td>\n",
       "      <td>2020-01-09T22:16:03+00:00</td>\n",
       "      <td>SCarlton@nps.gov_nps</td>\n",
       "      <td>d568927b-56f4-4f49-a52a-b8ab9f7676a3</td>\n",
       "      <td>8.203591e+09</td>\n",
       "      <td>1.158605e+06</td>\n",
       "    </tr>\n",
       "    <tr>\n",
       "      <th>444</th>\n",
       "      <td>NP14060606</td>\n",
       "      <td>20140625 20:40:00:000</td>\n",
       "      <td>NaN</td>\n",
       "      <td>NaN</td>\n",
       "      <td>NaN</td>\n",
       "      <td>NaN</td>\n",
       "      <td>NaN</td>\n",
       "      <td>NaN</td>\n",
       "      <td>NaN</td>\n",
       "      <td>NaN</td>\n",
       "      <td>...</td>\n",
       "      <td>Lands</td>\n",
       "      <td>Preliminary data. Contact the Land Resources P...</td>\n",
       "      <td>Olympic</td>\n",
       "      <td>2020-01-09T22:16:03+00:00</td>\n",
       "      <td>SCarlton@nps.gov_nps</td>\n",
       "      <td>2020-01-09T22:16:03+00:00</td>\n",
       "      <td>SCarlton@nps.gov_nps</td>\n",
       "      <td>d568927b-56f4-4f49-a52a-b8ab9f7676a3</td>\n",
       "      <td>8.203591e+09</td>\n",
       "      <td>1.158605e+06</td>\n",
       "    </tr>\n",
       "    <tr>\n",
       "      <th>497</th>\n",
       "      <td>NP16023660</td>\n",
       "      <td>20160312 16:32:00:000</td>\n",
       "      <td>NaN</td>\n",
       "      <td>NaN</td>\n",
       "      <td>NaN</td>\n",
       "      <td>NaN</td>\n",
       "      <td>NaN</td>\n",
       "      <td>NaN</td>\n",
       "      <td>NaN</td>\n",
       "      <td>NaN</td>\n",
       "      <td>...</td>\n",
       "      <td>Lands</td>\n",
       "      <td>https://irma.nps.gov/DataStore/Reference/Profi...</td>\n",
       "      <td>Big Bend</td>\n",
       "      <td>2022-01-06T10:41:22+00:00</td>\n",
       "      <td>WASO</td>\n",
       "      <td>2022-01-06T10:41:22+00:00</td>\n",
       "      <td>WASO</td>\n",
       "      <td>32b17c0c-12d0-4ffb-82fd-fb570aa92382</td>\n",
       "      <td>4.329894e+09</td>\n",
       "      <td>4.621458e+05</td>\n",
       "    </tr>\n",
       "    <tr>\n",
       "      <th>508</th>\n",
       "      <td>NP16029926</td>\n",
       "      <td>20160326 20:00:00:000</td>\n",
       "      <td>NaN</td>\n",
       "      <td>NaN</td>\n",
       "      <td>NaN</td>\n",
       "      <td>NaN</td>\n",
       "      <td>NaN</td>\n",
       "      <td>NaN</td>\n",
       "      <td>NaN</td>\n",
       "      <td>NaN</td>\n",
       "      <td>...</td>\n",
       "      <td>Lands</td>\n",
       "      <td>https://irma.nps.gov/DataStore/Reference/Profi...</td>\n",
       "      <td>Blue Ridge Parkway</td>\n",
       "      <td>2022-01-06T10:41:13+00:00</td>\n",
       "      <td>WASO</td>\n",
       "      <td>2022-01-06T10:41:13+00:00</td>\n",
       "      <td>WASO</td>\n",
       "      <td>a8ef8bcf-aaa2-4623-a8f6-1d93fe31f945</td>\n",
       "      <td>6.422579e+08</td>\n",
       "      <td>2.287707e+06</td>\n",
       "    </tr>\n",
       "  </tbody>\n",
       "</table>\n",
       "<p>5 rows × 53 columns</p>\n",
       "</div>"
      ],
      "text/plain": [
       "    IMARS_Record_No        Crash_Date_Time Linked_Address_Classification  \\\n",
       "439      NP14039836  20140513 13:30:00:000                           NaN   \n",
       "443      NP14049772  20140607 14:42:00:000                           NaN   \n",
       "444      NP14060606  20140625 20:40:00:000                           NaN   \n",
       "497      NP16023660  20160312 16:32:00:000                           NaN   \n",
       "508      NP16029926  20160326 20:00:00:000                           NaN   \n",
       "\n",
       "    City_Town_Park_Location State County Direction  Linked_Street_Number  \\\n",
       "439                     NaN   NaN    NaN       NaN                   NaN   \n",
       "443                     NaN   NaN    NaN       NaN                   NaN   \n",
       "444                     NaN   NaN    NaN       NaN                   NaN   \n",
       "497                     NaN   NaN    NaN       NaN                   NaN   \n",
       "508                     NaN   NaN    NaN       NaN                   NaN   \n",
       "\n",
       "    Linked_Common_Name Street_Type  ...  CREATED_BY  \\\n",
       "439                NaN         NaN  ...       Lands   \n",
       "443                NaN         NaN  ...       Lands   \n",
       "444                NaN         NaN  ...       Lands   \n",
       "497                NaN         NaN  ...       Lands   \n",
       "508                NaN         NaN  ...       Lands   \n",
       "\n",
       "                                              METADATA            PARKNAME  \\\n",
       "439  Preliminary data. Contact the Land Resources P...             Olympic   \n",
       "443  Preliminary data. Contact the Land Resources P...             Olympic   \n",
       "444  Preliminary data. Contact the Land Resources P...             Olympic   \n",
       "497  https://irma.nps.gov/DataStore/Reference/Profi...            Big Bend   \n",
       "508  https://irma.nps.gov/DataStore/Reference/Profi...  Blue Ridge Parkway   \n",
       "\n",
       "                  CreationDate               Creator  \\\n",
       "439  2020-01-09T22:16:03+00:00  SCarlton@nps.gov_nps   \n",
       "443  2020-01-09T22:16:03+00:00  SCarlton@nps.gov_nps   \n",
       "444  2020-01-09T22:16:03+00:00  SCarlton@nps.gov_nps   \n",
       "497  2022-01-06T10:41:22+00:00                  WASO   \n",
       "508  2022-01-06T10:41:13+00:00                  WASO   \n",
       "\n",
       "                      EditDate                Editor  \\\n",
       "439  2020-01-09T22:16:03+00:00  SCarlton@nps.gov_nps   \n",
       "443  2020-01-09T22:16:03+00:00  SCarlton@nps.gov_nps   \n",
       "444  2020-01-09T22:16:03+00:00  SCarlton@nps.gov_nps   \n",
       "497  2022-01-06T10:41:22+00:00                  WASO   \n",
       "508  2022-01-06T10:41:13+00:00                  WASO   \n",
       "\n",
       "                                 GlobalID   Shape__Area Shape__Length  \n",
       "439  d568927b-56f4-4f49-a52a-b8ab9f7676a3  8.203591e+09  1.158605e+06  \n",
       "443  d568927b-56f4-4f49-a52a-b8ab9f7676a3  8.203591e+09  1.158605e+06  \n",
       "444  d568927b-56f4-4f49-a52a-b8ab9f7676a3  8.203591e+09  1.158605e+06  \n",
       "497  32b17c0c-12d0-4ffb-82fd-fb570aa92382  4.329894e+09  4.621458e+05  \n",
       "508  a8ef8bcf-aaa2-4623-a8f6-1d93fe31f945  6.422579e+08  2.287707e+06  \n",
       "\n",
       "[5 rows x 53 columns]"
      ]
     },
     "execution_count": 47,
     "metadata": {},
     "output_type": "execute_result"
    }
   ],
   "source": [
    "parks = parks.to_crs(epsg=4326)\n",
    "parks['geometry']=parks['geometry'].buffer(0.01)\n",
    "\n",
    "imars_crash_coords_geo_withparknames=gpd.sjoin(imars_crash_coords_geo,parks,how=\"left\", predicate='intersects')\n",
    "imars_crash_coords_geo_withparknames.head()"
   ]
  },
  {
   "cell_type": "code",
   "execution_count": 48,
   "metadata": {},
   "outputs": [
    {
     "data": {
      "text/plain": [
       "(591, 53)"
      ]
     },
     "execution_count": 48,
     "metadata": {},
     "output_type": "execute_result"
    }
   ],
   "source": [
    "imars_crash_coords_geo_withparknames2 = imars_crash_coords_geo_withparknames.drop_duplicates(subset=['IMARS_Record_No'])\n",
    "imars_crash_coords_geo_withparknames2.shape"
   ]
  },
  {
   "cell_type": "code",
   "execution_count": 49,
   "metadata": {},
   "outputs": [],
   "source": [
    "# all 591 crash entries were processed in the spatial join"
   ]
  },
  {
   "cell_type": "code",
   "execution_count": 50,
   "metadata": {},
   "outputs": [
    {
     "data": {
      "text/plain": [
       "(591, 52)"
      ]
     },
     "execution_count": 50,
     "metadata": {},
     "output_type": "execute_result"
    }
   ],
   "source": [
    "imars_crash_withparknames = pd.DataFrame(imars_crash_coords_geo_withparknames2.drop(columns='geometry'))\n",
    "imars_crash_withparknames['Park']= imars_crash_withparknames['UNIT_CODE']\n",
    "imars_crash_withparknames.shape"
   ]
  },
  {
   "cell_type": "code",
   "execution_count": 51,
   "metadata": {},
   "outputs": [
    {
     "data": {
      "text/plain": [
       "(505, 52)"
      ]
     },
     "execution_count": 51,
     "metadata": {},
     "output_type": "execute_result"
    }
   ],
   "source": [
    "imars_crash_withparknames_NoDupsorNulls = imars_crash_withparknames.dropna(subset=['Park'])\n",
    "imars_crash_withparknames_NoDupsorNulls.shape"
   ]
  },
  {
   "cell_type": "code",
   "execution_count": 52,
   "metadata": {},
   "outputs": [
    {
     "data": {
      "text/plain": [
       "12710"
      ]
     },
     "execution_count": 52,
     "metadata": {},
     "output_type": "execute_result"
    }
   ],
   "source": [
    "# of the 591 crash entries without parks identified, 505 now have parks assigned from spatial join\n",
    "# so we expect the total (\"expanded\") dataset to be:\n",
    "12205+505"
   ]
  },
  {
   "cell_type": "code",
   "execution_count": 53,
   "metadata": {},
   "outputs": [
    {
     "data": {
      "text/plain": [
       "(12710, 52)"
      ]
     },
     "execution_count": 53,
     "metadata": {},
     "output_type": "execute_result"
    }
   ],
   "source": [
    "imars_crash_expanded = pd.concat([imars_crash_parks,imars_crash_withparknames_NoDupsorNulls])\n",
    "imars_crash_expanded.shape"
   ]
  },
  {
   "cell_type": "code",
   "execution_count": 54,
   "metadata": {},
   "outputs": [
    {
     "data": {
      "text/plain": [
       "(12710, 52)"
      ]
     },
     "execution_count": 54,
     "metadata": {},
     "output_type": "execute_result"
    }
   ],
   "source": [
    "# check to make sure all entries in combined dataset contain park assignments \n",
    "imars_crash_expanded = imars_crash_expanded.dropna(subset=['Park'])\n",
    "imars_crash_expanded.shape"
   ]
  },
  {
   "cell_type": "code",
   "execution_count": 55,
   "metadata": {},
   "outputs": [
    {
     "data": {
      "text/plain": [
       "(12710, 52)"
      ]
     },
     "execution_count": 55,
     "metadata": {},
     "output_type": "execute_result"
    }
   ],
   "source": [
    "# check to make sure no duplicate crashes in combined dataset\n",
    "imars_crash_expanded = imars_crash_expanded.drop_duplicates(subset=['IMARS_Record_No'])\n",
    "imars_crash_expanded.shape"
   ]
  },
  {
   "cell_type": "code",
   "execution_count": 56,
   "metadata": {},
   "outputs": [],
   "source": [
    "# open file Chris populated in which park names were manually added to crash data containing identifiable info (e.g., road name)\n",
    "imars_new_parknames = pd.read_csv(\"./IMARS/IMARS_noparks_nocoords_someinfo_parks_filled.csv\")"
   ]
  },
  {
   "cell_type": "code",
   "execution_count": 57,
   "metadata": {},
   "outputs": [
    {
     "data": {
      "text/plain": [
       "(80, 32)"
      ]
     },
     "execution_count": 57,
     "metadata": {},
     "output_type": "execute_result"
    }
   ],
   "source": [
    "# remove any entries for which park names were not able to be identified\n",
    "imars_new_parknames = imars_new_parknames.dropna(subset=['Park'])\n",
    "imars_new_parknames.shape"
   ]
  },
  {
   "cell_type": "code",
   "execution_count": 58,
   "metadata": {},
   "outputs": [],
   "source": [
    "# 80 of 109 crashes were able to have park names manually added using road names and should be combined with crash data \n",
    "# containing park names from original data and spatial assignment for a total of 12790 crashes in the final dataset"
   ]
  },
  {
   "cell_type": "code",
   "execution_count": 59,
   "metadata": {},
   "outputs": [
    {
     "data": {
      "text/plain": [
       "(12790, 52)"
      ]
     },
     "execution_count": 59,
     "metadata": {},
     "output_type": "execute_result"
    }
   ],
   "source": [
    "imars_crash_expanded = pd.concat([imars_crash_expanded,imars_new_parknames])\n",
    "imars_crash_expanded.shape"
   ]
  },
  {
   "cell_type": "code",
   "execution_count": 60,
   "metadata": {},
   "outputs": [
    {
     "data": {
      "text/plain": [
       "(12790, 52)"
      ]
     },
     "execution_count": 60,
     "metadata": {},
     "output_type": "execute_result"
    }
   ],
   "source": [
    "# check to make sure there are no duplicates in final dataset\n",
    "imars_crash_expanded = imars_crash_expanded.drop_duplicates(subset=['IMARS_Record_No'])\n",
    "imars_crash_expanded.shape"
   ]
  },
  {
   "cell_type": "markdown",
   "metadata": {},
   "source": [
    "## Create new region column\n",
    "imars_crash database currently contains two columns with region information, although neither one is fully populated. This section will create and populate a new column re-assigning region name to every crash based on park name using a lookup table"
   ]
  },
  {
   "cell_type": "code",
   "execution_count": 61,
   "metadata": {},
   "outputs": [
    {
     "data": {
      "text/plain": [
       "Index(['OBJECTID', 'Park', 'GIS_Notes', 'UNIT_NAME', 'DATE_EDIT', 'STATE',\n",
       "       'RGN', 'GNIS_ID', 'UNIT_TYPE', 'CREATED_BY', 'METADATA', 'PARKNAME',\n",
       "       'CreationDa', 'Creator', 'EditDate', 'Editor', 'Shape__Are',\n",
       "       'Shape__Len', 'Unnamed: 18'],\n",
       "      dtype='object')"
      ]
     },
     "execution_count": 61,
     "metadata": {},
     "output_type": "execute_result"
    }
   ],
   "source": [
    "# load lookup table\n",
    "park_info = pd.read_csv(\"./crash database mapping/Park_Info_Table.csv\")\n",
    "park_info = park_info.rename(columns={'UNIT_CODE':'Park','REGION':'RGN'})\n",
    "park_info.columns"
   ]
  },
  {
   "cell_type": "code",
   "execution_count": 62,
   "metadata": {},
   "outputs": [
    {
     "data": {
      "text/plain": [
       "Index(['IMARS_Record_No', 'Crash_Date_Time', 'Linked_Address_Classification',\n",
       "       'City_Town_Park_Location', 'State', 'County', 'Direction',\n",
       "       'Linked_Street_Number', 'Linked_Common_Name', 'Street_Type',\n",
       "       'Direction.1', 'NEAR_Distance_to_MI', 'NEAR_Direction_To',\n",
       "       'NEAR_Direction', 'NEAR_route_street_road_name', 'NEAR_Road_Type',\n",
       "       'NEAR_Direction.1', 'AT_Intersection_route_street_road_DIRECTION',\n",
       "       'At_Intersecting_route_street_road_name', 'AT_Road_Type',\n",
       "       'AT_Direction', 'Mile_Marker', 'Latitude', 'Longitude', 'Region',\n",
       "       'State_Zone', 'Park', 'Site', 'Place', 'Point',\n",
       "       'Road_Type_Classification', 'Linked_Address', 'index_right', 'OBJECTID',\n",
       "       'UNIT_CODE', 'GIS_Notes', 'UNIT_NAME', 'DATE_EDIT', 'STATE', 'REGION',\n",
       "       'GNIS_ID', 'UNIT_TYPE', 'CREATED_BY', 'METADATA', 'PARKNAME',\n",
       "       'CreationDate', 'Creator', 'EditDate', 'Editor', 'GlobalID',\n",
       "       'Shape__Area', 'Shape__Length'],\n",
       "      dtype='object')"
      ]
     },
     "execution_count": 62,
     "metadata": {},
     "output_type": "execute_result"
    }
   ],
   "source": [
    "imars_crash_expanded.columns"
   ]
  },
  {
   "cell_type": "code",
   "execution_count": 63,
   "metadata": {},
   "outputs": [
    {
     "data": {
      "text/plain": [
       "(12790, 52)"
      ]
     },
     "execution_count": 63,
     "metadata": {},
     "output_type": "execute_result"
    }
   ],
   "source": [
    "imars_crash_expanded.shape"
   ]
  },
  {
   "cell_type": "code",
   "execution_count": 64,
   "metadata": {},
   "outputs": [
    {
     "data": {
      "text/plain": [
       "(12790, 53)"
      ]
     },
     "execution_count": 64,
     "metadata": {},
     "output_type": "execute_result"
    }
   ],
   "source": [
    "# add RGN column from lookup table to IMARS crash database, joining the two datasets based on park name\n",
    "imars_crash_expanded = pd.merge(imars_crash_expanded, park_info[['RGN','Park']], how='left', on='Park')\n",
    "# resulting dataframe after join should have one additional column and no additional rows\n",
    "imars_crash_expanded = imars_crash_expanded.drop_duplicates() \n",
    "imars_crash_expanded.shape"
   ]
  },
  {
   "cell_type": "code",
   "execution_count": 65,
   "metadata": {},
   "outputs": [
    {
     "data": {
      "text/plain": [
       "(0, 53)"
      ]
     },
     "execution_count": 65,
     "metadata": {},
     "output_type": "execute_result"
    }
   ],
   "source": [
    "# check to see if any crashes were not assigned a region\n",
    "imars_crash_expanded.loc[imars_crash_expanded['RGN'].isnull()].shape"
   ]
  },
  {
   "cell_type": "code",
   "execution_count": 66,
   "metadata": {},
   "outputs": [],
   "source": [
    "#no_region = imars_crash_expanded.loc[imars_crash_expanded['RGN'].isnull()]\n",
    "#no_region['Park'].value_counts()"
   ]
  },
  {
   "cell_type": "code",
   "execution_count": 67,
   "metadata": {},
   "outputs": [
    {
     "data": {
      "text/plain": [
       "SER    3541\n",
       "PWR    2656\n",
       "IMR    2642\n",
       "NCR    2293\n",
       "NER    1206\n",
       "MWR     372\n",
       "AKR      80\n",
       "Name: RGN, dtype: int64"
      ]
     },
     "execution_count": 67,
     "metadata": {},
     "output_type": "execute_result"
    }
   ],
   "source": [
    "imars_crash_expanded['RGN'].value_counts()"
   ]
  },
  {
   "cell_type": "code",
   "execution_count": 68,
   "metadata": {},
   "outputs": [],
   "source": [
    "# remove partially populated pre-existing columns\n",
    "imars_crash_expanded = imars_crash_expanded.drop(columns = ['Region', 'REGION'])"
   ]
  },
  {
   "cell_type": "code",
   "execution_count": 69,
   "metadata": {},
   "outputs": [
    {
     "data": {
      "text/plain": [
       "(12790, 51)"
      ]
     },
     "execution_count": 69,
     "metadata": {},
     "output_type": "execute_result"
    }
   ],
   "source": [
    "imars_crash_expanded.shape"
   ]
  },
  {
   "cell_type": "markdown",
   "metadata": {},
   "source": [
    "# Filter for Necessary Fields, Group by IMARS_RECORD_NO"
   ]
  },
  {
   "cell_type": "markdown",
   "metadata": {},
   "source": [
    "## Passenger table"
   ]
  },
  {
   "cell_type": "code",
   "execution_count": 70,
   "metadata": {},
   "outputs": [
    {
     "data": {
      "text/plain": [
       "Index(['IMARS_Record_No', 'Crash_Date_Time', 'Driver_Action',\n",
       "       'Driver_Condition', 'Driver_Distraction', 'Suspect_Alcohol',\n",
       "       'Alcohol_Test', 'Alcohol_Test_Result_1', 'Alcohol_Test_Result_2',\n",
       "       'Suspect_Drugs', 'Drug_Test', 'Violations_Issued', 'Seat_Position',\n",
       "       'Injury_Severity', 'Air_Bag_Deployed', 'Ejection',\n",
       "       'Injury_Transported_By', 'Safety_Equipment_Used', 'Vehicle_number',\n",
       "       'Injured_transported_by', 'Non_motorist_safety_equipment',\n",
       "       'Non_motorist_action_circumstance_prior_to_crash',\n",
       "       'Non_motorist_action_circumstance_at_time_of_crash',\n",
       "       'Non_motorist_condition_at_time_of_crash', 'Non_motorist_distraction',\n",
       "       'Non_motorist_location_at_time_of_crash', 'Pedestrian_Type',\n",
       "       'Pedestrian_Type_Detail', 'Involvement'],\n",
       "      dtype='object')"
      ]
     },
     "execution_count": 70,
     "metadata": {},
     "output_type": "execute_result"
    }
   ],
   "source": [
    "imars_passenger.columns"
   ]
  },
  {
   "cell_type": "code",
   "execution_count": 71,
   "metadata": {},
   "outputs": [],
   "source": [
    "# one person per passenger data entry\n",
    "imars_passenger['NUM_OCC'] = 1\n",
    "# rename column to match CDS column name\n",
    "imars_passenger['INCID_NO'] = imars_passenger['IMARS_Record_No']"
   ]
  },
  {
   "cell_type": "code",
   "execution_count": 72,
   "metadata": {},
   "outputs": [
    {
     "data": {
      "text/plain": [
       "(27931, 31)"
      ]
     },
     "execution_count": 72,
     "metadata": {},
     "output_type": "execute_result"
    }
   ],
   "source": [
    "imars_passenger.shape"
   ]
  },
  {
   "cell_type": "code",
   "execution_count": 73,
   "metadata": {},
   "outputs": [],
   "source": [
    "imars_passenger_slim = imars_passenger[['INCID_NO', 'NUM_OCC']]"
   ]
  },
  {
   "cell_type": "code",
   "execution_count": 74,
   "metadata": {},
   "outputs": [
    {
     "data": {
      "text/plain": [
       "(27931, 2)"
      ]
     },
     "execution_count": 74,
     "metadata": {},
     "output_type": "execute_result"
    }
   ],
   "source": [
    "imars_passenger_slim.shape"
   ]
  },
  {
   "cell_type": "code",
   "execution_count": 75,
   "metadata": {},
   "outputs": [
    {
     "data": {
      "text/html": [
       "<div>\n",
       "<style scoped>\n",
       "    .dataframe tbody tr th:only-of-type {\n",
       "        vertical-align: middle;\n",
       "    }\n",
       "\n",
       "    .dataframe tbody tr th {\n",
       "        vertical-align: top;\n",
       "    }\n",
       "\n",
       "    .dataframe thead th {\n",
       "        text-align: right;\n",
       "    }\n",
       "</style>\n",
       "<table border=\"1\" class=\"dataframe\">\n",
       "  <thead>\n",
       "    <tr style=\"text-align: right;\">\n",
       "      <th></th>\n",
       "      <th>INCID_NO</th>\n",
       "      <th>NUM_OCC</th>\n",
       "    </tr>\n",
       "  </thead>\n",
       "  <tbody>\n",
       "    <tr>\n",
       "      <th>0</th>\n",
       "      <td>NP12000078</td>\n",
       "      <td>1</td>\n",
       "    </tr>\n",
       "    <tr>\n",
       "      <th>1</th>\n",
       "      <td>NP12000378</td>\n",
       "      <td>1</td>\n",
       "    </tr>\n",
       "    <tr>\n",
       "      <th>2</th>\n",
       "      <td>NP12000550</td>\n",
       "      <td>1</td>\n",
       "    </tr>\n",
       "    <tr>\n",
       "      <th>3</th>\n",
       "      <td>NP12000911</td>\n",
       "      <td>1</td>\n",
       "    </tr>\n",
       "    <tr>\n",
       "      <th>4</th>\n",
       "      <td>NP12000935</td>\n",
       "      <td>1</td>\n",
       "    </tr>\n",
       "  </tbody>\n",
       "</table>\n",
       "</div>"
      ],
      "text/plain": [
       "     INCID_NO  NUM_OCC\n",
       "0  NP12000078        1\n",
       "1  NP12000378        1\n",
       "2  NP12000550        1\n",
       "3  NP12000911        1\n",
       "4  NP12000935        1"
      ]
     },
     "execution_count": 75,
     "metadata": {},
     "output_type": "execute_result"
    }
   ],
   "source": [
    "imars_passenger_slim.head()"
   ]
  },
  {
   "cell_type": "code",
   "execution_count": 76,
   "metadata": {},
   "outputs": [
    {
     "data": {
      "text/plain": [
       "01. No injury                    13599\n",
       "02. Possible injury               1826\n",
       "03. Non-incapacitating injury     1163\n",
       "04. Incapacitating injury          486\n",
       "05. Fatal                          115\n",
       "99. Unknown                       1470\n",
       "Name: Injury_Severity, dtype: int64"
      ]
     },
     "execution_count": 76,
     "metadata": {},
     "output_type": "execute_result"
    }
   ],
   "source": [
    "imars_passenger['Injury_Severity'].value_counts().sort_index()"
   ]
  },
  {
   "cell_type": "code",
   "execution_count": 77,
   "metadata": {},
   "outputs": [
    {
     "data": {
      "text/plain": [
       "3475"
      ]
     },
     "execution_count": 77,
     "metadata": {},
     "output_type": "execute_result"
    }
   ],
   "source": [
    "# conservative estimate for total number of injuries (including possible injuries):\n",
    "1826+1163+486"
   ]
  },
  {
   "cell_type": "code",
   "execution_count": 78,
   "metadata": {},
   "outputs": [
    {
     "data": {
      "text/plain": [
       "01. Not distracted                                                      5413\n",
       "02. Talking on electronic communication device                            20\n",
       "03. Texting on electronic communication device                            17\n",
       "04. Other electronic device (navigation, DVD player, etc.)                76\n",
       "05. Other inside the vehicle (eating, personal hygiene, etc.)            166\n",
       "06. Outside the vehicle (includes unspecified external distractions)     378\n",
       "07. Unknown if distracted                                               6812\n",
       "Name: Driver_Distraction, dtype: int64"
      ]
     },
     "execution_count": 78,
     "metadata": {},
     "output_type": "execute_result"
    }
   ],
   "source": [
    "imars_passenger['Driver_Distraction'].value_counts().sort_index()"
   ]
  },
  {
   "cell_type": "code",
   "execution_count": 79,
   "metadata": {},
   "outputs": [
    {
     "data": {
      "text/plain": [
       "657"
      ]
     },
     "execution_count": 79,
     "metadata": {},
     "output_type": "execute_result"
    }
   ],
   "source": [
    "# total number of distracted motorists:\n",
    "20+17+76+166+378"
   ]
  },
  {
   "cell_type": "code",
   "execution_count": 80,
   "metadata": {},
   "outputs": [
    {
     "data": {
      "text/plain": [
       "01. Not distracted                                                        192\n",
       "02. Talking on electronic communications device                             2\n",
       "03. Texting on electronic communications device                             1\n",
       "04. Other electronic device (GPS, electronic music device, etc.)            2\n",
       "05. Other distraction (looking at scenery, eating, day-dreaming, etc.)     16\n",
       "06. Unknown if distracted                                                 221\n",
       "Name: Non_motorist_distraction, dtype: int64"
      ]
     },
     "execution_count": 80,
     "metadata": {},
     "output_type": "execute_result"
    }
   ],
   "source": [
    "imars_passenger['Non_motorist_distraction'].value_counts().sort_index()"
   ]
  },
  {
   "cell_type": "code",
   "execution_count": 81,
   "metadata": {},
   "outputs": [
    {
     "data": {
      "text/plain": [
       "21"
      ]
     },
     "execution_count": 81,
     "metadata": {},
     "output_type": "execute_result"
    }
   ],
   "source": [
    "# total number of distracted non-motorists:\n",
    "2+1+2+16"
   ]
  },
  {
   "cell_type": "code",
   "execution_count": 82,
   "metadata": {},
   "outputs": [
    {
     "name": "stderr",
     "output_type": "stream",
     "text": [
      "C:\\Users\\Sophie.Kaye\\AppData\\Local\\Temp\\ipykernel_16844\\3382737597.py:2: SettingWithCopyWarning: \n",
      "A value is trying to be set on a copy of a slice from a DataFrame.\n",
      "Try using .loc[row_indexer,col_indexer] = value instead\n",
      "\n",
      "See the caveats in the documentation: https://pandas.pydata.org/pandas-docs/stable/user_guide/indexing.html#returning-a-view-versus-a-copy\n",
      "  imars_passenger_slim['No Injury']= np.where(imars_passenger['Injury_Severity']=='01. No injury', 1,0)\n",
      "C:\\Users\\Sophie.Kaye\\AppData\\Local\\Temp\\ipykernel_16844\\3382737597.py:3: SettingWithCopyWarning: \n",
      "A value is trying to be set on a copy of a slice from a DataFrame.\n",
      "Try using .loc[row_indexer,col_indexer] = value instead\n",
      "\n",
      "See the caveats in the documentation: https://pandas.pydata.org/pandas-docs/stable/user_guide/indexing.html#returning-a-view-versus-a-copy\n",
      "  imars_passenger_slim['Possible Injury']= np.where(imars_passenger['Injury_Severity']=='02. Possible injury', 1,0)\n",
      "C:\\Users\\Sophie.Kaye\\AppData\\Local\\Temp\\ipykernel_16844\\3382737597.py:4: SettingWithCopyWarning: \n",
      "A value is trying to be set on a copy of a slice from a DataFrame.\n",
      "Try using .loc[row_indexer,col_indexer] = value instead\n",
      "\n",
      "See the caveats in the documentation: https://pandas.pydata.org/pandas-docs/stable/user_guide/indexing.html#returning-a-view-versus-a-copy\n",
      "  imars_passenger_slim['Non-incapacitating Injury']= np.where(imars_passenger['Injury_Severity']=='03. Non-incapacitating injury', 1,0)\n",
      "C:\\Users\\Sophie.Kaye\\AppData\\Local\\Temp\\ipykernel_16844\\3382737597.py:5: SettingWithCopyWarning: \n",
      "A value is trying to be set on a copy of a slice from a DataFrame.\n",
      "Try using .loc[row_indexer,col_indexer] = value instead\n",
      "\n",
      "See the caveats in the documentation: https://pandas.pydata.org/pandas-docs/stable/user_guide/indexing.html#returning-a-view-versus-a-copy\n",
      "  imars_passenger_slim['Incapacitating Injury']= np.where(imars_passenger['Injury_Severity']=='04. Incapacitating injury', 1,0)\n",
      "C:\\Users\\Sophie.Kaye\\AppData\\Local\\Temp\\ipykernel_16844\\3382737597.py:6: SettingWithCopyWarning: \n",
      "A value is trying to be set on a copy of a slice from a DataFrame.\n",
      "Try using .loc[row_indexer,col_indexer] = value instead\n",
      "\n",
      "See the caveats in the documentation: https://pandas.pydata.org/pandas-docs/stable/user_guide/indexing.html#returning-a-view-versus-a-copy\n",
      "  imars_passenger_slim['Fatality']= np.where(imars_passenger['Injury_Severity']=='05. Fatal', 1,0)\n",
      "C:\\Users\\Sophie.Kaye\\AppData\\Local\\Temp\\ipykernel_16844\\3382737597.py:7: SettingWithCopyWarning: \n",
      "A value is trying to be set on a copy of a slice from a DataFrame.\n",
      "Try using .loc[row_indexer,col_indexer] = value instead\n",
      "\n",
      "See the caveats in the documentation: https://pandas.pydata.org/pandas-docs/stable/user_guide/indexing.html#returning-a-view-versus-a-copy\n",
      "  imars_passenger_slim['Unknown Injury']= np.where(imars_passenger['Injury_Severity']=='99. Unknown', 1,0)\n",
      "C:\\Users\\Sophie.Kaye\\AppData\\Local\\Temp\\ipykernel_16844\\3382737597.py:8: SettingWithCopyWarning: \n",
      "A value is trying to be set on a copy of a slice from a DataFrame.\n",
      "Try using .loc[row_indexer,col_indexer] = value instead\n",
      "\n",
      "See the caveats in the documentation: https://pandas.pydata.org/pandas-docs/stable/user_guide/indexing.html#returning-a-view-versus-a-copy\n",
      "  imars_passenger_slim['Motorist Distraction']= np.where(imars_passenger['Driver_Distraction'].isin(['02. Talking on electronic communication device','03. Texting on electronic communication device','04. Other electronic device (navigation, DVD player, etc.)','05. Other inside the vehicle (eating, personal hygiene, etc.)','06. Outside the vehicle (includes unspecified external distractions)']), 1,0)\n",
      "C:\\Users\\Sophie.Kaye\\AppData\\Local\\Temp\\ipykernel_16844\\3382737597.py:9: SettingWithCopyWarning: \n",
      "A value is trying to be set on a copy of a slice from a DataFrame.\n",
      "Try using .loc[row_indexer,col_indexer] = value instead\n",
      "\n",
      "See the caveats in the documentation: https://pandas.pydata.org/pandas-docs/stable/user_guide/indexing.html#returning-a-view-versus-a-copy\n",
      "  imars_passenger_slim['Non-motorist Distraction']= np.where(imars_passenger['Non_motorist_distraction'].isin(['02. Talking on electronic communications device','03. Texting on electronic communications device','04. Other electronic device (GPS, electronic music device, etc.)','05. Other distraction (looking at scenery, eating, day-dreaming, etc.)']), 1,0)\n"
     ]
    }
   ],
   "source": [
    "# set flags for each injury severity\n",
    "imars_passenger_slim['No Injury']= np.where(imars_passenger['Injury_Severity']=='01. No injury', 1,0)\n",
    "imars_passenger_slim['Possible Injury']= np.where(imars_passenger['Injury_Severity']=='02. Possible injury', 1,0)\n",
    "imars_passenger_slim['Non-incapacitating Injury']= np.where(imars_passenger['Injury_Severity']=='03. Non-incapacitating injury', 1,0)\n",
    "imars_passenger_slim['Incapacitating Injury']= np.where(imars_passenger['Injury_Severity']=='04. Incapacitating injury', 1,0)\n",
    "imars_passenger_slim['Fatality']= np.where(imars_passenger['Injury_Severity']=='05. Fatal', 1,0)\n",
    "imars_passenger_slim['Unknown Injury']= np.where(imars_passenger['Injury_Severity']=='99. Unknown', 1,0)\n",
    "imars_passenger_slim['Motorist Distraction']= np.where(imars_passenger['Driver_Distraction'].isin(['02. Talking on electronic communication device','03. Texting on electronic communication device','04. Other electronic device (navigation, DVD player, etc.)','05. Other inside the vehicle (eating, personal hygiene, etc.)','06. Outside the vehicle (includes unspecified external distractions)']), 1,0)\n",
    "imars_passenger_slim['Non-motorist Distraction']= np.where(imars_passenger['Non_motorist_distraction'].isin(['02. Talking on electronic communications device','03. Texting on electronic communications device','04. Other electronic device (GPS, electronic music device, etc.)','05. Other distraction (looking at scenery, eating, day-dreaming, etc.)']), 1,0)"
   ]
  },
  {
   "cell_type": "code",
   "execution_count": 83,
   "metadata": {},
   "outputs": [
    {
     "data": {
      "text/plain": [
       "Index(['INCID_NO', 'NUM_OCC', 'No Injury', 'Possible Injury',\n",
       "       'Non-incapacitating Injury', 'Incapacitating Injury', 'Fatality',\n",
       "       'Unknown Injury', 'Motorist Distraction', 'Non-motorist Distraction'],\n",
       "      dtype='object')"
      ]
     },
     "execution_count": 83,
     "metadata": {},
     "output_type": "execute_result"
    }
   ],
   "source": [
    "imars_passenger_slim.columns"
   ]
  },
  {
   "cell_type": "code",
   "execution_count": 84,
   "metadata": {},
   "outputs": [
    {
     "data": {
      "text/plain": [
       "657"
      ]
     },
     "execution_count": 84,
     "metadata": {},
     "output_type": "execute_result"
    }
   ],
   "source": [
    "# check new flag column against sum of distracted motorist attributes - looks good!\n",
    "imars_passenger_slim['Motorist Distraction'].sum()"
   ]
  },
  {
   "cell_type": "code",
   "execution_count": 85,
   "metadata": {},
   "outputs": [
    {
     "data": {
      "text/plain": [
       "21"
      ]
     },
     "execution_count": 85,
     "metadata": {},
     "output_type": "execute_result"
    }
   ],
   "source": [
    "# check new flag column against sum of distracted non-motorist attributes - looks good!\n",
    "imars_passenger_slim['Non-motorist Distraction'].sum()"
   ]
  },
  {
   "cell_type": "code",
   "execution_count": 86,
   "metadata": {},
   "outputs": [],
   "source": [
    "# make sure all columns contain data as you would expect (i.e., 0 and 1)\n",
    "#imars_passenger_slim.to_csv(\"./imars_passenger_slim_test.csv\",index=False)"
   ]
  },
  {
   "cell_type": "code",
   "execution_count": 87,
   "metadata": {},
   "outputs": [
    {
     "name": "stderr",
     "output_type": "stream",
     "text": [
      "C:\\Users\\Sophie.Kaye\\AppData\\Local\\Temp\\ipykernel_16844\\2522495248.py:2: SettingWithCopyWarning: \n",
      "A value is trying to be set on a copy of a slice from a DataFrame.\n",
      "Try using .loc[row_indexer,col_indexer] = value instead\n",
      "\n",
      "See the caveats in the documentation: https://pandas.pydata.org/pandas-docs/stable/user_guide/indexing.html#returning-a-view-versus-a-copy\n",
      "  imars_passenger_slim['Num_Fatalities'] = imars_passenger_slim['Fatality']\n"
     ]
    },
    {
     "data": {
      "text/plain": [
       "115"
      ]
     },
     "execution_count": 87,
     "metadata": {},
     "output_type": "execute_result"
    }
   ],
   "source": [
    "# create new column for number of fatalities to match CDS\n",
    "imars_passenger_slim['Num_Fatalities'] = imars_passenger_slim['Fatality']\n",
    "# check to make sure this matches the value count from above - looks good!\n",
    "imars_passenger_slim['Num_Fatalities'].sum()"
   ]
  },
  {
   "cell_type": "code",
   "execution_count": 88,
   "metadata": {
    "scrolled": true
   },
   "outputs": [
    {
     "name": "stderr",
     "output_type": "stream",
     "text": [
      "C:\\Users\\Sophie.Kaye\\AppData\\Local\\Temp\\ipykernel_16844\\2008462746.py:2: SettingWithCopyWarning: \n",
      "A value is trying to be set on a copy of a slice from a DataFrame.\n",
      "Try using .loc[row_indexer,col_indexer] = value instead\n",
      "\n",
      "See the caveats in the documentation: https://pandas.pydata.org/pandas-docs/stable/user_guide/indexing.html#returning-a-view-versus-a-copy\n",
      "  imars_passenger_slim['Num_Injuries']=imars_passenger_slim['Possible Injury']+imars_passenger_slim['Non-incapacitating Injury']+imars_passenger_slim['Incapacitating Injury']\n"
     ]
    },
    {
     "data": {
      "text/plain": [
       "3475"
      ]
     },
     "execution_count": 88,
     "metadata": {},
     "output_type": "execute_result"
    }
   ],
   "source": [
    "# create new column for number of injuries to match CDS\n",
    "imars_passenger_slim['Num_Injuries']=imars_passenger_slim['Possible Injury']+imars_passenger_slim['Non-incapacitating Injury']+imars_passenger_slim['Incapacitating Injury']\n",
    "# check to make sure this matches the value count sum from above - looks good!\n",
    "imars_passenger_slim['Num_Injuries'].sum()"
   ]
  },
  {
   "cell_type": "code",
   "execution_count": 89,
   "metadata": {},
   "outputs": [
    {
     "data": {
      "text/html": [
       "<div>\n",
       "<style scoped>\n",
       "    .dataframe tbody tr th:only-of-type {\n",
       "        vertical-align: middle;\n",
       "    }\n",
       "\n",
       "    .dataframe tbody tr th {\n",
       "        vertical-align: top;\n",
       "    }\n",
       "\n",
       "    .dataframe thead th {\n",
       "        text-align: right;\n",
       "    }\n",
       "</style>\n",
       "<table border=\"1\" class=\"dataframe\">\n",
       "  <thead>\n",
       "    <tr style=\"text-align: right;\">\n",
       "      <th></th>\n",
       "      <th>INCID_NO</th>\n",
       "      <th>NUM_OCC</th>\n",
       "      <th>No Injury</th>\n",
       "      <th>Possible Injury</th>\n",
       "      <th>Non-incapacitating Injury</th>\n",
       "      <th>Incapacitating Injury</th>\n",
       "      <th>Fatality</th>\n",
       "      <th>Unknown Injury</th>\n",
       "      <th>Motorist Distraction</th>\n",
       "      <th>Non-motorist Distraction</th>\n",
       "      <th>Num_Fatalities</th>\n",
       "      <th>Num_Injuries</th>\n",
       "    </tr>\n",
       "  </thead>\n",
       "  <tbody>\n",
       "    <tr>\n",
       "      <th>0</th>\n",
       "      <td>NP12000078</td>\n",
       "      <td>1</td>\n",
       "      <td>0</td>\n",
       "      <td>0</td>\n",
       "      <td>0</td>\n",
       "      <td>0</td>\n",
       "      <td>0</td>\n",
       "      <td>0</td>\n",
       "      <td>0</td>\n",
       "      <td>0</td>\n",
       "      <td>0</td>\n",
       "      <td>0</td>\n",
       "    </tr>\n",
       "    <tr>\n",
       "      <th>1</th>\n",
       "      <td>NP12000378</td>\n",
       "      <td>1</td>\n",
       "      <td>0</td>\n",
       "      <td>0</td>\n",
       "      <td>0</td>\n",
       "      <td>0</td>\n",
       "      <td>0</td>\n",
       "      <td>0</td>\n",
       "      <td>0</td>\n",
       "      <td>0</td>\n",
       "      <td>0</td>\n",
       "      <td>0</td>\n",
       "    </tr>\n",
       "    <tr>\n",
       "      <th>2</th>\n",
       "      <td>NP12000550</td>\n",
       "      <td>1</td>\n",
       "      <td>0</td>\n",
       "      <td>0</td>\n",
       "      <td>0</td>\n",
       "      <td>0</td>\n",
       "      <td>0</td>\n",
       "      <td>0</td>\n",
       "      <td>0</td>\n",
       "      <td>0</td>\n",
       "      <td>0</td>\n",
       "      <td>0</td>\n",
       "    </tr>\n",
       "    <tr>\n",
       "      <th>3</th>\n",
       "      <td>NP12000911</td>\n",
       "      <td>1</td>\n",
       "      <td>0</td>\n",
       "      <td>0</td>\n",
       "      <td>0</td>\n",
       "      <td>0</td>\n",
       "      <td>0</td>\n",
       "      <td>0</td>\n",
       "      <td>0</td>\n",
       "      <td>0</td>\n",
       "      <td>0</td>\n",
       "      <td>0</td>\n",
       "    </tr>\n",
       "    <tr>\n",
       "      <th>4</th>\n",
       "      <td>NP12000935</td>\n",
       "      <td>1</td>\n",
       "      <td>0</td>\n",
       "      <td>0</td>\n",
       "      <td>0</td>\n",
       "      <td>0</td>\n",
       "      <td>0</td>\n",
       "      <td>0</td>\n",
       "      <td>0</td>\n",
       "      <td>0</td>\n",
       "      <td>0</td>\n",
       "      <td>0</td>\n",
       "    </tr>\n",
       "  </tbody>\n",
       "</table>\n",
       "</div>"
      ],
      "text/plain": [
       "     INCID_NO  NUM_OCC  No Injury  Possible Injury  Non-incapacitating Injury  \\\n",
       "0  NP12000078        1          0                0                          0   \n",
       "1  NP12000378        1          0                0                          0   \n",
       "2  NP12000550        1          0                0                          0   \n",
       "3  NP12000911        1          0                0                          0   \n",
       "4  NP12000935        1          0                0                          0   \n",
       "\n",
       "   Incapacitating Injury  Fatality  Unknown Injury  Motorist Distraction  \\\n",
       "0                      0         0               0                     0   \n",
       "1                      0         0               0                     0   \n",
       "2                      0         0               0                     0   \n",
       "3                      0         0               0                     0   \n",
       "4                      0         0               0                     0   \n",
       "\n",
       "   Non-motorist Distraction  Num_Fatalities  Num_Injuries  \n",
       "0                         0               0             0  \n",
       "1                         0               0             0  \n",
       "2                         0               0             0  \n",
       "3                         0               0             0  \n",
       "4                         0               0             0  "
      ]
     },
     "execution_count": 89,
     "metadata": {},
     "output_type": "execute_result"
    }
   ],
   "source": [
    "imars_passenger_slim.head()"
   ]
  },
  {
   "cell_type": "code",
   "execution_count": 90,
   "metadata": {},
   "outputs": [
    {
     "data": {
      "text/plain": [
       "(27931, 12)"
      ]
     },
     "execution_count": 90,
     "metadata": {},
     "output_type": "execute_result"
    }
   ],
   "source": [
    "imars_passenger_slim.shape"
   ]
  },
  {
   "cell_type": "code",
   "execution_count": 91,
   "metadata": {},
   "outputs": [],
   "source": [
    "# collapse multiple rows for each person involved in the crash into a single row for each crash\n",
    "# occupancy, injuries, and fatalities should be summed as total numbers per crash (\"sum\" function)\n",
    "# only one distraction flag should exist per crash to not double count data attribute (\"first\" function)\n",
    "imars_passenger_slim_agg = imars_passenger_slim.groupby(by=['INCID_NO']).agg({'NUM_OCC':'sum','No Injury':'sum','Possible Injury':'sum','Non-incapacitating Injury':'sum','Incapacitating Injury':'sum','Fatality':'sum','Unknown Injury':'sum','Motorist Distraction':'first','Non-motorist Distraction':'first','Num_Fatalities':'sum','Num_Injuries':'sum'}).reset_index()"
   ]
  },
  {
   "cell_type": "code",
   "execution_count": 92,
   "metadata": {},
   "outputs": [
    {
     "data": {
      "text/plain": [
       "(15302, 12)"
      ]
     },
     "execution_count": 92,
     "metadata": {},
     "output_type": "execute_result"
    }
   ],
   "source": [
    "# result should be no more than 15302 rows (number of useable crash records)\n",
    "imars_passenger_slim_agg.shape"
   ]
  },
  {
   "cell_type": "markdown",
   "metadata": {},
   "source": [
    "## Crash Details Table"
   ]
  },
  {
   "cell_type": "code",
   "execution_count": 93,
   "metadata": {},
   "outputs": [],
   "source": [
    "# rename column to match CDS column name\n",
    "imars_crash_details['INCID_NO'] = imars_crash_details['IMARS_Record_No']\n",
    "\n",
    "imars_crash_details_slim = imars_crash_details[['INCID_NO']]"
   ]
  },
  {
   "cell_type": "code",
   "execution_count": 94,
   "metadata": {},
   "outputs": [],
   "source": [
    "# find relevant data attributes in the following columns for which to create flags"
   ]
  },
  {
   "cell_type": "code",
   "execution_count": 95,
   "metadata": {},
   "outputs": [
    {
     "data": {
      "text/plain": [
       "01. Yes    2112\n",
       "02. No     8842\n",
       "Name: Injury_or_Fatal_Crash, dtype: int64"
      ]
     },
     "execution_count": 95,
     "metadata": {},
     "output_type": "execute_result"
    }
   ],
   "source": [
    "imars_crash_details['Injury_or_Fatal_Crash'].value_counts().sort_index()"
   ]
  },
  {
   "cell_type": "code",
   "execution_count": 96,
   "metadata": {},
   "outputs": [
    {
     "data": {
      "text/plain": [
       "Collision with animals                           1376\n",
       "Collision with fixed object                      3990\n",
       "Collision with person, MV or non-fixed object    6869\n",
       "Non-collision                                    1897\n",
       "Unknown                                           413\n",
       "Name: First_Harmful_Event_Type, dtype: int64"
      ]
     },
     "execution_count": 96,
     "metadata": {},
     "output_type": "execute_result"
    }
   ],
   "source": [
    "imars_crash_details['First_Harmful_Event_Type'].value_counts().sort_index()"
   ]
  },
  {
   "cell_type": "code",
   "execution_count": 97,
   "metadata": {},
   "outputs": [
    {
     "data": {
      "text/plain": [
       "01. Overturn/rollover                                                     271\n",
       "02. Fire/explosion                                                         18\n",
       "03. Immersion                                                               9\n",
       "04. Jackknife                                                               8\n",
       "05. Cargo/equipment loss or shift                                          10\n",
       "06. Separation of units                                                     8\n",
       "07. Ran off the road right                                                797\n",
       "08. Ran Off the road left                                                 259\n",
       "09. Cross median or centerline                                             98\n",
       "10. Downhill runaway                                                       22\n",
       "11. Fell/jumped from motor vehicle                                         32\n",
       "12. Avoiding an object on road                                             53\n",
       "13. Avoiding an animal on road                                             56\n",
       "14. Thrown or falling object                                               47\n",
       "16. Other non-collision                                                   278\n",
       "17. Pedestrian                                                             71\n",
       "18. Bicycle                                                               103\n",
       "19. Other pedacycle                                                         1\n",
       "20. Railway vehicle                                                         6\n",
       "21. Motor vehicle in transport                                           4829\n",
       "22. Parked motor vehicle                                                 1422\n",
       "23. Struck by falling, shifting cargo or anything set in motion by MV      27\n",
       "24. Work zone/maintenance equipment                                        30\n",
       "25. Other non-fixed object                                                345\n",
       "26. Horse/llama                                                            15\n",
       "27. Cow                                                                     6\n",
       "28. Deer                                                                  922\n",
       "29. Elk                                                                   118\n",
       "30. Moose                                                                   9\n",
       "31. Buffalo                                                               150\n",
       "32. Bear                                                                  101\n",
       "33. Antelope                                                                9\n",
       "34. Sheep/goats                                                            13\n",
       "36. Other wild animal (crocodile, birds, coyote, etc.)                     26\n",
       "37. Other domestic (dog, cat, etc.)                                         5\n",
       "38. Impact attenuator/crash cushion                                        20\n",
       "39. Bridge overhead structure                                              22\n",
       "40. Bridge pier or support                                                  9\n",
       "41. Bridge rail                                                            42\n",
       "42. Cable barrier                                                           3\n",
       "43. End of drainage pipe/structure/culvert                                 44\n",
       "44. Median/curb                                                           148\n",
       "45. Ditch                                                                 242\n",
       "46. Earth embankment/berm                                                 325\n",
       "47. Guardrail/cable face                                                   80\n",
       "48. Guardrail/cable end                                                    21\n",
       "49. Guardrail/concrete traffic barrier                                    132\n",
       "50. Wall                                                                  149\n",
       "51. Other traffic barrier/barricade                                       182\n",
       "52. Tree/shrub                                                           1233\n",
       "53. Utility pole/light support                                             55\n",
       "54. Traffic sign support                                                  149\n",
       "55. Traffic signal support                                                  4\n",
       "56. Overhead traffic sign                                                   3\n",
       "57. Fence (including post)                                                 73\n",
       "58. Mailbox                                                                 2\n",
       "59. Building                                                               87\n",
       "60. Rock, boulder, rock slide                                             341\n",
       "61. Tunnel                                                                 25\n",
       "62. Snow embankment                                                        49\n",
       "64. Delineator                                                              7\n",
       "65. Other post, pole or support                                           191\n",
       "66. Other fixed object                                                    331\n",
       "99. Unknown                                                               411\n",
       "Name: First_Harmful_Event, dtype: int64"
      ]
     },
     "execution_count": 97,
     "metadata": {},
     "output_type": "execute_result"
    }
   ],
   "source": [
    "pd.options.display.max_rows = 10000000\n",
    "imars_crash_details['First_Harmful_Event'].value_counts().sort_index()"
   ]
  },
  {
   "cell_type": "code",
   "execution_count": 160,
   "metadata": {},
   "outputs": [
    {
     "data": {
      "text/plain": [
       "1056"
      ]
     },
     "execution_count": 160,
     "metadata": {},
     "output_type": "execute_result"
    }
   ],
   "source": [
    "# total roadway departure crashes (right and left):\n",
    "797+259"
   ]
  },
  {
   "cell_type": "code",
   "execution_count": 161,
   "metadata": {},
   "outputs": [
    {
     "data": {
      "text/plain": [
       "175"
      ]
     },
     "execution_count": 161,
     "metadata": {},
     "output_type": "execute_result"
    }
   ],
   "source": [
    "# total VRU crashes (pedestrian, bike, and pedacycle):\n",
    "71+103+1"
   ]
  },
  {
   "cell_type": "code",
   "execution_count": 164,
   "metadata": {},
   "outputs": [
    {
     "data": {
      "text/plain": [
       "57"
      ]
     },
     "execution_count": 164,
     "metadata": {},
     "output_type": "execute_result"
    }
   ],
   "source": [
    "# total \"other accident class\" crashes (i.e., cargo and maintenance equipment)\n",
    "27+30"
   ]
  },
  {
   "cell_type": "code",
   "execution_count": 162,
   "metadata": {},
   "outputs": [
    {
     "data": {
      "text/plain": [
       "01. None                                                                                    10032\n",
       "01. None; 02. Weather                                                                           3\n",
       "01. None; 03. Physical obstruction(s) (trees, bushes, etc.)                                     3\n",
       "01. None; 05. Glare                                                                             1\n",
       "01. None; 06. Animal(s) in roadway                                                              9\n",
       "01. None; 06. Animal(s) in roadway; 99. Unknown                                                 1\n",
       "01. None; 07. Other                                                                             6\n",
       "01. None; 07. Other; 99. Unknown                                                                1\n",
       "01. None; 99. Unknown                                                                          19\n",
       "02. Weather                                                                                  1270\n",
       "02. Weather; 03. Physical obstruction(s) (trees, bushes, etc.)                                 86\n",
       "02. Weather; 03. Physical obstruction(s) (trees, bushes, etc.); 04. Rockfall                    1\n",
       "02. Weather; 03. Physical obstruction(s) (trees, bushes, etc.); 06. Animal(s) in roadway        1\n",
       "02. Weather; 03. Physical obstruction(s) (trees, bushes, etc.); 07. Other                       1\n",
       "02. Weather; 04. Rockfall                                                                       5\n",
       "02. Weather; 05. Glare                                                                         13\n",
       "02. Weather; 05. Glare; 06. Animal(s) in roadway                                                1\n",
       "02. Weather; 06. Animal(s) in roadway                                                          50\n",
       "02. Weather; 06. Animal(s) in roadway; 07. Other                                                3\n",
       "02. Weather; 06. Animal(s) in roadway; 99. Unknown                                              1\n",
       "02. Weather; 07. Other                                                                         56\n",
       "02. Weather; 07. Other; 99. Unknown                                                             1\n",
       "02. Weather; 99. Unknown                                                                        9\n",
       "03. Physical obstruction(s) (trees, bushes, etc.)                                             239\n",
       "03. Physical obstruction(s) (trees, bushes, etc.); 04. Rockfall                                 2\n",
       "03. Physical obstruction(s) (trees, bushes, etc.); 05. Glare                                    6\n",
       "03. Physical obstruction(s) (trees, bushes, etc.); 05. Glare; 06. Animal(s) in roadway          1\n",
       "03. Physical obstruction(s) (trees, bushes, etc.); 06. Animal(s) in roadway                    17\n",
       "03. Physical obstruction(s) (trees, bushes, etc.); 07. Other                                    9\n",
       "03. Physical obstruction(s) (trees, bushes, etc.); 07. Other; 99. Unknown                       1\n",
       "03. Physical obstruction(s) (trees, bushes, etc.); 99. Unknown                                  2\n",
       "04. Rockfall                                                                                   35\n",
       "04. Rockfall; 07. Other                                                                         1\n",
       "05. Glare                                                                                      88\n",
       "05. Glare; 06. Animal(s) in roadway                                                            11\n",
       "05. Glare; 07. Other                                                                            4\n",
       "05. Glare; 07. Other; 99. Unknown                                                               1\n",
       "06. Animal(s) in roadway                                                                      974\n",
       "06. Animal(s) in roadway; 07. Other                                                             3\n",
       "06. Animal(s) in roadway; 07. Other; 99. Unknown                                                2\n",
       "06. Animal(s) in roadway; 99. Unknown                                                           7\n",
       "07. Other                                                                                     229\n",
       "07. Other; 99. Unknown                                                                          2\n",
       "99. Unknown                                                                                   595\n",
       "Name: Environmental_Contributing_Circumstances, dtype: int64"
      ]
     },
     "execution_count": 162,
     "metadata": {},
     "output_type": "execute_result"
    }
   ],
   "source": [
    "imars_crash_details['Environmental_Contributing_Circumstances'].value_counts().sort_index()"
   ]
  },
  {
   "cell_type": "code",
   "execution_count": 170,
   "metadata": {},
   "outputs": [],
   "source": [
    "#pd.options.mode.chained_assignment = None  # default='warn'\n",
    "# set flags for each relevant data attribute\n",
    "imars_crash_details_slim['Injury or Fatal']= np.where(imars_crash_details['Injury_or_Fatal_Crash']==\"01. Yes\", 1,0)\n",
    "imars_crash_details_slim['Collision w Animal']= np.where(imars_crash_details['First_Harmful_Event_Type']==\"Collision with animals\", 1,0)\n",
    "imars_crash_details_slim['Collision w Fixed Object']= np.where(imars_crash_details['First_Harmful_Event_Type']==\"Collision with fixed object\", 1,0)\n",
    "imars_crash_details_slim['Non-Collision']= np.where(imars_crash_details['First_Harmful_Event_Type']==\"Non-collision\", 1,0)\n",
    "imars_crash_details_slim['Other Accident Class']= np.where(imars_crash_details['First_Harmful_Event'].isin(['23. Struck by falling, shifting cargo or anything set in motion by MV','24. Work zone/maintenance equipment']), 1,0)\n",
    "imars_crash_details_slim['Rollover']= np.where(imars_crash_details['First_Harmful_Event']==\"01. Overturn/rollover\", 1,0)\n",
    "imars_crash_details_slim['Collision w Other Vehicle']= np.where(imars_crash_details['First_Harmful_Event']=='21. Motor vehicle in transport', 1,0)\n",
    "imars_crash_details_slim['Collision w Parked Vehicle']= np.where(imars_crash_details['First_Harmful_Event']==\"22. Parked motor vehicle\", 1,0)\n",
    "imars_crash_details_slim['Collision w Train']= np.where(imars_crash_details['First_Harmful_Event']==\"20. Railway vehicle\", 1,0)\n",
    "imars_crash_details_slim['Collision w Other Object']= np.where(imars_crash_details['First_Harmful_Event']==\"25. Other non-fixed object\", 1,0)\n",
    "imars_crash_details_slim['Collision w Unknown']= np.where(imars_crash_details['First_Harmful_Event_Type']==\"Unknown\",1,0)\n",
    "imars_crash_details_slim['Roadway Departure']= np.where(imars_crash_details['First_Harmful_Event'].isin(['07. Ran off the road right','08. Ran Off the road left']), 1,0)\n",
    "imars_crash_details_slim['Avoiding Animal']= np.where(imars_crash_details['First_Harmful_Event']==\"13. Avoiding an animal on road\", 1,0)\n",
    "imars_crash_details_slim['Falling Object']= np.where(imars_crash_details['First_Harmful_Event']==\"14. Thrown or falling object\", 1,0)\n",
    "imars_crash_details_slim['Pedestrian']= np.where(imars_crash_details['First_Harmful_Event']==\"17. Pedestrian\", 1,0)\n",
    "imars_crash_details_slim['Bicycle']= np.where(imars_crash_details['First_Harmful_Event']==\"18. Bicycle\", 1,0)\n",
    "imars_crash_details_slim['Pedacycle']= np.where(imars_crash_details['First_Harmful_Event']==\"19. Other pedacycle\", 1,0)\n",
    "imars_crash_details_slim['VRU']= np.where(imars_crash_details['First_Harmful_Event'].isin(['17. Pedestrian','18. Bicycle','19. Other pedacycle']), 1,0)\n",
    "imars_crash_details_slim['HorseLlama']= np.where(imars_crash_details['First_Harmful_Event']==\"26. Horse/llama\", 1,0)\n",
    "imars_crash_details_slim['Cow']= np.where(imars_crash_details['First_Harmful_Event']==\"27. Cow\", 1,0)\n",
    "imars_crash_details_slim['Deer']= np.where(imars_crash_details['First_Harmful_Event']==\"28. Deer\", 1,0)\n",
    "imars_crash_details_slim['Elk']= np.where(imars_crash_details['First_Harmful_Event']==\"29. Elk\", 1,0)\n",
    "imars_crash_details_slim['Moose']= np.where(imars_crash_details['First_Harmful_Event']==\"30. Moose\", 1,0)\n",
    "imars_crash_details_slim['Buffalo']= np.where(imars_crash_details['First_Harmful_Event']==\"31. Buffalo\", 1,0)\n",
    "imars_crash_details_slim['Bear']= np.where(imars_crash_details['First_Harmful_Event']==\"32. Bear\", 1,0)\n",
    "imars_crash_details_slim['Antelope']= np.where(imars_crash_details['First_Harmful_Event']==\"33. Antelope\", 1,0)\n",
    "imars_crash_details_slim['SheepGoats']= np.where(imars_crash_details['First_Harmful_Event']==\"34. Sheep/goats\", 1,0)\n",
    "imars_crash_details_slim['OtherWild']= np.where(imars_crash_details['First_Harmful_Event']==\"36. Other wild animal (crocodile, birds, coyote, etc.)\", 1,0)\n",
    "imars_crash_details_slim['OtherDomestic']= np.where(imars_crash_details['First_Harmful_Event']=='37. Other domestic (dog, cat, etc.)', 1,0)\n",
    "imars_crash_details_slim['Rock in Roadway']= np.where(imars_crash_details['First_Harmful_Event']=='60. Rock, boulder, rock slide', 1,0)\n",
    "imars_crash_details_slim['Animal in Roadway']= np.where(imars_crash_details['Environmental_Contributing_Circumstances'].str.contains(\"Animal\")==True, 1,0)\n",
    "imars_crash_details_slim['Rockfall']= np.where(imars_crash_details['Environmental_Contributing_Circumstances'].str.contains(\"Rockfall\")==True, 1,0)"
   ]
  },
  {
   "cell_type": "code",
   "execution_count": 171,
   "metadata": {},
   "outputs": [
    {
     "data": {
      "text/html": [
       "<div>\n",
       "<style scoped>\n",
       "    .dataframe tbody tr th:only-of-type {\n",
       "        vertical-align: middle;\n",
       "    }\n",
       "\n",
       "    .dataframe tbody tr th {\n",
       "        vertical-align: top;\n",
       "    }\n",
       "\n",
       "    .dataframe thead th {\n",
       "        text-align: right;\n",
       "    }\n",
       "</style>\n",
       "<table border=\"1\" class=\"dataframe\">\n",
       "  <thead>\n",
       "    <tr style=\"text-align: right;\">\n",
       "      <th></th>\n",
       "      <th>INCID_NO</th>\n",
       "      <th>Injury or Fatal</th>\n",
       "      <th>Collision w Animal</th>\n",
       "      <th>Collision w Fixed Object</th>\n",
       "      <th>Non-Collision</th>\n",
       "      <th>Other Accident Class</th>\n",
       "      <th>Rollover</th>\n",
       "      <th>Collision w Other Vehicle</th>\n",
       "      <th>Collision w Parked Vehicle</th>\n",
       "      <th>Collision w Train</th>\n",
       "      <th>Collision w Other Object</th>\n",
       "      <th>Collision w Unknown</th>\n",
       "      <th>Roadway Departure</th>\n",
       "      <th>Avoiding Animal</th>\n",
       "      <th>Falling Object</th>\n",
       "      <th>Pedestrian</th>\n",
       "      <th>Bicycle</th>\n",
       "      <th>Pedacycle</th>\n",
       "      <th>VRU</th>\n",
       "      <th>HorseLlama</th>\n",
       "      <th>Cow</th>\n",
       "      <th>Deer</th>\n",
       "      <th>Elk</th>\n",
       "      <th>Moose</th>\n",
       "      <th>Buffalo</th>\n",
       "      <th>Bear</th>\n",
       "      <th>Antelope</th>\n",
       "      <th>SheepGoats</th>\n",
       "      <th>OtherWild</th>\n",
       "      <th>OtherDomestic</th>\n",
       "      <th>Rock in Roadway</th>\n",
       "      <th>Animal in Roadway</th>\n",
       "      <th>Rockfall</th>\n",
       "    </tr>\n",
       "  </thead>\n",
       "  <tbody>\n",
       "    <tr>\n",
       "      <th>0</th>\n",
       "      <td>NP12000078</td>\n",
       "      <td>0</td>\n",
       "      <td>0</td>\n",
       "      <td>0</td>\n",
       "      <td>0</td>\n",
       "      <td>0</td>\n",
       "      <td>0</td>\n",
       "      <td>0</td>\n",
       "      <td>0</td>\n",
       "      <td>0</td>\n",
       "      <td>0</td>\n",
       "      <td>0</td>\n",
       "      <td>0</td>\n",
       "      <td>0</td>\n",
       "      <td>0</td>\n",
       "      <td>0</td>\n",
       "      <td>0</td>\n",
       "      <td>0</td>\n",
       "      <td>0</td>\n",
       "      <td>0</td>\n",
       "      <td>0</td>\n",
       "      <td>0</td>\n",
       "      <td>0</td>\n",
       "      <td>0</td>\n",
       "      <td>0</td>\n",
       "      <td>0</td>\n",
       "      <td>0</td>\n",
       "      <td>0</td>\n",
       "      <td>0</td>\n",
       "      <td>0</td>\n",
       "      <td>0</td>\n",
       "      <td>0</td>\n",
       "      <td>0</td>\n",
       "    </tr>\n",
       "    <tr>\n",
       "      <th>1</th>\n",
       "      <td>NP12000378</td>\n",
       "      <td>0</td>\n",
       "      <td>0</td>\n",
       "      <td>0</td>\n",
       "      <td>0</td>\n",
       "      <td>0</td>\n",
       "      <td>0</td>\n",
       "      <td>0</td>\n",
       "      <td>0</td>\n",
       "      <td>0</td>\n",
       "      <td>0</td>\n",
       "      <td>0</td>\n",
       "      <td>0</td>\n",
       "      <td>0</td>\n",
       "      <td>0</td>\n",
       "      <td>0</td>\n",
       "      <td>0</td>\n",
       "      <td>0</td>\n",
       "      <td>0</td>\n",
       "      <td>0</td>\n",
       "      <td>0</td>\n",
       "      <td>0</td>\n",
       "      <td>0</td>\n",
       "      <td>0</td>\n",
       "      <td>0</td>\n",
       "      <td>0</td>\n",
       "      <td>0</td>\n",
       "      <td>0</td>\n",
       "      <td>0</td>\n",
       "      <td>0</td>\n",
       "      <td>0</td>\n",
       "      <td>0</td>\n",
       "      <td>0</td>\n",
       "    </tr>\n",
       "    <tr>\n",
       "      <th>2</th>\n",
       "      <td>NP12000550</td>\n",
       "      <td>0</td>\n",
       "      <td>0</td>\n",
       "      <td>0</td>\n",
       "      <td>0</td>\n",
       "      <td>0</td>\n",
       "      <td>0</td>\n",
       "      <td>0</td>\n",
       "      <td>0</td>\n",
       "      <td>0</td>\n",
       "      <td>0</td>\n",
       "      <td>0</td>\n",
       "      <td>0</td>\n",
       "      <td>0</td>\n",
       "      <td>0</td>\n",
       "      <td>0</td>\n",
       "      <td>0</td>\n",
       "      <td>0</td>\n",
       "      <td>0</td>\n",
       "      <td>0</td>\n",
       "      <td>0</td>\n",
       "      <td>0</td>\n",
       "      <td>0</td>\n",
       "      <td>0</td>\n",
       "      <td>0</td>\n",
       "      <td>0</td>\n",
       "      <td>0</td>\n",
       "      <td>0</td>\n",
       "      <td>0</td>\n",
       "      <td>0</td>\n",
       "      <td>0</td>\n",
       "      <td>0</td>\n",
       "      <td>0</td>\n",
       "    </tr>\n",
       "    <tr>\n",
       "      <th>3</th>\n",
       "      <td>NP12000911</td>\n",
       "      <td>0</td>\n",
       "      <td>0</td>\n",
       "      <td>0</td>\n",
       "      <td>0</td>\n",
       "      <td>0</td>\n",
       "      <td>0</td>\n",
       "      <td>0</td>\n",
       "      <td>0</td>\n",
       "      <td>0</td>\n",
       "      <td>0</td>\n",
       "      <td>0</td>\n",
       "      <td>0</td>\n",
       "      <td>0</td>\n",
       "      <td>0</td>\n",
       "      <td>0</td>\n",
       "      <td>0</td>\n",
       "      <td>0</td>\n",
       "      <td>0</td>\n",
       "      <td>0</td>\n",
       "      <td>0</td>\n",
       "      <td>0</td>\n",
       "      <td>0</td>\n",
       "      <td>0</td>\n",
       "      <td>0</td>\n",
       "      <td>0</td>\n",
       "      <td>0</td>\n",
       "      <td>0</td>\n",
       "      <td>0</td>\n",
       "      <td>0</td>\n",
       "      <td>0</td>\n",
       "      <td>0</td>\n",
       "      <td>0</td>\n",
       "    </tr>\n",
       "    <tr>\n",
       "      <th>4</th>\n",
       "      <td>NP12000935</td>\n",
       "      <td>0</td>\n",
       "      <td>0</td>\n",
       "      <td>0</td>\n",
       "      <td>0</td>\n",
       "      <td>0</td>\n",
       "      <td>0</td>\n",
       "      <td>0</td>\n",
       "      <td>0</td>\n",
       "      <td>0</td>\n",
       "      <td>0</td>\n",
       "      <td>0</td>\n",
       "      <td>0</td>\n",
       "      <td>0</td>\n",
       "      <td>0</td>\n",
       "      <td>0</td>\n",
       "      <td>0</td>\n",
       "      <td>0</td>\n",
       "      <td>0</td>\n",
       "      <td>0</td>\n",
       "      <td>0</td>\n",
       "      <td>0</td>\n",
       "      <td>0</td>\n",
       "      <td>0</td>\n",
       "      <td>0</td>\n",
       "      <td>0</td>\n",
       "      <td>0</td>\n",
       "      <td>0</td>\n",
       "      <td>0</td>\n",
       "      <td>0</td>\n",
       "      <td>0</td>\n",
       "      <td>0</td>\n",
       "      <td>0</td>\n",
       "    </tr>\n",
       "  </tbody>\n",
       "</table>\n",
       "</div>"
      ],
      "text/plain": [
       "     INCID_NO  Injury or Fatal  Collision w Animal  Collision w Fixed Object  \\\n",
       "0  NP12000078                0                   0                         0   \n",
       "1  NP12000378                0                   0                         0   \n",
       "2  NP12000550                0                   0                         0   \n",
       "3  NP12000911                0                   0                         0   \n",
       "4  NP12000935                0                   0                         0   \n",
       "\n",
       "   Non-Collision  Other Accident Class  Rollover  Collision w Other Vehicle  \\\n",
       "0              0                     0         0                          0   \n",
       "1              0                     0         0                          0   \n",
       "2              0                     0         0                          0   \n",
       "3              0                     0         0                          0   \n",
       "4              0                     0         0                          0   \n",
       "\n",
       "   Collision w Parked Vehicle  Collision w Train  Collision w Other Object  \\\n",
       "0                           0                  0                         0   \n",
       "1                           0                  0                         0   \n",
       "2                           0                  0                         0   \n",
       "3                           0                  0                         0   \n",
       "4                           0                  0                         0   \n",
       "\n",
       "   Collision w Unknown  Roadway Departure  Avoiding Animal  Falling Object  \\\n",
       "0                    0                  0                0               0   \n",
       "1                    0                  0                0               0   \n",
       "2                    0                  0                0               0   \n",
       "3                    0                  0                0               0   \n",
       "4                    0                  0                0               0   \n",
       "\n",
       "   Pedestrian  Bicycle  Pedacycle  VRU  HorseLlama  Cow  Deer  Elk  Moose  \\\n",
       "0           0        0          0    0           0    0     0    0      0   \n",
       "1           0        0          0    0           0    0     0    0      0   \n",
       "2           0        0          0    0           0    0     0    0      0   \n",
       "3           0        0          0    0           0    0     0    0      0   \n",
       "4           0        0          0    0           0    0     0    0      0   \n",
       "\n",
       "   Buffalo  Bear  Antelope  SheepGoats  OtherWild  OtherDomestic  \\\n",
       "0        0     0         0           0          0              0   \n",
       "1        0     0         0           0          0              0   \n",
       "2        0     0         0           0          0              0   \n",
       "3        0     0         0           0          0              0   \n",
       "4        0     0         0           0          0              0   \n",
       "\n",
       "   Rock in Roadway  Animal in Roadway  Rockfall  \n",
       "0                0                  0         0  \n",
       "1                0                  0         0  \n",
       "2                0                  0         0  \n",
       "3                0                  0         0  \n",
       "4                0                  0         0  "
      ]
     },
     "execution_count": 171,
     "metadata": {},
     "output_type": "execute_result"
    }
   ],
   "source": [
    "pd.options.display.max_columns = 10000000\n",
    "imars_crash_details_slim.head()"
   ]
  },
  {
   "cell_type": "code",
   "execution_count": 172,
   "metadata": {},
   "outputs": [
    {
     "data": {
      "text/plain": [
       "1056"
      ]
     },
     "execution_count": 172,
     "metadata": {},
     "output_type": "execute_result"
    }
   ],
   "source": [
    "# check to make sure this matches the value count sum from above - looks good!\n",
    "imars_crash_details_slim['Roadway Departure'].sum()"
   ]
  },
  {
   "cell_type": "code",
   "execution_count": 173,
   "metadata": {},
   "outputs": [
    {
     "data": {
      "text/plain": [
       "175"
      ]
     },
     "execution_count": 173,
     "metadata": {},
     "output_type": "execute_result"
    }
   ],
   "source": [
    "# check to make sure this matches the value count sum from above - looks good!\n",
    "imars_crash_details_slim['VRU'].sum()"
   ]
  },
  {
   "cell_type": "code",
   "execution_count": 174,
   "metadata": {},
   "outputs": [
    {
     "data": {
      "text/plain": [
       "57"
      ]
     },
     "execution_count": 174,
     "metadata": {},
     "output_type": "execute_result"
    }
   ],
   "source": [
    "# check to make sure this matches the value count sum from above - looks good!\n",
    "imars_crash_details_slim['Other Accident Class'].sum()"
   ]
  },
  {
   "cell_type": "code",
   "execution_count": 175,
   "metadata": {},
   "outputs": [
    {
     "data": {
      "text/plain": [
       "1081"
      ]
     },
     "execution_count": 175,
     "metadata": {},
     "output_type": "execute_result"
    }
   ],
   "source": [
    "# check new flag column sum against value counts - looks good!\n",
    "imars_crash_details_slim['Animal in Roadway'].sum()"
   ]
  },
  {
   "cell_type": "code",
   "execution_count": 176,
   "metadata": {},
   "outputs": [
    {
     "data": {
      "text/plain": [
       "1376"
      ]
     },
     "execution_count": 176,
     "metadata": {},
     "output_type": "execute_result"
    }
   ],
   "source": [
    "# check new flag column sum against value counts - looks good!\n",
    "imars_crash_details_slim['Collision w Animal'].sum()"
   ]
  },
  {
   "cell_type": "code",
   "execution_count": 177,
   "metadata": {},
   "outputs": [
    {
     "data": {
      "text/plain": [
       "(15302, 33)"
      ]
     },
     "execution_count": 177,
     "metadata": {},
     "output_type": "execute_result"
    }
   ],
   "source": [
    "imars_crash_details_slim.shape"
   ]
  },
  {
   "cell_type": "code",
   "execution_count": 178,
   "metadata": {},
   "outputs": [
    {
     "data": {
      "text/plain": [
       "Index(['INCID_NO', 'Injury or Fatal', 'Collision w Animal',\n",
       "       'Collision w Fixed Object', 'Non-Collision', 'Other Accident Class',\n",
       "       'Rollover', 'Collision w Other Vehicle', 'Collision w Parked Vehicle',\n",
       "       'Collision w Train', 'Collision w Other Object', 'Collision w Unknown',\n",
       "       'Roadway Departure', 'Avoiding Animal', 'Falling Object', 'Pedestrian',\n",
       "       'Bicycle', 'Pedacycle', 'VRU', 'HorseLlama', 'Cow', 'Deer', 'Elk',\n",
       "       'Moose', 'Buffalo', 'Bear', 'Antelope', 'SheepGoats', 'OtherWild',\n",
       "       'OtherDomestic', 'Rock in Roadway', 'Animal in Roadway', 'Rockfall'],\n",
       "      dtype='object')"
      ]
     },
     "execution_count": 178,
     "metadata": {},
     "output_type": "execute_result"
    }
   ],
   "source": [
    "imars_crash_details_slim.columns"
   ]
  },
  {
   "cell_type": "code",
   "execution_count": 179,
   "metadata": {},
   "outputs": [],
   "source": [
    "# make sure all columns contain data as you would expect (i.e., 0 and 1)\n",
    "#imars_crash_details_slim.to_csv(\"./imars_crash_details_slim_test.csv\",index=False)"
   ]
  },
  {
   "cell_type": "markdown",
   "metadata": {},
   "source": [
    "## Vehicle Table"
   ]
  },
  {
   "cell_type": "code",
   "execution_count": 180,
   "metadata": {},
   "outputs": [
    {
     "data": {
      "text/plain": [
       "Index(['IMARS_Record_No', 'Crash_Date_Time', 'Vehicle_Number',\n",
       "       'Number_of_Occupants', 'Vehicle_Towed', 'Insurance_verified',\n",
       "       'Initial_Impact_Point', 'Most_Damaged_Area', 'Extent_of_Damage',\n",
       "       'Direction_of_Travel_Prior_to_Crash', 'Posted_Speed',\n",
       "       'First_Event_Type', 'First_Event', 'Second_Event_Type', 'Second_Event',\n",
       "       'Third_Event_Type', 'Third_Event', 'Fourth_Event_Type', 'Fourth_Event',\n",
       "       'Motor_Vehicle_Unit_Type', 'Vehicle_Owner', 'Vehicle_Type',\n",
       "       'Non_Commercial_Trailer_Style', 'Emergency_Vehicle_Use',\n",
       "       'Emergency_Equipment_Activated', 'Special_Function_of_MV_in_Transport',\n",
       "       'Motor_Vehicle_Contributing_Circumstance',\n",
       "       'Vehicle_Maneuver_Action_Prior_to_Crash', 'Road_Surface', 'Grade',\n",
       "       'Roadway_Alignment', 'Total_Number_of_Lanes', 'Traffic_Control',\n",
       "       'Traffic_Control_Working_Properly', 'Roadway_Description',\n",
       "       'Commercial_Non_Commercial', 'Number_of_Axles', 'Gross_Vehicle_Weight',\n",
       "       'Combination_GVW', 'Commercial_Cargo_Body_Type', 'Commercial_Cargo',\n",
       "       'Commercial_MV_Configuration', 'Identification_Number_Type',\n",
       "       'Hazmat_1_Class', 'Hazmat_1_ID', 'Hazmat_2_Class', 'Hazmat_2_ID',\n",
       "       'Hazmat_3_Class', 'Hazmat_3_ID', 'Hazmat_4_Class', 'Hazmat_4_ID',\n",
       "       'INCID_NO'],\n",
       "      dtype='object')"
      ]
     },
     "execution_count": 180,
     "metadata": {},
     "output_type": "execute_result"
    }
   ],
   "source": [
    "imars_vehicle.columns"
   ]
  },
  {
   "cell_type": "code",
   "execution_count": 181,
   "metadata": {},
   "outputs": [
    {
     "data": {
      "text/plain": [
       "(23576, 52)"
      ]
     },
     "execution_count": 181,
     "metadata": {},
     "output_type": "execute_result"
    }
   ],
   "source": [
    "imars_vehicle.shape"
   ]
  },
  {
   "cell_type": "code",
   "execution_count": 182,
   "metadata": {},
   "outputs": [
    {
     "data": {
      "text/html": [
       "<div>\n",
       "<style scoped>\n",
       "    .dataframe tbody tr th:only-of-type {\n",
       "        vertical-align: middle;\n",
       "    }\n",
       "\n",
       "    .dataframe tbody tr th {\n",
       "        vertical-align: top;\n",
       "    }\n",
       "\n",
       "    .dataframe thead th {\n",
       "        text-align: right;\n",
       "    }\n",
       "</style>\n",
       "<table border=\"1\" class=\"dataframe\">\n",
       "  <thead>\n",
       "    <tr style=\"text-align: right;\">\n",
       "      <th></th>\n",
       "      <th>INCID_NO</th>\n",
       "    </tr>\n",
       "  </thead>\n",
       "  <tbody>\n",
       "    <tr>\n",
       "      <th>0</th>\n",
       "      <td>NP12000078</td>\n",
       "    </tr>\n",
       "    <tr>\n",
       "      <th>1</th>\n",
       "      <td>NP12000378</td>\n",
       "    </tr>\n",
       "    <tr>\n",
       "      <th>2</th>\n",
       "      <td>NP12000550</td>\n",
       "    </tr>\n",
       "    <tr>\n",
       "      <th>3</th>\n",
       "      <td>NP12000911</td>\n",
       "    </tr>\n",
       "    <tr>\n",
       "      <th>4</th>\n",
       "      <td>NP12000935</td>\n",
       "    </tr>\n",
       "  </tbody>\n",
       "</table>\n",
       "</div>"
      ],
      "text/plain": [
       "     INCID_NO\n",
       "0  NP12000078\n",
       "1  NP12000378\n",
       "2  NP12000550\n",
       "3  NP12000911\n",
       "4  NP12000935"
      ]
     },
     "execution_count": 182,
     "metadata": {},
     "output_type": "execute_result"
    }
   ],
   "source": [
    "# rename column to match CDS column name\n",
    "imars_vehicle['INCID_NO'] = imars_vehicle['IMARS_Record_No']\n",
    "imars_vehicle_slim = imars_vehicle[['INCID_NO']]\n",
    "imars_vehicle_slim.head()"
   ]
  },
  {
   "cell_type": "code",
   "execution_count": 183,
   "metadata": {},
   "outputs": [
    {
     "data": {
      "text/plain": [
       "01. None                                      12723\n",
       "02. Stop sign                                   926\n",
       "03. Yield sign                                  232\n",
       "04. Flashing traffic signal                      28\n",
       "05. Traffic signal                              790\n",
       "06. Pedestrian crossing                         155\n",
       "07. Person (ofc/flagger, xing guard, etc.)       91\n",
       "08. No passing zone                            1246\n",
       "09. Warning signs                               253\n",
       "10. Temporary traffic control                   135\n",
       "12. RR crossing device/signal                     5\n",
       "13. Other                                       527\n",
       "99. Unknown                                    1198\n",
       "Name: Traffic_Control, dtype: int64"
      ]
     },
     "execution_count": 183,
     "metadata": {},
     "output_type": "execute_result"
    }
   ],
   "source": [
    "imars_vehicle['Traffic_Control'].value_counts().sort_index()"
   ]
  },
  {
   "cell_type": "code",
   "execution_count": 184,
   "metadata": {},
   "outputs": [
    {
     "data": {
      "text/plain": [
       "16865"
      ]
     },
     "execution_count": 184,
     "metadata": {},
     "output_type": "execute_result"
    }
   ],
   "source": [
    "# number of vehicle entries in which a crash occurred at a known site other than a crosswalk (or person)\n",
    "12723+926+232+28+790+1246+253+135+5+527"
   ]
  },
  {
   "cell_type": "code",
   "execution_count": 185,
   "metadata": {},
   "outputs": [
    {
     "name": "stderr",
     "output_type": "stream",
     "text": [
      "C:\\Users\\Sophie.Kaye\\AppData\\Local\\Temp\\ipykernel_16844\\811227323.py:2: SettingWithCopyWarning: \n",
      "A value is trying to be set on a copy of a slice from a DataFrame.\n",
      "Try using .loc[row_indexer,col_indexer] = value instead\n",
      "\n",
      "See the caveats in the documentation: https://pandas.pydata.org/pandas-docs/stable/user_guide/indexing.html#returning-a-view-versus-a-copy\n",
      "  imars_vehicle_slim['5_mph']= np.where(imars_vehicle['Posted_Speed']=='01. 5 mph', 1,0)\n",
      "C:\\Users\\Sophie.Kaye\\AppData\\Local\\Temp\\ipykernel_16844\\811227323.py:3: SettingWithCopyWarning: \n",
      "A value is trying to be set on a copy of a slice from a DataFrame.\n",
      "Try using .loc[row_indexer,col_indexer] = value instead\n",
      "\n",
      "See the caveats in the documentation: https://pandas.pydata.org/pandas-docs/stable/user_guide/indexing.html#returning-a-view-versus-a-copy\n",
      "  imars_vehicle_slim['10_mph']= np.where(imars_vehicle['Posted_Speed']=='02. 10 mph', 1,0)\n",
      "C:\\Users\\Sophie.Kaye\\AppData\\Local\\Temp\\ipykernel_16844\\811227323.py:4: SettingWithCopyWarning: \n",
      "A value is trying to be set on a copy of a slice from a DataFrame.\n",
      "Try using .loc[row_indexer,col_indexer] = value instead\n",
      "\n",
      "See the caveats in the documentation: https://pandas.pydata.org/pandas-docs/stable/user_guide/indexing.html#returning-a-view-versus-a-copy\n",
      "  imars_vehicle_slim['15_mph']= np.where(imars_vehicle['Posted_Speed']=='03. 15 mph', 1,0)\n",
      "C:\\Users\\Sophie.Kaye\\AppData\\Local\\Temp\\ipykernel_16844\\811227323.py:5: SettingWithCopyWarning: \n",
      "A value is trying to be set on a copy of a slice from a DataFrame.\n",
      "Try using .loc[row_indexer,col_indexer] = value instead\n",
      "\n",
      "See the caveats in the documentation: https://pandas.pydata.org/pandas-docs/stable/user_guide/indexing.html#returning-a-view-versus-a-copy\n",
      "  imars_vehicle_slim['20_mph']= np.where(imars_vehicle['Posted_Speed']=='04. 20 mph', 1,0)\n",
      "C:\\Users\\Sophie.Kaye\\AppData\\Local\\Temp\\ipykernel_16844\\811227323.py:6: SettingWithCopyWarning: \n",
      "A value is trying to be set on a copy of a slice from a DataFrame.\n",
      "Try using .loc[row_indexer,col_indexer] = value instead\n",
      "\n",
      "See the caveats in the documentation: https://pandas.pydata.org/pandas-docs/stable/user_guide/indexing.html#returning-a-view-versus-a-copy\n",
      "  imars_vehicle_slim['25_mph']= np.where(imars_vehicle['Posted_Speed']=='05. 25 mph', 1,0)\n",
      "C:\\Users\\Sophie.Kaye\\AppData\\Local\\Temp\\ipykernel_16844\\811227323.py:7: SettingWithCopyWarning: \n",
      "A value is trying to be set on a copy of a slice from a DataFrame.\n",
      "Try using .loc[row_indexer,col_indexer] = value instead\n",
      "\n",
      "See the caveats in the documentation: https://pandas.pydata.org/pandas-docs/stable/user_guide/indexing.html#returning-a-view-versus-a-copy\n",
      "  imars_vehicle_slim['30_mph']= np.where(imars_vehicle['Posted_Speed']=='06. 30 mph', 1,0)\n",
      "C:\\Users\\Sophie.Kaye\\AppData\\Local\\Temp\\ipykernel_16844\\811227323.py:8: SettingWithCopyWarning: \n",
      "A value is trying to be set on a copy of a slice from a DataFrame.\n",
      "Try using .loc[row_indexer,col_indexer] = value instead\n",
      "\n",
      "See the caveats in the documentation: https://pandas.pydata.org/pandas-docs/stable/user_guide/indexing.html#returning-a-view-versus-a-copy\n",
      "  imars_vehicle_slim['35_mph']= np.where(imars_vehicle['Posted_Speed']=='07. 35 mph', 1,0)\n",
      "C:\\Users\\Sophie.Kaye\\AppData\\Local\\Temp\\ipykernel_16844\\811227323.py:9: SettingWithCopyWarning: \n",
      "A value is trying to be set on a copy of a slice from a DataFrame.\n",
      "Try using .loc[row_indexer,col_indexer] = value instead\n",
      "\n",
      "See the caveats in the documentation: https://pandas.pydata.org/pandas-docs/stable/user_guide/indexing.html#returning-a-view-versus-a-copy\n",
      "  imars_vehicle_slim['40_mph']= np.where(imars_vehicle['Posted_Speed']=='08. 40 mph', 1,0)\n",
      "C:\\Users\\Sophie.Kaye\\AppData\\Local\\Temp\\ipykernel_16844\\811227323.py:10: SettingWithCopyWarning: \n",
      "A value is trying to be set on a copy of a slice from a DataFrame.\n",
      "Try using .loc[row_indexer,col_indexer] = value instead\n",
      "\n",
      "See the caveats in the documentation: https://pandas.pydata.org/pandas-docs/stable/user_guide/indexing.html#returning-a-view-versus-a-copy\n",
      "  imars_vehicle_slim['45_mph']= np.where(imars_vehicle['Posted_Speed']=='09. 45 mph', 1,0)\n",
      "C:\\Users\\Sophie.Kaye\\AppData\\Local\\Temp\\ipykernel_16844\\811227323.py:11: SettingWithCopyWarning: \n",
      "A value is trying to be set on a copy of a slice from a DataFrame.\n",
      "Try using .loc[row_indexer,col_indexer] = value instead\n",
      "\n",
      "See the caveats in the documentation: https://pandas.pydata.org/pandas-docs/stable/user_guide/indexing.html#returning-a-view-versus-a-copy\n",
      "  imars_vehicle_slim['50_mph']= np.where(imars_vehicle['Posted_Speed']=='10. 50 mph', 1,0)\n",
      "C:\\Users\\Sophie.Kaye\\AppData\\Local\\Temp\\ipykernel_16844\\811227323.py:12: SettingWithCopyWarning: \n",
      "A value is trying to be set on a copy of a slice from a DataFrame.\n",
      "Try using .loc[row_indexer,col_indexer] = value instead\n",
      "\n",
      "See the caveats in the documentation: https://pandas.pydata.org/pandas-docs/stable/user_guide/indexing.html#returning-a-view-versus-a-copy\n",
      "  imars_vehicle_slim['55_mph']= np.where(imars_vehicle['Posted_Speed']=='11. 55 mph', 1,0)\n",
      "C:\\Users\\Sophie.Kaye\\AppData\\Local\\Temp\\ipykernel_16844\\811227323.py:13: SettingWithCopyWarning: \n",
      "A value is trying to be set on a copy of a slice from a DataFrame.\n",
      "Try using .loc[row_indexer,col_indexer] = value instead\n",
      "\n",
      "See the caveats in the documentation: https://pandas.pydata.org/pandas-docs/stable/user_guide/indexing.html#returning-a-view-versus-a-copy\n",
      "  imars_vehicle_slim['60_mph']= np.where(imars_vehicle['Posted_Speed']=='12. 60 mph', 1,0)\n",
      "C:\\Users\\Sophie.Kaye\\AppData\\Local\\Temp\\ipykernel_16844\\811227323.py:14: SettingWithCopyWarning: \n",
      "A value is trying to be set on a copy of a slice from a DataFrame.\n",
      "Try using .loc[row_indexer,col_indexer] = value instead\n",
      "\n",
      "See the caveats in the documentation: https://pandas.pydata.org/pandas-docs/stable/user_guide/indexing.html#returning-a-view-versus-a-copy\n",
      "  imars_vehicle_slim['65_mph']= np.where(imars_vehicle['Posted_Speed']=='13. 65 mph', 1,0)\n",
      "C:\\Users\\Sophie.Kaye\\AppData\\Local\\Temp\\ipykernel_16844\\811227323.py:15: SettingWithCopyWarning: \n",
      "A value is trying to be set on a copy of a slice from a DataFrame.\n",
      "Try using .loc[row_indexer,col_indexer] = value instead\n",
      "\n",
      "See the caveats in the documentation: https://pandas.pydata.org/pandas-docs/stable/user_guide/indexing.html#returning-a-view-versus-a-copy\n",
      "  imars_vehicle_slim['70_mph']= np.where(imars_vehicle['Posted_Speed']=='14. 70 mph', 1,0)\n",
      "C:\\Users\\Sophie.Kaye\\AppData\\Local\\Temp\\ipykernel_16844\\811227323.py:16: SettingWithCopyWarning: \n",
      "A value is trying to be set on a copy of a slice from a DataFrame.\n",
      "Try using .loc[row_indexer,col_indexer] = value instead\n",
      "\n",
      "See the caveats in the documentation: https://pandas.pydata.org/pandas-docs/stable/user_guide/indexing.html#returning-a-view-versus-a-copy\n",
      "  imars_vehicle_slim['75_mph']= np.where(imars_vehicle['Posted_Speed']=='15. 75 mph', 1,0)\n",
      "C:\\Users\\Sophie.Kaye\\AppData\\Local\\Temp\\ipykernel_16844\\811227323.py:17: SettingWithCopyWarning: \n",
      "A value is trying to be set on a copy of a slice from a DataFrame.\n",
      "Try using .loc[row_indexer,col_indexer] = value instead\n",
      "\n",
      "See the caveats in the documentation: https://pandas.pydata.org/pandas-docs/stable/user_guide/indexing.html#returning-a-view-versus-a-copy\n",
      "  imars_vehicle_slim['no_posted_speed']= np.where(imars_vehicle['Posted_Speed']=='98. Not posted', 1,0)\n",
      "C:\\Users\\Sophie.Kaye\\AppData\\Local\\Temp\\ipykernel_16844\\811227323.py:18: SettingWithCopyWarning: \n",
      "A value is trying to be set on a copy of a slice from a DataFrame.\n",
      "Try using .loc[row_indexer,col_indexer] = value instead\n",
      "\n",
      "See the caveats in the documentation: https://pandas.pydata.org/pandas-docs/stable/user_guide/indexing.html#returning-a-view-versus-a-copy\n",
      "  imars_vehicle_slim['Crosswalk']= np.where(imars_vehicle['Traffic_Control']=='06. Pedestrian crossing', 1,0)\n",
      "C:\\Users\\Sophie.Kaye\\AppData\\Local\\Temp\\ipykernel_16844\\811227323.py:19: SettingWithCopyWarning: \n",
      "A value is trying to be set on a copy of a slice from a DataFrame.\n",
      "Try using .loc[row_indexer,col_indexer] = value instead\n",
      "\n",
      "See the caveats in the documentation: https://pandas.pydata.org/pandas-docs/stable/user_guide/indexing.html#returning-a-view-versus-a-copy\n",
      "  imars_vehicle_slim['Outside a Crosswalk']= np.where(imars_vehicle['Traffic_Control'].isin(['01. None','02. Stop sign','03. Yield sign','04. Flashing traffic signal','05. Traffic signal','08. No passing zone','09. Warning signs','10. Temporary traffic control','12. RR crossing device/signal','13. Other']), 1,0)\n"
     ]
    }
   ],
   "source": [
    "# set flags for each relevant data attribute\n",
    "imars_vehicle_slim['5_mph']= np.where(imars_vehicle['Posted_Speed']=='01. 5 mph', 1,0)\n",
    "imars_vehicle_slim['10_mph']= np.where(imars_vehicle['Posted_Speed']=='02. 10 mph', 1,0)\n",
    "imars_vehicle_slim['15_mph']= np.where(imars_vehicle['Posted_Speed']=='03. 15 mph', 1,0)\n",
    "imars_vehicle_slim['20_mph']= np.where(imars_vehicle['Posted_Speed']=='04. 20 mph', 1,0)\n",
    "imars_vehicle_slim['25_mph']= np.where(imars_vehicle['Posted_Speed']=='05. 25 mph', 1,0)\n",
    "imars_vehicle_slim['30_mph']= np.where(imars_vehicle['Posted_Speed']=='06. 30 mph', 1,0)\n",
    "imars_vehicle_slim['35_mph']= np.where(imars_vehicle['Posted_Speed']=='07. 35 mph', 1,0)\n",
    "imars_vehicle_slim['40_mph']= np.where(imars_vehicle['Posted_Speed']=='08. 40 mph', 1,0)\n",
    "imars_vehicle_slim['45_mph']= np.where(imars_vehicle['Posted_Speed']=='09. 45 mph', 1,0)\n",
    "imars_vehicle_slim['50_mph']= np.where(imars_vehicle['Posted_Speed']=='10. 50 mph', 1,0)\n",
    "imars_vehicle_slim['55_mph']= np.where(imars_vehicle['Posted_Speed']=='11. 55 mph', 1,0)\n",
    "imars_vehicle_slim['60_mph']= np.where(imars_vehicle['Posted_Speed']=='12. 60 mph', 1,0)\n",
    "imars_vehicle_slim['65_mph']= np.where(imars_vehicle['Posted_Speed']=='13. 65 mph', 1,0)\n",
    "imars_vehicle_slim['70_mph']= np.where(imars_vehicle['Posted_Speed']=='14. 70 mph', 1,0)\n",
    "imars_vehicle_slim['75_mph']= np.where(imars_vehicle['Posted_Speed']=='15. 75 mph', 1,0)\n",
    "imars_vehicle_slim['no_posted_speed']= np.where(imars_vehicle['Posted_Speed']=='98. Not posted', 1,0)\n",
    "imars_vehicle_slim['Crosswalk']= np.where(imars_vehicle['Traffic_Control']=='06. Pedestrian crossing', 1,0)\n",
    "imars_vehicle_slim['Outside a Crosswalk']= np.where(imars_vehicle['Traffic_Control'].isin(['01. None','02. Stop sign','03. Yield sign','04. Flashing traffic signal','05. Traffic signal','08. No passing zone','09. Warning signs','10. Temporary traffic control','12. RR crossing device/signal','13. Other']), 1,0)\n"
   ]
  },
  {
   "cell_type": "code",
   "execution_count": 186,
   "metadata": {},
   "outputs": [
    {
     "data": {
      "text/plain": [
       "16865"
      ]
     },
     "execution_count": 186,
     "metadata": {},
     "output_type": "execute_result"
    }
   ],
   "source": [
    "# check against value count sum from above - looks good!\n",
    "imars_vehicle_slim['Outside a Crosswalk'].sum()"
   ]
  },
  {
   "cell_type": "code",
   "execution_count": 187,
   "metadata": {},
   "outputs": [
    {
     "data": {
      "text/plain": [
       "155"
      ]
     },
     "execution_count": 187,
     "metadata": {},
     "output_type": "execute_result"
    }
   ],
   "source": [
    "# check new flag column sum against value counts - looks good!\n",
    "imars_vehicle_slim['Crosswalk'].sum()"
   ]
  },
  {
   "cell_type": "code",
   "execution_count": 188,
   "metadata": {},
   "outputs": [
    {
     "data": {
      "text/html": [
       "<div>\n",
       "<style scoped>\n",
       "    .dataframe tbody tr th:only-of-type {\n",
       "        vertical-align: middle;\n",
       "    }\n",
       "\n",
       "    .dataframe tbody tr th {\n",
       "        vertical-align: top;\n",
       "    }\n",
       "\n",
       "    .dataframe thead th {\n",
       "        text-align: right;\n",
       "    }\n",
       "</style>\n",
       "<table border=\"1\" class=\"dataframe\">\n",
       "  <thead>\n",
       "    <tr style=\"text-align: right;\">\n",
       "      <th></th>\n",
       "      <th>INCID_NO</th>\n",
       "      <th>5_mph</th>\n",
       "      <th>10_mph</th>\n",
       "      <th>15_mph</th>\n",
       "      <th>20_mph</th>\n",
       "      <th>25_mph</th>\n",
       "      <th>30_mph</th>\n",
       "      <th>35_mph</th>\n",
       "      <th>40_mph</th>\n",
       "      <th>45_mph</th>\n",
       "      <th>50_mph</th>\n",
       "      <th>55_mph</th>\n",
       "      <th>60_mph</th>\n",
       "      <th>65_mph</th>\n",
       "      <th>70_mph</th>\n",
       "      <th>75_mph</th>\n",
       "      <th>no_posted_speed</th>\n",
       "      <th>Crosswalk</th>\n",
       "      <th>Outside a Crosswalk</th>\n",
       "    </tr>\n",
       "  </thead>\n",
       "  <tbody>\n",
       "    <tr>\n",
       "      <th>0</th>\n",
       "      <td>NP12000078</td>\n",
       "      <td>0</td>\n",
       "      <td>0</td>\n",
       "      <td>0</td>\n",
       "      <td>0</td>\n",
       "      <td>0</td>\n",
       "      <td>0</td>\n",
       "      <td>0</td>\n",
       "      <td>0</td>\n",
       "      <td>0</td>\n",
       "      <td>0</td>\n",
       "      <td>0</td>\n",
       "      <td>0</td>\n",
       "      <td>0</td>\n",
       "      <td>0</td>\n",
       "      <td>0</td>\n",
       "      <td>0</td>\n",
       "      <td>0</td>\n",
       "      <td>0</td>\n",
       "    </tr>\n",
       "    <tr>\n",
       "      <th>1</th>\n",
       "      <td>NP12000378</td>\n",
       "      <td>0</td>\n",
       "      <td>0</td>\n",
       "      <td>0</td>\n",
       "      <td>0</td>\n",
       "      <td>0</td>\n",
       "      <td>0</td>\n",
       "      <td>0</td>\n",
       "      <td>0</td>\n",
       "      <td>0</td>\n",
       "      <td>0</td>\n",
       "      <td>0</td>\n",
       "      <td>0</td>\n",
       "      <td>0</td>\n",
       "      <td>0</td>\n",
       "      <td>0</td>\n",
       "      <td>0</td>\n",
       "      <td>0</td>\n",
       "      <td>0</td>\n",
       "    </tr>\n",
       "    <tr>\n",
       "      <th>2</th>\n",
       "      <td>NP12000550</td>\n",
       "      <td>0</td>\n",
       "      <td>0</td>\n",
       "      <td>0</td>\n",
       "      <td>0</td>\n",
       "      <td>0</td>\n",
       "      <td>0</td>\n",
       "      <td>0</td>\n",
       "      <td>0</td>\n",
       "      <td>0</td>\n",
       "      <td>0</td>\n",
       "      <td>0</td>\n",
       "      <td>0</td>\n",
       "      <td>0</td>\n",
       "      <td>0</td>\n",
       "      <td>0</td>\n",
       "      <td>0</td>\n",
       "      <td>0</td>\n",
       "      <td>0</td>\n",
       "    </tr>\n",
       "    <tr>\n",
       "      <th>3</th>\n",
       "      <td>NP12000911</td>\n",
       "      <td>0</td>\n",
       "      <td>0</td>\n",
       "      <td>0</td>\n",
       "      <td>0</td>\n",
       "      <td>0</td>\n",
       "      <td>0</td>\n",
       "      <td>0</td>\n",
       "      <td>0</td>\n",
       "      <td>0</td>\n",
       "      <td>0</td>\n",
       "      <td>0</td>\n",
       "      <td>0</td>\n",
       "      <td>0</td>\n",
       "      <td>0</td>\n",
       "      <td>0</td>\n",
       "      <td>0</td>\n",
       "      <td>0</td>\n",
       "      <td>0</td>\n",
       "    </tr>\n",
       "    <tr>\n",
       "      <th>4</th>\n",
       "      <td>NP12000935</td>\n",
       "      <td>0</td>\n",
       "      <td>0</td>\n",
       "      <td>0</td>\n",
       "      <td>0</td>\n",
       "      <td>0</td>\n",
       "      <td>0</td>\n",
       "      <td>0</td>\n",
       "      <td>0</td>\n",
       "      <td>0</td>\n",
       "      <td>0</td>\n",
       "      <td>0</td>\n",
       "      <td>0</td>\n",
       "      <td>0</td>\n",
       "      <td>0</td>\n",
       "      <td>0</td>\n",
       "      <td>0</td>\n",
       "      <td>0</td>\n",
       "      <td>0</td>\n",
       "    </tr>\n",
       "  </tbody>\n",
       "</table>\n",
       "</div>"
      ],
      "text/plain": [
       "     INCID_NO  5_mph  10_mph  15_mph  20_mph  25_mph  30_mph  35_mph  40_mph  \\\n",
       "0  NP12000078      0       0       0       0       0       0       0       0   \n",
       "1  NP12000378      0       0       0       0       0       0       0       0   \n",
       "2  NP12000550      0       0       0       0       0       0       0       0   \n",
       "3  NP12000911      0       0       0       0       0       0       0       0   \n",
       "4  NP12000935      0       0       0       0       0       0       0       0   \n",
       "\n",
       "   45_mph  50_mph  55_mph  60_mph  65_mph  70_mph  75_mph  no_posted_speed  \\\n",
       "0       0       0       0       0       0       0       0                0   \n",
       "1       0       0       0       0       0       0       0                0   \n",
       "2       0       0       0       0       0       0       0                0   \n",
       "3       0       0       0       0       0       0       0                0   \n",
       "4       0       0       0       0       0       0       0                0   \n",
       "\n",
       "   Crosswalk  Outside a Crosswalk  \n",
       "0          0                    0  \n",
       "1          0                    0  \n",
       "2          0                    0  \n",
       "3          0                    0  \n",
       "4          0                    0  "
      ]
     },
     "execution_count": 188,
     "metadata": {},
     "output_type": "execute_result"
    }
   ],
   "source": [
    "imars_vehicle_slim.head()"
   ]
  },
  {
   "cell_type": "code",
   "execution_count": 189,
   "metadata": {},
   "outputs": [
    {
     "data": {
      "text/plain": [
       "(23576, 19)"
      ]
     },
     "execution_count": 189,
     "metadata": {},
     "output_type": "execute_result"
    }
   ],
   "source": [
    "imars_vehicle_slim.shape"
   ]
  },
  {
   "cell_type": "code",
   "execution_count": 190,
   "metadata": {},
   "outputs": [
    {
     "data": {
      "text/plain": [
       "Index(['INCID_NO', '5_mph', '10_mph', '15_mph', '20_mph', '25_mph', '30_mph',\n",
       "       '35_mph', '40_mph', '45_mph', '50_mph', '55_mph', '60_mph', '65_mph',\n",
       "       '70_mph', '75_mph', 'no_posted_speed', 'Crosswalk',\n",
       "       'Outside a Crosswalk'],\n",
       "      dtype='object')"
      ]
     },
     "execution_count": 190,
     "metadata": {},
     "output_type": "execute_result"
    }
   ],
   "source": [
    "imars_vehicle_slim.columns"
   ]
  },
  {
   "cell_type": "code",
   "execution_count": 191,
   "metadata": {},
   "outputs": [],
   "source": [
    "# make sure all columns contain data as you would expect (i.e., 0 and 1)\n",
    "#imars_vehicle_slim.to_csv(\"./imars_vehicle_slim_test.csv\",index=False)"
   ]
  },
  {
   "cell_type": "code",
   "execution_count": 192,
   "metadata": {},
   "outputs": [],
   "source": [
    "# collapse multiple rows for each vehicle involved in the crash into a single row for each crash\n",
    "# only one speed limit or crosswalk flag should exist per crash to not double count data attribute (\"first\" function)\n",
    "imars_vehicle_slim_agg = imars_vehicle_slim.groupby(by=['INCID_NO']).first().reset_index()"
   ]
  },
  {
   "cell_type": "code",
   "execution_count": 193,
   "metadata": {},
   "outputs": [
    {
     "data": {
      "text/plain": [
       "(15302, 19)"
      ]
     },
     "execution_count": 193,
     "metadata": {},
     "output_type": "execute_result"
    }
   ],
   "source": [
    "# result should be no more than 15302 rows (number of useable crash records)\n",
    "imars_vehicle_slim_agg.shape"
   ]
  },
  {
   "cell_type": "markdown",
   "metadata": {},
   "source": [
    "## Crash Table "
   ]
  },
  {
   "cell_type": "code",
   "execution_count": 194,
   "metadata": {},
   "outputs": [
    {
     "data": {
      "text/plain": [
       "Index(['IMARS_Record_No', 'Crash_Date_Time', 'Linked_Address_Classification',\n",
       "       'City_Town_Park_Location', 'State', 'County', 'Direction',\n",
       "       'Linked_Street_Number', 'Linked_Common_Name', 'Street_Type',\n",
       "       'Direction.1', 'NEAR_Distance_to_MI', 'NEAR_Direction_To',\n",
       "       'NEAR_Direction', 'NEAR_route_street_road_name', 'NEAR_Road_Type',\n",
       "       'NEAR_Direction.1', 'AT_Intersection_route_street_road_DIRECTION',\n",
       "       'At_Intersecting_route_street_road_name', 'AT_Road_Type',\n",
       "       'AT_Direction', 'Mile_Marker', 'Latitude', 'Longitude', 'State_Zone',\n",
       "       'Park', 'Site', 'Place', 'Point', 'Road_Type_Classification',\n",
       "       'Linked_Address', 'index_right', 'OBJECTID', 'UNIT_CODE', 'GIS_Notes',\n",
       "       'UNIT_NAME', 'DATE_EDIT', 'STATE', 'GNIS_ID', 'UNIT_TYPE', 'CREATED_BY',\n",
       "       'METADATA', 'PARKNAME', 'CreationDate', 'Creator', 'EditDate', 'Editor',\n",
       "       'GlobalID', 'Shape__Area', 'Shape__Length', 'RGN', 'CRASH_DATE',\n",
       "       'CRASH_TIME', 'CRASH_YEAR', 'INCID_NO'],\n",
       "      dtype='object')"
      ]
     },
     "execution_count": 194,
     "metadata": {},
     "output_type": "execute_result"
    }
   ],
   "source": [
    "imars_crash_expanded.columns"
   ]
  },
  {
   "cell_type": "code",
   "execution_count": 195,
   "metadata": {},
   "outputs": [
    {
     "data": {
      "text/html": [
       "<div>\n",
       "<style scoped>\n",
       "    .dataframe tbody tr th:only-of-type {\n",
       "        vertical-align: middle;\n",
       "    }\n",
       "\n",
       "    .dataframe tbody tr th {\n",
       "        vertical-align: top;\n",
       "    }\n",
       "\n",
       "    .dataframe thead th {\n",
       "        text-align: right;\n",
       "    }\n",
       "</style>\n",
       "<table border=\"1\" class=\"dataframe\">\n",
       "  <thead>\n",
       "    <tr style=\"text-align: right;\">\n",
       "      <th></th>\n",
       "      <th>IMARS_Record_No</th>\n",
       "      <th>Crash_Date_Time</th>\n",
       "      <th>Linked_Address_Classification</th>\n",
       "      <th>City_Town_Park_Location</th>\n",
       "      <th>State</th>\n",
       "      <th>County</th>\n",
       "      <th>Direction</th>\n",
       "      <th>Linked_Street_Number</th>\n",
       "      <th>Linked_Common_Name</th>\n",
       "      <th>Street_Type</th>\n",
       "      <th>Direction.1</th>\n",
       "      <th>NEAR_Distance_to_MI</th>\n",
       "      <th>NEAR_Direction_To</th>\n",
       "      <th>NEAR_Direction</th>\n",
       "      <th>NEAR_route_street_road_name</th>\n",
       "      <th>NEAR_Road_Type</th>\n",
       "      <th>NEAR_Direction.1</th>\n",
       "      <th>AT_Intersection_route_street_road_DIRECTION</th>\n",
       "      <th>At_Intersecting_route_street_road_name</th>\n",
       "      <th>AT_Road_Type</th>\n",
       "      <th>AT_Direction</th>\n",
       "      <th>Mile_Marker</th>\n",
       "      <th>Latitude</th>\n",
       "      <th>Longitude</th>\n",
       "      <th>State_Zone</th>\n",
       "      <th>Park</th>\n",
       "      <th>Site</th>\n",
       "      <th>Place</th>\n",
       "      <th>Point</th>\n",
       "      <th>Road_Type_Classification</th>\n",
       "      <th>Linked_Address</th>\n",
       "      <th>index_right</th>\n",
       "      <th>OBJECTID</th>\n",
       "      <th>UNIT_CODE</th>\n",
       "      <th>GIS_Notes</th>\n",
       "      <th>UNIT_NAME</th>\n",
       "      <th>DATE_EDIT</th>\n",
       "      <th>STATE</th>\n",
       "      <th>GNIS_ID</th>\n",
       "      <th>UNIT_TYPE</th>\n",
       "      <th>CREATED_BY</th>\n",
       "      <th>METADATA</th>\n",
       "      <th>PARKNAME</th>\n",
       "      <th>CreationDate</th>\n",
       "      <th>Creator</th>\n",
       "      <th>EditDate</th>\n",
       "      <th>Editor</th>\n",
       "      <th>GlobalID</th>\n",
       "      <th>Shape__Area</th>\n",
       "      <th>Shape__Length</th>\n",
       "      <th>RGN</th>\n",
       "      <th>CRASH_DATE</th>\n",
       "      <th>CRASH_TIME</th>\n",
       "      <th>CRASH_YEAR</th>\n",
       "      <th>INCID_NO</th>\n",
       "    </tr>\n",
       "  </thead>\n",
       "  <tbody>\n",
       "    <tr>\n",
       "      <th>0</th>\n",
       "      <td>NP13031262</td>\n",
       "      <td>2013-06-15 14:00:00</td>\n",
       "      <td>Dispatch address</td>\n",
       "      <td>NaN</td>\n",
       "      <td>NaN</td>\n",
       "      <td>NaN</td>\n",
       "      <td>NaN</td>\n",
       "      <td>NaN</td>\n",
       "      <td>NaN</td>\n",
       "      <td>NaN</td>\n",
       "      <td>NaN</td>\n",
       "      <td>NaN</td>\n",
       "      <td>NaN</td>\n",
       "      <td>NaN</td>\n",
       "      <td>NaN</td>\n",
       "      <td>NaN</td>\n",
       "      <td>NaN</td>\n",
       "      <td>NaN</td>\n",
       "      <td>NaN</td>\n",
       "      <td>NaN</td>\n",
       "      <td>NaN</td>\n",
       "      <td>NaN</td>\n",
       "      <td>NaN</td>\n",
       "      <td>NaN</td>\n",
       "      <td>AR</td>\n",
       "      <td>BUFF</td>\n",
       "      <td>NaN</td>\n",
       "      <td>NaN</td>\n",
       "      <td>NaN</td>\n",
       "      <td>Highway/road/alley (includes street)</td>\n",
       "      <td>NEAR THE OLD SIGN BUFFALO POINT</td>\n",
       "      <td>NaN</td>\n",
       "      <td>NaN</td>\n",
       "      <td>NaN</td>\n",
       "      <td>NaN</td>\n",
       "      <td>NaN</td>\n",
       "      <td>NaN</td>\n",
       "      <td>NaN</td>\n",
       "      <td>NaN</td>\n",
       "      <td>NaN</td>\n",
       "      <td>NaN</td>\n",
       "      <td>NaN</td>\n",
       "      <td>NaN</td>\n",
       "      <td>NaN</td>\n",
       "      <td>NaN</td>\n",
       "      <td>NaN</td>\n",
       "      <td>NaN</td>\n",
       "      <td>NaN</td>\n",
       "      <td>NaN</td>\n",
       "      <td>NaN</td>\n",
       "      <td>MWR</td>\n",
       "      <td>2013-06-15</td>\n",
       "      <td>1400</td>\n",
       "      <td>2013</td>\n",
       "      <td>NP12000078</td>\n",
       "    </tr>\n",
       "    <tr>\n",
       "      <th>1</th>\n",
       "      <td>NP13054509</td>\n",
       "      <td>2013-08-03 10:56:00</td>\n",
       "      <td>Dispatch address</td>\n",
       "      <td>NaN</td>\n",
       "      <td>SD</td>\n",
       "      <td>NaN</td>\n",
       "      <td>NaN</td>\n",
       "      <td>NaN</td>\n",
       "      <td>PPI-ENTRANCE/EXIT</td>\n",
       "      <td>NaN</td>\n",
       "      <td>NaN</td>\n",
       "      <td>NaN</td>\n",
       "      <td>NaN</td>\n",
       "      <td>NaN</td>\n",
       "      <td>NaN</td>\n",
       "      <td>NaN</td>\n",
       "      <td>NaN</td>\n",
       "      <td>NaN</td>\n",
       "      <td>NaN</td>\n",
       "      <td>NaN</td>\n",
       "      <td>NaN</td>\n",
       "      <td>NaN</td>\n",
       "      <td>NaN</td>\n",
       "      <td>NaN</td>\n",
       "      <td>SD</td>\n",
       "      <td>MORU</td>\n",
       "      <td>NaN</td>\n",
       "      <td>NaN</td>\n",
       "      <td>NaN</td>\n",
       "      <td>Highway/road/alley (includes street)</td>\n",
       "      <td>PPI-ENTRANCE/EXIT</td>\n",
       "      <td>NaN</td>\n",
       "      <td>NaN</td>\n",
       "      <td>NaN</td>\n",
       "      <td>NaN</td>\n",
       "      <td>NaN</td>\n",
       "      <td>NaN</td>\n",
       "      <td>NaN</td>\n",
       "      <td>NaN</td>\n",
       "      <td>NaN</td>\n",
       "      <td>NaN</td>\n",
       "      <td>NaN</td>\n",
       "      <td>NaN</td>\n",
       "      <td>NaN</td>\n",
       "      <td>NaN</td>\n",
       "      <td>NaN</td>\n",
       "      <td>NaN</td>\n",
       "      <td>NaN</td>\n",
       "      <td>NaN</td>\n",
       "      <td>NaN</td>\n",
       "      <td>MWR</td>\n",
       "      <td>2013-08-03</td>\n",
       "      <td>1056</td>\n",
       "      <td>2013</td>\n",
       "      <td>NP12000378</td>\n",
       "    </tr>\n",
       "    <tr>\n",
       "      <th>2</th>\n",
       "      <td>NP13071209</td>\n",
       "      <td>2013-09-05 12:03:00</td>\n",
       "      <td>Dispatch address</td>\n",
       "      <td>NaN</td>\n",
       "      <td>NaN</td>\n",
       "      <td>NaN</td>\n",
       "      <td>NaN</td>\n",
       "      <td>NaN</td>\n",
       "      <td>NaN</td>\n",
       "      <td>NaN</td>\n",
       "      <td>NaN</td>\n",
       "      <td>NaN</td>\n",
       "      <td>NaN</td>\n",
       "      <td>NaN</td>\n",
       "      <td>NaN</td>\n",
       "      <td>NaN</td>\n",
       "      <td>NaN</td>\n",
       "      <td>NaN</td>\n",
       "      <td>NaN</td>\n",
       "      <td>NaN</td>\n",
       "      <td>NaN</td>\n",
       "      <td>NaN</td>\n",
       "      <td>NaN</td>\n",
       "      <td>NaN</td>\n",
       "      <td>VA</td>\n",
       "      <td>SHEN</td>\n",
       "      <td>NaN</td>\n",
       "      <td>NaN</td>\n",
       "      <td>NaN</td>\n",
       "      <td>Convenience store</td>\n",
       "      <td>BM WAYSIDE</td>\n",
       "      <td>NaN</td>\n",
       "      <td>NaN</td>\n",
       "      <td>NaN</td>\n",
       "      <td>NaN</td>\n",
       "      <td>NaN</td>\n",
       "      <td>NaN</td>\n",
       "      <td>NaN</td>\n",
       "      <td>NaN</td>\n",
       "      <td>NaN</td>\n",
       "      <td>NaN</td>\n",
       "      <td>NaN</td>\n",
       "      <td>NaN</td>\n",
       "      <td>NaN</td>\n",
       "      <td>NaN</td>\n",
       "      <td>NaN</td>\n",
       "      <td>NaN</td>\n",
       "      <td>NaN</td>\n",
       "      <td>NaN</td>\n",
       "      <td>NaN</td>\n",
       "      <td>NER</td>\n",
       "      <td>2013-09-05</td>\n",
       "      <td>1203</td>\n",
       "      <td>2013</td>\n",
       "      <td>NP12000550</td>\n",
       "    </tr>\n",
       "    <tr>\n",
       "      <th>3</th>\n",
       "      <td>NP13082489</td>\n",
       "      <td>2013-10-06 09:10:00</td>\n",
       "      <td>Dispatch address</td>\n",
       "      <td>NaN</td>\n",
       "      <td>VA</td>\n",
       "      <td>NaN</td>\n",
       "      <td>NaN</td>\n",
       "      <td>NaN</td>\n",
       "      <td>MP97</td>\n",
       "      <td>NaN</td>\n",
       "      <td>NaN</td>\n",
       "      <td>NaN</td>\n",
       "      <td>NaN</td>\n",
       "      <td>NaN</td>\n",
       "      <td>NaN</td>\n",
       "      <td>NaN</td>\n",
       "      <td>NaN</td>\n",
       "      <td>NaN</td>\n",
       "      <td>NaN</td>\n",
       "      <td>NaN</td>\n",
       "      <td>NaN</td>\n",
       "      <td>NaN</td>\n",
       "      <td>NaN</td>\n",
       "      <td>NaN</td>\n",
       "      <td>VA</td>\n",
       "      <td>SHEN</td>\n",
       "      <td>NaN</td>\n",
       "      <td>NaN</td>\n",
       "      <td>NaN</td>\n",
       "      <td>Highway/road/alley (includes street)</td>\n",
       "      <td>MP97</td>\n",
       "      <td>NaN</td>\n",
       "      <td>NaN</td>\n",
       "      <td>NaN</td>\n",
       "      <td>NaN</td>\n",
       "      <td>NaN</td>\n",
       "      <td>NaN</td>\n",
       "      <td>NaN</td>\n",
       "      <td>NaN</td>\n",
       "      <td>NaN</td>\n",
       "      <td>NaN</td>\n",
       "      <td>NaN</td>\n",
       "      <td>NaN</td>\n",
       "      <td>NaN</td>\n",
       "      <td>NaN</td>\n",
       "      <td>NaN</td>\n",
       "      <td>NaN</td>\n",
       "      <td>NaN</td>\n",
       "      <td>NaN</td>\n",
       "      <td>NaN</td>\n",
       "      <td>NER</td>\n",
       "      <td>2013-10-06</td>\n",
       "      <td>0910</td>\n",
       "      <td>2013</td>\n",
       "      <td>NP12000911</td>\n",
       "    </tr>\n",
       "    <tr>\n",
       "      <th>4</th>\n",
       "      <td>NP13082534</td>\n",
       "      <td>2013-10-06 11:42:00</td>\n",
       "      <td>Dispatch address</td>\n",
       "      <td>NaN</td>\n",
       "      <td>VA</td>\n",
       "      <td>NaN</td>\n",
       "      <td>NaN</td>\n",
       "      <td>NaN</td>\n",
       "      <td>MP102</td>\n",
       "      <td>NaN</td>\n",
       "      <td>NaN</td>\n",
       "      <td>NaN</td>\n",
       "      <td>NaN</td>\n",
       "      <td>NaN</td>\n",
       "      <td>NaN</td>\n",
       "      <td>NaN</td>\n",
       "      <td>NaN</td>\n",
       "      <td>NaN</td>\n",
       "      <td>NaN</td>\n",
       "      <td>NaN</td>\n",
       "      <td>NaN</td>\n",
       "      <td>NaN</td>\n",
       "      <td>NaN</td>\n",
       "      <td>NaN</td>\n",
       "      <td>VA</td>\n",
       "      <td>SHEN</td>\n",
       "      <td>NaN</td>\n",
       "      <td>NaN</td>\n",
       "      <td>NaN</td>\n",
       "      <td>Highway/road/alley (includes street)</td>\n",
       "      <td>MP102</td>\n",
       "      <td>NaN</td>\n",
       "      <td>NaN</td>\n",
       "      <td>NaN</td>\n",
       "      <td>NaN</td>\n",
       "      <td>NaN</td>\n",
       "      <td>NaN</td>\n",
       "      <td>NaN</td>\n",
       "      <td>NaN</td>\n",
       "      <td>NaN</td>\n",
       "      <td>NaN</td>\n",
       "      <td>NaN</td>\n",
       "      <td>NaN</td>\n",
       "      <td>NaN</td>\n",
       "      <td>NaN</td>\n",
       "      <td>NaN</td>\n",
       "      <td>NaN</td>\n",
       "      <td>NaN</td>\n",
       "      <td>NaN</td>\n",
       "      <td>NaN</td>\n",
       "      <td>NER</td>\n",
       "      <td>2013-10-06</td>\n",
       "      <td>1142</td>\n",
       "      <td>2013</td>\n",
       "      <td>NP12000935</td>\n",
       "    </tr>\n",
       "  </tbody>\n",
       "</table>\n",
       "</div>"
      ],
      "text/plain": [
       "  IMARS_Record_No     Crash_Date_Time Linked_Address_Classification  \\\n",
       "0      NP13031262 2013-06-15 14:00:00              Dispatch address   \n",
       "1      NP13054509 2013-08-03 10:56:00              Dispatch address   \n",
       "2      NP13071209 2013-09-05 12:03:00              Dispatch address   \n",
       "3      NP13082489 2013-10-06 09:10:00              Dispatch address   \n",
       "4      NP13082534 2013-10-06 11:42:00              Dispatch address   \n",
       "\n",
       "  City_Town_Park_Location State County Direction  Linked_Street_Number  \\\n",
       "0                     NaN   NaN    NaN       NaN                   NaN   \n",
       "1                     NaN    SD    NaN       NaN                   NaN   \n",
       "2                     NaN   NaN    NaN       NaN                   NaN   \n",
       "3                     NaN    VA    NaN       NaN                   NaN   \n",
       "4                     NaN    VA    NaN       NaN                   NaN   \n",
       "\n",
       "  Linked_Common_Name Street_Type  Direction.1  NEAR_Distance_to_MI  \\\n",
       "0                NaN         NaN          NaN                  NaN   \n",
       "1  PPI-ENTRANCE/EXIT         NaN          NaN                  NaN   \n",
       "2                NaN         NaN          NaN                  NaN   \n",
       "3               MP97         NaN          NaN                  NaN   \n",
       "4              MP102         NaN          NaN                  NaN   \n",
       "\n",
       "  NEAR_Direction_To NEAR_Direction NEAR_route_street_road_name NEAR_Road_Type  \\\n",
       "0               NaN            NaN                         NaN            NaN   \n",
       "1               NaN            NaN                         NaN            NaN   \n",
       "2               NaN            NaN                         NaN            NaN   \n",
       "3               NaN            NaN                         NaN            NaN   \n",
       "4               NaN            NaN                         NaN            NaN   \n",
       "\n",
       "  NEAR_Direction.1 AT_Intersection_route_street_road_DIRECTION  \\\n",
       "0              NaN                                         NaN   \n",
       "1              NaN                                         NaN   \n",
       "2              NaN                                         NaN   \n",
       "3              NaN                                         NaN   \n",
       "4              NaN                                         NaN   \n",
       "\n",
       "  At_Intersecting_route_street_road_name AT_Road_Type AT_Direction  \\\n",
       "0                                    NaN          NaN          NaN   \n",
       "1                                    NaN          NaN          NaN   \n",
       "2                                    NaN          NaN          NaN   \n",
       "3                                    NaN          NaN          NaN   \n",
       "4                                    NaN          NaN          NaN   \n",
       "\n",
       "  Mile_Marker  Latitude  Longitude State_Zone  Park Site Place Point  \\\n",
       "0         NaN       NaN        NaN         AR  BUFF  NaN   NaN   NaN   \n",
       "1         NaN       NaN        NaN         SD  MORU  NaN   NaN   NaN   \n",
       "2         NaN       NaN        NaN         VA  SHEN  NaN   NaN   NaN   \n",
       "3         NaN       NaN        NaN         VA  SHEN  NaN   NaN   NaN   \n",
       "4         NaN       NaN        NaN         VA  SHEN  NaN   NaN   NaN   \n",
       "\n",
       "               Road_Type_Classification                   Linked_Address  \\\n",
       "0  Highway/road/alley (includes street)  NEAR THE OLD SIGN BUFFALO POINT   \n",
       "1  Highway/road/alley (includes street)                PPI-ENTRANCE/EXIT   \n",
       "2                     Convenience store                       BM WAYSIDE   \n",
       "3  Highway/road/alley (includes street)                             MP97   \n",
       "4  Highway/road/alley (includes street)                            MP102   \n",
       "\n",
       "   index_right  OBJECTID UNIT_CODE GIS_Notes UNIT_NAME DATE_EDIT STATE  \\\n",
       "0          NaN       NaN       NaN       NaN       NaN       NaN   NaN   \n",
       "1          NaN       NaN       NaN       NaN       NaN       NaN   NaN   \n",
       "2          NaN       NaN       NaN       NaN       NaN       NaN   NaN   \n",
       "3          NaN       NaN       NaN       NaN       NaN       NaN   NaN   \n",
       "4          NaN       NaN       NaN       NaN       NaN       NaN   NaN   \n",
       "\n",
       "  GNIS_ID UNIT_TYPE CREATED_BY METADATA PARKNAME CreationDate Creator  \\\n",
       "0     NaN       NaN        NaN      NaN      NaN          NaN     NaN   \n",
       "1     NaN       NaN        NaN      NaN      NaN          NaN     NaN   \n",
       "2     NaN       NaN        NaN      NaN      NaN          NaN     NaN   \n",
       "3     NaN       NaN        NaN      NaN      NaN          NaN     NaN   \n",
       "4     NaN       NaN        NaN      NaN      NaN          NaN     NaN   \n",
       "\n",
       "  EditDate Editor GlobalID  Shape__Area  Shape__Length  RGN  CRASH_DATE  \\\n",
       "0      NaN    NaN      NaN          NaN            NaN  MWR  2013-06-15   \n",
       "1      NaN    NaN      NaN          NaN            NaN  MWR  2013-08-03   \n",
       "2      NaN    NaN      NaN          NaN            NaN  NER  2013-09-05   \n",
       "3      NaN    NaN      NaN          NaN            NaN  NER  2013-10-06   \n",
       "4      NaN    NaN      NaN          NaN            NaN  NER  2013-10-06   \n",
       "\n",
       "  CRASH_TIME CRASH_YEAR    INCID_NO  \n",
       "0       1400       2013  NP12000078  \n",
       "1       1056       2013  NP12000378  \n",
       "2       1203       2013  NP12000550  \n",
       "3       0910       2013  NP12000911  \n",
       "4       1142       2013  NP12000935  "
      ]
     },
     "execution_count": 195,
     "metadata": {},
     "output_type": "execute_result"
    }
   ],
   "source": [
    "imars_crash_expanded.head()"
   ]
  },
  {
   "cell_type": "code",
   "execution_count": 196,
   "metadata": {},
   "outputs": [
    {
     "data": {
      "text/html": [
       "<div>\n",
       "<style scoped>\n",
       "    .dataframe tbody tr th:only-of-type {\n",
       "        vertical-align: middle;\n",
       "    }\n",
       "\n",
       "    .dataframe tbody tr th {\n",
       "        vertical-align: top;\n",
       "    }\n",
       "\n",
       "    .dataframe thead th {\n",
       "        text-align: right;\n",
       "    }\n",
       "</style>\n",
       "<table border=\"1\" class=\"dataframe\">\n",
       "  <thead>\n",
       "    <tr style=\"text-align: right;\">\n",
       "      <th></th>\n",
       "      <th>IMARS_Record_No</th>\n",
       "      <th>Crash_Date_Time</th>\n",
       "      <th>Linked_Address_Classification</th>\n",
       "      <th>City_Town_Park_Location</th>\n",
       "      <th>State</th>\n",
       "      <th>County</th>\n",
       "      <th>Direction</th>\n",
       "      <th>Linked_Street_Number</th>\n",
       "      <th>Linked_Common_Name</th>\n",
       "      <th>Street_Type</th>\n",
       "      <th>Direction.1</th>\n",
       "      <th>NEAR_Distance_to_MI</th>\n",
       "      <th>NEAR_Direction_To</th>\n",
       "      <th>NEAR_Direction</th>\n",
       "      <th>NEAR_route_street_road_name</th>\n",
       "      <th>NEAR_Road_Type</th>\n",
       "      <th>NEAR_Direction.1</th>\n",
       "      <th>AT_Intersection_route_street_road_DIRECTION</th>\n",
       "      <th>At_Intersecting_route_street_road_name</th>\n",
       "      <th>AT_Road_Type</th>\n",
       "      <th>AT_Direction</th>\n",
       "      <th>Mile_Marker</th>\n",
       "      <th>Latitude</th>\n",
       "      <th>Longitude</th>\n",
       "      <th>State_Zone</th>\n",
       "      <th>Park</th>\n",
       "      <th>Site</th>\n",
       "      <th>Place</th>\n",
       "      <th>Point</th>\n",
       "      <th>Road_Type_Classification</th>\n",
       "      <th>Linked_Address</th>\n",
       "      <th>index_right</th>\n",
       "      <th>OBJECTID</th>\n",
       "      <th>UNIT_CODE</th>\n",
       "      <th>GIS_Notes</th>\n",
       "      <th>UNIT_NAME</th>\n",
       "      <th>DATE_EDIT</th>\n",
       "      <th>STATE</th>\n",
       "      <th>GNIS_ID</th>\n",
       "      <th>UNIT_TYPE</th>\n",
       "      <th>CREATED_BY</th>\n",
       "      <th>METADATA</th>\n",
       "      <th>PARKNAME</th>\n",
       "      <th>CreationDate</th>\n",
       "      <th>Creator</th>\n",
       "      <th>EditDate</th>\n",
       "      <th>Editor</th>\n",
       "      <th>GlobalID</th>\n",
       "      <th>Shape__Area</th>\n",
       "      <th>Shape__Length</th>\n",
       "      <th>RGN</th>\n",
       "      <th>CRASH_DATE</th>\n",
       "      <th>CRASH_TIME</th>\n",
       "      <th>CRASH_YEAR</th>\n",
       "      <th>INCID_NO</th>\n",
       "    </tr>\n",
       "  </thead>\n",
       "  <tbody>\n",
       "    <tr>\n",
       "      <th>0</th>\n",
       "      <td>NP13031262</td>\n",
       "      <td>2013-06-15 14:00:00</td>\n",
       "      <td>Dispatch address</td>\n",
       "      <td>NaN</td>\n",
       "      <td>NaN</td>\n",
       "      <td>NaN</td>\n",
       "      <td>NaN</td>\n",
       "      <td>NaN</td>\n",
       "      <td>NaN</td>\n",
       "      <td>NaN</td>\n",
       "      <td>NaN</td>\n",
       "      <td>NaN</td>\n",
       "      <td>NaN</td>\n",
       "      <td>NaN</td>\n",
       "      <td>NaN</td>\n",
       "      <td>NaN</td>\n",
       "      <td>NaN</td>\n",
       "      <td>NaN</td>\n",
       "      <td>NaN</td>\n",
       "      <td>NaN</td>\n",
       "      <td>NaN</td>\n",
       "      <td>NaN</td>\n",
       "      <td>NaN</td>\n",
       "      <td>NaN</td>\n",
       "      <td>AR</td>\n",
       "      <td>BUFF</td>\n",
       "      <td>NaN</td>\n",
       "      <td>NaN</td>\n",
       "      <td>NaN</td>\n",
       "      <td>Highway/road/alley (includes street)</td>\n",
       "      <td>NEAR THE OLD SIGN BUFFALO POINT</td>\n",
       "      <td>NaN</td>\n",
       "      <td>NaN</td>\n",
       "      <td>NaN</td>\n",
       "      <td>NaN</td>\n",
       "      <td>NaN</td>\n",
       "      <td>NaN</td>\n",
       "      <td>NaN</td>\n",
       "      <td>NaN</td>\n",
       "      <td>NaN</td>\n",
       "      <td>NaN</td>\n",
       "      <td>NaN</td>\n",
       "      <td>NaN</td>\n",
       "      <td>NaN</td>\n",
       "      <td>NaN</td>\n",
       "      <td>NaN</td>\n",
       "      <td>NaN</td>\n",
       "      <td>NaN</td>\n",
       "      <td>NaN</td>\n",
       "      <td>NaN</td>\n",
       "      <td>MWR</td>\n",
       "      <td>2013-06-15</td>\n",
       "      <td>1400</td>\n",
       "      <td>2013</td>\n",
       "      <td>NP12000078</td>\n",
       "    </tr>\n",
       "    <tr>\n",
       "      <th>1</th>\n",
       "      <td>NP13054509</td>\n",
       "      <td>2013-08-03 10:56:00</td>\n",
       "      <td>Dispatch address</td>\n",
       "      <td>NaN</td>\n",
       "      <td>SD</td>\n",
       "      <td>NaN</td>\n",
       "      <td>NaN</td>\n",
       "      <td>NaN</td>\n",
       "      <td>PPI-ENTRANCE/EXIT</td>\n",
       "      <td>NaN</td>\n",
       "      <td>NaN</td>\n",
       "      <td>NaN</td>\n",
       "      <td>NaN</td>\n",
       "      <td>NaN</td>\n",
       "      <td>NaN</td>\n",
       "      <td>NaN</td>\n",
       "      <td>NaN</td>\n",
       "      <td>NaN</td>\n",
       "      <td>NaN</td>\n",
       "      <td>NaN</td>\n",
       "      <td>NaN</td>\n",
       "      <td>NaN</td>\n",
       "      <td>NaN</td>\n",
       "      <td>NaN</td>\n",
       "      <td>SD</td>\n",
       "      <td>MORU</td>\n",
       "      <td>NaN</td>\n",
       "      <td>NaN</td>\n",
       "      <td>NaN</td>\n",
       "      <td>Highway/road/alley (includes street)</td>\n",
       "      <td>PPI-ENTRANCE/EXIT</td>\n",
       "      <td>NaN</td>\n",
       "      <td>NaN</td>\n",
       "      <td>NaN</td>\n",
       "      <td>NaN</td>\n",
       "      <td>NaN</td>\n",
       "      <td>NaN</td>\n",
       "      <td>NaN</td>\n",
       "      <td>NaN</td>\n",
       "      <td>NaN</td>\n",
       "      <td>NaN</td>\n",
       "      <td>NaN</td>\n",
       "      <td>NaN</td>\n",
       "      <td>NaN</td>\n",
       "      <td>NaN</td>\n",
       "      <td>NaN</td>\n",
       "      <td>NaN</td>\n",
       "      <td>NaN</td>\n",
       "      <td>NaN</td>\n",
       "      <td>NaN</td>\n",
       "      <td>MWR</td>\n",
       "      <td>2013-08-03</td>\n",
       "      <td>1056</td>\n",
       "      <td>2013</td>\n",
       "      <td>NP12000378</td>\n",
       "    </tr>\n",
       "    <tr>\n",
       "      <th>2</th>\n",
       "      <td>NP13071209</td>\n",
       "      <td>2013-09-05 12:03:00</td>\n",
       "      <td>Dispatch address</td>\n",
       "      <td>NaN</td>\n",
       "      <td>NaN</td>\n",
       "      <td>NaN</td>\n",
       "      <td>NaN</td>\n",
       "      <td>NaN</td>\n",
       "      <td>NaN</td>\n",
       "      <td>NaN</td>\n",
       "      <td>NaN</td>\n",
       "      <td>NaN</td>\n",
       "      <td>NaN</td>\n",
       "      <td>NaN</td>\n",
       "      <td>NaN</td>\n",
       "      <td>NaN</td>\n",
       "      <td>NaN</td>\n",
       "      <td>NaN</td>\n",
       "      <td>NaN</td>\n",
       "      <td>NaN</td>\n",
       "      <td>NaN</td>\n",
       "      <td>NaN</td>\n",
       "      <td>NaN</td>\n",
       "      <td>NaN</td>\n",
       "      <td>VA</td>\n",
       "      <td>SHEN</td>\n",
       "      <td>NaN</td>\n",
       "      <td>NaN</td>\n",
       "      <td>NaN</td>\n",
       "      <td>Convenience store</td>\n",
       "      <td>BM WAYSIDE</td>\n",
       "      <td>NaN</td>\n",
       "      <td>NaN</td>\n",
       "      <td>NaN</td>\n",
       "      <td>NaN</td>\n",
       "      <td>NaN</td>\n",
       "      <td>NaN</td>\n",
       "      <td>NaN</td>\n",
       "      <td>NaN</td>\n",
       "      <td>NaN</td>\n",
       "      <td>NaN</td>\n",
       "      <td>NaN</td>\n",
       "      <td>NaN</td>\n",
       "      <td>NaN</td>\n",
       "      <td>NaN</td>\n",
       "      <td>NaN</td>\n",
       "      <td>NaN</td>\n",
       "      <td>NaN</td>\n",
       "      <td>NaN</td>\n",
       "      <td>NaN</td>\n",
       "      <td>NER</td>\n",
       "      <td>2013-09-05</td>\n",
       "      <td>1203</td>\n",
       "      <td>2013</td>\n",
       "      <td>NP12000550</td>\n",
       "    </tr>\n",
       "    <tr>\n",
       "      <th>3</th>\n",
       "      <td>NP13082489</td>\n",
       "      <td>2013-10-06 09:10:00</td>\n",
       "      <td>Dispatch address</td>\n",
       "      <td>NaN</td>\n",
       "      <td>VA</td>\n",
       "      <td>NaN</td>\n",
       "      <td>NaN</td>\n",
       "      <td>NaN</td>\n",
       "      <td>MP97</td>\n",
       "      <td>NaN</td>\n",
       "      <td>NaN</td>\n",
       "      <td>NaN</td>\n",
       "      <td>NaN</td>\n",
       "      <td>NaN</td>\n",
       "      <td>NaN</td>\n",
       "      <td>NaN</td>\n",
       "      <td>NaN</td>\n",
       "      <td>NaN</td>\n",
       "      <td>NaN</td>\n",
       "      <td>NaN</td>\n",
       "      <td>NaN</td>\n",
       "      <td>NaN</td>\n",
       "      <td>NaN</td>\n",
       "      <td>NaN</td>\n",
       "      <td>VA</td>\n",
       "      <td>SHEN</td>\n",
       "      <td>NaN</td>\n",
       "      <td>NaN</td>\n",
       "      <td>NaN</td>\n",
       "      <td>Highway/road/alley (includes street)</td>\n",
       "      <td>MP97</td>\n",
       "      <td>NaN</td>\n",
       "      <td>NaN</td>\n",
       "      <td>NaN</td>\n",
       "      <td>NaN</td>\n",
       "      <td>NaN</td>\n",
       "      <td>NaN</td>\n",
       "      <td>NaN</td>\n",
       "      <td>NaN</td>\n",
       "      <td>NaN</td>\n",
       "      <td>NaN</td>\n",
       "      <td>NaN</td>\n",
       "      <td>NaN</td>\n",
       "      <td>NaN</td>\n",
       "      <td>NaN</td>\n",
       "      <td>NaN</td>\n",
       "      <td>NaN</td>\n",
       "      <td>NaN</td>\n",
       "      <td>NaN</td>\n",
       "      <td>NaN</td>\n",
       "      <td>NER</td>\n",
       "      <td>2013-10-06</td>\n",
       "      <td>0910</td>\n",
       "      <td>2013</td>\n",
       "      <td>NP12000911</td>\n",
       "    </tr>\n",
       "    <tr>\n",
       "      <th>4</th>\n",
       "      <td>NP13082534</td>\n",
       "      <td>2013-10-06 11:42:00</td>\n",
       "      <td>Dispatch address</td>\n",
       "      <td>NaN</td>\n",
       "      <td>VA</td>\n",
       "      <td>NaN</td>\n",
       "      <td>NaN</td>\n",
       "      <td>NaN</td>\n",
       "      <td>MP102</td>\n",
       "      <td>NaN</td>\n",
       "      <td>NaN</td>\n",
       "      <td>NaN</td>\n",
       "      <td>NaN</td>\n",
       "      <td>NaN</td>\n",
       "      <td>NaN</td>\n",
       "      <td>NaN</td>\n",
       "      <td>NaN</td>\n",
       "      <td>NaN</td>\n",
       "      <td>NaN</td>\n",
       "      <td>NaN</td>\n",
       "      <td>NaN</td>\n",
       "      <td>NaN</td>\n",
       "      <td>NaN</td>\n",
       "      <td>NaN</td>\n",
       "      <td>VA</td>\n",
       "      <td>SHEN</td>\n",
       "      <td>NaN</td>\n",
       "      <td>NaN</td>\n",
       "      <td>NaN</td>\n",
       "      <td>Highway/road/alley (includes street)</td>\n",
       "      <td>MP102</td>\n",
       "      <td>NaN</td>\n",
       "      <td>NaN</td>\n",
       "      <td>NaN</td>\n",
       "      <td>NaN</td>\n",
       "      <td>NaN</td>\n",
       "      <td>NaN</td>\n",
       "      <td>NaN</td>\n",
       "      <td>NaN</td>\n",
       "      <td>NaN</td>\n",
       "      <td>NaN</td>\n",
       "      <td>NaN</td>\n",
       "      <td>NaN</td>\n",
       "      <td>NaN</td>\n",
       "      <td>NaN</td>\n",
       "      <td>NaN</td>\n",
       "      <td>NaN</td>\n",
       "      <td>NaN</td>\n",
       "      <td>NaN</td>\n",
       "      <td>NaN</td>\n",
       "      <td>NER</td>\n",
       "      <td>2013-10-06</td>\n",
       "      <td>1142</td>\n",
       "      <td>2013</td>\n",
       "      <td>NP12000935</td>\n",
       "    </tr>\n",
       "  </tbody>\n",
       "</table>\n",
       "</div>"
      ],
      "text/plain": [
       "  IMARS_Record_No     Crash_Date_Time Linked_Address_Classification  \\\n",
       "0      NP13031262 2013-06-15 14:00:00              Dispatch address   \n",
       "1      NP13054509 2013-08-03 10:56:00              Dispatch address   \n",
       "2      NP13071209 2013-09-05 12:03:00              Dispatch address   \n",
       "3      NP13082489 2013-10-06 09:10:00              Dispatch address   \n",
       "4      NP13082534 2013-10-06 11:42:00              Dispatch address   \n",
       "\n",
       "  City_Town_Park_Location State County Direction  Linked_Street_Number  \\\n",
       "0                     NaN   NaN    NaN       NaN                   NaN   \n",
       "1                     NaN    SD    NaN       NaN                   NaN   \n",
       "2                     NaN   NaN    NaN       NaN                   NaN   \n",
       "3                     NaN    VA    NaN       NaN                   NaN   \n",
       "4                     NaN    VA    NaN       NaN                   NaN   \n",
       "\n",
       "  Linked_Common_Name Street_Type  Direction.1  NEAR_Distance_to_MI  \\\n",
       "0                NaN         NaN          NaN                  NaN   \n",
       "1  PPI-ENTRANCE/EXIT         NaN          NaN                  NaN   \n",
       "2                NaN         NaN          NaN                  NaN   \n",
       "3               MP97         NaN          NaN                  NaN   \n",
       "4              MP102         NaN          NaN                  NaN   \n",
       "\n",
       "  NEAR_Direction_To NEAR_Direction NEAR_route_street_road_name NEAR_Road_Type  \\\n",
       "0               NaN            NaN                         NaN            NaN   \n",
       "1               NaN            NaN                         NaN            NaN   \n",
       "2               NaN            NaN                         NaN            NaN   \n",
       "3               NaN            NaN                         NaN            NaN   \n",
       "4               NaN            NaN                         NaN            NaN   \n",
       "\n",
       "  NEAR_Direction.1 AT_Intersection_route_street_road_DIRECTION  \\\n",
       "0              NaN                                         NaN   \n",
       "1              NaN                                         NaN   \n",
       "2              NaN                                         NaN   \n",
       "3              NaN                                         NaN   \n",
       "4              NaN                                         NaN   \n",
       "\n",
       "  At_Intersecting_route_street_road_name AT_Road_Type AT_Direction  \\\n",
       "0                                    NaN          NaN          NaN   \n",
       "1                                    NaN          NaN          NaN   \n",
       "2                                    NaN          NaN          NaN   \n",
       "3                                    NaN          NaN          NaN   \n",
       "4                                    NaN          NaN          NaN   \n",
       "\n",
       "  Mile_Marker  Latitude  Longitude State_Zone  Park Site Place Point  \\\n",
       "0         NaN       NaN        NaN         AR  BUFF  NaN   NaN   NaN   \n",
       "1         NaN       NaN        NaN         SD  MORU  NaN   NaN   NaN   \n",
       "2         NaN       NaN        NaN         VA  SHEN  NaN   NaN   NaN   \n",
       "3         NaN       NaN        NaN         VA  SHEN  NaN   NaN   NaN   \n",
       "4         NaN       NaN        NaN         VA  SHEN  NaN   NaN   NaN   \n",
       "\n",
       "               Road_Type_Classification                   Linked_Address  \\\n",
       "0  Highway/road/alley (includes street)  NEAR THE OLD SIGN BUFFALO POINT   \n",
       "1  Highway/road/alley (includes street)                PPI-ENTRANCE/EXIT   \n",
       "2                     Convenience store                       BM WAYSIDE   \n",
       "3  Highway/road/alley (includes street)                             MP97   \n",
       "4  Highway/road/alley (includes street)                            MP102   \n",
       "\n",
       "   index_right  OBJECTID UNIT_CODE GIS_Notes UNIT_NAME DATE_EDIT STATE  \\\n",
       "0          NaN       NaN       NaN       NaN       NaN       NaN   NaN   \n",
       "1          NaN       NaN       NaN       NaN       NaN       NaN   NaN   \n",
       "2          NaN       NaN       NaN       NaN       NaN       NaN   NaN   \n",
       "3          NaN       NaN       NaN       NaN       NaN       NaN   NaN   \n",
       "4          NaN       NaN       NaN       NaN       NaN       NaN   NaN   \n",
       "\n",
       "  GNIS_ID UNIT_TYPE CREATED_BY METADATA PARKNAME CreationDate Creator  \\\n",
       "0     NaN       NaN        NaN      NaN      NaN          NaN     NaN   \n",
       "1     NaN       NaN        NaN      NaN      NaN          NaN     NaN   \n",
       "2     NaN       NaN        NaN      NaN      NaN          NaN     NaN   \n",
       "3     NaN       NaN        NaN      NaN      NaN          NaN     NaN   \n",
       "4     NaN       NaN        NaN      NaN      NaN          NaN     NaN   \n",
       "\n",
       "  EditDate Editor GlobalID  Shape__Area  Shape__Length  RGN  CRASH_DATE  \\\n",
       "0      NaN    NaN      NaN          NaN            NaN  MWR  2013-06-15   \n",
       "1      NaN    NaN      NaN          NaN            NaN  MWR  2013-08-03   \n",
       "2      NaN    NaN      NaN          NaN            NaN  NER  2013-09-05   \n",
       "3      NaN    NaN      NaN          NaN            NaN  NER  2013-10-06   \n",
       "4      NaN    NaN      NaN          NaN            NaN  NER  2013-10-06   \n",
       "\n",
       "  CRASH_TIME CRASH_YEAR    INCID_NO  \n",
       "0       1400       2013  NP12000078  \n",
       "1       1056       2013  NP12000378  \n",
       "2       1203       2013  NP12000550  \n",
       "3       0910       2013  NP12000911  \n",
       "4       1142       2013  NP12000935  "
      ]
     },
     "execution_count": 196,
     "metadata": {},
     "output_type": "execute_result"
    }
   ],
   "source": [
    "# reformat crash date, time, and year; separate into individual columns\n",
    "imars_crash_expanded['Crash_Date_Time']=pd.to_datetime(imars_crash_expanded['Crash_Date_Time'], \n",
    "                                                   format='%Y%m%d %H:%M:%S:%f')\n",
    "imars_crash_expanded['CRASH_DATE'] = imars_crash_expanded['Crash_Date_Time'].dt.strftime('%Y-%m-%d')\n",
    "imars_crash_expanded['CRASH_TIME'] = imars_crash_expanded['Crash_Date_Time'].dt.strftime('%H%M')\n",
    "imars_crash_expanded['CRASH_YEAR'] = imars_crash_expanded['Crash_Date_Time'].dt.strftime('%Y')\n",
    "imars_crash_expanded.head()"
   ]
  },
  {
   "cell_type": "code",
   "execution_count": 197,
   "metadata": {},
   "outputs": [],
   "source": [
    "# cleaned data, all original rows and columns\n",
    "imars_crash_expanded.to_csv(\"./IMARS_crash_full.csv\",index=False)"
   ]
  },
  {
   "cell_type": "code",
   "execution_count": 198,
   "metadata": {},
   "outputs": [],
   "source": [
    "# rename column to match CDS column name\n",
    "imars_crash_expanded['INCID_NO'] = imars_crash_details['IMARS_Record_No']\n",
    "# parse out crucial basic crash info \n",
    "imars_crash_slim = imars_crash_expanded[['INCID_NO','Latitude','Longitude','Park','RGN','CRASH_DATE','CRASH_TIME','CRASH_YEAR']]\n",
    "imars_crash_slim = imars_crash_slim.rename(columns={'Latitude':'LATITUDE','Longitude':'LONGITUDE'})"
   ]
  },
  {
   "cell_type": "code",
   "execution_count": 199,
   "metadata": {},
   "outputs": [
    {
     "data": {
      "text/plain": [
       "(12790, 8)"
      ]
     },
     "execution_count": 199,
     "metadata": {},
     "output_type": "execute_result"
    }
   ],
   "source": [
    "imars_crash_slim.shape"
   ]
  },
  {
   "cell_type": "code",
   "execution_count": 200,
   "metadata": {},
   "outputs": [],
   "source": [
    "# cleaned data, basic crash info columns\n",
    "imars_crash_slim.to_csv(\"./IMARS_crash_slim.csv\",index=False)"
   ]
  },
  {
   "cell_type": "markdown",
   "metadata": {},
   "source": [
    "## merge crash table with other IMARS tables"
   ]
  },
  {
   "cell_type": "code",
   "execution_count": 201,
   "metadata": {},
   "outputs": [
    {
     "data": {
      "text/html": [
       "<div>\n",
       "<style scoped>\n",
       "    .dataframe tbody tr th:only-of-type {\n",
       "        vertical-align: middle;\n",
       "    }\n",
       "\n",
       "    .dataframe tbody tr th {\n",
       "        vertical-align: top;\n",
       "    }\n",
       "\n",
       "    .dataframe thead th {\n",
       "        text-align: right;\n",
       "    }\n",
       "</style>\n",
       "<table border=\"1\" class=\"dataframe\">\n",
       "  <thead>\n",
       "    <tr style=\"text-align: right;\">\n",
       "      <th></th>\n",
       "      <th>IMARS_Record_No</th>\n",
       "      <th>Crash_Date_Time</th>\n",
       "      <th>Driver_Action</th>\n",
       "      <th>Driver_Condition</th>\n",
       "      <th>Driver_Distraction</th>\n",
       "      <th>Suspect_Alcohol</th>\n",
       "      <th>Alcohol_Test</th>\n",
       "      <th>Alcohol_Test_Result_1</th>\n",
       "      <th>Alcohol_Test_Result_2</th>\n",
       "      <th>Suspect_Drugs</th>\n",
       "      <th>Drug_Test</th>\n",
       "      <th>Violations_Issued</th>\n",
       "      <th>Seat_Position</th>\n",
       "      <th>Injury_Severity</th>\n",
       "      <th>Air_Bag_Deployed</th>\n",
       "      <th>Ejection</th>\n",
       "      <th>Injury_Transported_By</th>\n",
       "      <th>Safety_Equipment_Used</th>\n",
       "      <th>Vehicle_number</th>\n",
       "      <th>Injured_transported_by</th>\n",
       "      <th>Non_motorist_safety_equipment</th>\n",
       "      <th>Non_motorist_action_circumstance_prior_to_crash</th>\n",
       "      <th>Non_motorist_action_circumstance_at_time_of_crash</th>\n",
       "      <th>Non_motorist_condition_at_time_of_crash</th>\n",
       "      <th>Non_motorist_distraction</th>\n",
       "      <th>Non_motorist_location_at_time_of_crash</th>\n",
       "      <th>Pedestrian_Type</th>\n",
       "      <th>Pedestrian_Type_Detail</th>\n",
       "      <th>Involvement</th>\n",
       "      <th>NUM_OCC</th>\n",
       "      <th>INCID_NO</th>\n",
       "      <th>LATITUDE</th>\n",
       "      <th>LONGITUDE</th>\n",
       "      <th>Park</th>\n",
       "      <th>RGN</th>\n",
       "      <th>CRASH_DATE</th>\n",
       "      <th>CRASH_TIME</th>\n",
       "      <th>CRASH_YEAR</th>\n",
       "    </tr>\n",
       "  </thead>\n",
       "  <tbody>\n",
       "    <tr>\n",
       "      <th>0</th>\n",
       "      <td>NP12000078</td>\n",
       "      <td>20120106 14:30:00:000</td>\n",
       "      <td>NaN</td>\n",
       "      <td>NaN</td>\n",
       "      <td>NaN</td>\n",
       "      <td>NaN</td>\n",
       "      <td>NaN</td>\n",
       "      <td>NaN</td>\n",
       "      <td>NaN</td>\n",
       "      <td>NaN</td>\n",
       "      <td>NaN</td>\n",
       "      <td>NaN</td>\n",
       "      <td>NaN</td>\n",
       "      <td>NaN</td>\n",
       "      <td>NaN</td>\n",
       "      <td>NaN</td>\n",
       "      <td>NaN</td>\n",
       "      <td>NaN</td>\n",
       "      <td>NaN</td>\n",
       "      <td>NaN</td>\n",
       "      <td>NaN</td>\n",
       "      <td>NaN</td>\n",
       "      <td>NaN</td>\n",
       "      <td>NaN</td>\n",
       "      <td>NaN</td>\n",
       "      <td>NaN</td>\n",
       "      <td>NaN</td>\n",
       "      <td>NaN</td>\n",
       "      <td>NaN</td>\n",
       "      <td>1.0</td>\n",
       "      <td>NP12000078</td>\n",
       "      <td>NaN</td>\n",
       "      <td>NaN</td>\n",
       "      <td>BUFF</td>\n",
       "      <td>MWR</td>\n",
       "      <td>2013-06-15</td>\n",
       "      <td>1400</td>\n",
       "      <td>2013</td>\n",
       "    </tr>\n",
       "    <tr>\n",
       "      <th>1</th>\n",
       "      <td>NP12000378</td>\n",
       "      <td>20120121 00:00:00:000</td>\n",
       "      <td>NaN</td>\n",
       "      <td>NaN</td>\n",
       "      <td>NaN</td>\n",
       "      <td>NaN</td>\n",
       "      <td>NaN</td>\n",
       "      <td>NaN</td>\n",
       "      <td>NaN</td>\n",
       "      <td>NaN</td>\n",
       "      <td>NaN</td>\n",
       "      <td>NaN</td>\n",
       "      <td>NaN</td>\n",
       "      <td>NaN</td>\n",
       "      <td>NaN</td>\n",
       "      <td>NaN</td>\n",
       "      <td>NaN</td>\n",
       "      <td>NaN</td>\n",
       "      <td>NaN</td>\n",
       "      <td>NaN</td>\n",
       "      <td>NaN</td>\n",
       "      <td>NaN</td>\n",
       "      <td>NaN</td>\n",
       "      <td>NaN</td>\n",
       "      <td>NaN</td>\n",
       "      <td>NaN</td>\n",
       "      <td>NaN</td>\n",
       "      <td>NaN</td>\n",
       "      <td>NaN</td>\n",
       "      <td>1.0</td>\n",
       "      <td>NP12000378</td>\n",
       "      <td>NaN</td>\n",
       "      <td>NaN</td>\n",
       "      <td>MORU</td>\n",
       "      <td>MWR</td>\n",
       "      <td>2013-08-03</td>\n",
       "      <td>1056</td>\n",
       "      <td>2013</td>\n",
       "    </tr>\n",
       "    <tr>\n",
       "      <th>2</th>\n",
       "      <td>NP12000550</td>\n",
       "      <td>20120131 13:51:00:000</td>\n",
       "      <td>NaN</td>\n",
       "      <td>NaN</td>\n",
       "      <td>NaN</td>\n",
       "      <td>NaN</td>\n",
       "      <td>NaN</td>\n",
       "      <td>NaN</td>\n",
       "      <td>NaN</td>\n",
       "      <td>NaN</td>\n",
       "      <td>NaN</td>\n",
       "      <td>NaN</td>\n",
       "      <td>NaN</td>\n",
       "      <td>NaN</td>\n",
       "      <td>NaN</td>\n",
       "      <td>NaN</td>\n",
       "      <td>NaN</td>\n",
       "      <td>NaN</td>\n",
       "      <td>NaN</td>\n",
       "      <td>NaN</td>\n",
       "      <td>NaN</td>\n",
       "      <td>NaN</td>\n",
       "      <td>NaN</td>\n",
       "      <td>NaN</td>\n",
       "      <td>NaN</td>\n",
       "      <td>NaN</td>\n",
       "      <td>NaN</td>\n",
       "      <td>NaN</td>\n",
       "      <td>NaN</td>\n",
       "      <td>1.0</td>\n",
       "      <td>NP12000550</td>\n",
       "      <td>NaN</td>\n",
       "      <td>NaN</td>\n",
       "      <td>SHEN</td>\n",
       "      <td>NER</td>\n",
       "      <td>2013-09-05</td>\n",
       "      <td>1203</td>\n",
       "      <td>2013</td>\n",
       "    </tr>\n",
       "    <tr>\n",
       "      <th>3</th>\n",
       "      <td>NP12000911</td>\n",
       "      <td>20120208 00:00:00:000</td>\n",
       "      <td>NaN</td>\n",
       "      <td>NaN</td>\n",
       "      <td>NaN</td>\n",
       "      <td>NaN</td>\n",
       "      <td>NaN</td>\n",
       "      <td>NaN</td>\n",
       "      <td>NaN</td>\n",
       "      <td>NaN</td>\n",
       "      <td>NaN</td>\n",
       "      <td>NaN</td>\n",
       "      <td>NaN</td>\n",
       "      <td>NaN</td>\n",
       "      <td>NaN</td>\n",
       "      <td>NaN</td>\n",
       "      <td>NaN</td>\n",
       "      <td>NaN</td>\n",
       "      <td>NaN</td>\n",
       "      <td>NaN</td>\n",
       "      <td>NaN</td>\n",
       "      <td>NaN</td>\n",
       "      <td>NaN</td>\n",
       "      <td>NaN</td>\n",
       "      <td>NaN</td>\n",
       "      <td>NaN</td>\n",
       "      <td>NaN</td>\n",
       "      <td>NaN</td>\n",
       "      <td>NaN</td>\n",
       "      <td>1.0</td>\n",
       "      <td>NP12000911</td>\n",
       "      <td>NaN</td>\n",
       "      <td>NaN</td>\n",
       "      <td>SHEN</td>\n",
       "      <td>NER</td>\n",
       "      <td>2013-10-06</td>\n",
       "      <td>0910</td>\n",
       "      <td>2013</td>\n",
       "    </tr>\n",
       "    <tr>\n",
       "      <th>4</th>\n",
       "      <td>NP12000935</td>\n",
       "      <td>20120215 10:15:00:000</td>\n",
       "      <td>NaN</td>\n",
       "      <td>NaN</td>\n",
       "      <td>NaN</td>\n",
       "      <td>NaN</td>\n",
       "      <td>NaN</td>\n",
       "      <td>NaN</td>\n",
       "      <td>NaN</td>\n",
       "      <td>NaN</td>\n",
       "      <td>NaN</td>\n",
       "      <td>NaN</td>\n",
       "      <td>NaN</td>\n",
       "      <td>NaN</td>\n",
       "      <td>NaN</td>\n",
       "      <td>NaN</td>\n",
       "      <td>NaN</td>\n",
       "      <td>NaN</td>\n",
       "      <td>NaN</td>\n",
       "      <td>NaN</td>\n",
       "      <td>NaN</td>\n",
       "      <td>NaN</td>\n",
       "      <td>NaN</td>\n",
       "      <td>NaN</td>\n",
       "      <td>NaN</td>\n",
       "      <td>NaN</td>\n",
       "      <td>NaN</td>\n",
       "      <td>NaN</td>\n",
       "      <td>NaN</td>\n",
       "      <td>1.0</td>\n",
       "      <td>NP12000935</td>\n",
       "      <td>NaN</td>\n",
       "      <td>NaN</td>\n",
       "      <td>SHEN</td>\n",
       "      <td>NER</td>\n",
       "      <td>2013-10-06</td>\n",
       "      <td>1142</td>\n",
       "      <td>2013</td>\n",
       "    </tr>\n",
       "  </tbody>\n",
       "</table>\n",
       "</div>"
      ],
      "text/plain": [
       "  IMARS_Record_No        Crash_Date_Time Driver_Action Driver_Condition  \\\n",
       "0      NP12000078  20120106 14:30:00:000           NaN              NaN   \n",
       "1      NP12000378  20120121 00:00:00:000           NaN              NaN   \n",
       "2      NP12000550  20120131 13:51:00:000           NaN              NaN   \n",
       "3      NP12000911  20120208 00:00:00:000           NaN              NaN   \n",
       "4      NP12000935  20120215 10:15:00:000           NaN              NaN   \n",
       "\n",
       "  Driver_Distraction Suspect_Alcohol Alcohol_Test  Alcohol_Test_Result_1  \\\n",
       "0                NaN             NaN          NaN                    NaN   \n",
       "1                NaN             NaN          NaN                    NaN   \n",
       "2                NaN             NaN          NaN                    NaN   \n",
       "3                NaN             NaN          NaN                    NaN   \n",
       "4                NaN             NaN          NaN                    NaN   \n",
       "\n",
       "   Alcohol_Test_Result_2 Suspect_Drugs Drug_Test Violations_Issued  \\\n",
       "0                    NaN           NaN       NaN               NaN   \n",
       "1                    NaN           NaN       NaN               NaN   \n",
       "2                    NaN           NaN       NaN               NaN   \n",
       "3                    NaN           NaN       NaN               NaN   \n",
       "4                    NaN           NaN       NaN               NaN   \n",
       "\n",
       "  Seat_Position Injury_Severity Air_Bag_Deployed Ejection  \\\n",
       "0           NaN             NaN              NaN      NaN   \n",
       "1           NaN             NaN              NaN      NaN   \n",
       "2           NaN             NaN              NaN      NaN   \n",
       "3           NaN             NaN              NaN      NaN   \n",
       "4           NaN             NaN              NaN      NaN   \n",
       "\n",
       "  Injury_Transported_By Safety_Equipment_Used  Vehicle_number  \\\n",
       "0                   NaN                   NaN             NaN   \n",
       "1                   NaN                   NaN             NaN   \n",
       "2                   NaN                   NaN             NaN   \n",
       "3                   NaN                   NaN             NaN   \n",
       "4                   NaN                   NaN             NaN   \n",
       "\n",
       "  Injured_transported_by Non_motorist_safety_equipment  \\\n",
       "0                    NaN                           NaN   \n",
       "1                    NaN                           NaN   \n",
       "2                    NaN                           NaN   \n",
       "3                    NaN                           NaN   \n",
       "4                    NaN                           NaN   \n",
       "\n",
       "  Non_motorist_action_circumstance_prior_to_crash  \\\n",
       "0                                             NaN   \n",
       "1                                             NaN   \n",
       "2                                             NaN   \n",
       "3                                             NaN   \n",
       "4                                             NaN   \n",
       "\n",
       "  Non_motorist_action_circumstance_at_time_of_crash  \\\n",
       "0                                               NaN   \n",
       "1                                               NaN   \n",
       "2                                               NaN   \n",
       "3                                               NaN   \n",
       "4                                               NaN   \n",
       "\n",
       "  Non_motorist_condition_at_time_of_crash Non_motorist_distraction  \\\n",
       "0                                     NaN                      NaN   \n",
       "1                                     NaN                      NaN   \n",
       "2                                     NaN                      NaN   \n",
       "3                                     NaN                      NaN   \n",
       "4                                     NaN                      NaN   \n",
       "\n",
       "  Non_motorist_location_at_time_of_crash Pedestrian_Type  \\\n",
       "0                                    NaN             NaN   \n",
       "1                                    NaN             NaN   \n",
       "2                                    NaN             NaN   \n",
       "3                                    NaN             NaN   \n",
       "4                                    NaN             NaN   \n",
       "\n",
       "  Pedestrian_Type_Detail Involvement  NUM_OCC    INCID_NO  LATITUDE  \\\n",
       "0                    NaN         NaN      1.0  NP12000078       NaN   \n",
       "1                    NaN         NaN      1.0  NP12000378       NaN   \n",
       "2                    NaN         NaN      1.0  NP12000550       NaN   \n",
       "3                    NaN         NaN      1.0  NP12000911       NaN   \n",
       "4                    NaN         NaN      1.0  NP12000935       NaN   \n",
       "\n",
       "   LONGITUDE  Park  RGN  CRASH_DATE CRASH_TIME CRASH_YEAR  \n",
       "0        NaN  BUFF  MWR  2013-06-15       1400       2013  \n",
       "1        NaN  MORU  MWR  2013-08-03       1056       2013  \n",
       "2        NaN  SHEN  NER  2013-09-05       1203       2013  \n",
       "3        NaN  SHEN  NER  2013-10-06       0910       2013  \n",
       "4        NaN  SHEN  NER  2013-10-06       1142       2013  "
      ]
     },
     "execution_count": 201,
     "metadata": {},
     "output_type": "execute_result"
    }
   ],
   "source": [
    "imars_passenger_merged = imars_passenger.merge(imars_crash_slim, how='right', on='INCID_NO')\n",
    "imars_passenger_merged.drop_duplicates() \n",
    "imars_passenger_merged.head()"
   ]
  },
  {
   "cell_type": "code",
   "execution_count": 202,
   "metadata": {},
   "outputs": [
    {
     "data": {
      "text/plain": [
       "(23044, 38)"
      ]
     },
     "execution_count": 202,
     "metadata": {},
     "output_type": "execute_result"
    }
   ],
   "source": [
    "imars_passenger_merged.shape"
   ]
  },
  {
   "cell_type": "code",
   "execution_count": 203,
   "metadata": {},
   "outputs": [],
   "source": [
    "# cleaned, non-aggregated dataset (one row per person involved, all original columns) merged to include basic crash info columns\n",
    "imars_passenger_merged.to_csv(\"./IMARS_passenger_full.csv\",index=False)"
   ]
  },
  {
   "cell_type": "code",
   "execution_count": 204,
   "metadata": {},
   "outputs": [
    {
     "data": {
      "text/plain": [
       "(12790, 19)"
      ]
     },
     "execution_count": 204,
     "metadata": {},
     "output_type": "execute_result"
    }
   ],
   "source": [
    "imars_passenger_slim_merged = imars_passenger_slim_agg.merge(imars_crash_slim, how='right', on='INCID_NO')\n",
    "imars_passenger_slim_merged.drop_duplicates() \n",
    "# result should have no more than 12790 rows and exactly passenger_slim + crash_slim -1 columns (19)\n",
    "imars_passenger_slim_merged.shape"
   ]
  },
  {
   "cell_type": "code",
   "execution_count": 205,
   "metadata": {},
   "outputs": [
    {
     "data": {
      "text/html": [
       "<div>\n",
       "<style scoped>\n",
       "    .dataframe tbody tr th:only-of-type {\n",
       "        vertical-align: middle;\n",
       "    }\n",
       "\n",
       "    .dataframe tbody tr th {\n",
       "        vertical-align: top;\n",
       "    }\n",
       "\n",
       "    .dataframe thead th {\n",
       "        text-align: right;\n",
       "    }\n",
       "</style>\n",
       "<table border=\"1\" class=\"dataframe\">\n",
       "  <thead>\n",
       "    <tr style=\"text-align: right;\">\n",
       "      <th></th>\n",
       "      <th>INCID_NO</th>\n",
       "      <th>NUM_OCC</th>\n",
       "      <th>No Injury</th>\n",
       "      <th>Possible Injury</th>\n",
       "      <th>Non-incapacitating Injury</th>\n",
       "      <th>Incapacitating Injury</th>\n",
       "      <th>Fatality</th>\n",
       "      <th>Unknown Injury</th>\n",
       "      <th>Motorist Distraction</th>\n",
       "      <th>Non-motorist Distraction</th>\n",
       "      <th>Num_Fatalities</th>\n",
       "      <th>Num_Injuries</th>\n",
       "      <th>LATITUDE</th>\n",
       "      <th>LONGITUDE</th>\n",
       "      <th>Park</th>\n",
       "      <th>RGN</th>\n",
       "      <th>CRASH_DATE</th>\n",
       "      <th>CRASH_TIME</th>\n",
       "      <th>CRASH_YEAR</th>\n",
       "    </tr>\n",
       "  </thead>\n",
       "  <tbody>\n",
       "    <tr>\n",
       "      <th>0</th>\n",
       "      <td>NP12000078</td>\n",
       "      <td>1.0</td>\n",
       "      <td>0.0</td>\n",
       "      <td>0.0</td>\n",
       "      <td>0.0</td>\n",
       "      <td>0.0</td>\n",
       "      <td>0.0</td>\n",
       "      <td>0.0</td>\n",
       "      <td>0.0</td>\n",
       "      <td>0.0</td>\n",
       "      <td>0.0</td>\n",
       "      <td>0.0</td>\n",
       "      <td>NaN</td>\n",
       "      <td>NaN</td>\n",
       "      <td>BUFF</td>\n",
       "      <td>MWR</td>\n",
       "      <td>2013-06-15</td>\n",
       "      <td>1400</td>\n",
       "      <td>2013</td>\n",
       "    </tr>\n",
       "    <tr>\n",
       "      <th>1</th>\n",
       "      <td>NP12000378</td>\n",
       "      <td>1.0</td>\n",
       "      <td>0.0</td>\n",
       "      <td>0.0</td>\n",
       "      <td>0.0</td>\n",
       "      <td>0.0</td>\n",
       "      <td>0.0</td>\n",
       "      <td>0.0</td>\n",
       "      <td>0.0</td>\n",
       "      <td>0.0</td>\n",
       "      <td>0.0</td>\n",
       "      <td>0.0</td>\n",
       "      <td>NaN</td>\n",
       "      <td>NaN</td>\n",
       "      <td>MORU</td>\n",
       "      <td>MWR</td>\n",
       "      <td>2013-08-03</td>\n",
       "      <td>1056</td>\n",
       "      <td>2013</td>\n",
       "    </tr>\n",
       "    <tr>\n",
       "      <th>2</th>\n",
       "      <td>NP12000550</td>\n",
       "      <td>1.0</td>\n",
       "      <td>0.0</td>\n",
       "      <td>0.0</td>\n",
       "      <td>0.0</td>\n",
       "      <td>0.0</td>\n",
       "      <td>0.0</td>\n",
       "      <td>0.0</td>\n",
       "      <td>0.0</td>\n",
       "      <td>0.0</td>\n",
       "      <td>0.0</td>\n",
       "      <td>0.0</td>\n",
       "      <td>NaN</td>\n",
       "      <td>NaN</td>\n",
       "      <td>SHEN</td>\n",
       "      <td>NER</td>\n",
       "      <td>2013-09-05</td>\n",
       "      <td>1203</td>\n",
       "      <td>2013</td>\n",
       "    </tr>\n",
       "    <tr>\n",
       "      <th>3</th>\n",
       "      <td>NP12000911</td>\n",
       "      <td>1.0</td>\n",
       "      <td>0.0</td>\n",
       "      <td>0.0</td>\n",
       "      <td>0.0</td>\n",
       "      <td>0.0</td>\n",
       "      <td>0.0</td>\n",
       "      <td>0.0</td>\n",
       "      <td>0.0</td>\n",
       "      <td>0.0</td>\n",
       "      <td>0.0</td>\n",
       "      <td>0.0</td>\n",
       "      <td>NaN</td>\n",
       "      <td>NaN</td>\n",
       "      <td>SHEN</td>\n",
       "      <td>NER</td>\n",
       "      <td>2013-10-06</td>\n",
       "      <td>0910</td>\n",
       "      <td>2013</td>\n",
       "    </tr>\n",
       "    <tr>\n",
       "      <th>4</th>\n",
       "      <td>NP12000935</td>\n",
       "      <td>1.0</td>\n",
       "      <td>0.0</td>\n",
       "      <td>0.0</td>\n",
       "      <td>0.0</td>\n",
       "      <td>0.0</td>\n",
       "      <td>0.0</td>\n",
       "      <td>0.0</td>\n",
       "      <td>0.0</td>\n",
       "      <td>0.0</td>\n",
       "      <td>0.0</td>\n",
       "      <td>0.0</td>\n",
       "      <td>NaN</td>\n",
       "      <td>NaN</td>\n",
       "      <td>SHEN</td>\n",
       "      <td>NER</td>\n",
       "      <td>2013-10-06</td>\n",
       "      <td>1142</td>\n",
       "      <td>2013</td>\n",
       "    </tr>\n",
       "  </tbody>\n",
       "</table>\n",
       "</div>"
      ],
      "text/plain": [
       "     INCID_NO  NUM_OCC  No Injury  Possible Injury  Non-incapacitating Injury  \\\n",
       "0  NP12000078      1.0        0.0              0.0                        0.0   \n",
       "1  NP12000378      1.0        0.0              0.0                        0.0   \n",
       "2  NP12000550      1.0        0.0              0.0                        0.0   \n",
       "3  NP12000911      1.0        0.0              0.0                        0.0   \n",
       "4  NP12000935      1.0        0.0              0.0                        0.0   \n",
       "\n",
       "   Incapacitating Injury  Fatality  Unknown Injury  Motorist Distraction  \\\n",
       "0                    0.0       0.0             0.0                   0.0   \n",
       "1                    0.0       0.0             0.0                   0.0   \n",
       "2                    0.0       0.0             0.0                   0.0   \n",
       "3                    0.0       0.0             0.0                   0.0   \n",
       "4                    0.0       0.0             0.0                   0.0   \n",
       "\n",
       "   Non-motorist Distraction  Num_Fatalities  Num_Injuries  LATITUDE  \\\n",
       "0                       0.0             0.0           0.0       NaN   \n",
       "1                       0.0             0.0           0.0       NaN   \n",
       "2                       0.0             0.0           0.0       NaN   \n",
       "3                       0.0             0.0           0.0       NaN   \n",
       "4                       0.0             0.0           0.0       NaN   \n",
       "\n",
       "   LONGITUDE  Park  RGN  CRASH_DATE CRASH_TIME CRASH_YEAR  \n",
       "0        NaN  BUFF  MWR  2013-06-15       1400       2013  \n",
       "1        NaN  MORU  MWR  2013-08-03       1056       2013  \n",
       "2        NaN  SHEN  NER  2013-09-05       1203       2013  \n",
       "3        NaN  SHEN  NER  2013-10-06       0910       2013  \n",
       "4        NaN  SHEN  NER  2013-10-06       1142       2013  "
      ]
     },
     "execution_count": 205,
     "metadata": {},
     "output_type": "execute_result"
    }
   ],
   "source": [
    "imars_passenger_slim_merged.head()"
   ]
  },
  {
   "cell_type": "code",
   "execution_count": 206,
   "metadata": {},
   "outputs": [],
   "source": [
    "# cleaned and aggregated distilled dataset (one row per crash, only columns of interest) merged to include basic crash info\n",
    "imars_passenger_slim_merged.to_csv(\"./IMARS_passenger_slim.csv\",index=False)"
   ]
  },
  {
   "cell_type": "code",
   "execution_count": 207,
   "metadata": {},
   "outputs": [
    {
     "data": {
      "text/html": [
       "<div>\n",
       "<style scoped>\n",
       "    .dataframe tbody tr th:only-of-type {\n",
       "        vertical-align: middle;\n",
       "    }\n",
       "\n",
       "    .dataframe tbody tr th {\n",
       "        vertical-align: top;\n",
       "    }\n",
       "\n",
       "    .dataframe thead th {\n",
       "        text-align: right;\n",
       "    }\n",
       "</style>\n",
       "<table border=\"1\" class=\"dataframe\">\n",
       "  <thead>\n",
       "    <tr style=\"text-align: right;\">\n",
       "      <th></th>\n",
       "      <th>IMARS_Record_No</th>\n",
       "      <th>Crash_Date_Time</th>\n",
       "      <th>Vehicle_Number</th>\n",
       "      <th>Number_of_Occupants</th>\n",
       "      <th>Vehicle_Towed</th>\n",
       "      <th>Insurance_verified</th>\n",
       "      <th>Initial_Impact_Point</th>\n",
       "      <th>Most_Damaged_Area</th>\n",
       "      <th>Extent_of_Damage</th>\n",
       "      <th>Direction_of_Travel_Prior_to_Crash</th>\n",
       "      <th>Posted_Speed</th>\n",
       "      <th>First_Event_Type</th>\n",
       "      <th>First_Event</th>\n",
       "      <th>Second_Event_Type</th>\n",
       "      <th>Second_Event</th>\n",
       "      <th>Third_Event_Type</th>\n",
       "      <th>Third_Event</th>\n",
       "      <th>Fourth_Event_Type</th>\n",
       "      <th>Fourth_Event</th>\n",
       "      <th>Motor_Vehicle_Unit_Type</th>\n",
       "      <th>Vehicle_Owner</th>\n",
       "      <th>Vehicle_Type</th>\n",
       "      <th>Non_Commercial_Trailer_Style</th>\n",
       "      <th>Emergency_Vehicle_Use</th>\n",
       "      <th>Emergency_Equipment_Activated</th>\n",
       "      <th>Special_Function_of_MV_in_Transport</th>\n",
       "      <th>Motor_Vehicle_Contributing_Circumstance</th>\n",
       "      <th>Vehicle_Maneuver_Action_Prior_to_Crash</th>\n",
       "      <th>Road_Surface</th>\n",
       "      <th>Grade</th>\n",
       "      <th>Roadway_Alignment</th>\n",
       "      <th>Total_Number_of_Lanes</th>\n",
       "      <th>Traffic_Control</th>\n",
       "      <th>Traffic_Control_Working_Properly</th>\n",
       "      <th>Roadway_Description</th>\n",
       "      <th>Commercial_Non_Commercial</th>\n",
       "      <th>Number_of_Axles</th>\n",
       "      <th>Gross_Vehicle_Weight</th>\n",
       "      <th>Combination_GVW</th>\n",
       "      <th>Commercial_Cargo_Body_Type</th>\n",
       "      <th>Commercial_Cargo</th>\n",
       "      <th>Commercial_MV_Configuration</th>\n",
       "      <th>Identification_Number_Type</th>\n",
       "      <th>Hazmat_1_Class</th>\n",
       "      <th>Hazmat_1_ID</th>\n",
       "      <th>Hazmat_2_Class</th>\n",
       "      <th>Hazmat_2_ID</th>\n",
       "      <th>Hazmat_3_Class</th>\n",
       "      <th>Hazmat_3_ID</th>\n",
       "      <th>Hazmat_4_Class</th>\n",
       "      <th>Hazmat_4_ID</th>\n",
       "      <th>INCID_NO</th>\n",
       "      <th>LATITUDE</th>\n",
       "      <th>LONGITUDE</th>\n",
       "      <th>Park</th>\n",
       "      <th>RGN</th>\n",
       "      <th>CRASH_DATE</th>\n",
       "      <th>CRASH_TIME</th>\n",
       "      <th>CRASH_YEAR</th>\n",
       "    </tr>\n",
       "  </thead>\n",
       "  <tbody>\n",
       "    <tr>\n",
       "      <th>0</th>\n",
       "      <td>NP12000078</td>\n",
       "      <td>20120106 14:30:00:000</td>\n",
       "      <td>NaN</td>\n",
       "      <td>NaN</td>\n",
       "      <td>NaN</td>\n",
       "      <td>NaN</td>\n",
       "      <td>NaN</td>\n",
       "      <td>NaN</td>\n",
       "      <td>NaN</td>\n",
       "      <td>NaN</td>\n",
       "      <td>NaN</td>\n",
       "      <td>NaN</td>\n",
       "      <td>NaN</td>\n",
       "      <td>NaN</td>\n",
       "      <td>NaN</td>\n",
       "      <td>NaN</td>\n",
       "      <td>NaN</td>\n",
       "      <td>NaN</td>\n",
       "      <td>NaN</td>\n",
       "      <td>NaN</td>\n",
       "      <td>NaN</td>\n",
       "      <td>NaN</td>\n",
       "      <td>NaN</td>\n",
       "      <td>NaN</td>\n",
       "      <td>NaN</td>\n",
       "      <td>NaN</td>\n",
       "      <td>NaN</td>\n",
       "      <td>NaN</td>\n",
       "      <td>NaN</td>\n",
       "      <td>NaN</td>\n",
       "      <td>NaN</td>\n",
       "      <td>NaN</td>\n",
       "      <td>NaN</td>\n",
       "      <td>NaN</td>\n",
       "      <td>NaN</td>\n",
       "      <td>NaN</td>\n",
       "      <td>NaN</td>\n",
       "      <td>NaN</td>\n",
       "      <td>NaN</td>\n",
       "      <td>NaN</td>\n",
       "      <td>NaN</td>\n",
       "      <td>NaN</td>\n",
       "      <td>NaN</td>\n",
       "      <td>NaN</td>\n",
       "      <td>NaN</td>\n",
       "      <td>NaN</td>\n",
       "      <td>NaN</td>\n",
       "      <td>NaN</td>\n",
       "      <td>NaN</td>\n",
       "      <td>NaN</td>\n",
       "      <td>NaN</td>\n",
       "      <td>NP12000078</td>\n",
       "      <td>NaN</td>\n",
       "      <td>NaN</td>\n",
       "      <td>BUFF</td>\n",
       "      <td>MWR</td>\n",
       "      <td>2013-06-15</td>\n",
       "      <td>1400</td>\n",
       "      <td>2013</td>\n",
       "    </tr>\n",
       "    <tr>\n",
       "      <th>1</th>\n",
       "      <td>NP12000378</td>\n",
       "      <td>20120121 00:00:00:000</td>\n",
       "      <td>NaN</td>\n",
       "      <td>NaN</td>\n",
       "      <td>NaN</td>\n",
       "      <td>NaN</td>\n",
       "      <td>NaN</td>\n",
       "      <td>NaN</td>\n",
       "      <td>NaN</td>\n",
       "      <td>NaN</td>\n",
       "      <td>NaN</td>\n",
       "      <td>NaN</td>\n",
       "      <td>NaN</td>\n",
       "      <td>NaN</td>\n",
       "      <td>NaN</td>\n",
       "      <td>NaN</td>\n",
       "      <td>NaN</td>\n",
       "      <td>NaN</td>\n",
       "      <td>NaN</td>\n",
       "      <td>NaN</td>\n",
       "      <td>NaN</td>\n",
       "      <td>NaN</td>\n",
       "      <td>NaN</td>\n",
       "      <td>NaN</td>\n",
       "      <td>NaN</td>\n",
       "      <td>NaN</td>\n",
       "      <td>NaN</td>\n",
       "      <td>NaN</td>\n",
       "      <td>NaN</td>\n",
       "      <td>NaN</td>\n",
       "      <td>NaN</td>\n",
       "      <td>NaN</td>\n",
       "      <td>NaN</td>\n",
       "      <td>NaN</td>\n",
       "      <td>NaN</td>\n",
       "      <td>NaN</td>\n",
       "      <td>NaN</td>\n",
       "      <td>NaN</td>\n",
       "      <td>NaN</td>\n",
       "      <td>NaN</td>\n",
       "      <td>NaN</td>\n",
       "      <td>NaN</td>\n",
       "      <td>NaN</td>\n",
       "      <td>NaN</td>\n",
       "      <td>NaN</td>\n",
       "      <td>NaN</td>\n",
       "      <td>NaN</td>\n",
       "      <td>NaN</td>\n",
       "      <td>NaN</td>\n",
       "      <td>NaN</td>\n",
       "      <td>NaN</td>\n",
       "      <td>NP12000378</td>\n",
       "      <td>NaN</td>\n",
       "      <td>NaN</td>\n",
       "      <td>MORU</td>\n",
       "      <td>MWR</td>\n",
       "      <td>2013-08-03</td>\n",
       "      <td>1056</td>\n",
       "      <td>2013</td>\n",
       "    </tr>\n",
       "    <tr>\n",
       "      <th>2</th>\n",
       "      <td>NP12000550</td>\n",
       "      <td>20120131 13:51:00:000</td>\n",
       "      <td>NaN</td>\n",
       "      <td>NaN</td>\n",
       "      <td>NaN</td>\n",
       "      <td>NaN</td>\n",
       "      <td>NaN</td>\n",
       "      <td>NaN</td>\n",
       "      <td>NaN</td>\n",
       "      <td>NaN</td>\n",
       "      <td>NaN</td>\n",
       "      <td>NaN</td>\n",
       "      <td>NaN</td>\n",
       "      <td>NaN</td>\n",
       "      <td>NaN</td>\n",
       "      <td>NaN</td>\n",
       "      <td>NaN</td>\n",
       "      <td>NaN</td>\n",
       "      <td>NaN</td>\n",
       "      <td>NaN</td>\n",
       "      <td>NaN</td>\n",
       "      <td>NaN</td>\n",
       "      <td>NaN</td>\n",
       "      <td>NaN</td>\n",
       "      <td>NaN</td>\n",
       "      <td>NaN</td>\n",
       "      <td>NaN</td>\n",
       "      <td>NaN</td>\n",
       "      <td>NaN</td>\n",
       "      <td>NaN</td>\n",
       "      <td>NaN</td>\n",
       "      <td>NaN</td>\n",
       "      <td>NaN</td>\n",
       "      <td>NaN</td>\n",
       "      <td>NaN</td>\n",
       "      <td>NaN</td>\n",
       "      <td>NaN</td>\n",
       "      <td>NaN</td>\n",
       "      <td>NaN</td>\n",
       "      <td>NaN</td>\n",
       "      <td>NaN</td>\n",
       "      <td>NaN</td>\n",
       "      <td>NaN</td>\n",
       "      <td>NaN</td>\n",
       "      <td>NaN</td>\n",
       "      <td>NaN</td>\n",
       "      <td>NaN</td>\n",
       "      <td>NaN</td>\n",
       "      <td>NaN</td>\n",
       "      <td>NaN</td>\n",
       "      <td>NaN</td>\n",
       "      <td>NP12000550</td>\n",
       "      <td>NaN</td>\n",
       "      <td>NaN</td>\n",
       "      <td>SHEN</td>\n",
       "      <td>NER</td>\n",
       "      <td>2013-09-05</td>\n",
       "      <td>1203</td>\n",
       "      <td>2013</td>\n",
       "    </tr>\n",
       "    <tr>\n",
       "      <th>3</th>\n",
       "      <td>NP12000911</td>\n",
       "      <td>20120208 00:00:00:000</td>\n",
       "      <td>NaN</td>\n",
       "      <td>NaN</td>\n",
       "      <td>NaN</td>\n",
       "      <td>NaN</td>\n",
       "      <td>NaN</td>\n",
       "      <td>NaN</td>\n",
       "      <td>NaN</td>\n",
       "      <td>NaN</td>\n",
       "      <td>NaN</td>\n",
       "      <td>NaN</td>\n",
       "      <td>NaN</td>\n",
       "      <td>NaN</td>\n",
       "      <td>NaN</td>\n",
       "      <td>NaN</td>\n",
       "      <td>NaN</td>\n",
       "      <td>NaN</td>\n",
       "      <td>NaN</td>\n",
       "      <td>NaN</td>\n",
       "      <td>NaN</td>\n",
       "      <td>NaN</td>\n",
       "      <td>NaN</td>\n",
       "      <td>NaN</td>\n",
       "      <td>NaN</td>\n",
       "      <td>NaN</td>\n",
       "      <td>NaN</td>\n",
       "      <td>NaN</td>\n",
       "      <td>NaN</td>\n",
       "      <td>NaN</td>\n",
       "      <td>NaN</td>\n",
       "      <td>NaN</td>\n",
       "      <td>NaN</td>\n",
       "      <td>NaN</td>\n",
       "      <td>NaN</td>\n",
       "      <td>NaN</td>\n",
       "      <td>NaN</td>\n",
       "      <td>NaN</td>\n",
       "      <td>NaN</td>\n",
       "      <td>NaN</td>\n",
       "      <td>NaN</td>\n",
       "      <td>NaN</td>\n",
       "      <td>NaN</td>\n",
       "      <td>NaN</td>\n",
       "      <td>NaN</td>\n",
       "      <td>NaN</td>\n",
       "      <td>NaN</td>\n",
       "      <td>NaN</td>\n",
       "      <td>NaN</td>\n",
       "      <td>NaN</td>\n",
       "      <td>NaN</td>\n",
       "      <td>NP12000911</td>\n",
       "      <td>NaN</td>\n",
       "      <td>NaN</td>\n",
       "      <td>SHEN</td>\n",
       "      <td>NER</td>\n",
       "      <td>2013-10-06</td>\n",
       "      <td>0910</td>\n",
       "      <td>2013</td>\n",
       "    </tr>\n",
       "    <tr>\n",
       "      <th>4</th>\n",
       "      <td>NP12000935</td>\n",
       "      <td>20120215 10:15:00:000</td>\n",
       "      <td>NaN</td>\n",
       "      <td>NaN</td>\n",
       "      <td>NaN</td>\n",
       "      <td>NaN</td>\n",
       "      <td>NaN</td>\n",
       "      <td>NaN</td>\n",
       "      <td>NaN</td>\n",
       "      <td>NaN</td>\n",
       "      <td>NaN</td>\n",
       "      <td>NaN</td>\n",
       "      <td>NaN</td>\n",
       "      <td>NaN</td>\n",
       "      <td>NaN</td>\n",
       "      <td>NaN</td>\n",
       "      <td>NaN</td>\n",
       "      <td>NaN</td>\n",
       "      <td>NaN</td>\n",
       "      <td>NaN</td>\n",
       "      <td>NaN</td>\n",
       "      <td>NaN</td>\n",
       "      <td>NaN</td>\n",
       "      <td>NaN</td>\n",
       "      <td>NaN</td>\n",
       "      <td>NaN</td>\n",
       "      <td>NaN</td>\n",
       "      <td>NaN</td>\n",
       "      <td>NaN</td>\n",
       "      <td>NaN</td>\n",
       "      <td>NaN</td>\n",
       "      <td>NaN</td>\n",
       "      <td>NaN</td>\n",
       "      <td>NaN</td>\n",
       "      <td>NaN</td>\n",
       "      <td>NaN</td>\n",
       "      <td>NaN</td>\n",
       "      <td>NaN</td>\n",
       "      <td>NaN</td>\n",
       "      <td>NaN</td>\n",
       "      <td>NaN</td>\n",
       "      <td>NaN</td>\n",
       "      <td>NaN</td>\n",
       "      <td>NaN</td>\n",
       "      <td>NaN</td>\n",
       "      <td>NaN</td>\n",
       "      <td>NaN</td>\n",
       "      <td>NaN</td>\n",
       "      <td>NaN</td>\n",
       "      <td>NaN</td>\n",
       "      <td>NaN</td>\n",
       "      <td>NP12000935</td>\n",
       "      <td>NaN</td>\n",
       "      <td>NaN</td>\n",
       "      <td>SHEN</td>\n",
       "      <td>NER</td>\n",
       "      <td>2013-10-06</td>\n",
       "      <td>1142</td>\n",
       "      <td>2013</td>\n",
       "    </tr>\n",
       "  </tbody>\n",
       "</table>\n",
       "</div>"
      ],
      "text/plain": [
       "  IMARS_Record_No        Crash_Date_Time  Vehicle_Number  Number_of_Occupants  \\\n",
       "0      NP12000078  20120106 14:30:00:000             NaN                  NaN   \n",
       "1      NP12000378  20120121 00:00:00:000             NaN                  NaN   \n",
       "2      NP12000550  20120131 13:51:00:000             NaN                  NaN   \n",
       "3      NP12000911  20120208 00:00:00:000             NaN                  NaN   \n",
       "4      NP12000935  20120215 10:15:00:000             NaN                  NaN   \n",
       "\n",
       "  Vehicle_Towed Insurance_verified Initial_Impact_Point Most_Damaged_Area  \\\n",
       "0           NaN                NaN                  NaN               NaN   \n",
       "1           NaN                NaN                  NaN               NaN   \n",
       "2           NaN                NaN                  NaN               NaN   \n",
       "3           NaN                NaN                  NaN               NaN   \n",
       "4           NaN                NaN                  NaN               NaN   \n",
       "\n",
       "  Extent_of_Damage Direction_of_Travel_Prior_to_Crash Posted_Speed  \\\n",
       "0              NaN                                NaN          NaN   \n",
       "1              NaN                                NaN          NaN   \n",
       "2              NaN                                NaN          NaN   \n",
       "3              NaN                                NaN          NaN   \n",
       "4              NaN                                NaN          NaN   \n",
       "\n",
       "  First_Event_Type First_Event Second_Event_Type Second_Event  \\\n",
       "0              NaN         NaN               NaN          NaN   \n",
       "1              NaN         NaN               NaN          NaN   \n",
       "2              NaN         NaN               NaN          NaN   \n",
       "3              NaN         NaN               NaN          NaN   \n",
       "4              NaN         NaN               NaN          NaN   \n",
       "\n",
       "  Third_Event_Type Third_Event Fourth_Event_Type Fourth_Event  \\\n",
       "0              NaN         NaN               NaN          NaN   \n",
       "1              NaN         NaN               NaN          NaN   \n",
       "2              NaN         NaN               NaN          NaN   \n",
       "3              NaN         NaN               NaN          NaN   \n",
       "4              NaN         NaN               NaN          NaN   \n",
       "\n",
       "  Motor_Vehicle_Unit_Type Vehicle_Owner Vehicle_Type  \\\n",
       "0                     NaN           NaN          NaN   \n",
       "1                     NaN           NaN          NaN   \n",
       "2                     NaN           NaN          NaN   \n",
       "3                     NaN           NaN          NaN   \n",
       "4                     NaN           NaN          NaN   \n",
       "\n",
       "  Non_Commercial_Trailer_Style Emergency_Vehicle_Use  \\\n",
       "0                          NaN                   NaN   \n",
       "1                          NaN                   NaN   \n",
       "2                          NaN                   NaN   \n",
       "3                          NaN                   NaN   \n",
       "4                          NaN                   NaN   \n",
       "\n",
       "  Emergency_Equipment_Activated Special_Function_of_MV_in_Transport  \\\n",
       "0                           NaN                                 NaN   \n",
       "1                           NaN                                 NaN   \n",
       "2                           NaN                                 NaN   \n",
       "3                           NaN                                 NaN   \n",
       "4                           NaN                                 NaN   \n",
       "\n",
       "  Motor_Vehicle_Contributing_Circumstance  \\\n",
       "0                                     NaN   \n",
       "1                                     NaN   \n",
       "2                                     NaN   \n",
       "3                                     NaN   \n",
       "4                                     NaN   \n",
       "\n",
       "  Vehicle_Maneuver_Action_Prior_to_Crash Road_Surface Grade Roadway_Alignment  \\\n",
       "0                                    NaN          NaN   NaN               NaN   \n",
       "1                                    NaN          NaN   NaN               NaN   \n",
       "2                                    NaN          NaN   NaN               NaN   \n",
       "3                                    NaN          NaN   NaN               NaN   \n",
       "4                                    NaN          NaN   NaN               NaN   \n",
       "\n",
       "   Total_Number_of_Lanes Traffic_Control Traffic_Control_Working_Properly  \\\n",
       "0                    NaN             NaN                              NaN   \n",
       "1                    NaN             NaN                              NaN   \n",
       "2                    NaN             NaN                              NaN   \n",
       "3                    NaN             NaN                              NaN   \n",
       "4                    NaN             NaN                              NaN   \n",
       "\n",
       "  Roadway_Description Commercial_Non_Commercial  Number_of_Axles  \\\n",
       "0                 NaN                       NaN              NaN   \n",
       "1                 NaN                       NaN              NaN   \n",
       "2                 NaN                       NaN              NaN   \n",
       "3                 NaN                       NaN              NaN   \n",
       "4                 NaN                       NaN              NaN   \n",
       "\n",
       "  Gross_Vehicle_Weight Combination_GVW Commercial_Cargo_Body_Type  \\\n",
       "0                  NaN             NaN                        NaN   \n",
       "1                  NaN             NaN                        NaN   \n",
       "2                  NaN             NaN                        NaN   \n",
       "3                  NaN             NaN                        NaN   \n",
       "4                  NaN             NaN                        NaN   \n",
       "\n",
       "  Commercial_Cargo Commercial_MV_Configuration Identification_Number_Type  \\\n",
       "0              NaN                         NaN                        NaN   \n",
       "1              NaN                         NaN                        NaN   \n",
       "2              NaN                         NaN                        NaN   \n",
       "3              NaN                         NaN                        NaN   \n",
       "4              NaN                         NaN                        NaN   \n",
       "\n",
       "  Hazmat_1_Class  Hazmat_1_ID Hazmat_2_Class  Hazmat_2_ID Hazmat_3_Class  \\\n",
       "0            NaN          NaN            NaN          NaN            NaN   \n",
       "1            NaN          NaN            NaN          NaN            NaN   \n",
       "2            NaN          NaN            NaN          NaN            NaN   \n",
       "3            NaN          NaN            NaN          NaN            NaN   \n",
       "4            NaN          NaN            NaN          NaN            NaN   \n",
       "\n",
       "   Hazmat_3_ID Hazmat_4_Class  Hazmat_4_ID    INCID_NO  LATITUDE  LONGITUDE  \\\n",
       "0          NaN            NaN          NaN  NP12000078       NaN        NaN   \n",
       "1          NaN            NaN          NaN  NP12000378       NaN        NaN   \n",
       "2          NaN            NaN          NaN  NP12000550       NaN        NaN   \n",
       "3          NaN            NaN          NaN  NP12000911       NaN        NaN   \n",
       "4          NaN            NaN          NaN  NP12000935       NaN        NaN   \n",
       "\n",
       "   Park  RGN  CRASH_DATE CRASH_TIME CRASH_YEAR  \n",
       "0  BUFF  MWR  2013-06-15       1400       2013  \n",
       "1  MORU  MWR  2013-08-03       1056       2013  \n",
       "2  SHEN  NER  2013-09-05       1203       2013  \n",
       "3  SHEN  NER  2013-10-06       0910       2013  \n",
       "4  SHEN  NER  2013-10-06       1142       2013  "
      ]
     },
     "execution_count": 207,
     "metadata": {},
     "output_type": "execute_result"
    }
   ],
   "source": [
    "imars_vehicle_merged = imars_vehicle.merge(imars_crash_slim, how='right', on='INCID_NO')\n",
    "imars_vehicle_merged.drop_duplicates() \n",
    "imars_vehicle_merged.head()"
   ]
  },
  {
   "cell_type": "code",
   "execution_count": 208,
   "metadata": {},
   "outputs": [
    {
     "data": {
      "text/plain": [
       "(19631, 59)"
      ]
     },
     "execution_count": 208,
     "metadata": {},
     "output_type": "execute_result"
    }
   ],
   "source": [
    "imars_vehicle_merged.shape"
   ]
  },
  {
   "cell_type": "code",
   "execution_count": 209,
   "metadata": {},
   "outputs": [],
   "source": [
    "# cleaned, non-aggregated dataset (one row per vehicle involved, all original columns) merged to include basic crash info\n",
    "imars_vehicle_merged.to_csv(\"./IMARS_vehicle_full.csv\",index=False)"
   ]
  },
  {
   "cell_type": "code",
   "execution_count": 210,
   "metadata": {},
   "outputs": [
    {
     "data": {
      "text/plain": [
       "(12790, 26)"
      ]
     },
     "execution_count": 210,
     "metadata": {},
     "output_type": "execute_result"
    }
   ],
   "source": [
    "imars_vehicle_slim_merged = imars_vehicle_slim_agg.merge(imars_crash_slim, how='right', on='INCID_NO')\n",
    "imars_vehicle_slim_merged.drop_duplicates() \n",
    "# result should have no more than 12790 rows and exactly vehicle_slim + crash_slim -1 columns (26)\n",
    "imars_vehicle_slim_merged.shape"
   ]
  },
  {
   "cell_type": "code",
   "execution_count": 211,
   "metadata": {},
   "outputs": [
    {
     "data": {
      "text/html": [
       "<div>\n",
       "<style scoped>\n",
       "    .dataframe tbody tr th:only-of-type {\n",
       "        vertical-align: middle;\n",
       "    }\n",
       "\n",
       "    .dataframe tbody tr th {\n",
       "        vertical-align: top;\n",
       "    }\n",
       "\n",
       "    .dataframe thead th {\n",
       "        text-align: right;\n",
       "    }\n",
       "</style>\n",
       "<table border=\"1\" class=\"dataframe\">\n",
       "  <thead>\n",
       "    <tr style=\"text-align: right;\">\n",
       "      <th></th>\n",
       "      <th>INCID_NO</th>\n",
       "      <th>5_mph</th>\n",
       "      <th>10_mph</th>\n",
       "      <th>15_mph</th>\n",
       "      <th>20_mph</th>\n",
       "      <th>25_mph</th>\n",
       "      <th>30_mph</th>\n",
       "      <th>35_mph</th>\n",
       "      <th>40_mph</th>\n",
       "      <th>45_mph</th>\n",
       "      <th>50_mph</th>\n",
       "      <th>55_mph</th>\n",
       "      <th>60_mph</th>\n",
       "      <th>65_mph</th>\n",
       "      <th>70_mph</th>\n",
       "      <th>75_mph</th>\n",
       "      <th>no_posted_speed</th>\n",
       "      <th>Crosswalk</th>\n",
       "      <th>Outside a Crosswalk</th>\n",
       "      <th>LATITUDE</th>\n",
       "      <th>LONGITUDE</th>\n",
       "      <th>Park</th>\n",
       "      <th>RGN</th>\n",
       "      <th>CRASH_DATE</th>\n",
       "      <th>CRASH_TIME</th>\n",
       "      <th>CRASH_YEAR</th>\n",
       "    </tr>\n",
       "  </thead>\n",
       "  <tbody>\n",
       "    <tr>\n",
       "      <th>0</th>\n",
       "      <td>NP12000078</td>\n",
       "      <td>0.0</td>\n",
       "      <td>0.0</td>\n",
       "      <td>0.0</td>\n",
       "      <td>0.0</td>\n",
       "      <td>0.0</td>\n",
       "      <td>0.0</td>\n",
       "      <td>0.0</td>\n",
       "      <td>0.0</td>\n",
       "      <td>0.0</td>\n",
       "      <td>0.0</td>\n",
       "      <td>0.0</td>\n",
       "      <td>0.0</td>\n",
       "      <td>0.0</td>\n",
       "      <td>0.0</td>\n",
       "      <td>0.0</td>\n",
       "      <td>0.0</td>\n",
       "      <td>0.0</td>\n",
       "      <td>0.0</td>\n",
       "      <td>NaN</td>\n",
       "      <td>NaN</td>\n",
       "      <td>BUFF</td>\n",
       "      <td>MWR</td>\n",
       "      <td>2013-06-15</td>\n",
       "      <td>1400</td>\n",
       "      <td>2013</td>\n",
       "    </tr>\n",
       "    <tr>\n",
       "      <th>1</th>\n",
       "      <td>NP12000378</td>\n",
       "      <td>0.0</td>\n",
       "      <td>0.0</td>\n",
       "      <td>0.0</td>\n",
       "      <td>0.0</td>\n",
       "      <td>0.0</td>\n",
       "      <td>0.0</td>\n",
       "      <td>0.0</td>\n",
       "      <td>0.0</td>\n",
       "      <td>0.0</td>\n",
       "      <td>0.0</td>\n",
       "      <td>0.0</td>\n",
       "      <td>0.0</td>\n",
       "      <td>0.0</td>\n",
       "      <td>0.0</td>\n",
       "      <td>0.0</td>\n",
       "      <td>0.0</td>\n",
       "      <td>0.0</td>\n",
       "      <td>0.0</td>\n",
       "      <td>NaN</td>\n",
       "      <td>NaN</td>\n",
       "      <td>MORU</td>\n",
       "      <td>MWR</td>\n",
       "      <td>2013-08-03</td>\n",
       "      <td>1056</td>\n",
       "      <td>2013</td>\n",
       "    </tr>\n",
       "    <tr>\n",
       "      <th>2</th>\n",
       "      <td>NP12000550</td>\n",
       "      <td>0.0</td>\n",
       "      <td>0.0</td>\n",
       "      <td>0.0</td>\n",
       "      <td>0.0</td>\n",
       "      <td>0.0</td>\n",
       "      <td>0.0</td>\n",
       "      <td>0.0</td>\n",
       "      <td>0.0</td>\n",
       "      <td>0.0</td>\n",
       "      <td>0.0</td>\n",
       "      <td>0.0</td>\n",
       "      <td>0.0</td>\n",
       "      <td>0.0</td>\n",
       "      <td>0.0</td>\n",
       "      <td>0.0</td>\n",
       "      <td>0.0</td>\n",
       "      <td>0.0</td>\n",
       "      <td>0.0</td>\n",
       "      <td>NaN</td>\n",
       "      <td>NaN</td>\n",
       "      <td>SHEN</td>\n",
       "      <td>NER</td>\n",
       "      <td>2013-09-05</td>\n",
       "      <td>1203</td>\n",
       "      <td>2013</td>\n",
       "    </tr>\n",
       "    <tr>\n",
       "      <th>3</th>\n",
       "      <td>NP12000911</td>\n",
       "      <td>0.0</td>\n",
       "      <td>0.0</td>\n",
       "      <td>0.0</td>\n",
       "      <td>0.0</td>\n",
       "      <td>0.0</td>\n",
       "      <td>0.0</td>\n",
       "      <td>0.0</td>\n",
       "      <td>0.0</td>\n",
       "      <td>0.0</td>\n",
       "      <td>0.0</td>\n",
       "      <td>0.0</td>\n",
       "      <td>0.0</td>\n",
       "      <td>0.0</td>\n",
       "      <td>0.0</td>\n",
       "      <td>0.0</td>\n",
       "      <td>0.0</td>\n",
       "      <td>0.0</td>\n",
       "      <td>0.0</td>\n",
       "      <td>NaN</td>\n",
       "      <td>NaN</td>\n",
       "      <td>SHEN</td>\n",
       "      <td>NER</td>\n",
       "      <td>2013-10-06</td>\n",
       "      <td>0910</td>\n",
       "      <td>2013</td>\n",
       "    </tr>\n",
       "    <tr>\n",
       "      <th>4</th>\n",
       "      <td>NP12000935</td>\n",
       "      <td>0.0</td>\n",
       "      <td>0.0</td>\n",
       "      <td>0.0</td>\n",
       "      <td>0.0</td>\n",
       "      <td>0.0</td>\n",
       "      <td>0.0</td>\n",
       "      <td>0.0</td>\n",
       "      <td>0.0</td>\n",
       "      <td>0.0</td>\n",
       "      <td>0.0</td>\n",
       "      <td>0.0</td>\n",
       "      <td>0.0</td>\n",
       "      <td>0.0</td>\n",
       "      <td>0.0</td>\n",
       "      <td>0.0</td>\n",
       "      <td>0.0</td>\n",
       "      <td>0.0</td>\n",
       "      <td>0.0</td>\n",
       "      <td>NaN</td>\n",
       "      <td>NaN</td>\n",
       "      <td>SHEN</td>\n",
       "      <td>NER</td>\n",
       "      <td>2013-10-06</td>\n",
       "      <td>1142</td>\n",
       "      <td>2013</td>\n",
       "    </tr>\n",
       "  </tbody>\n",
       "</table>\n",
       "</div>"
      ],
      "text/plain": [
       "     INCID_NO  5_mph  10_mph  15_mph  20_mph  25_mph  30_mph  35_mph  40_mph  \\\n",
       "0  NP12000078    0.0     0.0     0.0     0.0     0.0     0.0     0.0     0.0   \n",
       "1  NP12000378    0.0     0.0     0.0     0.0     0.0     0.0     0.0     0.0   \n",
       "2  NP12000550    0.0     0.0     0.0     0.0     0.0     0.0     0.0     0.0   \n",
       "3  NP12000911    0.0     0.0     0.0     0.0     0.0     0.0     0.0     0.0   \n",
       "4  NP12000935    0.0     0.0     0.0     0.0     0.0     0.0     0.0     0.0   \n",
       "\n",
       "   45_mph  50_mph  55_mph  60_mph  65_mph  70_mph  75_mph  no_posted_speed  \\\n",
       "0     0.0     0.0     0.0     0.0     0.0     0.0     0.0              0.0   \n",
       "1     0.0     0.0     0.0     0.0     0.0     0.0     0.0              0.0   \n",
       "2     0.0     0.0     0.0     0.0     0.0     0.0     0.0              0.0   \n",
       "3     0.0     0.0     0.0     0.0     0.0     0.0     0.0              0.0   \n",
       "4     0.0     0.0     0.0     0.0     0.0     0.0     0.0              0.0   \n",
       "\n",
       "   Crosswalk  Outside a Crosswalk  LATITUDE  LONGITUDE  Park  RGN  CRASH_DATE  \\\n",
       "0        0.0                  0.0       NaN        NaN  BUFF  MWR  2013-06-15   \n",
       "1        0.0                  0.0       NaN        NaN  MORU  MWR  2013-08-03   \n",
       "2        0.0                  0.0       NaN        NaN  SHEN  NER  2013-09-05   \n",
       "3        0.0                  0.0       NaN        NaN  SHEN  NER  2013-10-06   \n",
       "4        0.0                  0.0       NaN        NaN  SHEN  NER  2013-10-06   \n",
       "\n",
       "  CRASH_TIME CRASH_YEAR  \n",
       "0       1400       2013  \n",
       "1       1056       2013  \n",
       "2       1203       2013  \n",
       "3       0910       2013  \n",
       "4       1142       2013  "
      ]
     },
     "execution_count": 211,
     "metadata": {},
     "output_type": "execute_result"
    }
   ],
   "source": [
    "imars_vehicle_slim_merged.head()"
   ]
  },
  {
   "cell_type": "code",
   "execution_count": 212,
   "metadata": {},
   "outputs": [],
   "source": [
    "# cleaned and aggregated dataset (one row per crash, only columns of interest) merged to include basic crash info\n",
    "imars_vehicle_slim_merged.to_csv(\"./IMARS_vehicle_slim.csv\",index=False)"
   ]
  },
  {
   "cell_type": "code",
   "execution_count": 213,
   "metadata": {},
   "outputs": [
    {
     "data": {
      "text/html": [
       "<div>\n",
       "<style scoped>\n",
       "    .dataframe tbody tr th:only-of-type {\n",
       "        vertical-align: middle;\n",
       "    }\n",
       "\n",
       "    .dataframe tbody tr th {\n",
       "        vertical-align: top;\n",
       "    }\n",
       "\n",
       "    .dataframe thead th {\n",
       "        text-align: right;\n",
       "    }\n",
       "</style>\n",
       "<table border=\"1\" class=\"dataframe\">\n",
       "  <thead>\n",
       "    <tr style=\"text-align: right;\">\n",
       "      <th></th>\n",
       "      <th>IMARS_Record_No</th>\n",
       "      <th>Crash_Date_Time</th>\n",
       "      <th>Number_of_Vehicles_Involved</th>\n",
       "      <th>Injury_or_Fatal_Crash</th>\n",
       "      <th>Investigated_at_Scene</th>\n",
       "      <th>Hit_and_Run</th>\n",
       "      <th>Non_Motor_Vehicl_Property_Damage</th>\n",
       "      <th>Amount_of_Property_Damage</th>\n",
       "      <th>First_Harmful_Event_Type</th>\n",
       "      <th>First_Harmful_Event</th>\n",
       "      <th>Location_of_First_Harmful_Event</th>\n",
       "      <th>Weather</th>\n",
       "      <th>Roadway_Condition</th>\n",
       "      <th>Lighting</th>\n",
       "      <th>School_Bus_related</th>\n",
       "      <th>AS_Road_Circumstance</th>\n",
       "      <th>Environmental_Contributing_Circumstances</th>\n",
       "      <th>Work_Zone_Related</th>\n",
       "      <th>Work_Zone_Workers_Present</th>\n",
       "      <th>Work_Zone_Location</th>\n",
       "      <th>Law_Enforcement_Present_at_Work_Zone</th>\n",
       "      <th>Relation_to_Junction</th>\n",
       "      <th>Type_of_Intersection</th>\n",
       "      <th>Manner_of_Collision</th>\n",
       "      <th>INCID_NO</th>\n",
       "      <th>LATITUDE</th>\n",
       "      <th>LONGITUDE</th>\n",
       "      <th>Park</th>\n",
       "      <th>RGN</th>\n",
       "      <th>CRASH_DATE</th>\n",
       "      <th>CRASH_TIME</th>\n",
       "      <th>CRASH_YEAR</th>\n",
       "    </tr>\n",
       "  </thead>\n",
       "  <tbody>\n",
       "    <tr>\n",
       "      <th>0</th>\n",
       "      <td>NP12000078</td>\n",
       "      <td>20120106 14:30:00:000</td>\n",
       "      <td>NaN</td>\n",
       "      <td>NaN</td>\n",
       "      <td>Yes</td>\n",
       "      <td>NaN</td>\n",
       "      <td>NaN</td>\n",
       "      <td>NaN</td>\n",
       "      <td>NaN</td>\n",
       "      <td>NaN</td>\n",
       "      <td>NaN</td>\n",
       "      <td>NaN</td>\n",
       "      <td>NaN</td>\n",
       "      <td>99. Unknown</td>\n",
       "      <td>NaN</td>\n",
       "      <td>NaN</td>\n",
       "      <td>NaN</td>\n",
       "      <td>NaN</td>\n",
       "      <td>NaN</td>\n",
       "      <td>NaN</td>\n",
       "      <td>NaN</td>\n",
       "      <td>NaN</td>\n",
       "      <td>99. Unknown</td>\n",
       "      <td>99. Unknown</td>\n",
       "      <td>NP12000078</td>\n",
       "      <td>NaN</td>\n",
       "      <td>NaN</td>\n",
       "      <td>BUFF</td>\n",
       "      <td>MWR</td>\n",
       "      <td>2013-06-15</td>\n",
       "      <td>1400</td>\n",
       "      <td>2013</td>\n",
       "    </tr>\n",
       "    <tr>\n",
       "      <th>1</th>\n",
       "      <td>NP12000378</td>\n",
       "      <td>20120121 00:00:00:000</td>\n",
       "      <td>NaN</td>\n",
       "      <td>NaN</td>\n",
       "      <td>Yes</td>\n",
       "      <td>NaN</td>\n",
       "      <td>NaN</td>\n",
       "      <td>NaN</td>\n",
       "      <td>NaN</td>\n",
       "      <td>NaN</td>\n",
       "      <td>NaN</td>\n",
       "      <td>NaN</td>\n",
       "      <td>NaN</td>\n",
       "      <td>99. Unknown</td>\n",
       "      <td>NaN</td>\n",
       "      <td>NaN</td>\n",
       "      <td>NaN</td>\n",
       "      <td>NaN</td>\n",
       "      <td>NaN</td>\n",
       "      <td>NaN</td>\n",
       "      <td>NaN</td>\n",
       "      <td>NaN</td>\n",
       "      <td>99. Unknown</td>\n",
       "      <td>99. Unknown</td>\n",
       "      <td>NP12000378</td>\n",
       "      <td>NaN</td>\n",
       "      <td>NaN</td>\n",
       "      <td>MORU</td>\n",
       "      <td>MWR</td>\n",
       "      <td>2013-08-03</td>\n",
       "      <td>1056</td>\n",
       "      <td>2013</td>\n",
       "    </tr>\n",
       "    <tr>\n",
       "      <th>2</th>\n",
       "      <td>NP12000550</td>\n",
       "      <td>20120131 13:51:00:000</td>\n",
       "      <td>NaN</td>\n",
       "      <td>NaN</td>\n",
       "      <td>Yes</td>\n",
       "      <td>NaN</td>\n",
       "      <td>NaN</td>\n",
       "      <td>NaN</td>\n",
       "      <td>NaN</td>\n",
       "      <td>NaN</td>\n",
       "      <td>NaN</td>\n",
       "      <td>NaN</td>\n",
       "      <td>NaN</td>\n",
       "      <td>99. Unknown</td>\n",
       "      <td>NaN</td>\n",
       "      <td>NaN</td>\n",
       "      <td>NaN</td>\n",
       "      <td>NaN</td>\n",
       "      <td>NaN</td>\n",
       "      <td>NaN</td>\n",
       "      <td>NaN</td>\n",
       "      <td>NaN</td>\n",
       "      <td>99. Unknown</td>\n",
       "      <td>99. Unknown</td>\n",
       "      <td>NP12000550</td>\n",
       "      <td>NaN</td>\n",
       "      <td>NaN</td>\n",
       "      <td>SHEN</td>\n",
       "      <td>NER</td>\n",
       "      <td>2013-09-05</td>\n",
       "      <td>1203</td>\n",
       "      <td>2013</td>\n",
       "    </tr>\n",
       "    <tr>\n",
       "      <th>3</th>\n",
       "      <td>NP12000911</td>\n",
       "      <td>20120208 00:00:00:000</td>\n",
       "      <td>NaN</td>\n",
       "      <td>NaN</td>\n",
       "      <td>NaN</td>\n",
       "      <td>NaN</td>\n",
       "      <td>NaN</td>\n",
       "      <td>NaN</td>\n",
       "      <td>NaN</td>\n",
       "      <td>NaN</td>\n",
       "      <td>NaN</td>\n",
       "      <td>NaN</td>\n",
       "      <td>NaN</td>\n",
       "      <td>99. Unknown</td>\n",
       "      <td>NaN</td>\n",
       "      <td>NaN</td>\n",
       "      <td>NaN</td>\n",
       "      <td>NaN</td>\n",
       "      <td>NaN</td>\n",
       "      <td>NaN</td>\n",
       "      <td>NaN</td>\n",
       "      <td>NaN</td>\n",
       "      <td>NaN</td>\n",
       "      <td>NaN</td>\n",
       "      <td>NP12000911</td>\n",
       "      <td>NaN</td>\n",
       "      <td>NaN</td>\n",
       "      <td>SHEN</td>\n",
       "      <td>NER</td>\n",
       "      <td>2013-10-06</td>\n",
       "      <td>0910</td>\n",
       "      <td>2013</td>\n",
       "    </tr>\n",
       "    <tr>\n",
       "      <th>4</th>\n",
       "      <td>NP12000935</td>\n",
       "      <td>20120215 10:15:00:000</td>\n",
       "      <td>NaN</td>\n",
       "      <td>NaN</td>\n",
       "      <td>Yes</td>\n",
       "      <td>NaN</td>\n",
       "      <td>NaN</td>\n",
       "      <td>NaN</td>\n",
       "      <td>NaN</td>\n",
       "      <td>NaN</td>\n",
       "      <td>NaN</td>\n",
       "      <td>NaN</td>\n",
       "      <td>NaN</td>\n",
       "      <td>99. Unknown</td>\n",
       "      <td>NaN</td>\n",
       "      <td>NaN</td>\n",
       "      <td>NaN</td>\n",
       "      <td>NaN</td>\n",
       "      <td>NaN</td>\n",
       "      <td>NaN</td>\n",
       "      <td>NaN</td>\n",
       "      <td>NaN</td>\n",
       "      <td>NaN</td>\n",
       "      <td>99. Unknown</td>\n",
       "      <td>NP12000935</td>\n",
       "      <td>NaN</td>\n",
       "      <td>NaN</td>\n",
       "      <td>SHEN</td>\n",
       "      <td>NER</td>\n",
       "      <td>2013-10-06</td>\n",
       "      <td>1142</td>\n",
       "      <td>2013</td>\n",
       "    </tr>\n",
       "  </tbody>\n",
       "</table>\n",
       "</div>"
      ],
      "text/plain": [
       "  IMARS_Record_No        Crash_Date_Time  Number_of_Vehicles_Involved  \\\n",
       "0      NP12000078  20120106 14:30:00:000                          NaN   \n",
       "1      NP12000378  20120121 00:00:00:000                          NaN   \n",
       "2      NP12000550  20120131 13:51:00:000                          NaN   \n",
       "3      NP12000911  20120208 00:00:00:000                          NaN   \n",
       "4      NP12000935  20120215 10:15:00:000                          NaN   \n",
       "\n",
       "  Injury_or_Fatal_Crash Investigated_at_Scene Hit_and_Run  \\\n",
       "0                   NaN                   Yes         NaN   \n",
       "1                   NaN                   Yes         NaN   \n",
       "2                   NaN                   Yes         NaN   \n",
       "3                   NaN                   NaN         NaN   \n",
       "4                   NaN                   Yes         NaN   \n",
       "\n",
       "  Non_Motor_Vehicl_Property_Damage Amount_of_Property_Damage  \\\n",
       "0                              NaN                       NaN   \n",
       "1                              NaN                       NaN   \n",
       "2                              NaN                       NaN   \n",
       "3                              NaN                       NaN   \n",
       "4                              NaN                       NaN   \n",
       "\n",
       "  First_Harmful_Event_Type First_Harmful_Event  \\\n",
       "0                      NaN                 NaN   \n",
       "1                      NaN                 NaN   \n",
       "2                      NaN                 NaN   \n",
       "3                      NaN                 NaN   \n",
       "4                      NaN                 NaN   \n",
       "\n",
       "  Location_of_First_Harmful_Event Weather Roadway_Condition     Lighting  \\\n",
       "0                             NaN     NaN               NaN  99. Unknown   \n",
       "1                             NaN     NaN               NaN  99. Unknown   \n",
       "2                             NaN     NaN               NaN  99. Unknown   \n",
       "3                             NaN     NaN               NaN  99. Unknown   \n",
       "4                             NaN     NaN               NaN  99. Unknown   \n",
       "\n",
       "  School_Bus_related AS_Road_Circumstance  \\\n",
       "0                NaN                  NaN   \n",
       "1                NaN                  NaN   \n",
       "2                NaN                  NaN   \n",
       "3                NaN                  NaN   \n",
       "4                NaN                  NaN   \n",
       "\n",
       "  Environmental_Contributing_Circumstances Work_Zone_Related  \\\n",
       "0                                      NaN               NaN   \n",
       "1                                      NaN               NaN   \n",
       "2                                      NaN               NaN   \n",
       "3                                      NaN               NaN   \n",
       "4                                      NaN               NaN   \n",
       "\n",
       "  Work_Zone_Workers_Present Work_Zone_Location  \\\n",
       "0                       NaN                NaN   \n",
       "1                       NaN                NaN   \n",
       "2                       NaN                NaN   \n",
       "3                       NaN                NaN   \n",
       "4                       NaN                NaN   \n",
       "\n",
       "  Law_Enforcement_Present_at_Work_Zone Relation_to_Junction  \\\n",
       "0                                  NaN                  NaN   \n",
       "1                                  NaN                  NaN   \n",
       "2                                  NaN                  NaN   \n",
       "3                                  NaN                  NaN   \n",
       "4                                  NaN                  NaN   \n",
       "\n",
       "  Type_of_Intersection Manner_of_Collision    INCID_NO  LATITUDE  LONGITUDE  \\\n",
       "0          99. Unknown         99. Unknown  NP12000078       NaN        NaN   \n",
       "1          99. Unknown         99. Unknown  NP12000378       NaN        NaN   \n",
       "2          99. Unknown         99. Unknown  NP12000550       NaN        NaN   \n",
       "3                  NaN                 NaN  NP12000911       NaN        NaN   \n",
       "4                  NaN         99. Unknown  NP12000935       NaN        NaN   \n",
       "\n",
       "   Park  RGN  CRASH_DATE CRASH_TIME CRASH_YEAR  \n",
       "0  BUFF  MWR  2013-06-15       1400       2013  \n",
       "1  MORU  MWR  2013-08-03       1056       2013  \n",
       "2  SHEN  NER  2013-09-05       1203       2013  \n",
       "3  SHEN  NER  2013-10-06       0910       2013  \n",
       "4  SHEN  NER  2013-10-06       1142       2013  "
      ]
     },
     "execution_count": 213,
     "metadata": {},
     "output_type": "execute_result"
    }
   ],
   "source": [
    "imars_crash_details_merged = imars_crash_details.merge(imars_crash_slim, how='right', on='INCID_NO')\n",
    "imars_crash_details_merged.drop_duplicates(subset=['INCID_NO']) \n",
    "imars_crash_details_merged.head()"
   ]
  },
  {
   "cell_type": "code",
   "execution_count": 214,
   "metadata": {},
   "outputs": [
    {
     "data": {
      "text/plain": [
       "(12790, 32)"
      ]
     },
     "execution_count": 214,
     "metadata": {},
     "output_type": "execute_result"
    }
   ],
   "source": [
    "imars_crash_details_merged.shape"
   ]
  },
  {
   "cell_type": "code",
   "execution_count": 215,
   "metadata": {},
   "outputs": [],
   "source": [
    "# cleaned data, all original rows and columns\n",
    "imars_crash_details_merged.to_csv(\"./IMARS_crash_details_full.csv\",index=False)"
   ]
  },
  {
   "cell_type": "code",
   "execution_count": 216,
   "metadata": {},
   "outputs": [
    {
     "data": {
      "text/plain": [
       "(12790, 40)"
      ]
     },
     "execution_count": 216,
     "metadata": {},
     "output_type": "execute_result"
    }
   ],
   "source": [
    "imars_crash_details_slim_merged = imars_crash_details_slim.merge(imars_crash_slim, how='right', on='INCID_NO')\n",
    "imars_crash_details_slim_merged.drop_duplicates(subset=['INCID_NO']) \n",
    "# result should have no more than 12790 rows and exactly crash_details_slim + crash_slim -1 columns (40)\n",
    "imars_crash_details_slim_merged.shape"
   ]
  },
  {
   "cell_type": "code",
   "execution_count": 217,
   "metadata": {},
   "outputs": [
    {
     "data": {
      "text/html": [
       "<div>\n",
       "<style scoped>\n",
       "    .dataframe tbody tr th:only-of-type {\n",
       "        vertical-align: middle;\n",
       "    }\n",
       "\n",
       "    .dataframe tbody tr th {\n",
       "        vertical-align: top;\n",
       "    }\n",
       "\n",
       "    .dataframe thead th {\n",
       "        text-align: right;\n",
       "    }\n",
       "</style>\n",
       "<table border=\"1\" class=\"dataframe\">\n",
       "  <thead>\n",
       "    <tr style=\"text-align: right;\">\n",
       "      <th></th>\n",
       "      <th>INCID_NO</th>\n",
       "      <th>Injury or Fatal</th>\n",
       "      <th>Collision w Animal</th>\n",
       "      <th>Collision w Fixed Object</th>\n",
       "      <th>Non-Collision</th>\n",
       "      <th>Other Accident Class</th>\n",
       "      <th>Rollover</th>\n",
       "      <th>Collision w Other Vehicle</th>\n",
       "      <th>Collision w Parked Vehicle</th>\n",
       "      <th>Collision w Train</th>\n",
       "      <th>Collision w Other Object</th>\n",
       "      <th>Collision w Unknown</th>\n",
       "      <th>Roadway Departure</th>\n",
       "      <th>Avoiding Animal</th>\n",
       "      <th>Falling Object</th>\n",
       "      <th>Pedestrian</th>\n",
       "      <th>Bicycle</th>\n",
       "      <th>Pedacycle</th>\n",
       "      <th>VRU</th>\n",
       "      <th>HorseLlama</th>\n",
       "      <th>Cow</th>\n",
       "      <th>Deer</th>\n",
       "      <th>Elk</th>\n",
       "      <th>Moose</th>\n",
       "      <th>Buffalo</th>\n",
       "      <th>Bear</th>\n",
       "      <th>Antelope</th>\n",
       "      <th>SheepGoats</th>\n",
       "      <th>OtherWild</th>\n",
       "      <th>OtherDomestic</th>\n",
       "      <th>Rock in Roadway</th>\n",
       "      <th>Animal in Roadway</th>\n",
       "      <th>Rockfall</th>\n",
       "      <th>LATITUDE</th>\n",
       "      <th>LONGITUDE</th>\n",
       "      <th>Park</th>\n",
       "      <th>RGN</th>\n",
       "      <th>CRASH_DATE</th>\n",
       "      <th>CRASH_TIME</th>\n",
       "      <th>CRASH_YEAR</th>\n",
       "    </tr>\n",
       "  </thead>\n",
       "  <tbody>\n",
       "    <tr>\n",
       "      <th>0</th>\n",
       "      <td>NP12000078</td>\n",
       "      <td>0.0</td>\n",
       "      <td>0.0</td>\n",
       "      <td>0.0</td>\n",
       "      <td>0.0</td>\n",
       "      <td>0.0</td>\n",
       "      <td>0.0</td>\n",
       "      <td>0.0</td>\n",
       "      <td>0.0</td>\n",
       "      <td>0.0</td>\n",
       "      <td>0.0</td>\n",
       "      <td>0.0</td>\n",
       "      <td>0.0</td>\n",
       "      <td>0.0</td>\n",
       "      <td>0.0</td>\n",
       "      <td>0.0</td>\n",
       "      <td>0.0</td>\n",
       "      <td>0.0</td>\n",
       "      <td>0.0</td>\n",
       "      <td>0.0</td>\n",
       "      <td>0.0</td>\n",
       "      <td>0.0</td>\n",
       "      <td>0.0</td>\n",
       "      <td>0.0</td>\n",
       "      <td>0.0</td>\n",
       "      <td>0.0</td>\n",
       "      <td>0.0</td>\n",
       "      <td>0.0</td>\n",
       "      <td>0.0</td>\n",
       "      <td>0.0</td>\n",
       "      <td>0.0</td>\n",
       "      <td>0.0</td>\n",
       "      <td>0.0</td>\n",
       "      <td>NaN</td>\n",
       "      <td>NaN</td>\n",
       "      <td>BUFF</td>\n",
       "      <td>MWR</td>\n",
       "      <td>2013-06-15</td>\n",
       "      <td>1400</td>\n",
       "      <td>2013</td>\n",
       "    </tr>\n",
       "    <tr>\n",
       "      <th>1</th>\n",
       "      <td>NP12000378</td>\n",
       "      <td>0.0</td>\n",
       "      <td>0.0</td>\n",
       "      <td>0.0</td>\n",
       "      <td>0.0</td>\n",
       "      <td>0.0</td>\n",
       "      <td>0.0</td>\n",
       "      <td>0.0</td>\n",
       "      <td>0.0</td>\n",
       "      <td>0.0</td>\n",
       "      <td>0.0</td>\n",
       "      <td>0.0</td>\n",
       "      <td>0.0</td>\n",
       "      <td>0.0</td>\n",
       "      <td>0.0</td>\n",
       "      <td>0.0</td>\n",
       "      <td>0.0</td>\n",
       "      <td>0.0</td>\n",
       "      <td>0.0</td>\n",
       "      <td>0.0</td>\n",
       "      <td>0.0</td>\n",
       "      <td>0.0</td>\n",
       "      <td>0.0</td>\n",
       "      <td>0.0</td>\n",
       "      <td>0.0</td>\n",
       "      <td>0.0</td>\n",
       "      <td>0.0</td>\n",
       "      <td>0.0</td>\n",
       "      <td>0.0</td>\n",
       "      <td>0.0</td>\n",
       "      <td>0.0</td>\n",
       "      <td>0.0</td>\n",
       "      <td>0.0</td>\n",
       "      <td>NaN</td>\n",
       "      <td>NaN</td>\n",
       "      <td>MORU</td>\n",
       "      <td>MWR</td>\n",
       "      <td>2013-08-03</td>\n",
       "      <td>1056</td>\n",
       "      <td>2013</td>\n",
       "    </tr>\n",
       "    <tr>\n",
       "      <th>2</th>\n",
       "      <td>NP12000550</td>\n",
       "      <td>0.0</td>\n",
       "      <td>0.0</td>\n",
       "      <td>0.0</td>\n",
       "      <td>0.0</td>\n",
       "      <td>0.0</td>\n",
       "      <td>0.0</td>\n",
       "      <td>0.0</td>\n",
       "      <td>0.0</td>\n",
       "      <td>0.0</td>\n",
       "      <td>0.0</td>\n",
       "      <td>0.0</td>\n",
       "      <td>0.0</td>\n",
       "      <td>0.0</td>\n",
       "      <td>0.0</td>\n",
       "      <td>0.0</td>\n",
       "      <td>0.0</td>\n",
       "      <td>0.0</td>\n",
       "      <td>0.0</td>\n",
       "      <td>0.0</td>\n",
       "      <td>0.0</td>\n",
       "      <td>0.0</td>\n",
       "      <td>0.0</td>\n",
       "      <td>0.0</td>\n",
       "      <td>0.0</td>\n",
       "      <td>0.0</td>\n",
       "      <td>0.0</td>\n",
       "      <td>0.0</td>\n",
       "      <td>0.0</td>\n",
       "      <td>0.0</td>\n",
       "      <td>0.0</td>\n",
       "      <td>0.0</td>\n",
       "      <td>0.0</td>\n",
       "      <td>NaN</td>\n",
       "      <td>NaN</td>\n",
       "      <td>SHEN</td>\n",
       "      <td>NER</td>\n",
       "      <td>2013-09-05</td>\n",
       "      <td>1203</td>\n",
       "      <td>2013</td>\n",
       "    </tr>\n",
       "    <tr>\n",
       "      <th>3</th>\n",
       "      <td>NP12000911</td>\n",
       "      <td>0.0</td>\n",
       "      <td>0.0</td>\n",
       "      <td>0.0</td>\n",
       "      <td>0.0</td>\n",
       "      <td>0.0</td>\n",
       "      <td>0.0</td>\n",
       "      <td>0.0</td>\n",
       "      <td>0.0</td>\n",
       "      <td>0.0</td>\n",
       "      <td>0.0</td>\n",
       "      <td>0.0</td>\n",
       "      <td>0.0</td>\n",
       "      <td>0.0</td>\n",
       "      <td>0.0</td>\n",
       "      <td>0.0</td>\n",
       "      <td>0.0</td>\n",
       "      <td>0.0</td>\n",
       "      <td>0.0</td>\n",
       "      <td>0.0</td>\n",
       "      <td>0.0</td>\n",
       "      <td>0.0</td>\n",
       "      <td>0.0</td>\n",
       "      <td>0.0</td>\n",
       "      <td>0.0</td>\n",
       "      <td>0.0</td>\n",
       "      <td>0.0</td>\n",
       "      <td>0.0</td>\n",
       "      <td>0.0</td>\n",
       "      <td>0.0</td>\n",
       "      <td>0.0</td>\n",
       "      <td>0.0</td>\n",
       "      <td>0.0</td>\n",
       "      <td>NaN</td>\n",
       "      <td>NaN</td>\n",
       "      <td>SHEN</td>\n",
       "      <td>NER</td>\n",
       "      <td>2013-10-06</td>\n",
       "      <td>0910</td>\n",
       "      <td>2013</td>\n",
       "    </tr>\n",
       "    <tr>\n",
       "      <th>4</th>\n",
       "      <td>NP12000935</td>\n",
       "      <td>0.0</td>\n",
       "      <td>0.0</td>\n",
       "      <td>0.0</td>\n",
       "      <td>0.0</td>\n",
       "      <td>0.0</td>\n",
       "      <td>0.0</td>\n",
       "      <td>0.0</td>\n",
       "      <td>0.0</td>\n",
       "      <td>0.0</td>\n",
       "      <td>0.0</td>\n",
       "      <td>0.0</td>\n",
       "      <td>0.0</td>\n",
       "      <td>0.0</td>\n",
       "      <td>0.0</td>\n",
       "      <td>0.0</td>\n",
       "      <td>0.0</td>\n",
       "      <td>0.0</td>\n",
       "      <td>0.0</td>\n",
       "      <td>0.0</td>\n",
       "      <td>0.0</td>\n",
       "      <td>0.0</td>\n",
       "      <td>0.0</td>\n",
       "      <td>0.0</td>\n",
       "      <td>0.0</td>\n",
       "      <td>0.0</td>\n",
       "      <td>0.0</td>\n",
       "      <td>0.0</td>\n",
       "      <td>0.0</td>\n",
       "      <td>0.0</td>\n",
       "      <td>0.0</td>\n",
       "      <td>0.0</td>\n",
       "      <td>0.0</td>\n",
       "      <td>NaN</td>\n",
       "      <td>NaN</td>\n",
       "      <td>SHEN</td>\n",
       "      <td>NER</td>\n",
       "      <td>2013-10-06</td>\n",
       "      <td>1142</td>\n",
       "      <td>2013</td>\n",
       "    </tr>\n",
       "  </tbody>\n",
       "</table>\n",
       "</div>"
      ],
      "text/plain": [
       "     INCID_NO  Injury or Fatal  Collision w Animal  Collision w Fixed Object  \\\n",
       "0  NP12000078              0.0                 0.0                       0.0   \n",
       "1  NP12000378              0.0                 0.0                       0.0   \n",
       "2  NP12000550              0.0                 0.0                       0.0   \n",
       "3  NP12000911              0.0                 0.0                       0.0   \n",
       "4  NP12000935              0.0                 0.0                       0.0   \n",
       "\n",
       "   Non-Collision  Other Accident Class  Rollover  Collision w Other Vehicle  \\\n",
       "0            0.0                   0.0       0.0                        0.0   \n",
       "1            0.0                   0.0       0.0                        0.0   \n",
       "2            0.0                   0.0       0.0                        0.0   \n",
       "3            0.0                   0.0       0.0                        0.0   \n",
       "4            0.0                   0.0       0.0                        0.0   \n",
       "\n",
       "   Collision w Parked Vehicle  Collision w Train  Collision w Other Object  \\\n",
       "0                         0.0                0.0                       0.0   \n",
       "1                         0.0                0.0                       0.0   \n",
       "2                         0.0                0.0                       0.0   \n",
       "3                         0.0                0.0                       0.0   \n",
       "4                         0.0                0.0                       0.0   \n",
       "\n",
       "   Collision w Unknown  Roadway Departure  Avoiding Animal  Falling Object  \\\n",
       "0                  0.0                0.0              0.0             0.0   \n",
       "1                  0.0                0.0              0.0             0.0   \n",
       "2                  0.0                0.0              0.0             0.0   \n",
       "3                  0.0                0.0              0.0             0.0   \n",
       "4                  0.0                0.0              0.0             0.0   \n",
       "\n",
       "   Pedestrian  Bicycle  Pedacycle  VRU  HorseLlama  Cow  Deer  Elk  Moose  \\\n",
       "0         0.0      0.0        0.0  0.0         0.0  0.0   0.0  0.0    0.0   \n",
       "1         0.0      0.0        0.0  0.0         0.0  0.0   0.0  0.0    0.0   \n",
       "2         0.0      0.0        0.0  0.0         0.0  0.0   0.0  0.0    0.0   \n",
       "3         0.0      0.0        0.0  0.0         0.0  0.0   0.0  0.0    0.0   \n",
       "4         0.0      0.0        0.0  0.0         0.0  0.0   0.0  0.0    0.0   \n",
       "\n",
       "   Buffalo  Bear  Antelope  SheepGoats  OtherWild  OtherDomestic  \\\n",
       "0      0.0   0.0       0.0         0.0        0.0            0.0   \n",
       "1      0.0   0.0       0.0         0.0        0.0            0.0   \n",
       "2      0.0   0.0       0.0         0.0        0.0            0.0   \n",
       "3      0.0   0.0       0.0         0.0        0.0            0.0   \n",
       "4      0.0   0.0       0.0         0.0        0.0            0.0   \n",
       "\n",
       "   Rock in Roadway  Animal in Roadway  Rockfall  LATITUDE  LONGITUDE  Park  \\\n",
       "0              0.0                0.0       0.0       NaN        NaN  BUFF   \n",
       "1              0.0                0.0       0.0       NaN        NaN  MORU   \n",
       "2              0.0                0.0       0.0       NaN        NaN  SHEN   \n",
       "3              0.0                0.0       0.0       NaN        NaN  SHEN   \n",
       "4              0.0                0.0       0.0       NaN        NaN  SHEN   \n",
       "\n",
       "   RGN  CRASH_DATE CRASH_TIME CRASH_YEAR  \n",
       "0  MWR  2013-06-15       1400       2013  \n",
       "1  MWR  2013-08-03       1056       2013  \n",
       "2  NER  2013-09-05       1203       2013  \n",
       "3  NER  2013-10-06       0910       2013  \n",
       "4  NER  2013-10-06       1142       2013  "
      ]
     },
     "execution_count": 217,
     "metadata": {},
     "output_type": "execute_result"
    }
   ],
   "source": [
    "imars_crash_details_slim_merged.head()"
   ]
  },
  {
   "cell_type": "code",
   "execution_count": 218,
   "metadata": {},
   "outputs": [],
   "source": [
    "# cleaned data, all rows, but only columns of interest\n",
    "imars_crash_details_slim_merged.to_csv(\"./IMARS_crash_details_slim.csv\",index=False)"
   ]
  },
  {
   "cell_type": "markdown",
   "metadata": {},
   "source": [
    "## merge all IMARS slim (agg) tables into clean dataset for combination with CDS"
   ]
  },
  {
   "cell_type": "code",
   "execution_count": 219,
   "metadata": {},
   "outputs": [
    {
     "data": {
      "text/plain": [
       "((15302, 12), (15302, 19), (15302, 33), (12790, 8))"
      ]
     },
     "execution_count": 219,
     "metadata": {},
     "output_type": "execute_result"
    }
   ],
   "source": [
    "imars_passenger_slim_agg.shape, imars_vehicle_slim_agg.shape, imars_crash_details_slim.shape, imars_crash_slim.shape"
   ]
  },
  {
   "cell_type": "code",
   "execution_count": 220,
   "metadata": {},
   "outputs": [
    {
     "data": {
      "text/plain": [
       "70"
      ]
     },
     "execution_count": 220,
     "metadata": {},
     "output_type": "execute_result"
    }
   ],
   "source": [
    "#the number of columns in the final dataset should be:\n",
    "12+19+33+8-3+1"
   ]
  },
  {
   "cell_type": "code",
   "execution_count": 221,
   "metadata": {},
   "outputs": [
    {
     "data": {
      "text/plain": [
       "(12790, 70)"
      ]
     },
     "execution_count": 221,
     "metadata": {},
     "output_type": "execute_result"
    }
   ],
   "source": [
    "imars_slim_passenger_and_vehicle=imars_vehicle_slim_agg.merge(imars_passenger_slim_agg, how='right', on='INCID_NO')\n",
    "imars_slim_passenger_vehicle_details=imars_slim_passenger_and_vehicle.merge(imars_crash_details_slim, how='right', on='INCID_NO')\n",
    "imars_slim_all=imars_slim_passenger_vehicle_details.merge(imars_crash_slim, how=\"right\", on='INCID_NO')\n",
    "imars_slim_all.drop_duplicates()\n",
    "# add column for name of database\n",
    "imars_slim_all['database']='IMARS'\n",
    "imars_slim_all.shape"
   ]
  },
  {
   "cell_type": "code",
   "execution_count": 222,
   "metadata": {},
   "outputs": [
    {
     "data": {
      "text/html": [
       "<div>\n",
       "<style scoped>\n",
       "    .dataframe tbody tr th:only-of-type {\n",
       "        vertical-align: middle;\n",
       "    }\n",
       "\n",
       "    .dataframe tbody tr th {\n",
       "        vertical-align: top;\n",
       "    }\n",
       "\n",
       "    .dataframe thead th {\n",
       "        text-align: right;\n",
       "    }\n",
       "</style>\n",
       "<table border=\"1\" class=\"dataframe\">\n",
       "  <thead>\n",
       "    <tr style=\"text-align: right;\">\n",
       "      <th></th>\n",
       "      <th>INCID_NO</th>\n",
       "      <th>5_mph</th>\n",
       "      <th>10_mph</th>\n",
       "      <th>15_mph</th>\n",
       "      <th>20_mph</th>\n",
       "      <th>25_mph</th>\n",
       "      <th>30_mph</th>\n",
       "      <th>35_mph</th>\n",
       "      <th>40_mph</th>\n",
       "      <th>45_mph</th>\n",
       "      <th>50_mph</th>\n",
       "      <th>55_mph</th>\n",
       "      <th>60_mph</th>\n",
       "      <th>65_mph</th>\n",
       "      <th>70_mph</th>\n",
       "      <th>75_mph</th>\n",
       "      <th>no_posted_speed</th>\n",
       "      <th>Crosswalk</th>\n",
       "      <th>Outside a Crosswalk</th>\n",
       "      <th>NUM_OCC</th>\n",
       "      <th>No Injury</th>\n",
       "      <th>Possible Injury</th>\n",
       "      <th>Non-incapacitating Injury</th>\n",
       "      <th>Incapacitating Injury</th>\n",
       "      <th>Fatality</th>\n",
       "      <th>Unknown Injury</th>\n",
       "      <th>Motorist Distraction</th>\n",
       "      <th>Non-motorist Distraction</th>\n",
       "      <th>Num_Fatalities</th>\n",
       "      <th>Num_Injuries</th>\n",
       "      <th>Injury or Fatal</th>\n",
       "      <th>Collision w Animal</th>\n",
       "      <th>Collision w Fixed Object</th>\n",
       "      <th>Non-Collision</th>\n",
       "      <th>Other Accident Class</th>\n",
       "      <th>Rollover</th>\n",
       "      <th>Collision w Other Vehicle</th>\n",
       "      <th>Collision w Parked Vehicle</th>\n",
       "      <th>Collision w Train</th>\n",
       "      <th>Collision w Other Object</th>\n",
       "      <th>Collision w Unknown</th>\n",
       "      <th>Roadway Departure</th>\n",
       "      <th>Avoiding Animal</th>\n",
       "      <th>Falling Object</th>\n",
       "      <th>Pedestrian</th>\n",
       "      <th>Bicycle</th>\n",
       "      <th>Pedacycle</th>\n",
       "      <th>VRU</th>\n",
       "      <th>HorseLlama</th>\n",
       "      <th>Cow</th>\n",
       "      <th>Deer</th>\n",
       "      <th>Elk</th>\n",
       "      <th>Moose</th>\n",
       "      <th>Buffalo</th>\n",
       "      <th>Bear</th>\n",
       "      <th>Antelope</th>\n",
       "      <th>SheepGoats</th>\n",
       "      <th>OtherWild</th>\n",
       "      <th>OtherDomestic</th>\n",
       "      <th>Rock in Roadway</th>\n",
       "      <th>Animal in Roadway</th>\n",
       "      <th>Rockfall</th>\n",
       "      <th>LATITUDE</th>\n",
       "      <th>LONGITUDE</th>\n",
       "      <th>Park</th>\n",
       "      <th>RGN</th>\n",
       "      <th>CRASH_DATE</th>\n",
       "      <th>CRASH_TIME</th>\n",
       "      <th>CRASH_YEAR</th>\n",
       "      <th>database</th>\n",
       "    </tr>\n",
       "  </thead>\n",
       "  <tbody>\n",
       "    <tr>\n",
       "      <th>0</th>\n",
       "      <td>NP12000078</td>\n",
       "      <td>0.0</td>\n",
       "      <td>0.0</td>\n",
       "      <td>0.0</td>\n",
       "      <td>0.0</td>\n",
       "      <td>0.0</td>\n",
       "      <td>0.0</td>\n",
       "      <td>0.0</td>\n",
       "      <td>0.0</td>\n",
       "      <td>0.0</td>\n",
       "      <td>0.0</td>\n",
       "      <td>0.0</td>\n",
       "      <td>0.0</td>\n",
       "      <td>0.0</td>\n",
       "      <td>0.0</td>\n",
       "      <td>0.0</td>\n",
       "      <td>0.0</td>\n",
       "      <td>0.0</td>\n",
       "      <td>0.0</td>\n",
       "      <td>1.0</td>\n",
       "      <td>0.0</td>\n",
       "      <td>0.0</td>\n",
       "      <td>0.0</td>\n",
       "      <td>0.0</td>\n",
       "      <td>0.0</td>\n",
       "      <td>0.0</td>\n",
       "      <td>0.0</td>\n",
       "      <td>0.0</td>\n",
       "      <td>0.0</td>\n",
       "      <td>0.0</td>\n",
       "      <td>0.0</td>\n",
       "      <td>0.0</td>\n",
       "      <td>0.0</td>\n",
       "      <td>0.0</td>\n",
       "      <td>0.0</td>\n",
       "      <td>0.0</td>\n",
       "      <td>0.0</td>\n",
       "      <td>0.0</td>\n",
       "      <td>0.0</td>\n",
       "      <td>0.0</td>\n",
       "      <td>0.0</td>\n",
       "      <td>0.0</td>\n",
       "      <td>0.0</td>\n",
       "      <td>0.0</td>\n",
       "      <td>0.0</td>\n",
       "      <td>0.0</td>\n",
       "      <td>0.0</td>\n",
       "      <td>0.0</td>\n",
       "      <td>0.0</td>\n",
       "      <td>0.0</td>\n",
       "      <td>0.0</td>\n",
       "      <td>0.0</td>\n",
       "      <td>0.0</td>\n",
       "      <td>0.0</td>\n",
       "      <td>0.0</td>\n",
       "      <td>0.0</td>\n",
       "      <td>0.0</td>\n",
       "      <td>0.0</td>\n",
       "      <td>0.0</td>\n",
       "      <td>0.0</td>\n",
       "      <td>0.0</td>\n",
       "      <td>0.0</td>\n",
       "      <td>NaN</td>\n",
       "      <td>NaN</td>\n",
       "      <td>BUFF</td>\n",
       "      <td>MWR</td>\n",
       "      <td>2013-06-15</td>\n",
       "      <td>1400</td>\n",
       "      <td>2013</td>\n",
       "      <td>IMARS</td>\n",
       "    </tr>\n",
       "    <tr>\n",
       "      <th>1</th>\n",
       "      <td>NP12000378</td>\n",
       "      <td>0.0</td>\n",
       "      <td>0.0</td>\n",
       "      <td>0.0</td>\n",
       "      <td>0.0</td>\n",
       "      <td>0.0</td>\n",
       "      <td>0.0</td>\n",
       "      <td>0.0</td>\n",
       "      <td>0.0</td>\n",
       "      <td>0.0</td>\n",
       "      <td>0.0</td>\n",
       "      <td>0.0</td>\n",
       "      <td>0.0</td>\n",
       "      <td>0.0</td>\n",
       "      <td>0.0</td>\n",
       "      <td>0.0</td>\n",
       "      <td>0.0</td>\n",
       "      <td>0.0</td>\n",
       "      <td>0.0</td>\n",
       "      <td>1.0</td>\n",
       "      <td>0.0</td>\n",
       "      <td>0.0</td>\n",
       "      <td>0.0</td>\n",
       "      <td>0.0</td>\n",
       "      <td>0.0</td>\n",
       "      <td>0.0</td>\n",
       "      <td>0.0</td>\n",
       "      <td>0.0</td>\n",
       "      <td>0.0</td>\n",
       "      <td>0.0</td>\n",
       "      <td>0.0</td>\n",
       "      <td>0.0</td>\n",
       "      <td>0.0</td>\n",
       "      <td>0.0</td>\n",
       "      <td>0.0</td>\n",
       "      <td>0.0</td>\n",
       "      <td>0.0</td>\n",
       "      <td>0.0</td>\n",
       "      <td>0.0</td>\n",
       "      <td>0.0</td>\n",
       "      <td>0.0</td>\n",
       "      <td>0.0</td>\n",
       "      <td>0.0</td>\n",
       "      <td>0.0</td>\n",
       "      <td>0.0</td>\n",
       "      <td>0.0</td>\n",
       "      <td>0.0</td>\n",
       "      <td>0.0</td>\n",
       "      <td>0.0</td>\n",
       "      <td>0.0</td>\n",
       "      <td>0.0</td>\n",
       "      <td>0.0</td>\n",
       "      <td>0.0</td>\n",
       "      <td>0.0</td>\n",
       "      <td>0.0</td>\n",
       "      <td>0.0</td>\n",
       "      <td>0.0</td>\n",
       "      <td>0.0</td>\n",
       "      <td>0.0</td>\n",
       "      <td>0.0</td>\n",
       "      <td>0.0</td>\n",
       "      <td>0.0</td>\n",
       "      <td>NaN</td>\n",
       "      <td>NaN</td>\n",
       "      <td>MORU</td>\n",
       "      <td>MWR</td>\n",
       "      <td>2013-08-03</td>\n",
       "      <td>1056</td>\n",
       "      <td>2013</td>\n",
       "      <td>IMARS</td>\n",
       "    </tr>\n",
       "    <tr>\n",
       "      <th>2</th>\n",
       "      <td>NP12000550</td>\n",
       "      <td>0.0</td>\n",
       "      <td>0.0</td>\n",
       "      <td>0.0</td>\n",
       "      <td>0.0</td>\n",
       "      <td>0.0</td>\n",
       "      <td>0.0</td>\n",
       "      <td>0.0</td>\n",
       "      <td>0.0</td>\n",
       "      <td>0.0</td>\n",
       "      <td>0.0</td>\n",
       "      <td>0.0</td>\n",
       "      <td>0.0</td>\n",
       "      <td>0.0</td>\n",
       "      <td>0.0</td>\n",
       "      <td>0.0</td>\n",
       "      <td>0.0</td>\n",
       "      <td>0.0</td>\n",
       "      <td>0.0</td>\n",
       "      <td>1.0</td>\n",
       "      <td>0.0</td>\n",
       "      <td>0.0</td>\n",
       "      <td>0.0</td>\n",
       "      <td>0.0</td>\n",
       "      <td>0.0</td>\n",
       "      <td>0.0</td>\n",
       "      <td>0.0</td>\n",
       "      <td>0.0</td>\n",
       "      <td>0.0</td>\n",
       "      <td>0.0</td>\n",
       "      <td>0.0</td>\n",
       "      <td>0.0</td>\n",
       "      <td>0.0</td>\n",
       "      <td>0.0</td>\n",
       "      <td>0.0</td>\n",
       "      <td>0.0</td>\n",
       "      <td>0.0</td>\n",
       "      <td>0.0</td>\n",
       "      <td>0.0</td>\n",
       "      <td>0.0</td>\n",
       "      <td>0.0</td>\n",
       "      <td>0.0</td>\n",
       "      <td>0.0</td>\n",
       "      <td>0.0</td>\n",
       "      <td>0.0</td>\n",
       "      <td>0.0</td>\n",
       "      <td>0.0</td>\n",
       "      <td>0.0</td>\n",
       "      <td>0.0</td>\n",
       "      <td>0.0</td>\n",
       "      <td>0.0</td>\n",
       "      <td>0.0</td>\n",
       "      <td>0.0</td>\n",
       "      <td>0.0</td>\n",
       "      <td>0.0</td>\n",
       "      <td>0.0</td>\n",
       "      <td>0.0</td>\n",
       "      <td>0.0</td>\n",
       "      <td>0.0</td>\n",
       "      <td>0.0</td>\n",
       "      <td>0.0</td>\n",
       "      <td>0.0</td>\n",
       "      <td>NaN</td>\n",
       "      <td>NaN</td>\n",
       "      <td>SHEN</td>\n",
       "      <td>NER</td>\n",
       "      <td>2013-09-05</td>\n",
       "      <td>1203</td>\n",
       "      <td>2013</td>\n",
       "      <td>IMARS</td>\n",
       "    </tr>\n",
       "    <tr>\n",
       "      <th>3</th>\n",
       "      <td>NP12000911</td>\n",
       "      <td>0.0</td>\n",
       "      <td>0.0</td>\n",
       "      <td>0.0</td>\n",
       "      <td>0.0</td>\n",
       "      <td>0.0</td>\n",
       "      <td>0.0</td>\n",
       "      <td>0.0</td>\n",
       "      <td>0.0</td>\n",
       "      <td>0.0</td>\n",
       "      <td>0.0</td>\n",
       "      <td>0.0</td>\n",
       "      <td>0.0</td>\n",
       "      <td>0.0</td>\n",
       "      <td>0.0</td>\n",
       "      <td>0.0</td>\n",
       "      <td>0.0</td>\n",
       "      <td>0.0</td>\n",
       "      <td>0.0</td>\n",
       "      <td>1.0</td>\n",
       "      <td>0.0</td>\n",
       "      <td>0.0</td>\n",
       "      <td>0.0</td>\n",
       "      <td>0.0</td>\n",
       "      <td>0.0</td>\n",
       "      <td>0.0</td>\n",
       "      <td>0.0</td>\n",
       "      <td>0.0</td>\n",
       "      <td>0.0</td>\n",
       "      <td>0.0</td>\n",
       "      <td>0.0</td>\n",
       "      <td>0.0</td>\n",
       "      <td>0.0</td>\n",
       "      <td>0.0</td>\n",
       "      <td>0.0</td>\n",
       "      <td>0.0</td>\n",
       "      <td>0.0</td>\n",
       "      <td>0.0</td>\n",
       "      <td>0.0</td>\n",
       "      <td>0.0</td>\n",
       "      <td>0.0</td>\n",
       "      <td>0.0</td>\n",
       "      <td>0.0</td>\n",
       "      <td>0.0</td>\n",
       "      <td>0.0</td>\n",
       "      <td>0.0</td>\n",
       "      <td>0.0</td>\n",
       "      <td>0.0</td>\n",
       "      <td>0.0</td>\n",
       "      <td>0.0</td>\n",
       "      <td>0.0</td>\n",
       "      <td>0.0</td>\n",
       "      <td>0.0</td>\n",
       "      <td>0.0</td>\n",
       "      <td>0.0</td>\n",
       "      <td>0.0</td>\n",
       "      <td>0.0</td>\n",
       "      <td>0.0</td>\n",
       "      <td>0.0</td>\n",
       "      <td>0.0</td>\n",
       "      <td>0.0</td>\n",
       "      <td>0.0</td>\n",
       "      <td>NaN</td>\n",
       "      <td>NaN</td>\n",
       "      <td>SHEN</td>\n",
       "      <td>NER</td>\n",
       "      <td>2013-10-06</td>\n",
       "      <td>0910</td>\n",
       "      <td>2013</td>\n",
       "      <td>IMARS</td>\n",
       "    </tr>\n",
       "    <tr>\n",
       "      <th>4</th>\n",
       "      <td>NP12000935</td>\n",
       "      <td>0.0</td>\n",
       "      <td>0.0</td>\n",
       "      <td>0.0</td>\n",
       "      <td>0.0</td>\n",
       "      <td>0.0</td>\n",
       "      <td>0.0</td>\n",
       "      <td>0.0</td>\n",
       "      <td>0.0</td>\n",
       "      <td>0.0</td>\n",
       "      <td>0.0</td>\n",
       "      <td>0.0</td>\n",
       "      <td>0.0</td>\n",
       "      <td>0.0</td>\n",
       "      <td>0.0</td>\n",
       "      <td>0.0</td>\n",
       "      <td>0.0</td>\n",
       "      <td>0.0</td>\n",
       "      <td>0.0</td>\n",
       "      <td>1.0</td>\n",
       "      <td>0.0</td>\n",
       "      <td>0.0</td>\n",
       "      <td>0.0</td>\n",
       "      <td>0.0</td>\n",
       "      <td>0.0</td>\n",
       "      <td>0.0</td>\n",
       "      <td>0.0</td>\n",
       "      <td>0.0</td>\n",
       "      <td>0.0</td>\n",
       "      <td>0.0</td>\n",
       "      <td>0.0</td>\n",
       "      <td>0.0</td>\n",
       "      <td>0.0</td>\n",
       "      <td>0.0</td>\n",
       "      <td>0.0</td>\n",
       "      <td>0.0</td>\n",
       "      <td>0.0</td>\n",
       "      <td>0.0</td>\n",
       "      <td>0.0</td>\n",
       "      <td>0.0</td>\n",
       "      <td>0.0</td>\n",
       "      <td>0.0</td>\n",
       "      <td>0.0</td>\n",
       "      <td>0.0</td>\n",
       "      <td>0.0</td>\n",
       "      <td>0.0</td>\n",
       "      <td>0.0</td>\n",
       "      <td>0.0</td>\n",
       "      <td>0.0</td>\n",
       "      <td>0.0</td>\n",
       "      <td>0.0</td>\n",
       "      <td>0.0</td>\n",
       "      <td>0.0</td>\n",
       "      <td>0.0</td>\n",
       "      <td>0.0</td>\n",
       "      <td>0.0</td>\n",
       "      <td>0.0</td>\n",
       "      <td>0.0</td>\n",
       "      <td>0.0</td>\n",
       "      <td>0.0</td>\n",
       "      <td>0.0</td>\n",
       "      <td>0.0</td>\n",
       "      <td>NaN</td>\n",
       "      <td>NaN</td>\n",
       "      <td>SHEN</td>\n",
       "      <td>NER</td>\n",
       "      <td>2013-10-06</td>\n",
       "      <td>1142</td>\n",
       "      <td>2013</td>\n",
       "      <td>IMARS</td>\n",
       "    </tr>\n",
       "  </tbody>\n",
       "</table>\n",
       "</div>"
      ],
      "text/plain": [
       "     INCID_NO  5_mph  10_mph  15_mph  20_mph  25_mph  30_mph  35_mph  40_mph  \\\n",
       "0  NP12000078    0.0     0.0     0.0     0.0     0.0     0.0     0.0     0.0   \n",
       "1  NP12000378    0.0     0.0     0.0     0.0     0.0     0.0     0.0     0.0   \n",
       "2  NP12000550    0.0     0.0     0.0     0.0     0.0     0.0     0.0     0.0   \n",
       "3  NP12000911    0.0     0.0     0.0     0.0     0.0     0.0     0.0     0.0   \n",
       "4  NP12000935    0.0     0.0     0.0     0.0     0.0     0.0     0.0     0.0   \n",
       "\n",
       "   45_mph  50_mph  55_mph  60_mph  65_mph  70_mph  75_mph  no_posted_speed  \\\n",
       "0     0.0     0.0     0.0     0.0     0.0     0.0     0.0              0.0   \n",
       "1     0.0     0.0     0.0     0.0     0.0     0.0     0.0              0.0   \n",
       "2     0.0     0.0     0.0     0.0     0.0     0.0     0.0              0.0   \n",
       "3     0.0     0.0     0.0     0.0     0.0     0.0     0.0              0.0   \n",
       "4     0.0     0.0     0.0     0.0     0.0     0.0     0.0              0.0   \n",
       "\n",
       "   Crosswalk  Outside a Crosswalk  NUM_OCC  No Injury  Possible Injury  \\\n",
       "0        0.0                  0.0      1.0        0.0              0.0   \n",
       "1        0.0                  0.0      1.0        0.0              0.0   \n",
       "2        0.0                  0.0      1.0        0.0              0.0   \n",
       "3        0.0                  0.0      1.0        0.0              0.0   \n",
       "4        0.0                  0.0      1.0        0.0              0.0   \n",
       "\n",
       "   Non-incapacitating Injury  Incapacitating Injury  Fatality  Unknown Injury  \\\n",
       "0                        0.0                    0.0       0.0             0.0   \n",
       "1                        0.0                    0.0       0.0             0.0   \n",
       "2                        0.0                    0.0       0.0             0.0   \n",
       "3                        0.0                    0.0       0.0             0.0   \n",
       "4                        0.0                    0.0       0.0             0.0   \n",
       "\n",
       "   Motorist Distraction  Non-motorist Distraction  Num_Fatalities  \\\n",
       "0                   0.0                       0.0             0.0   \n",
       "1                   0.0                       0.0             0.0   \n",
       "2                   0.0                       0.0             0.0   \n",
       "3                   0.0                       0.0             0.0   \n",
       "4                   0.0                       0.0             0.0   \n",
       "\n",
       "   Num_Injuries  Injury or Fatal  Collision w Animal  \\\n",
       "0           0.0              0.0                 0.0   \n",
       "1           0.0              0.0                 0.0   \n",
       "2           0.0              0.0                 0.0   \n",
       "3           0.0              0.0                 0.0   \n",
       "4           0.0              0.0                 0.0   \n",
       "\n",
       "   Collision w Fixed Object  Non-Collision  Other Accident Class  Rollover  \\\n",
       "0                       0.0            0.0                   0.0       0.0   \n",
       "1                       0.0            0.0                   0.0       0.0   \n",
       "2                       0.0            0.0                   0.0       0.0   \n",
       "3                       0.0            0.0                   0.0       0.0   \n",
       "4                       0.0            0.0                   0.0       0.0   \n",
       "\n",
       "   Collision w Other Vehicle  Collision w Parked Vehicle  Collision w Train  \\\n",
       "0                        0.0                         0.0                0.0   \n",
       "1                        0.0                         0.0                0.0   \n",
       "2                        0.0                         0.0                0.0   \n",
       "3                        0.0                         0.0                0.0   \n",
       "4                        0.0                         0.0                0.0   \n",
       "\n",
       "   Collision w Other Object  Collision w Unknown  Roadway Departure  \\\n",
       "0                       0.0                  0.0                0.0   \n",
       "1                       0.0                  0.0                0.0   \n",
       "2                       0.0                  0.0                0.0   \n",
       "3                       0.0                  0.0                0.0   \n",
       "4                       0.0                  0.0                0.0   \n",
       "\n",
       "   Avoiding Animal  Falling Object  Pedestrian  Bicycle  Pedacycle  VRU  \\\n",
       "0              0.0             0.0         0.0      0.0        0.0  0.0   \n",
       "1              0.0             0.0         0.0      0.0        0.0  0.0   \n",
       "2              0.0             0.0         0.0      0.0        0.0  0.0   \n",
       "3              0.0             0.0         0.0      0.0        0.0  0.0   \n",
       "4              0.0             0.0         0.0      0.0        0.0  0.0   \n",
       "\n",
       "   HorseLlama  Cow  Deer  Elk  Moose  Buffalo  Bear  Antelope  SheepGoats  \\\n",
       "0         0.0  0.0   0.0  0.0    0.0      0.0   0.0       0.0         0.0   \n",
       "1         0.0  0.0   0.0  0.0    0.0      0.0   0.0       0.0         0.0   \n",
       "2         0.0  0.0   0.0  0.0    0.0      0.0   0.0       0.0         0.0   \n",
       "3         0.0  0.0   0.0  0.0    0.0      0.0   0.0       0.0         0.0   \n",
       "4         0.0  0.0   0.0  0.0    0.0      0.0   0.0       0.0         0.0   \n",
       "\n",
       "   OtherWild  OtherDomestic  Rock in Roadway  Animal in Roadway  Rockfall  \\\n",
       "0        0.0            0.0              0.0                0.0       0.0   \n",
       "1        0.0            0.0              0.0                0.0       0.0   \n",
       "2        0.0            0.0              0.0                0.0       0.0   \n",
       "3        0.0            0.0              0.0                0.0       0.0   \n",
       "4        0.0            0.0              0.0                0.0       0.0   \n",
       "\n",
       "   LATITUDE  LONGITUDE  Park  RGN  CRASH_DATE CRASH_TIME CRASH_YEAR database  \n",
       "0       NaN        NaN  BUFF  MWR  2013-06-15       1400       2013    IMARS  \n",
       "1       NaN        NaN  MORU  MWR  2013-08-03       1056       2013    IMARS  \n",
       "2       NaN        NaN  SHEN  NER  2013-09-05       1203       2013    IMARS  \n",
       "3       NaN        NaN  SHEN  NER  2013-10-06       0910       2013    IMARS  \n",
       "4       NaN        NaN  SHEN  NER  2013-10-06       1142       2013    IMARS  "
      ]
     },
     "execution_count": 222,
     "metadata": {},
     "output_type": "execute_result"
    }
   ],
   "source": [
    "imars_slim_all.head()"
   ]
  },
  {
   "cell_type": "code",
   "execution_count": 223,
   "metadata": {
    "scrolled": true
   },
   "outputs": [
    {
     "data": {
      "text/plain": [
       "Index(['INCID_NO', '5_mph', '10_mph', '15_mph', '20_mph', '25_mph', '30_mph',\n",
       "       '35_mph', '40_mph', '45_mph', '50_mph', '55_mph', '60_mph', '65_mph',\n",
       "       '70_mph', '75_mph', 'no_posted_speed', 'Crosswalk',\n",
       "       'Outside a Crosswalk', 'NUM_OCC', 'No Injury', 'Possible Injury',\n",
       "       'Non-incapacitating Injury', 'Incapacitating Injury', 'Fatality',\n",
       "       'Unknown Injury', 'Motorist Distraction', 'Non-motorist Distraction',\n",
       "       'Num_Fatalities', 'Num_Injuries', 'Injury or Fatal',\n",
       "       'Collision w Animal', 'Collision w Fixed Object', 'Non-Collision',\n",
       "       'Other Accident Class', 'Rollover', 'Collision w Other Vehicle',\n",
       "       'Collision w Parked Vehicle', 'Collision w Train',\n",
       "       'Collision w Other Object', 'Collision w Unknown', 'Roadway Departure',\n",
       "       'Avoiding Animal', 'Falling Object', 'Pedestrian', 'Bicycle',\n",
       "       'Pedacycle', 'VRU', 'HorseLlama', 'Cow', 'Deer', 'Elk', 'Moose',\n",
       "       'Buffalo', 'Bear', 'Antelope', 'SheepGoats', 'OtherWild',\n",
       "       'OtherDomestic', 'Rock in Roadway', 'Animal in Roadway', 'Rockfall',\n",
       "       'LATITUDE', 'LONGITUDE', 'Park', 'RGN', 'CRASH_DATE', 'CRASH_TIME',\n",
       "       'CRASH_YEAR', 'database'],\n",
       "      dtype='object')"
      ]
     },
     "execution_count": 223,
     "metadata": {},
     "output_type": "execute_result"
    }
   ],
   "source": [
    "imars_slim_all.columns"
   ]
  },
  {
   "cell_type": "code",
   "execution_count": 224,
   "metadata": {},
   "outputs": [],
   "source": [
    "imars_slim_all.to_csv(\"./IMARS_slim_clean.csv\",index=False)"
   ]
  }
 ],
 "metadata": {
  "kernelspec": {
   "display_name": "geo_env",
   "language": "python",
   "name": "geo_env"
  },
  "language_info": {
   "codemirror_mode": {
    "name": "ipython",
    "version": 3
   },
   "file_extension": ".py",
   "mimetype": "text/x-python",
   "name": "python",
   "nbconvert_exporter": "python",
   "pygments_lexer": "ipython3",
   "version": "3.10.5"
  }
 },
 "nbformat": 4,
 "nbformat_minor": 2
}
