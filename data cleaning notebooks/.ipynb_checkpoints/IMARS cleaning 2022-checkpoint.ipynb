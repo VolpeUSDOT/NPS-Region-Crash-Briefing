{
 "cells": [
  {
   "cell_type": "markdown",
   "metadata": {},
   "source": [
    "## Crash Data Wrangling Jupyter Notebook\n",
    "\n",
    "**Author:** Eric Englin, Meredith Raymer, and Sophie Kaye\n",
    "\n",
    "**Date:** 6/23/22\n",
    "\n",
    "**Purpose:** This notebook will clean pre-combined IMARS data and filter data tables for data attributes to be used in analysis. The smaller cleaned tables are then combined to create a dataframe that is joinable with the reciprocal CDS dataset."
   ]
  },
  {
   "cell_type": "code",
   "execution_count": null,
   "metadata": {},
   "outputs": [],
   "source": [
    "import pandas as pd\n",
    "import geopandas as gpd\n",
    "import numpy as np\n",
    "import os\n",
    "from shapely.geometry import Point, LineString, Polygon"
   ]
  },
  {
   "cell_type": "code",
   "execution_count": null,
   "metadata": {},
   "outputs": [],
   "source": [
    "myworkingdirectory = r\"C:\\Users\\Sophie.Kaye\\Desktop\\NPS Safety\"\n",
    "os.chdir(myworkingdirectory)"
   ]
  },
  {
   "cell_type": "code",
   "execution_count": null,
   "metadata": {},
   "outputs": [],
   "source": [
    "path = './IMARS'\n",
    "\n",
    "files = os.listdir(path)\n",
    "\n",
    "for f in files:\n",
    "    print(f)"
   ]
  },
  {
   "cell_type": "code",
   "execution_count": null,
   "metadata": {},
   "outputs": [],
   "source": [
    "imars_crash = pd.read_excel(\"./IMARS/IMARS 2012 - 2021.xlsx\", sheet_name = \"Location\")\n",
    "imars_passenger = pd.read_excel(\"./IMARS/IMARS 2012 - 2021.xlsx\", sheet_name = \"Person\")\n",
    "imars_vehicle = pd.read_excel(\"./IMARS/IMARS 2012 - 2021.xlsx\", sheet_name = \"Vehicle\")\n",
    "imars_crash_details = pd.read_excel(\"./IMARS/IMARS 2012 - 2021.xlsx\", sheet_name = \"Classification\")"
   ]
  },
  {
   "cell_type": "code",
   "execution_count": null,
   "metadata": {},
   "outputs": [],
   "source": [
    "imars_crash.shape"
   ]
  },
  {
   "cell_type": "code",
   "execution_count": null,
   "metadata": {},
   "outputs": [],
   "source": [
    "imars_passenger.shape"
   ]
  },
  {
   "cell_type": "code",
   "execution_count": null,
   "metadata": {},
   "outputs": [],
   "source": [
    "imars_vehicle.shape"
   ]
  },
  {
   "cell_type": "code",
   "execution_count": null,
   "metadata": {},
   "outputs": [],
   "source": [
    "imars_crash_details.shape"
   ]
  },
  {
   "cell_type": "code",
   "execution_count": null,
   "metadata": {},
   "outputs": [],
   "source": [
    "# note that crash_details and crash don't have the same number of entries to begin with"
   ]
  },
  {
   "cell_type": "code",
   "execution_count": null,
   "metadata": {},
   "outputs": [],
   "source": [
    "imars_passenger.columns"
   ]
  },
  {
   "cell_type": "code",
   "execution_count": null,
   "metadata": {},
   "outputs": [],
   "source": [
    "imars_crash.columns"
   ]
  },
  {
   "cell_type": "code",
   "execution_count": null,
   "metadata": {},
   "outputs": [],
   "source": [
    "imars_crash_details.columns"
   ]
  },
  {
   "cell_type": "code",
   "execution_count": null,
   "metadata": {},
   "outputs": [],
   "source": [
    "imars_vehicle.columns"
   ]
  },
  {
   "cell_type": "markdown",
   "metadata": {},
   "source": [
    "# General Data Cleaning\n",
    "Note that there are crashes with randomly missing park, region, and/or roadway"
   ]
  },
  {
   "cell_type": "markdown",
   "metadata": {},
   "source": [
    "### CHECK FOR MISSING RECORD NUMBERS"
   ]
  },
  {
   "cell_type": "code",
   "execution_count": null,
   "metadata": {},
   "outputs": [],
   "source": [
    "imars_crash.shape"
   ]
  },
  {
   "cell_type": "code",
   "execution_count": null,
   "metadata": {},
   "outputs": [],
   "source": [
    "imars_crash.dropna(subset=['IMARS_Record_No']).shape"
   ]
  },
  {
   "cell_type": "code",
   "execution_count": null,
   "metadata": {},
   "outputs": [],
   "source": [
    "imars_crash = imars_crash.dropna(subset=['IMARS_Record_No'])"
   ]
  },
  {
   "cell_type": "code",
   "execution_count": null,
   "metadata": {},
   "outputs": [],
   "source": [
    "imars_passenger.shape"
   ]
  },
  {
   "cell_type": "code",
   "execution_count": null,
   "metadata": {},
   "outputs": [],
   "source": [
    "imars_passenger.dropna(subset=['IMARS_Record_No']).shape"
   ]
  },
  {
   "cell_type": "code",
   "execution_count": null,
   "metadata": {},
   "outputs": [],
   "source": [
    "imars_passenger = imars_passenger.dropna(subset=['IMARS_Record_No'])"
   ]
  },
  {
   "cell_type": "code",
   "execution_count": null,
   "metadata": {},
   "outputs": [],
   "source": [
    "imars_vehicle.shape"
   ]
  },
  {
   "cell_type": "code",
   "execution_count": null,
   "metadata": {},
   "outputs": [],
   "source": [
    "imars_vehicle.dropna(subset=['IMARS_Record_No']).shape"
   ]
  },
  {
   "cell_type": "code",
   "execution_count": null,
   "metadata": {},
   "outputs": [],
   "source": [
    "imars_vehicle = imars_vehicle.dropna(subset=['IMARS_Record_No'])"
   ]
  },
  {
   "cell_type": "code",
   "execution_count": null,
   "metadata": {},
   "outputs": [],
   "source": [
    "imars_crash_details.shape"
   ]
  },
  {
   "cell_type": "code",
   "execution_count": null,
   "metadata": {},
   "outputs": [],
   "source": [
    "imars_crash_details.dropna(subset=['IMARS_Record_No']).shape"
   ]
  },
  {
   "cell_type": "code",
   "execution_count": null,
   "metadata": {},
   "outputs": [],
   "source": [
    "imars_crash_details = imars_crash_details.dropna(subset=['IMARS_Record_No'])"
   ]
  },
  {
   "cell_type": "markdown",
   "metadata": {},
   "source": [
    "### REMOVE DUPLICATES"
   ]
  },
  {
   "cell_type": "code",
   "execution_count": null,
   "metadata": {},
   "outputs": [],
   "source": [
    "imars_crash = imars_crash.drop_duplicates(subset=['IMARS_Record_No'])\n",
    "imars_crash.shape"
   ]
  },
  {
   "cell_type": "code",
   "execution_count": null,
   "metadata": {},
   "outputs": [],
   "source": [
    "imars_crash_details = imars_crash_details.drop_duplicates(subset=['IMARS_Record_No'])\n",
    "imars_crash_details.shape"
   ]
  },
  {
   "cell_type": "code",
   "execution_count": null,
   "metadata": {},
   "outputs": [],
   "source": [
    "# note that crash and crash details still don't have the same number of entries (although they did with the older archived input data...)"
   ]
  },
  {
   "cell_type": "markdown",
   "metadata": {},
   "source": [
    "### REVERT FLIPPED LAT/LONG"
   ]
  },
  {
   "cell_type": "code",
   "execution_count": null,
   "metadata": {},
   "outputs": [],
   "source": [
    "need_revert = imars_crash['Latitude'].abs() > 70\n",
    "imars_crash.loc[need_revert, ['Latitude', 'Longitude']] = (imars_crash.loc[need_revert, ['Longitude', 'Latitude']].values)"
   ]
  },
  {
   "cell_type": "markdown",
   "metadata": {},
   "source": [
    "### ADJUST SIGNS TO CORRECT HEMISPHERE"
   ]
  },
  {
   "cell_type": "code",
   "execution_count": null,
   "metadata": {},
   "outputs": [],
   "source": [
    "imars_crash.loc[imars_crash.Latitude < 0,\"Latitude\"] = imars_crash['Latitude']*(-1)\n",
    "imars_crash.loc[imars_crash.Longitude > 0,\"Longitude\"] = imars_crash['Longitude']*(-1)"
   ]
  },
  {
   "cell_type": "markdown",
   "metadata": {},
   "source": [
    "# Add Parks to Crash Table\n",
    "\n",
    "**Note:** IMARS does not have park units with each crash, so these will have to be added using the Latitude and Longitude fields in the imars_crash dataset. "
   ]
  },
  {
   "cell_type": "code",
   "execution_count": null,
   "metadata": {},
   "outputs": [],
   "source": [
    "imars_crash.shape"
   ]
  },
  {
   "cell_type": "code",
   "execution_count": null,
   "metadata": {},
   "outputs": [],
   "source": [
    "imars_crash.dropna(subset=['Park']).shape"
   ]
  },
  {
   "cell_type": "code",
   "execution_count": null,
   "metadata": {},
   "outputs": [],
   "source": [
    "imars_crash_parks = imars_crash.dropna(subset=['Park'])\n",
    "imars_crash_parks.shape"
   ]
  },
  {
   "cell_type": "code",
   "execution_count": null,
   "metadata": {},
   "outputs": [],
   "source": [
    "imars_crash.loc[imars_crash['Park'].isnull()==False].shape"
   ]
  },
  {
   "cell_type": "code",
   "execution_count": null,
   "metadata": {},
   "outputs": [],
   "source": [
    "# 12205 of 15130 crash entries have the park already explicitly identified"
   ]
  },
  {
   "cell_type": "code",
   "execution_count": null,
   "metadata": {},
   "outputs": [],
   "source": [
    "imars_crash.loc[imars_crash['Park'].isnull()].shape"
   ]
  },
  {
   "cell_type": "code",
   "execution_count": null,
   "metadata": {},
   "outputs": [],
   "source": [
    "# 2925 of the 15130 crash entries have no park identification"
   ]
  },
  {
   "cell_type": "code",
   "execution_count": null,
   "metadata": {},
   "outputs": [],
   "source": [
    "imars_crash_coords = imars_crash.loc[imars_crash['Park'].isnull()].dropna(subset=['Latitude','Longitude'])\n",
    "imars_crash_coords.shape"
   ]
  },
  {
   "cell_type": "code",
   "execution_count": null,
   "metadata": {},
   "outputs": [],
   "source": [
    "# of the 2925 crash entries without park identification, 591 have lat/long coordinates from which park can be assigned using the shapefile\n",
    "# the sum of crashes with pre-identified parks and crashes that can be assigned a park using lat/long coordinates \n",
    "# results in the following total of possible usable crash entries after the spatial join:\n",
    "12205+591"
   ]
  },
  {
   "cell_type": "code",
   "execution_count": null,
   "metadata": {},
   "outputs": [],
   "source": [
    "imars_crash_noparks = imars_crash.loc[imars_crash['Park'].isnull()]\n",
    "imars_crash_noparks_nolat = imars_crash_noparks.loc[imars_crash_noparks['Latitude'].isnull()]\n",
    "imars_crash_noparks_nocoords = imars_crash_noparks_nolat.loc[imars_crash_noparks_nolat['Longitude'].isnull()]\n",
    "imars_crash_noparks_nocoords.shape"
   ]
  },
  {
   "cell_type": "code",
   "execution_count": null,
   "metadata": {},
   "outputs": [],
   "source": [
    "# 2334 of the 15130 crashes entries have no park identification or lat/long coordinates"
   ]
  },
  {
   "cell_type": "code",
   "execution_count": null,
   "metadata": {},
   "outputs": [],
   "source": [
    "mask = imars_crash_noparks_nocoords.loc[:,['Linked_Common_Name','Linked_Address','NEAR_route_street_road_name',\n",
    "                                           'At_Intersecting_route_street_road_name']].notnull()\n",
    "imars_noparks_nocoords_someinfo = imars_crash_noparks_nocoords.loc[mask.any(axis=1)]\n",
    "imars_noparks_nocoords_someinfo.shape"
   ]
  },
  {
   "cell_type": "code",
   "execution_count": null,
   "metadata": {},
   "outputs": [],
   "source": [
    "# of the 2334 crash entries without park identification or lat/long coordinates, 109 have other identifiable information \n",
    "# (e.g., roadway name) which could be used to identify the park name\n",
    "# print file containing only this subset of crashes for manual park identification\n",
    "imars_noparks_nocoords_someinfo.to_csv(\"./IMARS_noparks_nocoords_someinfo.csv\",index=False)"
   ]
  },
  {
   "cell_type": "markdown",
   "metadata": {},
   "source": [
    "## spatial join to assign park names"
   ]
  },
  {
   "cell_type": "code",
   "execution_count": null,
   "metadata": {},
   "outputs": [],
   "source": [
    "imars_crash_coords_geo=gpd.GeoDataFrame(imars_crash_coords, geometry=gpd.points_from_xy(imars_crash_coords.Longitude, \n",
    "                                                                             imars_crash_coords.Latitude))"
   ]
  },
  {
   "cell_type": "code",
   "execution_count": null,
   "metadata": {},
   "outputs": [],
   "source": [
    "filename = \"./shapefiles/NPS_-_Land_Resources_Division_Boundary_and_Tract_Data_Service.geojson\"\n",
    "file = open(filename)\n",
    "parks = gpd.read_file(file)"
   ]
  },
  {
   "cell_type": "code",
   "execution_count": null,
   "metadata": {},
   "outputs": [],
   "source": [
    "imars_crash_coords_geo.crs = \"EPSG:4326\""
   ]
  },
  {
   "cell_type": "code",
   "execution_count": null,
   "metadata": {},
   "outputs": [],
   "source": [
    "parks = parks.to_crs(epsg=4326)\n",
    "parks['geometry']=parks['geometry'].buffer(0.01)\n",
    "\n",
    "imars_crash_coords_geo_withparknames=gpd.sjoin(imars_crash_coords_geo,parks,how=\"left\", predicate='intersects')\n",
    "imars_crash_coords_geo_withparknames.head()"
   ]
  },
  {
   "cell_type": "code",
   "execution_count": null,
   "metadata": {},
   "outputs": [],
   "source": [
    "imars_crash_coords_geo_withparknames2 = imars_crash_coords_geo_withparknames.drop_duplicates(subset=['IMARS_Record_No'])\n",
    "imars_crash_coords_geo_withparknames2.shape"
   ]
  },
  {
   "cell_type": "code",
   "execution_count": null,
   "metadata": {},
   "outputs": [],
   "source": [
    "# all 591 crash entries were processed in the spatial join"
   ]
  },
  {
   "cell_type": "code",
   "execution_count": null,
   "metadata": {},
   "outputs": [],
   "source": [
    "imars_crash_withparknames = pd.DataFrame(imars_crash_coords_geo_withparknames2.drop(columns='geometry'))\n",
    "imars_crash_withparknames['Park']= imars_crash_withparknames['UNIT_CODE']\n",
    "imars_crash_withparknames.shape"
   ]
  },
  {
   "cell_type": "code",
   "execution_count": null,
   "metadata": {},
   "outputs": [],
   "source": [
    "imars_crash_withparknames_NoDupsorNulls = imars_crash_withparknames.dropna(subset=['Park'])\n",
    "imars_crash_withparknames_NoDupsorNulls.shape"
   ]
  },
  {
   "cell_type": "code",
   "execution_count": null,
   "metadata": {},
   "outputs": [],
   "source": [
    "# of the 591 crash entries without parks identified, 505 now have parks assigned from spatial join\n",
    "# so we expect the total (\"expanded\") dataset to be:\n",
    "12205+505"
   ]
  },
  {
   "cell_type": "code",
   "execution_count": null,
   "metadata": {},
   "outputs": [],
   "source": [
    "imars_crash_expanded = pd.concat([imars_crash_parks,imars_crash_withparknames_NoDupsorNulls])\n",
    "imars_crash_expanded.shape"
   ]
  },
  {
   "cell_type": "code",
   "execution_count": null,
   "metadata": {},
   "outputs": [],
   "source": [
    "# check to make sure all entries in combined dataset contain park assignments \n",
    "imars_crash_expanded = imars_crash_expanded.dropna(subset=['Park'])\n",
    "imars_crash_expanded.shape"
   ]
  },
  {
   "cell_type": "code",
   "execution_count": null,
   "metadata": {},
   "outputs": [],
   "source": [
    "# check to make sure no duplicate crashes in combined dataset\n",
    "imars_crash_expanded = imars_crash_expanded.drop_duplicates(subset=['IMARS_Record_No'])\n",
    "imars_crash_expanded.shape"
   ]
  },
  {
   "cell_type": "code",
   "execution_count": null,
   "metadata": {},
   "outputs": [],
   "source": [
    "# open file Chris populated in which park names were manually added to crash data containing identifiable info (e.g., road name)\n",
    "imars_new_parknames = pd.read_csv(\"./IMARS/IMARS_noparks_nocoords_someinfo_parks_filled.csv\")"
   ]
  },
  {
   "cell_type": "code",
   "execution_count": null,
   "metadata": {},
   "outputs": [],
   "source": [
    "# remove any entries for which park names were not able to be identified\n",
    "imars_new_parknames = imars_new_parknames.dropna(subset=['Park'])\n",
    "imars_new_parknames.shape"
   ]
  },
  {
   "cell_type": "code",
   "execution_count": null,
   "metadata": {},
   "outputs": [],
   "source": [
    "# 80 of 109 crashes were able to have park names manually added using road names and should be combined with crash data \n",
    "# containing park names from original data and spatial assignment for a total of 12790 crashes in the final dataset"
   ]
  },
  {
   "cell_type": "code",
   "execution_count": null,
   "metadata": {},
   "outputs": [],
   "source": [
    "imars_crash_expanded = pd.concat([imars_crash_expanded,imars_new_parknames])\n",
    "imars_crash_expanded.shape"
   ]
  },
  {
   "cell_type": "code",
   "execution_count": null,
   "metadata": {},
   "outputs": [],
   "source": [
    "# check to make sure there are no duplicates in final dataset\n",
    "imars_crash_expanded = imars_crash_expanded.drop_duplicates(subset=['IMARS_Record_No'])\n",
    "imars_crash_expanded.shape"
   ]
  },
  {
   "cell_type": "markdown",
   "metadata": {},
   "source": [
    "## Create new region column\n",
    "imars_crash database currently contains two columns with region information, although neither one is fully populated. This section will create and populate a new column re-assigning region name to every crash based on park name using a lookup table"
   ]
  },
  {
   "cell_type": "code",
   "execution_count": null,
   "metadata": {},
   "outputs": [],
   "source": [
    "# load lookup table\n",
    "park_info = pd.read_csv(\"./crash database mapping/Park_Info_Table.csv\")\n",
    "park_info = park_info.rename(columns={'UNIT_CODE':'Park','REGION':'RGN'})\n",
    "park_info.columns"
   ]
  },
  {
   "cell_type": "code",
   "execution_count": null,
   "metadata": {},
   "outputs": [],
   "source": [
    "imars_crash_expanded.columns"
   ]
  },
  {
   "cell_type": "code",
   "execution_count": null,
   "metadata": {},
   "outputs": [],
   "source": [
    "imars_crash_expanded.shape"
   ]
  },
  {
   "cell_type": "code",
   "execution_count": null,
   "metadata": {},
   "outputs": [],
   "source": [
    "# add RGN column from lookup table to IMARS crash database, joining the two datasets based on park name\n",
    "imars_crash_expanded = pd.merge(imars_crash_expanded, park_info[['RGN','Park']], how='left', on='Park')\n",
    "# resulting dataframe after join should have one additional column and no additional rows\n",
    "imars_crash_expanded = imars_crash_expanded.drop_duplicates() \n",
    "imars_crash_expanded.shape"
   ]
  },
  {
   "cell_type": "code",
   "execution_count": null,
   "metadata": {},
   "outputs": [],
   "source": [
    "# check to see if any crashes were not assigned a region\n",
    "imars_crash_expanded.loc[imars_crash_expanded['RGN'].isnull()].shape"
   ]
  },
  {
   "cell_type": "code",
   "execution_count": null,
   "metadata": {},
   "outputs": [],
   "source": [
    "#no_region = imars_crash_expanded.loc[imars_crash_expanded['RGN'].isnull()]\n",
    "#no_region['Park'].value_counts()"
   ]
  },
  {
   "cell_type": "code",
   "execution_count": null,
   "metadata": {},
   "outputs": [],
   "source": [
    "imars_crash_expanded['RGN'].value_counts()"
   ]
  },
  {
   "cell_type": "code",
   "execution_count": null,
   "metadata": {},
   "outputs": [],
   "source": [
    "# remove partially populated pre-existing columns\n",
    "imars_crash_expanded = imars_crash_expanded.drop(columns = ['Region', 'REGION'])"
   ]
  },
  {
   "cell_type": "code",
   "execution_count": null,
   "metadata": {},
   "outputs": [],
   "source": [
    "imars_crash_expanded.shape"
   ]
  },
  {
   "cell_type": "markdown",
   "metadata": {},
   "source": [
    "# Filter for Necessary Fields, Group by IMARS_RECORD_NO"
   ]
  },
  {
   "cell_type": "markdown",
   "metadata": {},
   "source": [
    "## Passenger table"
   ]
  },
  {
   "cell_type": "code",
   "execution_count": null,
   "metadata": {},
   "outputs": [],
   "source": [
    "imars_passenger.columns"
   ]
  },
  {
   "cell_type": "code",
   "execution_count": null,
   "metadata": {},
   "outputs": [],
   "source": [
    "# one person per passenger data entry\n",
    "imars_passenger['NUM_OCC'] = 1\n",
    "# rename column to match CDS column name\n",
    "imars_passenger['INCID_NO'] = imars_passenger['IMARS_Record_No']"
   ]
  },
  {
   "cell_type": "code",
   "execution_count": null,
   "metadata": {},
   "outputs": [],
   "source": [
    "imars_passenger.shape"
   ]
  },
  {
   "cell_type": "code",
   "execution_count": null,
   "metadata": {},
   "outputs": [],
   "source": [
    "imars_passenger_slim = imars_passenger[['INCID_NO', 'NUM_OCC']]"
   ]
  },
  {
   "cell_type": "code",
   "execution_count": null,
   "metadata": {},
   "outputs": [],
   "source": [
    "imars_passenger_slim.shape"
   ]
  },
  {
   "cell_type": "code",
   "execution_count": null,
   "metadata": {},
   "outputs": [],
   "source": [
    "imars_passenger_slim.head()"
   ]
  },
  {
   "cell_type": "code",
   "execution_count": null,
   "metadata": {},
   "outputs": [],
   "source": [
    "imars_passenger['Injury_Severity'].value_counts().sort_index()"
   ]
  },
  {
   "cell_type": "code",
   "execution_count": null,
   "metadata": {},
   "outputs": [],
   "source": [
    "# conservative estimate for total number of injuries (including possible injuries):\n",
    "1826+1163+486"
   ]
  },
  {
   "cell_type": "code",
   "execution_count": null,
   "metadata": {},
   "outputs": [],
   "source": [
    "imars_passenger['Driver_Distraction'].value_counts().sort_index()"
   ]
  },
  {
   "cell_type": "code",
   "execution_count": null,
   "metadata": {},
   "outputs": [],
   "source": [
    "# total number of distracted motorists:\n",
    "20+17+76+166+378"
   ]
  },
  {
   "cell_type": "code",
   "execution_count": null,
   "metadata": {},
   "outputs": [],
   "source": [
    "imars_passenger['Non_motorist_distraction'].value_counts().sort_index()"
   ]
  },
  {
   "cell_type": "code",
   "execution_count": null,
   "metadata": {},
   "outputs": [],
   "source": [
    "# total number of distracted non-motorists:\n",
    "2+1+2+16"
   ]
  },
  {
   "cell_type": "code",
   "execution_count": null,
   "metadata": {},
   "outputs": [],
   "source": [
    "# set flags for each injury severity\n",
    "imars_passenger_slim['No Injury']= np.where(imars_passenger['Injury_Severity']=='01. No injury', 1,0)\n",
    "imars_passenger_slim['Possible Injury']= np.where(imars_passenger['Injury_Severity']=='02. Possible injury', 1,0)\n",
    "imars_passenger_slim['Non-incapacitating Injury']= np.where(imars_passenger['Injury_Severity']=='03. Non-incapacitating injury', 1,0)\n",
    "imars_passenger_slim['Incapacitating Injury']= np.where(imars_passenger['Injury_Severity']=='04. Incapacitating injury', 1,0)\n",
    "imars_passenger_slim['Fatality']= np.where(imars_passenger['Injury_Severity']=='05. Fatal', 1,0)\n",
    "imars_passenger_slim['Unknown Injury']= np.where(imars_passenger['Injury_Severity']=='99. Unknown', 1,0)\n",
    "imars_passenger_slim['Motorist Distraction']= np.where(imars_passenger['Driver_Distraction'].isin(['02. Talking on electronic communication device','03. Texting on electronic communication device','04. Other electronic device (navigation, DVD player, etc.)','05. Other inside the vehicle (eating, personal hygiene, etc.)','06. Outside the vehicle (includes unspecified external distractions)']), 1,0)\n",
    "imars_passenger_slim['Non-motorist Distraction']= np.where(imars_passenger['Non_motorist_distraction'].isin(['02. Talking on electronic communications device','03. Texting on electronic communications device','04. Other electronic device (GPS, electronic music device, etc.)','05. Other distraction (looking at scenery, eating, day-dreaming, etc.)']), 1,0)"
   ]
  },
  {
   "cell_type": "code",
   "execution_count": null,
   "metadata": {},
   "outputs": [],
   "source": [
    "imars_passenger_slim.columns"
   ]
  },
  {
   "cell_type": "code",
   "execution_count": null,
   "metadata": {},
   "outputs": [],
   "source": [
    "# check new flag column against sum of distracted motorist attributes - looks good!\n",
    "imars_passenger_slim['Motorist Distraction'].sum()"
   ]
  },
  {
   "cell_type": "code",
   "execution_count": null,
   "metadata": {},
   "outputs": [],
   "source": [
    "# check new flag column against sum of distracted non-motorist attributes - looks good!\n",
    "imars_passenger_slim['Non-motorist Distraction'].sum()"
   ]
  },
  {
   "cell_type": "code",
   "execution_count": null,
   "metadata": {},
   "outputs": [],
   "source": [
    "# make sure all columns contain data as you would expect (i.e., 0 and 1)\n",
    "#imars_passenger_slim.to_csv(\"./imars_passenger_slim_test.csv\",index=False)"
   ]
  },
  {
   "cell_type": "code",
   "execution_count": null,
   "metadata": {},
   "outputs": [],
   "source": [
    "# create new column for number of fatalities to match CDS\n",
    "imars_passenger_slim['Num_Fatalities'] = imars_passenger_slim['Fatality']\n",
    "# check to make sure this matches the value count from above - looks good!\n",
    "imars_passenger_slim['Num_Fatalities'].sum()"
   ]
  },
  {
   "cell_type": "code",
   "execution_count": null,
   "metadata": {
    "scrolled": true
   },
   "outputs": [],
   "source": [
    "# create new column for number of injuries to match CDS\n",
    "imars_passenger_slim['Num_Injuries']=imars_passenger_slim['Possible Injury']+imars_passenger_slim['Non-incapacitating Injury']+imars_passenger_slim['Incapacitating Injury']\n",
    "# check to make sure this matches the value count sum from above - looks good!\n",
    "imars_passenger_slim['Num_Injuries'].sum()"
   ]
  },
  {
   "cell_type": "code",
   "execution_count": null,
   "metadata": {},
   "outputs": [],
   "source": [
    "imars_passenger_slim.head()"
   ]
  },
  {
   "cell_type": "code",
   "execution_count": null,
   "metadata": {},
   "outputs": [],
   "source": [
    "imars_passenger_slim.shape"
   ]
  },
  {
   "cell_type": "code",
   "execution_count": null,
   "metadata": {},
   "outputs": [],
   "source": [
    "# collapse multiple rows for each person involved in the crash into a single row for each crash\n",
    "# occupancy, injuries, and fatalities should be summed as total numbers per crash (\"sum\" function)\n",
    "# only one distraction flag should exist per crash to not double count data attribute (\"first\" function)\n",
    "imars_passenger_slim_agg = imars_passenger_slim.groupby(by=['INCID_NO']).agg({'NUM_OCC':'sum','No Injury':'sum','Possible Injury':'sum','Non-incapacitating Injury':'sum','Incapacitating Injury':'sum','Fatality':'sum','Unknown Injury':'sum','Motorist Distraction':'first','Non-motorist Distraction':'first','Num_Fatalities':'sum','Num_Injuries':'sum'}).reset_index()"
   ]
  },
  {
   "cell_type": "code",
   "execution_count": null,
   "metadata": {},
   "outputs": [],
   "source": [
    "# result should be no more than 15302 rows (number of useable crash records)\n",
    "imars_passenger_slim_agg.shape"
   ]
  },
  {
   "cell_type": "markdown",
   "metadata": {},
   "source": [
    "## Crash Details Table"
   ]
  },
  {
   "cell_type": "code",
   "execution_count": null,
   "metadata": {},
   "outputs": [],
   "source": [
    "# rename column to match CDS column name\n",
    "imars_crash_details['INCID_NO'] = imars_crash_details['IMARS_Record_No']\n",
    "\n",
    "imars_crash_details_slim = imars_crash_details[['INCID_NO']]"
   ]
  },
  {
   "cell_type": "code",
   "execution_count": null,
   "metadata": {},
   "outputs": [],
   "source": [
    "# find relevant data attributes in the following columns for which to create flags"
   ]
  },
  {
   "cell_type": "code",
   "execution_count": null,
   "metadata": {},
   "outputs": [],
   "source": [
    "imars_crash_details['Injury_or_Fatal_Crash'].value_counts().sort_index()"
   ]
  },
  {
   "cell_type": "code",
   "execution_count": null,
   "metadata": {},
   "outputs": [],
   "source": [
    "imars_crash_details['First_Harmful_Event_Type'].value_counts().sort_index()"
   ]
  },
  {
   "cell_type": "code",
   "execution_count": null,
   "metadata": {},
   "outputs": [],
   "source": [
    "pd.options.display.max_rows = 10000000\n",
    "imars_crash_details['First_Harmful_Event'].value_counts().sort_index()"
   ]
  },
  {
   "cell_type": "code",
   "execution_count": null,
   "metadata": {},
   "outputs": [],
   "source": [
    "# total roadway departure crashes (right and left):\n",
    "797+259"
   ]
  },
  {
   "cell_type": "code",
   "execution_count": null,
   "metadata": {},
   "outputs": [],
   "source": [
    "# total VRU crashes (pedestrian, bike, and pedacycle):\n",
    "71+103+1"
   ]
  },
  {
   "cell_type": "code",
   "execution_count": null,
   "metadata": {},
   "outputs": [],
   "source": [
    "# total \"other accident class\" crashes (i.e., cargo and maintenance equipment)\n",
    "27+30"
   ]
  },
  {
   "cell_type": "code",
   "execution_count": null,
   "metadata": {},
   "outputs": [],
   "source": [
    "imars_crash_details['Environmental_Contributing_Circumstances'].value_counts().sort_index()"
   ]
  },
  {
   "cell_type": "code",
   "execution_count": null,
   "metadata": {},
   "outputs": [],
   "source": [
    "#pd.options.mode.chained_assignment = None  # default='warn'\n",
    "# set flags for each relevant data attribute\n",
    "imars_crash_details_slim['Injury or Fatal']= np.where(imars_crash_details['Injury_or_Fatal_Crash']==\"01. Yes\", 1,0)\n",
    "imars_crash_details_slim['Collision w Animal']= np.where(imars_crash_details['First_Harmful_Event_Type']==\"Collision with animals\", 1,0)\n",
    "imars_crash_details_slim['Collision w Fixed Object']= np.where(imars_crash_details['First_Harmful_Event_Type']==\"Collision with fixed object\", 1,0)\n",
    "imars_crash_details_slim['Non-Collision']= np.where(imars_crash_details['First_Harmful_Event_Type']==\"Non-collision\", 1,0)\n",
    "imars_crash_details_slim['Other Accident Class']= np.where(imars_crash_details['First_Harmful_Event'].isin(['23. Struck by falling, shifting cargo or anything set in motion by MV','24. Work zone/maintenance equipment']), 1,0)\n",
    "imars_crash_details_slim['Rollover']= np.where(imars_crash_details['First_Harmful_Event']==\"01. Overturn/rollover\", 1,0)\n",
    "imars_crash_details_slim['Collision w Other Vehicle']= np.where(imars_crash_details['First_Harmful_Event']=='21. Motor vehicle in transport', 1,0)\n",
    "imars_crash_details_slim['Collision w Parked Vehicle']= np.where(imars_crash_details['First_Harmful_Event']==\"22. Parked motor vehicle\", 1,0)\n",
    "imars_crash_details_slim['Collision w Train']= np.where(imars_crash_details['First_Harmful_Event']==\"20. Railway vehicle\", 1,0)\n",
    "imars_crash_details_slim['Collision w Other Object']= np.where(imars_crash_details['First_Harmful_Event']==\"25. Other non-fixed object\", 1,0)\n",
    "imars_crash_details_slim['Collision w Unknown']= np.where(imars_crash_details['First_Harmful_Event_Type']==\"Unknown\",1,0)\n",
    "imars_crash_details_slim['Roadway Departure']= np.where(imars_crash_details['First_Harmful_Event'].isin(['07. Ran off the road right','08. Ran Off the road left']), 1,0)\n",
    "imars_crash_details_slim['Avoiding Animal']= np.where(imars_crash_details['First_Harmful_Event']==\"13. Avoiding an animal on road\", 1,0)\n",
    "imars_crash_details_slim['Falling Object']= np.where(imars_crash_details['First_Harmful_Event']==\"14. Thrown or falling object\", 1,0)\n",
    "imars_crash_details_slim['Pedestrian']= np.where(imars_crash_details['First_Harmful_Event']==\"17. Pedestrian\", 1,0)\n",
    "imars_crash_details_slim['Bicycle']= np.where(imars_crash_details['First_Harmful_Event']==\"18. Bicycle\", 1,0)\n",
    "imars_crash_details_slim['Pedacycle']= np.where(imars_crash_details['First_Harmful_Event']==\"19. Other pedacycle\", 1,0)\n",
    "imars_crash_details_slim['VRU']= np.where(imars_crash_details['First_Harmful_Event'].isin(['17. Pedestrian','18. Bicycle','19. Other pedacycle']), 1,0)\n",
    "imars_crash_details_slim['HorseLlama']= np.where(imars_crash_details['First_Harmful_Event']==\"26. Horse/llama\", 1,0)\n",
    "imars_crash_details_slim['Cow']= np.where(imars_crash_details['First_Harmful_Event']==\"27. Cow\", 1,0)\n",
    "imars_crash_details_slim['Deer']= np.where(imars_crash_details['First_Harmful_Event']==\"28. Deer\", 1,0)\n",
    "imars_crash_details_slim['Elk']= np.where(imars_crash_details['First_Harmful_Event']==\"29. Elk\", 1,0)\n",
    "imars_crash_details_slim['Moose']= np.where(imars_crash_details['First_Harmful_Event']==\"30. Moose\", 1,0)\n",
    "imars_crash_details_slim['Buffalo']= np.where(imars_crash_details['First_Harmful_Event']==\"31. Buffalo\", 1,0)\n",
    "imars_crash_details_slim['Bear']= np.where(imars_crash_details['First_Harmful_Event']==\"32. Bear\", 1,0)\n",
    "imars_crash_details_slim['Antelope']= np.where(imars_crash_details['First_Harmful_Event']==\"33. Antelope\", 1,0)\n",
    "imars_crash_details_slim['SheepGoats']= np.where(imars_crash_details['First_Harmful_Event']==\"34. Sheep/goats\", 1,0)\n",
    "imars_crash_details_slim['OtherWild']= np.where(imars_crash_details['First_Harmful_Event']==\"36. Other wild animal (crocodile, birds, coyote, etc.)\", 1,0)\n",
    "imars_crash_details_slim['OtherDomestic']= np.where(imars_crash_details['First_Harmful_Event']=='37. Other domestic (dog, cat, etc.)', 1,0)\n",
    "imars_crash_details_slim['Rock in Roadway']= np.where(imars_crash_details['First_Harmful_Event']=='60. Rock, boulder, rock slide', 1,0)\n",
    "imars_crash_details_slim['Animal in Roadway']= np.where(imars_crash_details['Environmental_Contributing_Circumstances'].str.contains(\"Animal\")==True, 1,0)\n",
    "imars_crash_details_slim['Rockfall']= np.where(imars_crash_details['Environmental_Contributing_Circumstances'].str.contains(\"Rockfall\")==True, 1,0)"
   ]
  },
  {
   "cell_type": "code",
   "execution_count": null,
   "metadata": {},
   "outputs": [],
   "source": [
    "pd.options.display.max_columns = 10000000\n",
    "imars_crash_details_slim.head()"
   ]
  },
  {
   "cell_type": "code",
   "execution_count": null,
   "metadata": {},
   "outputs": [],
   "source": [
    "# check to make sure this matches the value count sum from above - looks good!\n",
    "imars_crash_details_slim['Roadway Departure'].sum()"
   ]
  },
  {
   "cell_type": "code",
   "execution_count": null,
   "metadata": {},
   "outputs": [],
   "source": [
    "# check to make sure this matches the value count sum from above - looks good!\n",
    "imars_crash_details_slim['VRU'].sum()"
   ]
  },
  {
   "cell_type": "code",
   "execution_count": null,
   "metadata": {},
   "outputs": [],
   "source": [
    "# check to make sure this matches the value count sum from above - looks good!\n",
    "imars_crash_details_slim['Other Accident Class'].sum()"
   ]
  },
  {
   "cell_type": "code",
   "execution_count": null,
   "metadata": {},
   "outputs": [],
   "source": [
    "# check new flag column sum against value counts - looks good!\n",
    "imars_crash_details_slim['Animal in Roadway'].sum()"
   ]
  },
  {
   "cell_type": "code",
   "execution_count": null,
   "metadata": {},
   "outputs": [],
   "source": [
    "# check new flag column sum against value counts - looks good!\n",
    "imars_crash_details_slim['Collision w Animal'].sum()"
   ]
  },
  {
   "cell_type": "code",
   "execution_count": null,
   "metadata": {},
   "outputs": [],
   "source": [
    "imars_crash_details_slim.shape"
   ]
  },
  {
   "cell_type": "code",
   "execution_count": null,
   "metadata": {},
   "outputs": [],
   "source": [
    "imars_crash_details_slim.columns"
   ]
  },
  {
   "cell_type": "code",
   "execution_count": null,
   "metadata": {},
   "outputs": [],
   "source": [
    "# make sure all columns contain data as you would expect (i.e., 0 and 1)\n",
    "#imars_crash_details_slim.to_csv(\"./imars_crash_details_slim_test.csv\",index=False)"
   ]
  },
  {
   "cell_type": "markdown",
   "metadata": {},
   "source": [
    "## Vehicle Table"
   ]
  },
  {
   "cell_type": "code",
   "execution_count": null,
   "metadata": {},
   "outputs": [],
   "source": [
    "imars_vehicle.columns"
   ]
  },
  {
   "cell_type": "code",
   "execution_count": null,
   "metadata": {},
   "outputs": [],
   "source": [
    "imars_vehicle.shape"
   ]
  },
  {
   "cell_type": "code",
   "execution_count": null,
   "metadata": {},
   "outputs": [],
   "source": [
    "# rename column to match CDS column name\n",
    "imars_vehicle['INCID_NO'] = imars_vehicle['IMARS_Record_No']\n",
    "imars_vehicle_slim = imars_vehicle[['INCID_NO']]\n",
    "imars_vehicle_slim.head()"
   ]
  },
  {
   "cell_type": "code",
   "execution_count": null,
   "metadata": {},
   "outputs": [],
   "source": [
    "imars_vehicle['Traffic_Control'].value_counts().sort_index()"
   ]
  },
  {
   "cell_type": "code",
   "execution_count": null,
   "metadata": {},
   "outputs": [],
   "source": [
    "# number of vehicle entries in which a crash occurred at a known site other than a crosswalk (or person)\n",
    "12723+926+232+28+790+1246+253+135+5+527"
   ]
  },
  {
   "cell_type": "code",
   "execution_count": null,
   "metadata": {},
   "outputs": [],
   "source": [
    "# set flags for each relevant data attribute\n",
    "imars_vehicle_slim['5_mph']= np.where(imars_vehicle['Posted_Speed']=='01. 5 mph', 1,0)\n",
    "imars_vehicle_slim['10_mph']= np.where(imars_vehicle['Posted_Speed']=='02. 10 mph', 1,0)\n",
    "imars_vehicle_slim['15_mph']= np.where(imars_vehicle['Posted_Speed']=='03. 15 mph', 1,0)\n",
    "imars_vehicle_slim['20_mph']= np.where(imars_vehicle['Posted_Speed']=='04. 20 mph', 1,0)\n",
    "imars_vehicle_slim['25_mph']= np.where(imars_vehicle['Posted_Speed']=='05. 25 mph', 1,0)\n",
    "imars_vehicle_slim['30_mph']= np.where(imars_vehicle['Posted_Speed']=='06. 30 mph', 1,0)\n",
    "imars_vehicle_slim['35_mph']= np.where(imars_vehicle['Posted_Speed']=='07. 35 mph', 1,0)\n",
    "imars_vehicle_slim['40_mph']= np.where(imars_vehicle['Posted_Speed']=='08. 40 mph', 1,0)\n",
    "imars_vehicle_slim['45_mph']= np.where(imars_vehicle['Posted_Speed']=='09. 45 mph', 1,0)\n",
    "imars_vehicle_slim['50_mph']= np.where(imars_vehicle['Posted_Speed']=='10. 50 mph', 1,0)\n",
    "imars_vehicle_slim['55_mph']= np.where(imars_vehicle['Posted_Speed']=='11. 55 mph', 1,0)\n",
    "imars_vehicle_slim['60_mph']= np.where(imars_vehicle['Posted_Speed']=='12. 60 mph', 1,0)\n",
    "imars_vehicle_slim['65_mph']= np.where(imars_vehicle['Posted_Speed']=='13. 65 mph', 1,0)\n",
    "imars_vehicle_slim['70_mph']= np.where(imars_vehicle['Posted_Speed']=='14. 70 mph', 1,0)\n",
    "imars_vehicle_slim['75_mph']= np.where(imars_vehicle['Posted_Speed']=='15. 75 mph', 1,0)\n",
    "imars_vehicle_slim['no_posted_speed']= np.where(imars_vehicle['Posted_Speed']=='98. Not posted', 1,0)\n",
    "imars_vehicle_slim['Crosswalk']= np.where(imars_vehicle['Traffic_Control']=='06. Pedestrian crossing', 1,0)\n",
    "imars_vehicle_slim['Outside a Crosswalk']= np.where(imars_vehicle['Traffic_Control'].isin(['01. None','02. Stop sign','03. Yield sign','04. Flashing traffic signal','05. Traffic signal','08. No passing zone','09. Warning signs','10. Temporary traffic control','12. RR crossing device/signal','13. Other']), 1,0)\n"
   ]
  },
  {
   "cell_type": "code",
   "execution_count": null,
   "metadata": {},
   "outputs": [],
   "source": [
    "# check against value count sum from above - looks good!\n",
    "imars_vehicle_slim['Outside a Crosswalk'].sum()"
   ]
  },
  {
   "cell_type": "code",
   "execution_count": null,
   "metadata": {},
   "outputs": [],
   "source": [
    "# check new flag column sum against value counts - looks good!\n",
    "imars_vehicle_slim['Crosswalk'].sum()"
   ]
  },
  {
   "cell_type": "code",
   "execution_count": null,
   "metadata": {},
   "outputs": [],
   "source": [
    "imars_vehicle_slim.head()"
   ]
  },
  {
   "cell_type": "code",
   "execution_count": null,
   "metadata": {},
   "outputs": [],
   "source": [
    "imars_vehicle_slim.shape"
   ]
  },
  {
   "cell_type": "code",
   "execution_count": null,
   "metadata": {},
   "outputs": [],
   "source": [
    "imars_vehicle_slim.columns"
   ]
  },
  {
   "cell_type": "code",
   "execution_count": null,
   "metadata": {},
   "outputs": [],
   "source": [
    "# make sure all columns contain data as you would expect (i.e., 0 and 1)\n",
    "#imars_vehicle_slim.to_csv(\"./imars_vehicle_slim_test.csv\",index=False)"
   ]
  },
  {
   "cell_type": "code",
   "execution_count": null,
   "metadata": {},
   "outputs": [],
   "source": [
    "# collapse multiple rows for each vehicle involved in the crash into a single row for each crash\n",
    "# only one speed limit or crosswalk flag should exist per crash to not double count data attribute (\"first\" function)\n",
    "imars_vehicle_slim_agg = imars_vehicle_slim.groupby(by=['INCID_NO']).first().reset_index()"
   ]
  },
  {
   "cell_type": "code",
   "execution_count": null,
   "metadata": {},
   "outputs": [],
   "source": [
    "# result should be no more than 15302 rows (number of useable crash records)\n",
    "imars_vehicle_slim_agg.shape"
   ]
  },
  {
   "cell_type": "markdown",
   "metadata": {},
   "source": [
    "## Crash Table "
   ]
  },
  {
   "cell_type": "code",
   "execution_count": null,
   "metadata": {},
   "outputs": [],
   "source": [
    "imars_crash_expanded.columns"
   ]
  },
  {
   "cell_type": "code",
   "execution_count": null,
   "metadata": {},
   "outputs": [],
   "source": [
    "imars_crash_expanded.head()"
   ]
  },
  {
   "cell_type": "code",
   "execution_count": null,
   "metadata": {},
   "outputs": [],
   "source": [
    "# reformat crash date, time, and year; separate into individual columns\n",
    "imars_crash_expanded['Crash_Date_Time']=pd.to_datetime(imars_crash_expanded['Crash_Date_Time'], \n",
    "                                                   format='%Y%m%d %H:%M:%S:%f')\n",
    "imars_crash_expanded['CRASH_DATE'] = imars_crash_expanded['Crash_Date_Time'].dt.strftime('%Y-%m-%d')\n",
    "imars_crash_expanded['CRASH_TIME'] = imars_crash_expanded['Crash_Date_Time'].dt.strftime('%H%M')\n",
    "imars_crash_expanded['CRASH_YEAR'] = imars_crash_expanded['Crash_Date_Time'].dt.strftime('%Y')\n",
    "imars_crash_expanded.head()"
   ]
  },
  {
   "cell_type": "code",
   "execution_count": null,
   "metadata": {},
   "outputs": [],
   "source": [
    "# cleaned data, all original rows and columns\n",
    "imars_crash_expanded.to_csv(\"./IMARS_crash_full.csv\",index=False)"
   ]
  },
  {
   "cell_type": "code",
   "execution_count": null,
   "metadata": {},
   "outputs": [],
   "source": [
    "# rename column to match CDS column name\n",
    "imars_crash_expanded['INCID_NO'] = imars_crash_details['IMARS_Record_No']\n",
    "# parse out crucial basic crash info \n",
    "imars_crash_slim = imars_crash_expanded[['INCID_NO','Latitude','Longitude','Park','RGN','CRASH_DATE','CRASH_TIME','CRASH_YEAR']]\n",
    "imars_crash_slim = imars_crash_slim.rename(columns={'Latitude':'LATITUDE','Longitude':'LONGITUDE'})"
   ]
  },
  {
   "cell_type": "code",
   "execution_count": null,
   "metadata": {},
   "outputs": [],
   "source": [
    "imars_crash_slim.shape"
   ]
  },
  {
   "cell_type": "code",
   "execution_count": null,
   "metadata": {},
   "outputs": [],
   "source": [
    "# cleaned data, basic crash info columns\n",
    "imars_crash_slim.to_csv(\"./IMARS_crash_slim.csv\",index=False)"
   ]
  },
  {
   "cell_type": "markdown",
   "metadata": {},
   "source": [
    "## merge crash table with other IMARS tables"
   ]
  },
  {
   "cell_type": "code",
   "execution_count": null,
   "metadata": {},
   "outputs": [],
   "source": [
    "imars_passenger_merged = imars_passenger.merge(imars_crash_slim, how='right', on='INCID_NO')\n",
    "imars_passenger_merged.drop_duplicates() \n",
    "imars_passenger_merged.head()"
   ]
  },
  {
   "cell_type": "code",
   "execution_count": null,
   "metadata": {},
   "outputs": [],
   "source": [
    "imars_passenger_merged.shape"
   ]
  },
  {
   "cell_type": "code",
   "execution_count": null,
   "metadata": {},
   "outputs": [],
   "source": [
    "# cleaned, non-aggregated dataset (one row per person involved, all original columns) merged to include basic crash info columns\n",
    "imars_passenger_merged.to_csv(\"./IMARS_passenger_full.csv\",index=False)"
   ]
  },
  {
   "cell_type": "code",
   "execution_count": null,
   "metadata": {},
   "outputs": [],
   "source": [
    "imars_passenger_slim_merged = imars_passenger_slim_agg.merge(imars_crash_slim, how='right', on='INCID_NO')\n",
    "imars_passenger_slim_merged.drop_duplicates() \n",
    "# result should have no more than 12790 rows and exactly passenger_slim + crash_slim -1 columns (19)\n",
    "imars_passenger_slim_merged.shape"
   ]
  },
  {
   "cell_type": "code",
   "execution_count": null,
   "metadata": {},
   "outputs": [],
   "source": [
    "imars_passenger_slim_merged.head()"
   ]
  },
  {
   "cell_type": "code",
   "execution_count": null,
   "metadata": {},
   "outputs": [],
   "source": [
    "# cleaned and aggregated distilled dataset (one row per crash, only columns of interest) merged to include basic crash info\n",
    "imars_passenger_slim_merged.to_csv(\"./IMARS_passenger_slim.csv\",index=False)"
   ]
  },
  {
   "cell_type": "code",
   "execution_count": null,
   "metadata": {},
   "outputs": [],
   "source": [
    "# determine number of (mostly) null rows\n",
    "imars_passenger_slim_merged_null = imars_passenger_slim_merged.loc[imars_passenger_slim_merged['Fatality'].isnull()==True]\n",
    "imars_passenger_slim_merged_null.shape"
   ]
  },
  {
   "cell_type": "code",
   "execution_count": null,
   "metadata": {},
   "outputs": [],
   "source": [
    "# 986 of 12790 crashes are missing passenger table entries (although the crash table was populated)"
   ]
  },
  {
   "cell_type": "code",
   "execution_count": null,
   "metadata": {},
   "outputs": [],
   "source": [
    "imars_vehicle_merged = imars_vehicle.merge(imars_crash_slim, how='right', on='INCID_NO')\n",
    "imars_vehicle_merged.drop_duplicates() \n",
    "imars_vehicle_merged.head()"
   ]
  },
  {
   "cell_type": "code",
   "execution_count": null,
   "metadata": {},
   "outputs": [],
   "source": [
    "imars_vehicle_merged.shape"
   ]
  },
  {
   "cell_type": "code",
   "execution_count": null,
   "metadata": {},
   "outputs": [],
   "source": [
    "# cleaned, non-aggregated dataset (one row per vehicle involved, all original columns) merged to include basic crash info\n",
    "imars_vehicle_merged.to_csv(\"./IMARS_vehicle_full.csv\",index=False)"
   ]
  },
  {
   "cell_type": "code",
   "execution_count": null,
   "metadata": {},
   "outputs": [],
   "source": [
    "imars_vehicle_slim_merged = imars_vehicle_slim_agg.merge(imars_crash_slim, how='right', on='INCID_NO')\n",
    "imars_vehicle_slim_merged.drop_duplicates() \n",
    "# result should have no more than 12790 rows and exactly vehicle_slim + crash_slim -1 columns (26)\n",
    "imars_vehicle_slim_merged.shape"
   ]
  },
  {
   "cell_type": "code",
   "execution_count": null,
   "metadata": {},
   "outputs": [],
   "source": [
    "imars_vehicle_slim_merged.head()"
   ]
  },
  {
   "cell_type": "code",
   "execution_count": null,
   "metadata": {},
   "outputs": [],
   "source": [
    "# cleaned and aggregated dataset (one row per crash, only columns of interest) merged to include basic crash info\n",
    "imars_vehicle_slim_merged.to_csv(\"./IMARS_vehicle_slim.csv\",index=False)"
   ]
  },
  {
   "cell_type": "code",
   "execution_count": null,
   "metadata": {},
   "outputs": [],
   "source": [
    "# determine number of (mostly) null rows\n",
    "imars_vehicle_slim_merged_null = imars_vehicle_slim_merged.loc[imars_vehicle_slim_merged['35_mph'].isnull()==True]\n",
    "imars_vehicle_slim_merged_null.shape"
   ]
  },
  {
   "cell_type": "code",
   "execution_count": null,
   "metadata": {},
   "outputs": [],
   "source": [
    "# 986 of 12790 crashes are missing vehicle table entries (although the crash table was populated)"
   ]
  },
  {
   "cell_type": "code",
   "execution_count": null,
   "metadata": {},
   "outputs": [],
   "source": [
    "imars_crash_details_merged = imars_crash_details.merge(imars_crash_slim, how='right', on='INCID_NO')\n",
    "imars_crash_details_merged.drop_duplicates(subset=['INCID_NO']) \n",
    "imars_crash_details_merged.head()"
   ]
  },
  {
   "cell_type": "code",
   "execution_count": null,
   "metadata": {},
   "outputs": [],
   "source": [
    "imars_crash_details_merged.shape"
   ]
  },
  {
   "cell_type": "code",
   "execution_count": null,
   "metadata": {},
   "outputs": [],
   "source": [
    "# cleaned data, all original rows and columns\n",
    "imars_crash_details_merged.to_csv(\"./IMARS_crash_details_full.csv\",index=False)"
   ]
  },
  {
   "cell_type": "code",
   "execution_count": null,
   "metadata": {},
   "outputs": [],
   "source": [
    "imars_crash_details_slim_merged = imars_crash_details_slim.merge(imars_crash_slim, how='right', on='INCID_NO')\n",
    "imars_crash_details_slim_merged.drop_duplicates(subset=['INCID_NO']) \n",
    "# result should have no more than 12790 rows and exactly crash_details_slim + crash_slim -1 columns (40)\n",
    "imars_crash_details_slim_merged.shape"
   ]
  },
  {
   "cell_type": "code",
   "execution_count": null,
   "metadata": {},
   "outputs": [],
   "source": [
    "imars_crash_details_slim_merged.head()"
   ]
  },
  {
   "cell_type": "code",
   "execution_count": null,
   "metadata": {},
   "outputs": [],
   "source": [
    "# cleaned data, all rows, but only columns of interest\n",
    "imars_crash_details_slim_merged.to_csv(\"./IMARS_crash_details_slim.csv\",index=False)"
   ]
  },
  {
   "cell_type": "code",
   "execution_count": null,
   "metadata": {},
   "outputs": [],
   "source": [
    "# determine number of (mostly) null rows\n",
    "imars_crash_details_slim_merged_null = imars_crash_details_slim_merged.loc[imars_crash_details_slim_merged['Injury or Fatal'].isnull()==True]\n",
    "imars_crash_details_slim_merged_null.shape"
   ]
  },
  {
   "cell_type": "code",
   "execution_count": null,
   "metadata": {},
   "outputs": [],
   "source": [
    "# 986 of 12790 crashes are missing crash details table entries (although the crash table was populated)\n",
    "imars_crash_details_slim_merged_null['RGN'].value_counts()"
   ]
  },
  {
   "cell_type": "markdown",
   "metadata": {},
   "source": [
    "## merge all IMARS slim (agg) tables into clean dataset for combination with CDS"
   ]
  },
  {
   "cell_type": "code",
   "execution_count": null,
   "metadata": {},
   "outputs": [],
   "source": [
    "imars_passenger_slim_agg.shape, imars_vehicle_slim_agg.shape, imars_crash_details_slim.shape, imars_crash_slim.shape"
   ]
  },
  {
   "cell_type": "code",
   "execution_count": null,
   "metadata": {},
   "outputs": [],
   "source": [
    "# the number of rows in the final dataset should be:\n",
    "12790-986"
   ]
  },
  {
   "cell_type": "code",
   "execution_count": null,
   "metadata": {},
   "outputs": [],
   "source": [
    "# the number of columns in the final dataset should be:\n",
    "12+19+33+8-3+1"
   ]
  },
  {
   "cell_type": "code",
   "execution_count": null,
   "metadata": {},
   "outputs": [],
   "source": [
    "imars_slim_passenger_and_vehicle=imars_vehicle_slim_agg.merge(imars_passenger_slim_agg, how='right', on='INCID_NO')\n",
    "imars_slim_passenger_vehicle_details=imars_slim_passenger_and_vehicle.merge(imars_crash_details_slim, how='right', on='INCID_NO')\n",
    "imars_slim_all=imars_slim_passenger_vehicle_details.merge(imars_crash_slim, how=\"right\", on='INCID_NO')\n",
    "imars_slim_all.drop_duplicates()\n",
    "# add column for name of database\n",
    "imars_slim_all['database']='IMARS'\n",
    "# for Chris, to analyze data quality for all crashes with cleaned lat/long, park, and region georeferences, regardless of if all non-crash tables have records for each crash:\n",
    "imars_slim_all.to_csv(\"./IMARS_slim_clean_forChris.csv\",index=False)\n",
    "imars_slim_all.shape"
   ]
  },
  {
   "cell_type": "code",
   "execution_count": null,
   "metadata": {},
   "outputs": [],
   "source": [
    "# drop rows with missing passenger or vehicle table entries, such that all final data have records in all tables\n",
    "imars_slim_alltablespopulated = imars_slim_all[imars_slim_all['35_mph'].notna()]\n",
    "imars_slim_alltablespopulated.shape"
   ]
  },
  {
   "cell_type": "code",
   "execution_count": null,
   "metadata": {},
   "outputs": [],
   "source": [
    "imars_slim_alltablespopulated.head()"
   ]
  },
  {
   "cell_type": "code",
   "execution_count": null,
   "metadata": {
    "scrolled": true
   },
   "outputs": [],
   "source": [
    "imars_slim_alltablespopulated.columns"
   ]
  },
  {
   "cell_type": "code",
   "execution_count": null,
   "metadata": {},
   "outputs": [],
   "source": [
    "imars_slim_alltablespopulated.to_csv(\"./IMARS_slim_clean.csv\",index=False)"
   ]
  }
 ],
 "metadata": {
  "kernelspec": {
   "display_name": "geo_env",
   "language": "python",
   "name": "geo_env"
  },
  "language_info": {
   "codemirror_mode": {
    "name": "ipython",
    "version": 3
   },
   "file_extension": ".py",
   "mimetype": "text/x-python",
   "name": "python",
   "nbconvert_exporter": "python",
   "pygments_lexer": "ipython3",
   "version": "3.10.5"
  }
 },
 "nbformat": 4,
 "nbformat_minor": 2
}
