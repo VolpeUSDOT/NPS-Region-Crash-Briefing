{
 "cells": [
  {
   "cell_type": "code",
   "execution_count": 1,
   "id": "cd6f9d65",
   "metadata": {},
   "outputs": [],
   "source": [
    "import pandas as pd\n",
    "import numpy as np\n",
    "import os\n",
    "myworkingdirectory = r\"C:\\Users\\Sophie.Kaye\\Desktop\\NPS Crash Data\"\n",
    "os.chdir(myworkingdirectory)"
   ]
  },
  {
   "cell_type": "code",
   "execution_count": 4,
   "id": "75656408",
   "metadata": {},
   "outputs": [],
   "source": [
    "imars_crash_details = pd.read_excel(\"./IMARS/IMARS 2012 - 2021.xlsx\", sheet_name = \"Classification\")"
   ]
  },
  {
   "cell_type": "code",
   "execution_count": 6,
   "id": "2130073c",
   "metadata": {},
   "outputs": [
    {
     "data": {
      "text/plain": [
       "Index(['IMARS_Record_No', 'Crash_Date_Time', 'Number_of_Vehicles_Involved',\n",
       "       'Injury_or_Fatal_Crash', 'Investigated_at_Scene', 'Hit_and_Run',\n",
       "       'Non_Motor_Vehicl_Property_Damage', 'Amount_of_Property_Damage',\n",
       "       'First_Harmful_Event_Type', 'First_Harmful_Event',\n",
       "       'Location_of_First_Harmful_Event', 'Weather', 'Roadway_Condition',\n",
       "       'Lighting', 'School_Bus_related', 'AS_Road_Circumstance',\n",
       "       'Environmental_Contributing_Circumstances', 'Work_Zone_Related',\n",
       "       'Work_Zone_Workers_Present', 'Work_Zone_Location',\n",
       "       'Law_Enforcement_Present_at_Work_Zone', 'Relation_to_Junction',\n",
       "       'Type_of_Intersection', 'Manner_of_Collision'],\n",
       "      dtype='object')"
      ]
     },
     "execution_count": 6,
     "metadata": {},
     "output_type": "execute_result"
    }
   ],
   "source": [
    "imars_crash_details.columns"
   ]
  },
  {
   "cell_type": "code",
   "execution_count": 7,
   "id": "9bc5cf51",
   "metadata": {},
   "outputs": [
    {
     "data": {
      "text/plain": [
       "(16304, 24)"
      ]
     },
     "execution_count": 7,
     "metadata": {},
     "output_type": "execute_result"
    }
   ],
   "source": [
    "imars_crash_details.shape"
   ]
  },
  {
   "cell_type": "code",
   "execution_count": 8,
   "id": "73fd5c49",
   "metadata": {},
   "outputs": [],
   "source": [
    "num_reports = imars_crash_details.shape[0]"
   ]
  },
  {
   "cell_type": "code",
   "execution_count": 11,
   "id": "08ed854b",
   "metadata": {},
   "outputs": [
    {
     "data": {
      "text/plain": [
       "01. Daylight                   10809\n",
       "05. Dark - not lighted          2449\n",
       "99. Unknown                     1010\n",
       "03. Dusk                         568\n",
       "04. Dark - lighted               479\n",
       "02. Dawn                         358\n",
       "06. Dark - unknown lighting      116\n",
       "07. Other                         51\n",
       "Name: Lighting, dtype: int64"
      ]
     },
     "execution_count": 11,
     "metadata": {},
     "output_type": "execute_result"
    }
   ],
   "source": [
    "imars_crash_details['Lighting'].value_counts()"
   ]
  },
  {
   "cell_type": "code",
   "execution_count": 13,
   "id": "a8898e77",
   "metadata": {},
   "outputs": [
    {
     "data": {
      "text/plain": [
       "(464, 24)"
      ]
     },
     "execution_count": 13,
     "metadata": {},
     "output_type": "execute_result"
    }
   ],
   "source": [
    "imars_crash_details.loc[imars_crash_details['Lighting'].isnull()].shape"
   ]
  },
  {
   "cell_type": "code",
   "execution_count": 28,
   "id": "0ba941a5",
   "metadata": {},
   "outputs": [
    {
     "data": {
      "text/plain": [
       "2.85"
      ]
     },
     "execution_count": 28,
     "metadata": {},
     "output_type": "execute_result"
    }
   ],
   "source": [
    "lighting_null = imars_crash_details.loc[imars_crash_details['Lighting'].isnull()].shape[0]\n",
    "round(lighting_null/num_reports*100,2)"
   ]
  },
  {
   "cell_type": "code",
   "execution_count": 34,
   "id": "967600c0",
   "metadata": {},
   "outputs": [
    {
     "data": {
      "text/plain": [
       "01. Clear                                             11655\n",
       "02. Raining                                             890\n",
       "10. Cloudy, overcast                                    841\n",
       "99. Unknown                                             436\n",
       "03. Snowing                                             279\n",
       "02. Raining; 10. Cloudy, overcast                       204\n",
       "02. Raining; 04. Fog                                    111\n",
       "04. Fog                                                  91\n",
       "03. Snowing; 10. Cloudy, overcast                        83\n",
       "01. Clear; 10. Cloudy, overcast                          70\n",
       "03. Snowing; 09. Blowing snow                            56\n",
       "03. Snowing; 08. Sleet/hail/freezing rain                45\n",
       "12. Other                                                37\n",
       "01. Clear; 12. Other                                     27\n",
       "06. Severe wind only                                     27\n",
       "01. Clear; 99. Unknown                                   21\n",
       "02. Raining; 03. Snowing                                 21\n",
       "08. Sleet/hail/freezing rain                             20\n",
       "02. Raining; 06. Severe wind only                        18\n",
       "01. Clear; 11. Smoke                                     18\n",
       "02. Raining; 08. Sleet/hail/freezing rain                15\n",
       "01. Clear; 06. Severe wind only                          13\n",
       "02. Raining; 12. Other                                   13\n",
       "09. Blowing snow                                         12\n",
       "03. Snowing; 07. Blizzard                                12\n",
       "11. Smoke                                                11\n",
       "01. Clear; 02. Raining                                   10\n",
       "04. Fog; 10. Cloudy, overcast                            10\n",
       "10. Cloudy, overcast; 12. Other                           9\n",
       "08. Sleet/hail/freezing rain; 10. Cloudy, overcast        8\n",
       "01. Clear; 05. Blowing dust/sand/dirt                     8\n",
       "03. Snowing; 04. Fog                                      6\n",
       "06. Severe wind only; 10. Cloudy, overcast                6\n",
       "01. Clear; 04. Fog                                        6\n",
       "01. Clear; 03. Snowing                                    6\n",
       "08. Sleet/hail/freezing rain; 09. Blowing snow            5\n",
       "09. Blowing snow; 10. Cloudy, overcast                    5\n",
       "03. Snowing; 12. Other                                    4\n",
       "07. Blizzard; 09. Blowing snow                            4\n",
       "04. Fog; 12. Other                                        3\n",
       "10. Cloudy, overcast; 11. Smoke                           3\n",
       "04. Fog; 08. Sleet/hail/freezing rain                     3\n",
       "07. Blizzard                                              2\n",
       "05. Blowing dust/sand/dirt; 06. Severe wind only          2\n",
       "02. Raining; 99. Unknown                                  2\n",
       "10. Cloudy, overcast; 99. Unknown                         2\n",
       "03. Snowing; 06. Severe wind only                         1\n",
       "05. Blowing dust/sand/dirt; 10. Cloudy, overcast          1\n",
       "07. Blizzard; 10. Cloudy, overcast                        1\n",
       "11. Smoke; 12. Other                                      1\n",
       "12. Other; 99. Unknown                                    1\n",
       "01. Clear; 09. Blowing snow                               1\n",
       "04. Fog; 09. Blowing snow                                 1\n",
       "01. Clear; 08. Sleet/hail/freezing rain                   1\n",
       "06. Severe wind only; 09. Blowing snow                    1\n",
       "Name: Weather, dtype: int64"
      ]
     },
     "execution_count": 34,
     "metadata": {},
     "output_type": "execute_result"
    }
   ],
   "source": [
    "imars_crash_details['Weather'].value_counts()\n",
    "# can select more than one option, need to string search for 'contains pertinent attributes'"
   ]
  },
  {
   "cell_type": "code",
   "execution_count": 17,
   "id": "3d17f70d",
   "metadata": {},
   "outputs": [
    {
     "data": {
      "text/plain": [
       "(1165, 24)"
      ]
     },
     "execution_count": 17,
     "metadata": {},
     "output_type": "execute_result"
    }
   ],
   "source": [
    "imars_crash_details.loc[imars_crash_details['Weather'].isnull()].shape"
   ]
  },
  {
   "cell_type": "code",
   "execution_count": 29,
   "id": "947eeb89",
   "metadata": {},
   "outputs": [
    {
     "data": {
      "text/plain": [
       "7.15"
      ]
     },
     "execution_count": 29,
     "metadata": {},
     "output_type": "execute_result"
    }
   ],
   "source": [
    "weather_null = imars_crash_details.loc[imars_crash_details['Weather'].isnull()].shape[0]\n",
    "round(weather_null/num_reports*100,2)"
   ]
  },
  {
   "cell_type": "code",
   "execution_count": 19,
   "id": "e5edf738",
   "metadata": {},
   "outputs": [
    {
     "data": {
      "text/plain": [
       "01. Dry                                        11031\n",
       "02. Wet                                         1667\n",
       "03. Snow; 05. Ice/frost                          416\n",
       "99. Unknown                                      413\n",
       "08. Mud, dirt, gravel                            239\n",
       "01. Dry; 08. Mud, dirt, gravel                   214\n",
       "05. Ice/frost                                    191\n",
       "03. Snow                                         181\n",
       "10. Other                                         68\n",
       "03. Snow; 04. Slush                               62\n",
       "02. Wet; 05. Ice/frost                            60\n",
       "02. Wet; 08. Mud, dirt, gravel                    53\n",
       "07. Sand                                          43\n",
       "02. Wet; 03. Snow                                 42\n",
       "01. Dry; 07. Sand                                 40\n",
       "02. Wet; 06. Water (standing, moving)             39\n",
       "02. Wet; 04. Slush                                26\n",
       "04. Slush; 05. Ice/frost                          25\n",
       "01. Dry; 02. Wet                                  19\n",
       "04. Slush                                         18\n",
       "01. Dry; 10. Other                                18\n",
       "02. Wet; 10. Other                                17\n",
       "01. Dry; 99. Unknown                              13\n",
       "07. Sand; 08. Mud, dirt, gravel                   10\n",
       "08. Mud, dirt, gravel; 10. Other                   8\n",
       "01. Dry; 03. Snow                                  6\n",
       "01. Dry; 05. Ice/frost                             5\n",
       "08. Mud, dirt, gravel; 99. Unknown                 5\n",
       "06. Water (standing, moving)                       4\n",
       "05. Ice/frost; 08. Mud, dirt, gravel               4\n",
       "05. Ice/frost; 07. Sand                            4\n",
       "02. Wet; 99. Unknown                               3\n",
       "03. Snow; 08. Mud, dirt, gravel                    3\n",
       "02. Wet; 07. Sand                                  2\n",
       "03. Snow; 10. Other                                2\n",
       "02. Wet; 09. Oil                                   2\n",
       "09. Oil                                            2\n",
       "09. Oil; 10. Other                                 1\n",
       "04. Slush; 07. Sand                                1\n",
       "03. Snow; 99. Unknown                              1\n",
       "03. Snow; 07. Sand                                 1\n",
       "05. Ice/frost; 06. Water (standing, moving)        1\n",
       "04. Slush; 06. Water (standing, moving)            1\n",
       "05. Ice/frost; 99. Unknown                         1\n",
       "Name: Roadway_Condition, dtype: int64"
      ]
     },
     "execution_count": 19,
     "metadata": {},
     "output_type": "execute_result"
    }
   ],
   "source": [
    "imars_crash_details['Roadway_Condition'].value_counts()\n",
    "# can select more than one option, need to string search for 'contains pertinent attributes'"
   ]
  },
  {
   "cell_type": "code",
   "execution_count": 20,
   "id": "4c321c2b",
   "metadata": {},
   "outputs": [
    {
     "data": {
      "text/plain": [
       "(1342, 24)"
      ]
     },
     "execution_count": 20,
     "metadata": {},
     "output_type": "execute_result"
    }
   ],
   "source": [
    "imars_crash_details.loc[imars_crash_details['Roadway_Condition'].isnull()].shape"
   ]
  },
  {
   "cell_type": "code",
   "execution_count": 30,
   "id": "5e229c4d",
   "metadata": {},
   "outputs": [
    {
     "data": {
      "text/plain": [
       "8.23"
      ]
     },
     "execution_count": 30,
     "metadata": {},
     "output_type": "execute_result"
    }
   ],
   "source": [
    "SurfaceCondition_null = imars_crash_details.loc[imars_crash_details['Roadway_Condition'].isnull()].shape[0]\n",
    "round(SurfaceCondition_null/num_reports*100,2)"
   ]
  },
  {
   "cell_type": "code",
   "execution_count": 35,
   "id": "e8d8ee63",
   "metadata": {},
   "outputs": [
    {
     "data": {
      "text/plain": [
       "01. None                                                                                                                             10624\n",
       "02. Road surface condition (wet, icy, snow, slush, etc.)                                                                              1587\n",
       "99. Unknown                                                                                                                            464\n",
       "09. Shoulders (none, low, soft, high)                                                                                                  343\n",
       "11. Other                                                                                                                              262\n",
       "                                                                                                                                     ...  \n",
       "04. Rut, holes, bumps; 09. Shoulders (none, low, soft, high); 10. Off roadway work lane markings missing or faded                        1\n",
       "02. Road surface condition (wet, icy, snow, slush, etc.); 04. Rut, holes, bumps; 07. Obstruction in roadway (i.e. vehicles, etc.)        1\n",
       "03. Debris; 08. Traffic control device obscured                                                                                          1\n",
       "02. Road surface condition (wet, icy, snow, slush, etc.); 09. Shoulders (none, low, soft, high); 99. Unknown                             1\n",
       "01. None; 04. Rut, holes, bumps; 06. Worn, travel-polished surface                                                                       1\n",
       "Name: AS_Road_Circumstance, Length: 109, dtype: int64"
      ]
     },
     "execution_count": 35,
     "metadata": {},
     "output_type": "execute_result"
    }
   ],
   "source": [
    "imars_crash_details['AS_Road_Circumstance'].value_counts()\n",
    "# can select more than one option, need to string search for 'contains pertinent attributes'"
   ]
  },
  {
   "cell_type": "code",
   "execution_count": 27,
   "id": "6778bbdc",
   "metadata": {},
   "outputs": [
    {
     "data": {
      "text/plain": [
       "(1691, 24)"
      ]
     },
     "execution_count": 27,
     "metadata": {},
     "output_type": "execute_result"
    }
   ],
   "source": [
    "imars_crash_details.loc[imars_crash_details['AS_Road_Circumstance'].isnull()].shape"
   ]
  },
  {
   "cell_type": "code",
   "execution_count": 31,
   "id": "0d0fee7a",
   "metadata": {},
   "outputs": [
    {
     "data": {
      "text/plain": [
       "10.37"
      ]
     },
     "execution_count": 31,
     "metadata": {},
     "output_type": "execute_result"
    }
   ],
   "source": [
    "RoadConFact_null = imars_crash_details.loc[imars_crash_details['AS_Road_Circumstance'].isnull()].shape[0]\n",
    "round(RoadConFact_null/num_reports*100,2)"
   ]
  },
  {
   "cell_type": "code",
   "execution_count": 36,
   "id": "88819fdb",
   "metadata": {},
   "outputs": [
    {
     "data": {
      "text/plain": [
       "01. None                                                                                    10578\n",
       "02. Weather                                                                                  1332\n",
       "06. Animal(s) in roadway                                                                     1040\n",
       "99. Unknown                                                                                   623\n",
       "03. Physical obstruction(s) (trees, bushes, etc.)                                             253\n",
       "07. Other                                                                                     245\n",
       "05. Glare                                                                                      95\n",
       "02. Weather; 03. Physical obstruction(s) (trees, bushes, etc.)                                 91\n",
       "02. Weather; 07. Other                                                                         58\n",
       "02. Weather; 06. Animal(s) in roadway                                                          56\n",
       "04. Rockfall                                                                                   35\n",
       "01. None; 99. Unknown                                                                          21\n",
       "03. Physical obstruction(s) (trees, bushes, etc.); 06. Animal(s) in roadway                    17\n",
       "05. Glare; 06. Animal(s) in roadway                                                            14\n",
       "02. Weather; 05. Glare                                                                         14\n",
       "03. Physical obstruction(s) (trees, bushes, etc.); 07. Other                                    9\n",
       "02. Weather; 99. Unknown                                                                        9\n",
       "01. None; 06. Animal(s) in roadway                                                              9\n",
       "06. Animal(s) in roadway; 99. Unknown                                                           7\n",
       "01. None; 07. Other                                                                             6\n",
       "02. Weather; 06. Animal(s) in roadway; 07. Other                                                6\n",
       "03. Physical obstruction(s) (trees, bushes, etc.); 05. Glare                                    6\n",
       "01. None; 03. Physical obstruction(s) (trees, bushes, etc.)                                     6\n",
       "05. Glare; 07. Other                                                                            5\n",
       "02. Weather; 04. Rockfall                                                                       5\n",
       "06. Animal(s) in roadway; 07. Other                                                             3\n",
       "03. Physical obstruction(s) (trees, bushes, etc.); 99. Unknown                                  3\n",
       "01. None; 02. Weather                                                                           3\n",
       "06. Animal(s) in roadway; 07. Other; 99. Unknown                                                2\n",
       "03. Physical obstruction(s) (trees, bushes, etc.); 04. Rockfall                                 2\n",
       "01. None; 05. Glare                                                                             2\n",
       "07. Other; 99. Unknown                                                                          2\n",
       "02. Weather; 03. Physical obstruction(s) (trees, bushes, etc.); 07. Other                       1\n",
       "05. Glare; 07. Other; 99. Unknown                                                               1\n",
       "03. Physical obstruction(s) (trees, bushes, etc.); 05. Glare; 06. Animal(s) in roadway          1\n",
       "04. Rockfall; 07. Other                                                                         1\n",
       "02. Weather; 03. Physical obstruction(s) (trees, bushes, etc.); 04. Rockfall                    1\n",
       "01. None; 06. Animal(s) in roadway; 99. Unknown                                                 1\n",
       "02. Weather; 06. Animal(s) in roadway; 99. Unknown                                              1\n",
       "01. None; 07. Other; 99. Unknown                                                                1\n",
       "02. Weather; 07. Other; 99. Unknown                                                             1\n",
       "05. Glare; 99. Unknown                                                                          1\n",
       "03. Physical obstruction(s) (trees, bushes, etc.); 07. Other; 99. Unknown                       1\n",
       "02. Weather; 05. Glare; 06. Animal(s) in roadway                                                1\n",
       "02. Weather; 03. Physical obstruction(s) (trees, bushes, etc.); 06. Animal(s) in roadway        1\n",
       "Name: Environmental_Contributing_Circumstances, dtype: int64"
      ]
     },
     "execution_count": 36,
     "metadata": {},
     "output_type": "execute_result"
    }
   ],
   "source": [
    "imars_crash_details['Environmental_Contributing_Circumstances'].value_counts()\n",
    "# can select more than one option, need to string search for 'contains pertinent attributes'"
   ]
  },
  {
   "cell_type": "code",
   "execution_count": 37,
   "id": "3a9bd795",
   "metadata": {},
   "outputs": [
    {
     "data": {
      "text/plain": [
       "(1734, 24)"
      ]
     },
     "execution_count": 37,
     "metadata": {},
     "output_type": "execute_result"
    }
   ],
   "source": [
    "imars_crash_details.loc[imars_crash_details['Environmental_Contributing_Circumstances'].isnull()].shape"
   ]
  },
  {
   "cell_type": "code",
   "execution_count": 38,
   "id": "3db6b5c9",
   "metadata": {},
   "outputs": [
    {
     "data": {
      "text/plain": [
       "10.64"
      ]
     },
     "execution_count": 38,
     "metadata": {},
     "output_type": "execute_result"
    }
   ],
   "source": [
    "EnvConFact_null = imars_crash_details.loc[imars_crash_details['Environmental_Contributing_Circumstances'].isnull()].shape[0]\n",
    "round(EnvConFact_null/num_reports*100,2)"
   ]
  },
  {
   "cell_type": "code",
   "execution_count": 2,
   "id": "f4a985ce",
   "metadata": {},
   "outputs": [],
   "source": [
    "imars_passenger = pd.read_excel(\"./IMARS/IMARS 2012 - 2021.xlsx\", sheet_name = \"Person\")"
   ]
  },
  {
   "cell_type": "code",
   "execution_count": 3,
   "id": "103e2adb",
   "metadata": {},
   "outputs": [
    {
     "data": {
      "text/plain": [
       "Other         162\n",
       "Bicyclist      66\n",
       "Pedestrian     39\n",
       "Name: Pedestrian_Type, dtype: int64"
      ]
     },
     "execution_count": 3,
     "metadata": {},
     "output_type": "execute_result"
    }
   ],
   "source": [
    "imars_passenger['Pedestrian_Type'].value_counts()"
   ]
  },
  {
   "cell_type": "code",
   "execution_count": 4,
   "id": "fbfd58d5",
   "metadata": {},
   "outputs": [
    {
     "data": {
      "text/plain": [
       "02. Bicyclist                              65\n",
       "99. Unknown                                45\n",
       "01. Pedestrian                             40\n",
       "05. Other pedestrian (wheelchair, etc.)     7\n",
       "04. Equestrian/other rider                  2\n",
       "03. Other pedalcyclist                      1\n",
       "Name: Pedestrian_Type_Detail, dtype: int64"
      ]
     },
     "execution_count": 4,
     "metadata": {},
     "output_type": "execute_result"
    }
   ],
   "source": [
    "imars_passenger['Pedestrian_Type_Detail'].value_counts()"
   ]
  },
  {
   "cell_type": "code",
   "execution_count": 5,
   "id": "c9461b73",
   "metadata": {},
   "outputs": [],
   "source": [
    "imars_vehicle = pd.read_excel(\"./IMARS/IMARS 2012 - 2021.xlsx\", sheet_name = \"Vehicle\")"
   ]
  },
  {
   "cell_type": "code",
   "execution_count": 6,
   "id": "892802eb",
   "metadata": {},
   "outputs": [
    {
     "data": {
      "text/plain": [
       "01. Passenger car (sedan, minivan, etc.)         8537\n",
       "02. Sport utility vehicle                        4259\n",
       "05. Pickup truck                                 2557\n",
       "10. Motorcycle > 150cc                            873\n",
       "06. Motor home                                    649\n",
       "99. Unknown                                       641\n",
       "18. Medium/heavy trucks (10,000 lbs. or more)     343\n",
       "17. Other light trucks (10,000 lbs. or less)      281\n",
       "03. Passenger van (9-15 passengers)               223\n",
       "21. Other                                         207\n",
       "08. Transit/shuttle bus                           197\n",
       "04. Cargo van (10,000 lbs. or less)               162\n",
       "19. Maintenance/construction vehicle              117\n",
       "09. Motor coach                                   107\n",
       "16. Snowmobile                                     43\n",
       "15. ATV                                            33\n",
       "07. School bus                                     31\n",
       "11. Motorcycle < 150cc (trail bike)                21\n",
       "12. Moped/minibike/scooter/segway                  16\n",
       "14. Low speed vehicle (golf cart, etc.)            13\n",
       "20. Farm equipment                                  6\n",
       "Name: Vehicle_Type, dtype: int64"
      ]
     },
     "execution_count": 6,
     "metadata": {},
     "output_type": "execute_result"
    }
   ],
   "source": [
    "imars_vehicle['Vehicle_Type'].value_counts()"
   ]
  },
  {
   "cell_type": "code",
   "execution_count": 7,
   "id": "072a6392",
   "metadata": {},
   "outputs": [
    {
     "data": {
      "text/plain": [
       "01. Straight ahead                    8268\n",
       "99. Unknown                           1638\n",
       "11. Negotiating a curve               1463\n",
       "12. Parked                            1423\n",
       "02. Backing                           1176\n",
       "13. Stopped in traffic                1008\n",
       "06. Turning left                       740\n",
       "10. Slowing                            643\n",
       "05. Turning right                      446\n",
       "16. Other                              301\n",
       "03. Changing lanes                     286\n",
       "09. Entering a traffic lane            286\n",
       "04. Overtaking/passing                 267\n",
       "17. Parking maneuver                   259\n",
       "08. Leaving a traffic lane/parking     179\n",
       "07. Make U-turn                        147\n",
       "14. Driverless motor vehicle            23\n",
       "15. Roadway maintenance                 16\n",
       "Name: Vehicle_Maneuver_Action_Prior_to_Crash, dtype: int64"
      ]
     },
     "execution_count": 7,
     "metadata": {},
     "output_type": "execute_result"
    }
   ],
   "source": [
    "imars_vehicle['Vehicle_Maneuver_Action_Prior_to_Crash'].value_counts()"
   ]
  },
  {
   "cell_type": "code",
   "execution_count": null,
   "id": "a2feff14",
   "metadata": {},
   "outputs": [],
   "source": []
  }
 ],
 "metadata": {
  "kernelspec": {
   "display_name": "Python 3",
   "language": "python",
   "name": "python3"
  },
  "language_info": {
   "codemirror_mode": {
    "name": "ipython",
    "version": 3
   },
   "file_extension": ".py",
   "mimetype": "text/x-python",
   "name": "python",
   "nbconvert_exporter": "python",
   "pygments_lexer": "ipython3",
   "version": "3.8.8"
  }
 },
 "nbformat": 4,
 "nbformat_minor": 5
}
