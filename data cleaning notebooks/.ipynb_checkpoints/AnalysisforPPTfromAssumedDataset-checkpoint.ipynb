{
 "cells": [
  {
   "cell_type": "code",
   "execution_count": 1,
   "metadata": {},
   "outputs": [],
   "source": [
    "import pandas as pd\n",
    "import geopandas as gpd\n",
    "import matplotlib as plt"
   ]
  },
  {
   "cell_type": "code",
   "execution_count": 4,
   "metadata": {},
   "outputs": [
    {
     "name": "stderr",
     "output_type": "stream",
     "text": [
      "C:\\Users\\Meredith.Raymer\\Anaconda3\\envs\\geo_env2\\lib\\site-packages\\IPython\\core\\interactiveshell.py:3441: DtypeWarning: Columns (2,27,31,32) have mixed types.Specify dtype option on import or set low_memory=False.\n",
      "  exec(code_obj, self.user_global_ns, self.user_ns)\n"
     ]
    }
   ],
   "source": [
    "data=pd.read_csv('crash_data_STARS_CDS.csv')"
   ]
  },
  {
   "cell_type": "code",
   "execution_count": 5,
   "metadata": {},
   "outputs": [
    {
     "name": "stdout",
     "output_type": "stream",
     "text": [
      "<bound method IndexOpsMixin.tolist of Index(['BIK_FAT', 'BIK_INJ', 'CASENUM', 'CRASH_DATE', 'CRASH_TIME',\n",
      "       'Collision with Animal', 'Collision with Bicycle',\n",
      "       'Collision with Fixed Object', 'Collision with Other Motor Vehicle',\n",
      "       'Collision with Other Object', 'Collision with Parked Motor Vehicle',\n",
      "       'Collision with Pedestrian', 'Collision with Railway Train',\n",
      "       'Collision with Unknown', 'FATALS', 'Fatality', 'INCID_NO', 'INJURED',\n",
      "       'Incapacitating Injury', 'LATITUDE', 'LONGITUDE', 'NUM_OCC',\n",
      "       'No Injury', 'Non-Collision', 'Non-incapacitating Injury',\n",
      "       'Other Accident Class', 'PARK_ALPHA', 'PED', 'PED_FAT', 'PED_INJ',\n",
      "       'Possible Injury', 'STATE', 'STATE_CODE', 'Unknown Injury'],\n",
      "      dtype='object')>\n"
     ]
    }
   ],
   "source": [
    "list1=data.columns.to_list\n",
    "print(list1)"
   ]
  },
  {
   "cell_type": "code",
   "execution_count": null,
   "metadata": {},
   "outputs": [],
   "source": [
    "#assume there is a column called year, I don't know the format of Date for the files but that should be split out"
   ]
  },
  {
   "cell_type": "code",
   "execution_count": null,
   "metadata": {},
   "outputs": [],
   "source": [
    "initial=data.loc[(data['year']>1989)&(data['year']<2021)]"
   ]
  },
  {
   "cell_type": "code",
   "execution_count": null,
   "metadata": {},
   "outputs": [],
   "source": [
    "# assuming there is a column called data origin\n",
    "stars=initial.loc[(initial['dataOrigin']=='STARS')]\n",
    "cds=initial.loc[(initial['dataOrigin']=='CDS')]\n",
    "imars=initial.loc[(initial['dataOrigin']=='IMARS')]"
   ]
  },
  {
   "cell_type": "code",
   "execution_count": null,
   "metadata": {},
   "outputs": [],
   "source": [
    "numberofStars = len(pd.unique(stars['CASENUM']))\n",
    "print(\"No.of.crashes in STARS :\", numberofStars)"
   ]
  },
  {
   "cell_type": "code",
   "execution_count": null,
   "metadata": {},
   "outputs": [],
   "source": [
    "numberofCds = len(pd.unique(cds['CASENUM']))\n",
    "print(\"No.of.crashes in CDS :\", numberofCds)"
   ]
  },
  {
   "cell_type": "code",
   "execution_count": null,
   "metadata": {},
   "outputs": [],
   "source": [
    "numberofImars = len(pd.unique(imars['CASENUM']))\n",
    "print(\"No.of.crashes in IMARS :\", numberofImars)"
   ]
  },
  {
   "cell_type": "code",
   "execution_count": null,
   "metadata": {},
   "outputs": [],
   "source": [
    "numberofStarsParks = len(pd.unique(stars['PARK_ALPHA']))\n",
    "print(\"No.of.Parks in STARS :\", numberofStars)"
   ]
  },
  {
   "cell_type": "code",
   "execution_count": null,
   "metadata": {},
   "outputs": [],
   "source": [
    "numberofCdsParks = len(pd.unique(cds['PARK_ALPHA']))\n",
    "print(\"No.of.Parks in CDS :\", numberofCds)"
   ]
  },
  {
   "cell_type": "code",
   "execution_count": null,
   "metadata": {},
   "outputs": [],
   "source": [
    "numberofImarsParks = len(pd.unique(imars['PARK_ALPHA']))\n",
    "print(\"No.of.Parks in IMARS :\", numberofImars)"
   ]
  },
  {
   "cell_type": "code",
   "execution_count": null,
   "metadata": {},
   "outputs": [],
   "source": [
    "#lineGraph of years (using eric's posted in github)\n",
    "plt.style.use('seaborn')\n",
    "import seaborn as sns\n",
    "sns.set_palette(\"rocket\", 5)\n",
    "years = ['2005','2006','2007','2008','2009','2010','2011','2012','2013','2014']\n",
    "year_df_alerts = pd.DataFrame({'year':years})\n",
    "sns.set(rc={'axes.facecolor':'1', 'figure.facecolor':'white', 'patch.linewidth': 0.0})\n",
    "\n",
    "fig, ax = plt.subplots(1,1,figsize=(20,15))\n",
    "count = 0\n",
    "\n",
    "ax.plot(years,[0]*10)\n",
    "plt.bar('2009', [0,470], width = 2, color = 'lightgray', alpha = 1)\n",
    "plt.bar('2010', [0,470], width = 2, color = 'lightgray', alpha = 1)\n",
    "\n",
    "\n",
    "for x in df_imr_goodyears.PARK_ALPHA.value_counts().index:\n",
    "    temp_df = df_imr_goodyears_v2.loc[df_imr_goodyears_v2['PARK_ALPHA']==x]\n",
    "    year_df_alerts = pd.DataFrame({'year':years})\n",
    "    if count >6:\n",
    "        continue\n",
    "    temp_df_years = temp_df.groupby(['year']).count()\n",
    "    temp_df_years= temp_df_years.reset_index()\n",
    "    temp_df_years = temp_df_years[['year','PARK_ALPHA']]\n",
    "\n",
    "    temp_df_years.year = temp_df_years.year.astype(\"category\")\n",
    "    temp_df_years.year.cat.set_categories(years, inplace=True)\n",
    "    temp_df_years = temp_df_years.sort_values('year')\n",
    "    temp_df_years= temp_df_years.reset_index()\n",
    "    year_df_alerts =year_df_alerts.merge(temp_df_years, how = \"left\")\n",
    "    year_df_alerts['PARK_ALPHA'] = year_df_alerts['PARK_ALPHA'].fillna(0)\n",
    "    if count > 4:\n",
    "        ax.plot(years,year_df_alerts.PARK_ALPHA, label = x + \": \" + str(len(temp_df)), linewidth=4, dashes = [6,2])\n",
    "    else:\n",
    "        ax.plot(years,year_df_alerts.PARK_ALPHA, label = x+ \": \" + str(len(temp_df)), linewidth=4)\n",
    "    count +=1\n",
    "ax.vlines(['2008','2011'], ymin=0, ymax = 470, linewidth = 4)\n",
    "ax.hlines(0, xmin = '2005', xmax = '2014', linewidth = 4)\n",
    "bbox_props = dict(boxstyle=\"round\", fc=\"w\", ec=\"0.5\", alpha=0.9)\n",
    "ax.text('2009', 275,\n",
    "           '  Most Complete \\n         Data\\n     2008-2011', fontsize=20,\n",
    "       bbox=bbox_props)\n",
    "\n",
    "ax.set_title('Yearly CDS Entries by Top 7 IMR Parks 2005-2014',fontsize= 35, pad = 20) # title of plot\n",
    "\n",
    "ax.set_xlabel('Month',fontsize = 30) #xlabel\n",
    "ax.set_ylabel('Number of Waze Alerts by Month', fontsize = 30)#ylabel\n",
    "ax.xaxis.set_major_locator(ticker.MultipleLocator(tick_spacing))\n",
    "ax.tick_params(axis='x', which='major', labelsize=16)\n",
    "ax.tick_params(axis='y', which='major', labelsize=16)\n",
    "ax.tick_params(axis='both', which='minor', labelsize=8)\n",
    "ax.grid('off')\n",
    "\n",
    "legend = plt.legend(frameon = 1,fontsize=26)\n",
    "frame = legend.get_frame()\n",
    "frame.set_color('white')\n",
    "frame.set_facecolor('white')\n",
    "frame.set_edgecolor('black')\n",
    "plt.show()"
   ]
  },
  {
   "cell_type": "code",
   "execution_count": null,
   "metadata": {},
   "outputs": [],
   "source": [
    "intial_reduced=initial[['PARK_ALPHA','YEAR','CASENUM']]\n",
    "yearly_crashes=intial_reduced.groupby(['PARK_ALPHA','YEAR']).count()\n",
    "yearly_crashes=yearly_crashes.reset_index()\n",
    "yearly_crashes[\"avg\"] = (yearly_crashes.sum(axis=1)/30)\n"
   ]
  },
  {
   "cell_type": "code",
   "execution_count": null,
   "metadata": {},
   "outputs": [],
   "source": [
    "intial_reduced_fatalities=initial[['PARK_ALPHA','Fatality']]\n",
    "fatal_crashes=intial_reduced_fatalities.groupby(['PARK_ALPHA']).sum()\n",
    "fatal_crashes=fatal_crashes.reset_index()\n",
    "fatal_crashes"
   ]
  },
  {
   "cell_type": "code",
   "execution_count": null,
   "metadata": {},
   "outputs": [],
   "source": []
  }
 ],
 "metadata": {
  "kernelspec": {
   "display_name": "Python 3",
   "language": "python",
   "name": "python3"
  },
  "language_info": {
   "codemirror_mode": {
    "name": "ipython",
    "version": 3
   },
   "file_extension": ".py",
   "mimetype": "text/x-python",
   "name": "python",
   "nbconvert_exporter": "python",
   "pygments_lexer": "ipython3",
   "version": "3.7.3"
  }
 },
 "nbformat": 4,
 "nbformat_minor": 5
}
