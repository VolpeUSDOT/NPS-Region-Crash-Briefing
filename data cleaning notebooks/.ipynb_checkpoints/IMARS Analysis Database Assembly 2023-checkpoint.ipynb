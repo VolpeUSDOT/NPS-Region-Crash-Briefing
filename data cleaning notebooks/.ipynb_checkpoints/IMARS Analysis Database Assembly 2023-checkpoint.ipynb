{
 "cells": [
  {
   "cell_type": "code",
   "execution_count": 3,
   "metadata": {},
   "outputs": [],
   "source": [
    "import pandas as pd\n",
    "import geopandas as gpd\n",
    "import numpy as np\n",
    "import os\n",
    "from shapely.geometry import Point, LineString, Polygon"
   ]
  },
  {
   "cell_type": "code",
   "execution_count": 4,
   "metadata": {},
   "outputs": [],
   "source": [
    "myworkingdirectory = r\"C:\\Users\\Sophie.Kaye\\Desktop\\NPS Crash Data\"\n",
    "os.chdir(myworkingdirectory)"
   ]
  },
  {
   "cell_type": "code",
   "execution_count": 113,
   "metadata": {},
   "outputs": [],
   "source": [
    "imars_crash = pd.read_excel(\"./IMARS/IMARS 2012 - 2021.xlsx\", sheet_name = \"Location\")\n",
    "imars_passenger = pd.read_excel(\"./IMARS/IMARS 2012 - 2021.xlsx\", sheet_name = \"Person\")\n",
    "imars_vehicle = pd.read_excel(\"./IMARS/IMARS 2012 - 2021.xlsx\", sheet_name = \"Vehicle\")\n",
    "imars_crash_details = pd.read_excel(\"./IMARS/IMARS 2012 - 2021.xlsx\", sheet_name = \"Classification\")"
   ]
  },
  {
   "cell_type": "code",
   "execution_count": 6,
   "metadata": {},
   "outputs": [
    {
     "data": {
      "text/plain": [
       "Index(['IMARS_Record_No', 'Crash_Date_Time', 'Driver_Action',\n",
       "       'Driver_Condition', 'Driver_Distraction', 'Suspect_Alcohol',\n",
       "       'Alcohol_Test', 'Alcohol_Test_Result_1', 'Alcohol_Test_Result_2',\n",
       "       'Suspect_Drugs', 'Drug_Test', 'Violations_Issued', 'Seat_Position',\n",
       "       'Injury_Severity', 'Air_Bag_Deployed', 'Ejection',\n",
       "       'Injury_Transported_By', 'Safety_Equipment_Used', 'Vehicle_number',\n",
       "       'Injured_transported_by', 'Non_motorist_safety_equipment',\n",
       "       'Non_motorist_action_circumstance_prior_to_crash',\n",
       "       'Non_motorist_action_circumstance_at_time_of_crash',\n",
       "       'Non_motorist_condition_at_time_of_crash', 'Non_motorist_distraction',\n",
       "       'Non_motorist_location_at_time_of_crash', 'Pedestrian_Type',\n",
       "       'Pedestrian_Type_Detail', 'Involvement'],\n",
       "      dtype='object')"
      ]
     },
     "execution_count": 6,
     "metadata": {},
     "output_type": "execute_result"
    }
   ],
   "source": [
    "imars_passenger.columns"
   ]
  },
  {
   "cell_type": "code",
   "execution_count": 7,
   "metadata": {},
   "outputs": [
    {
     "data": {
      "text/plain": [
       "Index(['IMARS_Record_No', 'Crash_Date_Time', 'Linked_Address_Classification',\n",
       "       'City_Town_Park_Location', 'State', 'County', 'Direction',\n",
       "       'Linked_Street_Number', 'Linked_Common_Name', 'Street_Type',\n",
       "       'Direction.1', 'NEAR_Distance_to_MI', 'NEAR_Direction_To',\n",
       "       'NEAR_Direction', 'NEAR_route_street_road_name', 'NEAR_Road_Type',\n",
       "       'NEAR_Direction.1', 'AT_Intersection_route_street_road_DIRECTION',\n",
       "       'At_Intersecting_route_street_road_name', 'AT_Road_Type',\n",
       "       'AT_Direction', 'Mile_Marker', 'Latitude', 'Longitude', 'Region',\n",
       "       'State_Zone', 'Park', 'Site', 'Place', 'Point',\n",
       "       'Road_Type_Classification', 'Linked_Address'],\n",
       "      dtype='object')"
      ]
     },
     "execution_count": 7,
     "metadata": {},
     "output_type": "execute_result"
    }
   ],
   "source": [
    "imars_crash.columns"
   ]
  },
  {
   "cell_type": "code",
   "execution_count": 8,
   "metadata": {},
   "outputs": [
    {
     "data": {
      "text/plain": [
       "Index(['IMARS_Record_No', 'Crash_Date_Time', 'Number_of_Vehicles_Involved',\n",
       "       'Injury_or_Fatal_Crash', 'Investigated_at_Scene', 'Hit_and_Run',\n",
       "       'Non_Motor_Vehicl_Property_Damage', 'Amount_of_Property_Damage',\n",
       "       'First_Harmful_Event_Type', 'First_Harmful_Event',\n",
       "       'Location_of_First_Harmful_Event', 'Weather', 'Roadway_Condition',\n",
       "       'Lighting', 'School_Bus_related', 'AS_Road_Circumstance',\n",
       "       'Environmental_Contributing_Circumstances', 'Work_Zone_Related',\n",
       "       'Work_Zone_Workers_Present', 'Work_Zone_Location',\n",
       "       'Law_Enforcement_Present_at_Work_Zone', 'Relation_to_Junction',\n",
       "       'Type_of_Intersection', 'Manner_of_Collision'],\n",
       "      dtype='object')"
      ]
     },
     "execution_count": 8,
     "metadata": {},
     "output_type": "execute_result"
    }
   ],
   "source": [
    "imars_crash_details.columns"
   ]
  },
  {
   "cell_type": "code",
   "execution_count": 9,
   "metadata": {},
   "outputs": [
    {
     "data": {
      "text/plain": [
       "Index(['IMARS_Record_No', 'Crash_Date_Time', 'Vehicle_Number',\n",
       "       'Number_of_Occupants', 'Vehicle_Towed', 'Insurance_verified',\n",
       "       'Initial_Impact_Point', 'Most_Damaged_Area', 'Extent_of_Damage',\n",
       "       'Direction_of_Travel_Prior_to_Crash', 'Posted_Speed',\n",
       "       'First_Event_Type', 'First_Event', 'Second_Event_Type', 'Second_Event',\n",
       "       'Third_Event_Type', 'Third_Event', 'Fourth_Event_Type', 'Fourth_Event',\n",
       "       'Motor_Vehicle_Unit_Type', 'Vehicle_Owner', 'Vehicle_Type',\n",
       "       'Non_Commercial_Trailer_Style', 'Emergency_Vehicle_Use',\n",
       "       'Emergency_Equipment_Activated', 'Special_Function_of_MV_in_Transport',\n",
       "       'Motor_Vehicle_Contributing_Circumstance',\n",
       "       'Vehicle_Maneuver_Action_Prior_to_Crash', 'Road_Surface', 'Grade',\n",
       "       'Roadway_Alignment', 'Total_Number_of_Lanes', 'Traffic_Control',\n",
       "       'Traffic_Control_Working_Properly', 'Roadway_Description',\n",
       "       'Commercial_Non_Commercial', 'Number_of_Axles', 'Gross_Vehicle_Weight',\n",
       "       'Combination_GVW', 'Commercial_Cargo_Body_Type', 'Commercial_Cargo',\n",
       "       'Commercial_MV_Configuration', 'Identification_Number_Type',\n",
       "       'Hazmat_1_Class', 'Hazmat_1_ID', 'Hazmat_2_Class', 'Hazmat_2_ID',\n",
       "       'Hazmat_3_Class', 'Hazmat_3_ID', 'Hazmat_4_Class', 'Hazmat_4_ID'],\n",
       "      dtype='object')"
      ]
     },
     "execution_count": 9,
     "metadata": {},
     "output_type": "execute_result"
    }
   ],
   "source": [
    "imars_vehicle.columns"
   ]
  },
  {
   "cell_type": "markdown",
   "metadata": {},
   "source": [
    "# General Data Cleaning\n",
    "Note that there are crashes with randomly missing park, region, and/or roadway"
   ]
  },
  {
   "cell_type": "markdown",
   "metadata": {},
   "source": [
    "### REMOVE CRASHES WITH MISSING RECORD NUMBERS"
   ]
  },
  {
   "cell_type": "code",
   "execution_count": 114,
   "metadata": {},
   "outputs": [],
   "source": [
    "imars_crash = imars_crash.dropna(subset=['IMARS_Record_No'])\n",
    "imars_passenger = imars_passenger.dropna(subset=['IMARS_Record_No'])\n",
    "imars_vehicle = imars_vehicle.dropna(subset=['IMARS_Record_No'])\n",
    "imars_crash_details = imars_crash_details.dropna(subset=['IMARS_Record_No'])"
   ]
  },
  {
   "cell_type": "markdown",
   "metadata": {},
   "source": [
    "### REMOVE DUPLICATES\n",
    "**Note:** Cannot remove duplicates from vehicle and passenger tables because they are unique records for each person/car involved in crash "
   ]
  },
  {
   "cell_type": "code",
   "execution_count": 11,
   "metadata": {},
   "outputs": [],
   "source": [
    "imars_crash = imars_crash.drop_duplicates(subset=['IMARS_Record_No'])\n",
    "imars_crash_details = imars_crash_details.drop_duplicates(subset=['IMARS_Record_No'])"
   ]
  },
  {
   "cell_type": "markdown",
   "metadata": {},
   "source": [
    "### REVERT FLIPPED LAT/LONG"
   ]
  },
  {
   "cell_type": "code",
   "execution_count": 12,
   "metadata": {},
   "outputs": [],
   "source": [
    "need_revert = imars_crash['Latitude'].abs() > 70\n",
    "imars_crash.loc[need_revert, ['Latitude', 'Longitude']] = (imars_crash.loc[need_revert, ['Longitude', 'Latitude']].values)"
   ]
  },
  {
   "cell_type": "markdown",
   "metadata": {},
   "source": [
    "### ADJUST SIGNS TO CORRECT HEMISPHERE"
   ]
  },
  {
   "cell_type": "code",
   "execution_count": 13,
   "metadata": {},
   "outputs": [],
   "source": [
    "imars_crash.loc[imars_crash.Latitude < 0,\"Latitude\"] = imars_crash['Latitude']*(-1)\n",
    "imars_crash.loc[imars_crash.Longitude > 0,\"Longitude\"] = imars_crash['Longitude']*(-1)"
   ]
  },
  {
   "cell_type": "markdown",
   "metadata": {},
   "source": [
    "# Add Parks to Crash Table\n",
    "\n",
    "**Note:** IMARS does not have park units with each crash, so these will have to be added using the Latitude and Longitude fields in the imars_crash dataset. "
   ]
  },
  {
   "cell_type": "code",
   "execution_count": 14,
   "metadata": {},
   "outputs": [
    {
     "data": {
      "text/plain": [
       "12205"
      ]
     },
     "execution_count": 14,
     "metadata": {},
     "output_type": "execute_result"
    }
   ],
   "source": [
    "imars_crash_parks = imars_crash.dropna(subset=['Park'])\n",
    "imars_crash_parks.shape[0]"
   ]
  },
  {
   "cell_type": "code",
   "execution_count": 15,
   "metadata": {},
   "outputs": [
    {
     "data": {
      "text/plain": [
       "2925"
      ]
     },
     "execution_count": 15,
     "metadata": {},
     "output_type": "execute_result"
    }
   ],
   "source": [
    "imars_crash.loc[imars_crash['Park'].isnull()].shape[0]\n",
    "# 2925 crash entries have no park identification"
   ]
  },
  {
   "cell_type": "code",
   "execution_count": 16,
   "metadata": {},
   "outputs": [
    {
     "data": {
      "text/plain": [
       "591"
      ]
     },
     "execution_count": 16,
     "metadata": {},
     "output_type": "execute_result"
    }
   ],
   "source": [
    "imars_crash_coords = imars_crash.loc[imars_crash['Park'].isnull()].dropna(subset=['Latitude','Longitude'])\n",
    "imars_crash_coords.shape[0]"
   ]
  },
  {
   "cell_type": "code",
   "execution_count": 17,
   "metadata": {},
   "outputs": [
    {
     "data": {
      "text/plain": [
       "12796"
      ]
     },
     "execution_count": 17,
     "metadata": {},
     "output_type": "execute_result"
    }
   ],
   "source": [
    "# of the 2925 crash entries without park identification, 591 have lat/long coordinates from which park can be assigned using the shapefile\n",
    "# the sum of crashes with pre-identified parks and crashes that can be assigned a park using lat/long coordinates \n",
    "# results in the following total of possible usable crash entries after the spatial join:\n",
    "12205+591"
   ]
  },
  {
   "cell_type": "code",
   "execution_count": 18,
   "metadata": {},
   "outputs": [
    {
     "data": {
      "text/plain": [
       "2334"
      ]
     },
     "execution_count": 18,
     "metadata": {},
     "output_type": "execute_result"
    }
   ],
   "source": [
    "imars_crash_noparks = imars_crash.loc[imars_crash['Park'].isnull()]\n",
    "imars_crash_noparks_nocoords = imars_crash_noparks.loc[imars_crash_noparks['Latitude'].isnull()]\n",
    "# 2334 of the crash entries have no park identification or lat/long coordinates\n",
    "2925-591"
   ]
  },
  {
   "cell_type": "code",
   "execution_count": 19,
   "metadata": {},
   "outputs": [
    {
     "data": {
      "text/plain": [
       "109"
      ]
     },
     "execution_count": 19,
     "metadata": {},
     "output_type": "execute_result"
    }
   ],
   "source": [
    "mask = imars_crash_noparks_nocoords.loc[:,['Linked_Common_Name','Linked_Address','NEAR_route_street_road_name',\n",
    "                                           'At_Intersecting_route_street_road_name']].notnull()\n",
    "imars_noparks_nocoords_someinfo = imars_crash_noparks_nocoords.loc[mask.any(axis=1)]\n",
    "imars_noparks_nocoords_someinfo.shape[0]"
   ]
  },
  {
   "cell_type": "code",
   "execution_count": 20,
   "metadata": {},
   "outputs": [],
   "source": [
    "# of the 2334 crash entries without park identification or lat/long coordinates, 109 have other identifiable information \n",
    "# (e.g., roadway name) which could be used to identify the park name\n",
    "# print file containing only this subset of crashes for manual park identification\n",
    "imars_noparks_nocoords_someinfo.to_csv(\"./IMARS_noparks_nocoords_someinfo.csv\",index=False)"
   ]
  },
  {
   "cell_type": "markdown",
   "metadata": {},
   "source": [
    "## spatial join to assign park names"
   ]
  },
  {
   "cell_type": "code",
   "execution_count": 21,
   "metadata": {},
   "outputs": [],
   "source": [
    "imars_crash_coords_geo=gpd.GeoDataFrame(imars_crash_coords, geometry=gpd.points_from_xy(imars_crash_coords.Longitude, \n",
    "                                                                             imars_crash_coords.Latitude))\n",
    "filename = \"./shapefiles/NPS_-_Land_Resources_Division_Boundary_and_Tract_Data_Service.geojson\"\n",
    "file = open(filename)\n",
    "parks = gpd.read_file(file)"
   ]
  },
  {
   "cell_type": "code",
   "execution_count": 22,
   "metadata": {},
   "outputs": [
    {
     "name": "stderr",
     "output_type": "stream",
     "text": [
      "C:\\Users\\Sophie.Kaye\\AppData\\Local\\Temp\\ipykernel_15904\\4190506217.py:3: UserWarning: Geometry is in a geographic CRS. Results from 'buffer' are likely incorrect. Use 'GeoSeries.to_crs()' to re-project geometries to a projected CRS before this operation.\n",
      "\n",
      "  parks['geometry']=parks['geometry'].buffer(0.01)\n"
     ]
    },
    {
     "data": {
      "text/html": [
       "<div>\n",
       "<style scoped>\n",
       "    .dataframe tbody tr th:only-of-type {\n",
       "        vertical-align: middle;\n",
       "    }\n",
       "\n",
       "    .dataframe tbody tr th {\n",
       "        vertical-align: top;\n",
       "    }\n",
       "\n",
       "    .dataframe thead th {\n",
       "        text-align: right;\n",
       "    }\n",
       "</style>\n",
       "<table border=\"1\" class=\"dataframe\">\n",
       "  <thead>\n",
       "    <tr style=\"text-align: right;\">\n",
       "      <th></th>\n",
       "      <th>IMARS_Record_No</th>\n",
       "      <th>Crash_Date_Time</th>\n",
       "      <th>Linked_Address_Classification</th>\n",
       "      <th>City_Town_Park_Location</th>\n",
       "      <th>State</th>\n",
       "      <th>County</th>\n",
       "      <th>Direction</th>\n",
       "      <th>Linked_Street_Number</th>\n",
       "      <th>Linked_Common_Name</th>\n",
       "      <th>Street_Type</th>\n",
       "      <th>...</th>\n",
       "      <th>CREATED_BY</th>\n",
       "      <th>METADATA</th>\n",
       "      <th>PARKNAME</th>\n",
       "      <th>CreationDate</th>\n",
       "      <th>Creator</th>\n",
       "      <th>EditDate</th>\n",
       "      <th>Editor</th>\n",
       "      <th>GlobalID</th>\n",
       "      <th>Shape__Area</th>\n",
       "      <th>Shape__Length</th>\n",
       "    </tr>\n",
       "  </thead>\n",
       "  <tbody>\n",
       "    <tr>\n",
       "      <th>439</th>\n",
       "      <td>NP14039836</td>\n",
       "      <td>20140513 13:30:00:000</td>\n",
       "      <td>NaN</td>\n",
       "      <td>NaN</td>\n",
       "      <td>NaN</td>\n",
       "      <td>NaN</td>\n",
       "      <td>NaN</td>\n",
       "      <td>NaN</td>\n",
       "      <td>NaN</td>\n",
       "      <td>NaN</td>\n",
       "      <td>...</td>\n",
       "      <td>Lands</td>\n",
       "      <td>Preliminary data. Contact the Land Resources P...</td>\n",
       "      <td>Olympic</td>\n",
       "      <td>2020-01-09T22:16:03+00:00</td>\n",
       "      <td>SCarlton@nps.gov_nps</td>\n",
       "      <td>2020-01-09T22:16:03+00:00</td>\n",
       "      <td>SCarlton@nps.gov_nps</td>\n",
       "      <td>d568927b-56f4-4f49-a52a-b8ab9f7676a3</td>\n",
       "      <td>8.203591e+09</td>\n",
       "      <td>1.158605e+06</td>\n",
       "    </tr>\n",
       "    <tr>\n",
       "      <th>443</th>\n",
       "      <td>NP14049772</td>\n",
       "      <td>20140607 14:42:00:000</td>\n",
       "      <td>NaN</td>\n",
       "      <td>NaN</td>\n",
       "      <td>NaN</td>\n",
       "      <td>NaN</td>\n",
       "      <td>NaN</td>\n",
       "      <td>NaN</td>\n",
       "      <td>NaN</td>\n",
       "      <td>NaN</td>\n",
       "      <td>...</td>\n",
       "      <td>Lands</td>\n",
       "      <td>Preliminary data. Contact the Land Resources P...</td>\n",
       "      <td>Olympic</td>\n",
       "      <td>2020-01-09T22:16:03+00:00</td>\n",
       "      <td>SCarlton@nps.gov_nps</td>\n",
       "      <td>2020-01-09T22:16:03+00:00</td>\n",
       "      <td>SCarlton@nps.gov_nps</td>\n",
       "      <td>d568927b-56f4-4f49-a52a-b8ab9f7676a3</td>\n",
       "      <td>8.203591e+09</td>\n",
       "      <td>1.158605e+06</td>\n",
       "    </tr>\n",
       "    <tr>\n",
       "      <th>444</th>\n",
       "      <td>NP14060606</td>\n",
       "      <td>20140625 20:40:00:000</td>\n",
       "      <td>NaN</td>\n",
       "      <td>NaN</td>\n",
       "      <td>NaN</td>\n",
       "      <td>NaN</td>\n",
       "      <td>NaN</td>\n",
       "      <td>NaN</td>\n",
       "      <td>NaN</td>\n",
       "      <td>NaN</td>\n",
       "      <td>...</td>\n",
       "      <td>Lands</td>\n",
       "      <td>Preliminary data. Contact the Land Resources P...</td>\n",
       "      <td>Olympic</td>\n",
       "      <td>2020-01-09T22:16:03+00:00</td>\n",
       "      <td>SCarlton@nps.gov_nps</td>\n",
       "      <td>2020-01-09T22:16:03+00:00</td>\n",
       "      <td>SCarlton@nps.gov_nps</td>\n",
       "      <td>d568927b-56f4-4f49-a52a-b8ab9f7676a3</td>\n",
       "      <td>8.203591e+09</td>\n",
       "      <td>1.158605e+06</td>\n",
       "    </tr>\n",
       "    <tr>\n",
       "      <th>497</th>\n",
       "      <td>NP16023660</td>\n",
       "      <td>20160312 16:32:00:000</td>\n",
       "      <td>NaN</td>\n",
       "      <td>NaN</td>\n",
       "      <td>NaN</td>\n",
       "      <td>NaN</td>\n",
       "      <td>NaN</td>\n",
       "      <td>NaN</td>\n",
       "      <td>NaN</td>\n",
       "      <td>NaN</td>\n",
       "      <td>...</td>\n",
       "      <td>Lands</td>\n",
       "      <td>https://irma.nps.gov/DataStore/Reference/Profi...</td>\n",
       "      <td>Big Bend</td>\n",
       "      <td>2022-01-06T10:41:22+00:00</td>\n",
       "      <td>WASO</td>\n",
       "      <td>2022-01-06T10:41:22+00:00</td>\n",
       "      <td>WASO</td>\n",
       "      <td>32b17c0c-12d0-4ffb-82fd-fb570aa92382</td>\n",
       "      <td>4.329894e+09</td>\n",
       "      <td>4.621458e+05</td>\n",
       "    </tr>\n",
       "    <tr>\n",
       "      <th>508</th>\n",
       "      <td>NP16029926</td>\n",
       "      <td>20160326 20:00:00:000</td>\n",
       "      <td>NaN</td>\n",
       "      <td>NaN</td>\n",
       "      <td>NaN</td>\n",
       "      <td>NaN</td>\n",
       "      <td>NaN</td>\n",
       "      <td>NaN</td>\n",
       "      <td>NaN</td>\n",
       "      <td>NaN</td>\n",
       "      <td>...</td>\n",
       "      <td>Lands</td>\n",
       "      <td>https://irma.nps.gov/DataStore/Reference/Profi...</td>\n",
       "      <td>Blue Ridge Parkway</td>\n",
       "      <td>2022-01-06T10:41:13+00:00</td>\n",
       "      <td>WASO</td>\n",
       "      <td>2022-01-06T10:41:13+00:00</td>\n",
       "      <td>WASO</td>\n",
       "      <td>a8ef8bcf-aaa2-4623-a8f6-1d93fe31f945</td>\n",
       "      <td>6.422579e+08</td>\n",
       "      <td>2.287707e+06</td>\n",
       "    </tr>\n",
       "  </tbody>\n",
       "</table>\n",
       "<p>5 rows × 53 columns</p>\n",
       "</div>"
      ],
      "text/plain": [
       "    IMARS_Record_No        Crash_Date_Time Linked_Address_Classification  \\\n",
       "439      NP14039836  20140513 13:30:00:000                           NaN   \n",
       "443      NP14049772  20140607 14:42:00:000                           NaN   \n",
       "444      NP14060606  20140625 20:40:00:000                           NaN   \n",
       "497      NP16023660  20160312 16:32:00:000                           NaN   \n",
       "508      NP16029926  20160326 20:00:00:000                           NaN   \n",
       "\n",
       "    City_Town_Park_Location State County Direction  Linked_Street_Number  \\\n",
       "439                     NaN   NaN    NaN       NaN                   NaN   \n",
       "443                     NaN   NaN    NaN       NaN                   NaN   \n",
       "444                     NaN   NaN    NaN       NaN                   NaN   \n",
       "497                     NaN   NaN    NaN       NaN                   NaN   \n",
       "508                     NaN   NaN    NaN       NaN                   NaN   \n",
       "\n",
       "    Linked_Common_Name Street_Type  ...  CREATED_BY  \\\n",
       "439                NaN         NaN  ...       Lands   \n",
       "443                NaN         NaN  ...       Lands   \n",
       "444                NaN         NaN  ...       Lands   \n",
       "497                NaN         NaN  ...       Lands   \n",
       "508                NaN         NaN  ...       Lands   \n",
       "\n",
       "                                              METADATA            PARKNAME  \\\n",
       "439  Preliminary data. Contact the Land Resources P...             Olympic   \n",
       "443  Preliminary data. Contact the Land Resources P...             Olympic   \n",
       "444  Preliminary data. Contact the Land Resources P...             Olympic   \n",
       "497  https://irma.nps.gov/DataStore/Reference/Profi...            Big Bend   \n",
       "508  https://irma.nps.gov/DataStore/Reference/Profi...  Blue Ridge Parkway   \n",
       "\n",
       "                  CreationDate               Creator  \\\n",
       "439  2020-01-09T22:16:03+00:00  SCarlton@nps.gov_nps   \n",
       "443  2020-01-09T22:16:03+00:00  SCarlton@nps.gov_nps   \n",
       "444  2020-01-09T22:16:03+00:00  SCarlton@nps.gov_nps   \n",
       "497  2022-01-06T10:41:22+00:00                  WASO   \n",
       "508  2022-01-06T10:41:13+00:00                  WASO   \n",
       "\n",
       "                      EditDate                Editor  \\\n",
       "439  2020-01-09T22:16:03+00:00  SCarlton@nps.gov_nps   \n",
       "443  2020-01-09T22:16:03+00:00  SCarlton@nps.gov_nps   \n",
       "444  2020-01-09T22:16:03+00:00  SCarlton@nps.gov_nps   \n",
       "497  2022-01-06T10:41:22+00:00                  WASO   \n",
       "508  2022-01-06T10:41:13+00:00                  WASO   \n",
       "\n",
       "                                 GlobalID   Shape__Area Shape__Length  \n",
       "439  d568927b-56f4-4f49-a52a-b8ab9f7676a3  8.203591e+09  1.158605e+06  \n",
       "443  d568927b-56f4-4f49-a52a-b8ab9f7676a3  8.203591e+09  1.158605e+06  \n",
       "444  d568927b-56f4-4f49-a52a-b8ab9f7676a3  8.203591e+09  1.158605e+06  \n",
       "497  32b17c0c-12d0-4ffb-82fd-fb570aa92382  4.329894e+09  4.621458e+05  \n",
       "508  a8ef8bcf-aaa2-4623-a8f6-1d93fe31f945  6.422579e+08  2.287707e+06  \n",
       "\n",
       "[5 rows x 53 columns]"
      ]
     },
     "execution_count": 22,
     "metadata": {},
     "output_type": "execute_result"
    }
   ],
   "source": [
    "imars_crash_coords_geo.crs = \"EPSG:4326\"\n",
    "parks = parks.to_crs(epsg=4326)\n",
    "parks['geometry']=parks['geometry'].buffer(0.01)\n",
    "\n",
    "imars_crash_coords_geo_withparknames=gpd.sjoin(imars_crash_coords_geo,parks,how=\"left\", predicate='intersects')\n",
    "imars_crash_coords_geo_withparknames.head()"
   ]
  },
  {
   "cell_type": "code",
   "execution_count": 23,
   "metadata": {},
   "outputs": [
    {
     "data": {
      "text/plain": [
       "591"
      ]
     },
     "execution_count": 23,
     "metadata": {},
     "output_type": "execute_result"
    }
   ],
   "source": [
    "imars_crash_coords_geo_withparknames2 = imars_crash_coords_geo_withparknames.drop_duplicates(subset=['IMARS_Record_No'])\n",
    "imars_crash_coords_geo_withparknames2.shape[0]\n",
    "# all 591 crash entries were processed in the spatial join"
   ]
  },
  {
   "cell_type": "code",
   "execution_count": 24,
   "metadata": {},
   "outputs": [
    {
     "data": {
      "text/plain": [
       "505"
      ]
     },
     "execution_count": 24,
     "metadata": {},
     "output_type": "execute_result"
    }
   ],
   "source": [
    "imars_crash_withparknames = pd.DataFrame(imars_crash_coords_geo_withparknames2.drop(columns='geometry'))\n",
    "imars_crash_withparknames['Park']= imars_crash_withparknames['UNIT_CODE']\n",
    "imars_crash_withparknames_NoDupsorNulls = imars_crash_withparknames.dropna(subset=['Park'])\n",
    "imars_crash_withparknames_NoDupsorNulls.shape[0]"
   ]
  },
  {
   "cell_type": "code",
   "execution_count": 25,
   "metadata": {},
   "outputs": [
    {
     "data": {
      "text/plain": [
       "12710"
      ]
     },
     "execution_count": 25,
     "metadata": {},
     "output_type": "execute_result"
    }
   ],
   "source": [
    "# of the 591 crash entries without parks identified, 505 now have parks assigned from spatial join\n",
    "# so we expect the total (\"expanded\") dataset to be:\n",
    "12205+505"
   ]
  },
  {
   "cell_type": "code",
   "execution_count": 26,
   "metadata": {},
   "outputs": [
    {
     "data": {
      "text/plain": [
       "(12710, 52)"
      ]
     },
     "execution_count": 26,
     "metadata": {},
     "output_type": "execute_result"
    }
   ],
   "source": [
    "imars_crash_expanded = pd.concat([imars_crash_parks,imars_crash_withparknames_NoDupsorNulls])\n",
    "imars_crash_expanded.shape"
   ]
  },
  {
   "cell_type": "code",
   "execution_count": 27,
   "metadata": {},
   "outputs": [
    {
     "data": {
      "text/plain": [
       "12710"
      ]
     },
     "execution_count": 27,
     "metadata": {},
     "output_type": "execute_result"
    }
   ],
   "source": [
    "# check to make sure all entries in combined dataset contain park assignments \n",
    "imars_crash_expanded = imars_crash_expanded.dropna(subset=['Park'])\n",
    "imars_crash_expanded.shape[0]"
   ]
  },
  {
   "cell_type": "code",
   "execution_count": 28,
   "metadata": {},
   "outputs": [
    {
     "data": {
      "text/plain": [
       "12710"
      ]
     },
     "execution_count": 28,
     "metadata": {},
     "output_type": "execute_result"
    }
   ],
   "source": [
    "# check to make sure no duplicate crashes in combined dataset\n",
    "imars_crash_expanded = imars_crash_expanded.drop_duplicates(subset=['IMARS_Record_No'])\n",
    "imars_crash_expanded.shape[0]"
   ]
  },
  {
   "cell_type": "markdown",
   "metadata": {},
   "source": [
    "### Add in crashes with park names manually identified via unmistakable roadway names"
   ]
  },
  {
   "cell_type": "code",
   "execution_count": 29,
   "metadata": {},
   "outputs": [],
   "source": [
    "# open file Chris populated in which park names were manually added to crash data containing identifiable info (e.g., road name)\n",
    "imars_new_parknames = pd.read_csv(\"./IMARS/IMARS_noparks_nocoords_someinfo_parks_filled.csv\")"
   ]
  },
  {
   "cell_type": "code",
   "execution_count": 30,
   "metadata": {},
   "outputs": [
    {
     "data": {
      "text/plain": [
       "80"
      ]
     },
     "execution_count": 30,
     "metadata": {},
     "output_type": "execute_result"
    }
   ],
   "source": [
    "# remove any entries for which park names were not able to be identified\n",
    "imars_new_parknames = imars_new_parknames.dropna(subset=['Park'])\n",
    "imars_new_parknames.shape[0]"
   ]
  },
  {
   "cell_type": "code",
   "execution_count": 31,
   "metadata": {},
   "outputs": [
    {
     "data": {
      "text/plain": [
       "12790"
      ]
     },
     "execution_count": 31,
     "metadata": {},
     "output_type": "execute_result"
    }
   ],
   "source": [
    "# 80 of 109 crashes were able to have park names manually added using road names and should be combined with crash data \n",
    "# containing park names from original data and spatial assignment for a total of crashes in the final dataset:\n",
    "12710+80"
   ]
  },
  {
   "cell_type": "code",
   "execution_count": 32,
   "metadata": {},
   "outputs": [
    {
     "data": {
      "text/plain": [
       "(12790, 52)"
      ]
     },
     "execution_count": 32,
     "metadata": {},
     "output_type": "execute_result"
    }
   ],
   "source": [
    "imars_crash_expanded = pd.concat([imars_crash_expanded,imars_new_parknames])\n",
    "imars_crash_expanded.shape"
   ]
  },
  {
   "cell_type": "code",
   "execution_count": 33,
   "metadata": {},
   "outputs": [
    {
     "data": {
      "text/plain": [
       "(12790, 52)"
      ]
     },
     "execution_count": 33,
     "metadata": {},
     "output_type": "execute_result"
    }
   ],
   "source": [
    "# check to make sure there are no duplicates in final dataset\n",
    "imars_crash_expanded = imars_crash_expanded.drop_duplicates(subset=['IMARS_Record_No'])\n",
    "imars_crash_expanded.shape"
   ]
  },
  {
   "cell_type": "markdown",
   "metadata": {},
   "source": [
    "## Create new region column\n",
    "imars_crash database currently contains two columns with region information, although neither one is fully populated. This section will create and populate a new column re-assigning region name to every crash based on park name using a lookup table"
   ]
  },
  {
   "cell_type": "code",
   "execution_count": 34,
   "metadata": {},
   "outputs": [
    {
     "data": {
      "text/plain": [
       "Index(['IMARS_Record_No', 'Crash_Date_Time', 'Linked_Address_Classification',\n",
       "       'City_Town_Park_Location', 'State', 'County', 'Direction',\n",
       "       'Linked_Street_Number', 'Linked_Common_Name', 'Street_Type',\n",
       "       'Direction.1', 'NEAR_Distance_to_MI', 'NEAR_Direction_To',\n",
       "       'NEAR_Direction', 'NEAR_route_street_road_name', 'NEAR_Road_Type',\n",
       "       'NEAR_Direction.1', 'AT_Intersection_route_street_road_DIRECTION',\n",
       "       'At_Intersecting_route_street_road_name', 'AT_Road_Type',\n",
       "       'AT_Direction', 'Mile_Marker', 'Latitude', 'Longitude', 'Region',\n",
       "       'State_Zone', 'Park', 'Site', 'Place', 'Point',\n",
       "       'Road_Type_Classification', 'Linked_Address', 'index_right', 'OBJECTID',\n",
       "       'UNIT_CODE', 'GIS_Notes', 'UNIT_NAME', 'DATE_EDIT', 'STATE', 'REGION',\n",
       "       'GNIS_ID', 'UNIT_TYPE', 'CREATED_BY', 'METADATA', 'PARKNAME',\n",
       "       'CreationDate', 'Creator', 'EditDate', 'Editor', 'GlobalID',\n",
       "       'Shape__Area', 'Shape__Length'],\n",
       "      dtype='object')"
      ]
     },
     "execution_count": 34,
     "metadata": {},
     "output_type": "execute_result"
    }
   ],
   "source": [
    "imars_crash_expanded.columns"
   ]
  },
  {
   "cell_type": "code",
   "execution_count": 35,
   "metadata": {},
   "outputs": [
    {
     "data": {
      "text/plain": [
       "Index(['OBJECTID', 'Park', 'GIS_Notes', 'UNIT_NAME', 'DATE_EDIT', 'STATE',\n",
       "       'RGN', 'GNIS_ID', 'UNIT_TYPE', 'CREATED_BY', 'METADATA', 'PARKNAME',\n",
       "       'CreationDa', 'Creator', 'EditDate', 'Editor', 'Shape__Are',\n",
       "       'Shape__Len', 'Unnamed: 18'],\n",
       "      dtype='object')"
      ]
     },
     "execution_count": 35,
     "metadata": {},
     "output_type": "execute_result"
    }
   ],
   "source": [
    "# load lookup table\n",
    "park_info = pd.read_csv(\"./Reference Data/Park_Info_Table.csv\")\n",
    "park_info = park_info.rename(columns={'UNIT_CODE':'Park','REGION':'RGN'})\n",
    "park_info.columns"
   ]
  },
  {
   "cell_type": "code",
   "execution_count": 36,
   "metadata": {},
   "outputs": [
    {
     "data": {
      "text/plain": [
       "(12790, 53)"
      ]
     },
     "execution_count": 36,
     "metadata": {},
     "output_type": "execute_result"
    }
   ],
   "source": [
    "# add RGN column from lookup table to IMARS crash database, joining the two datasets based on park name\n",
    "imars_crash_expanded = pd.merge(imars_crash_expanded, park_info[['RGN','Park']], how='left', on='Park')\n",
    "# resulting dataframe after join should have one additional column and no additional rows\n",
    "imars_crash_expanded = imars_crash_expanded.drop_duplicates() \n",
    "imars_crash_expanded.shape"
   ]
  },
  {
   "cell_type": "code",
   "execution_count": 37,
   "metadata": {},
   "outputs": [
    {
     "data": {
      "text/plain": [
       "0"
      ]
     },
     "execution_count": 37,
     "metadata": {},
     "output_type": "execute_result"
    }
   ],
   "source": [
    "# check to see if any crashes were not assigned a region\n",
    "imars_crash_expanded.loc[imars_crash_expanded['RGN'].isnull()].shape[0]"
   ]
  },
  {
   "cell_type": "code",
   "execution_count": 38,
   "metadata": {},
   "outputs": [
    {
     "data": {
      "text/plain": [
       "SER    3541\n",
       "PWR    2656\n",
       "IMR    2642\n",
       "NCR    2293\n",
       "NER    1206\n",
       "MWR     372\n",
       "AKR      80\n",
       "Name: RGN, dtype: int64"
      ]
     },
     "execution_count": 38,
     "metadata": {},
     "output_type": "execute_result"
    }
   ],
   "source": [
    "imars_crash_expanded['RGN'].value_counts()"
   ]
  },
  {
   "cell_type": "code",
   "execution_count": 39,
   "metadata": {},
   "outputs": [],
   "source": [
    "# remove partially populated pre-existing columns\n",
    "imars_crash_expanded = imars_crash_expanded.drop(columns = ['Region', 'REGION'])"
   ]
  },
  {
   "cell_type": "code",
   "execution_count": 40,
   "metadata": {},
   "outputs": [
    {
     "data": {
      "text/plain": [
       "(12790, 51)"
      ]
     },
     "execution_count": 40,
     "metadata": {},
     "output_type": "execute_result"
    }
   ],
   "source": [
    "imars_crash_expanded.shape"
   ]
  },
  {
   "cell_type": "code",
   "execution_count": 41,
   "metadata": {},
   "outputs": [],
   "source": [
    "imars_crash_expanded.to_csv(\"IMARS_Crash_ParkandRegionAdded_Clean.csv\", index= False)"
   ]
  },
  {
   "cell_type": "markdown",
   "metadata": {},
   "source": [
    "# Filter for Necessary Fields, Group by IMARS_RECORD_NO"
   ]
  },
  {
   "cell_type": "markdown",
   "metadata": {},
   "source": [
    "## Passenger Table"
   ]
  },
  {
   "cell_type": "code",
   "execution_count": 125,
   "metadata": {
    "scrolled": true
   },
   "outputs": [
    {
     "data": {
      "text/html": [
       "<div>\n",
       "<style scoped>\n",
       "    .dataframe tbody tr th:only-of-type {\n",
       "        vertical-align: middle;\n",
       "    }\n",
       "\n",
       "    .dataframe tbody tr th {\n",
       "        vertical-align: top;\n",
       "    }\n",
       "\n",
       "    .dataframe thead th {\n",
       "        text-align: right;\n",
       "    }\n",
       "</style>\n",
       "<table border=\"1\" class=\"dataframe\">\n",
       "  <thead>\n",
       "    <tr style=\"text-align: right;\">\n",
       "      <th></th>\n",
       "      <th>INCID_NO</th>\n",
       "      <th>NUM_OCC</th>\n",
       "    </tr>\n",
       "  </thead>\n",
       "  <tbody>\n",
       "    <tr>\n",
       "      <th>0</th>\n",
       "      <td>NP12000078</td>\n",
       "      <td>1</td>\n",
       "    </tr>\n",
       "    <tr>\n",
       "      <th>1</th>\n",
       "      <td>NP12000378</td>\n",
       "      <td>1</td>\n",
       "    </tr>\n",
       "    <tr>\n",
       "      <th>2</th>\n",
       "      <td>NP12000550</td>\n",
       "      <td>1</td>\n",
       "    </tr>\n",
       "    <tr>\n",
       "      <th>3</th>\n",
       "      <td>NP12000911</td>\n",
       "      <td>1</td>\n",
       "    </tr>\n",
       "    <tr>\n",
       "      <th>4</th>\n",
       "      <td>NP12000935</td>\n",
       "      <td>1</td>\n",
       "    </tr>\n",
       "  </tbody>\n",
       "</table>\n",
       "</div>"
      ],
      "text/plain": [
       "     INCID_NO  NUM_OCC\n",
       "0  NP12000078        1\n",
       "1  NP12000378        1\n",
       "2  NP12000550        1\n",
       "3  NP12000911        1\n",
       "4  NP12000935        1"
      ]
     },
     "execution_count": 125,
     "metadata": {},
     "output_type": "execute_result"
    }
   ],
   "source": [
    "imars_passenger = imars_passenger.rename(columns={'IMARS_Record_No':'INCID_NO'}) # rename to match CDS\n",
    "imars_passenger['NUM_OCC'] = 1 # one person per passenger data entry\n",
    "imars_passenger_slim = imars_passenger[['INCID_NO','NUM_OCC']] # subset needed columns\n",
    "imars_passenger_slim.head()"
   ]
  },
  {
   "cell_type": "code",
   "execution_count": 126,
   "metadata": {},
   "outputs": [
    {
     "name": "stderr",
     "output_type": "stream",
     "text": [
      "C:\\Users\\Sophie.Kaye\\AppData\\Local\\Temp\\ipykernel_15904\\3199340163.py:2: SettingWithCopyWarning: \n",
      "A value is trying to be set on a copy of a slice from a DataFrame.\n",
      "Try using .loc[row_indexer,col_indexer] = value instead\n",
      "\n",
      "See the caveats in the documentation: https://pandas.pydata.org/pandas-docs/stable/user_guide/indexing.html#returning-a-view-versus-a-copy\n",
      "  imars_passenger_slim['No Injury']= np.where(imars_passenger['Injury_Severity']=='01. No injury', 1,0)\n",
      "C:\\Users\\Sophie.Kaye\\AppData\\Local\\Temp\\ipykernel_15904\\3199340163.py:3: SettingWithCopyWarning: \n",
      "A value is trying to be set on a copy of a slice from a DataFrame.\n",
      "Try using .loc[row_indexer,col_indexer] = value instead\n",
      "\n",
      "See the caveats in the documentation: https://pandas.pydata.org/pandas-docs/stable/user_guide/indexing.html#returning-a-view-versus-a-copy\n",
      "  imars_passenger_slim['Possible Injury']= np.where(imars_passenger['Injury_Severity']=='02. Possible injury', 1,0)\n",
      "C:\\Users\\Sophie.Kaye\\AppData\\Local\\Temp\\ipykernel_15904\\3199340163.py:4: SettingWithCopyWarning: \n",
      "A value is trying to be set on a copy of a slice from a DataFrame.\n",
      "Try using .loc[row_indexer,col_indexer] = value instead\n",
      "\n",
      "See the caveats in the documentation: https://pandas.pydata.org/pandas-docs/stable/user_guide/indexing.html#returning-a-view-versus-a-copy\n",
      "  imars_passenger_slim['Non-incapacitating Injury']= np.where(imars_passenger['Injury_Severity']=='03. Non-incapacitating injury', 1,0)\n",
      "C:\\Users\\Sophie.Kaye\\AppData\\Local\\Temp\\ipykernel_15904\\3199340163.py:5: SettingWithCopyWarning: \n",
      "A value is trying to be set on a copy of a slice from a DataFrame.\n",
      "Try using .loc[row_indexer,col_indexer] = value instead\n",
      "\n",
      "See the caveats in the documentation: https://pandas.pydata.org/pandas-docs/stable/user_guide/indexing.html#returning-a-view-versus-a-copy\n",
      "  imars_passenger_slim['Incapacitating Injury']= np.where(imars_passenger['Injury_Severity']=='04. Incapacitating injury', 1,0)\n",
      "C:\\Users\\Sophie.Kaye\\AppData\\Local\\Temp\\ipykernel_15904\\3199340163.py:6: SettingWithCopyWarning: \n",
      "A value is trying to be set on a copy of a slice from a DataFrame.\n",
      "Try using .loc[row_indexer,col_indexer] = value instead\n",
      "\n",
      "See the caveats in the documentation: https://pandas.pydata.org/pandas-docs/stable/user_guide/indexing.html#returning-a-view-versus-a-copy\n",
      "  imars_passenger_slim['Fatality']= np.where(imars_passenger['Injury_Severity']=='05. Fatal', 1,0)\n",
      "C:\\Users\\Sophie.Kaye\\AppData\\Local\\Temp\\ipykernel_15904\\3199340163.py:7: SettingWithCopyWarning: \n",
      "A value is trying to be set on a copy of a slice from a DataFrame.\n",
      "Try using .loc[row_indexer,col_indexer] = value instead\n",
      "\n",
      "See the caveats in the documentation: https://pandas.pydata.org/pandas-docs/stable/user_guide/indexing.html#returning-a-view-versus-a-copy\n",
      "  imars_passenger_slim['Unknown Injury']= np.where(imars_passenger['Injury_Severity']=='99. Unknown', 1,0)\n"
     ]
    }
   ],
   "source": [
    "# set flags for each injury severity \n",
    "imars_passenger_slim['No Injury']= np.where(imars_passenger['Injury_Severity']=='01. No injury', 1,0)\n",
    "imars_passenger_slim['Possible Injury']= np.where(imars_passenger['Injury_Severity']=='02. Possible injury', 1,0)\n",
    "imars_passenger_slim['Non-incapacitating Injury']= np.where(imars_passenger['Injury_Severity']=='03. Non-incapacitating injury', 1,0)\n",
    "imars_passenger_slim['Incapacitating Injury']= np.where(imars_passenger['Injury_Severity']=='04. Incapacitating injury', 1,0)\n",
    "imars_passenger_slim['Fatality']= np.where(imars_passenger['Injury_Severity']=='05. Fatal', 1,0)\n",
    "imars_passenger_slim['Unknown Injury']= np.where(imars_passenger['Injury_Severity']=='99. Unknown', 1,0)"
   ]
  },
  {
   "cell_type": "code",
   "execution_count": 127,
   "metadata": {},
   "outputs": [
    {
     "name": "stderr",
     "output_type": "stream",
     "text": [
      "C:\\Users\\Sophie.Kaye\\AppData\\Local\\Temp\\ipykernel_15904\\2536774864.py:2: SettingWithCopyWarning: \n",
      "A value is trying to be set on a copy of a slice from a DataFrame.\n",
      "Try using .loc[row_indexer,col_indexer] = value instead\n",
      "\n",
      "See the caveats in the documentation: https://pandas.pydata.org/pandas-docs/stable/user_guide/indexing.html#returning-a-view-versus-a-copy\n",
      "  imars_passenger_slim['Num_Motorist']= np.where(imars_passenger['Pedestrian_Type'].isnull()==True, 1,0)\n",
      "C:\\Users\\Sophie.Kaye\\AppData\\Local\\Temp\\ipykernel_15904\\2536774864.py:3: SettingWithCopyWarning: \n",
      "A value is trying to be set on a copy of a slice from a DataFrame.\n",
      "Try using .loc[row_indexer,col_indexer] = value instead\n",
      "\n",
      "See the caveats in the documentation: https://pandas.pydata.org/pandas-docs/stable/user_guide/indexing.html#returning-a-view-versus-a-copy\n",
      "  imars_passenger_slim['Num_Non_Motorist']= np.where(imars_passenger['Pedestrian_Type'].isnull()==False, 1,0)\n"
     ]
    }
   ],
   "source": [
    "# determine the number of motorists and non-motorists involved\n",
    "imars_passenger_slim['Num_Motorist']= np.where(imars_passenger['Pedestrian_Type'].isnull()==True, 1,0)\n",
    "imars_passenger_slim['Num_Non_Motorist']= np.where(imars_passenger['Pedestrian_Type'].isnull()==False, 1,0)"
   ]
  },
  {
   "cell_type": "code",
   "execution_count": 128,
   "metadata": {},
   "outputs": [
    {
     "name": "stderr",
     "output_type": "stream",
     "text": [
      "C:\\Users\\Sophie.Kaye\\AppData\\Local\\Temp\\ipykernel_15904\\1032581301.py:2: SettingWithCopyWarning: \n",
      "A value is trying to be set on a copy of a slice from a DataFrame.\n",
      "Try using .loc[row_indexer,col_indexer] = value instead\n",
      "\n",
      "See the caveats in the documentation: https://pandas.pydata.org/pandas-docs/stable/user_guide/indexing.html#returning-a-view-versus-a-copy\n",
      "  imars_passenger_slim['VRU'] = np.where(imars_passenger_slim['Num_Non_Motorist'] > 0, 1,0)\n",
      "C:\\Users\\Sophie.Kaye\\AppData\\Local\\Temp\\ipykernel_15904\\1032581301.py:3: SettingWithCopyWarning: \n",
      "A value is trying to be set on a copy of a slice from a DataFrame.\n",
      "Try using .loc[row_indexer,col_indexer] = value instead\n",
      "\n",
      "See the caveats in the documentation: https://pandas.pydata.org/pandas-docs/stable/user_guide/indexing.html#returning-a-view-versus-a-copy\n",
      "  imars_passenger_slim['Pedestrian'] = np.where(imars_passenger['Pedestrian_Type']=='Pedestrian', 1,0)\n"
     ]
    }
   ],
   "source": [
    "# set indicator for VRU and pedestrian involvement\n",
    "imars_passenger_slim['VRU'] = np.where(imars_passenger_slim['Num_Non_Motorist'] > 0, 1,0)\n",
    "imars_passenger_slim['Pedestrian'] = np.where(imars_passenger['Pedestrian_Type']=='Pedestrian', 1,0)"
   ]
  },
  {
   "cell_type": "code",
   "execution_count": 129,
   "metadata": {},
   "outputs": [
    {
     "data": {
      "text/html": [
       "<div>\n",
       "<style scoped>\n",
       "    .dataframe tbody tr th:only-of-type {\n",
       "        vertical-align: middle;\n",
       "    }\n",
       "\n",
       "    .dataframe tbody tr th {\n",
       "        vertical-align: top;\n",
       "    }\n",
       "\n",
       "    .dataframe thead th {\n",
       "        text-align: right;\n",
       "    }\n",
       "</style>\n",
       "<table border=\"1\" class=\"dataframe\">\n",
       "  <thead>\n",
       "    <tr style=\"text-align: right;\">\n",
       "      <th></th>\n",
       "      <th>INCID_NO</th>\n",
       "      <th>NUM_OCC</th>\n",
       "      <th>No Injury</th>\n",
       "      <th>Possible Injury</th>\n",
       "      <th>Non-incapacitating Injury</th>\n",
       "      <th>Incapacitating Injury</th>\n",
       "      <th>Fatality</th>\n",
       "      <th>Unknown Injury</th>\n",
       "      <th>Num_Motorist</th>\n",
       "      <th>Num_Non_Motorist</th>\n",
       "      <th>VRU</th>\n",
       "      <th>Pedestrian</th>\n",
       "    </tr>\n",
       "  </thead>\n",
       "  <tbody>\n",
       "    <tr>\n",
       "      <th>0</th>\n",
       "      <td>NP12000078</td>\n",
       "      <td>1</td>\n",
       "      <td>0</td>\n",
       "      <td>0</td>\n",
       "      <td>0</td>\n",
       "      <td>0</td>\n",
       "      <td>0</td>\n",
       "      <td>0</td>\n",
       "      <td>1</td>\n",
       "      <td>0</td>\n",
       "      <td>0</td>\n",
       "      <td>0</td>\n",
       "    </tr>\n",
       "    <tr>\n",
       "      <th>1</th>\n",
       "      <td>NP12000378</td>\n",
       "      <td>1</td>\n",
       "      <td>0</td>\n",
       "      <td>0</td>\n",
       "      <td>0</td>\n",
       "      <td>0</td>\n",
       "      <td>0</td>\n",
       "      <td>0</td>\n",
       "      <td>1</td>\n",
       "      <td>0</td>\n",
       "      <td>0</td>\n",
       "      <td>0</td>\n",
       "    </tr>\n",
       "    <tr>\n",
       "      <th>2</th>\n",
       "      <td>NP12000550</td>\n",
       "      <td>1</td>\n",
       "      <td>0</td>\n",
       "      <td>0</td>\n",
       "      <td>0</td>\n",
       "      <td>0</td>\n",
       "      <td>0</td>\n",
       "      <td>0</td>\n",
       "      <td>1</td>\n",
       "      <td>0</td>\n",
       "      <td>0</td>\n",
       "      <td>0</td>\n",
       "    </tr>\n",
       "    <tr>\n",
       "      <th>3</th>\n",
       "      <td>NP12000911</td>\n",
       "      <td>1</td>\n",
       "      <td>0</td>\n",
       "      <td>0</td>\n",
       "      <td>0</td>\n",
       "      <td>0</td>\n",
       "      <td>0</td>\n",
       "      <td>0</td>\n",
       "      <td>1</td>\n",
       "      <td>0</td>\n",
       "      <td>0</td>\n",
       "      <td>0</td>\n",
       "    </tr>\n",
       "    <tr>\n",
       "      <th>4</th>\n",
       "      <td>NP12000935</td>\n",
       "      <td>1</td>\n",
       "      <td>0</td>\n",
       "      <td>0</td>\n",
       "      <td>0</td>\n",
       "      <td>0</td>\n",
       "      <td>0</td>\n",
       "      <td>0</td>\n",
       "      <td>1</td>\n",
       "      <td>0</td>\n",
       "      <td>0</td>\n",
       "      <td>0</td>\n",
       "    </tr>\n",
       "  </tbody>\n",
       "</table>\n",
       "</div>"
      ],
      "text/plain": [
       "     INCID_NO  NUM_OCC  No Injury  Possible Injury  Non-incapacitating Injury  \\\n",
       "0  NP12000078        1          0                0                          0   \n",
       "1  NP12000378        1          0                0                          0   \n",
       "2  NP12000550        1          0                0                          0   \n",
       "3  NP12000911        1          0                0                          0   \n",
       "4  NP12000935        1          0                0                          0   \n",
       "\n",
       "   Incapacitating Injury  Fatality  Unknown Injury  Num_Motorist  \\\n",
       "0                      0         0               0             1   \n",
       "1                      0         0               0             1   \n",
       "2                      0         0               0             1   \n",
       "3                      0         0               0             1   \n",
       "4                      0         0               0             1   \n",
       "\n",
       "   Num_Non_Motorist  VRU  Pedestrian  \n",
       "0                 0    0           0  \n",
       "1                 0    0           0  \n",
       "2                 0    0           0  \n",
       "3                 0    0           0  \n",
       "4                 0    0           0  "
      ]
     },
     "execution_count": 129,
     "metadata": {},
     "output_type": "execute_result"
    }
   ],
   "source": [
    "imars_passenger_slim.head()"
   ]
  },
  {
   "cell_type": "code",
   "execution_count": 130,
   "metadata": {},
   "outputs": [
    {
     "data": {
      "text/plain": [
       "(27931, 12)"
      ]
     },
     "execution_count": 130,
     "metadata": {},
     "output_type": "execute_result"
    }
   ],
   "source": [
    "imars_passenger_slim.shape"
   ]
  },
  {
   "cell_type": "code",
   "execution_count": 131,
   "metadata": {},
   "outputs": [
    {
     "data": {
      "text/plain": [
       "Index(['INCID_NO', 'NUM_OCC', 'No Injury', 'Possible Injury',\n",
       "       'Non-incapacitating Injury', 'Incapacitating Injury', 'Fatality',\n",
       "       'Unknown Injury', 'Num_Motorist', 'Num_Non_Motorist', 'VRU',\n",
       "       'Pedestrian'],\n",
       "      dtype='object')"
      ]
     },
     "execution_count": 131,
     "metadata": {},
     "output_type": "execute_result"
    }
   ],
   "source": [
    "imars_passenger_slim.columns"
   ]
  },
  {
   "cell_type": "code",
   "execution_count": 132,
   "metadata": {},
   "outputs": [
    {
     "data": {
      "text/plain": [
       "(15302, 12)"
      ]
     },
     "execution_count": 132,
     "metadata": {},
     "output_type": "execute_result"
    }
   ],
   "source": [
    "# collapse multiple rows for each person involved in the crash into a single row for each crash\n",
    "# occupancy, injuries/fatalities, and number of people involved should be summed as total numbers per crash (\"sum\" function)\n",
    "imars_passenger_slim_agg = imars_passenger_slim.groupby(by=['INCID_NO']).sum().reset_index()\n",
    "imars_passenger_slim_agg.shape"
   ]
  },
  {
   "cell_type": "code",
   "execution_count": 133,
   "metadata": {},
   "outputs": [
    {
     "data": {
      "text/plain": [
       "0    15274\n",
       "1       22\n",
       "2        3\n",
       "4        2\n",
       "3        1\n",
       "Name: Pedestrian, dtype: int64"
      ]
     },
     "execution_count": 133,
     "metadata": {},
     "output_type": "execute_result"
    }
   ],
   "source": [
    "# however, pedestrian is a binary indicator, so values should be restricted to 0 and 1 (even if more than one pedestrian was involved)\n",
    "imars_passenger_slim_agg['Pedestrian'].value_counts()"
   ]
  },
  {
   "cell_type": "code",
   "execution_count": 134,
   "metadata": {},
   "outputs": [
    {
     "data": {
      "text/plain": [
       "0    15274\n",
       "1       28\n",
       "Name: Pedestrian, dtype: int64"
      ]
     },
     "execution_count": 134,
     "metadata": {},
     "output_type": "execute_result"
    }
   ],
   "source": [
    "# replace all values greater than 1 with 1\n",
    "imars_passenger_slim_agg['Pedestrian'] = np.where(imars_passenger_slim_agg['Pedestrian'] > 1, 1, imars_passenger_slim_agg['Pedestrian'])\n",
    "imars_passenger_slim_agg['Pedestrian'].value_counts()"
   ]
  },
  {
   "cell_type": "code",
   "execution_count": 138,
   "metadata": {},
   "outputs": [
    {
     "name": "stderr",
     "output_type": "stream",
     "text": [
      "C:\\Users\\Sophie.Kaye\\AppData\\Local\\Temp\\ipykernel_15904\\542471709.py:13: SettingWithCopyWarning: \n",
      "A value is trying to be set on a copy of a slice from a DataFrame\n",
      "\n",
      "See the caveats in the documentation: https://pandas.pydata.org/pandas-docs/stable/user_guide/indexing.html#returning-a-view-versus-a-copy\n",
      "  imars_passenger_slim_agg['Crash_Severity'].iloc[i] = 'No Inj'\n"
     ]
    }
   ],
   "source": [
    "imars_passenger_slim_agg['Crash_Severity'] = 0 # iniitalize column with dummy data to replace with for loop\n",
    "length = range(imars_passenger_slim_agg.shape[0]) # search through all rows in aggregated dataset (to examine all injuries from each crash as a whole)\n",
    "for i in length: # determine most severe injury outcome\n",
    "    if imars_passenger_slim_agg['Fatality'].iloc[i] > 0:\n",
    "        imars_passenger_slim_agg['Crash_Severity'].iloc[i] = 'Fatal'\n",
    "    elif imars_passenger_slim_agg['Incapacitating Injury'].iloc[i] > 0:\n",
    "        imars_passenger_slim_agg['Crash_Severity'].iloc[i] = 'Incap'\n",
    "    elif imars_passenger_slim_agg['Non-incapacitating Injury'].iloc[i] > 0:\n",
    "        imars_passenger_slim_agg['Crash_Severity'].iloc[i] = 'Non-Incap'\n",
    "    elif imars_passenger_slim_agg['Possible Injury'].iloc[i] > 0:\n",
    "        imars_passenger_slim_agg['Crash_Severity'].iloc[i] = 'Possible'\n",
    "    else:\n",
    "        imars_passenger_slim_agg['Crash_Severity'].iloc[i] = 'No Inj'"
   ]
  },
  {
   "cell_type": "code",
   "execution_count": 141,
   "metadata": {},
   "outputs": [],
   "source": [
    "#set flags for each Crash Severity attribute\n",
    "imars_passenger_slim_agg['CrashSeverity_Fatal'] = np.where(imars_passenger_slim_agg['Crash_Severity']=='Fatal', 1,0)\n",
    "imars_passenger_slim_agg['CrashSeverity_Incap'] = np.where(imars_passenger_slim_agg['Crash_Severity']=='Incap', 1,0)\n",
    "imars_passenger_slim_agg['CrashSeverity_NonIncap'] = np.where(imars_passenger_slim_agg['Crash_Severity']=='Non-Incap', 1,0)\n",
    "imars_passenger_slim_agg['CrashSeverity_Possible'] = np.where(imars_passenger_slim_agg['Crash_Severity']=='Possible', 1,0)\n",
    "imars_passenger_slim_agg['CrashSeverity_NoInj'] = np.where(imars_passenger_slim_agg['Crash_Severity']=='No Inj', 1,0)"
   ]
  },
  {
   "cell_type": "code",
   "execution_count": 142,
   "metadata": {},
   "outputs": [
    {
     "data": {
      "text/html": [
       "<div>\n",
       "<style scoped>\n",
       "    .dataframe tbody tr th:only-of-type {\n",
       "        vertical-align: middle;\n",
       "    }\n",
       "\n",
       "    .dataframe tbody tr th {\n",
       "        vertical-align: top;\n",
       "    }\n",
       "\n",
       "    .dataframe thead th {\n",
       "        text-align: right;\n",
       "    }\n",
       "</style>\n",
       "<table border=\"1\" class=\"dataframe\">\n",
       "  <thead>\n",
       "    <tr style=\"text-align: right;\">\n",
       "      <th></th>\n",
       "      <th>INCID_NO</th>\n",
       "      <th>NUM_OCC</th>\n",
       "      <th>No Injury</th>\n",
       "      <th>Possible Injury</th>\n",
       "      <th>Non-incapacitating Injury</th>\n",
       "      <th>Incapacitating Injury</th>\n",
       "      <th>Fatality</th>\n",
       "      <th>Unknown Injury</th>\n",
       "      <th>Num_Motorist</th>\n",
       "      <th>Num_Non_Motorist</th>\n",
       "      <th>VRU</th>\n",
       "      <th>Pedestrian</th>\n",
       "      <th>Crash_Severity</th>\n",
       "      <th>CrashSeverity_Fatal</th>\n",
       "      <th>CrashSeverity_Incap</th>\n",
       "      <th>CrashSeverity_NonIncap</th>\n",
       "      <th>CrashSeverity_Possible</th>\n",
       "      <th>CrashSeverity_NoInj</th>\n",
       "    </tr>\n",
       "  </thead>\n",
       "  <tbody>\n",
       "    <tr>\n",
       "      <th>0</th>\n",
       "      <td>NP12000078</td>\n",
       "      <td>1</td>\n",
       "      <td>0</td>\n",
       "      <td>0</td>\n",
       "      <td>0</td>\n",
       "      <td>0</td>\n",
       "      <td>0</td>\n",
       "      <td>0</td>\n",
       "      <td>1</td>\n",
       "      <td>0</td>\n",
       "      <td>0</td>\n",
       "      <td>0</td>\n",
       "      <td>No Inj</td>\n",
       "      <td>0</td>\n",
       "      <td>0</td>\n",
       "      <td>0</td>\n",
       "      <td>0</td>\n",
       "      <td>1</td>\n",
       "    </tr>\n",
       "    <tr>\n",
       "      <th>1</th>\n",
       "      <td>NP12000378</td>\n",
       "      <td>1</td>\n",
       "      <td>0</td>\n",
       "      <td>0</td>\n",
       "      <td>0</td>\n",
       "      <td>0</td>\n",
       "      <td>0</td>\n",
       "      <td>0</td>\n",
       "      <td>1</td>\n",
       "      <td>0</td>\n",
       "      <td>0</td>\n",
       "      <td>0</td>\n",
       "      <td>No Inj</td>\n",
       "      <td>0</td>\n",
       "      <td>0</td>\n",
       "      <td>0</td>\n",
       "      <td>0</td>\n",
       "      <td>1</td>\n",
       "    </tr>\n",
       "    <tr>\n",
       "      <th>2</th>\n",
       "      <td>NP12000550</td>\n",
       "      <td>1</td>\n",
       "      <td>0</td>\n",
       "      <td>0</td>\n",
       "      <td>0</td>\n",
       "      <td>0</td>\n",
       "      <td>0</td>\n",
       "      <td>0</td>\n",
       "      <td>1</td>\n",
       "      <td>0</td>\n",
       "      <td>0</td>\n",
       "      <td>0</td>\n",
       "      <td>No Inj</td>\n",
       "      <td>0</td>\n",
       "      <td>0</td>\n",
       "      <td>0</td>\n",
       "      <td>0</td>\n",
       "      <td>1</td>\n",
       "    </tr>\n",
       "    <tr>\n",
       "      <th>3</th>\n",
       "      <td>NP12000911</td>\n",
       "      <td>1</td>\n",
       "      <td>0</td>\n",
       "      <td>0</td>\n",
       "      <td>0</td>\n",
       "      <td>0</td>\n",
       "      <td>0</td>\n",
       "      <td>0</td>\n",
       "      <td>1</td>\n",
       "      <td>0</td>\n",
       "      <td>0</td>\n",
       "      <td>0</td>\n",
       "      <td>No Inj</td>\n",
       "      <td>0</td>\n",
       "      <td>0</td>\n",
       "      <td>0</td>\n",
       "      <td>0</td>\n",
       "      <td>1</td>\n",
       "    </tr>\n",
       "    <tr>\n",
       "      <th>4</th>\n",
       "      <td>NP12000935</td>\n",
       "      <td>1</td>\n",
       "      <td>0</td>\n",
       "      <td>0</td>\n",
       "      <td>0</td>\n",
       "      <td>0</td>\n",
       "      <td>0</td>\n",
       "      <td>0</td>\n",
       "      <td>1</td>\n",
       "      <td>0</td>\n",
       "      <td>0</td>\n",
       "      <td>0</td>\n",
       "      <td>No Inj</td>\n",
       "      <td>0</td>\n",
       "      <td>0</td>\n",
       "      <td>0</td>\n",
       "      <td>0</td>\n",
       "      <td>1</td>\n",
       "    </tr>\n",
       "  </tbody>\n",
       "</table>\n",
       "</div>"
      ],
      "text/plain": [
       "     INCID_NO  NUM_OCC  No Injury  Possible Injury  Non-incapacitating Injury  \\\n",
       "0  NP12000078        1          0                0                          0   \n",
       "1  NP12000378        1          0                0                          0   \n",
       "2  NP12000550        1          0                0                          0   \n",
       "3  NP12000911        1          0                0                          0   \n",
       "4  NP12000935        1          0                0                          0   \n",
       "\n",
       "   Incapacitating Injury  Fatality  Unknown Injury  Num_Motorist  \\\n",
       "0                      0         0               0             1   \n",
       "1                      0         0               0             1   \n",
       "2                      0         0               0             1   \n",
       "3                      0         0               0             1   \n",
       "4                      0         0               0             1   \n",
       "\n",
       "   Num_Non_Motorist  VRU  Pedestrian Crash_Severity  CrashSeverity_Fatal  \\\n",
       "0                 0    0           0         No Inj                    0   \n",
       "1                 0    0           0         No Inj                    0   \n",
       "2                 0    0           0         No Inj                    0   \n",
       "3                 0    0           0         No Inj                    0   \n",
       "4                 0    0           0         No Inj                    0   \n",
       "\n",
       "   CrashSeverity_Incap  CrashSeverity_NonIncap  CrashSeverity_Possible  \\\n",
       "0                    0                       0                       0   \n",
       "1                    0                       0                       0   \n",
       "2                    0                       0                       0   \n",
       "3                    0                       0                       0   \n",
       "4                    0                       0                       0   \n",
       "\n",
       "   CrashSeverity_NoInj  \n",
       "0                    1  \n",
       "1                    1  \n",
       "2                    1  \n",
       "3                    1  \n",
       "4                    1  "
      ]
     },
     "execution_count": 142,
     "metadata": {},
     "output_type": "execute_result"
    }
   ],
   "source": [
    "imars_passenger_slim_agg.head()"
   ]
  },
  {
   "cell_type": "code",
   "execution_count": 143,
   "metadata": {},
   "outputs": [
    {
     "data": {
      "text/plain": [
       "(15302, 18)"
      ]
     },
     "execution_count": 143,
     "metadata": {},
     "output_type": "execute_result"
    }
   ],
   "source": [
    "imars_passenger_slim_agg.shape"
   ]
  },
  {
   "cell_type": "code",
   "execution_count": 144,
   "metadata": {},
   "outputs": [
    {
     "data": {
      "text/plain": [
       "Index(['INCID_NO', 'NUM_OCC', 'No Injury', 'Possible Injury',\n",
       "       'Non-incapacitating Injury', 'Incapacitating Injury', 'Fatality',\n",
       "       'Unknown Injury', 'Num_Motorist', 'Num_Non_Motorist', 'VRU',\n",
       "       'Pedestrian', 'Crash_Severity', 'CrashSeverity_Fatal',\n",
       "       'CrashSeverity_Incap', 'CrashSeverity_NonIncap',\n",
       "       'CrashSeverity_Possible', 'CrashSeverity_NoInj'],\n",
       "      dtype='object')"
      ]
     },
     "execution_count": 144,
     "metadata": {},
     "output_type": "execute_result"
    }
   ],
   "source": [
    "imars_passenger_slim_agg.columns"
   ]
  },
  {
   "cell_type": "markdown",
   "metadata": {},
   "source": [
    "## Vehicle Table"
   ]
  },
  {
   "cell_type": "code",
   "execution_count": 115,
   "metadata": {},
   "outputs": [
    {
     "name": "stderr",
     "output_type": "stream",
     "text": [
      "C:\\Users\\Sophie.Kaye\\AppData\\Local\\Temp\\ipykernel_15904\\1512364457.py:3: SettingWithCopyWarning: \n",
      "A value is trying to be set on a copy of a slice from a DataFrame.\n",
      "Try using .loc[row_indexer,col_indexer] = value instead\n",
      "\n",
      "See the caveats in the documentation: https://pandas.pydata.org/pandas-docs/stable/user_guide/indexing.html#returning-a-view-versus-a-copy\n",
      "  imars_vehicle_slim['5_mph']= np.where(imars_vehicle['Posted_Speed']=='01. 5 mph', 1,0)\n",
      "C:\\Users\\Sophie.Kaye\\AppData\\Local\\Temp\\ipykernel_15904\\1512364457.py:4: SettingWithCopyWarning: \n",
      "A value is trying to be set on a copy of a slice from a DataFrame.\n",
      "Try using .loc[row_indexer,col_indexer] = value instead\n",
      "\n",
      "See the caveats in the documentation: https://pandas.pydata.org/pandas-docs/stable/user_guide/indexing.html#returning-a-view-versus-a-copy\n",
      "  imars_vehicle_slim['10_mph']= np.where(imars_vehicle['Posted_Speed']=='02. 10 mph', 1,0)\n",
      "C:\\Users\\Sophie.Kaye\\AppData\\Local\\Temp\\ipykernel_15904\\1512364457.py:5: SettingWithCopyWarning: \n",
      "A value is trying to be set on a copy of a slice from a DataFrame.\n",
      "Try using .loc[row_indexer,col_indexer] = value instead\n",
      "\n",
      "See the caveats in the documentation: https://pandas.pydata.org/pandas-docs/stable/user_guide/indexing.html#returning-a-view-versus-a-copy\n",
      "  imars_vehicle_slim['15_mph']= np.where(imars_vehicle['Posted_Speed']=='03. 15 mph', 1,0)\n",
      "C:\\Users\\Sophie.Kaye\\AppData\\Local\\Temp\\ipykernel_15904\\1512364457.py:6: SettingWithCopyWarning: \n",
      "A value is trying to be set on a copy of a slice from a DataFrame.\n",
      "Try using .loc[row_indexer,col_indexer] = value instead\n",
      "\n",
      "See the caveats in the documentation: https://pandas.pydata.org/pandas-docs/stable/user_guide/indexing.html#returning-a-view-versus-a-copy\n",
      "  imars_vehicle_slim['20_mph']= np.where(imars_vehicle['Posted_Speed']=='04. 20 mph', 1,0)\n",
      "C:\\Users\\Sophie.Kaye\\AppData\\Local\\Temp\\ipykernel_15904\\1512364457.py:7: SettingWithCopyWarning: \n",
      "A value is trying to be set on a copy of a slice from a DataFrame.\n",
      "Try using .loc[row_indexer,col_indexer] = value instead\n",
      "\n",
      "See the caveats in the documentation: https://pandas.pydata.org/pandas-docs/stable/user_guide/indexing.html#returning-a-view-versus-a-copy\n",
      "  imars_vehicle_slim['25_mph']= np.where(imars_vehicle['Posted_Speed']=='05. 25 mph', 1,0)\n",
      "C:\\Users\\Sophie.Kaye\\AppData\\Local\\Temp\\ipykernel_15904\\1512364457.py:8: SettingWithCopyWarning: \n",
      "A value is trying to be set on a copy of a slice from a DataFrame.\n",
      "Try using .loc[row_indexer,col_indexer] = value instead\n",
      "\n",
      "See the caveats in the documentation: https://pandas.pydata.org/pandas-docs/stable/user_guide/indexing.html#returning-a-view-versus-a-copy\n",
      "  imars_vehicle_slim['30_mph']= np.where(imars_vehicle['Posted_Speed']=='06. 30 mph', 1,0)\n",
      "C:\\Users\\Sophie.Kaye\\AppData\\Local\\Temp\\ipykernel_15904\\1512364457.py:9: SettingWithCopyWarning: \n",
      "A value is trying to be set on a copy of a slice from a DataFrame.\n",
      "Try using .loc[row_indexer,col_indexer] = value instead\n",
      "\n",
      "See the caveats in the documentation: https://pandas.pydata.org/pandas-docs/stable/user_guide/indexing.html#returning-a-view-versus-a-copy\n",
      "  imars_vehicle_slim['35_mph']= np.where(imars_vehicle['Posted_Speed']=='07. 35 mph', 1,0)\n",
      "C:\\Users\\Sophie.Kaye\\AppData\\Local\\Temp\\ipykernel_15904\\1512364457.py:10: SettingWithCopyWarning: \n",
      "A value is trying to be set on a copy of a slice from a DataFrame.\n",
      "Try using .loc[row_indexer,col_indexer] = value instead\n",
      "\n",
      "See the caveats in the documentation: https://pandas.pydata.org/pandas-docs/stable/user_guide/indexing.html#returning-a-view-versus-a-copy\n",
      "  imars_vehicle_slim['40_mph']= np.where(imars_vehicle['Posted_Speed']=='08. 40 mph', 1,0)\n",
      "C:\\Users\\Sophie.Kaye\\AppData\\Local\\Temp\\ipykernel_15904\\1512364457.py:11: SettingWithCopyWarning: \n",
      "A value is trying to be set on a copy of a slice from a DataFrame.\n",
      "Try using .loc[row_indexer,col_indexer] = value instead\n",
      "\n",
      "See the caveats in the documentation: https://pandas.pydata.org/pandas-docs/stable/user_guide/indexing.html#returning-a-view-versus-a-copy\n",
      "  imars_vehicle_slim['45_mph']= np.where(imars_vehicle['Posted_Speed']=='09. 45 mph', 1,0)\n",
      "C:\\Users\\Sophie.Kaye\\AppData\\Local\\Temp\\ipykernel_15904\\1512364457.py:12: SettingWithCopyWarning: \n",
      "A value is trying to be set on a copy of a slice from a DataFrame.\n",
      "Try using .loc[row_indexer,col_indexer] = value instead\n",
      "\n",
      "See the caveats in the documentation: https://pandas.pydata.org/pandas-docs/stable/user_guide/indexing.html#returning-a-view-versus-a-copy\n",
      "  imars_vehicle_slim['50_mph']= np.where(imars_vehicle['Posted_Speed']=='10. 50 mph', 1,0)\n",
      "C:\\Users\\Sophie.Kaye\\AppData\\Local\\Temp\\ipykernel_15904\\1512364457.py:13: SettingWithCopyWarning: \n",
      "A value is trying to be set on a copy of a slice from a DataFrame.\n",
      "Try using .loc[row_indexer,col_indexer] = value instead\n",
      "\n",
      "See the caveats in the documentation: https://pandas.pydata.org/pandas-docs/stable/user_guide/indexing.html#returning-a-view-versus-a-copy\n",
      "  imars_vehicle_slim['55_mph']= np.where(imars_vehicle['Posted_Speed']=='11. 55 mph', 1,0)\n",
      "C:\\Users\\Sophie.Kaye\\AppData\\Local\\Temp\\ipykernel_15904\\1512364457.py:14: SettingWithCopyWarning: \n",
      "A value is trying to be set on a copy of a slice from a DataFrame.\n",
      "Try using .loc[row_indexer,col_indexer] = value instead\n",
      "\n",
      "See the caveats in the documentation: https://pandas.pydata.org/pandas-docs/stable/user_guide/indexing.html#returning-a-view-versus-a-copy\n",
      "  imars_vehicle_slim['60_mph']= np.where(imars_vehicle['Posted_Speed']=='12. 60 mph', 1,0)\n",
      "C:\\Users\\Sophie.Kaye\\AppData\\Local\\Temp\\ipykernel_15904\\1512364457.py:15: SettingWithCopyWarning: \n",
      "A value is trying to be set on a copy of a slice from a DataFrame.\n",
      "Try using .loc[row_indexer,col_indexer] = value instead\n",
      "\n",
      "See the caveats in the documentation: https://pandas.pydata.org/pandas-docs/stable/user_guide/indexing.html#returning-a-view-versus-a-copy\n",
      "  imars_vehicle_slim['65_mph']= np.where(imars_vehicle['Posted_Speed']=='13. 65 mph', 1,0)\n",
      "C:\\Users\\Sophie.Kaye\\AppData\\Local\\Temp\\ipykernel_15904\\1512364457.py:16: SettingWithCopyWarning: \n",
      "A value is trying to be set on a copy of a slice from a DataFrame.\n",
      "Try using .loc[row_indexer,col_indexer] = value instead\n",
      "\n",
      "See the caveats in the documentation: https://pandas.pydata.org/pandas-docs/stable/user_guide/indexing.html#returning-a-view-versus-a-copy\n",
      "  imars_vehicle_slim['70_mph']= np.where(imars_vehicle['Posted_Speed']=='14. 70 mph', 1,0)\n",
      "C:\\Users\\Sophie.Kaye\\AppData\\Local\\Temp\\ipykernel_15904\\1512364457.py:17: SettingWithCopyWarning: \n",
      "A value is trying to be set on a copy of a slice from a DataFrame.\n",
      "Try using .loc[row_indexer,col_indexer] = value instead\n",
      "\n",
      "See the caveats in the documentation: https://pandas.pydata.org/pandas-docs/stable/user_guide/indexing.html#returning-a-view-versus-a-copy\n",
      "  imars_vehicle_slim['75_mph']= np.where(imars_vehicle['Posted_Speed']=='15. 75 mph', 1,0)\n",
      "C:\\Users\\Sophie.Kaye\\AppData\\Local\\Temp\\ipykernel_15904\\1512364457.py:18: SettingWithCopyWarning: \n",
      "A value is trying to be set on a copy of a slice from a DataFrame.\n",
      "Try using .loc[row_indexer,col_indexer] = value instead\n",
      "\n",
      "See the caveats in the documentation: https://pandas.pydata.org/pandas-docs/stable/user_guide/indexing.html#returning-a-view-versus-a-copy\n",
      "  imars_vehicle_slim['no_posted_speed']= np.where(imars_vehicle['Posted_Speed']=='98. Not posted', 1,0)\n"
     ]
    }
   ],
   "source": [
    "imars_vehicle = imars_vehicle.rename(columns={'IMARS_Record_No':'INCID_NO'}) # rename to match CDS\n",
    "imars_vehicle_slim = imars_vehicle[['INCID_NO']] # subset needed columns\n",
    "imars_vehicle_slim['5_mph']= np.where(imars_vehicle['Posted_Speed']=='01. 5 mph', 1,0)\n",
    "imars_vehicle_slim['10_mph']= np.where(imars_vehicle['Posted_Speed']=='02. 10 mph', 1,0)\n",
    "imars_vehicle_slim['15_mph']= np.where(imars_vehicle['Posted_Speed']=='03. 15 mph', 1,0)\n",
    "imars_vehicle_slim['20_mph']= np.where(imars_vehicle['Posted_Speed']=='04. 20 mph', 1,0)\n",
    "imars_vehicle_slim['25_mph']= np.where(imars_vehicle['Posted_Speed']=='05. 25 mph', 1,0)\n",
    "imars_vehicle_slim['30_mph']= np.where(imars_vehicle['Posted_Speed']=='06. 30 mph', 1,0)\n",
    "imars_vehicle_slim['35_mph']= np.where(imars_vehicle['Posted_Speed']=='07. 35 mph', 1,0)\n",
    "imars_vehicle_slim['40_mph']= np.where(imars_vehicle['Posted_Speed']=='08. 40 mph', 1,0)\n",
    "imars_vehicle_slim['45_mph']= np.where(imars_vehicle['Posted_Speed']=='09. 45 mph', 1,0)\n",
    "imars_vehicle_slim['50_mph']= np.where(imars_vehicle['Posted_Speed']=='10. 50 mph', 1,0)\n",
    "imars_vehicle_slim['55_mph']= np.where(imars_vehicle['Posted_Speed']=='11. 55 mph', 1,0)\n",
    "imars_vehicle_slim['60_mph']= np.where(imars_vehicle['Posted_Speed']=='12. 60 mph', 1,0)\n",
    "imars_vehicle_slim['65_mph']= np.where(imars_vehicle['Posted_Speed']=='13. 65 mph', 1,0)\n",
    "imars_vehicle_slim['70_mph']= np.where(imars_vehicle['Posted_Speed']=='14. 70 mph', 1,0)\n",
    "imars_vehicle_slim['75_mph']= np.where(imars_vehicle['Posted_Speed']=='15. 75 mph', 1,0)\n",
    "imars_vehicle_slim['no_posted_speed']= np.where(imars_vehicle['Posted_Speed']=='98. Not posted', 1,0)"
   ]
  },
  {
   "cell_type": "code",
   "execution_count": 116,
   "metadata": {},
   "outputs": [
    {
     "data": {
      "text/plain": [
       "Index(['INCID_NO', '5_mph', '10_mph', '15_mph', '20_mph', '25_mph', '30_mph',\n",
       "       '35_mph', '40_mph', '45_mph', '50_mph', '55_mph', '60_mph', '65_mph',\n",
       "       '70_mph', '75_mph', 'no_posted_speed'],\n",
       "      dtype='object')"
      ]
     },
     "execution_count": 116,
     "metadata": {},
     "output_type": "execute_result"
    }
   ],
   "source": [
    "imars_vehicle_slim.columns"
   ]
  },
  {
   "cell_type": "code",
   "execution_count": 117,
   "metadata": {},
   "outputs": [
    {
     "data": {
      "text/plain": [
       "(15302, 17)"
      ]
     },
     "execution_count": 117,
     "metadata": {},
     "output_type": "execute_result"
    }
   ],
   "source": [
    "# collapse multiple rows for each vehicle involved in the crash into a single row for each crash\n",
    "# only one speed limit should exist per crash to not double count data attribute (\"first\" function)\n",
    "imars_vehicle_slim_agg = imars_vehicle_slim.groupby(by=['INCID_NO']).first().reset_index()\n",
    "imars_vehicle_slim_agg.shape"
   ]
  },
  {
   "cell_type": "code",
   "execution_count": 118,
   "metadata": {},
   "outputs": [
    {
     "data": {
      "text/plain": [
       "01. Passenger car (sedan, minivan, etc.)         8537\n",
       "02. Sport utility vehicle                        4259\n",
       "05. Pickup truck                                 2557\n",
       "10. Motorcycle > 150cc                            873\n",
       "06. Motor home                                    649\n",
       "99. Unknown                                       641\n",
       "18. Medium/heavy trucks (10,000 lbs. or more)     343\n",
       "17. Other light trucks (10,000 lbs. or less)      281\n",
       "03. Passenger van (9-15 passengers)               223\n",
       "21. Other                                         207\n",
       "08. Transit/shuttle bus                           197\n",
       "04. Cargo van (10,000 lbs. or less)               162\n",
       "19. Maintenance/construction vehicle              117\n",
       "09. Motor coach                                   107\n",
       "16. Snowmobile                                     43\n",
       "15. ATV                                            33\n",
       "07. School bus                                     31\n",
       "11. Motorcycle < 150cc (trail bike)                21\n",
       "12. Moped/minibike/scooter/segway                  16\n",
       "14. Low speed vehicle (golf cart, etc.)            13\n",
       "20. Farm equipment                                  6\n",
       "Name: Vehicle_Type, dtype: int64"
      ]
     },
     "execution_count": 118,
     "metadata": {},
     "output_type": "execute_result"
    }
   ],
   "source": [
    "imars_vehicle['Vehicle_Type'].value_counts()"
   ]
  },
  {
   "cell_type": "code",
   "execution_count": 109,
   "metadata": {},
   "outputs": [
    {
     "data": {
      "text/plain": [
       "01. Straight ahead                    8268\n",
       "99. Unknown                           1638\n",
       "11. Negotiating a curve               1463\n",
       "12. Parked                            1423\n",
       "02. Backing                           1176\n",
       "13. Stopped in traffic                1008\n",
       "06. Turning left                       740\n",
       "10. Slowing                            643\n",
       "05. Turning right                      446\n",
       "16. Other                              301\n",
       "03. Changing lanes                     286\n",
       "09. Entering a traffic lane            286\n",
       "04. Overtaking/passing                 267\n",
       "17. Parking maneuver                   259\n",
       "08. Leaving a traffic lane/parking     179\n",
       "07. Make U-turn                        147\n",
       "14. Driverless motor vehicle            23\n",
       "15. Roadway maintenance                 16\n",
       "Name: Vehicle_Maneuver_Action_Prior_to_Crash, dtype: int64"
      ]
     },
     "execution_count": 109,
     "metadata": {},
     "output_type": "execute_result"
    }
   ],
   "source": [
    "imars_vehicle['Vehicle_Maneuver_Action_Prior_to_Crash'].value_counts()\n",
    "# what to do with this (if anything)???"
   ]
  },
  {
   "cell_type": "code",
   "execution_count": 119,
   "metadata": {},
   "outputs": [],
   "source": [
    "imars_vehicle['NUM_VEH'] = 1 # one vehicle per entry\n",
    "imars_vehicletypes = imars_vehicle[['INCID_NO','NUM_VEH']] # subset needed columns"
   ]
  },
  {
   "cell_type": "code",
   "execution_count": 120,
   "metadata": {},
   "outputs": [
    {
     "name": "stderr",
     "output_type": "stream",
     "text": [
      "C:\\Users\\Sophie.Kaye\\AppData\\Local\\Temp\\ipykernel_15904\\3570661635.py:3: SettingWithCopyWarning: \n",
      "A value is trying to be set on a copy of a slice from a DataFrame.\n",
      "Try using .loc[row_indexer,col_indexer] = value instead\n",
      "\n",
      "See the caveats in the documentation: https://pandas.pydata.org/pandas-docs/stable/user_guide/indexing.html#returning-a-view-versus-a-copy\n",
      "  imars_vehicletypes['Car'] = np.where(imars_vehicle['Vehicle_Type']=='01. Passenger car (sedan, minivan, etc.)', 1,0)\n",
      "C:\\Users\\Sophie.Kaye\\AppData\\Local\\Temp\\ipykernel_15904\\3570661635.py:4: SettingWithCopyWarning: \n",
      "A value is trying to be set on a copy of a slice from a DataFrame.\n",
      "Try using .loc[row_indexer,col_indexer] = value instead\n",
      "\n",
      "See the caveats in the documentation: https://pandas.pydata.org/pandas-docs/stable/user_guide/indexing.html#returning-a-view-versus-a-copy\n",
      "  imars_vehicletypes['SUV'] = np.where(imars_vehicle['Vehicle_Type']=='02. Sport utility vehicle', 1,0)\n",
      "C:\\Users\\Sophie.Kaye\\AppData\\Local\\Temp\\ipykernel_15904\\3570661635.py:5: SettingWithCopyWarning: \n",
      "A value is trying to be set on a copy of a slice from a DataFrame.\n",
      "Try using .loc[row_indexer,col_indexer] = value instead\n",
      "\n",
      "See the caveats in the documentation: https://pandas.pydata.org/pandas-docs/stable/user_guide/indexing.html#returning-a-view-versus-a-copy\n",
      "  imars_vehicletypes['Van'] = np.where(imars_vehicle['Vehicle_Type'].str.contains(\" van\")==True, 1,0) # space necessary to prevent inclusion of \"minivan\"\n",
      "C:\\Users\\Sophie.Kaye\\AppData\\Local\\Temp\\ipykernel_15904\\3570661635.py:6: SettingWithCopyWarning: \n",
      "A value is trying to be set on a copy of a slice from a DataFrame.\n",
      "Try using .loc[row_indexer,col_indexer] = value instead\n",
      "\n",
      "See the caveats in the documentation: https://pandas.pydata.org/pandas-docs/stable/user_guide/indexing.html#returning-a-view-versus-a-copy\n",
      "  imars_vehicletypes['Truck'] = np.where(imars_vehicle['Vehicle_Type'].str.contains(\"truck\")==True, 1,0)\n",
      "C:\\Users\\Sophie.Kaye\\AppData\\Local\\Temp\\ipykernel_15904\\3570661635.py:7: SettingWithCopyWarning: \n",
      "A value is trying to be set on a copy of a slice from a DataFrame.\n",
      "Try using .loc[row_indexer,col_indexer] = value instead\n",
      "\n",
      "See the caveats in the documentation: https://pandas.pydata.org/pandas-docs/stable/user_guide/indexing.html#returning-a-view-versus-a-copy\n",
      "  imars_vehicletypes['Bus'] = np.where(imars_vehicle['Vehicle_Type'].isin(['07. School bus','08. Transit/shuttle bus','09. Motor coach'])==True, 1,0)\n",
      "C:\\Users\\Sophie.Kaye\\AppData\\Local\\Temp\\ipykernel_15904\\3570661635.py:8: SettingWithCopyWarning: \n",
      "A value is trying to be set on a copy of a slice from a DataFrame.\n",
      "Try using .loc[row_indexer,col_indexer] = value instead\n",
      "\n",
      "See the caveats in the documentation: https://pandas.pydata.org/pandas-docs/stable/user_guide/indexing.html#returning-a-view-versus-a-copy\n",
      "  imars_vehicletypes['Motorcycle'] = np.where(imars_vehicle['Vehicle_Type'].str.contains(\"Motorcycle\")==True, 1,0)\n",
      "C:\\Users\\Sophie.Kaye\\AppData\\Local\\Temp\\ipykernel_15904\\3570661635.py:9: SettingWithCopyWarning: \n",
      "A value is trying to be set on a copy of a slice from a DataFrame.\n",
      "Try using .loc[row_indexer,col_indexer] = value instead\n",
      "\n",
      "See the caveats in the documentation: https://pandas.pydata.org/pandas-docs/stable/user_guide/indexing.html#returning-a-view-versus-a-copy\n",
      "  imars_vehicletypes['RV'] = np.where(imars_vehicle['Vehicle_Type']=='06. Motor home', 1,0)\n"
     ]
    }
   ],
   "source": [
    "# set flags for each vehicle type\n",
    "imars_vehicletypes['Car'] = np.where(imars_vehicle['Vehicle_Type']=='01. Passenger car (sedan, minivan, etc.)', 1,0)\n",
    "imars_vehicletypes['SUV'] = np.where(imars_vehicle['Vehicle_Type']=='02. Sport utility vehicle', 1,0)\n",
    "imars_vehicletypes['Van'] = np.where(imars_vehicle['Vehicle_Type'].str.contains(\" van\")==True, 1,0) # space necessary to prevent inclusion of \"minivan\"\n",
    "imars_vehicletypes['Truck'] = np.where(imars_vehicle['Vehicle_Type'].str.contains(\"truck\")==True, 1,0)\n",
    "imars_vehicletypes['Bus'] = np.where(imars_vehicle['Vehicle_Type'].isin(['07. School bus','08. Transit/shuttle bus','09. Motor coach'])==True, 1,0)\n",
    "imars_vehicletypes['Motorcycle'] = np.where(imars_vehicle['Vehicle_Type'].str.contains(\"Motorcycle\")==True, 1,0)\n",
    "imars_vehicletypes['RV'] = np.where(imars_vehicle['Vehicle_Type']=='06. Motor home', 1,0)\n",
    "\n",
    "# does Wayne approves of these bins?\n",
    "# does Wayne want v1 vs. v2 distinction for analysis?"
   ]
  },
  {
   "cell_type": "code",
   "execution_count": 121,
   "metadata": {},
   "outputs": [
    {
     "data": {
      "text/plain": [
       "Index(['INCID_NO', 'NUM_VEH', 'Car', 'SUV', 'Van', 'Truck', 'Bus',\n",
       "       'Motorcycle', 'RV'],\n",
       "      dtype='object')"
      ]
     },
     "execution_count": 121,
     "metadata": {},
     "output_type": "execute_result"
    }
   ],
   "source": [
    "imars_vehicletypes.columns"
   ]
  },
  {
   "cell_type": "code",
   "execution_count": 122,
   "metadata": {},
   "outputs": [
    {
     "data": {
      "text/plain": [
       "(15302, 9)"
      ]
     },
     "execution_count": 122,
     "metadata": {},
     "output_type": "execute_result"
    }
   ],
   "source": [
    "# collapse multiple rows for each vehicle involved in the crash into a single row for each crash\n",
    "# vehicle types and number of people involved should be summed as total numbers per crash (\"sum\" function)\n",
    "imars_vehicletypes_agg = imars_vehicletypes.groupby(by=['INCID_NO']).sum().reset_index()\n",
    "imars_vehicletypes_agg.shape"
   ]
  },
  {
   "cell_type": "code",
   "execution_count": 123,
   "metadata": {},
   "outputs": [
    {
     "data": {
      "text/plain": [
       "(15302, 25)"
      ]
     },
     "execution_count": 123,
     "metadata": {},
     "output_type": "execute_result"
    }
   ],
   "source": [
    "# join aggregated vehicle data into single table\n",
    "imars_slim_vehicle = imars_vehicle_slim_agg.merge(imars_vehicletypes_agg, how='right', on='INCID_NO')\n",
    "imars_slim_vehicle = imars_slim_vehicle.drop_duplicates()\n",
    "imars_slim_vehicle.shape"
   ]
  },
  {
   "cell_type": "code",
   "execution_count": 124,
   "metadata": {},
   "outputs": [
    {
     "data": {
      "text/plain": [
       "Index(['INCID_NO', '5_mph', '10_mph', '15_mph', '20_mph', '25_mph', '30_mph',\n",
       "       '35_mph', '40_mph', '45_mph', '50_mph', '55_mph', '60_mph', '65_mph',\n",
       "       '70_mph', '75_mph', 'no_posted_speed', 'NUM_VEH', 'Car', 'SUV', 'Van',\n",
       "       'Truck', 'Bus', 'Motorcycle', 'RV'],\n",
       "      dtype='object')"
      ]
     },
     "execution_count": 124,
     "metadata": {},
     "output_type": "execute_result"
    }
   ],
   "source": [
    "imars_slim_vehicle.columns"
   ]
  },
  {
   "cell_type": "markdown",
   "metadata": {},
   "source": [
    "## Crash Details Table"
   ]
  },
  {
   "cell_type": "code",
   "execution_count": 145,
   "metadata": {},
   "outputs": [],
   "source": [
    "imars_crash_details = imars_crash_details.rename(columns={'IMARS_Record_No':'INCID_NO'}) # rename to match CDS\n",
    "imars_crash_details_slim = imars_crash_details[['INCID_NO','First_Harmful_Event_Type', 'First_Harmful_Event','Location_of_First_Harmful_Event']] # subset needed columns"
   ]
  },
  {
   "cell_type": "code",
   "execution_count": 150,
   "metadata": {},
   "outputs": [
    {
     "data": {
      "text/plain": [
       "Collision with person, MV or non-fixed object    7340\n",
       "Collision with fixed object                      4238\n",
       "Non-collision                                    1965\n",
       "Collision with animals                           1486\n",
       "Unknown                                           492\n",
       "Name: First_Harmful_Event_Type, dtype: int64"
      ]
     },
     "execution_count": 150,
     "metadata": {},
     "output_type": "execute_result"
    }
   ],
   "source": [
    "imars_crash_details['First_Harmful_Event_Type'].value_counts()\n",
    "# do we want to use this or first harmful event in analysis?"
   ]
  },
  {
   "cell_type": "code",
   "execution_count": 147,
   "metadata": {},
   "outputs": [
    {
     "data": {
      "text/plain": [
       "01. On roadway               8199\n",
       "02. Shoulder                 1978\n",
       "07. Parking lot              1897\n",
       "09. Off roadway              1387\n",
       "04. Roadside                  739\n",
       "99. Unknown                   493\n",
       "08. Pull-off parking area     315\n",
       "13. Other                     239\n",
       "03. Median                    106\n",
       "12. Bridge                     59\n",
       "11. Tunnel                     50\n",
       "06. Separator                  24\n",
       "10. Outside right-of-way       14\n",
       "05. Gore                        4\n",
       "Name: Location_of_First_Harmful_Event, dtype: int64"
      ]
     },
     "execution_count": 147,
     "metadata": {},
     "output_type": "execute_result"
    }
   ],
   "source": [
    "imars_crash_details['Location_of_First_Harmful_Event'].value_counts()\n",
    "# do we want to use this in analysis?\n",
    "# if so, do we care about all of these attributes or can we bin them?"
   ]
  },
  {
   "cell_type": "code",
   "execution_count": 149,
   "metadata": {},
   "outputs": [
    {
     "data": {
      "text/plain": [
       "21. Motor vehicle in transport                                           5101\n",
       "22. Parked motor vehicle                                                 1575\n",
       "52. Tree/shrub                                                           1309\n",
       "28. Deer                                                                  986\n",
       "07. Ran off the road right                                                820\n",
       "99. Unknown                                                               488\n",
       "60. Rock, boulder, rock slide                                             365\n",
       "25. Other non-fixed object                                                363\n",
       "66. Other fixed object                                                    341\n",
       "46. Earth embankment/berm                                                 337\n",
       "16. Other non-collision                                                   292\n",
       "01. Overturn/rollover                                                     285\n",
       "45. Ditch                                                                 271\n",
       "08. Ran Off the road left                                                 267\n",
       "65. Other post, pole or support                                           206\n",
       "51. Other traffic barrier/barricade                                       194\n",
       "31. Buffalo                                                               170\n",
       "50. Wall                                                                  163\n",
       "54. Traffic sign support                                                  160\n",
       "44. Median/curb                                                           155\n",
       "49. Guardrail/concrete traffic barrier                                    137\n",
       "29. Elk                                                                   125\n",
       "18. Bicycle                                                               116\n",
       "32. Bear                                                                  104\n",
       "09. Cross median or centerline                                            100\n",
       "59. Building                                                               93\n",
       "57. Fence (including post)                                                 82\n",
       "47. Guardrail/cable face                                                   82\n",
       "17. Pedestrian                                                             77\n",
       "53. Utility pole/light support                                             60\n",
       "13. Avoiding an animal on road                                             58\n",
       "12. Avoiding an object on road                                             55\n",
       "62. Snow embankment                                                        52\n",
       "14. Thrown or falling object                                               47\n",
       "43. End of drainage pipe/structure/culvert                                 47\n",
       "41. Bridge rail                                                            43\n",
       "36. Other wild animal (crocodile, birds, coyote, etc.)                     37\n",
       "11. Fell/jumped from motor vehicle                                         33\n",
       "24. Work zone/maintenance equipment                                        32\n",
       "23. Struck by falling, shifting cargo or anything set in motion by MV      27\n",
       "61. Tunnel                                                                 26\n",
       "10. Downhill runaway                                                       22\n",
       "39. Bridge overhead structure                                              22\n",
       "48. Guardrail/cable end                                                    22\n",
       "38. Impact attenuator/crash cushion                                        20\n",
       "26. Horse/llama                                                            18\n",
       "02. Fire/explosion                                                         18\n",
       "34. Sheep/goats                                                            13\n",
       "30. Moose                                                                  11\n",
       "05. Cargo/equipment loss or shift                                          10\n",
       "03. Immersion                                                              10\n",
       "06. Separation of units                                                     9\n",
       "40. Bridge pier or support                                                  9\n",
       "33. Antelope                                                                9\n",
       "04. Jackknife                                                               8\n",
       "64. Delineator                                                              8\n",
       "27. Cow                                                                     6\n",
       "20. Railway vehicle                                                         6\n",
       "37. Other domestic (dog, cat, etc.)                                         5\n",
       "55. Traffic signal support                                                  4\n",
       "56. Overhead traffic sign                                                   3\n",
       "58. Mailbox                                                                 3\n",
       "42. Cable barrier                                                           3\n",
       "19. Other pedacycle                                                         1\n",
       "Name: First_Harmful_Event, dtype: int64"
      ]
     },
     "execution_count": 149,
     "metadata": {},
     "output_type": "execute_result"
    }
   ],
   "source": [
    "pd.options.display.max_rows = 10000000\n",
    "imars_crash_details['First_Harmful_Event'].value_counts()\n",
    "# do we want to use this or first harmful event type in analysis?\n",
    "# if we want to use this, do we care about all of these attributes or can we bin them?"
   ]
  },
  {
   "cell_type": "code",
   "execution_count": 151,
   "metadata": {},
   "outputs": [
    {
     "name": "stderr",
     "output_type": "stream",
     "text": [
      "C:\\Users\\Sophie.Kaye\\AppData\\Local\\Temp\\ipykernel_15904\\3210502768.py:2: SettingWithCopyWarning: \n",
      "A value is trying to be set on a copy of a slice from a DataFrame.\n",
      "Try using .loc[row_indexer,col_indexer] = value instead\n",
      "\n",
      "See the caveats in the documentation: https://pandas.pydata.org/pandas-docs/stable/user_guide/indexing.html#returning-a-view-versus-a-copy\n",
      "  imars_crash_details_slim['Collision w Animal']= np.where(imars_crash_details['First_Harmful_Event_Type']==\"Collision with animals\", 1,0)\n",
      "C:\\Users\\Sophie.Kaye\\AppData\\Local\\Temp\\ipykernel_15904\\3210502768.py:3: SettingWithCopyWarning: \n",
      "A value is trying to be set on a copy of a slice from a DataFrame.\n",
      "Try using .loc[row_indexer,col_indexer] = value instead\n",
      "\n",
      "See the caveats in the documentation: https://pandas.pydata.org/pandas-docs/stable/user_guide/indexing.html#returning-a-view-versus-a-copy\n",
      "  imars_crash_details_slim['Avoiding Animal']= np.where(imars_crash_details['First_Harmful_Event']==\"13. Avoiding an animal on road\", 1,0)\n",
      "C:\\Users\\Sophie.Kaye\\AppData\\Local\\Temp\\ipykernel_15904\\3210502768.py:4: SettingWithCopyWarning: \n",
      "A value is trying to be set on a copy of a slice from a DataFrame.\n",
      "Try using .loc[row_indexer,col_indexer] = value instead\n",
      "\n",
      "See the caveats in the documentation: https://pandas.pydata.org/pandas-docs/stable/user_guide/indexing.html#returning-a-view-versus-a-copy\n",
      "  imars_crash_details_slim['Animal in Roadway']= np.where(imars_crash_details['Environmental_Contributing_Circumstances'].str.contains(\"Animal\")==True, 1,0)\n"
     ]
    }
   ],
   "source": [
    "# set flags for animal related data attributes\n",
    "imars_crash_details_slim['Collision w Animal']= np.where(imars_crash_details['First_Harmful_Event_Type']==\"Collision with animals\", 1,0)\n",
    "imars_crash_details_slim['Avoiding Animal']= np.where(imars_crash_details['First_Harmful_Event']==\"13. Avoiding an animal on road\", 1,0)\n",
    "imars_crash_details_slim['Animal in Roadway']= np.where(imars_crash_details['Environmental_Contributing_Circumstances'].str.contains(\"Animal\")==True, 1,0)"
   ]
  },
  {
   "cell_type": "code",
   "execution_count": 153,
   "metadata": {},
   "outputs": [
    {
     "name": "stderr",
     "output_type": "stream",
     "text": [
      "C:\\Users\\Sophie.Kaye\\AppData\\Local\\Temp\\ipykernel_15904\\2182923555.py:2: SettingWithCopyWarning: \n",
      "A value is trying to be set on a copy of a slice from a DataFrame.\n",
      "Try using .loc[row_indexer,col_indexer] = value instead\n",
      "\n",
      "See the caveats in the documentation: https://pandas.pydata.org/pandas-docs/stable/user_guide/indexing.html#returning-a-view-versus-a-copy\n",
      "  imars_crash_details_slim['Involving Animal'] = 0 # iniitalize column with dummy data to replace with for loop\n",
      "C:\\Users\\Sophie.Kaye\\AppData\\Local\\Temp\\ipykernel_15904\\2182923555.py:12: SettingWithCopyWarning: \n",
      "A value is trying to be set on a copy of a slice from a DataFrame\n",
      "\n",
      "See the caveats in the documentation: https://pandas.pydata.org/pandas-docs/stable/user_guide/indexing.html#returning-a-view-versus-a-copy\n",
      "  imars_crash_details_slim['Involving Animal'].iloc[i] = 0\n",
      "C:\\Users\\Sophie.Kaye\\AppData\\Local\\Temp\\ipykernel_15904\\2182923555.py:8: SettingWithCopyWarning: \n",
      "A value is trying to be set on a copy of a slice from a DataFrame\n",
      "\n",
      "See the caveats in the documentation: https://pandas.pydata.org/pandas-docs/stable/user_guide/indexing.html#returning-a-view-versus-a-copy\n",
      "  imars_crash_details_slim['Involving Animal'].iloc[i] = 1\n",
      "C:\\Users\\Sophie.Kaye\\AppData\\Local\\Temp\\ipykernel_15904\\2182923555.py:6: SettingWithCopyWarning: \n",
      "A value is trying to be set on a copy of a slice from a DataFrame\n",
      "\n",
      "See the caveats in the documentation: https://pandas.pydata.org/pandas-docs/stable/user_guide/indexing.html#returning-a-view-versus-a-copy\n",
      "  imars_crash_details_slim['Involving Animal'].iloc[i] = 1\n",
      "C:\\Users\\Sophie.Kaye\\AppData\\Local\\Temp\\ipykernel_15904\\2182923555.py:10: SettingWithCopyWarning: \n",
      "A value is trying to be set on a copy of a slice from a DataFrame\n",
      "\n",
      "See the caveats in the documentation: https://pandas.pydata.org/pandas-docs/stable/user_guide/indexing.html#returning-a-view-versus-a-copy\n",
      "  imars_crash_details_slim['Involving Animal'].iloc[i] = 1\n"
     ]
    },
    {
     "data": {
      "text/plain": [
       "0    14529\n",
       "1     1774\n",
       "Name: Involving Animal, dtype: int64"
      ]
     },
     "execution_count": 153,
     "metadata": {},
     "output_type": "execute_result"
    }
   ],
   "source": [
    "# set animal indicator\n",
    "imars_crash_details_slim['Involving Animal'] = 0 # iniitalize column with dummy data to replace with for loop\n",
    "length = range(imars_crash_details_slim.shape[0]) # search through all rows in aggregated dataset\n",
    "for i in length:\n",
    "    if imars_crash_details_slim['Collision w Animal'].iloc[i] == 1:\n",
    "        imars_crash_details_slim['Involving Animal'].iloc[i] = 1\n",
    "    elif imars_crash_details_slim['Avoiding Animal'].iloc[i] == 1:\n",
    "        imars_crash_details_slim['Involving Animal'].iloc[i] = 1\n",
    "    elif imars_crash_details_slim['Animal in Roadway'].iloc[i] == 1:\n",
    "        imars_crash_details_slim['Involving Animal'].iloc[i] = 1\n",
    "    else:\n",
    "        imars_crash_details_slim['Involving Animal'].iloc[i] = 0\n",
    "imars_crash_details_slim['Involving Animal'].value_counts()"
   ]
  },
  {
   "cell_type": "code",
   "execution_count": 154,
   "metadata": {},
   "outputs": [
    {
     "data": {
      "text/plain": [
       "16303"
      ]
     },
     "execution_count": 154,
     "metadata": {},
     "output_type": "execute_result"
    }
   ],
   "source": [
    "# rerun all code\n",
    "# continue with weather and lighting indicators"
   ]
  },
  {
   "cell_type": "code",
   "execution_count": null,
   "metadata": {},
   "outputs": [],
   "source": []
  }
 ],
 "metadata": {
  "kernelspec": {
   "display_name": "geo_env",
   "language": "python",
   "name": "geo_env"
  },
  "language_info": {
   "codemirror_mode": {
    "name": "ipython",
    "version": 3
   },
   "file_extension": ".py",
   "mimetype": "text/x-python",
   "name": "python",
   "nbconvert_exporter": "python",
   "pygments_lexer": "ipython3",
   "version": "3.10.5"
  }
 },
 "nbformat": 4,
 "nbformat_minor": 2
}
