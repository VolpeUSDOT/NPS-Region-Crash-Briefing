{
 "cells": [
  {
   "cell_type": "markdown",
   "metadata": {},
   "source": [
    "## Crash Data Wrangling Jupyter Notebook\n",
    "\n",
    "**Author:** Eric Englin, Meredith Raymer, and Sophie Kaye\n",
    "\n",
    "**Date:** 6/23/22\n",
    "\n",
    "**Purpose:** This notebook will clean pre-combined IMARS data to merge with CDS and STARS datasets. It will also pull out Yosemite data separately"
   ]
  },
  {
   "cell_type": "code",
   "execution_count": 1,
   "metadata": {},
   "outputs": [],
   "source": [
    "import pandas as pd\n",
    "import geopandas as gpd\n",
    "import numpy as np\n",
    "import os\n",
    "from shapely.geometry import Point, LineString, Polygon"
   ]
  },
  {
   "cell_type": "code",
   "execution_count": 2,
   "metadata": {},
   "outputs": [],
   "source": [
    "myworkingdirectory = r\"C:\\Users\\Sophie.Kaye\\Desktop\\NPS Safety\"\n",
    "os.chdir(myworkingdirectory)"
   ]
  },
  {
   "cell_type": "markdown",
   "metadata": {},
   "source": [
    "## Step 1: Concatenate Similar Datasets \n",
    "\n",
    "**Note:** Datasets have been divided across three time periods, so these must be combined to start joining the tables together. "
   ]
  },
  {
   "cell_type": "code",
   "execution_count": 3,
   "metadata": {},
   "outputs": [
    {
     "name": "stdout",
     "output_type": "stream",
     "text": [
      "Archive\n",
      "IMARS 2012 - 2021.xlsx\n",
      "IMARS Crash Module Data Dictionary_Redacted.docx\n",
      "IMARS_noparks_nocoords_someinfo_parks_filled.csv\n"
     ]
    }
   ],
   "source": [
    "path = './IMARS'\n",
    "\n",
    "files = os.listdir(path)\n",
    "\n",
    "for f in files:\n",
    "    print(f)"
   ]
  },
  {
   "cell_type": "code",
   "execution_count": 4,
   "metadata": {},
   "outputs": [],
   "source": [
    "#imars_crash_1 = pd.read_excel(\"./IMARS/NPS GOccIvPA Command Address 2011-2015.xlsx\", sheet_name = \"Batch1-Result1\")\n",
    "#imars_crash_2 = pd.read_excel(\"./IMARS/NPS GOccIvPA Command Address 2016 to 4-2018.xlsx\", sheet_name = \"Batch1-Result1\")\n",
    "#imars_crash_3 = pd.read_excel(\"./IMARS/NPS GOccIvPA Command Address 4-2018 to 6-2021.xlsx\", sheet_name = \"Batch1-Result1\")\n",
    "#imars_crash_4 = pd.read_excel(\"./IMARS/USPP GOccIvPA Command Address 1H2021.xlsx\", sheet_name = \"Batch1-Result1\")\n",
    "#imars_crash_5 = pd.read_excel(\"./IMARS/USPP GOccIvPA Command Address 4-2018 to 12-2018.xlsx\", sheet_name = \"Batch1-Result1\")\n",
    "#imars_crash_6 = pd.read_excel(\"./IMARS/USPP GOccIvPA Command Address 2011-2015.xlsx\", sheet_name = \"Batch1-Result1\")\n",
    "#imars_crash_7 = pd.read_excel(\"./IMARS/USPP GOccIvPA Command Address 2016 to 4-2018.xlsx\", sheet_name = \"Batch1-Result1\")\n",
    "#imars_crash_8 = pd.read_excel(\"./IMARS/USPP GOccIvPA Command Address 2019.xlsx\", sheet_name = \"Batch1-Result1\")\n",
    "#imars_crash_9 = pd.read_excel(\"./IMARS/USPP GOccIvPA Command Address 2020.xlsx\", sheet_name = \"Batch1-Result1\")\n",
    "\n",
    "#imars_passenger_1 = pd.read_excel(\"./IMARS/NPS MVCOccGPersonReport Command 2011 to 2015.xlsx\", sheet_name = \"Batch1-Result1\")\n",
    "#imars_passenger_2 = pd.read_excel(\"./IMARS/NPS MVCOccGPersonReport Command 2016 to 4-2018.xlsx\", sheet_name = \"Batch1-Result1\")\n",
    "#imars_passenger_3 = pd.read_excel(\"./IMARS/NPS MVCOccGPersonReport Command 4-2018 to 6-2021.xlsx\", sheet_name = \"Batch1-Result1\")\n",
    "#imars_passenger_4 = pd.read_excel(\"./IMARS/USPP MVCOccGPersonReport Command 4-2018 to 12-2018.xlsx\", sheet_name = \"Batch1-Result1\")\n",
    "#imars_passenger_5 = pd.read_excel(\"./IMARS/USPP MVCOccGPersonReport Command 2011-2015.xlsx\", sheet_name = \"Batch1-Result1\")\n",
    "#imars_passenger_6 = pd.read_excel(\"./IMARS/USPP MVCOccGPersonReport Command 2016 to 4-2018.xlsx\", sheet_name = \"Batch1-Result1\")\n",
    "#imars_passenger_7 = pd.read_excel(\"./IMARS/USPP MVCOccGPersonReport Command 2019.xlsx\", sheet_name = \"Batch1-Result1\")\n",
    "#imars_passenger_8 = pd.read_excel(\"./IMARS/USPP MVCOccGPersonReport Command 2020.xlsx\", sheet_name = \"Batch1-Result1\")\n",
    "#imars_passenger_9 = pd.read_excel(\"./IMARS/USPP MVCOccGPersonReport Command 1H2021.xlsx\", sheet_name = \"Batch1-Result1\")\n",
    "\n",
    "#imars_vehicle_1 = pd.read_excel(\"./IMARS/NPS MVCOccVehicleReport Command 2011 to 2015.xlsx\", sheet_name = \"Batch1-Result1\")\n",
    "#imars_vehicle_2 = pd.read_excel(\"./IMARS/NPS MVCOccVehicleReport Command 2016 to 4-2018.xlsx\", sheet_name = \"Batch1-Result1\")\n",
    "#imars_vehicle_3 = pd.read_excel(\"./IMARS/NPS MVCOccVehicleReport Command 4-2018 to 6-2021.xlsx\", sheet_name = \"Batch1-Result1\")\n",
    "#imars_vehicle_4 = pd.read_excel(\"./IMARS/USPP MVCOccVehicleReport Command 1H2021.xlsx\", sheet_name = \"Batch1-Result1\")\n",
    "#imars_vehicle_5 = pd.read_excel(\"./IMARS/USPP MVCOccVehicleReport Command 4-2018 to 12-2018.xlsx\", sheet_name = \"Batch1-Result1\")\n",
    "#imars_vehicle_6 = pd.read_excel(\"./IMARS/USPP MVCOccVehicleReport Command 2011-2015.xlsx\", sheet_name = \"Batch1-Result1\")\n",
    "#imars_vehicle_7 = pd.read_excel(\"./IMARS/USPP MVCOccVehicleReport Command 2016 to 4-2018.xlsx\", sheet_name = \"Batch1-Result1\")\n",
    "#imars_vehicle_8 = pd.read_excel(\"./IMARS/USPP MVCOccVehicleReport Command 2019.xlsx\", sheet_name = \"Batch1-Result1\")\n",
    "#imars_vehicle_9 = pd.read_excel(\"./IMARS/USPP MVCOccVehicleReport Command 2020.xlsx\", sheet_name = \"Batch1-Result1\")\n",
    "\n",
    "#imars_crash_details_1 = pd.read_excel(\"./IMARS/NPS MVCOccReportCommand_Classification 2011-2015.xlsx\", sheet_name = \"Batch1-Result1\")\n",
    "#imars_crash_details_2 = pd.read_excel(\"./IMARS/NPS MVCOccReportCommand_Classification 2016 to 4-2018.xlsx\", sheet_name = \"Batch1-Result1\")\n",
    "#imars_crash_details_3 = pd.read_excel(\"./IMARS/NPS MVCOccReportCommand_Classification 4-2018 to 6-2021.xlsx\", sheet_name = \"Batch1-Result1\")\n",
    "#imars_crash_details_4 = pd.read_excel(\"./IMARS/USPP MVCOccReportCommand_Classification 1H2021.xlsx\", sheet_name = \"Batch1-Result1\")\n",
    "#imars_crash_details_5 = pd.read_excel(\"./IMARS/USPP MVCOccReportCommand_Classification 2011 to 2015.xlsx\", sheet_name = \"Batch1-Result1\")\n",
    "#imars_crash_details_6 = pd.read_excel(\"./IMARS/USPP MVCOccReportCommand_Classification 2016 to 4-2018.xlsx\", sheet_name = \"Batch1-Result1\")\n",
    "#imars_crash_details_7 = pd.read_excel(\"./IMARS/USPP MVCOccReportCommand_Classification 2019.xlsx\", sheet_name = \"Batch1-Result1\")\n",
    "#imars_crash_details_8 = pd.read_excel(\"./IMARS/USPP MVCOccReportCommand_Classification 2020.xlsx\", sheet_name = \"Batch1-Result1\")"
   ]
  },
  {
   "cell_type": "code",
   "execution_count": 3,
   "metadata": {},
   "outputs": [],
   "source": [
    "#imars_crash = pd.concat([imars_crash_1, imars_crash_2, imars_crash_3, imars_crash_4, imars_crash_5, imars_crash_6, imars_crash_7, imars_crash_8, imars_crash_9])\n",
    "imars_crash = pd.read_excel(\"./IMARS/IMARS 2012 - 2021.xlsx\", sheet_name = \"Location\")\n",
    "#imars_passenger = pd.concat([imars_passenger_1, imars_passenger_2, imars_passenger_3, imars_passenger_4, imars_passenger_5, imars_passenger_6, imars_passenger_7, imars_passenger_8, imars_passenger_9])\n",
    "imars_passenger = pd.read_excel(\"./IMARS/IMARS 2012 - 2021.xlsx\", sheet_name = \"Person\")\n",
    "#imars_vehicle = pd.concat([imars_vehicle_1, imars_vehicle_2, imars_vehicle_3, imars_vehicle_4, imars_vehicle_5, imars_vehicle_6, imars_vehicle_7, imars_vehicle_8, imars_vehicle_9])\n",
    "imars_vehicle = pd.read_excel(\"./IMARS/IMARS 2012 - 2021.xlsx\", sheet_name = \"Vehicle\")\n",
    "#imars_crash_details = pd.concat([imars_crash_details_1, imars_crash_details_2, imars_crash_details_3, imars_crash_details_4, imars_crash_details_5, imars_crash_details_6, imars_crash_details_7, imars_crash_details_8])\n",
    "imars_crash_details = pd.read_excel(\"./IMARS/IMARS 2012 - 2021.xlsx\", sheet_name = \"Classification\")"
   ]
  },
  {
   "cell_type": "code",
   "execution_count": 4,
   "metadata": {},
   "outputs": [
    {
     "data": {
      "text/plain": [
       "(17828, 32)"
      ]
     },
     "execution_count": 4,
     "metadata": {},
     "output_type": "execute_result"
    }
   ],
   "source": [
    "imars_crash.shape"
   ]
  },
  {
   "cell_type": "code",
   "execution_count": 5,
   "metadata": {},
   "outputs": [
    {
     "data": {
      "text/plain": [
       "(27932, 29)"
      ]
     },
     "execution_count": 5,
     "metadata": {},
     "output_type": "execute_result"
    }
   ],
   "source": [
    "imars_passenger.shape"
   ]
  },
  {
   "cell_type": "code",
   "execution_count": 6,
   "metadata": {},
   "outputs": [
    {
     "data": {
      "text/plain": [
       "(23577, 51)"
      ]
     },
     "execution_count": 6,
     "metadata": {},
     "output_type": "execute_result"
    }
   ],
   "source": [
    "imars_vehicle.shape"
   ]
  },
  {
   "cell_type": "code",
   "execution_count": 7,
   "metadata": {},
   "outputs": [
    {
     "data": {
      "text/plain": [
       "(16304, 24)"
      ]
     },
     "execution_count": 7,
     "metadata": {},
     "output_type": "execute_result"
    }
   ],
   "source": [
    "imars_crash_details.shape"
   ]
  },
  {
   "cell_type": "code",
   "execution_count": 8,
   "metadata": {},
   "outputs": [],
   "source": [
    "# note that crash_details and crash don't have the same number of entries to begin with"
   ]
  },
  {
   "cell_type": "code",
   "execution_count": 9,
   "metadata": {},
   "outputs": [],
   "source": [
    "#imars_crash.head()"
   ]
  },
  {
   "cell_type": "code",
   "execution_count": 10,
   "metadata": {},
   "outputs": [],
   "source": [
    "#imars_passenger.Injury_Severity.value_counts()"
   ]
  },
  {
   "cell_type": "code",
   "execution_count": 11,
   "metadata": {},
   "outputs": [
    {
     "data": {
      "text/plain": [
       "Index(['IMARS_Record_No', 'Crash_Date_Time', 'Driver_Action',\n",
       "       'Driver_Condition', 'Driver_Distraction', 'Suspect_Alcohol',\n",
       "       'Alcohol_Test', 'Alcohol_Test_Result_1', 'Alcohol_Test_Result_2',\n",
       "       'Suspect_Drugs', 'Drug_Test', 'Violations_Issued', 'Seat_Position',\n",
       "       'Injury_Severity', 'Air_Bag_Deployed', 'Ejection',\n",
       "       'Injury_Transported_By', 'Safety_Equipment_Used', 'Vehicle_number',\n",
       "       'Injured_transported_by', 'Non_motorist_safety_equipment',\n",
       "       'Non_motorist_action_circumstance_prior_to_crash',\n",
       "       'Non_motorist_action_circumstance_at_time_of_crash',\n",
       "       'Non_motorist_condition_at_time_of_crash', 'Non_motorist_distraction',\n",
       "       'Non_motorist_location_at_time_of_crash', 'Pedestrian_Type',\n",
       "       'Pedestrian_Type_Detail', 'Involvement'],\n",
       "      dtype='object')"
      ]
     },
     "execution_count": 11,
     "metadata": {},
     "output_type": "execute_result"
    }
   ],
   "source": [
    "imars_passenger.columns"
   ]
  },
  {
   "cell_type": "code",
   "execution_count": 12,
   "metadata": {},
   "outputs": [
    {
     "data": {
      "text/plain": [
       "Index(['IMARS_Record_No', 'Crash_Date_Time', 'Linked_Address_Classification',\n",
       "       'City_Town_Park_Location', 'State', 'County', 'Direction',\n",
       "       'Linked_Street_Number', 'Linked_Common_Name', 'Street_Type',\n",
       "       'Direction.1', 'NEAR_Distance_to_MI', 'NEAR_Direction_To',\n",
       "       'NEAR_Direction', 'NEAR_route_street_road_name', 'NEAR_Road_Type',\n",
       "       'NEAR_Direction.1', 'AT_Intersection_route_street_road_DIRECTION',\n",
       "       'At_Intersecting_route_street_road_name', 'AT_Road_Type',\n",
       "       'AT_Direction', 'Mile_Marker', 'Latitude', 'Longitude', 'Region',\n",
       "       'State_Zone', 'Park', 'Site', 'Place', 'Point',\n",
       "       'Road_Type_Classification', 'Linked_Address'],\n",
       "      dtype='object')"
      ]
     },
     "execution_count": 12,
     "metadata": {},
     "output_type": "execute_result"
    }
   ],
   "source": [
    "imars_crash.columns"
   ]
  },
  {
   "cell_type": "code",
   "execution_count": 13,
   "metadata": {},
   "outputs": [
    {
     "data": {
      "text/plain": [
       "Index(['IMARS_Record_No', 'Crash_Date_Time', 'Number_of_Vehicles_Involved',\n",
       "       'Injury_or_Fatal_Crash', 'Investigated_at_Scene', 'Hit_and_Run',\n",
       "       'Non_Motor_Vehicl_Property_Damage', 'Amount_of_Property_Damage',\n",
       "       'First_Harmful_Event_Type', 'First_Harmful_Event',\n",
       "       'Location_of_First_Harmful_Event', 'Weather', 'Roadway_Condition',\n",
       "       'Lighting', 'School_Bus_related', 'AS_Road_Circumstance',\n",
       "       'Environmental_Contributing_Circumstances', 'Work_Zone_Related',\n",
       "       'Work_Zone_Workers_Present', 'Work_Zone_Location',\n",
       "       'Law_Enforcement_Present_at_Work_Zone', 'Relation_to_Junction',\n",
       "       'Type_of_Intersection', 'Manner_of_Collision'],\n",
       "      dtype='object')"
      ]
     },
     "execution_count": 13,
     "metadata": {},
     "output_type": "execute_result"
    }
   ],
   "source": [
    "imars_crash_details.columns"
   ]
  },
  {
   "cell_type": "code",
   "execution_count": 14,
   "metadata": {},
   "outputs": [
    {
     "data": {
      "text/plain": [
       "Index(['IMARS_Record_No', 'Crash_Date_Time', 'Vehicle_Number',\n",
       "       'Number_of_Occupants', 'Vehicle_Towed', 'Insurance_verified',\n",
       "       'Initial_Impact_Point', 'Most_Damaged_Area', 'Extent_of_Damage',\n",
       "       'Direction_of_Travel_Prior_to_Crash', 'Posted_Speed',\n",
       "       'First_Event_Type', 'First_Event', 'Second_Event_Type', 'Second_Event',\n",
       "       'Third_Event_Type', 'Third_Event', 'Fourth_Event_Type', 'Fourth_Event',\n",
       "       'Motor_Vehicle_Unit_Type', 'Vehicle_Owner', 'Vehicle_Type',\n",
       "       'Non_Commercial_Trailer_Style', 'Emergency_Vehicle_Use',\n",
       "       'Emergency_Equipment_Activated', 'Special_Function_of_MV_in_Transport',\n",
       "       'Motor_Vehicle_Contributing_Circumstance',\n",
       "       'Vehicle_Maneuver_Action_Prior_to_Crash', 'Road_Surface', 'Grade',\n",
       "       'Roadway_Alignment', 'Total_Number_of_Lanes', 'Traffic_Control',\n",
       "       'Traffic_Control_Working_Properly', 'Roadway_Description',\n",
       "       'Commercial_Non_Commercial', 'Number_of_Axles', 'Gross_Vehicle_Weight',\n",
       "       'Combination_GVW', 'Commercial_Cargo_Body_Type', 'Commercial_Cargo',\n",
       "       'Commercial_MV_Configuration', 'Identification_Number_Type',\n",
       "       'Hazmat_1_Class', 'Hazmat_1_ID', 'Hazmat_2_Class', 'Hazmat_2_ID',\n",
       "       'Hazmat_3_Class', 'Hazmat_3_ID', 'Hazmat_4_Class', 'Hazmat_4_ID'],\n",
       "      dtype='object')"
      ]
     },
     "execution_count": 14,
     "metadata": {},
     "output_type": "execute_result"
    }
   ],
   "source": [
    "imars_vehicle.columns"
   ]
  },
  {
   "cell_type": "markdown",
   "metadata": {},
   "source": [
    "# General Data Cleaning"
   ]
  },
  {
   "cell_type": "code",
   "execution_count": 15,
   "metadata": {},
   "outputs": [],
   "source": [
    "# NOTE that there are crashes with randomly missing park, state, region, and/or roadway\n",
    "\n",
    "# DISCUSS WITH TEAM: decide which data to trust (i.e., park, lat/long) and fill in missing location information programatically (or manually) based on trusted source\n",
    "# POSSIBLE TASK FOR CHRIS?"
   ]
  },
  {
   "cell_type": "markdown",
   "metadata": {},
   "source": [
    "### CHECK FOR MISSING RECORD NUMBERS"
   ]
  },
  {
   "cell_type": "code",
   "execution_count": 16,
   "metadata": {},
   "outputs": [
    {
     "data": {
      "text/plain": [
       "(17828, 32)"
      ]
     },
     "execution_count": 16,
     "metadata": {},
     "output_type": "execute_result"
    }
   ],
   "source": [
    "imars_crash.shape"
   ]
  },
  {
   "cell_type": "code",
   "execution_count": 17,
   "metadata": {},
   "outputs": [
    {
     "data": {
      "text/plain": [
       "(17827, 32)"
      ]
     },
     "execution_count": 17,
     "metadata": {},
     "output_type": "execute_result"
    }
   ],
   "source": [
    "imars_crash.dropna(subset=['IMARS_Record_No']).shape"
   ]
  },
  {
   "cell_type": "code",
   "execution_count": 18,
   "metadata": {},
   "outputs": [],
   "source": [
    "imars_crash = imars_crash.dropna(subset=['IMARS_Record_No'])"
   ]
  },
  {
   "cell_type": "code",
   "execution_count": 19,
   "metadata": {},
   "outputs": [
    {
     "data": {
      "text/plain": [
       "(27932, 29)"
      ]
     },
     "execution_count": 19,
     "metadata": {},
     "output_type": "execute_result"
    }
   ],
   "source": [
    "imars_passenger.shape"
   ]
  },
  {
   "cell_type": "code",
   "execution_count": 20,
   "metadata": {},
   "outputs": [
    {
     "data": {
      "text/plain": [
       "(27931, 29)"
      ]
     },
     "execution_count": 20,
     "metadata": {},
     "output_type": "execute_result"
    }
   ],
   "source": [
    "imars_passenger.dropna(subset=['IMARS_Record_No']).shape"
   ]
  },
  {
   "cell_type": "code",
   "execution_count": 21,
   "metadata": {},
   "outputs": [],
   "source": [
    "imars_passenger = imars_passenger.dropna(subset=['IMARS_Record_No'])"
   ]
  },
  {
   "cell_type": "code",
   "execution_count": 22,
   "metadata": {},
   "outputs": [
    {
     "data": {
      "text/plain": [
       "(23577, 51)"
      ]
     },
     "execution_count": 22,
     "metadata": {},
     "output_type": "execute_result"
    }
   ],
   "source": [
    "imars_vehicle.shape"
   ]
  },
  {
   "cell_type": "code",
   "execution_count": 23,
   "metadata": {},
   "outputs": [
    {
     "data": {
      "text/plain": [
       "(23576, 51)"
      ]
     },
     "execution_count": 23,
     "metadata": {},
     "output_type": "execute_result"
    }
   ],
   "source": [
    "imars_vehicle.dropna(subset=['IMARS_Record_No']).shape"
   ]
  },
  {
   "cell_type": "code",
   "execution_count": 24,
   "metadata": {},
   "outputs": [],
   "source": [
    "imars_vehicle = imars_vehicle.dropna(subset=['IMARS_Record_No'])"
   ]
  },
  {
   "cell_type": "code",
   "execution_count": 25,
   "metadata": {},
   "outputs": [
    {
     "data": {
      "text/plain": [
       "(16304, 24)"
      ]
     },
     "execution_count": 25,
     "metadata": {},
     "output_type": "execute_result"
    }
   ],
   "source": [
    "imars_crash_details.shape"
   ]
  },
  {
   "cell_type": "code",
   "execution_count": 26,
   "metadata": {},
   "outputs": [
    {
     "data": {
      "text/plain": [
       "(16303, 24)"
      ]
     },
     "execution_count": 26,
     "metadata": {},
     "output_type": "execute_result"
    }
   ],
   "source": [
    "imars_crash_details.dropna(subset=['IMARS_Record_No']).shape"
   ]
  },
  {
   "cell_type": "code",
   "execution_count": 27,
   "metadata": {},
   "outputs": [],
   "source": [
    "imars_crash_details = imars_crash_details.dropna(subset=['IMARS_Record_No'])"
   ]
  },
  {
   "cell_type": "markdown",
   "metadata": {},
   "source": [
    "### REMOVE DUPLICATE RECORD NUMBERS"
   ]
  },
  {
   "cell_type": "code",
   "execution_count": 28,
   "metadata": {},
   "outputs": [
    {
     "data": {
      "text/plain": [
       "(15130, 32)"
      ]
     },
     "execution_count": 28,
     "metadata": {},
     "output_type": "execute_result"
    }
   ],
   "source": [
    "imars_crash = imars_crash.drop_duplicates(subset=['IMARS_Record_No'])\n",
    "imars_crash.shape"
   ]
  },
  {
   "cell_type": "code",
   "execution_count": 29,
   "metadata": {},
   "outputs": [
    {
     "data": {
      "text/plain": [
       "(15302, 24)"
      ]
     },
     "execution_count": 29,
     "metadata": {},
     "output_type": "execute_result"
    }
   ],
   "source": [
    "imars_crash_details = imars_crash_details.drop_duplicates(subset=['IMARS_Record_No'])\n",
    "imars_crash_details.shape"
   ]
  },
  {
   "cell_type": "code",
   "execution_count": 30,
   "metadata": {},
   "outputs": [],
   "source": [
    "# note that crash and crash details still don't have the same number of entries (although they did with the older archived input data...)"
   ]
  },
  {
   "cell_type": "markdown",
   "metadata": {},
   "source": [
    "### revert flipped lat/long"
   ]
  },
  {
   "cell_type": "code",
   "execution_count": 31,
   "metadata": {},
   "outputs": [],
   "source": [
    "need_revert = imars_crash['Latitude'].abs() > 70\n",
    "imars_crash.loc[need_revert, ['Latitude', 'Longitude']] = (\n",
    "    imars_crash.loc[need_revert, ['Longitude', 'Latitude']].values)\n",
    "#imars_crash.to_csv(\"./test.csv\",index=False)"
   ]
  },
  {
   "cell_type": "markdown",
   "metadata": {},
   "source": [
    "### adjust to correct hemisphere"
   ]
  },
  {
   "cell_type": "code",
   "execution_count": 32,
   "metadata": {},
   "outputs": [],
   "source": [
    "imars_crash.loc[imars_crash.Latitude < 0,\"Latitude\"] = imars_crash['Latitude']*(-1)\n",
    "imars_crash.loc[imars_crash.Longitude > 0,\"Longitude\"] = imars_crash['Longitude']*(-1)\n",
    "#imars_crash.to_csv(\"./test.csv\",index=False)"
   ]
  },
  {
   "cell_type": "markdown",
   "metadata": {},
   "source": [
    "# Add Parks to Crash Details Dataset\n",
    "\n",
    "**Note:** IMARS does not have park units with each crash, so these will have to be added using the Latitude and Longitude fields in the imars_crash dataset. "
   ]
  },
  {
   "cell_type": "code",
   "execution_count": 33,
   "metadata": {},
   "outputs": [
    {
     "data": {
      "text/plain": [
       "(15130, 32)"
      ]
     },
     "execution_count": 33,
     "metadata": {},
     "output_type": "execute_result"
    }
   ],
   "source": [
    "imars_crash.shape"
   ]
  },
  {
   "cell_type": "code",
   "execution_count": 34,
   "metadata": {},
   "outputs": [
    {
     "data": {
      "text/plain": [
       "(12205, 32)"
      ]
     },
     "execution_count": 34,
     "metadata": {},
     "output_type": "execute_result"
    }
   ],
   "source": [
    "imars_crash.dropna(subset=['Park']).shape"
   ]
  },
  {
   "cell_type": "code",
   "execution_count": 35,
   "metadata": {},
   "outputs": [],
   "source": [
    "#imars_crash['Region'].value_counts()"
   ]
  },
  {
   "cell_type": "code",
   "execution_count": 36,
   "metadata": {},
   "outputs": [],
   "source": [
    "#imars_crash.dropna(subset=['Park'])['Region'].value_counts()"
   ]
  },
  {
   "cell_type": "code",
   "execution_count": 37,
   "metadata": {},
   "outputs": [
    {
     "data": {
      "text/plain": [
       "(12205, 32)"
      ]
     },
     "execution_count": 37,
     "metadata": {},
     "output_type": "execute_result"
    }
   ],
   "source": [
    "imars_crash_parks = imars_crash.dropna(subset=['Park'])\n",
    "imars_crash_parks.shape"
   ]
  },
  {
   "cell_type": "code",
   "execution_count": 38,
   "metadata": {},
   "outputs": [
    {
     "data": {
      "text/plain": [
       "(12205, 32)"
      ]
     },
     "execution_count": 38,
     "metadata": {},
     "output_type": "execute_result"
    }
   ],
   "source": [
    "imars_crash.loc[imars_crash['Park'].isnull()==False].shape"
   ]
  },
  {
   "cell_type": "code",
   "execution_count": 39,
   "metadata": {},
   "outputs": [],
   "source": [
    "# 12205 of 15130 crash entries have the park already explicitly identified"
   ]
  },
  {
   "cell_type": "code",
   "execution_count": 40,
   "metadata": {},
   "outputs": [
    {
     "data": {
      "text/plain": [
       "(2925, 32)"
      ]
     },
     "execution_count": 40,
     "metadata": {},
     "output_type": "execute_result"
    }
   ],
   "source": [
    "imars_crash.loc[imars_crash['Park'].isnull()==True].shape"
   ]
  },
  {
   "cell_type": "code",
   "execution_count": 41,
   "metadata": {},
   "outputs": [],
   "source": [
    "# 2925 of the 15130 crash entries have no park identification"
   ]
  },
  {
   "cell_type": "code",
   "execution_count": 42,
   "metadata": {},
   "outputs": [
    {
     "data": {
      "text/plain": [
       "(591, 32)"
      ]
     },
     "execution_count": 42,
     "metadata": {},
     "output_type": "execute_result"
    }
   ],
   "source": [
    "imars_crash_coords = imars_crash.loc[imars_crash['Park'].isnull()==True].dropna(subset=['Latitude','Longitude'])\n",
    "imars_crash_coords.shape"
   ]
  },
  {
   "cell_type": "code",
   "execution_count": 43,
   "metadata": {},
   "outputs": [],
   "source": [
    "# of the 2925 crash entries without park identification, 591 have lat/long coordinates from which park can be assigned using the shapefile"
   ]
  },
  {
   "cell_type": "code",
   "execution_count": 44,
   "metadata": {},
   "outputs": [
    {
     "data": {
      "text/plain": [
       "12796"
      ]
     },
     "execution_count": 44,
     "metadata": {},
     "output_type": "execute_result"
    }
   ],
   "source": [
    "12205+591"
   ]
  },
  {
   "cell_type": "code",
   "execution_count": 45,
   "metadata": {},
   "outputs": [],
   "source": [
    "# the sum of crashes with pre-identified parks and crashes that can be assigned a park results in a total of 12796 possible usable crash entries after the spatial join"
   ]
  },
  {
   "cell_type": "code",
   "execution_count": 46,
   "metadata": {},
   "outputs": [
    {
     "data": {
      "text/plain": [
       "(2334, 32)"
      ]
     },
     "execution_count": 46,
     "metadata": {},
     "output_type": "execute_result"
    }
   ],
   "source": [
    "imars_crash_noparks = imars_crash.loc[imars_crash['Park'].isnull()==True]\n",
    "imars_crash_noparks_nolat = imars_crash_noparks.loc[imars_crash_noparks['Latitude'].isnull()==True]\n",
    "imars_crash_noparks_nocoords = imars_crash_noparks_nolat.loc[imars_crash_noparks_nolat['Longitude'].isnull()==True]\n",
    "imars_crash_noparks_nocoords.shape"
   ]
  },
  {
   "cell_type": "code",
   "execution_count": 47,
   "metadata": {},
   "outputs": [],
   "source": [
    "# 2334 of the 15130 crashes entries have no park identification or lat/long coordinates"
   ]
  },
  {
   "cell_type": "code",
   "execution_count": 48,
   "metadata": {},
   "outputs": [
    {
     "data": {
      "text/plain": [
       "(109, 32)"
      ]
     },
     "execution_count": 48,
     "metadata": {},
     "output_type": "execute_result"
    }
   ],
   "source": [
    "mask = imars_crash_noparks_nocoords.loc[:,['Linked_Common_Name','Linked_Address','NEAR_route_street_road_name','At_Intersecting_route_street_road_name']].notnull()\n",
    "imars_noparks_nocoords_someinfo = imars_crash_noparks_nocoords.loc[mask.any(axis=1)]\n",
    "imars_noparks_nocoords_someinfo.shape"
   ]
  },
  {
   "cell_type": "code",
   "execution_count": 49,
   "metadata": {},
   "outputs": [],
   "source": [
    "# of the 2334 crash entries without park identification or lat/long coordinates, 109 have other identifiable information (e.g., road name)\n",
    "\n",
    "imars_noparks_nocoords_someinfo.to_csv(\"./IMARS_noparks_nocoords_someinfo.csv\",index=False)"
   ]
  },
  {
   "cell_type": "code",
   "execution_count": 50,
   "metadata": {},
   "outputs": [],
   "source": [
    "imars_crash_coords_geo=gpd.GeoDataFrame(imars_crash_coords, geometry=gpd.points_from_xy(imars_crash_coords.Longitude, \n",
    "                                                                             imars_crash_coords.Latitude))"
   ]
  },
  {
   "cell_type": "code",
   "execution_count": 51,
   "metadata": {},
   "outputs": [],
   "source": [
    "filename = \"./shapefiles/NPS_-_Land_Resources_Division_Boundary_and_Tract_Data_Service.geojson\"\n",
    "file = open(filename)\n",
    "parks = gpd.read_file(file)"
   ]
  },
  {
   "cell_type": "code",
   "execution_count": 52,
   "metadata": {},
   "outputs": [],
   "source": [
    "imars_crash_coords_geo.crs = \"EPSG:4326\"\n",
    "#parks.crs = \"EPSG:4326\""
   ]
  },
  {
   "cell_type": "code",
   "execution_count": 53,
   "metadata": {},
   "outputs": [
    {
     "name": "stderr",
     "output_type": "stream",
     "text": [
      "C:\\Users\\Sophie.Kaye\\AppData\\Local\\Temp\\ipykernel_18952\\2756434934.py:5: UserWarning: Geometry is in a geographic CRS. Results from 'buffer' are likely incorrect. Use 'GeoSeries.to_crs()' to re-project geometries to a projected CRS before this operation.\n",
      "\n",
      "  parks['geometry']=parks['geometry'].buffer(0.01)\n"
     ]
    },
    {
     "data": {
      "text/html": [
       "<div>\n",
       "<style scoped>\n",
       "    .dataframe tbody tr th:only-of-type {\n",
       "        vertical-align: middle;\n",
       "    }\n",
       "\n",
       "    .dataframe tbody tr th {\n",
       "        vertical-align: top;\n",
       "    }\n",
       "\n",
       "    .dataframe thead th {\n",
       "        text-align: right;\n",
       "    }\n",
       "</style>\n",
       "<table border=\"1\" class=\"dataframe\">\n",
       "  <thead>\n",
       "    <tr style=\"text-align: right;\">\n",
       "      <th></th>\n",
       "      <th>IMARS_Record_No</th>\n",
       "      <th>Crash_Date_Time</th>\n",
       "      <th>Linked_Address_Classification</th>\n",
       "      <th>City_Town_Park_Location</th>\n",
       "      <th>State</th>\n",
       "      <th>County</th>\n",
       "      <th>Direction</th>\n",
       "      <th>Linked_Street_Number</th>\n",
       "      <th>Linked_Common_Name</th>\n",
       "      <th>Street_Type</th>\n",
       "      <th>...</th>\n",
       "      <th>CREATED_BY</th>\n",
       "      <th>METADATA</th>\n",
       "      <th>PARKNAME</th>\n",
       "      <th>CreationDate</th>\n",
       "      <th>Creator</th>\n",
       "      <th>EditDate</th>\n",
       "      <th>Editor</th>\n",
       "      <th>GlobalID</th>\n",
       "      <th>Shape__Area</th>\n",
       "      <th>Shape__Length</th>\n",
       "    </tr>\n",
       "  </thead>\n",
       "  <tbody>\n",
       "    <tr>\n",
       "      <th>439</th>\n",
       "      <td>NP14039836</td>\n",
       "      <td>20140513 13:30:00:000</td>\n",
       "      <td>NaN</td>\n",
       "      <td>NaN</td>\n",
       "      <td>NaN</td>\n",
       "      <td>NaN</td>\n",
       "      <td>NaN</td>\n",
       "      <td>NaN</td>\n",
       "      <td>NaN</td>\n",
       "      <td>NaN</td>\n",
       "      <td>...</td>\n",
       "      <td>Lands</td>\n",
       "      <td>Preliminary data. Contact the Land Resources P...</td>\n",
       "      <td>Olympic</td>\n",
       "      <td>2020-01-09T22:16:03+00:00</td>\n",
       "      <td>SCarlton@nps.gov_nps</td>\n",
       "      <td>2020-01-09T22:16:03+00:00</td>\n",
       "      <td>SCarlton@nps.gov_nps</td>\n",
       "      <td>d568927b-56f4-4f49-a52a-b8ab9f7676a3</td>\n",
       "      <td>8.203591e+09</td>\n",
       "      <td>1.158605e+06</td>\n",
       "    </tr>\n",
       "    <tr>\n",
       "      <th>443</th>\n",
       "      <td>NP14049772</td>\n",
       "      <td>20140607 14:42:00:000</td>\n",
       "      <td>NaN</td>\n",
       "      <td>NaN</td>\n",
       "      <td>NaN</td>\n",
       "      <td>NaN</td>\n",
       "      <td>NaN</td>\n",
       "      <td>NaN</td>\n",
       "      <td>NaN</td>\n",
       "      <td>NaN</td>\n",
       "      <td>...</td>\n",
       "      <td>Lands</td>\n",
       "      <td>Preliminary data. Contact the Land Resources P...</td>\n",
       "      <td>Olympic</td>\n",
       "      <td>2020-01-09T22:16:03+00:00</td>\n",
       "      <td>SCarlton@nps.gov_nps</td>\n",
       "      <td>2020-01-09T22:16:03+00:00</td>\n",
       "      <td>SCarlton@nps.gov_nps</td>\n",
       "      <td>d568927b-56f4-4f49-a52a-b8ab9f7676a3</td>\n",
       "      <td>8.203591e+09</td>\n",
       "      <td>1.158605e+06</td>\n",
       "    </tr>\n",
       "    <tr>\n",
       "      <th>444</th>\n",
       "      <td>NP14060606</td>\n",
       "      <td>20140625 20:40:00:000</td>\n",
       "      <td>NaN</td>\n",
       "      <td>NaN</td>\n",
       "      <td>NaN</td>\n",
       "      <td>NaN</td>\n",
       "      <td>NaN</td>\n",
       "      <td>NaN</td>\n",
       "      <td>NaN</td>\n",
       "      <td>NaN</td>\n",
       "      <td>...</td>\n",
       "      <td>Lands</td>\n",
       "      <td>Preliminary data. Contact the Land Resources P...</td>\n",
       "      <td>Olympic</td>\n",
       "      <td>2020-01-09T22:16:03+00:00</td>\n",
       "      <td>SCarlton@nps.gov_nps</td>\n",
       "      <td>2020-01-09T22:16:03+00:00</td>\n",
       "      <td>SCarlton@nps.gov_nps</td>\n",
       "      <td>d568927b-56f4-4f49-a52a-b8ab9f7676a3</td>\n",
       "      <td>8.203591e+09</td>\n",
       "      <td>1.158605e+06</td>\n",
       "    </tr>\n",
       "    <tr>\n",
       "      <th>497</th>\n",
       "      <td>NP16023660</td>\n",
       "      <td>20160312 16:32:00:000</td>\n",
       "      <td>NaN</td>\n",
       "      <td>NaN</td>\n",
       "      <td>NaN</td>\n",
       "      <td>NaN</td>\n",
       "      <td>NaN</td>\n",
       "      <td>NaN</td>\n",
       "      <td>NaN</td>\n",
       "      <td>NaN</td>\n",
       "      <td>...</td>\n",
       "      <td>Lands</td>\n",
       "      <td>https://irma.nps.gov/DataStore/Reference/Profi...</td>\n",
       "      <td>Big Bend</td>\n",
       "      <td>2022-01-06T10:41:22+00:00</td>\n",
       "      <td>WASO</td>\n",
       "      <td>2022-01-06T10:41:22+00:00</td>\n",
       "      <td>WASO</td>\n",
       "      <td>32b17c0c-12d0-4ffb-82fd-fb570aa92382</td>\n",
       "      <td>4.329894e+09</td>\n",
       "      <td>4.621458e+05</td>\n",
       "    </tr>\n",
       "    <tr>\n",
       "      <th>508</th>\n",
       "      <td>NP16029926</td>\n",
       "      <td>20160326 20:00:00:000</td>\n",
       "      <td>NaN</td>\n",
       "      <td>NaN</td>\n",
       "      <td>NaN</td>\n",
       "      <td>NaN</td>\n",
       "      <td>NaN</td>\n",
       "      <td>NaN</td>\n",
       "      <td>NaN</td>\n",
       "      <td>NaN</td>\n",
       "      <td>...</td>\n",
       "      <td>Lands</td>\n",
       "      <td>https://irma.nps.gov/DataStore/Reference/Profi...</td>\n",
       "      <td>Blue Ridge Parkway</td>\n",
       "      <td>2022-01-06T10:41:13+00:00</td>\n",
       "      <td>WASO</td>\n",
       "      <td>2022-01-06T10:41:13+00:00</td>\n",
       "      <td>WASO</td>\n",
       "      <td>a8ef8bcf-aaa2-4623-a8f6-1d93fe31f945</td>\n",
       "      <td>6.422579e+08</td>\n",
       "      <td>2.287707e+06</td>\n",
       "    </tr>\n",
       "  </tbody>\n",
       "</table>\n",
       "<p>5 rows × 53 columns</p>\n",
       "</div>"
      ],
      "text/plain": [
       "    IMARS_Record_No        Crash_Date_Time Linked_Address_Classification  \\\n",
       "439      NP14039836  20140513 13:30:00:000                           NaN   \n",
       "443      NP14049772  20140607 14:42:00:000                           NaN   \n",
       "444      NP14060606  20140625 20:40:00:000                           NaN   \n",
       "497      NP16023660  20160312 16:32:00:000                           NaN   \n",
       "508      NP16029926  20160326 20:00:00:000                           NaN   \n",
       "\n",
       "    City_Town_Park_Location State County Direction  Linked_Street_Number  \\\n",
       "439                     NaN   NaN    NaN       NaN                   NaN   \n",
       "443                     NaN   NaN    NaN       NaN                   NaN   \n",
       "444                     NaN   NaN    NaN       NaN                   NaN   \n",
       "497                     NaN   NaN    NaN       NaN                   NaN   \n",
       "508                     NaN   NaN    NaN       NaN                   NaN   \n",
       "\n",
       "    Linked_Common_Name Street_Type  ...  CREATED_BY  \\\n",
       "439                NaN         NaN  ...       Lands   \n",
       "443                NaN         NaN  ...       Lands   \n",
       "444                NaN         NaN  ...       Lands   \n",
       "497                NaN         NaN  ...       Lands   \n",
       "508                NaN         NaN  ...       Lands   \n",
       "\n",
       "                                              METADATA            PARKNAME  \\\n",
       "439  Preliminary data. Contact the Land Resources P...             Olympic   \n",
       "443  Preliminary data. Contact the Land Resources P...             Olympic   \n",
       "444  Preliminary data. Contact the Land Resources P...             Olympic   \n",
       "497  https://irma.nps.gov/DataStore/Reference/Profi...            Big Bend   \n",
       "508  https://irma.nps.gov/DataStore/Reference/Profi...  Blue Ridge Parkway   \n",
       "\n",
       "                  CreationDate               Creator  \\\n",
       "439  2020-01-09T22:16:03+00:00  SCarlton@nps.gov_nps   \n",
       "443  2020-01-09T22:16:03+00:00  SCarlton@nps.gov_nps   \n",
       "444  2020-01-09T22:16:03+00:00  SCarlton@nps.gov_nps   \n",
       "497  2022-01-06T10:41:22+00:00                  WASO   \n",
       "508  2022-01-06T10:41:13+00:00                  WASO   \n",
       "\n",
       "                      EditDate                Editor  \\\n",
       "439  2020-01-09T22:16:03+00:00  SCarlton@nps.gov_nps   \n",
       "443  2020-01-09T22:16:03+00:00  SCarlton@nps.gov_nps   \n",
       "444  2020-01-09T22:16:03+00:00  SCarlton@nps.gov_nps   \n",
       "497  2022-01-06T10:41:22+00:00                  WASO   \n",
       "508  2022-01-06T10:41:13+00:00                  WASO   \n",
       "\n",
       "                                 GlobalID   Shape__Area Shape__Length  \n",
       "439  d568927b-56f4-4f49-a52a-b8ab9f7676a3  8.203591e+09  1.158605e+06  \n",
       "443  d568927b-56f4-4f49-a52a-b8ab9f7676a3  8.203591e+09  1.158605e+06  \n",
       "444  d568927b-56f4-4f49-a52a-b8ab9f7676a3  8.203591e+09  1.158605e+06  \n",
       "497  32b17c0c-12d0-4ffb-82fd-fb570aa92382  4.329894e+09  4.621458e+05  \n",
       "508  a8ef8bcf-aaa2-4623-a8f6-1d93fe31f945  6.422579e+08  2.287707e+06  \n",
       "\n",
       "[5 rows x 53 columns]"
      ]
     },
     "execution_count": 53,
     "metadata": {},
     "output_type": "execute_result"
    }
   ],
   "source": [
    "#parks = parks.set_crs(\"EPSG:4326\")\n",
    "#parks = parks.set_crs(epsg=4326)\n",
    "#parks = parks.to_crs(\"EPSG:4326\")\n",
    "parks = parks.to_crs(epsg=4326)\n",
    "parks['geometry']=parks['geometry'].buffer(0.01)\n",
    "\n",
    "imars_crash_coords_geo_withparknames=gpd.sjoin(imars_crash_coords_geo,parks,how=\"left\", predicate='intersects')\n",
    "imars_crash_coords_geo_withparknames.head()"
   ]
  },
  {
   "cell_type": "code",
   "execution_count": 54,
   "metadata": {},
   "outputs": [
    {
     "data": {
      "text/plain": [
       "(591, 53)"
      ]
     },
     "execution_count": 54,
     "metadata": {},
     "output_type": "execute_result"
    }
   ],
   "source": [
    "imars_crash_coords_geo_withparknames2 = imars_crash_coords_geo_withparknames.drop_duplicates(subset=['IMARS_Record_No'])\n",
    "imars_crash_coords_geo_withparknames2.shape"
   ]
  },
  {
   "cell_type": "code",
   "execution_count": 55,
   "metadata": {},
   "outputs": [],
   "source": [
    "# all 591 crash entries were processed in the spatial join"
   ]
  },
  {
   "cell_type": "code",
   "execution_count": 56,
   "metadata": {},
   "outputs": [
    {
     "data": {
      "text/plain": [
       "(591, 52)"
      ]
     },
     "execution_count": 56,
     "metadata": {},
     "output_type": "execute_result"
    }
   ],
   "source": [
    "imars_crash_withparknames = pd.DataFrame(imars_crash_coords_geo_withparknames2.drop(columns='geometry'))\n",
    "imars_crash_withparknames['Park']= imars_crash_withparknames['UNIT_CODE']\n",
    "imars_crash_withparknames.shape"
   ]
  },
  {
   "cell_type": "code",
   "execution_count": 57,
   "metadata": {},
   "outputs": [
    {
     "data": {
      "text/plain": [
       "(505, 52)"
      ]
     },
     "execution_count": 57,
     "metadata": {},
     "output_type": "execute_result"
    }
   ],
   "source": [
    "imars_crash_withparknames_NoDupsorNulls = imars_crash_withparknames.dropna(subset=['Park'])\n",
    "imars_crash_withparknames_NoDupsorNulls.shape"
   ]
  },
  {
   "cell_type": "code",
   "execution_count": 58,
   "metadata": {},
   "outputs": [
    {
     "data": {
      "text/plain": [
       "12710"
      ]
     },
     "execution_count": 58,
     "metadata": {},
     "output_type": "execute_result"
    }
   ],
   "source": [
    "# of the 591 crash entries without parks identified, 505 now have parks assigned from spatial join\n",
    "# so we expect the total (\"expanded\") dataset to be:\n",
    "12205+505"
   ]
  },
  {
   "cell_type": "code",
   "execution_count": 116,
   "metadata": {},
   "outputs": [
    {
     "data": {
      "text/plain": [
       "(12710, 52)"
      ]
     },
     "execution_count": 116,
     "metadata": {},
     "output_type": "execute_result"
    }
   ],
   "source": [
    "imars_crash_expanded = pd.concat([imars_crash_parks,imars_crash_withparknames_NoDupsorNulls])\n",
    "imars_crash_expanded.shape"
   ]
  },
  {
   "cell_type": "code",
   "execution_count": 117,
   "metadata": {},
   "outputs": [
    {
     "data": {
      "text/plain": [
       "(12710, 52)"
      ]
     },
     "execution_count": 117,
     "metadata": {},
     "output_type": "execute_result"
    }
   ],
   "source": [
    "# check to make sure all entries in combined dataset contain park assignments \n",
    "imars_crash_expanded = imars_crash_expanded.dropna(subset=['Park'])\n",
    "imars_crash_expanded.shape"
   ]
  },
  {
   "cell_type": "code",
   "execution_count": 118,
   "metadata": {},
   "outputs": [
    {
     "data": {
      "text/plain": [
       "(12710, 52)"
      ]
     },
     "execution_count": 118,
     "metadata": {},
     "output_type": "execute_result"
    }
   ],
   "source": [
    "# check to make sure no duplicate crashes in combined dataset\n",
    "imars_crash_expanded = imars_crash_expanded.drop_duplicates(subset=['IMARS_Record_No'])\n",
    "imars_crash_expanded.shape"
   ]
  },
  {
   "cell_type": "code",
   "execution_count": 119,
   "metadata": {},
   "outputs": [
    {
     "data": {
      "text/plain": [
       "Index(['IMARS_Record_No', 'Crash_Date_Time', 'Linked_Address_Classification',\n",
       "       'City_Town_Park_Location', 'State', 'County', 'Direction',\n",
       "       'Linked_Street_Number', 'Linked_Common_Name', 'Street_Type',\n",
       "       'Direction.1', 'NEAR_Distance_to_MI', 'NEAR_Direction_To',\n",
       "       'NEAR_Direction', 'NEAR_route_street_road_name', 'NEAR_Road_Type',\n",
       "       'NEAR_Direction.1', 'AT_Intersection_route_street_road_DIRECTION',\n",
       "       'At_Intersecting_route_street_road_name', 'AT_Road_Type',\n",
       "       'AT_Direction', 'Mile_Marker', 'Latitude', 'Longitude', 'Region',\n",
       "       'State_Zone', 'Park', 'Site', 'Place', 'Point',\n",
       "       'Road_Type_Classification', 'Linked_Address'],\n",
       "      dtype='object')"
      ]
     },
     "execution_count": 119,
     "metadata": {},
     "output_type": "execute_result"
    }
   ],
   "source": [
    "# open file Chris populated in which park names were manually added to crash data containing identifiable info (e.g., road name)\n",
    "imars_new_parknames = pd.read_csv(\"./IMARS/IMARS_noparks_nocoords_someinfo_parks_filled.csv\")\n",
    "imars_new_parknames.columns"
   ]
  },
  {
   "cell_type": "code",
   "execution_count": 120,
   "metadata": {},
   "outputs": [
    {
     "data": {
      "text/plain": [
       "(80, 32)"
      ]
     },
     "execution_count": 120,
     "metadata": {},
     "output_type": "execute_result"
    }
   ],
   "source": [
    "# remove any entries for which park names were not able to be identified\n",
    "imars_new_parknames = imars_new_parknames.dropna(subset=['Park'])\n",
    "imars_new_parknames.shape"
   ]
  },
  {
   "cell_type": "code",
   "execution_count": 121,
   "metadata": {},
   "outputs": [],
   "source": [
    "# 80 of 109 crashes were able to have park names manually added using road names and\n",
    "# should be combined with crash data containing park names from original data and spatial assignment\n",
    "# for a total of 12790 crashes in the final dataset"
   ]
  },
  {
   "cell_type": "code",
   "execution_count": 122,
   "metadata": {},
   "outputs": [
    {
     "data": {
      "text/plain": [
       "(12790, 52)"
      ]
     },
     "execution_count": 122,
     "metadata": {},
     "output_type": "execute_result"
    }
   ],
   "source": [
    "imars_crash_expanded = pd.concat([imars_crash_expanded,imars_new_parknames])\n",
    "imars_crash_expanded.shape"
   ]
  },
  {
   "cell_type": "code",
   "execution_count": 123,
   "metadata": {},
   "outputs": [
    {
     "data": {
      "text/plain": [
       "(12790, 52)"
      ]
     },
     "execution_count": 123,
     "metadata": {},
     "output_type": "execute_result"
    }
   ],
   "source": [
    "# check to make sure there are no duplicates in final dataset\n",
    "imars_crash_expanded = imars_crash_expanded.drop_duplicates(subset=['IMARS_Record_No'])\n",
    "imars_crash_expanded.shape"
   ]
  },
  {
   "cell_type": "markdown",
   "metadata": {},
   "source": [
    "## Add Region\n",
    "imars_crash database currently contains two columns with region information, although neither one is fully populated. This section will create and populate a new column re-assigning region name to every crash based on park name using a lookup table"
   ]
  },
  {
   "cell_type": "code",
   "execution_count": 124,
   "metadata": {},
   "outputs": [
    {
     "data": {
      "text/plain": [
       "Index(['OBJECTID', 'Park', 'GIS_Notes', 'UNIT_NAME', 'DATE_EDIT', 'STATE',\n",
       "       'RGN', 'GNIS_ID', 'UNIT_TYPE', 'CREATED_BY', 'METADATA', 'PARKNAME',\n",
       "       'CreationDa', 'Creator', 'EditDate', 'Editor', 'Shape__Are',\n",
       "       'Shape__Len', 'Unnamed: 18'],\n",
       "      dtype='object')"
      ]
     },
     "execution_count": 124,
     "metadata": {},
     "output_type": "execute_result"
    }
   ],
   "source": [
    "# load lookup table\n",
    "park_info = pd.read_csv(\"./crash database mapping/Park_Info_Table.csv\")\n",
    "park_info = park_info.rename(columns={'UNIT_CODE':'Park','REGION':'RGN'})\n",
    "park_info.columns"
   ]
  },
  {
   "cell_type": "code",
   "execution_count": 125,
   "metadata": {},
   "outputs": [
    {
     "data": {
      "text/plain": [
       "Index(['IMARS_Record_No', 'Crash_Date_Time', 'Linked_Address_Classification',\n",
       "       'City_Town_Park_Location', 'State', 'County', 'Direction',\n",
       "       'Linked_Street_Number', 'Linked_Common_Name', 'Street_Type',\n",
       "       'Direction.1', 'NEAR_Distance_to_MI', 'NEAR_Direction_To',\n",
       "       'NEAR_Direction', 'NEAR_route_street_road_name', 'NEAR_Road_Type',\n",
       "       'NEAR_Direction.1', 'AT_Intersection_route_street_road_DIRECTION',\n",
       "       'At_Intersecting_route_street_road_name', 'AT_Road_Type',\n",
       "       'AT_Direction', 'Mile_Marker', 'Latitude', 'Longitude', 'Region',\n",
       "       'State_Zone', 'Park', 'Site', 'Place', 'Point',\n",
       "       'Road_Type_Classification', 'Linked_Address', 'index_right', 'OBJECTID',\n",
       "       'UNIT_CODE', 'GIS_Notes', 'UNIT_NAME', 'DATE_EDIT', 'STATE', 'REGION',\n",
       "       'GNIS_ID', 'UNIT_TYPE', 'CREATED_BY', 'METADATA', 'PARKNAME',\n",
       "       'CreationDate', 'Creator', 'EditDate', 'Editor', 'GlobalID',\n",
       "       'Shape__Area', 'Shape__Length'],\n",
       "      dtype='object')"
      ]
     },
     "execution_count": 125,
     "metadata": {},
     "output_type": "execute_result"
    }
   ],
   "source": [
    "imars_crash_expanded.columns"
   ]
  },
  {
   "cell_type": "code",
   "execution_count": 126,
   "metadata": {},
   "outputs": [
    {
     "data": {
      "text/plain": [
       "(12790, 53)"
      ]
     },
     "execution_count": 126,
     "metadata": {},
     "output_type": "execute_result"
    }
   ],
   "source": [
    "# add RGN column from lookup table to IMARS crash database, joining the two datasets based on park name\n",
    "imars_crash_expanded = pd.merge(imars_crash_expanded, park_info[['RGN','Park']], how='left', on='Park')\n",
    "# resulting dataframe after join should have one additional column and no additional rows\n",
    "imars_crash_expanded = imars_crash_expanded.drop_duplicates() \n",
    "imars_crash_expanded.shape"
   ]
  },
  {
   "cell_type": "code",
   "execution_count": 128,
   "metadata": {},
   "outputs": [],
   "source": [
    "#no_region = imars_crash_expanded.loc[imars_crash_expanded['RGN'].isnull()==True]\n",
    "#no_region['Park'].value_counts()"
   ]
  },
  {
   "cell_type": "code",
   "execution_count": 129,
   "metadata": {},
   "outputs": [
    {
     "data": {
      "text/plain": [
       "(0, 53)"
      ]
     },
     "execution_count": 129,
     "metadata": {},
     "output_type": "execute_result"
    }
   ],
   "source": [
    "imars_crash_expanded.loc[imars_crash_expanded['RGN'].isnull()==True].shape"
   ]
  },
  {
   "cell_type": "code",
   "execution_count": 135,
   "metadata": {},
   "outputs": [
    {
     "data": {
      "text/plain": [
       "SER        3541\n",
       "PWR        2656\n",
       "IMR        2642\n",
       "NCR        2274\n",
       "NER        1206\n",
       "MWR         372\n",
       "AKR          80\n",
       "Unknown      19\n",
       "Name: RGN, dtype: int64"
      ]
     },
     "execution_count": 135,
     "metadata": {},
     "output_type": "execute_result"
    }
   ],
   "source": [
    "imars_crash_expanded['RGN'].value_counts()\n",
    "## NOTE: CRASH TABLE MANUALLY EDITED POST-HOC TO FILL IN REGION NAMES FOR 19 \"Unknowns\" BASED ON LAT/LONG"
   ]
  },
  {
   "cell_type": "markdown",
   "metadata": {},
   "source": [
    "# Step 2: Filter for Necessary Fields, Group by IMARS_RECORD_NO"
   ]
  },
  {
   "cell_type": "markdown",
   "metadata": {},
   "source": [
    "#### Creating New Columns for Injury Severity\n",
    "\n",
    "- Requires passenger dataset"
   ]
  },
  {
   "cell_type": "code",
   "execution_count": 109,
   "metadata": {},
   "outputs": [
    {
     "data": {
      "text/plain": [
       "Index(['IMARS_Record_No', 'Crash_Date_Time', 'Driver_Action',\n",
       "       'Driver_Condition', 'Driver_Distraction', 'Suspect_Alcohol',\n",
       "       'Alcohol_Test', 'Alcohol_Test_Result_1', 'Alcohol_Test_Result_2',\n",
       "       'Suspect_Drugs', 'Drug_Test', 'Violations_Issued', 'Seat_Position',\n",
       "       'Injury_Severity', 'Air_Bag_Deployed', 'Ejection',\n",
       "       'Injury_Transported_By', 'Safety_Equipment_Used', 'Vehicle_number',\n",
       "       'Injured_transported_by', 'Non_motorist_safety_equipment',\n",
       "       'Non_motorist_action_circumstance_prior_to_crash',\n",
       "       'Non_motorist_action_circumstance_at_time_of_crash',\n",
       "       'Non_motorist_condition_at_time_of_crash', 'Non_motorist_distraction',\n",
       "       'Non_motorist_location_at_time_of_crash', 'Pedestrian_Type',\n",
       "       'Pedestrian_Type_Detail', 'Involvement', 'NUM_OCC', 'INCID_NO'],\n",
       "      dtype='object')"
      ]
     },
     "execution_count": 109,
     "metadata": {},
     "output_type": "execute_result"
    }
   ],
   "source": [
    "imars_passenger.columns"
   ]
  },
  {
   "cell_type": "code",
   "execution_count": 110,
   "metadata": {},
   "outputs": [],
   "source": [
    "imars_passenger['NUM_OCC'] = 1\n",
    "imars_passenger['INCID_NO'] = imars_passenger['IMARS_Record_No']"
   ]
  },
  {
   "cell_type": "code",
   "execution_count": 111,
   "metadata": {},
   "outputs": [
    {
     "data": {
      "text/html": [
       "<div>\n",
       "<style scoped>\n",
       "    .dataframe tbody tr th:only-of-type {\n",
       "        vertical-align: middle;\n",
       "    }\n",
       "\n",
       "    .dataframe tbody tr th {\n",
       "        vertical-align: top;\n",
       "    }\n",
       "\n",
       "    .dataframe thead th {\n",
       "        text-align: right;\n",
       "    }\n",
       "</style>\n",
       "<table border=\"1\" class=\"dataframe\">\n",
       "  <thead>\n",
       "    <tr style=\"text-align: right;\">\n",
       "      <th></th>\n",
       "      <th>IMARS_Record_No</th>\n",
       "      <th>Crash_Date_Time</th>\n",
       "      <th>Driver_Action</th>\n",
       "      <th>Driver_Condition</th>\n",
       "      <th>Driver_Distraction</th>\n",
       "      <th>Suspect_Alcohol</th>\n",
       "      <th>Alcohol_Test</th>\n",
       "      <th>Alcohol_Test_Result_1</th>\n",
       "      <th>Alcohol_Test_Result_2</th>\n",
       "      <th>Suspect_Drugs</th>\n",
       "      <th>...</th>\n",
       "      <th>Non_motorist_action_circumstance_prior_to_crash</th>\n",
       "      <th>Non_motorist_action_circumstance_at_time_of_crash</th>\n",
       "      <th>Non_motorist_condition_at_time_of_crash</th>\n",
       "      <th>Non_motorist_distraction</th>\n",
       "      <th>Non_motorist_location_at_time_of_crash</th>\n",
       "      <th>Pedestrian_Type</th>\n",
       "      <th>Pedestrian_Type_Detail</th>\n",
       "      <th>Involvement</th>\n",
       "      <th>NUM_OCC</th>\n",
       "      <th>INCID_NO</th>\n",
       "    </tr>\n",
       "  </thead>\n",
       "  <tbody>\n",
       "    <tr>\n",
       "      <th>0</th>\n",
       "      <td>NP12000078</td>\n",
       "      <td>20120106 14:30:00:000</td>\n",
       "      <td>NaN</td>\n",
       "      <td>NaN</td>\n",
       "      <td>NaN</td>\n",
       "      <td>NaN</td>\n",
       "      <td>NaN</td>\n",
       "      <td>NaN</td>\n",
       "      <td>NaN</td>\n",
       "      <td>NaN</td>\n",
       "      <td>...</td>\n",
       "      <td>NaN</td>\n",
       "      <td>NaN</td>\n",
       "      <td>NaN</td>\n",
       "      <td>NaN</td>\n",
       "      <td>NaN</td>\n",
       "      <td>NaN</td>\n",
       "      <td>NaN</td>\n",
       "      <td>NaN</td>\n",
       "      <td>1</td>\n",
       "      <td>NP12000078</td>\n",
       "    </tr>\n",
       "    <tr>\n",
       "      <th>1</th>\n",
       "      <td>NP12000378</td>\n",
       "      <td>20120121 00:00:00:000</td>\n",
       "      <td>NaN</td>\n",
       "      <td>NaN</td>\n",
       "      <td>NaN</td>\n",
       "      <td>NaN</td>\n",
       "      <td>NaN</td>\n",
       "      <td>NaN</td>\n",
       "      <td>NaN</td>\n",
       "      <td>NaN</td>\n",
       "      <td>...</td>\n",
       "      <td>NaN</td>\n",
       "      <td>NaN</td>\n",
       "      <td>NaN</td>\n",
       "      <td>NaN</td>\n",
       "      <td>NaN</td>\n",
       "      <td>NaN</td>\n",
       "      <td>NaN</td>\n",
       "      <td>NaN</td>\n",
       "      <td>1</td>\n",
       "      <td>NP12000378</td>\n",
       "    </tr>\n",
       "    <tr>\n",
       "      <th>2</th>\n",
       "      <td>NP12000550</td>\n",
       "      <td>20120131 13:51:00:000</td>\n",
       "      <td>NaN</td>\n",
       "      <td>NaN</td>\n",
       "      <td>NaN</td>\n",
       "      <td>NaN</td>\n",
       "      <td>NaN</td>\n",
       "      <td>NaN</td>\n",
       "      <td>NaN</td>\n",
       "      <td>NaN</td>\n",
       "      <td>...</td>\n",
       "      <td>NaN</td>\n",
       "      <td>NaN</td>\n",
       "      <td>NaN</td>\n",
       "      <td>NaN</td>\n",
       "      <td>NaN</td>\n",
       "      <td>NaN</td>\n",
       "      <td>NaN</td>\n",
       "      <td>NaN</td>\n",
       "      <td>1</td>\n",
       "      <td>NP12000550</td>\n",
       "    </tr>\n",
       "    <tr>\n",
       "      <th>3</th>\n",
       "      <td>NP12000911</td>\n",
       "      <td>20120208 00:00:00:000</td>\n",
       "      <td>NaN</td>\n",
       "      <td>NaN</td>\n",
       "      <td>NaN</td>\n",
       "      <td>NaN</td>\n",
       "      <td>NaN</td>\n",
       "      <td>NaN</td>\n",
       "      <td>NaN</td>\n",
       "      <td>NaN</td>\n",
       "      <td>...</td>\n",
       "      <td>NaN</td>\n",
       "      <td>NaN</td>\n",
       "      <td>NaN</td>\n",
       "      <td>NaN</td>\n",
       "      <td>NaN</td>\n",
       "      <td>NaN</td>\n",
       "      <td>NaN</td>\n",
       "      <td>NaN</td>\n",
       "      <td>1</td>\n",
       "      <td>NP12000911</td>\n",
       "    </tr>\n",
       "    <tr>\n",
       "      <th>4</th>\n",
       "      <td>NP12000935</td>\n",
       "      <td>20120215 10:15:00:000</td>\n",
       "      <td>NaN</td>\n",
       "      <td>NaN</td>\n",
       "      <td>NaN</td>\n",
       "      <td>NaN</td>\n",
       "      <td>NaN</td>\n",
       "      <td>NaN</td>\n",
       "      <td>NaN</td>\n",
       "      <td>NaN</td>\n",
       "      <td>...</td>\n",
       "      <td>NaN</td>\n",
       "      <td>NaN</td>\n",
       "      <td>NaN</td>\n",
       "      <td>NaN</td>\n",
       "      <td>NaN</td>\n",
       "      <td>NaN</td>\n",
       "      <td>NaN</td>\n",
       "      <td>NaN</td>\n",
       "      <td>1</td>\n",
       "      <td>NP12000935</td>\n",
       "    </tr>\n",
       "  </tbody>\n",
       "</table>\n",
       "<p>5 rows × 31 columns</p>\n",
       "</div>"
      ],
      "text/plain": [
       "  IMARS_Record_No        Crash_Date_Time Driver_Action Driver_Condition  \\\n",
       "0      NP12000078  20120106 14:30:00:000           NaN              NaN   \n",
       "1      NP12000378  20120121 00:00:00:000           NaN              NaN   \n",
       "2      NP12000550  20120131 13:51:00:000           NaN              NaN   \n",
       "3      NP12000911  20120208 00:00:00:000           NaN              NaN   \n",
       "4      NP12000935  20120215 10:15:00:000           NaN              NaN   \n",
       "\n",
       "  Driver_Distraction Suspect_Alcohol Alcohol_Test  Alcohol_Test_Result_1  \\\n",
       "0                NaN             NaN          NaN                    NaN   \n",
       "1                NaN             NaN          NaN                    NaN   \n",
       "2                NaN             NaN          NaN                    NaN   \n",
       "3                NaN             NaN          NaN                    NaN   \n",
       "4                NaN             NaN          NaN                    NaN   \n",
       "\n",
       "   Alcohol_Test_Result_2 Suspect_Drugs  ...  \\\n",
       "0                    NaN           NaN  ...   \n",
       "1                    NaN           NaN  ...   \n",
       "2                    NaN           NaN  ...   \n",
       "3                    NaN           NaN  ...   \n",
       "4                    NaN           NaN  ...   \n",
       "\n",
       "  Non_motorist_action_circumstance_prior_to_crash  \\\n",
       "0                                             NaN   \n",
       "1                                             NaN   \n",
       "2                                             NaN   \n",
       "3                                             NaN   \n",
       "4                                             NaN   \n",
       "\n",
       "  Non_motorist_action_circumstance_at_time_of_crash  \\\n",
       "0                                               NaN   \n",
       "1                                               NaN   \n",
       "2                                               NaN   \n",
       "3                                               NaN   \n",
       "4                                               NaN   \n",
       "\n",
       "  Non_motorist_condition_at_time_of_crash Non_motorist_distraction  \\\n",
       "0                                     NaN                      NaN   \n",
       "1                                     NaN                      NaN   \n",
       "2                                     NaN                      NaN   \n",
       "3                                     NaN                      NaN   \n",
       "4                                     NaN                      NaN   \n",
       "\n",
       "  Non_motorist_location_at_time_of_crash Pedestrian_Type  \\\n",
       "0                                    NaN             NaN   \n",
       "1                                    NaN             NaN   \n",
       "2                                    NaN             NaN   \n",
       "3                                    NaN             NaN   \n",
       "4                                    NaN             NaN   \n",
       "\n",
       "  Pedestrian_Type_Detail Involvement  NUM_OCC    INCID_NO  \n",
       "0                    NaN         NaN        1  NP12000078  \n",
       "1                    NaN         NaN        1  NP12000378  \n",
       "2                    NaN         NaN        1  NP12000550  \n",
       "3                    NaN         NaN        1  NP12000911  \n",
       "4                    NaN         NaN        1  NP12000935  \n",
       "\n",
       "[5 rows x 31 columns]"
      ]
     },
     "execution_count": 111,
     "metadata": {},
     "output_type": "execute_result"
    }
   ],
   "source": [
    "imars_passenger.head()"
   ]
  },
  {
   "cell_type": "code",
   "execution_count": 112,
   "metadata": {},
   "outputs": [],
   "source": [
    "#imars_passenger_slim = imars_passenger[[\n",
    " #   'INCID_NO', 'NUM_OCC', 'Crash_Date_Time','Injury_Severity'\n",
    "#]]"
   ]
  },
  {
   "cell_type": "code",
   "execution_count": 113,
   "metadata": {},
   "outputs": [],
   "source": [
    "#imars_passenger_slim.head()"
   ]
  },
  {
   "cell_type": "code",
   "execution_count": 114,
   "metadata": {},
   "outputs": [],
   "source": [
    "#imars_passenger_slim['No Injury']= np.where(imars_passenger_slim['Injury_Severity']=='01. No injury', 1,0)\n",
    "#imars_passenger_slim['Possible Injury']= np.where(imars_passenger_slim['Injury_Severity']=='02. Possible injury', 1,0)\n",
    "#imars_passenger_slim['Non-incapacitating Injury']= np.where(imars_passenger_slim['Injury_Severity']=='03. Non-incapacitating injury', 1,0)\n",
    "#imars_passenger_slim['Incapacitating Injury']= np.where(imars_passenger_slim['Injury_Severity']=='04. Incapacitating injury', 1,0)\n",
    "#imars_passenger_slim['Fatality']= np.where(imars_passenger_slim['Injury_Severity']=='05. Fatal', 1,0)\n",
    "#imars_passenger_slim['Unknown Injury']= np.where(imars_passenger_slim['Injury_Severity']=='99. Unknown', 1,0)"
   ]
  },
  {
   "cell_type": "code",
   "execution_count": 115,
   "metadata": {
    "scrolled": true
   },
   "outputs": [],
   "source": [
    "#imars_passenger_slim.Fatality.sum()"
   ]
  },
  {
   "cell_type": "code",
   "execution_count": 116,
   "metadata": {},
   "outputs": [],
   "source": [
    "#imars_passenger_slim_agg = imars_passenger_slim.groupby(by=['INCID_NO']).sum()\n",
    "#imars_slim_agg = imars_slim_agg.drop(columns = ['ACCLASS','DINJ', 'PINJ'])\n",
    "#imars_passenger_slim_agg = imars_passenger_slim_agg.reset_index()"
   ]
  },
  {
   "cell_type": "code",
   "execution_count": 117,
   "metadata": {},
   "outputs": [],
   "source": [
    "#imars_passenger_slim_agg.shape"
   ]
  },
  {
   "cell_type": "code",
   "execution_count": 118,
   "metadata": {},
   "outputs": [],
   "source": [
    "#imars_passenger_slim_agg.Fatality.sum()"
   ]
  },
  {
   "cell_type": "markdown",
   "metadata": {},
   "source": [
    "#### Creating New Columns for Accident Class"
   ]
  },
  {
   "cell_type": "code",
   "execution_count": 119,
   "metadata": {},
   "outputs": [],
   "source": [
    "imars_crash_details['INCID_NO'] = imars_crash_details['IMARS_Record_No']\n",
    "\n",
    "#imars_crash_details_slim = imars_crash_details[[\n",
    " #   'INCID_NO', 'First_Harmful_Event_Type','First_Harmful_Event'\n",
    "#]]"
   ]
  },
  {
   "cell_type": "code",
   "execution_count": 120,
   "metadata": {},
   "outputs": [],
   "source": [
    "#imars_crash_details_slim.First_Harmful_Event_Type.value_counts()"
   ]
  },
  {
   "cell_type": "code",
   "execution_count": 121,
   "metadata": {},
   "outputs": [],
   "source": [
    "#imars_crash_details_slim.loc[imars_crash_details_slim['First_Harmful_Event_Type']==\"Collision with person, MV or non-fixed object\"].First_Harmful_Event.value_counts()"
   ]
  },
  {
   "cell_type": "code",
   "execution_count": 122,
   "metadata": {},
   "outputs": [],
   "source": [
    "#pd.options.mode.chained_assignment = None  # default='warn'\n",
    "\n",
    "#imars_crash_details_slim['Collision with Fixed Object']= np.where(imars_crash_details_slim['First_Harmful_Event_Type']==\"Collision with fixed object\", 1,0)\n",
    "#imars_crash_details_slim['Collision with Animal']= np.where(imars_crash_details_slim['First_Harmful_Event_Type']==\"Collision with animals\", 1,0)\n",
    "#imars_crash_details_slim['Non-Collision']= np.where(imars_crash_details_slim['First_Harmful_Event_Type']==\"Non-collision\", 1,0)\n",
    "#imars_crash_details_slim['Other Accident Class']= np.where(imars_crash_details_slim['First_Harmful_Event_Type']==\"Unknown\",1,0)\n",
    "#imars_crash_details_slim['Collision with Other Motor Vehicle']= np.where(imars_crash_details_slim['First_Harmful_Event']=='21. Motor vehicle in transport', 1,0)\n",
    "#imars_crash_details_slim['Collision with Pedestrian']= np.where(imars_crash_details_slim['First_Harmful_Event']==\"17. Pedestrian\", 1,0)\n",
    "#imars_crash_details_slim['Collision with Bicycle']= np.where(imars_crash_details_slim['First_Harmful_Event']==\"18. Bicycle\", 1,0)\n",
    "#imars_crash_details_slim['Collision with Parked Motor Vehicle']= np.where(imars_crash_details_slim['First_Harmful_Event']==\"22. Parked motor vehicle\", 1,0)\n",
    "#imars_crash_details_slim['Collision with Railway Train']= np.where(imars_crash_details_slim['First_Harmful_Event']==\"20. Railway vehicle\", 1,0)\n",
    "#imars_crash_details_slim['Collision with Other Object']= np.where(imars_crash_details_slim['First_Harmful_Event']==\"25. Other non-fixed object\", 1,0)\n",
    "#imars_crash_details_slim['Collision with Unknown']= np.where(imars_crash_details_slim['First_Harmful_Event'].isin(['23. Struck by falling, shifting cargo or anything set in motion by MV',\n",
    " #                                                                                             '24. Work zone/maintenance equipment']), 1,0)"
   ]
  },
  {
   "cell_type": "code",
   "execution_count": 123,
   "metadata": {},
   "outputs": [],
   "source": [
    "#imars_crash_details_slim['Non-Collision'].value_counts()"
   ]
  },
  {
   "cell_type": "code",
   "execution_count": 124,
   "metadata": {},
   "outputs": [],
   "source": [
    "#imars_crash_details_slim_nodups = imars_crash_details_slim.drop_duplicates()\n",
    "#imars_passenger_slim_agg_nodups = imars_passenger_slim_agg.drop_duplicates()"
   ]
  },
  {
   "cell_type": "code",
   "execution_count": 125,
   "metadata": {},
   "outputs": [],
   "source": [
    "imars_crash_clean = imars_crash_expanded[['IMARS_Record_No','Latitude', 'Longitude', 'Park','Crash_Date_Time']]\n",
    "imars_crash_clean = imars_crash_clean.rename(columns={\"IMARS_Record_No\": \"INCID_NO\"})\n",
    "\n",
    "imars_crash_clean = imars_crash_clean.drop_duplicates(\"INCID_NO\")"
   ]
  },
  {
   "cell_type": "code",
   "execution_count": 126,
   "metadata": {},
   "outputs": [],
   "source": [
    "#imars_crash_details_slim_nodups.shape, imars_crash_clean.shape, imars_passenger_slim_agg_nodups.shape"
   ]
  },
  {
   "cell_type": "code",
   "execution_count": 127,
   "metadata": {},
   "outputs": [],
   "source": [
    "#imars_slim_agg=imars_crash_clean.merge(imars_passenger_slim_agg_nodups, how='left', on='INCID_NO')\n",
    "#imars_slim_agg=imars_slim_agg.merge(imars_crash_details_slim_nodups, how='left', on='INCID_NO')\n"
   ]
  },
  {
   "cell_type": "code",
   "execution_count": 128,
   "metadata": {},
   "outputs": [],
   "source": [
    "#imars_slim_agg.shape, imars_crash_details_slim_nodups.shape, imars_crash_clean.shape, imars_passenger_slim_agg_nodups.shape"
   ]
  },
  {
   "cell_type": "code",
   "execution_count": 129,
   "metadata": {},
   "outputs": [],
   "source": [
    "#imars_slim_agg.Fatality.sum()"
   ]
  },
  {
   "cell_type": "code",
   "execution_count": 130,
   "metadata": {},
   "outputs": [],
   "source": [
    "#imars_slim_agg.head()"
   ]
  },
  {
   "cell_type": "code",
   "execution_count": 131,
   "metadata": {},
   "outputs": [],
   "source": [
    "#imars_slim_agg.columns"
   ]
  },
  {
   "cell_type": "code",
   "execution_count": 132,
   "metadata": {},
   "outputs": [],
   "source": [
    "#imars_slim_agg = imars_slim_agg[['INCID_NO', 'NUM_OCC','Park', 'Non-Collision',\n",
    " #      'Collision with Other Motor Vehicle', 'Collision with Fixed Object',\n",
    " #      'Collision with Pedestrian', 'Collision with Bicycle',\n",
    " #      'Collision with Parked Motor Vehicle', 'Collision with Railway Train',\n",
    " #      'Collision with Animal', 'Collision with Other Object',\n",
    " #      'Collision with Unknown', 'Other Accident Class', 'No Injury',\n",
    " #      'Possible Injury', 'Non-incapacitating Injury', 'Incapacitating Injury',\n",
    " #      'Fatality', 'Unknown Injury', 'Latitude', 'Longitude', 'Crash_Date_Time']]"
   ]
  },
  {
   "cell_type": "code",
   "execution_count": 133,
   "metadata": {
    "scrolled": true
   },
   "outputs": [],
   "source": [
    "#imars_slim_agg.head()"
   ]
  },
  {
   "cell_type": "code",
   "execution_count": 134,
   "metadata": {},
   "outputs": [],
   "source": [
    "#imars_slim_agg.Fatality.sum()"
   ]
  },
  {
   "cell_type": "code",
   "execution_count": 135,
   "metadata": {},
   "outputs": [],
   "source": [
    "#imars_slim_agg.to_csv(\"./crash_data_IMARS_clean.csv\",index=False)"
   ]
  },
  {
   "cell_type": "markdown",
   "metadata": {},
   "source": [
    "# Filter for Yosemite"
   ]
  },
  {
   "cell_type": "code",
   "execution_count": 131,
   "metadata": {},
   "outputs": [
    {
     "data": {
      "text/html": [
       "<div>\n",
       "<style scoped>\n",
       "    .dataframe tbody tr th:only-of-type {\n",
       "        vertical-align: middle;\n",
       "    }\n",
       "\n",
       "    .dataframe tbody tr th {\n",
       "        vertical-align: top;\n",
       "    }\n",
       "\n",
       "    .dataframe thead th {\n",
       "        text-align: right;\n",
       "    }\n",
       "</style>\n",
       "<table border=\"1\" class=\"dataframe\">\n",
       "  <thead>\n",
       "    <tr style=\"text-align: right;\">\n",
       "      <th></th>\n",
       "      <th>IMARS_Record_No</th>\n",
       "      <th>Crash_Date_Time</th>\n",
       "      <th>Linked_Address_Classification</th>\n",
       "      <th>City_Town_Park_Location</th>\n",
       "      <th>State</th>\n",
       "      <th>County</th>\n",
       "      <th>Direction</th>\n",
       "      <th>Linked_Street_Number</th>\n",
       "      <th>Linked_Common_Name</th>\n",
       "      <th>Street_Type</th>\n",
       "      <th>...</th>\n",
       "      <th>METADATA</th>\n",
       "      <th>PARKNAME</th>\n",
       "      <th>CreationDate</th>\n",
       "      <th>Creator</th>\n",
       "      <th>EditDate</th>\n",
       "      <th>Editor</th>\n",
       "      <th>GlobalID</th>\n",
       "      <th>Shape__Area</th>\n",
       "      <th>Shape__Length</th>\n",
       "      <th>RGN</th>\n",
       "    </tr>\n",
       "  </thead>\n",
       "  <tbody>\n",
       "    <tr>\n",
       "      <th>0</th>\n",
       "      <td>NP13031262</td>\n",
       "      <td>20130615 14:00:00:000</td>\n",
       "      <td>Dispatch address</td>\n",
       "      <td>NaN</td>\n",
       "      <td>NaN</td>\n",
       "      <td>NaN</td>\n",
       "      <td>NaN</td>\n",
       "      <td>NaN</td>\n",
       "      <td>NaN</td>\n",
       "      <td>NaN</td>\n",
       "      <td>...</td>\n",
       "      <td>NaN</td>\n",
       "      <td>NaN</td>\n",
       "      <td>NaN</td>\n",
       "      <td>NaN</td>\n",
       "      <td>NaN</td>\n",
       "      <td>NaN</td>\n",
       "      <td>NaN</td>\n",
       "      <td>NaN</td>\n",
       "      <td>NaN</td>\n",
       "      <td>MWR</td>\n",
       "    </tr>\n",
       "    <tr>\n",
       "      <th>1</th>\n",
       "      <td>NP13054509</td>\n",
       "      <td>20130803 10:56:00:000</td>\n",
       "      <td>Dispatch address</td>\n",
       "      <td>NaN</td>\n",
       "      <td>SD</td>\n",
       "      <td>NaN</td>\n",
       "      <td>NaN</td>\n",
       "      <td>NaN</td>\n",
       "      <td>PPI-ENTRANCE/EXIT</td>\n",
       "      <td>NaN</td>\n",
       "      <td>...</td>\n",
       "      <td>NaN</td>\n",
       "      <td>NaN</td>\n",
       "      <td>NaN</td>\n",
       "      <td>NaN</td>\n",
       "      <td>NaN</td>\n",
       "      <td>NaN</td>\n",
       "      <td>NaN</td>\n",
       "      <td>NaN</td>\n",
       "      <td>NaN</td>\n",
       "      <td>MWR</td>\n",
       "    </tr>\n",
       "    <tr>\n",
       "      <th>2</th>\n",
       "      <td>NP13071209</td>\n",
       "      <td>20130905 12:03:00:000</td>\n",
       "      <td>Dispatch address</td>\n",
       "      <td>NaN</td>\n",
       "      <td>NaN</td>\n",
       "      <td>NaN</td>\n",
       "      <td>NaN</td>\n",
       "      <td>NaN</td>\n",
       "      <td>NaN</td>\n",
       "      <td>NaN</td>\n",
       "      <td>...</td>\n",
       "      <td>NaN</td>\n",
       "      <td>NaN</td>\n",
       "      <td>NaN</td>\n",
       "      <td>NaN</td>\n",
       "      <td>NaN</td>\n",
       "      <td>NaN</td>\n",
       "      <td>NaN</td>\n",
       "      <td>NaN</td>\n",
       "      <td>NaN</td>\n",
       "      <td>NER</td>\n",
       "    </tr>\n",
       "    <tr>\n",
       "      <th>3</th>\n",
       "      <td>NP13082489</td>\n",
       "      <td>20131006 09:10:00:000</td>\n",
       "      <td>Dispatch address</td>\n",
       "      <td>NaN</td>\n",
       "      <td>VA</td>\n",
       "      <td>NaN</td>\n",
       "      <td>NaN</td>\n",
       "      <td>NaN</td>\n",
       "      <td>MP97</td>\n",
       "      <td>NaN</td>\n",
       "      <td>...</td>\n",
       "      <td>NaN</td>\n",
       "      <td>NaN</td>\n",
       "      <td>NaN</td>\n",
       "      <td>NaN</td>\n",
       "      <td>NaN</td>\n",
       "      <td>NaN</td>\n",
       "      <td>NaN</td>\n",
       "      <td>NaN</td>\n",
       "      <td>NaN</td>\n",
       "      <td>NER</td>\n",
       "    </tr>\n",
       "    <tr>\n",
       "      <th>4</th>\n",
       "      <td>NP13082534</td>\n",
       "      <td>20131006 11:42:00:000</td>\n",
       "      <td>Dispatch address</td>\n",
       "      <td>NaN</td>\n",
       "      <td>VA</td>\n",
       "      <td>NaN</td>\n",
       "      <td>NaN</td>\n",
       "      <td>NaN</td>\n",
       "      <td>MP102</td>\n",
       "      <td>NaN</td>\n",
       "      <td>...</td>\n",
       "      <td>NaN</td>\n",
       "      <td>NaN</td>\n",
       "      <td>NaN</td>\n",
       "      <td>NaN</td>\n",
       "      <td>NaN</td>\n",
       "      <td>NaN</td>\n",
       "      <td>NaN</td>\n",
       "      <td>NaN</td>\n",
       "      <td>NaN</td>\n",
       "      <td>NER</td>\n",
       "    </tr>\n",
       "  </tbody>\n",
       "</table>\n",
       "<p>5 rows × 53 columns</p>\n",
       "</div>"
      ],
      "text/plain": [
       "  IMARS_Record_No        Crash_Date_Time Linked_Address_Classification  \\\n",
       "0      NP13031262  20130615 14:00:00:000              Dispatch address   \n",
       "1      NP13054509  20130803 10:56:00:000              Dispatch address   \n",
       "2      NP13071209  20130905 12:03:00:000              Dispatch address   \n",
       "3      NP13082489  20131006 09:10:00:000              Dispatch address   \n",
       "4      NP13082534  20131006 11:42:00:000              Dispatch address   \n",
       "\n",
       "  City_Town_Park_Location State County Direction  Linked_Street_Number  \\\n",
       "0                     NaN   NaN    NaN       NaN                   NaN   \n",
       "1                     NaN    SD    NaN       NaN                   NaN   \n",
       "2                     NaN   NaN    NaN       NaN                   NaN   \n",
       "3                     NaN    VA    NaN       NaN                   NaN   \n",
       "4                     NaN    VA    NaN       NaN                   NaN   \n",
       "\n",
       "  Linked_Common_Name Street_Type  ...  METADATA  PARKNAME CreationDate  \\\n",
       "0                NaN         NaN  ...       NaN       NaN          NaN   \n",
       "1  PPI-ENTRANCE/EXIT         NaN  ...       NaN       NaN          NaN   \n",
       "2                NaN         NaN  ...       NaN       NaN          NaN   \n",
       "3               MP97         NaN  ...       NaN       NaN          NaN   \n",
       "4              MP102         NaN  ...       NaN       NaN          NaN   \n",
       "\n",
       "  Creator EditDate Editor GlobalID Shape__Area Shape__Length  RGN  \n",
       "0     NaN      NaN    NaN      NaN         NaN           NaN  MWR  \n",
       "1     NaN      NaN    NaN      NaN         NaN           NaN  MWR  \n",
       "2     NaN      NaN    NaN      NaN         NaN           NaN  NER  \n",
       "3     NaN      NaN    NaN      NaN         NaN           NaN  NER  \n",
       "4     NaN      NaN    NaN      NaN         NaN           NaN  NER  \n",
       "\n",
       "[5 rows x 53 columns]"
      ]
     },
     "execution_count": 131,
     "metadata": {},
     "output_type": "execute_result"
    }
   ],
   "source": [
    "imars_crash_expanded.head()"
   ]
  },
  {
   "cell_type": "code",
   "execution_count": 132,
   "metadata": {},
   "outputs": [
    {
     "data": {
      "text/html": [
       "<div>\n",
       "<style scoped>\n",
       "    .dataframe tbody tr th:only-of-type {\n",
       "        vertical-align: middle;\n",
       "    }\n",
       "\n",
       "    .dataframe tbody tr th {\n",
       "        vertical-align: top;\n",
       "    }\n",
       "\n",
       "    .dataframe thead th {\n",
       "        text-align: right;\n",
       "    }\n",
       "</style>\n",
       "<table border=\"1\" class=\"dataframe\">\n",
       "  <thead>\n",
       "    <tr style=\"text-align: right;\">\n",
       "      <th></th>\n",
       "      <th>IMARS_Record_No</th>\n",
       "      <th>Crash_Date_Time</th>\n",
       "      <th>Linked_Address_Classification</th>\n",
       "      <th>City_Town_Park_Location</th>\n",
       "      <th>State</th>\n",
       "      <th>County</th>\n",
       "      <th>Direction</th>\n",
       "      <th>Linked_Street_Number</th>\n",
       "      <th>Linked_Common_Name</th>\n",
       "      <th>Street_Type</th>\n",
       "      <th>...</th>\n",
       "      <th>Creator</th>\n",
       "      <th>EditDate</th>\n",
       "      <th>Editor</th>\n",
       "      <th>GlobalID</th>\n",
       "      <th>Shape__Area</th>\n",
       "      <th>Shape__Length</th>\n",
       "      <th>RGN</th>\n",
       "      <th>CRASH_DATE</th>\n",
       "      <th>CRASH_TIME</th>\n",
       "      <th>CRASH_YEAR</th>\n",
       "    </tr>\n",
       "  </thead>\n",
       "  <tbody>\n",
       "    <tr>\n",
       "      <th>0</th>\n",
       "      <td>NP13031262</td>\n",
       "      <td>2013-06-15 14:00:00</td>\n",
       "      <td>Dispatch address</td>\n",
       "      <td>NaN</td>\n",
       "      <td>NaN</td>\n",
       "      <td>NaN</td>\n",
       "      <td>NaN</td>\n",
       "      <td>NaN</td>\n",
       "      <td>NaN</td>\n",
       "      <td>NaN</td>\n",
       "      <td>...</td>\n",
       "      <td>NaN</td>\n",
       "      <td>NaN</td>\n",
       "      <td>NaN</td>\n",
       "      <td>NaN</td>\n",
       "      <td>NaN</td>\n",
       "      <td>NaN</td>\n",
       "      <td>MWR</td>\n",
       "      <td>06/15/2013</td>\n",
       "      <td>1400</td>\n",
       "      <td>2013</td>\n",
       "    </tr>\n",
       "    <tr>\n",
       "      <th>1</th>\n",
       "      <td>NP13054509</td>\n",
       "      <td>2013-08-03 10:56:00</td>\n",
       "      <td>Dispatch address</td>\n",
       "      <td>NaN</td>\n",
       "      <td>SD</td>\n",
       "      <td>NaN</td>\n",
       "      <td>NaN</td>\n",
       "      <td>NaN</td>\n",
       "      <td>PPI-ENTRANCE/EXIT</td>\n",
       "      <td>NaN</td>\n",
       "      <td>...</td>\n",
       "      <td>NaN</td>\n",
       "      <td>NaN</td>\n",
       "      <td>NaN</td>\n",
       "      <td>NaN</td>\n",
       "      <td>NaN</td>\n",
       "      <td>NaN</td>\n",
       "      <td>MWR</td>\n",
       "      <td>08/03/2013</td>\n",
       "      <td>1056</td>\n",
       "      <td>2013</td>\n",
       "    </tr>\n",
       "    <tr>\n",
       "      <th>2</th>\n",
       "      <td>NP13071209</td>\n",
       "      <td>2013-09-05 12:03:00</td>\n",
       "      <td>Dispatch address</td>\n",
       "      <td>NaN</td>\n",
       "      <td>NaN</td>\n",
       "      <td>NaN</td>\n",
       "      <td>NaN</td>\n",
       "      <td>NaN</td>\n",
       "      <td>NaN</td>\n",
       "      <td>NaN</td>\n",
       "      <td>...</td>\n",
       "      <td>NaN</td>\n",
       "      <td>NaN</td>\n",
       "      <td>NaN</td>\n",
       "      <td>NaN</td>\n",
       "      <td>NaN</td>\n",
       "      <td>NaN</td>\n",
       "      <td>NER</td>\n",
       "      <td>09/05/2013</td>\n",
       "      <td>1203</td>\n",
       "      <td>2013</td>\n",
       "    </tr>\n",
       "    <tr>\n",
       "      <th>3</th>\n",
       "      <td>NP13082489</td>\n",
       "      <td>2013-10-06 09:10:00</td>\n",
       "      <td>Dispatch address</td>\n",
       "      <td>NaN</td>\n",
       "      <td>VA</td>\n",
       "      <td>NaN</td>\n",
       "      <td>NaN</td>\n",
       "      <td>NaN</td>\n",
       "      <td>MP97</td>\n",
       "      <td>NaN</td>\n",
       "      <td>...</td>\n",
       "      <td>NaN</td>\n",
       "      <td>NaN</td>\n",
       "      <td>NaN</td>\n",
       "      <td>NaN</td>\n",
       "      <td>NaN</td>\n",
       "      <td>NaN</td>\n",
       "      <td>NER</td>\n",
       "      <td>10/06/2013</td>\n",
       "      <td>0910</td>\n",
       "      <td>2013</td>\n",
       "    </tr>\n",
       "    <tr>\n",
       "      <th>4</th>\n",
       "      <td>NP13082534</td>\n",
       "      <td>2013-10-06 11:42:00</td>\n",
       "      <td>Dispatch address</td>\n",
       "      <td>NaN</td>\n",
       "      <td>VA</td>\n",
       "      <td>NaN</td>\n",
       "      <td>NaN</td>\n",
       "      <td>NaN</td>\n",
       "      <td>MP102</td>\n",
       "      <td>NaN</td>\n",
       "      <td>...</td>\n",
       "      <td>NaN</td>\n",
       "      <td>NaN</td>\n",
       "      <td>NaN</td>\n",
       "      <td>NaN</td>\n",
       "      <td>NaN</td>\n",
       "      <td>NaN</td>\n",
       "      <td>NER</td>\n",
       "      <td>10/06/2013</td>\n",
       "      <td>1142</td>\n",
       "      <td>2013</td>\n",
       "    </tr>\n",
       "  </tbody>\n",
       "</table>\n",
       "<p>5 rows × 56 columns</p>\n",
       "</div>"
      ],
      "text/plain": [
       "  IMARS_Record_No     Crash_Date_Time Linked_Address_Classification  \\\n",
       "0      NP13031262 2013-06-15 14:00:00              Dispatch address   \n",
       "1      NP13054509 2013-08-03 10:56:00              Dispatch address   \n",
       "2      NP13071209 2013-09-05 12:03:00              Dispatch address   \n",
       "3      NP13082489 2013-10-06 09:10:00              Dispatch address   \n",
       "4      NP13082534 2013-10-06 11:42:00              Dispatch address   \n",
       "\n",
       "  City_Town_Park_Location State County Direction  Linked_Street_Number  \\\n",
       "0                     NaN   NaN    NaN       NaN                   NaN   \n",
       "1                     NaN    SD    NaN       NaN                   NaN   \n",
       "2                     NaN   NaN    NaN       NaN                   NaN   \n",
       "3                     NaN    VA    NaN       NaN                   NaN   \n",
       "4                     NaN    VA    NaN       NaN                   NaN   \n",
       "\n",
       "  Linked_Common_Name Street_Type  ...  Creator  EditDate Editor GlobalID  \\\n",
       "0                NaN         NaN  ...      NaN       NaN    NaN      NaN   \n",
       "1  PPI-ENTRANCE/EXIT         NaN  ...      NaN       NaN    NaN      NaN   \n",
       "2                NaN         NaN  ...      NaN       NaN    NaN      NaN   \n",
       "3               MP97         NaN  ...      NaN       NaN    NaN      NaN   \n",
       "4              MP102         NaN  ...      NaN       NaN    NaN      NaN   \n",
       "\n",
       "  Shape__Area Shape__Length  RGN  CRASH_DATE CRASH_TIME CRASH_YEAR  \n",
       "0         NaN           NaN  MWR  06/15/2013       1400       2013  \n",
       "1         NaN           NaN  MWR  08/03/2013       1056       2013  \n",
       "2         NaN           NaN  NER  09/05/2013       1203       2013  \n",
       "3         NaN           NaN  NER  10/06/2013       0910       2013  \n",
       "4         NaN           NaN  NER  10/06/2013       1142       2013  \n",
       "\n",
       "[5 rows x 56 columns]"
      ]
     },
     "execution_count": 132,
     "metadata": {},
     "output_type": "execute_result"
    }
   ],
   "source": [
    "imars_crash_expanded['Crash_Date_Time']=pd.to_datetime(imars_crash_expanded['Crash_Date_Time'], \n",
    "                                                   format='%Y%m%d %H:%M:%S:%f')\n",
    "imars_crash_expanded['CRASH_DATE'] = imars_crash_expanded['Crash_Date_Time'].dt.strftime('%m/%d/%Y')\n",
    "imars_crash_expanded['CRASH_TIME'] = imars_crash_expanded['Crash_Date_Time'].dt.strftime('%H%M')\n",
    "imars_crash_expanded['CRASH_YEAR'] = imars_crash_expanded['Crash_Date_Time'].dt.strftime('%Y')\n",
    "imars_crash_expanded.head()"
   ]
  },
  {
   "cell_type": "code",
   "execution_count": 133,
   "metadata": {},
   "outputs": [
    {
     "data": {
      "text/plain": [
       "(12790, 56)"
      ]
     },
     "execution_count": 133,
     "metadata": {},
     "output_type": "execute_result"
    }
   ],
   "source": [
    "imars_crash_expanded.shape"
   ]
  },
  {
   "cell_type": "code",
   "execution_count": 134,
   "metadata": {},
   "outputs": [],
   "source": [
    "imars_crash_expanded.to_csv(\"./IMARS_crash.csv\",index=False)\n",
    "## NOTE: THIS FILE WAS MANUALLY EDITED POST-HOC TO FILL IN 19 REGION NAMES BASED ON LAT/LONG FOR CRASHES WITH ERRONEOUS PARK NAMES"
   ]
  },
  {
   "cell_type": "code",
   "execution_count": 140,
   "metadata": {},
   "outputs": [],
   "source": [
    "#imars_crash_expanded_yose = imars_crash_expanded.loc[imars_crash_expanded['Park']=='YOSE']\n",
    "#imars_crash_expanded_yose.shape"
   ]
  },
  {
   "cell_type": "code",
   "execution_count": 141,
   "metadata": {},
   "outputs": [],
   "source": [
    "#imars_crash_expanded_yose.to_csv(\"./IMARS_YOSE_crash.csv\",index=False)"
   ]
  },
  {
   "cell_type": "code",
   "execution_count": 142,
   "metadata": {},
   "outputs": [
    {
     "data": {
      "text/html": [
       "<div>\n",
       "<style scoped>\n",
       "    .dataframe tbody tr th:only-of-type {\n",
       "        vertical-align: middle;\n",
       "    }\n",
       "\n",
       "    .dataframe tbody tr th {\n",
       "        vertical-align: top;\n",
       "    }\n",
       "\n",
       "    .dataframe thead th {\n",
       "        text-align: right;\n",
       "    }\n",
       "</style>\n",
       "<table border=\"1\" class=\"dataframe\">\n",
       "  <thead>\n",
       "    <tr style=\"text-align: right;\">\n",
       "      <th></th>\n",
       "      <th>IMARS_Record_No</th>\n",
       "      <th>Crash_Date_Time</th>\n",
       "      <th>Driver_Action</th>\n",
       "      <th>Driver_Condition</th>\n",
       "      <th>Driver_Distraction</th>\n",
       "      <th>Suspect_Alcohol</th>\n",
       "      <th>Alcohol_Test</th>\n",
       "      <th>Alcohol_Test_Result_1</th>\n",
       "      <th>Alcohol_Test_Result_2</th>\n",
       "      <th>Suspect_Drugs</th>\n",
       "      <th>...</th>\n",
       "      <th>Pedestrian_Type_Detail</th>\n",
       "      <th>Involvement</th>\n",
       "      <th>NUM_OCC</th>\n",
       "      <th>INCID_NO</th>\n",
       "      <th>Latitude</th>\n",
       "      <th>Longitude</th>\n",
       "      <th>Park</th>\n",
       "      <th>CRASH_DATE</th>\n",
       "      <th>CRASH_TIME</th>\n",
       "      <th>CRASH_YEAR</th>\n",
       "    </tr>\n",
       "  </thead>\n",
       "  <tbody>\n",
       "    <tr>\n",
       "      <th>0</th>\n",
       "      <td>NP12000078</td>\n",
       "      <td>20120106 14:30:00:000</td>\n",
       "      <td>NaN</td>\n",
       "      <td>NaN</td>\n",
       "      <td>NaN</td>\n",
       "      <td>NaN</td>\n",
       "      <td>NaN</td>\n",
       "      <td>NaN</td>\n",
       "      <td>NaN</td>\n",
       "      <td>NaN</td>\n",
       "      <td>...</td>\n",
       "      <td>NaN</td>\n",
       "      <td>NaN</td>\n",
       "      <td>1</td>\n",
       "      <td>NP12000078</td>\n",
       "      <td>NaN</td>\n",
       "      <td>NaN</td>\n",
       "      <td>NaN</td>\n",
       "      <td>NaN</td>\n",
       "      <td>NaN</td>\n",
       "      <td>NaN</td>\n",
       "    </tr>\n",
       "    <tr>\n",
       "      <th>1</th>\n",
       "      <td>NP12000378</td>\n",
       "      <td>20120121 00:00:00:000</td>\n",
       "      <td>NaN</td>\n",
       "      <td>NaN</td>\n",
       "      <td>NaN</td>\n",
       "      <td>NaN</td>\n",
       "      <td>NaN</td>\n",
       "      <td>NaN</td>\n",
       "      <td>NaN</td>\n",
       "      <td>NaN</td>\n",
       "      <td>...</td>\n",
       "      <td>NaN</td>\n",
       "      <td>NaN</td>\n",
       "      <td>1</td>\n",
       "      <td>NP12000378</td>\n",
       "      <td>NaN</td>\n",
       "      <td>NaN</td>\n",
       "      <td>NaN</td>\n",
       "      <td>NaN</td>\n",
       "      <td>NaN</td>\n",
       "      <td>NaN</td>\n",
       "    </tr>\n",
       "    <tr>\n",
       "      <th>2</th>\n",
       "      <td>NP12000550</td>\n",
       "      <td>20120131 13:51:00:000</td>\n",
       "      <td>NaN</td>\n",
       "      <td>NaN</td>\n",
       "      <td>NaN</td>\n",
       "      <td>NaN</td>\n",
       "      <td>NaN</td>\n",
       "      <td>NaN</td>\n",
       "      <td>NaN</td>\n",
       "      <td>NaN</td>\n",
       "      <td>...</td>\n",
       "      <td>NaN</td>\n",
       "      <td>NaN</td>\n",
       "      <td>1</td>\n",
       "      <td>NP12000550</td>\n",
       "      <td>NaN</td>\n",
       "      <td>NaN</td>\n",
       "      <td>NaN</td>\n",
       "      <td>NaN</td>\n",
       "      <td>NaN</td>\n",
       "      <td>NaN</td>\n",
       "    </tr>\n",
       "    <tr>\n",
       "      <th>3</th>\n",
       "      <td>NP12000911</td>\n",
       "      <td>20120208 00:00:00:000</td>\n",
       "      <td>NaN</td>\n",
       "      <td>NaN</td>\n",
       "      <td>NaN</td>\n",
       "      <td>NaN</td>\n",
       "      <td>NaN</td>\n",
       "      <td>NaN</td>\n",
       "      <td>NaN</td>\n",
       "      <td>NaN</td>\n",
       "      <td>...</td>\n",
       "      <td>NaN</td>\n",
       "      <td>NaN</td>\n",
       "      <td>1</td>\n",
       "      <td>NP12000911</td>\n",
       "      <td>NaN</td>\n",
       "      <td>NaN</td>\n",
       "      <td>NaN</td>\n",
       "      <td>NaN</td>\n",
       "      <td>NaN</td>\n",
       "      <td>NaN</td>\n",
       "    </tr>\n",
       "    <tr>\n",
       "      <th>4</th>\n",
       "      <td>NP12000935</td>\n",
       "      <td>20120215 10:15:00:000</td>\n",
       "      <td>NaN</td>\n",
       "      <td>NaN</td>\n",
       "      <td>NaN</td>\n",
       "      <td>NaN</td>\n",
       "      <td>NaN</td>\n",
       "      <td>NaN</td>\n",
       "      <td>NaN</td>\n",
       "      <td>NaN</td>\n",
       "      <td>...</td>\n",
       "      <td>NaN</td>\n",
       "      <td>NaN</td>\n",
       "      <td>1</td>\n",
       "      <td>NP12000935</td>\n",
       "      <td>NaN</td>\n",
       "      <td>NaN</td>\n",
       "      <td>NaN</td>\n",
       "      <td>NaN</td>\n",
       "      <td>NaN</td>\n",
       "      <td>NaN</td>\n",
       "    </tr>\n",
       "  </tbody>\n",
       "</table>\n",
       "<p>5 rows × 37 columns</p>\n",
       "</div>"
      ],
      "text/plain": [
       "  IMARS_Record_No        Crash_Date_Time Driver_Action Driver_Condition  \\\n",
       "0      NP12000078  20120106 14:30:00:000           NaN              NaN   \n",
       "1      NP12000378  20120121 00:00:00:000           NaN              NaN   \n",
       "2      NP12000550  20120131 13:51:00:000           NaN              NaN   \n",
       "3      NP12000911  20120208 00:00:00:000           NaN              NaN   \n",
       "4      NP12000935  20120215 10:15:00:000           NaN              NaN   \n",
       "\n",
       "  Driver_Distraction Suspect_Alcohol Alcohol_Test  Alcohol_Test_Result_1  \\\n",
       "0                NaN             NaN          NaN                    NaN   \n",
       "1                NaN             NaN          NaN                    NaN   \n",
       "2                NaN             NaN          NaN                    NaN   \n",
       "3                NaN             NaN          NaN                    NaN   \n",
       "4                NaN             NaN          NaN                    NaN   \n",
       "\n",
       "   Alcohol_Test_Result_2 Suspect_Drugs  ... Pedestrian_Type_Detail  \\\n",
       "0                    NaN           NaN  ...                    NaN   \n",
       "1                    NaN           NaN  ...                    NaN   \n",
       "2                    NaN           NaN  ...                    NaN   \n",
       "3                    NaN           NaN  ...                    NaN   \n",
       "4                    NaN           NaN  ...                    NaN   \n",
       "\n",
       "  Involvement NUM_OCC    INCID_NO Latitude Longitude Park CRASH_DATE  \\\n",
       "0         NaN       1  NP12000078      NaN       NaN  NaN        NaN   \n",
       "1         NaN       1  NP12000378      NaN       NaN  NaN        NaN   \n",
       "2         NaN       1  NP12000550      NaN       NaN  NaN        NaN   \n",
       "3         NaN       1  NP12000911      NaN       NaN  NaN        NaN   \n",
       "4         NaN       1  NP12000935      NaN       NaN  NaN        NaN   \n",
       "\n",
       "   CRASH_TIME CRASH_YEAR  \n",
       "0         NaN        NaN  \n",
       "1         NaN        NaN  \n",
       "2         NaN        NaN  \n",
       "3         NaN        NaN  \n",
       "4         NaN        NaN  \n",
       "\n",
       "[5 rows x 37 columns]"
      ]
     },
     "execution_count": 142,
     "metadata": {},
     "output_type": "execute_result"
    }
   ],
   "source": [
    "imars_passenger_merged = imars_passenger.merge(imars_crash_expanded[['IMARS_Record_No','Latitude', 'Longitude','Park',\n",
    "                                                                         'CRASH_DATE','CRASH_TIME', 'CRASH_YEAR']] , \n",
    "                                               how='left', on='IMARS_Record_No')\n",
    "imars_passenger_merged.head()"
   ]
  },
  {
   "cell_type": "code",
   "execution_count": 143,
   "metadata": {},
   "outputs": [
    {
     "data": {
      "text/plain": [
       "(27931, 37)"
      ]
     },
     "execution_count": 143,
     "metadata": {},
     "output_type": "execute_result"
    }
   ],
   "source": [
    "imars_passenger_merged.shape"
   ]
  },
  {
   "cell_type": "code",
   "execution_count": 144,
   "metadata": {},
   "outputs": [],
   "source": [
    "imars_passenger_merged.to_csv(\"./IMARS_passenger.csv\",index=False)"
   ]
  },
  {
   "cell_type": "code",
   "execution_count": 145,
   "metadata": {},
   "outputs": [],
   "source": [
    "#imars_passenger_yose = imars_passenger_merged.loc[imars_passenger_merged['Park']=='YOSE']\n",
    "#imars_passenger_yose.shape"
   ]
  },
  {
   "cell_type": "code",
   "execution_count": 146,
   "metadata": {},
   "outputs": [],
   "source": [
    "#imars_passenger_yose.to_csv(\"./IMARS_YOSE_passenger.csv\",index=False)"
   ]
  },
  {
   "cell_type": "code",
   "execution_count": 147,
   "metadata": {},
   "outputs": [
    {
     "data": {
      "text/html": [
       "<div>\n",
       "<style scoped>\n",
       "    .dataframe tbody tr th:only-of-type {\n",
       "        vertical-align: middle;\n",
       "    }\n",
       "\n",
       "    .dataframe tbody tr th {\n",
       "        vertical-align: top;\n",
       "    }\n",
       "\n",
       "    .dataframe thead th {\n",
       "        text-align: right;\n",
       "    }\n",
       "</style>\n",
       "<table border=\"1\" class=\"dataframe\">\n",
       "  <thead>\n",
       "    <tr style=\"text-align: right;\">\n",
       "      <th></th>\n",
       "      <th>IMARS_Record_No</th>\n",
       "      <th>Crash_Date_Time</th>\n",
       "      <th>Vehicle_Number</th>\n",
       "      <th>Number_of_Occupants</th>\n",
       "      <th>Vehicle_Towed</th>\n",
       "      <th>Insurance_verified</th>\n",
       "      <th>Initial_Impact_Point</th>\n",
       "      <th>Most_Damaged_Area</th>\n",
       "      <th>Extent_of_Damage</th>\n",
       "      <th>Direction_of_Travel_Prior_to_Crash</th>\n",
       "      <th>...</th>\n",
       "      <th>Hazmat_3_Class</th>\n",
       "      <th>Hazmat_3_ID</th>\n",
       "      <th>Hazmat_4_Class</th>\n",
       "      <th>Hazmat_4_ID</th>\n",
       "      <th>Latitude</th>\n",
       "      <th>Longitude</th>\n",
       "      <th>Park</th>\n",
       "      <th>CRASH_DATE</th>\n",
       "      <th>CRASH_TIME</th>\n",
       "      <th>CRASH_YEAR</th>\n",
       "    </tr>\n",
       "  </thead>\n",
       "  <tbody>\n",
       "    <tr>\n",
       "      <th>0</th>\n",
       "      <td>NP12000078</td>\n",
       "      <td>20120106 14:30:00:000</td>\n",
       "      <td>NaN</td>\n",
       "      <td>NaN</td>\n",
       "      <td>NaN</td>\n",
       "      <td>NaN</td>\n",
       "      <td>NaN</td>\n",
       "      <td>NaN</td>\n",
       "      <td>NaN</td>\n",
       "      <td>NaN</td>\n",
       "      <td>...</td>\n",
       "      <td>NaN</td>\n",
       "      <td>NaN</td>\n",
       "      <td>NaN</td>\n",
       "      <td>NaN</td>\n",
       "      <td>NaN</td>\n",
       "      <td>NaN</td>\n",
       "      <td>NaN</td>\n",
       "      <td>NaN</td>\n",
       "      <td>NaN</td>\n",
       "      <td>NaN</td>\n",
       "    </tr>\n",
       "    <tr>\n",
       "      <th>1</th>\n",
       "      <td>NP12000378</td>\n",
       "      <td>20120121 00:00:00:000</td>\n",
       "      <td>NaN</td>\n",
       "      <td>NaN</td>\n",
       "      <td>NaN</td>\n",
       "      <td>NaN</td>\n",
       "      <td>NaN</td>\n",
       "      <td>NaN</td>\n",
       "      <td>NaN</td>\n",
       "      <td>NaN</td>\n",
       "      <td>...</td>\n",
       "      <td>NaN</td>\n",
       "      <td>NaN</td>\n",
       "      <td>NaN</td>\n",
       "      <td>NaN</td>\n",
       "      <td>NaN</td>\n",
       "      <td>NaN</td>\n",
       "      <td>NaN</td>\n",
       "      <td>NaN</td>\n",
       "      <td>NaN</td>\n",
       "      <td>NaN</td>\n",
       "    </tr>\n",
       "    <tr>\n",
       "      <th>2</th>\n",
       "      <td>NP12000550</td>\n",
       "      <td>20120131 13:51:00:000</td>\n",
       "      <td>NaN</td>\n",
       "      <td>NaN</td>\n",
       "      <td>NaN</td>\n",
       "      <td>NaN</td>\n",
       "      <td>NaN</td>\n",
       "      <td>NaN</td>\n",
       "      <td>NaN</td>\n",
       "      <td>NaN</td>\n",
       "      <td>...</td>\n",
       "      <td>NaN</td>\n",
       "      <td>NaN</td>\n",
       "      <td>NaN</td>\n",
       "      <td>NaN</td>\n",
       "      <td>NaN</td>\n",
       "      <td>NaN</td>\n",
       "      <td>NaN</td>\n",
       "      <td>NaN</td>\n",
       "      <td>NaN</td>\n",
       "      <td>NaN</td>\n",
       "    </tr>\n",
       "    <tr>\n",
       "      <th>3</th>\n",
       "      <td>NP12000911</td>\n",
       "      <td>20120208 00:00:00:000</td>\n",
       "      <td>NaN</td>\n",
       "      <td>NaN</td>\n",
       "      <td>NaN</td>\n",
       "      <td>NaN</td>\n",
       "      <td>NaN</td>\n",
       "      <td>NaN</td>\n",
       "      <td>NaN</td>\n",
       "      <td>NaN</td>\n",
       "      <td>...</td>\n",
       "      <td>NaN</td>\n",
       "      <td>NaN</td>\n",
       "      <td>NaN</td>\n",
       "      <td>NaN</td>\n",
       "      <td>NaN</td>\n",
       "      <td>NaN</td>\n",
       "      <td>NaN</td>\n",
       "      <td>NaN</td>\n",
       "      <td>NaN</td>\n",
       "      <td>NaN</td>\n",
       "    </tr>\n",
       "    <tr>\n",
       "      <th>4</th>\n",
       "      <td>NP12000935</td>\n",
       "      <td>20120215 10:15:00:000</td>\n",
       "      <td>NaN</td>\n",
       "      <td>NaN</td>\n",
       "      <td>NaN</td>\n",
       "      <td>NaN</td>\n",
       "      <td>NaN</td>\n",
       "      <td>NaN</td>\n",
       "      <td>NaN</td>\n",
       "      <td>NaN</td>\n",
       "      <td>...</td>\n",
       "      <td>NaN</td>\n",
       "      <td>NaN</td>\n",
       "      <td>NaN</td>\n",
       "      <td>NaN</td>\n",
       "      <td>NaN</td>\n",
       "      <td>NaN</td>\n",
       "      <td>NaN</td>\n",
       "      <td>NaN</td>\n",
       "      <td>NaN</td>\n",
       "      <td>NaN</td>\n",
       "    </tr>\n",
       "  </tbody>\n",
       "</table>\n",
       "<p>5 rows × 57 columns</p>\n",
       "</div>"
      ],
      "text/plain": [
       "  IMARS_Record_No        Crash_Date_Time  Vehicle_Number  Number_of_Occupants  \\\n",
       "0      NP12000078  20120106 14:30:00:000             NaN                  NaN   \n",
       "1      NP12000378  20120121 00:00:00:000             NaN                  NaN   \n",
       "2      NP12000550  20120131 13:51:00:000             NaN                  NaN   \n",
       "3      NP12000911  20120208 00:00:00:000             NaN                  NaN   \n",
       "4      NP12000935  20120215 10:15:00:000             NaN                  NaN   \n",
       "\n",
       "  Vehicle_Towed Insurance_verified Initial_Impact_Point Most_Damaged_Area  \\\n",
       "0           NaN                NaN                  NaN               NaN   \n",
       "1           NaN                NaN                  NaN               NaN   \n",
       "2           NaN                NaN                  NaN               NaN   \n",
       "3           NaN                NaN                  NaN               NaN   \n",
       "4           NaN                NaN                  NaN               NaN   \n",
       "\n",
       "  Extent_of_Damage Direction_of_Travel_Prior_to_Crash  ... Hazmat_3_Class  \\\n",
       "0              NaN                                NaN  ...            NaN   \n",
       "1              NaN                                NaN  ...            NaN   \n",
       "2              NaN                                NaN  ...            NaN   \n",
       "3              NaN                                NaN  ...            NaN   \n",
       "4              NaN                                NaN  ...            NaN   \n",
       "\n",
       "  Hazmat_3_ID Hazmat_4_Class Hazmat_4_ID Latitude Longitude Park CRASH_DATE  \\\n",
       "0         NaN            NaN         NaN      NaN       NaN  NaN        NaN   \n",
       "1         NaN            NaN         NaN      NaN       NaN  NaN        NaN   \n",
       "2         NaN            NaN         NaN      NaN       NaN  NaN        NaN   \n",
       "3         NaN            NaN         NaN      NaN       NaN  NaN        NaN   \n",
       "4         NaN            NaN         NaN      NaN       NaN  NaN        NaN   \n",
       "\n",
       "  CRASH_TIME CRASH_YEAR  \n",
       "0        NaN        NaN  \n",
       "1        NaN        NaN  \n",
       "2        NaN        NaN  \n",
       "3        NaN        NaN  \n",
       "4        NaN        NaN  \n",
       "\n",
       "[5 rows x 57 columns]"
      ]
     },
     "execution_count": 147,
     "metadata": {},
     "output_type": "execute_result"
    }
   ],
   "source": [
    "imars_vehicle_merged = imars_vehicle.merge(imars_crash_expanded[['IMARS_Record_No','Latitude', 'Longitude','Park',\n",
    "                                                                         'CRASH_DATE','CRASH_TIME', 'CRASH_YEAR']] , \n",
    "                                               how='left', on='IMARS_Record_No')\n",
    "imars_vehicle_merged.head()"
   ]
  },
  {
   "cell_type": "code",
   "execution_count": 148,
   "metadata": {},
   "outputs": [
    {
     "data": {
      "text/plain": [
       "(23576, 57)"
      ]
     },
     "execution_count": 148,
     "metadata": {},
     "output_type": "execute_result"
    }
   ],
   "source": [
    "imars_vehicle_merged.shape"
   ]
  },
  {
   "cell_type": "code",
   "execution_count": 149,
   "metadata": {},
   "outputs": [],
   "source": [
    "imars_vehicle_merged.to_csv(\"./IMARS_vehicle.csv\",index=False)"
   ]
  },
  {
   "cell_type": "code",
   "execution_count": 150,
   "metadata": {},
   "outputs": [],
   "source": [
    "#imars_vehicle_yose = imars_vehicle_merged.loc[imars_vehicle_merged['Park']=='YOSE']\n",
    "#imars_vehicle_yose.shape"
   ]
  },
  {
   "cell_type": "code",
   "execution_count": 151,
   "metadata": {},
   "outputs": [],
   "source": [
    "#imars_vehicle_yose.to_csv(\"./IMARS_YOSE_vehicle.csv\",index=False)"
   ]
  },
  {
   "cell_type": "code",
   "execution_count": 152,
   "metadata": {},
   "outputs": [
    {
     "data": {
      "text/html": [
       "<div>\n",
       "<style scoped>\n",
       "    .dataframe tbody tr th:only-of-type {\n",
       "        vertical-align: middle;\n",
       "    }\n",
       "\n",
       "    .dataframe tbody tr th {\n",
       "        vertical-align: top;\n",
       "    }\n",
       "\n",
       "    .dataframe thead th {\n",
       "        text-align: right;\n",
       "    }\n",
       "</style>\n",
       "<table border=\"1\" class=\"dataframe\">\n",
       "  <thead>\n",
       "    <tr style=\"text-align: right;\">\n",
       "      <th></th>\n",
       "      <th>IMARS_Record_No</th>\n",
       "      <th>Crash_Date_Time</th>\n",
       "      <th>Number_of_Vehicles_Involved</th>\n",
       "      <th>Injury_or_Fatal_Crash</th>\n",
       "      <th>Investigated_at_Scene</th>\n",
       "      <th>Hit_and_Run</th>\n",
       "      <th>Non_Motor_Vehicl_Property_Damage</th>\n",
       "      <th>Amount_of_Property_Damage</th>\n",
       "      <th>First_Harmful_Event_Type</th>\n",
       "      <th>First_Harmful_Event</th>\n",
       "      <th>...</th>\n",
       "      <th>Relation_to_Junction</th>\n",
       "      <th>Type_of_Intersection</th>\n",
       "      <th>Manner_of_Collision</th>\n",
       "      <th>INCID_NO</th>\n",
       "      <th>Latitude</th>\n",
       "      <th>Longitude</th>\n",
       "      <th>Park</th>\n",
       "      <th>CRASH_DATE</th>\n",
       "      <th>CRASH_TIME</th>\n",
       "      <th>CRASH_YEAR</th>\n",
       "    </tr>\n",
       "  </thead>\n",
       "  <tbody>\n",
       "    <tr>\n",
       "      <th>0</th>\n",
       "      <td>NP12000078</td>\n",
       "      <td>20120106 14:30:00:000</td>\n",
       "      <td>NaN</td>\n",
       "      <td>NaN</td>\n",
       "      <td>Yes</td>\n",
       "      <td>NaN</td>\n",
       "      <td>NaN</td>\n",
       "      <td>NaN</td>\n",
       "      <td>NaN</td>\n",
       "      <td>NaN</td>\n",
       "      <td>...</td>\n",
       "      <td>NaN</td>\n",
       "      <td>99. Unknown</td>\n",
       "      <td>99. Unknown</td>\n",
       "      <td>NP12000078</td>\n",
       "      <td>NaN</td>\n",
       "      <td>NaN</td>\n",
       "      <td>NaN</td>\n",
       "      <td>NaN</td>\n",
       "      <td>NaN</td>\n",
       "      <td>NaN</td>\n",
       "    </tr>\n",
       "    <tr>\n",
       "      <th>1</th>\n",
       "      <td>NP12000378</td>\n",
       "      <td>20120121 00:00:00:000</td>\n",
       "      <td>NaN</td>\n",
       "      <td>NaN</td>\n",
       "      <td>Yes</td>\n",
       "      <td>NaN</td>\n",
       "      <td>NaN</td>\n",
       "      <td>NaN</td>\n",
       "      <td>NaN</td>\n",
       "      <td>NaN</td>\n",
       "      <td>...</td>\n",
       "      <td>NaN</td>\n",
       "      <td>99. Unknown</td>\n",
       "      <td>99. Unknown</td>\n",
       "      <td>NP12000378</td>\n",
       "      <td>NaN</td>\n",
       "      <td>NaN</td>\n",
       "      <td>NaN</td>\n",
       "      <td>NaN</td>\n",
       "      <td>NaN</td>\n",
       "      <td>NaN</td>\n",
       "    </tr>\n",
       "    <tr>\n",
       "      <th>2</th>\n",
       "      <td>NP12000550</td>\n",
       "      <td>20120131 13:51:00:000</td>\n",
       "      <td>NaN</td>\n",
       "      <td>NaN</td>\n",
       "      <td>Yes</td>\n",
       "      <td>NaN</td>\n",
       "      <td>NaN</td>\n",
       "      <td>NaN</td>\n",
       "      <td>NaN</td>\n",
       "      <td>NaN</td>\n",
       "      <td>...</td>\n",
       "      <td>NaN</td>\n",
       "      <td>99. Unknown</td>\n",
       "      <td>99. Unknown</td>\n",
       "      <td>NP12000550</td>\n",
       "      <td>NaN</td>\n",
       "      <td>NaN</td>\n",
       "      <td>NaN</td>\n",
       "      <td>NaN</td>\n",
       "      <td>NaN</td>\n",
       "      <td>NaN</td>\n",
       "    </tr>\n",
       "    <tr>\n",
       "      <th>3</th>\n",
       "      <td>NP12000911</td>\n",
       "      <td>20120208 00:00:00:000</td>\n",
       "      <td>NaN</td>\n",
       "      <td>NaN</td>\n",
       "      <td>NaN</td>\n",
       "      <td>NaN</td>\n",
       "      <td>NaN</td>\n",
       "      <td>NaN</td>\n",
       "      <td>NaN</td>\n",
       "      <td>NaN</td>\n",
       "      <td>...</td>\n",
       "      <td>NaN</td>\n",
       "      <td>NaN</td>\n",
       "      <td>NaN</td>\n",
       "      <td>NP12000911</td>\n",
       "      <td>NaN</td>\n",
       "      <td>NaN</td>\n",
       "      <td>NaN</td>\n",
       "      <td>NaN</td>\n",
       "      <td>NaN</td>\n",
       "      <td>NaN</td>\n",
       "    </tr>\n",
       "    <tr>\n",
       "      <th>4</th>\n",
       "      <td>NP12000935</td>\n",
       "      <td>20120215 10:15:00:000</td>\n",
       "      <td>NaN</td>\n",
       "      <td>NaN</td>\n",
       "      <td>Yes</td>\n",
       "      <td>NaN</td>\n",
       "      <td>NaN</td>\n",
       "      <td>NaN</td>\n",
       "      <td>NaN</td>\n",
       "      <td>NaN</td>\n",
       "      <td>...</td>\n",
       "      <td>NaN</td>\n",
       "      <td>NaN</td>\n",
       "      <td>99. Unknown</td>\n",
       "      <td>NP12000935</td>\n",
       "      <td>NaN</td>\n",
       "      <td>NaN</td>\n",
       "      <td>NaN</td>\n",
       "      <td>NaN</td>\n",
       "      <td>NaN</td>\n",
       "      <td>NaN</td>\n",
       "    </tr>\n",
       "  </tbody>\n",
       "</table>\n",
       "<p>5 rows × 31 columns</p>\n",
       "</div>"
      ],
      "text/plain": [
       "  IMARS_Record_No        Crash_Date_Time  Number_of_Vehicles_Involved  \\\n",
       "0      NP12000078  20120106 14:30:00:000                          NaN   \n",
       "1      NP12000378  20120121 00:00:00:000                          NaN   \n",
       "2      NP12000550  20120131 13:51:00:000                          NaN   \n",
       "3      NP12000911  20120208 00:00:00:000                          NaN   \n",
       "4      NP12000935  20120215 10:15:00:000                          NaN   \n",
       "\n",
       "  Injury_or_Fatal_Crash Investigated_at_Scene Hit_and_Run  \\\n",
       "0                   NaN                   Yes         NaN   \n",
       "1                   NaN                   Yes         NaN   \n",
       "2                   NaN                   Yes         NaN   \n",
       "3                   NaN                   NaN         NaN   \n",
       "4                   NaN                   Yes         NaN   \n",
       "\n",
       "  Non_Motor_Vehicl_Property_Damage Amount_of_Property_Damage  \\\n",
       "0                              NaN                       NaN   \n",
       "1                              NaN                       NaN   \n",
       "2                              NaN                       NaN   \n",
       "3                              NaN                       NaN   \n",
       "4                              NaN                       NaN   \n",
       "\n",
       "  First_Harmful_Event_Type First_Harmful_Event  ... Relation_to_Junction  \\\n",
       "0                      NaN                 NaN  ...                  NaN   \n",
       "1                      NaN                 NaN  ...                  NaN   \n",
       "2                      NaN                 NaN  ...                  NaN   \n",
       "3                      NaN                 NaN  ...                  NaN   \n",
       "4                      NaN                 NaN  ...                  NaN   \n",
       "\n",
       "  Type_of_Intersection Manner_of_Collision    INCID_NO Latitude Longitude  \\\n",
       "0          99. Unknown         99. Unknown  NP12000078      NaN       NaN   \n",
       "1          99. Unknown         99. Unknown  NP12000378      NaN       NaN   \n",
       "2          99. Unknown         99. Unknown  NP12000550      NaN       NaN   \n",
       "3                  NaN                 NaN  NP12000911      NaN       NaN   \n",
       "4                  NaN         99. Unknown  NP12000935      NaN       NaN   \n",
       "\n",
       "  Park CRASH_DATE CRASH_TIME CRASH_YEAR  \n",
       "0  NaN        NaN        NaN        NaN  \n",
       "1  NaN        NaN        NaN        NaN  \n",
       "2  NaN        NaN        NaN        NaN  \n",
       "3  NaN        NaN        NaN        NaN  \n",
       "4  NaN        NaN        NaN        NaN  \n",
       "\n",
       "[5 rows x 31 columns]"
      ]
     },
     "execution_count": 152,
     "metadata": {},
     "output_type": "execute_result"
    }
   ],
   "source": [
    "imars_crash_details_merged = imars_crash_details.merge(imars_crash_expanded[['IMARS_Record_No','Latitude', 'Longitude','Park',\n",
    "                                                                         'CRASH_DATE','CRASH_TIME', 'CRASH_YEAR']] , \n",
    "                                               how='left', on='IMARS_Record_No')\n",
    "imars_crash_details_merged.head()"
   ]
  },
  {
   "cell_type": "code",
   "execution_count": 153,
   "metadata": {},
   "outputs": [
    {
     "data": {
      "text/plain": [
       "(15302, 31)"
      ]
     },
     "execution_count": 153,
     "metadata": {},
     "output_type": "execute_result"
    }
   ],
   "source": [
    "imars_crash_details_merged.shape"
   ]
  },
  {
   "cell_type": "code",
   "execution_count": 154,
   "metadata": {},
   "outputs": [],
   "source": [
    "imars_crash_details_merged.to_csv(\"./IMARS_crash_details.csv\",index=False)"
   ]
  },
  {
   "cell_type": "code",
   "execution_count": 155,
   "metadata": {},
   "outputs": [],
   "source": [
    "#imars_crash_details_yose = imars_crash_details_merged.loc[imars_crash_details_merged['Park']=='YOSE']\n",
    "#imars_crash_details_yose.shape"
   ]
  },
  {
   "cell_type": "code",
   "execution_count": 156,
   "metadata": {},
   "outputs": [],
   "source": [
    "#imars_crash_details_yose.to_csv(\"./IMARS_YOSE_crash_details.csv\",index=False)"
   ]
  },
  {
   "cell_type": "code",
   "execution_count": null,
   "metadata": {},
   "outputs": [],
   "source": []
  }
 ],
 "metadata": {
  "kernelspec": {
   "display_name": "geo_env",
   "language": "python",
   "name": "geo_env"
  },
  "language_info": {
   "codemirror_mode": {
    "name": "ipython",
    "version": 3
   },
   "file_extension": ".py",
   "mimetype": "text/x-python",
   "name": "python",
   "nbconvert_exporter": "python",
   "pygments_lexer": "ipython3",
   "version": "3.10.5"
  }
 },
 "nbformat": 4,
 "nbformat_minor": 2
}
