{
 "cells": [
  {
   "cell_type": "markdown",
   "id": "ca4ceb64",
   "metadata": {},
   "source": [
    "## Crash Data Wrangling Jupyter Notebook\n",
    "\n",
    "**Author:** Sophie Son \n",
    "\n",
    "**Date:** 5/25/2023 \n",
    "\n",
    "**Purpose:** This notebook combines the IMARS and CDS analysis tables, each containing a subset of the original data attributes, into a single analysis database"
   ]
  },
  {
   "cell_type": "code",
   "execution_count": 1,
   "id": "889ba7d5",
   "metadata": {},
   "outputs": [],
   "source": [
    "import pandas as pd\n",
    "import numpy as np\n",
    "import os"
   ]
  },
  {
   "cell_type": "code",
   "execution_count": 2,
   "id": "3b4de861",
   "metadata": {},
   "outputs": [],
   "source": [
    "myworkingdirectory = r\"C:\\Users\\Sophie.Kaye\\Desktop\\NPS Crash Data\"\n",
    "os.chdir(myworkingdirectory)"
   ]
  },
  {
   "cell_type": "code",
   "execution_count": 3,
   "id": "d7d16733",
   "metadata": {},
   "outputs": [
    {
     "data": {
      "text/plain": [
       "(194715, 56)"
      ]
     },
     "execution_count": 3,
     "metadata": {},
     "output_type": "execute_result"
    }
   ],
   "source": [
    "cds = pd.read_csv('CDS_slim_all_clean.csv')\n",
    "cds.shape"
   ]
  },
  {
   "cell_type": "code",
   "execution_count": 4,
   "id": "34eb7c5a",
   "metadata": {},
   "outputs": [
    {
     "data": {
      "text/plain": [
       "(12790, 56)"
      ]
     },
     "execution_count": 4,
     "metadata": {},
     "output_type": "execute_result"
    }
   ],
   "source": [
    "imars = pd.read_csv('IMARS_slim_all_clean.csv')\n",
    "imars.shape"
   ]
  },
  {
   "cell_type": "code",
   "execution_count": 5,
   "id": "31383b06",
   "metadata": {},
   "outputs": [
    {
     "data": {
      "text/plain": [
       "207505"
      ]
     },
     "execution_count": 5,
     "metadata": {},
     "output_type": "execute_result"
    }
   ],
   "source": [
    "# final database should have 56 columns and the following number of rows:\n",
    "cds.shape[0] + imars.shape[0]"
   ]
  },
  {
   "cell_type": "code",
   "execution_count": 7,
   "id": "442e5239",
   "metadata": {},
   "outputs": [
    {
     "data": {
      "text/plain": [
       "(207505, 56)"
      ]
     },
     "execution_count": 7,
     "metadata": {},
     "output_type": "execute_result"
    }
   ],
   "source": [
    "analysis_database_2023 = pd.concat([cds,imars])\n",
    "analysis_database_2023.shape"
   ]
  },
  {
   "cell_type": "code",
   "execution_count": 8,
   "id": "26eef256",
   "metadata": {},
   "outputs": [
    {
     "data": {
      "text/html": [
       "<div>\n",
       "<style scoped>\n",
       "    .dataframe tbody tr th:only-of-type {\n",
       "        vertical-align: middle;\n",
       "    }\n",
       "\n",
       "    .dataframe tbody tr th {\n",
       "        vertical-align: top;\n",
       "    }\n",
       "\n",
       "    .dataframe thead th {\n",
       "        text-align: right;\n",
       "    }\n",
       "</style>\n",
       "<table border=\"1\" class=\"dataframe\">\n",
       "  <thead>\n",
       "    <tr style=\"text-align: right;\">\n",
       "      <th></th>\n",
       "      <th>INCID_NO</th>\n",
       "      <th>5_mph</th>\n",
       "      <th>10_mph</th>\n",
       "      <th>15_mph</th>\n",
       "      <th>20_mph</th>\n",
       "      <th>25_mph</th>\n",
       "      <th>30_mph</th>\n",
       "      <th>35_mph</th>\n",
       "      <th>40_mph</th>\n",
       "      <th>45_mph</th>\n",
       "      <th>...</th>\n",
       "      <th>Adverse Weather</th>\n",
       "      <th>LATITUDE</th>\n",
       "      <th>LONGITUDE</th>\n",
       "      <th>Park</th>\n",
       "      <th>RGN</th>\n",
       "      <th>YEAR</th>\n",
       "      <th>MONTH</th>\n",
       "      <th>DOW</th>\n",
       "      <th>HOUR</th>\n",
       "      <th>database</th>\n",
       "    </tr>\n",
       "  </thead>\n",
       "  <tbody>\n",
       "    <tr>\n",
       "      <th>0</th>\n",
       "      <td>ABLI070425075000</td>\n",
       "      <td>0</td>\n",
       "      <td>0</td>\n",
       "      <td>0</td>\n",
       "      <td>0</td>\n",
       "      <td>0</td>\n",
       "      <td>0</td>\n",
       "      <td>0</td>\n",
       "      <td>0</td>\n",
       "      <td>0</td>\n",
       "      <td>...</td>\n",
       "      <td>0.0</td>\n",
       "      <td>NaN</td>\n",
       "      <td>NaN</td>\n",
       "      <td>ABLI</td>\n",
       "      <td>SER</td>\n",
       "      <td>2007.0</td>\n",
       "      <td>4.0</td>\n",
       "      <td>3.0</td>\n",
       "      <td>7.0</td>\n",
       "      <td>CDS</td>\n",
       "    </tr>\n",
       "    <tr>\n",
       "      <th>1</th>\n",
       "      <td>ABLI070804175500</td>\n",
       "      <td>1</td>\n",
       "      <td>0</td>\n",
       "      <td>0</td>\n",
       "      <td>0</td>\n",
       "      <td>0</td>\n",
       "      <td>0</td>\n",
       "      <td>0</td>\n",
       "      <td>0</td>\n",
       "      <td>0</td>\n",
       "      <td>...</td>\n",
       "      <td>0.0</td>\n",
       "      <td>NaN</td>\n",
       "      <td>NaN</td>\n",
       "      <td>ABLI</td>\n",
       "      <td>SER</td>\n",
       "      <td>2007.0</td>\n",
       "      <td>8.0</td>\n",
       "      <td>6.0</td>\n",
       "      <td>17.0</td>\n",
       "      <td>CDS</td>\n",
       "    </tr>\n",
       "    <tr>\n",
       "      <th>2</th>\n",
       "      <td>ABLI091117170900</td>\n",
       "      <td>0</td>\n",
       "      <td>0</td>\n",
       "      <td>0</td>\n",
       "      <td>0</td>\n",
       "      <td>1</td>\n",
       "      <td>0</td>\n",
       "      <td>0</td>\n",
       "      <td>0</td>\n",
       "      <td>0</td>\n",
       "      <td>...</td>\n",
       "      <td>0.0</td>\n",
       "      <td>NaN</td>\n",
       "      <td>NaN</td>\n",
       "      <td>ABLI</td>\n",
       "      <td>SER</td>\n",
       "      <td>2009.0</td>\n",
       "      <td>11.0</td>\n",
       "      <td>2.0</td>\n",
       "      <td>17.0</td>\n",
       "      <td>CDS</td>\n",
       "    </tr>\n",
       "    <tr>\n",
       "      <th>3</th>\n",
       "      <td>ABLI121009110000</td>\n",
       "      <td>0</td>\n",
       "      <td>0</td>\n",
       "      <td>0</td>\n",
       "      <td>0</td>\n",
       "      <td>1</td>\n",
       "      <td>0</td>\n",
       "      <td>0</td>\n",
       "      <td>0</td>\n",
       "      <td>0</td>\n",
       "      <td>...</td>\n",
       "      <td>0.0</td>\n",
       "      <td>NaN</td>\n",
       "      <td>NaN</td>\n",
       "      <td>ABLI</td>\n",
       "      <td>SER</td>\n",
       "      <td>2012.0</td>\n",
       "      <td>10.0</td>\n",
       "      <td>2.0</td>\n",
       "      <td>11.0</td>\n",
       "      <td>CDS</td>\n",
       "    </tr>\n",
       "    <tr>\n",
       "      <th>4</th>\n",
       "      <td>ABLI140610163500</td>\n",
       "      <td>0</td>\n",
       "      <td>0</td>\n",
       "      <td>0</td>\n",
       "      <td>0</td>\n",
       "      <td>0</td>\n",
       "      <td>0</td>\n",
       "      <td>0</td>\n",
       "      <td>0</td>\n",
       "      <td>0</td>\n",
       "      <td>...</td>\n",
       "      <td>0.0</td>\n",
       "      <td>38.91205</td>\n",
       "      <td>-76.93412</td>\n",
       "      <td>ABLI</td>\n",
       "      <td>SER</td>\n",
       "      <td>2014.0</td>\n",
       "      <td>6.0</td>\n",
       "      <td>2.0</td>\n",
       "      <td>16.0</td>\n",
       "      <td>CDS</td>\n",
       "    </tr>\n",
       "  </tbody>\n",
       "</table>\n",
       "<p>5 rows × 56 columns</p>\n",
       "</div>"
      ],
      "text/plain": [
       "           INCID_NO  5_mph  10_mph  15_mph  20_mph  25_mph  30_mph  35_mph  \\\n",
       "0  ABLI070425075000      0       0       0       0       0       0       0   \n",
       "1  ABLI070804175500      1       0       0       0       0       0       0   \n",
       "2  ABLI091117170900      0       0       0       0       1       0       0   \n",
       "3  ABLI121009110000      0       0       0       0       1       0       0   \n",
       "4  ABLI140610163500      0       0       0       0       0       0       0   \n",
       "\n",
       "   40_mph  45_mph  ...  Adverse Weather  LATITUDE  LONGITUDE  Park  RGN  \\\n",
       "0       0       0  ...              0.0       NaN        NaN  ABLI  SER   \n",
       "1       0       0  ...              0.0       NaN        NaN  ABLI  SER   \n",
       "2       0       0  ...              0.0       NaN        NaN  ABLI  SER   \n",
       "3       0       0  ...              0.0       NaN        NaN  ABLI  SER   \n",
       "4       0       0  ...              0.0  38.91205  -76.93412  ABLI  SER   \n",
       "\n",
       "     YEAR  MONTH  DOW  HOUR  database  \n",
       "0  2007.0    4.0  3.0   7.0       CDS  \n",
       "1  2007.0    8.0  6.0  17.0       CDS  \n",
       "2  2009.0   11.0  2.0  17.0       CDS  \n",
       "3  2012.0   10.0  2.0  11.0       CDS  \n",
       "4  2014.0    6.0  2.0  16.0       CDS  \n",
       "\n",
       "[5 rows x 56 columns]"
      ]
     },
     "execution_count": 8,
     "metadata": {},
     "output_type": "execute_result"
    }
   ],
   "source": [
    "analysis_database_2023.head()"
   ]
  },
  {
   "cell_type": "code",
   "execution_count": 9,
   "id": "39cc949e",
   "metadata": {},
   "outputs": [
    {
     "data": {
      "text/plain": [
       "Index(['INCID_NO', '5_mph', '10_mph', '15_mph', '20_mph', '25_mph', '30_mph',\n",
       "       '35_mph', '40_mph', '45_mph', '50_mph', '55_mph', '60_mph', '65_mph',\n",
       "       '70_mph', '75_mph', 'no_posted_speed', 'NUM_VEH', 'Num_Motorcycle',\n",
       "       'Motorcycle_Ind', 'No Injury', 'Possible Injury',\n",
       "       'Non-incapacitating Injury', 'Incapacitating Injury', 'Fatality',\n",
       "       'Num_Motorist', 'Num_Non_Motorist', 'Num_Pedestrian', 'Num_Ped_Deaths',\n",
       "       'Pedestrian', 'VRU', 'Crash_Severity', 'CrashSeverity_Fatal',\n",
       "       'CrashSeverity_Incap', 'CrashSeverity_NonIncap',\n",
       "       'CrashSeverity_Possible', 'CrashSeverity_NoInj', 'First_Harmful_Event',\n",
       "       'Involving Animal', 'Daylight', 'Dawn', 'Dusk', 'Dark_Lit',\n",
       "       'Dark_NotLit', 'Dark_UnknownLit', 'Poor Lighting', 'Adverse Weather',\n",
       "       'LATITUDE', 'LONGITUDE', 'Park', 'RGN', 'YEAR', 'MONTH', 'DOW', 'HOUR',\n",
       "       'database'],\n",
       "      dtype='object')"
      ]
     },
     "execution_count": 9,
     "metadata": {},
     "output_type": "execute_result"
    }
   ],
   "source": [
    "analysis_database_2023.columns"
   ]
  },
  {
   "cell_type": "code",
   "execution_count": 10,
   "id": "25845e60",
   "metadata": {},
   "outputs": [],
   "source": [
    "analysis_database_2023.to_csv('analysis_database_2023.csv',index=False)"
   ]
  }
 ],
 "metadata": {
  "kernelspec": {
   "display_name": "Python 3",
   "language": "python",
   "name": "python3"
  },
  "language_info": {
   "codemirror_mode": {
    "name": "ipython",
    "version": 3
   },
   "file_extension": ".py",
   "mimetype": "text/x-python",
   "name": "python",
   "nbconvert_exporter": "python",
   "pygments_lexer": "ipython3",
   "version": "3.8.8"
  }
 },
 "nbformat": 4,
 "nbformat_minor": 5
}
