{
 "cells": [
  {
   "cell_type": "code",
   "execution_count": 2,
   "id": "d9043065",
   "metadata": {},
   "outputs": [],
   "source": [
    "import pandas as pd\n",
    "import numpy as np\n",
    "import os\n",
    "myworkingdirectory = r\"C:\\Users\\Sophie.Kaye\\Desktop\\NPS Crash Data\"\n",
    "os.chdir(myworkingdirectory)"
   ]
  },
  {
   "cell_type": "code",
   "execution_count": 3,
   "id": "acddea79",
   "metadata": {},
   "outputs": [],
   "source": [
    "cds_crash = pd.read_excel('./CDS/ALL_CRASH.xlsx')"
   ]
  },
  {
   "cell_type": "code",
   "execution_count": 4,
   "id": "0f55715f",
   "metadata": {},
   "outputs": [
    {
     "data": {
      "text/plain": [
       "Index(['OBJECTID', 'INCID_NO', 'CASE_NUM', 'PARK_ALPHA', 'STATE_CODE',\n",
       "       'CRASH_DATE', 'CRASH_TIME', 'RTE_NO', 'RTE_NAME', 'NODE_DIST_FT',\n",
       "       'NODE_DIST_MI', 'NODE_DIR', 'NODE_NUM', 'LIGHT', 'WEATHER',\n",
       "       'CRASH_LOCATION', 'SURF_COND', 'CRASH_CLASS', 'VEH_COLL', 'OBJ_STRUCK',\n",
       "       'ROAD_CHAR', 'CON_FACT1', 'CON_FACT2', 'CON_FACT3', 'CON_FACT4',\n",
       "       'CON_FACT5', 'CON_FACT6', 'HIT_RUN', 'CATEGORY', 'FATALS', 'INJURED',\n",
       "       'PED_FAT', 'PED_INJ', 'BIKE_FAT', 'BIKE_INJ', 'PED', 'CRASH_YEAR',\n",
       "       'COMMENTS', 'ZIPFILE', 'LOCATION', 'PHOTOS_TAKEN', 'USPP_NPS_VEH_INV',\n",
       "       'PARK_PTY_DEST', 'LOCKED_UPDATE', 'LOCKED_BY_USER', 'DATA_SRC',\n",
       "       'LATITUDE', 'LONGITUDE', 'MILEPOST', 'IMPORT_DATE', 'FILE_NAME',\n",
       "       'SAVE_DATE', 'ROUTE_IDENT', 'RIP_CYCLE', 'MP_NODE', 'SPTL_LOC'],\n",
       "      dtype='object')"
      ]
     },
     "execution_count": 4,
     "metadata": {},
     "output_type": "execute_result"
    }
   ],
   "source": [
    "cds_crash.columns"
   ]
  },
  {
   "cell_type": "code",
   "execution_count": 5,
   "id": "51838c1a",
   "metadata": {},
   "outputs": [
    {
     "data": {
      "text/plain": [
       "(204687, 56)"
      ]
     },
     "execution_count": 5,
     "metadata": {},
     "output_type": "execute_result"
    }
   ],
   "source": [
    "cds_crash.shape"
   ]
  },
  {
   "cell_type": "code",
   "execution_count": 6,
   "id": "a69636e4",
   "metadata": {},
   "outputs": [],
   "source": [
    "num_reports = cds_crash.shape[0]"
   ]
  },
  {
   "cell_type": "code",
   "execution_count": 7,
   "id": "9459483f",
   "metadata": {},
   "outputs": [
    {
     "data": {
      "text/plain": [
       "1.0     55363\n",
       "5.0     14123\n",
       "4.0      6627\n",
       "3.0      2782\n",
       "2.0      1769\n",
       "99.0     1532\n",
       "98.0      590\n",
       "Name: LIGHT, dtype: int64"
      ]
     },
     "execution_count": 7,
     "metadata": {},
     "output_type": "execute_result"
    }
   ],
   "source": [
    "cds_crash['LIGHT'].value_counts()"
   ]
  },
  {
   "cell_type": "code",
   "execution_count": 8,
   "id": "11c83628",
   "metadata": {},
   "outputs": [
    {
     "data": {
      "text/plain": [
       "(121901, 56)"
      ]
     },
     "execution_count": 8,
     "metadata": {},
     "output_type": "execute_result"
    }
   ],
   "source": [
    "cds_crash.loc[cds_crash['LIGHT'].isnull()].shape"
   ]
  },
  {
   "cell_type": "code",
   "execution_count": 10,
   "id": "6372e0d6",
   "metadata": {},
   "outputs": [
    {
     "data": {
      "text/plain": [
       "59.55"
      ]
     },
     "execution_count": 10,
     "metadata": {},
     "output_type": "execute_result"
    }
   ],
   "source": [
    "lighting_null = cds_crash.loc[cds_crash['LIGHT'].isnull()].shape[0]\n",
    "round(lighting_null/num_reports*100,2)\n",
    "# YIKES!!!"
   ]
  },
  {
   "cell_type": "code",
   "execution_count": 12,
   "id": "8a75f0ed",
   "metadata": {},
   "outputs": [
    {
     "data": {
      "text/plain": [
       "1.0     133737\n",
       "2.0      31162\n",
       "3.0      22877\n",
       "4.0       5770\n",
       "99.0      4611\n",
       "5.0       1903\n",
       "6.0       1425\n",
       "88.0       927\n",
       "98.0       571\n",
       "8.0        366\n",
       "7.0        192\n",
       "Name: WEATHER, dtype: int64"
      ]
     },
     "execution_count": 12,
     "metadata": {},
     "output_type": "execute_result"
    }
   ],
   "source": [
    "cds_crash['WEATHER'].value_counts()"
   ]
  },
  {
   "cell_type": "code",
   "execution_count": 13,
   "id": "7f3c5d9d",
   "metadata": {},
   "outputs": [
    {
     "data": {
      "text/plain": [
       "(1146, 56)"
      ]
     },
     "execution_count": 13,
     "metadata": {},
     "output_type": "execute_result"
    }
   ],
   "source": [
    "cds_crash.loc[cds_crash['WEATHER'].isnull()].shape"
   ]
  },
  {
   "cell_type": "code",
   "execution_count": 14,
   "id": "63c16ae1",
   "metadata": {},
   "outputs": [
    {
     "data": {
      "text/plain": [
       "0.56"
      ]
     },
     "execution_count": 14,
     "metadata": {},
     "output_type": "execute_result"
    }
   ],
   "source": [
    "weather_null = cds_crash.loc[cds_crash['WEATHER'].isnull()].shape[0]\n",
    "round(weather_null/num_reports*100,2)"
   ]
  },
  {
   "cell_type": "code",
   "execution_count": 16,
   "id": "c0892412",
   "metadata": {},
   "outputs": [
    {
     "data": {
      "text/plain": [
       "1.0     146646\n",
       "2.0      33899\n",
       "3.0       8655\n",
       "99.0      5088\n",
       "4.0       5044\n",
       "88.0      1791\n",
       "6.0       1106\n",
       "5.0        668\n",
       "98.0       627\n",
       "Name: SURF_COND, dtype: int64"
      ]
     },
     "execution_count": 16,
     "metadata": {},
     "output_type": "execute_result"
    }
   ],
   "source": [
    "cds_crash['SURF_COND'].value_counts()"
   ]
  },
  {
   "cell_type": "code",
   "execution_count": 17,
   "id": "5164be0f",
   "metadata": {},
   "outputs": [
    {
     "data": {
      "text/plain": [
       "(1163, 56)"
      ]
     },
     "execution_count": 17,
     "metadata": {},
     "output_type": "execute_result"
    }
   ],
   "source": [
    "cds_crash.loc[cds_crash['SURF_COND'].isnull()].shape"
   ]
  },
  {
   "cell_type": "code",
   "execution_count": 18,
   "id": "0346a26a",
   "metadata": {},
   "outputs": [
    {
     "data": {
      "text/plain": [
       "0.57"
      ]
     },
     "execution_count": 18,
     "metadata": {},
     "output_type": "execute_result"
    }
   ],
   "source": [
    "SurfaceCondition_null = cds_crash.loc[cds_crash['SURF_COND'].isnull()].shape[0]\n",
    "round(SurfaceCondition_null/num_reports*100,2)"
   ]
  },
  {
   "cell_type": "code",
   "execution_count": 24,
   "id": "f354bb0f",
   "metadata": {},
   "outputs": [
    {
     "data": {
      "text/plain": [
       "A16    40316\n",
       "U99    21055\n",
       "B06    16703\n",
       "A88    13487\n",
       "A06    12306\n",
       "A09     9620\n",
       "A11     8182\n",
       "A03     6476\n",
       "B05     6258\n",
       "A04     5589\n",
       "A02     5358\n",
       "A05     4118\n",
       "A10     3499\n",
       "A15     3200\n",
       "A07     2893\n",
       "E02     2204\n",
       "B08     1816\n",
       "E01     1810\n",
       "B88     1450\n",
       "A14     1413\n",
       "A08     1185\n",
       "E05     1123\n",
       "E03     1106\n",
       "C01     1075\n",
       "C88     1048\n",
       "A01     1019\n",
       "A12      997\n",
       "B07      977\n",
       "B02      806\n",
       "A17      693\n",
       "E88      621\n",
       "C02      606\n",
       "E04      508\n",
       "B04      397\n",
       "E07      278\n",
       "D03      234\n",
       "C07      204\n",
       "C08      198\n",
       "C06      185\n",
       "D05      184\n",
       "A18      178\n",
       "B01      137\n",
       "D88      128\n",
       "D04      116\n",
       "B03      106\n",
       "E06       86\n",
       "A13       81\n",
       "C04       65\n",
       "D06       38\n",
       "C05       34\n",
       "D02       26\n",
       "D07       20\n",
       "D01       11\n",
       "C03       10\n",
       "a16        2\n",
       "e88        1\n",
       "Name: CON_FACT1, dtype: int64"
      ]
     },
     "execution_count": 24,
     "metadata": {},
     "output_type": "execute_result"
    }
   ],
   "source": [
    "cds_crash['CON_FACT1'].value_counts()\n",
    "# includes roadway and environmental contributing factors"
   ]
  },
  {
   "cell_type": "code",
   "execution_count": 21,
   "id": "621e6600",
   "metadata": {},
   "outputs": [
    {
     "data": {
      "text/plain": [
       "(22451, 56)"
      ]
     },
     "execution_count": 21,
     "metadata": {},
     "output_type": "execute_result"
    }
   ],
   "source": [
    "cds_crash.loc[cds_crash['CON_FACT1'].isnull()].shape"
   ]
  },
  {
   "cell_type": "code",
   "execution_count": 23,
   "id": "2092ea3e",
   "metadata": {},
   "outputs": [
    {
     "data": {
      "text/plain": [
       "10.97"
      ]
     },
     "execution_count": 23,
     "metadata": {},
     "output_type": "execute_result"
    }
   ],
   "source": [
    "RoadConFact_null = cds_crash.loc[cds_crash['CON_FACT1'].isnull()].shape[0]\n",
    "round(RoadConFact_null/num_reports*100,2)"
   ]
  },
  {
   "cell_type": "code",
   "execution_count": 3,
   "id": "582ad7a3",
   "metadata": {},
   "outputs": [],
   "source": [
    "cds_vehicle = pd.read_excel('./CDS/ALL_UNIT.xlsx')"
   ]
  },
  {
   "cell_type": "code",
   "execution_count": 4,
   "id": "ba74db75",
   "metadata": {},
   "outputs": [
    {
     "data": {
      "text/plain": [
       "0.0     301573\n",
       "99.0      1308\n",
       "1.0       1045\n",
       "2.0       1039\n",
       "88.0       122\n",
       "5.0         44\n",
       "6.0         40\n",
       "98.0        31\n",
       "3.0          6\n",
       "4.0          6\n",
       "Name: PED_TYPE, dtype: int64"
      ]
     },
     "execution_count": 4,
     "metadata": {},
     "output_type": "execute_result"
    }
   ],
   "source": [
    "cds_vehicle['PED_TYPE'].value_counts()"
   ]
  },
  {
   "cell_type": "code",
   "execution_count": null,
   "id": "49965c1d",
   "metadata": {},
   "outputs": [],
   "source": []
  }
 ],
 "metadata": {
  "kernelspec": {
   "display_name": "Python 3",
   "language": "python",
   "name": "python3"
  },
  "language_info": {
   "codemirror_mode": {
    "name": "ipython",
    "version": 3
   },
   "file_extension": ".py",
   "mimetype": "text/x-python",
   "name": "python",
   "nbconvert_exporter": "python",
   "pygments_lexer": "ipython3",
   "version": "3.8.8"
  }
 },
 "nbformat": 4,
 "nbformat_minor": 5
}
