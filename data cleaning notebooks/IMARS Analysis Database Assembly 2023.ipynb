{
 "cells": [
  {
   "cell_type": "code",
   "execution_count": 1,
   "metadata": {},
   "outputs": [],
   "source": [
    "import pandas as pd\n",
    "import geopandas as gpd\n",
    "import numpy as np\n",
    "import os\n",
    "from shapely.geometry import Point, LineString, Polygon\n",
    "from datetime import datetime"
   ]
  },
  {
   "cell_type": "code",
   "execution_count": 2,
   "metadata": {},
   "outputs": [],
   "source": [
    "myworkingdirectory = r\"C:\\Users\\Sophie.Kaye\\Desktop\\NPS Crash Data\"\n",
    "os.chdir(myworkingdirectory)"
   ]
  },
  {
   "cell_type": "code",
   "execution_count": 3,
   "metadata": {},
   "outputs": [],
   "source": [
    "imars_crash = pd.read_excel(\"./IMARS/IMARS 2012 - 2021.xlsx\", sheet_name = \"Location\")\n",
    "imars_passenger = pd.read_excel(\"./IMARS/IMARS 2012 - 2021.xlsx\", sheet_name = \"Person\")\n",
    "imars_vehicle = pd.read_excel(\"./IMARS/IMARS 2012 - 2021.xlsx\", sheet_name = \"Vehicle\")\n",
    "imars_crash_details = pd.read_excel(\"./IMARS/IMARS 2012 - 2021.xlsx\", sheet_name = \"Classification\")"
   ]
  },
  {
   "cell_type": "code",
   "execution_count": 4,
   "metadata": {},
   "outputs": [
    {
     "data": {
      "text/plain": [
       "Index(['IMARS_Record_No', 'Crash_Date_Time', 'Driver_Action',\n",
       "       'Driver_Condition', 'Driver_Distraction', 'Suspect_Alcohol',\n",
       "       'Alcohol_Test', 'Alcohol_Test_Result_1', 'Alcohol_Test_Result_2',\n",
       "       'Suspect_Drugs', 'Drug_Test', 'Violations_Issued', 'Seat_Position',\n",
       "       'Injury_Severity', 'Air_Bag_Deployed', 'Ejection',\n",
       "       'Injury_Transported_By', 'Safety_Equipment_Used', 'Vehicle_number',\n",
       "       'Injured_transported_by', 'Non_motorist_safety_equipment',\n",
       "       'Non_motorist_action_circumstance_prior_to_crash',\n",
       "       'Non_motorist_action_circumstance_at_time_of_crash',\n",
       "       'Non_motorist_condition_at_time_of_crash', 'Non_motorist_distraction',\n",
       "       'Non_motorist_location_at_time_of_crash', 'Pedestrian_Type',\n",
       "       'Pedestrian_Type_Detail', 'Involvement'],\n",
       "      dtype='object')"
      ]
     },
     "execution_count": 4,
     "metadata": {},
     "output_type": "execute_result"
    }
   ],
   "source": [
    "imars_passenger.columns"
   ]
  },
  {
   "cell_type": "code",
   "execution_count": 5,
   "metadata": {},
   "outputs": [
    {
     "data": {
      "text/plain": [
       "Index(['IMARS_Record_No', 'Crash_Date_Time', 'Linked_Address_Classification',\n",
       "       'City_Town_Park_Location', 'State', 'County', 'Direction',\n",
       "       'Linked_Street_Number', 'Linked_Common_Name', 'Street_Type',\n",
       "       'Direction.1', 'NEAR_Distance_to_MI', 'NEAR_Direction_To',\n",
       "       'NEAR_Direction', 'NEAR_route_street_road_name', 'NEAR_Road_Type',\n",
       "       'NEAR_Direction.1', 'AT_Intersection_route_street_road_DIRECTION',\n",
       "       'At_Intersecting_route_street_road_name', 'AT_Road_Type',\n",
       "       'AT_Direction', 'Mile_Marker', 'Latitude', 'Longitude', 'Region',\n",
       "       'State_Zone', 'Park', 'Site', 'Place', 'Point',\n",
       "       'Road_Type_Classification', 'Linked_Address'],\n",
       "      dtype='object')"
      ]
     },
     "execution_count": 5,
     "metadata": {},
     "output_type": "execute_result"
    }
   ],
   "source": [
    "imars_crash.columns"
   ]
  },
  {
   "cell_type": "code",
   "execution_count": 6,
   "metadata": {},
   "outputs": [
    {
     "data": {
      "text/plain": [
       "Index(['IMARS_Record_No', 'Crash_Date_Time', 'Number_of_Vehicles_Involved',\n",
       "       'Injury_or_Fatal_Crash', 'Investigated_at_Scene', 'Hit_and_Run',\n",
       "       'Non_Motor_Vehicl_Property_Damage', 'Amount_of_Property_Damage',\n",
       "       'First_Harmful_Event_Type', 'First_Harmful_Event',\n",
       "       'Location_of_First_Harmful_Event', 'Weather', 'Roadway_Condition',\n",
       "       'Lighting', 'School_Bus_related', 'AS_Road_Circumstance',\n",
       "       'Environmental_Contributing_Circumstances', 'Work_Zone_Related',\n",
       "       'Work_Zone_Workers_Present', 'Work_Zone_Location',\n",
       "       'Law_Enforcement_Present_at_Work_Zone', 'Relation_to_Junction',\n",
       "       'Type_of_Intersection', 'Manner_of_Collision'],\n",
       "      dtype='object')"
      ]
     },
     "execution_count": 6,
     "metadata": {},
     "output_type": "execute_result"
    }
   ],
   "source": [
    "imars_crash_details.columns"
   ]
  },
  {
   "cell_type": "code",
   "execution_count": 7,
   "metadata": {},
   "outputs": [
    {
     "data": {
      "text/plain": [
       "Index(['IMARS_Record_No', 'Crash_Date_Time', 'Vehicle_Number',\n",
       "       'Number_of_Occupants', 'Vehicle_Towed', 'Insurance_verified',\n",
       "       'Initial_Impact_Point', 'Most_Damaged_Area', 'Extent_of_Damage',\n",
       "       'Direction_of_Travel_Prior_to_Crash', 'Posted_Speed',\n",
       "       'First_Event_Type', 'First_Event', 'Second_Event_Type', 'Second_Event',\n",
       "       'Third_Event_Type', 'Third_Event', 'Fourth_Event_Type', 'Fourth_Event',\n",
       "       'Motor_Vehicle_Unit_Type', 'Vehicle_Owner', 'Vehicle_Type',\n",
       "       'Non_Commercial_Trailer_Style', 'Emergency_Vehicle_Use',\n",
       "       'Emergency_Equipment_Activated', 'Special_Function_of_MV_in_Transport',\n",
       "       'Motor_Vehicle_Contributing_Circumstance',\n",
       "       'Vehicle_Maneuver_Action_Prior_to_Crash', 'Road_Surface', 'Grade',\n",
       "       'Roadway_Alignment', 'Total_Number_of_Lanes', 'Traffic_Control',\n",
       "       'Traffic_Control_Working_Properly', 'Roadway_Description',\n",
       "       'Commercial_Non_Commercial', 'Number_of_Axles', 'Gross_Vehicle_Weight',\n",
       "       'Combination_GVW', 'Commercial_Cargo_Body_Type', 'Commercial_Cargo',\n",
       "       'Commercial_MV_Configuration', 'Identification_Number_Type',\n",
       "       'Hazmat_1_Class', 'Hazmat_1_ID', 'Hazmat_2_Class', 'Hazmat_2_ID',\n",
       "       'Hazmat_3_Class', 'Hazmat_3_ID', 'Hazmat_4_Class', 'Hazmat_4_ID'],\n",
       "      dtype='object')"
      ]
     },
     "execution_count": 7,
     "metadata": {},
     "output_type": "execute_result"
    }
   ],
   "source": [
    "imars_vehicle.columns"
   ]
  },
  {
   "cell_type": "markdown",
   "metadata": {},
   "source": [
    "# General Data Cleaning\n",
    "Note that there are crashes with randomly missing park, region, and/or roadway"
   ]
  },
  {
   "cell_type": "markdown",
   "metadata": {},
   "source": [
    "### Remove crashes missing record numbers"
   ]
  },
  {
   "cell_type": "code",
   "execution_count": 8,
   "metadata": {},
   "outputs": [],
   "source": [
    "imars_crash = imars_crash.dropna(subset=['IMARS_Record_No'])\n",
    "imars_passenger = imars_passenger.dropna(subset=['IMARS_Record_No'])\n",
    "imars_vehicle = imars_vehicle.dropna(subset=['IMARS_Record_No'])\n",
    "imars_crash_details = imars_crash_details.dropna(subset=['IMARS_Record_No'])"
   ]
  },
  {
   "cell_type": "markdown",
   "metadata": {},
   "source": [
    "### Remove duplicate reports"
   ]
  },
  {
   "cell_type": "code",
   "execution_count": 9,
   "metadata": {},
   "outputs": [],
   "source": [
    "imars_crash = imars_crash.drop_duplicates(subset=['IMARS_Record_No'])\n",
    "imars_crash_details = imars_crash_details.drop_duplicates(subset=['IMARS_Record_No'])\n",
    "# Cannot remove duplicates from vehicle and passenger tables because they are unique records for each person/car involved in crash "
   ]
  },
  {
   "cell_type": "markdown",
   "metadata": {},
   "source": [
    "### Revert flipped lat/long"
   ]
  },
  {
   "cell_type": "code",
   "execution_count": 10,
   "metadata": {},
   "outputs": [],
   "source": [
    "need_revert = imars_crash['Latitude'].abs() > 70\n",
    "imars_crash.loc[need_revert, ['Latitude', 'Longitude']] = (imars_crash.loc[need_revert, ['Longitude', 'Latitude']].values)"
   ]
  },
  {
   "cell_type": "markdown",
   "metadata": {},
   "source": [
    "### Adjust coordinate signs to correct hemisphere"
   ]
  },
  {
   "cell_type": "code",
   "execution_count": 11,
   "metadata": {},
   "outputs": [],
   "source": [
    "imars_crash.loc[imars_crash.Latitude < 0,\"Latitude\"] = imars_crash['Latitude']*(-1)\n",
    "imars_crash.loc[imars_crash.Longitude > 0,\"Longitude\"] = imars_crash['Longitude']*(-1)"
   ]
  },
  {
   "cell_type": "markdown",
   "metadata": {},
   "source": [
    "# Add Parks to Crash Table\n",
    "\n",
    "**Note:** IMARS does not have park units with each crash, so these will have to be added using the Latitude and Longitude fields in the imars_crash dataset. "
   ]
  },
  {
   "cell_type": "code",
   "execution_count": 12,
   "metadata": {},
   "outputs": [
    {
     "data": {
      "text/plain": [
       "12205"
      ]
     },
     "execution_count": 12,
     "metadata": {},
     "output_type": "execute_result"
    }
   ],
   "source": [
    "imars_crash_parks = imars_crash.dropna(subset=['Park'])\n",
    "imars_crash_parks.shape[0]"
   ]
  },
  {
   "cell_type": "code",
   "execution_count": 13,
   "metadata": {},
   "outputs": [
    {
     "data": {
      "text/plain": [
       "2925"
      ]
     },
     "execution_count": 13,
     "metadata": {},
     "output_type": "execute_result"
    }
   ],
   "source": [
    "imars_crash.loc[imars_crash['Park'].isnull()].shape[0]\n",
    "# 2925 crash entries have no park identification"
   ]
  },
  {
   "cell_type": "code",
   "execution_count": 14,
   "metadata": {},
   "outputs": [
    {
     "data": {
      "text/plain": [
       "591"
      ]
     },
     "execution_count": 14,
     "metadata": {},
     "output_type": "execute_result"
    }
   ],
   "source": [
    "imars_crash_coords = imars_crash.loc[imars_crash['Park'].isnull()].dropna(subset=['Latitude','Longitude'])\n",
    "imars_crash_coords.shape[0]\n",
    "# of the 2925 crash entries without park identification, 591 have lat/long coordinates from which park can be assigned using the shapefile\n",
    "# the sum of crashes with pre-identified parks and crashes that can be assigned a park using lat/long coordinates "
   ]
  },
  {
   "cell_type": "code",
   "execution_count": 15,
   "metadata": {},
   "outputs": [
    {
     "data": {
      "text/plain": [
       "12796"
      ]
     },
     "execution_count": 15,
     "metadata": {},
     "output_type": "execute_result"
    }
   ],
   "source": [
    "# results in the following total of possible usable crash entries after the spatial join:\n",
    "12205+591"
   ]
  },
  {
   "cell_type": "code",
   "execution_count": 16,
   "metadata": {},
   "outputs": [
    {
     "data": {
      "text/plain": [
       "2334"
      ]
     },
     "execution_count": 16,
     "metadata": {},
     "output_type": "execute_result"
    }
   ],
   "source": [
    "imars_crash_noparks = imars_crash.loc[imars_crash['Park'].isnull()]\n",
    "imars_crash_noparks_nocoords = imars_crash_noparks.loc[imars_crash_noparks['Latitude'].isnull()]\n",
    "# 2334 of the crash entries have no park identification or lat/long coordinates\n",
    "2925-591"
   ]
  },
  {
   "cell_type": "code",
   "execution_count": 17,
   "metadata": {},
   "outputs": [
    {
     "data": {
      "text/plain": [
       "109"
      ]
     },
     "execution_count": 17,
     "metadata": {},
     "output_type": "execute_result"
    }
   ],
   "source": [
    "mask = imars_crash_noparks_nocoords.loc[:,['Linked_Common_Name','Linked_Address','NEAR_route_street_road_name',\n",
    "                                           'At_Intersecting_route_street_road_name']].notnull()\n",
    "imars_noparks_nocoords_someinfo = imars_crash_noparks_nocoords.loc[mask.any(axis=1)]\n",
    "imars_noparks_nocoords_someinfo.shape[0]\n",
    "# of the 2334 crash entries without park identification or lat/long coordinates, 109 have other identifiable information \n",
    "# (e.g., roadway name) which could be used to identify the park name"
   ]
  },
  {
   "cell_type": "code",
   "execution_count": 18,
   "metadata": {},
   "outputs": [],
   "source": [
    "# print file containing only this subset of crashes for manual park identification\n",
    "imars_noparks_nocoords_someinfo.to_csv(\"./IMARS_noparks_nocoords_someinfo.csv\",index=False)"
   ]
  },
  {
   "cell_type": "markdown",
   "metadata": {},
   "source": [
    "## Spatial join to assign Park names"
   ]
  },
  {
   "cell_type": "code",
   "execution_count": 19,
   "metadata": {},
   "outputs": [],
   "source": [
    "imars_crash_coords_geo=gpd.GeoDataFrame(imars_crash_coords, geometry=gpd.points_from_xy(imars_crash_coords.Longitude, imars_crash_coords.Latitude))\n",
    "filename = \"./shapefiles/NPS_-_Land_Resources_Division_Boundary_and_Tract_Data_Service.geojson\"\n",
    "file = open(filename)\n",
    "parks = gpd.read_file(file)"
   ]
  },
  {
   "cell_type": "code",
   "execution_count": 20,
   "metadata": {},
   "outputs": [
    {
     "name": "stderr",
     "output_type": "stream",
     "text": [
      "C:\\Users\\Sophie.Kaye\\AppData\\Local\\Temp\\ipykernel_20152\\4190506217.py:3: UserWarning: Geometry is in a geographic CRS. Results from 'buffer' are likely incorrect. Use 'GeoSeries.to_crs()' to re-project geometries to a projected CRS before this operation.\n",
      "\n",
      "  parks['geometry']=parks['geometry'].buffer(0.01)\n"
     ]
    },
    {
     "data": {
      "text/html": [
       "<div>\n",
       "<style scoped>\n",
       "    .dataframe tbody tr th:only-of-type {\n",
       "        vertical-align: middle;\n",
       "    }\n",
       "\n",
       "    .dataframe tbody tr th {\n",
       "        vertical-align: top;\n",
       "    }\n",
       "\n",
       "    .dataframe thead th {\n",
       "        text-align: right;\n",
       "    }\n",
       "</style>\n",
       "<table border=\"1\" class=\"dataframe\">\n",
       "  <thead>\n",
       "    <tr style=\"text-align: right;\">\n",
       "      <th></th>\n",
       "      <th>IMARS_Record_No</th>\n",
       "      <th>Crash_Date_Time</th>\n",
       "      <th>Linked_Address_Classification</th>\n",
       "      <th>City_Town_Park_Location</th>\n",
       "      <th>State</th>\n",
       "      <th>County</th>\n",
       "      <th>Direction</th>\n",
       "      <th>Linked_Street_Number</th>\n",
       "      <th>Linked_Common_Name</th>\n",
       "      <th>Street_Type</th>\n",
       "      <th>...</th>\n",
       "      <th>CREATED_BY</th>\n",
       "      <th>METADATA</th>\n",
       "      <th>PARKNAME</th>\n",
       "      <th>CreationDate</th>\n",
       "      <th>Creator</th>\n",
       "      <th>EditDate</th>\n",
       "      <th>Editor</th>\n",
       "      <th>GlobalID</th>\n",
       "      <th>Shape__Area</th>\n",
       "      <th>Shape__Length</th>\n",
       "    </tr>\n",
       "  </thead>\n",
       "  <tbody>\n",
       "    <tr>\n",
       "      <th>439</th>\n",
       "      <td>NP14039836</td>\n",
       "      <td>20140513 13:30:00:000</td>\n",
       "      <td>NaN</td>\n",
       "      <td>NaN</td>\n",
       "      <td>NaN</td>\n",
       "      <td>NaN</td>\n",
       "      <td>NaN</td>\n",
       "      <td>NaN</td>\n",
       "      <td>NaN</td>\n",
       "      <td>NaN</td>\n",
       "      <td>...</td>\n",
       "      <td>Lands</td>\n",
       "      <td>Preliminary data. Contact the Land Resources P...</td>\n",
       "      <td>Olympic</td>\n",
       "      <td>2020-01-09T22:16:03+00:00</td>\n",
       "      <td>SCarlton@nps.gov_nps</td>\n",
       "      <td>2020-01-09T22:16:03+00:00</td>\n",
       "      <td>SCarlton@nps.gov_nps</td>\n",
       "      <td>d568927b-56f4-4f49-a52a-b8ab9f7676a3</td>\n",
       "      <td>8.203591e+09</td>\n",
       "      <td>1.158605e+06</td>\n",
       "    </tr>\n",
       "    <tr>\n",
       "      <th>443</th>\n",
       "      <td>NP14049772</td>\n",
       "      <td>20140607 14:42:00:000</td>\n",
       "      <td>NaN</td>\n",
       "      <td>NaN</td>\n",
       "      <td>NaN</td>\n",
       "      <td>NaN</td>\n",
       "      <td>NaN</td>\n",
       "      <td>NaN</td>\n",
       "      <td>NaN</td>\n",
       "      <td>NaN</td>\n",
       "      <td>...</td>\n",
       "      <td>Lands</td>\n",
       "      <td>Preliminary data. Contact the Land Resources P...</td>\n",
       "      <td>Olympic</td>\n",
       "      <td>2020-01-09T22:16:03+00:00</td>\n",
       "      <td>SCarlton@nps.gov_nps</td>\n",
       "      <td>2020-01-09T22:16:03+00:00</td>\n",
       "      <td>SCarlton@nps.gov_nps</td>\n",
       "      <td>d568927b-56f4-4f49-a52a-b8ab9f7676a3</td>\n",
       "      <td>8.203591e+09</td>\n",
       "      <td>1.158605e+06</td>\n",
       "    </tr>\n",
       "    <tr>\n",
       "      <th>444</th>\n",
       "      <td>NP14060606</td>\n",
       "      <td>20140625 20:40:00:000</td>\n",
       "      <td>NaN</td>\n",
       "      <td>NaN</td>\n",
       "      <td>NaN</td>\n",
       "      <td>NaN</td>\n",
       "      <td>NaN</td>\n",
       "      <td>NaN</td>\n",
       "      <td>NaN</td>\n",
       "      <td>NaN</td>\n",
       "      <td>...</td>\n",
       "      <td>Lands</td>\n",
       "      <td>Preliminary data. Contact the Land Resources P...</td>\n",
       "      <td>Olympic</td>\n",
       "      <td>2020-01-09T22:16:03+00:00</td>\n",
       "      <td>SCarlton@nps.gov_nps</td>\n",
       "      <td>2020-01-09T22:16:03+00:00</td>\n",
       "      <td>SCarlton@nps.gov_nps</td>\n",
       "      <td>d568927b-56f4-4f49-a52a-b8ab9f7676a3</td>\n",
       "      <td>8.203591e+09</td>\n",
       "      <td>1.158605e+06</td>\n",
       "    </tr>\n",
       "    <tr>\n",
       "      <th>497</th>\n",
       "      <td>NP16023660</td>\n",
       "      <td>20160312 16:32:00:000</td>\n",
       "      <td>NaN</td>\n",
       "      <td>NaN</td>\n",
       "      <td>NaN</td>\n",
       "      <td>NaN</td>\n",
       "      <td>NaN</td>\n",
       "      <td>NaN</td>\n",
       "      <td>NaN</td>\n",
       "      <td>NaN</td>\n",
       "      <td>...</td>\n",
       "      <td>Lands</td>\n",
       "      <td>https://irma.nps.gov/DataStore/Reference/Profi...</td>\n",
       "      <td>Big Bend</td>\n",
       "      <td>2022-01-06T10:41:22+00:00</td>\n",
       "      <td>WASO</td>\n",
       "      <td>2022-01-06T10:41:22+00:00</td>\n",
       "      <td>WASO</td>\n",
       "      <td>32b17c0c-12d0-4ffb-82fd-fb570aa92382</td>\n",
       "      <td>4.329894e+09</td>\n",
       "      <td>4.621458e+05</td>\n",
       "    </tr>\n",
       "    <tr>\n",
       "      <th>508</th>\n",
       "      <td>NP16029926</td>\n",
       "      <td>20160326 20:00:00:000</td>\n",
       "      <td>NaN</td>\n",
       "      <td>NaN</td>\n",
       "      <td>NaN</td>\n",
       "      <td>NaN</td>\n",
       "      <td>NaN</td>\n",
       "      <td>NaN</td>\n",
       "      <td>NaN</td>\n",
       "      <td>NaN</td>\n",
       "      <td>...</td>\n",
       "      <td>Lands</td>\n",
       "      <td>https://irma.nps.gov/DataStore/Reference/Profi...</td>\n",
       "      <td>Blue Ridge Parkway</td>\n",
       "      <td>2022-01-06T10:41:13+00:00</td>\n",
       "      <td>WASO</td>\n",
       "      <td>2022-01-06T10:41:13+00:00</td>\n",
       "      <td>WASO</td>\n",
       "      <td>a8ef8bcf-aaa2-4623-a8f6-1d93fe31f945</td>\n",
       "      <td>6.422579e+08</td>\n",
       "      <td>2.287707e+06</td>\n",
       "    </tr>\n",
       "  </tbody>\n",
       "</table>\n",
       "<p>5 rows × 53 columns</p>\n",
       "</div>"
      ],
      "text/plain": [
       "    IMARS_Record_No        Crash_Date_Time Linked_Address_Classification  \\\n",
       "439      NP14039836  20140513 13:30:00:000                           NaN   \n",
       "443      NP14049772  20140607 14:42:00:000                           NaN   \n",
       "444      NP14060606  20140625 20:40:00:000                           NaN   \n",
       "497      NP16023660  20160312 16:32:00:000                           NaN   \n",
       "508      NP16029926  20160326 20:00:00:000                           NaN   \n",
       "\n",
       "    City_Town_Park_Location State County Direction  Linked_Street_Number  \\\n",
       "439                     NaN   NaN    NaN       NaN                   NaN   \n",
       "443                     NaN   NaN    NaN       NaN                   NaN   \n",
       "444                     NaN   NaN    NaN       NaN                   NaN   \n",
       "497                     NaN   NaN    NaN       NaN                   NaN   \n",
       "508                     NaN   NaN    NaN       NaN                   NaN   \n",
       "\n",
       "    Linked_Common_Name Street_Type  ...  CREATED_BY  \\\n",
       "439                NaN         NaN  ...       Lands   \n",
       "443                NaN         NaN  ...       Lands   \n",
       "444                NaN         NaN  ...       Lands   \n",
       "497                NaN         NaN  ...       Lands   \n",
       "508                NaN         NaN  ...       Lands   \n",
       "\n",
       "                                              METADATA            PARKNAME  \\\n",
       "439  Preliminary data. Contact the Land Resources P...             Olympic   \n",
       "443  Preliminary data. Contact the Land Resources P...             Olympic   \n",
       "444  Preliminary data. Contact the Land Resources P...             Olympic   \n",
       "497  https://irma.nps.gov/DataStore/Reference/Profi...            Big Bend   \n",
       "508  https://irma.nps.gov/DataStore/Reference/Profi...  Blue Ridge Parkway   \n",
       "\n",
       "                  CreationDate               Creator  \\\n",
       "439  2020-01-09T22:16:03+00:00  SCarlton@nps.gov_nps   \n",
       "443  2020-01-09T22:16:03+00:00  SCarlton@nps.gov_nps   \n",
       "444  2020-01-09T22:16:03+00:00  SCarlton@nps.gov_nps   \n",
       "497  2022-01-06T10:41:22+00:00                  WASO   \n",
       "508  2022-01-06T10:41:13+00:00                  WASO   \n",
       "\n",
       "                      EditDate                Editor  \\\n",
       "439  2020-01-09T22:16:03+00:00  SCarlton@nps.gov_nps   \n",
       "443  2020-01-09T22:16:03+00:00  SCarlton@nps.gov_nps   \n",
       "444  2020-01-09T22:16:03+00:00  SCarlton@nps.gov_nps   \n",
       "497  2022-01-06T10:41:22+00:00                  WASO   \n",
       "508  2022-01-06T10:41:13+00:00                  WASO   \n",
       "\n",
       "                                 GlobalID   Shape__Area Shape__Length  \n",
       "439  d568927b-56f4-4f49-a52a-b8ab9f7676a3  8.203591e+09  1.158605e+06  \n",
       "443  d568927b-56f4-4f49-a52a-b8ab9f7676a3  8.203591e+09  1.158605e+06  \n",
       "444  d568927b-56f4-4f49-a52a-b8ab9f7676a3  8.203591e+09  1.158605e+06  \n",
       "497  32b17c0c-12d0-4ffb-82fd-fb570aa92382  4.329894e+09  4.621458e+05  \n",
       "508  a8ef8bcf-aaa2-4623-a8f6-1d93fe31f945  6.422579e+08  2.287707e+06  \n",
       "\n",
       "[5 rows x 53 columns]"
      ]
     },
     "execution_count": 20,
     "metadata": {},
     "output_type": "execute_result"
    }
   ],
   "source": [
    "imars_crash_coords_geo.crs = \"EPSG:4326\"\n",
    "parks = parks.to_crs(epsg=4326)\n",
    "parks['geometry']=parks['geometry'].buffer(0.01)\n",
    "\n",
    "imars_crash_coords_geo_withparknames=gpd.sjoin(imars_crash_coords_geo,parks,how=\"left\", predicate='intersects')\n",
    "imars_crash_coords_geo_withparknames.head()"
   ]
  },
  {
   "cell_type": "code",
   "execution_count": 21,
   "metadata": {},
   "outputs": [
    {
     "data": {
      "text/plain": [
       "591"
      ]
     },
     "execution_count": 21,
     "metadata": {},
     "output_type": "execute_result"
    }
   ],
   "source": [
    "imars_crash_coords_geo_withparknames2 = imars_crash_coords_geo_withparknames.drop_duplicates(subset=['IMARS_Record_No'])\n",
    "imars_crash_coords_geo_withparknames2.shape[0]\n",
    "# all 591 crash entries were processed in the spatial join"
   ]
  },
  {
   "cell_type": "code",
   "execution_count": 22,
   "metadata": {},
   "outputs": [
    {
     "data": {
      "text/plain": [
       "505"
      ]
     },
     "execution_count": 22,
     "metadata": {},
     "output_type": "execute_result"
    }
   ],
   "source": [
    "imars_crash_withparknames = pd.DataFrame(imars_crash_coords_geo_withparknames2.drop(columns='geometry'))\n",
    "imars_crash_withparknames['Park']= imars_crash_withparknames['UNIT_CODE']\n",
    "imars_crash_withparknames_NoDupsorNulls = imars_crash_withparknames.dropna(subset=['Park'])\n",
    "imars_crash_withparknames_NoDupsorNulls.shape[0]\n",
    "# of the 591 crash entries without parks identified, 505 now have parks assigned from spatial join"
   ]
  },
  {
   "cell_type": "code",
   "execution_count": 23,
   "metadata": {},
   "outputs": [
    {
     "data": {
      "text/plain": [
       "12710"
      ]
     },
     "execution_count": 23,
     "metadata": {},
     "output_type": "execute_result"
    }
   ],
   "source": [
    "# so we expect the total (\"expanded\") dataset to be:\n",
    "12205+505"
   ]
  },
  {
   "cell_type": "code",
   "execution_count": 24,
   "metadata": {},
   "outputs": [
    {
     "data": {
      "text/plain": [
       "(12710, 52)"
      ]
     },
     "execution_count": 24,
     "metadata": {},
     "output_type": "execute_result"
    }
   ],
   "source": [
    "imars_crash_expanded = pd.concat([imars_crash_parks,imars_crash_withparknames_NoDupsorNulls])\n",
    "imars_crash_expanded.shape"
   ]
  },
  {
   "cell_type": "code",
   "execution_count": 25,
   "metadata": {},
   "outputs": [
    {
     "data": {
      "text/plain": [
       "12710"
      ]
     },
     "execution_count": 25,
     "metadata": {},
     "output_type": "execute_result"
    }
   ],
   "source": [
    "# check to make sure all entries in combined dataset contain park assignments \n",
    "imars_crash_expanded = imars_crash_expanded.dropna(subset=['Park'])\n",
    "imars_crash_expanded.shape[0]"
   ]
  },
  {
   "cell_type": "code",
   "execution_count": 26,
   "metadata": {},
   "outputs": [
    {
     "data": {
      "text/plain": [
       "12710"
      ]
     },
     "execution_count": 26,
     "metadata": {},
     "output_type": "execute_result"
    }
   ],
   "source": [
    "# check to make sure no duplicate crashes in combined dataset\n",
    "imars_crash_expanded = imars_crash_expanded.drop_duplicates(subset=['IMARS_Record_No'])\n",
    "imars_crash_expanded.shape[0]"
   ]
  },
  {
   "cell_type": "markdown",
   "metadata": {},
   "source": [
    "## Add in crashes with Park names manually identified via unmistakable roadway names"
   ]
  },
  {
   "cell_type": "code",
   "execution_count": 27,
   "metadata": {},
   "outputs": [],
   "source": [
    "# open file Chris populated in which park names were manually added to crash data containing identifiable info (e.g., road name)\n",
    "imars_new_parknames = pd.read_csv(\"./IMARS/IMARS_noparks_nocoords_someinfo_parks_filled.csv\")"
   ]
  },
  {
   "cell_type": "code",
   "execution_count": 28,
   "metadata": {},
   "outputs": [
    {
     "data": {
      "text/plain": [
       "80"
      ]
     },
     "execution_count": 28,
     "metadata": {},
     "output_type": "execute_result"
    }
   ],
   "source": [
    "# remove any entries for which park names were not able to be identified\n",
    "imars_new_parknames = imars_new_parknames.dropna(subset=['Park'])\n",
    "imars_new_parknames.shape[0]"
   ]
  },
  {
   "cell_type": "code",
   "execution_count": 29,
   "metadata": {},
   "outputs": [
    {
     "data": {
      "text/plain": [
       "12790"
      ]
     },
     "execution_count": 29,
     "metadata": {},
     "output_type": "execute_result"
    }
   ],
   "source": [
    "# 80 of 109 crashes were able to have park names manually added using road names and should be combined with crash data \n",
    "# containing park names from original data and spatial assignment for a total of crashes in the final dataset:\n",
    "12710+80"
   ]
  },
  {
   "cell_type": "code",
   "execution_count": 30,
   "metadata": {},
   "outputs": [
    {
     "data": {
      "text/plain": [
       "(12790, 52)"
      ]
     },
     "execution_count": 30,
     "metadata": {},
     "output_type": "execute_result"
    }
   ],
   "source": [
    "imars_crash_expanded = pd.concat([imars_crash_expanded,imars_new_parknames])\n",
    "imars_crash_expanded.shape"
   ]
  },
  {
   "cell_type": "code",
   "execution_count": 31,
   "metadata": {},
   "outputs": [
    {
     "data": {
      "text/plain": [
       "(12790, 52)"
      ]
     },
     "execution_count": 31,
     "metadata": {},
     "output_type": "execute_result"
    }
   ],
   "source": [
    "# check to make sure there are no duplicates in final dataset\n",
    "imars_crash_expanded = imars_crash_expanded.drop_duplicates(subset=['IMARS_Record_No'])\n",
    "imars_crash_expanded.shape"
   ]
  },
  {
   "cell_type": "markdown",
   "metadata": {},
   "source": [
    "## Create new Region column\n",
    "imars_crash database currently contains two columns with region information, although neither one is fully populated. This section will create and populate a new column re-assigning region name to every crash based on park name using a lookup table"
   ]
  },
  {
   "cell_type": "code",
   "execution_count": 32,
   "metadata": {},
   "outputs": [
    {
     "data": {
      "text/plain": [
       "Index(['IMARS_Record_No', 'Crash_Date_Time', 'Linked_Address_Classification',\n",
       "       'City_Town_Park_Location', 'State', 'County', 'Direction',\n",
       "       'Linked_Street_Number', 'Linked_Common_Name', 'Street_Type',\n",
       "       'Direction.1', 'NEAR_Distance_to_MI', 'NEAR_Direction_To',\n",
       "       'NEAR_Direction', 'NEAR_route_street_road_name', 'NEAR_Road_Type',\n",
       "       'NEAR_Direction.1', 'AT_Intersection_route_street_road_DIRECTION',\n",
       "       'At_Intersecting_route_street_road_name', 'AT_Road_Type',\n",
       "       'AT_Direction', 'Mile_Marker', 'Latitude', 'Longitude', 'Region',\n",
       "       'State_Zone', 'Park', 'Site', 'Place', 'Point',\n",
       "       'Road_Type_Classification', 'Linked_Address', 'index_right', 'OBJECTID',\n",
       "       'UNIT_CODE', 'GIS_Notes', 'UNIT_NAME', 'DATE_EDIT', 'STATE', 'REGION',\n",
       "       'GNIS_ID', 'UNIT_TYPE', 'CREATED_BY', 'METADATA', 'PARKNAME',\n",
       "       'CreationDate', 'Creator', 'EditDate', 'Editor', 'GlobalID',\n",
       "       'Shape__Area', 'Shape__Length'],\n",
       "      dtype='object')"
      ]
     },
     "execution_count": 32,
     "metadata": {},
     "output_type": "execute_result"
    }
   ],
   "source": [
    "imars_crash_expanded.columns"
   ]
  },
  {
   "cell_type": "code",
   "execution_count": 33,
   "metadata": {},
   "outputs": [
    {
     "data": {
      "text/plain": [
       "Index(['OBJECTID', 'Park', 'GIS_Notes', 'UNIT_NAME', 'DATE_EDIT', 'STATE',\n",
       "       'RGN', 'GNIS_ID', 'UNIT_TYPE', 'CREATED_BY', 'METADATA', 'PARKNAME',\n",
       "       'CreationDa', 'Creator', 'EditDate', 'Editor', 'Shape__Are',\n",
       "       'Shape__Len', 'Unnamed: 18'],\n",
       "      dtype='object')"
      ]
     },
     "execution_count": 33,
     "metadata": {},
     "output_type": "execute_result"
    }
   ],
   "source": [
    "# load lookup table\n",
    "park_info = pd.read_csv(\"./Reference Data/Park_Info_Table.csv\")\n",
    "park_info = park_info.rename(columns={'UNIT_CODE':'Park','REGION':'RGN'})\n",
    "park_info.columns"
   ]
  },
  {
   "cell_type": "code",
   "execution_count": 34,
   "metadata": {},
   "outputs": [
    {
     "data": {
      "text/plain": [
       "(12790, 53)"
      ]
     },
     "execution_count": 34,
     "metadata": {},
     "output_type": "execute_result"
    }
   ],
   "source": [
    "# add RGN column from lookup table to IMARS crash database, joining the two datasets based on park name\n",
    "imars_crash_expanded = pd.merge(imars_crash_expanded, park_info[['RGN','Park']], how='left', on='Park')\n",
    "# resulting dataframe after join should have one additional column and no additional rows\n",
    "imars_crash_expanded = imars_crash_expanded.drop_duplicates() \n",
    "imars_crash_expanded.shape"
   ]
  },
  {
   "cell_type": "code",
   "execution_count": 35,
   "metadata": {},
   "outputs": [
    {
     "data": {
      "text/plain": [
       "0"
      ]
     },
     "execution_count": 35,
     "metadata": {},
     "output_type": "execute_result"
    }
   ],
   "source": [
    "# check to see if any crashes were not assigned a region\n",
    "imars_crash_expanded.loc[imars_crash_expanded['RGN'].isnull()].shape[0]"
   ]
  },
  {
   "cell_type": "code",
   "execution_count": 36,
   "metadata": {},
   "outputs": [
    {
     "data": {
      "text/plain": [
       "SER    3541\n",
       "PWR    2656\n",
       "IMR    2642\n",
       "NCR    2293\n",
       "NER    1206\n",
       "MWR     372\n",
       "AKR      80\n",
       "Name: RGN, dtype: int64"
      ]
     },
     "execution_count": 36,
     "metadata": {},
     "output_type": "execute_result"
    }
   ],
   "source": [
    "imars_crash_expanded['RGN'].value_counts()"
   ]
  },
  {
   "cell_type": "code",
   "execution_count": 37,
   "metadata": {},
   "outputs": [],
   "source": [
    "# remove partially populated pre-existing columns\n",
    "imars_crash_expanded = imars_crash_expanded.drop(columns = ['Region', 'REGION'])"
   ]
  },
  {
   "cell_type": "code",
   "execution_count": 38,
   "metadata": {},
   "outputs": [
    {
     "data": {
      "text/plain": [
       "(12790, 51)"
      ]
     },
     "execution_count": 38,
     "metadata": {},
     "output_type": "execute_result"
    }
   ],
   "source": [
    "imars_crash_expanded.shape"
   ]
  },
  {
   "cell_type": "code",
   "execution_count": 39,
   "metadata": {},
   "outputs": [],
   "source": [
    "imars_crash_expanded.to_csv(\"IMARS_Crash_ParkandRegionAdded_Clean.csv\", index= False)"
   ]
  },
  {
   "cell_type": "markdown",
   "metadata": {},
   "source": [
    "# Filter for Necessary Fields, Group by IMARS_RECORD_NO"
   ]
  },
  {
   "cell_type": "markdown",
   "metadata": {},
   "source": [
    "## Passenger Table"
   ]
  },
  {
   "cell_type": "code",
   "execution_count": 40,
   "metadata": {
    "scrolled": true
   },
   "outputs": [],
   "source": [
    "imars_passenger = imars_passenger.rename(columns={'IMARS_Record_No':'INCID_NO'}) # rename to match CDS\n",
    "imars_passenger_slim = imars_passenger[['INCID_NO']] # subset needed columns"
   ]
  },
  {
   "cell_type": "code",
   "execution_count": 41,
   "metadata": {},
   "outputs": [
    {
     "data": {
      "text/plain": [
       "01. No injury                    13599\n",
       "02. Possible injury               1826\n",
       "99. Unknown                       1470\n",
       "03. Non-incapacitating injury     1163\n",
       "04. Incapacitating injury          486\n",
       "05. Fatal                          115\n",
       "Name: Injury_Severity, dtype: int64"
      ]
     },
     "execution_count": 41,
     "metadata": {},
     "output_type": "execute_result"
    }
   ],
   "source": [
    "imars_passenger['Injury_Severity'].value_counts()"
   ]
  },
  {
   "cell_type": "code",
   "execution_count": 42,
   "metadata": {},
   "outputs": [
    {
     "name": "stderr",
     "output_type": "stream",
     "text": [
      "C:\\Users\\Sophie.Kaye\\AppData\\Local\\Temp\\ipykernel_20152\\189481374.py:2: SettingWithCopyWarning: \n",
      "A value is trying to be set on a copy of a slice from a DataFrame.\n",
      "Try using .loc[row_indexer,col_indexer] = value instead\n",
      "\n",
      "See the caveats in the documentation: https://pandas.pydata.org/pandas-docs/stable/user_guide/indexing.html#returning-a-view-versus-a-copy\n",
      "  imars_passenger_slim['No Injury']= np.where(imars_passenger['Injury_Severity']=='01. No injury', 1,0)\n",
      "C:\\Users\\Sophie.Kaye\\AppData\\Local\\Temp\\ipykernel_20152\\189481374.py:3: SettingWithCopyWarning: \n",
      "A value is trying to be set on a copy of a slice from a DataFrame.\n",
      "Try using .loc[row_indexer,col_indexer] = value instead\n",
      "\n",
      "See the caveats in the documentation: https://pandas.pydata.org/pandas-docs/stable/user_guide/indexing.html#returning-a-view-versus-a-copy\n",
      "  imars_passenger_slim['Possible Injury']= np.where(imars_passenger['Injury_Severity']=='02. Possible injury', 1,0)\n",
      "C:\\Users\\Sophie.Kaye\\AppData\\Local\\Temp\\ipykernel_20152\\189481374.py:4: SettingWithCopyWarning: \n",
      "A value is trying to be set on a copy of a slice from a DataFrame.\n",
      "Try using .loc[row_indexer,col_indexer] = value instead\n",
      "\n",
      "See the caveats in the documentation: https://pandas.pydata.org/pandas-docs/stable/user_guide/indexing.html#returning-a-view-versus-a-copy\n",
      "  imars_passenger_slim['Non-incapacitating Injury']= np.where(imars_passenger['Injury_Severity']=='03. Non-incapacitating injury', 1,0)\n",
      "C:\\Users\\Sophie.Kaye\\AppData\\Local\\Temp\\ipykernel_20152\\189481374.py:5: SettingWithCopyWarning: \n",
      "A value is trying to be set on a copy of a slice from a DataFrame.\n",
      "Try using .loc[row_indexer,col_indexer] = value instead\n",
      "\n",
      "See the caveats in the documentation: https://pandas.pydata.org/pandas-docs/stable/user_guide/indexing.html#returning-a-view-versus-a-copy\n",
      "  imars_passenger_slim['Incapacitating Injury']= np.where(imars_passenger['Injury_Severity']=='04. Incapacitating injury', 1,0)\n",
      "C:\\Users\\Sophie.Kaye\\AppData\\Local\\Temp\\ipykernel_20152\\189481374.py:6: SettingWithCopyWarning: \n",
      "A value is trying to be set on a copy of a slice from a DataFrame.\n",
      "Try using .loc[row_indexer,col_indexer] = value instead\n",
      "\n",
      "See the caveats in the documentation: https://pandas.pydata.org/pandas-docs/stable/user_guide/indexing.html#returning-a-view-versus-a-copy\n",
      "  imars_passenger_slim['Fatality']= np.where(imars_passenger['Injury_Severity']=='05. Fatal', 1,0)\n"
     ]
    },
    {
     "data": {
      "text/plain": [
       "115"
      ]
     },
     "execution_count": 42,
     "metadata": {},
     "output_type": "execute_result"
    }
   ],
   "source": [
    "# set flags for each injury severity \n",
    "imars_passenger_slim['No Injury']= np.where(imars_passenger['Injury_Severity']=='01. No injury', 1,0)\n",
    "imars_passenger_slim['Possible Injury']= np.where(imars_passenger['Injury_Severity']=='02. Possible injury', 1,0)\n",
    "imars_passenger_slim['Non-incapacitating Injury']= np.where(imars_passenger['Injury_Severity']=='03. Non-incapacitating injury', 1,0)\n",
    "imars_passenger_slim['Incapacitating Injury']= np.where(imars_passenger['Injury_Severity']=='04. Incapacitating injury', 1,0)\n",
    "imars_passenger_slim['Fatality']= np.where(imars_passenger['Injury_Severity']=='05. Fatal', 1,0)\n",
    "imars_passenger_slim['Fatality'].sum() # exactly as expected from injury severity value counts"
   ]
  },
  {
   "cell_type": "code",
   "execution_count": 43,
   "metadata": {},
   "outputs": [
    {
     "data": {
      "text/plain": [
       "Other         162\n",
       "Bicyclist      66\n",
       "Pedestrian     39\n",
       "Name: Pedestrian_Type, dtype: int64"
      ]
     },
     "execution_count": 43,
     "metadata": {},
     "output_type": "execute_result"
    }
   ],
   "source": [
    "imars_passenger['Pedestrian_Type'].value_counts()"
   ]
  },
  {
   "cell_type": "code",
   "execution_count": 44,
   "metadata": {},
   "outputs": [
    {
     "name": "stderr",
     "output_type": "stream",
     "text": [
      "C:\\Users\\Sophie.Kaye\\AppData\\Local\\Temp\\ipykernel_20152\\1130899267.py:2: SettingWithCopyWarning: \n",
      "A value is trying to be set on a copy of a slice from a DataFrame.\n",
      "Try using .loc[row_indexer,col_indexer] = value instead\n",
      "\n",
      "See the caveats in the documentation: https://pandas.pydata.org/pandas-docs/stable/user_guide/indexing.html#returning-a-view-versus-a-copy\n",
      "  imars_passenger_slim['Num_Motorist']= np.where(imars_passenger['Pedestrian_Type'].isnull()==True, 1,0)\n",
      "C:\\Users\\Sophie.Kaye\\AppData\\Local\\Temp\\ipykernel_20152\\1130899267.py:3: SettingWithCopyWarning: \n",
      "A value is trying to be set on a copy of a slice from a DataFrame.\n",
      "Try using .loc[row_indexer,col_indexer] = value instead\n",
      "\n",
      "See the caveats in the documentation: https://pandas.pydata.org/pandas-docs/stable/user_guide/indexing.html#returning-a-view-versus-a-copy\n",
      "  imars_passenger_slim['Num_Non_Motorist']= np.where(imars_passenger['Pedestrian_Type'].isnull()==False, 1,0)\n"
     ]
    },
    {
     "data": {
      "text/plain": [
       "(267, 267)"
      ]
     },
     "execution_count": 44,
     "metadata": {},
     "output_type": "execute_result"
    }
   ],
   "source": [
    "# determine the number of motorists and non-motorists involved\n",
    "imars_passenger_slim['Num_Motorist']= np.where(imars_passenger['Pedestrian_Type'].isnull()==True, 1,0)\n",
    "imars_passenger_slim['Num_Non_Motorist']= np.where(imars_passenger['Pedestrian_Type'].isnull()==False, 1,0)\n",
    "# check new non-motorist logic, looks good!\n",
    "imars_passenger_slim['Num_Non_Motorist'].sum(), (162+66+39) # combined number of Other, Bicyclists, and Pedestrians"
   ]
  },
  {
   "cell_type": "code",
   "execution_count": 45,
   "metadata": {},
   "outputs": [
    {
     "name": "stderr",
     "output_type": "stream",
     "text": [
      "C:\\Users\\Sophie.Kaye\\AppData\\Local\\Temp\\ipykernel_20152\\4013749937.py:1: SettingWithCopyWarning: \n",
      "A value is trying to be set on a copy of a slice from a DataFrame.\n",
      "Try using .loc[row_indexer,col_indexer] = value instead\n",
      "\n",
      "See the caveats in the documentation: https://pandas.pydata.org/pandas-docs/stable/user_guide/indexing.html#returning-a-view-versus-a-copy\n",
      "  imars_passenger_slim['Num_Pedestrian'] = np.where(imars_passenger['Pedestrian_Type']=='Pedestrian', 1,0)\n"
     ]
    },
    {
     "data": {
      "text/plain": [
       "39"
      ]
     },
     "execution_count": 45,
     "metadata": {},
     "output_type": "execute_result"
    }
   ],
   "source": [
    "imars_passenger_slim['Num_Pedestrian'] = np.where(imars_passenger['Pedestrian_Type']=='Pedestrian', 1,0)\n",
    "imars_passenger_slim['Num_Pedestrian'].sum() # exactly as expected based on Pedestrian Type value counts"
   ]
  },
  {
   "cell_type": "code",
   "execution_count": 46,
   "metadata": {},
   "outputs": [
    {
     "name": "stderr",
     "output_type": "stream",
     "text": [
      "C:\\Users\\Sophie.Kaye\\AppData\\Local\\Temp\\ipykernel_20152\\2173932164.py:1: SettingWithCopyWarning: \n",
      "A value is trying to be set on a copy of a slice from a DataFrame.\n",
      "Try using .loc[row_indexer,col_indexer] = value instead\n",
      "\n",
      "See the caveats in the documentation: https://pandas.pydata.org/pandas-docs/stable/user_guide/indexing.html#returning-a-view-versus-a-copy\n",
      "  imars_passenger_slim['Num_Ped_Deaths'] = np.where(imars_passenger_slim['Num_Pedestrian']==1, imars_passenger_slim['Fatality'], 0)\n"
     ]
    },
    {
     "data": {
      "text/plain": [
       "(1, 1)"
      ]
     },
     "execution_count": 46,
     "metadata": {},
     "output_type": "execute_result"
    }
   ],
   "source": [
    "imars_passenger_slim['Num_Ped_Deaths'] = np.where(imars_passenger_slim['Num_Pedestrian']==1, imars_passenger_slim['Fatality'], 0)\n",
    "# check logic, looks good!\n",
    "test = imars_passenger.loc[imars_passenger['Pedestrian_Type']=='Pedestrian']\n",
    "imars_passenger_slim['Num_Ped_Deaths'].sum(), test[test.Injury_Severity=='05. Fatal'].shape[0] # one fatality in subset of passenger table for pedestrians only"
   ]
  },
  {
   "cell_type": "code",
   "execution_count": 47,
   "metadata": {
    "scrolled": true
   },
   "outputs": [
    {
     "data": {
      "text/html": [
       "<div>\n",
       "<style scoped>\n",
       "    .dataframe tbody tr th:only-of-type {\n",
       "        vertical-align: middle;\n",
       "    }\n",
       "\n",
       "    .dataframe tbody tr th {\n",
       "        vertical-align: top;\n",
       "    }\n",
       "\n",
       "    .dataframe thead th {\n",
       "        text-align: right;\n",
       "    }\n",
       "</style>\n",
       "<table border=\"1\" class=\"dataframe\">\n",
       "  <thead>\n",
       "    <tr style=\"text-align: right;\">\n",
       "      <th></th>\n",
       "      <th>INCID_NO</th>\n",
       "      <th>No Injury</th>\n",
       "      <th>Possible Injury</th>\n",
       "      <th>Non-incapacitating Injury</th>\n",
       "      <th>Incapacitating Injury</th>\n",
       "      <th>Fatality</th>\n",
       "      <th>Num_Motorist</th>\n",
       "      <th>Num_Non_Motorist</th>\n",
       "      <th>Num_Pedestrian</th>\n",
       "      <th>Num_Ped_Deaths</th>\n",
       "    </tr>\n",
       "  </thead>\n",
       "  <tbody>\n",
       "    <tr>\n",
       "      <th>0</th>\n",
       "      <td>NP12000078</td>\n",
       "      <td>0</td>\n",
       "      <td>0</td>\n",
       "      <td>0</td>\n",
       "      <td>0</td>\n",
       "      <td>0</td>\n",
       "      <td>1</td>\n",
       "      <td>0</td>\n",
       "      <td>0</td>\n",
       "      <td>0</td>\n",
       "    </tr>\n",
       "    <tr>\n",
       "      <th>1</th>\n",
       "      <td>NP12000378</td>\n",
       "      <td>0</td>\n",
       "      <td>0</td>\n",
       "      <td>0</td>\n",
       "      <td>0</td>\n",
       "      <td>0</td>\n",
       "      <td>1</td>\n",
       "      <td>0</td>\n",
       "      <td>0</td>\n",
       "      <td>0</td>\n",
       "    </tr>\n",
       "    <tr>\n",
       "      <th>2</th>\n",
       "      <td>NP12000550</td>\n",
       "      <td>0</td>\n",
       "      <td>0</td>\n",
       "      <td>0</td>\n",
       "      <td>0</td>\n",
       "      <td>0</td>\n",
       "      <td>1</td>\n",
       "      <td>0</td>\n",
       "      <td>0</td>\n",
       "      <td>0</td>\n",
       "    </tr>\n",
       "    <tr>\n",
       "      <th>3</th>\n",
       "      <td>NP12000911</td>\n",
       "      <td>0</td>\n",
       "      <td>0</td>\n",
       "      <td>0</td>\n",
       "      <td>0</td>\n",
       "      <td>0</td>\n",
       "      <td>1</td>\n",
       "      <td>0</td>\n",
       "      <td>0</td>\n",
       "      <td>0</td>\n",
       "    </tr>\n",
       "    <tr>\n",
       "      <th>4</th>\n",
       "      <td>NP12000935</td>\n",
       "      <td>0</td>\n",
       "      <td>0</td>\n",
       "      <td>0</td>\n",
       "      <td>0</td>\n",
       "      <td>0</td>\n",
       "      <td>1</td>\n",
       "      <td>0</td>\n",
       "      <td>0</td>\n",
       "      <td>0</td>\n",
       "    </tr>\n",
       "  </tbody>\n",
       "</table>\n",
       "</div>"
      ],
      "text/plain": [
       "     INCID_NO  No Injury  Possible Injury  Non-incapacitating Injury  \\\n",
       "0  NP12000078          0                0                          0   \n",
       "1  NP12000378          0                0                          0   \n",
       "2  NP12000550          0                0                          0   \n",
       "3  NP12000911          0                0                          0   \n",
       "4  NP12000935          0                0                          0   \n",
       "\n",
       "   Incapacitating Injury  Fatality  Num_Motorist  Num_Non_Motorist  \\\n",
       "0                      0         0             1                 0   \n",
       "1                      0         0             1                 0   \n",
       "2                      0         0             1                 0   \n",
       "3                      0         0             1                 0   \n",
       "4                      0         0             1                 0   \n",
       "\n",
       "   Num_Pedestrian  Num_Ped_Deaths  \n",
       "0               0               0  \n",
       "1               0               0  \n",
       "2               0               0  \n",
       "3               0               0  \n",
       "4               0               0  "
      ]
     },
     "execution_count": 47,
     "metadata": {},
     "output_type": "execute_result"
    }
   ],
   "source": [
    "imars_passenger_slim.head()"
   ]
  },
  {
   "cell_type": "code",
   "execution_count": 48,
   "metadata": {},
   "outputs": [
    {
     "data": {
      "text/plain": [
       "(27931, 10)"
      ]
     },
     "execution_count": 48,
     "metadata": {},
     "output_type": "execute_result"
    }
   ],
   "source": [
    "imars_passenger_slim.shape"
   ]
  },
  {
   "cell_type": "code",
   "execution_count": 49,
   "metadata": {},
   "outputs": [
    {
     "data": {
      "text/plain": [
       "Index(['INCID_NO', 'No Injury', 'Possible Injury', 'Non-incapacitating Injury',\n",
       "       'Incapacitating Injury', 'Fatality', 'Num_Motorist', 'Num_Non_Motorist',\n",
       "       'Num_Pedestrian', 'Num_Ped_Deaths'],\n",
       "      dtype='object')"
      ]
     },
     "execution_count": 49,
     "metadata": {},
     "output_type": "execute_result"
    }
   ],
   "source": [
    "imars_passenger_slim.columns"
   ]
  },
  {
   "cell_type": "code",
   "execution_count": 50,
   "metadata": {},
   "outputs": [
    {
     "data": {
      "text/plain": [
       "(15302, 10)"
      ]
     },
     "execution_count": 50,
     "metadata": {},
     "output_type": "execute_result"
    }
   ],
   "source": [
    "# collapse multiple rows for each person involved in the crash into a single row for each crash\n",
    "# injuries/fatalities and number of people involved should be summed as total numbers per crash (\"sum\" function)\n",
    "imars_passenger_slim_agg = imars_passenger_slim.groupby(by=['INCID_NO']).sum().reset_index()\n",
    "imars_passenger_slim_agg.shape"
   ]
  },
  {
   "cell_type": "code",
   "execution_count": 51,
   "metadata": {},
   "outputs": [
    {
     "data": {
      "text/plain": [
       "0    15274\n",
       "1       22\n",
       "2        3\n",
       "4        2\n",
       "3        1\n",
       "Name: Num_Pedestrian, dtype: int64"
      ]
     },
     "execution_count": 51,
     "metadata": {},
     "output_type": "execute_result"
    }
   ],
   "source": [
    "imars_passenger_slim_agg['Num_Pedestrian'].value_counts()"
   ]
  },
  {
   "cell_type": "code",
   "execution_count": 52,
   "metadata": {},
   "outputs": [
    {
     "data": {
      "text/plain": [
       "(28, 28)"
      ]
     },
     "execution_count": 52,
     "metadata": {},
     "output_type": "execute_result"
    }
   ],
   "source": [
    "# set binary indicators for VRU and Pedestrian\n",
    "imars_passenger_slim_agg['Pedestrian'] = np.where(imars_passenger_slim_agg['Num_Pedestrian'] > 0, 1, 0)\n",
    "imars_passenger_slim_agg['VRU'] = np.where(imars_passenger_slim_agg['Num_Non_Motorist'] > 0, 1, 0)\n",
    "# test logic, looks good!\n",
    "imars_passenger_slim_agg['Pedestrian'].sum(), (22+3+2+1) # replacing number of pedestrians involved in each crash with 1 for all crashes involving pedestrians"
   ]
  },
  {
   "cell_type": "code",
   "execution_count": 53,
   "metadata": {},
   "outputs": [
    {
     "name": "stderr",
     "output_type": "stream",
     "text": [
      "C:\\Users\\Sophie.Kaye\\AppData\\Local\\Temp\\ipykernel_20152\\775537522.py:13: SettingWithCopyWarning: \n",
      "A value is trying to be set on a copy of a slice from a DataFrame\n",
      "\n",
      "See the caveats in the documentation: https://pandas.pydata.org/pandas-docs/stable/user_guide/indexing.html#returning-a-view-versus-a-copy\n",
      "  imars_passenger_slim_agg['Crash_Severity'].iloc[i] = 'No Inj'\n"
     ]
    }
   ],
   "source": [
    "imars_passenger_slim_agg['Crash_Severity'] = 0 # initialize column with dummy data to replace with for loop\n",
    "length = range(imars_passenger_slim_agg.shape[0]) # search through all rows in aggregated dataset (to examine all injuries from each crash as a whole)\n",
    "for i in length: # determine most severe injury outcome\n",
    "    if imars_passenger_slim_agg['Fatality'].iloc[i] > 0:\n",
    "        imars_passenger_slim_agg['Crash_Severity'].iloc[i] = 'Fatal'\n",
    "    elif imars_passenger_slim_agg['Incapacitating Injury'].iloc[i] > 0:\n",
    "        imars_passenger_slim_agg['Crash_Severity'].iloc[i] = 'Incap'\n",
    "    elif imars_passenger_slim_agg['Non-incapacitating Injury'].iloc[i] > 0:\n",
    "        imars_passenger_slim_agg['Crash_Severity'].iloc[i] = 'Non-Incap'\n",
    "    elif imars_passenger_slim_agg['Possible Injury'].iloc[i] > 0:\n",
    "        imars_passenger_slim_agg['Crash_Severity'].iloc[i] = 'Possible'\n",
    "    else:\n",
    "        imars_passenger_slim_agg['Crash_Severity'].iloc[i] = 'No Inj'"
   ]
  },
  {
   "cell_type": "code",
   "execution_count": 54,
   "metadata": {},
   "outputs": [],
   "source": [
    "#set flags for each Crash Severity attribute\n",
    "imars_passenger_slim_agg['CrashSeverity_Fatal'] = np.where(imars_passenger_slim_agg['Crash_Severity']=='Fatal', 1,0)\n",
    "imars_passenger_slim_agg['CrashSeverity_Incap'] = np.where(imars_passenger_slim_agg['Crash_Severity']=='Incap', 1,0)\n",
    "imars_passenger_slim_agg['CrashSeverity_NonIncap'] = np.where(imars_passenger_slim_agg['Crash_Severity']=='Non-Incap', 1,0)\n",
    "imars_passenger_slim_agg['CrashSeverity_Possible'] = np.where(imars_passenger_slim_agg['Crash_Severity']=='Possible', 1,0)\n",
    "imars_passenger_slim_agg['CrashSeverity_NoInj'] = np.where(imars_passenger_slim_agg['Crash_Severity']=='No Inj', 1,0)"
   ]
  },
  {
   "cell_type": "code",
   "execution_count": 55,
   "metadata": {},
   "outputs": [
    {
     "data": {
      "text/plain": [
       "(355, 355)"
      ]
     },
     "execution_count": 55,
     "metadata": {},
     "output_type": "execute_result"
    }
   ],
   "source": [
    "# test crash severity logic - looks good!\n",
    "test=imars_passenger_slim_agg.loc[imars_passenger_slim_agg['Fatality']==0] # remove fatal crashes\n",
    "imars_passenger_slim_agg['CrashSeverity_Incap'].sum(), test.loc[test['Incapacitating Injury']>0].shape[0] # number of crashes with incapacitating severity = number of crashes resulting in incapacitating injuries when fatal crashes are removed from dataset"
   ]
  },
  {
   "cell_type": "code",
   "execution_count": 56,
   "metadata": {},
   "outputs": [
    {
     "data": {
      "text/html": [
       "<div>\n",
       "<style scoped>\n",
       "    .dataframe tbody tr th:only-of-type {\n",
       "        vertical-align: middle;\n",
       "    }\n",
       "\n",
       "    .dataframe tbody tr th {\n",
       "        vertical-align: top;\n",
       "    }\n",
       "\n",
       "    .dataframe thead th {\n",
       "        text-align: right;\n",
       "    }\n",
       "</style>\n",
       "<table border=\"1\" class=\"dataframe\">\n",
       "  <thead>\n",
       "    <tr style=\"text-align: right;\">\n",
       "      <th></th>\n",
       "      <th>INCID_NO</th>\n",
       "      <th>No Injury</th>\n",
       "      <th>Possible Injury</th>\n",
       "      <th>Non-incapacitating Injury</th>\n",
       "      <th>Incapacitating Injury</th>\n",
       "      <th>Fatality</th>\n",
       "      <th>Num_Motorist</th>\n",
       "      <th>Num_Non_Motorist</th>\n",
       "      <th>Num_Pedestrian</th>\n",
       "      <th>Num_Ped_Deaths</th>\n",
       "      <th>Pedestrian</th>\n",
       "      <th>VRU</th>\n",
       "      <th>Crash_Severity</th>\n",
       "      <th>CrashSeverity_Fatal</th>\n",
       "      <th>CrashSeverity_Incap</th>\n",
       "      <th>CrashSeverity_NonIncap</th>\n",
       "      <th>CrashSeverity_Possible</th>\n",
       "      <th>CrashSeverity_NoInj</th>\n",
       "    </tr>\n",
       "  </thead>\n",
       "  <tbody>\n",
       "    <tr>\n",
       "      <th>0</th>\n",
       "      <td>NP12000078</td>\n",
       "      <td>0</td>\n",
       "      <td>0</td>\n",
       "      <td>0</td>\n",
       "      <td>0</td>\n",
       "      <td>0</td>\n",
       "      <td>1</td>\n",
       "      <td>0</td>\n",
       "      <td>0</td>\n",
       "      <td>0</td>\n",
       "      <td>0</td>\n",
       "      <td>0</td>\n",
       "      <td>No Inj</td>\n",
       "      <td>0</td>\n",
       "      <td>0</td>\n",
       "      <td>0</td>\n",
       "      <td>0</td>\n",
       "      <td>1</td>\n",
       "    </tr>\n",
       "    <tr>\n",
       "      <th>1</th>\n",
       "      <td>NP12000378</td>\n",
       "      <td>0</td>\n",
       "      <td>0</td>\n",
       "      <td>0</td>\n",
       "      <td>0</td>\n",
       "      <td>0</td>\n",
       "      <td>1</td>\n",
       "      <td>0</td>\n",
       "      <td>0</td>\n",
       "      <td>0</td>\n",
       "      <td>0</td>\n",
       "      <td>0</td>\n",
       "      <td>No Inj</td>\n",
       "      <td>0</td>\n",
       "      <td>0</td>\n",
       "      <td>0</td>\n",
       "      <td>0</td>\n",
       "      <td>1</td>\n",
       "    </tr>\n",
       "    <tr>\n",
       "      <th>2</th>\n",
       "      <td>NP12000550</td>\n",
       "      <td>0</td>\n",
       "      <td>0</td>\n",
       "      <td>0</td>\n",
       "      <td>0</td>\n",
       "      <td>0</td>\n",
       "      <td>1</td>\n",
       "      <td>0</td>\n",
       "      <td>0</td>\n",
       "      <td>0</td>\n",
       "      <td>0</td>\n",
       "      <td>0</td>\n",
       "      <td>No Inj</td>\n",
       "      <td>0</td>\n",
       "      <td>0</td>\n",
       "      <td>0</td>\n",
       "      <td>0</td>\n",
       "      <td>1</td>\n",
       "    </tr>\n",
       "    <tr>\n",
       "      <th>3</th>\n",
       "      <td>NP12000911</td>\n",
       "      <td>0</td>\n",
       "      <td>0</td>\n",
       "      <td>0</td>\n",
       "      <td>0</td>\n",
       "      <td>0</td>\n",
       "      <td>1</td>\n",
       "      <td>0</td>\n",
       "      <td>0</td>\n",
       "      <td>0</td>\n",
       "      <td>0</td>\n",
       "      <td>0</td>\n",
       "      <td>No Inj</td>\n",
       "      <td>0</td>\n",
       "      <td>0</td>\n",
       "      <td>0</td>\n",
       "      <td>0</td>\n",
       "      <td>1</td>\n",
       "    </tr>\n",
       "    <tr>\n",
       "      <th>4</th>\n",
       "      <td>NP12000935</td>\n",
       "      <td>0</td>\n",
       "      <td>0</td>\n",
       "      <td>0</td>\n",
       "      <td>0</td>\n",
       "      <td>0</td>\n",
       "      <td>1</td>\n",
       "      <td>0</td>\n",
       "      <td>0</td>\n",
       "      <td>0</td>\n",
       "      <td>0</td>\n",
       "      <td>0</td>\n",
       "      <td>No Inj</td>\n",
       "      <td>0</td>\n",
       "      <td>0</td>\n",
       "      <td>0</td>\n",
       "      <td>0</td>\n",
       "      <td>1</td>\n",
       "    </tr>\n",
       "  </tbody>\n",
       "</table>\n",
       "</div>"
      ],
      "text/plain": [
       "     INCID_NO  No Injury  Possible Injury  Non-incapacitating Injury  \\\n",
       "0  NP12000078          0                0                          0   \n",
       "1  NP12000378          0                0                          0   \n",
       "2  NP12000550          0                0                          0   \n",
       "3  NP12000911          0                0                          0   \n",
       "4  NP12000935          0                0                          0   \n",
       "\n",
       "   Incapacitating Injury  Fatality  Num_Motorist  Num_Non_Motorist  \\\n",
       "0                      0         0             1                 0   \n",
       "1                      0         0             1                 0   \n",
       "2                      0         0             1                 0   \n",
       "3                      0         0             1                 0   \n",
       "4                      0         0             1                 0   \n",
       "\n",
       "   Num_Pedestrian  Num_Ped_Deaths  Pedestrian  VRU Crash_Severity  \\\n",
       "0               0               0           0    0         No Inj   \n",
       "1               0               0           0    0         No Inj   \n",
       "2               0               0           0    0         No Inj   \n",
       "3               0               0           0    0         No Inj   \n",
       "4               0               0           0    0         No Inj   \n",
       "\n",
       "   CrashSeverity_Fatal  CrashSeverity_Incap  CrashSeverity_NonIncap  \\\n",
       "0                    0                    0                       0   \n",
       "1                    0                    0                       0   \n",
       "2                    0                    0                       0   \n",
       "3                    0                    0                       0   \n",
       "4                    0                    0                       0   \n",
       "\n",
       "   CrashSeverity_Possible  CrashSeverity_NoInj  \n",
       "0                       0                    1  \n",
       "1                       0                    1  \n",
       "2                       0                    1  \n",
       "3                       0                    1  \n",
       "4                       0                    1  "
      ]
     },
     "execution_count": 56,
     "metadata": {},
     "output_type": "execute_result"
    }
   ],
   "source": [
    "imars_passenger_slim_agg.head()"
   ]
  },
  {
   "cell_type": "code",
   "execution_count": 57,
   "metadata": {},
   "outputs": [
    {
     "data": {
      "text/plain": [
       "(15302, 18)"
      ]
     },
     "execution_count": 57,
     "metadata": {},
     "output_type": "execute_result"
    }
   ],
   "source": [
    "imars_passenger_slim_agg.shape"
   ]
  },
  {
   "cell_type": "code",
   "execution_count": 58,
   "metadata": {},
   "outputs": [
    {
     "data": {
      "text/plain": [
       "Index(['INCID_NO', 'No Injury', 'Possible Injury', 'Non-incapacitating Injury',\n",
       "       'Incapacitating Injury', 'Fatality', 'Num_Motorist', 'Num_Non_Motorist',\n",
       "       'Num_Pedestrian', 'Num_Ped_Deaths', 'Pedestrian', 'VRU',\n",
       "       'Crash_Severity', 'CrashSeverity_Fatal', 'CrashSeverity_Incap',\n",
       "       'CrashSeverity_NonIncap', 'CrashSeverity_Possible',\n",
       "       'CrashSeverity_NoInj'],\n",
       "      dtype='object')"
      ]
     },
     "execution_count": 58,
     "metadata": {},
     "output_type": "execute_result"
    }
   ],
   "source": [
    "imars_passenger_slim_agg.columns"
   ]
  },
  {
   "cell_type": "code",
   "execution_count": 59,
   "metadata": {},
   "outputs": [],
   "source": [
    "imars_passenger_slim_agg.to_csv(\"./IMARS_passenger_slim_agg.csv\",index=False)"
   ]
  },
  {
   "cell_type": "markdown",
   "metadata": {},
   "source": [
    "## Vehicle Table"
   ]
  },
  {
   "cell_type": "code",
   "execution_count": 60,
   "metadata": {},
   "outputs": [
    {
     "data": {
      "text/plain": [
       "09. 45 mph        3821\n",
       "07. 35 mph        3390\n",
       "05. 25 mph        2413\n",
       "11. 55 mph        1827\n",
       "10. 50 mph        1568\n",
       "98. Not posted    1528\n",
       "99. Unknown       1246\n",
       "03. 15 mph        1022\n",
       "08. 40 mph         614\n",
       "06. 30 mph         470\n",
       "02. 10 mph         440\n",
       "01. 5 mph          281\n",
       "04. 20 mph         226\n",
       "13. 65 mph          40\n",
       "12. 60 mph          31\n",
       "14. 70 mph           7\n",
       "15. 75 mph           2\n",
       "Name: Posted_Speed, dtype: int64"
      ]
     },
     "execution_count": 60,
     "metadata": {},
     "output_type": "execute_result"
    }
   ],
   "source": [
    "imars_vehicle['Posted_Speed'].value_counts()"
   ]
  },
  {
   "cell_type": "code",
   "execution_count": 61,
   "metadata": {},
   "outputs": [
    {
     "name": "stderr",
     "output_type": "stream",
     "text": [
      "C:\\Users\\Sophie.Kaye\\AppData\\Local\\Temp\\ipykernel_20152\\2811125338.py:4: SettingWithCopyWarning: \n",
      "A value is trying to be set on a copy of a slice from a DataFrame.\n",
      "Try using .loc[row_indexer,col_indexer] = value instead\n",
      "\n",
      "See the caveats in the documentation: https://pandas.pydata.org/pandas-docs/stable/user_guide/indexing.html#returning-a-view-versus-a-copy\n",
      "  imars_vehicle_slim['5_mph']= np.where(imars_vehicle['Posted_Speed']=='01. 5 mph', 1,0)\n",
      "C:\\Users\\Sophie.Kaye\\AppData\\Local\\Temp\\ipykernel_20152\\2811125338.py:5: SettingWithCopyWarning: \n",
      "A value is trying to be set on a copy of a slice from a DataFrame.\n",
      "Try using .loc[row_indexer,col_indexer] = value instead\n",
      "\n",
      "See the caveats in the documentation: https://pandas.pydata.org/pandas-docs/stable/user_guide/indexing.html#returning-a-view-versus-a-copy\n",
      "  imars_vehicle_slim['10_mph']= np.where(imars_vehicle['Posted_Speed']=='02. 10 mph', 1,0)\n",
      "C:\\Users\\Sophie.Kaye\\AppData\\Local\\Temp\\ipykernel_20152\\2811125338.py:6: SettingWithCopyWarning: \n",
      "A value is trying to be set on a copy of a slice from a DataFrame.\n",
      "Try using .loc[row_indexer,col_indexer] = value instead\n",
      "\n",
      "See the caveats in the documentation: https://pandas.pydata.org/pandas-docs/stable/user_guide/indexing.html#returning-a-view-versus-a-copy\n",
      "  imars_vehicle_slim['15_mph']= np.where(imars_vehicle['Posted_Speed']=='03. 15 mph', 1,0)\n",
      "C:\\Users\\Sophie.Kaye\\AppData\\Local\\Temp\\ipykernel_20152\\2811125338.py:7: SettingWithCopyWarning: \n",
      "A value is trying to be set on a copy of a slice from a DataFrame.\n",
      "Try using .loc[row_indexer,col_indexer] = value instead\n",
      "\n",
      "See the caveats in the documentation: https://pandas.pydata.org/pandas-docs/stable/user_guide/indexing.html#returning-a-view-versus-a-copy\n",
      "  imars_vehicle_slim['20_mph']= np.where(imars_vehicle['Posted_Speed']=='04. 20 mph', 1,0)\n",
      "C:\\Users\\Sophie.Kaye\\AppData\\Local\\Temp\\ipykernel_20152\\2811125338.py:8: SettingWithCopyWarning: \n",
      "A value is trying to be set on a copy of a slice from a DataFrame.\n",
      "Try using .loc[row_indexer,col_indexer] = value instead\n",
      "\n",
      "See the caveats in the documentation: https://pandas.pydata.org/pandas-docs/stable/user_guide/indexing.html#returning-a-view-versus-a-copy\n",
      "  imars_vehicle_slim['25_mph']= np.where(imars_vehicle['Posted_Speed']=='05. 25 mph', 1,0)\n",
      "C:\\Users\\Sophie.Kaye\\AppData\\Local\\Temp\\ipykernel_20152\\2811125338.py:9: SettingWithCopyWarning: \n",
      "A value is trying to be set on a copy of a slice from a DataFrame.\n",
      "Try using .loc[row_indexer,col_indexer] = value instead\n",
      "\n",
      "See the caveats in the documentation: https://pandas.pydata.org/pandas-docs/stable/user_guide/indexing.html#returning-a-view-versus-a-copy\n",
      "  imars_vehicle_slim['30_mph']= np.where(imars_vehicle['Posted_Speed']=='06. 30 mph', 1,0)\n",
      "C:\\Users\\Sophie.Kaye\\AppData\\Local\\Temp\\ipykernel_20152\\2811125338.py:10: SettingWithCopyWarning: \n",
      "A value is trying to be set on a copy of a slice from a DataFrame.\n",
      "Try using .loc[row_indexer,col_indexer] = value instead\n",
      "\n",
      "See the caveats in the documentation: https://pandas.pydata.org/pandas-docs/stable/user_guide/indexing.html#returning-a-view-versus-a-copy\n",
      "  imars_vehicle_slim['35_mph']= np.where(imars_vehicle['Posted_Speed']=='07. 35 mph', 1,0)\n",
      "C:\\Users\\Sophie.Kaye\\AppData\\Local\\Temp\\ipykernel_20152\\2811125338.py:11: SettingWithCopyWarning: \n",
      "A value is trying to be set on a copy of a slice from a DataFrame.\n",
      "Try using .loc[row_indexer,col_indexer] = value instead\n",
      "\n",
      "See the caveats in the documentation: https://pandas.pydata.org/pandas-docs/stable/user_guide/indexing.html#returning-a-view-versus-a-copy\n",
      "  imars_vehicle_slim['40_mph']= np.where(imars_vehicle['Posted_Speed']=='08. 40 mph', 1,0)\n",
      "C:\\Users\\Sophie.Kaye\\AppData\\Local\\Temp\\ipykernel_20152\\2811125338.py:12: SettingWithCopyWarning: \n",
      "A value is trying to be set on a copy of a slice from a DataFrame.\n",
      "Try using .loc[row_indexer,col_indexer] = value instead\n",
      "\n",
      "See the caveats in the documentation: https://pandas.pydata.org/pandas-docs/stable/user_guide/indexing.html#returning-a-view-versus-a-copy\n",
      "  imars_vehicle_slim['45_mph']= np.where(imars_vehicle['Posted_Speed']=='09. 45 mph', 1,0)\n",
      "C:\\Users\\Sophie.Kaye\\AppData\\Local\\Temp\\ipykernel_20152\\2811125338.py:13: SettingWithCopyWarning: \n",
      "A value is trying to be set on a copy of a slice from a DataFrame.\n",
      "Try using .loc[row_indexer,col_indexer] = value instead\n",
      "\n",
      "See the caveats in the documentation: https://pandas.pydata.org/pandas-docs/stable/user_guide/indexing.html#returning-a-view-versus-a-copy\n",
      "  imars_vehicle_slim['50_mph']= np.where(imars_vehicle['Posted_Speed']=='10. 50 mph', 1,0)\n",
      "C:\\Users\\Sophie.Kaye\\AppData\\Local\\Temp\\ipykernel_20152\\2811125338.py:14: SettingWithCopyWarning: \n",
      "A value is trying to be set on a copy of a slice from a DataFrame.\n",
      "Try using .loc[row_indexer,col_indexer] = value instead\n",
      "\n",
      "See the caveats in the documentation: https://pandas.pydata.org/pandas-docs/stable/user_guide/indexing.html#returning-a-view-versus-a-copy\n",
      "  imars_vehicle_slim['55_mph']= np.where(imars_vehicle['Posted_Speed']=='11. 55 mph', 1,0)\n",
      "C:\\Users\\Sophie.Kaye\\AppData\\Local\\Temp\\ipykernel_20152\\2811125338.py:15: SettingWithCopyWarning: \n",
      "A value is trying to be set on a copy of a slice from a DataFrame.\n",
      "Try using .loc[row_indexer,col_indexer] = value instead\n",
      "\n",
      "See the caveats in the documentation: https://pandas.pydata.org/pandas-docs/stable/user_guide/indexing.html#returning-a-view-versus-a-copy\n",
      "  imars_vehicle_slim['60_mph']= np.where(imars_vehicle['Posted_Speed']=='12. 60 mph', 1,0)\n",
      "C:\\Users\\Sophie.Kaye\\AppData\\Local\\Temp\\ipykernel_20152\\2811125338.py:16: SettingWithCopyWarning: \n",
      "A value is trying to be set on a copy of a slice from a DataFrame.\n",
      "Try using .loc[row_indexer,col_indexer] = value instead\n",
      "\n",
      "See the caveats in the documentation: https://pandas.pydata.org/pandas-docs/stable/user_guide/indexing.html#returning-a-view-versus-a-copy\n",
      "  imars_vehicle_slim['65_mph']= np.where(imars_vehicle['Posted_Speed']=='13. 65 mph', 1,0)\n",
      "C:\\Users\\Sophie.Kaye\\AppData\\Local\\Temp\\ipykernel_20152\\2811125338.py:17: SettingWithCopyWarning: \n",
      "A value is trying to be set on a copy of a slice from a DataFrame.\n",
      "Try using .loc[row_indexer,col_indexer] = value instead\n",
      "\n",
      "See the caveats in the documentation: https://pandas.pydata.org/pandas-docs/stable/user_guide/indexing.html#returning-a-view-versus-a-copy\n",
      "  imars_vehicle_slim['70_mph']= np.where(imars_vehicle['Posted_Speed']=='14. 70 mph', 1,0)\n",
      "C:\\Users\\Sophie.Kaye\\AppData\\Local\\Temp\\ipykernel_20152\\2811125338.py:18: SettingWithCopyWarning: \n",
      "A value is trying to be set on a copy of a slice from a DataFrame.\n",
      "Try using .loc[row_indexer,col_indexer] = value instead\n",
      "\n",
      "See the caveats in the documentation: https://pandas.pydata.org/pandas-docs/stable/user_guide/indexing.html#returning-a-view-versus-a-copy\n",
      "  imars_vehicle_slim['75_mph']= np.where(imars_vehicle['Posted_Speed']=='15. 75 mph', 1,0)\n",
      "C:\\Users\\Sophie.Kaye\\AppData\\Local\\Temp\\ipykernel_20152\\2811125338.py:19: SettingWithCopyWarning: \n",
      "A value is trying to be set on a copy of a slice from a DataFrame.\n",
      "Try using .loc[row_indexer,col_indexer] = value instead\n",
      "\n",
      "See the caveats in the documentation: https://pandas.pydata.org/pandas-docs/stable/user_guide/indexing.html#returning-a-view-versus-a-copy\n",
      "  imars_vehicle_slim['no_posted_speed']= np.where(imars_vehicle['Posted_Speed']=='98. Not posted', 1,0)\n"
     ]
    },
    {
     "data": {
      "text/plain": [
       "2413"
      ]
     },
     "execution_count": 61,
     "metadata": {},
     "output_type": "execute_result"
    }
   ],
   "source": [
    "imars_vehicle = imars_vehicle.rename(columns={'IMARS_Record_No':'INCID_NO'}) # rename to match CDS\n",
    "imars_vehicle_slim = imars_vehicle[['INCID_NO']] # subset needed columns\n",
    "# set flags for speed limit\n",
    "imars_vehicle_slim['5_mph']= np.where(imars_vehicle['Posted_Speed']=='01. 5 mph', 1,0)\n",
    "imars_vehicle_slim['10_mph']= np.where(imars_vehicle['Posted_Speed']=='02. 10 mph', 1,0)\n",
    "imars_vehicle_slim['15_mph']= np.where(imars_vehicle['Posted_Speed']=='03. 15 mph', 1,0)\n",
    "imars_vehicle_slim['20_mph']= np.where(imars_vehicle['Posted_Speed']=='04. 20 mph', 1,0)\n",
    "imars_vehicle_slim['25_mph']= np.where(imars_vehicle['Posted_Speed']=='05. 25 mph', 1,0)\n",
    "imars_vehicle_slim['30_mph']= np.where(imars_vehicle['Posted_Speed']=='06. 30 mph', 1,0)\n",
    "imars_vehicle_slim['35_mph']= np.where(imars_vehicle['Posted_Speed']=='07. 35 mph', 1,0)\n",
    "imars_vehicle_slim['40_mph']= np.where(imars_vehicle['Posted_Speed']=='08. 40 mph', 1,0)\n",
    "imars_vehicle_slim['45_mph']= np.where(imars_vehicle['Posted_Speed']=='09. 45 mph', 1,0)\n",
    "imars_vehicle_slim['50_mph']= np.where(imars_vehicle['Posted_Speed']=='10. 50 mph', 1,0)\n",
    "imars_vehicle_slim['55_mph']= np.where(imars_vehicle['Posted_Speed']=='11. 55 mph', 1,0)\n",
    "imars_vehicle_slim['60_mph']= np.where(imars_vehicle['Posted_Speed']=='12. 60 mph', 1,0)\n",
    "imars_vehicle_slim['65_mph']= np.where(imars_vehicle['Posted_Speed']=='13. 65 mph', 1,0)\n",
    "imars_vehicle_slim['70_mph']= np.where(imars_vehicle['Posted_Speed']=='14. 70 mph', 1,0)\n",
    "imars_vehicle_slim['75_mph']= np.where(imars_vehicle['Posted_Speed']=='15. 75 mph', 1,0)\n",
    "imars_vehicle_slim['no_posted_speed']= np.where(imars_vehicle['Posted_Speed']=='98. Not posted', 1,0)\n",
    "imars_vehicle_slim['25_mph'].sum() # exactly as expected based on Posted Speed value counts"
   ]
  },
  {
   "cell_type": "code",
   "execution_count": 62,
   "metadata": {},
   "outputs": [
    {
     "data": {
      "text/plain": [
       "Index(['INCID_NO', '5_mph', '10_mph', '15_mph', '20_mph', '25_mph', '30_mph',\n",
       "       '35_mph', '40_mph', '45_mph', '50_mph', '55_mph', '60_mph', '65_mph',\n",
       "       '70_mph', '75_mph', 'no_posted_speed'],\n",
       "      dtype='object')"
      ]
     },
     "execution_count": 62,
     "metadata": {},
     "output_type": "execute_result"
    }
   ],
   "source": [
    "imars_vehicle_slim.columns"
   ]
  },
  {
   "cell_type": "code",
   "execution_count": 63,
   "metadata": {},
   "outputs": [
    {
     "data": {
      "text/plain": [
       "(15302, 17)"
      ]
     },
     "execution_count": 63,
     "metadata": {},
     "output_type": "execute_result"
    }
   ],
   "source": [
    "# collapse multiple rows for each vehicle involved in the crash into a single row for each crash\n",
    "# only one speed limit should exist per crash to not double count data attribute (\"first\" function)\n",
    "imars_vehicle_slim_agg = imars_vehicle_slim.groupby(by=['INCID_NO']).first().reset_index()\n",
    "imars_vehicle_slim_agg.shape"
   ]
  },
  {
   "cell_type": "code",
   "execution_count": 64,
   "metadata": {},
   "outputs": [
    {
     "data": {
      "text/plain": [
       "01. Passenger car (sedan, minivan, etc.)         8537\n",
       "02. Sport utility vehicle                        4259\n",
       "05. Pickup truck                                 2557\n",
       "10. Motorcycle > 150cc                            873\n",
       "06. Motor home                                    649\n",
       "99. Unknown                                       641\n",
       "18. Medium/heavy trucks (10,000 lbs. or more)     343\n",
       "17. Other light trucks (10,000 lbs. or less)      281\n",
       "03. Passenger van (9-15 passengers)               223\n",
       "21. Other                                         207\n",
       "08. Transit/shuttle bus                           197\n",
       "04. Cargo van (10,000 lbs. or less)               162\n",
       "19. Maintenance/construction vehicle              117\n",
       "09. Motor coach                                   107\n",
       "16. Snowmobile                                     43\n",
       "15. ATV                                            33\n",
       "07. School bus                                     31\n",
       "11. Motorcycle < 150cc (trail bike)                21\n",
       "12. Moped/minibike/scooter/segway                  16\n",
       "14. Low speed vehicle (golf cart, etc.)            13\n",
       "20. Farm equipment                                  6\n",
       "Name: Vehicle_Type, dtype: int64"
      ]
     },
     "execution_count": 64,
     "metadata": {},
     "output_type": "execute_result"
    }
   ],
   "source": [
    "imars_vehicle['Vehicle_Type'].value_counts()"
   ]
  },
  {
   "cell_type": "code",
   "execution_count": 65,
   "metadata": {},
   "outputs": [],
   "source": [
    "imars_vehicle['NUM_VEH'] = 1 # one vehicle per entry\n",
    "imars_vehicletypes = imars_vehicle[['INCID_NO','NUM_VEH']] # subset needed columns"
   ]
  },
  {
   "cell_type": "code",
   "execution_count": 66,
   "metadata": {},
   "outputs": [
    {
     "name": "stderr",
     "output_type": "stream",
     "text": [
      "C:\\Users\\Sophie.Kaye\\AppData\\Local\\Temp\\ipykernel_20152\\3534211288.py:8: SettingWithCopyWarning: \n",
      "A value is trying to be set on a copy of a slice from a DataFrame.\n",
      "Try using .loc[row_indexer,col_indexer] = value instead\n",
      "\n",
      "See the caveats in the documentation: https://pandas.pydata.org/pandas-docs/stable/user_guide/indexing.html#returning-a-view-versus-a-copy\n",
      "  imars_vehicletypes['Num_Motorcycle'] = np.where(imars_vehicle['Vehicle_Type'].str.contains(\"Motorcycle\")==True, 1,0)\n"
     ]
    },
    {
     "data": {
      "text/plain": [
       "(894, 894)"
      ]
     },
     "execution_count": 66,
     "metadata": {},
     "output_type": "execute_result"
    }
   ],
   "source": [
    "# set flags for each vehicle type\n",
    "\n",
    "#imars_vehicletypes['Car'] = np.where(imars_vehicle['Vehicle_Type']=='01. Passenger car (sedan, minivan, etc.)', 1,0)\n",
    "#imars_vehicletypes['SUV'] = np.where(imars_vehicle['Vehicle_Type']=='02. Sport utility vehicle', 1,0)\n",
    "#imars_vehicletypes['Van'] = np.where(imars_vehicle['Vehicle_Type'].str.contains(\" van\")==True, 1,0) # space necessary to prevent inclusion of \"minivan\"\n",
    "#imars_vehicletypes['Truck'] = np.where(imars_vehicle['Vehicle_Type'].str.contains(\"truck\")==True, 1,0)\n",
    "#imars_vehicletypes['Bus'] = np.where(imars_vehicle['Vehicle_Type'].isin(['07. School bus','08. Transit/shuttle bus','09. Motor coach'])==True, 1,0)\n",
    "imars_vehicletypes['Num_Motorcycle'] = np.where(imars_vehicle['Vehicle_Type'].str.contains(\"Motorcycle\")==True, 1,0)\n",
    "#imars_vehicletypes['RV'] = np.where(imars_vehicle['Vehicle_Type']=='06. Motor home', 1,0)\n",
    "imars_vehicletypes['Num_Motorcycle'].sum(), (873+21) # number of motorcycles = sum of vehicle type counts above and below 150 cc"
   ]
  },
  {
   "cell_type": "code",
   "execution_count": 67,
   "metadata": {},
   "outputs": [
    {
     "data": {
      "text/plain": [
       "(15302, 3)"
      ]
     },
     "execution_count": 67,
     "metadata": {},
     "output_type": "execute_result"
    }
   ],
   "source": [
    "# collapse multiple rows for each vehicle involved in the crash into a single row for each crash\n",
    "# vehicle types and number of people involved should be summed as total numbers per crash (\"sum\" function)\n",
    "imars_vehicletypes_agg = imars_vehicletypes.groupby(by=['INCID_NO']).sum().reset_index()\n",
    "imars_vehicletypes_agg.shape"
   ]
  },
  {
   "cell_type": "code",
   "execution_count": 68,
   "metadata": {},
   "outputs": [
    {
     "data": {
      "text/plain": [
       "0    14508\n",
       "1      719\n",
       "2       64\n",
       "4        4\n",
       "3        4\n",
       "6        2\n",
       "7        1\n",
       "Name: Num_Motorcycle, dtype: int64"
      ]
     },
     "execution_count": 68,
     "metadata": {},
     "output_type": "execute_result"
    }
   ],
   "source": [
    "imars_vehicletypes_agg['Num_Motorcycle'].value_counts()"
   ]
  },
  {
   "cell_type": "code",
   "execution_count": 69,
   "metadata": {},
   "outputs": [
    {
     "data": {
      "text/plain": [
       "(794, 794)"
      ]
     },
     "execution_count": 69,
     "metadata": {},
     "output_type": "execute_result"
    }
   ],
   "source": [
    "# set indicator for crashes involving motorcycles\n",
    "imars_vehicletypes_agg['Motorcycle_Ind'] = np.where(imars_vehicletypes_agg['Num_Motorcycle'] > 0, 1,0)\n",
    "imars_vehicletypes_agg['Motorcycle_Ind'].sum(), (719+64+4+4+2+1) #  looks good (replacing number of motorcyclists involved in each crash with 1 for all crashes involving motorcyclists)"
   ]
  },
  {
   "cell_type": "code",
   "execution_count": 70,
   "metadata": {},
   "outputs": [
    {
     "data": {
      "text/plain": [
       "Index(['INCID_NO', 'NUM_VEH', 'Num_Motorcycle', 'Motorcycle_Ind'], dtype='object')"
      ]
     },
     "execution_count": 70,
     "metadata": {},
     "output_type": "execute_result"
    }
   ],
   "source": [
    "imars_vehicletypes_agg.columns"
   ]
  },
  {
   "cell_type": "code",
   "execution_count": 71,
   "metadata": {},
   "outputs": [
    {
     "data": {
      "text/plain": [
       "(15302, 20)"
      ]
     },
     "execution_count": 71,
     "metadata": {},
     "output_type": "execute_result"
    }
   ],
   "source": [
    "# join aggregated ('sum' and 'first') vehicle data into single table\n",
    "imars_slim_vehicle_agg = imars_vehicle_slim_agg.merge(imars_vehicletypes_agg, how='right', on='INCID_NO')\n",
    "imars_slim_vehicle_agg = imars_slim_vehicle_agg.drop_duplicates()\n",
    "imars_slim_vehicle_agg.shape"
   ]
  },
  {
   "cell_type": "code",
   "execution_count": 72,
   "metadata": {},
   "outputs": [
    {
     "data": {
      "text/plain": [
       "Index(['INCID_NO', '5_mph', '10_mph', '15_mph', '20_mph', '25_mph', '30_mph',\n",
       "       '35_mph', '40_mph', '45_mph', '50_mph', '55_mph', '60_mph', '65_mph',\n",
       "       '70_mph', '75_mph', 'no_posted_speed', 'NUM_VEH', 'Num_Motorcycle',\n",
       "       'Motorcycle_Ind'],\n",
       "      dtype='object')"
      ]
     },
     "execution_count": 72,
     "metadata": {},
     "output_type": "execute_result"
    }
   ],
   "source": [
    "imars_slim_vehicle_agg.columns"
   ]
  },
  {
   "cell_type": "code",
   "execution_count": 73,
   "metadata": {},
   "outputs": [],
   "source": [
    "imars_slim_vehicle_agg.to_csv(\"./IMARS_slim_vehicle_agg.csv\",index=False)"
   ]
  },
  {
   "cell_type": "markdown",
   "metadata": {},
   "source": [
    "## Crash Details Table"
   ]
  },
  {
   "cell_type": "code",
   "execution_count": 74,
   "metadata": {},
   "outputs": [],
   "source": [
    "imars_crash_details = imars_crash_details.rename(columns={'IMARS_Record_No':'INCID_NO'}) # rename to match CDS\n",
    "imars_crash_details_slim = imars_crash_details[['INCID_NO', 'First_Harmful_Event', 'First_Harmful_Event_Type']] # subset needed columns"
   ]
  },
  {
   "cell_type": "code",
   "execution_count": 75,
   "metadata": {},
   "outputs": [
    {
     "data": {
      "text/plain": [
       "21. Motor vehicle in transport                                           4829\n",
       "22. Parked motor vehicle                                                 1422\n",
       "52. Tree/shrub                                                           1233\n",
       "28. Deer                                                                  922\n",
       "07. Ran off the road right                                                797\n",
       "99. Unknown                                                               411\n",
       "25. Other non-fixed object                                                345\n",
       "60. Rock, boulder, rock slide                                             341\n",
       "66. Other fixed object                                                    331\n",
       "46. Earth embankment/berm                                                 325\n",
       "16. Other non-collision                                                   278\n",
       "01. Overturn/rollover                                                     271\n",
       "08. Ran Off the road left                                                 259\n",
       "45. Ditch                                                                 242\n",
       "65. Other post, pole or support                                           191\n",
       "51. Other traffic barrier/barricade                                       182\n",
       "31. Buffalo                                                               150\n",
       "50. Wall                                                                  149\n",
       "54. Traffic sign support                                                  149\n",
       "44. Median/curb                                                           148\n",
       "49. Guardrail/concrete traffic barrier                                    132\n",
       "29. Elk                                                                   118\n",
       "18. Bicycle                                                               103\n",
       "32. Bear                                                                  101\n",
       "09. Cross median or centerline                                             98\n",
       "59. Building                                                               87\n",
       "47. Guardrail/cable face                                                   80\n",
       "57. Fence (including post)                                                 73\n",
       "17. Pedestrian                                                             71\n",
       "13. Avoiding an animal on road                                             56\n",
       "53. Utility pole/light support                                             55\n",
       "12. Avoiding an object on road                                             53\n",
       "62. Snow embankment                                                        49\n",
       "14. Thrown or falling object                                               47\n",
       "43. End of drainage pipe/structure/culvert                                 44\n",
       "41. Bridge rail                                                            42\n",
       "11. Fell/jumped from motor vehicle                                         32\n",
       "24. Work zone/maintenance equipment                                        30\n",
       "23. Struck by falling, shifting cargo or anything set in motion by MV      27\n",
       "36. Other wild animal (crocodile, birds, coyote, etc.)                     26\n",
       "61. Tunnel                                                                 25\n",
       "10. Downhill runaway                                                       22\n",
       "39. Bridge overhead structure                                              22\n",
       "48. Guardrail/cable end                                                    21\n",
       "38. Impact attenuator/crash cushion                                        20\n",
       "02. Fire/explosion                                                         18\n",
       "26. Horse/llama                                                            15\n",
       "34. Sheep/goats                                                            13\n",
       "05. Cargo/equipment loss or shift                                          10\n",
       "03. Immersion                                                               9\n",
       "33. Antelope                                                                9\n",
       "30. Moose                                                                   9\n",
       "40. Bridge pier or support                                                  9\n",
       "06. Separation of units                                                     8\n",
       "04. Jackknife                                                               8\n",
       "64. Delineator                                                              7\n",
       "27. Cow                                                                     6\n",
       "20. Railway vehicle                                                         6\n",
       "37. Other domestic (dog, cat, etc.)                                         5\n",
       "55. Traffic signal support                                                  4\n",
       "56. Overhead traffic sign                                                   3\n",
       "42. Cable barrier                                                           3\n",
       "58. Mailbox                                                                 2\n",
       "19. Other pedacycle                                                         1\n",
       "Name: First_Harmful_Event, dtype: int64"
      ]
     },
     "execution_count": 75,
     "metadata": {},
     "output_type": "execute_result"
    }
   ],
   "source": [
    "pd.options.display.max_rows = 10000000\n",
    "imars_crash_details['First_Harmful_Event'].value_counts()"
   ]
  },
  {
   "cell_type": "code",
   "execution_count": 108,
   "metadata": {},
   "outputs": [
    {
     "data": {
      "text/plain": [
       "Collision with person, MV or non-fixed object    6869\n",
       "Collision with fixed object                      3990\n",
       "Non-collision                                    1897\n",
       "Collision with animals                           1376\n",
       "Unknown                                           413\n",
       "Name: First_Harmful_Event_Type, dtype: int64"
      ]
     },
     "execution_count": 108,
     "metadata": {},
     "output_type": "execute_result"
    }
   ],
   "source": [
    "imars_crash_details['First_Harmful_Event_Type'].value_counts()"
   ]
  },
  {
   "cell_type": "code",
   "execution_count": 76,
   "metadata": {
    "scrolled": true
   },
   "outputs": [
    {
     "data": {
      "text/plain": [
       "01. None                                                                                    10032\n",
       "02. Weather                                                                                  1270\n",
       "06. Animal(s) in roadway                                                                      974\n",
       "99. Unknown                                                                                   595\n",
       "03. Physical obstruction(s) (trees, bushes, etc.)                                             239\n",
       "07. Other                                                                                     229\n",
       "05. Glare                                                                                      88\n",
       "02. Weather; 03. Physical obstruction(s) (trees, bushes, etc.)                                 86\n",
       "02. Weather; 07. Other                                                                         56\n",
       "02. Weather; 06. Animal(s) in roadway                                                          50\n",
       "04. Rockfall                                                                                   35\n",
       "01. None; 99. Unknown                                                                          19\n",
       "03. Physical obstruction(s) (trees, bushes, etc.); 06. Animal(s) in roadway                    17\n",
       "02. Weather; 05. Glare                                                                         13\n",
       "05. Glare; 06. Animal(s) in roadway                                                            11\n",
       "01. None; 06. Animal(s) in roadway                                                              9\n",
       "03. Physical obstruction(s) (trees, bushes, etc.); 07. Other                                    9\n",
       "02. Weather; 99. Unknown                                                                        9\n",
       "06. Animal(s) in roadway; 99. Unknown                                                           7\n",
       "03. Physical obstruction(s) (trees, bushes, etc.); 05. Glare                                    6\n",
       "01. None; 07. Other                                                                             6\n",
       "02. Weather; 04. Rockfall                                                                       5\n",
       "05. Glare; 07. Other                                                                            4\n",
       "01. None; 02. Weather                                                                           3\n",
       "06. Animal(s) in roadway; 07. Other                                                             3\n",
       "01. None; 03. Physical obstruction(s) (trees, bushes, etc.)                                     3\n",
       "02. Weather; 06. Animal(s) in roadway; 07. Other                                                3\n",
       "03. Physical obstruction(s) (trees, bushes, etc.); 99. Unknown                                  2\n",
       "07. Other; 99. Unknown                                                                          2\n",
       "03. Physical obstruction(s) (trees, bushes, etc.); 04. Rockfall                                 2\n",
       "06. Animal(s) in roadway; 07. Other; 99. Unknown                                                2\n",
       "04. Rockfall; 07. Other                                                                         1\n",
       "02. Weather; 07. Other; 99. Unknown                                                             1\n",
       "02. Weather; 03. Physical obstruction(s) (trees, bushes, etc.); 06. Animal(s) in roadway        1\n",
       "02. Weather; 05. Glare; 06. Animal(s) in roadway                                                1\n",
       "01. None; 07. Other; 99. Unknown                                                                1\n",
       "02. Weather; 03. Physical obstruction(s) (trees, bushes, etc.); 07. Other                       1\n",
       "03. Physical obstruction(s) (trees, bushes, etc.); 07. Other; 99. Unknown                       1\n",
       "02. Weather; 03. Physical obstruction(s) (trees, bushes, etc.); 04. Rockfall                    1\n",
       "03. Physical obstruction(s) (trees, bushes, etc.); 05. Glare; 06. Animal(s) in roadway          1\n",
       "05. Glare; 07. Other; 99. Unknown                                                               1\n",
       "01. None; 06. Animal(s) in roadway; 99. Unknown                                                 1\n",
       "01. None; 05. Glare                                                                             1\n",
       "02. Weather; 06. Animal(s) in roadway; 99. Unknown                                              1\n",
       "Name: Environmental_Contributing_Circumstances, dtype: int64"
      ]
     },
     "execution_count": 76,
     "metadata": {},
     "output_type": "execute_result"
    }
   ],
   "source": [
    "imars_crash_details['Environmental_Contributing_Circumstances'].value_counts()"
   ]
  },
  {
   "cell_type": "code",
   "execution_count": 77,
   "metadata": {},
   "outputs": [
    {
     "name": "stderr",
     "output_type": "stream",
     "text": [
      "C:\\Users\\Sophie.Kaye\\AppData\\Local\\Temp\\ipykernel_20152\\883559597.py:2: SettingWithCopyWarning: \n",
      "A value is trying to be set on a copy of a slice from a DataFrame.\n",
      "Try using .loc[row_indexer,col_indexer] = value instead\n",
      "\n",
      "See the caveats in the documentation: https://pandas.pydata.org/pandas-docs/stable/user_guide/indexing.html#returning-a-view-versus-a-copy\n",
      "  imars_crash_details_slim['Collision w Animal']= np.where(imars_crash_details['First_Harmful_Event_Type']==\"Collision with animals\", 1,0)\n",
      "C:\\Users\\Sophie.Kaye\\AppData\\Local\\Temp\\ipykernel_20152\\883559597.py:3: SettingWithCopyWarning: \n",
      "A value is trying to be set on a copy of a slice from a DataFrame.\n",
      "Try using .loc[row_indexer,col_indexer] = value instead\n",
      "\n",
      "See the caveats in the documentation: https://pandas.pydata.org/pandas-docs/stable/user_guide/indexing.html#returning-a-view-versus-a-copy\n",
      "  imars_crash_details_slim['Avoiding Animal']= np.where(imars_crash_details['First_Harmful_Event']==\"13. Avoiding an animal on road\", 1,0)\n",
      "C:\\Users\\Sophie.Kaye\\AppData\\Local\\Temp\\ipykernel_20152\\883559597.py:4: SettingWithCopyWarning: \n",
      "A value is trying to be set on a copy of a slice from a DataFrame.\n",
      "Try using .loc[row_indexer,col_indexer] = value instead\n",
      "\n",
      "See the caveats in the documentation: https://pandas.pydata.org/pandas-docs/stable/user_guide/indexing.html#returning-a-view-versus-a-copy\n",
      "  imars_crash_details_slim['Animal in Roadway']= np.where(imars_crash_details['Environmental_Contributing_Circumstances'].str.contains(\"Animal\")==True, 1,0)\n"
     ]
    },
    {
     "data": {
      "text/plain": [
       "(1081, 1081)"
      ]
     },
     "execution_count": 77,
     "metadata": {},
     "output_type": "execute_result"
    }
   ],
   "source": [
    "# set flags for animal related data attributes\n",
    "imars_crash_details_slim['Collision w Animal']= np.where(imars_crash_details['First_Harmful_Event_Type']==\"Collision with animals\", 1,0)\n",
    "imars_crash_details_slim['Avoiding Animal']= np.where(imars_crash_details['First_Harmful_Event']==\"13. Avoiding an animal on road\", 1,0)\n",
    "imars_crash_details_slim['Animal in Roadway']= np.where(imars_crash_details['Environmental_Contributing_Circumstances'].str.contains(\"Animal\")==True, 1,0)\n",
    "# check logic - looks good!\n",
    "imars_crash_details_slim['Animal in Roadway'].sum(), (974+50+17+11+9+7+3+3+2+1+1+1+1+1) # includes all possible animal-related entries in environmental value counts"
   ]
  },
  {
   "cell_type": "code",
   "execution_count": 78,
   "metadata": {},
   "outputs": [
    {
     "name": "stderr",
     "output_type": "stream",
     "text": [
      "C:\\Users\\Sophie.Kaye\\AppData\\Local\\Temp\\ipykernel_20152\\3386673229.py:1: FutureWarning: Dropping of nuisance columns in DataFrame reductions (with 'numeric_only=None') is deprecated; in a future version this will raise TypeError.  Select only valid columns before calling the reduction.\n",
      "  imars_crash_details_slim.sum() # order if statements in for loop from most to least common to increase speed\n"
     ]
    },
    {
     "data": {
      "text/plain": [
       "INCID_NO              NP12000078NP12000378NP12000550NP12000911NP1200...\n",
       "Collision w Animal                                                 1376\n",
       "Avoiding Animal                                                      56\n",
       "Animal in Roadway                                                  1081\n",
       "dtype: object"
      ]
     },
     "execution_count": 78,
     "metadata": {},
     "output_type": "execute_result"
    }
   ],
   "source": [
    "imars_crash_details_slim.sum() # order if statements in for loop from most to least common to increase speed"
   ]
  },
  {
   "cell_type": "code",
   "execution_count": 79,
   "metadata": {},
   "outputs": [
    {
     "name": "stderr",
     "output_type": "stream",
     "text": [
      "C:\\Users\\Sophie.Kaye\\AppData\\Local\\Temp\\ipykernel_20152\\3365540684.py:2: SettingWithCopyWarning: \n",
      "A value is trying to be set on a copy of a slice from a DataFrame.\n",
      "Try using .loc[row_indexer,col_indexer] = value instead\n",
      "\n",
      "See the caveats in the documentation: https://pandas.pydata.org/pandas-docs/stable/user_guide/indexing.html#returning-a-view-versus-a-copy\n",
      "  imars_crash_details_slim['Involving Animal'] = 0 # initialize column with dummy data to replace with for loop\n",
      "C:\\Users\\Sophie.Kaye\\AppData\\Local\\Temp\\ipykernel_20152\\3365540684.py:12: SettingWithCopyWarning: \n",
      "A value is trying to be set on a copy of a slice from a DataFrame\n",
      "\n",
      "See the caveats in the documentation: https://pandas.pydata.org/pandas-docs/stable/user_guide/indexing.html#returning-a-view-versus-a-copy\n",
      "  imars_crash_details_slim['Involving Animal'].iloc[i] = 0\n",
      "C:\\Users\\Sophie.Kaye\\AppData\\Local\\Temp\\ipykernel_20152\\3365540684.py:10: SettingWithCopyWarning: \n",
      "A value is trying to be set on a copy of a slice from a DataFrame\n",
      "\n",
      "See the caveats in the documentation: https://pandas.pydata.org/pandas-docs/stable/user_guide/indexing.html#returning-a-view-versus-a-copy\n",
      "  imars_crash_details_slim['Involving Animal'].iloc[i] = 1\n",
      "C:\\Users\\Sophie.Kaye\\AppData\\Local\\Temp\\ipykernel_20152\\3365540684.py:6: SettingWithCopyWarning: \n",
      "A value is trying to be set on a copy of a slice from a DataFrame\n",
      "\n",
      "See the caveats in the documentation: https://pandas.pydata.org/pandas-docs/stable/user_guide/indexing.html#returning-a-view-versus-a-copy\n",
      "  imars_crash_details_slim['Involving Animal'].iloc[i] = 1\n",
      "C:\\Users\\Sophie.Kaye\\AppData\\Local\\Temp\\ipykernel_20152\\3365540684.py:8: SettingWithCopyWarning: \n",
      "A value is trying to be set on a copy of a slice from a DataFrame\n",
      "\n",
      "See the caveats in the documentation: https://pandas.pydata.org/pandas-docs/stable/user_guide/indexing.html#returning-a-view-versus-a-copy\n",
      "  imars_crash_details_slim['Involving Animal'].iloc[i] = 1\n"
     ]
    },
    {
     "data": {
      "text/plain": [
       "1655"
      ]
     },
     "execution_count": 79,
     "metadata": {},
     "output_type": "execute_result"
    }
   ],
   "source": [
    "# set animal indicator\n",
    "imars_crash_details_slim['Involving Animal'] = 0 # initialize column with dummy data to replace with for loop\n",
    "length = range(imars_crash_details_slim.shape[0])\n",
    "for i in length:\n",
    "    if imars_crash_details_slim['Collision w Animal'].iloc[i] == 1:\n",
    "        imars_crash_details_slim['Involving Animal'].iloc[i] = 1\n",
    "    elif imars_crash_details_slim['Animal in Roadway'].iloc[i] == 1:\n",
    "        imars_crash_details_slim['Involving Animal'].iloc[i] = 1\n",
    "    elif imars_crash_details_slim['Avoiding Animal'].iloc[i] == 1:\n",
    "        imars_crash_details_slim['Involving Animal'].iloc[i] = 1\n",
    "    else:\n",
    "        imars_crash_details_slim['Involving Animal'].iloc[i] = 0\n",
    "imars_crash_details_slim['Involving Animal'].sum() # greater value than either Collision w Animal, Animal in Roadway, or Avoiding Animal so it must be accounting for them all"
   ]
  },
  {
   "cell_type": "code",
   "execution_count": 80,
   "metadata": {},
   "outputs": [
    {
     "name": "stderr",
     "output_type": "stream",
     "text": [
      "C:\\Users\\Sophie.Kaye\\AppData\\Local\\Temp\\ipykernel_20152\\943174558.py:2: SettingWithCopyWarning: \n",
      "A value is trying to be set on a copy of a slice from a DataFrame.\n",
      "Try using .loc[row_indexer,col_indexer] = value instead\n",
      "\n",
      "See the caveats in the documentation: https://pandas.pydata.org/pandas-docs/stable/user_guide/indexing.html#returning-a-view-versus-a-copy\n",
      "  imars_crash_details_slim['Daylight'] = np.where(imars_crash_details['Lighting']==\"01. Daylight\", 1,0)\n",
      "C:\\Users\\Sophie.Kaye\\AppData\\Local\\Temp\\ipykernel_20152\\943174558.py:3: SettingWithCopyWarning: \n",
      "A value is trying to be set on a copy of a slice from a DataFrame.\n",
      "Try using .loc[row_indexer,col_indexer] = value instead\n",
      "\n",
      "See the caveats in the documentation: https://pandas.pydata.org/pandas-docs/stable/user_guide/indexing.html#returning-a-view-versus-a-copy\n",
      "  imars_crash_details_slim['Dawn'] = np.where(imars_crash_details['Lighting']==\"02. Dawn\", 1,0)\n",
      "C:\\Users\\Sophie.Kaye\\AppData\\Local\\Temp\\ipykernel_20152\\943174558.py:4: SettingWithCopyWarning: \n",
      "A value is trying to be set on a copy of a slice from a DataFrame.\n",
      "Try using .loc[row_indexer,col_indexer] = value instead\n",
      "\n",
      "See the caveats in the documentation: https://pandas.pydata.org/pandas-docs/stable/user_guide/indexing.html#returning-a-view-versus-a-copy\n",
      "  imars_crash_details_slim['Dusk'] = np.where(imars_crash_details['Lighting']==\"03. Dusk\", 1,0)\n",
      "C:\\Users\\Sophie.Kaye\\AppData\\Local\\Temp\\ipykernel_20152\\943174558.py:5: SettingWithCopyWarning: \n",
      "A value is trying to be set on a copy of a slice from a DataFrame.\n",
      "Try using .loc[row_indexer,col_indexer] = value instead\n",
      "\n",
      "See the caveats in the documentation: https://pandas.pydata.org/pandas-docs/stable/user_guide/indexing.html#returning-a-view-versus-a-copy\n",
      "  imars_crash_details_slim['Dark_Lit'] = np.where(imars_crash_details['Lighting']==\"04. Dark - lighted\", 1,0)\n",
      "C:\\Users\\Sophie.Kaye\\AppData\\Local\\Temp\\ipykernel_20152\\943174558.py:6: SettingWithCopyWarning: \n",
      "A value is trying to be set on a copy of a slice from a DataFrame.\n",
      "Try using .loc[row_indexer,col_indexer] = value instead\n",
      "\n",
      "See the caveats in the documentation: https://pandas.pydata.org/pandas-docs/stable/user_guide/indexing.html#returning-a-view-versus-a-copy\n",
      "  imars_crash_details_slim['Dark_NotLit'] = np.where(imars_crash_details['Lighting']==\"05. Dark - not lighted\", 1,0)\n",
      "C:\\Users\\Sophie.Kaye\\AppData\\Local\\Temp\\ipykernel_20152\\943174558.py:7: SettingWithCopyWarning: \n",
      "A value is trying to be set on a copy of a slice from a DataFrame.\n",
      "Try using .loc[row_indexer,col_indexer] = value instead\n",
      "\n",
      "See the caveats in the documentation: https://pandas.pydata.org/pandas-docs/stable/user_guide/indexing.html#returning-a-view-versus-a-copy\n",
      "  imars_crash_details_slim['Dark_UnknownLit'] = np.where(imars_crash_details['Lighting']==\"06. Dark - unknown lighting\", 1,0)\n",
      "C:\\Users\\Sophie.Kaye\\AppData\\Local\\Temp\\ipykernel_20152\\943174558.py:8: FutureWarning: Dropping of nuisance columns in DataFrame reductions (with 'numeric_only=None') is deprecated; in a future version this will raise TypeError.  Select only valid columns before calling the reduction.\n",
      "  imars_crash_details_slim.sum() # order if statements in for loop from most to least common to increase speed\n"
     ]
    },
    {
     "data": {
      "text/plain": [
       "INCID_NO              NP12000078NP12000378NP12000550NP12000911NP1200...\n",
       "Collision w Animal                                                 1376\n",
       "Avoiding Animal                                                      56\n",
       "Animal in Roadway                                                  1081\n",
       "Involving Animal                                                   1655\n",
       "Daylight                                                          10188\n",
       "Dawn                                                                335\n",
       "Dusk                                                                528\n",
       "Dark_Lit                                                            439\n",
       "Dark_NotLit                                                        2327\n",
       "Dark_UnknownLit                                                     101\n",
       "dtype: object"
      ]
     },
     "execution_count": 80,
     "metadata": {},
     "output_type": "execute_result"
    }
   ],
   "source": [
    "# set flags for lighting characteristics\n",
    "imars_crash_details_slim['Daylight'] = np.where(imars_crash_details['Lighting']==\"01. Daylight\", 1,0)\n",
    "imars_crash_details_slim['Dawn'] = np.where(imars_crash_details['Lighting']==\"02. Dawn\", 1,0)\n",
    "imars_crash_details_slim['Dusk'] = np.where(imars_crash_details['Lighting']==\"03. Dusk\", 1,0)\n",
    "imars_crash_details_slim['Dark_Lit'] = np.where(imars_crash_details['Lighting']==\"04. Dark - lighted\", 1,0)\n",
    "imars_crash_details_slim['Dark_NotLit'] = np.where(imars_crash_details['Lighting']==\"05. Dark - not lighted\", 1,0)\n",
    "imars_crash_details_slim['Dark_UnknownLit'] = np.where(imars_crash_details['Lighting']==\"06. Dark - unknown lighting\", 1,0)\n",
    "imars_crash_details_slim.sum() # order if statements in for loop from most to least common to increase speed"
   ]
  },
  {
   "cell_type": "code",
   "execution_count": 81,
   "metadata": {},
   "outputs": [
    {
     "name": "stderr",
     "output_type": "stream",
     "text": [
      "C:\\Users\\Sophie.Kaye\\AppData\\Local\\Temp\\ipykernel_20152\\2887660877.py:2: SettingWithCopyWarning: \n",
      "A value is trying to be set on a copy of a slice from a DataFrame.\n",
      "Try using .loc[row_indexer,col_indexer] = value instead\n",
      "\n",
      "See the caveats in the documentation: https://pandas.pydata.org/pandas-docs/stable/user_guide/indexing.html#returning-a-view-versus-a-copy\n",
      "  imars_crash_details_slim['Poor Lighting'] = 0 # initialize column with dummy data to replace with for loop\n",
      "C:\\Users\\Sophie.Kaye\\AppData\\Local\\Temp\\ipykernel_20152\\2887660877.py:16: SettingWithCopyWarning: \n",
      "A value is trying to be set on a copy of a slice from a DataFrame\n",
      "\n",
      "See the caveats in the documentation: https://pandas.pydata.org/pandas-docs/stable/user_guide/indexing.html#returning-a-view-versus-a-copy\n",
      "  imars_crash_details_slim['Poor Lighting'].iloc[i] = 0\n",
      "C:\\Users\\Sophie.Kaye\\AppData\\Local\\Temp\\ipykernel_20152\\2887660877.py:6: SettingWithCopyWarning: \n",
      "A value is trying to be set on a copy of a slice from a DataFrame\n",
      "\n",
      "See the caveats in the documentation: https://pandas.pydata.org/pandas-docs/stable/user_guide/indexing.html#returning-a-view-versus-a-copy\n",
      "  imars_crash_details_slim['Poor Lighting'].iloc[i] = 1\n",
      "C:\\Users\\Sophie.Kaye\\AppData\\Local\\Temp\\ipykernel_20152\\2887660877.py:8: SettingWithCopyWarning: \n",
      "A value is trying to be set on a copy of a slice from a DataFrame\n",
      "\n",
      "See the caveats in the documentation: https://pandas.pydata.org/pandas-docs/stable/user_guide/indexing.html#returning-a-view-versus-a-copy\n",
      "  imars_crash_details_slim['Poor Lighting'].iloc[i] = 1\n",
      "C:\\Users\\Sophie.Kaye\\AppData\\Local\\Temp\\ipykernel_20152\\2887660877.py:12: SettingWithCopyWarning: \n",
      "A value is trying to be set on a copy of a slice from a DataFrame\n",
      "\n",
      "See the caveats in the documentation: https://pandas.pydata.org/pandas-docs/stable/user_guide/indexing.html#returning-a-view-versus-a-copy\n",
      "  imars_crash_details_slim['Poor Lighting'].iloc[i] = 1\n",
      "C:\\Users\\Sophie.Kaye\\AppData\\Local\\Temp\\ipykernel_20152\\2887660877.py:10: SettingWithCopyWarning: \n",
      "A value is trying to be set on a copy of a slice from a DataFrame\n",
      "\n",
      "See the caveats in the documentation: https://pandas.pydata.org/pandas-docs/stable/user_guide/indexing.html#returning-a-view-versus-a-copy\n",
      "  imars_crash_details_slim['Poor Lighting'].iloc[i] = 1\n",
      "C:\\Users\\Sophie.Kaye\\AppData\\Local\\Temp\\ipykernel_20152\\2887660877.py:14: SettingWithCopyWarning: \n",
      "A value is trying to be set on a copy of a slice from a DataFrame\n",
      "\n",
      "See the caveats in the documentation: https://pandas.pydata.org/pandas-docs/stable/user_guide/indexing.html#returning-a-view-versus-a-copy\n",
      "  imars_crash_details_slim['Poor Lighting'].iloc[i] = 1\n"
     ]
    },
    {
     "data": {
      "text/plain": [
       "(3730, 3730)"
      ]
     },
     "execution_count": 81,
     "metadata": {},
     "output_type": "execute_result"
    }
   ],
   "source": [
    "# group adverse lighting attributes into bin for poor visibility\n",
    "imars_crash_details_slim['Poor Lighting'] = 0 # initialize column with dummy data to replace with for loop\n",
    "length = range(imars_crash_details_slim.shape[0])\n",
    "for i in length:\n",
    "    if imars_crash_details_slim['Dark_NotLit'].iloc[i] == 1:\n",
    "        imars_crash_details_slim['Poor Lighting'].iloc[i] = 1\n",
    "    elif imars_crash_details_slim['Dusk'].iloc[i] == 1:\n",
    "        imars_crash_details_slim['Poor Lighting'].iloc[i] = 1\n",
    "    elif imars_crash_details_slim['Dark_Lit'].iloc[i] == 1:\n",
    "        imars_crash_details_slim['Poor Lighting'].iloc[i] = 1\n",
    "    elif imars_crash_details_slim['Dawn'].iloc[i] == 1:\n",
    "        imars_crash_details_slim['Poor Lighting'].iloc[i] = 1\n",
    "    elif imars_crash_details_slim['Dark_UnknownLit'].iloc[i] == 1:\n",
    "        imars_crash_details_slim['Poor Lighting'].iloc[i] = 1\n",
    "    else:\n",
    "        imars_crash_details_slim['Poor Lighting'].iloc[i] = 0\n",
    "# check logic - looks good!\n",
    "imars_crash_details_slim['Poor Lighting'].sum(), (335+528+439+2327+101)"
   ]
  },
  {
   "cell_type": "code",
   "execution_count": 82,
   "metadata": {},
   "outputs": [
    {
     "data": {
      "text/plain": [
       "01. Clear                                             10967\n",
       "02. Raining                                             847\n",
       "10. Cloudy, overcast                                    776\n",
       "99. Unknown                                             418\n",
       "03. Snowing                                             256\n",
       "02. Raining; 10. Cloudy, overcast                       195\n",
       "02. Raining; 04. Fog                                    103\n",
       "04. Fog                                                  87\n",
       "03. Snowing; 10. Cloudy, overcast                        78\n",
       "01. Clear; 10. Cloudy, overcast                          63\n",
       "03. Snowing; 09. Blowing snow                            54\n",
       "03. Snowing; 08. Sleet/hail/freezing rain                45\n",
       "12. Other                                                37\n",
       "06. Severe wind only                                     27\n",
       "01. Clear; 12. Other                                     23\n",
       "01. Clear; 99. Unknown                                   21\n",
       "08. Sleet/hail/freezing rain                             20\n",
       "02. Raining; 03. Snowing                                 18\n",
       "02. Raining; 06. Severe wind only                        18\n",
       "01. Clear; 11. Smoke                                     18\n",
       "02. Raining; 08. Sleet/hail/freezing rain                15\n",
       "01. Clear; 06. Severe wind only                          13\n",
       "09. Blowing snow                                         12\n",
       "11. Smoke                                                11\n",
       "03. Snowing; 07. Blizzard                                11\n",
       "02. Raining; 12. Other                                   11\n",
       "04. Fog; 10. Cloudy, overcast                            10\n",
       "01. Clear; 02. Raining                                   10\n",
       "10. Cloudy, overcast; 12. Other                           9\n",
       "08. Sleet/hail/freezing rain; 10. Cloudy, overcast        8\n",
       "01. Clear; 05. Blowing dust/sand/dirt                     7\n",
       "03. Snowing; 04. Fog                                      6\n",
       "01. Clear; 04. Fog                                        6\n",
       "06. Severe wind only; 10. Cloudy, overcast                6\n",
       "08. Sleet/hail/freezing rain; 09. Blowing snow            5\n",
       "09. Blowing snow; 10. Cloudy, overcast                    5\n",
       "07. Blizzard; 09. Blowing snow                            4\n",
       "01. Clear; 03. Snowing                                    4\n",
       "03. Snowing; 12. Other                                    3\n",
       "04. Fog; 08. Sleet/hail/freezing rain                     3\n",
       "04. Fog; 12. Other                                        3\n",
       "10. Cloudy, overcast; 11. Smoke                           3\n",
       "05. Blowing dust/sand/dirt; 06. Severe wind only          2\n",
       "02. Raining; 99. Unknown                                  2\n",
       "07. Blizzard                                              2\n",
       "10. Cloudy, overcast; 99. Unknown                         2\n",
       "01. Clear; 08. Sleet/hail/freezing rain                   1\n",
       "11. Smoke; 12. Other                                      1\n",
       "03. Snowing; 06. Severe wind only                         1\n",
       "06. Severe wind only; 09. Blowing snow                    1\n",
       "07. Blizzard; 10. Cloudy, overcast                        1\n",
       "04. Fog; 09. Blowing snow                                 1\n",
       "12. Other; 99. Unknown                                    1\n",
       "01. Clear; 09. Blowing snow                               1\n",
       "05. Blowing dust/sand/dirt; 10. Cloudy, overcast          1\n",
       "Name: Weather, dtype: int64"
      ]
     },
     "execution_count": 82,
     "metadata": {},
     "output_type": "execute_result"
    }
   ],
   "source": [
    "imars_crash_details['Weather'].value_counts()"
   ]
  },
  {
   "cell_type": "code",
   "execution_count": 83,
   "metadata": {},
   "outputs": [
    {
     "data": {
      "text/plain": [
       "01. Dry                                        10421\n",
       "02. Wet                                         1591\n",
       "99. Unknown                                      401\n",
       "03. Snow; 05. Ice/frost                          370\n",
       "08. Mud, dirt, gravel                            220\n",
       "01. Dry; 08. Mud, dirt, gravel                   199\n",
       "05. Ice/frost                                    175\n",
       "03. Snow                                         162\n",
       "10. Other                                         66\n",
       "02. Wet; 05. Ice/frost                            60\n",
       "03. Snow; 04. Slush                               58\n",
       "02. Wet; 08. Mud, dirt, gravel                    52\n",
       "07. Sand                                          41\n",
       "02. Wet; 03. Snow                                 41\n",
       "01. Dry; 07. Sand                                 38\n",
       "02. Wet; 06. Water (standing, moving)             32\n",
       "04. Slush; 05. Ice/frost                          25\n",
       "02. Wet; 04. Slush                                23\n",
       "01. Dry; 02. Wet                                  19\n",
       "04. Slush                                         18\n",
       "02. Wet; 10. Other                                17\n",
       "01. Dry; 10. Other                                17\n",
       "01. Dry; 99. Unknown                              13\n",
       "07. Sand; 08. Mud, dirt, gravel                   10\n",
       "08. Mud, dirt, gravel; 10. Other                   6\n",
       "01. Dry; 03. Snow                                  6\n",
       "01. Dry; 05. Ice/frost                             5\n",
       "05. Ice/frost; 08. Mud, dirt, gravel               4\n",
       "05. Ice/frost; 07. Sand                            4\n",
       "06. Water (standing, moving)                       4\n",
       "08. Mud, dirt, gravel; 99. Unknown                 4\n",
       "02. Wet; 99. Unknown                               3\n",
       "03. Snow; 08. Mud, dirt, gravel                    3\n",
       "03. Snow; 10. Other                                2\n",
       "09. Oil                                            2\n",
       "02. Wet; 09. Oil                                   2\n",
       "02. Wet; 07. Sand                                  2\n",
       "05. Ice/frost; 99. Unknown                         1\n",
       "04. Slush; 06. Water (standing, moving)            1\n",
       "03. Snow; 99. Unknown                              1\n",
       "09. Oil; 10. Other                                 1\n",
       "05. Ice/frost; 06. Water (standing, moving)        1\n",
       "04. Slush; 07. Sand                                1\n",
       "03. Snow; 07. Sand                                 1\n",
       "Name: Roadway_Condition, dtype: int64"
      ]
     },
     "execution_count": 83,
     "metadata": {},
     "output_type": "execute_result"
    }
   ],
   "source": [
    "imars_crash_details['Roadway_Condition'].value_counts()"
   ]
  },
  {
   "cell_type": "code",
   "execution_count": 84,
   "metadata": {},
   "outputs": [
    {
     "data": {
      "text/plain": [
       "01. None                                                                                                                                                10101\n",
       "02. Road surface condition (wet, icy, snow, slush, etc.)                                                                                                 1503\n",
       "99. Unknown                                                                                                                                               438\n",
       "09. Shoulders (none, low, soft, high)                                                                                                                     309\n",
       "11. Other                                                                                                                                                 253\n",
       "07. Obstruction in roadway (i.e. vehicles, etc.)                                                                                                          200\n",
       "04. Rut, holes, bumps                                                                                                                                     169\n",
       "05. Work zone                                                                                                                                             117\n",
       "03. Debris                                                                                                                                                111\n",
       "02. Road surface condition (wet, icy, snow, slush, etc.); 09. Shoulders (none, low, soft, high)                                                            75\n",
       "02. Road surface condition (wet, icy, snow, slush, etc.); 03. Debris                                                                                       43\n",
       "02. Road surface condition (wet, icy, snow, slush, etc.); 07. Obstruction in roadway (i.e. vehicles, etc.)                                                 42\n",
       "02. Road surface condition (wet, icy, snow, slush, etc.); 04. Rut, holes, bumps                                                                            38\n",
       "04. Rut, holes, bumps; 09. Shoulders (none, low, soft, high)                                                                                               27\n",
       "01. None; 99. Unknown                                                                                                                                      24\n",
       "02. Road surface condition (wet, icy, snow, slush, etc.); 11. Other                                                                                        19\n",
       "01. None; 11. Other                                                                                                                                        19\n",
       "02. Road surface condition (wet, icy, snow, slush, etc.); 03. Debris; 07. Obstruction in roadway (i.e. vehicles, etc.)                                     17\n",
       "03. Debris; 07. Obstruction in roadway (i.e. vehicles, etc.)                                                                                               16\n",
       "02. Road surface condition (wet, icy, snow, slush, etc.); 04. Rut, holes, bumps; 09. Shoulders (none, low, soft, high)                                     15\n",
       "01. None; 09. Shoulders (none, low, soft, high)                                                                                                            14\n",
       "09. Shoulders (none, low, soft, high); 11. Other                                                                                                           13\n",
       "10. Off roadway work lane markings missing or faded                                                                                                        12\n",
       "07. Obstruction in roadway (i.e. vehicles, etc.); 09. Shoulders (none, low, soft, high)                                                                    11\n",
       "02. Road surface condition (wet, icy, snow, slush, etc.); 05. Work zone                                                                                    11\n",
       "03. Debris; 04. Rut, holes, bumps                                                                                                                          10\n",
       "01. None; 02. Road surface condition (wet, icy, snow, slush, etc.)                                                                                         10\n",
       "01. None; 07. Obstruction in roadway (i.e. vehicles, etc.)                                                                                                 10\n",
       "08. Traffic control device obscured                                                                                                                         9\n",
       "05. Work zone; 07. Obstruction in roadway (i.e. vehicles, etc.)                                                                                             8\n",
       "04. Rut, holes, bumps; 11. Other                                                                                                                            8\n",
       "07. Obstruction in roadway (i.e. vehicles, etc.); 11. Other                                                                                                 8\n",
       "01. None; 05. Work zone                                                                                                                                     8\n",
       "06. Worn, travel-polished surface                                                                                                                           7\n",
       "05. Work zone; 09. Shoulders (none, low, soft, high)                                                                                                        7\n",
       "02. Road surface condition (wet, icy, snow, slush, etc.); 06. Worn, travel-polished surface                                                                 7\n",
       "04. Rut, holes, bumps; 05. Work zone                                                                                                                        7\n",
       "02. Road surface condition (wet, icy, snow, slush, etc.); 08. Traffic control device obscured                                                               6\n",
       "02. Road surface condition (wet, icy, snow, slush, etc.); 07. Obstruction in roadway (i.e. vehicles, etc.); 11. Other                                       5\n",
       "02. Road surface condition (wet, icy, snow, slush, etc.); 03. Debris; 09. Shoulders (none, low, soft, high)                                                 5\n",
       "02. Road surface condition (wet, icy, snow, slush, etc.); 07. Obstruction in roadway (i.e. vehicles, etc.); 09. Shoulders (none, low, soft, high)           5\n",
       "02. Road surface condition (wet, icy, snow, slush, etc.); 99. Unknown                                                                                       5\n",
       "09. Shoulders (none, low, soft, high); 99. Unknown                                                                                                          4\n",
       "04. Rut, holes, bumps; 09. Shoulders (none, low, soft, high); 11. Other                                                                                     4\n",
       "03. Debris; 11. Other                                                                                                                                       4\n",
       "04. Rut, holes, bumps; 07. Obstruction in roadway (i.e. vehicles, etc.)                                                                                     4\n",
       "02. Road surface condition (wet, icy, snow, slush, etc.); 06. Worn, travel-polished surface; 09. Shoulders (none, low, soft, high)                          3\n",
       "06. Worn, travel-polished surface; 09. Shoulders (none, low, soft, high)                                                                                    3\n",
       "03. Debris; 05. Work zone                                                                                                                                   3\n",
       "06. Worn, travel-polished surface; 11. Other                                                                                                                3\n",
       "02. Road surface condition (wet, icy, snow, slush, etc.); 03. Debris; 04. Rut, holes, bumps                                                                 3\n",
       "02. Road surface condition (wet, icy, snow, slush, etc.); 04. Rut, holes, bumps; 11. Other                                                                  3\n",
       "04. Rut, holes, bumps; 06. Worn, travel-polished surface; 09. Shoulders (none, low, soft, high)                                                             3\n",
       "03. Debris; 09. Shoulders (none, low, soft, high)                                                                                                           3\n",
       "02. Road surface condition (wet, icy, snow, slush, etc.); 05. Work zone; 07. Obstruction in roadway (i.e. vehicles, etc.)                                   3\n",
       "07. Obstruction in roadway (i.e. vehicles, etc.); 08. Traffic control device obscured                                                                       3\n",
       "09. Shoulders (none, low, soft, high); 10. Off roadway work lane markings missing or faded                                                                  3\n",
       "02. Road surface condition (wet, icy, snow, slush, etc.); 05. Work zone; 11. Other                                                                          2\n",
       "02. Road surface condition (wet, icy, snow, slush, etc.); 09. Shoulders (none, low, soft, high); 10. Off roadway work lane markings missing or faded        2\n",
       "02. Road surface condition (wet, icy, snow, slush, etc.); 03. Debris; 11. Other                                                                             2\n",
       "03. Debris; 04. Rut, holes, bumps; 09. Shoulders (none, low, soft, high)                                                                                    2\n",
       "04. Rut, holes, bumps; 10. Off roadway work lane markings missing or faded                                                                                  2\n",
       "04. Rut, holes, bumps; 07. Obstruction in roadway (i.e. vehicles, etc.); 10. Off roadway work lane markings missing or faded                                2\n",
       "04. Rut, holes, bumps; 06. Worn, travel-polished surface                                                                                                    2\n",
       "01. None; 04. Rut, holes, bumps                                                                                                                             2\n",
       "03. Debris; 04. Rut, holes, bumps; 11. Other                                                                                                                2\n",
       "05. Work zone; 09. Shoulders (none, low, soft, high); 10. Off roadway work lane markings missing or faded                                                   2\n",
       "05. Work zone; 08. Traffic control device obscured                                                                                                          2\n",
       "02. Road surface condition (wet, icy, snow, slush, etc.); 04. Rut, holes, bumps; 06. Worn, travel-polished surface                                          2\n",
       "02. Road surface condition (wet, icy, snow, slush, etc.); 10. Off roadway work lane markings missing or faded                                               2\n",
       "04. Rut, holes, bumps; 05. Work zone; 10. Off roadway work lane markings missing or faded                                                                   2\n",
       "03. Debris; 07. Obstruction in roadway (i.e. vehicles, etc.); 11. Other                                                                                     2\n",
       "02. Road surface condition (wet, icy, snow, slush, etc.); 04. Rut, holes, bumps; 05. Work zone                                                              2\n",
       "02. Road surface condition (wet, icy, snow, slush, etc.); 09. Shoulders (none, low, soft, high); 11. Other                                                  2\n",
       "02. Road surface condition (wet, icy, snow, slush, etc.); 06. Worn, travel-polished surface; 11. Other                                                      2\n",
       "05. Work zone; 10. Off roadway work lane markings missing or faded                                                                                          2\n",
       "01. None; 03. Debris                                                                                                                                        1\n",
       "06. Worn, travel-polished surface; 07. Obstruction in roadway (i.e. vehicles, etc.)                                                                         1\n",
       "06. Worn, travel-polished surface; 11. Other; 99. Unknown                                                                                                   1\n",
       "04. Rut, holes, bumps; 09. Shoulders (none, low, soft, high); 10. Off roadway work lane markings missing or faded                                           1\n",
       "02. Road surface condition (wet, icy, snow, slush, etc.); 05. Work zone; 10. Off roadway work lane markings missing or faded                                1\n",
       "01. None; 04. Rut, holes, bumps; 07. Obstruction in roadway (i.e. vehicles, etc.)                                                                           1\n",
       "07. Obstruction in roadway (i.e. vehicles, etc.); 09. Shoulders (none, low, soft, high); 11. Other                                                          1\n",
       "11. Other; 99. Unknown                                                                                                                                      1\n",
       "07. Obstruction in roadway (i.e. vehicles, etc.); 10. Off roadway work lane markings missing or faded; 11. Other                                            1\n",
       "01. None; 03. Debris; 04. Rut, holes, bumps                                                                                                                 1\n",
       "03. Debris; 08. Traffic control device obscured                                                                                                             1\n",
       "02. Road surface condition (wet, icy, snow, slush, etc.); 07. Obstruction in roadway (i.e. vehicles, etc.); 08. Traffic control device obscured             1\n",
       "03. Debris; 04. Rut, holes, bumps; 05. Work zone                                                                                                            1\n",
       "05. Work zone; 09. Shoulders (none, low, soft, high); 11. Other                                                                                             1\n",
       "02. Road surface condition (wet, icy, snow, slush, etc.); 08. Traffic control device obscured; 09. Shoulders (none, low, soft, high)                        1\n",
       "03. Debris; 04. Rut, holes, bumps; 07. Obstruction in roadway (i.e. vehicles, etc.)                                                                         1\n",
       "02. Road surface condition (wet, icy, snow, slush, etc.); 04. Rut, holes, bumps; 07. Obstruction in roadway (i.e. vehicles, etc.)                           1\n",
       "02. Road surface condition (wet, icy, snow, slush, etc.); 09. Shoulders (none, low, soft, high); 99. Unknown                                                1\n",
       "03. Debris; 07. Obstruction in roadway (i.e. vehicles, etc.); 99. Unknown                                                                                   1\n",
       "04. Rut, holes, bumps; 06. Worn, travel-polished surface; 11. Other                                                                                         1\n",
       "01. None; 04. Rut, holes, bumps; 06. Worn, travel-polished surface                                                                                          1\n",
       "05. Work zone; 07. Obstruction in roadway (i.e. vehicles, etc.); 09. Shoulders (none, low, soft, high)                                                      1\n",
       "05. Work zone; 07. Obstruction in roadway (i.e. vehicles, etc.); 11. Other                                                                                  1\n",
       "05. Work zone; 99. Unknown                                                                                                                                  1\n",
       "05. Work zone; 06. Worn, travel-polished surface                                                                                                            1\n",
       "03. Debris; 05. Work zone; 08. Traffic control device obscured                                                                                              1\n",
       "02. Road surface condition (wet, icy, snow, slush, etc.); 03. Debris; 05. Work zone                                                                         1\n",
       "04. Rut, holes, bumps; 11. Other; 99. Unknown                                                                                                               1\n",
       "04. Rut, holes, bumps; 05. Work zone; 08. Traffic control device obscured                                                                                   1\n",
       "02. Road surface condition (wet, icy, snow, slush, etc.); 06. Worn, travel-polished surface; 10. Off roadway work lane markings missing or faded            1\n",
       "02. Road surface condition (wet, icy, snow, slush, etc.); 05. Work zone; 09. Shoulders (none, low, soft, high)                                              1\n",
       "04. Rut, holes, bumps; 06. Worn, travel-polished surface; 08. Traffic control device obscured                                                               1\n",
       "01. None; 11. Other; 99. Unknown                                                                                                                            1\n",
       "Name: AS_Road_Circumstance, dtype: int64"
      ]
     },
     "execution_count": 84,
     "metadata": {},
     "output_type": "execute_result"
    }
   ],
   "source": [
    "imars_crash_details['AS_Road_Circumstance'].value_counts()"
   ]
  },
  {
   "cell_type": "code",
   "execution_count": 85,
   "metadata": {},
   "outputs": [
    {
     "name": "stderr",
     "output_type": "stream",
     "text": [
      "C:\\Users\\Sophie.Kaye\\AppData\\Local\\Temp\\ipykernel_20152\\816356823.py:2: SettingWithCopyWarning: \n",
      "A value is trying to be set on a copy of a slice from a DataFrame.\n",
      "Try using .loc[row_indexer,col_indexer] = value instead\n",
      "\n",
      "See the caveats in the documentation: https://pandas.pydata.org/pandas-docs/stable/user_guide/indexing.html#returning-a-view-versus-a-copy\n",
      "  imars_crash_details_slim['Bad Weather'] = np.where(imars_crash_details['Weather'].str.contains('02|03|04|05|07|08|09|11')==True, 1,0)\n",
      "C:\\Users\\Sophie.Kaye\\AppData\\Local\\Temp\\ipykernel_20152\\816356823.py:3: SettingWithCopyWarning: \n",
      "A value is trying to be set on a copy of a slice from a DataFrame.\n",
      "Try using .loc[row_indexer,col_indexer] = value instead\n",
      "\n",
      "See the caveats in the documentation: https://pandas.pydata.org/pandas-docs/stable/user_guide/indexing.html#returning-a-view-versus-a-copy\n",
      "  imars_crash_details_slim['Bad Road Condition'] = np.where(imars_crash_details['Roadway_Condition'].str.contains('02|03|04|05|06')==True, 1,0)\n",
      "C:\\Users\\Sophie.Kaye\\AppData\\Local\\Temp\\ipykernel_20152\\816356823.py:4: SettingWithCopyWarning: \n",
      "A value is trying to be set on a copy of a slice from a DataFrame.\n",
      "Try using .loc[row_indexer,col_indexer] = value instead\n",
      "\n",
      "See the caveats in the documentation: https://pandas.pydata.org/pandas-docs/stable/user_guide/indexing.html#returning-a-view-versus-a-copy\n",
      "  imars_crash_details_slim['Bad Road Circumstance'] = np.where(imars_crash_details['AS_Road_Circumstance'].str.contains('02')==True, 1,0)\n",
      "C:\\Users\\Sophie.Kaye\\AppData\\Local\\Temp\\ipykernel_20152\\816356823.py:5: SettingWithCopyWarning: \n",
      "A value is trying to be set on a copy of a slice from a DataFrame.\n",
      "Try using .loc[row_indexer,col_indexer] = value instead\n",
      "\n",
      "See the caveats in the documentation: https://pandas.pydata.org/pandas-docs/stable/user_guide/indexing.html#returning-a-view-versus-a-copy\n",
      "  imars_crash_details_slim['Bad Environmental Circumstance'] = np.where(imars_crash_details['Environmental_Contributing_Circumstances'].str.contains('02')==True, 1,0)\n"
     ]
    }
   ],
   "source": [
    "# set flags for adverse visibility conditions due to precip\n",
    "imars_crash_details_slim['Bad Weather'] = np.where(imars_crash_details['Weather'].str.contains('02|03|04|05|07|08|09|11')==True, 1,0)\n",
    "imars_crash_details_slim['Bad Road Condition'] = np.where(imars_crash_details['Roadway_Condition'].str.contains('02|03|04|05|06')==True, 1,0)\n",
    "imars_crash_details_slim['Bad Road Circumstance'] = np.where(imars_crash_details['AS_Road_Circumstance'].str.contains('02')==True, 1,0)\n",
    "imars_crash_details_slim['Bad Environmental Circumstance'] = np.where(imars_crash_details['Environmental_Contributing_Circumstances'].str.contains('02')==True, 1,0)"
   ]
  },
  {
   "cell_type": "code",
   "execution_count": 86,
   "metadata": {},
   "outputs": [],
   "source": [
    "# check to be sure all attributes are accounted for and order if statements in subsequent for loop from most to least common to increase speed"
   ]
  },
  {
   "cell_type": "code",
   "execution_count": 87,
   "metadata": {},
   "outputs": [
    {
     "data": {
      "text/plain": [
       "(1890, 1890)"
      ]
     },
     "execution_count": 87,
     "metadata": {},
     "output_type": "execute_result"
    }
   ],
   "source": [
    "imars_crash_details_slim['Bad Weather'].sum(), (847+195+103+18+18+15+11+10+2+256+78+54+45+11+6+4+3+1+87+10+6+3+3+1+7+2+1+4+2+1+20+8+5+1+12+5+1+1+18+11+3+1)"
   ]
  },
  {
   "cell_type": "code",
   "execution_count": 88,
   "metadata": {},
   "outputs": [
    {
     "data": {
      "text/plain": [
       "(2684, 2684)"
      ]
     },
     "execution_count": 88,
     "metadata": {},
     "output_type": "execute_result"
    }
   ],
   "source": [
    "imars_crash_details_slim['Bad Road Condition'].sum(), (1591+60+52+41+32+23+19+17+3+2+2+370+162+58+6+3+2+1+1+25+18+1+1+175+5+4+4+1+1+4)"
   ]
  },
  {
   "cell_type": "code",
   "execution_count": 89,
   "metadata": {},
   "outputs": [
    {
     "data": {
      "text/plain": [
       "(1842, 1842)"
      ]
     },
     "execution_count": 89,
     "metadata": {},
     "output_type": "execute_result"
    }
   ],
   "source": [
    "imars_crash_details_slim['Bad Road Circumstance'].sum(), (1503+75+43+42+38+19+17+15+11+10+7+6+5+5+5+5+3+3+3+3+2+2+2+2+2+2+2+2+1+1+1+1+1+1+1+1)"
   ]
  },
  {
   "cell_type": "code",
   "execution_count": 90,
   "metadata": {},
   "outputs": [
    {
     "data": {
      "text/plain": [
       "(1501, 1501)"
      ]
     },
     "execution_count": 90,
     "metadata": {},
     "output_type": "execute_result"
    }
   ],
   "source": [
    "imars_crash_details_slim['Bad Environmental Circumstance'].sum(), (1270+86+56+50+13+9+5+3+3+1+1+1+1+1+1)"
   ]
  },
  {
   "cell_type": "code",
   "execution_count": 91,
   "metadata": {},
   "outputs": [
    {
     "name": "stderr",
     "output_type": "stream",
     "text": [
      "C:\\Users\\Sophie.Kaye\\AppData\\Local\\Temp\\ipykernel_20152\\1796523648.py:2: SettingWithCopyWarning: \n",
      "A value is trying to be set on a copy of a slice from a DataFrame.\n",
      "Try using .loc[row_indexer,col_indexer] = value instead\n",
      "\n",
      "See the caveats in the documentation: https://pandas.pydata.org/pandas-docs/stable/user_guide/indexing.html#returning-a-view-versus-a-copy\n",
      "  imars_crash_details_slim['Adverse Weather'] = 0 # initialize column with dummy data to replace with for loop\n",
      "C:\\Users\\Sophie.Kaye\\AppData\\Local\\Temp\\ipykernel_20152\\1796523648.py:14: SettingWithCopyWarning: \n",
      "A value is trying to be set on a copy of a slice from a DataFrame\n",
      "\n",
      "See the caveats in the documentation: https://pandas.pydata.org/pandas-docs/stable/user_guide/indexing.html#returning-a-view-versus-a-copy\n",
      "  imars_crash_details_slim['Adverse Weather'].iloc[i] = 0\n",
      "C:\\Users\\Sophie.Kaye\\AppData\\Local\\Temp\\ipykernel_20152\\1796523648.py:6: SettingWithCopyWarning: \n",
      "A value is trying to be set on a copy of a slice from a DataFrame\n",
      "\n",
      "See the caveats in the documentation: https://pandas.pydata.org/pandas-docs/stable/user_guide/indexing.html#returning-a-view-versus-a-copy\n",
      "  imars_crash_details_slim['Adverse Weather'].iloc[i] = 1\n",
      "C:\\Users\\Sophie.Kaye\\AppData\\Local\\Temp\\ipykernel_20152\\1796523648.py:8: SettingWithCopyWarning: \n",
      "A value is trying to be set on a copy of a slice from a DataFrame\n",
      "\n",
      "See the caveats in the documentation: https://pandas.pydata.org/pandas-docs/stable/user_guide/indexing.html#returning-a-view-versus-a-copy\n",
      "  imars_crash_details_slim['Adverse Weather'].iloc[i] = 1\n",
      "C:\\Users\\Sophie.Kaye\\AppData\\Local\\Temp\\ipykernel_20152\\1796523648.py:12: SettingWithCopyWarning: \n",
      "A value is trying to be set on a copy of a slice from a DataFrame\n",
      "\n",
      "See the caveats in the documentation: https://pandas.pydata.org/pandas-docs/stable/user_guide/indexing.html#returning-a-view-versus-a-copy\n",
      "  imars_crash_details_slim['Adverse Weather'].iloc[i] = 1\n",
      "C:\\Users\\Sophie.Kaye\\AppData\\Local\\Temp\\ipykernel_20152\\1796523648.py:10: SettingWithCopyWarning: \n",
      "A value is trying to be set on a copy of a slice from a DataFrame\n",
      "\n",
      "See the caveats in the documentation: https://pandas.pydata.org/pandas-docs/stable/user_guide/indexing.html#returning-a-view-versus-a-copy\n",
      "  imars_crash_details_slim['Adverse Weather'].iloc[i] = 1\n"
     ]
    },
    {
     "data": {
      "text/plain": [
       "2932"
      ]
     },
     "execution_count": 91,
     "metadata": {},
     "output_type": "execute_result"
    }
   ],
   "source": [
    "# group adverse weather attributes into bin for poor visibility\n",
    "imars_crash_details_slim['Adverse Weather'] = 0 # initialize column with dummy data to replace with for loop\n",
    "length = range(imars_crash_details_slim.shape[0])\n",
    "for i in length:\n",
    "    if imars_crash_details_slim['Bad Road Condition'].iloc[i] == 1 :\n",
    "        imars_crash_details_slim['Adverse Weather'].iloc[i] = 1\n",
    "    elif imars_crash_details_slim['Bad Weather'].iloc[i] == 1 :\n",
    "        imars_crash_details_slim['Adverse Weather'].iloc[i] = 1\n",
    "    elif imars_crash_details_slim['Bad Road Circumstance'].iloc[i] == 1 :\n",
    "        imars_crash_details_slim['Adverse Weather'].iloc[i] = 1\n",
    "    elif imars_crash_details_slim['Bad Environmental Circumstance'].iloc[i] == 1 :\n",
    "        imars_crash_details_slim['Adverse Weather'].iloc[i] = 1\n",
    "    else:\n",
    "        imars_crash_details_slim['Adverse Weather'].iloc[i] = 0\n",
    "imars_crash_details_slim['Adverse Weather'].sum() # greater value than either Bad Road Condition, Bad Weather, Bad Road Circumstance, or Bad Environmental Circumstance so it must be accounting for them all"
   ]
  },
  {
   "cell_type": "code",
   "execution_count": 92,
   "metadata": {},
   "outputs": [
    {
     "data": {
      "text/plain": [
       "Index(['INCID_NO', 'First_Harmful_Event', 'First_Harmful_Event_Type',\n",
       "       'Collision w Animal', 'Avoiding Animal', 'Animal in Roadway',\n",
       "       'Involving Animal', 'Daylight', 'Dawn', 'Dusk', 'Dark_Lit',\n",
       "       'Dark_NotLit', 'Dark_UnknownLit', 'Poor Lighting', 'Bad Weather',\n",
       "       'Bad Road Condition', 'Bad Road Circumstance',\n",
       "       'Bad Environmental Circumstance', 'Adverse Weather'],\n",
       "      dtype='object')"
      ]
     },
     "execution_count": 92,
     "metadata": {},
     "output_type": "execute_result"
    }
   ],
   "source": [
    "imars_crash_details_slim.columns"
   ]
  },
  {
   "cell_type": "code",
   "execution_count": 93,
   "metadata": {},
   "outputs": [
    {
     "data": {
      "text/plain": [
       "Index(['INCID_NO', 'First_Harmful_Event', 'First_Harmful_Event_Type',\n",
       "       'Involving Animal', 'Daylight', 'Dawn', 'Dusk', 'Dark_Lit',\n",
       "       'Dark_NotLit', 'Dark_UnknownLit', 'Poor Lighting', 'Adverse Weather'],\n",
       "      dtype='object')"
      ]
     },
     "execution_count": 93,
     "metadata": {},
     "output_type": "execute_result"
    }
   ],
   "source": [
    "imars_crash_details_slim = imars_crash_details_slim.drop(columns={'Collision w Animal', 'Avoiding Animal', 'Animal in Roadway', 'Bad Weather', 'Bad Road Condition', 'Bad Road Circumstance', 'Bad Environmental Circumstance'}) # get rid of columns used to create indicators that will not be needed for analysis\n",
    "imars_crash_details_slim.columns"
   ]
  },
  {
   "cell_type": "code",
   "execution_count": 94,
   "metadata": {},
   "outputs": [
    {
     "data": {
      "text/plain": [
       "(15302, 12)"
      ]
     },
     "execution_count": 94,
     "metadata": {},
     "output_type": "execute_result"
    }
   ],
   "source": [
    "imars_crash_details_slim.shape"
   ]
  },
  {
   "cell_type": "code",
   "execution_count": 95,
   "metadata": {},
   "outputs": [],
   "source": [
    "imars_crash_details_slim.to_csv(\"./IMARS_crash_details_slim.csv\",index=False)"
   ]
  },
  {
   "cell_type": "markdown",
   "metadata": {},
   "source": [
    "## Crash Table"
   ]
  },
  {
   "cell_type": "code",
   "execution_count": 96,
   "metadata": {},
   "outputs": [
    {
     "data": {
      "text/html": [
       "<div>\n",
       "<style scoped>\n",
       "    .dataframe tbody tr th:only-of-type {\n",
       "        vertical-align: middle;\n",
       "    }\n",
       "\n",
       "    .dataframe tbody tr th {\n",
       "        vertical-align: top;\n",
       "    }\n",
       "\n",
       "    .dataframe thead th {\n",
       "        text-align: right;\n",
       "    }\n",
       "</style>\n",
       "<table border=\"1\" class=\"dataframe\">\n",
       "  <thead>\n",
       "    <tr style=\"text-align: right;\">\n",
       "      <th></th>\n",
       "      <th>IMARS_Record_No</th>\n",
       "      <th>Crash_Date_Time</th>\n",
       "      <th>Linked_Address_Classification</th>\n",
       "      <th>City_Town_Park_Location</th>\n",
       "      <th>State</th>\n",
       "      <th>County</th>\n",
       "      <th>Direction</th>\n",
       "      <th>Linked_Street_Number</th>\n",
       "      <th>Linked_Common_Name</th>\n",
       "      <th>Street_Type</th>\n",
       "      <th>...</th>\n",
       "      <th>Editor</th>\n",
       "      <th>GlobalID</th>\n",
       "      <th>Shape__Area</th>\n",
       "      <th>Shape__Length</th>\n",
       "      <th>RGN</th>\n",
       "      <th>DATE</th>\n",
       "      <th>YEAR</th>\n",
       "      <th>MONTH</th>\n",
       "      <th>DOW</th>\n",
       "      <th>HOUR</th>\n",
       "    </tr>\n",
       "  </thead>\n",
       "  <tbody>\n",
       "    <tr>\n",
       "      <th>0</th>\n",
       "      <td>NP13031262</td>\n",
       "      <td>2013-06-15 14:00:00</td>\n",
       "      <td>Dispatch address</td>\n",
       "      <td>NaN</td>\n",
       "      <td>NaN</td>\n",
       "      <td>NaN</td>\n",
       "      <td>NaN</td>\n",
       "      <td>NaN</td>\n",
       "      <td>NaN</td>\n",
       "      <td>NaN</td>\n",
       "      <td>...</td>\n",
       "      <td>NaN</td>\n",
       "      <td>NaN</td>\n",
       "      <td>NaN</td>\n",
       "      <td>NaN</td>\n",
       "      <td>MWR</td>\n",
       "      <td>2013-06-15</td>\n",
       "      <td>2013</td>\n",
       "      <td>06</td>\n",
       "      <td>6</td>\n",
       "      <td>14</td>\n",
       "    </tr>\n",
       "    <tr>\n",
       "      <th>1</th>\n",
       "      <td>NP13054509</td>\n",
       "      <td>2013-08-03 10:56:00</td>\n",
       "      <td>Dispatch address</td>\n",
       "      <td>NaN</td>\n",
       "      <td>SD</td>\n",
       "      <td>NaN</td>\n",
       "      <td>NaN</td>\n",
       "      <td>NaN</td>\n",
       "      <td>PPI-ENTRANCE/EXIT</td>\n",
       "      <td>NaN</td>\n",
       "      <td>...</td>\n",
       "      <td>NaN</td>\n",
       "      <td>NaN</td>\n",
       "      <td>NaN</td>\n",
       "      <td>NaN</td>\n",
       "      <td>MWR</td>\n",
       "      <td>2013-08-03</td>\n",
       "      <td>2013</td>\n",
       "      <td>08</td>\n",
       "      <td>6</td>\n",
       "      <td>10</td>\n",
       "    </tr>\n",
       "    <tr>\n",
       "      <th>2</th>\n",
       "      <td>NP13071209</td>\n",
       "      <td>2013-09-05 12:03:00</td>\n",
       "      <td>Dispatch address</td>\n",
       "      <td>NaN</td>\n",
       "      <td>NaN</td>\n",
       "      <td>NaN</td>\n",
       "      <td>NaN</td>\n",
       "      <td>NaN</td>\n",
       "      <td>NaN</td>\n",
       "      <td>NaN</td>\n",
       "      <td>...</td>\n",
       "      <td>NaN</td>\n",
       "      <td>NaN</td>\n",
       "      <td>NaN</td>\n",
       "      <td>NaN</td>\n",
       "      <td>NER</td>\n",
       "      <td>2013-09-05</td>\n",
       "      <td>2013</td>\n",
       "      <td>09</td>\n",
       "      <td>4</td>\n",
       "      <td>12</td>\n",
       "    </tr>\n",
       "    <tr>\n",
       "      <th>3</th>\n",
       "      <td>NP13082489</td>\n",
       "      <td>2013-10-06 09:10:00</td>\n",
       "      <td>Dispatch address</td>\n",
       "      <td>NaN</td>\n",
       "      <td>VA</td>\n",
       "      <td>NaN</td>\n",
       "      <td>NaN</td>\n",
       "      <td>NaN</td>\n",
       "      <td>MP97</td>\n",
       "      <td>NaN</td>\n",
       "      <td>...</td>\n",
       "      <td>NaN</td>\n",
       "      <td>NaN</td>\n",
       "      <td>NaN</td>\n",
       "      <td>NaN</td>\n",
       "      <td>NER</td>\n",
       "      <td>2013-10-06</td>\n",
       "      <td>2013</td>\n",
       "      <td>10</td>\n",
       "      <td>0</td>\n",
       "      <td>09</td>\n",
       "    </tr>\n",
       "    <tr>\n",
       "      <th>4</th>\n",
       "      <td>NP13082534</td>\n",
       "      <td>2013-10-06 11:42:00</td>\n",
       "      <td>Dispatch address</td>\n",
       "      <td>NaN</td>\n",
       "      <td>VA</td>\n",
       "      <td>NaN</td>\n",
       "      <td>NaN</td>\n",
       "      <td>NaN</td>\n",
       "      <td>MP102</td>\n",
       "      <td>NaN</td>\n",
       "      <td>...</td>\n",
       "      <td>NaN</td>\n",
       "      <td>NaN</td>\n",
       "      <td>NaN</td>\n",
       "      <td>NaN</td>\n",
       "      <td>NER</td>\n",
       "      <td>2013-10-06</td>\n",
       "      <td>2013</td>\n",
       "      <td>10</td>\n",
       "      <td>0</td>\n",
       "      <td>11</td>\n",
       "    </tr>\n",
       "  </tbody>\n",
       "</table>\n",
       "<p>5 rows × 56 columns</p>\n",
       "</div>"
      ],
      "text/plain": [
       "  IMARS_Record_No     Crash_Date_Time Linked_Address_Classification  \\\n",
       "0      NP13031262 2013-06-15 14:00:00              Dispatch address   \n",
       "1      NP13054509 2013-08-03 10:56:00              Dispatch address   \n",
       "2      NP13071209 2013-09-05 12:03:00              Dispatch address   \n",
       "3      NP13082489 2013-10-06 09:10:00              Dispatch address   \n",
       "4      NP13082534 2013-10-06 11:42:00              Dispatch address   \n",
       "\n",
       "  City_Town_Park_Location State County Direction  Linked_Street_Number  \\\n",
       "0                     NaN   NaN    NaN       NaN                   NaN   \n",
       "1                     NaN    SD    NaN       NaN                   NaN   \n",
       "2                     NaN   NaN    NaN       NaN                   NaN   \n",
       "3                     NaN    VA    NaN       NaN                   NaN   \n",
       "4                     NaN    VA    NaN       NaN                   NaN   \n",
       "\n",
       "  Linked_Common_Name Street_Type  ...  Editor  GlobalID Shape__Area  \\\n",
       "0                NaN         NaN  ...     NaN       NaN         NaN   \n",
       "1  PPI-ENTRANCE/EXIT         NaN  ...     NaN       NaN         NaN   \n",
       "2                NaN         NaN  ...     NaN       NaN         NaN   \n",
       "3               MP97         NaN  ...     NaN       NaN         NaN   \n",
       "4              MP102         NaN  ...     NaN       NaN         NaN   \n",
       "\n",
       "  Shape__Length  RGN        DATE  YEAR MONTH DOW HOUR  \n",
       "0           NaN  MWR  2013-06-15  2013    06   6   14  \n",
       "1           NaN  MWR  2013-08-03  2013    08   6   10  \n",
       "2           NaN  NER  2013-09-05  2013    09   4   12  \n",
       "3           NaN  NER  2013-10-06  2013    10   0   09  \n",
       "4           NaN  NER  2013-10-06  2013    10   0   11  \n",
       "\n",
       "[5 rows x 56 columns]"
      ]
     },
     "execution_count": 96,
     "metadata": {},
     "output_type": "execute_result"
    }
   ],
   "source": [
    "# reformat crash date, time, and year; separate into individual columns\n",
    "imars_crash_expanded['Crash_Date_Time']=pd.to_datetime(imars_crash_expanded['Crash_Date_Time'], format='%Y%m%d %H:%M:%S:%f')\n",
    "imars_crash_expanded['DATE'] = imars_crash_expanded['Crash_Date_Time'].dt.strftime('%Y-%m-%d')\n",
    "imars_crash_expanded['YEAR'] = imars_crash_expanded['Crash_Date_Time'].dt.strftime('%Y')\n",
    "imars_crash_expanded['MONTH'] = imars_crash_expanded['Crash_Date_Time'].dt.strftime('%m')\n",
    "imars_crash_expanded['DOW'] = imars_crash_expanded['Crash_Date_Time'].dt.strftime('%w')\n",
    "imars_crash_expanded['HOUR'] = imars_crash_expanded['Crash_Date_Time'].dt.strftime('%H')\n",
    "imars_crash_expanded.head() # looks good!"
   ]
  },
  {
   "cell_type": "code",
   "execution_count": 97,
   "metadata": {},
   "outputs": [
    {
     "data": {
      "text/plain": [
       "Index(['IMARS_Record_No', 'Crash_Date_Time', 'Linked_Address_Classification',\n",
       "       'City_Town_Park_Location', 'State', 'County', 'Direction',\n",
       "       'Linked_Street_Number', 'Linked_Common_Name', 'Street_Type',\n",
       "       'Direction.1', 'NEAR_Distance_to_MI', 'NEAR_Direction_To',\n",
       "       'NEAR_Direction', 'NEAR_route_street_road_name', 'NEAR_Road_Type',\n",
       "       'NEAR_Direction.1', 'AT_Intersection_route_street_road_DIRECTION',\n",
       "       'At_Intersecting_route_street_road_name', 'AT_Road_Type',\n",
       "       'AT_Direction', 'Mile_Marker', 'Latitude', 'Longitude', 'State_Zone',\n",
       "       'Park', 'Site', 'Place', 'Point', 'Road_Type_Classification',\n",
       "       'Linked_Address', 'index_right', 'OBJECTID', 'UNIT_CODE', 'GIS_Notes',\n",
       "       'UNIT_NAME', 'DATE_EDIT', 'STATE', 'GNIS_ID', 'UNIT_TYPE', 'CREATED_BY',\n",
       "       'METADATA', 'PARKNAME', 'CreationDate', 'Creator', 'EditDate', 'Editor',\n",
       "       'GlobalID', 'Shape__Area', 'Shape__Length', 'RGN', 'DATE', 'YEAR',\n",
       "       'MONTH', 'DOW', 'HOUR'],\n",
       "      dtype='object')"
      ]
     },
     "execution_count": 97,
     "metadata": {},
     "output_type": "execute_result"
    }
   ],
   "source": [
    "imars_crash_expanded.columns"
   ]
  },
  {
   "cell_type": "code",
   "execution_count": 98,
   "metadata": {},
   "outputs": [
    {
     "data": {
      "text/plain": [
       "(12790, 9)"
      ]
     },
     "execution_count": 98,
     "metadata": {},
     "output_type": "execute_result"
    }
   ],
   "source": [
    "imars_crash_expanded = imars_crash_expanded.rename(columns={'IMARS_Record_No':'INCID_NO','Latitude':'LATITUDE','Longitude':'LONGITUDE'}) # to match CDS\n",
    "imars_crash_slim = imars_crash_expanded[['INCID_NO','LATITUDE','LONGITUDE','Park','RGN','YEAR','MONTH','DOW','HOUR']]\n",
    "imars_crash_slim.shape"
   ]
  },
  {
   "cell_type": "code",
   "execution_count": 99,
   "metadata": {},
   "outputs": [],
   "source": [
    "imars_crash_slim.to_csv(\"./IMARS_crash_slim.csv\",index=False)"
   ]
  },
  {
   "cell_type": "markdown",
   "metadata": {},
   "source": [
    "# Merge Slim Tables"
   ]
  },
  {
   "cell_type": "code",
   "execution_count": 100,
   "metadata": {},
   "outputs": [
    {
     "data": {
      "text/plain": [
       "((12790, 9), (15302, 12), (15302, 18), (15302, 20))"
      ]
     },
     "execution_count": 100,
     "metadata": {},
     "output_type": "execute_result"
    }
   ],
   "source": [
    "imars_crash_slim.shape, imars_crash_details_slim.shape, imars_passenger_slim_agg.shape, imars_slim_vehicle_agg.shape"
   ]
  },
  {
   "cell_type": "code",
   "execution_count": 101,
   "metadata": {},
   "outputs": [
    {
     "data": {
      "text/plain": [
       "(12790, 20)"
      ]
     },
     "execution_count": 101,
     "metadata": {},
     "output_type": "execute_result"
    }
   ],
   "source": [
    "imars_crash_details_slim_merged = imars_crash_details_slim.merge(imars_crash_slim, how='right', on='INCID_NO')\n",
    "imars_crash_details_slim_merged.shape"
   ]
  },
  {
   "cell_type": "code",
   "execution_count": 102,
   "metadata": {},
   "outputs": [
    {
     "data": {
      "text/plain": [
       "Index(['INCID_NO', 'First_Harmful_Event', 'First_Harmful_Event_Type',\n",
       "       'Involving Animal', 'Daylight', 'Dawn', 'Dusk', 'Dark_Lit',\n",
       "       'Dark_NotLit', 'Dark_UnknownLit', 'Poor Lighting', 'Adverse Weather',\n",
       "       'LATITUDE', 'LONGITUDE', 'Park', 'RGN', 'YEAR', 'MONTH', 'DOW', 'HOUR'],\n",
       "      dtype='object')"
      ]
     },
     "execution_count": 102,
     "metadata": {},
     "output_type": "execute_result"
    }
   ],
   "source": [
    "imars_crash_details_slim_merged.columns"
   ]
  },
  {
   "cell_type": "code",
   "execution_count": 103,
   "metadata": {},
   "outputs": [
    {
     "data": {
      "text/plain": [
       "(12790, 37)"
      ]
     },
     "execution_count": 103,
     "metadata": {},
     "output_type": "execute_result"
    }
   ],
   "source": [
    "imars_crash_details_and_passenger_slim = imars_passenger_slim_agg.merge(imars_crash_details_slim_merged, how='right', on='INCID_NO')\n",
    "imars_crash_details_and_passenger_slim.shape"
   ]
  },
  {
   "cell_type": "code",
   "execution_count": 104,
   "metadata": {},
   "outputs": [
    {
     "data": {
      "text/plain": [
       "Index(['INCID_NO', 'No Injury', 'Possible Injury', 'Non-incapacitating Injury',\n",
       "       'Incapacitating Injury', 'Fatality', 'Num_Motorist', 'Num_Non_Motorist',\n",
       "       'Num_Pedestrian', 'Num_Ped_Deaths', 'Pedestrian', 'VRU',\n",
       "       'Crash_Severity', 'CrashSeverity_Fatal', 'CrashSeverity_Incap',\n",
       "       'CrashSeverity_NonIncap', 'CrashSeverity_Possible',\n",
       "       'CrashSeverity_NoInj', 'First_Harmful_Event',\n",
       "       'First_Harmful_Event_Type', 'Involving Animal', 'Daylight', 'Dawn',\n",
       "       'Dusk', 'Dark_Lit', 'Dark_NotLit', 'Dark_UnknownLit', 'Poor Lighting',\n",
       "       'Adverse Weather', 'LATITUDE', 'LONGITUDE', 'Park', 'RGN', 'YEAR',\n",
       "       'MONTH', 'DOW', 'HOUR'],\n",
       "      dtype='object')"
      ]
     },
     "execution_count": 104,
     "metadata": {},
     "output_type": "execute_result"
    }
   ],
   "source": [
    "imars_crash_details_and_passenger_slim.columns"
   ]
  },
  {
   "cell_type": "code",
   "execution_count": 105,
   "metadata": {},
   "outputs": [
    {
     "data": {
      "text/plain": [
       "(12790, 57)"
      ]
     },
     "execution_count": 105,
     "metadata": {},
     "output_type": "execute_result"
    }
   ],
   "source": [
    "imars_slim_all = imars_slim_vehicle_agg.merge(imars_crash_details_and_passenger_slim, how='right', on='INCID_NO')\n",
    "imars_slim_all['database'] = 'IMARS' # add column with database name\n",
    "imars_slim_all.shape"
   ]
  },
  {
   "cell_type": "code",
   "execution_count": 106,
   "metadata": {},
   "outputs": [
    {
     "data": {
      "text/plain": [
       "Index(['INCID_NO', '5_mph', '10_mph', '15_mph', '20_mph', '25_mph', '30_mph',\n",
       "       '35_mph', '40_mph', '45_mph', '50_mph', '55_mph', '60_mph', '65_mph',\n",
       "       '70_mph', '75_mph', 'no_posted_speed', 'NUM_VEH', 'Num_Motorcycle',\n",
       "       'Motorcycle_Ind', 'No Injury', 'Possible Injury',\n",
       "       'Non-incapacitating Injury', 'Incapacitating Injury', 'Fatality',\n",
       "       'Num_Motorist', 'Num_Non_Motorist', 'Num_Pedestrian', 'Num_Ped_Deaths',\n",
       "       'Pedestrian', 'VRU', 'Crash_Severity', 'CrashSeverity_Fatal',\n",
       "       'CrashSeverity_Incap', 'CrashSeverity_NonIncap',\n",
       "       'CrashSeverity_Possible', 'CrashSeverity_NoInj', 'First_Harmful_Event',\n",
       "       'First_Harmful_Event_Type', 'Involving Animal', 'Daylight', 'Dawn',\n",
       "       'Dusk', 'Dark_Lit', 'Dark_NotLit', 'Dark_UnknownLit', 'Poor Lighting',\n",
       "       'Adverse Weather', 'LATITUDE', 'LONGITUDE', 'Park', 'RGN', 'YEAR',\n",
       "       'MONTH', 'DOW', 'HOUR', 'database'],\n",
       "      dtype='object')"
      ]
     },
     "execution_count": 106,
     "metadata": {},
     "output_type": "execute_result"
    }
   ],
   "source": [
    "imars_slim_all.columns"
   ]
  },
  {
   "cell_type": "code",
   "execution_count": 107,
   "metadata": {},
   "outputs": [],
   "source": [
    "imars_slim_all.to_csv(\"./IMARS_slim_all_clean.csv\",index=False)"
   ]
  },
  {
   "cell_type": "code",
   "execution_count": null,
   "metadata": {},
   "outputs": [],
   "source": []
  }
 ],
 "metadata": {
  "kernelspec": {
   "display_name": "geo_env",
   "language": "python",
   "name": "geo_env"
  },
  "language_info": {
   "codemirror_mode": {
    "name": "ipython",
    "version": 3
   },
   "file_extension": ".py",
   "mimetype": "text/x-python",
   "name": "python",
   "nbconvert_exporter": "python",
   "pygments_lexer": "ipython3",
   "version": "3.10.5"
  }
 },
 "nbformat": 4,
 "nbformat_minor": 2
}
