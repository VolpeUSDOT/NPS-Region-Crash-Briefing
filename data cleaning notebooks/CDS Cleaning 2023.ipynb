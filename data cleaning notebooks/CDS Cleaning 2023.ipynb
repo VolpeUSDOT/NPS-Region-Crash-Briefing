{
 "cells": [
  {
   "cell_type": "code",
   "execution_count": 44,
   "metadata": {},
   "outputs": [],
   "source": [
    "import pandas as pd\n",
    "import numpy as np\n",
    "import os"
   ]
  },
  {
   "cell_type": "code",
   "execution_count": 45,
   "metadata": {},
   "outputs": [],
   "source": [
    "myworkingdirectory = r\"C:\\Users\\Sophie.Kaye\\Desktop\\NPS Crash Data\"\n",
    "os.chdir(myworkingdirectory)"
   ]
  },
  {
   "cell_type": "code",
   "execution_count": 46,
   "metadata": {
    "scrolled": true
   },
   "outputs": [
    {
     "data": {
      "text/plain": [
       "(204687, 56)"
      ]
     },
     "execution_count": 46,
     "metadata": {},
     "output_type": "execute_result"
    }
   ],
   "source": [
    "cds_crash = pd.read_excel('./CDS/ALL_CRASH.xlsx')\n",
    "cds_crash.shape"
   ]
  },
  {
   "cell_type": "code",
   "execution_count": 47,
   "metadata": {},
   "outputs": [
    {
     "data": {
      "text/plain": [
       "Index(['OBJECTID', 'INCID_NO', 'CASE_NUM', 'PARK_ALPHA', 'STATE_CODE',\n",
       "       'CRASH_DATE', 'CRASH_TIME', 'RTE_NO', 'RTE_NAME', 'NODE_DIST_FT',\n",
       "       'NODE_DIST_MI', 'NODE_DIR', 'NODE_NUM', 'LIGHT', 'WEATHER',\n",
       "       'CRASH_LOCATION', 'SURF_COND', 'CRASH_CLASS', 'VEH_COLL', 'OBJ_STRUCK',\n",
       "       'ROAD_CHAR', 'CON_FACT1', 'CON_FACT2', 'CON_FACT3', 'CON_FACT4',\n",
       "       'CON_FACT5', 'CON_FACT6', 'HIT_RUN', 'CATEGORY', 'FATALS', 'INJURED',\n",
       "       'PED_FAT', 'PED_INJ', 'BIKE_FAT', 'BIKE_INJ', 'PED', 'CRASH_YEAR',\n",
       "       'COMMENTS', 'ZIPFILE', 'LOCATION', 'PHOTOS_TAKEN', 'USPP_NPS_VEH_INV',\n",
       "       'PARK_PTY_DEST', 'LOCKED_UPDATE', 'LOCKED_BY_USER', 'DATA_SRC',\n",
       "       'LATITUDE', 'LONGITUDE', 'MILEPOST', 'IMPORT_DATE', 'FILE_NAME',\n",
       "       'SAVE_DATE', 'ROUTE_IDENT', 'RIP_CYCLE', 'MP_NODE', 'SPTL_LOC'],\n",
       "      dtype='object')"
      ]
     },
     "execution_count": 47,
     "metadata": {},
     "output_type": "execute_result"
    }
   ],
   "source": [
    "cds_crash.columns"
   ]
  },
  {
   "cell_type": "code",
   "execution_count": 48,
   "metadata": {},
   "outputs": [
    {
     "data": {
      "text/plain": [
       "0"
      ]
     },
     "execution_count": 48,
     "metadata": {},
     "output_type": "execute_result"
    }
   ],
   "source": [
    "cds_crash.loc[cds_crash['INCID_NO'].isnull()==True].shape[0]\n",
    "# no crashes with missing record numbers"
   ]
  },
  {
   "cell_type": "code",
   "execution_count": 49,
   "metadata": {},
   "outputs": [
    {
     "data": {
      "text/plain": [
       "0"
      ]
     },
     "execution_count": 49,
     "metadata": {},
     "output_type": "execute_result"
    }
   ],
   "source": [
    "cds_crash.loc[cds_crash['PARK_ALPHA'].isnull()==True].shape[0]\n",
    "# no crashes without park names identified"
   ]
  },
  {
   "cell_type": "code",
   "execution_count": 50,
   "metadata": {},
   "outputs": [
    {
     "data": {
      "text/plain": [
       "ABLI        7\n",
       "ACAD     1419\n",
       "AGFO        1\n",
       "ALPO       20\n",
       "AMIS       94\n",
       "ANJO        4\n",
       "ANTI      122\n",
       "APCO        1\n",
       "APIS        1\n",
       "ARCH      306\n",
       "ARPO        1\n",
       "ASIS      155\n",
       "BADL      213\n",
       "BAND       70\n",
       "BAWA    28179\n",
       "BIBE      914\n",
       "BICA       30\n",
       "BICY       50\n",
       "BISC        4\n",
       "BISO      270\n",
       "BITH       55\n",
       "BLCA       42\n",
       "BLRI     7853\n",
       "BLUE        2\n",
       "BOST       58\n",
       "BOWA       12\n",
       "BRCA      577\n",
       "BUFF      110\n",
       "CABR       16\n",
       "CACH        6\n",
       "CACL        1\n",
       "CACO      416\n",
       "CAGR        6\n",
       "CAHA      370\n",
       "CALO       52\n",
       "CANA       44\n",
       "CANY      130\n",
       "CARE       34\n",
       "CARL        7\n",
       "CASA        1\n",
       "CATO      120\n",
       "CAVE      119\n",
       "CAVO        7\n",
       "CEBR        6\n",
       "CHAT      226\n",
       "CHCH      780\n",
       "CHCU        4\n",
       "CHIC      402\n",
       "CHIR       18\n",
       "CHIS        2\n",
       "CHOH      420\n",
       "CIRO        1\n",
       "CLBA       12\n",
       "CODA       41\n",
       "COLM      395\n",
       "COLO     1661\n",
       "CONG       10\n",
       "CORO       10\n",
       "CRLA      504\n",
       "CUGA     1019\n",
       "CUIS        2\n",
       "CURE       84\n",
       "CUVA      247\n",
       "DENA      225\n",
       "DEPO        1\n",
       "DETO       17\n",
       "DEVA      837\n",
       "DEWA     5394\n",
       "DINO       53\n",
       "EDIS        1\n",
       "EISE       19\n",
       "ELIS       37\n",
       "EVER      482\n",
       "FIIS       21\n",
       "FLFO       11\n",
       "FLNI       15\n",
       "FOBU        4\n",
       "FODO        3\n",
       "FOLA       12\n",
       "FOLS        7\n",
       "FOMC        1\n",
       "FONE       21\n",
       "FOPO        2\n",
       "FOPU        6\n",
       "FORA       11\n",
       "FOSU        1\n",
       "FOTH        1\n",
       "FOWA       37\n",
       "FRHI        5\n",
       "FRSP      291\n",
       "GATE     1029\n",
       "GERO        3\n",
       "GETT     1069\n",
       "GEWA        5\n",
       "GLAC     1707\n",
       "GLBA        2\n",
       "GLCA      798\n",
       "GOGA     2932\n",
       "GRBA      103\n",
       "GRCA     3964\n",
       "GREE      168\n",
       "GRPO       10\n",
       "GRSA      123\n",
       "GRSM     6884\n",
       "GRTE     3810\n",
       "GUCO       44\n",
       "GUIS      219\n",
       "GWMP    25981\n",
       "HAFE       85\n",
       "HALE       66\n",
       "HAMP        1\n",
       "HAVO     1138\n",
       "HEHO       14\n",
       "HOBE        9\n",
       "HOCU        1\n",
       "HOFR       17\n",
       "HOFU        6\n",
       "HOME        7\n",
       "HOSP      279\n",
       "HOVE        1\n",
       "HUTR        3\n",
       "INDE       60\n",
       "INDU      450\n",
       "JECA        1\n",
       "JEFF      174\n",
       "JELA       10\n",
       "JODR       42\n",
       "JOFI        1\n",
       "JOFK      532\n",
       "JOFL       15\n",
       "JOTR     1031\n",
       "KAHO        7\n",
       "KATM        8\n",
       "KEMO      292\n",
       "KICA       78\n",
       "KIMO       16\n",
       "KNRI        2\n",
       "LABE       27\n",
       "LACH        9\n",
       "LAKE     3086\n",
       "LAMR      211\n",
       "LARO       49\n",
       "LAVO      151\n",
       "LEWI        1\n",
       "LIBI        1\n",
       "LIBO        3\n",
       "LOWE      101\n",
       "LYJO       20\n",
       "MACA     1396\n",
       "MALU        1\n",
       "MANA       77\n",
       "MEVE     1433\n",
       "MIMA       20\n",
       "MOCA       34\n",
       "MONO        4\n",
       "MORA     1259\n",
       "MORR        2\n",
       "MORU      457\n",
       "MUWO       17\n",
       "NABR        7\n",
       "NACC    14634\n",
       "NACE     1214\n",
       "NAMA    13548\n",
       "NATC        2\n",
       "NATR     7068\n",
       "NAVA        3\n",
       "NERI        1\n",
       "OBRI        1\n",
       "OCMU        9\n",
       "OLYM     2233\n",
       "ORCA       10\n",
       "ORPI       97\n",
       "OZAR      144\n",
       "PAAV        1\n",
       "PAIS      239\n",
       "PARA        2\n",
       "PECO       18\n",
       "PEFO      312\n",
       "PERI        1\n",
       "PETE       37\n",
       "PETR       26\n",
       "PEVI        2\n",
       "PINN       10\n",
       "PIPE        1\n",
       "PIRO        4\n",
       "PORE      232\n",
       "PRWI      225\n",
       "PUHE        1\n",
       "PUHO        1\n",
       "REDW      105\n",
       "RICH       44\n",
       "ROCR     6605\n",
       "ROLA        2\n",
       "ROMO     3725\n",
       "RUCA        1\n",
       "SACN        9\n",
       "SAFR        3\n",
       "SAGU     1363\n",
       "SAIR        1\n",
       "SAJH       18\n",
       "SAJU       15\n",
       "SAMA        1\n",
       "SAMO       10\n",
       "SAPU        2\n",
       "SARA       14\n",
       "SCBL        7\n",
       "SEKI     2351\n",
       "SEQU      259\n",
       "SHEN     1700\n",
       "SHIL       16\n",
       "SITK        1\n",
       "SLBE       91\n",
       "STEA       46\n",
       "STLI       13\n",
       "STRI        9\n",
       "SUCR        6\n",
       "SUIT     4736\n",
       "THJE        2\n",
       "THRO       32\n",
       "TICA       18\n",
       "TUZI        8\n",
       "ULSG        1\n",
       "UPDE       28\n",
       "USPP       76\n",
       "VAFO     4880\n",
       "VAMA        1\n",
       "VICK       55\n",
       "VOYA       14\n",
       "WACA        2\n",
       "WHHO      968\n",
       "WHIS       67\n",
       "WHMI        3\n",
       "WHSA       51\n",
       "WICA      138\n",
       "WICR       10\n",
       "WOTR       91\n",
       "WRBR       13\n",
       "WRST        1\n",
       "WUPA        8\n",
       "YELL    10158\n",
       "YOSE     7756\n",
       "ZION     1478\n",
       "ZZZZ      778\n",
       "Name: PARK_ALPHA, dtype: int64"
      ]
     },
     "execution_count": 50,
     "metadata": {},
     "output_type": "execute_result"
    }
   ],
   "source": [
    "pd.options.display.max_rows = 10000000\n",
    "cds_crash.PARK_ALPHA.value_counts().sort_index()\n",
    "# note 778 crashes with park name \"ZZZZ\", which is CDS code for unknown"
   ]
  },
  {
   "cell_type": "code",
   "execution_count": 51,
   "metadata": {},
   "outputs": [
    {
     "data": {
      "text/plain": [
       "0"
      ]
     },
     "execution_count": 51,
     "metadata": {},
     "output_type": "execute_result"
    }
   ],
   "source": [
    "# for any of the 778 crashes with unknown park names, can park names be assigned geospatially using lat/long like in IMARS?\n",
    "cds_unknown_park = cds_crash[cds_crash['PARK_ALPHA']==\"ZZZZ\"]\n",
    "cds_unknown_park[cds_unknown_park['LATITUDE'].isnull()==False].shape[0] # nope!"
   ]
  },
  {
   "cell_type": "code",
   "execution_count": 52,
   "metadata": {},
   "outputs": [
    {
     "data": {
      "text/plain": [
       "(311057, 31)"
      ]
     },
     "execution_count": 52,
     "metadata": {},
     "output_type": "execute_result"
    }
   ],
   "source": [
    "cds_vehicle = pd.read_excel('./CDS/ALL_UNIT.xlsx')"
   ]
  },
  {
   "cell_type": "code",
   "execution_count": 65,
   "metadata": {},
   "outputs": [
    {
     "data": {
      "text/plain": [
       "0"
      ]
     },
     "execution_count": 65,
     "metadata": {},
     "output_type": "execute_result"
    }
   ],
   "source": [
    "cds_vehicle.loc[cds_vehicle['INCID_NO'].isnull()==True].shape[0]\n",
    "# no vehicle reports with missing record numbers"
   ]
  },
  {
   "cell_type": "code",
   "execution_count": 53,
   "metadata": {},
   "outputs": [
    {
     "data": {
      "text/plain": [
       "(114151, 10)"
      ]
     },
     "execution_count": 53,
     "metadata": {},
     "output_type": "execute_result"
    }
   ],
   "source": [
    "cds_passenger = pd.read_excel('./CDS/ALL_PASSENGER.xlsx')"
   ]
  },
  {
   "cell_type": "code",
   "execution_count": 67,
   "metadata": {},
   "outputs": [
    {
     "data": {
      "text/plain": [
       "0"
      ]
     },
     "execution_count": 67,
     "metadata": {},
     "output_type": "execute_result"
    }
   ],
   "source": [
    "cds_passenger.loc[cds_passenger['INCID_NO'].isnull()==True].shape[0]\n",
    "# no person reports with missing record numbers"
   ]
  },
  {
   "cell_type": "markdown",
   "metadata": {},
   "source": [
    "# DATA CLEANING"
   ]
  },
  {
   "cell_type": "markdown",
   "metadata": {},
   "source": [
    "## DROP DUPLICATES\n",
    "**Note:** Cannot remove duplicates from vehicle and passenger tables because they are unique records for each person/car involved in crash"
   ]
  },
  {
   "cell_type": "code",
   "execution_count": 68,
   "metadata": {},
   "outputs": [
    {
     "data": {
      "text/plain": [
       "203909"
      ]
     },
     "execution_count": 68,
     "metadata": {},
     "output_type": "execute_result"
    }
   ],
   "source": [
    "cds_crash = cds_crash.drop_duplicates(subset=['INCID_NO'])"
   ]
  },
  {
   "cell_type": "markdown",
   "metadata": {},
   "source": [
    "## REVERT FLIPPED LAT/LONG"
   ]
  },
  {
   "cell_type": "code",
   "execution_count": 55,
   "metadata": {},
   "outputs": [],
   "source": [
    "need_revert = cds_crash['LATITUDE'].abs() > 70\n",
    "cds_crash.loc[need_revert, ['LATITUDE', 'LONGITUDE']] = (cds_crash.loc[need_revert, ['LONGITUDE', 'LATITUDE']].values)"
   ]
  },
  {
   "cell_type": "markdown",
   "metadata": {},
   "source": [
    "## ADJUST SIGNS TO CORRECT HEMISPHERE"
   ]
  },
  {
   "cell_type": "code",
   "execution_count": 56,
   "metadata": {},
   "outputs": [],
   "source": [
    "cds_crash.loc[cds_crash.LATITUDE < 0,\"LATITUDE\"] = cds_crash['LATITUDE']*(-1)\n",
    "cds_crash.loc[cds_crash.LONGITUDE > 0,\"LONGITUDE\"] = cds_crash['LONGITUDE']*(-1)"
   ]
  },
  {
   "cell_type": "markdown",
   "metadata": {},
   "source": [
    "## Create new region column"
   ]
  },
  {
   "cell_type": "code",
   "execution_count": 57,
   "metadata": {},
   "outputs": [],
   "source": [
    "park_info = pd.read_csv(\"./Reference Data/Park_Info_Table.csv\")"
   ]
  },
  {
   "cell_type": "code",
   "execution_count": 58,
   "metadata": {},
   "outputs": [
    {
     "data": {
      "text/plain": [
       "Index(['OBJECTID', 'UNIT_CODE', 'GIS_Notes', 'UNIT_NAME', 'DATE_EDIT', 'STATE',\n",
       "       'REGION', 'GNIS_ID', 'UNIT_TYPE', 'CREATED_BY', 'METADATA', 'PARKNAME',\n",
       "       'CreationDa', 'Creator', 'EditDate', 'Editor', 'Shape__Are',\n",
       "       'Shape__Len', 'Unnamed: 18'],\n",
       "      dtype='object')"
      ]
     },
     "execution_count": 58,
     "metadata": {},
     "output_type": "execute_result"
    }
   ],
   "source": [
    "park_info.columns"
   ]
  },
  {
   "cell_type": "code",
   "execution_count": 59,
   "metadata": {},
   "outputs": [],
   "source": [
    "park_info = park_info.rename(columns={'UNIT_CODE':'Park','REGION':'RGN'})\n",
    "cds_crash = cds_crash.rename(columns={'PARK_ALPHA' : 'Park'})"
   ]
  },
  {
   "cell_type": "code",
   "execution_count": 60,
   "metadata": {},
   "outputs": [
    {
     "data": {
      "text/plain": [
       "(204687, 57)"
      ]
     },
     "execution_count": 60,
     "metadata": {},
     "output_type": "execute_result"
    }
   ],
   "source": [
    "# add RGN column from lookup table to CDS crash database, joining the two datasets based on park name\n",
    "cds_crash = pd.merge(cds_crash, park_info[['RGN','Park']], how='left', on='Park')\n",
    "# resulting dataframe after join should have one additional column and no additional rows\n",
    "cds_crash = cds_crash.drop_duplicates(subset=['INCID_NO']) \n",
    "cds_crash.shape"
   ]
  },
  {
   "cell_type": "code",
   "execution_count": 61,
   "metadata": {},
   "outputs": [
    {
     "data": {
      "text/plain": [
       "0"
      ]
     },
     "execution_count": 61,
     "metadata": {},
     "output_type": "execute_result"
    }
   ],
   "source": [
    "cds_crash.loc[cds_crash['RGN'].isnull()==True].shape[0]\n",
    "# all crashes were assigned a region"
   ]
  },
  {
   "cell_type": "code",
   "execution_count": 62,
   "metadata": {},
   "outputs": [
    {
     "data": {
      "text/plain": [
       "AKR          237\n",
       "IMR        33076\n",
       "MWR         2435\n",
       "NCR        97838\n",
       "NER        18642\n",
       "PWR        24419\n",
       "SER        27262\n",
       "Unknown      778\n",
       "Name: RGN, dtype: int64"
      ]
     },
     "execution_count": 62,
     "metadata": {},
     "output_type": "execute_result"
    }
   ],
   "source": [
    "cds_crash.RGN.value_counts().sort_index()"
   ]
  },
  {
   "cell_type": "code",
   "execution_count": 63,
   "metadata": {},
   "outputs": [
    {
     "data": {
      "text/plain": [
       "AKR      237\n",
       "IMR    33076\n",
       "MWR     2435\n",
       "NCR    97838\n",
       "NER    18642\n",
       "PWR    24419\n",
       "SER    27262\n",
       "Name: RGN, dtype: int64"
      ]
     },
     "execution_count": 63,
     "metadata": {},
     "output_type": "execute_result"
    }
   ],
   "source": [
    "# drop rows without region\n",
    "cds_crash = cds_crash[cds_crash[\"RGN\"].str.contains(\"Unknown\")==False]\n",
    "cds_crash.RGN.value_counts().sort_index()"
   ]
  },
  {
   "cell_type": "code",
   "execution_count": 64,
   "metadata": {},
   "outputs": [],
   "source": [
    "cds_crash.to_csv(\"CDS_CrashTable_RegionAdded_Clean.csv\", index=False)"
   ]
  }
 ],
 "metadata": {
  "kernelspec": {
   "display_name": "Python 3",
   "language": "python",
   "name": "python3"
  },
  "language_info": {
   "codemirror_mode": {
    "name": "ipython",
    "version": 3
   },
   "file_extension": ".py",
   "mimetype": "text/x-python",
   "name": "python",
   "nbconvert_exporter": "python",
   "pygments_lexer": "ipython3",
   "version": "3.8.8"
  }
 },
 "nbformat": 4,
 "nbformat_minor": 2
}
