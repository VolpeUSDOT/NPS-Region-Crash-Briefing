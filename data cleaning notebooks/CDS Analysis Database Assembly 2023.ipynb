{
 "cells": [
  {
   "cell_type": "code",
   "execution_count": 1,
   "metadata": {},
   "outputs": [],
   "source": [
    "import pandas as pd\n",
    "import numpy as np\n",
    "import os"
   ]
  },
  {
   "cell_type": "code",
   "execution_count": 2,
   "metadata": {},
   "outputs": [],
   "source": [
    "myworkingdirectory = r\"C:\\Users\\Sophie.Kaye\\Desktop\\NPS Crash Data\"\n",
    "os.chdir(myworkingdirectory)"
   ]
  },
  {
   "cell_type": "code",
   "execution_count": 3,
   "metadata": {
    "scrolled": true
   },
   "outputs": [
    {
     "data": {
      "text/plain": [
       "(204690, 57)"
      ]
     },
     "execution_count": 3,
     "metadata": {},
     "output_type": "execute_result"
    }
   ],
   "source": [
    "cds_crash = pd.read_excel('./CDS/Legacy_CDS_v2.xlsx') # updated with more lat/longs from Bryce\n",
    "cds_crash.shape"
   ]
  },
  {
   "cell_type": "code",
   "execution_count": 4,
   "metadata": {},
   "outputs": [
    {
     "data": {
      "text/plain": [
       "Index(['OBJECTID_1', 'OBJECTID', 'INCID_NO', 'CASE_NUM', 'PARK_ALPHA',\n",
       "       'STATE_CODE', 'CRASH_DATE', 'CRASH_TIME', 'RTE_NO', 'RTE_NAME',\n",
       "       'NODE_DIST_FT', 'NODE_DIST_MI', 'NODE_DIR', 'NODE_NUM', 'LIGHT',\n",
       "       'WEATHER', 'CRASH_LOCATION', 'SURF_COND', 'CRASH_CLASS', 'VEH_COLL',\n",
       "       'OBJ_STRUCK', 'ROAD_CHAR', 'CON_FACT1', 'CON_FACT2', 'CON_FACT3',\n",
       "       'CON_FACT4', 'CON_FACT5', 'CON_FACT6', 'HIT_RUN', 'CATEGORY', 'FATALS',\n",
       "       'INJURED', 'PED_FAT', 'PED_INJ', 'BIKE_FAT', 'BIKE_INJ', 'PED',\n",
       "       'CRASH_YEAR', 'COMMENTS', 'ZIPFILE', 'LOCATION', 'PHOTOS_TAKEN',\n",
       "       'USPP_NPS_VEH_INV', 'PARK_PTY_DEST', 'LOCKED_UPDATE', 'LOCKED_BY_USER',\n",
       "       'DATA_SRC', 'LATITUDE', 'LONGITUDE', 'MILEPOST', 'IMPORT_DATE',\n",
       "       'FILE_NAME', 'SAVE_DATE', 'ROUTE_IDENT', 'RIP_CYCLE', 'MP_NODE',\n",
       "       'SPTL_LOC'],\n",
       "      dtype='object')"
      ]
     },
     "execution_count": 4,
     "metadata": {},
     "output_type": "execute_result"
    }
   ],
   "source": [
    "cds_crash.columns"
   ]
  },
  {
   "cell_type": "code",
   "execution_count": 5,
   "metadata": {},
   "outputs": [
    {
     "data": {
      "text/plain": [
       "3"
      ]
     },
     "execution_count": 5,
     "metadata": {},
     "output_type": "execute_result"
    }
   ],
   "source": [
    "cds_crash.loc[cds_crash['PARK_ALPHA'].isnull()==True].shape[0]\n",
    "# 3 crashes without park names identified (to be dropped during data cleaning)"
   ]
  },
  {
   "cell_type": "code",
   "execution_count": 6,
   "metadata": {},
   "outputs": [
    {
     "data": {
      "text/plain": [
       "ABLI        7\n",
       "ACAD     1419\n",
       "AGFO        1\n",
       "ALPO       20\n",
       "AMIS       94\n",
       "ANJO        4\n",
       "ANTI      122\n",
       "APCO        1\n",
       "APIS        1\n",
       "ARCH      306\n",
       "ARPO        1\n",
       "ASIS      155\n",
       "BADL      213\n",
       "BAND       70\n",
       "BAWA    28179\n",
       "BIBE      914\n",
       "BICA       30\n",
       "BICY       50\n",
       "BISC        4\n",
       "BISO      270\n",
       "BITH       55\n",
       "BLCA       42\n",
       "BLRI     7853\n",
       "BLUE        2\n",
       "BOST       58\n",
       "BOWA       12\n",
       "BRCA      577\n",
       "BUFF      110\n",
       "CABR       16\n",
       "CACH        6\n",
       "CACL        1\n",
       "CACO      416\n",
       "CAGR        6\n",
       "CAHA      370\n",
       "CALO       52\n",
       "CANA       44\n",
       "CANY      130\n",
       "CARE       34\n",
       "CARL        7\n",
       "CASA        1\n",
       "CATO      120\n",
       "CAVE      119\n",
       "CAVO        7\n",
       "CEBR        6\n",
       "CHAT      226\n",
       "CHCH      780\n",
       "CHCU        4\n",
       "CHIC      402\n",
       "CHIR       18\n",
       "CHIS        2\n",
       "CHOH      420\n",
       "CIRO        1\n",
       "CLBA       12\n",
       "CODA       41\n",
       "COLM      395\n",
       "COLO     1661\n",
       "CONG       10\n",
       "CORO       10\n",
       "CRLA      504\n",
       "CUGA     1019\n",
       "CUIS        2\n",
       "CURE       84\n",
       "CUVA      247\n",
       "DENA      225\n",
       "DEPO        1\n",
       "DETO       17\n",
       "DEVA      837\n",
       "DEWA     5394\n",
       "DINO       53\n",
       "EDIS        1\n",
       "EISE       19\n",
       "ELIS       37\n",
       "EVER      482\n",
       "FIIS       21\n",
       "FLFO       11\n",
       "FLNI       15\n",
       "FOBU        4\n",
       "FODO        3\n",
       "FOLA       12\n",
       "FOLS        7\n",
       "FOMC        1\n",
       "FONE       21\n",
       "FOPO        2\n",
       "FOPU        6\n",
       "FORA       11\n",
       "FOSU        1\n",
       "FOTH        1\n",
       "FOWA       37\n",
       "FRHI        5\n",
       "FRSP      291\n",
       "GATE     1029\n",
       "GERO        3\n",
       "GETT     1069\n",
       "GEWA        5\n",
       "GLAC     1707\n",
       "GLBA        2\n",
       "GLCA      798\n",
       "GOGA     2932\n",
       "GRBA      103\n",
       "GRCA     3964\n",
       "GREE      168\n",
       "GRPO       10\n",
       "GRSA      123\n",
       "GRSM     6884\n",
       "GRTE     3810\n",
       "GUCO       44\n",
       "GUIS      219\n",
       "GWMP    25981\n",
       "HAFE       85\n",
       "HALE       66\n",
       "HAMP        1\n",
       "HAVO     1138\n",
       "HEHO       14\n",
       "HOBE        9\n",
       "HOCU        1\n",
       "HOFR       17\n",
       "HOFU        6\n",
       "HOME        7\n",
       "HOSP      279\n",
       "HOVE        1\n",
       "HUTR        3\n",
       "INDE       60\n",
       "INDU      450\n",
       "JECA        1\n",
       "JEFF      174\n",
       "JELA       10\n",
       "JODR       42\n",
       "JOFI        1\n",
       "JOFK      532\n",
       "JOFL       15\n",
       "JOTR     1031\n",
       "KAHO        7\n",
       "KATM        8\n",
       "KEMO      292\n",
       "KICA       78\n",
       "KIMO       16\n",
       "KNRI        2\n",
       "LABE       27\n",
       "LACH        9\n",
       "LAKE     3086\n",
       "LAMR      211\n",
       "LARO       49\n",
       "LAVO      151\n",
       "LEWI        1\n",
       "LIBI        1\n",
       "LIBO        3\n",
       "LOWE      101\n",
       "LYJO       20\n",
       "MACA     1396\n",
       "MALU        1\n",
       "MANA       77\n",
       "MEVE     1433\n",
       "MIMA       20\n",
       "MOCA       34\n",
       "MONO        4\n",
       "MORA     1259\n",
       "MORR        2\n",
       "MORU      457\n",
       "MUWO       17\n",
       "NABR        7\n",
       "NACC    14634\n",
       "NACE     1214\n",
       "NAMA    13548\n",
       "NATC        2\n",
       "NATR     7068\n",
       "NAVA        3\n",
       "NERI        1\n",
       "OBRI        1\n",
       "OCMU        9\n",
       "OLYM     2233\n",
       "ORCA       10\n",
       "ORPI       97\n",
       "OZAR      144\n",
       "PAAV        1\n",
       "PAIS      239\n",
       "PARA        2\n",
       "PECO       18\n",
       "PEFO      312\n",
       "PERI        1\n",
       "PETE       37\n",
       "PETR       26\n",
       "PEVI        2\n",
       "PINN       10\n",
       "PIPE        1\n",
       "PIRO        4\n",
       "PORE      232\n",
       "PRWI      225\n",
       "PUHE        1\n",
       "PUHO        1\n",
       "REDW      105\n",
       "RICH       44\n",
       "ROCR     6605\n",
       "ROLA        2\n",
       "ROMO     3725\n",
       "RUCA        1\n",
       "SACN        9\n",
       "SAFR        3\n",
       "SAGU     1363\n",
       "SAIR        1\n",
       "SAJH       18\n",
       "SAJU       15\n",
       "SAMA        1\n",
       "SAMO       10\n",
       "SAPU        2\n",
       "SARA       14\n",
       "SCBL        7\n",
       "SEKI     2351\n",
       "SEQU      259\n",
       "SHEN     1700\n",
       "SHIL       16\n",
       "SITK        1\n",
       "SLBE       91\n",
       "STEA       46\n",
       "STLI       13\n",
       "STRI        9\n",
       "SUCR        6\n",
       "SUIT     4736\n",
       "THJE        2\n",
       "THRO       32\n",
       "TICA       18\n",
       "TUZI        8\n",
       "ULSG        1\n",
       "UPDE       28\n",
       "USPP       76\n",
       "VAFO     4880\n",
       "VAMA        1\n",
       "VICK       55\n",
       "VOYA       14\n",
       "WACA        2\n",
       "WHHO      968\n",
       "WHIS       67\n",
       "WHMI        3\n",
       "WHSA       51\n",
       "WICA      138\n",
       "WICR       10\n",
       "WOTR       91\n",
       "WRBR       13\n",
       "WRST        1\n",
       "WUPA        8\n",
       "YELL    10158\n",
       "YOSE     7756\n",
       "ZION     1478\n",
       "ZZZZ      778\n",
       "Name: PARK_ALPHA, dtype: int64"
      ]
     },
     "execution_count": 6,
     "metadata": {},
     "output_type": "execute_result"
    }
   ],
   "source": [
    "pd.options.display.max_rows = 10000000\n",
    "cds_crash.PARK_ALPHA.value_counts().sort_index()\n",
    "# note 778 crashes with park name \"ZZZZ\", which is CDS code for unknown"
   ]
  },
  {
   "cell_type": "code",
   "execution_count": 7,
   "metadata": {},
   "outputs": [
    {
     "data": {
      "text/plain": [
       "0"
      ]
     },
     "execution_count": 7,
     "metadata": {},
     "output_type": "execute_result"
    }
   ],
   "source": [
    "# for any of the 778 crashes with unknown park names, can park names be assigned geospatially using lat/long like in IMARS?\n",
    "cds_unknown_park = cds_crash[cds_crash['PARK_ALPHA']==\"ZZZZ\"]\n",
    "cds_unknown_park[cds_unknown_park['LATITUDE'].isnull()==False].shape[0] # nope!"
   ]
  },
  {
   "cell_type": "code",
   "execution_count": 8,
   "metadata": {},
   "outputs": [],
   "source": [
    "cds_vehicle = pd.read_excel('./CDS/ALL_UNIT.xlsx')"
   ]
  },
  {
   "cell_type": "code",
   "execution_count": 9,
   "metadata": {},
   "outputs": [
    {
     "data": {
      "text/plain": [
       "0"
      ]
     },
     "execution_count": 9,
     "metadata": {},
     "output_type": "execute_result"
    }
   ],
   "source": [
    "cds_vehicle.loc[cds_vehicle['INCID_NO'].isnull()==True].shape[0]\n",
    "# no vehicle reports with missing record numbers"
   ]
  },
  {
   "cell_type": "code",
   "execution_count": 10,
   "metadata": {},
   "outputs": [],
   "source": [
    "cds_passenger = pd.read_excel('./CDS/ALL_PASSENGER.xlsx')"
   ]
  },
  {
   "cell_type": "code",
   "execution_count": 11,
   "metadata": {},
   "outputs": [
    {
     "data": {
      "text/plain": [
       "0"
      ]
     },
     "execution_count": 11,
     "metadata": {},
     "output_type": "execute_result"
    }
   ],
   "source": [
    "cds_passenger.loc[cds_passenger['INCID_NO'].isnull()==True].shape[0]\n",
    "# no person reports with missing record numbers"
   ]
  },
  {
   "cell_type": "markdown",
   "metadata": {},
   "source": [
    "# Data Cleaning"
   ]
  },
  {
   "cell_type": "markdown",
   "metadata": {},
   "source": [
    "## Remove crashes missing record numbers"
   ]
  },
  {
   "cell_type": "code",
   "execution_count": 12,
   "metadata": {},
   "outputs": [],
   "source": [
    "cds_crash = cds_crash.dropna(subset=['INCID_NO']) \n",
    "# not needed for passenger or vehicle tables as shown in tests above"
   ]
  },
  {
   "cell_type": "markdown",
   "metadata": {},
   "source": [
    "## Drop duplicates"
   ]
  },
  {
   "cell_type": "code",
   "execution_count": 13,
   "metadata": {},
   "outputs": [],
   "source": [
    "cds_crash = cds_crash.drop_duplicates(subset=['INCID_NO']) \n",
    "# Cannot remove duplicates from vehicle and passenger tables because they are unique records for each person/car involved in crash"
   ]
  },
  {
   "cell_type": "markdown",
   "metadata": {},
   "source": [
    "## Revert flipped lat/long"
   ]
  },
  {
   "cell_type": "code",
   "execution_count": 14,
   "metadata": {},
   "outputs": [],
   "source": [
    "need_revert = cds_crash['LATITUDE'].abs() > 70\n",
    "cds_crash.loc[need_revert, ['LATITUDE', 'LONGITUDE']] = (cds_crash.loc[need_revert, ['LONGITUDE', 'LATITUDE']].values)"
   ]
  },
  {
   "cell_type": "markdown",
   "metadata": {},
   "source": [
    "## Adjust signs to correct hemisphere"
   ]
  },
  {
   "cell_type": "code",
   "execution_count": 15,
   "metadata": {},
   "outputs": [],
   "source": [
    "cds_crash.loc[cds_crash.LATITUDE < 0,\"LATITUDE\"] = cds_crash['LATITUDE']*(-1)\n",
    "cds_crash.loc[cds_crash.LONGITUDE > 0,\"LONGITUDE\"] = cds_crash['LONGITUDE']*(-1)"
   ]
  },
  {
   "cell_type": "markdown",
   "metadata": {},
   "source": [
    "## Create new region column"
   ]
  },
  {
   "cell_type": "code",
   "execution_count": 16,
   "metadata": {},
   "outputs": [],
   "source": [
    "park_info = pd.read_csv(\"./Reference Data/Park_Info_Table.csv\")"
   ]
  },
  {
   "cell_type": "code",
   "execution_count": 17,
   "metadata": {},
   "outputs": [
    {
     "data": {
      "text/plain": [
       "Index(['OBJECTID', 'UNIT_CODE', 'GIS_Notes', 'UNIT_NAME', 'DATE_EDIT', 'STATE',\n",
       "       'REGION', 'GNIS_ID', 'UNIT_TYPE', 'CREATED_BY', 'METADATA', 'PARKNAME',\n",
       "       'CreationDa', 'Creator', 'EditDate', 'Editor', 'Shape__Are',\n",
       "       'Shape__Len', 'Unnamed: 18'],\n",
       "      dtype='object')"
      ]
     },
     "execution_count": 17,
     "metadata": {},
     "output_type": "execute_result"
    }
   ],
   "source": [
    "park_info.columns"
   ]
  },
  {
   "cell_type": "code",
   "execution_count": 18,
   "metadata": {},
   "outputs": [],
   "source": [
    "park_info = park_info.rename(columns={'UNIT_CODE':'Park','REGION':'RGN'})\n",
    "cds_crash = cds_crash.rename(columns={'PARK_ALPHA' : 'Park'})"
   ]
  },
  {
   "cell_type": "code",
   "execution_count": 19,
   "metadata": {},
   "outputs": [
    {
     "data": {
      "text/plain": [
       "(204687, 58)"
      ]
     },
     "execution_count": 19,
     "metadata": {},
     "output_type": "execute_result"
    }
   ],
   "source": [
    "# add RGN column from lookup table to CDS crash database, joining the two datasets based on park name\n",
    "cds_crash = pd.merge(cds_crash, park_info[['RGN','Park']], how='left', on='Park')\n",
    "# resulting dataframe after join should have one additional column and no additional rows\n",
    "cds_crash = cds_crash.drop_duplicates(subset=['INCID_NO']) \n",
    "cds_crash.shape"
   ]
  },
  {
   "cell_type": "code",
   "execution_count": 20,
   "metadata": {},
   "outputs": [
    {
     "data": {
      "text/plain": [
       "0"
      ]
     },
     "execution_count": 20,
     "metadata": {},
     "output_type": "execute_result"
    }
   ],
   "source": [
    "cds_crash.loc[cds_crash['RGN'].isnull()==True].shape[0]\n",
    "# all crashes were assigned a region"
   ]
  },
  {
   "cell_type": "code",
   "execution_count": 21,
   "metadata": {},
   "outputs": [
    {
     "data": {
      "text/plain": [
       "AKR          237\n",
       "IMR        33076\n",
       "MWR         2435\n",
       "NCR        97838\n",
       "NER        18642\n",
       "PWR        24419\n",
       "SER        27262\n",
       "Unknown      778\n",
       "Name: RGN, dtype: int64"
      ]
     },
     "execution_count": 21,
     "metadata": {},
     "output_type": "execute_result"
    }
   ],
   "source": [
    "cds_crash.RGN.value_counts().sort_index()"
   ]
  },
  {
   "cell_type": "code",
   "execution_count": 22,
   "metadata": {},
   "outputs": [
    {
     "data": {
      "text/plain": [
       "AKR      237\n",
       "IMR    33076\n",
       "MWR     2435\n",
       "NCR    97838\n",
       "NER    18642\n",
       "PWR    24419\n",
       "SER    27262\n",
       "Name: RGN, dtype: int64"
      ]
     },
     "execution_count": 22,
     "metadata": {},
     "output_type": "execute_result"
    }
   ],
   "source": [
    "# drop rows without region\n",
    "cds_crash = cds_crash[cds_crash[\"RGN\"].str.contains(\"Unknown\")==False]\n",
    "cds_crash.RGN.value_counts().sort_index()"
   ]
  },
  {
   "cell_type": "code",
   "execution_count": 23,
   "metadata": {},
   "outputs": [],
   "source": [
    "cds_crash.to_csv(\"CDS_CrashTable_RegionAdded_Clean.csv\", index=False)"
   ]
  },
  {
   "cell_type": "markdown",
   "metadata": {},
   "source": [
    "# Filter for Necessary Fields, Group by INCID_NO"
   ]
  },
  {
   "cell_type": "markdown",
   "metadata": {},
   "source": [
    "## Crash Table"
   ]
  },
  {
   "cell_type": "code",
   "execution_count": 24,
   "metadata": {},
   "outputs": [
    {
     "data": {
      "text/plain": [
       "0.0        572\n",
       "1.0        205\n",
       "2.0         41\n",
       "3.0         39\n",
       "4.0         35\n",
       "5.0        121\n",
       "6.0         38\n",
       "7.0         40\n",
       "8.0         64\n",
       "9.0         47\n",
       "10.0       127\n",
       "11.0        43\n",
       "12.0        33\n",
       "13.0        54\n",
       "14.0        50\n",
       "15.0       202\n",
       "16.0        37\n",
       "17.0        22\n",
       "18.0        29\n",
       "19.0        33\n",
       "20.0        94\n",
       "21.0        35\n",
       "22.0        47\n",
       "23.0        45\n",
       "24.0        23\n",
       "25.0        47\n",
       "26.0        43\n",
       "27.0        34\n",
       "28.0        35\n",
       "29.0        30\n",
       "30.0       379\n",
       "31.0        50\n",
       "32.0        33\n",
       "33.0        37\n",
       "34.0        27\n",
       "35.0        54\n",
       "36.0        36\n",
       "37.0        40\n",
       "38.0        30\n",
       "39.0        23\n",
       "40.0        58\n",
       "41.0        29\n",
       "42.0        25\n",
       "43.0        23\n",
       "44.0        26\n",
       "45.0       132\n",
       "46.0        36\n",
       "47.0        30\n",
       "48.0        28\n",
       "49.0        33\n",
       "50.0        64\n",
       "51.0        21\n",
       "52.0        18\n",
       "53.0        26\n",
       "54.0        31\n",
       "55.0        68\n",
       "56.0        30\n",
       "57.0        35\n",
       "58.0        35\n",
       "59.0        30\n",
       "65.0         1\n",
       "68.0         1\n",
       "80.0         1\n",
       "85.0         2\n",
       "93.0         1\n",
       "99.0         6\n",
       "100.0      469\n",
       "101.0       19\n",
       "102.0       29\n",
       "103.0       29\n",
       "104.0       29\n",
       "105.0       50\n",
       "106.0       20\n",
       "107.0       28\n",
       "108.0       30\n",
       "109.0       50\n",
       "110.0       67\n",
       "111.0       37\n",
       "112.0       35\n",
       "113.0       46\n",
       "114.0       38\n",
       "115.0      103\n",
       "116.0       40\n",
       "117.0       19\n",
       "118.0       26\n",
       "119.0       42\n",
       "120.0       85\n",
       "121.0       40\n",
       "122.0       43\n",
       "123.0       25\n",
       "124.0       32\n",
       "125.0       47\n",
       "126.0       19\n",
       "127.0       19\n",
       "128.0       21\n",
       "129.0       46\n",
       "130.0      395\n",
       "131.0       24\n",
       "132.0       24\n",
       "133.0       37\n",
       "134.0       29\n",
       "135.0       38\n",
       "136.0       17\n",
       "137.0       21\n",
       "138.0       27\n",
       "139.0       34\n",
       "140.0       49\n",
       "141.0       26\n",
       "142.0       26\n",
       "143.0       35\n",
       "144.0       23\n",
       "145.0      140\n",
       "146.0       27\n",
       "147.0       34\n",
       "148.0       22\n",
       "149.0       28\n",
       "150.0       84\n",
       "151.0       43\n",
       "152.0       22\n",
       "153.0       35\n",
       "154.0       27\n",
       "155.0       55\n",
       "156.0       40\n",
       "157.0       26\n",
       "158.0       39\n",
       "159.0       32\n",
       "163.0        2\n",
       "164.0        1\n",
       "175.0        1\n",
       "179.0        2\n",
       "199.0        2\n",
       "200.0      424\n",
       "201.0       32\n",
       "202.0       23\n",
       "203.0       35\n",
       "204.0       30\n",
       "205.0       39\n",
       "206.0       18\n",
       "207.0       29\n",
       "208.0       53\n",
       "209.0       29\n",
       "210.0       68\n",
       "211.0       36\n",
       "212.0       35\n",
       "213.0       34\n",
       "214.0       34\n",
       "215.0      120\n",
       "216.0       28\n",
       "217.0       36\n",
       "218.0       33\n",
       "219.0       47\n",
       "220.0       59\n",
       "221.0       28\n",
       "222.0       30\n",
       "223.0       29\n",
       "224.0       33\n",
       "225.0       40\n",
       "226.0       40\n",
       "227.0       37\n",
       "228.0       36\n",
       "229.0       35\n",
       "230.0      340\n",
       "231.0       32\n",
       "232.0       49\n",
       "233.0       36\n",
       "234.0       23\n",
       "235.0       50\n",
       "236.0       33\n",
       "237.0       39\n",
       "238.0       42\n",
       "239.0       31\n",
       "240.0       74\n",
       "241.0       27\n",
       "242.0       36\n",
       "243.0       26\n",
       "244.0       25\n",
       "245.0      118\n",
       "246.0       38\n",
       "247.0       25\n",
       "248.0       36\n",
       "249.0       22\n",
       "250.0       56\n",
       "251.0       23\n",
       "252.0       32\n",
       "253.0       42\n",
       "254.0       28\n",
       "255.0       44\n",
       "256.0       28\n",
       "257.0       28\n",
       "258.0       28\n",
       "259.0       27\n",
       "266.0        1\n",
       "267.0        1\n",
       "291.0        1\n",
       "292.0        2\n",
       "300.0      338\n",
       "301.0       28\n",
       "302.0       20\n",
       "303.0       35\n",
       "304.0       40\n",
       "305.0       44\n",
       "306.0       23\n",
       "307.0       33\n",
       "308.0       26\n",
       "309.0       28\n",
       "310.0       50\n",
       "311.0       40\n",
       "312.0       37\n",
       "313.0       35\n",
       "314.0       40\n",
       "315.0       83\n",
       "316.0       38\n",
       "317.0       33\n",
       "318.0       28\n",
       "319.0       36\n",
       "320.0       50\n",
       "321.0       32\n",
       "322.0       25\n",
       "323.0       33\n",
       "324.0       24\n",
       "325.0       45\n",
       "326.0       34\n",
       "327.0       31\n",
       "328.0       29\n",
       "329.0       28\n",
       "330.0      246\n",
       "331.0       29\n",
       "332.0       30\n",
       "333.0       37\n",
       "334.0       25\n",
       "335.0       33\n",
       "336.0       23\n",
       "337.0       23\n",
       "338.0       32\n",
       "339.0       27\n",
       "340.0       39\n",
       "341.0       19\n",
       "342.0       19\n",
       "343.0       27\n",
       "344.0       27\n",
       "345.0       72\n",
       "346.0       24\n",
       "347.0       32\n",
       "348.0       29\n",
       "349.0       25\n",
       "350.0       52\n",
       "351.0       33\n",
       "352.0       23\n",
       "353.0       29\n",
       "354.0       29\n",
       "355.0       39\n",
       "356.0       34\n",
       "357.0       27\n",
       "358.0       19\n",
       "359.0       31\n",
       "360.0        1\n",
       "372.0        2\n",
       "387.0        1\n",
       "391.0        1\n",
       "400.0      264\n",
       "401.0       21\n",
       "402.0       21\n",
       "403.0       19\n",
       "404.0       21\n",
       "405.0       17\n",
       "406.0       13\n",
       "407.0       21\n",
       "408.0       15\n",
       "409.0       18\n",
       "410.0       42\n",
       "411.0       34\n",
       "412.0       32\n",
       "413.0       35\n",
       "414.0       26\n",
       "415.0       74\n",
       "416.0       30\n",
       "417.0       25\n",
       "418.0       16\n",
       "419.0       17\n",
       "420.0       54\n",
       "421.0       22\n",
       "422.0        9\n",
       "423.0       19\n",
       "424.0       30\n",
       "425.0       24\n",
       "426.0       32\n",
       "427.0       19\n",
       "428.0       18\n",
       "429.0       14\n",
       "430.0      227\n",
       "431.0       20\n",
       "432.0       30\n",
       "433.0       24\n",
       "434.0       13\n",
       "435.0       24\n",
       "436.0       21\n",
       "437.0       20\n",
       "438.0       19\n",
       "439.0       16\n",
       "440.0       39\n",
       "441.0       19\n",
       "442.0       13\n",
       "443.0       30\n",
       "444.0       11\n",
       "445.0      104\n",
       "446.0       15\n",
       "447.0       21\n",
       "448.0       13\n",
       "449.0       15\n",
       "450.0       52\n",
       "451.0       22\n",
       "452.0       17\n",
       "453.0       18\n",
       "454.0       20\n",
       "455.0       29\n",
       "456.0       21\n",
       "457.0       20\n",
       "458.0       18\n",
       "459.0       23\n",
       "480.0        1\n",
       "500.0      333\n",
       "501.0       19\n",
       "502.0       21\n",
       "503.0       25\n",
       "504.0       11\n",
       "505.0       49\n",
       "506.0       21\n",
       "507.0       28\n",
       "508.0       26\n",
       "509.0       18\n",
       "510.0       52\n",
       "511.0       20\n",
       "512.0       23\n",
       "513.0       20\n",
       "514.0       32\n",
       "515.0      115\n",
       "516.0       28\n",
       "517.0       34\n",
       "518.0       20\n",
       "519.0       22\n",
       "520.0       79\n",
       "521.0       18\n",
       "522.0       25\n",
       "523.0       30\n",
       "524.0       36\n",
       "525.0       47\n",
       "526.0       19\n",
       "527.0       32\n",
       "528.0       25\n",
       "529.0       29\n",
       "530.0      360\n",
       "531.0       25\n",
       "532.0       25\n",
       "533.0       20\n",
       "534.0       33\n",
       "535.0       67\n",
       "536.0       41\n",
       "537.0       31\n",
       "538.0       22\n",
       "539.0       20\n",
       "540.0       84\n",
       "541.0       27\n",
       "542.0       32\n",
       "543.0       33\n",
       "544.0       24\n",
       "545.0      204\n",
       "546.0       39\n",
       "547.0       25\n",
       "548.0       23\n",
       "549.0       30\n",
       "550.0      122\n",
       "551.0       31\n",
       "552.0       33\n",
       "553.0       43\n",
       "554.0       39\n",
       "555.0       77\n",
       "556.0       28\n",
       "557.0       34\n",
       "558.0       27\n",
       "559.0       28\n",
       "570.0        3\n",
       "595.0        2\n",
       "600.0      500\n",
       "601.0       36\n",
       "602.0       53\n",
       "603.0       24\n",
       "604.0       33\n",
       "605.0       62\n",
       "606.0       29\n",
       "607.0       44\n",
       "608.0       36\n",
       "609.0       43\n",
       "610.0      118\n",
       "611.0       47\n",
       "612.0       47\n",
       "613.0       42\n",
       "614.0       39\n",
       "615.0      244\n",
       "616.0       45\n",
       "617.0       39\n",
       "618.0       45\n",
       "619.0       50\n",
       "620.0      163\n",
       "621.0       35\n",
       "622.0       55\n",
       "623.0       50\n",
       "624.0       45\n",
       "625.0      106\n",
       "626.0       57\n",
       "627.0       34\n",
       "628.0       55\n",
       "629.0       49\n",
       "630.0      588\n",
       "631.0       52\n",
       "632.0       54\n",
       "633.0       50\n",
       "634.0       64\n",
       "635.0      128\n",
       "636.0       63\n",
       "637.0       73\n",
       "638.0       66\n",
       "639.0       59\n",
       "640.0      167\n",
       "641.0       49\n",
       "642.0       67\n",
       "643.0       66\n",
       "644.0       50\n",
       "645.0      394\n",
       "646.0       67\n",
       "647.0       60\n",
       "648.0       91\n",
       "649.0       71\n",
       "650.0      212\n",
       "651.0       64\n",
       "652.0       73\n",
       "653.0       75\n",
       "654.0       61\n",
       "655.0      130\n",
       "656.0       74\n",
       "657.0       65\n",
       "658.0       77\n",
       "659.0       64\n",
       "700.0      720\n",
       "701.0       53\n",
       "702.0       79\n",
       "703.0       66\n",
       "704.0       83\n",
       "705.0      145\n",
       "706.0       71\n",
       "707.0       81\n",
       "708.0       82\n",
       "709.0       68\n",
       "710.0      250\n",
       "711.0       64\n",
       "712.0       77\n",
       "713.0       66\n",
       "714.0       79\n",
       "715.0      437\n",
       "716.0       77\n",
       "717.0       92\n",
       "718.0       64\n",
       "719.0       65\n",
       "720.0      265\n",
       "721.0       82\n",
       "722.0       85\n",
       "723.0       57\n",
       "724.0       77\n",
       "725.0      168\n",
       "726.0       98\n",
       "727.0       81\n",
       "728.0       85\n",
       "729.0      109\n",
       "730.0      830\n",
       "731.0       65\n",
       "732.0       73\n",
       "733.0       85\n",
       "734.0       97\n",
       "735.0      183\n",
       "736.0       82\n",
       "737.0      106\n",
       "738.0      102\n",
       "739.0       88\n",
       "740.0      249\n",
       "741.0       67\n",
       "742.0       98\n",
       "743.0      106\n",
       "744.0      108\n",
       "745.0      482\n",
       "746.0       95\n",
       "747.0       85\n",
       "748.0      109\n",
       "749.0       81\n",
       "750.0      310\n",
       "751.0       78\n",
       "752.0      117\n",
       "753.0      103\n",
       "754.0       88\n",
       "755.0      192\n",
       "756.0       98\n",
       "757.0       89\n",
       "758.0      137\n",
       "759.0      108\n",
       "800.0     1139\n",
       "801.0      105\n",
       "802.0       88\n",
       "803.0      110\n",
       "804.0      106\n",
       "805.0      212\n",
       "806.0      100\n",
       "807.0       74\n",
       "808.0      121\n",
       "809.0      118\n",
       "810.0      272\n",
       "811.0       99\n",
       "812.0      105\n",
       "813.0       98\n",
       "814.0       81\n",
       "815.0      498\n",
       "816.0       95\n",
       "817.0      112\n",
       "818.0      110\n",
       "819.0       97\n",
       "820.0      305\n",
       "821.0       91\n",
       "822.0      102\n",
       "823.0       94\n",
       "824.0      103\n",
       "825.0      215\n",
       "826.0       95\n",
       "827.0      103\n",
       "828.0       87\n",
       "829.0      100\n",
       "830.0     1061\n",
       "831.0       92\n",
       "832.0      118\n",
       "833.0      122\n",
       "834.0      135\n",
       "835.0      166\n",
       "836.0      119\n",
       "837.0       95\n",
       "838.0      105\n",
       "839.0       89\n",
       "840.0      307\n",
       "841.0       80\n",
       "842.0      103\n",
       "843.0      106\n",
       "844.0       96\n",
       "845.0      531\n",
       "846.0       95\n",
       "847.0      116\n",
       "848.0      116\n",
       "849.0       86\n",
       "850.0      313\n",
       "851.0      107\n",
       "852.0      117\n",
       "853.0      115\n",
       "854.0       97\n",
       "855.0      217\n",
       "856.0       96\n",
       "857.0       97\n",
       "858.0      102\n",
       "859.0       98\n",
       "900.0     1258\n",
       "901.0      101\n",
       "902.0      100\n",
       "903.0       94\n",
       "904.0      113\n",
       "905.0      186\n",
       "906.0       86\n",
       "907.0       90\n",
       "908.0      108\n",
       "909.0       99\n",
       "910.0      258\n",
       "911.0       70\n",
       "912.0      106\n",
       "913.0      104\n",
       "914.0       90\n",
       "915.0      522\n",
       "916.0       87\n",
       "917.0       98\n",
       "918.0       92\n",
       "919.0       82\n",
       "920.0      316\n",
       "921.0       97\n",
       "922.0       95\n",
       "923.0       69\n",
       "924.0       91\n",
       "925.0      191\n",
       "926.0       70\n",
       "927.0       77\n",
       "928.0      102\n",
       "929.0       73\n",
       "930.0     1241\n",
       "931.0       76\n",
       "932.0      112\n",
       "933.0      112\n",
       "934.0      110\n",
       "935.0      212\n",
       "936.0       72\n",
       "937.0      117\n",
       "938.0       82\n",
       "939.0       83\n",
       "940.0      259\n",
       "941.0       94\n",
       "942.0      111\n",
       "943.0      106\n",
       "944.0       69\n",
       "945.0      568\n",
       "946.0       68\n",
       "947.0       75\n",
       "948.0       98\n",
       "949.0       80\n",
       "950.0      313\n",
       "951.0       84\n",
       "952.0      106\n",
       "953.0      102\n",
       "954.0       77\n",
       "955.0      170\n",
       "956.0      108\n",
       "957.0       73\n",
       "958.0       82\n",
       "959.0       72\n",
       "960.0        2\n",
       "1000.0    1606\n",
       "1001.0      84\n",
       "1002.0      71\n",
       "1003.0      64\n",
       "1004.0      89\n",
       "1005.0     181\n",
       "1006.0      90\n",
       "1007.0      80\n",
       "1008.0      95\n",
       "1009.0      76\n",
       "1010.0     300\n",
       "1011.0      80\n",
       "1012.0      70\n",
       "1013.0      91\n",
       "1014.0      69\n",
       "1015.0     637\n",
       "1016.0      79\n",
       "1017.0      78\n",
       "1018.0     115\n",
       "1019.0      65\n",
       "1020.0     309\n",
       "1021.0      83\n",
       "1022.0      90\n",
       "1023.0      85\n",
       "1024.0      75\n",
       "1025.0     187\n",
       "1026.0      74\n",
       "1027.0      70\n",
       "1028.0      74\n",
       "1029.0      67\n",
       "1030.0    1527\n",
       "1031.0      83\n",
       "1032.0      69\n",
       "1033.0      77\n",
       "1034.0      81\n",
       "1035.0     227\n",
       "1036.0      71\n",
       "1037.0      91\n",
       "1038.0      84\n",
       "1039.0      86\n",
       "1040.0     307\n",
       "1041.0      70\n",
       "1042.0      88\n",
       "1043.0      93\n",
       "1044.0      63\n",
       "1045.0     673\n",
       "1046.0      82\n",
       "1047.0      85\n",
       "1048.0      76\n",
       "1049.0      83\n",
       "1050.0     357\n",
       "1051.0      75\n",
       "1052.0     100\n",
       "1053.0      68\n",
       "1054.0      86\n",
       "1055.0     189\n",
       "1056.0     100\n",
       "1057.0     104\n",
       "1058.0      83\n",
       "1059.0      68\n",
       "1063.0       1\n",
       "1100.0    1822\n",
       "1101.0      61\n",
       "1102.0      94\n",
       "1103.0      96\n",
       "1104.0     103\n",
       "1105.0     211\n",
       "1106.0      87\n",
       "1107.0      83\n",
       "1108.0      84\n",
       "1109.0      79\n",
       "1110.0     302\n",
       "1111.0      89\n",
       "1112.0      82\n",
       "1113.0      94\n",
       "1114.0     103\n",
       "1115.0     668\n",
       "1116.0      73\n",
       "1117.0      68\n",
       "1118.0      83\n",
       "1119.0      81\n",
       "1120.0     409\n",
       "1121.0      91\n",
       "1122.0      74\n",
       "1123.0      90\n",
       "1124.0      76\n",
       "1125.0     216\n",
       "1126.0      76\n",
       "1127.0      73\n",
       "1128.0      71\n",
       "1129.0      67\n",
       "1130.0    1697\n",
       "1131.0      83\n",
       "1132.0      74\n",
       "1133.0      80\n",
       "1134.0      78\n",
       "1135.0     203\n",
       "1136.0     101\n",
       "1137.0      91\n",
       "1138.0      97\n",
       "1139.0      65\n",
       "1140.0     351\n",
       "1141.0      81\n",
       "1142.0     124\n",
       "1143.0      90\n",
       "1144.0      79\n",
       "1145.0     729\n",
       "1146.0      95\n",
       "1147.0      92\n",
       "1148.0     113\n",
       "1149.0      79\n",
       "1150.0     397\n",
       "1151.0      85\n",
       "1152.0      78\n",
       "1153.0      94\n",
       "1154.0      87\n",
       "1155.0     214\n",
       "1156.0      96\n",
       "1157.0     102\n",
       "1158.0     121\n",
       "1159.0      83\n",
       "1162.0       1\n",
       "1191.0       2\n",
       "1197.0       1\n",
       "1200.0    2374\n",
       "1201.0      72\n",
       "1202.0      81\n",
       "1203.0      97\n",
       "1204.0      99\n",
       "1205.0     237\n",
       "1206.0     115\n",
       "1207.0      92\n",
       "1208.0      84\n",
       "1209.0      86\n",
       "1210.0     379\n",
       "1211.0      84\n",
       "1212.0      79\n",
       "1213.0      85\n",
       "1214.0     114\n",
       "1215.0     721\n",
       "1216.0      88\n",
       "1217.0      89\n",
       "1218.0     100\n",
       "1219.0      89\n",
       "1220.0     423\n",
       "1221.0     106\n",
       "1222.0      98\n",
       "1223.0     108\n",
       "1224.0      82\n",
       "1225.0     210\n",
       "1226.0     104\n",
       "1227.0      84\n",
       "1228.0     103\n",
       "1229.0     103\n",
       "1230.0    1540\n",
       "1231.0      87\n",
       "1232.0      84\n",
       "1233.0     108\n",
       "1234.0      96\n",
       "1235.0     233\n",
       "1236.0      96\n",
       "1237.0     116\n",
       "1238.0     114\n",
       "1239.0     117\n",
       "1240.0     344\n",
       "1241.0      99\n",
       "1242.0      92\n",
       "1243.0      76\n",
       "1244.0     104\n",
       "1245.0     696\n",
       "1246.0      97\n",
       "1247.0      93\n",
       "1248.0      92\n",
       "1249.0      95\n",
       "1250.0     352\n",
       "1251.0      96\n",
       "1252.0      99\n",
       "1253.0      98\n",
       "1254.0      88\n",
       "1255.0     213\n",
       "1256.0     114\n",
       "1257.0      91\n",
       "1258.0      85\n",
       "1259.0     115\n",
       "1299.0       2\n",
       "1300.0    2201\n",
       "1301.0      95\n",
       "1302.0      86\n",
       "1303.0      91\n",
       "1304.0     110\n",
       "1305.0     267\n",
       "1306.0     100\n",
       "1307.0     127\n",
       "1308.0     109\n",
       "1309.0      96\n",
       "1310.0     405\n",
       "1311.0     111\n",
       "1312.0     117\n",
       "1313.0     112\n",
       "1314.0      96\n",
       "1315.0     811\n",
       "1316.0     119\n",
       "1317.0     107\n",
       "1318.0     103\n",
       "1319.0     112\n",
       "1320.0     420\n",
       "1321.0      98\n",
       "1322.0     110\n",
       "1323.0     110\n",
       "1324.0     104\n",
       "1325.0     234\n",
       "1326.0      88\n",
       "1327.0     114\n",
       "1328.0     101\n",
       "1329.0      86\n",
       "1330.0    1726\n",
       "1331.0      96\n",
       "1332.0     102\n",
       "1333.0     118\n",
       "1334.0     112\n",
       "1335.0     257\n",
       "1336.0     107\n",
       "1337.0      97\n",
       "1338.0     127\n",
       "1339.0     102\n",
       "1340.0     422\n",
       "1341.0     101\n",
       "1342.0     107\n",
       "1343.0     108\n",
       "1344.0      96\n",
       "1345.0     723\n",
       "1346.0      94\n",
       "1347.0     102\n",
       "1348.0     125\n",
       "1349.0      92\n",
       "1350.0     460\n",
       "1351.0     103\n",
       "1352.0      94\n",
       "1353.0     118\n",
       "1354.0     129\n",
       "1355.0     223\n",
       "1356.0     106\n",
       "1357.0      98\n",
       "1358.0      94\n",
       "1359.0      89\n",
       "1365.0       1\n",
       "1368.0       2\n",
       "1398.0       1\n",
       "1400.0    2338\n",
       "1401.0     103\n",
       "1402.0     102\n",
       "1403.0     118\n",
       "1404.0     102\n",
       "1405.0     216\n",
       "1406.0     135\n",
       "1407.0      91\n",
       "1408.0     132\n",
       "1409.0     101\n",
       "1410.0     409\n",
       "1411.0     110\n",
       "1412.0     101\n",
       "1413.0     121\n",
       "1414.0     100\n",
       "1415.0     861\n",
       "1416.0     105\n",
       "1417.0     116\n",
       "1418.0     103\n",
       "1419.0      87\n",
       "1420.0     515\n",
       "1421.0     119\n",
       "1422.0     117\n",
       "1423.0     107\n",
       "1424.0      88\n",
       "1425.0     266\n",
       "1426.0      95\n",
       "1427.0     147\n",
       "1428.0     126\n",
       "1429.0     111\n",
       "1430.0    1987\n",
       "1431.0     123\n",
       "1432.0     114\n",
       "1433.0     108\n",
       "1434.0     139\n",
       "1435.0     279\n",
       "1436.0     124\n",
       "1437.0     125\n",
       "1438.0     125\n",
       "1439.0     117\n",
       "1440.0     441\n",
       "1441.0     105\n",
       "1442.0     127\n",
       "1443.0     127\n",
       "1444.0     109\n",
       "1445.0     847\n",
       "1446.0     119\n",
       "1447.0     126\n",
       "1448.0     160\n",
       "1449.0     109\n",
       "1450.0     487\n",
       "1451.0     128\n",
       "1452.0     122\n",
       "1453.0     150\n",
       "1454.0     109\n",
       "1455.0     214\n",
       "1456.0     133\n",
       "1457.0     107\n",
       "1458.0     119\n",
       "1459.0      99\n",
       "1463.0       1\n",
       "1475.0       1\n",
       "1480.0       1\n",
       "1490.0       1\n",
       "1500.0    2463\n",
       "1501.0     107\n",
       "1502.0     133\n",
       "1503.0     140\n",
       "1504.0      99\n",
       "1505.0     260\n",
       "1506.0     107\n",
       "1507.0     133\n",
       "1508.0     105\n",
       "1509.0     131\n",
       "1510.0     437\n",
       "1511.0     143\n",
       "1512.0     118\n",
       "1513.0     119\n",
       "1514.0     124\n",
       "1515.0     867\n",
       "1516.0     145\n",
       "1517.0     132\n",
       "1518.0     144\n",
       "1519.0     145\n",
       "1520.0     554\n",
       "1521.0     120\n",
       "1522.0     146\n",
       "1523.0     146\n",
       "1524.0     141\n",
       "1525.0     290\n",
       "1526.0     139\n",
       "1527.0     117\n",
       "1528.0     168\n",
       "1529.0     135\n",
       "1530.0    2094\n",
       "1531.0     120\n",
       "1532.0     149\n",
       "1533.0     136\n",
       "1534.0     125\n",
       "1535.0     318\n",
       "1536.0     111\n",
       "1537.0     167\n",
       "1538.0     162\n",
       "1539.0     166\n",
       "1540.0     488\n",
       "1541.0     144\n",
       "1542.0     132\n",
       "1543.0     132\n",
       "1544.0     129\n",
       "1545.0     944\n",
       "1546.0     154\n",
       "1547.0     167\n",
       "1548.0     140\n",
       "1549.0     129\n",
       "1550.0     477\n",
       "1551.0     150\n",
       "1552.0     107\n",
       "1553.0     141\n",
       "1554.0     144\n",
       "1555.0     304\n",
       "1556.0     127\n",
       "1557.0     149\n",
       "1558.0     139\n",
       "1559.0      93\n",
       "1563.0       2\n",
       "1577.0       2\n",
       "1586.0       1\n",
       "1590.0       1\n",
       "1593.0       2\n",
       "1600.0    2507\n",
       "1601.0     139\n",
       "1602.0     142\n",
       "1603.0     138\n",
       "1604.0     119\n",
       "1605.0     322\n",
       "1606.0     171\n",
       "1607.0     133\n",
       "1608.0     139\n",
       "1609.0     116\n",
       "1610.0     465\n",
       "1611.0     138\n",
       "1612.0     139\n",
       "1613.0     130\n",
       "1614.0     157\n",
       "1615.0     873\n",
       "1616.0     155\n",
       "1617.0     121\n",
       "1618.0     126\n",
       "1619.0     117\n",
       "1620.0     520\n",
       "1621.0     144\n",
       "1622.0     132\n",
       "1623.0     114\n",
       "1624.0     157\n",
       "1625.0     279\n",
       "1626.0     101\n",
       "1627.0     128\n",
       "1628.0     121\n",
       "1629.0     132\n",
       "1630.0    1848\n",
       "1631.0     132\n",
       "1632.0     155\n",
       "1633.0     118\n",
       "1634.0     125\n",
       "1635.0     290\n",
       "1636.0     136\n",
       "1637.0     121\n",
       "1638.0     100\n",
       "1639.0     135\n",
       "1640.0     455\n",
       "1641.0     127\n",
       "1642.0     128\n",
       "1643.0     166\n",
       "1644.0     122\n",
       "1645.0     895\n",
       "1646.0     118\n",
       "1647.0     127\n",
       "1648.0     130\n",
       "1649.0     122\n",
       "1650.0     450\n",
       "1651.0     129\n",
       "1652.0     150\n",
       "1653.0     136\n",
       "1654.0     141\n",
       "1655.0     231\n",
       "1656.0     119\n",
       "1657.0     135\n",
       "1658.0     131\n",
       "1659.0     138\n",
       "1662.0       1\n",
       "1678.0       1\n",
       "1681.0       2\n",
       "1690.0       1\n",
       "1700.0    2033\n",
       "1701.0     116\n",
       "1702.0     128\n",
       "1703.0     120\n",
       "1704.0     114\n",
       "1705.0     286\n",
       "1706.0     114\n",
       "1707.0     115\n",
       "1708.0     145\n",
       "1709.0     132\n",
       "1710.0     443\n",
       "1711.0     118\n",
       "1712.0     147\n",
       "1713.0     150\n",
       "1714.0     112\n",
       "1715.0     792\n",
       "1716.0     128\n",
       "1717.0     144\n",
       "1718.0     154\n",
       "1719.0     139\n",
       "1720.0     470\n",
       "1721.0     130\n",
       "1722.0     154\n",
       "1723.0     143\n",
       "1724.0     155\n",
       "1725.0     292\n",
       "1726.0     160\n",
       "1727.0     127\n",
       "1728.0     141\n",
       "1729.0     109\n",
       "1730.0    1634\n",
       "1731.0     117\n",
       "1732.0     111\n",
       "1733.0     154\n",
       "1734.0     144\n",
       "1735.0     275\n",
       "1736.0     148\n",
       "1737.0     116\n",
       "1738.0     135\n",
       "1739.0     122\n",
       "1740.0     449\n",
       "1741.0     116\n",
       "1742.0     132\n",
       "1743.0     120\n",
       "1744.0     110\n",
       "1745.0     842\n",
       "1746.0     118\n",
       "1747.0     160\n",
       "1748.0     160\n",
       "1749.0     119\n",
       "1750.0     465\n",
       "1751.0     138\n",
       "1752.0     105\n",
       "1753.0     139\n",
       "1754.0     125\n",
       "1755.0     249\n",
       "1756.0     125\n",
       "1757.0     135\n",
       "1758.0     145\n",
       "1759.0     153\n",
       "1763.0       1\n",
       "1800.0    1830\n",
       "1801.0     132\n",
       "1802.0     113\n",
       "1803.0     137\n",
       "1804.0     110\n",
       "1805.0     269\n",
       "1806.0     126\n",
       "1807.0     111\n",
       "1808.0     117\n",
       "1809.0     156\n",
       "1810.0     377\n",
       "1811.0     104\n",
       "1812.0     149\n",
       "1813.0     127\n",
       "1814.0      97\n",
       "1815.0     623\n",
       "1816.0     139\n",
       "1817.0     118\n",
       "1818.0     126\n",
       "1819.0     118\n",
       "1820.0     404\n",
       "1821.0     107\n",
       "1822.0     142\n",
       "1823.0     106\n",
       "1824.0     167\n",
       "1825.0     266\n",
       "1826.0      90\n",
       "1827.0     121\n",
       "1828.0      97\n",
       "1829.0     131\n",
       "1830.0    1273\n",
       "1831.0     120\n",
       "1832.0     122\n",
       "1833.0     118\n",
       "1834.0     109\n",
       "1835.0     235\n",
       "1836.0     154\n",
       "1837.0     102\n",
       "1838.0     104\n",
       "1839.0     100\n",
       "1840.0     337\n",
       "1841.0     102\n",
       "1842.0     127\n",
       "1843.0     132\n",
       "1844.0     107\n",
       "1845.0     675\n",
       "1846.0     134\n",
       "1847.0     105\n",
       "1848.0     117\n",
       "1849.0     127\n",
       "1850.0     323\n",
       "1851.0     109\n",
       "1852.0      66\n",
       "1853.0     114\n",
       "1854.0     131\n",
       "1855.0     169\n",
       "1856.0     128\n",
       "1857.0     101\n",
       "1858.0      73\n",
       "1859.0      96\n",
       "1860.0       1\n",
       "1865.0       2\n",
       "1893.0       1\n",
       "1895.0       1\n",
       "1900.0    1382\n",
       "1901.0     105\n",
       "1902.0     103\n",
       "1903.0      92\n",
       "1904.0      97\n",
       "1905.0     168\n",
       "1906.0      93\n",
       "1907.0     107\n",
       "1908.0      88\n",
       "1909.0     100\n",
       "1910.0     281\n",
       "1911.0      96\n",
       "1912.0     110\n",
       "1913.0      97\n",
       "1914.0     114\n",
       "1915.0     522\n",
       "1916.0     103\n",
       "1917.0     112\n",
       "1918.0      93\n",
       "1919.0     100\n",
       "1920.0     274\n",
       "1921.0      85\n",
       "1922.0      86\n",
       "1923.0      75\n",
       "1924.0     101\n",
       "1925.0     171\n",
       "1926.0      84\n",
       "1927.0     104\n",
       "1928.0      91\n",
       "1929.0      98\n",
       "1930.0    1059\n",
       "1931.0      79\n",
       "1932.0      90\n",
       "1933.0      78\n",
       "1934.0      86\n",
       "1935.0     161\n",
       "1936.0      69\n",
       "1937.0      89\n",
       "1938.0      69\n",
       "1939.0      68\n",
       "1940.0     282\n",
       "1941.0      65\n",
       "1942.0      80\n",
       "1943.0     103\n",
       "1944.0      67\n",
       "1945.0     427\n",
       "1946.0      69\n",
       "1947.0      79\n",
       "1948.0      81\n",
       "1949.0      59\n",
       "1950.0     230\n",
       "1951.0      74\n",
       "1952.0     101\n",
       "1953.0      47\n",
       "1954.0      87\n",
       "1955.0     134\n",
       "1956.0      76\n",
       "1957.0      83\n",
       "1958.0      62\n",
       "1959.0      65\n",
       "1975.0       1\n",
       "1990.0       1\n",
       "2000.0    1052\n",
       "2001.0      74\n",
       "2002.0      52\n",
       "2003.0      86\n",
       "2004.0      70\n",
       "2005.0     156\n",
       "2006.0      68\n",
       "2007.0      82\n",
       "2008.0      76\n",
       "2009.0      73\n",
       "2010.0     245\n",
       "2011.0      69\n",
       "2012.0      75\n",
       "2013.0      58\n",
       "2014.0      69\n",
       "2015.0     421\n",
       "2016.0      58\n",
       "2017.0      74\n",
       "2018.0      71\n",
       "2019.0      45\n",
       "2020.0     240\n",
       "2021.0      75\n",
       "2022.0      85\n",
       "2023.0      54\n",
       "2024.0      64\n",
       "2025.0     112\n",
       "2026.0      58\n",
       "2027.0      65\n",
       "2028.0      49\n",
       "2029.0      48\n",
       "2030.0     900\n",
       "2031.0      45\n",
       "2032.0      51\n",
       "2033.0      66\n",
       "2034.0      62\n",
       "2035.0     120\n",
       "2036.0      52\n",
       "2037.0      68\n",
       "2038.0      70\n",
       "2039.0      55\n",
       "2040.0     168\n",
       "2041.0      56\n",
       "2042.0      59\n",
       "2043.0      71\n",
       "2044.0      49\n",
       "2045.0     352\n",
       "2046.0      59\n",
       "2047.0      38\n",
       "2048.0      63\n",
       "2049.0      67\n",
       "2050.0     179\n",
       "2051.0      59\n",
       "2052.0      47\n",
       "2053.0      50\n",
       "2054.0      52\n",
       "2055.0      88\n",
       "2056.0      50\n",
       "2057.0      48\n",
       "2058.0      67\n",
       "2059.0      44\n",
       "2100.0     901\n",
       "2101.0      49\n",
       "2102.0      46\n",
       "2103.0      52\n",
       "2104.0      45\n",
       "2105.0     110\n",
       "2106.0      68\n",
       "2107.0      54\n",
       "2108.0      64\n",
       "2109.0      48\n",
       "2110.0     185\n",
       "2111.0      75\n",
       "2112.0      63\n",
       "2113.0      51\n",
       "2114.0      66\n",
       "2115.0     361\n",
       "2116.0      48\n",
       "2117.0      67\n",
       "2118.0      51\n",
       "2119.0      63\n",
       "2120.0     195\n",
       "2121.0      87\n",
       "2122.0      54\n",
       "2123.0      68\n",
       "2124.0      63\n",
       "2125.0      82\n",
       "2126.0      67\n",
       "2127.0      54\n",
       "2128.0      66\n",
       "2129.0      42\n",
       "2130.0     787\n",
       "2131.0      56\n",
       "2132.0      53\n",
       "2133.0      71\n",
       "2134.0      38\n",
       "2135.0     145\n",
       "2136.0      57\n",
       "2137.0      43\n",
       "2138.0      57\n",
       "2139.0      36\n",
       "2140.0     198\n",
       "2141.0      45\n",
       "2142.0      56\n",
       "2143.0      67\n",
       "2144.0      69\n",
       "2145.0     347\n",
       "2146.0      41\n",
       "2147.0      51\n",
       "2148.0      60\n",
       "2149.0      41\n",
       "2150.0     186\n",
       "2151.0      47\n",
       "2152.0      57\n",
       "2153.0      31\n",
       "2154.0      68\n",
       "2155.0      95\n",
       "2156.0      43\n",
       "2157.0      55\n",
       "2158.0      91\n",
       "2159.0      35\n",
       "2170.0       1\n",
       "2200.0     777\n",
       "2201.0      53\n",
       "2202.0      67\n",
       "2203.0      30\n",
       "2204.0      62\n",
       "2205.0      88\n",
       "2206.0      49\n",
       "2207.0      55\n",
       "2208.0      65\n",
       "2209.0      48\n",
       "2210.0     157\n",
       "2211.0      44\n",
       "2212.0      49\n",
       "2213.0      49\n",
       "2214.0      53\n",
       "2215.0     313\n",
       "2216.0      52\n",
       "2217.0      52\n",
       "2218.0      46\n",
       "2219.0      55\n",
       "2220.0     162\n",
       "2221.0      49\n",
       "2222.0      46\n",
       "2223.0      54\n",
       "2224.0      43\n",
       "2225.0     103\n",
       "2226.0      41\n",
       "2227.0      56\n",
       "2228.0      51\n",
       "2229.0      57\n",
       "2230.0     675\n",
       "2231.0      58\n",
       "2232.0      57\n",
       "2233.0      50\n",
       "2234.0      52\n",
       "2235.0      92\n",
       "2236.0      71\n",
       "2237.0      41\n",
       "2238.0      56\n",
       "2239.0      61\n",
       "2240.0     130\n",
       "2241.0      59\n",
       "2242.0      62\n",
       "2243.0      60\n",
       "2244.0      41\n",
       "2245.0     270\n",
       "2246.0      62\n",
       "2247.0      53\n",
       "2248.0      73\n",
       "2249.0      46\n",
       "2250.0     154\n",
       "2251.0      66\n",
       "2252.0      42\n",
       "2253.0      50\n",
       "2254.0      51\n",
       "2255.0      75\n",
       "2256.0      51\n",
       "2257.0      42\n",
       "2258.0      72\n",
       "2259.0      49\n",
       "2290.0       1\n",
       "2300.0     691\n",
       "2301.0      42\n",
       "2302.0      47\n",
       "2303.0      42\n",
       "2304.0      62\n",
       "2305.0      80\n",
       "2306.0      57\n",
       "2307.0      44\n",
       "2308.0      42\n",
       "2309.0      46\n",
       "2310.0     112\n",
       "2311.0      67\n",
       "2312.0      33\n",
       "2313.0      37\n",
       "2314.0      47\n",
       "2315.0     242\n",
       "2316.0      54\n",
       "2317.0      47\n",
       "2318.0      63\n",
       "2319.0      45\n",
       "2320.0     120\n",
       "2321.0      63\n",
       "2322.0      55\n",
       "2323.0      48\n",
       "2324.0      70\n",
       "2325.0      57\n",
       "2326.0      40\n",
       "2327.0      45\n",
       "2328.0      54\n",
       "2329.0      58\n",
       "2330.0     537\n",
       "2331.0      46\n",
       "2332.0      41\n",
       "2333.0      49\n",
       "2334.0      49\n",
       "2335.0      75\n",
       "2336.0      23\n",
       "2337.0      47\n",
       "2338.0      56\n",
       "2339.0      37\n",
       "2340.0     106\n",
       "2341.0      49\n",
       "2342.0      57\n",
       "2343.0      61\n",
       "2344.0      49\n",
       "2345.0     234\n",
       "2346.0      63\n",
       "2347.0      42\n",
       "2348.0      42\n",
       "2349.0      42\n",
       "2350.0     121\n",
       "2351.0      38\n",
       "2352.0      40\n",
       "2353.0      55\n",
       "2354.0      34\n",
       "2355.0      93\n",
       "2356.0      32\n",
       "2357.0      21\n",
       "2358.0      40\n",
       "2359.0      52\n",
       "2378.0       1\n",
       "2400.0      46\n",
       "2415.0       1\n",
       "2430.0       1\n",
       "2450.0       1\n",
       "5140.0       1\n",
       "8670.0       1\n",
       "9999.0      92\n",
       "Name: CRASH_TIME, dtype: int64"
      ]
     },
     "execution_count": 24,
     "metadata": {},
     "output_type": "execute_result"
    }
   ],
   "source": [
    "cds_crash['CRASH_TIME'].value_counts().sort_index()\n",
    "# order if statements in for loop from most to least common to increase speed"
   ]
  },
  {
   "cell_type": "code",
   "execution_count": 25,
   "metadata": {},
   "outputs": [
    {
     "data": {
      "text/plain": [
       "0    2007-04-25 00:00:00.0000000\n",
       "1    2007-08-04 00:00:00.0000000\n",
       "2    2009-11-17 00:00:00.0000000\n",
       "3    2012-10-09 00:00:00.0000000\n",
       "4    2014-06-10 00:00:00.0000000\n",
       "Name: CRASH_DATE, dtype: object"
      ]
     },
     "execution_count": 25,
     "metadata": {},
     "output_type": "execute_result"
    }
   ],
   "source": [
    "cds_crash['CRASH_DATE'].head()"
   ]
  },
  {
   "cell_type": "code",
   "execution_count": 26,
   "metadata": {},
   "outputs": [
    {
     "data": {
      "text/plain": [
       "0     750.0\n",
       "1    1755.0\n",
       "2    1709.0\n",
       "3    1100.0\n",
       "4    1635.0\n",
       "Name: CRASH_TIME, dtype: float64"
      ]
     },
     "execution_count": 26,
     "metadata": {},
     "output_type": "execute_result"
    }
   ],
   "source": [
    "cds_crash['CRASH_TIME'].head()"
   ]
  },
  {
   "cell_type": "code",
   "execution_count": 27,
   "metadata": {},
   "outputs": [
    {
     "name": "stderr",
     "output_type": "stream",
     "text": [
      "C:\\Users\\Sophie.Kaye\\Anaconda3\\lib\\site-packages\\pandas\\core\\indexing.py:1637: SettingWithCopyWarning: \n",
      "A value is trying to be set on a copy of a slice from a DataFrame\n",
      "\n",
      "See the caveats in the documentation: https://pandas.pydata.org/pandas-docs/stable/user_guide/indexing.html#returning-a-view-versus-a-copy\n",
      "  self._setitem_single_block(indexer, value, name)\n"
     ]
    },
    {
     "data": {
      "text/html": [
       "<div>\n",
       "<style scoped>\n",
       "    .dataframe tbody tr th:only-of-type {\n",
       "        vertical-align: middle;\n",
       "    }\n",
       "\n",
       "    .dataframe tbody tr th {\n",
       "        vertical-align: top;\n",
       "    }\n",
       "\n",
       "    .dataframe thead th {\n",
       "        text-align: right;\n",
       "    }\n",
       "</style>\n",
       "<table border=\"1\" class=\"dataframe\">\n",
       "  <thead>\n",
       "    <tr style=\"text-align: right;\">\n",
       "      <th></th>\n",
       "      <th>INCID_NO</th>\n",
       "      <th>LATITUDE</th>\n",
       "      <th>LONGITUDE</th>\n",
       "      <th>Park</th>\n",
       "      <th>RGN</th>\n",
       "      <th>YEAR</th>\n",
       "      <th>MONTH</th>\n",
       "      <th>DOW</th>\n",
       "      <th>HOUR</th>\n",
       "    </tr>\n",
       "  </thead>\n",
       "  <tbody>\n",
       "    <tr>\n",
       "      <th>0</th>\n",
       "      <td>ABLI070425075000</td>\n",
       "      <td>NaN</td>\n",
       "      <td>NaN</td>\n",
       "      <td>ABLI</td>\n",
       "      <td>SER</td>\n",
       "      <td>2007.0</td>\n",
       "      <td>04</td>\n",
       "      <td>3</td>\n",
       "      <td>7</td>\n",
       "    </tr>\n",
       "    <tr>\n",
       "      <th>1</th>\n",
       "      <td>ABLI070804175500</td>\n",
       "      <td>NaN</td>\n",
       "      <td>NaN</td>\n",
       "      <td>ABLI</td>\n",
       "      <td>SER</td>\n",
       "      <td>2007.0</td>\n",
       "      <td>08</td>\n",
       "      <td>6</td>\n",
       "      <td>17</td>\n",
       "    </tr>\n",
       "    <tr>\n",
       "      <th>2</th>\n",
       "      <td>ABLI091117170900</td>\n",
       "      <td>NaN</td>\n",
       "      <td>NaN</td>\n",
       "      <td>ABLI</td>\n",
       "      <td>SER</td>\n",
       "      <td>2009.0</td>\n",
       "      <td>11</td>\n",
       "      <td>2</td>\n",
       "      <td>17</td>\n",
       "    </tr>\n",
       "    <tr>\n",
       "      <th>3</th>\n",
       "      <td>ABLI121009110000</td>\n",
       "      <td>NaN</td>\n",
       "      <td>NaN</td>\n",
       "      <td>ABLI</td>\n",
       "      <td>SER</td>\n",
       "      <td>2012.0</td>\n",
       "      <td>10</td>\n",
       "      <td>2</td>\n",
       "      <td>11</td>\n",
       "    </tr>\n",
       "    <tr>\n",
       "      <th>4</th>\n",
       "      <td>ABLI140610163500</td>\n",
       "      <td>38.91205</td>\n",
       "      <td>-76.93412</td>\n",
       "      <td>ABLI</td>\n",
       "      <td>SER</td>\n",
       "      <td>2014.0</td>\n",
       "      <td>06</td>\n",
       "      <td>2</td>\n",
       "      <td>16</td>\n",
       "    </tr>\n",
       "  </tbody>\n",
       "</table>\n",
       "</div>"
      ],
      "text/plain": [
       "           INCID_NO  LATITUDE  LONGITUDE  Park  RGN    YEAR MONTH DOW HOUR\n",
       "0  ABLI070425075000       NaN        NaN  ABLI  SER  2007.0    04   3    7\n",
       "1  ABLI070804175500       NaN        NaN  ABLI  SER  2007.0    08   6   17\n",
       "2  ABLI091117170900       NaN        NaN  ABLI  SER  2009.0    11   2   17\n",
       "3  ABLI121009110000       NaN        NaN  ABLI  SER  2012.0    10   2   11\n",
       "4  ABLI140610163500  38.91205  -76.93412  ABLI  SER  2014.0    06   2   16"
      ]
     },
     "execution_count": 27,
     "metadata": {},
     "output_type": "execute_result"
    }
   ],
   "source": [
    "# reformat crash date and time; separate into individual columns\n",
    "cds_crash = cds_crash.rename(columns={'CRASH_YEAR':'YEAR'})\n",
    "cds_crash['CRASH_DATE'] = pd.to_datetime(cds_crash['CRASH_DATE'], format='%Y%m%d %H:%M:%S.%f')\n",
    "cds_crash['MONTH'] = cds_crash['CRASH_DATE'].dt.strftime('%m')\n",
    "cds_crash['DOW'] = cds_crash['CRASH_DATE'].dt.strftime('%w')\n",
    "cds_crash['HOUR'] = 0 # initialize column with dummy data to replace with for loop\n",
    "length = range(cds_crash.shape[0])\n",
    "for i in length:\n",
    "    if cds_crash['CRASH_TIME'].iloc[i] > 999 and cds_crash['CRASH_TIME'].iloc[i] < 2400:\n",
    "        cds_crash['HOUR'].iloc[i] = int(str(cds_crash['CRASH_TIME'].iloc[i])[:2]) # parse first two digits from afternoon data in 24-hour timestamp\n",
    "    elif cds_crash['CRASH_TIME'].iloc[i] > 99 and cds_crash['CRASH_TIME'].iloc[i] < 1000:\n",
    "        cds_crash['HOUR'].iloc[i] = int(str(cds_crash['CRASH_TIME'].iloc[i])[:1]) # parse first digit from morning data in 24-hour timestamp\n",
    "    else:\n",
    "        cds_crash['HOUR'].iloc[i] = '0'\n",
    "cds_crash_slim = cds_crash[['INCID_NO','LATITUDE','LONGITUDE','Park','RGN','YEAR','MONTH','DOW','HOUR']]\n",
    "cds_crash_slim.head() # looks good!"
   ]
  },
  {
   "cell_type": "code",
   "execution_count": 41,
   "metadata": {},
   "outputs": [
    {
     "data": {
      "text/plain": [
       "15    15954\n",
       "16    15490\n",
       "17    14573\n",
       "14    14425\n",
       "13    13172\n",
       "18    12425\n",
       "12    12318\n",
       "11    11369\n",
       "10    10381\n",
       "8     10132\n",
       "9      9859\n",
       "19     9253\n",
       "7      8337\n",
       "20     6979\n",
       "21     6272\n",
       "22     5548\n",
       "6      5399\n",
       "23     4742\n",
       "0      3907\n",
       "1      3050\n",
       "2      2993\n",
       "5      2889\n",
       "3      2505\n",
       "4      1937\n",
       "Name: HOUR, dtype: int64"
      ]
     },
     "execution_count": 41,
     "metadata": {},
     "output_type": "execute_result"
    }
   ],
   "source": [
    "cds_crash_slim['HOUR'].value_counts() # to be sure that range (0-23) matches that of IMARS"
   ]
  },
  {
   "cell_type": "code",
   "execution_count": 29,
   "metadata": {},
   "outputs": [
    {
     "data": {
      "text/plain": [
       "(203909, 9)"
      ]
     },
     "execution_count": 29,
     "metadata": {},
     "output_type": "execute_result"
    }
   ],
   "source": [
    "cds_crash_slim.shape"
   ]
  },
  {
   "cell_type": "code",
   "execution_count": 30,
   "metadata": {},
   "outputs": [],
   "source": [
    "cds_crash_slim.to_csv('./CDS_crash_slim.csv',index=False)"
   ]
  },
  {
   "cell_type": "markdown",
   "metadata": {},
   "source": [
    "## Crash Details Table"
   ]
  },
  {
   "cell_type": "code",
   "execution_count": 70,
   "metadata": {},
   "outputs": [],
   "source": [
    "cds_crash_details_slim = cds_crash[['INCID_NO']]"
   ]
  },
  {
   "cell_type": "code",
   "execution_count": 71,
   "metadata": {},
   "outputs": [
    {
     "data": {
      "text/plain": [
       "Collision with Other Motor Vehicle     101521\n",
       "Collision with Fixed Object             47715\n",
       "Collision with Animal                   18927\n",
       "Non-collision                           14132\n",
       "Collision with Parked Motor Vehicle      8133\n",
       "Collision with Other Object              5383\n",
       "Unknown                                  2849\n",
       "Collision with Pedalcycle (Bicycle)      1493\n",
       "Collision with Pedestrian                1428\n",
       "Blank On Form                             822\n",
       "Non-Collision(Overturn)                    34\n",
       "Collision with Railway Train               32\n",
       "Name: CRASH_CLASS, dtype: int64"
      ]
     },
     "execution_count": 71,
     "metadata": {},
     "output_type": "execute_result"
    }
   ],
   "source": [
    "cds_crash['CRASH_CLASS'].value_counts()"
   ]
  },
  {
   "cell_type": "code",
   "execution_count": 72,
   "metadata": {},
   "outputs": [
    {
     "data": {
      "text/plain": [
       "Not Applicable        142603\n",
       "Tree/Shrub             16695\n",
       "Other Fixed Object      7979\n",
       "Guardrail/Barrier       6782\n",
       "Rock/Stone Wall         5702\n",
       "Unknown                 4595\n",
       "Ditch                   3124\n",
       "Pole                    2605\n",
       "Blank On Form           2598\n",
       "Sign                    2513\n",
       "Backslope               1968\n",
       "Boulder                 1844\n",
       "Bridge Structure        1413\n",
       "Barricade               1075\n",
       "Drainage Structure       563\n",
       "Culvert End Wall         436\n",
       "Embankment                19\n",
       "Name: OBJ_STRUCK, dtype: int64"
      ]
     },
     "execution_count": 72,
     "metadata": {},
     "output_type": "execute_result"
    }
   ],
   "source": [
    "cds_crash['OBJ_STRUCK'].value_counts()"
   ]
  },
  {
   "cell_type": "code",
   "execution_count": 73,
   "metadata": {},
   "outputs": [
    {
     "name": "stderr",
     "output_type": "stream",
     "text": [
      "<ipython-input-73-859d3331e671>:2: SettingWithCopyWarning: \n",
      "A value is trying to be set on a copy of a slice from a DataFrame.\n",
      "Try using .loc[row_indexer,col_indexer] = value instead\n",
      "\n",
      "See the caveats in the documentation: https://pandas.pydata.org/pandas-docs/stable/user_guide/indexing.html#returning-a-view-versus-a-copy\n",
      "  cds_crash_details_slim['First_Harmful_Event'] = \"0\" # initialize column with dummy data to replace with for loop\n",
      "C:\\Users\\Sophie.Kaye\\Anaconda3\\lib\\site-packages\\pandas\\core\\indexing.py:692: SettingWithCopyWarning: \n",
      "A value is trying to be set on a copy of a slice from a DataFrame\n",
      "\n",
      "See the caveats in the documentation: https://pandas.pydata.org/pandas-docs/stable/user_guide/indexing.html#returning-a-view-versus-a-copy\n",
      "  iloc._setitem_with_indexer(indexer, value, self.name)\n"
     ]
    },
    {
     "data": {
      "text/plain": [
       "21. Motor vehicle in transport                            101521\n",
       "66. Other fixed object                                     53194\n",
       "36. Other wild animal (crocodile, birds, coyote, etc.)     18927\n",
       "16. Other non-collision                                    13870\n",
       "22. Parked motor vehicle                                    8117\n",
       "99. Unknown                                                 4943\n",
       "18. Bicycle                                                 1479\n",
       "17. Pedestrian                                              1369\n",
       "52. Tree/shrub                                               345\n",
       "50. Wall                                                      48\n",
       "01. Overturn/rollover                                         29\n",
       "20. Railway vehicle                                           28\n",
       "53. Utility pole/light support                                14\n",
       "60. Rock, boulder, rock slide                                 11\n",
       "45. Ditch                                                     10\n",
       "43. End of drainage pipe/structure/culvert                     4\n",
       "Name: First_Harmful_Event, dtype: int64"
      ]
     },
     "execution_count": 73,
     "metadata": {},
     "output_type": "execute_result"
    }
   ],
   "source": [
    "# change strings to match IMARS (in order of from most to least common to increase speed)\n",
    "cds_crash_details_slim['First_Harmful_Event'] = \"0\" # initialize column with dummy data to replace with for loop\n",
    "length = range(cds_crash.shape[0])\n",
    "for i in length:\n",
    "    if cds_crash['CRASH_CLASS'].iloc[i]=='Collision with Other Motor Vehicle': # 101,521\n",
    "        cds_crash_details_slim['First_Harmful_Event'].iloc[i] = '21. Motor vehicle in transport' \n",
    "    elif cds_crash['CRASH_CLASS'].iloc[i] in (['Collision with Fixed Object', 'Collision with Other Object']): # 53,098\n",
    "        cds_crash_details_slim['First_Harmful_Event'].iloc[i] = '66. Other fixed object'\n",
    "    elif cds_crash['CRASH_CLASS'].iloc[i]=='Collision with Animal': # 18,927\n",
    "        cds_crash_details_slim['First_Harmful_Event'].iloc[i] = '36. Other wild animal (crocodile, birds, coyote, etc.)'\n",
    "    elif cds_crash['OBJ_STRUCK'].iloc[i]=='Tree/Shrub': # 16,695\n",
    "        cds_crash_details_slim['First_Harmful_Event'].iloc[i] = '52. Tree/shrub'\n",
    "    elif cds_crash['CRASH_CLASS'].iloc[i]=='Non-collision': # 14,132\n",
    "        cds_crash_details_slim['First_Harmful_Event'].iloc[i] = '16. Other non-collision'\n",
    "    elif cds_crash['CRASH_CLASS'].iloc[i]=='Collision with Parked Motor Vehicle': # 8,133\n",
    "        cds_crash_details_slim['First_Harmful_Event'].iloc[i] = '22. Parked motor vehicle'\n",
    "    elif cds_crash['OBJ_STRUCK'].iloc[i]=='Other Fixed Object': # 7,979\n",
    "        cds_crash_details_slim['First_Harmful_Event'].iloc[i] = '66. Other fixed object'\n",
    "    elif cds_crash['OBJ_STRUCK'].iloc[i] in (['Unknown', 'Blank On Form']): #7,193\n",
    "        cds_crash_details_slim['First_Harmful_Event'].iloc[i] = '99. Unknown'\n",
    "    elif cds_crash['OBJ_STRUCK'].iloc[i]=='Rock/Stone Wall': # 5,702\n",
    "        cds_crash_details_slim['First_Harmful_Event'].iloc[i] = '50. Wall'\n",
    "    elif cds_crash['CRASH_CLASS'].iloc[i] in ([\"Unknown\", \"Blank On Form\"]): # 3,671\n",
    "        cds_crash_details_slim['First_Harmful_Event'].iloc[i] = '99. Unknown'\n",
    "    elif cds_crash['OBJ_STRUCK'].iloc[i]=='Ditch': # 3,124\n",
    "        cds_crash_details_slim['First_Harmful_Event'].iloc[i] = '45. Ditch'\n",
    "    elif cds_crash['OBJ_STRUCK'].iloc[i]=='Pole': # 2,605\n",
    "        cds_crash_details_slim['First_Harmful_Event'].iloc[i] = '53. Utility pole/light support'\n",
    "    elif cds_crash['OBJ_STRUCK'].iloc[i]=='Boulder': # 1,844\n",
    "        cds_crash_details_slim['First_Harmful_Event'].iloc[i] = '60. Rock, boulder, rock slide'\n",
    "    elif cds_crash['CRASH_CLASS'].iloc[i]=='Collision with Pedalcycle (Bicycle)': # 1,493\n",
    "        cds_crash_details_slim['First_Harmful_Event'].iloc[i] = '18. Bicycle'\n",
    "    elif cds_crash['CRASH_CLASS'].iloc[i]=='Collision with Pedestrian': # 1,428\n",
    "        cds_crash_details_slim['First_Harmful_Event'].iloc[i] = '17. Pedestrian' \n",
    "    elif cds_crash['OBJ_STRUCK'].iloc[i] in (['Culvert End Wall','Drainage Structure']): # 999\n",
    "        cds_crash_details_slim['First_Harmful_Event'].iloc[i] = '43. End of drainage pipe/structure/culvert'\n",
    "    elif cds_crash['CRASH_CLASS'].iloc[i]=='Non-Collision(Overturn)': # 34\n",
    "        cds_crash_details_slim['First_Harmful_Event'].iloc[i] = '01. Overturn/rollover'\n",
    "    elif cds_crash['CRASH_CLASS'].iloc[i]=='Collision with Railway Train': # 32\n",
    "        cds_crash_details_slim['First_Harmful_Event'].iloc[i] = '20. Railway vehicle' \n",
    "    elif cds_crash['OBJ_STRUCK'].iloc[i]=='Embankment': # 19\n",
    "        cds_crash_details_slim['First_Harmful_Event'].iloc[i] = '46. Earth embankment/berm'  \n",
    "    else:\n",
    "        cds_crash_details_slim['First_Harmful_Event'].iloc[i] = '99. Unknown'\n",
    "\n",
    "cds_crash_details_slim['First_Harmful_Event'].value_counts() # see email sent to Wayne on 6/28 at 4:14PM regarding ambiguity of whether CRASH_CLASS or OBJ_STRUCK prevails"
   ]
  },
  {
   "cell_type": "code",
   "execution_count": 94,
   "metadata": {},
   "outputs": [
    {
     "data": {
      "text/plain": [
       "21. Motor vehicle in transport                            101521\n",
       "36. Other wild animal (crocodile, birds, coyote, etc.)     18927\n",
       "52. Tree/shrub                                             15497\n",
       "16. Other non-collision                                    14132\n",
       "0                                                          12951\n",
       "66. Other fixed object                                     12121\n",
       "22. Parked motor vehicle                                    8133\n",
       "99. Unknown                                                 5129\n",
       "50. Wall                                                    5024\n",
       "45. Ditch                                                   2538\n",
       "53. Utility pole/light support                              2383\n",
       "60. Rock, boulder, rock slide                               1707\n",
       "18. Bicycle                                                 1493\n",
       "17. Pedestrian                                              1428\n",
       "43. End of drainage pipe/structure/culvert                   845\n",
       "01. Overturn/rollover                                         34\n",
       "20. Railway vehicle                                           32\n",
       "46. Earth embankment/berm                                     14\n",
       "Name: First_Harmful_Event, dtype: int64"
      ]
     },
     "execution_count": 94,
     "metadata": {},
     "output_type": "execute_result"
    }
   ],
   "source": [
    "# change strings to match IMARS (in order of from most to least common to increase speed)\n",
    "cds_crash_details_slim['First_Harmful_Event'] = \"0\" # initialize column with dummy data to replace with for loop\n",
    "length = range(cds_crash.shape[0])\n",
    "for i in length:\n",
    "    if cds_crash['CRASH_CLASS'].iloc[i]=='Collision with Fixed Object': # 47,715\n",
    "        if cds_crash['OBJ_STRUCK'].iloc[i]=='Tree/Shrub': # 16,695\n",
    "            cds_crash_details_slim['First_Harmful_Event'].iloc[i] = '52. Tree/shrub'\n",
    "        elif cds_crash['OBJ_STRUCK'].iloc[i]=='Other Fixed Object': # 7,979\n",
    "            cds_crash_details_slim['First_Harmful_Event'].iloc[i] = '66. Other fixed object'\n",
    "        elif cds_crash['OBJ_STRUCK'].iloc[i] in (['Unknown', 'Blank On Form']): #7,193\n",
    "            cds_crash_details_slim['First_Harmful_Event'].iloc[i] = '99. Unknown'\n",
    "        elif cds_crash['OBJ_STRUCK'].iloc[i]=='Rock/Stone Wall': # 5,702\n",
    "            cds_crash_details_slim['First_Harmful_Event'].iloc[i] = '50. Wall'\n",
    "        elif cds_crash['OBJ_STRUCK'].iloc[i]=='Ditch': # 3,124\n",
    "            cds_crash_details_slim['First_Harmful_Event'].iloc[i] = '45. Ditch'\n",
    "        elif cds_crash['OBJ_STRUCK'].iloc[i]=='Pole': # 2,605\n",
    "            cds_crash_details_slim['First_Harmful_Event'].iloc[i] = '53. Utility pole/light support'\n",
    "        elif cds_crash['OBJ_STRUCK'].iloc[i]=='Boulder': # 1,844\n",
    "            cds_crash_details_slim['First_Harmful_Event'].iloc[i] = '60. Rock, boulder, rock slide'\n",
    "        elif cds_crash['OBJ_STRUCK'].iloc[i] in (['Culvert End Wall','Drainage Structure']): # 999\n",
    "            cds_crash_details_slim['First_Harmful_Event'].iloc[i] = '43. End of drainage pipe/structure/culvert'\n",
    "        elif cds_crash['OBJ_STRUCK'].iloc[i]=='Embankment': # 19\n",
    "            cds_crash_details_slim['First_Harmful_Event'].iloc[i] = '46. Earth embankment/berm'      \n",
    "    elif cds_crash['CRASH_CLASS'].iloc[i]=='Collision with Other Motor Vehicle': # 101,521\n",
    "        cds_crash_details_slim['First_Harmful_Event'].iloc[i] = '21. Motor vehicle in transport' \n",
    "    elif cds_crash['CRASH_CLASS'].iloc[i]=='Collision with Other Object': # 5,383\n",
    "        cds_crash_details_slim['First_Harmful_Event'].iloc[i] = '66. Other fixed object'\n",
    "    elif cds_crash['CRASH_CLASS'].iloc[i]=='Collision with Animal': # 18,927\n",
    "        cds_crash_details_slim['First_Harmful_Event'].iloc[i] = '36. Other wild animal (crocodile, birds, coyote, etc.)'\n",
    "    elif cds_crash['CRASH_CLASS'].iloc[i]=='Non-collision': # 14,132\n",
    "        cds_crash_details_slim['First_Harmful_Event'].iloc[i] = '16. Other non-collision'\n",
    "    elif cds_crash['CRASH_CLASS'].iloc[i]=='Collision with Parked Motor Vehicle': # 8,133\n",
    "        cds_crash_details_slim['First_Harmful_Event'].iloc[i] = '22. Parked motor vehicle'\n",
    "    elif cds_crash['CRASH_CLASS'].iloc[i] in ([\"Unknown\", \"Blank On Form\"]): # 3,671\n",
    "        cds_crash_details_slim['First_Harmful_Event'].iloc[i] = '99. Unknown'\n",
    "    elif cds_crash['CRASH_CLASS'].iloc[i]=='Collision with Pedalcycle (Bicycle)': # 1,493\n",
    "        cds_crash_details_slim['First_Harmful_Event'].iloc[i] = '18. Bicycle'\n",
    "    elif cds_crash['CRASH_CLASS'].iloc[i]=='Collision with Pedestrian': # 1,428\n",
    "        cds_crash_details_slim['First_Harmful_Event'].iloc[i] = '17. Pedestrian' \n",
    "    elif cds_crash['CRASH_CLASS'].iloc[i]=='Non-Collision(Overturn)': # 34\n",
    "        cds_crash_details_slim['First_Harmful_Event'].iloc[i] = '01. Overturn/rollover'\n",
    "    elif cds_crash['CRASH_CLASS'].iloc[i]=='Collision with Railway Train': # 32\n",
    "        cds_crash_details_slim['First_Harmful_Event'].iloc[i] = '20. Railway vehicle'  \n",
    "    else:\n",
    "        cds_crash_details_slim['First_Harmful_Event'].iloc[i] = '99. Unknown'\n",
    "\n",
    "cds_crash_details_slim['First_Harmful_Event'].value_counts()"
   ]
  },
  {
   "cell_type": "code",
   "execution_count": 96,
   "metadata": {},
   "outputs": [
    {
     "data": {
      "text/plain": [
       "Tree/Shrub            15497\n",
       "Other Fixed Object     6738\n",
       "Guardrail/Barrier      5984\n",
       "Rock/Stone Wall        5024\n",
       "Ditch                  2538\n",
       "Pole                   2383\n",
       "Sign                   2314\n",
       "Backslope              1787\n",
       "Boulder                1707\n",
       "Bridge Structure       1188\n",
       "Barricade              1010\n",
       "Not Applicable          667\n",
       "Drainage Structure      461\n",
       "Culvert End Wall        384\n",
       "Embankment               14\n",
       "Blank On Form            10\n",
       "Unknown                   8\n",
       "Name: OBJ_STRUCK, dtype: int64"
      ]
     },
     "execution_count": 96,
     "metadata": {},
     "output_type": "execute_result"
    }
   ],
   "source": [
    "# check sums of OBJ STRUCK codes only for crashes where CRASH_CLASS==2 looks good!\n",
    "fixed_obj = cds_crash.loc[cds_crash['CRASH_CLASS']=='Collision with Fixed Object']\n",
    "fixed_obj['OBJ_STRUCK'].value_counts()"
   ]
  },
  {
   "cell_type": "code",
   "execution_count": 103,
   "metadata": {},
   "outputs": [
    {
     "data": {
      "text/plain": [
       "1"
      ]
     },
     "execution_count": 103,
     "metadata": {},
     "output_type": "execute_result"
    }
   ],
   "source": [
    "fixed_obj.loc[fixed_obj['OBJ_STRUCK'].isnull()==True].shape[0]"
   ]
  },
  {
   "cell_type": "code",
   "execution_count": 74,
   "metadata": {},
   "outputs": [
    {
     "data": {
      "text/plain": [
       "1440"
      ]
     },
     "execution_count": 74,
     "metadata": {},
     "output_type": "execute_result"
    }
   ],
   "source": [
    "cds_crash.loc[cds_crash['CRASH_CLASS'].isnull()==True].shape[0]"
   ]
  },
  {
   "cell_type": "code",
   "execution_count": 100,
   "metadata": {},
   "outputs": [
    {
     "data": {
      "text/plain": [
       "12121"
      ]
     },
     "execution_count": 100,
     "metadata": {},
     "output_type": "execute_result"
    }
   ],
   "source": [
    "# \"66. Other fixed object\" attribute combines OBJ STRUCK and CRASH CLASS - looks good! \n",
    "6738+5383"
   ]
  },
  {
   "cell_type": "code",
   "execution_count": 99,
   "metadata": {},
   "outputs": [
    {
     "data": {
      "text/plain": [
       "5129"
      ]
     },
     "execution_count": 99,
     "metadata": {},
     "output_type": "execute_result"
    }
   ],
   "source": [
    "# \"99. Unknown\" attribute combines OBJ STRUCK, CRASH CLASS, and nulls - looks good!\n",
    "18+3671+1440"
   ]
  },
  {
   "cell_type": "code",
   "execution_count": 104,
   "metadata": {},
   "outputs": [
    {
     "data": {
      "text/plain": [
       "845"
      ]
     },
     "execution_count": 104,
     "metadata": {},
     "output_type": "execute_result"
    }
   ],
   "source": [
    "# \"43. End of drainage pipe/structure/culvert\" attribute combines two OBJ STRUCK attributes - looks good!\n",
    "384+461"
   ]
  },
  {
   "cell_type": "code",
   "execution_count": 107,
   "metadata": {},
   "outputs": [
    {
     "data": {
      "text/plain": [
       "12951"
      ]
     },
     "execution_count": 107,
     "metadata": {},
     "output_type": "execute_result"
    }
   ],
   "source": [
    "# \"0\" in First_Harmful_Event sum correspond to sum of OBJ STRUCK codes in fixed_obj that are not mapped to IMARS First_Harmful_Event in schema\n",
    "47715-15497-6738-5024-2538-2383-1707-461-384-14-10-8"
   ]
  },
  {
   "cell_type": "markdown",
   "metadata": {},
   "source": [
    "# TO DO: update First Harmful Event mappings to reflect Wayne's new \"CDS to\" spreadsheet tab"
   ]
  },
  {
   "cell_type": "code",
   "execution_count": 75,
   "metadata": {},
   "outputs": [
    {
     "name": "stderr",
     "output_type": "stream",
     "text": [
      "<ipython-input-75-042b7eded41d>:2: SettingWithCopyWarning: \n",
      "A value is trying to be set on a copy of a slice from a DataFrame.\n",
      "Try using .loc[row_indexer,col_indexer] = value instead\n",
      "\n",
      "See the caveats in the documentation: https://pandas.pydata.org/pandas-docs/stable/user_guide/indexing.html#returning-a-view-versus-a-copy\n",
      "  cds_crash_details_slim['First_Harmful_Event_Type'] = \"0\" # initialize column with dummy data to replace with for loop\n",
      "C:\\Users\\Sophie.Kaye\\Anaconda3\\lib\\site-packages\\pandas\\core\\indexing.py:692: SettingWithCopyWarning: \n",
      "A value is trying to be set on a copy of a slice from a DataFrame\n",
      "\n",
      "See the caveats in the documentation: https://pandas.pydata.org/pandas-docs/stable/user_guide/indexing.html#returning-a-view-versus-a-copy\n",
      "  iloc._setitem_with_indexer(indexer, value, self.name)\n"
     ]
    },
    {
     "data": {
      "text/plain": [
       "Collision with person, MV or non-fixed object    112607\n",
       "Collision with fixed object                       47715\n",
       "Collision with animals                            18927\n",
       "Non-collision                                     14166\n",
       "Unknown                                           10494\n",
       "Name: First_Harmful_Event_Type, dtype: int64"
      ]
     },
     "execution_count": 75,
     "metadata": {},
     "output_type": "execute_result"
    }
   ],
   "source": [
    "# change strings to match IMARS (in order of from most to least common to increase speed)\n",
    "cds_crash_details_slim['First_Harmful_Event_Type'] = \"0\" # initialize column with dummy data to replace with for loop\n",
    "length = range(cds_crash.shape[0])\n",
    "for i in length:\n",
    "    if cds_crash['CRASH_CLASS'].iloc[i] in (['Collision with Other Motor Vehicle','Collision with Pedestrian','Collision with Pedalcycle (Bicycle)','Collision with Parked Motor Vehicle','Collision with Railway Train']):\n",
    "        cds_crash_details_slim['First_Harmful_Event_Type'].iloc[i] = 'Collision with person, MV or non-fixed object'\n",
    "    elif cds_crash['CRASH_CLASS'].iloc[i]=='Collision with Fixed Object':\n",
    "        cds_crash_details_slim['First_Harmful_Event_Type'].iloc[i] = 'Collision with fixed object'\n",
    "    elif cds_crash['CRASH_CLASS'].iloc[i]=='Collision with Animal':\n",
    "        cds_crash_details_slim['First_Harmful_Event_Type'].iloc[i] = 'Collision with animals'\n",
    "    elif cds_crash['CRASH_CLASS'].iloc[i] in (['Non-collision','Non-Collision(Overturn)']):\n",
    "        cds_crash_details_slim['First_Harmful_Event_Type'].iloc[i] = 'Non-collision'   \n",
    "    else:\n",
    "        cds_crash_details_slim['First_Harmful_Event_Type'].iloc[i] = 'Unknown'\n",
    "\n",
    "cds_crash_details_slim['First_Harmful_Event_Type'].value_counts()"
   ]
  },
  {
   "cell_type": "code",
   "execution_count": 76,
   "metadata": {},
   "outputs": [
    {
     "data": {
      "text/plain": [
       "(112607, 14166, 10494)"
      ]
     },
     "execution_count": 76,
     "metadata": {},
     "output_type": "execute_result"
    }
   ],
   "source": [
    "# check First Harmful Event Type sums- looks good!\n",
    "(101521 + 1428 + 1493 + 8133 + 32), (14132 + 34), (5383 + 2849 + 822 + 1440)"
   ]
  },
  {
   "cell_type": "code",
   "execution_count": 77,
   "metadata": {},
   "outputs": [
    {
     "data": {
      "text/plain": [
       "Driver: Failed to Give Full Time and Attention                  40234\n",
       "Unknown                                                         21055\n",
       "Environment: Animal                                             16691\n",
       "Driver: Other                                                   13400\n",
       "Driver: Too Fast for Conditions                                 12277\n",
       "Driver: Followed Too Closely                                     9605\n",
       "Driver: Improper Backing                                         8165\n",
       "Driver: Failed to Yield Right of Way                             6449\n",
       "Environment: Rain, Snow                                          6237\n",
       "Driver: Disregarded Traffic Signs, Signals, or Road Markings     5558\n",
       "Driver: Under Influence of Alcohol                               5322\n",
       "Driver: Exceeded Posted Speed Limits                             4100\n",
       "Driver: Improper Lane Change                                     3484\n",
       "Driver: Fell Asleep, Fainted, Etc.                               3198\n",
       "Driver: Made Improper Turn                                       2882\n",
       "Road: Icy or Slushy                                              2201\n",
       "Environment: Curve in Road                                       1813\n",
       "Road: Wet                                                        1804\n",
       "Environment: Other                                               1446\n",
       "Driver: Improper Parking                                         1406\n",
       "Driver: Wrong Side or Wrong Way                                  1185\n",
       "Road: Road Under Construction or Maintenance                     1121\n",
       "Road: Debris or Obstruction                                      1103\n",
       "Vehicle: Brakes                                                  1072\n",
       "Vehicle: Other                                                   1044\n",
       "Driver: Under Influence of Drugs                                 1009\n",
       "Driver: Improper Passing                                          992\n",
       "Environment: Vision Obstruction (Incl Blinded by Sun,Lights)      966\n",
       "Environment: Sleet, Hail, Freezing Rain                           803\n",
       "Driver: Did Not Comply With License Restrictions                  690\n",
       "Road: Other                                                       619\n",
       "Vehicle: Tires                                                    606\n",
       "Road: Ruts, Holes, Bumps                                          507\n",
       "Environment: Severe Crosswinds                                    397\n",
       "Road: Shoulders Low, Soft, or High                                277\n",
       "Pedestrian/Cyclist: Failed to Yield Right of Way                  234\n",
       "Vehicle: Trailer Coupling                                         204\n",
       "Vehicle: Cargo                                                    198\n",
       "Vehicle: Wheel(s)                                                 184\n",
       "Pedestrian/Cyclist: Illegally in Roadway                          182\n",
       "Driver: Unfamiliar with vehicle                                   178\n",
       "Environment: Smog, Smoke                                          136\n",
       "Pedestrian/Cyclist: Other                                         128\n",
       "Pedestrian/Cyclist: Disregarded Traffic Control                   115\n",
       "Environment: Blowing Sand, Soil, Dirt                             106\n",
       "Road: Traffic Control Device Inoperative                           86\n",
       "Driver: Improper Signal                                            81\n",
       "Vehicle: Lights                                                    65\n",
       "Pedestrian/Cyclist: Bicycle Violation                              37\n",
       "Vehicle: Window/Windshield                                         34\n",
       "Pedestrian/Cyclist: Under Influence of Alcohol                     25\n",
       "Pedestrian/Cyclist: Clothing Not Visible                           20\n",
       "Pedestrian/Cyclist: Under Influence of Drugs                       11\n",
       "Vehicle: Exhaust                                                   10\n",
       "Name: CON_FACT1, dtype: int64"
      ]
     },
     "execution_count": 77,
     "metadata": {},
     "output_type": "execute_result"
    }
   ],
   "source": [
    "cds_crash['CON_FACT1'].value_counts()"
   ]
  },
  {
   "cell_type": "code",
   "execution_count": 78,
   "metadata": {},
   "outputs": [
    {
     "name": "stderr",
     "output_type": "stream",
     "text": [
      "<ipython-input-78-83a4111cd2fe>:2: SettingWithCopyWarning: \n",
      "A value is trying to be set on a copy of a slice from a DataFrame.\n",
      "Try using .loc[row_indexer,col_indexer] = value instead\n",
      "\n",
      "See the caveats in the documentation: https://pandas.pydata.org/pandas-docs/stable/user_guide/indexing.html#returning-a-view-versus-a-copy\n",
      "  cds_crash_details_slim['Involving Animal'] = 0 # initialize column with dummy data to replace with for loop\n",
      "C:\\Users\\Sophie.Kaye\\Anaconda3\\lib\\site-packages\\pandas\\core\\indexing.py:1637: SettingWithCopyWarning: \n",
      "A value is trying to be set on a copy of a slice from a DataFrame\n",
      "\n",
      "See the caveats in the documentation: https://pandas.pydata.org/pandas-docs/stable/user_guide/indexing.html#returning-a-view-versus-a-copy\n",
      "  self._setitem_single_block(indexer, value, name)\n"
     ]
    },
    {
     "data": {
      "text/plain": [
       "22291"
      ]
     },
     "execution_count": 78,
     "metadata": {},
     "output_type": "execute_result"
    }
   ],
   "source": [
    "# set animal indicator\n",
    "cds_crash_details_slim['Involving Animal'] = 0 # initialize column with dummy data to replace with for loop\n",
    "length = range(cds_crash.shape[0])\n",
    "for i in length:\n",
    "    if cds_crash['CRASH_CLASS'].iloc[i]=='Collision with Animal':\n",
    "        cds_crash_details_slim['Involving Animal'].iloc[i] = 1\n",
    "    elif cds_crash['CON_FACT1'].iloc[i]=='Environment: Animal' :\n",
    "        cds_crash_details_slim['Involving Animal'].iloc[i] = 1\n",
    "    elif cds_crash['CON_FACT2'].iloc[i]=='Environment: Animal' :\n",
    "        cds_crash_details_slim['Involving Animal'].iloc[i] = 1\n",
    "    elif cds_crash['CON_FACT3'].iloc[i]=='Environment: Animal' :\n",
    "        cds_crash_details_slim['Involving Animal'].iloc[i] = 1 \n",
    "    elif cds_crash['CON_FACT4'].iloc[i]=='Environment: Animal' :\n",
    "        cds_crash_details_slim['Involving Animal'].iloc[i] = 1\n",
    "    elif cds_crash['CON_FACT5'].iloc[i]=='Environment: Animal' :\n",
    "        cds_crash_details_slim['Involving Animal'].iloc[i] = 1\n",
    "    elif cds_crash['CON_FACT6'].iloc[i]=='Environment: Animal' :\n",
    "        cds_crash_details_slim['Involving Animal'].iloc[i] = 1\n",
    "    else:\n",
    "        cds_crash_details_slim['Involving Animal'].iloc[i] = 0\n",
    "# check logic - looks good!\n",
    "cds_crash_details_slim['Involving Animal'].sum() # (greater value than either CRASH_CLASS or CON_FACT1, so it must be accounting for both) "
   ]
  },
  {
   "cell_type": "code",
   "execution_count": 79,
   "metadata": {},
   "outputs": [
    {
     "data": {
      "text/plain": [
       "Daylight              54932\n",
       "Dark - Not Lighted    14015\n",
       "Dark - Lighted         6429\n",
       "Dusk                   2757\n",
       "Dawn                   1764\n",
       "Unknown                1521\n",
       "Blank On Form           590\n",
       "Name: LIGHT, dtype: int64"
      ]
     },
     "execution_count": 79,
     "metadata": {},
     "output_type": "execute_result"
    }
   ],
   "source": [
    "cds_crash['LIGHT'].value_counts()"
   ]
  },
  {
   "cell_type": "code",
   "execution_count": 80,
   "metadata": {},
   "outputs": [
    {
     "name": "stderr",
     "output_type": "stream",
     "text": [
      "<ipython-input-80-d2b11d980ce4>:1: SettingWithCopyWarning: \n",
      "A value is trying to be set on a copy of a slice from a DataFrame.\n",
      "Try using .loc[row_indexer,col_indexer] = value instead\n",
      "\n",
      "See the caveats in the documentation: https://pandas.pydata.org/pandas-docs/stable/user_guide/indexing.html#returning-a-view-versus-a-copy\n",
      "  cds_crash_details_slim['Daylight'] = np.where(cds_crash['LIGHT']==\"Daylight\", 1,0)\n",
      "<ipython-input-80-d2b11d980ce4>:2: SettingWithCopyWarning: \n",
      "A value is trying to be set on a copy of a slice from a DataFrame.\n",
      "Try using .loc[row_indexer,col_indexer] = value instead\n",
      "\n",
      "See the caveats in the documentation: https://pandas.pydata.org/pandas-docs/stable/user_guide/indexing.html#returning-a-view-versus-a-copy\n",
      "  cds_crash_details_slim['Dawn'] = np.where(cds_crash['LIGHT']==\"Dawn\", 1,0)\n",
      "<ipython-input-80-d2b11d980ce4>:3: SettingWithCopyWarning: \n",
      "A value is trying to be set on a copy of a slice from a DataFrame.\n",
      "Try using .loc[row_indexer,col_indexer] = value instead\n",
      "\n",
      "See the caveats in the documentation: https://pandas.pydata.org/pandas-docs/stable/user_guide/indexing.html#returning-a-view-versus-a-copy\n",
      "  cds_crash_details_slim['Dusk'] = np.where(cds_crash['LIGHT']==\"Dusk\", 1,0)\n",
      "<ipython-input-80-d2b11d980ce4>:4: SettingWithCopyWarning: \n",
      "A value is trying to be set on a copy of a slice from a DataFrame.\n",
      "Try using .loc[row_indexer,col_indexer] = value instead\n",
      "\n",
      "See the caveats in the documentation: https://pandas.pydata.org/pandas-docs/stable/user_guide/indexing.html#returning-a-view-versus-a-copy\n",
      "  cds_crash_details_slim['Dark_Lit'] = np.where(cds_crash['LIGHT']==\"Dark - Lighted\", 1,0)\n",
      "<ipython-input-80-d2b11d980ce4>:5: SettingWithCopyWarning: \n",
      "A value is trying to be set on a copy of a slice from a DataFrame.\n",
      "Try using .loc[row_indexer,col_indexer] = value instead\n",
      "\n",
      "See the caveats in the documentation: https://pandas.pydata.org/pandas-docs/stable/user_guide/indexing.html#returning-a-view-versus-a-copy\n",
      "  cds_crash_details_slim['Dark_NotLit'] = np.where(cds_crash['LIGHT']==\"Dark - Not Lighted\", 1,0)\n",
      "<ipython-input-80-d2b11d980ce4>:6: SettingWithCopyWarning: \n",
      "A value is trying to be set on a copy of a slice from a DataFrame.\n",
      "Try using .loc[row_indexer,col_indexer] = value instead\n",
      "\n",
      "See the caveats in the documentation: https://pandas.pydata.org/pandas-docs/stable/user_guide/indexing.html#returning-a-view-versus-a-copy\n",
      "  cds_crash_details_slim['Dark_UnknownLit'] = 0\n"
     ]
    }
   ],
   "source": [
    "cds_crash_details_slim['Daylight'] = np.where(cds_crash['LIGHT']==\"Daylight\", 1,0)\n",
    "cds_crash_details_slim['Dawn'] = np.where(cds_crash['LIGHT']==\"Dawn\", 1,0)\n",
    "cds_crash_details_slim['Dusk'] = np.where(cds_crash['LIGHT']==\"Dusk\", 1,0)\n",
    "cds_crash_details_slim['Dark_Lit'] = np.where(cds_crash['LIGHT']==\"Dark - Lighted\", 1,0)\n",
    "cds_crash_details_slim['Dark_NotLit'] = np.where(cds_crash['LIGHT']==\"Dark - Not Lighted\", 1,0)\n",
    "cds_crash_details_slim['Dark_UnknownLit'] = 0"
   ]
  },
  {
   "cell_type": "code",
   "execution_count": 81,
   "metadata": {},
   "outputs": [
    {
     "name": "stderr",
     "output_type": "stream",
     "text": [
      "<ipython-input-81-d75b904444f5>:3: SettingWithCopyWarning: \n",
      "A value is trying to be set on a copy of a slice from a DataFrame.\n",
      "Try using .loc[row_indexer,col_indexer] = value instead\n",
      "\n",
      "See the caveats in the documentation: https://pandas.pydata.org/pandas-docs/stable/user_guide/indexing.html#returning-a-view-versus-a-copy\n",
      "  cds_crash_details_slim['Poor Lighting'] = 0 # initialize column with dummy data to replace with for loop\n"
     ]
    },
    {
     "data": {
      "text/plain": [
       "(24965, 24965)"
      ]
     },
     "execution_count": 81,
     "metadata": {},
     "output_type": "execute_result"
    }
   ],
   "source": [
    "# group adverse lighting attributes into bin for poor visibility\n",
    "\n",
    "cds_crash_details_slim['Poor Lighting'] = 0 # initialize column with dummy data to replace with for loop\n",
    "length = range(cds_crash.shape[0])\n",
    "for i in length: # in order of most to least common to speed up processing\n",
    "    if cds_crash_details_slim['Dark_NotLit'].iloc[i] == 1:\n",
    "        cds_crash_details_slim['Poor Lighting'].iloc[i] = 1\n",
    "    elif cds_crash_details_slim['Dark_Lit'].iloc[i] == 1:\n",
    "        cds_crash_details_slim['Poor Lighting'].iloc[i] = 1\n",
    "    elif cds_crash_details_slim['Dusk'].iloc[i] == 1:\n",
    "        cds_crash_details_slim['Poor Lighting'].iloc[i] = 1\n",
    "    elif cds_crash_details_slim['Dawn'].iloc[i] == 1:\n",
    "        cds_crash_details_slim['Poor Lighting'].iloc[i] = 1\n",
    "    else:\n",
    "        cds_crash_details_slim['Poor Lighting'].iloc[i] = 0\n",
    "# check logic - looks good!\n",
    "cds_crash_details_slim['Poor Lighting'].sum(), (14015+6429+2757+1764)"
   ]
  },
  {
   "cell_type": "code",
   "execution_count": 82,
   "metadata": {},
   "outputs": [
    {
     "data": {
      "text/plain": [
       "Clear                             133196\n",
       "Cloudy                             31059\n",
       "Rain                               22786\n",
       "Snow                                5753\n",
       "Unknown                             4599\n",
       "Fog, Smog, Smoke                    1897\n",
       "Sleet, Hail, Freezing Rain          1421\n",
       "Other                                923\n",
       "Blank On Form                        571\n",
       "Severe Crosswinds                    366\n",
       "Blowing Sand, Soil, Dirt, Etc.       192\n",
       "Name: WEATHER, dtype: int64"
      ]
     },
     "execution_count": 82,
     "metadata": {},
     "output_type": "execute_result"
    }
   ],
   "source": [
    "cds_crash['WEATHER'].value_counts()"
   ]
  },
  {
   "cell_type": "code",
   "execution_count": 83,
   "metadata": {},
   "outputs": [
    {
     "data": {
      "text/plain": [
       "Dry              146048\n",
       "Wet               33773\n",
       "Icy or Slushy      8639\n",
       "Unknown            5077\n",
       "Snowy              5028\n",
       "Other              1786\n",
       "Debris             1102\n",
       "Muddy               666\n",
       "Blank On Form       627\n",
       "Name: SURF_COND, dtype: int64"
      ]
     },
     "execution_count": 83,
     "metadata": {},
     "output_type": "execute_result"
    }
   ],
   "source": [
    "cds_crash['SURF_COND'].value_counts()"
   ]
  },
  {
   "cell_type": "code",
   "execution_count": 84,
   "metadata": {},
   "outputs": [
    {
     "name": "stderr",
     "output_type": "stream",
     "text": [
      "<ipython-input-84-0dcea7a1fbf5>:2: SettingWithCopyWarning: \n",
      "A value is trying to be set on a copy of a slice from a DataFrame.\n",
      "Try using .loc[row_indexer,col_indexer] = value instead\n",
      "\n",
      "See the caveats in the documentation: https://pandas.pydata.org/pandas-docs/stable/user_guide/indexing.html#returning-a-view-versus-a-copy\n",
      "  cds_crash_details_slim['Bad Weather'] = np.where(cds_crash['WEATHER'].isin(['Rain','Snow','Fog, Smog, Smoke','Sleet, Hail, Freezing Rain','Blowing Sand, Soil, Dirt, Etc.'])==True, 1,0)\n",
      "<ipython-input-84-0dcea7a1fbf5>:3: SettingWithCopyWarning: \n",
      "A value is trying to be set on a copy of a slice from a DataFrame.\n",
      "Try using .loc[row_indexer,col_indexer] = value instead\n",
      "\n",
      "See the caveats in the documentation: https://pandas.pydata.org/pandas-docs/stable/user_guide/indexing.html#returning-a-view-versus-a-copy\n",
      "  cds_crash_details_slim['Bad Road Condition'] = np.where(cds_crash['SURF_COND'].isin(['Wet','Icy or Slushy','Snowy'])==True, 1,0)\n",
      "<ipython-input-84-0dcea7a1fbf5>:4: SettingWithCopyWarning: \n",
      "A value is trying to be set on a copy of a slice from a DataFrame.\n",
      "Try using .loc[row_indexer,col_indexer] = value instead\n",
      "\n",
      "See the caveats in the documentation: https://pandas.pydata.org/pandas-docs/stable/user_guide/indexing.html#returning-a-view-versus-a-copy\n",
      "  cds_crash_details_slim['Bad Circumstance 1'] = np.where(cds_crash['CON_FACT1'].isin(['Road: Wet','Road: Icy or Slushy','Environment: Smog, Smoke','Environment: Sleet, Hail, Freezing Rain','Environment: Blowing Sand, Soil, Dirt','Environment: Rain, Snow'])==True, 1,0)\n",
      "<ipython-input-84-0dcea7a1fbf5>:5: SettingWithCopyWarning: \n",
      "A value is trying to be set on a copy of a slice from a DataFrame.\n",
      "Try using .loc[row_indexer,col_indexer] = value instead\n",
      "\n",
      "See the caveats in the documentation: https://pandas.pydata.org/pandas-docs/stable/user_guide/indexing.html#returning-a-view-versus-a-copy\n",
      "  cds_crash_details_slim['Bad Circumstance 2'] = np.where(cds_crash['CON_FACT2'].isin(['Road: Wet','Road: Icy or Slushy','Environment: Smog, Smoke','Environment: Sleet, Hail, Freezing Rain','Environment: Blowing Sand, Soil, Dirt','Environment: Rain, Snow'])==True, 1,0)\n",
      "<ipython-input-84-0dcea7a1fbf5>:6: SettingWithCopyWarning: \n",
      "A value is trying to be set on a copy of a slice from a DataFrame.\n",
      "Try using .loc[row_indexer,col_indexer] = value instead\n",
      "\n",
      "See the caveats in the documentation: https://pandas.pydata.org/pandas-docs/stable/user_guide/indexing.html#returning-a-view-versus-a-copy\n",
      "  cds_crash_details_slim['Bad Circumstance 3'] = np.where(cds_crash['CON_FACT3'].isin(['Road: Wet','Road: Icy or Slushy','Environment: Smog, Smoke','Environment: Sleet, Hail, Freezing Rain','Environment: Blowing Sand, Soil, Dirt','Environment: Rain, Snow'])==True, 1,0)\n",
      "<ipython-input-84-0dcea7a1fbf5>:7: SettingWithCopyWarning: \n",
      "A value is trying to be set on a copy of a slice from a DataFrame.\n",
      "Try using .loc[row_indexer,col_indexer] = value instead\n",
      "\n",
      "See the caveats in the documentation: https://pandas.pydata.org/pandas-docs/stable/user_guide/indexing.html#returning-a-view-versus-a-copy\n",
      "  cds_crash_details_slim['Bad Circumstance 4'] = np.where(cds_crash['CON_FACT4'].isin(['Road: Wet','Road: Icy or Slushy','Environment: Smog, Smoke','Environment: Sleet, Hail, Freezing Rain','Environment: Blowing Sand, Soil, Dirt','Environment: Rain, Snow'])==True, 1,0)\n",
      "<ipython-input-84-0dcea7a1fbf5>:8: SettingWithCopyWarning: \n",
      "A value is trying to be set on a copy of a slice from a DataFrame.\n",
      "Try using .loc[row_indexer,col_indexer] = value instead\n",
      "\n",
      "See the caveats in the documentation: https://pandas.pydata.org/pandas-docs/stable/user_guide/indexing.html#returning-a-view-versus-a-copy\n",
      "  cds_crash_details_slim['Bad Circumstance 5'] = np.where(cds_crash['CON_FACT5'].isin(['Road: Wet','Road: Icy or Slushy','Environment: Smog, Smoke','Environment: Sleet, Hail, Freezing Rain','Environment: Blowing Sand, Soil, Dirt','Environment: Rain, Snow'])==True, 1,0)\n",
      "<ipython-input-84-0dcea7a1fbf5>:9: SettingWithCopyWarning: \n",
      "A value is trying to be set on a copy of a slice from a DataFrame.\n",
      "Try using .loc[row_indexer,col_indexer] = value instead\n",
      "\n",
      "See the caveats in the documentation: https://pandas.pydata.org/pandas-docs/stable/user_guide/indexing.html#returning-a-view-versus-a-copy\n",
      "  cds_crash_details_slim['Bad Circumstance 6'] = np.where(cds_crash['CON_FACT6'].isin(['Road: Wet','Road: Icy or Slushy','Environment: Smog, Smoke','Environment: Sleet, Hail, Freezing Rain','Environment: Blowing Sand, Soil, Dirt','Environment: Rain, Snow'])==True, 1,0)\n"
     ]
    }
   ],
   "source": [
    "# set flags for adverse visibility conditions due to precip\n",
    "cds_crash_details_slim['Bad Weather'] = np.where(cds_crash['WEATHER'].isin(['Rain','Snow','Fog, Smog, Smoke','Sleet, Hail, Freezing Rain','Blowing Sand, Soil, Dirt, Etc.'])==True, 1,0)\n",
    "cds_crash_details_slim['Bad Road Condition'] = np.where(cds_crash['SURF_COND'].isin(['Wet','Icy or Slushy','Snowy'])==True, 1,0)\n",
    "cds_crash_details_slim['Bad Circumstance 1'] = np.where(cds_crash['CON_FACT1'].isin(['Road: Wet','Road: Icy or Slushy','Environment: Smog, Smoke','Environment: Sleet, Hail, Freezing Rain','Environment: Blowing Sand, Soil, Dirt','Environment: Rain, Snow'])==True, 1,0)\n",
    "cds_crash_details_slim['Bad Circumstance 2'] = np.where(cds_crash['CON_FACT2'].isin(['Road: Wet','Road: Icy or Slushy','Environment: Smog, Smoke','Environment: Sleet, Hail, Freezing Rain','Environment: Blowing Sand, Soil, Dirt','Environment: Rain, Snow'])==True, 1,0)\n",
    "cds_crash_details_slim['Bad Circumstance 3'] = np.where(cds_crash['CON_FACT3'].isin(['Road: Wet','Road: Icy or Slushy','Environment: Smog, Smoke','Environment: Sleet, Hail, Freezing Rain','Environment: Blowing Sand, Soil, Dirt','Environment: Rain, Snow'])==True, 1,0)\n",
    "cds_crash_details_slim['Bad Circumstance 4'] = np.where(cds_crash['CON_FACT4'].isin(['Road: Wet','Road: Icy or Slushy','Environment: Smog, Smoke','Environment: Sleet, Hail, Freezing Rain','Environment: Blowing Sand, Soil, Dirt','Environment: Rain, Snow'])==True, 1,0)\n",
    "cds_crash_details_slim['Bad Circumstance 5'] = np.where(cds_crash['CON_FACT5'].isin(['Road: Wet','Road: Icy or Slushy','Environment: Smog, Smoke','Environment: Sleet, Hail, Freezing Rain','Environment: Blowing Sand, Soil, Dirt','Environment: Rain, Snow'])==True, 1,0)\n",
    "cds_crash_details_slim['Bad Circumstance 6'] = np.where(cds_crash['CON_FACT6'].isin(['Road: Wet','Road: Icy or Slushy','Environment: Smog, Smoke','Environment: Sleet, Hail, Freezing Rain','Environment: Blowing Sand, Soil, Dirt','Environment: Rain, Snow'])==True, 1,0)"
   ]
  },
  {
   "cell_type": "code",
   "execution_count": 85,
   "metadata": {},
   "outputs": [
    {
     "data": {
      "text/plain": [
       "(32049, 32049)"
      ]
     },
     "execution_count": 85,
     "metadata": {},
     "output_type": "execute_result"
    }
   ],
   "source": [
    "# bad weather sum check - looks good!\n",
    "(22786+5753+1897+1421+192), cds_crash_details_slim['Bad Weather'].sum()"
   ]
  },
  {
   "cell_type": "code",
   "execution_count": 86,
   "metadata": {},
   "outputs": [
    {
     "data": {
      "text/plain": [
       "(47440, 47440)"
      ]
     },
     "execution_count": 86,
     "metadata": {},
     "output_type": "execute_result"
    }
   ],
   "source": [
    "# bad road condition sum check - looks good!\n",
    "(33773+8639+5028), cds_crash_details_slim['Bad Road Condition'].sum()"
   ]
  },
  {
   "cell_type": "code",
   "execution_count": 87,
   "metadata": {},
   "outputs": [
    {
     "data": {
      "text/plain": [
       "(11287, 11287)"
      ]
     },
     "execution_count": 87,
     "metadata": {},
     "output_type": "execute_result"
    }
   ],
   "source": [
    "# bad circumstance sum check - looks good!\n",
    "(6237+2201+1804+106+136+803), cds_crash_details_slim['Bad Circumstance 1'].sum()"
   ]
  },
  {
   "cell_type": "code",
   "execution_count": 88,
   "metadata": {},
   "outputs": [
    {
     "data": {
      "text/plain": [
       "(11287, 17168, 8592, 2647, 978, 267)"
      ]
     },
     "execution_count": 88,
     "metadata": {},
     "output_type": "execute_result"
    }
   ],
   "source": [
    "# check value to order from greatest to least to speed up following for loop\n",
    "cds_crash_details_slim['Bad Circumstance 1'].sum(), cds_crash_details_slim['Bad Circumstance 2'].sum(), cds_crash_details_slim['Bad Circumstance 3'].sum(), cds_crash_details_slim['Bad Circumstance 4'].sum(), cds_crash_details_slim['Bad Circumstance 5'].sum(), cds_crash_details_slim['Bad Circumstance 6'].sum()"
   ]
  },
  {
   "cell_type": "code",
   "execution_count": 89,
   "metadata": {},
   "outputs": [
    {
     "name": "stderr",
     "output_type": "stream",
     "text": [
      "<ipython-input-89-bf36126d261f>:2: SettingWithCopyWarning: \n",
      "A value is trying to be set on a copy of a slice from a DataFrame.\n",
      "Try using .loc[row_indexer,col_indexer] = value instead\n",
      "\n",
      "See the caveats in the documentation: https://pandas.pydata.org/pandas-docs/stable/user_guide/indexing.html#returning-a-view-versus-a-copy\n",
      "  cds_crash_details_slim['Adverse Weather'] = 0 # initialize column with dummy data to replace with for loop\n",
      "C:\\Users\\Sophie.Kaye\\Anaconda3\\lib\\site-packages\\pandas\\core\\indexing.py:1637: SettingWithCopyWarning: \n",
      "A value is trying to be set on a copy of a slice from a DataFrame\n",
      "\n",
      "See the caveats in the documentation: https://pandas.pydata.org/pandas-docs/stable/user_guide/indexing.html#returning-a-view-versus-a-copy\n",
      "  self._setitem_single_block(indexer, value, name)\n",
      "C:\\Users\\Sophie.Kaye\\Anaconda3\\lib\\site-packages\\pandas\\core\\indexing.py:692: SettingWithCopyWarning: \n",
      "A value is trying to be set on a copy of a slice from a DataFrame\n",
      "\n",
      "See the caveats in the documentation: https://pandas.pydata.org/pandas-docs/stable/user_guide/indexing.html#returning-a-view-versus-a-copy\n",
      "  iloc._setitem_with_indexer(indexer, value, self.name)\n"
     ]
    },
    {
     "data": {
      "text/plain": [
       "49828"
      ]
     },
     "execution_count": 89,
     "metadata": {},
     "output_type": "execute_result"
    }
   ],
   "source": [
    "# group adverse weather attributes into bin for poor visibility\n",
    "cds_crash_details_slim['Adverse Weather'] = 0 # initialize column with dummy data to replace with for loop\n",
    "length = range(cds_crash.shape[0])\n",
    "for i in length: # in order of most to least common to speed up processing\n",
    "    if cds_crash_details_slim['Bad Road Condition'].iloc[i] == 1:\n",
    "        cds_crash_details_slim['Adverse Weather'].iloc[i] = 1\n",
    "    elif cds_crash_details_slim['Bad Weather'].iloc[i] == 1:\n",
    "        cds_crash_details_slim['Adverse Weather'].iloc[i] = 1\n",
    "    elif cds_crash_details_slim['Bad Circumstance 2'].iloc[i] == 1:\n",
    "        cds_crash_details_slim['Adverse Weather'].iloc[i] = 1\n",
    "    elif cds_crash_details_slim['Bad Circumstance 1'].iloc[i] == 1:\n",
    "        cds_crash_details_slim['Adverse Weather'].iloc[i] = 1\n",
    "    elif cds_crash_details_slim['Bad Circumstance 3'].iloc[i] == 1:\n",
    "        cds_crash_details_slim['Adverse Weather'].iloc[i] = 1\n",
    "    elif cds_crash_details_slim['Bad Circumstance 4'].iloc[i] == 1:\n",
    "        cds_crash_details_slim['Adverse Weather'].iloc[i] = 1\n",
    "    elif cds_crash_details_slim['Bad Circumstance 5'].iloc[i] == 1:\n",
    "        cds_crash_details_slim['Adverse Weather'].iloc[i] = 1\n",
    "    elif cds_crash_details_slim['Bad Circumstance 6'].iloc[i] == 1:\n",
    "        cds_crash_details_slim['Adverse Weather'].iloc[i] = 1\n",
    "    else:\n",
    "        cds_crash_details_slim['Adverse Weather'].iloc[i] = 0\n",
    "# check logic - looks good!\n",
    "cds_crash_details_slim['Adverse Weather'].sum() # (greater value than either Bad Road Condition, Bad Weather, or Bad Circumstance 1, so it must be accounting for all) "
   ]
  },
  {
   "cell_type": "code",
   "execution_count": 90,
   "metadata": {},
   "outputs": [
    {
     "data": {
      "text/plain": [
       "Index(['INCID_NO', 'First_Harmful_Event', 'First_Harmful_Event_Type',\n",
       "       'Involving Animal', 'Daylight', 'Dawn', 'Dusk', 'Dark_Lit',\n",
       "       'Dark_NotLit', 'Dark_UnknownLit', 'Poor Lighting', 'Bad Weather',\n",
       "       'Bad Road Condition', 'Bad Circumstance 1', 'Bad Circumstance 2',\n",
       "       'Bad Circumstance 3', 'Bad Circumstance 4', 'Bad Circumstance 5',\n",
       "       'Bad Circumstance 6', 'Adverse Weather'],\n",
       "      dtype='object')"
      ]
     },
     "execution_count": 90,
     "metadata": {},
     "output_type": "execute_result"
    }
   ],
   "source": [
    "cds_crash_details_slim.columns"
   ]
  },
  {
   "cell_type": "code",
   "execution_count": 91,
   "metadata": {
    "scrolled": true
   },
   "outputs": [
    {
     "data": {
      "text/plain": [
       "Index(['INCID_NO', 'First_Harmful_Event', 'First_Harmful_Event_Type',\n",
       "       'Involving Animal', 'Daylight', 'Dawn', 'Dusk', 'Dark_Lit',\n",
       "       'Dark_NotLit', 'Dark_UnknownLit', 'Poor Lighting', 'Adverse Weather'],\n",
       "      dtype='object')"
      ]
     },
     "execution_count": 91,
     "metadata": {},
     "output_type": "execute_result"
    }
   ],
   "source": [
    "cds_crash_details_slim = cds_crash_details_slim.drop(columns=['Bad Weather','Bad Road Condition','Bad Circumstance 1','Bad Circumstance 2', 'Bad Circumstance 3','Bad Circumstance 4','Bad Circumstance 5','Bad Circumstance 6'])\n",
    "cds_crash_details_slim.columns"
   ]
  },
  {
   "cell_type": "code",
   "execution_count": 56,
   "metadata": {},
   "outputs": [
    {
     "data": {
      "text/plain": [
       "(203909, 11)"
      ]
     },
     "execution_count": 56,
     "metadata": {},
     "output_type": "execute_result"
    }
   ],
   "source": [
    "cds_crash_details_slim.shape"
   ]
  },
  {
   "cell_type": "code",
   "execution_count": 57,
   "metadata": {},
   "outputs": [],
   "source": [
    "cds_crash_details_slim.to_csv('./CDS_crash_details_slim.csv',index=False)"
   ]
  },
  {
   "cell_type": "markdown",
   "metadata": {},
   "source": [
    "## Passenger Table"
   ]
  },
  {
   "cell_type": "code",
   "execution_count": 58,
   "metadata": {},
   "outputs": [
    {
     "name": "stderr",
     "output_type": "stream",
     "text": [
      "<ipython-input-58-47372215e61a>:3: SettingWithCopyWarning: \n",
      "A value is trying to be set on a copy of a slice from a DataFrame.\n",
      "Try using .loc[row_indexer,col_indexer] = value instead\n",
      "\n",
      "See the caveats in the documentation: https://pandas.pydata.org/pandas-docs/stable/user_guide/indexing.html#returning-a-view-versus-a-copy\n",
      "  cds_vehicle_inj['No Injury'] = np.where(cds_vehicle['DRIVER_INJ'] == 0.0, 1, 0)\n",
      "<ipython-input-58-47372215e61a>:4: SettingWithCopyWarning: \n",
      "A value is trying to be set on a copy of a slice from a DataFrame.\n",
      "Try using .loc[row_indexer,col_indexer] = value instead\n",
      "\n",
      "See the caveats in the documentation: https://pandas.pydata.org/pandas-docs/stable/user_guide/indexing.html#returning-a-view-versus-a-copy\n",
      "  cds_vehicle_inj['Possible Injury'] = np.where(cds_vehicle['DRIVER_INJ'] == 1.0, 1, 0)\n",
      "<ipython-input-58-47372215e61a>:5: SettingWithCopyWarning: \n",
      "A value is trying to be set on a copy of a slice from a DataFrame.\n",
      "Try using .loc[row_indexer,col_indexer] = value instead\n",
      "\n",
      "See the caveats in the documentation: https://pandas.pydata.org/pandas-docs/stable/user_guide/indexing.html#returning-a-view-versus-a-copy\n",
      "  cds_vehicle_inj['Non-incapacitating Injury'] = np.where(cds_vehicle['DRIVER_INJ'] == 2.0, 1, 0)\n",
      "<ipython-input-58-47372215e61a>:6: SettingWithCopyWarning: \n",
      "A value is trying to be set on a copy of a slice from a DataFrame.\n",
      "Try using .loc[row_indexer,col_indexer] = value instead\n",
      "\n",
      "See the caveats in the documentation: https://pandas.pydata.org/pandas-docs/stable/user_guide/indexing.html#returning-a-view-versus-a-copy\n",
      "  cds_vehicle_inj['Incapacitating Injury'] = np.where(cds_vehicle['DRIVER_INJ'] == 3.0, 1, 0)\n",
      "<ipython-input-58-47372215e61a>:7: SettingWithCopyWarning: \n",
      "A value is trying to be set on a copy of a slice from a DataFrame.\n",
      "Try using .loc[row_indexer,col_indexer] = value instead\n",
      "\n",
      "See the caveats in the documentation: https://pandas.pydata.org/pandas-docs/stable/user_guide/indexing.html#returning-a-view-versus-a-copy\n",
      "  cds_vehicle_inj['Fatality'] = np.where(cds_vehicle['DRIVER_INJ'] == 4.0, 1, 0)\n"
     ]
    },
    {
     "data": {
      "text/plain": [
       "(194715, 7)"
      ]
     },
     "execution_count": 58,
     "metadata": {},
     "output_type": "execute_result"
    }
   ],
   "source": [
    "# determine number of driver injuries for each crash\n",
    "cds_vehicle_inj = cds_vehicle[['INCID_NO','PED_TYPE']] # subset needed columns (PED_TYPE for Num_Ped_Deaths later calc)\n",
    "cds_vehicle_inj['No Injury'] = np.where(cds_vehicle['DRIVER_INJ'] == 0.0, 1, 0)\n",
    "cds_vehicle_inj['Possible Injury'] = np.where(cds_vehicle['DRIVER_INJ'] == 1.0, 1, 0)\n",
    "cds_vehicle_inj['Non-incapacitating Injury'] = np.where(cds_vehicle['DRIVER_INJ'] == 2.0, 1, 0)\n",
    "cds_vehicle_inj['Incapacitating Injury'] = np.where(cds_vehicle['DRIVER_INJ'] == 3.0, 1, 0)\n",
    "cds_vehicle_inj['Fatality'] = np.where(cds_vehicle['DRIVER_INJ'] == 4.0, 1, 0)\n",
    "# collapse multiple rows for each person involved in the crash into a single row for each crash\n",
    "#injuries/fatalities and number of people involved should be summed as total numbers per crash (\"sum\" function)\n",
    "cds_vehicle_inj_agg = cds_vehicle_inj.groupby(by=['INCID_NO']).sum().reset_index()\n",
    "cds_vehicle_inj_agg.shape"
   ]
  },
  {
   "cell_type": "code",
   "execution_count": 59,
   "metadata": {},
   "outputs": [
    {
     "name": "stderr",
     "output_type": "stream",
     "text": [
      "<ipython-input-59-9c906b0c2a4f>:3: SettingWithCopyWarning: \n",
      "A value is trying to be set on a copy of a slice from a DataFrame.\n",
      "Try using .loc[row_indexer,col_indexer] = value instead\n",
      "\n",
      "See the caveats in the documentation: https://pandas.pydata.org/pandas-docs/stable/user_guide/indexing.html#returning-a-view-versus-a-copy\n",
      "  cds_passenger_inj['No Injury Mod'] = np.where(cds_passenger['PASS_INJ'] == 0.0, 1, 0)\n",
      "<ipython-input-59-9c906b0c2a4f>:4: SettingWithCopyWarning: \n",
      "A value is trying to be set on a copy of a slice from a DataFrame.\n",
      "Try using .loc[row_indexer,col_indexer] = value instead\n",
      "\n",
      "See the caveats in the documentation: https://pandas.pydata.org/pandas-docs/stable/user_guide/indexing.html#returning-a-view-versus-a-copy\n",
      "  cds_passenger_inj['Possible Injury Mod'] = np.where(cds_passenger['PASS_INJ'] == 1.0, 1, 0)\n",
      "<ipython-input-59-9c906b0c2a4f>:5: SettingWithCopyWarning: \n",
      "A value is trying to be set on a copy of a slice from a DataFrame.\n",
      "Try using .loc[row_indexer,col_indexer] = value instead\n",
      "\n",
      "See the caveats in the documentation: https://pandas.pydata.org/pandas-docs/stable/user_guide/indexing.html#returning-a-view-versus-a-copy\n",
      "  cds_passenger_inj['Non-incapacitating Injury Mod'] = np.where(cds_passenger['PASS_INJ'] == 2.0, 1, 0)\n",
      "<ipython-input-59-9c906b0c2a4f>:6: SettingWithCopyWarning: \n",
      "A value is trying to be set on a copy of a slice from a DataFrame.\n",
      "Try using .loc[row_indexer,col_indexer] = value instead\n",
      "\n",
      "See the caveats in the documentation: https://pandas.pydata.org/pandas-docs/stable/user_guide/indexing.html#returning-a-view-versus-a-copy\n",
      "  cds_passenger_inj['Incapacitating Injury Mod'] = np.where(cds_passenger['PASS_INJ'] == 3.0, 1, 0)\n",
      "<ipython-input-59-9c906b0c2a4f>:7: SettingWithCopyWarning: \n",
      "A value is trying to be set on a copy of a slice from a DataFrame.\n",
      "Try using .loc[row_indexer,col_indexer] = value instead\n",
      "\n",
      "See the caveats in the documentation: https://pandas.pydata.org/pandas-docs/stable/user_guide/indexing.html#returning-a-view-versus-a-copy\n",
      "  cds_passenger_inj['Fatality Mod'] = np.where(cds_passenger['PASS_INJ'] == 4.0, 1, 0)\n"
     ]
    },
    {
     "data": {
      "text/plain": [
       "(60136, 6)"
      ]
     },
     "execution_count": 59,
     "metadata": {},
     "output_type": "execute_result"
    }
   ],
   "source": [
    "# determine number of passenger injuries for each crash\n",
    "cds_passenger_inj = cds_passenger[['INCID_NO']] # subset needed columns\n",
    "cds_passenger_inj['No Injury Mod'] = np.where(cds_passenger['PASS_INJ'] == 0.0, 1, 0)\n",
    "cds_passenger_inj['Possible Injury Mod'] = np.where(cds_passenger['PASS_INJ'] == 1.0, 1, 0)\n",
    "cds_passenger_inj['Non-incapacitating Injury Mod'] = np.where(cds_passenger['PASS_INJ'] == 2.0, 1, 0)\n",
    "cds_passenger_inj['Incapacitating Injury Mod'] = np.where(cds_passenger['PASS_INJ'] == 3.0, 1, 0)\n",
    "cds_passenger_inj['Fatality Mod'] = np.where(cds_passenger['PASS_INJ'] == 4.0, 1, 0)\n",
    "# collapse multiple rows for each person involved in the crash into a single row for each crash\n",
    "#injuries/fatalities and number of people involved should be summed as total numbers per crash (\"sum\" function)\n",
    "cds_passenger_inj_agg = cds_passenger_inj.groupby(by=['INCID_NO']).sum().reset_index()\n",
    "cds_passenger_inj_agg.shape"
   ]
  },
  {
   "cell_type": "code",
   "execution_count": 60,
   "metadata": {},
   "outputs": [
    {
     "data": {
      "text/plain": [
       "(194715, 12)"
      ]
     },
     "execution_count": 60,
     "metadata": {},
     "output_type": "execute_result"
    }
   ],
   "source": [
    "# join driver and passenger injuries for each crash\n",
    "merged_injury_agg = cds_vehicle_inj_agg.merge(cds_passenger_inj_agg, how='left', on='INCID_NO') # left join to retain records in larger vehicle_inj_agg table\n",
    "merged_injury_agg.shape"
   ]
  },
  {
   "cell_type": "code",
   "execution_count": 61,
   "metadata": {},
   "outputs": [
    {
     "data": {
      "text/html": [
       "<div>\n",
       "<style scoped>\n",
       "    .dataframe tbody tr th:only-of-type {\n",
       "        vertical-align: middle;\n",
       "    }\n",
       "\n",
       "    .dataframe tbody tr th {\n",
       "        vertical-align: top;\n",
       "    }\n",
       "\n",
       "    .dataframe thead th {\n",
       "        text-align: right;\n",
       "    }\n",
       "</style>\n",
       "<table border=\"1\" class=\"dataframe\">\n",
       "  <thead>\n",
       "    <tr style=\"text-align: right;\">\n",
       "      <th></th>\n",
       "      <th>INCID_NO</th>\n",
       "      <th>PED_TYPE</th>\n",
       "      <th>No Injury</th>\n",
       "      <th>Possible Injury</th>\n",
       "      <th>Non-incapacitating Injury</th>\n",
       "      <th>Incapacitating Injury</th>\n",
       "      <th>Fatality</th>\n",
       "      <th>No Injury Mod</th>\n",
       "      <th>Possible Injury Mod</th>\n",
       "      <th>Non-incapacitating Injury Mod</th>\n",
       "      <th>Incapacitating Injury Mod</th>\n",
       "      <th>Fatality Mod</th>\n",
       "    </tr>\n",
       "  </thead>\n",
       "  <tbody>\n",
       "    <tr>\n",
       "      <th>0</th>\n",
       "      <td>ABLI070425075000</td>\n",
       "      <td>0.0</td>\n",
       "      <td>1</td>\n",
       "      <td>0</td>\n",
       "      <td>0</td>\n",
       "      <td>0</td>\n",
       "      <td>0</td>\n",
       "      <td>NaN</td>\n",
       "      <td>NaN</td>\n",
       "      <td>NaN</td>\n",
       "      <td>NaN</td>\n",
       "      <td>NaN</td>\n",
       "    </tr>\n",
       "    <tr>\n",
       "      <th>1</th>\n",
       "      <td>ABLI070804175500</td>\n",
       "      <td>0.0</td>\n",
       "      <td>1</td>\n",
       "      <td>0</td>\n",
       "      <td>0</td>\n",
       "      <td>0</td>\n",
       "      <td>0</td>\n",
       "      <td>NaN</td>\n",
       "      <td>NaN</td>\n",
       "      <td>NaN</td>\n",
       "      <td>NaN</td>\n",
       "      <td>NaN</td>\n",
       "    </tr>\n",
       "    <tr>\n",
       "      <th>2</th>\n",
       "      <td>ABLI091117170900</td>\n",
       "      <td>2.0</td>\n",
       "      <td>2</td>\n",
       "      <td>0</td>\n",
       "      <td>0</td>\n",
       "      <td>0</td>\n",
       "      <td>0</td>\n",
       "      <td>NaN</td>\n",
       "      <td>NaN</td>\n",
       "      <td>NaN</td>\n",
       "      <td>NaN</td>\n",
       "      <td>NaN</td>\n",
       "    </tr>\n",
       "    <tr>\n",
       "      <th>3</th>\n",
       "      <td>ABLI121009110000</td>\n",
       "      <td>0.0</td>\n",
       "      <td>1</td>\n",
       "      <td>0</td>\n",
       "      <td>0</td>\n",
       "      <td>0</td>\n",
       "      <td>0</td>\n",
       "      <td>1.0</td>\n",
       "      <td>0.0</td>\n",
       "      <td>0.0</td>\n",
       "      <td>0.0</td>\n",
       "      <td>0.0</td>\n",
       "    </tr>\n",
       "    <tr>\n",
       "      <th>4</th>\n",
       "      <td>ABLI140610163500</td>\n",
       "      <td>0.0</td>\n",
       "      <td>0</td>\n",
       "      <td>0</td>\n",
       "      <td>0</td>\n",
       "      <td>0</td>\n",
       "      <td>0</td>\n",
       "      <td>NaN</td>\n",
       "      <td>NaN</td>\n",
       "      <td>NaN</td>\n",
       "      <td>NaN</td>\n",
       "      <td>NaN</td>\n",
       "    </tr>\n",
       "  </tbody>\n",
       "</table>\n",
       "</div>"
      ],
      "text/plain": [
       "           INCID_NO  PED_TYPE  No Injury  Possible Injury  \\\n",
       "0  ABLI070425075000       0.0          1                0   \n",
       "1  ABLI070804175500       0.0          1                0   \n",
       "2  ABLI091117170900       2.0          2                0   \n",
       "3  ABLI121009110000       0.0          1                0   \n",
       "4  ABLI140610163500       0.0          0                0   \n",
       "\n",
       "   Non-incapacitating Injury  Incapacitating Injury  Fatality  No Injury Mod  \\\n",
       "0                          0                      0         0            NaN   \n",
       "1                          0                      0         0            NaN   \n",
       "2                          0                      0         0            NaN   \n",
       "3                          0                      0         0            1.0   \n",
       "4                          0                      0         0            NaN   \n",
       "\n",
       "   Possible Injury Mod  Non-incapacitating Injury Mod  \\\n",
       "0                  NaN                            NaN   \n",
       "1                  NaN                            NaN   \n",
       "2                  NaN                            NaN   \n",
       "3                  0.0                            0.0   \n",
       "4                  NaN                            NaN   \n",
       "\n",
       "   Incapacitating Injury Mod  Fatality Mod  \n",
       "0                        NaN           NaN  \n",
       "1                        NaN           NaN  \n",
       "2                        NaN           NaN  \n",
       "3                        0.0           0.0  \n",
       "4                        NaN           NaN  "
      ]
     },
     "execution_count": 61,
     "metadata": {},
     "output_type": "execute_result"
    }
   ],
   "source": [
    "merged_injury_agg.head()"
   ]
  },
  {
   "cell_type": "code",
   "execution_count": 62,
   "metadata": {},
   "outputs": [
    {
     "data": {
      "text/html": [
       "<div>\n",
       "<style scoped>\n",
       "    .dataframe tbody tr th:only-of-type {\n",
       "        vertical-align: middle;\n",
       "    }\n",
       "\n",
       "    .dataframe tbody tr th {\n",
       "        vertical-align: top;\n",
       "    }\n",
       "\n",
       "    .dataframe thead th {\n",
       "        text-align: right;\n",
       "    }\n",
       "</style>\n",
       "<table border=\"1\" class=\"dataframe\">\n",
       "  <thead>\n",
       "    <tr style=\"text-align: right;\">\n",
       "      <th></th>\n",
       "      <th>INCID_NO</th>\n",
       "      <th>PED_TYPE</th>\n",
       "      <th>No Injury</th>\n",
       "      <th>Possible Injury</th>\n",
       "      <th>Non-incapacitating Injury</th>\n",
       "      <th>Incapacitating Injury</th>\n",
       "      <th>Fatality</th>\n",
       "      <th>No Injury Mod</th>\n",
       "      <th>Possible Injury Mod</th>\n",
       "      <th>Non-incapacitating Injury Mod</th>\n",
       "      <th>Incapacitating Injury Mod</th>\n",
       "      <th>Fatality Mod</th>\n",
       "    </tr>\n",
       "  </thead>\n",
       "  <tbody>\n",
       "    <tr>\n",
       "      <th>0</th>\n",
       "      <td>ABLI070425075000</td>\n",
       "      <td>0.0</td>\n",
       "      <td>1</td>\n",
       "      <td>0</td>\n",
       "      <td>0</td>\n",
       "      <td>0</td>\n",
       "      <td>0</td>\n",
       "      <td>0.0</td>\n",
       "      <td>0.0</td>\n",
       "      <td>0.0</td>\n",
       "      <td>0.0</td>\n",
       "      <td>0.0</td>\n",
       "    </tr>\n",
       "    <tr>\n",
       "      <th>1</th>\n",
       "      <td>ABLI070804175500</td>\n",
       "      <td>0.0</td>\n",
       "      <td>1</td>\n",
       "      <td>0</td>\n",
       "      <td>0</td>\n",
       "      <td>0</td>\n",
       "      <td>0</td>\n",
       "      <td>0.0</td>\n",
       "      <td>0.0</td>\n",
       "      <td>0.0</td>\n",
       "      <td>0.0</td>\n",
       "      <td>0.0</td>\n",
       "    </tr>\n",
       "    <tr>\n",
       "      <th>2</th>\n",
       "      <td>ABLI091117170900</td>\n",
       "      <td>2.0</td>\n",
       "      <td>2</td>\n",
       "      <td>0</td>\n",
       "      <td>0</td>\n",
       "      <td>0</td>\n",
       "      <td>0</td>\n",
       "      <td>0.0</td>\n",
       "      <td>0.0</td>\n",
       "      <td>0.0</td>\n",
       "      <td>0.0</td>\n",
       "      <td>0.0</td>\n",
       "    </tr>\n",
       "    <tr>\n",
       "      <th>3</th>\n",
       "      <td>ABLI121009110000</td>\n",
       "      <td>0.0</td>\n",
       "      <td>1</td>\n",
       "      <td>0</td>\n",
       "      <td>0</td>\n",
       "      <td>0</td>\n",
       "      <td>0</td>\n",
       "      <td>1.0</td>\n",
       "      <td>0.0</td>\n",
       "      <td>0.0</td>\n",
       "      <td>0.0</td>\n",
       "      <td>0.0</td>\n",
       "    </tr>\n",
       "    <tr>\n",
       "      <th>4</th>\n",
       "      <td>ABLI140610163500</td>\n",
       "      <td>0.0</td>\n",
       "      <td>0</td>\n",
       "      <td>0</td>\n",
       "      <td>0</td>\n",
       "      <td>0</td>\n",
       "      <td>0</td>\n",
       "      <td>0.0</td>\n",
       "      <td>0.0</td>\n",
       "      <td>0.0</td>\n",
       "      <td>0.0</td>\n",
       "      <td>0.0</td>\n",
       "    </tr>\n",
       "  </tbody>\n",
       "</table>\n",
       "</div>"
      ],
      "text/plain": [
       "           INCID_NO  PED_TYPE  No Injury  Possible Injury  \\\n",
       "0  ABLI070425075000       0.0          1                0   \n",
       "1  ABLI070804175500       0.0          1                0   \n",
       "2  ABLI091117170900       2.0          2                0   \n",
       "3  ABLI121009110000       0.0          1                0   \n",
       "4  ABLI140610163500       0.0          0                0   \n",
       "\n",
       "   Non-incapacitating Injury  Incapacitating Injury  Fatality  No Injury Mod  \\\n",
       "0                          0                      0         0            0.0   \n",
       "1                          0                      0         0            0.0   \n",
       "2                          0                      0         0            0.0   \n",
       "3                          0                      0         0            1.0   \n",
       "4                          0                      0         0            0.0   \n",
       "\n",
       "   Possible Injury Mod  Non-incapacitating Injury Mod  \\\n",
       "0                  0.0                            0.0   \n",
       "1                  0.0                            0.0   \n",
       "2                  0.0                            0.0   \n",
       "3                  0.0                            0.0   \n",
       "4                  0.0                            0.0   \n",
       "\n",
       "   Incapacitating Injury Mod  Fatality Mod  \n",
       "0                        0.0           0.0  \n",
       "1                        0.0           0.0  \n",
       "2                        0.0           0.0  \n",
       "3                        0.0           0.0  \n",
       "4                        0.0           0.0  "
      ]
     },
     "execution_count": 62,
     "metadata": {},
     "output_type": "execute_result"
    }
   ],
   "source": [
    "merged_injury_agg = merged_injury_agg.fillna(0) # required to make subsequent column addition step work (cannot handle NaN)\n",
    "merged_injury_agg.head()"
   ]
  },
  {
   "cell_type": "code",
   "execution_count": 63,
   "metadata": {},
   "outputs": [
    {
     "name": "stderr",
     "output_type": "stream",
     "text": [
      "<ipython-input-63-9ba6a2f1b22b>:3: SettingWithCopyWarning: \n",
      "A value is trying to be set on a copy of a slice from a DataFrame.\n",
      "Try using .loc[row_indexer,col_indexer] = value instead\n",
      "\n",
      "See the caveats in the documentation: https://pandas.pydata.org/pandas-docs/stable/user_guide/indexing.html#returning-a-view-versus-a-copy\n",
      "  cds_combined_injury_agg['No Injury'] = merged_injury_agg['No Injury'] + merged_injury_agg['No Injury Mod']\n",
      "<ipython-input-63-9ba6a2f1b22b>:4: SettingWithCopyWarning: \n",
      "A value is trying to be set on a copy of a slice from a DataFrame.\n",
      "Try using .loc[row_indexer,col_indexer] = value instead\n",
      "\n",
      "See the caveats in the documentation: https://pandas.pydata.org/pandas-docs/stable/user_guide/indexing.html#returning-a-view-versus-a-copy\n",
      "  cds_combined_injury_agg['Possible Injury'] = merged_injury_agg['Possible Injury'] + merged_injury_agg['Possible Injury Mod']\n",
      "<ipython-input-63-9ba6a2f1b22b>:5: SettingWithCopyWarning: \n",
      "A value is trying to be set on a copy of a slice from a DataFrame.\n",
      "Try using .loc[row_indexer,col_indexer] = value instead\n",
      "\n",
      "See the caveats in the documentation: https://pandas.pydata.org/pandas-docs/stable/user_guide/indexing.html#returning-a-view-versus-a-copy\n",
      "  cds_combined_injury_agg['Non-incapacitating Injury'] = merged_injury_agg['Non-incapacitating Injury'] + merged_injury_agg['Non-incapacitating Injury Mod']\n",
      "<ipython-input-63-9ba6a2f1b22b>:6: SettingWithCopyWarning: \n",
      "A value is trying to be set on a copy of a slice from a DataFrame.\n",
      "Try using .loc[row_indexer,col_indexer] = value instead\n",
      "\n",
      "See the caveats in the documentation: https://pandas.pydata.org/pandas-docs/stable/user_guide/indexing.html#returning-a-view-versus-a-copy\n",
      "  cds_combined_injury_agg['Incapacitating Injury'] = merged_injury_agg['Incapacitating Injury'] + merged_injury_agg['Incapacitating Injury Mod']\n",
      "<ipython-input-63-9ba6a2f1b22b>:7: SettingWithCopyWarning: \n",
      "A value is trying to be set on a copy of a slice from a DataFrame.\n",
      "Try using .loc[row_indexer,col_indexer] = value instead\n",
      "\n",
      "See the caveats in the documentation: https://pandas.pydata.org/pandas-docs/stable/user_guide/indexing.html#returning-a-view-versus-a-copy\n",
      "  cds_combined_injury_agg['Fatality'] = merged_injury_agg['Fatality'] + merged_injury_agg['Fatality Mod']\n"
     ]
    },
    {
     "data": {
      "text/plain": [
       "(1232.0, 1232)"
      ]
     },
     "execution_count": 63,
     "metadata": {},
     "output_type": "execute_result"
    }
   ],
   "source": [
    "# combine driver and passenger injuries to single value for each crash\n",
    "cds_combined_injury_agg = merged_injury_agg[['INCID_NO']] # subset needed columns\n",
    "cds_combined_injury_agg['No Injury'] = merged_injury_agg['No Injury'] + merged_injury_agg['No Injury Mod']\n",
    "cds_combined_injury_agg['Possible Injury'] = merged_injury_agg['Possible Injury'] + merged_injury_agg['Possible Injury Mod']\n",
    "cds_combined_injury_agg['Non-incapacitating Injury'] = merged_injury_agg['Non-incapacitating Injury'] + merged_injury_agg['Non-incapacitating Injury Mod']\n",
    "cds_combined_injury_agg['Incapacitating Injury'] = merged_injury_agg['Incapacitating Injury'] + merged_injury_agg['Incapacitating Injury Mod']\n",
    "cds_combined_injury_agg['Fatality'] = merged_injury_agg['Fatality'] + merged_injury_agg['Fatality Mod']\n",
    "# sum of driver and passenger total injuries looks good!!\n",
    "cds_combined_injury_agg['Fatality'].sum(), cds_vehicle_inj_agg['Fatality'].sum()+cds_passenger_inj_agg['Fatality Mod'].sum()"
   ]
  },
  {
   "cell_type": "code",
   "execution_count": 64,
   "metadata": {},
   "outputs": [
    {
     "name": "stderr",
     "output_type": "stream",
     "text": [
      "<ipython-input-64-18e60d18b603>:1: SettingWithCopyWarning: \n",
      "A value is trying to be set on a copy of a slice from a DataFrame.\n",
      "Try using .loc[row_indexer,col_indexer] = value instead\n",
      "\n",
      "See the caveats in the documentation: https://pandas.pydata.org/pandas-docs/stable/user_guide/indexing.html#returning-a-view-versus-a-copy\n",
      "  cds_combined_injury_agg['Crash_Severity'] = 0 # initialize column with dummy data to replace with for loop\n",
      "C:\\Users\\Sophie.Kaye\\Anaconda3\\lib\\site-packages\\pandas\\core\\indexing.py:1637: SettingWithCopyWarning: \n",
      "A value is trying to be set on a copy of a slice from a DataFrame\n",
      "\n",
      "See the caveats in the documentation: https://pandas.pydata.org/pandas-docs/stable/user_guide/indexing.html#returning-a-view-versus-a-copy\n",
      "  self._setitem_single_block(indexer, value, name)\n",
      "C:\\Users\\Sophie.Kaye\\Anaconda3\\lib\\site-packages\\pandas\\core\\indexing.py:692: SettingWithCopyWarning: \n",
      "A value is trying to be set on a copy of a slice from a DataFrame\n",
      "\n",
      "See the caveats in the documentation: https://pandas.pydata.org/pandas-docs/stable/user_guide/indexing.html#returning-a-view-versus-a-copy\n",
      "  iloc._setitem_with_indexer(indexer, value, self.name)\n",
      "<ipython-input-64-18e60d18b603>:16: SettingWithCopyWarning: \n",
      "A value is trying to be set on a copy of a slice from a DataFrame.\n",
      "Try using .loc[row_indexer,col_indexer] = value instead\n",
      "\n",
      "See the caveats in the documentation: https://pandas.pydata.org/pandas-docs/stable/user_guide/indexing.html#returning-a-view-versus-a-copy\n",
      "  cds_combined_injury_agg['CrashSeverity_Fatal'] = np.where(cds_combined_injury_agg['Crash_Severity']=='Fatal', 1,0)\n",
      "<ipython-input-64-18e60d18b603>:17: SettingWithCopyWarning: \n",
      "A value is trying to be set on a copy of a slice from a DataFrame.\n",
      "Try using .loc[row_indexer,col_indexer] = value instead\n",
      "\n",
      "See the caveats in the documentation: https://pandas.pydata.org/pandas-docs/stable/user_guide/indexing.html#returning-a-view-versus-a-copy\n",
      "  cds_combined_injury_agg['CrashSeverity_Incap'] = np.where(cds_combined_injury_agg['Crash_Severity']=='Incap', 1,0)\n",
      "<ipython-input-64-18e60d18b603>:18: SettingWithCopyWarning: \n",
      "A value is trying to be set on a copy of a slice from a DataFrame.\n",
      "Try using .loc[row_indexer,col_indexer] = value instead\n",
      "\n",
      "See the caveats in the documentation: https://pandas.pydata.org/pandas-docs/stable/user_guide/indexing.html#returning-a-view-versus-a-copy\n",
      "  cds_combined_injury_agg['CrashSeverity_NonIncap'] = np.where(cds_combined_injury_agg['Crash_Severity']=='Non-Incap', 1,0)\n",
      "<ipython-input-64-18e60d18b603>:19: SettingWithCopyWarning: \n",
      "A value is trying to be set on a copy of a slice from a DataFrame.\n",
      "Try using .loc[row_indexer,col_indexer] = value instead\n",
      "\n",
      "See the caveats in the documentation: https://pandas.pydata.org/pandas-docs/stable/user_guide/indexing.html#returning-a-view-versus-a-copy\n",
      "  cds_combined_injury_agg['CrashSeverity_Possible'] = np.where(cds_combined_injury_agg['Crash_Severity']=='Possible', 1,0)\n"
     ]
    }
   ],
   "source": [
    "cds_combined_injury_agg['Crash_Severity'] = 0 # initialize column with dummy data to replace with for loop\n",
    "length = range(cds_combined_injury_agg.shape[0]) # search through all rows in aggregated dataset (to examine all injuries from each crash as a whole)\n",
    "for i in length: # determine most severe injury outcome\n",
    "    if cds_combined_injury_agg['Fatality'].iloc[i] > 0:\n",
    "        cds_combined_injury_agg['Crash_Severity'].iloc[i] = 'Fatal'\n",
    "    elif cds_combined_injury_agg['Incapacitating Injury'].iloc[i] > 0:\n",
    "        cds_combined_injury_agg['Crash_Severity'].iloc[i] = 'Incap'\n",
    "    elif cds_combined_injury_agg['Non-incapacitating Injury'].iloc[i] > 0:\n",
    "        cds_combined_injury_agg['Crash_Severity'].iloc[i] = 'Non-Incap'\n",
    "    elif cds_combined_injury_agg['Possible Injury'].iloc[i] > 0:\n",
    "        cds_combined_injury_agg['Crash_Severity'].iloc[i] = 'Possible'\n",
    "    else:\n",
    "        cds_combined_injury_agg['Crash_Severity'].iloc[i] = 'No Inj'\n",
    "\n",
    "#set flags for each Crash Severity attribute\n",
    "cds_combined_injury_agg['CrashSeverity_Fatal'] = np.where(cds_combined_injury_agg['Crash_Severity']=='Fatal', 1,0)\n",
    "cds_combined_injury_agg['CrashSeverity_Incap'] = np.where(cds_combined_injury_agg['Crash_Severity']=='Incap', 1,0)\n",
    "cds_combined_injury_agg['CrashSeverity_NonIncap'] = np.where(cds_combined_injury_agg['Crash_Severity']=='Non-Incap', 1,0)\n",
    "cds_combined_injury_agg['CrashSeverity_Possible'] = np.where(cds_combined_injury_agg['Crash_Severity']=='Possible', 1,0)\n",
    "cds_combined_injury_agg['CrashSeverity_NoInj'] = np.where(cds_combined_injury_agg['Crash_Severity']=='No Inj', 1,0)"
   ]
  },
  {
   "cell_type": "code",
   "execution_count": 65,
   "metadata": {},
   "outputs": [
    {
     "data": {
      "text/plain": [
       "(6348, 6348)"
      ]
     },
     "execution_count": 65,
     "metadata": {},
     "output_type": "execute_result"
    }
   ],
   "source": [
    "# test crash severity logic - looks good!\n",
    "test=cds_combined_injury_agg.loc[cds_combined_injury_agg['Fatality']==0] # remove fatal crashes\n",
    "cds_combined_injury_agg['CrashSeverity_Incap'].sum(), test.loc[test['Incapacitating Injury']>0].shape[0] # number of crashes with incapacitating severity = number of crashes resulting in incapacitating injuries when fatal crashes are removed from dataset"
   ]
  },
  {
   "cell_type": "code",
   "execution_count": 66,
   "metadata": {},
   "outputs": [
    {
     "data": {
      "text/plain": [
       "0.0     301573\n",
       "1.0       1045\n",
       "2.0       1039\n",
       "3.0          6\n",
       "4.0          6\n",
       "5.0         44\n",
       "6.0         40\n",
       "88.0       122\n",
       "98.0        31\n",
       "99.0      1308\n",
       "Name: PED_TYPE, dtype: int64"
      ]
     },
     "execution_count": 66,
     "metadata": {},
     "output_type": "execute_result"
    }
   ],
   "source": [
    "cds_vehicle['PED_TYPE'].value_counts().sort_index()"
   ]
  },
  {
   "cell_type": "code",
   "execution_count": 67,
   "metadata": {},
   "outputs": [
    {
     "data": {
      "text/plain": [
       "Index(['OBJECTID', 'INCID_NO', 'UNIT_NO', 'VEH_YEAR', 'MAKE_MOD', 'MODEL',\n",
       "       'NUM_OCC', 'REG_STATE', 'REG_YEAR', 'PLATE_NUM', 'DIR_TRAVEL',\n",
       "       'SPEED_LIMIT', 'BODY_TYPE', 'VEH_MANVR', 'VEH_DAMAGE', 'DAM_LOCATION',\n",
       "       'LIC_NUM', 'LIC_STATE', 'PED', 'BRTH_DATE', 'DRIVER_SEX', 'DRIVER_BELT',\n",
       "       'DRIVER_EJECT', 'DRIVER_INJ', 'DRIVER_VIOLTN', 'VIOL_CHG1', 'VIOL_CHG2',\n",
       "       'PED_TYPE', 'PED_LOC', 'PED_ACTN', 'REPAIR'],\n",
       "      dtype='object')"
      ]
     },
     "execution_count": 67,
     "metadata": {},
     "output_type": "execute_result"
    }
   ],
   "source": [
    "cds_vehicle.columns"
   ]
  },
  {
   "cell_type": "code",
   "execution_count": 68,
   "metadata": {
    "scrolled": true
   },
   "outputs": [
    {
     "name": "stderr",
     "output_type": "stream",
     "text": [
      "<ipython-input-68-c346df76db7f>:3: SettingWithCopyWarning: \n",
      "A value is trying to be set on a copy of a slice from a DataFrame.\n",
      "Try using .loc[row_indexer,col_indexer] = value instead\n",
      "\n",
      "See the caveats in the documentation: https://pandas.pydata.org/pandas-docs/stable/user_guide/indexing.html#returning-a-view-versus-a-copy\n",
      "  cds_passenger_slim['Num_Motorist'] = np.where(cds_vehicle['PED_TYPE'].isin([1.0, 2.0, 3.0, 4.0])==False, cds_vehicle['NUM_OCC'], 0)\n",
      "<ipython-input-68-c346df76db7f>:4: SettingWithCopyWarning: \n",
      "A value is trying to be set on a copy of a slice from a DataFrame.\n",
      "Try using .loc[row_indexer,col_indexer] = value instead\n",
      "\n",
      "See the caveats in the documentation: https://pandas.pydata.org/pandas-docs/stable/user_guide/indexing.html#returning-a-view-versus-a-copy\n",
      "  cds_passenger_slim['Num_Non_Motorist'] = np.where(cds_vehicle['PED_TYPE'].isin([1.0, 2.0, 3.0, 4.0])==True, 1, 0)\n",
      "<ipython-input-68-c346df76db7f>:5: SettingWithCopyWarning: \n",
      "A value is trying to be set on a copy of a slice from a DataFrame.\n",
      "Try using .loc[row_indexer,col_indexer] = value instead\n",
      "\n",
      "See the caveats in the documentation: https://pandas.pydata.org/pandas-docs/stable/user_guide/indexing.html#returning-a-view-versus-a-copy\n",
      "  cds_passenger_slim['Num_Pedestrian'] = np.where(cds_vehicle['PED_TYPE']==1.0, 1,0)\n"
     ]
    },
    {
     "data": {
      "text/plain": [
       "(2096, 2096)"
      ]
     },
     "execution_count": 68,
     "metadata": {},
     "output_type": "execute_result"
    }
   ],
   "source": [
    "# determine number of people involved\n",
    "cds_passenger_slim = cds_vehicle[['INCID_NO']] # subset needed columns\n",
    "cds_passenger_slim['Num_Motorist'] = np.where(cds_vehicle['PED_TYPE'].isin([1.0, 2.0, 3.0, 4.0])==False, cds_vehicle['NUM_OCC'], 0)\n",
    "cds_passenger_slim['Num_Non_Motorist'] = np.where(cds_vehicle['PED_TYPE'].isin([1.0, 2.0, 3.0, 4.0])==True, 1, 0)\n",
    "cds_passenger_slim['Num_Pedestrian'] = np.where(cds_vehicle['PED_TYPE']==1.0, 1,0)\n",
    "# check new non-motorist logic, looks good!\n",
    "cds_passenger_slim['Num_Non_Motorist'].sum(), (1045+1039+6+6) # combined number of Pedestrians, Pedalcyclists, Riders of Animals, and Riders of Animal-drawn Vehicle"
   ]
  },
  {
   "cell_type": "code",
   "execution_count": 69,
   "metadata": {},
   "outputs": [
    {
     "data": {
      "text/plain": [
       "(538053.0, 538053.0)"
      ]
     },
     "execution_count": 69,
     "metadata": {},
     "output_type": "execute_result"
    }
   ],
   "source": [
    "# check new motorist logic - looks good!\n",
    "test = cds_vehicle.loc[cds_vehicle['PED_TYPE'].isin([1.0, 2.0, 3.0, 4.0])==True]\n",
    "cds_passenger_slim['Num_Motorist'].sum(), cds_vehicle['NUM_OCC'].sum()-test['NUM_OCC'].sum() # number of motorists = all people - number of non-motorists "
   ]
  },
  {
   "cell_type": "code",
   "execution_count": 70,
   "metadata": {},
   "outputs": [
    {
     "data": {
      "text/plain": [
       "1045"
      ]
     },
     "execution_count": 70,
     "metadata": {},
     "output_type": "execute_result"
    }
   ],
   "source": [
    "cds_passenger_slim['Num_Pedestrian'].sum() # exactly as expected from 'PED_TYPE' value counts"
   ]
  },
  {
   "cell_type": "code",
   "execution_count": 71,
   "metadata": {},
   "outputs": [
    {
     "name": "stderr",
     "output_type": "stream",
     "text": [
      "<ipython-input-71-6abde8efd571>:1: SettingWithCopyWarning: \n",
      "A value is trying to be set on a copy of a slice from a DataFrame.\n",
      "Try using .loc[row_indexer,col_indexer] = value instead\n",
      "\n",
      "See the caveats in the documentation: https://pandas.pydata.org/pandas-docs/stable/user_guide/indexing.html#returning-a-view-versus-a-copy\n",
      "  cds_passenger_slim['Num_Ped_Deaths'] = np.where(cds_vehicle_inj['PED_TYPE']==1.0, cds_vehicle_inj['Fatality'], 0)\n"
     ]
    },
    {
     "data": {
      "text/plain": [
       "(45, 45)"
      ]
     },
     "execution_count": 71,
     "metadata": {},
     "output_type": "execute_result"
    }
   ],
   "source": [
    "cds_passenger_slim['Num_Ped_Deaths'] = np.where(cds_vehicle_inj['PED_TYPE']==1.0, cds_vehicle_inj['Fatality'], 0)\n",
    "# test logic, looks good!\n",
    "test = cds_vehicle_inj.loc[cds_vehicle_inj['PED_TYPE']==1.0]\n",
    "cds_passenger_slim['Num_Ped_Deaths'].sum(), test['Fatality'].sum() # number of pedestrian deaths = \"driver\" fatalities in subset of vehicle reports for pedestrians"
   ]
  },
  {
   "cell_type": "code",
   "execution_count": 72,
   "metadata": {},
   "outputs": [
    {
     "data": {
      "text/plain": [
       "(194715, 5)"
      ]
     },
     "execution_count": 72,
     "metadata": {},
     "output_type": "execute_result"
    }
   ],
   "source": [
    "# collapse multiple rows for each person involved in the crash into a single row for each crash\n",
    "# number of people involved should be summed as total numbers per crash (\"sum\" function)\n",
    "cds_passenger_slim_agg = cds_passenger_slim.groupby(by=['INCID_NO']).sum().reset_index()\n",
    "cds_passenger_slim_agg.shape"
   ]
  },
  {
   "cell_type": "code",
   "execution_count": 73,
   "metadata": {},
   "outputs": [
    {
     "data": {
      "text/plain": [
       "0    193728\n",
       "1       937\n",
       "2        45\n",
       "3         3\n",
       "4         1\n",
       "5         1\n",
       "Name: Num_Pedestrian, dtype: int64"
      ]
     },
     "execution_count": 73,
     "metadata": {},
     "output_type": "execute_result"
    }
   ],
   "source": [
    "cds_passenger_slim_agg['Num_Pedestrian'].value_counts()"
   ]
  },
  {
   "cell_type": "code",
   "execution_count": 74,
   "metadata": {},
   "outputs": [
    {
     "data": {
      "text/plain": [
       "(987, 987)"
      ]
     },
     "execution_count": 74,
     "metadata": {},
     "output_type": "execute_result"
    }
   ],
   "source": [
    "# set binary indicators for VRU and Pedestrian\n",
    "cds_passenger_slim_agg['Pedestrian'] = np.where(cds_passenger_slim_agg['Num_Pedestrian'] > 0, 1, 0)\n",
    "cds_passenger_slim_agg['VRU'] = np.where(cds_passenger_slim_agg['Num_Non_Motorist'] > 0, 1, 0)\n",
    "# test logic - looks good!\n",
    "cds_passenger_slim_agg['Pedestrian'].sum(), (937+45+3+1+1) # replacing number of pedestrians involved in each crash with 1 for all crashes involving pedestrians"
   ]
  },
  {
   "cell_type": "code",
   "execution_count": 75,
   "metadata": {},
   "outputs": [
    {
     "data": {
      "text/plain": [
       "((194715, 7), (194715, 12))"
      ]
     },
     "execution_count": 75,
     "metadata": {},
     "output_type": "execute_result"
    }
   ],
   "source": [
    "cds_passenger_slim_agg.shape, cds_combined_injury_agg.shape"
   ]
  },
  {
   "cell_type": "code",
   "execution_count": 76,
   "metadata": {},
   "outputs": [
    {
     "data": {
      "text/plain": [
       "Index(['INCID_NO', 'Num_Motorist', 'Num_Non_Motorist', 'Num_Pedestrian',\n",
       "       'Num_Ped_Deaths', 'Pedestrian', 'VRU'],\n",
       "      dtype='object')"
      ]
     },
     "execution_count": 76,
     "metadata": {},
     "output_type": "execute_result"
    }
   ],
   "source": [
    "cds_passenger_slim_agg.columns"
   ]
  },
  {
   "cell_type": "code",
   "execution_count": 77,
   "metadata": {},
   "outputs": [
    {
     "data": {
      "text/plain": [
       "Index(['INCID_NO', 'No Injury', 'Possible Injury', 'Non-incapacitating Injury',\n",
       "       'Incapacitating Injury', 'Fatality', 'Crash_Severity',\n",
       "       'CrashSeverity_Fatal', 'CrashSeverity_Incap', 'CrashSeverity_NonIncap',\n",
       "       'CrashSeverity_Possible', 'CrashSeverity_NoInj'],\n",
       "      dtype='object')"
      ]
     },
     "execution_count": 77,
     "metadata": {},
     "output_type": "execute_result"
    }
   ],
   "source": [
    "cds_combined_injury_agg.columns"
   ]
  },
  {
   "cell_type": "code",
   "execution_count": 78,
   "metadata": {},
   "outputs": [
    {
     "data": {
      "text/plain": [
       "(194715, 18)"
      ]
     },
     "execution_count": 78,
     "metadata": {},
     "output_type": "execute_result"
    }
   ],
   "source": [
    "# combine injuries with number of people involved\n",
    "cds_passenger_slim_agg = cds_passenger_slim_agg.merge(cds_combined_injury_agg, how='left', on='INCID_NO')\n",
    "cds_passenger_slim_agg.shape"
   ]
  },
  {
   "cell_type": "code",
   "execution_count": 79,
   "metadata": {},
   "outputs": [
    {
     "data": {
      "text/plain": [
       "Index(['INCID_NO', 'Num_Motorist', 'Num_Non_Motorist', 'Num_Pedestrian',\n",
       "       'Num_Ped_Deaths', 'Pedestrian', 'VRU', 'No Injury', 'Possible Injury',\n",
       "       'Non-incapacitating Injury', 'Incapacitating Injury', 'Fatality',\n",
       "       'Crash_Severity', 'CrashSeverity_Fatal', 'CrashSeverity_Incap',\n",
       "       'CrashSeverity_NonIncap', 'CrashSeverity_Possible',\n",
       "       'CrashSeverity_NoInj'],\n",
       "      dtype='object')"
      ]
     },
     "execution_count": 79,
     "metadata": {},
     "output_type": "execute_result"
    }
   ],
   "source": [
    "cds_passenger_slim_agg.columns"
   ]
  },
  {
   "cell_type": "code",
   "execution_count": 80,
   "metadata": {},
   "outputs": [],
   "source": [
    "# reorder columns to match IMARS\n",
    "cds_passenger_slim_agg = cds_passenger_slim_agg[['INCID_NO','No Injury','Possible Injury','Non-incapacitating Injury','Incapacitating Injury','Fatality','Num_Motorist','Num_Non_Motorist','Num_Pedestrian','Num_Ped_Deaths','Pedestrian','VRU','Crash_Severity','CrashSeverity_Fatal','CrashSeverity_Incap','CrashSeverity_NonIncap','CrashSeverity_Possible','CrashSeverity_NoInj']]"
   ]
  },
  {
   "cell_type": "code",
   "execution_count": 81,
   "metadata": {},
   "outputs": [],
   "source": [
    "cds_passenger_slim_agg.to_csv(\"./CDS_passenger_slim_agg.csv\",index=False)"
   ]
  },
  {
   "cell_type": "markdown",
   "metadata": {},
   "source": [
    "## Vehicle Table"
   ]
  },
  {
   "cell_type": "code",
   "execution_count": 82,
   "metadata": {},
   "outputs": [
    {
     "data": {
      "text/plain": [
       "25.0    65332\n",
       "45.0    47545\n",
       "35.0    47061\n",
       "55.0    28737\n",
       "15.0    26493\n",
       "99.0    17894\n",
       "50.0    16816\n",
       "40.0    15184\n",
       "30.0    14313\n",
       "5.0      9385\n",
       "10.0     4002\n",
       "20.0     3218\n",
       "60.0      132\n",
       "65.0      117\n",
       "75.0       19\n",
       "70.0        4\n",
       "Name: SPEED_LIMIT, dtype: int64"
      ]
     },
     "execution_count": 82,
     "metadata": {},
     "output_type": "execute_result"
    }
   ],
   "source": [
    "cds_vehicle['SPEED_LIMIT'].value_counts()"
   ]
  },
  {
   "cell_type": "code",
   "execution_count": 83,
   "metadata": {},
   "outputs": [
    {
     "name": "stderr",
     "output_type": "stream",
     "text": [
      "<ipython-input-83-859d9e0cb21b>:2: SettingWithCopyWarning: \n",
      "A value is trying to be set on a copy of a slice from a DataFrame.\n",
      "Try using .loc[row_indexer,col_indexer] = value instead\n",
      "\n",
      "See the caveats in the documentation: https://pandas.pydata.org/pandas-docs/stable/user_guide/indexing.html#returning-a-view-versus-a-copy\n",
      "  cds_vehicle_slim['5_mph']= np.where(cds_vehicle['SPEED_LIMIT']==5.0, 1,0)\n",
      "<ipython-input-83-859d9e0cb21b>:3: SettingWithCopyWarning: \n",
      "A value is trying to be set on a copy of a slice from a DataFrame.\n",
      "Try using .loc[row_indexer,col_indexer] = value instead\n",
      "\n",
      "See the caveats in the documentation: https://pandas.pydata.org/pandas-docs/stable/user_guide/indexing.html#returning-a-view-versus-a-copy\n",
      "  cds_vehicle_slim['10_mph']= np.where(cds_vehicle['SPEED_LIMIT']==10.0, 1,0)\n",
      "<ipython-input-83-859d9e0cb21b>:4: SettingWithCopyWarning: \n",
      "A value is trying to be set on a copy of a slice from a DataFrame.\n",
      "Try using .loc[row_indexer,col_indexer] = value instead\n",
      "\n",
      "See the caveats in the documentation: https://pandas.pydata.org/pandas-docs/stable/user_guide/indexing.html#returning-a-view-versus-a-copy\n",
      "  cds_vehicle_slim['15_mph']= np.where(cds_vehicle['SPEED_LIMIT']==15.0, 1,0)\n",
      "<ipython-input-83-859d9e0cb21b>:5: SettingWithCopyWarning: \n",
      "A value is trying to be set on a copy of a slice from a DataFrame.\n",
      "Try using .loc[row_indexer,col_indexer] = value instead\n",
      "\n",
      "See the caveats in the documentation: https://pandas.pydata.org/pandas-docs/stable/user_guide/indexing.html#returning-a-view-versus-a-copy\n",
      "  cds_vehicle_slim['20_mph']= np.where(cds_vehicle['SPEED_LIMIT']==20.0, 1,0)\n",
      "<ipython-input-83-859d9e0cb21b>:6: SettingWithCopyWarning: \n",
      "A value is trying to be set on a copy of a slice from a DataFrame.\n",
      "Try using .loc[row_indexer,col_indexer] = value instead\n",
      "\n",
      "See the caveats in the documentation: https://pandas.pydata.org/pandas-docs/stable/user_guide/indexing.html#returning-a-view-versus-a-copy\n",
      "  cds_vehicle_slim['25_mph']= np.where(cds_vehicle['SPEED_LIMIT']==25.0, 1,0)\n",
      "<ipython-input-83-859d9e0cb21b>:7: SettingWithCopyWarning: \n",
      "A value is trying to be set on a copy of a slice from a DataFrame.\n",
      "Try using .loc[row_indexer,col_indexer] = value instead\n",
      "\n",
      "See the caveats in the documentation: https://pandas.pydata.org/pandas-docs/stable/user_guide/indexing.html#returning-a-view-versus-a-copy\n",
      "  cds_vehicle_slim['30_mph']= np.where(cds_vehicle['SPEED_LIMIT']==30.0, 1,0)\n",
      "<ipython-input-83-859d9e0cb21b>:8: SettingWithCopyWarning: \n",
      "A value is trying to be set on a copy of a slice from a DataFrame.\n",
      "Try using .loc[row_indexer,col_indexer] = value instead\n",
      "\n",
      "See the caveats in the documentation: https://pandas.pydata.org/pandas-docs/stable/user_guide/indexing.html#returning-a-view-versus-a-copy\n",
      "  cds_vehicle_slim['35_mph']= np.where(cds_vehicle['SPEED_LIMIT']==35.0, 1,0)\n",
      "<ipython-input-83-859d9e0cb21b>:9: SettingWithCopyWarning: \n",
      "A value is trying to be set on a copy of a slice from a DataFrame.\n",
      "Try using .loc[row_indexer,col_indexer] = value instead\n",
      "\n",
      "See the caveats in the documentation: https://pandas.pydata.org/pandas-docs/stable/user_guide/indexing.html#returning-a-view-versus-a-copy\n",
      "  cds_vehicle_slim['40_mph']= np.where(cds_vehicle['SPEED_LIMIT']==40.0, 1,0)\n",
      "<ipython-input-83-859d9e0cb21b>:10: SettingWithCopyWarning: \n",
      "A value is trying to be set on a copy of a slice from a DataFrame.\n",
      "Try using .loc[row_indexer,col_indexer] = value instead\n",
      "\n",
      "See the caveats in the documentation: https://pandas.pydata.org/pandas-docs/stable/user_guide/indexing.html#returning-a-view-versus-a-copy\n",
      "  cds_vehicle_slim['45_mph']= np.where(cds_vehicle['SPEED_LIMIT']==45.0, 1,0)\n",
      "<ipython-input-83-859d9e0cb21b>:11: SettingWithCopyWarning: \n",
      "A value is trying to be set on a copy of a slice from a DataFrame.\n",
      "Try using .loc[row_indexer,col_indexer] = value instead\n",
      "\n",
      "See the caveats in the documentation: https://pandas.pydata.org/pandas-docs/stable/user_guide/indexing.html#returning-a-view-versus-a-copy\n",
      "  cds_vehicle_slim['50_mph']= np.where(cds_vehicle['SPEED_LIMIT']==50.0, 1,0)\n",
      "<ipython-input-83-859d9e0cb21b>:12: SettingWithCopyWarning: \n",
      "A value is trying to be set on a copy of a slice from a DataFrame.\n",
      "Try using .loc[row_indexer,col_indexer] = value instead\n",
      "\n",
      "See the caveats in the documentation: https://pandas.pydata.org/pandas-docs/stable/user_guide/indexing.html#returning-a-view-versus-a-copy\n",
      "  cds_vehicle_slim['55_mph']= np.where(cds_vehicle['SPEED_LIMIT']==55.0, 1,0)\n",
      "<ipython-input-83-859d9e0cb21b>:13: SettingWithCopyWarning: \n",
      "A value is trying to be set on a copy of a slice from a DataFrame.\n",
      "Try using .loc[row_indexer,col_indexer] = value instead\n",
      "\n",
      "See the caveats in the documentation: https://pandas.pydata.org/pandas-docs/stable/user_guide/indexing.html#returning-a-view-versus-a-copy\n",
      "  cds_vehicle_slim['60_mph']= np.where(cds_vehicle['SPEED_LIMIT']==60.0, 1,0)\n",
      "<ipython-input-83-859d9e0cb21b>:14: SettingWithCopyWarning: \n",
      "A value is trying to be set on a copy of a slice from a DataFrame.\n",
      "Try using .loc[row_indexer,col_indexer] = value instead\n",
      "\n",
      "See the caveats in the documentation: https://pandas.pydata.org/pandas-docs/stable/user_guide/indexing.html#returning-a-view-versus-a-copy\n",
      "  cds_vehicle_slim['65_mph']= np.where(cds_vehicle['SPEED_LIMIT']==65.0, 1,0)\n",
      "<ipython-input-83-859d9e0cb21b>:15: SettingWithCopyWarning: \n",
      "A value is trying to be set on a copy of a slice from a DataFrame.\n",
      "Try using .loc[row_indexer,col_indexer] = value instead\n",
      "\n",
      "See the caveats in the documentation: https://pandas.pydata.org/pandas-docs/stable/user_guide/indexing.html#returning-a-view-versus-a-copy\n",
      "  cds_vehicle_slim['70_mph']= np.where(cds_vehicle['SPEED_LIMIT']==70.0, 1,0)\n",
      "<ipython-input-83-859d9e0cb21b>:16: SettingWithCopyWarning: \n",
      "A value is trying to be set on a copy of a slice from a DataFrame.\n",
      "Try using .loc[row_indexer,col_indexer] = value instead\n",
      "\n",
      "See the caveats in the documentation: https://pandas.pydata.org/pandas-docs/stable/user_guide/indexing.html#returning-a-view-versus-a-copy\n",
      "  cds_vehicle_slim['75_mph']= np.where(cds_vehicle['SPEED_LIMIT']==75.0, 1,0)\n",
      "<ipython-input-83-859d9e0cb21b>:17: SettingWithCopyWarning: \n",
      "A value is trying to be set on a copy of a slice from a DataFrame.\n",
      "Try using .loc[row_indexer,col_indexer] = value instead\n",
      "\n",
      "See the caveats in the documentation: https://pandas.pydata.org/pandas-docs/stable/user_guide/indexing.html#returning-a-view-versus-a-copy\n",
      "  cds_vehicle_slim['no_posted_speed']= 0\n"
     ]
    },
    {
     "data": {
      "text/plain": [
       "65332"
      ]
     },
     "execution_count": 83,
     "metadata": {},
     "output_type": "execute_result"
    }
   ],
   "source": [
    "cds_vehicle_slim = cds_vehicle[['INCID_NO']] # subset for needed columns\n",
    "cds_vehicle_slim['5_mph']= np.where(cds_vehicle['SPEED_LIMIT']==5.0, 1,0)\n",
    "cds_vehicle_slim['10_mph']= np.where(cds_vehicle['SPEED_LIMIT']==10.0, 1,0)\n",
    "cds_vehicle_slim['15_mph']= np.where(cds_vehicle['SPEED_LIMIT']==15.0, 1,0)\n",
    "cds_vehicle_slim['20_mph']= np.where(cds_vehicle['SPEED_LIMIT']==20.0, 1,0)\n",
    "cds_vehicle_slim['25_mph']= np.where(cds_vehicle['SPEED_LIMIT']==25.0, 1,0)\n",
    "cds_vehicle_slim['30_mph']= np.where(cds_vehicle['SPEED_LIMIT']==30.0, 1,0)\n",
    "cds_vehicle_slim['35_mph']= np.where(cds_vehicle['SPEED_LIMIT']==35.0, 1,0)\n",
    "cds_vehicle_slim['40_mph']= np.where(cds_vehicle['SPEED_LIMIT']==40.0, 1,0)\n",
    "cds_vehicle_slim['45_mph']= np.where(cds_vehicle['SPEED_LIMIT']==45.0, 1,0)\n",
    "cds_vehicle_slim['50_mph']= np.where(cds_vehicle['SPEED_LIMIT']==50.0, 1,0)\n",
    "cds_vehicle_slim['55_mph']= np.where(cds_vehicle['SPEED_LIMIT']==55.0, 1,0)\n",
    "cds_vehicle_slim['60_mph']= np.where(cds_vehicle['SPEED_LIMIT']==60.0, 1,0)\n",
    "cds_vehicle_slim['65_mph']= np.where(cds_vehicle['SPEED_LIMIT']==65.0, 1,0)\n",
    "cds_vehicle_slim['70_mph']= np.where(cds_vehicle['SPEED_LIMIT']==70.0, 1,0)\n",
    "cds_vehicle_slim['75_mph']= np.where(cds_vehicle['SPEED_LIMIT']==75.0, 1,0)\n",
    "cds_vehicle_slim['no_posted_speed']= 0\n",
    "cds_vehicle_slim['25_mph'].sum() # exactly as expected from speed limit value counts"
   ]
  },
  {
   "cell_type": "code",
   "execution_count": 84,
   "metadata": {},
   "outputs": [
    {
     "data": {
      "text/plain": [
       "(194715, 17)"
      ]
     },
     "execution_count": 84,
     "metadata": {},
     "output_type": "execute_result"
    }
   ],
   "source": [
    "# collapse multiple rows for each vehicle involved in the crash into a single row for each crash\n",
    "# only one speed limit should exist per crash to not double count data attribute (\"first\" function)\n",
    "cds_vehicle_slim_agg = cds_vehicle_slim.groupby(by=['INCID_NO']).first().reset_index()\n",
    "cds_vehicle_slim_agg.shape"
   ]
  },
  {
   "cell_type": "code",
   "execution_count": 85,
   "metadata": {},
   "outputs": [],
   "source": [
    "cds_vehicletypes = cds_vehicle[['INCID_NO']] # subset needed columns"
   ]
  },
  {
   "cell_type": "code",
   "execution_count": 86,
   "metadata": {},
   "outputs": [
    {
     "name": "stderr",
     "output_type": "stream",
     "text": [
      "<ipython-input-86-5d4e988f18a1>:1: SettingWithCopyWarning: \n",
      "A value is trying to be set on a copy of a slice from a DataFrame.\n",
      "Try using .loc[row_indexer,col_indexer] = value instead\n",
      "\n",
      "See the caveats in the documentation: https://pandas.pydata.org/pandas-docs/stable/user_guide/indexing.html#returning-a-view-versus-a-copy\n",
      "  cds_vehicletypes['NUM_VEH'] = np.where(cds_vehicle['PED_TYPE'].isin([1.0, 2.0, 3.0, 4.0])==False, 1, 0) # number of entries in vehicle table, excluding VRUs\n"
     ]
    }
   ],
   "source": [
    "cds_vehicletypes['NUM_VEH'] = np.where(cds_vehicle['PED_TYPE'].isin([1.0, 2.0, 3.0, 4.0])==False, 1, 0) # number of entries in vehicle table, excluding VRUs"
   ]
  },
  {
   "cell_type": "code",
   "execution_count": 87,
   "metadata": {},
   "outputs": [
    {
     "data": {
      "text/plain": [
       "1.0     199904\n",
       "6.0      31569\n",
       "3.0      19692\n",
       "7.0       9761\n",
       "0.0       7729\n",
       "4.0       7525\n",
       "12.0      6409\n",
       "88.0      5551\n",
       "15.0      3482\n",
       "10.0      2732\n",
       "8.0       2181\n",
       "99.0      1911\n",
       "2.0       1721\n",
       "9.0       1309\n",
       "11.0       973\n",
       "13.0       943\n",
       "16.0       872\n",
       "5.0        339\n",
       "17.0       215\n",
       "14.0       199\n",
       "30.0        69\n",
       "18.0        50\n",
       "50.0        36\n",
       "98.0        19\n",
       "Name: BODY_TYPE, dtype: int64"
      ]
     },
     "execution_count": 87,
     "metadata": {},
     "output_type": "execute_result"
    }
   ],
   "source": [
    "cds_vehicle['BODY_TYPE'].value_counts()"
   ]
  },
  {
   "cell_type": "code",
   "execution_count": 88,
   "metadata": {},
   "outputs": [
    {
     "name": "stderr",
     "output_type": "stream",
     "text": [
      "<ipython-input-88-c3a4ca4bcc5b>:8: SettingWithCopyWarning: \n",
      "A value is trying to be set on a copy of a slice from a DataFrame.\n",
      "Try using .loc[row_indexer,col_indexer] = value instead\n",
      "\n",
      "See the caveats in the documentation: https://pandas.pydata.org/pandas-docs/stable/user_guide/indexing.html#returning-a-view-versus-a-copy\n",
      "  cds_vehicletypes['Num_Motorcycle'] = np.where(cds_vehicle['BODY_TYPE']==4.0, 1,0)\n"
     ]
    },
    {
     "data": {
      "text/plain": [
       "7525"
      ]
     },
     "execution_count": 88,
     "metadata": {},
     "output_type": "execute_result"
    }
   ],
   "source": [
    "# set flags for each vehicle type\n",
    "\n",
    "#cds_vehicletypes['Car'] = np.where(cds_vehicle['BODY_TYPE']==.isin([1.0, 2.0, 16.0])==True, 1,0)\n",
    "#cds_vehicletypes['SUV'] = np.where(cds_vehicle['BODY_TYPE']==15.0, 1,0)\n",
    "#cds_vehicletypes['Van'] = np.where(cds_vehicle['BODY_TYPE']==3.0, 1,0)\n",
    "#cds_vehicletypes['Truck'] = np.where(cds_vehicle['BODY_TYPE'].isin([6.0, 7.0, 8.0, 17.0])==True, 1,0)\n",
    "#cds_vehicletypes['Bus'] = np.where(cds_vehicle['BODY_TYPE'].isin([10.0, 11.0])==True, 1,0)\n",
    "cds_vehicletypes['Num_Motorcycle'] = np.where(cds_vehicle['BODY_TYPE']==4.0, 1,0)\n",
    "#cds_vehicletypes['RV'] = np.where(cds_vehicle['BODY_TYPE']==12.0, 1,0)\n",
    "cds_vehicletypes['Num_Motorcycle'].sum() # exactly as expected from body type value counts"
   ]
  },
  {
   "cell_type": "code",
   "execution_count": 89,
   "metadata": {},
   "outputs": [
    {
     "data": {
      "text/plain": [
       "(194715, 3)"
      ]
     },
     "execution_count": 89,
     "metadata": {},
     "output_type": "execute_result"
    }
   ],
   "source": [
    "# collapse multiple rows for each vehicle involved in the crash into a single row for each crash\n",
    "# vehicle types and number of people involved should be summed as total numbers per crash (\"sum\" function)\n",
    "cds_vehicletypes_agg = cds_vehicletypes.groupby(by=['INCID_NO']).sum().reset_index()\n",
    "cds_vehicletypes_agg.shape"
   ]
  },
  {
   "cell_type": "code",
   "execution_count": 90,
   "metadata": {},
   "outputs": [
    {
     "data": {
      "text/plain": [
       "0    187574\n",
       "1      6784\n",
       "2       334\n",
       "3        19\n",
       "4         4\n",
       "Name: Num_Motorcycle, dtype: int64"
      ]
     },
     "execution_count": 90,
     "metadata": {},
     "output_type": "execute_result"
    }
   ],
   "source": [
    "cds_vehicletypes_agg['Num_Motorcycle'].value_counts()"
   ]
  },
  {
   "cell_type": "code",
   "execution_count": 91,
   "metadata": {},
   "outputs": [
    {
     "data": {
      "text/plain": [
       "(7141, 7141)"
      ]
     },
     "execution_count": 91,
     "metadata": {},
     "output_type": "execute_result"
    }
   ],
   "source": [
    "# set indicator for crashes involving motorcycles\n",
    "cds_vehicletypes_agg['Motorcycle_Ind'] = np.where(cds_vehicletypes_agg['Num_Motorcycle'] > 0, 1,0)\n",
    "cds_vehicletypes_agg['Motorcycle_Ind'].sum(), (6784+334+19+4) # looks good (replacing number of motorcyclists involved in each crash with 1 for all crashes involving motorcyclists)"
   ]
  },
  {
   "cell_type": "code",
   "execution_count": 92,
   "metadata": {},
   "outputs": [
    {
     "data": {
      "text/plain": [
       "Index(['INCID_NO', 'NUM_VEH', 'Num_Motorcycle', 'Motorcycle_Ind'], dtype='object')"
      ]
     },
     "execution_count": 92,
     "metadata": {},
     "output_type": "execute_result"
    }
   ],
   "source": [
    "cds_vehicletypes_agg.columns"
   ]
  },
  {
   "cell_type": "code",
   "execution_count": 93,
   "metadata": {},
   "outputs": [
    {
     "data": {
      "text/plain": [
       "(194715, 20)"
      ]
     },
     "execution_count": 93,
     "metadata": {},
     "output_type": "execute_result"
    }
   ],
   "source": [
    "# join aggregated ('sum' and 'first') vehicle data into single table\n",
    "cds_slim_vehicle_agg = cds_vehicle_slim_agg.merge(cds_vehicletypes_agg, how='right', on='INCID_NO')\n",
    "cds_slim_vehicle_agg = cds_slim_vehicle_agg.drop_duplicates()\n",
    "cds_slim_vehicle_agg.shape"
   ]
  },
  {
   "cell_type": "code",
   "execution_count": 94,
   "metadata": {},
   "outputs": [
    {
     "data": {
      "text/plain": [
       "Index(['INCID_NO', '5_mph', '10_mph', '15_mph', '20_mph', '25_mph', '30_mph',\n",
       "       '35_mph', '40_mph', '45_mph', '50_mph', '55_mph', '60_mph', '65_mph',\n",
       "       '70_mph', '75_mph', 'no_posted_speed', 'NUM_VEH', 'Num_Motorcycle',\n",
       "       'Motorcycle_Ind'],\n",
       "      dtype='object')"
      ]
     },
     "execution_count": 94,
     "metadata": {},
     "output_type": "execute_result"
    }
   ],
   "source": [
    "cds_slim_vehicle_agg.columns"
   ]
  },
  {
   "cell_type": "code",
   "execution_count": 95,
   "metadata": {},
   "outputs": [],
   "source": [
    "cds_slim_vehicle_agg.to_csv(\"./CDS_slim_vehicle_agg.csv\",index=False)"
   ]
  },
  {
   "cell_type": "markdown",
   "metadata": {},
   "source": [
    "# Merge Slim Tables"
   ]
  },
  {
   "cell_type": "code",
   "execution_count": 96,
   "metadata": {},
   "outputs": [
    {
     "data": {
      "text/plain": [
       "((203909, 9), (203909, 11), (194715, 18), (194715, 20))"
      ]
     },
     "execution_count": 96,
     "metadata": {},
     "output_type": "execute_result"
    }
   ],
   "source": [
    "cds_crash_slim.shape, cds_crash_details_slim.shape, cds_passenger_slim_agg.shape, cds_slim_vehicle_agg.shape"
   ]
  },
  {
   "cell_type": "code",
   "execution_count": 97,
   "metadata": {},
   "outputs": [
    {
     "data": {
      "text/plain": [
       "(203909, 19)"
      ]
     },
     "execution_count": 97,
     "metadata": {},
     "output_type": "execute_result"
    }
   ],
   "source": [
    "cds_crash_details_slim_merged = cds_crash_details_slim.merge(cds_crash_slim, how='right', on='INCID_NO')\n",
    "cds_crash_details_slim_merged.shape"
   ]
  },
  {
   "cell_type": "code",
   "execution_count": 98,
   "metadata": {},
   "outputs": [
    {
     "data": {
      "text/plain": [
       "Index(['INCID_NO', 'First_Harmful_Event', 'Involving Animal', 'Daylight',\n",
       "       'Dawn', 'Dusk', 'Dark_Lit', 'Dark_NotLit', 'Dark_UnknownLit',\n",
       "       'Poor Lighting', 'Adverse Weather', 'LATITUDE', 'LONGITUDE', 'Park',\n",
       "       'RGN', 'YEAR', 'MONTH', 'DOW', 'HOUR'],\n",
       "      dtype='object')"
      ]
     },
     "execution_count": 98,
     "metadata": {},
     "output_type": "execute_result"
    }
   ],
   "source": [
    "cds_crash_details_slim_merged.columns"
   ]
  },
  {
   "cell_type": "code",
   "execution_count": 99,
   "metadata": {},
   "outputs": [
    {
     "data": {
      "text/plain": [
       "(194715, 36)"
      ]
     },
     "execution_count": 99,
     "metadata": {},
     "output_type": "execute_result"
    }
   ],
   "source": [
    "cds_crash_details_and_passenger_slim = cds_passenger_slim_agg.merge(cds_crash_details_slim_merged, how='left', on='INCID_NO') # left join to drop crashes w/o passenger reports\n",
    "cds_crash_details_and_passenger_slim.shape"
   ]
  },
  {
   "cell_type": "code",
   "execution_count": 100,
   "metadata": {},
   "outputs": [
    {
     "data": {
      "text/plain": [
       "Index(['INCID_NO', 'No Injury', 'Possible Injury', 'Non-incapacitating Injury',\n",
       "       'Incapacitating Injury', 'Fatality', 'Num_Motorist', 'Num_Non_Motorist',\n",
       "       'Num_Pedestrian', 'Num_Ped_Deaths', 'Pedestrian', 'VRU',\n",
       "       'Crash_Severity', 'CrashSeverity_Fatal', 'CrashSeverity_Incap',\n",
       "       'CrashSeverity_NonIncap', 'CrashSeverity_Possible',\n",
       "       'CrashSeverity_NoInj', 'First_Harmful_Event', 'Involving Animal',\n",
       "       'Daylight', 'Dawn', 'Dusk', 'Dark_Lit', 'Dark_NotLit',\n",
       "       'Dark_UnknownLit', 'Poor Lighting', 'Adverse Weather', 'LATITUDE',\n",
       "       'LONGITUDE', 'Park', 'RGN', 'YEAR', 'MONTH', 'DOW', 'HOUR'],\n",
       "      dtype='object')"
      ]
     },
     "execution_count": 100,
     "metadata": {},
     "output_type": "execute_result"
    }
   ],
   "source": [
    "cds_crash_details_and_passenger_slim.columns"
   ]
  },
  {
   "cell_type": "code",
   "execution_count": 101,
   "metadata": {},
   "outputs": [
    {
     "data": {
      "text/plain": [
       "(194715, 56)"
      ]
     },
     "execution_count": 101,
     "metadata": {},
     "output_type": "execute_result"
    }
   ],
   "source": [
    "cds_slim_all = cds_slim_vehicle_agg.merge(cds_crash_details_and_passenger_slim, how='right', on='INCID_NO')\n",
    "cds_slim_all['database'] = 'CDS' # add column with database name\n",
    "cds_slim_all.shape"
   ]
  },
  {
   "cell_type": "code",
   "execution_count": 102,
   "metadata": {},
   "outputs": [
    {
     "data": {
      "text/plain": [
       "Index(['INCID_NO', '5_mph', '10_mph', '15_mph', '20_mph', '25_mph', '30_mph',\n",
       "       '35_mph', '40_mph', '45_mph', '50_mph', '55_mph', '60_mph', '65_mph',\n",
       "       '70_mph', '75_mph', 'no_posted_speed', 'NUM_VEH', 'Num_Motorcycle',\n",
       "       'Motorcycle_Ind', 'No Injury', 'Possible Injury',\n",
       "       'Non-incapacitating Injury', 'Incapacitating Injury', 'Fatality',\n",
       "       'Num_Motorist', 'Num_Non_Motorist', 'Num_Pedestrian', 'Num_Ped_Deaths',\n",
       "       'Pedestrian', 'VRU', 'Crash_Severity', 'CrashSeverity_Fatal',\n",
       "       'CrashSeverity_Incap', 'CrashSeverity_NonIncap',\n",
       "       'CrashSeverity_Possible', 'CrashSeverity_NoInj', 'First_Harmful_Event',\n",
       "       'Involving Animal', 'Daylight', 'Dawn', 'Dusk', 'Dark_Lit',\n",
       "       'Dark_NotLit', 'Dark_UnknownLit', 'Poor Lighting', 'Adverse Weather',\n",
       "       'LATITUDE', 'LONGITUDE', 'Park', 'RGN', 'YEAR', 'MONTH', 'DOW', 'HOUR',\n",
       "       'database'],\n",
       "      dtype='object')"
      ]
     },
     "execution_count": 102,
     "metadata": {},
     "output_type": "execute_result"
    }
   ],
   "source": [
    "cds_slim_all.columns"
   ]
  },
  {
   "cell_type": "code",
   "execution_count": 103,
   "metadata": {},
   "outputs": [],
   "source": [
    "cds_slim_all.to_csv(\"./CDS_slim_all_clean.csv\",index=False)"
   ]
  },
  {
   "cell_type": "code",
   "execution_count": null,
   "metadata": {},
   "outputs": [],
   "source": []
  }
 ],
 "metadata": {
  "kernelspec": {
   "display_name": "Python 3",
   "language": "python",
   "name": "python3"
  },
  "language_info": {
   "codemirror_mode": {
    "name": "ipython",
    "version": 3
   },
   "file_extension": ".py",
   "mimetype": "text/x-python",
   "name": "python",
   "nbconvert_exporter": "python",
   "pygments_lexer": "ipython3",
   "version": "3.8.8"
  }
 },
 "nbformat": 4,
 "nbformat_minor": 2
}
