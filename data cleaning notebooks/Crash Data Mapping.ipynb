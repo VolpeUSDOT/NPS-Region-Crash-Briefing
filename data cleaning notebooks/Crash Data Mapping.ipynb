{
 "cells": [
  {
   "cell_type": "code",
   "execution_count": 1,
   "id": "1b9d4097",
   "metadata": {},
   "outputs": [],
   "source": [
    "import pandas as pd\n",
    "import numpy as np\n",
    "import os"
   ]
  },
  {
   "cell_type": "code",
   "execution_count": 2,
   "id": "5b85ce62",
   "metadata": {},
   "outputs": [],
   "source": [
    "myworkingdirectory = r\"C:\\Users\\Sophie.Kaye\\Desktop\\NPS Safety\"\n",
    "os.chdir(myworkingdirectory)"
   ]
  },
  {
   "cell_type": "code",
   "execution_count": 3,
   "id": "ba66a35b",
   "metadata": {},
   "outputs": [],
   "source": [
    "imars_crash = pd.read_excel(\"./IMARS/IMARS 2012 - 2021.xlsx\", sheet_name = \"Location\")\n",
    "imars_passenger = pd.read_excel(\"./IMARS/IMARS 2012 - 2021.xlsx\", sheet_name = \"Person\")\n",
    "imars_vehicle = pd.read_excel(\"./IMARS/IMARS 2012 - 2021.xlsx\", sheet_name = \"Vehicle\")\n",
    "imars_crash_details = pd.read_excel(\"./IMARS/IMARS 2012 - 2021.xlsx\", sheet_name = \"Classification\")"
   ]
  },
  {
   "cell_type": "code",
   "execution_count": 4,
   "id": "d6c0aa34",
   "metadata": {},
   "outputs": [
    {
     "data": {
      "text/plain": [
       "01. No injury                    13599\n",
       "02. Possible injury               1826\n",
       "03. Non-incapacitating injury     1163\n",
       "04. Incapacitating injury          486\n",
       "05. Fatal                          115\n",
       "99. Unknown                       1470\n",
       "Name: Injury_Severity, dtype: int64"
      ]
     },
     "execution_count": 4,
     "metadata": {},
     "output_type": "execute_result"
    }
   ],
   "source": [
    "imars_passenger['Injury_Severity'].value_counts().sort_index()"
   ]
  },
  {
   "cell_type": "code",
   "execution_count": 5,
   "id": "cd06fdf6",
   "metadata": {},
   "outputs": [
    {
     "data": {
      "text/plain": [
       "(27932, 29)"
      ]
     },
     "execution_count": 5,
     "metadata": {},
     "output_type": "execute_result"
    }
   ],
   "source": [
    "imars_passenger.shape"
   ]
  },
  {
   "cell_type": "code",
   "execution_count": 6,
   "id": "095bc2c7",
   "metadata": {},
   "outputs": [
    {
     "data": {
      "text/plain": [
       "(9273, 29)"
      ]
     },
     "execution_count": 6,
     "metadata": {},
     "output_type": "execute_result"
    }
   ],
   "source": [
    "imars_passenger.loc[imars_passenger['Injury_Severity'].isnull()==True].shape"
   ]
  },
  {
   "cell_type": "code",
   "execution_count": 8,
   "id": "483160a2",
   "metadata": {},
   "outputs": [
    {
     "data": {
      "text/plain": [
       "33.19848202778176"
      ]
     },
     "execution_count": 8,
     "metadata": {},
     "output_type": "execute_result"
    }
   ],
   "source": [
    "#null percentage: \n",
    "9273/27932*100"
   ]
  },
  {
   "cell_type": "code",
   "execution_count": 9,
   "id": "01201a01",
   "metadata": {},
   "outputs": [
    {
     "data": {
      "text/plain": [
       "01. Yes    2120\n",
       "02. No     8878\n",
       "Name: Injury_or_Fatal_Crash, dtype: int64"
      ]
     },
     "execution_count": 9,
     "metadata": {},
     "output_type": "execute_result"
    }
   ],
   "source": [
    "imars_crash_details['Injury_or_Fatal_Crash'].value_counts().sort_index()"
   ]
  },
  {
   "cell_type": "code",
   "execution_count": 11,
   "id": "f417659d",
   "metadata": {},
   "outputs": [
    {
     "data": {
      "text/plain": [
       "(16304, 24)"
      ]
     },
     "execution_count": 11,
     "metadata": {},
     "output_type": "execute_result"
    }
   ],
   "source": [
    "imars_crash_details.shape"
   ]
  },
  {
   "cell_type": "code",
   "execution_count": 10,
   "id": "d261ec6a",
   "metadata": {},
   "outputs": [
    {
     "data": {
      "text/plain": [
       "(5306, 24)"
      ]
     },
     "execution_count": 10,
     "metadata": {},
     "output_type": "execute_result"
    }
   ],
   "source": [
    "imars_crash_details.loc[imars_crash_details['Injury_or_Fatal_Crash'].isnull()==True].shape"
   ]
  },
  {
   "cell_type": "code",
   "execution_count": 12,
   "id": "01308527",
   "metadata": {},
   "outputs": [
    {
     "data": {
      "text/plain": [
       "32.5441609421001"
      ]
     },
     "execution_count": 12,
     "metadata": {},
     "output_type": "execute_result"
    }
   ],
   "source": [
    "#null percentage: \n",
    "5306/16304*100"
   ]
  },
  {
   "cell_type": "code",
   "execution_count": 13,
   "id": "ef1e3c35",
   "metadata": {},
   "outputs": [
    {
     "data": {
      "text/plain": [
       "Collision with animals                           1486\n",
       "Collision with fixed object                      4238\n",
       "Collision with person, MV or non-fixed object    7340\n",
       "Non-collision                                    1965\n",
       "Unknown                                           492\n",
       "Name: First_Harmful_Event_Type, dtype: int64"
      ]
     },
     "execution_count": 13,
     "metadata": {},
     "output_type": "execute_result"
    }
   ],
   "source": [
    "imars_crash_details['First_Harmful_Event_Type'].value_counts().sort_index()"
   ]
  },
  {
   "cell_type": "code",
   "execution_count": 14,
   "id": "9a182ced",
   "metadata": {},
   "outputs": [
    {
     "data": {
      "text/plain": [
       "(783, 24)"
      ]
     },
     "execution_count": 14,
     "metadata": {},
     "output_type": "execute_result"
    }
   ],
   "source": [
    "imars_crash_details.loc[imars_crash_details['First_Harmful_Event_Type'].isnull()==True].shape"
   ]
  },
  {
   "cell_type": "code",
   "execution_count": 15,
   "id": "3fe4a701",
   "metadata": {},
   "outputs": [
    {
     "data": {
      "text/plain": [
       "4.802502453385673"
      ]
     },
     "execution_count": 15,
     "metadata": {},
     "output_type": "execute_result"
    }
   ],
   "source": [
    "#null percentage: \n",
    "783/16304*100"
   ]
  },
  {
   "cell_type": "code",
   "execution_count": 17,
   "id": "e672ad55",
   "metadata": {},
   "outputs": [
    {
     "data": {
      "text/plain": [
       "01. Overturn/rollover                                                     285\n",
       "02. Fire/explosion                                                         18\n",
       "03. Immersion                                                              10\n",
       "04. Jackknife                                                               8\n",
       "05. Cargo/equipment loss or shift                                          10\n",
       "06. Separation of units                                                     9\n",
       "07. Ran off the road right                                                820\n",
       "08. Ran Off the road left                                                 267\n",
       "09. Cross median or centerline                                            100\n",
       "10. Downhill runaway                                                       22\n",
       "11. Fell/jumped from motor vehicle                                         33\n",
       "12. Avoiding an object on road                                             55\n",
       "13. Avoiding an animal on road                                             58\n",
       "14. Thrown or falling object                                               47\n",
       "16. Other non-collision                                                   292\n",
       "17. Pedestrian                                                             77\n",
       "18. Bicycle                                                               116\n",
       "19. Other pedacycle                                                         1\n",
       "20. Railway vehicle                                                         6\n",
       "21. Motor vehicle in transport                                           5101\n",
       "22. Parked motor vehicle                                                 1575\n",
       "23. Struck by falling, shifting cargo or anything set in motion by MV      27\n",
       "24. Work zone/maintenance equipment                                        32\n",
       "25. Other non-fixed object                                                363\n",
       "26. Horse/llama                                                            18\n",
       "27. Cow                                                                     6\n",
       "28. Deer                                                                  986\n",
       "29. Elk                                                                   125\n",
       "30. Moose                                                                  11\n",
       "31. Buffalo                                                               170\n",
       "32. Bear                                                                  104\n",
       "33. Antelope                                                                9\n",
       "34. Sheep/goats                                                            13\n",
       "36. Other wild animal (crocodile, birds, coyote, etc.)                     37\n",
       "37. Other domestic (dog, cat, etc.)                                         5\n",
       "38. Impact attenuator/crash cushion                                        20\n",
       "39. Bridge overhead structure                                              22\n",
       "40. Bridge pier or support                                                  9\n",
       "41. Bridge rail                                                            43\n",
       "42. Cable barrier                                                           3\n",
       "43. End of drainage pipe/structure/culvert                                 47\n",
       "44. Median/curb                                                           155\n",
       "45. Ditch                                                                 271\n",
       "46. Earth embankment/berm                                                 337\n",
       "47. Guardrail/cable face                                                   82\n",
       "48. Guardrail/cable end                                                    22\n",
       "49. Guardrail/concrete traffic barrier                                    137\n",
       "50. Wall                                                                  163\n",
       "51. Other traffic barrier/barricade                                       194\n",
       "52. Tree/shrub                                                           1309\n",
       "53. Utility pole/light support                                             60\n",
       "54. Traffic sign support                                                  160\n",
       "55. Traffic signal support                                                  4\n",
       "56. Overhead traffic sign                                                   3\n",
       "57. Fence (including post)                                                 82\n",
       "58. Mailbox                                                                 3\n",
       "59. Building                                                               93\n",
       "60. Rock, boulder, rock slide                                             365\n",
       "61. Tunnel                                                                 26\n",
       "62. Snow embankment                                                        52\n",
       "64. Delineator                                                              8\n",
       "65. Other post, pole or support                                           206\n",
       "66. Other fixed object                                                    341\n",
       "99. Unknown                                                               488\n",
       "Name: First_Harmful_Event, dtype: int64"
      ]
     },
     "execution_count": 17,
     "metadata": {},
     "output_type": "execute_result"
    }
   ],
   "source": [
    "pd.options.display.max_rows = 10000000\n",
    "imars_crash_details['First_Harmful_Event'].value_counts().sort_index()"
   ]
  },
  {
   "cell_type": "code",
   "execution_count": 18,
   "id": "2624fbe9",
   "metadata": {},
   "outputs": [
    {
     "data": {
      "text/plain": [
       "(783, 24)"
      ]
     },
     "execution_count": 18,
     "metadata": {},
     "output_type": "execute_result"
    }
   ],
   "source": [
    "imars_crash_details.loc[imars_crash_details['First_Harmful_Event'].isnull()==True].shape"
   ]
  },
  {
   "cell_type": "code",
   "execution_count": 19,
   "id": "286f6eca",
   "metadata": {},
   "outputs": [
    {
     "data": {
      "text/plain": [
       "4.802502453385673"
      ]
     },
     "execution_count": 19,
     "metadata": {},
     "output_type": "execute_result"
    }
   ],
   "source": [
    "#null percentage: \n",
    "783/16304*100"
   ]
  },
  {
   "cell_type": "code",
   "execution_count": 20,
   "id": "0158ba29",
   "metadata": {},
   "outputs": [
    {
     "data": {
      "text/plain": [
       "01. None                                                                                    10578\n",
       "01. None; 02. Weather                                                                           3\n",
       "01. None; 03. Physical obstruction(s) (trees, bushes, etc.)                                     6\n",
       "01. None; 05. Glare                                                                             2\n",
       "01. None; 06. Animal(s) in roadway                                                              9\n",
       "01. None; 06. Animal(s) in roadway; 99. Unknown                                                 1\n",
       "01. None; 07. Other                                                                             6\n",
       "01. None; 07. Other; 99. Unknown                                                                1\n",
       "01. None; 99. Unknown                                                                          21\n",
       "02. Weather                                                                                  1332\n",
       "02. Weather; 03. Physical obstruction(s) (trees, bushes, etc.)                                 91\n",
       "02. Weather; 03. Physical obstruction(s) (trees, bushes, etc.); 04. Rockfall                    1\n",
       "02. Weather; 03. Physical obstruction(s) (trees, bushes, etc.); 06. Animal(s) in roadway        1\n",
       "02. Weather; 03. Physical obstruction(s) (trees, bushes, etc.); 07. Other                       1\n",
       "02. Weather; 04. Rockfall                                                                       5\n",
       "02. Weather; 05. Glare                                                                         14\n",
       "02. Weather; 05. Glare; 06. Animal(s) in roadway                                                1\n",
       "02. Weather; 06. Animal(s) in roadway                                                          56\n",
       "02. Weather; 06. Animal(s) in roadway; 07. Other                                                6\n",
       "02. Weather; 06. Animal(s) in roadway; 99. Unknown                                              1\n",
       "02. Weather; 07. Other                                                                         58\n",
       "02. Weather; 07. Other; 99. Unknown                                                             1\n",
       "02. Weather; 99. Unknown                                                                        9\n",
       "03. Physical obstruction(s) (trees, bushes, etc.)                                             253\n",
       "03. Physical obstruction(s) (trees, bushes, etc.); 04. Rockfall                                 2\n",
       "03. Physical obstruction(s) (trees, bushes, etc.); 05. Glare                                    6\n",
       "03. Physical obstruction(s) (trees, bushes, etc.); 05. Glare; 06. Animal(s) in roadway          1\n",
       "03. Physical obstruction(s) (trees, bushes, etc.); 06. Animal(s) in roadway                    17\n",
       "03. Physical obstruction(s) (trees, bushes, etc.); 07. Other                                    9\n",
       "03. Physical obstruction(s) (trees, bushes, etc.); 07. Other; 99. Unknown                       1\n",
       "03. Physical obstruction(s) (trees, bushes, etc.); 99. Unknown                                  3\n",
       "04. Rockfall                                                                                   35\n",
       "04. Rockfall; 07. Other                                                                         1\n",
       "05. Glare                                                                                      95\n",
       "05. Glare; 06. Animal(s) in roadway                                                            14\n",
       "05. Glare; 07. Other                                                                            5\n",
       "05. Glare; 07. Other; 99. Unknown                                                               1\n",
       "05. Glare; 99. Unknown                                                                          1\n",
       "06. Animal(s) in roadway                                                                     1040\n",
       "06. Animal(s) in roadway; 07. Other                                                             3\n",
       "06. Animal(s) in roadway; 07. Other; 99. Unknown                                                2\n",
       "06. Animal(s) in roadway; 99. Unknown                                                           7\n",
       "07. Other                                                                                     245\n",
       "07. Other; 99. Unknown                                                                          2\n",
       "99. Unknown                                                                                   623\n",
       "Name: Environmental_Contributing_Circumstances, dtype: int64"
      ]
     },
     "execution_count": 20,
     "metadata": {},
     "output_type": "execute_result"
    }
   ],
   "source": [
    "imars_crash_details['Environmental_Contributing_Circumstances'].value_counts().sort_index()"
   ]
  },
  {
   "cell_type": "code",
   "execution_count": 25,
   "id": "461ec48c",
   "metadata": {},
   "outputs": [
    {
     "data": {
      "text/plain": [
       "1159"
      ]
     },
     "execution_count": 25,
     "metadata": {},
     "output_type": "execute_result"
    }
   ],
   "source": [
    "animal_in_roadway = np.where(imars_crash_details['Environmental_Contributing_Circumstances'].str.contains(\"Animal\")==True,1,0)\n",
    "animal_in_roadway.sum()"
   ]
  },
  {
   "cell_type": "code",
   "execution_count": 26,
   "id": "e861d2ac",
   "metadata": {},
   "outputs": [
    {
     "data": {
      "text/plain": [
       "(1734, 24)"
      ]
     },
     "execution_count": 26,
     "metadata": {},
     "output_type": "execute_result"
    }
   ],
   "source": [
    "imars_crash_details.loc[imars_crash_details['Environmental_Contributing_Circumstances'].isnull()==True].shape"
   ]
  },
  {
   "cell_type": "code",
   "execution_count": 27,
   "id": "ceca004b",
   "metadata": {},
   "outputs": [
    {
     "data": {
      "text/plain": [
       "10.635426889106968"
      ]
     },
     "execution_count": 27,
     "metadata": {},
     "output_type": "execute_result"
    }
   ],
   "source": [
    "#null percentage: \n",
    "1734/16304*100"
   ]
  },
  {
   "cell_type": "code",
   "execution_count": 28,
   "id": "50888732",
   "metadata": {},
   "outputs": [
    {
     "data": {
      "text/plain": [
       "01. None                                      12723\n",
       "02. Stop sign                                   926\n",
       "03. Yield sign                                  232\n",
       "04. Flashing traffic signal                      28\n",
       "05. Traffic signal                              790\n",
       "06. Pedestrian crossing                         155\n",
       "07. Person (ofc/flagger, xing guard, etc.)       91\n",
       "08. No passing zone                            1246\n",
       "09. Warning signs                               253\n",
       "10. Temporary traffic control                   135\n",
       "12. RR crossing device/signal                     5\n",
       "13. Other                                       527\n",
       "99. Unknown                                    1198\n",
       "Name: Traffic_Control, dtype: int64"
      ]
     },
     "execution_count": 28,
     "metadata": {},
     "output_type": "execute_result"
    }
   ],
   "source": [
    "imars_vehicle['Traffic_Control'].value_counts().sort_index()"
   ]
  },
  {
   "cell_type": "code",
   "execution_count": 29,
   "id": "9030d86e",
   "metadata": {},
   "outputs": [
    {
     "data": {
      "text/plain": [
       "(5268, 51)"
      ]
     },
     "execution_count": 29,
     "metadata": {},
     "output_type": "execute_result"
    }
   ],
   "source": [
    "imars_vehicle.loc[imars_vehicle['Traffic_Control'].isnull()==True].shape"
   ]
  },
  {
   "cell_type": "code",
   "execution_count": 30,
   "id": "9155cc25",
   "metadata": {},
   "outputs": [
    {
     "data": {
      "text/plain": [
       "(23577, 51)"
      ]
     },
     "execution_count": 30,
     "metadata": {},
     "output_type": "execute_result"
    }
   ],
   "source": [
    "imars_vehicle.shape"
   ]
  },
  {
   "cell_type": "code",
   "execution_count": 31,
   "id": "02d7520b",
   "metadata": {},
   "outputs": [
    {
     "data": {
      "text/plain": [
       "22.343809644993"
      ]
     },
     "execution_count": 31,
     "metadata": {},
     "output_type": "execute_result"
    }
   ],
   "source": [
    "#null percentage: \n",
    "5268/23577*100"
   ]
  },
  {
   "cell_type": "code",
   "execution_count": 33,
   "id": "9b365837",
   "metadata": {},
   "outputs": [
    {
     "data": {
      "text/plain": [
       "(9317, 32)"
      ]
     },
     "execution_count": 33,
     "metadata": {},
     "output_type": "execute_result"
    }
   ],
   "source": [
    "imars_crash.loc[imars_crash['Latitude'].isnull()==True].shape"
   ]
  },
  {
   "cell_type": "code",
   "execution_count": 34,
   "id": "b34ad84c",
   "metadata": {},
   "outputs": [
    {
     "data": {
      "text/plain": [
       "(17828, 32)"
      ]
     },
     "execution_count": 34,
     "metadata": {},
     "output_type": "execute_result"
    }
   ],
   "source": [
    "imars_crash.shape"
   ]
  },
  {
   "cell_type": "code",
   "execution_count": 35,
   "id": "672cddf8",
   "metadata": {},
   "outputs": [
    {
     "data": {
      "text/plain": [
       "52.26048911824097"
      ]
     },
     "execution_count": 35,
     "metadata": {},
     "output_type": "execute_result"
    }
   ],
   "source": [
    "#null percentage: \n",
    "9317/17828*100"
   ]
  },
  {
   "cell_type": "code",
   "execution_count": 36,
   "id": "118cd1cd",
   "metadata": {},
   "outputs": [
    {
     "data": {
      "text/plain": [
       "(9317, 32)"
      ]
     },
     "execution_count": 36,
     "metadata": {},
     "output_type": "execute_result"
    }
   ],
   "source": [
    "imars_crash.loc[imars_crash['Longitude'].isnull()==True].shape"
   ]
  },
  {
   "cell_type": "code",
   "execution_count": 37,
   "id": "5dc5c2e1",
   "metadata": {},
   "outputs": [
    {
     "data": {
      "text/plain": [
       "(3777, 32)"
      ]
     },
     "execution_count": 37,
     "metadata": {},
     "output_type": "execute_result"
    }
   ],
   "source": [
    "imars_crash.loc[imars_crash['Park'].isnull()==True].shape"
   ]
  },
  {
   "cell_type": "code",
   "execution_count": 38,
   "id": "f786e4fc",
   "metadata": {},
   "outputs": [
    {
     "data": {
      "text/plain": [
       "21.185775185102088"
      ]
     },
     "execution_count": 38,
     "metadata": {},
     "output_type": "execute_result"
    }
   ],
   "source": [
    "#null percentage: \n",
    "3777/17828*100"
   ]
  },
  {
   "cell_type": "code",
   "execution_count": 39,
   "id": "a0032b37",
   "metadata": {},
   "outputs": [
    {
     "data": {
      "text/plain": [
       "(10507, 32)"
      ]
     },
     "execution_count": 39,
     "metadata": {},
     "output_type": "execute_result"
    }
   ],
   "source": [
    "imars_crash.loc[imars_crash['Region'].isnull()==True].shape"
   ]
  },
  {
   "cell_type": "code",
   "execution_count": 40,
   "id": "9b4209ac",
   "metadata": {},
   "outputs": [
    {
     "data": {
      "text/plain": [
       "58.93538254431232"
      ]
     },
     "execution_count": 40,
     "metadata": {},
     "output_type": "execute_result"
    }
   ],
   "source": [
    "#null percentage: \n",
    "10507/17828*100"
   ]
  },
  {
   "cell_type": "code",
   "execution_count": 41,
   "id": "4df37db5",
   "metadata": {},
   "outputs": [
    {
     "data": {
      "text/plain": [
       "(1, 32)"
      ]
     },
     "execution_count": 41,
     "metadata": {},
     "output_type": "execute_result"
    }
   ],
   "source": [
    "imars_crash.loc[imars_crash['IMARS_Record_No'].isnull()==True].shape"
   ]
  },
  {
   "cell_type": "code",
   "execution_count": 42,
   "id": "f1bfed50",
   "metadata": {},
   "outputs": [
    {
     "data": {
      "text/plain": [
       "0.005609154139555755"
      ]
     },
     "execution_count": 42,
     "metadata": {},
     "output_type": "execute_result"
    }
   ],
   "source": [
    "#null percentage: \n",
    "1/17828*100"
   ]
  },
  {
   "cell_type": "code",
   "execution_count": 43,
   "id": "b1afba5e",
   "metadata": {},
   "outputs": [],
   "source": [
    "cds_vehicle = pd.read_excel('./CDS/New CDS Excel Files/ALL_UNIT.xlsx')\n",
    "cds_passenger = pd.read_excel('./CDS/New CDS Excel Files/ALL_PASSENGER.xlsx')\n",
    "cds_crash = pd.read_excel('./CDS/New CDS Excel Files/ALL_CRASH.xlsx')"
   ]
  },
  {
   "cell_type": "code",
   "execution_count": 44,
   "id": "b10b80e8",
   "metadata": {},
   "outputs": [
    {
     "data": {
      "text/plain": [
       "(0, 56)"
      ]
     },
     "execution_count": 44,
     "metadata": {},
     "output_type": "execute_result"
    }
   ],
   "source": [
    "cds_crash.loc[cds_crash['INCID_NO'].isnull()==True].shape"
   ]
  },
  {
   "cell_type": "code",
   "execution_count": 45,
   "id": "f3dc166e",
   "metadata": {},
   "outputs": [
    {
     "data": {
      "text/plain": [
       "(170213, 56)"
      ]
     },
     "execution_count": 45,
     "metadata": {},
     "output_type": "execute_result"
    }
   ],
   "source": [
    "cds_crash.loc[cds_crash['LATITUDE'].isnull()==True].shape"
   ]
  },
  {
   "cell_type": "code",
   "execution_count": 46,
   "id": "7917d7d7",
   "metadata": {},
   "outputs": [
    {
     "data": {
      "text/plain": [
       "(204687, 56)"
      ]
     },
     "execution_count": 46,
     "metadata": {},
     "output_type": "execute_result"
    }
   ],
   "source": [
    "cds_crash.shape"
   ]
  },
  {
   "cell_type": "code",
   "execution_count": 47,
   "id": "eb9ee6d9",
   "metadata": {},
   "outputs": [
    {
     "data": {
      "text/plain": [
       "83.15769931651742"
      ]
     },
     "execution_count": 47,
     "metadata": {},
     "output_type": "execute_result"
    }
   ],
   "source": [
    "#null percentage: \n",
    "170213/204687*100"
   ]
  },
  {
   "cell_type": "code",
   "execution_count": 48,
   "id": "38cf6090",
   "metadata": {},
   "outputs": [
    {
     "data": {
      "text/plain": [
       "(167560, 56)"
      ]
     },
     "execution_count": 48,
     "metadata": {},
     "output_type": "execute_result"
    }
   ],
   "source": [
    "cds_crash.loc[cds_crash['LONGITUDE'].isnull()==True].shape"
   ]
  },
  {
   "cell_type": "code",
   "execution_count": 49,
   "id": "87842751",
   "metadata": {},
   "outputs": [
    {
     "data": {
      "text/plain": [
       "81.86157401300522"
      ]
     },
     "execution_count": 49,
     "metadata": {},
     "output_type": "execute_result"
    }
   ],
   "source": [
    "#null percentage: \n",
    "167560/204687*100"
   ]
  },
  {
   "cell_type": "code",
   "execution_count": 50,
   "id": "8540efcb",
   "metadata": {},
   "outputs": [
    {
     "data": {
      "text/plain": [
       "(0, 56)"
      ]
     },
     "execution_count": 50,
     "metadata": {},
     "output_type": "execute_result"
    }
   ],
   "source": [
    "cds_crash.loc[cds_crash['PARK_ALPHA'].isnull()==True].shape"
   ]
  },
  {
   "cell_type": "code",
   "execution_count": 52,
   "id": "986c2d96",
   "metadata": {},
   "outputs": [
    {
     "data": {
      "text/plain": [
       "ABLI        7\n",
       "ACAD     1419\n",
       "AGFO        1\n",
       "ALPO       20\n",
       "AMIS       94\n",
       "ANJO        4\n",
       "ANTI      122\n",
       "APCO        1\n",
       "APIS        1\n",
       "ARCH      306\n",
       "ARPO        1\n",
       "ASIS      155\n",
       "BADL      213\n",
       "BAND       70\n",
       "BAWA    28179\n",
       "BIBE      914\n",
       "BICA       30\n",
       "BICY       50\n",
       "BISC        4\n",
       "BISO      270\n",
       "BITH       55\n",
       "BLCA       42\n",
       "BLRI     7853\n",
       "BLUE        2\n",
       "BOST       58\n",
       "BOWA       12\n",
       "BRCA      577\n",
       "BUFF      110\n",
       "CABR       16\n",
       "CACH        6\n",
       "CACL        1\n",
       "CACO      416\n",
       "CAGR        6\n",
       "CAHA      370\n",
       "CALO       52\n",
       "CANA       44\n",
       "CANY      130\n",
       "CARE       34\n",
       "CARL        7\n",
       "CASA        1\n",
       "CATO      120\n",
       "CAVE      119\n",
       "CAVO        7\n",
       "CEBR        6\n",
       "CHAT      226\n",
       "CHCH      780\n",
       "CHCU        4\n",
       "CHIC      402\n",
       "CHIR       18\n",
       "CHIS        2\n",
       "CHOH      420\n",
       "CIRO        1\n",
       "CLBA       12\n",
       "CODA       41\n",
       "COLM      395\n",
       "COLO     1661\n",
       "CONG       10\n",
       "CORO       10\n",
       "CRLA      504\n",
       "CUGA     1019\n",
       "CUIS        2\n",
       "CURE       84\n",
       "CUVA      247\n",
       "DENA      225\n",
       "DEPO        1\n",
       "DETO       17\n",
       "DEVA      837\n",
       "DEWA     5394\n",
       "DINO       53\n",
       "EDIS        1\n",
       "EISE       19\n",
       "ELIS       37\n",
       "EVER      482\n",
       "FIIS       21\n",
       "FLFO       11\n",
       "FLNI       15\n",
       "FOBU        4\n",
       "FODO        3\n",
       "FOLA       12\n",
       "FOLS        7\n",
       "FOMC        1\n",
       "FONE       21\n",
       "FOPO        2\n",
       "FOPU        6\n",
       "FORA       11\n",
       "FOSU        1\n",
       "FOTH        1\n",
       "FOWA       37\n",
       "FRHI        5\n",
       "FRSP      291\n",
       "GATE     1029\n",
       "GERO        3\n",
       "GETT     1069\n",
       "GEWA        5\n",
       "GLAC     1707\n",
       "GLBA        2\n",
       "GLCA      798\n",
       "GOGA     2932\n",
       "GRBA      103\n",
       "GRCA     3964\n",
       "GREE      168\n",
       "GRPO       10\n",
       "GRSA      123\n",
       "GRSM     6884\n",
       "GRTE     3810\n",
       "GUCO       44\n",
       "GUIS      219\n",
       "GWMP    25981\n",
       "HAFE       85\n",
       "HALE       66\n",
       "HAMP        1\n",
       "HAVO     1138\n",
       "HEHO       14\n",
       "HOBE        9\n",
       "HOCU        1\n",
       "HOFR       17\n",
       "HOFU        6\n",
       "HOME        7\n",
       "HOSP      279\n",
       "HOVE        1\n",
       "HUTR        3\n",
       "INDE       60\n",
       "INDU      450\n",
       "JECA        1\n",
       "JEFF      174\n",
       "JELA       10\n",
       "JODR       42\n",
       "JOFI        1\n",
       "JOFK      532\n",
       "JOFL       15\n",
       "JOTR     1031\n",
       "KAHO        7\n",
       "KATM        8\n",
       "KEMO      292\n",
       "KICA       78\n",
       "KIMO       16\n",
       "KNRI        2\n",
       "LABE       27\n",
       "LACH        9\n",
       "LAKE     3086\n",
       "LAMR      211\n",
       "LARO       49\n",
       "LAVO      151\n",
       "LEWI        1\n",
       "LIBI        1\n",
       "LIBO        3\n",
       "LOWE      101\n",
       "LYJO       20\n",
       "MACA     1396\n",
       "MALU        1\n",
       "MANA       77\n",
       "MEVE     1433\n",
       "MIMA       20\n",
       "MOCA       34\n",
       "MONO        4\n",
       "MORA     1259\n",
       "MORR        2\n",
       "MORU      457\n",
       "MUWO       17\n",
       "NABR        7\n",
       "NACC    14634\n",
       "NACE     1214\n",
       "NAMA    13548\n",
       "NATC        2\n",
       "NATR     7068\n",
       "NAVA        3\n",
       "NERI        1\n",
       "OBRI        1\n",
       "OCMU        9\n",
       "OLYM     2233\n",
       "ORCA       10\n",
       "ORPI       97\n",
       "OZAR      144\n",
       "PAAV        1\n",
       "PAIS      239\n",
       "PARA        2\n",
       "PECO       18\n",
       "PEFO      312\n",
       "PERI        1\n",
       "PETE       37\n",
       "PETR       26\n",
       "PEVI        2\n",
       "PINN       10\n",
       "PIPE        1\n",
       "PIRO        4\n",
       "PORE      232\n",
       "PRWI      225\n",
       "PUHE        1\n",
       "PUHO        1\n",
       "REDW      105\n",
       "RICH       44\n",
       "ROCR     6605\n",
       "ROLA        2\n",
       "ROMO     3725\n",
       "RUCA        1\n",
       "SACN        9\n",
       "SAFR        3\n",
       "SAGU     1363\n",
       "SAIR        1\n",
       "SAJH       18\n",
       "SAJU       15\n",
       "SAMA        1\n",
       "SAMO       10\n",
       "SAPU        2\n",
       "SARA       14\n",
       "SCBL        7\n",
       "SEKI     2351\n",
       "SEQU      259\n",
       "SHEN     1700\n",
       "SHIL       16\n",
       "SITK        1\n",
       "SLBE       91\n",
       "STEA       46\n",
       "STLI       13\n",
       "STRI        9\n",
       "SUCR        6\n",
       "SUIT     4736\n",
       "THJE        2\n",
       "THRO       32\n",
       "TICA       18\n",
       "TUZI        8\n",
       "ULSG        1\n",
       "UPDE       28\n",
       "USPP       76\n",
       "VAFO     4880\n",
       "VAMA        1\n",
       "VICK       55\n",
       "VOYA       14\n",
       "WACA        2\n",
       "WHHO      968\n",
       "WHIS       67\n",
       "WHMI        3\n",
       "WHSA       51\n",
       "WICA      138\n",
       "WICR       10\n",
       "WOTR       91\n",
       "WRBR       13\n",
       "WRST        1\n",
       "WUPA        8\n",
       "YELL    10158\n",
       "YOSE     7756\n",
       "ZION     1478\n",
       "ZZZZ      778\n",
       "Name: PARK_ALPHA, dtype: int64"
      ]
     },
     "execution_count": 52,
     "metadata": {},
     "output_type": "execute_result"
    }
   ],
   "source": [
    "cds_crash['PARK_ALPHA'].value_counts().sort_index()"
   ]
  },
  {
   "cell_type": "code",
   "execution_count": 51,
   "id": "ed709880",
   "metadata": {},
   "outputs": [
    {
     "data": {
      "text/plain": [
       "778"
      ]
     },
     "execution_count": 51,
     "metadata": {},
     "output_type": "execute_result"
    }
   ],
   "source": [
    "NO_PARK = np.where(cds_crash['PARK_ALPHA']=='ZZZZ',1,0)\n",
    "NO_PARK.sum()"
   ]
  },
  {
   "cell_type": "code",
   "execution_count": 53,
   "id": "ea3dda41",
   "metadata": {},
   "outputs": [
    {
     "data": {
      "text/plain": [
       "0.3800925315237411"
      ]
     },
     "execution_count": 53,
     "metadata": {},
     "output_type": "execute_result"
    }
   ],
   "source": [
    "#null percentage: \n",
    "778/204687*100"
   ]
  },
  {
   "cell_type": "code",
   "execution_count": 54,
   "id": "e985273f",
   "metadata": {},
   "outputs": [
    {
     "data": {
      "text/plain": [
       "(0, 56)"
      ]
     },
     "execution_count": 54,
     "metadata": {},
     "output_type": "execute_result"
    }
   ],
   "source": [
    "cds_crash.loc[cds_crash['CRASH_DATE'].isnull()==True].shape"
   ]
  },
  {
   "cell_type": "code",
   "execution_count": 55,
   "id": "20ba8145",
   "metadata": {},
   "outputs": [
    {
     "data": {
      "text/plain": [
       "(0, 56)"
      ]
     },
     "execution_count": 55,
     "metadata": {},
     "output_type": "execute_result"
    }
   ],
   "source": [
    "cds_crash.loc[cds_crash['CRASH_TIME'].isnull()==True].shape"
   ]
  },
  {
   "cell_type": "code",
   "execution_count": 56,
   "id": "fe88eca8",
   "metadata": {},
   "outputs": [
    {
     "data": {
      "text/plain": [
       "(7437, 56)"
      ]
     },
     "execution_count": 56,
     "metadata": {},
     "output_type": "execute_result"
    }
   ],
   "source": [
    "cds_crash.loc[cds_crash['CRASH_YEAR'].isnull()==True].shape"
   ]
  },
  {
   "cell_type": "code",
   "execution_count": 57,
   "id": "49d7d059",
   "metadata": {},
   "outputs": [
    {
     "data": {
      "text/plain": [
       "3.6333523868149906"
      ]
     },
     "execution_count": 57,
     "metadata": {},
     "output_type": "execute_result"
    }
   ],
   "source": [
    "#null percentage: \n",
    "7437/204687*100"
   ]
  },
  {
   "cell_type": "code",
   "execution_count": 59,
   "id": "d4f7dd23",
   "metadata": {},
   "outputs": [
    {
     "data": {
      "text/plain": [
       "FATAL        1081\n",
       "INJURY      35397\n",
       "PD ONLY    167629\n",
       "Unknown         7\n",
       "Name: CATEGORY, dtype: int64"
      ]
     },
     "execution_count": 59,
     "metadata": {},
     "output_type": "execute_result"
    }
   ],
   "source": [
    "cds_crash['CATEGORY'].value_counts().sort_index()"
   ]
  },
  {
   "cell_type": "code",
   "execution_count": 58,
   "id": "b72317f3",
   "metadata": {},
   "outputs": [
    {
     "data": {
      "text/plain": [
       "(573, 56)"
      ]
     },
     "execution_count": 58,
     "metadata": {},
     "output_type": "execute_result"
    }
   ],
   "source": [
    "cds_crash.loc[cds_crash['CATEGORY'].isnull()==True].shape"
   ]
  },
  {
   "cell_type": "code",
   "execution_count": 60,
   "id": "71d6f3b4",
   "metadata": {},
   "outputs": [
    {
     "data": {
      "text/plain": [
       "0.2799396151196705"
      ]
     },
     "execution_count": 60,
     "metadata": {},
     "output_type": "execute_result"
    }
   ],
   "source": [
    "#null percentage: \n",
    "573/204687*100"
   ]
  },
  {
   "cell_type": "code",
   "execution_count": 61,
   "id": "0c32e4df",
   "metadata": {},
   "outputs": [
    {
     "data": {
      "text/plain": [
       "0.0      14174\n",
       "1.0     102007\n",
       "2.0      47867\n",
       "3.0       1438\n",
       "4.0       1498\n",
       "5.0       8176\n",
       "6.0         32\n",
       "7.0      18945\n",
       "10.0        34\n",
       "88.0      5396\n",
       "98.0       822\n",
       "99.0      2858\n",
       "Name: CRASH_CLASS, dtype: int64"
      ]
     },
     "execution_count": 61,
     "metadata": {},
     "output_type": "execute_result"
    }
   ],
   "source": [
    "cds_crash['CRASH_CLASS'].value_counts().sort_index()"
   ]
  },
  {
   "cell_type": "code",
   "execution_count": 62,
   "id": "11474c3f",
   "metadata": {},
   "outputs": [
    {
     "data": {
      "text/plain": [
       "(1440, 56)"
      ]
     },
     "execution_count": 62,
     "metadata": {},
     "output_type": "execute_result"
    }
   ],
   "source": [
    "cds_crash.loc[cds_crash['CRASH_CLASS'].isnull()==True].shape"
   ]
  },
  {
   "cell_type": "code",
   "execution_count": 63,
   "id": "88d807c9",
   "metadata": {},
   "outputs": [
    {
     "data": {
      "text/plain": [
       "0.7035131688871301"
      ]
     },
     "execution_count": 63,
     "metadata": {},
     "output_type": "execute_result"
    }
   ],
   "source": [
    "#null percentage: \n",
    "1440/204687*100"
   ]
  },
  {
   "cell_type": "code",
   "execution_count": 66,
   "id": "fb420e5f",
   "metadata": {
    "scrolled": true
   },
   "outputs": [
    {
     "data": {
      "text/plain": [
       "0.0     189071\n",
       "1.0        447\n",
       "2.0       1195\n",
       "3.0         79\n",
       "4.0        199\n",
       "88.0      1170\n",
       "98.0      1862\n",
       "99.0    111750\n",
       "Name: PED_LOC, dtype: int64"
      ]
     },
     "execution_count": 66,
     "metadata": {},
     "output_type": "execute_result"
    }
   ],
   "source": [
    "cds_vehicle.PED_LOC.value_counts().sort_index()"
   ]
  },
  {
   "cell_type": "code",
   "execution_count": 67,
   "id": "2fab8a73",
   "metadata": {},
   "outputs": [
    {
     "data": {
      "text/plain": [
       "(5284, 31)"
      ]
     },
     "execution_count": 67,
     "metadata": {},
     "output_type": "execute_result"
    }
   ],
   "source": [
    "cds_vehicle.loc[cds_vehicle['PED_LOC'].isnull()==True].shape"
   ]
  },
  {
   "cell_type": "code",
   "execution_count": 68,
   "id": "185e40a1",
   "metadata": {},
   "outputs": [
    {
     "data": {
      "text/plain": [
       "(311057, 31)"
      ]
     },
     "execution_count": 68,
     "metadata": {},
     "output_type": "execute_result"
    }
   ],
   "source": [
    "cds_vehicle.shape"
   ]
  },
  {
   "cell_type": "code",
   "execution_count": 69,
   "id": "9aced633",
   "metadata": {},
   "outputs": [
    {
     "data": {
      "text/plain": [
       "1.6987240280720253"
      ]
     },
     "execution_count": 69,
     "metadata": {},
     "output_type": "execute_result"
    }
   ],
   "source": [
    "#null percentage: \n",
    "5284/311057*100"
   ]
  },
  {
   "cell_type": "code",
   "execution_count": 70,
   "id": "f0650c75",
   "metadata": {},
   "outputs": [
    {
     "data": {
      "text/plain": [
       "(6446, 31)"
      ]
     },
     "execution_count": 70,
     "metadata": {},
     "output_type": "execute_result"
    }
   ],
   "source": [
    "cds_vehicle.loc[cds_vehicle['NUM_OCC'].isnull()==True].shape"
   ]
  },
  {
   "cell_type": "code",
   "execution_count": 71,
   "id": "a0a9f27d",
   "metadata": {},
   "outputs": [
    {
     "data": {
      "text/plain": [
       "2.0722890016942235"
      ]
     },
     "execution_count": 71,
     "metadata": {},
     "output_type": "execute_result"
    }
   ],
   "source": [
    "#null percentage: \n",
    "6446/311057*100"
   ]
  },
  {
   "cell_type": "code",
   "execution_count": 90,
   "id": "2039883b",
   "metadata": {},
   "outputs": [
    {
     "data": {
      "text/plain": [
       "-2.0         1\n",
       " 0.0    203108\n",
       " 1.0       936\n",
       " 2.0        98\n",
       " 3.0        12\n",
       " 4.0         5\n",
       " 5.0         4\n",
       "Name: FATALS, dtype: int64"
      ]
     },
     "execution_count": 90,
     "metadata": {},
     "output_type": "execute_result"
    }
   ],
   "source": [
    "cds_crash.FATALS.value_counts().sort_index()"
   ]
  },
  {
   "cell_type": "code",
   "execution_count": 72,
   "id": "28ef9a5b",
   "metadata": {},
   "outputs": [
    {
     "data": {
      "text/plain": [
       "(523, 56)"
      ]
     },
     "execution_count": 72,
     "metadata": {},
     "output_type": "execute_result"
    }
   ],
   "source": [
    "cds_crash.loc[cds_crash['FATALS'].isnull()==True].shape"
   ]
  },
  {
   "cell_type": "code",
   "execution_count": 73,
   "id": "b15bae79",
   "metadata": {},
   "outputs": [
    {
     "data": {
      "text/plain": [
       "0.2555120745333118"
      ]
     },
     "execution_count": 73,
     "metadata": {},
     "output_type": "execute_result"
    }
   ],
   "source": [
    "#null percentage: \n",
    "523/204687*100"
   ]
  },
  {
   "cell_type": "code",
   "execution_count": 91,
   "id": "b010200d",
   "metadata": {},
   "outputs": [
    {
     "data": {
      "text/plain": [
       "-1.0          1\n",
       " 0.0     168588\n",
       " 1.0      25091\n",
       " 2.0       7078\n",
       " 3.0       1980\n",
       " 4.0        858\n",
       " 5.0        320\n",
       " 6.0        148\n",
       " 7.0         47\n",
       " 8.0         24\n",
       " 9.0         12\n",
       " 10.0         7\n",
       " 11.0         1\n",
       " 12.0         3\n",
       " 13.0         1\n",
       " 14.0         1\n",
       " 15.0         1\n",
       " 16.0         1\n",
       " 17.0         1\n",
       "Name: INJURED, dtype: int64"
      ]
     },
     "execution_count": 91,
     "metadata": {},
     "output_type": "execute_result"
    }
   ],
   "source": [
    "cds_crash.INJURED.value_counts().sort_index()"
   ]
  },
  {
   "cell_type": "code",
   "execution_count": 74,
   "id": "f26749db",
   "metadata": {},
   "outputs": [
    {
     "data": {
      "text/plain": [
       "(524, 56)"
      ]
     },
     "execution_count": 74,
     "metadata": {},
     "output_type": "execute_result"
    }
   ],
   "source": [
    "cds_crash.loc[cds_crash['INJURED'].isnull()==True].shape"
   ]
  },
  {
   "cell_type": "code",
   "execution_count": 75,
   "id": "937eecf0",
   "metadata": {},
   "outputs": [
    {
     "data": {
      "text/plain": [
       "0.25600062534503903"
      ]
     },
     "execution_count": 75,
     "metadata": {},
     "output_type": "execute_result"
    }
   ],
   "source": [
    "#null percentage: \n",
    "524/204687*100"
   ]
  },
  {
   "cell_type": "code",
   "execution_count": 77,
   "id": "6c773ce5",
   "metadata": {},
   "outputs": [
    {
     "data": {
      "text/plain": [
       "-1.0         1\n",
       " 0.0    202739\n",
       " 1.0       501\n",
       " 2.0        16\n",
       " 3.0         4\n",
       "Name: PED_INJ, dtype: int64"
      ]
     },
     "execution_count": 77,
     "metadata": {},
     "output_type": "execute_result"
    }
   ],
   "source": [
    "cds_crash.PED_INJ.value_counts().sort_index()"
   ]
  },
  {
   "cell_type": "code",
   "execution_count": 78,
   "id": "d5eb014d",
   "metadata": {},
   "outputs": [
    {
     "data": {
      "text/plain": [
       "(1426, 56)"
      ]
     },
     "execution_count": 78,
     "metadata": {},
     "output_type": "execute_result"
    }
   ],
   "source": [
    "cds_crash.loc[cds_crash['PED_INJ'].isnull()==True].shape"
   ]
  },
  {
   "cell_type": "code",
   "execution_count": 79,
   "id": "88b79766",
   "metadata": {},
   "outputs": [
    {
     "data": {
      "text/plain": [
       "0.6966734575229496"
      ]
     },
     "execution_count": 79,
     "metadata": {},
     "output_type": "execute_result"
    }
   ],
   "source": [
    "#null percentage: \n",
    "1426/204687*100"
   ]
  },
  {
   "cell_type": "code",
   "execution_count": 80,
   "id": "22d494f8",
   "metadata": {},
   "outputs": [
    {
     "data": {
      "text/plain": [
       "0.0    202691\n",
       "1.0       583\n",
       "2.0         7\n",
       "3.0         1\n",
       "Name: BIKE_INJ, dtype: int64"
      ]
     },
     "execution_count": 80,
     "metadata": {},
     "output_type": "execute_result"
    }
   ],
   "source": [
    "cds_crash.BIKE_INJ.value_counts().sort_index()"
   ]
  },
  {
   "cell_type": "code",
   "execution_count": 81,
   "id": "fc68c180",
   "metadata": {},
   "outputs": [
    {
     "data": {
      "text/plain": [
       "(1405, 56)"
      ]
     },
     "execution_count": 81,
     "metadata": {},
     "output_type": "execute_result"
    }
   ],
   "source": [
    "cds_crash.loc[cds_crash['BIKE_INJ'].isnull()==True].shape"
   ]
  },
  {
   "cell_type": "code",
   "execution_count": 82,
   "id": "4bcbc216",
   "metadata": {},
   "outputs": [
    {
     "data": {
      "text/plain": [
       "0.6864138904766791"
      ]
     },
     "execution_count": 82,
     "metadata": {},
     "output_type": "execute_result"
    }
   ],
   "source": [
    "#null percentage: \n",
    "1405/204687*100"
   ]
  },
  {
   "cell_type": "code",
   "execution_count": 83,
   "id": "16a797be",
   "metadata": {},
   "outputs": [
    {
     "data": {
      "text/plain": [
       "0.0     257854\n",
       "1.0      17472\n",
       "2.0      14419\n",
       "3.0       5816\n",
       "4.0        934\n",
       "98.0       122\n",
       "99.0      5419\n",
       "Name: DRIVER_INJ, dtype: int64"
      ]
     },
     "execution_count": 83,
     "metadata": {},
     "output_type": "execute_result"
    }
   ],
   "source": [
    "cds_vehicle.DRIVER_INJ.value_counts().sort_index()"
   ]
  },
  {
   "cell_type": "code",
   "execution_count": 84,
   "id": "aa0d3e93",
   "metadata": {},
   "outputs": [
    {
     "data": {
      "text/plain": [
       "(9021, 31)"
      ]
     },
     "execution_count": 84,
     "metadata": {},
     "output_type": "execute_result"
    }
   ],
   "source": [
    "cds_vehicle.loc[cds_vehicle['DRIVER_INJ'].isnull()==True].shape"
   ]
  },
  {
   "cell_type": "code",
   "execution_count": 85,
   "id": "0a0790e7",
   "metadata": {},
   "outputs": [
    {
     "data": {
      "text/plain": [
       "2.900111555116908"
      ]
     },
     "execution_count": 85,
     "metadata": {},
     "output_type": "execute_result"
    }
   ],
   "source": [
    "#null percentage: \n",
    "9021/311057*100"
   ]
  },
  {
   "cell_type": "code",
   "execution_count": 86,
   "id": "9751b5b0",
   "metadata": {},
   "outputs": [
    {
     "data": {
      "text/plain": [
       "0.0     95323\n",
       "1.0      7776\n",
       "2.0      5967\n",
       "3.0      2165\n",
       "4.0       298\n",
       "98.0     1124\n",
       "99.0      825\n",
       "Name: PASS_INJ, dtype: int64"
      ]
     },
     "execution_count": 86,
     "metadata": {},
     "output_type": "execute_result"
    }
   ],
   "source": [
    "cds_passenger.PASS_INJ.value_counts().sort_index()"
   ]
  },
  {
   "cell_type": "code",
   "execution_count": 87,
   "id": "5571c5fd",
   "metadata": {},
   "outputs": [
    {
     "data": {
      "text/plain": [
       "(673, 10)"
      ]
     },
     "execution_count": 87,
     "metadata": {},
     "output_type": "execute_result"
    }
   ],
   "source": [
    "cds_passenger.loc[cds_passenger['PASS_INJ'].isnull()==True].shape"
   ]
  },
  {
   "cell_type": "code",
   "execution_count": 88,
   "id": "34e6b797",
   "metadata": {},
   "outputs": [
    {
     "data": {
      "text/plain": [
       "(114151, 10)"
      ]
     },
     "execution_count": 88,
     "metadata": {},
     "output_type": "execute_result"
    }
   ],
   "source": [
    "cds_passenger.shape"
   ]
  },
  {
   "cell_type": "code",
   "execution_count": 89,
   "id": "52a5785f",
   "metadata": {},
   "outputs": [
    {
     "data": {
      "text/plain": [
       "0.589569955585146"
      ]
     },
     "execution_count": 89,
     "metadata": {},
     "output_type": "execute_result"
    }
   ],
   "source": [
    "#null percentage: \n",
    "673/114151*100"
   ]
  },
  {
   "cell_type": "code",
   "execution_count": null,
   "id": "16d95833",
   "metadata": {},
   "outputs": [],
   "source": []
  }
 ],
 "metadata": {
  "kernelspec": {
   "display_name": "Python 3",
   "language": "python",
   "name": "python3"
  },
  "language_info": {
   "codemirror_mode": {
    "name": "ipython",
    "version": 3
   },
   "file_extension": ".py",
   "mimetype": "text/x-python",
   "name": "python",
   "nbconvert_exporter": "python",
   "pygments_lexer": "ipython3",
   "version": "3.8.8"
  }
 },
 "nbformat": 4,
 "nbformat_minor": 5
}
