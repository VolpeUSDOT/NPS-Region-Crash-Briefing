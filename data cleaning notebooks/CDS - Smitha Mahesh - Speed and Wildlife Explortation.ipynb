{
 "cells": [
  {
   "cell_type": "markdown",
   "metadata": {},
   "source": [
    "## Crash Data Speed and Wildlife Exploration Jupyter Notebook\n",
    "\n",
    "**Author:** Smitha Mahesh \n",
    "\n",
    "**Date:** 6/28/2022 \n",
    "\n",
    "**Purpose:** This notebook use the new CDS files as the input and identifies the count present for too fast, speeding, and wildlife-related crashes, as well as figuring out what count of the data is missing for these variables of interest. "
   ]
  },
  {
   "cell_type": "code",
   "execution_count": 1,
   "metadata": {},
   "outputs": [],
   "source": [
    "import pandas as pd\n",
    "import numpy as np\n",
    "import os"
   ]
  },
  {
   "cell_type": "code",
   "execution_count": 2,
   "metadata": {},
   "outputs": [],
   "source": [
    "myworkingdirectory = r\"C:\\Users\\smitha.mahesh\\Desktop\\New CDS Excel Files\"\n",
    "os.chdir(myworkingdirectory)"
   ]
  },
  {
   "cell_type": "code",
   "execution_count": 3,
   "metadata": {
    "scrolled": true
   },
   "outputs": [],
   "source": [
    "cds_df = pd.read_excel('./ALL_CRASH.xlsx')\n",
    "cds_df_passengers = pd.read_excel('./ALL_PASSENGER.xlsx')"
   ]
  },
  {
   "cell_type": "code",
   "execution_count": 10,
   "metadata": {
    "scrolled": true
   },
   "outputs": [
    {
     "data": {
      "text/html": [
       "<div>\n",
       "<style scoped>\n",
       "    .dataframe tbody tr th:only-of-type {\n",
       "        vertical-align: middle;\n",
       "    }\n",
       "\n",
       "    .dataframe tbody tr th {\n",
       "        vertical-align: top;\n",
       "    }\n",
       "\n",
       "    .dataframe thead th {\n",
       "        text-align: right;\n",
       "    }\n",
       "</style>\n",
       "<table border=\"1\" class=\"dataframe\">\n",
       "  <thead>\n",
       "    <tr style=\"text-align: right;\">\n",
       "      <th></th>\n",
       "      <th>OBJECTID</th>\n",
       "      <th>INCID_NO</th>\n",
       "      <th>CASE_NUM</th>\n",
       "      <th>PARK_ALPHA</th>\n",
       "      <th>STATE_CODE</th>\n",
       "      <th>CRASH_DATE</th>\n",
       "      <th>CRASH_TIME</th>\n",
       "      <th>RTE_NO</th>\n",
       "      <th>RTE_NAME</th>\n",
       "      <th>NODE_DIST_FT</th>\n",
       "      <th>...</th>\n",
       "      <th>LATITUDE</th>\n",
       "      <th>LONGITUDE</th>\n",
       "      <th>MILEPOST</th>\n",
       "      <th>IMPORT_DATE</th>\n",
       "      <th>FILE_NAME</th>\n",
       "      <th>SAVE_DATE</th>\n",
       "      <th>ROUTE_IDENT</th>\n",
       "      <th>RIP_CYCLE</th>\n",
       "      <th>MP_NODE</th>\n",
       "      <th>SPTL_LOC</th>\n",
       "    </tr>\n",
       "  </thead>\n",
       "  <tbody>\n",
       "    <tr>\n",
       "      <th>0</th>\n",
       "      <td>2</td>\n",
       "      <td>ABLI070425075000</td>\n",
       "      <td>5540070001</td>\n",
       "      <td>ABLI</td>\n",
       "      <td>KY</td>\n",
       "      <td>2007-04-25</td>\n",
       "      <td>750</td>\n",
       "      <td>0</td>\n",
       "      <td>KNOB CREEK PARKING</td>\n",
       "      <td>0.0</td>\n",
       "      <td>...</td>\n",
       "      <td>NaN</td>\n",
       "      <td>NaN</td>\n",
       "      <td>NaN</td>\n",
       "      <td>NaN</td>\n",
       "      <td>NaN</td>\n",
       "      <td>NaT</td>\n",
       "      <td>NaN</td>\n",
       "      <td>NaN</td>\n",
       "      <td>NaN</td>\n",
       "      <td>0</td>\n",
       "    </tr>\n",
       "    <tr>\n",
       "      <th>1</th>\n",
       "      <td>3</td>\n",
       "      <td>ABLI070804175500</td>\n",
       "      <td>5540070013</td>\n",
       "      <td>ABLI</td>\n",
       "      <td>KY</td>\n",
       "      <td>2007-08-04</td>\n",
       "      <td>1755</td>\n",
       "      <td>0</td>\n",
       "      <td>NaN</td>\n",
       "      <td>0.0</td>\n",
       "      <td>...</td>\n",
       "      <td>NaN</td>\n",
       "      <td>NaN</td>\n",
       "      <td>NaN</td>\n",
       "      <td>NaN</td>\n",
       "      <td>NaN</td>\n",
       "      <td>NaT</td>\n",
       "      <td>NaN</td>\n",
       "      <td>NaN</td>\n",
       "      <td>NaN</td>\n",
       "      <td>0</td>\n",
       "    </tr>\n",
       "    <tr>\n",
       "      <th>2</th>\n",
       "      <td>4</td>\n",
       "      <td>ABLI091117170900</td>\n",
       "      <td>N08113</td>\n",
       "      <td>ABLI</td>\n",
       "      <td>NY</td>\n",
       "      <td>2009-11-17</td>\n",
       "      <td>1709</td>\n",
       "      <td>NaN</td>\n",
       "      <td>NEW YORK AVE</td>\n",
       "      <td>NaN</td>\n",
       "      <td>...</td>\n",
       "      <td>NaN</td>\n",
       "      <td>NaN</td>\n",
       "      <td>NaN</td>\n",
       "      <td>NaN</td>\n",
       "      <td>NaN</td>\n",
       "      <td>2014-02-07</td>\n",
       "      <td>NaN</td>\n",
       "      <td>NaN</td>\n",
       "      <td>NaN</td>\n",
       "      <td>0</td>\n",
       "    </tr>\n",
       "    <tr>\n",
       "      <th>3</th>\n",
       "      <td>5</td>\n",
       "      <td>ABLI121009110000</td>\n",
       "      <td>12474</td>\n",
       "      <td>ABLI</td>\n",
       "      <td>KY</td>\n",
       "      <td>2012-10-09</td>\n",
       "      <td>1100</td>\n",
       "      <td>101</td>\n",
       "      <td>PRIVATE DRIVEWAY OFF EAST BEACH ROAD (875)</td>\n",
       "      <td>NaN</td>\n",
       "      <td>...</td>\n",
       "      <td>NaN</td>\n",
       "      <td>NaN</td>\n",
       "      <td>NaN</td>\n",
       "      <td>NaN</td>\n",
       "      <td>NaN</td>\n",
       "      <td>2015-03-16</td>\n",
       "      <td>NaN</td>\n",
       "      <td>NaN</td>\n",
       "      <td>NaN</td>\n",
       "      <td>0</td>\n",
       "    </tr>\n",
       "    <tr>\n",
       "      <th>4</th>\n",
       "      <td>6</td>\n",
       "      <td>ABLI140610163500</td>\n",
       "      <td>14054379</td>\n",
       "      <td>ABLI</td>\n",
       "      <td>KY</td>\n",
       "      <td>2014-06-10</td>\n",
       "      <td>1635</td>\n",
       "      <td>NaN</td>\n",
       "      <td>DC 295</td>\n",
       "      <td>NaN</td>\n",
       "      <td>...</td>\n",
       "      <td>38.91205</td>\n",
       "      <td>-76.93412</td>\n",
       "      <td>0.0</td>\n",
       "      <td>NaN</td>\n",
       "      <td>NaN</td>\n",
       "      <td>2014-06-18</td>\n",
       "      <td>NaN</td>\n",
       "      <td>NaN</td>\n",
       "      <td>NaN</td>\n",
       "      <td>0</td>\n",
       "    </tr>\n",
       "  </tbody>\n",
       "</table>\n",
       "<p>5 rows × 56 columns</p>\n",
       "</div>"
      ],
      "text/plain": [
       "   OBJECTID          INCID_NO    CASE_NUM PARK_ALPHA STATE_CODE CRASH_DATE  \\\n",
       "0         2  ABLI070425075000  5540070001       ABLI         KY 2007-04-25   \n",
       "1         3  ABLI070804175500  5540070013       ABLI         KY 2007-08-04   \n",
       "2         4  ABLI091117170900      N08113       ABLI         NY 2009-11-17   \n",
       "3         5  ABLI121009110000       12474       ABLI         KY 2012-10-09   \n",
       "4         6  ABLI140610163500    14054379       ABLI         KY 2014-06-10   \n",
       "\n",
       "   CRASH_TIME RTE_NO                                    RTE_NAME  \\\n",
       "0         750      0                          KNOB CREEK PARKING   \n",
       "1        1755      0                                         NaN   \n",
       "2        1709    NaN                                NEW YORK AVE   \n",
       "3        1100    101  PRIVATE DRIVEWAY OFF EAST BEACH ROAD (875)   \n",
       "4        1635    NaN                                      DC 295   \n",
       "\n",
       "   NODE_DIST_FT  ...  LATITUDE LONGITUDE MILEPOST  IMPORT_DATE  FILE_NAME  \\\n",
       "0           0.0  ...       NaN       NaN      NaN          NaN        NaN   \n",
       "1           0.0  ...       NaN       NaN      NaN          NaN        NaN   \n",
       "2           NaN  ...       NaN       NaN      NaN          NaN        NaN   \n",
       "3           NaN  ...       NaN       NaN      NaN          NaN        NaN   \n",
       "4           NaN  ...  38.91205 -76.93412      0.0          NaN        NaN   \n",
       "\n",
       "   SAVE_DATE  ROUTE_IDENT  RIP_CYCLE  MP_NODE  SPTL_LOC  \n",
       "0        NaT          NaN        NaN      NaN         0  \n",
       "1        NaT          NaN        NaN      NaN         0  \n",
       "2 2014-02-07          NaN        NaN      NaN         0  \n",
       "3 2015-03-16          NaN        NaN      NaN         0  \n",
       "4 2014-06-18          NaN        NaN      NaN         0  \n",
       "\n",
       "[5 rows x 56 columns]"
      ]
     },
     "execution_count": 10,
     "metadata": {},
     "output_type": "execute_result"
    }
   ],
   "source": [
    "cds_df.head()"
   ]
  },
  {
   "cell_type": "code",
   "execution_count": 11,
   "metadata": {
    "scrolled": true
   },
   "outputs": [
    {
     "data": {
      "text/html": [
       "<div>\n",
       "<style scoped>\n",
       "    .dataframe tbody tr th:only-of-type {\n",
       "        vertical-align: middle;\n",
       "    }\n",
       "\n",
       "    .dataframe tbody tr th {\n",
       "        vertical-align: top;\n",
       "    }\n",
       "\n",
       "    .dataframe thead th {\n",
       "        text-align: right;\n",
       "    }\n",
       "</style>\n",
       "<table border=\"1\" class=\"dataframe\">\n",
       "  <thead>\n",
       "    <tr style=\"text-align: right;\">\n",
       "      <th></th>\n",
       "      <th>OBJECTID</th>\n",
       "      <th>INCID_NO</th>\n",
       "      <th>UNIT_NO</th>\n",
       "      <th>PASS_SEQ</th>\n",
       "      <th>PASS_SEX</th>\n",
       "      <th>PASS_BELT</th>\n",
       "      <th>PASS_EJECT</th>\n",
       "      <th>PASS_SEAT</th>\n",
       "      <th>PASS_INJ</th>\n",
       "      <th>PASS_AGE</th>\n",
       "    </tr>\n",
       "  </thead>\n",
       "  <tbody>\n",
       "    <tr>\n",
       "      <th>0</th>\n",
       "      <td>5</td>\n",
       "      <td>ABLI121009110000</td>\n",
       "      <td>1</td>\n",
       "      <td>1</td>\n",
       "      <td>1.0</td>\n",
       "      <td>1.0</td>\n",
       "      <td>0.0</td>\n",
       "      <td>3.0</td>\n",
       "      <td>0.0</td>\n",
       "      <td>52.0</td>\n",
       "    </tr>\n",
       "    <tr>\n",
       "      <th>1</th>\n",
       "      <td>193356</td>\n",
       "      <td>ABLI9100000001</td>\n",
       "      <td>1</td>\n",
       "      <td>1</td>\n",
       "      <td>1.0</td>\n",
       "      <td>1.0</td>\n",
       "      <td>0.0</td>\n",
       "      <td>3.0</td>\n",
       "      <td>0.0</td>\n",
       "      <td>64.0</td>\n",
       "    </tr>\n",
       "    <tr>\n",
       "      <th>2</th>\n",
       "      <td>198783</td>\n",
       "      <td>ACAD0000000014</td>\n",
       "      <td>1</td>\n",
       "      <td>1</td>\n",
       "      <td>2.0</td>\n",
       "      <td>1.0</td>\n",
       "      <td>0.0</td>\n",
       "      <td>3.0</td>\n",
       "      <td>0.0</td>\n",
       "      <td>36.0</td>\n",
       "    </tr>\n",
       "    <tr>\n",
       "      <th>3</th>\n",
       "      <td>199384</td>\n",
       "      <td>ACAD0000000083</td>\n",
       "      <td>1</td>\n",
       "      <td>1</td>\n",
       "      <td>2.0</td>\n",
       "      <td>1.0</td>\n",
       "      <td>0.0</td>\n",
       "      <td>3.0</td>\n",
       "      <td>0.0</td>\n",
       "      <td>46.0</td>\n",
       "    </tr>\n",
       "    <tr>\n",
       "      <th>4</th>\n",
       "      <td>199385</td>\n",
       "      <td>ACAD0000000083</td>\n",
       "      <td>1</td>\n",
       "      <td>2</td>\n",
       "      <td>2.0</td>\n",
       "      <td>1.0</td>\n",
       "      <td>0.0</td>\n",
       "      <td>4.0</td>\n",
       "      <td>0.0</td>\n",
       "      <td>25.0</td>\n",
       "    </tr>\n",
       "  </tbody>\n",
       "</table>\n",
       "</div>"
      ],
      "text/plain": [
       "   OBJECTID          INCID_NO  UNIT_NO  PASS_SEQ  PASS_SEX  PASS_BELT  \\\n",
       "0         5  ABLI121009110000        1         1       1.0        1.0   \n",
       "1    193356    ABLI9100000001        1         1       1.0        1.0   \n",
       "2    198783    ACAD0000000014        1         1       2.0        1.0   \n",
       "3    199384    ACAD0000000083        1         1       2.0        1.0   \n",
       "4    199385    ACAD0000000083        1         2       2.0        1.0   \n",
       "\n",
       "   PASS_EJECT  PASS_SEAT  PASS_INJ  PASS_AGE  \n",
       "0         0.0        3.0       0.0      52.0  \n",
       "1         0.0        3.0       0.0      64.0  \n",
       "2         0.0        3.0       0.0      36.0  \n",
       "3         0.0        3.0       0.0      46.0  \n",
       "4         0.0        4.0       0.0      25.0  "
      ]
     },
     "execution_count": 11,
     "metadata": {},
     "output_type": "execute_result"
    }
   ],
   "source": [
    "cds_df_passengers.head()"
   ]
  },
  {
   "cell_type": "code",
   "execution_count": 14,
   "metadata": {
    "scrolled": true
   },
   "outputs": [
    {
     "data": {
      "text/plain": [
       "1.0     102007\n",
       "2.0      47867\n",
       "7.0      18945\n",
       "0.0      14174\n",
       "5.0       8176\n",
       "88.0      5396\n",
       "99.0      2858\n",
       "4.0       1498\n",
       "3.0       1438\n",
       "98.0       822\n",
       "10.0        34\n",
       "6.0         32\n",
       "Name: CRASH_CLASS, dtype: int64"
      ]
     },
     "execution_count": 14,
     "metadata": {},
     "output_type": "execute_result"
    }
   ],
   "source": [
    "cds_df.CRASH_CLASS.value_counts()"
   ]
  },
  {
   "cell_type": "code",
   "execution_count": 15,
   "metadata": {},
   "outputs": [],
   "source": [
    "cds_df['Non-Collision']= np.where(cds_df['CRASH_CLASS']==0, 1,0)\n",
    "cds_df['Collision with Other Motor Vehicle']= np.where(cds_df['CRASH_CLASS']==1, 1,0)\n",
    "cds_df['Collision with Fixed Object']= np.where(cds_df['CRASH_CLASS']==2, 1,0)\n",
    "cds_df['Collision with Pedestrian']= np.where(cds_df['CRASH_CLASS']==3, 1,0)\n",
    "cds_df['Collision with Bicycle']= np.where(cds_df['CRASH_CLASS']==4, 1,0)\n",
    "cds_df['Collision with Parked Motor Vehicle']= np.where(cds_df['CRASH_CLASS']==5, 1,0)\n",
    "cds_df['Collision with Railway Train']= np.where(cds_df['CRASH_CLASS']==6, 1,0)\n",
    "cds_df['Collision with Animal']= np.where(cds_df['CRASH_CLASS']==7, 1,0)\n",
    "cds_df['Collision with Other Object']= np.where(cds_df['CRASH_CLASS']==88, 1,0)\n",
    "cds_df['Collision with Unknown']= np.where(cds_df['CRASH_CLASS']==99, 1,0)\n",
    "cds_df['Other Accident Class']= np.where(cds_df['CRASH_CLASS'].isin([0,1,2,3,4,5,6,7,88,99])==False,\n",
    "                                                                                        1,0)\n"
   ]
  },
  {
   "cell_type": "code",
   "execution_count": 16,
   "metadata": {},
   "outputs": [],
   "source": [
    "cds_df_passengers['No Injury']= np.where(cds_df_passengers['PASS_INJ']==0, 1,0)\n",
    "cds_df_passengers['Possible Injury']= np.where(cds_df_passengers['PASS_INJ']==1, 1,0)\n",
    "cds_df_passengers['Non-incapacitating Injury']= np.where(cds_df_passengers['PASS_INJ']==2, 1,0)\n",
    "cds_df_passengers['Incapacitating Injury']= np.where(cds_df_passengers['PASS_INJ']==3, 1,0)\n",
    "cds_df_passengers['Fatality']= np.where(cds_df_passengers['PASS_INJ']==4, 1,0)\n",
    "cds_df_passengers['Unknown Injury']= np.where(cds_df_passengers['PASS_INJ'].isin([98,99]), 1,0)\n",
    "cds_df_passengers['NUM_OCC']=1"
   ]
  },
  {
   "cell_type": "code",
   "execution_count": 17,
   "metadata": {},
   "outputs": [
    {
     "data": {
      "text/plain": [
       "((114151, 17), (204687, 67))"
      ]
     },
     "execution_count": 17,
     "metadata": {},
     "output_type": "execute_result"
    }
   ],
   "source": [
    "cds_df_passengers.shape, cds_df.shape"
   ]
  },
  {
   "cell_type": "markdown",
   "metadata": {},
   "source": [
    "#### Data Quality Issues\n",
    "- "
   ]
  },
  {
   "cell_type": "code",
   "execution_count": 18,
   "metadata": {},
   "outputs": [
    {
     "data": {
      "text/plain": [
       "(1206.0, 298)"
      ]
     },
     "execution_count": 18,
     "metadata": {},
     "output_type": "execute_result"
    }
   ],
   "source": [
    "cds_df['FATALS'].sum(), cds_df_passengers['Fatality'].sum()"
   ]
  },
  {
   "cell_type": "code",
   "execution_count": 19,
   "metadata": {},
   "outputs": [],
   "source": [
    "cds_df_passengers_slim = cds_df_passengers[['INCID_NO', 'No Injury',\n",
    "       'Possible Injury', 'Non-incapacitating Injury', 'Incapacitating Injury',\n",
    "       'Fatality', 'Unknown Injury', 'NUM_OCC']]"
   ]
  },
  {
   "cell_type": "code",
   "execution_count": 20,
   "metadata": {},
   "outputs": [],
   "source": [
    "cds_df_passengers_agg = cds_df_passengers_slim.groupby(by=['INCID_NO']).sum()\n",
    "cds_df_passengers_agg = cds_df_passengers_agg.reset_index()"
   ]
  },
  {
   "cell_type": "code",
   "execution_count": 21,
   "metadata": {},
   "outputs": [
    {
     "data": {
      "text/plain": [
       "((60136, 8), (114151, 17), (204687, 67))"
      ]
     },
     "execution_count": 21,
     "metadata": {},
     "output_type": "execute_result"
    }
   ],
   "source": [
    "cds_df_passengers_agg.shape, cds_df_passengers.shape, cds_df.shape"
   ]
  },
  {
   "cell_type": "code",
   "execution_count": 22,
   "metadata": {},
   "outputs": [],
   "source": [
    "cds_df_join = cds_df.merge(cds_df_passengers_agg, on = 'INCID_NO',how='left',indicator = True)"
   ]
  },
  {
   "cell_type": "code",
   "execution_count": 23,
   "metadata": {},
   "outputs": [
    {
     "data": {
      "text/plain": [
       "left_only     144551\n",
       "both           60136\n",
       "right_only         0\n",
       "Name: _merge, dtype: int64"
      ]
     },
     "execution_count": 23,
     "metadata": {},
     "output_type": "execute_result"
    }
   ],
   "source": [
    "cds_df_join._merge.value_counts()"
   ]
  },
  {
   "cell_type": "code",
   "execution_count": 24,
   "metadata": {},
   "outputs": [
    {
     "data": {
      "text/plain": [
       "0.31854252555822987"
      ]
     },
     "execution_count": 24,
     "metadata": {},
     "output_type": "execute_result"
    }
   ],
   "source": [
    "26734/83926"
   ]
  },
  {
   "cell_type": "code",
   "execution_count": 25,
   "metadata": {},
   "outputs": [],
   "source": [
    "cds_df_join = cds_df_join.rename(columns={\"CASE_NUM\": \"CASENUM\", \n",
    "                                      \"STATE_CODE\": \"STATE\"})\n"
   ]
  },
  {
   "cell_type": "code",
   "execution_count": 26,
   "metadata": {},
   "outputs": [],
   "source": [
    "cds_df_join['CRASH_DATE2'] = cds_df_join['CRASH_DATE']\n",
    "cds_df_join['CRASH_DATE'] = pd.to_datetime( cds_df_join['CRASH_DATE'], \n",
    "                                            format = '%A, %B %d, %Y')"
   ]
  },
  {
   "cell_type": "code",
   "execution_count": 27,
   "metadata": {},
   "outputs": [],
   "source": [
    "cds_df_join = cds_df_join[['INCID_NO', 'CASENUM', 'NUM_OCC', 'Non-Collision',\n",
    "       'Collision with Other Motor Vehicle', 'Collision with Fixed Object',\n",
    "       'Collision with Pedestrian', 'Collision with Bicycle',\n",
    "       'Collision with Parked Motor Vehicle', 'Collision with Railway Train',\n",
    "       'Collision with Animal', 'Collision with Other Object',\n",
    "       'Collision with Unknown', 'Other Accident Class', 'No Injury',\n",
    "       'Possible Injury', 'Non-incapacitating Injury', 'Incapacitating Injury',\n",
    "       'Fatality', 'Unknown Injury', 'PARK_ALPHA', 'STATE', 'CRASH_DATE',\n",
    "       'CRASH_TIME', 'LATITUDE', 'LONGITUDE', 'FATALS', 'INJURED']]"
   ]
  },
  {
   "cell_type": "code",
   "execution_count": 28,
   "metadata": {},
   "outputs": [
    {
     "data": {
      "text/plain": [
       "((204687, 67), (204687, 28))"
      ]
     },
     "execution_count": 28,
     "metadata": {},
     "output_type": "execute_result"
    }
   ],
   "source": [
    "cds_df.shape, cds_df_join.shape"
   ]
  },
  {
   "cell_type": "code",
   "execution_count": 29,
   "metadata": {},
   "outputs": [],
   "source": [
    "cds_df_join.to_csv(\"crash_data_CDS_clean.csv\", index=False)\n"
   ]
  },
  {
   "cell_type": "code",
   "execution_count": 1,
   "metadata": {},
   "outputs": [],
   "source": [
    "# Speed Data Investigation"
   ]
  },
  {
   "cell_type": "code",
   "execution_count": 12,
   "metadata": {},
   "outputs": [
    {
     "data": {
      "text/plain": [
       "29        A05\n",
       "30        A05\n",
       "85        A05\n",
       "86        A05\n",
       "137       A05\n",
       "         ... \n",
       "204482    A05\n",
       "204484    A05\n",
       "204493    A05\n",
       "204567    A05\n",
       "204636    A05\n",
       "Name: CON_FACT1, Length: 4118, dtype: object"
      ]
     },
     "execution_count": 12,
     "metadata": {},
     "output_type": "execute_result"
    }
   ],
   "source": [
    "exceeding_speed1= cds_df.loc[cds_df['CON_FACT1'].str.contains(\"A05\")==True]\n",
    "exceeding_speed1['CON_FACT1']"
   ]
  },
  {
   "cell_type": "code",
   "execution_count": 13,
   "metadata": {
    "scrolled": true
   },
   "outputs": [
    {
     "data": {
      "text/plain": [
       "(4118, 56)"
      ]
     },
     "execution_count": 13,
     "metadata": {},
     "output_type": "execute_result"
    }
   ],
   "source": [
    "exceeding_speed1.shape"
   ]
  },
  {
   "cell_type": "code",
   "execution_count": null,
   "metadata": {},
   "outputs": [],
   "source": [
    "#4118 crashes were contributing factor 1 included 'exceeding posted speeding limits'"
   ]
  },
  {
   "cell_type": "code",
   "execution_count": 14,
   "metadata": {},
   "outputs": [
    {
     "data": {
      "text/plain": [
       "(22451, 56)"
      ]
     },
     "execution_count": 14,
     "metadata": {},
     "output_type": "execute_result"
    }
   ],
   "source": [
    "cds_df.loc[cds_df['CON_FACT1'].isnull()==True].shape"
   ]
  },
  {
   "cell_type": "code",
   "execution_count": 47,
   "metadata": {},
   "outputs": [
    {
     "data": {
      "text/plain": [
       "(1582, 56)"
      ]
     },
     "execution_count": 47,
     "metadata": {},
     "output_type": "execute_result"
    }
   ],
   "source": [
    "exceeding_speed2= cds_df.loc[cds_df['CON_FACT2'].str.contains(\"A05\")==True]\n",
    "exceeding_speed2['CON_FACT2']\n",
    "exceeding_speed2.shape"
   ]
  },
  {
   "cell_type": "code",
   "execution_count": 28,
   "metadata": {},
   "outputs": [],
   "source": [
    "#1582 crashes were contributing factor 2 included 'exceeding posted speeding limits'"
   ]
  },
  {
   "cell_type": "code",
   "execution_count": 29,
   "metadata": {},
   "outputs": [
    {
     "data": {
      "text/plain": [
       "(60933, 56)"
      ]
     },
     "execution_count": 29,
     "metadata": {},
     "output_type": "execute_result"
    }
   ],
   "source": [
    "cds_df.loc[cds_df['CON_FACT2'].isnull()==True].shape"
   ]
  },
  {
   "cell_type": "code",
   "execution_count": 30,
   "metadata": {},
   "outputs": [
    {
     "data": {
      "text/plain": [
       "(637, 56)"
      ]
     },
     "execution_count": 30,
     "metadata": {},
     "output_type": "execute_result"
    }
   ],
   "source": [
    "exceeding_speed3= cds_df.loc[cds_df['CON_FACT3'].str.contains(\"A05\")==True]\n",
    "exceeding_speed3['CON_FACT3']\n",
    "exceeding_speed3.shape"
   ]
  },
  {
   "cell_type": "code",
   "execution_count": 31,
   "metadata": {},
   "outputs": [],
   "source": [
    "#637 crashes were contributing factor 3 included 'exceeding posted speeding limits'"
   ]
  },
  {
   "cell_type": "code",
   "execution_count": 32,
   "metadata": {},
   "outputs": [
    {
     "data": {
      "text/plain": [
       "(74913, 56)"
      ]
     },
     "execution_count": 32,
     "metadata": {},
     "output_type": "execute_result"
    }
   ],
   "source": [
    "cds_df.loc[cds_df['CON_FACT3'].isnull()==True].shape"
   ]
  },
  {
   "cell_type": "code",
   "execution_count": 33,
   "metadata": {},
   "outputs": [
    {
     "data": {
      "text/plain": [
       "(302, 56)"
      ]
     },
     "execution_count": 33,
     "metadata": {},
     "output_type": "execute_result"
    }
   ],
   "source": [
    "exceeding_speed4= cds_df.loc[cds_df['CON_FACT4'].str.contains(\"A05\")==True]\n",
    "exceeding_speed4['CON_FACT4']\n",
    "exceeding_speed4.shape"
   ]
  },
  {
   "cell_type": "code",
   "execution_count": null,
   "metadata": {},
   "outputs": [],
   "source": [
    "#302 crashes were contributing factor 4 included 'exceeding posted speeding limits'"
   ]
  },
  {
   "cell_type": "code",
   "execution_count": 34,
   "metadata": {},
   "outputs": [
    {
     "data": {
      "text/plain": [
       "(80037, 56)"
      ]
     },
     "execution_count": 34,
     "metadata": {},
     "output_type": "execute_result"
    }
   ],
   "source": [
    "cds_df.loc[cds_df['CON_FACT4'].isnull()==True].shape"
   ]
  },
  {
   "cell_type": "code",
   "execution_count": 35,
   "metadata": {},
   "outputs": [
    {
     "data": {
      "text/plain": [
       "(128, 56)"
      ]
     },
     "execution_count": 35,
     "metadata": {},
     "output_type": "execute_result"
    }
   ],
   "source": [
    "exceeding_speed5= cds_df.loc[cds_df['CON_FACT5'].str.contains(\"A05\")==True]\n",
    "exceeding_speed5['CON_FACT5']\n",
    "exceeding_speed5.shape"
   ]
  },
  {
   "cell_type": "code",
   "execution_count": null,
   "metadata": {},
   "outputs": [],
   "source": [
    "#128 crashes were contributing factor 5 included 'exceeding posted speeding limits'"
   ]
  },
  {
   "cell_type": "code",
   "execution_count": 36,
   "metadata": {},
   "outputs": [
    {
     "data": {
      "text/plain": [
       "(82672, 56)"
      ]
     },
     "execution_count": 36,
     "metadata": {},
     "output_type": "execute_result"
    }
   ],
   "source": [
    "cds_df.loc[cds_df['CON_FACT5'].isnull()==True].shape"
   ]
  },
  {
   "cell_type": "code",
   "execution_count": 37,
   "metadata": {},
   "outputs": [
    {
     "data": {
      "text/plain": [
       "(39, 56)"
      ]
     },
     "execution_count": 37,
     "metadata": {},
     "output_type": "execute_result"
    }
   ],
   "source": [
    "exceeding_speed6= cds_df.loc[cds_df['CON_FACT6'].str.contains(\"A05\")==True]\n",
    "exceeding_speed6['CON_FACT6']\n",
    "exceeding_speed6.shape"
   ]
  },
  {
   "cell_type": "code",
   "execution_count": null,
   "metadata": {},
   "outputs": [],
   "source": [
    "#39 crashes were contributing factor 6 included 'exceeding posted speeding limits'"
   ]
  },
  {
   "cell_type": "code",
   "execution_count": 38,
   "metadata": {},
   "outputs": [
    {
     "data": {
      "text/plain": [
       "(83549, 56)"
      ]
     },
     "execution_count": 38,
     "metadata": {},
     "output_type": "execute_result"
    }
   ],
   "source": [
    "cds_df.loc[cds_df['CON_FACT6'].isnull()==True].shape"
   ]
  },
  {
   "cell_type": "code",
   "execution_count": 43,
   "metadata": {},
   "outputs": [
    {
     "data": {
      "text/plain": [
       "(204687, 56)"
      ]
     },
     "execution_count": 43,
     "metadata": {},
     "output_type": "execute_result"
    }
   ],
   "source": [
    "cds_df.shape"
   ]
  },
  {
   "cell_type": "code",
   "execution_count": 44,
   "metadata": {},
   "outputs": [
    {
     "data": {
      "text/plain": [
       "124.6"
      ]
     },
     "execution_count": 44,
     "metadata": {},
     "output_type": "execute_result"
    }
   ],
   "source": [
    "#the percentage of crash records with missing \"Contributing Factors\" entries are among CON_FACT1 through CONFACT6 \n",
    "round((22451+60933+74913+80037+8267+8354)/204687,3)*100\n",
    "#This is bigger than 100% because the contributing factor of 'exceeding posted speeding limit' can be recorded in any CON_FACT 1 through 6"
   ]
  },
  {
   "cell_type": "code",
   "execution_count": 55,
   "metadata": {},
   "outputs": [
    {
     "data": {
      "text/plain": [
       "(12306, 56)"
      ]
     },
     "execution_count": 55,
     "metadata": {},
     "output_type": "execute_result"
    }
   ],
   "source": [
    "too_fast1= cds_df.loc[cds_df['CON_FACT1'].str.contains(\"A06\")==True]\n",
    "too_fast1['CON_FACT1']\n",
    "too_fast1.shape"
   ]
  },
  {
   "cell_type": "code",
   "execution_count": null,
   "metadata": {},
   "outputs": [],
   "source": [
    "#12306 crashes were contributing factor 1 included 'too fast for conditions'"
   ]
  },
  {
   "cell_type": "code",
   "execution_count": 50,
   "metadata": {},
   "outputs": [
    {
     "data": {
      "text/plain": [
       "(3092, 56)"
      ]
     },
     "execution_count": 50,
     "metadata": {},
     "output_type": "execute_result"
    }
   ],
   "source": [
    "too_fast2= cds_df.loc[cds_df['CON_FACT2'].str.contains(\"A06\")==True]\n",
    "too_fast2['CON_FACT2']\n",
    "too_fast2.shape"
   ]
  },
  {
   "cell_type": "code",
   "execution_count": null,
   "metadata": {},
   "outputs": [],
   "source": [
    "#3092 crashes were contributing factor 2 included 'too fast for conditions'"
   ]
  },
  {
   "cell_type": "code",
   "execution_count": 51,
   "metadata": {},
   "outputs": [
    {
     "data": {
      "text/plain": [
       "(1742, 56)"
      ]
     },
     "execution_count": 51,
     "metadata": {},
     "output_type": "execute_result"
    }
   ],
   "source": [
    "too_fast3= cds_df.loc[cds_df['CON_FACT3'].str.contains(\"A06\")==True]\n",
    "too_fast3['CON_FACT3']\n",
    "too_fast3.shape"
   ]
  },
  {
   "cell_type": "code",
   "execution_count": null,
   "metadata": {},
   "outputs": [],
   "source": [
    "#1742 crashes were contributing factor 3 included 'too fast for conditions'"
   ]
  },
  {
   "cell_type": "code",
   "execution_count": 52,
   "metadata": {},
   "outputs": [
    {
     "data": {
      "text/plain": [
       "(811, 56)"
      ]
     },
     "execution_count": 52,
     "metadata": {},
     "output_type": "execute_result"
    }
   ],
   "source": [
    "too_fast4= cds_df.loc[cds_df['CON_FACT4'].str.contains(\"A06\")==True]\n",
    "too_fast4['CON_FACT4']\n",
    "too_fast4.shape"
   ]
  },
  {
   "cell_type": "code",
   "execution_count": null,
   "metadata": {},
   "outputs": [],
   "source": [
    "#811 crashes were contributing factor 4 included 'too fast for conditions'"
   ]
  },
  {
   "cell_type": "code",
   "execution_count": 53,
   "metadata": {},
   "outputs": [
    {
     "data": {
      "text/plain": [
       "(267, 56)"
      ]
     },
     "execution_count": 53,
     "metadata": {},
     "output_type": "execute_result"
    }
   ],
   "source": [
    "too_fast5= cds_df.loc[cds_df['CON_FACT5'].str.contains(\"A06\")==True]\n",
    "too_fast5['CON_FACT5']\n",
    "too_fast5.shape"
   ]
  },
  {
   "cell_type": "code",
   "execution_count": null,
   "metadata": {},
   "outputs": [],
   "source": [
    "#267 crashes were contributing factor 5 included 'too fast for conditions'"
   ]
  },
  {
   "cell_type": "code",
   "execution_count": 54,
   "metadata": {},
   "outputs": [
    {
     "data": {
      "text/plain": [
       "(95, 56)"
      ]
     },
     "execution_count": 54,
     "metadata": {},
     "output_type": "execute_result"
    }
   ],
   "source": [
    "too_fast6= cds_df.loc[cds_df['CON_FACT6'].str.contains(\"A06\")==True]\n",
    "too_fast6['CON_FACT6']\n",
    "too_fast6.shape"
   ]
  },
  {
   "cell_type": "code",
   "execution_count": null,
   "metadata": {},
   "outputs": [],
   "source": [
    "#95 crashes were contributing factor 6 included 'too fast for conditions'"
   ]
  },
  {
   "cell_type": "code",
   "execution_count": 56,
   "metadata": {},
   "outputs": [
    {
     "data": {
      "text/plain": [
       "124.6"
      ]
     },
     "execution_count": 56,
     "metadata": {},
     "output_type": "execute_result"
    }
   ],
   "source": [
    "#the percentage of crash records with missing \"Contributing Factors\" entries are among CON_FACT1 through CONFACT6 \n",
    "round((22451+60933+74913+80037+8267+8354)/204687,3)*100\n",
    "#This is bigger than 100% because the contributing factor of 'exceeding posted speeding limit' can be recorded in any CON_FACT 1 through 6"
   ]
  },
  {
   "cell_type": "code",
   "execution_count": 58,
   "metadata": {},
   "outputs": [
    {
     "data": {
      "text/plain": [
       "0.0     224650\n",
       "88.0     26051\n",
       "16.0     15809\n",
       "9.0       8226\n",
       "3.0       5025\n",
       "2.0       4278\n",
       "6.0       4259\n",
       "10.0      3137\n",
       "4.0       2599\n",
       "11.0      2356\n",
       "98.0      1638\n",
       "7.0       1635\n",
       "99.0      1331\n",
       "5.0        977\n",
       "17.0       789\n",
       "8.0        753\n",
       "15.0       713\n",
       "1.0        655\n",
       "12.0       510\n",
       "14.0       423\n",
       "13.0        52\n",
       "18.0         4\n",
       "Name: VIOL_CHG1, dtype: int64"
      ]
     },
     "execution_count": 58,
     "metadata": {},
     "output_type": "execute_result"
    }
   ],
   "source": [
    "cds_df_unit = pd.read_excel('./ALL_UNIT.xlsx')\n",
    "cds_df_unit['VIOL_CHG1'].value_counts()"
   ]
  },
  {
   "cell_type": "code",
   "execution_count": 62,
   "metadata": {},
   "outputs": [
    {
     "data": {
      "text/plain": [
       "(5187, 31)"
      ]
     },
     "execution_count": 62,
     "metadata": {},
     "output_type": "execute_result"
    }
   ],
   "source": [
    "cds_df_unit.loc[cds_df_unit['VIOL_CHG1'].isnull()==True].shape"
   ]
  },
  {
   "cell_type": "code",
   "execution_count": 60,
   "metadata": {
    "scrolled": true
   },
   "outputs": [
    {
     "data": {
      "text/plain": [
       "0.0     285121\n",
       "88.0      8381\n",
       "16.0      2974\n",
       "98.0      1832\n",
       "99.0      1313\n",
       "6.0        850\n",
       "9.0        757\n",
       "4.0        695\n",
       "17.0       618\n",
       "2.0        580\n",
       "5.0        463\n",
       "10.0       423\n",
       "3.0        413\n",
       "8.0        281\n",
       "7.0        260\n",
       "11.0       225\n",
       "15.0       169\n",
       "1.0        153\n",
       "12.0       107\n",
       "14.0        73\n",
       "13.0        14\n",
       "18.0         3\n",
       "Name: VIOL_CHG2, dtype: int64"
      ]
     },
     "execution_count": 60,
     "metadata": {},
     "output_type": "execute_result"
    }
   ],
   "source": [
    "cds_df_unit['VIOL_CHG2'].value_counts()"
   ]
  },
  {
   "cell_type": "code",
   "execution_count": 63,
   "metadata": {},
   "outputs": [
    {
     "data": {
      "text/plain": [
       "(5352, 31)"
      ]
     },
     "execution_count": 63,
     "metadata": {},
     "output_type": "execute_result"
    }
   ],
   "source": [
    "cds_df_unit.loc[cds_df_unit['VIOL_CHG2'].isnull()==True].shape"
   ]
  },
  {
   "cell_type": "code",
   "execution_count": 61,
   "metadata": {},
   "outputs": [
    {
     "data": {
      "text/plain": [
       "(311057, 31)"
      ]
     },
     "execution_count": 61,
     "metadata": {},
     "output_type": "execute_result"
    }
   ],
   "source": [
    "cds_df_unit.shape"
   ]
  },
  {
   "cell_type": "code",
   "execution_count": 65,
   "metadata": {},
   "outputs": [
    {
     "data": {
      "text/plain": [
       "3.4000000000000004"
      ]
     },
     "execution_count": 65,
     "metadata": {},
     "output_type": "execute_result"
    }
   ],
   "source": [
    "#the percentage of unit records with missing \"Violation Charges\" entries are among \n",
    "round((5187+5352)/311057,3)*100\n"
   ]
  },
  {
   "cell_type": "code",
   "execution_count": 66,
   "metadata": {},
   "outputs": [
    {
     "data": {
      "text/plain": [
       "1.0     102007\n",
       "2.0      47867\n",
       "7.0      18945\n",
       "0.0      14174\n",
       "5.0       8176\n",
       "88.0      5396\n",
       "99.0      2858\n",
       "4.0       1498\n",
       "3.0       1438\n",
       "98.0       822\n",
       "10.0        34\n",
       "6.0         32\n",
       "Name: CRASH_CLASS, dtype: int64"
      ]
     },
     "execution_count": 66,
     "metadata": {},
     "output_type": "execute_result"
    }
   ],
   "source": [
    "cds_df['CRASH_CLASS'].value_counts()"
   ]
  },
  {
   "cell_type": "code",
   "execution_count": 67,
   "metadata": {},
   "outputs": [
    {
     "data": {
      "text/plain": [
       "(204687, 56)"
      ]
     },
     "execution_count": 67,
     "metadata": {},
     "output_type": "execute_result"
    }
   ],
   "source": [
    "cds_df.shape "
   ]
  },
  {
   "cell_type": "code",
   "execution_count": 68,
   "metadata": {},
   "outputs": [
    {
     "data": {
      "text/plain": [
       "(1440, 56)"
      ]
     },
     "execution_count": 68,
     "metadata": {},
     "output_type": "execute_result"
    }
   ],
   "source": [
    "cds_df.loc[cds_df['CRASH_CLASS'].isnull()==True].shape"
   ]
  },
  {
   "cell_type": "code",
   "execution_count": 69,
   "metadata": {},
   "outputs": [
    {
     "data": {
      "text/plain": [
       "0.7000000000000001"
      ]
     },
     "execution_count": 69,
     "metadata": {},
     "output_type": "execute_result"
    }
   ],
   "source": [
    "#the percentage of unit records with missing \"CRASH CLASS\" \n",
    "round((1440)/204687,3)*100"
   ]
  },
  {
   "cell_type": "code",
   "execution_count": 14,
   "metadata": {},
   "outputs": [
    {
     "ename": "AttributeError",
     "evalue": "'Series' object has no attribute 'float'",
     "output_type": "error",
     "traceback": [
      "\u001b[1;31m---------------------------------------------------------------------------\u001b[0m",
      "\u001b[1;31mAttributeError\u001b[0m                            Traceback (most recent call last)",
      "Input \u001b[1;32mIn [14]\u001b[0m, in \u001b[0;36m<cell line: 1>\u001b[1;34m()\u001b[0m\n\u001b[1;32m----> 1\u001b[0m wildlife_crashes\u001b[38;5;241m=\u001b[39m cds_df\u001b[38;5;241m.\u001b[39mloc[\u001b[43mcds_df\u001b[49m\u001b[43m[\u001b[49m\u001b[38;5;124;43m'\u001b[39;49m\u001b[38;5;124;43mCRASH_CLASS\u001b[39;49m\u001b[38;5;124;43m'\u001b[39;49m\u001b[43m]\u001b[49m\u001b[38;5;241;43m.\u001b[39;49m\u001b[43mfloat\u001b[49m\u001b[38;5;241m.\u001b[39mcontains(\u001b[38;5;241m7.0\u001b[39m)\u001b[38;5;241m==\u001b[39m\u001b[38;5;28;01mTrue\u001b[39;00m]\n\u001b[0;32m      2\u001b[0m wildlife_crashes[\u001b[38;5;124m'\u001b[39m\u001b[38;5;124mCRASH_CLASS\u001b[39m\u001b[38;5;124m'\u001b[39m]\n\u001b[0;32m      3\u001b[0m wildlife_crashes\u001b[38;5;241m.\u001b[39mshape\n",
      "File \u001b[1;32m~\\Anaconda\\lib\\site-packages\\pandas\\core\\generic.py:5575\u001b[0m, in \u001b[0;36mNDFrame.__getattr__\u001b[1;34m(self, name)\u001b[0m\n\u001b[0;32m   5568\u001b[0m \u001b[38;5;28;01mif\u001b[39;00m (\n\u001b[0;32m   5569\u001b[0m     name \u001b[38;5;129;01mnot\u001b[39;00m \u001b[38;5;129;01min\u001b[39;00m \u001b[38;5;28mself\u001b[39m\u001b[38;5;241m.\u001b[39m_internal_names_set\n\u001b[0;32m   5570\u001b[0m     \u001b[38;5;129;01mand\u001b[39;00m name \u001b[38;5;129;01mnot\u001b[39;00m \u001b[38;5;129;01min\u001b[39;00m \u001b[38;5;28mself\u001b[39m\u001b[38;5;241m.\u001b[39m_metadata\n\u001b[0;32m   5571\u001b[0m     \u001b[38;5;129;01mand\u001b[39;00m name \u001b[38;5;129;01mnot\u001b[39;00m \u001b[38;5;129;01min\u001b[39;00m \u001b[38;5;28mself\u001b[39m\u001b[38;5;241m.\u001b[39m_accessors\n\u001b[0;32m   5572\u001b[0m     \u001b[38;5;129;01mand\u001b[39;00m \u001b[38;5;28mself\u001b[39m\u001b[38;5;241m.\u001b[39m_info_axis\u001b[38;5;241m.\u001b[39m_can_hold_identifiers_and_holds_name(name)\n\u001b[0;32m   5573\u001b[0m ):\n\u001b[0;32m   5574\u001b[0m     \u001b[38;5;28;01mreturn\u001b[39;00m \u001b[38;5;28mself\u001b[39m[name]\n\u001b[1;32m-> 5575\u001b[0m \u001b[38;5;28;01mreturn\u001b[39;00m \u001b[38;5;28;43mobject\u001b[39;49m\u001b[38;5;241;43m.\u001b[39;49m\u001b[38;5;21;43m__getattribute__\u001b[39;49m\u001b[43m(\u001b[49m\u001b[38;5;28;43mself\u001b[39;49m\u001b[43m,\u001b[49m\u001b[43m \u001b[49m\u001b[43mname\u001b[49m\u001b[43m)\u001b[49m\n",
      "\u001b[1;31mAttributeError\u001b[0m: 'Series' object has no attribute 'float'"
     ]
    }
   ],
   "source": [
    "wildlife_crashes= cds_df.loc[cds_df['CRASH_CLASS'].float.contains(7.0)==True]\n",
    "wildlife_crashes['CRASH_CLASS']\n",
    "wildlife_crashes.shape"
   ]
  },
  {
   "cell_type": "code",
   "execution_count": null,
   "metadata": {},
   "outputs": [],
   "source": []
  }
 ],
 "metadata": {
  "kernelspec": {
   "display_name": "Python 3 (ipykernel)",
   "language": "python",
   "name": "python3"
  },
  "language_info": {
   "codemirror_mode": {
    "name": "ipython",
    "version": 3
   },
   "file_extension": ".py",
   "mimetype": "text/x-python",
   "name": "python",
   "nbconvert_exporter": "python",
   "pygments_lexer": "ipython3",
   "version": "3.9.12"
  }
 },
 "nbformat": 4,
 "nbformat_minor": 2
}
