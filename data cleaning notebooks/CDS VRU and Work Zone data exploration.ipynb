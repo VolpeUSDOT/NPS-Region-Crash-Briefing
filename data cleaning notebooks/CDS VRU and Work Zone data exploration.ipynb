{
 "cells": [
  {
   "cell_type": "markdown",
   "id": "d0303b61",
   "metadata": {},
   "source": [
    "# Crash Data VRU and Work Zone Exploration Jupyter Notebook\n",
    "**Author:** Sophie Kaye\n",
    "\n",
    "**Date:** 7/12/2022\n",
    "\n",
    "**Purpose:** TThis notebook will assess data quality of existing data pertaining to crashes involving to Vulnerable Road Users (pedestrians and cyclists) and Work Zones"
   ]
  },
  {
   "cell_type": "code",
   "execution_count": 1,
   "id": "fc2b6a85",
   "metadata": {},
   "outputs": [],
   "source": [
    "import pandas as pd\n",
    "import numpy as np\n",
    "import os"
   ]
  },
  {
   "cell_type": "code",
   "execution_count": 2,
   "id": "51af4e77",
   "metadata": {},
   "outputs": [],
   "source": [
    "myworkingdirectory = r'C:\\Users\\Sophie.Kaye\\Desktop\\NPS Safety\\CDS\\New CDS Excel Files'\n",
    "os.chdir(myworkingdirectory)"
   ]
  },
  {
   "cell_type": "code",
   "execution_count": 4,
   "id": "8ba73040",
   "metadata": {},
   "outputs": [],
   "source": [
    "cds_df = pd.read_excel('./ALL_CRASH.xlsx')"
   ]
  },
  {
   "cell_type": "code",
   "execution_count": 16,
   "id": "e220f801",
   "metadata": {},
   "outputs": [
    {
     "data": {
      "text/plain": [
       "Index(['OBJECTID', 'INCID_NO', 'CASE_NUM', 'PARK_ALPHA', 'STATE_CODE',\n",
       "       'CRASH_DATE', 'CRASH_TIME', 'RTE_NO', 'RTE_NAME', 'NODE_DIST_FT',\n",
       "       'NODE_DIST_MI', 'NODE_DIR', 'NODE_NUM', 'LIGHT', 'WEATHER',\n",
       "       'CRASH_LOCATION', 'SURF_COND', 'CRASH_CLASS', 'VEH_COLL', 'OBJ_STRUCK',\n",
       "       'ROAD_CHAR', 'CON_FACT1', 'CON_FACT2', 'CON_FACT3', 'CON_FACT4',\n",
       "       'CON_FACT5', 'CON_FACT6', 'HIT_RUN', 'CATEGORY', 'FATALS', 'INJURED',\n",
       "       'PED_FAT', 'PED_INJ', 'BIKE_FAT', 'BIKE_INJ', 'PED', 'CRASH_YEAR',\n",
       "       'COMMENTS', 'ZIPFILE', 'LOCATION', 'PHOTOS_TAKEN', 'USPP_NPS_VEH_INV',\n",
       "       'PARK_PTY_DEST', 'LOCKED_UPDATE', 'LOCKED_BY_USER', 'DATA_SRC',\n",
       "       'LATITUDE', 'LONGITUDE', 'MILEPOST', 'IMPORT_DATE', 'FILE_NAME',\n",
       "       'SAVE_DATE', 'ROUTE_IDENT', 'RIP_CYCLE', 'MP_NODE', 'SPTL_LOC'],\n",
       "      dtype='object')"
      ]
     },
     "execution_count": 16,
     "metadata": {},
     "output_type": "execute_result"
    }
   ],
   "source": [
    "cds_df.columns"
   ]
  },
  {
   "cell_type": "code",
   "execution_count": 4,
   "id": "a18080a6",
   "metadata": {},
   "outputs": [
    {
     "data": {
      "text/plain": [
       "0.0      14174\n",
       "1.0     102007\n",
       "2.0      47867\n",
       "3.0       1438\n",
       "4.0       1498\n",
       "5.0       8176\n",
       "6.0         32\n",
       "7.0      18945\n",
       "10.0        34\n",
       "88.0      5396\n",
       "98.0       822\n",
       "99.0      2858\n",
       "Name: CRASH_CLASS, dtype: int64"
      ]
     },
     "execution_count": 4,
     "metadata": {},
     "output_type": "execute_result"
    }
   ],
   "source": [
    "#3.0 refers to Collision with Pedestrian and 4.0 refers to Collision with Cyclist\n",
    "cds_df['CRASH_CLASS'].value_counts().sort_index()"
   ]
  },
  {
   "cell_type": "code",
   "execution_count": 6,
   "id": "e7b9d358",
   "metadata": {},
   "outputs": [
    {
     "data": {
      "text/plain": [
       "(1440, 56)"
      ]
     },
     "execution_count": 6,
     "metadata": {},
     "output_type": "execute_result"
    }
   ],
   "source": [
    "cds_df.loc[cds_df['CRASH_CLASS'].isnull()==True].shape"
   ]
  },
  {
   "cell_type": "code",
   "execution_count": 7,
   "id": "a969274a",
   "metadata": {},
   "outputs": [
    {
     "data": {
      "text/plain": [
       "(204687, 56)"
      ]
     },
     "execution_count": 7,
     "metadata": {},
     "output_type": "execute_result"
    }
   ],
   "source": [
    "cds_df.shape"
   ]
  },
  {
   "cell_type": "code",
   "execution_count": 8,
   "id": "f5d87dcc",
   "metadata": {},
   "outputs": [
    {
     "data": {
      "text/plain": [
       "0.7000000000000001"
      ]
     },
     "execution_count": 8,
     "metadata": {},
     "output_type": "execute_result"
    }
   ],
   "source": [
    "#the percentage of crash records with missing \"crass class\" entries is:\n",
    "round(1440/204687,3)*100"
   ]
  },
  {
   "cell_type": "code",
   "execution_count": 9,
   "id": "abbf6f84",
   "metadata": {},
   "outputs": [],
   "source": [
    "cds_df_unit = pd.read_excel('./ALL_UNIT.xlsx')"
   ]
  },
  {
   "cell_type": "code",
   "execution_count": 10,
   "id": "93e05522",
   "metadata": {
    "scrolled": true
   },
   "outputs": [
    {
     "data": {
      "text/plain": [
       "Index(['OBJECTID', 'INCID_NO', 'UNIT_NO', 'VEH_YEAR', 'MAKE_MOD', 'MODEL',\n",
       "       'NUM_OCC', 'REG_STATE', 'REG_YEAR', 'PLATE_NUM', 'DIR_TRAVEL',\n",
       "       'SPEED_LIMIT', 'BODY_TYPE', 'VEH_MANVR', 'VEH_DAMAGE', 'DAM_LOCATION',\n",
       "       'LIC_NUM', 'LIC_STATE', 'PED', 'BRTH_DATE', 'DRIVER_SEX', 'DRIVER_BELT',\n",
       "       'DRIVER_EJECT', 'DRIVER_INJ', 'DRIVER_VIOLTN', 'VIOL_CHG1', 'VIOL_CHG2',\n",
       "       'PED_TYPE', 'PED_LOC', 'PED_ACTN', 'REPAIR'],\n",
       "      dtype='object')"
      ]
     },
     "execution_count": 10,
     "metadata": {},
     "output_type": "execute_result"
    }
   ],
   "source": [
    "cds_df_unit.columns"
   ]
  },
  {
   "cell_type": "code",
   "execution_count": 12,
   "id": "ebae56cf",
   "metadata": {},
   "outputs": [
    {
     "data": {
      "text/plain": [
       "0.0     301573\n",
       "1.0       1045\n",
       "2.0       1039\n",
       "3.0          6\n",
       "4.0          6\n",
       "5.0         44\n",
       "6.0         40\n",
       "88.0       122\n",
       "98.0        31\n",
       "99.0      1308\n",
       "Name: PED_TYPE, dtype: int64"
      ]
     },
     "execution_count": 12,
     "metadata": {},
     "output_type": "execute_result"
    }
   ],
   "source": [
    "cds_df_unit['PED_TYPE'].value_counts().sort_index()"
   ]
  },
  {
   "cell_type": "code",
   "execution_count": 13,
   "id": "26840bd0",
   "metadata": {},
   "outputs": [
    {
     "data": {
      "text/plain": [
       "(5843, 31)"
      ]
     },
     "execution_count": 13,
     "metadata": {},
     "output_type": "execute_result"
    }
   ],
   "source": [
    "cds_df_unit.loc[cds_df_unit['PED_TYPE'].isnull()==True].shape"
   ]
  },
  {
   "cell_type": "code",
   "execution_count": 14,
   "id": "62f5da93",
   "metadata": {},
   "outputs": [
    {
     "data": {
      "text/plain": [
       "(311057, 31)"
      ]
     },
     "execution_count": 14,
     "metadata": {},
     "output_type": "execute_result"
    }
   ],
   "source": [
    "cds_df_unit.shape"
   ]
  },
  {
   "cell_type": "code",
   "execution_count": 15,
   "id": "b9eec9df",
   "metadata": {},
   "outputs": [
    {
     "data": {
      "text/plain": [
       "1.9"
      ]
     },
     "execution_count": 15,
     "metadata": {},
     "output_type": "execute_result"
    }
   ],
   "source": [
    "#the percentage of vehicle records with missing \"pedestrian type\" entries is:\n",
    "round(5843/311057,3)*100"
   ]
  },
  {
   "cell_type": "code",
   "execution_count": 17,
   "id": "370aee1a",
   "metadata": {},
   "outputs": [
    {
     "data": {
      "text/plain": [
       "A01     1019\n",
       "A02     5358\n",
       "A03     6476\n",
       "A04     5589\n",
       "A05     4118\n",
       "A06    12306\n",
       "A07     2893\n",
       "A08     1185\n",
       "A09     9620\n",
       "A10     3499\n",
       "A11     8182\n",
       "A12      997\n",
       "A13       81\n",
       "A14     1413\n",
       "A15     3200\n",
       "A16    40316\n",
       "A17      693\n",
       "A18      178\n",
       "A88    13487\n",
       "B01      137\n",
       "B02      806\n",
       "B03      106\n",
       "B04      397\n",
       "B05     6258\n",
       "B06    16703\n",
       "B07      977\n",
       "B08     1816\n",
       "B88     1450\n",
       "C01     1075\n",
       "C02      606\n",
       "C03       10\n",
       "C04       65\n",
       "C05       34\n",
       "C06      185\n",
       "C07      204\n",
       "C08      198\n",
       "C88     1048\n",
       "D01       11\n",
       "D02       26\n",
       "D03      234\n",
       "D04      116\n",
       "D05      184\n",
       "D06       38\n",
       "D07       20\n",
       "D88      128\n",
       "E01     1810\n",
       "E02     2204\n",
       "E03     1106\n",
       "E04      508\n",
       "E05     1123\n",
       "E06       86\n",
       "E07      278\n",
       "E88      621\n",
       "U99    21055\n",
       "a16        2\n",
       "e88        1\n",
       "Name: CON_FACT1, dtype: int64"
      ]
     },
     "execution_count": 17,
     "metadata": {},
     "output_type": "execute_result"
    }
   ],
   "source": [
    "cds_df['CON_FACT1'].value_counts().sort_index()"
   ]
  },
  {
   "cell_type": "code",
   "execution_count": 18,
   "id": "b8157171",
   "metadata": {},
   "outputs": [
    {
     "data": {
      "text/plain": [
       "A01       88\n",
       "A02      680\n",
       "A03      644\n",
       "A04     1341\n",
       "A05     1582\n",
       "A06     3092\n",
       "A07      887\n",
       "A08      645\n",
       "A09     1914\n",
       "A10      777\n",
       "A11     1169\n",
       "A12      427\n",
       "A13       67\n",
       "A14      500\n",
       "A15      562\n",
       "A16    11034\n",
       "A17      513\n",
       "A18      167\n",
       "A88     2355\n",
       "B01      140\n",
       "B02      450\n",
       "B03       57\n",
       "B04      118\n",
       "B05     6221\n",
       "B06     2581\n",
       "B07     1350\n",
       "B08     4082\n",
       "B88     1373\n",
       "C01      565\n",
       "C02      477\n",
       "C03        4\n",
       "C04       78\n",
       "C05      117\n",
       "C06       58\n",
       "C07       98\n",
       "C08      200\n",
       "C88      910\n",
       "D01        2\n",
       "D02       18\n",
       "D03       57\n",
       "D04       74\n",
       "D05      107\n",
       "D06       40\n",
       "D07       34\n",
       "D88      121\n",
       "E01     5979\n",
       "E02     4357\n",
       "E03      835\n",
       "E04      678\n",
       "E05     1199\n",
       "E06       59\n",
       "E07     1167\n",
       "E88     1141\n",
       "U99    80563\n",
       "Name: CON_FACT2, dtype: int64"
      ]
     },
     "execution_count": 18,
     "metadata": {},
     "output_type": "execute_result"
    }
   ],
   "source": [
    "cds_df['CON_FACT2'].value_counts().sort_index()"
   ]
  },
  {
   "cell_type": "code",
   "execution_count": 19,
   "id": "c2a9fb9b",
   "metadata": {},
   "outputs": [
    {
     "data": {
      "text/plain": [
       "A01        69\n",
       "A02       334\n",
       "A03       219\n",
       "A04       423\n",
       "A05       637\n",
       "A06      1742\n",
       "A07       338\n",
       "A08       330\n",
       "A09       454\n",
       "A10       306\n",
       "A11       249\n",
       "A12       179\n",
       "A13        28\n",
       "A14       106\n",
       "A15       168\n",
       "A16      2693\n",
       "A17       228\n",
       "A18        57\n",
       "A88       680\n",
       "B01        53\n",
       "B02       185\n",
       "B03        29\n",
       "B04        62\n",
       "B05      2448\n",
       "B06       441\n",
       "B07       455\n",
       "B08      2264\n",
       "B88       379\n",
       "C01       226\n",
       "C02       471\n",
       "C03         5\n",
       "C04        33\n",
       "C05        57\n",
       "C06        36\n",
       "C07        41\n",
       "C08        99\n",
       "C88       729\n",
       "D01         2\n",
       "D02         9\n",
       "D03        24\n",
       "D04         7\n",
       "D05        34\n",
       "D06        15\n",
       "D07        24\n",
       "D88        63\n",
       "E01      4356\n",
       "E02      1544\n",
       "E03       314\n",
       "E04       253\n",
       "E05       449\n",
       "E06        43\n",
       "E07       302\n",
       "E88       336\n",
       "U99    104746\n",
       "Name: CON_FACT3, dtype: int64"
      ]
     },
     "execution_count": 19,
     "metadata": {},
     "output_type": "execute_result"
    }
   ],
   "source": [
    "cds_df['CON_FACT3'].value_counts().sort_index()"
   ]
  },
  {
   "cell_type": "code",
   "execution_count": 20,
   "id": "2c60b981",
   "metadata": {},
   "outputs": [
    {
     "data": {
      "text/plain": [
       "A01        31\n",
       "A02       219\n",
       "A03       219\n",
       "A04       203\n",
       "A05       302\n",
       "A06       811\n",
       "A07       180\n",
       "A08       194\n",
       "A09       341\n",
       "A10       181\n",
       "A11       236\n",
       "A12        83\n",
       "A13        15\n",
       "A14        99\n",
       "A15        31\n",
       "A16      1391\n",
       "A17        95\n",
       "A18        27\n",
       "A88       474\n",
       "B01        26\n",
       "B02        55\n",
       "B03        11\n",
       "B04        26\n",
       "B05       819\n",
       "B06        97\n",
       "B07       151\n",
       "B08       710\n",
       "B88       124\n",
       "C01        58\n",
       "C02        84\n",
       "C03         1\n",
       "C04         8\n",
       "C05        22\n",
       "C06        10\n",
       "C07         7\n",
       "C08        24\n",
       "C88       101\n",
       "D01         3\n",
       "D02         9\n",
       "D03        18\n",
       "D04        25\n",
       "D05        14\n",
       "D06         9\n",
       "D07        11\n",
       "D88       275\n",
       "E01      1297\n",
       "E02       447\n",
       "E03        90\n",
       "E04        79\n",
       "E05       184\n",
       "E06        11\n",
       "E07       123\n",
       "E88       208\n",
       "U99    114381\n",
       "Name: CON_FACT4, dtype: int64"
      ]
     },
     "execution_count": 20,
     "metadata": {},
     "output_type": "execute_result"
    }
   ],
   "source": [
    "cds_df['CON_FACT4'].value_counts().sort_index()"
   ]
  },
  {
   "cell_type": "code",
   "execution_count": 21,
   "id": "35f129f6",
   "metadata": {},
   "outputs": [
    {
     "data": {
      "text/plain": [
       "A01        17\n",
       "A02        90\n",
       "A03        44\n",
       "A04       105\n",
       "A05       128\n",
       "A06       267\n",
       "A07        37\n",
       "A08        42\n",
       "A09        43\n",
       "A10        27\n",
       "A11        34\n",
       "A12        33\n",
       "A13         9\n",
       "A14         9\n",
       "A15        11\n",
       "A16       418\n",
       "A17        36\n",
       "A18        15\n",
       "A88        99\n",
       "B01         7\n",
       "B02        12\n",
       "B03         4\n",
       "B04         7\n",
       "B05       197\n",
       "B06        15\n",
       "B07        67\n",
       "B08       175\n",
       "B88        63\n",
       "C01        19\n",
       "C02        26\n",
       "C04         5\n",
       "C05         5\n",
       "C06         3\n",
       "C07         1\n",
       "C08         6\n",
       "C88        34\n",
       "D03         5\n",
       "D04         7\n",
       "D05         9\n",
       "D06         3\n",
       "D88        11\n",
       "E01       554\n",
       "E02       210\n",
       "E03        42\n",
       "E04        41\n",
       "E05        82\n",
       "E06         5\n",
       "E07        70\n",
       "E88       272\n",
       "U99    118594\n",
       "Name: CON_FACT5, dtype: int64"
      ]
     },
     "execution_count": 21,
     "metadata": {},
     "output_type": "execute_result"
    }
   ],
   "source": [
    "cds_df['CON_FACT5'].value_counts().sort_index()"
   ]
  },
  {
   "cell_type": "code",
   "execution_count": 22,
   "id": "4cb8227d",
   "metadata": {},
   "outputs": [
    {
     "data": {
      "text/plain": [
       "A01        20\n",
       "A02        52\n",
       "A03        22\n",
       "A04        44\n",
       "A05        39\n",
       "A06        95\n",
       "A07         7\n",
       "A08        16\n",
       "A09         5\n",
       "A10         6\n",
       "A11         7\n",
       "A12         6\n",
       "A14         4\n",
       "A15         1\n",
       "A16        91\n",
       "A17        12\n",
       "A18         3\n",
       "A88        44\n",
       "B01         1\n",
       "B02         4\n",
       "B03         1\n",
       "B05        37\n",
       "B06         3\n",
       "B07        13\n",
       "B08        29\n",
       "B88         3\n",
       "C01         5\n",
       "C02         4\n",
       "C04         2\n",
       "C05         1\n",
       "C07         2\n",
       "C08         3\n",
       "C88         6\n",
       "D02         1\n",
       "D03         4\n",
       "D04         1\n",
       "D88         4\n",
       "E01       168\n",
       "E02        58\n",
       "E03        10\n",
       "E04        19\n",
       "E05        24\n",
       "E06         4\n",
       "E07        29\n",
       "E88        56\n",
       "U99    120172\n",
       "Name: CON_FACT6, dtype: int64"
      ]
     },
     "execution_count": 22,
     "metadata": {},
     "output_type": "execute_result"
    }
   ],
   "source": [
    "cds_df['CON_FACT6'].value_counts().sort_index()"
   ]
  },
  {
   "cell_type": "code",
   "execution_count": 30,
   "id": "b33ad544",
   "metadata": {},
   "outputs": [],
   "source": [
    "# Note that all Contributing Factors beginning with 'D' refer to VRUs"
   ]
  },
  {
   "cell_type": "code",
   "execution_count": 23,
   "id": "a03ab780",
   "metadata": {},
   "outputs": [
    {
     "data": {
      "text/plain": [
       "18"
      ]
     },
     "execution_count": 23,
     "metadata": {},
     "output_type": "execute_result"
    }
   ],
   "source": [
    "# total crashes in which \"Pedestrian/Cyclist: Under Influence of Drugs\" (D01) was listed as at least one of six contributing factors:\n",
    "11+2+2+3+0+0"
   ]
  },
  {
   "cell_type": "code",
   "execution_count": 24,
   "id": "fb13dabb",
   "metadata": {},
   "outputs": [
    {
     "data": {
      "text/plain": [
       "63"
      ]
     },
     "execution_count": 24,
     "metadata": {},
     "output_type": "execute_result"
    }
   ],
   "source": [
    "# total crashes in which \"Pedestrian/Cyclist: Under Influence of Alcohol\" (D02) was listed as at least one of six contributing factors:\n",
    "26+18+9+9+0+1"
   ]
  },
  {
   "cell_type": "code",
   "execution_count": 25,
   "id": "ef15eb5a",
   "metadata": {},
   "outputs": [
    {
     "data": {
      "text/plain": [
       "342"
      ]
     },
     "execution_count": 25,
     "metadata": {},
     "output_type": "execute_result"
    }
   ],
   "source": [
    "# total crashes in which \"Pedestrian/Cyclist: Failed to Yield Right of Way\" (D03) was listed as at least one of six contributing factors:\n",
    "234+57+24+18+5+4"
   ]
  },
  {
   "cell_type": "code",
   "execution_count": 26,
   "id": "25cc0970",
   "metadata": {},
   "outputs": [
    {
     "data": {
      "text/plain": [
       "230"
      ]
     },
     "execution_count": 26,
     "metadata": {},
     "output_type": "execute_result"
    }
   ],
   "source": [
    "# total crashes in which \"Pedestrian/Cyclist: Disregarded Traffic Control\" (D04) was listed as at least one of six contributing factors:\n",
    "116+74+7+25+7+1"
   ]
  },
  {
   "cell_type": "code",
   "execution_count": 27,
   "id": "a7d4ae85",
   "metadata": {},
   "outputs": [
    {
     "data": {
      "text/plain": [
       "348"
      ]
     },
     "execution_count": 27,
     "metadata": {},
     "output_type": "execute_result"
    }
   ],
   "source": [
    "# total crashes in which \"Pedestrian/Cyclist: Illegally in Roadway\" (D05) was listed as at least one of six contributing factors:\n",
    "184+107+34+14+9+0"
   ]
  },
  {
   "cell_type": "code",
   "execution_count": 28,
   "id": "e079d5b2",
   "metadata": {},
   "outputs": [
    {
     "data": {
      "text/plain": [
       "105"
      ]
     },
     "execution_count": 28,
     "metadata": {},
     "output_type": "execute_result"
    }
   ],
   "source": [
    "# total crashes in which \"Pedestrian/Cyclist: Bicycle Violation\" (D06) was listed as at least one of six contributing factors:\n",
    "38+40+15+9+3+0"
   ]
  },
  {
   "cell_type": "code",
   "execution_count": 29,
   "id": "ea414eea",
   "metadata": {},
   "outputs": [
    {
     "data": {
      "text/plain": [
       "89"
      ]
     },
     "execution_count": 29,
     "metadata": {},
     "output_type": "execute_result"
    }
   ],
   "source": [
    "# total crashes in which \"Pedestrian/Cyclist: Clothing Not Visible\" (D07) was listed as at least one of six contributing factors:\n",
    "20+34+24+11+0+0"
   ]
  },
  {
   "cell_type": "code",
   "execution_count": 31,
   "id": "713335eb",
   "metadata": {},
   "outputs": [
    {
     "data": {
      "text/plain": [
       "602"
      ]
     },
     "execution_count": 31,
     "metadata": {},
     "output_type": "execute_result"
    }
   ],
   "source": [
    "# total crashes in which \"Pedestrian/Cyclist: Other\" (D88) was listed as at least one of six contributing factors:\n",
    "128+121+63+275+11+4"
   ]
  },
  {
   "cell_type": "code",
   "execution_count": 32,
   "id": "82b1e9ff",
   "metadata": {},
   "outputs": [
    {
     "data": {
      "text/plain": [
       "(21445, 56)"
      ]
     },
     "execution_count": 32,
     "metadata": {},
     "output_type": "execute_result"
    }
   ],
   "source": [
    "no_ConFact1 = cds_df.loc[cds_df['CON_FACT1'].isnull()==True]\n",
    "no_ConFact1_2 = no_ConFact1.loc[no_ConFact1['CON_FACT2'].isnull()==True]\n",
    "no_ConFact1_3 = no_ConFact1_2.loc[no_ConFact1_2['CON_FACT3'].isnull()==True]\n",
    "no_ConFact1_4 = no_ConFact1_3.loc[no_ConFact1_3['CON_FACT4'].isnull()==True]\n",
    "no_ConFact1_5 = no_ConFact1_4.loc[no_ConFact1_4['CON_FACT5'].isnull()==True]\n",
    "no_ConFact_any = no_ConFact1_5.loc[no_ConFact1_5['CON_FACT6'].isnull()==True]\n",
    "no_ConFact_any.shape"
   ]
  },
  {
   "cell_type": "code",
   "execution_count": 33,
   "id": "576aa066",
   "metadata": {},
   "outputs": [
    {
     "data": {
      "text/plain": [
       "10.5"
      ]
     },
     "execution_count": 33,
     "metadata": {},
     "output_type": "execute_result"
    }
   ],
   "source": [
    "#the percentage of crash records with no contributing factor entries whatsoever is:\n",
    "round(21445/204687,3)*100"
   ]
  },
  {
   "cell_type": "code",
   "execution_count": 34,
   "id": "fcc28abe",
   "metadata": {},
   "outputs": [
    {
     "data": {
      "text/plain": [
       "0.0     189034\n",
       "1.0        757\n",
       "2.0        676\n",
       "3.0        115\n",
       "4.0         54\n",
       "5.0        136\n",
       "6.0         13\n",
       "88.0       542\n",
       "98.0      1887\n",
       "99.0    112547\n",
       "Name: PED_ACTN, dtype: int64"
      ]
     },
     "execution_count": 34,
     "metadata": {},
     "output_type": "execute_result"
    }
   ],
   "source": [
    "cds_df_unit['PED_ACTN'].value_counts().sort_index()"
   ]
  },
  {
   "cell_type": "code",
   "execution_count": 35,
   "id": "384b3d57",
   "metadata": {},
   "outputs": [
    {
     "data": {
      "text/plain": [
       "(5296, 31)"
      ]
     },
     "execution_count": 35,
     "metadata": {},
     "output_type": "execute_result"
    }
   ],
   "source": [
    "cds_df_unit.loc[cds_df_unit['PED_ACTN'].isnull()==True].shape"
   ]
  },
  {
   "cell_type": "code",
   "execution_count": 36,
   "id": "e6c69c81",
   "metadata": {},
   "outputs": [
    {
     "data": {
      "text/plain": [
       "1.7000000000000002"
      ]
     },
     "execution_count": 36,
     "metadata": {},
     "output_type": "execute_result"
    }
   ],
   "source": [
    "#the percentage of vehicle records with no pedestrian action entries is:\n",
    "round(5296/311057,3)*100"
   ]
  },
  {
   "cell_type": "code",
   "execution_count": 37,
   "id": "56643701",
   "metadata": {},
   "outputs": [
    {
     "data": {
      "text/plain": [
       "0.0     189071\n",
       "1.0        447\n",
       "2.0       1195\n",
       "3.0         79\n",
       "4.0        199\n",
       "88.0      1170\n",
       "98.0      1862\n",
       "99.0    111750\n",
       "Name: PED_LOC, dtype: int64"
      ]
     },
     "execution_count": 37,
     "metadata": {},
     "output_type": "execute_result"
    }
   ],
   "source": [
    "cds_df_unit['PED_LOC'].value_counts().sort_index()"
   ]
  },
  {
   "cell_type": "code",
   "execution_count": 38,
   "id": "fc7109dc",
   "metadata": {},
   "outputs": [
    {
     "data": {
      "text/plain": [
       "(5284, 31)"
      ]
     },
     "execution_count": 38,
     "metadata": {},
     "output_type": "execute_result"
    }
   ],
   "source": [
    "cds_df_unit.loc[cds_df_unit['PED_LOC'].isnull()==True].shape"
   ]
  },
  {
   "cell_type": "code",
   "execution_count": 39,
   "id": "4957b045",
   "metadata": {},
   "outputs": [
    {
     "data": {
      "text/plain": [
       "1.7000000000000002"
      ]
     },
     "execution_count": 39,
     "metadata": {},
     "output_type": "execute_result"
    }
   ],
   "source": [
    "#the percentage of vehicle records with no pedestrian location entries is:\n",
    "round(5284/311057,3)*100"
   ]
  },
  {
   "cell_type": "code",
   "execution_count": 5,
   "id": "a0cf7f76",
   "metadata": {},
   "outputs": [
    {
     "data": {
      "text/plain": [
       "11.0    27565\n",
       "12.0     8433\n",
       "13.0     9705\n",
       "14.0     3841\n",
       "15.0     4512\n",
       "16.0    93236\n",
       "17.0     5041\n",
       "21.0    15483\n",
       "22.0     1477\n",
       "23.0    15800\n",
       "24.0     1198\n",
       "25.0    10919\n",
       "26.0      242\n",
       "27.0       13\n",
       "28.0      483\n",
       "29.0     1229\n",
       "30.0       31\n",
       "98.0      618\n",
       "99.0     3662\n",
       "Name: CRASH_LOCATION, dtype: int64"
      ]
     },
     "execution_count": 5,
     "metadata": {},
     "output_type": "execute_result"
    }
   ],
   "source": [
    "cds_df['CRASH_LOCATION'].value_counts().sort_index()"
   ]
  },
  {
   "cell_type": "code",
   "execution_count": 7,
   "id": "2cd91290",
   "metadata": {},
   "outputs": [
    {
     "data": {
      "text/plain": [
       "(1199, 56)"
      ]
     },
     "execution_count": 7,
     "metadata": {},
     "output_type": "execute_result"
    }
   ],
   "source": [
    "cds_df.loc[cds_df['CRASH_LOCATION'].isnull()==True].shape"
   ]
  },
  {
   "cell_type": "code",
   "execution_count": 8,
   "id": "18f87553",
   "metadata": {},
   "outputs": [
    {
     "data": {
      "text/plain": [
       "0.6"
      ]
     },
     "execution_count": 8,
     "metadata": {},
     "output_type": "execute_result"
    }
   ],
   "source": [
    "#the percentage of crash records with no crash location entry is:\n",
    "round(1199/204687,3)*100"
   ]
  },
  {
   "cell_type": "code",
   "execution_count": 5,
   "id": "be5cd7ea",
   "metadata": {},
   "outputs": [
    {
     "data": {
      "text/plain": [
       "ABLI        7\n",
       "ACAD     1419\n",
       "AGFO        1\n",
       "ALPO       20\n",
       "AMIS       94\n",
       "        ...  \n",
       "WUPA        8\n",
       "YELL    10158\n",
       "YOSE     7756\n",
       "ZION     1478\n",
       "ZZZZ      778\n",
       "Name: PARK_ALPHA, Length: 243, dtype: int64"
      ]
     },
     "execution_count": 5,
     "metadata": {},
     "output_type": "execute_result"
    }
   ],
   "source": [
    "cds_df['PARK_ALPHA'].value_counts().sort_index()"
   ]
  },
  {
   "cell_type": "code",
   "execution_count": 6,
   "id": "0f309d61",
   "metadata": {},
   "outputs": [
    {
     "data": {
      "text/plain": [
       "(0, 56)"
      ]
     },
     "execution_count": 6,
     "metadata": {},
     "output_type": "execute_result"
    }
   ],
   "source": [
    "cds_df.loc[cds_df['PARK_ALPHA'].isnull()==True].shape"
   ]
  },
  {
   "cell_type": "code",
   "execution_count": null,
   "id": "c7e7f27e",
   "metadata": {},
   "outputs": [],
   "source": []
  }
 ],
 "metadata": {
  "kernelspec": {
   "display_name": "Python 3 (ipykernel)",
   "language": "python",
   "name": "python3"
  },
  "language_info": {
   "codemirror_mode": {
    "name": "ipython",
    "version": 3
   },
   "file_extension": ".py",
   "mimetype": "text/x-python",
   "name": "python",
   "nbconvert_exporter": "python",
   "pygments_lexer": "ipython3",
   "version": "3.9.7"
  }
 },
 "nbformat": 4,
 "nbformat_minor": 5
}
