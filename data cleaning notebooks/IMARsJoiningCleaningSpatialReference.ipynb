{
 "cells": [
  {
   "cell_type": "markdown",
   "id": "030fb362",
   "metadata": {},
   "source": [
    "This notebook is trying to add park names to the IMARS entries using their lat/lon. \n",
    "Meredith Raymer 11/16/21"
   ]
  },
  {
   "cell_type": "code",
   "execution_count": 1,
   "id": "095eb059",
   "metadata": {},
   "outputs": [],
   "source": [
    "import pandas as pd\n",
    "import numpy as np\n",
    "import geopandas as gpd"
   ]
  },
  {
   "cell_type": "code",
   "execution_count": 3,
   "id": "5e940b8b",
   "metadata": {},
   "outputs": [
    {
     "name": "stderr",
     "output_type": "stream",
     "text": [
      "C:\\Users\\Meredith.Raymer\\Anaconda3\\envs\\geo_env2\\lib\\site-packages\\IPython\\core\\interactiveshell.py:3441: DtypeWarning: Columns (4,5,6,7,8,10,11,14,15,16,17,18,19,20,21,22,23,26,27,28,29,30,31,33,35,36,37,38,39,42,43,44,45,46,47,48,49,50,52,53,54,55,56,57,58,59,60,64,68,73,76,77,91,92,98,99,100,101,102,103,109,111,120) have mixed types.Specify dtype option on import or set low_memory=False.\n",
      "  exec(code_obj, self.user_global_ns, self.user_ns)\n"
     ]
    }
   ],
   "source": [
    "IMARS1=pd.read_csv('IMARs_NPS.csv')"
   ]
  },
  {
   "cell_type": "code",
   "execution_count": 5,
   "id": "9d007650",
   "metadata": {},
   "outputs": [
    {
     "name": "stdout",
     "output_type": "stream",
     "text": [
      "['Unnamed: 0', 'Unnamed: 0.1', 'IMARS_Record_No', 'Crash_Date_Time_address', 'Linked_Address_Classification', 'City_Town_Park_Location', 'State', 'County', 'Direction', 'Linked_Street_Number', 'Linked_Common_Name', 'Street_Type', 'Direction.1', 'NEAR_Distance_to_MI', 'NEAR_Direction_To', 'NEAR_Direction', 'NEAR_route_street_road_name', 'NEAR_Road_Type', 'NEAR_Direction.1', 'AT_Intersection_route_street_road_DIRECTION', 'At_Intersecting_route_street_road_name', 'AT_Road_Type', 'AT_Direction', 'Mile_Marker', 'Latitude', 'Longitude', 'Region', 'State_Zone', 'Park', 'Site', 'Place', 'Point', 'Road_Type_Classification', 'Linked_Address', 'Crash_Date_Time_person', 'Driver_Action', 'Driver_Condition', 'Driver_Distraction', 'Suspect_Alcohol', 'Alcohol_Test', 'Alcohol_Test_Result_1', 'Alcohol_Test_Result_2', 'Suspect_Drugs', 'Drug_Test', 'Violations_Issued', 'Seat_Position', 'Injury_Severity', 'Air_Bag_Deployed', 'Ejection', 'Injury_Transported_By', 'Safety_Equipment_Used', 'Vehicle_number_striking_non_motorist', 'Injured_transported_by', 'Non_motorist_safety_equipment', 'Non_motorist_action_circumstance_prior_to_crash', 'Non_motorist_action_circumstance_at_time_of_crash', 'Non_motorist_condition_at_time_of_crash', 'Non_motorist_distraction', 'Non_motorist_location_at_time_of_crash', 'Pedestrian_Type', 'Pedestrian_Type_Detail', 'check1', 'Crash_Date_Time_report', 'Number_of_Vehicles_Involved', 'Injury_or_Fatal_Crash', 'Investigated_at_Scene', 'Hit_and_Run', 'Non_Motor_Vehicl_Property_Damage', 'Amount_of_Property_Damage', 'First_Harmful_Event_Type', 'First_Harmful_Event', 'Location_of_First_Harmful_Event', 'Weather', 'Roadway_Condition', 'Lighting', 'School_Bus_related', 'AS_Road_Circumstance', 'Environmental_Contributing_Circumstances', 'Work_Zone_Related', 'Work_Zone_Workers_Present', 'Work_Zone_Location', 'Law_Enforcement_Present_at_Work_Zone', 'Relation_to_Junction', 'Type_of_Intersection', 'Manner_of_Collision', 'check2', 'Crash_Date_Time_vehicle', 'Vehicle_Number', 'Number_of_Occupants', 'Vehicle_Towed', 'Insurance_verified', 'Initial_Impact_Point', 'Most_Damaged_Area', 'Extent_of_Damage', 'Direction_of_Travel_Prior_to_Crash', 'Posted_Speed', 'First_Event_Type', 'First_Event', 'Second_Event_Type', 'Second_Event', 'Third_Event_Type', 'Third_Event', 'Fourth_Event_Type', 'Fourth_Event', 'Motor_Vehicle_Unit_Type', 'Vehicle_Owner', 'Vehicle_Type', 'Non_Commercial_Trailer_Style', 'Emergency_Vehicle_Use', 'Emergency_Equipment_Activated', 'Special_Function_of_MV_in_Transport', 'Motor_Vehicle_Contributing_Circumstance', 'Vehicle_Maneuver_Action_Prior_to_Crash', 'Road_Surface', 'Grade', 'Roadway_Alignment', 'Total_Number_of_Lanes', 'Traffic_Control', 'Traffic_Control_Working_Properly', 'Roadway_Description', 'Commercial_Non_Commercial', 'Number_of_Axles', 'Gross_Vehicle_Weight', 'Combination_GVW', 'Commercial_Cargo_Body_Type', 'Commercial_Cargo', 'Commercial_MV_Configuration', 'Identification_Number_Type', 'Hazmat_1_Class', 'Hazmat_1_ID', 'Hazmat_2_Class', 'Hazmat_2_ID', 'Hazmat_3_Class', 'Hazmat_3_ID', 'Hazmat_4_Class', 'Hazmat_4_ID', 'check3']\n"
     ]
    }
   ],
   "source": [
    "listc=IMARS1.columns.to_list()\n",
    "print(listc)"
   ]
  },
  {
   "cell_type": "code",
   "execution_count": 6,
   "id": "e3f87c14",
   "metadata": {},
   "outputs": [],
   "source": [
    "crashesWLoc=IMARS1.dropna(subset=['Latitude', 'Longitude'])"
   ]
  },
  {
   "cell_type": "code",
   "execution_count": 8,
   "id": "d96603cf",
   "metadata": {},
   "outputs": [],
   "source": [
    "crashesWGeo=gpd.GeoDataFrame(crashesWLoc, geometry=gpd.points_from_xy(crashesWLoc.Longitude, crashesWLoc.Latitude))"
   ]
  },
  {
   "cell_type": "code",
   "execution_count": 10,
   "id": "5de7961f",
   "metadata": {},
   "outputs": [],
   "source": [
    "parks=gpd.read_file('NPS_-_Land_Resources_Division_Boundary_and_Tract_Data_Service.shp')"
   ]
  },
  {
   "cell_type": "code",
   "execution_count": 13,
   "id": "c4c3483e",
   "metadata": {},
   "outputs": [],
   "source": [
    "crashesWGeo.crs = \"EPSG:4326\"\n",
    "parks.crs = \"EPSG:4326\""
   ]
  },
  {
   "cell_type": "code",
   "execution_count": 21,
   "id": "88b65147",
   "metadata": {},
   "outputs": [
    {
     "data": {
      "text/html": [
       "<div>\n",
       "<style scoped>\n",
       "    .dataframe tbody tr th:only-of-type {\n",
       "        vertical-align: middle;\n",
       "    }\n",
       "\n",
       "    .dataframe tbody tr th {\n",
       "        vertical-align: top;\n",
       "    }\n",
       "\n",
       "    .dataframe thead th {\n",
       "        text-align: right;\n",
       "    }\n",
       "</style>\n",
       "<table border=\"1\" class=\"dataframe\">\n",
       "  <thead>\n",
       "    <tr style=\"text-align: right;\">\n",
       "      <th></th>\n",
       "      <th>OBJECTID</th>\n",
       "      <th>UNIT_CODE</th>\n",
       "      <th>GIS_Notes</th>\n",
       "      <th>UNIT_NAME</th>\n",
       "      <th>DATE_EDIT</th>\n",
       "      <th>STATE</th>\n",
       "      <th>REGION</th>\n",
       "      <th>GNIS_ID</th>\n",
       "      <th>UNIT_TYPE</th>\n",
       "      <th>CREATED_BY</th>\n",
       "      <th>METADATA</th>\n",
       "      <th>PARKNAME</th>\n",
       "      <th>CreationDa</th>\n",
       "      <th>Creator</th>\n",
       "      <th>EditDate</th>\n",
       "      <th>Editor</th>\n",
       "      <th>Shape__Are</th>\n",
       "      <th>Shape__Len</th>\n",
       "      <th>GlobalID</th>\n",
       "      <th>geometry</th>\n",
       "    </tr>\n",
       "  </thead>\n",
       "  <tbody>\n",
       "    <tr>\n",
       "      <th>0</th>\n",
       "      <td>1</td>\n",
       "      <td>AMME</td>\n",
       "      <td>PRELIMINARY - Data has not completed the entir...</td>\n",
       "      <td>American Memorial Park</td>\n",
       "      <td>2015-04-22</td>\n",
       "      <td>MP</td>\n",
       "      <td>PW</td>\n",
       "      <td>1879026</td>\n",
       "      <td>Park</td>\n",
       "      <td>Lands</td>\n",
       "      <td>Preliminary data. Contact the Land Resources P...</td>\n",
       "      <td>American Memorial Park</td>\n",
       "      <td>2020-01-09</td>\n",
       "      <td>SCarlton@nps.gov_nps</td>\n",
       "      <td>2020-01-09</td>\n",
       "      <td>SCarlton@nps.gov_nps</td>\n",
       "      <td>6.113585e+05</td>\n",
       "      <td>7740.973865</td>\n",
       "      <td>79037b52-9d9c-4f8c-b65b-70b810814fb0</td>\n",
       "      <td>POLYGON ((16221864.905 1714852.206, 16221867.9...</td>\n",
       "    </tr>\n",
       "    <tr>\n",
       "      <th>1</th>\n",
       "      <td>2</td>\n",
       "      <td>CEBE</td>\n",
       "      <td>Lands - http://landsnet.nps.gov/tractsnet/docu...</td>\n",
       "      <td>Cedar Creek and Belle Grove National Historica...</td>\n",
       "      <td>2005-04-07</td>\n",
       "      <td>VA</td>\n",
       "      <td>NE</td>\n",
       "      <td>1985663</td>\n",
       "      <td>National Historical Park</td>\n",
       "      <td>Lands</td>\n",
       "      <td>https://irma.nps.gov/DataStore/Reference/Profi...</td>\n",
       "      <td>Cedar Creek &amp; Belle Grove</td>\n",
       "      <td>2020-01-09</td>\n",
       "      <td>SCarlton@nps.gov_nps</td>\n",
       "      <td>2020-06-04</td>\n",
       "      <td>RJohnson@nps.gov_nps</td>\n",
       "      <td>2.328283e+07</td>\n",
       "      <td>53250.857647</td>\n",
       "      <td>dfdc7906-209d-42e5-95e8-5a0377ca9b06</td>\n",
       "      <td>MULTIPOLYGON (((-8715759.414 4724026.776, -871...</td>\n",
       "    </tr>\n",
       "    <tr>\n",
       "      <th>2</th>\n",
       "      <td>3</td>\n",
       "      <td>LIBI</td>\n",
       "      <td>Lands - http://landsnet.nps.gov/tractsnet/docu...</td>\n",
       "      <td>Little Bighorn Battlefield National Monument</td>\n",
       "      <td>2005-02-23</td>\n",
       "      <td>MT</td>\n",
       "      <td>IM</td>\n",
       "      <td>806297</td>\n",
       "      <td>National Monument</td>\n",
       "      <td>Lands</td>\n",
       "      <td>https://irma.nps.gov/DataStore/Reference/Profi...</td>\n",
       "      <td>Little Bighorn Battlefield</td>\n",
       "      <td>2020-01-09</td>\n",
       "      <td>SCarlton@nps.gov_nps</td>\n",
       "      <td>2020-06-04</td>\n",
       "      <td>RJohnson@nps.gov_nps</td>\n",
       "      <td>6.437513e+06</td>\n",
       "      <td>19524.580108</td>\n",
       "      <td>a3affc26-f98a-417d-aa5b-41cfb4988cc8</td>\n",
       "      <td>MULTIPOLYGON (((-11953415.314 5703937.476, -11...</td>\n",
       "    </tr>\n",
       "    <tr>\n",
       "      <th>3</th>\n",
       "      <td>4</td>\n",
       "      <td>CAVO</td>\n",
       "      <td>Lands - http://landsnet.nps.gov/tractsnet/docu...</td>\n",
       "      <td>Capulin Volcano National Monument</td>\n",
       "      <td>2004-07-22</td>\n",
       "      <td>NM</td>\n",
       "      <td>IM</td>\n",
       "      <td>936867</td>\n",
       "      <td>National Monument</td>\n",
       "      <td>Lands</td>\n",
       "      <td>https://irma.nps.gov/DataStore/Reference/Profi...</td>\n",
       "      <td>Capulin Volcano</td>\n",
       "      <td>2020-01-09</td>\n",
       "      <td>SCarlton@nps.gov_nps</td>\n",
       "      <td>2020-06-04</td>\n",
       "      <td>RJohnson@nps.gov_nps</td>\n",
       "      <td>4.997144e+06</td>\n",
       "      <td>10529.570772</td>\n",
       "      <td>646548c2-c5b8-4298-a6b2-a82b5977581e</td>\n",
       "      <td>POLYGON ((-11575101.835 4409222.280, -11574603...</td>\n",
       "    </tr>\n",
       "    <tr>\n",
       "      <th>4</th>\n",
       "      <td>5</td>\n",
       "      <td>FOBO</td>\n",
       "      <td>Lands - http://landsnet.nps.gov/tractsnet/docu...</td>\n",
       "      <td>Fort Bowie National Historic Site</td>\n",
       "      <td>2004-05-12</td>\n",
       "      <td>AZ</td>\n",
       "      <td>IM</td>\n",
       "      <td>1888916</td>\n",
       "      <td>National Historic Site</td>\n",
       "      <td>Lands</td>\n",
       "      <td>https://irma.nps.gov/DataStore/Reference/Profi...</td>\n",
       "      <td>Fort Bowie</td>\n",
       "      <td>2020-01-09</td>\n",
       "      <td>SCarlton@nps.gov_nps</td>\n",
       "      <td>2020-06-04</td>\n",
       "      <td>RJohnson@nps.gov_nps</td>\n",
       "      <td>5.650399e+06</td>\n",
       "      <td>18638.556950</td>\n",
       "      <td>a19874b5-9d2e-409b-ba2a-8b52f4649602</td>\n",
       "      <td>POLYGON ((-12187153.674 3783174.666, -12187626...</td>\n",
       "    </tr>\n",
       "  </tbody>\n",
       "</table>\n",
       "</div>"
      ],
      "text/plain": [
       "   OBJECTID UNIT_CODE                                          GIS_Notes  \\\n",
       "0         1      AMME  PRELIMINARY - Data has not completed the entir...   \n",
       "1         2      CEBE  Lands - http://landsnet.nps.gov/tractsnet/docu...   \n",
       "2         3      LIBI  Lands - http://landsnet.nps.gov/tractsnet/docu...   \n",
       "3         4      CAVO  Lands - http://landsnet.nps.gov/tractsnet/docu...   \n",
       "4         5      FOBO  Lands - http://landsnet.nps.gov/tractsnet/docu...   \n",
       "\n",
       "                                           UNIT_NAME   DATE_EDIT STATE REGION  \\\n",
       "0                             American Memorial Park  2015-04-22    MP     PW   \n",
       "1  Cedar Creek and Belle Grove National Historica...  2005-04-07    VA     NE   \n",
       "2       Little Bighorn Battlefield National Monument  2005-02-23    MT     IM   \n",
       "3                  Capulin Volcano National Monument  2004-07-22    NM     IM   \n",
       "4                  Fort Bowie National Historic Site  2004-05-12    AZ     IM   \n",
       "\n",
       "   GNIS_ID                 UNIT_TYPE CREATED_BY  \\\n",
       "0  1879026                      Park      Lands   \n",
       "1  1985663  National Historical Park      Lands   \n",
       "2   806297         National Monument      Lands   \n",
       "3   936867         National Monument      Lands   \n",
       "4  1888916    National Historic Site      Lands   \n",
       "\n",
       "                                            METADATA  \\\n",
       "0  Preliminary data. Contact the Land Resources P...   \n",
       "1  https://irma.nps.gov/DataStore/Reference/Profi...   \n",
       "2  https://irma.nps.gov/DataStore/Reference/Profi...   \n",
       "3  https://irma.nps.gov/DataStore/Reference/Profi...   \n",
       "4  https://irma.nps.gov/DataStore/Reference/Profi...   \n",
       "\n",
       "                     PARKNAME  CreationDa               Creator    EditDate  \\\n",
       "0      American Memorial Park  2020-01-09  SCarlton@nps.gov_nps  2020-01-09   \n",
       "1   Cedar Creek & Belle Grove  2020-01-09  SCarlton@nps.gov_nps  2020-06-04   \n",
       "2  Little Bighorn Battlefield  2020-01-09  SCarlton@nps.gov_nps  2020-06-04   \n",
       "3             Capulin Volcano  2020-01-09  SCarlton@nps.gov_nps  2020-06-04   \n",
       "4                  Fort Bowie  2020-01-09  SCarlton@nps.gov_nps  2020-06-04   \n",
       "\n",
       "                 Editor    Shape__Are    Shape__Len  \\\n",
       "0  SCarlton@nps.gov_nps  6.113585e+05   7740.973865   \n",
       "1  RJohnson@nps.gov_nps  2.328283e+07  53250.857647   \n",
       "2  RJohnson@nps.gov_nps  6.437513e+06  19524.580108   \n",
       "3  RJohnson@nps.gov_nps  4.997144e+06  10529.570772   \n",
       "4  RJohnson@nps.gov_nps  5.650399e+06  18638.556950   \n",
       "\n",
       "                               GlobalID  \\\n",
       "0  79037b52-9d9c-4f8c-b65b-70b810814fb0   \n",
       "1  dfdc7906-209d-42e5-95e8-5a0377ca9b06   \n",
       "2  a3affc26-f98a-417d-aa5b-41cfb4988cc8   \n",
       "3  646548c2-c5b8-4298-a6b2-a82b5977581e   \n",
       "4  a19874b5-9d2e-409b-ba2a-8b52f4649602   \n",
       "\n",
       "                                            geometry  \n",
       "0  POLYGON ((16221864.905 1714852.206, 16221867.9...  \n",
       "1  MULTIPOLYGON (((-8715759.414 4724026.776, -871...  \n",
       "2  MULTIPOLYGON (((-11953415.314 5703937.476, -11...  \n",
       "3  POLYGON ((-11575101.835 4409222.280, -11574603...  \n",
       "4  POLYGON ((-12187153.674 3783174.666, -12187626...  "
      ]
     },
     "execution_count": 21,
     "metadata": {},
     "output_type": "execute_result"
    }
   ],
   "source": [
    "parks.head()"
   ]
  },
  {
   "cell_type": "code",
   "execution_count": 23,
   "id": "6da3ad6e",
   "metadata": {},
   "outputs": [
    {
     "data": {
      "text/html": [
       "<div>\n",
       "<style scoped>\n",
       "    .dataframe tbody tr th:only-of-type {\n",
       "        vertical-align: middle;\n",
       "    }\n",
       "\n",
       "    .dataframe tbody tr th {\n",
       "        vertical-align: top;\n",
       "    }\n",
       "\n",
       "    .dataframe thead th {\n",
       "        text-align: right;\n",
       "    }\n",
       "</style>\n",
       "<table border=\"1\" class=\"dataframe\">\n",
       "  <thead>\n",
       "    <tr style=\"text-align: right;\">\n",
       "      <th></th>\n",
       "      <th>Unnamed: 0</th>\n",
       "      <th>Unnamed: 0.1</th>\n",
       "      <th>IMARS_Record_No</th>\n",
       "      <th>Crash_Date_Time_address</th>\n",
       "      <th>Linked_Address_Classification</th>\n",
       "      <th>City_Town_Park_Location</th>\n",
       "      <th>State</th>\n",
       "      <th>County</th>\n",
       "      <th>Direction</th>\n",
       "      <th>Linked_Street_Number</th>\n",
       "      <th>...</th>\n",
       "      <th>CREATED_BY</th>\n",
       "      <th>METADATA</th>\n",
       "      <th>PARKNAME</th>\n",
       "      <th>CreationDa</th>\n",
       "      <th>Creator</th>\n",
       "      <th>EditDate</th>\n",
       "      <th>Editor</th>\n",
       "      <th>Shape__Are</th>\n",
       "      <th>Shape__Len</th>\n",
       "      <th>GlobalID</th>\n",
       "    </tr>\n",
       "  </thead>\n",
       "  <tbody>\n",
       "  </tbody>\n",
       "</table>\n",
       "<p>0 rows × 158 columns</p>\n",
       "</div>"
      ],
      "text/plain": [
       "Empty GeoDataFrame\n",
       "Columns: [Unnamed: 0, Unnamed: 0.1, IMARS_Record_No, Crash_Date_Time_address, Linked_Address_Classification, City_Town_Park_Location, State, County, Direction, Linked_Street_Number, Linked_Common_Name, Street_Type, Direction.1, NEAR_Distance_to_MI, NEAR_Direction_To, NEAR_Direction, NEAR_route_street_road_name, NEAR_Road_Type, NEAR_Direction.1, AT_Intersection_route_street_road_DIRECTION, At_Intersecting_route_street_road_name, AT_Road_Type, AT_Direction, Mile_Marker, Latitude, Longitude, Region, State_Zone, Park, Site, Place, Point, Road_Type_Classification, Linked_Address, Crash_Date_Time_person, Driver_Action, Driver_Condition, Driver_Distraction, Suspect_Alcohol, Alcohol_Test, Alcohol_Test_Result_1, Alcohol_Test_Result_2, Suspect_Drugs, Drug_Test, Violations_Issued, Seat_Position, Injury_Severity, Air_Bag_Deployed, Ejection, Injury_Transported_By, Safety_Equipment_Used, Vehicle_number_striking_non_motorist, Injured_transported_by, Non_motorist_safety_equipment, Non_motorist_action_circumstance_prior_to_crash, Non_motorist_action_circumstance_at_time_of_crash, Non_motorist_condition_at_time_of_crash, Non_motorist_distraction, Non_motorist_location_at_time_of_crash, Pedestrian_Type, Pedestrian_Type_Detail, check1, Crash_Date_Time_report, Number_of_Vehicles_Involved, Injury_or_Fatal_Crash, Investigated_at_Scene, Hit_and_Run, Non_Motor_Vehicl_Property_Damage, Amount_of_Property_Damage, First_Harmful_Event_Type, First_Harmful_Event, Location_of_First_Harmful_Event, Weather, Roadway_Condition, Lighting, School_Bus_related, AS_Road_Circumstance, Environmental_Contributing_Circumstances, Work_Zone_Related, Work_Zone_Workers_Present, Work_Zone_Location, Law_Enforcement_Present_at_Work_Zone, Relation_to_Junction, Type_of_Intersection, Manner_of_Collision, check2, Crash_Date_Time_vehicle, Vehicle_Number, Number_of_Occupants, Vehicle_Towed, Insurance_verified, Initial_Impact_Point, Most_Damaged_Area, Extent_of_Damage, Direction_of_Travel_Prior_to_Crash, Posted_Speed, First_Event_Type, First_Event, Second_Event_Type, Second_Event, ...]\n",
       "Index: []\n",
       "\n",
       "[0 rows x 158 columns]"
      ]
     },
     "execution_count": 23,
     "metadata": {},
     "output_type": "execute_result"
    }
   ],
   "source": [
    "addingParkNames=gpd.sjoin(crashesWGeo,parks,how=\"inner\", op='intersects')\n",
    "addingParkNames"
   ]
  },
  {
   "cell_type": "code",
   "execution_count": 24,
   "id": "1f46c451",
   "metadata": {},
   "outputs": [],
   "source": [
    "from shapely.geometry import Point, LineString, Polygon"
   ]
  },
  {
   "cell_type": "code",
   "execution_count": 25,
   "id": "b521e11d",
   "metadata": {},
   "outputs": [
    {
     "name": "stderr",
     "output_type": "stream",
     "text": [
      "C:\\Users\\MEREDI~1.RAY\\AppData\\Local\\Temp/ipykernel_17832/3917935459.py:1: UserWarning: Geometry is in a geographic CRS. Results from 'buffer' are likely incorrect. Use 'GeoSeries.to_crs()' to re-project geometries to a projected CRS before this operation.\n",
      "\n",
      "  parks['geometry']=parks['geometry'].buffer(0.2)\n"
     ]
    }
   ],
   "source": [
    "parks['geometry']=parks['geometry'].buffer(0.2)"
   ]
  },
  {
   "cell_type": "code",
   "execution_count": 26,
   "id": "3b512ca5",
   "metadata": {},
   "outputs": [
    {
     "data": {
      "text/html": [
       "<div>\n",
       "<style scoped>\n",
       "    .dataframe tbody tr th:only-of-type {\n",
       "        vertical-align: middle;\n",
       "    }\n",
       "\n",
       "    .dataframe tbody tr th {\n",
       "        vertical-align: top;\n",
       "    }\n",
       "\n",
       "    .dataframe thead th {\n",
       "        text-align: right;\n",
       "    }\n",
       "</style>\n",
       "<table border=\"1\" class=\"dataframe\">\n",
       "  <thead>\n",
       "    <tr style=\"text-align: right;\">\n",
       "      <th></th>\n",
       "      <th>Unnamed: 0</th>\n",
       "      <th>Unnamed: 0.1</th>\n",
       "      <th>IMARS_Record_No</th>\n",
       "      <th>Crash_Date_Time_address</th>\n",
       "      <th>Linked_Address_Classification</th>\n",
       "      <th>City_Town_Park_Location</th>\n",
       "      <th>State</th>\n",
       "      <th>County</th>\n",
       "      <th>Direction</th>\n",
       "      <th>Linked_Street_Number</th>\n",
       "      <th>...</th>\n",
       "      <th>CREATED_BY</th>\n",
       "      <th>METADATA</th>\n",
       "      <th>PARKNAME</th>\n",
       "      <th>CreationDa</th>\n",
       "      <th>Creator</th>\n",
       "      <th>EditDate</th>\n",
       "      <th>Editor</th>\n",
       "      <th>Shape__Are</th>\n",
       "      <th>Shape__Len</th>\n",
       "      <th>GlobalID</th>\n",
       "    </tr>\n",
       "  </thead>\n",
       "  <tbody>\n",
       "  </tbody>\n",
       "</table>\n",
       "<p>0 rows × 158 columns</p>\n",
       "</div>"
      ],
      "text/plain": [
       "Empty GeoDataFrame\n",
       "Columns: [Unnamed: 0, Unnamed: 0.1, IMARS_Record_No, Crash_Date_Time_address, Linked_Address_Classification, City_Town_Park_Location, State, County, Direction, Linked_Street_Number, Linked_Common_Name, Street_Type, Direction.1, NEAR_Distance_to_MI, NEAR_Direction_To, NEAR_Direction, NEAR_route_street_road_name, NEAR_Road_Type, NEAR_Direction.1, AT_Intersection_route_street_road_DIRECTION, At_Intersecting_route_street_road_name, AT_Road_Type, AT_Direction, Mile_Marker, Latitude, Longitude, Region, State_Zone, Park, Site, Place, Point, Road_Type_Classification, Linked_Address, Crash_Date_Time_person, Driver_Action, Driver_Condition, Driver_Distraction, Suspect_Alcohol, Alcohol_Test, Alcohol_Test_Result_1, Alcohol_Test_Result_2, Suspect_Drugs, Drug_Test, Violations_Issued, Seat_Position, Injury_Severity, Air_Bag_Deployed, Ejection, Injury_Transported_By, Safety_Equipment_Used, Vehicle_number_striking_non_motorist, Injured_transported_by, Non_motorist_safety_equipment, Non_motorist_action_circumstance_prior_to_crash, Non_motorist_action_circumstance_at_time_of_crash, Non_motorist_condition_at_time_of_crash, Non_motorist_distraction, Non_motorist_location_at_time_of_crash, Pedestrian_Type, Pedestrian_Type_Detail, check1, Crash_Date_Time_report, Number_of_Vehicles_Involved, Injury_or_Fatal_Crash, Investigated_at_Scene, Hit_and_Run, Non_Motor_Vehicl_Property_Damage, Amount_of_Property_Damage, First_Harmful_Event_Type, First_Harmful_Event, Location_of_First_Harmful_Event, Weather, Roadway_Condition, Lighting, School_Bus_related, AS_Road_Circumstance, Environmental_Contributing_Circumstances, Work_Zone_Related, Work_Zone_Workers_Present, Work_Zone_Location, Law_Enforcement_Present_at_Work_Zone, Relation_to_Junction, Type_of_Intersection, Manner_of_Collision, check2, Crash_Date_Time_vehicle, Vehicle_Number, Number_of_Occupants, Vehicle_Towed, Insurance_verified, Initial_Impact_Point, Most_Damaged_Area, Extent_of_Damage, Direction_of_Travel_Prior_to_Crash, Posted_Speed, First_Event_Type, First_Event, Second_Event_Type, Second_Event, ...]\n",
       "Index: []\n",
       "\n",
       "[0 rows x 158 columns]"
      ]
     },
     "execution_count": 26,
     "metadata": {},
     "output_type": "execute_result"
    }
   ],
   "source": [
    "addingParkNames=gpd.sjoin(crashesWGeo,parks,how=\"inner\", op='intersects')\n",
    "addingParkNames"
   ]
  },
  {
   "cell_type": "code",
   "execution_count": null,
   "id": "aee4eecc",
   "metadata": {},
   "outputs": [],
   "source": []
  }
 ],
 "metadata": {
  "kernelspec": {
   "display_name": "geo_env",
   "language": "python",
   "name": "geo_env"
  },
  "language_info": {
   "codemirror_mode": {
    "name": "ipython",
    "version": 3
   },
   "file_extension": ".py",
   "mimetype": "text/x-python",
   "name": "python",
   "nbconvert_exporter": "python",
   "pygments_lexer": "ipython3",
   "version": "3.9.6"
  }
 },
 "nbformat": 4,
 "nbformat_minor": 5
}
