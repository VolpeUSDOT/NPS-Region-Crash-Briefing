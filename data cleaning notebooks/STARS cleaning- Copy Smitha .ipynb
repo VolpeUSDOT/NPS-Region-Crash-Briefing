{
 "cells": [
  {
   "cell_type": "markdown",
   "metadata": {},
   "source": [
    "## Crash Data Wrangling Jupyter Notebook\n",
    "\n",
    "**Author:** Eric Englin\n",
    "\n",
    "**Date:** 11/3/21\n",
    "\n",
    "**Purpose:** This notebook will combine STARS data with CDS data"
   ]
  },
  {
   "cell_type": "code",
   "execution_count": 5,
   "metadata": {},
   "outputs": [],
   "source": [
    "import pandas as pd\n",
    "import numpy as np\n",
    "import os"
   ]
  },
  {
   "cell_type": "code",
   "execution_count": 6,
   "metadata": {},
   "outputs": [],
   "source": [
    "myworkingdirectory = r\"C:\\Users\\smitha.mahesh\\Desktop\\STARS\"\n",
    "os.chdir(myworkingdirectory)"
   ]
  },
  {
   "cell_type": "code",
   "execution_count": null,
   "metadata": {},
   "outputs": [],
   "source": [
    "stars_unit = pd.read_excel(\"./STARS_all_Unit.xlsx\")\n",
    "stars_passenger = pd.read_excel(\"./STARS_all_Passenger.xlsx\")\n",
    "stars_accident = pd.read_excel(\"./STARS_all_Accident.xlsx\")\n",
    "\n"
   ]
  },
  {
   "cell_type": "code",
   "execution_count": null,
   "metadata": {},
   "outputs": [],
   "source": [
    "stars_unit.shape, stars_passenger.shape, stars_accident.shape"
   ]
  },
  {
   "cell_type": "code",
   "execution_count": null,
   "metadata": {},
   "outputs": [],
   "source": [
    "stars_unit.columns"
   ]
  },
  {
   "cell_type": "code",
   "execution_count": null,
   "metadata": {},
   "outputs": [],
   "source": [
    "stars_passenger.columns"
   ]
  },
  {
   "cell_type": "code",
   "execution_count": null,
   "metadata": {},
   "outputs": [],
   "source": [
    "stars_accident.columns"
   ]
  },
  {
   "cell_type": "markdown",
   "metadata": {},
   "source": [
    "## Summary of Injury Codes\n",
    "\n",
    "- 00 No Injury\n",
    "- 01 Possible Injury\n",
    "- 02 Non-incapacitating Injury\n",
    "- 03 Incapacitating Injury\n",
    "- 04 Fatal\n",
    "- 99 Unknown\n",
    "\n",
    "## Relevant Injury Columns\n",
    "\n",
    "- all_Accident: FATALS, INJURED, PED_FAT, PED_INJ\n",
    "- all_Passenger: PINJ (assuming passenger injury/fatality)\n",
    "- all_Units: DINJ (assuming driver injury/fatality)"
   ]
  },
  {
   "cell_type": "code",
   "execution_count": null,
   "metadata": {},
   "outputs": [],
   "source": [
    "stars_passenger.PINJ.value_counts()"
   ]
  },
  {
   "cell_type": "code",
   "execution_count": null,
   "metadata": {},
   "outputs": [],
   "source": [
    "stars_unit.DINJ.value_counts()"
   ]
  },
  {
   "cell_type": "markdown",
   "metadata": {},
   "source": [
    "## Fatality Count by Table\n",
    "\n",
    "- all_Passenger: 195\n",
    "- all_Unit: 610"
   ]
  },
  {
   "cell_type": "markdown",
   "metadata": {},
   "source": [
    "### Create New Columns\n",
    "- Passenger/Driver Injury Severity\n",
    "- Crash Class"
   ]
  },
  {
   "cell_type": "code",
   "execution_count": null,
   "metadata": {},
   "outputs": [],
   "source": [
    "stars_unit_slim = stars_unit[['INCID_NO', 'NUM_OCC','PED','DINJ',]]\n"
   ]
  },
  {
   "cell_type": "code",
   "execution_count": null,
   "metadata": {},
   "outputs": [],
   "source": [
    "stars_accident_slim = stars_accident[['INCID_NO','PARKCODE', 'STATE', 'ACCDATE',\n",
    "                                       'TIMEACC','ACCLASS']]\n"
   ]
  },
  {
   "cell_type": "code",
   "execution_count": null,
   "metadata": {},
   "outputs": [],
   "source": [
    "stars_passenger_slim = stars_passenger[['INCID_NO','PINJ']]\n"
   ]
  },
  {
   "cell_type": "code",
   "execution_count": null,
   "metadata": {},
   "outputs": [],
   "source": [
    "stars_accident_slim.shape, stars_unit_slim.shape, stars_passenger_slim.shape"
   ]
  },
  {
   "cell_type": "code",
   "execution_count": null,
   "metadata": {},
   "outputs": [],
   "source": [
    "pd.options.mode.chained_assignment = None  # default='warn'\n",
    "\n",
    "stars_passenger_slim['No Injury - Passenger']= np.where(stars_passenger_slim['PINJ']==0, 1,0)\n",
    "stars_passenger_slim['Possible Injury - Passenger']= np.where(stars_passenger_slim['PINJ']==1, 1,0)\n",
    "stars_passenger_slim['Non-incapacitating Injury - Passenger']= np.where(stars_passenger_slim['PINJ']==2, 1,0)\n",
    "stars_passenger_slim['Incapacitating Injury - Passenger']= np.where(stars_passenger_slim['PINJ']==3, 1,0)\n",
    "stars_passenger_slim['Fatality - Passenger']= np.where(stars_passenger_slim['PINJ']==4, 1,0)\n",
    "stars_passenger_slim['Unknown Injury - Passenger']= np.where(stars_passenger_slim['PINJ']==99, 1,0)\n",
    "\n",
    "stars_unit_slim['No Injury - Driver']= np.where(stars_unit_slim['DINJ']==0, 1,0)\n",
    "stars_unit_slim['Possible Injury - Driver']= np.where(stars_unit_slim['DINJ']==1, 1,0)\n",
    "stars_unit_slim['Non-incapacitating Injury - Driver']= np.where(stars_unit_slim['DINJ']==2, 1,0)\n",
    "stars_unit_slim['Incapacitating Injury - Driver']= np.where(stars_unit_slim['DINJ']==3, 1,0)\n",
    "stars_unit_slim['Fatality - Driver']= np.where(stars_unit_slim['DINJ']==4, 1,0)\n",
    "stars_unit_slim['Unknown Injury - Driver']= np.where(stars_unit_slim['DINJ']==99, 1,0)"
   ]
  },
  {
   "cell_type": "code",
   "execution_count": null,
   "metadata": {},
   "outputs": [],
   "source": [
    "stars_accident_slim['Non-Collision']= np.where(stars_accident_slim['ACCLASS']==0, 1,0)\n",
    "stars_accident_slim['Collision with Other Motor Vehicle']= np.where(stars_accident_slim['ACCLASS']==1, 1,0)\n",
    "stars_accident_slim['Collision with Fixed Object']= np.where(stars_accident_slim['ACCLASS']==2, 1,0)\n",
    "stars_accident_slim['Collision with Pedestrian']= np.where(stars_accident_slim['ACCLASS']==3, 1,0)\n",
    "stars_accident_slim['Collision with Bicycle']= np.where(stars_accident_slim['ACCLASS']==4, 1,0)\n",
    "stars_accident_slim['Collision with Parked Motor Vehicle']= np.where(stars_accident_slim['ACCLASS']==5, 1,0)\n",
    "stars_accident_slim['Collision with Railway Train']= np.where(stars_accident_slim['ACCLASS']==6, 1,0)\n",
    "stars_accident_slim['Collision with Animal']= np.where(stars_accident_slim['ACCLASS']==7, 1,0)\n",
    "stars_accident_slim['Collision with Other Object']= np.where(stars_accident_slim['ACCLASS']==88, 1,0)\n",
    "stars_accident_slim['Collision with Unknown']= np.where(stars_accident_slim['ACCLASS']==99, 1,0)\n",
    "stars_accident_slim['Other Accident Class']= np.where(stars_accident_slim['ACCLASS'].isin([0,1,2,3,4\n",
    "                                                                                       ,5,6,7,88,99])==False,\n",
    "                                                                                        1,0)\n"
   ]
  },
  {
   "cell_type": "code",
   "execution_count": null,
   "metadata": {},
   "outputs": [],
   "source": [
    "stars_passenger_slim.PINJ.value_counts()"
   ]
  },
  {
   "cell_type": "markdown",
   "metadata": {},
   "source": [
    "### Aggregate Datasets"
   ]
  },
  {
   "cell_type": "code",
   "execution_count": null,
   "metadata": {},
   "outputs": [],
   "source": [
    "stars_passenger_slim_agg = stars_passenger_slim.groupby(by=['INCID_NO']).sum()\n",
    "#imars_slim_agg = imars_slim_agg.drop(columns = ['ACCLASS','DINJ', 'PINJ'])\n",
    "stars_passenger_slim_agg = stars_passenger_slim_agg.reset_index()\n",
    "stars_passenger_slim_agg['Fatality - Passenger'].sum()"
   ]
  },
  {
   "cell_type": "code",
   "execution_count": null,
   "metadata": {},
   "outputs": [],
   "source": [
    "stars_unit_slim_agg = stars_unit_slim.groupby(by=['INCID_NO']).sum()\n",
    "#imars_slim_agg = imars_slim_agg.drop(columns = ['ACCLASS','DINJ', 'PINJ'])\n",
    "stars_unit_slim_agg = stars_unit_slim_agg.reset_index()\n",
    "stars_unit_slim_agg['Fatality - Driver'].sum()"
   ]
  },
  {
   "cell_type": "code",
   "execution_count": null,
   "metadata": {},
   "outputs": [],
   "source": [
    "stars_accident_slim['Non-Collision'].value_counts()"
   ]
  },
  {
   "cell_type": "code",
   "execution_count": null,
   "metadata": {},
   "outputs": [],
   "source": [
    "stars_accident_slim_agg = stars_accident_slim.groupby(by=['INCID_NO']).sum()\n",
    "#imars_slim_agg = imars_slim_agg.drop(columns = ['ACCLASS','DINJ', 'PINJ'])\n",
    "stars_accident_slim_agg = stars_accident_slim_agg.reset_index()\n",
    "stars_accident_slim_agg['Non-Collision'].sum()"
   ]
  },
  {
   "cell_type": "code",
   "execution_count": null,
   "metadata": {},
   "outputs": [],
   "source": [
    "stars_unit_slim_agg_nodups = stars_unit_slim_agg.drop_duplicates()\n",
    "stars_passenger_slim_agg_nodups = stars_passenger_slim_agg.drop_duplicates()\n",
    "stars_accident_slim_agg_nodups = stars_accident_slim_agg.drop_duplicates()"
   ]
  },
  {
   "cell_type": "code",
   "execution_count": null,
   "metadata": {},
   "outputs": [],
   "source": [
    "stars_accident_slim_agg_nodups.shape, stars_unit_slim_agg_nodups.shape, stars_passenger_slim_agg_nodups.shape"
   ]
  },
  {
   "cell_type": "code",
   "execution_count": null,
   "metadata": {
    "scrolled": true
   },
   "outputs": [],
   "source": [
    "stars_passenger_slim_agg_nodups['Fatality - Passenger'].sum(), stars_unit_slim_agg_nodups['Fatality - Driver'].sum()"
   ]
  },
  {
   "cell_type": "code",
   "execution_count": null,
   "metadata": {},
   "outputs": [],
   "source": [
    "stars_combined_df = stars_accident_slim_agg_nodups.merge(stars_unit_slim_agg_nodups, on=\"INCID_NO\", how = 'left', indicator = True)\n",
    "stars_combined_df = stars_combined_df.merge(stars_passenger_slim_agg_nodups, on=[\"INCID_NO\"], how = 'left')"
   ]
  },
  {
   "cell_type": "code",
   "execution_count": null,
   "metadata": {},
   "outputs": [],
   "source": [
    "stars_combined_df['Fatality - Passenger'].sum(), stars_combined_df['Fatality - Driver'].sum()"
   ]
  },
  {
   "cell_type": "markdown",
   "metadata": {},
   "source": [
    "###  Clean Columns for final dataframe"
   ]
  },
  {
   "cell_type": "code",
   "execution_count": null,
   "metadata": {},
   "outputs": [],
   "source": [
    "stars_combined_df['No Injury - Passenger'].fillna(0, inplace = True)\n",
    "stars_combined_df['Possible Injury - Passenger'].fillna(0, inplace = True)\n",
    "stars_combined_df['Non-incapacitating Injury - Passenger'].fillna(0, inplace = True)\n",
    "stars_combined_df['Incapacitating Injury - Passenger'].fillna(0, inplace = True)\n",
    "stars_combined_df['Fatality - Passenger'].fillna(0, inplace = True)\n",
    "stars_combined_df['Unknown Injury - Passenger'].fillna(0, inplace = True)\n",
    "\n",
    "stars_combined_df['No Injury - Driver'].fillna(0, inplace = True)\n",
    "stars_combined_df['Possible Injury - Driver'].fillna(0, inplace = True)\n",
    "stars_combined_df['Non-incapacitating Injury - Driver'].fillna(0, inplace = True)\n",
    "stars_combined_df['Incapacitating Injury - Driver'].fillna(0, inplace = True)\n",
    "stars_combined_df['Fatality - Driver'].fillna(0, inplace = True)\n",
    "stars_combined_df['Unknown Injury - Driver'].fillna(0, inplace = True)"
   ]
  },
  {
   "cell_type": "code",
   "execution_count": null,
   "metadata": {},
   "outputs": [],
   "source": [
    "stars_combined_df['No Injury']= stars_combined_df['No Injury - Passenger'] + stars_combined_df['No Injury - Driver']\n",
    "stars_combined_df['Possible Injury']= stars_combined_df['Possible Injury - Passenger']+stars_combined_df['Possible Injury - Driver']\n",
    "stars_combined_df['Non-incapacitating Injury']= stars_combined_df['Non-incapacitating Injury - Passenger']+stars_combined_df['Non-incapacitating Injury - Driver']\n",
    "stars_combined_df['Incapacitating Injury']= stars_combined_df['Incapacitating Injury - Passenger']+stars_combined_df['Incapacitating Injury - Driver']\n",
    "stars_combined_df['Fatality']= stars_combined_df['Fatality - Passenger']+stars_combined_df['Fatality - Driver']\n",
    "stars_combined_df['Unknown Injury']= stars_combined_df['Unknown Injury - Passenger']+stars_combined_df['Unknown Injury - Driver']\n",
    "\n"
   ]
  },
  {
   "cell_type": "code",
   "execution_count": null,
   "metadata": {},
   "outputs": [],
   "source": [
    "stars_combined_df['Fatality'].sum()"
   ]
  },
  {
   "cell_type": "code",
   "execution_count": null,
   "metadata": {},
   "outputs": [],
   "source": [
    "stars_final_df = stars_combined_df[['INCID_NO', 'NUM_OCC', 'Non-Collision',\n",
    "       'Collision with Other Motor Vehicle', 'Collision with Fixed Object',\n",
    "       'Collision with Pedestrian', 'Collision with Bicycle',\n",
    "       'Collision with Parked Motor Vehicle', 'Collision with Railway Train',\n",
    "       'Collision with Animal', 'Collision with Other Object',\n",
    "       'Collision with Unknown', 'Other Accident Class', 'No Injury',\n",
    "       'Possible Injury', 'Non-incapacitating Injury', 'Incapacitating Injury',\n",
    "       'Fatality', 'Unknown Injury']]"
   ]
  },
  {
   "cell_type": "code",
   "execution_count": null,
   "metadata": {},
   "outputs": [],
   "source": [
    "stars_final_df = stars_final_df.merge(stars_accident[['INCID_NO','PARKCODE', 'STATE', 'ACCDATE',\n",
    "                                       'TIMEACC','ACCLASS']], how = 'left', on='INCID_NO')\n"
   ]
  },
  {
   "cell_type": "code",
   "execution_count": null,
   "metadata": {},
   "outputs": [],
   "source": [
    "stars_final_df['CASENUM']=0"
   ]
  },
  {
   "cell_type": "code",
   "execution_count": null,
   "metadata": {},
   "outputs": [],
   "source": [
    "stars_final_df.shape"
   ]
  },
  {
   "cell_type": "code",
   "execution_count": null,
   "metadata": {},
   "outputs": [],
   "source": [
    "stars_final_df['Fatality'].sum()"
   ]
  },
  {
   "cell_type": "code",
   "execution_count": null,
   "metadata": {},
   "outputs": [],
   "source": [
    "stars_final_df = stars_final_df.rename(columns={\"ACCDATE\": \"CRASH_DATE\", \n",
    "                                      \"TIMEACC\": \"CRASH_TIME\",\n",
    "                                      'PARKCODE':'PARK_ALPHA'})\n",
    "stars_final_df['LATITUDE']=0\n",
    "stars_final_df['LONGITUDE']=0\n"
   ]
  },
  {
   "cell_type": "code",
   "execution_count": null,
   "metadata": {},
   "outputs": [],
   "source": [
    "stars_final_df['CRASH_DATE'] = pd.to_datetime(stars_final_df['CRASH_DATE'],\n",
    "                                                    format = \"%Y-%m-%d\")\n"
   ]
  },
  {
   "cell_type": "code",
   "execution_count": null,
   "metadata": {},
   "outputs": [],
   "source": [
    "stars_final_df.columns"
   ]
  },
  {
   "cell_type": "code",
   "execution_count": null,
   "metadata": {},
   "outputs": [],
   "source": [
    "stars_final_df = stars_final_df[['INCID_NO', 'CASENUM', 'NUM_OCC', 'Non-Collision',\n",
    "       'Collision with Other Motor Vehicle', 'Collision with Fixed Object',\n",
    "       'Collision with Pedestrian', 'Collision with Bicycle',\n",
    "       'Collision with Parked Motor Vehicle', 'Collision with Railway Train',\n",
    "       'Collision with Animal', 'Collision with Other Object',\n",
    "       'Collision with Unknown', 'Other Accident Class', 'No Injury',\n",
    "       'Possible Injury', 'Non-incapacitating Injury', 'Incapacitating Injury',\n",
    "       'Fatality', 'Unknown Injury', 'PARK_ALPHA', 'STATE', 'CRASH_DATE',\n",
    "       'CRASH_TIME', 'LATITUDE', 'LONGITUDE']]"
   ]
  },
  {
   "cell_type": "code",
   "execution_count": null,
   "metadata": {},
   "outputs": [],
   "source": [
    "stars_final_df.to_csv(\"crash_data_STARS_clean.csv\", index=False)"
   ]
  },
  {
   "cell_type": "code",
   "execution_count": null,
   "metadata": {},
   "outputs": [],
   "source": []
  },
  {
   "cell_type": "code",
   "execution_count": null,
   "metadata": {},
   "outputs": [],
   "source": []
  }
 ],
 "metadata": {
  "kernelspec": {
   "display_name": "Python 3 (ipykernel)",
   "language": "python",
   "name": "python3"
  },
  "language_info": {
   "codemirror_mode": {
    "name": "ipython",
    "version": 3
   },
   "file_extension": ".py",
   "mimetype": "text/x-python",
   "name": "python",
   "nbconvert_exporter": "python",
   "pygments_lexer": "ipython3",
   "version": "3.9.12"
  }
 },
 "nbformat": 4,
 "nbformat_minor": 2
}
