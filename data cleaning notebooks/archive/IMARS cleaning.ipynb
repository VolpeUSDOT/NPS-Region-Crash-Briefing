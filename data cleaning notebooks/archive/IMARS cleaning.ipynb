{
 "cells": [
  {
   "cell_type": "markdown",
   "metadata": {},
   "source": [
    "## Crash Data Wrangling Jupyter Notebook\n",
    "\n",
    "**Author:** Eric Englin and Meredith Raymer\n",
    "\n",
    "**Date:** 11/12/21\n",
    "\n",
    "**Purpose:** This notebook will combine IMARS datasets over three time periods and change data to merge with CDS and STARS datasets"
   ]
  },
  {
   "cell_type": "code",
   "execution_count": 81,
   "metadata": {},
   "outputs": [],
   "source": [
    "import pandas as pd\n",
    "import geopandas as gpd\n",
    "import numpy as np\n",
    "import os\n",
    "from shapely.geometry import Point, LineString, Polygon"
   ]
  },
  {
   "cell_type": "code",
   "execution_count": 82,
   "metadata": {},
   "outputs": [],
   "source": [
    "myworkingdirectory = r\"C:\\Users\\eric.englin\\Desktop\\TSP\"\n",
    "os.chdir(myworkingdirectory)"
   ]
  },
  {
   "cell_type": "markdown",
   "metadata": {},
   "source": [
    "## Step 1: Concatenate Similar Datasets \n",
    "\n",
    "**Note:** Datasets have been divided across three time periods, so these must be combined to start joining the tables together. "
   ]
  },
  {
   "cell_type": "code",
   "execution_count": 83,
   "metadata": {},
   "outputs": [
    {
     "name": "stdout",
     "output_type": "stream",
     "text": [
      "NPS GOccIvPA Command Address 2011-2015.xlsx\n",
      "NPS GOccIvPA Command Address 2016 to 4-2018.xlsx\n",
      "NPS GOccIvPA Command Address 4-2018 to 6-2021.xlsx\n",
      "NPS MVCOccGPersonReport Command 2011 to 2015.xlsx\n",
      "NPS MVCOccGPersonReport Command 2016 to 4-2018.xlsx\n",
      "NPS MVCOccGPersonReport Command 4-2018 to 6-2021.xlsx\n",
      "NPS MVCOccReportCommand_Classification 2011-2015.xlsx\n",
      "NPS MVCOccReportCommand_Classification 2016 to 4-2018.xlsx\n",
      "NPS MVCOccReportCommand_Classification 4-2018 to 6-2021.xlsx\n",
      "NPS MVCOccVehicleReport Command 2011 to 2015.xlsx\n",
      "NPS MVCOccVehicleReport Command 2016 to 4-2018.xlsx\n",
      "NPS MVCOccVehicleReport Command 4-2018 to 6-2021.xlsx\n"
     ]
    }
   ],
   "source": [
    "path = './data/IMARS'\n",
    "\n",
    "files = os.listdir(path)\n",
    "\n",
    "for f in files:\n",
    "    print(f)"
   ]
  },
  {
   "cell_type": "code",
   "execution_count": 84,
   "metadata": {},
   "outputs": [],
   "source": [
    "imars_crash_1 = pd.read_excel(\"./data/IMARS/NPS GOccIvPA Command Address 2011-2015.xlsx\", sheet_name = \"Batch1-Result1\")\n"
   ]
  },
  {
   "cell_type": "code",
   "execution_count": 85,
   "metadata": {},
   "outputs": [],
   "source": [
    "imars_crash_1 = pd.read_excel(\"./data/IMARS/NPS GOccIvPA Command Address 2011-2015.xlsx\", sheet_name = \"Batch1-Result1\")\n",
    "imars_crash_2 = pd.read_excel(\"./data/IMARS/NPS GOccIvPA Command Address 2016 to 4-2018.xlsx\", sheet_name = \"Batch1-Result1\")\n",
    "imars_crash_3 = pd.read_excel(\"./data/IMARS/NPS GOccIvPA Command Address 4-2018 to 6-2021.xlsx\", sheet_name = \"Batch1-Result1\")\n",
    "\n",
    "imars_passenger_1 = pd.read_excel(\"./data/IMARS/NPS MVCOccGPersonReport Command 2011 to 2015.xlsx\", sheet_name = \"Batch1-Result1\")\n",
    "imars_passenger_2 = pd.read_excel(\"./data/IMARS/NPS MVCOccGPersonReport Command 2016 to 4-2018.xlsx\", sheet_name = \"Batch1-Result1\")\n",
    "imars_passenger_3 = pd.read_excel(\"./data/IMARS/NPS MVCOccGPersonReport Command 4-2018 to 6-2021.xlsx\", sheet_name = \"Batch1-Result1\")\n",
    "\n",
    "imars_vehicle_1 = pd.read_excel(\"./data/IMARS/NPS MVCOccVehicleReport Command 2011 to 2015.xlsx\", sheet_name = \"Batch1-Result1\")\n",
    "imars_vehicle_2 = pd.read_excel(\"./data/IMARS/NPS MVCOccVehicleReport Command 2016 to 4-2018.xlsx\", sheet_name = \"Batch1-Result1\")\n",
    "imars_vehicle_3 = pd.read_excel(\"./data/IMARS/NPS MVCOccVehicleReport Command 4-2018 to 6-2021.xlsx\", sheet_name = \"Batch1-Result1\")\n",
    "\n",
    "imars_crash_details_1 = pd.read_excel(\"./data/IMARS/NPS MVCOccReportCommand_Classification 2011-2015.xlsx\", sheet_name = \"Batch1-Result1\")\n",
    "imars_crash_details_2 = pd.read_excel(\"./data/IMARS/NPS MVCOccReportCommand_Classification 2016 to 4-2018.xlsx\", sheet_name = \"Batch1-Result1\")\n",
    "imars_crash_details_3 = pd.read_excel(\"./data/IMARS/NPS MVCOccReportCommand_Classification 4-2018 to 6-2021.xlsx\", sheet_name = \"Batch1-Result1\")\n",
    "\n"
   ]
  },
  {
   "cell_type": "code",
   "execution_count": 86,
   "metadata": {},
   "outputs": [],
   "source": [
    "imars_crash = pd.concat([imars_crash_1, imars_crash_2, imars_crash_3])\n",
    "imars_passenger = pd.concat([imars_passenger_1, imars_passenger_2, imars_passenger_3])\n",
    "imars_vehicle = pd.concat([imars_vehicle_1, imars_vehicle_2, imars_vehicle_3])\n",
    "imars_crash_details = pd.concat([imars_crash_details_1, imars_crash_details_2, imars_crash_details_3])\n"
   ]
  },
  {
   "cell_type": "code",
   "execution_count": 87,
   "metadata": {},
   "outputs": [
    {
     "data": {
      "text/plain": [
       "((12883, 32), (442, 32), (4454, 32), (7987, 32))"
      ]
     },
     "execution_count": 87,
     "metadata": {},
     "output_type": "execute_result"
    }
   ],
   "source": [
    "imars_crash.shape, imars_crash_1.shape, imars_crash_2.shape, imars_crash_3.shape"
   ]
  },
  {
   "cell_type": "code",
   "execution_count": 88,
   "metadata": {},
   "outputs": [
    {
     "data": {
      "text/plain": [
       "((19047, 28), (499, 28), (6782, 28), (11766, 28))"
      ]
     },
     "execution_count": 88,
     "metadata": {},
     "output_type": "execute_result"
    }
   ],
   "source": [
    "imars_passenger.shape, imars_passenger_1.shape, imars_passenger_2.shape, imars_passenger_3.shape"
   ]
  },
  {
   "cell_type": "code",
   "execution_count": 89,
   "metadata": {},
   "outputs": [
    {
     "data": {
      "text/plain": [
       "((16109, 51), (493, 51), (5529, 51), (10087, 51))"
      ]
     },
     "execution_count": 89,
     "metadata": {},
     "output_type": "execute_result"
    }
   ],
   "source": [
    "imars_vehicle.shape, imars_vehicle_1.shape, imars_vehicle_2.shape,imars_vehicle_3.shape"
   ]
  },
  {
   "cell_type": "code",
   "execution_count": 90,
   "metadata": {},
   "outputs": [
    {
     "data": {
      "text/plain": [
       "((11901, 24), (491, 24), (3907, 24), (7503, 24))"
      ]
     },
     "execution_count": 90,
     "metadata": {},
     "output_type": "execute_result"
    }
   ],
   "source": [
    "imars_crash_details.shape, imars_crash_details_1.shape, imars_crash_details_2.shape, imars_crash_details_3.shape"
   ]
  },
  {
   "cell_type": "code",
   "execution_count": 91,
   "metadata": {},
   "outputs": [
    {
     "data": {
      "text/html": [
       "<div>\n",
       "<style scoped>\n",
       "    .dataframe tbody tr th:only-of-type {\n",
       "        vertical-align: middle;\n",
       "    }\n",
       "\n",
       "    .dataframe tbody tr th {\n",
       "        vertical-align: top;\n",
       "    }\n",
       "\n",
       "    .dataframe thead th {\n",
       "        text-align: right;\n",
       "    }\n",
       "</style>\n",
       "<table border=\"1\" class=\"dataframe\">\n",
       "  <thead>\n",
       "    <tr style=\"text-align: right;\">\n",
       "      <th></th>\n",
       "      <th>IMARS_Record_No</th>\n",
       "      <th>Crash_Date_Time</th>\n",
       "      <th>Linked_Address_Classification</th>\n",
       "      <th>City_Town_Park_Location</th>\n",
       "      <th>State</th>\n",
       "      <th>County</th>\n",
       "      <th>Direction</th>\n",
       "      <th>Linked_Street_Number</th>\n",
       "      <th>Linked_Common_Name</th>\n",
       "      <th>Street_Type</th>\n",
       "      <th>...</th>\n",
       "      <th>Latitude</th>\n",
       "      <th>Longitude</th>\n",
       "      <th>Region</th>\n",
       "      <th>State_Zone</th>\n",
       "      <th>Park</th>\n",
       "      <th>Site</th>\n",
       "      <th>Place</th>\n",
       "      <th>Point</th>\n",
       "      <th>Road_Type_Classification</th>\n",
       "      <th>Linked_Address</th>\n",
       "    </tr>\n",
       "  </thead>\n",
       "  <tbody>\n",
       "    <tr>\n",
       "      <th>0</th>\n",
       "      <td>NP12000378</td>\n",
       "      <td>20120121 00:00:00:000</td>\n",
       "      <td>NaN</td>\n",
       "      <td>NaN</td>\n",
       "      <td>NaN</td>\n",
       "      <td>NaN</td>\n",
       "      <td>NaN</td>\n",
       "      <td>NaN</td>\n",
       "      <td>NaN</td>\n",
       "      <td>NaN</td>\n",
       "      <td>...</td>\n",
       "      <td>NaN</td>\n",
       "      <td>NaN</td>\n",
       "      <td>NaN</td>\n",
       "      <td>NaN</td>\n",
       "      <td>NaN</td>\n",
       "      <td>NaN</td>\n",
       "      <td>NaN</td>\n",
       "      <td>NaN</td>\n",
       "      <td>Highway/road/alley (includes street)</td>\n",
       "      <td>NaN</td>\n",
       "    </tr>\n",
       "    <tr>\n",
       "      <th>1</th>\n",
       "      <td>NP12000078</td>\n",
       "      <td>20120106 14:30:00:000</td>\n",
       "      <td>NaN</td>\n",
       "      <td>NaN</td>\n",
       "      <td>NaN</td>\n",
       "      <td>NaN</td>\n",
       "      <td>NaN</td>\n",
       "      <td>NaN</td>\n",
       "      <td>NaN</td>\n",
       "      <td>NaN</td>\n",
       "      <td>...</td>\n",
       "      <td>NaN</td>\n",
       "      <td>NaN</td>\n",
       "      <td>NaN</td>\n",
       "      <td>NaN</td>\n",
       "      <td>NaN</td>\n",
       "      <td>NaN</td>\n",
       "      <td>NaN</td>\n",
       "      <td>NaN</td>\n",
       "      <td>NaN</td>\n",
       "      <td>NaN</td>\n",
       "    </tr>\n",
       "    <tr>\n",
       "      <th>2</th>\n",
       "      <td>NP12000935</td>\n",
       "      <td>20120215 10:15:00:000</td>\n",
       "      <td>NaN</td>\n",
       "      <td>NaN</td>\n",
       "      <td>NaN</td>\n",
       "      <td>NaN</td>\n",
       "      <td>NaN</td>\n",
       "      <td>NaN</td>\n",
       "      <td>NaN</td>\n",
       "      <td>NaN</td>\n",
       "      <td>...</td>\n",
       "      <td>NaN</td>\n",
       "      <td>NaN</td>\n",
       "      <td>NaN</td>\n",
       "      <td>NaN</td>\n",
       "      <td>NaN</td>\n",
       "      <td>NaN</td>\n",
       "      <td>NaN</td>\n",
       "      <td>NaN</td>\n",
       "      <td>Highway/road/alley (includes street)</td>\n",
       "      <td>NaN</td>\n",
       "    </tr>\n",
       "    <tr>\n",
       "      <th>3</th>\n",
       "      <td>NP12001003</td>\n",
       "      <td>20120218 10:50:00:000</td>\n",
       "      <td>NaN</td>\n",
       "      <td>NaN</td>\n",
       "      <td>NaN</td>\n",
       "      <td>NaN</td>\n",
       "      <td>NaN</td>\n",
       "      <td>NaN</td>\n",
       "      <td>NaN</td>\n",
       "      <td>NaN</td>\n",
       "      <td>...</td>\n",
       "      <td>NaN</td>\n",
       "      <td>NaN</td>\n",
       "      <td>NaN</td>\n",
       "      <td>NaN</td>\n",
       "      <td>NaN</td>\n",
       "      <td>NaN</td>\n",
       "      <td>NaN</td>\n",
       "      <td>NaN</td>\n",
       "      <td>NaN</td>\n",
       "      <td>NaN</td>\n",
       "    </tr>\n",
       "    <tr>\n",
       "      <th>4</th>\n",
       "      <td>NP12000911</td>\n",
       "      <td>20120208 00:00:00:000</td>\n",
       "      <td>NaN</td>\n",
       "      <td>NaN</td>\n",
       "      <td>NaN</td>\n",
       "      <td>NaN</td>\n",
       "      <td>NaN</td>\n",
       "      <td>NaN</td>\n",
       "      <td>NaN</td>\n",
       "      <td>NaN</td>\n",
       "      <td>...</td>\n",
       "      <td>NaN</td>\n",
       "      <td>NaN</td>\n",
       "      <td>NaN</td>\n",
       "      <td>NaN</td>\n",
       "      <td>NaN</td>\n",
       "      <td>NaN</td>\n",
       "      <td>NaN</td>\n",
       "      <td>NaN</td>\n",
       "      <td>Parking lot/garage</td>\n",
       "      <td>NaN</td>\n",
       "    </tr>\n",
       "  </tbody>\n",
       "</table>\n",
       "<p>5 rows × 32 columns</p>\n",
       "</div>"
      ],
      "text/plain": [
       "  IMARS_Record_No        Crash_Date_Time Linked_Address_Classification  \\\n",
       "0      NP12000378  20120121 00:00:00:000                           NaN   \n",
       "1      NP12000078  20120106 14:30:00:000                           NaN   \n",
       "2      NP12000935  20120215 10:15:00:000                           NaN   \n",
       "3      NP12001003  20120218 10:50:00:000                           NaN   \n",
       "4      NP12000911  20120208 00:00:00:000                           NaN   \n",
       "\n",
       "  City_Town_Park_Location State County Direction  Linked_Street_Number  \\\n",
       "0                     NaN   NaN    NaN       NaN                   NaN   \n",
       "1                     NaN   NaN    NaN       NaN                   NaN   \n",
       "2                     NaN   NaN    NaN       NaN                   NaN   \n",
       "3                     NaN   NaN    NaN       NaN                   NaN   \n",
       "4                     NaN   NaN    NaN       NaN                   NaN   \n",
       "\n",
       "  Linked_Common_Name Street_Type  ...  Latitude  Longitude Region State_Zone  \\\n",
       "0                NaN         NaN  ...       NaN        NaN    NaN        NaN   \n",
       "1                NaN         NaN  ...       NaN        NaN    NaN        NaN   \n",
       "2                NaN         NaN  ...       NaN        NaN    NaN        NaN   \n",
       "3                NaN         NaN  ...       NaN        NaN    NaN        NaN   \n",
       "4                NaN         NaN  ...       NaN        NaN    NaN        NaN   \n",
       "\n",
       "  Park Site Place Point              Road_Type_Classification Linked_Address  \n",
       "0  NaN  NaN   NaN   NaN  Highway/road/alley (includes street)            NaN  \n",
       "1  NaN  NaN   NaN   NaN                                   NaN            NaN  \n",
       "2  NaN  NaN   NaN   NaN  Highway/road/alley (includes street)            NaN  \n",
       "3  NaN  NaN   NaN   NaN                                   NaN            NaN  \n",
       "4  NaN  NaN   NaN   NaN                    Parking lot/garage            NaN  \n",
       "\n",
       "[5 rows x 32 columns]"
      ]
     },
     "execution_count": 91,
     "metadata": {},
     "output_type": "execute_result"
    }
   ],
   "source": [
    "imars_crash.head()"
   ]
  },
  {
   "cell_type": "code",
   "execution_count": 92,
   "metadata": {},
   "outputs": [
    {
     "data": {
      "text/plain": [
       "01. No injury                    8398\n",
       "99. Unknown                      1044\n",
       "02. Possible injury               870\n",
       "03. Non-incapacitating injury     724\n",
       "04. Incapacitating injury         364\n",
       "05. Fatal                          90\n",
       "Name: Injury_Severity, dtype: int64"
      ]
     },
     "execution_count": 92,
     "metadata": {},
     "output_type": "execute_result"
    }
   ],
   "source": [
    "imars_passenger.Injury_Severity.value_counts()"
   ]
  },
  {
   "cell_type": "code",
   "execution_count": 93,
   "metadata": {},
   "outputs": [
    {
     "data": {
      "text/plain": [
       "Index(['IMARS_Record_No', 'Crash_Date_Time', 'Driver_Action',\n",
       "       'Driver_Condition', 'Driver_Distraction', 'Suspect_Alcohol',\n",
       "       'Alcohol_Test', 'Alcohol_Test_Result_1', 'Alcohol_Test_Result_2',\n",
       "       'Suspect_Drugs', 'Drug_Test', 'Violations_Issued', 'Seat_Position',\n",
       "       'Injury_Severity', 'Air_Bag_Deployed', 'Ejection',\n",
       "       'Injury_Transported_By', 'Safety_Equipment_Used',\n",
       "       'Vehicle_number_striking_non_motorist', 'Injured_transported_by',\n",
       "       'Non_motorist_safety_equipment',\n",
       "       'Non_motorist_action_circumstance_prior_to_crash',\n",
       "       'Non_motorist_action_circumstance_at_time_of_crash',\n",
       "       'Non_motorist_condition_at_time_of_crash', 'Non_motorist_distraction',\n",
       "       'Non_motorist_location_at_time_of_crash', 'Pedestrian_Type',\n",
       "       'Pedestrian_Type_Detail'],\n",
       "      dtype='object')"
      ]
     },
     "execution_count": 93,
     "metadata": {},
     "output_type": "execute_result"
    }
   ],
   "source": [
    "imars_passenger.columns"
   ]
  },
  {
   "cell_type": "code",
   "execution_count": 94,
   "metadata": {},
   "outputs": [
    {
     "data": {
      "text/plain": [
       "Index(['IMARS_Record_No', 'Crash_Date_Time', 'Linked_Address_Classification',\n",
       "       'City_Town_Park_Location', 'State', 'County', 'Direction',\n",
       "       'Linked_Street_Number', 'Linked_Common_Name', 'Street_Type',\n",
       "       'Direction.1', 'NEAR_Distance_to_MI', 'NEAR_Direction_To',\n",
       "       'NEAR_Direction', 'NEAR_route_street_road_name', 'NEAR_Road_Type',\n",
       "       'NEAR_Direction.1', 'AT_Intersection_route_street_road_DIRECTION',\n",
       "       'At_Intersecting_route_street_road_name', 'AT_Road_Type',\n",
       "       'AT_Direction', 'Mile_Marker', 'Latitude', 'Longitude', 'Region',\n",
       "       'State_Zone', 'Park', 'Site', 'Place', 'Point',\n",
       "       'Road_Type_Classification', 'Linked_Address'],\n",
       "      dtype='object')"
      ]
     },
     "execution_count": 94,
     "metadata": {},
     "output_type": "execute_result"
    }
   ],
   "source": [
    "imars_crash.columns"
   ]
  },
  {
   "cell_type": "code",
   "execution_count": 95,
   "metadata": {},
   "outputs": [
    {
     "data": {
      "text/plain": [
       "Index(['IMARS_Record_No', 'Crash_Date_Time', 'Number_of_Vehicles_Involved',\n",
       "       'Injury_or_Fatal_Crash', 'Investigated_at_Scene', 'Hit_and_Run',\n",
       "       'Non_Motor_Vehicl_Property_Damage', 'Amount_of_Property_Damage',\n",
       "       'First_Harmful_Event_Type', 'First_Harmful_Event',\n",
       "       'Location_of_First_Harmful_Event', 'Weather', 'Roadway_Condition',\n",
       "       'Lighting', 'School_Bus_related', 'AS_Road_Circumstance',\n",
       "       'Environmental_Contributing_Circumstances', 'Work_Zone_Related',\n",
       "       'Work_Zone_Workers_Present', 'Work_Zone_Location',\n",
       "       'Law_Enforcement_Present_at_Work_Zone', 'Relation_to_Junction',\n",
       "       'Type_of_Intersection', 'Manner_of_Collision'],\n",
       "      dtype='object')"
      ]
     },
     "execution_count": 95,
     "metadata": {},
     "output_type": "execute_result"
    }
   ],
   "source": [
    "imars_crash_details.columns"
   ]
  },
  {
   "cell_type": "code",
   "execution_count": 96,
   "metadata": {},
   "outputs": [
    {
     "data": {
      "text/plain": [
       "Index(['IMARS_Record_No', 'Crash_Date_Time', 'Vehicle_Number',\n",
       "       'Number_of_Occupants', 'Vehicle_Towed', 'Insurance_verified',\n",
       "       'Initial_Impact_Point', 'Most_Damaged_Area', 'Extent_of_Damage',\n",
       "       'Direction_of_Travel_Prior_to_Crash', 'Posted_Speed',\n",
       "       'First_Event_Type', 'First_Event', 'Second_Event_Type', 'Second_Event',\n",
       "       'Third_Event_Type', 'Third_Event', 'Fourth_Event_Type', 'Fourth_Event',\n",
       "       'Motor_Vehicle_Unit_Type', 'Vehicle_Owner', 'Vehicle_Type',\n",
       "       'Non_Commercial_Trailer_Style', 'Emergency_Vehicle_Use',\n",
       "       'Emergency_Equipment_Activated', 'Special_Function_of_MV_in_Transport',\n",
       "       'Motor_Vehicle_Contributing_Circumstance',\n",
       "       'Vehicle_Maneuver_Action_Prior_to_Crash', 'Road_Surface', 'Grade',\n",
       "       'Roadway_Alignment', 'Total_Number_of_Lanes', 'Traffic_Control',\n",
       "       'Traffic_Control_Working_Properly', 'Roadway_Description',\n",
       "       'Commercial_Non_Commercial', 'Number_of_Axles', 'Gross_Vehicle_Weight',\n",
       "       'Combination_GVW', 'Commercial_Cargo_Body_Type', 'Commercial_Cargo',\n",
       "       'Commercial_MV_Configuration', 'Identification_Number_Type',\n",
       "       'Hazmat_1_Class', 'Hazmat_1_ID', 'Hazmat_2_Class', 'Hazmat_2_ID',\n",
       "       'Hazmat_3_Class', 'Hazmat_3_ID', 'Hazmat_4_Class', 'Hazmat_4_ID'],\n",
       "      dtype='object')"
      ]
     },
     "execution_count": 96,
     "metadata": {},
     "output_type": "execute_result"
    }
   ],
   "source": [
    "imars_vehicle.columns"
   ]
  },
  {
   "cell_type": "markdown",
   "metadata": {},
   "source": [
    "## Add Parks to Crash Details Dataset\n",
    "\n",
    "**Note:** IMARS does not have park units with each crash, so these will have to be added using the Latitude and Longitude fields in the imars_crash dataset. "
   ]
  },
  {
   "cell_type": "code",
   "execution_count": 97,
   "metadata": {},
   "outputs": [
    {
     "data": {
      "text/plain": [
       "(12883, 32)"
      ]
     },
     "execution_count": 97,
     "metadata": {},
     "output_type": "execute_result"
    }
   ],
   "source": [
    "imars_crash.shape"
   ]
  },
  {
   "cell_type": "code",
   "execution_count": 98,
   "metadata": {},
   "outputs": [
    {
     "data": {
      "text/plain": [
       "(5419, 32)"
      ]
     },
     "execution_count": 98,
     "metadata": {},
     "output_type": "execute_result"
    }
   ],
   "source": [
    "imars_crash.dropna(subset=['Park']).shape"
   ]
  },
  {
   "cell_type": "code",
   "execution_count": 99,
   "metadata": {},
   "outputs": [
    {
     "data": {
      "text/plain": [
       "PWR    1763\n",
       "IMR    1554\n",
       "SER    1478\n",
       "NER     369\n",
       "MWR     178\n",
       "AKR      74\n",
       "NCR      18\n",
       "Name: Region, dtype: int64"
      ]
     },
     "execution_count": 99,
     "metadata": {},
     "output_type": "execute_result"
    }
   ],
   "source": [
    "imars_crash['Region'].value_counts()"
   ]
  },
  {
   "cell_type": "code",
   "execution_count": 100,
   "metadata": {},
   "outputs": [
    {
     "data": {
      "text/plain": [
       "PWR    1763\n",
       "IMR    1539\n",
       "SER    1478\n",
       "NER     369\n",
       "MWR     178\n",
       "AKR      74\n",
       "NCR      18\n",
       "Name: Region, dtype: int64"
      ]
     },
     "execution_count": 100,
     "metadata": {},
     "output_type": "execute_result"
    }
   ],
   "source": [
    "imars_crash.dropna(subset=['Park'])['Region'].value_counts()"
   ]
  },
  {
   "cell_type": "code",
   "execution_count": 101,
   "metadata": {},
   "outputs": [
    {
     "data": {
      "text/plain": [
       "(5419, 32)"
      ]
     },
     "execution_count": 101,
     "metadata": {},
     "output_type": "execute_result"
    }
   ],
   "source": [
    "imars_crash_parks = imars_crash.dropna(subset=['Park'])\n",
    "imars_crash_parks.shape"
   ]
  },
  {
   "cell_type": "code",
   "execution_count": 103,
   "metadata": {},
   "outputs": [
    {
     "data": {
      "text/plain": [
       "(5419, 32)"
      ]
     },
     "execution_count": 103,
     "metadata": {},
     "output_type": "execute_result"
    }
   ],
   "source": [
    "imars_crash.loc[imars_crash['Park'].isnull()==False].shape"
   ]
  },
  {
   "cell_type": "code",
   "execution_count": 104,
   "metadata": {},
   "outputs": [
    {
     "data": {
      "text/plain": [
       "(7464, 32)"
      ]
     },
     "execution_count": 104,
     "metadata": {},
     "output_type": "execute_result"
    }
   ],
   "source": [
    "imars_crash.loc[imars_crash['Park'].isnull()==True].shape"
   ]
  },
  {
   "cell_type": "code",
   "execution_count": 105,
   "metadata": {},
   "outputs": [
    {
     "data": {
      "text/plain": [
       "(3261, 32)"
      ]
     },
     "execution_count": 105,
     "metadata": {},
     "output_type": "execute_result"
    }
   ],
   "source": [
    "imars_crash_coords = imars_crash.loc[imars_crash['Park'].isnull()==True].dropna(subset=['Latitude','Longitude'])\n",
    "imars_crash_coords.shape"
   ]
  },
  {
   "cell_type": "code",
   "execution_count": 106,
   "metadata": {},
   "outputs": [
    {
     "data": {
      "text/plain": [
       "8680"
      ]
     },
     "execution_count": 106,
     "metadata": {},
     "output_type": "execute_result"
    }
   ],
   "source": [
    "3261+5419"
   ]
  },
  {
   "cell_type": "code",
   "execution_count": 107,
   "metadata": {},
   "outputs": [],
   "source": [
    "imars_crash_coords = imars_crash.loc[imars_crash['Park'].isnull()==True].dropna(subset=['Latitude','Longitude'])\n",
    "imars_crash_coords_geo=gpd.GeoDataFrame(imars_crash_coords, geometry=gpd.points_from_xy(imars_crash_coords.Longitude, \n",
    "                                                                             imars_crash_coords.Latitude))"
   ]
  },
  {
   "cell_type": "code",
   "execution_count": 108,
   "metadata": {},
   "outputs": [],
   "source": [
    "filename = \"./shapefiles/NPS_-_Land_Resources_Division_Boundary_and_Tract_Data_Service.geojson\"\n",
    "file = open(filename)\n",
    "parks = gpd.read_file(file)"
   ]
  },
  {
   "cell_type": "code",
   "execution_count": 109,
   "metadata": {},
   "outputs": [],
   "source": [
    "imars_crash_coords_geo.crs = \"EPSG:4326\"\n",
    "parks.crs = \"EPSG:4326\""
   ]
  },
  {
   "cell_type": "code",
   "execution_count": 110,
   "metadata": {},
   "outputs": [
    {
     "name": "stderr",
     "output_type": "stream",
     "text": [
      "C:\\ProgramData\\Anaconda3\\lib\\site-packages\\ipykernel_launcher.py:1: UserWarning: Geometry is in a geographic CRS. Results from 'buffer' are likely incorrect. Use 'GeoSeries.to_crs()' to re-project geometries to a projected CRS before this operation.\n",
      "\n",
      "  \"\"\"Entry point for launching an IPython kernel.\n",
      "C:\\ProgramData\\Anaconda3\\lib\\site-packages\\IPython\\core\\interactiveshell.py:3214: FutureWarning: The `op` parameter is deprecated and will be removed in a future release. Please use the `predicate` parameter instead.\n",
      "  if (yield from self.run_code(code, result)):\n"
     ]
    },
    {
     "data": {
      "text/html": [
       "<div>\n",
       "<style scoped>\n",
       "    .dataframe tbody tr th:only-of-type {\n",
       "        vertical-align: middle;\n",
       "    }\n",
       "\n",
       "    .dataframe tbody tr th {\n",
       "        vertical-align: top;\n",
       "    }\n",
       "\n",
       "    .dataframe thead th {\n",
       "        text-align: right;\n",
       "    }\n",
       "</style>\n",
       "<table border=\"1\" class=\"dataframe\">\n",
       "  <thead>\n",
       "    <tr style=\"text-align: right;\">\n",
       "      <th></th>\n",
       "      <th>IMARS_Record_No</th>\n",
       "      <th>Crash_Date_Time</th>\n",
       "      <th>Linked_Address_Classification</th>\n",
       "      <th>City_Town_Park_Location</th>\n",
       "      <th>State</th>\n",
       "      <th>County</th>\n",
       "      <th>Direction</th>\n",
       "      <th>Linked_Street_Number</th>\n",
       "      <th>Linked_Common_Name</th>\n",
       "      <th>Street_Type</th>\n",
       "      <th>...</th>\n",
       "      <th>CREATED_BY</th>\n",
       "      <th>METADATA</th>\n",
       "      <th>PARKNAME</th>\n",
       "      <th>CreationDate</th>\n",
       "      <th>Creator</th>\n",
       "      <th>EditDate</th>\n",
       "      <th>Editor</th>\n",
       "      <th>GlobalID</th>\n",
       "      <th>Shape__Area</th>\n",
       "      <th>Shape__Length</th>\n",
       "    </tr>\n",
       "  </thead>\n",
       "  <tbody>\n",
       "    <tr>\n",
       "      <th>410</th>\n",
       "      <td>NP14039836</td>\n",
       "      <td>20140513 13:30:00:000</td>\n",
       "      <td>NaN</td>\n",
       "      <td>NaN</td>\n",
       "      <td>NaN</td>\n",
       "      <td>NaN</td>\n",
       "      <td>NaN</td>\n",
       "      <td>NaN</td>\n",
       "      <td>NaN</td>\n",
       "      <td>NaN</td>\n",
       "      <td>...</td>\n",
       "      <td>NaN</td>\n",
       "      <td>NaN</td>\n",
       "      <td>NaN</td>\n",
       "      <td>NaN</td>\n",
       "      <td>NaN</td>\n",
       "      <td>NaN</td>\n",
       "      <td>NaN</td>\n",
       "      <td>NaN</td>\n",
       "      <td>NaN</td>\n",
       "      <td>NaN</td>\n",
       "    </tr>\n",
       "    <tr>\n",
       "      <th>412</th>\n",
       "      <td>NP14049772</td>\n",
       "      <td>20140607 14:42:00:000</td>\n",
       "      <td>NaN</td>\n",
       "      <td>NaN</td>\n",
       "      <td>NaN</td>\n",
       "      <td>NaN</td>\n",
       "      <td>NaN</td>\n",
       "      <td>NaN</td>\n",
       "      <td>NaN</td>\n",
       "      <td>NaN</td>\n",
       "      <td>...</td>\n",
       "      <td>NaN</td>\n",
       "      <td>NaN</td>\n",
       "      <td>NaN</td>\n",
       "      <td>NaN</td>\n",
       "      <td>NaN</td>\n",
       "      <td>NaN</td>\n",
       "      <td>NaN</td>\n",
       "      <td>NaN</td>\n",
       "      <td>NaN</td>\n",
       "      <td>NaN</td>\n",
       "    </tr>\n",
       "    <tr>\n",
       "      <th>414</th>\n",
       "      <td>NP14060606</td>\n",
       "      <td>20140625 20:40:00:000</td>\n",
       "      <td>NaN</td>\n",
       "      <td>NaN</td>\n",
       "      <td>NaN</td>\n",
       "      <td>NaN</td>\n",
       "      <td>NaN</td>\n",
       "      <td>NaN</td>\n",
       "      <td>NaN</td>\n",
       "      <td>NaN</td>\n",
       "      <td>...</td>\n",
       "      <td>Lands</td>\n",
       "      <td>Preliminary data. Contact the Land Resources P...</td>\n",
       "      <td>Olympic</td>\n",
       "      <td>2020-01-09T22:16:03</td>\n",
       "      <td>SCarlton@nps.gov_nps</td>\n",
       "      <td>2020-01-09T22:16:03</td>\n",
       "      <td>SCarlton@nps.gov_nps</td>\n",
       "      <td>d568927b-56f4-4f49-a52a-b8ab9f7676a3</td>\n",
       "      <td>8.203591e+09</td>\n",
       "      <td>1.158605e+06</td>\n",
       "    </tr>\n",
       "    <tr>\n",
       "      <th>5</th>\n",
       "      <td>NP16029926</td>\n",
       "      <td>20160326 20:00:00:000</td>\n",
       "      <td>NaN</td>\n",
       "      <td>NaN</td>\n",
       "      <td>NaN</td>\n",
       "      <td>NaN</td>\n",
       "      <td>NaN</td>\n",
       "      <td>NaN</td>\n",
       "      <td>NaN</td>\n",
       "      <td>NaN</td>\n",
       "      <td>...</td>\n",
       "      <td>Lands</td>\n",
       "      <td>https://irma.nps.gov/DataStore/Reference/Profi...</td>\n",
       "      <td>Blue Ridge Parkway</td>\n",
       "      <td>2022-01-06T10:41:13</td>\n",
       "      <td>WASO</td>\n",
       "      <td>2022-01-06T10:41:13</td>\n",
       "      <td>WASO</td>\n",
       "      <td>a8ef8bcf-aaa2-4623-a8f6-1d93fe31f945</td>\n",
       "      <td>6.422579e+08</td>\n",
       "      <td>2.287707e+06</td>\n",
       "    </tr>\n",
       "    <tr>\n",
       "      <th>101</th>\n",
       "      <td>NP16041155</td>\n",
       "      <td>20160425 15:00:00:000</td>\n",
       "      <td>NaN</td>\n",
       "      <td>NaN</td>\n",
       "      <td>NaN</td>\n",
       "      <td>NaN</td>\n",
       "      <td>NaN</td>\n",
       "      <td>NaN</td>\n",
       "      <td>NaN</td>\n",
       "      <td>NaN</td>\n",
       "      <td>...</td>\n",
       "      <td>Lands</td>\n",
       "      <td>https://irma.nps.gov/DataStore/Reference/Profi...</td>\n",
       "      <td>Grand Canyon</td>\n",
       "      <td>2022-01-06T10:42:52</td>\n",
       "      <td>WASO</td>\n",
       "      <td>2022-01-06T10:42:52</td>\n",
       "      <td>WASO</td>\n",
       "      <td>16feb031-8263-422e-8bdc-deb1a65f6153</td>\n",
       "      <td>7.487848e+09</td>\n",
       "      <td>2.135274e+06</td>\n",
       "    </tr>\n",
       "  </tbody>\n",
       "</table>\n",
       "<p>5 rows × 53 columns</p>\n",
       "</div>"
      ],
      "text/plain": [
       "    IMARS_Record_No        Crash_Date_Time Linked_Address_Classification  \\\n",
       "410      NP14039836  20140513 13:30:00:000                           NaN   \n",
       "412      NP14049772  20140607 14:42:00:000                           NaN   \n",
       "414      NP14060606  20140625 20:40:00:000                           NaN   \n",
       "5        NP16029926  20160326 20:00:00:000                           NaN   \n",
       "101      NP16041155  20160425 15:00:00:000                           NaN   \n",
       "\n",
       "    City_Town_Park_Location State County Direction  Linked_Street_Number  \\\n",
       "410                     NaN   NaN    NaN       NaN                   NaN   \n",
       "412                     NaN   NaN    NaN       NaN                   NaN   \n",
       "414                     NaN   NaN    NaN       NaN                   NaN   \n",
       "5                       NaN   NaN    NaN       NaN                   NaN   \n",
       "101                     NaN   NaN    NaN       NaN                   NaN   \n",
       "\n",
       "    Linked_Common_Name Street_Type  ...  CREATED_BY  \\\n",
       "410                NaN         NaN  ...         NaN   \n",
       "412                NaN         NaN  ...         NaN   \n",
       "414                NaN         NaN  ...       Lands   \n",
       "5                  NaN         NaN  ...       Lands   \n",
       "101                NaN         NaN  ...       Lands   \n",
       "\n",
       "                                              METADATA            PARKNAME  \\\n",
       "410                                                NaN                 NaN   \n",
       "412                                                NaN                 NaN   \n",
       "414  Preliminary data. Contact the Land Resources P...             Olympic   \n",
       "5    https://irma.nps.gov/DataStore/Reference/Profi...  Blue Ridge Parkway   \n",
       "101  https://irma.nps.gov/DataStore/Reference/Profi...        Grand Canyon   \n",
       "\n",
       "            CreationDate               Creator             EditDate  \\\n",
       "410                  NaN                   NaN                  NaN   \n",
       "412                  NaN                   NaN                  NaN   \n",
       "414  2020-01-09T22:16:03  SCarlton@nps.gov_nps  2020-01-09T22:16:03   \n",
       "5    2022-01-06T10:41:13                  WASO  2022-01-06T10:41:13   \n",
       "101  2022-01-06T10:42:52                  WASO  2022-01-06T10:42:52   \n",
       "\n",
       "                   Editor                              GlobalID   Shape__Area  \\\n",
       "410                   NaN                                   NaN           NaN   \n",
       "412                   NaN                                   NaN           NaN   \n",
       "414  SCarlton@nps.gov_nps  d568927b-56f4-4f49-a52a-b8ab9f7676a3  8.203591e+09   \n",
       "5                    WASO  a8ef8bcf-aaa2-4623-a8f6-1d93fe31f945  6.422579e+08   \n",
       "101                  WASO  16feb031-8263-422e-8bdc-deb1a65f6153  7.487848e+09   \n",
       "\n",
       "    Shape__Length  \n",
       "410           NaN  \n",
       "412           NaN  \n",
       "414  1.158605e+06  \n",
       "5    2.287707e+06  \n",
       "101  2.135274e+06  \n",
       "\n",
       "[5 rows x 53 columns]"
      ]
     },
     "execution_count": 110,
     "metadata": {},
     "output_type": "execute_result"
    }
   ],
   "source": [
    "parks['geometry']=parks['geometry'].buffer(0.2)\n",
    "\n",
    "imars_crash_coords_geo_withparknames=gpd.sjoin(imars_crash_coords_geo,parks,how=\"left\", op='intersects')\n",
    "imars_crash_coords_geo_withparknames.head()"
   ]
  },
  {
   "cell_type": "code",
   "execution_count": 111,
   "metadata": {},
   "outputs": [
    {
     "data": {
      "text/plain": [
       "(5137, 53)"
      ]
     },
     "execution_count": 111,
     "metadata": {},
     "output_type": "execute_result"
    }
   ],
   "source": [
    "imars_crash_coords_geo_withparknames.shape"
   ]
  },
  {
   "cell_type": "code",
   "execution_count": 112,
   "metadata": {},
   "outputs": [],
   "source": [
    "imars_crash_coords_geo_withparknames2  = imars_crash_coords_geo_withparknames.drop_duplicates(subset=['IMARS_Record_No'])"
   ]
  },
  {
   "cell_type": "code",
   "execution_count": 113,
   "metadata": {},
   "outputs": [
    {
     "data": {
      "text/plain": [
       "(3102, 53)"
      ]
     },
     "execution_count": 113,
     "metadata": {},
     "output_type": "execute_result"
    }
   ],
   "source": [
    "imars_crash_coords_geo_withparknames2.shape"
   ]
  },
  {
   "cell_type": "code",
   "execution_count": 114,
   "metadata": {},
   "outputs": [
    {
     "data": {
      "text/plain": [
       "SE    1031\n",
       "IM     507\n",
       "PW     460\n",
       "NE     285\n",
       "MW      86\n",
       "NC      52\n",
       "AK       9\n",
       "Name: REGION, dtype: int64"
      ]
     },
     "execution_count": 114,
     "metadata": {},
     "output_type": "execute_result"
    }
   ],
   "source": [
    "imars_crash_coords_geo_withparknames2.REGION.value_counts()"
   ]
  },
  {
   "cell_type": "code",
   "execution_count": 225,
   "metadata": {},
   "outputs": [],
   "source": [
    "imars_crash_withparknames = pd.DataFrame(imars_crash_coords_geo_withparknames2.drop(columns='geometry'))\n",
    "imars_crash_withparknames['Park']= imars_crash_withparknames['UNIT_CODE']"
   ]
  },
  {
   "cell_type": "code",
   "execution_count": 226,
   "metadata": {},
   "outputs": [
    {
     "data": {
      "text/plain": [
       "(3102, 52)"
      ]
     },
     "execution_count": 226,
     "metadata": {},
     "output_type": "execute_result"
    }
   ],
   "source": [
    "imars_crash_withparknames.shape"
   ]
  },
  {
   "cell_type": "code",
   "execution_count": 227,
   "metadata": {},
   "outputs": [
    {
     "data": {
      "text/plain": [
       "(3102, 32)"
      ]
     },
     "execution_count": 227,
     "metadata": {},
     "output_type": "execute_result"
    }
   ],
   "source": [
    "imars_crash_withparknames2 = imars_crash_withparknames[list(imars_crash_parks.columns)]\n",
    "imars_crash_withparknames2.shape"
   ]
  },
  {
   "cell_type": "code",
   "execution_count": 228,
   "metadata": {},
   "outputs": [
    {
     "data": {
      "text/plain": [
       "(7811, 32)"
      ]
     },
     "execution_count": 228,
     "metadata": {},
     "output_type": "execute_result"
    }
   ],
   "source": [
    "imars_crash_expanded = pd.concat([imars_crash_parks,imars_crash_withparknames2])\n",
    "imars_crash_expanded  = imars_crash_expanded.drop_duplicates(subset=['IMARS_Record_No'])\n",
    "imars_crash_expanded.shape"
   ]
  },
  {
   "cell_type": "markdown",
   "metadata": {},
   "source": [
    "## Step 2: Filter for Necessary Fields, Group by IMARS_RECORD_NO\n"
   ]
  },
  {
   "cell_type": "markdown",
   "metadata": {},
   "source": [
    "#### Creating New Columns for Injury Severity\n",
    "\n",
    "- Requires passenger dataset"
   ]
  },
  {
   "cell_type": "code",
   "execution_count": 230,
   "metadata": {},
   "outputs": [],
   "source": [
    "imars_passenger['NUM_OCC'] = 1\n",
    "imars_passenger['INCID_NO'] = imars_passenger['IMARS_Record_No']\n",
    "imars_passenger['Crash_Date_Time_report'] = imars_passenger['Crash_Date_Time_person']\n",
    "\n",
    "imars_passenger_slim = imars_passenger[[\n",
    "    'INCID_NO', 'NUM_OCC', 'Crash_Date_Time_report','Injury_Severity'\n",
    "]]"
   ]
  },
  {
   "cell_type": "code",
   "execution_count": 231,
   "metadata": {},
   "outputs": [
    {
     "data": {
      "text/html": [
       "<div>\n",
       "<style scoped>\n",
       "    .dataframe tbody tr th:only-of-type {\n",
       "        vertical-align: middle;\n",
       "    }\n",
       "\n",
       "    .dataframe tbody tr th {\n",
       "        vertical-align: top;\n",
       "    }\n",
       "\n",
       "    .dataframe thead th {\n",
       "        text-align: right;\n",
       "    }\n",
       "</style>\n",
       "<table border=\"1\" class=\"dataframe\">\n",
       "  <thead>\n",
       "    <tr style=\"text-align: right;\">\n",
       "      <th></th>\n",
       "      <th>INCID_NO</th>\n",
       "      <th>NUM_OCC</th>\n",
       "      <th>Crash_Date_Time_report</th>\n",
       "      <th>Injury_Severity</th>\n",
       "    </tr>\n",
       "  </thead>\n",
       "  <tbody>\n",
       "    <tr>\n",
       "      <th>0</th>\n",
       "      <td>NP12000078</td>\n",
       "      <td>1</td>\n",
       "      <td>20120106 14:30:00:000</td>\n",
       "      <td>NaN</td>\n",
       "    </tr>\n",
       "    <tr>\n",
       "      <th>1</th>\n",
       "      <td>NP12000378</td>\n",
       "      <td>1</td>\n",
       "      <td>20120121 00:00:00:000</td>\n",
       "      <td>NaN</td>\n",
       "    </tr>\n",
       "    <tr>\n",
       "      <th>2</th>\n",
       "      <td>NP12000550</td>\n",
       "      <td>1</td>\n",
       "      <td>20120131 13:51:00:000</td>\n",
       "      <td>NaN</td>\n",
       "    </tr>\n",
       "    <tr>\n",
       "      <th>3</th>\n",
       "      <td>NP12000911</td>\n",
       "      <td>1</td>\n",
       "      <td>20120208 00:00:00:000</td>\n",
       "      <td>NaN</td>\n",
       "    </tr>\n",
       "    <tr>\n",
       "      <th>4</th>\n",
       "      <td>NP12000935</td>\n",
       "      <td>1</td>\n",
       "      <td>20120215 10:15:00:000</td>\n",
       "      <td>NaN</td>\n",
       "    </tr>\n",
       "  </tbody>\n",
       "</table>\n",
       "</div>"
      ],
      "text/plain": [
       "     INCID_NO  NUM_OCC Crash_Date_Time_report Injury_Severity\n",
       "0  NP12000078        1  20120106 14:30:00:000             NaN\n",
       "1  NP12000378        1  20120121 00:00:00:000             NaN\n",
       "2  NP12000550        1  20120131 13:51:00:000             NaN\n",
       "3  NP12000911        1  20120208 00:00:00:000             NaN\n",
       "4  NP12000935        1  20120215 10:15:00:000             NaN"
      ]
     },
     "execution_count": 231,
     "metadata": {},
     "output_type": "execute_result"
    }
   ],
   "source": [
    "imars_passenger_slim.head()"
   ]
  },
  {
   "cell_type": "code",
   "execution_count": 232,
   "metadata": {},
   "outputs": [],
   "source": [
    "imars_passenger_slim['No Injury']= np.where(imars_passenger_slim['Injury_Severity']=='01. No injury', 1,0)\n",
    "imars_passenger_slim['Possible Injury']= np.where(imars_passenger_slim['Injury_Severity']=='02. Possible injury', 1,0)\n",
    "imars_passenger_slim['Non-incapacitating Injury']= np.where(imars_passenger_slim['Injury_Severity']=='03. Non-incapacitating injury', 1,0)\n",
    "imars_passenger_slim['Incapacitating Injury']= np.where(imars_passenger_slim['Injury_Severity']=='04. Incapacitating injury', 1,0)\n",
    "imars_passenger_slim['Fatality']= np.where(imars_passenger_slim['Injury_Severity']=='05. Fatal', 1,0)\n",
    "imars_passenger_slim['Unknown Injury']= np.where(imars_passenger_slim['Injury_Severity']=='99. Unknown', 1,0)\n"
   ]
  },
  {
   "cell_type": "code",
   "execution_count": 233,
   "metadata": {
    "scrolled": true
   },
   "outputs": [
    {
     "data": {
      "text/plain": [
       "90"
      ]
     },
     "execution_count": 233,
     "metadata": {},
     "output_type": "execute_result"
    }
   ],
   "source": [
    "imars_passenger_slim.Fatality.sum()"
   ]
  },
  {
   "cell_type": "code",
   "execution_count": 234,
   "metadata": {},
   "outputs": [],
   "source": [
    "imars_passenger_slim_agg = imars_passenger_slim.groupby(by=['INCID_NO']).sum()\n",
    "#imars_slim_agg = imars_slim_agg.drop(columns = ['ACCLASS','DINJ', 'PINJ'])\n",
    "imars_passenger_slim_agg = imars_passenger_slim_agg.reset_index()\n"
   ]
  },
  {
   "cell_type": "code",
   "execution_count": 235,
   "metadata": {},
   "outputs": [
    {
     "data": {
      "text/plain": [
       "(11076, 8)"
      ]
     },
     "execution_count": 235,
     "metadata": {},
     "output_type": "execute_result"
    }
   ],
   "source": [
    "imars_passenger_slim_agg.shape"
   ]
  },
  {
   "cell_type": "code",
   "execution_count": 236,
   "metadata": {},
   "outputs": [
    {
     "data": {
      "text/plain": [
       "90"
      ]
     },
     "execution_count": 236,
     "metadata": {},
     "output_type": "execute_result"
    }
   ],
   "source": [
    "imars_passenger_slim_agg.Fatality.sum()"
   ]
  },
  {
   "cell_type": "markdown",
   "metadata": {},
   "source": [
    "#### Creating New Columns for Accident Class"
   ]
  },
  {
   "cell_type": "code",
   "execution_count": 237,
   "metadata": {},
   "outputs": [],
   "source": [
    "imars_crash_details['INCID_NO'] = imars_crash_details['IMARS_Record_No']\n",
    "\n",
    "imars_crash_details_slim = imars_crash_details[[\n",
    "    'INCID_NO', 'First_Harmful_Event_Type','First_Harmful_Event'\n",
    "]]\n",
    "\n"
   ]
  },
  {
   "cell_type": "code",
   "execution_count": 238,
   "metadata": {},
   "outputs": [
    {
     "data": {
      "text/plain": [
       "Collision with person, MV or non-fixed object    4611\n",
       "Collision with fixed object                      3358\n",
       "Non-collision                                    1639\n",
       "Collision with animals                           1247\n",
       "Unknown                                           406\n",
       "Name: First_Harmful_Event_Type, dtype: int64"
      ]
     },
     "execution_count": 238,
     "metadata": {},
     "output_type": "execute_result"
    }
   ],
   "source": [
    "imars_crash_details_slim.First_Harmful_Event_Type.value_counts()"
   ]
  },
  {
   "cell_type": "code",
   "execution_count": 239,
   "metadata": {},
   "outputs": [
    {
     "data": {
      "text/plain": [
       "21. Motor vehicle in transport                                           2843\n",
       "22. Parked motor vehicle                                                 1281\n",
       "25. Other non-fixed object                                                295\n",
       "18. Bicycle                                                                57\n",
       "17. Pedestrian                                                             52\n",
       "24. Work zone/maintenance equipment                                        25\n",
       "23. Struck by falling, shifting cargo or anything set in motion by MV      16\n",
       "20. Railway vehicle                                                         2\n",
       "99. Unknown                                                                 1\n",
       "Name: First_Harmful_Event, dtype: int64"
      ]
     },
     "execution_count": 239,
     "metadata": {},
     "output_type": "execute_result"
    }
   ],
   "source": [
    "imars_crash_details_slim.loc[imars_crash_details_slim['First_Harmful_Event_Type']==\"Collision with person, MV or non-fixed object\"].First_Harmful_Event.value_counts()"
   ]
  },
  {
   "cell_type": "code",
   "execution_count": 240,
   "metadata": {},
   "outputs": [],
   "source": [
    "pd.options.mode.chained_assignment = None  # default='warn'\n",
    "\n",
    "imars_crash_details_slim['Collision with Fixed Object']= np.where(imars_crash_details_slim['First_Harmful_Event_Type']==\"Collision with fixed object\", 1,0)\n",
    "imars_crash_details_slim['Collision with Animal']= np.where(imars_crash_details_slim['First_Harmful_Event_Type']==\"Collision with animals\", 1,0)\n",
    "imars_crash_details_slim['Non-Collision']= np.where(imars_crash_details_slim['First_Harmful_Event_Type']==\"Non-collision\", 1,0)\n",
    "imars_crash_details_slim['Other Accident Class']= np.where(imars_crash_details_slim['First_Harmful_Event_Type']==\"Unknown\",1,0)\n",
    "\n",
    "\n",
    "imars_crash_details_slim['Collision with Other Motor Vehicle']= np.where(imars_crash_details_slim['First_Harmful_Event']=='21. Motor vehicle in transport', 1,0)\n",
    "imars_crash_details_slim['Collision with Pedestrian']= np.where(imars_crash_details_slim['First_Harmful_Event']==\"17. Pedestrian\", 1,0)\n",
    "imars_crash_details_slim['Collision with Bicycle']= np.where(imars_crash_details_slim['First_Harmful_Event']==\"18. Bicycle\", 1,0)\n",
    "imars_crash_details_slim['Collision with Parked Motor Vehicle']= np.where(imars_crash_details_slim['First_Harmful_Event']==\"22. Parked motor vehicle\", 1,0)\n",
    "imars_crash_details_slim['Collision with Railway Train']= np.where(imars_crash_details_slim['First_Harmful_Event']==\"20. Railway vehicle\", 1,0)\n",
    "imars_crash_details_slim['Collision with Other Object']= np.where(imars_crash_details_slim['First_Harmful_Event']==\"25. Other non-fixed object\", 1,0)\n",
    "imars_crash_details_slim['Collision with Unknown']= np.where(imars_crash_details_slim['First_Harmful_Event'].isin(['23. Struck by falling, shifting cargo or anything set in motion by MV',\n",
    "                                                                                              '24. Work zone/maintenance equipment']), 1,0)\n"
   ]
  },
  {
   "cell_type": "code",
   "execution_count": 241,
   "metadata": {},
   "outputs": [
    {
     "data": {
      "text/plain": [
       "0    10262\n",
       "1     1639\n",
       "Name: Non-Collision, dtype: int64"
      ]
     },
     "execution_count": 241,
     "metadata": {},
     "output_type": "execute_result"
    }
   ],
   "source": [
    "imars_crash_details_slim['Non-Collision'].value_counts()"
   ]
  },
  {
   "cell_type": "code",
   "execution_count": 242,
   "metadata": {},
   "outputs": [],
   "source": [
    "imars_crash_details_slim_nodups = imars_crash_details_slim.drop_duplicates()\n",
    "imars_passenger_slim_agg_nodups = imars_passenger_slim_agg.drop_duplicates()"
   ]
  },
  {
   "cell_type": "code",
   "execution_count": 244,
   "metadata": {},
   "outputs": [],
   "source": [
    "imars_crash_clean = imars_crash_expanded[['IMARS_Record_No','Latitude', 'Longitude', 'Park','Crash_Date_Time']]\n",
    "imars_crash_clean = imars_crash_clean.rename(columns={\"IMARS_Record_No\": \"INCID_NO\"})\n",
    "\n",
    "imars_crash_clean = imars_crash_clean.drop_duplicates(\"INCID_NO\")"
   ]
  },
  {
   "cell_type": "code",
   "execution_count": 245,
   "metadata": {},
   "outputs": [
    {
     "data": {
      "text/plain": [
       "((11131, 14), (7811, 5), (11076, 8))"
      ]
     },
     "execution_count": 245,
     "metadata": {},
     "output_type": "execute_result"
    }
   ],
   "source": [
    "imars_crash_details_slim_nodups.shape, imars_crash_clean.shape, imars_passenger_slim_agg_nodups.shape"
   ]
  },
  {
   "cell_type": "code",
   "execution_count": 257,
   "metadata": {},
   "outputs": [],
   "source": [
    "imars_slim_agg=imars_crash_clean.merge(imars_passenger_slim_agg_nodups, how='left', on='INCID_NO')\n",
    "imars_slim_agg=imars_slim_agg.merge(imars_crash_details_slim_nodups, how='left', on='INCID_NO')\n"
   ]
  },
  {
   "cell_type": "code",
   "execution_count": 258,
   "metadata": {},
   "outputs": [
    {
     "data": {
      "text/plain": [
       "((7842, 25), (11131, 14), (7811, 5), (11076, 8))"
      ]
     },
     "execution_count": 258,
     "metadata": {},
     "output_type": "execute_result"
    }
   ],
   "source": [
    "imars_slim_agg.shape, imars_crash_details_slim_nodups.shape, imars_crash_clean.shape, imars_passenger_slim_agg_nodups.shape"
   ]
  },
  {
   "cell_type": "code",
   "execution_count": 259,
   "metadata": {},
   "outputs": [
    {
     "data": {
      "text/plain": [
       "71"
      ]
     },
     "execution_count": 259,
     "metadata": {},
     "output_type": "execute_result"
    }
   ],
   "source": [
    "imars_slim_agg.Fatality.sum()"
   ]
  },
  {
   "cell_type": "code",
   "execution_count": 260,
   "metadata": {},
   "outputs": [
    {
     "data": {
      "text/html": [
       "<div>\n",
       "<style scoped>\n",
       "    .dataframe tbody tr th:only-of-type {\n",
       "        vertical-align: middle;\n",
       "    }\n",
       "\n",
       "    .dataframe tbody tr th {\n",
       "        vertical-align: top;\n",
       "    }\n",
       "\n",
       "    .dataframe thead th {\n",
       "        text-align: right;\n",
       "    }\n",
       "</style>\n",
       "<table border=\"1\" class=\"dataframe\">\n",
       "  <thead>\n",
       "    <tr style=\"text-align: right;\">\n",
       "      <th></th>\n",
       "      <th>INCID_NO</th>\n",
       "      <th>Latitude</th>\n",
       "      <th>Longitude</th>\n",
       "      <th>Park</th>\n",
       "      <th>Crash_Date_Time</th>\n",
       "      <th>NUM_OCC</th>\n",
       "      <th>No Injury</th>\n",
       "      <th>Possible Injury</th>\n",
       "      <th>Non-incapacitating Injury</th>\n",
       "      <th>Incapacitating Injury</th>\n",
       "      <th>Fatality</th>\n",
       "      <th>Unknown Injury</th>\n",
       "      <th>First_Harmful_Event_Type</th>\n",
       "      <th>First_Harmful_Event</th>\n",
       "      <th>Collision with Fixed Object</th>\n",
       "      <th>Collision with Animal</th>\n",
       "      <th>Non-Collision</th>\n",
       "      <th>Other Accident Class</th>\n",
       "      <th>Collision with Other Motor Vehicle</th>\n",
       "      <th>Collision with Pedestrian</th>\n",
       "      <th>Collision with Bicycle</th>\n",
       "      <th>Collision with Parked Motor Vehicle</th>\n",
       "      <th>Collision with Railway Train</th>\n",
       "      <th>Collision with Other Object</th>\n",
       "      <th>Collision with Unknown</th>\n",
       "    </tr>\n",
       "  </thead>\n",
       "  <tbody>\n",
       "    <tr>\n",
       "      <th>0</th>\n",
       "      <td>NP13031262</td>\n",
       "      <td>NaN</td>\n",
       "      <td>NaN</td>\n",
       "      <td>BUFF</td>\n",
       "      <td>20130615 14:00:00:000</td>\n",
       "      <td>1</td>\n",
       "      <td>0</td>\n",
       "      <td>0</td>\n",
       "      <td>0</td>\n",
       "      <td>0</td>\n",
       "      <td>0</td>\n",
       "      <td>0</td>\n",
       "      <td>NaN</td>\n",
       "      <td>NaN</td>\n",
       "      <td>0</td>\n",
       "      <td>0</td>\n",
       "      <td>0</td>\n",
       "      <td>0</td>\n",
       "      <td>0</td>\n",
       "      <td>0</td>\n",
       "      <td>0</td>\n",
       "      <td>0</td>\n",
       "      <td>0</td>\n",
       "      <td>0</td>\n",
       "      <td>0</td>\n",
       "    </tr>\n",
       "    <tr>\n",
       "      <th>1</th>\n",
       "      <td>NP13054509</td>\n",
       "      <td>NaN</td>\n",
       "      <td>NaN</td>\n",
       "      <td>MORU</td>\n",
       "      <td>20130803 10:56:00:000</td>\n",
       "      <td>1</td>\n",
       "      <td>0</td>\n",
       "      <td>0</td>\n",
       "      <td>0</td>\n",
       "      <td>0</td>\n",
       "      <td>0</td>\n",
       "      <td>0</td>\n",
       "      <td>NaN</td>\n",
       "      <td>NaN</td>\n",
       "      <td>0</td>\n",
       "      <td>0</td>\n",
       "      <td>0</td>\n",
       "      <td>0</td>\n",
       "      <td>0</td>\n",
       "      <td>0</td>\n",
       "      <td>0</td>\n",
       "      <td>0</td>\n",
       "      <td>0</td>\n",
       "      <td>0</td>\n",
       "      <td>0</td>\n",
       "    </tr>\n",
       "    <tr>\n",
       "      <th>2</th>\n",
       "      <td>NP13071209</td>\n",
       "      <td>NaN</td>\n",
       "      <td>NaN</td>\n",
       "      <td>SHEN</td>\n",
       "      <td>20130905 12:03:00:000</td>\n",
       "      <td>1</td>\n",
       "      <td>0</td>\n",
       "      <td>0</td>\n",
       "      <td>0</td>\n",
       "      <td>0</td>\n",
       "      <td>0</td>\n",
       "      <td>0</td>\n",
       "      <td>NaN</td>\n",
       "      <td>NaN</td>\n",
       "      <td>0</td>\n",
       "      <td>0</td>\n",
       "      <td>0</td>\n",
       "      <td>0</td>\n",
       "      <td>0</td>\n",
       "      <td>0</td>\n",
       "      <td>0</td>\n",
       "      <td>0</td>\n",
       "      <td>0</td>\n",
       "      <td>0</td>\n",
       "      <td>0</td>\n",
       "    </tr>\n",
       "    <tr>\n",
       "      <th>3</th>\n",
       "      <td>NP13082489</td>\n",
       "      <td>NaN</td>\n",
       "      <td>NaN</td>\n",
       "      <td>SHEN</td>\n",
       "      <td>20131006 09:10:00:000</td>\n",
       "      <td>1</td>\n",
       "      <td>0</td>\n",
       "      <td>0</td>\n",
       "      <td>0</td>\n",
       "      <td>0</td>\n",
       "      <td>0</td>\n",
       "      <td>0</td>\n",
       "      <td>NaN</td>\n",
       "      <td>NaN</td>\n",
       "      <td>0</td>\n",
       "      <td>0</td>\n",
       "      <td>0</td>\n",
       "      <td>0</td>\n",
       "      <td>0</td>\n",
       "      <td>0</td>\n",
       "      <td>0</td>\n",
       "      <td>0</td>\n",
       "      <td>0</td>\n",
       "      <td>0</td>\n",
       "      <td>0</td>\n",
       "    </tr>\n",
       "    <tr>\n",
       "      <th>4</th>\n",
       "      <td>NP13082534</td>\n",
       "      <td>NaN</td>\n",
       "      <td>NaN</td>\n",
       "      <td>SHEN</td>\n",
       "      <td>20131006 11:42:00:000</td>\n",
       "      <td>1</td>\n",
       "      <td>0</td>\n",
       "      <td>0</td>\n",
       "      <td>0</td>\n",
       "      <td>0</td>\n",
       "      <td>0</td>\n",
       "      <td>0</td>\n",
       "      <td>NaN</td>\n",
       "      <td>NaN</td>\n",
       "      <td>0</td>\n",
       "      <td>0</td>\n",
       "      <td>0</td>\n",
       "      <td>0</td>\n",
       "      <td>0</td>\n",
       "      <td>0</td>\n",
       "      <td>0</td>\n",
       "      <td>0</td>\n",
       "      <td>0</td>\n",
       "      <td>0</td>\n",
       "      <td>0</td>\n",
       "    </tr>\n",
       "  </tbody>\n",
       "</table>\n",
       "</div>"
      ],
      "text/plain": [
       "     INCID_NO  Latitude  Longitude  Park        Crash_Date_Time  NUM_OCC  \\\n",
       "0  NP13031262       NaN        NaN  BUFF  20130615 14:00:00:000        1   \n",
       "1  NP13054509       NaN        NaN  MORU  20130803 10:56:00:000        1   \n",
       "2  NP13071209       NaN        NaN  SHEN  20130905 12:03:00:000        1   \n",
       "3  NP13082489       NaN        NaN  SHEN  20131006 09:10:00:000        1   \n",
       "4  NP13082534       NaN        NaN  SHEN  20131006 11:42:00:000        1   \n",
       "\n",
       "   No Injury  Possible Injury  Non-incapacitating Injury  \\\n",
       "0          0                0                          0   \n",
       "1          0                0                          0   \n",
       "2          0                0                          0   \n",
       "3          0                0                          0   \n",
       "4          0                0                          0   \n",
       "\n",
       "   Incapacitating Injury  Fatality  Unknown Injury First_Harmful_Event_Type  \\\n",
       "0                      0         0               0                      NaN   \n",
       "1                      0         0               0                      NaN   \n",
       "2                      0         0               0                      NaN   \n",
       "3                      0         0               0                      NaN   \n",
       "4                      0         0               0                      NaN   \n",
       "\n",
       "  First_Harmful_Event  Collision with Fixed Object  Collision with Animal  \\\n",
       "0                 NaN                            0                      0   \n",
       "1                 NaN                            0                      0   \n",
       "2                 NaN                            0                      0   \n",
       "3                 NaN                            0                      0   \n",
       "4                 NaN                            0                      0   \n",
       "\n",
       "   Non-Collision  Other Accident Class  Collision with Other Motor Vehicle  \\\n",
       "0              0                     0                                   0   \n",
       "1              0                     0                                   0   \n",
       "2              0                     0                                   0   \n",
       "3              0                     0                                   0   \n",
       "4              0                     0                                   0   \n",
       "\n",
       "   Collision with Pedestrian  Collision with Bicycle  \\\n",
       "0                          0                       0   \n",
       "1                          0                       0   \n",
       "2                          0                       0   \n",
       "3                          0                       0   \n",
       "4                          0                       0   \n",
       "\n",
       "   Collision with Parked Motor Vehicle  Collision with Railway Train  \\\n",
       "0                                    0                             0   \n",
       "1                                    0                             0   \n",
       "2                                    0                             0   \n",
       "3                                    0                             0   \n",
       "4                                    0                             0   \n",
       "\n",
       "   Collision with Other Object  Collision with Unknown  \n",
       "0                            0                       0  \n",
       "1                            0                       0  \n",
       "2                            0                       0  \n",
       "3                            0                       0  \n",
       "4                            0                       0  "
      ]
     },
     "execution_count": 260,
     "metadata": {},
     "output_type": "execute_result"
    }
   ],
   "source": [
    "imars_slim_agg.head()"
   ]
  },
  {
   "cell_type": "code",
   "execution_count": 261,
   "metadata": {},
   "outputs": [
    {
     "data": {
      "text/plain": [
       "Index(['INCID_NO', 'Latitude', 'Longitude', 'Park', 'Crash_Date_Time',\n",
       "       'NUM_OCC', 'No Injury', 'Possible Injury', 'Non-incapacitating Injury',\n",
       "       'Incapacitating Injury', 'Fatality', 'Unknown Injury',\n",
       "       'First_Harmful_Event_Type', 'First_Harmful_Event',\n",
       "       'Collision with Fixed Object', 'Collision with Animal', 'Non-Collision',\n",
       "       'Other Accident Class', 'Collision with Other Motor Vehicle',\n",
       "       'Collision with Pedestrian', 'Collision with Bicycle',\n",
       "       'Collision with Parked Motor Vehicle', 'Collision with Railway Train',\n",
       "       'Collision with Other Object', 'Collision with Unknown'],\n",
       "      dtype='object')"
      ]
     },
     "execution_count": 261,
     "metadata": {},
     "output_type": "execute_result"
    }
   ],
   "source": [
    "imars_slim_agg.columns"
   ]
  },
  {
   "cell_type": "code",
   "execution_count": 262,
   "metadata": {},
   "outputs": [],
   "source": [
    "imars_slim_agg = imars_slim_agg[['INCID_NO', 'NUM_OCC','Park', 'Non-Collision',\n",
    "       'Collision with Other Motor Vehicle', 'Collision with Fixed Object',\n",
    "       'Collision with Pedestrian', 'Collision with Bicycle',\n",
    "       'Collision with Parked Motor Vehicle', 'Collision with Railway Train',\n",
    "       'Collision with Animal', 'Collision with Other Object',\n",
    "       'Collision with Unknown', 'Other Accident Class', 'No Injury',\n",
    "       'Possible Injury', 'Non-incapacitating Injury', 'Incapacitating Injury',\n",
    "       'Fatality', 'Unknown Injury', 'Latitude', 'Longitude', 'Crash_Date_Time']]"
   ]
  },
  {
   "cell_type": "code",
   "execution_count": 263,
   "metadata": {},
   "outputs": [
    {
     "data": {
      "text/html": [
       "<div>\n",
       "<style scoped>\n",
       "    .dataframe tbody tr th:only-of-type {\n",
       "        vertical-align: middle;\n",
       "    }\n",
       "\n",
       "    .dataframe tbody tr th {\n",
       "        vertical-align: top;\n",
       "    }\n",
       "\n",
       "    .dataframe thead th {\n",
       "        text-align: right;\n",
       "    }\n",
       "</style>\n",
       "<table border=\"1\" class=\"dataframe\">\n",
       "  <thead>\n",
       "    <tr style=\"text-align: right;\">\n",
       "      <th></th>\n",
       "      <th>INCID_NO</th>\n",
       "      <th>NUM_OCC</th>\n",
       "      <th>Park</th>\n",
       "      <th>Non-Collision</th>\n",
       "      <th>Collision with Other Motor Vehicle</th>\n",
       "      <th>Collision with Fixed Object</th>\n",
       "      <th>Collision with Pedestrian</th>\n",
       "      <th>Collision with Bicycle</th>\n",
       "      <th>Collision with Parked Motor Vehicle</th>\n",
       "      <th>Collision with Railway Train</th>\n",
       "      <th>Collision with Animal</th>\n",
       "      <th>Collision with Other Object</th>\n",
       "      <th>Collision with Unknown</th>\n",
       "      <th>Other Accident Class</th>\n",
       "      <th>No Injury</th>\n",
       "      <th>Possible Injury</th>\n",
       "      <th>Non-incapacitating Injury</th>\n",
       "      <th>Incapacitating Injury</th>\n",
       "      <th>Fatality</th>\n",
       "      <th>Unknown Injury</th>\n",
       "      <th>Latitude</th>\n",
       "      <th>Longitude</th>\n",
       "      <th>Crash_Date_Time</th>\n",
       "    </tr>\n",
       "  </thead>\n",
       "  <tbody>\n",
       "    <tr>\n",
       "      <th>0</th>\n",
       "      <td>NP13031262</td>\n",
       "      <td>1</td>\n",
       "      <td>BUFF</td>\n",
       "      <td>0</td>\n",
       "      <td>0</td>\n",
       "      <td>0</td>\n",
       "      <td>0</td>\n",
       "      <td>0</td>\n",
       "      <td>0</td>\n",
       "      <td>0</td>\n",
       "      <td>0</td>\n",
       "      <td>0</td>\n",
       "      <td>0</td>\n",
       "      <td>0</td>\n",
       "      <td>0</td>\n",
       "      <td>0</td>\n",
       "      <td>0</td>\n",
       "      <td>0</td>\n",
       "      <td>0</td>\n",
       "      <td>0</td>\n",
       "      <td>NaN</td>\n",
       "      <td>NaN</td>\n",
       "      <td>20130615 14:00:00:000</td>\n",
       "    </tr>\n",
       "    <tr>\n",
       "      <th>1</th>\n",
       "      <td>NP13054509</td>\n",
       "      <td>1</td>\n",
       "      <td>MORU</td>\n",
       "      <td>0</td>\n",
       "      <td>0</td>\n",
       "      <td>0</td>\n",
       "      <td>0</td>\n",
       "      <td>0</td>\n",
       "      <td>0</td>\n",
       "      <td>0</td>\n",
       "      <td>0</td>\n",
       "      <td>0</td>\n",
       "      <td>0</td>\n",
       "      <td>0</td>\n",
       "      <td>0</td>\n",
       "      <td>0</td>\n",
       "      <td>0</td>\n",
       "      <td>0</td>\n",
       "      <td>0</td>\n",
       "      <td>0</td>\n",
       "      <td>NaN</td>\n",
       "      <td>NaN</td>\n",
       "      <td>20130803 10:56:00:000</td>\n",
       "    </tr>\n",
       "    <tr>\n",
       "      <th>2</th>\n",
       "      <td>NP13071209</td>\n",
       "      <td>1</td>\n",
       "      <td>SHEN</td>\n",
       "      <td>0</td>\n",
       "      <td>0</td>\n",
       "      <td>0</td>\n",
       "      <td>0</td>\n",
       "      <td>0</td>\n",
       "      <td>0</td>\n",
       "      <td>0</td>\n",
       "      <td>0</td>\n",
       "      <td>0</td>\n",
       "      <td>0</td>\n",
       "      <td>0</td>\n",
       "      <td>0</td>\n",
       "      <td>0</td>\n",
       "      <td>0</td>\n",
       "      <td>0</td>\n",
       "      <td>0</td>\n",
       "      <td>0</td>\n",
       "      <td>NaN</td>\n",
       "      <td>NaN</td>\n",
       "      <td>20130905 12:03:00:000</td>\n",
       "    </tr>\n",
       "    <tr>\n",
       "      <th>3</th>\n",
       "      <td>NP13082489</td>\n",
       "      <td>1</td>\n",
       "      <td>SHEN</td>\n",
       "      <td>0</td>\n",
       "      <td>0</td>\n",
       "      <td>0</td>\n",
       "      <td>0</td>\n",
       "      <td>0</td>\n",
       "      <td>0</td>\n",
       "      <td>0</td>\n",
       "      <td>0</td>\n",
       "      <td>0</td>\n",
       "      <td>0</td>\n",
       "      <td>0</td>\n",
       "      <td>0</td>\n",
       "      <td>0</td>\n",
       "      <td>0</td>\n",
       "      <td>0</td>\n",
       "      <td>0</td>\n",
       "      <td>0</td>\n",
       "      <td>NaN</td>\n",
       "      <td>NaN</td>\n",
       "      <td>20131006 09:10:00:000</td>\n",
       "    </tr>\n",
       "    <tr>\n",
       "      <th>4</th>\n",
       "      <td>NP13082534</td>\n",
       "      <td>1</td>\n",
       "      <td>SHEN</td>\n",
       "      <td>0</td>\n",
       "      <td>0</td>\n",
       "      <td>0</td>\n",
       "      <td>0</td>\n",
       "      <td>0</td>\n",
       "      <td>0</td>\n",
       "      <td>0</td>\n",
       "      <td>0</td>\n",
       "      <td>0</td>\n",
       "      <td>0</td>\n",
       "      <td>0</td>\n",
       "      <td>0</td>\n",
       "      <td>0</td>\n",
       "      <td>0</td>\n",
       "      <td>0</td>\n",
       "      <td>0</td>\n",
       "      <td>0</td>\n",
       "      <td>NaN</td>\n",
       "      <td>NaN</td>\n",
       "      <td>20131006 11:42:00:000</td>\n",
       "    </tr>\n",
       "  </tbody>\n",
       "</table>\n",
       "</div>"
      ],
      "text/plain": [
       "     INCID_NO  NUM_OCC  Park  Non-Collision  \\\n",
       "0  NP13031262        1  BUFF              0   \n",
       "1  NP13054509        1  MORU              0   \n",
       "2  NP13071209        1  SHEN              0   \n",
       "3  NP13082489        1  SHEN              0   \n",
       "4  NP13082534        1  SHEN              0   \n",
       "\n",
       "   Collision with Other Motor Vehicle  Collision with Fixed Object  \\\n",
       "0                                   0                            0   \n",
       "1                                   0                            0   \n",
       "2                                   0                            0   \n",
       "3                                   0                            0   \n",
       "4                                   0                            0   \n",
       "\n",
       "   Collision with Pedestrian  Collision with Bicycle  \\\n",
       "0                          0                       0   \n",
       "1                          0                       0   \n",
       "2                          0                       0   \n",
       "3                          0                       0   \n",
       "4                          0                       0   \n",
       "\n",
       "   Collision with Parked Motor Vehicle  Collision with Railway Train  \\\n",
       "0                                    0                             0   \n",
       "1                                    0                             0   \n",
       "2                                    0                             0   \n",
       "3                                    0                             0   \n",
       "4                                    0                             0   \n",
       "\n",
       "   Collision with Animal  Collision with Other Object  Collision with Unknown  \\\n",
       "0                      0                            0                       0   \n",
       "1                      0                            0                       0   \n",
       "2                      0                            0                       0   \n",
       "3                      0                            0                       0   \n",
       "4                      0                            0                       0   \n",
       "\n",
       "   Other Accident Class  No Injury  Possible Injury  \\\n",
       "0                     0          0                0   \n",
       "1                     0          0                0   \n",
       "2                     0          0                0   \n",
       "3                     0          0                0   \n",
       "4                     0          0                0   \n",
       "\n",
       "   Non-incapacitating Injury  Incapacitating Injury  Fatality  Unknown Injury  \\\n",
       "0                          0                      0         0               0   \n",
       "1                          0                      0         0               0   \n",
       "2                          0                      0         0               0   \n",
       "3                          0                      0         0               0   \n",
       "4                          0                      0         0               0   \n",
       "\n",
       "   Latitude  Longitude        Crash_Date_Time  \n",
       "0       NaN        NaN  20130615 14:00:00:000  \n",
       "1       NaN        NaN  20130803 10:56:00:000  \n",
       "2       NaN        NaN  20130905 12:03:00:000  \n",
       "3       NaN        NaN  20131006 09:10:00:000  \n",
       "4       NaN        NaN  20131006 11:42:00:000  "
      ]
     },
     "execution_count": 263,
     "metadata": {},
     "output_type": "execute_result"
    }
   ],
   "source": [
    "imars_slim_agg.head()"
   ]
  },
  {
   "cell_type": "code",
   "execution_count": 264,
   "metadata": {},
   "outputs": [
    {
     "data": {
      "text/plain": [
       "71"
      ]
     },
     "execution_count": 264,
     "metadata": {},
     "output_type": "execute_result"
    }
   ],
   "source": [
    "imars_slim_agg.Fatality.sum()"
   ]
  },
  {
   "cell_type": "code",
   "execution_count": 265,
   "metadata": {},
   "outputs": [],
   "source": [
    "imars_slim_agg.to_csv(\"./crash_data_IMARS_clean.csv\",index=False)"
   ]
  }
 ],
 "metadata": {
  "kernelspec": {
   "display_name": "Python 3",
   "language": "python",
   "name": "python3"
  },
  "language_info": {
   "codemirror_mode": {
    "name": "ipython",
    "version": 3
   },
   "file_extension": ".py",
   "mimetype": "text/x-python",
   "name": "python",
   "nbconvert_exporter": "python",
   "pygments_lexer": "ipython3",
   "version": "3.8.8"
  }
 },
 "nbformat": 4,
 "nbformat_minor": 2
}
