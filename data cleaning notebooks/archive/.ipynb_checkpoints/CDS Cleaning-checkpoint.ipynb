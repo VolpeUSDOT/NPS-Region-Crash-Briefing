{
 "cells": [
  {
   "cell_type": "markdown",
   "metadata": {},
   "source": [
    "## Crash Data Wrangling Jupyter Notebook\n",
    "\n",
    "**Author:** Eric Englin\n",
    "\n",
    "**Date:** 11/22/21\n",
    "\n",
    "**Purpose:** This notebook will clean the CDS data and make a dataframe that is joinable with other data sources"
   ]
  },
  {
   "cell_type": "code",
   "execution_count": 1,
   "metadata": {},
   "outputs": [
    {
     "name": "stderr",
     "output_type": "stream",
     "text": [
      "C:\\ProgramData\\Anaconda3\\lib\\site-packages\\pandas\\compat\\_optional.py:138: UserWarning: Pandas requires version '2.7.0' or newer of 'numexpr' (version '2.6.9' currently installed).\n",
      "  warnings.warn(msg, UserWarning)\n"
     ]
    }
   ],
   "source": [
    "import pandas as pd\n",
    "import numpy as np\n",
    "import os"
   ]
  },
  {
   "cell_type": "code",
   "execution_count": 2,
   "metadata": {},
   "outputs": [],
   "source": [
    "myworkingdirectory = r\"C:\\Users\\eric.englin\\Desktop\\TSP\"\n",
    "os.chdir(myworkingdirectory)"
   ]
  },
  {
   "cell_type": "code",
   "execution_count": 3,
   "metadata": {},
   "outputs": [
    {
     "name": "stderr",
     "output_type": "stream",
     "text": [
      "C:\\ProgramData\\Anaconda3\\lib\\site-packages\\IPython\\core\\interactiveshell.py:3296: DtypeWarning: Columns (0) have mixed types.Specify dtype option on import or set low_memory=False.\n",
      "  exec(code_obj, self.user_global_ns, self.user_ns)\n"
     ]
    }
   ],
   "source": [
    "cds_df = pd.read_csv('./data/CDS All Crashes Table for FLH 6-28-21.csv')\n",
    "cds_df_passengers = pd.read_excel('./data/CDS all_passengers_20211109.xlsx')"
   ]
  },
  {
   "cell_type": "code",
   "execution_count": 4,
   "metadata": {},
   "outputs": [
    {
     "data": {
      "text/html": [
       "<div>\n",
       "<style scoped>\n",
       "    .dataframe tbody tr th:only-of-type {\n",
       "        vertical-align: middle;\n",
       "    }\n",
       "\n",
       "    .dataframe tbody tr th {\n",
       "        vertical-align: top;\n",
       "    }\n",
       "\n",
       "    .dataframe thead th {\n",
       "        text-align: right;\n",
       "    }\n",
       "</style>\n",
       "<table border=\"1\" class=\"dataframe\">\n",
       "  <thead>\n",
       "    <tr style=\"text-align: right;\">\n",
       "      <th></th>\n",
       "      <th>OBJECTID</th>\n",
       "      <th>INCID_NO</th>\n",
       "      <th>CASE_NUM</th>\n",
       "      <th>PARK_ALPHA</th>\n",
       "      <th>Region</th>\n",
       "      <th># Crash</th>\n",
       "      <th>STATE_CODE</th>\n",
       "      <th>CRASH_DATE</th>\n",
       "      <th>CRASH_TIME</th>\n",
       "      <th>RTE_NO</th>\n",
       "      <th>...</th>\n",
       "      <th>LATITUDE</th>\n",
       "      <th>LONGITUDE</th>\n",
       "      <th>MILEPOST</th>\n",
       "      <th>IMPORT_DATE</th>\n",
       "      <th>FILE_NAME</th>\n",
       "      <th>SAVE_DATE</th>\n",
       "      <th>ROUTE_IDENT</th>\n",
       "      <th>RIP_CYCLE</th>\n",
       "      <th>MP_NODE</th>\n",
       "      <th>SPTL_LOC</th>\n",
       "    </tr>\n",
       "  </thead>\n",
       "  <tbody>\n",
       "    <tr>\n",
       "      <th>0</th>\n",
       "      <td>6</td>\n",
       "      <td>ABLI140610163500</td>\n",
       "      <td>14054379</td>\n",
       "      <td>ABLI</td>\n",
       "      <td>SER</td>\n",
       "      <td>1</td>\n",
       "      <td>KY</td>\n",
       "      <td>Tuesday, June 10, 2014</td>\n",
       "      <td>1635.0</td>\n",
       "      <td>NaN</td>\n",
       "      <td>...</td>\n",
       "      <td>38.91205</td>\n",
       "      <td>-76.93412</td>\n",
       "      <td>0.0</td>\n",
       "      <td>NaN</td>\n",
       "      <td>NaN</td>\n",
       "      <td>00:00.0</td>\n",
       "      <td>NaN</td>\n",
       "      <td>NaN</td>\n",
       "      <td>NaN</td>\n",
       "      <td>0</td>\n",
       "    </tr>\n",
       "    <tr>\n",
       "      <th>1</th>\n",
       "      <td>5</td>\n",
       "      <td>ABLI121009110000</td>\n",
       "      <td>12474</td>\n",
       "      <td>ABLI</td>\n",
       "      <td>SER</td>\n",
       "      <td>1</td>\n",
       "      <td>KY</td>\n",
       "      <td>Tuesday, October 9, 2012</td>\n",
       "      <td>1100.0</td>\n",
       "      <td>101</td>\n",
       "      <td>...</td>\n",
       "      <td>NaN</td>\n",
       "      <td>NaN</td>\n",
       "      <td>NaN</td>\n",
       "      <td>NaN</td>\n",
       "      <td>NaN</td>\n",
       "      <td>00:00.0</td>\n",
       "      <td>NaN</td>\n",
       "      <td>NaN</td>\n",
       "      <td>NaN</td>\n",
       "      <td>0</td>\n",
       "    </tr>\n",
       "    <tr>\n",
       "      <th>2</th>\n",
       "      <td>4</td>\n",
       "      <td>ABLI091117170900</td>\n",
       "      <td>N08113</td>\n",
       "      <td>ABLI</td>\n",
       "      <td>SER</td>\n",
       "      <td>1</td>\n",
       "      <td>NY</td>\n",
       "      <td>Tuesday, November 17, 2009</td>\n",
       "      <td>1709.0</td>\n",
       "      <td>NaN</td>\n",
       "      <td>...</td>\n",
       "      <td>NaN</td>\n",
       "      <td>NaN</td>\n",
       "      <td>NaN</td>\n",
       "      <td>NaN</td>\n",
       "      <td>NaN</td>\n",
       "      <td>00:00.0</td>\n",
       "      <td>NaN</td>\n",
       "      <td>NaN</td>\n",
       "      <td>NaN</td>\n",
       "      <td>0</td>\n",
       "    </tr>\n",
       "    <tr>\n",
       "      <th>3</th>\n",
       "      <td>3</td>\n",
       "      <td>ABLI070804175500</td>\n",
       "      <td>5540070013</td>\n",
       "      <td>ABLI</td>\n",
       "      <td>SER</td>\n",
       "      <td>1</td>\n",
       "      <td>KY</td>\n",
       "      <td>Saturday, August 4, 2007</td>\n",
       "      <td>1755.0</td>\n",
       "      <td>0</td>\n",
       "      <td>...</td>\n",
       "      <td>NaN</td>\n",
       "      <td>NaN</td>\n",
       "      <td>NaN</td>\n",
       "      <td>NaN</td>\n",
       "      <td>NaN</td>\n",
       "      <td>NaN</td>\n",
       "      <td>NaN</td>\n",
       "      <td>NaN</td>\n",
       "      <td>NaN</td>\n",
       "      <td>0</td>\n",
       "    </tr>\n",
       "    <tr>\n",
       "      <th>4</th>\n",
       "      <td>2</td>\n",
       "      <td>ABLI070425075000</td>\n",
       "      <td>5540070001</td>\n",
       "      <td>ABLI</td>\n",
       "      <td>SER</td>\n",
       "      <td>1</td>\n",
       "      <td>KY</td>\n",
       "      <td>Wednesday, April 25, 2007</td>\n",
       "      <td>750.0</td>\n",
       "      <td>0</td>\n",
       "      <td>...</td>\n",
       "      <td>NaN</td>\n",
       "      <td>NaN</td>\n",
       "      <td>NaN</td>\n",
       "      <td>NaN</td>\n",
       "      <td>NaN</td>\n",
       "      <td>NaN</td>\n",
       "      <td>NaN</td>\n",
       "      <td>NaN</td>\n",
       "      <td>NaN</td>\n",
       "      <td>0</td>\n",
       "    </tr>\n",
       "  </tbody>\n",
       "</table>\n",
       "<p>5 rows × 58 columns</p>\n",
       "</div>"
      ],
      "text/plain": [
       "  OBJECTID          INCID_NO    CASE_NUM PARK_ALPHA Region  # Crash  \\\n",
       "0        6  ABLI140610163500    14054379       ABLI    SER        1   \n",
       "1        5  ABLI121009110000       12474       ABLI    SER        1   \n",
       "2        4  ABLI091117170900      N08113       ABLI    SER        1   \n",
       "3        3  ABLI070804175500  5540070013       ABLI    SER        1   \n",
       "4        2  ABLI070425075000  5540070001       ABLI    SER        1   \n",
       "\n",
       "  STATE_CODE                  CRASH_DATE  CRASH_TIME RTE_NO  ...  LATITUDE  \\\n",
       "0         KY      Tuesday, June 10, 2014      1635.0    NaN  ...  38.91205   \n",
       "1         KY    Tuesday, October 9, 2012      1100.0    101  ...       NaN   \n",
       "2         NY  Tuesday, November 17, 2009      1709.0    NaN  ...       NaN   \n",
       "3         KY    Saturday, August 4, 2007      1755.0      0  ...       NaN   \n",
       "4         KY   Wednesday, April 25, 2007       750.0      0  ...       NaN   \n",
       "\n",
       "   LONGITUDE  MILEPOST IMPORT_DATE FILE_NAME  SAVE_DATE  ROUTE_IDENT  \\\n",
       "0  -76.93412       0.0         NaN       NaN    00:00.0          NaN   \n",
       "1        NaN       NaN         NaN       NaN    00:00.0          NaN   \n",
       "2        NaN       NaN         NaN       NaN    00:00.0          NaN   \n",
       "3        NaN       NaN         NaN       NaN        NaN          NaN   \n",
       "4        NaN       NaN         NaN       NaN        NaN          NaN   \n",
       "\n",
       "   RIP_CYCLE  MP_NODE  SPTL_LOC  \n",
       "0        NaN      NaN         0  \n",
       "1        NaN      NaN         0  \n",
       "2        NaN      NaN         0  \n",
       "3        NaN      NaN         0  \n",
       "4        NaN      NaN         0  \n",
       "\n",
       "[5 rows x 58 columns]"
      ]
     },
     "execution_count": 4,
     "metadata": {},
     "output_type": "execute_result"
    }
   ],
   "source": [
    "cds_df.head()"
   ]
  },
  {
   "cell_type": "code",
   "execution_count": 5,
   "metadata": {},
   "outputs": [
    {
     "data": {
      "text/html": [
       "<div>\n",
       "<style scoped>\n",
       "    .dataframe tbody tr th:only-of-type {\n",
       "        vertical-align: middle;\n",
       "    }\n",
       "\n",
       "    .dataframe tbody tr th {\n",
       "        vertical-align: top;\n",
       "    }\n",
       "\n",
       "    .dataframe thead th {\n",
       "        text-align: right;\n",
       "    }\n",
       "</style>\n",
       "<table border=\"1\" class=\"dataframe\">\n",
       "  <thead>\n",
       "    <tr style=\"text-align: right;\">\n",
       "      <th></th>\n",
       "      <th>OBJECTID</th>\n",
       "      <th>INCID_NO</th>\n",
       "      <th>UNIT_NO</th>\n",
       "      <th>PASS_SEQ</th>\n",
       "      <th>PASS_SEX</th>\n",
       "      <th>PASS_BELT</th>\n",
       "      <th>PASS_EJECT</th>\n",
       "      <th>PASS_SEAT</th>\n",
       "      <th>PASS_INJ</th>\n",
       "      <th>PASS_AGE</th>\n",
       "    </tr>\n",
       "  </thead>\n",
       "  <tbody>\n",
       "    <tr>\n",
       "      <th>0</th>\n",
       "      <td>5</td>\n",
       "      <td>ABLI121009110000</td>\n",
       "      <td>1</td>\n",
       "      <td>1</td>\n",
       "      <td>1.0</td>\n",
       "      <td>1.0</td>\n",
       "      <td>0.0</td>\n",
       "      <td>3.0</td>\n",
       "      <td>0.0</td>\n",
       "      <td>52.0</td>\n",
       "    </tr>\n",
       "    <tr>\n",
       "      <th>1</th>\n",
       "      <td>6</td>\n",
       "      <td>ACAD000417131000</td>\n",
       "      <td>1</td>\n",
       "      <td>1</td>\n",
       "      <td>2.0</td>\n",
       "      <td>1.0</td>\n",
       "      <td>0.0</td>\n",
       "      <td>3.0</td>\n",
       "      <td>0.0</td>\n",
       "      <td>36.0</td>\n",
       "    </tr>\n",
       "    <tr>\n",
       "      <th>2</th>\n",
       "      <td>7</td>\n",
       "      <td>ACAD000531143000</td>\n",
       "      <td>1</td>\n",
       "      <td>1</td>\n",
       "      <td>2.0</td>\n",
       "      <td>1.0</td>\n",
       "      <td>0.0</td>\n",
       "      <td>3.0</td>\n",
       "      <td>0.0</td>\n",
       "      <td>46.0</td>\n",
       "    </tr>\n",
       "    <tr>\n",
       "      <th>3</th>\n",
       "      <td>8</td>\n",
       "      <td>ACAD000531143000</td>\n",
       "      <td>1</td>\n",
       "      <td>2</td>\n",
       "      <td>2.0</td>\n",
       "      <td>1.0</td>\n",
       "      <td>0.0</td>\n",
       "      <td>4.0</td>\n",
       "      <td>0.0</td>\n",
       "      <td>25.0</td>\n",
       "    </tr>\n",
       "    <tr>\n",
       "      <th>4</th>\n",
       "      <td>9</td>\n",
       "      <td>ACAD000531143000</td>\n",
       "      <td>1</td>\n",
       "      <td>3</td>\n",
       "      <td>1.0</td>\n",
       "      <td>2.0</td>\n",
       "      <td>0.0</td>\n",
       "      <td>6.0</td>\n",
       "      <td>0.0</td>\n",
       "      <td>13.0</td>\n",
       "    </tr>\n",
       "  </tbody>\n",
       "</table>\n",
       "</div>"
      ],
      "text/plain": [
       "   OBJECTID          INCID_NO  UNIT_NO  PASS_SEQ  PASS_SEX  PASS_BELT  \\\n",
       "0         5  ABLI121009110000        1         1       1.0        1.0   \n",
       "1         6  ACAD000417131000        1         1       2.0        1.0   \n",
       "2         7  ACAD000531143000        1         1       2.0        1.0   \n",
       "3         8  ACAD000531143000        1         2       2.0        1.0   \n",
       "4         9  ACAD000531143000        1         3       1.0        2.0   \n",
       "\n",
       "   PASS_EJECT  PASS_SEAT  PASS_INJ  PASS_AGE  \n",
       "0         0.0        3.0       0.0      52.0  \n",
       "1         0.0        3.0       0.0      36.0  \n",
       "2         0.0        3.0       0.0      46.0  \n",
       "3         0.0        4.0       0.0      25.0  \n",
       "4         0.0        6.0       0.0      13.0  "
      ]
     },
     "execution_count": 5,
     "metadata": {},
     "output_type": "execute_result"
    }
   ],
   "source": [
    "cds_df_passengers.head()"
   ]
  },
  {
   "cell_type": "code",
   "execution_count": 6,
   "metadata": {},
   "outputs": [
    {
     "data": {
      "text/plain": [
       "1.0     45460\n",
       "2.0     18223\n",
       "7.0      6603\n",
       "0.0      4824\n",
       "5.0      2422\n",
       "88.0     1985\n",
       "98.0      822\n",
       "99.0      801\n",
       "4.0       703\n",
       "3.0       604\n",
       "10.0       23\n",
       "6.0        15\n",
       "Name: CRASH_CLASS, dtype: int64"
      ]
     },
     "execution_count": 6,
     "metadata": {},
     "output_type": "execute_result"
    }
   ],
   "source": [
    "cds_df.CRASH_CLASS.value_counts()"
   ]
  },
  {
   "cell_type": "code",
   "execution_count": 7,
   "metadata": {},
   "outputs": [],
   "source": [
    "cds_df['Non-Collision']= np.where(cds_df['CRASH_CLASS']==0, 1,0)\n",
    "cds_df['Collision with Other Motor Vehicle']= np.where(cds_df['CRASH_CLASS']==1, 1,0)\n",
    "cds_df['Collision with Fixed Object']= np.where(cds_df['CRASH_CLASS']==2, 1,0)\n",
    "cds_df['Collision with Pedestrian']= np.where(cds_df['CRASH_CLASS']==3, 1,0)\n",
    "cds_df['Collision with Bicycle']= np.where(cds_df['CRASH_CLASS']==4, 1,0)\n",
    "cds_df['Collision with Parked Motor Vehicle']= np.where(cds_df['CRASH_CLASS']==5, 1,0)\n",
    "cds_df['Collision with Railway Train']= np.where(cds_df['CRASH_CLASS']==6, 1,0)\n",
    "cds_df['Collision with Animal']= np.where(cds_df['CRASH_CLASS']==7, 1,0)\n",
    "cds_df['Collision with Other Object']= np.where(cds_df['CRASH_CLASS']==88, 1,0)\n",
    "cds_df['Collision with Unknown']= np.where(cds_df['CRASH_CLASS']==99, 1,0)\n",
    "cds_df['Other Accident Class']= np.where(cds_df['CRASH_CLASS'].isin([0,1,2,3,4,5,6,7,88,99])==False,\n",
    "                                                                                        1,0)\n"
   ]
  },
  {
   "cell_type": "code",
   "execution_count": 8,
   "metadata": {},
   "outputs": [],
   "source": [
    "cds_df_passengers['No Injury']= np.where(cds_df_passengers['PASS_INJ']==0, 1,0)\n",
    "cds_df_passengers['Possible Injury']= np.where(cds_df_passengers['PASS_INJ']==1, 1,0)\n",
    "cds_df_passengers['Non-incapacitating Injury']= np.where(cds_df_passengers['PASS_INJ']==2, 1,0)\n",
    "cds_df_passengers['Incapacitating Injury']= np.where(cds_df_passengers['PASS_INJ']==3, 1,0)\n",
    "cds_df_passengers['Fatality']= np.where(cds_df_passengers['PASS_INJ']==4, 1,0)\n",
    "cds_df_passengers['Unknown Injury']= np.where(cds_df_passengers['PASS_INJ'].isin([98,99]), 1,0)\n",
    "cds_df_passengers['NUM_OCC']=1"
   ]
  },
  {
   "cell_type": "code",
   "execution_count": 9,
   "metadata": {},
   "outputs": [
    {
     "data": {
      "text/plain": [
       "((49359, 17), (83926, 69))"
      ]
     },
     "execution_count": 9,
     "metadata": {},
     "output_type": "execute_result"
    }
   ],
   "source": [
    "cds_df_passengers.shape, cds_df.shape"
   ]
  },
  {
   "cell_type": "markdown",
   "metadata": {},
   "source": [
    "#### Data Quality Issues\n",
    "- "
   ]
  },
  {
   "cell_type": "code",
   "execution_count": 10,
   "metadata": {},
   "outputs": [
    {
     "data": {
      "text/plain": [
       "(712.0, 103)"
      ]
     },
     "execution_count": 10,
     "metadata": {},
     "output_type": "execute_result"
    }
   ],
   "source": [
    "cds_df['FATALS'].sum(), cds_df_passengers['Fatality'].sum()"
   ]
  },
  {
   "cell_type": "code",
   "execution_count": 11,
   "metadata": {},
   "outputs": [],
   "source": [
    "cds_df_passengers_slim = cds_df_passengers[['INCID_NO', 'No Injury',\n",
    "       'Possible Injury', 'Non-incapacitating Injury', 'Incapacitating Injury',\n",
    "       'Fatality', 'Unknown Injury', 'NUM_OCC']]"
   ]
  },
  {
   "cell_type": "code",
   "execution_count": 12,
   "metadata": {},
   "outputs": [],
   "source": [
    "cds_df_passengers_agg = cds_df_passengers_slim.groupby(by=['INCID_NO']).sum()\n",
    "cds_df_passengers_agg = cds_df_passengers_agg.reset_index()"
   ]
  },
  {
   "cell_type": "code",
   "execution_count": 13,
   "metadata": {},
   "outputs": [
    {
     "data": {
      "text/plain": [
       "((26734, 8), (49359, 17), (83926, 69))"
      ]
     },
     "execution_count": 13,
     "metadata": {},
     "output_type": "execute_result"
    }
   ],
   "source": [
    "cds_df_passengers_agg.shape, cds_df_passengers.shape, cds_df.shape"
   ]
  },
  {
   "cell_type": "code",
   "execution_count": 14,
   "metadata": {},
   "outputs": [],
   "source": [
    "cds_df_join = cds_df.merge(cds_df_passengers_agg, on = 'INCID_NO',how='left',indicator = True)"
   ]
  },
  {
   "cell_type": "code",
   "execution_count": 15,
   "metadata": {},
   "outputs": [
    {
     "data": {
      "text/plain": [
       "left_only     57192\n",
       "both          26734\n",
       "right_only        0\n",
       "Name: _merge, dtype: int64"
      ]
     },
     "execution_count": 15,
     "metadata": {},
     "output_type": "execute_result"
    }
   ],
   "source": [
    "cds_df_join._merge.value_counts()"
   ]
  },
  {
   "cell_type": "code",
   "execution_count": 16,
   "metadata": {},
   "outputs": [
    {
     "data": {
      "text/plain": [
       "0.31854252555822987"
      ]
     },
     "execution_count": 16,
     "metadata": {},
     "output_type": "execute_result"
    }
   ],
   "source": [
    "26734/83926"
   ]
  },
  {
   "cell_type": "code",
   "execution_count": 17,
   "metadata": {},
   "outputs": [],
   "source": [
    "cds_df_join = cds_df_join.rename(columns={\"CASE_NUM\": \"CASENUM\", \n",
    "                                      \"STATE_CODE\": \"STATE\"})\n"
   ]
  },
  {
   "cell_type": "code",
   "execution_count": 18,
   "metadata": {},
   "outputs": [],
   "source": [
    "cds_df_join['CRASH_DATE2'] = cds_df_join['CRASH_DATE']\n",
    "cds_df_join['CRASH_DATE'] = pd.to_datetime( cds_df_join['CRASH_DATE'], \n",
    "                                            format = '%A, %B %d, %Y')"
   ]
  },
  {
   "cell_type": "code",
   "execution_count": 20,
   "metadata": {},
   "outputs": [],
   "source": [
    "cds_df_join = cds_df_join[['INCID_NO', 'CASENUM', 'NUM_OCC', 'Non-Collision',\n",
    "       'Collision with Other Motor Vehicle', 'Collision with Fixed Object',\n",
    "       'Collision with Pedestrian', 'Collision with Bicycle',\n",
    "       'Collision with Parked Motor Vehicle', 'Collision with Railway Train',\n",
    "       'Collision with Animal', 'Collision with Other Object',\n",
    "       'Collision with Unknown', 'Other Accident Class', 'No Injury',\n",
    "       'Possible Injury', 'Non-incapacitating Injury', 'Incapacitating Injury',\n",
    "       'Fatality', 'Unknown Injury', 'PARK_ALPHA', 'STATE', 'CRASH_DATE',\n",
    "       'CRASH_TIME', 'LATITUDE', 'LONGITUDE', 'FATALS', 'INJURED']]"
   ]
  },
  {
   "cell_type": "code",
   "execution_count": 21,
   "metadata": {},
   "outputs": [
    {
     "data": {
      "text/plain": [
       "((83926, 69), (83926, 28))"
      ]
     },
     "execution_count": 21,
     "metadata": {},
     "output_type": "execute_result"
    }
   ],
   "source": [
    "cds_df.shape, cds_df_join.shape"
   ]
  },
  {
   "cell_type": "code",
   "execution_count": 22,
   "metadata": {},
   "outputs": [],
   "source": [
    "cds_df_join.to_csv(\"crash_data_CDS_clean.csv\", index=False)"
   ]
  }
 ],
 "metadata": {
  "kernelspec": {
   "display_name": "myenv",
   "language": "python",
   "name": "myenv"
  },
  "language_info": {
   "codemirror_mode": {
    "name": "ipython",
    "version": 3
   },
   "file_extension": ".py",
   "mimetype": "text/x-python",
   "name": "python",
   "nbconvert_exporter": "python",
   "pygments_lexer": "ipython3",
   "version": "3.7.3"
  }
 },
 "nbformat": 4,
 "nbformat_minor": 2
}
