{
 "cells": [
  {
   "cell_type": "markdown",
   "id": "b9fe63a5",
   "metadata": {},
   "source": [
    "## Crash Data VRU and Work Zone Exploration Jupyter Notebook\n",
    "\n",
    "**Author:** Sophie Kaye\n",
    "\n",
    "**Date:** 7/12/22\n",
    "\n",
    "**Purpose:** This notebook will assess data quality of existing data pertaining to crashes involving to Vulnerable Road Users (pedestrians and cyclists) and Work Zones"
   ]
  },
  {
   "cell_type": "code",
   "execution_count": 1,
   "id": "0eea9677",
   "metadata": {},
   "outputs": [],
   "source": [
    "import pandas as pd\n",
    "import numpy as np\n",
    "import os"
   ]
  },
  {
   "cell_type": "code",
   "execution_count": 2,
   "id": "1dcd93e3",
   "metadata": {},
   "outputs": [
    {
     "name": "stdout",
     "output_type": "stream",
     "text": [
      "crash_data_IMARS_clean.csv\n",
      "IMARS_crash.csv\n",
      "IMARS_crash_details.csv\n",
      "IMARS_noparks_nocoords_someinfo.csv\n",
      "IMARS_passenger.csv\n",
      "IMARS_vehicle.csv\n",
      "test.csv\n"
     ]
    }
   ],
   "source": [
    "myworkingdirectory = r\"C:\\Users\\Sophie.Kaye\\Desktop\\NPS Safety\\Data Cleaning\"\n",
    "files = os.listdir(myworkingdirectory)\n",
    "for f in files:\n",
    "    print(f)"
   ]
  },
  {
   "cell_type": "code",
   "execution_count": 3,
   "id": "aa6bc487",
   "metadata": {},
   "outputs": [],
   "source": [
    "os.chdir(myworkingdirectory)"
   ]
  },
  {
   "cell_type": "code",
   "execution_count": 4,
   "id": "0d5e59bd",
   "metadata": {},
   "outputs": [],
   "source": [
    "imars_crash = pd.read_csv(\"IMARS_crash.csv\")\n",
    "imars_crash_details = pd.read_csv(\"IMARS_crash_details.csv\")\n",
    "imars_passenger = pd.read_csv(\"IMARS_passenger.csv\")\n",
    "imars_vehicle = pd.read_csv(\"IMARS_vehicle.csv\")"
   ]
  },
  {
   "cell_type": "code",
   "execution_count": 6,
   "id": "4a863ba0",
   "metadata": {},
   "outputs": [
    {
     "data": {
      "text/plain": [
       "Index(['IMARS_Record_No', 'Crash_Date_Time', 'Driver_Action',\n",
       "       'Driver_Condition', 'Driver_Distraction', 'Suspect_Alcohol',\n",
       "       'Alcohol_Test', 'Alcohol_Test_Result_1', 'Alcohol_Test_Result_2',\n",
       "       'Suspect_Drugs', 'Drug_Test', 'Violations_Issued', 'Seat_Position',\n",
       "       'Injury_Severity', 'Air_Bag_Deployed', 'Ejection',\n",
       "       'Injury_Transported_By', 'Safety_Equipment_Used', 'Vehicle_number',\n",
       "       'Injured_transported_by', 'Non_motorist_safety_equipment',\n",
       "       'Non_motorist_action_circumstance_prior_to_crash',\n",
       "       'Non_motorist_action_circumstance_at_time_of_crash',\n",
       "       'Non_motorist_condition_at_time_of_crash', 'Non_motorist_distraction',\n",
       "       'Non_motorist_location_at_time_of_crash', 'Pedestrian_Type',\n",
       "       'Pedestrian_Type_Detail', 'Involvement', 'NUM_OCC', 'INCID_NO',\n",
       "       'Latitude', 'Longitude', 'Park', 'CRASH_DATE', 'CRASH_TIME',\n",
       "       'CRASH_YEAR'],\n",
       "      dtype='object')"
      ]
     },
     "execution_count": 6,
     "metadata": {},
     "output_type": "execute_result"
    }
   ],
   "source": [
    "imars_passenger.columns"
   ]
  },
  {
   "cell_type": "code",
   "execution_count": 7,
   "id": "483c0b30",
   "metadata": {},
   "outputs": [
    {
     "data": {
      "text/plain": [
       "Index(['IMARS_Record_No', 'Crash_Date_Time', 'Linked_Address_Classification',\n",
       "       'City_Town_Park_Location', 'State', 'County', 'Direction',\n",
       "       'Linked_Street_Number', 'Linked_Common_Name', 'Street_Type',\n",
       "       'Direction.1', 'NEAR_Distance_to_MI', 'NEAR_Direction_To',\n",
       "       'NEAR_Direction', 'NEAR_route_street_road_name', 'NEAR_Road_Type',\n",
       "       'NEAR_Direction.1', 'AT_Intersection_route_street_road_DIRECTION',\n",
       "       'At_Intersecting_route_street_road_name', 'AT_Road_Type',\n",
       "       'AT_Direction', 'Mile_Marker', 'Latitude', 'Longitude', 'Region',\n",
       "       'State_Zone', 'Park', 'Site', 'Place', 'Point',\n",
       "       'Road_Type_Classification', 'Linked_Address', 'index_right', 'OBJECTID',\n",
       "       'UNIT_CODE', 'GIS_Notes', 'UNIT_NAME', 'DATE_EDIT', 'STATE', 'REGION',\n",
       "       'GNIS_ID', 'UNIT_TYPE', 'CREATED_BY', 'METADATA', 'PARKNAME',\n",
       "       'CreationDate', 'Creator', 'EditDate', 'Editor', 'GlobalID',\n",
       "       'Shape__Area', 'Shape__Length', 'CRASH_DATE', 'CRASH_TIME',\n",
       "       'CRASH_YEAR'],\n",
       "      dtype='object')"
      ]
     },
     "execution_count": 7,
     "metadata": {},
     "output_type": "execute_result"
    }
   ],
   "source": [
    "imars_crash.columns"
   ]
  },
  {
   "cell_type": "code",
   "execution_count": 8,
   "id": "3250799e",
   "metadata": {},
   "outputs": [
    {
     "data": {
      "text/plain": [
       "Index(['IMARS_Record_No', 'Crash_Date_Time', 'Number_of_Vehicles_Involved',\n",
       "       'Injury_or_Fatal_Crash', 'Investigated_at_Scene', 'Hit_and_Run',\n",
       "       'Non_Motor_Vehicl_Property_Damage', 'Amount_of_Property_Damage',\n",
       "       'First_Harmful_Event_Type', 'First_Harmful_Event',\n",
       "       'Location_of_First_Harmful_Event', 'Weather', 'Roadway_Condition',\n",
       "       'Lighting', 'School_Bus_related', 'AS_Road_Circumstance',\n",
       "       'Environmental_Contributing_Circumstances', 'Work_Zone_Related',\n",
       "       'Work_Zone_Workers_Present', 'Work_Zone_Location',\n",
       "       'Law_Enforcement_Present_at_Work_Zone', 'Relation_to_Junction',\n",
       "       'Type_of_Intersection', 'Manner_of_Collision', 'INCID_NO', 'Latitude',\n",
       "       'Longitude', 'Park', 'CRASH_DATE', 'CRASH_TIME', 'CRASH_YEAR'],\n",
       "      dtype='object')"
      ]
     },
     "execution_count": 8,
     "metadata": {},
     "output_type": "execute_result"
    }
   ],
   "source": [
    "imars_crash_details.columns"
   ]
  },
  {
   "cell_type": "code",
   "execution_count": 9,
   "id": "71cac1a0",
   "metadata": {},
   "outputs": [
    {
     "data": {
      "text/plain": [
       "Index(['IMARS_Record_No', 'Crash_Date_Time', 'Vehicle_Number',\n",
       "       'Number_of_Occupants', 'Vehicle_Towed', 'Insurance_verified',\n",
       "       'Initial_Impact_Point', 'Most_Damaged_Area', 'Extent_of_Damage',\n",
       "       'Direction_of_Travel_Prior_to_Crash', 'Posted_Speed',\n",
       "       'First_Event_Type', 'First_Event', 'Second_Event_Type', 'Second_Event',\n",
       "       'Third_Event_Type', 'Third_Event', 'Fourth_Event_Type', 'Fourth_Event',\n",
       "       'Motor_Vehicle_Unit_Type', 'Vehicle_Owner', 'Vehicle_Type',\n",
       "       'Non_Commercial_Trailer_Style', 'Emergency_Vehicle_Use',\n",
       "       'Emergency_Equipment_Activated', 'Special_Function_of_MV_in_Transport',\n",
       "       'Motor_Vehicle_Contributing_Circumstance',\n",
       "       'Vehicle_Maneuver_Action_Prior_to_Crash', 'Road_Surface', 'Grade',\n",
       "       'Roadway_Alignment', 'Total_Number_of_Lanes', 'Traffic_Control',\n",
       "       'Traffic_Control_Working_Properly', 'Roadway_Description',\n",
       "       'Commercial_Non_Commercial', 'Number_of_Axles', 'Gross_Vehicle_Weight',\n",
       "       'Combination_GVW', 'Commercial_Cargo_Body_Type', 'Commercial_Cargo',\n",
       "       'Commercial_MV_Configuration', 'Identification_Number_Type',\n",
       "       'Hazmat_1_Class', 'Hazmat_1_ID', 'Hazmat_2_Class', 'Hazmat_2_ID',\n",
       "       'Hazmat_3_Class', 'Hazmat_3_ID', 'Hazmat_4_Class', 'Hazmat_4_ID',\n",
       "       'Latitude', 'Longitude', 'Park', 'CRASH_DATE', 'CRASH_TIME',\n",
       "       'CRASH_YEAR'],\n",
       "      dtype='object')"
      ]
     },
     "execution_count": 9,
     "metadata": {},
     "output_type": "execute_result"
    }
   ],
   "source": [
    "imars_vehicle.columns"
   ]
  },
  {
   "cell_type": "code",
   "execution_count": 10,
   "id": "ea5624d6",
   "metadata": {},
   "outputs": [
    {
     "data": {
      "text/plain": [
       "00. Not applicable                                                         313\n",
       "01. Overturn/rollover                                                      201\n",
       "02. Fire/explosion                                                          13\n",
       "03. Immersion                                                               11\n",
       "04. Jackknife                                                               10\n",
       "05. Cargo/equipment loss or shift                                           22\n",
       "06. Separation of units                                                     13\n",
       "07. Ran off the road right                                                1084\n",
       "08. Ran Off the road left                                                  355\n",
       "09. Cross median or centerline                                             229\n",
       "10. Downhill runaway                                                        20\n",
       "11. Fell/jumped from motor vehicle                                          26\n",
       "12. Avoiding an object on road                                             126\n",
       "13. Avoiding an animal on road                                             135\n",
       "14. Thrown or falling object                                                57\n",
       "16. Other non-collision                                                    597\n",
       "17. Pedestrian                                                              70\n",
       "18. Bicycle                                                                118\n",
       "19. Other pedacycle                                                          5\n",
       "20. Railway vehicle                                                          6\n",
       "21. Motor vehicle in transport                                           10202\n",
       "22. Parked motor vehicle                                                  1903\n",
       "23. Struck by falling, shifting cargo or anything set in motion by MV       59\n",
       "24. Work zone/maintenance equipment                                         37\n",
       "25. Other non-fixed object                                                 458\n",
       "26. Horse/llama                                                             15\n",
       "27. Cow                                                                      4\n",
       "28. Deer                                                                   883\n",
       "29. Elk                                                                    109\n",
       "30. Moose                                                                   14\n",
       "31. Bison                                                                  151\n",
       "32. Bear                                                                   100\n",
       "33. Antelope                                                                10\n",
       "34. Sheep/goats                                                             13\n",
       "36. Other wild animal (crocodile, birds, coyote, etc.)                      33\n",
       "37. Other domestic (dog, cat, etc.)                                          4\n",
       "38. Impact attenuator/crash cushion                                         15\n",
       "39. Bridge overhead structure                                               22\n",
       "40. Bridge pier or support                                                   7\n",
       "41. Bridge rail                                                             33\n",
       "42. Cable barrier                                                            2\n",
       "43. End of drainage pipe/structure/culvert                                  30\n",
       "44. Median/curb                                                            154\n",
       "45. Ditch                                                                  181\n",
       "46. Earth embankment/berm                                                  251\n",
       "47. Guardrail/cable face                                                    60\n",
       "48. Guardrail/cable end                                                     16\n",
       "49. Guardrail/concrete traffic barrier                                     129\n",
       "50. Wall                                                                   122\n",
       "51. Other traffic barrier/barricade                                        152\n",
       "52. Tree/shrub                                                             920\n",
       "53. Utility pole/light support                                              50\n",
       "54. Traffic sign support                                                   115\n",
       "55. Traffic signal support                                                   6\n",
       "56. Overhead traffic sign                                                    1\n",
       "57. Fence (including post)                                                  76\n",
       "58. Mailbox                                                                  1\n",
       "59. Building                                                                83\n",
       "60. Rock, boulder, rock slide                                              270\n",
       "61. Tunnel                                                                  23\n",
       "62. Snow embankment                                                         37\n",
       "64. Delineator                                                              11\n",
       "65. Other post, pole or support                                            170\n",
       "66. Other fixed object                                                     253\n",
       "99. Unknown                                                                667\n",
       "Name: First_Event, dtype: int64"
      ]
     },
     "execution_count": 10,
     "metadata": {},
     "output_type": "execute_result"
    }
   ],
   "source": [
    "pd.options.display.max_rows = 10000000\n",
    "imars_vehicle.First_Event.value_counts().sort_index()"
   ]
  },
  {
   "cell_type": "code",
   "execution_count": 14,
   "id": "c43b5776",
   "metadata": {},
   "outputs": [
    {
     "data": {
      "text/plain": [
       "00. Not applicable                                                       10369\n",
       "01. Overturn/rollover                                                      276\n",
       "02. Fire/explosion                                                           9\n",
       "03. Immersion                                                                1\n",
       "04. Jackknife                                                                4\n",
       "05. Cargo/equipment loss or shift                                            5\n",
       "06. Separation of units                                                     82\n",
       "07. Ran off the road right                                                 203\n",
       "08. Ran Off the road left                                                  152\n",
       "09. Cross median or centerline                                             106\n",
       "10. Downhill runaway                                                        21\n",
       "11. Fell/jumped from motor vehicle                                          56\n",
       "12. Avoiding an object on road                                               6\n",
       "13. Avoiding an animal on road                                               4\n",
       "16. Other non-collision                                                    324\n",
       "17. Pedestrian                                                              24\n",
       "18. Bicycle                                                                  7\n",
       "19. Other pedacycle                                                          3\n",
       "21. Motor vehicle in transport                                             989\n",
       "22. Parked motor vehicle                                                   161\n",
       "23. Struck by falling, shifting cargo or anything set in motion by MV       18\n",
       "24. Work zone/maintenance equipment                                          3\n",
       "25. Other non-fixed object                                                  74\n",
       "26. Horse/llama                                                              1\n",
       "27. Cow                                                                      1\n",
       "28. Deer                                                                    10\n",
       "29. Elk                                                                      2\n",
       "31. Bison                                                                   11\n",
       "32. Bear                                                                     1\n",
       "38. Impact attenuator/crash cushion                                          2\n",
       "39. Bridge overhead structure                                                2\n",
       "40. Bridge pier or support                                                   4\n",
       "41. Bridge rail                                                             12\n",
       "42. Cable barrier                                                            1\n",
       "43. End of drainage pipe/structure/culvert                                  37\n",
       "44. Median/curb                                                             75\n",
       "45. Ditch                                                                  173\n",
       "46. Earth embankment/berm                                                  249\n",
       "47. Guardrail/cable face                                                    40\n",
       "48. Guardrail/cable end                                                     14\n",
       "49. Guardrail/concrete traffic barrier                                      88\n",
       "50. Wall                                                                    89\n",
       "51. Other traffic barrier/barricade                                         52\n",
       "52. Tree/shrub                                                             746\n",
       "53. Utility pole/light support                                              21\n",
       "54. Traffic sign support                                                    78\n",
       "55. Traffic signal support                                                   2\n",
       "57. Fence (including post)                                                  29\n",
       "59. Building                                                                 6\n",
       "60. Rock, boulder, rock slide                                              168\n",
       "61. Tunnel                                                                  11\n",
       "62. Snow embankment                                                         23\n",
       "64. Delineator                                                               3\n",
       "65. Other post, pole or support                                             47\n",
       "66. Other fixed object                                                     121\n",
       "99. Unknown                                                               4064\n",
       "Name: Second_Event, dtype: int64"
      ]
     },
     "execution_count": 14,
     "metadata": {},
     "output_type": "execute_result"
    }
   ],
   "source": [
    "imars_vehicle.Second_Event.value_counts().sort_index()"
   ]
  },
  {
   "cell_type": "code",
   "execution_count": 12,
   "id": "28eea854",
   "metadata": {},
   "outputs": [
    {
     "data": {
      "text/plain": [
       "00. Not applicable                                                       12366\n",
       "01. Overturn/rollover                                                      179\n",
       "02. Fire/explosion                                                           7\n",
       "03. Immersion                                                                2\n",
       "04. Jackknife                                                                1\n",
       "05. Cargo/equipment loss or shift                                            7\n",
       "06. Separation of units                                                     10\n",
       "07. Ran off the road right                                                  43\n",
       "08. Ran Off the road left                                                   72\n",
       "09. Cross median or centerline                                              17\n",
       "10. Downhill runaway                                                         7\n",
       "11. Fell/jumped from motor vehicle                                          18\n",
       "12. Avoiding an object on road                                               2\n",
       "13. Avoiding an animal on road                                               1\n",
       "14. Thrown or falling object                                                 1\n",
       "16. Other non-collision                                                    275\n",
       "17. Pedestrian                                                               4\n",
       "19. Other pedacycle                                                          1\n",
       "21. Motor vehicle in transport                                             240\n",
       "22. Parked motor vehicle                                                    45\n",
       "23. Struck by falling, shifting cargo or anything set in motion by MV        4\n",
       "25. Other non-fixed object                                                  15\n",
       "26. Horse/llama                                                              1\n",
       "28. Deer                                                                     3\n",
       "29. Elk                                                                      1\n",
       "31. Bison                                                                    2\n",
       "32. Bear                                                                     1\n",
       "40. Bridge pier or support                                                   1\n",
       "41. Bridge rail                                                              5\n",
       "43. End of drainage pipe/structure/culvert                                  10\n",
       "44. Median/curb                                                             14\n",
       "45. Ditch                                                                   61\n",
       "46. Earth embankment/berm                                                  122\n",
       "47. Guardrail/cable face                                                    15\n",
       "48. Guardrail/cable end                                                      4\n",
       "49. Guardrail/concrete traffic barrier                                      16\n",
       "50. Wall                                                                    26\n",
       "51. Other traffic barrier/barricade                                         15\n",
       "52. Tree/shrub                                                             375\n",
       "53. Utility pole/light support                                               3\n",
       "54. Traffic sign support                                                    20\n",
       "57. Fence (including post)                                                  11\n",
       "59. Building                                                                 5\n",
       "60. Rock, boulder, rock slide                                               78\n",
       "61. Tunnel                                                                   5\n",
       "62. Snow embankment                                                          6\n",
       "64. Delineator                                                               2\n",
       "65. Other post, pole or support                                              9\n",
       "66. Other fixed object                                                      34\n",
       "99. Unknown                                                               4703\n",
       "Name: Third_Event, dtype: int64"
      ]
     },
     "execution_count": 12,
     "metadata": {},
     "output_type": "execute_result"
    }
   ],
   "source": [
    "imars_vehicle.Third_Event.value_counts().sort_index()"
   ]
  },
  {
   "cell_type": "code",
   "execution_count": 13,
   "id": "f16041bb",
   "metadata": {},
   "outputs": [
    {
     "data": {
      "text/plain": [
       "00. Not applicable                                                       13026\n",
       "01. Overturn/rollover                                                       80\n",
       "02. Fire/explosion                                                           6\n",
       "05. Cargo/equipment loss or shift                                            4\n",
       "06. Separation of units                                                     10\n",
       "07. Ran off the road right                                                   9\n",
       "08. Ran Off the road left                                                    5\n",
       "09. Cross median or centerline                                               4\n",
       "10. Downhill runaway                                                         3\n",
       "11. Fell/jumped from motor vehicle                                           9\n",
       "13. Avoiding an animal on road                                              13\n",
       "16. Other non-collision                                                    242\n",
       "17. Pedestrian                                                               2\n",
       "19. Other pedacycle                                                          1\n",
       "21. Motor vehicle in transport                                             128\n",
       "22. Parked motor vehicle                                                    17\n",
       "23. Struck by falling, shifting cargo or anything set in motion by MV        2\n",
       "25. Other non-fixed object                                                   7\n",
       "26. Horse/llama                                                              1\n",
       "28. Deer                                                                     3\n",
       "29. Elk                                                                      1\n",
       "31. Bison                                                                    2\n",
       "32. Bear                                                                     1\n",
       "39. Bridge overhead structure                                                1\n",
       "41. Bridge rail                                                              2\n",
       "43. End of drainage pipe/structure/culvert                                   1\n",
       "44. Median/curb                                                              3\n",
       "45. Ditch                                                                   16\n",
       "46. Earth embankment/berm                                                   44\n",
       "47. Guardrail/cable face                                                     4\n",
       "49. Guardrail/concrete traffic barrier                                       5\n",
       "50. Wall                                                                     6\n",
       "51. Other traffic barrier/barricade                                          6\n",
       "52. Tree/shrub                                                             146\n",
       "53. Utility pole/light support                                               2\n",
       "54. Traffic sign support                                                     7\n",
       "57. Fence (including post)                                                   2\n",
       "59. Building                                                                 1\n",
       "60. Rock, boulder, rock slide                                               22\n",
       "61. Tunnel                                                                   2\n",
       "62. Snow embankment                                                          1\n",
       "65. Other post, pole or support                                              3\n",
       "66. Other fixed object                                                      14\n",
       "99. Unknown                                                               4925\n",
       "Name: Fourth_Event, dtype: int64"
      ]
     },
     "execution_count": 13,
     "metadata": {},
     "output_type": "execute_result"
    }
   ],
   "source": [
    "imars_vehicle.Fourth_Event.value_counts().sort_index()"
   ]
  },
  {
   "cell_type": "code",
   "execution_count": 15,
   "id": "17b9e4bf",
   "metadata": {},
   "outputs": [
    {
     "data": {
      "text/plain": [
       "100"
      ]
     },
     "execution_count": 15,
     "metadata": {},
     "output_type": "execute_result"
    }
   ],
   "source": [
    "# total vehicle records in which \"17. Pedestrian\" was listed as at least one of four events:\n",
    "70+24+4+2"
   ]
  },
  {
   "cell_type": "code",
   "execution_count": 16,
   "id": "59fdb8be",
   "metadata": {},
   "outputs": [
    {
     "data": {
      "text/plain": [
       "125"
      ]
     },
     "execution_count": 16,
     "metadata": {},
     "output_type": "execute_result"
    }
   ],
   "source": [
    "# total vehicle records in which \"18. Bicycle\" was listed as at least one of four events:\n",
    "118+7+0+0"
   ]
  },
  {
   "cell_type": "code",
   "execution_count": 17,
   "id": "c92a1203",
   "metadata": {},
   "outputs": [
    {
     "data": {
      "text/plain": [
       "10"
      ]
     },
     "execution_count": 17,
     "metadata": {},
     "output_type": "execute_result"
    }
   ],
   "source": [
    "# total vehicle records in which \"19. Other pedacycle\" was listed as at least one of four events:\n",
    "5+3+1+1"
   ]
  },
  {
   "cell_type": "code",
   "execution_count": 18,
   "id": "38db131d",
   "metadata": {},
   "outputs": [
    {
     "data": {
      "text/plain": [
       "(2305, 57)"
      ]
     },
     "execution_count": 18,
     "metadata": {},
     "output_type": "execute_result"
    }
   ],
   "source": [
    "no_Event1 = imars_vehicle.loc[imars_vehicle['First_Event'].isnull()==True]\n",
    "no_Event1_2 = no_Event1.loc[no_Event1['Second_Event'].isnull()==True]\n",
    "no_Event1_3 = no_Event1_2.loc[no_Event1_2['Third_Event'].isnull()==True]\n",
    "no_Event_any = no_Event1_3.loc[no_Event1_3['Fourth_Event'].isnull()==True]\n",
    "no_Event_any.shape"
   ]
  },
  {
   "cell_type": "code",
   "execution_count": 27,
   "id": "1a6cc7d0",
   "metadata": {},
   "outputs": [
    {
     "data": {
      "text/plain": [
       "(23576, 57)"
      ]
     },
     "execution_count": 27,
     "metadata": {},
     "output_type": "execute_result"
    }
   ],
   "source": [
    "imars_vehicle.shape"
   ]
  },
  {
   "cell_type": "code",
   "execution_count": 19,
   "id": "1b4b6ce2",
   "metadata": {},
   "outputs": [
    {
     "data": {
      "text/plain": [
       "9.8"
      ]
     },
     "execution_count": 19,
     "metadata": {},
     "output_type": "execute_result"
    }
   ],
   "source": [
    "#the percentage of vehicle records with no \"Events\" whatsoever\n",
    "round(2305/23576,3)*100"
   ]
  },
  {
   "cell_type": "code",
   "execution_count": 20,
   "id": "cfbeff7b",
   "metadata": {},
   "outputs": [
    {
     "data": {
      "text/plain": [
       "01. None                                      12723\n",
       "02. Stop sign                                   926\n",
       "03. Yield sign                                  232\n",
       "04. Flashing traffic signal                      28\n",
       "05. Traffic signal                              790\n",
       "06. Pedestrian crossing                         155\n",
       "07. Person (ofc/flagger, xing guard, etc.)       91\n",
       "08. No passing zone                            1246\n",
       "09. Warning signs                               253\n",
       "10. Temporary traffic control                   135\n",
       "12. RR crossing device/signal                     5\n",
       "13. Other                                       527\n",
       "99. Unknown                                    1198\n",
       "Name: Traffic_Control, dtype: int64"
      ]
     },
     "execution_count": 20,
     "metadata": {},
     "output_type": "execute_result"
    }
   ],
   "source": [
    "imars_vehicle.Traffic_Control.value_counts().sort_index()"
   ]
  },
  {
   "cell_type": "code",
   "execution_count": 21,
   "id": "4aa9b0fa",
   "metadata": {},
   "outputs": [],
   "source": [
    "# 155 vehicle records that took place at pedestrian crossings"
   ]
  },
  {
   "cell_type": "code",
   "execution_count": 22,
   "id": "36ecc70d",
   "metadata": {},
   "outputs": [
    {
     "data": {
      "text/plain": [
       "(5267, 57)"
      ]
     },
     "execution_count": 22,
     "metadata": {},
     "output_type": "execute_result"
    }
   ],
   "source": [
    "imars_vehicle.loc[imars_vehicle['Traffic_Control'].isnull()==True].shape"
   ]
  },
  {
   "cell_type": "code",
   "execution_count": 23,
   "id": "18ca535f",
   "metadata": {},
   "outputs": [
    {
     "data": {
      "text/plain": [
       "22.3"
      ]
     },
     "execution_count": 23,
     "metadata": {},
     "output_type": "execute_result"
    }
   ],
   "source": [
    "#the percentage of vehicle records with no \"Traffic_Control\" entry\n",
    "round(5267/23576,3)*100"
   ]
  },
  {
   "cell_type": "code",
   "execution_count": 24,
   "id": "4ed76183",
   "metadata": {},
   "outputs": [
    {
     "data": {
      "text/plain": [
       "01. Pedestrian                             40\n",
       "02. Bicyclist                              65\n",
       "03. Other pedalcyclist                      1\n",
       "04. Equestrian/other rider                  2\n",
       "05. Other pedestrian (wheelchair, etc.)     7\n",
       "99. Unknown                                45\n",
       "Name: Pedestrian_Type_Detail, dtype: int64"
      ]
     },
     "execution_count": 24,
     "metadata": {},
     "output_type": "execute_result"
    }
   ],
   "source": [
    "imars_passenger.Pedestrian_Type_Detail.value_counts().sort_index()"
   ]
  },
  {
   "cell_type": "code",
   "execution_count": 26,
   "id": "1e38cf7c",
   "metadata": {},
   "outputs": [
    {
     "data": {
      "text/plain": [
       "(27771, 37)"
      ]
     },
     "execution_count": 26,
     "metadata": {},
     "output_type": "execute_result"
    }
   ],
   "source": [
    "imars_passenger.loc[imars_passenger['Pedestrian_Type_Detail'].isnull()==True].shape"
   ]
  },
  {
   "cell_type": "code",
   "execution_count": 28,
   "id": "7a7a0a63",
   "metadata": {},
   "outputs": [
    {
     "data": {
      "text/plain": [
       "(27931, 37)"
      ]
     },
     "execution_count": 28,
     "metadata": {},
     "output_type": "execute_result"
    }
   ],
   "source": [
    "imars_passenger.shape"
   ]
  },
  {
   "cell_type": "code",
   "execution_count": 29,
   "id": "3bb2ab7e",
   "metadata": {},
   "outputs": [
    {
     "data": {
      "text/plain": [
       "99.4"
      ]
     },
     "execution_count": 29,
     "metadata": {},
     "output_type": "execute_result"
    }
   ],
   "source": [
    "#the percentage of passenger records with no \"Pedestrian Type Detail\" entry\n",
    "round(27771/27931,3)*100"
   ]
  },
  {
   "cell_type": "code",
   "execution_count": 30,
   "id": "5feafec8",
   "metadata": {},
   "outputs": [
    {
     "data": {
      "text/plain": [
       "01. No contributing action                                                                                                                                                                  4857\n",
       "01. No contributing action; 02. Ran off roadway                                                                                                                                                5\n",
       "01. No contributing action; 03. Failed to yield to right-of-way                                                                                                                                2\n",
       "01. No contributing action; 08. Exceeded posted speed limit; 09. Drove too fast for conditions                                                                                                 1\n",
       "01. No contributing action; 09. Drove too fast for conditions                                                                                                                                  2\n",
       "01. No contributing action; 09. Drove too fast for conditions; 17. Followed too closely                                                                                                        1\n",
       "01. No contributing action; 13. Improper parking location                                                                                                                                      1\n",
       "01. No contributing action; 15. Driver distraction                                                                                                                                             1\n",
       "01. No contributing action; 17. Followed too closely                                                                                                                                           2\n",
       "01. No contributing action; 17. Followed too closely; 19. Erratic/reckless/careless/negligent/aggressive manner/unsafe operation                                                               1\n",
       "01. No contributing action; 21. Avoiding animal                                                                                                                                                2\n",
       "01. No contributing action; 23. Avoiding motor vehicle                                                                                                                                        10\n",
       "01. No contributing action; 23. Avoiding motor vehicle; 98. Other                                                                                                                              1\n",
       "01. No contributing action; 24. Over-correcting/over-steering                                                                                                                                  1\n",
       "01. No contributing action; 98. Other                                                                                                                                                         17\n",
       "01. No contributing action; 98. Other; 99. Unknown                                                                                                                                             4\n",
       "01. No contributing action; 99. Unknown                                                                                                                                                       17\n",
       "02. Ran off roadway                                                                                                                                                                          794\n",
       "02. Ran off roadway; 03. Failed to yield to right-of-way                                                                                                                                       3\n",
       "02. Ran off roadway; 03. Failed to yield to right-of-way; 08. Exceeded posted speed limit; 09. Drove too fast for conditions                                                                   1\n",
       "02. Ran off roadway; 03. Failed to yield to right-of-way; 10. Improper turn; 16. Wrong side/wrong way                                                                                          1\n",
       "02. Ran off roadway; 05. Ran stop sign                                                                                                                                                         4\n",
       "02. Ran off roadway; 05. Ran stop sign; 06. Disregarded other traffic sign; 07. Disregarded other road markings                                                                                1\n",
       "02. Ran off roadway; 05. Ran stop sign; 08. Exceeded posted speed limit                                                                                                                        1\n",
       "02. Ran off roadway; 05. Ran stop sign; 08. Exceeded posted speed limit; 19. Erratic/reckless/careless/negligent/aggressive manner/unsafe operation                                            1\n",
       "02. Ran off roadway; 05. Ran stop sign; 09. Drove too fast for conditions; 15. Driver distraction                                                                                              1\n",
       "02. Ran off roadway; 05. Ran stop sign; 15. Driver distraction                                                                                                                                 4\n",
       "02. Ran off roadway; 06. Disregarded other traffic sign                                                                                                                                        2\n",
       "02. Ran off roadway; 06. Disregarded other traffic sign; 07. Disregarded other road markings; 09. Drove too fast for conditions                                                                2\n",
       "02. Ran off roadway; 06. Disregarded other traffic sign; 07. Disregarded other road markings; 19. Erratic/reckless/careless/negligent/aggressive manner/unsafe operation                       1\n",
       "02. Ran off roadway; 06. Disregarded other traffic sign; 08. Exceeded posted speed limit; 09. Drove too fast for conditions                                                                    3\n",
       "02. Ran off roadway; 06. Disregarded other traffic sign; 09. Drove too fast for conditions                                                                                                     1\n",
       "02. Ran off roadway; 06. Disregarded other traffic sign; 09. Drove too fast for conditions; 16. Wrong side/wrong way                                                                           1\n",
       "02. Ran off roadway; 06. Disregarded other traffic sign; 09. Drove too fast for conditions; 18. Failed to keep in proper lane                                                                  1\n",
       "02. Ran off roadway; 06. Disregarded other traffic sign; 09. Drove too fast for conditions; 19. Erratic/reckless/careless/negligent/aggressive manner/unsafe operation                         3\n",
       "02. Ran off roadway; 06. Disregarded other traffic sign; 19. Erratic/reckless/careless/negligent/aggressive manner/unsafe operation                                                            1\n",
       "02. Ran off roadway; 06. Disregarded other traffic sign; 98. Other                                                                                                                             1\n",
       "02. Ran off roadway; 07. Disregarded other road markings                                                                                                                                       7\n",
       "02. Ran off roadway; 07. Disregarded other road markings; 08. Exceeded posted speed limit; 12. Improper passing                                                                                2\n",
       "02. Ran off roadway; 07. Disregarded other road markings; 08. Exceeded posted speed limit; 19. Erratic/reckless/careless/negligent/aggressive manner/unsafe operation                          1\n",
       "02. Ran off roadway; 07. Disregarded other road markings; 09. Drove too fast for conditions                                                                                                    2\n",
       "02. Ran off roadway; 07. Disregarded other road markings; 09. Drove too fast for conditions; 12. Improper passing                                                                              1\n",
       "02. Ran off roadway; 07. Disregarded other road markings; 09. Drove too fast for conditions; 18. Failed to keep in proper lane                                                                 1\n",
       "02. Ran off roadway; 07. Disregarded other road markings; 09. Drove too fast for conditions; 19. Erratic/reckless/careless/negligent/aggressive manner/unsafe operation                        2\n",
       "02. Ran off roadway; 07. Disregarded other road markings; 10. Improper turn; 26. Evading law enforcement                                                                                       1\n",
       "02. Ran off roadway; 07. Disregarded other road markings; 12. Improper passing; 19. Erratic/reckless/careless/negligent/aggressive manner/unsafe operation                                     1\n",
       "02. Ran off roadway; 07. Disregarded other road markings; 15. Driver distraction; 18. Failed to keep in proper lane                                                                            2\n",
       "02. Ran off roadway; 07. Disregarded other road markings; 15. Driver distraction; 19. Erratic/reckless/careless/negligent/aggressive manner/unsafe operation                                   1\n",
       "02. Ran off roadway; 07. Disregarded other road markings; 16. Wrong side/wrong way; 19. Erratic/reckless/careless/negligent/aggressive manner/unsafe operation                                 1\n",
       "02. Ran off roadway; 07. Disregarded other road markings; 18. Failed to keep in proper lane                                                                                                    2\n",
       "02. Ran off roadway; 07. Disregarded other road markings; 18. Failed to keep in proper lane; 19. Erratic/reckless/careless/negligent/aggressive manner/unsafe operation                        1\n",
       "02. Ran off roadway; 07. Disregarded other road markings; 19. Erratic/reckless/careless/negligent/aggressive manner/unsafe operation                                                           3\n",
       "02. Ran off roadway; 07. Disregarded other road markings; 24. Over-correcting/over-steering                                                                                                    2\n",
       "02. Ran off roadway; 08. Exceeded posted speed limit                                                                                                                                          25\n",
       "02. Ran off roadway; 08. Exceeded posted speed limit; 09. Drove too fast for conditions                                                                                                       33\n",
       "02. Ran off roadway; 08. Exceeded posted speed limit; 09. Drove too fast for conditions; 10. Improper turn                                                                                     1\n",
       "02. Ran off roadway; 08. Exceeded posted speed limit; 09. Drove too fast for conditions; 12. Improper passing                                                                                  1\n",
       "02. Ran off roadway; 08. Exceeded posted speed limit; 09. Drove too fast for conditions; 15. Driver distraction                                                                                2\n",
       "02. Ran off roadway; 08. Exceeded posted speed limit; 09. Drove too fast for conditions; 16. Wrong side/wrong way                                                                              1\n",
       "02. Ran off roadway; 08. Exceeded posted speed limit; 09. Drove too fast for conditions; 18. Failed to keep in proper lane                                                                     8\n",
       "02. Ran off roadway; 08. Exceeded posted speed limit; 09. Drove too fast for conditions; 19. Erratic/reckless/careless/negligent/aggressive manner/unsafe operation                           16\n",
       "02. Ran off roadway; 08. Exceeded posted speed limit; 09. Drove too fast for conditions; 20. Avoiding an object on road                                                                        1\n",
       "02. Ran off roadway; 08. Exceeded posted speed limit; 09. Drove too fast for conditions; 21. Avoiding animal                                                                                   1\n",
       "02. Ran off roadway; 08. Exceeded posted speed limit; 09. Drove too fast for conditions; 24. Over-correcting/over-steering                                                                     5\n",
       "02. Ran off roadway; 08. Exceeded posted speed limit; 09. Drove too fast for conditions; 25. Swerve due to wind/slippery surface                                                               1\n",
       "02. Ran off roadway; 08. Exceeded posted speed limit; 10. Improper turn; 24. Over-correcting/over-steering                                                                                     1\n",
       "02. Ran off roadway; 08. Exceeded posted speed limit; 15. Driver distraction                                                                                                                   1\n",
       "02. Ran off roadway; 08. Exceeded posted speed limit; 15. Driver distraction; 19. Erratic/reckless/careless/negligent/aggressive manner/unsafe operation                                       1\n",
       "02. Ran off roadway; 08. Exceeded posted speed limit; 16. Wrong side/wrong way; 23. Avoiding motor vehicle                                                                                     1\n",
       "02. Ran off roadway; 08. Exceeded posted speed limit; 18. Failed to keep in proper lane                                                                                                        3\n",
       "02. Ran off roadway; 08. Exceeded posted speed limit; 18. Failed to keep in proper lane; 19. Erratic/reckless/careless/negligent/aggressive manner/unsafe operation                            2\n",
       "02. Ran off roadway; 08. Exceeded posted speed limit; 18. Failed to keep in proper lane; 21. Avoiding animal                                                                                   1\n",
       "02. Ran off roadway; 08. Exceeded posted speed limit; 18. Failed to keep in proper lane; 24. Over-correcting/over-steering                                                                     1\n",
       "02. Ran off roadway; 08. Exceeded posted speed limit; 19. Erratic/reckless/careless/negligent/aggressive manner/unsafe operation                                                              14\n",
       "02. Ran off roadway; 08. Exceeded posted speed limit; 19. Erratic/reckless/careless/negligent/aggressive manner/unsafe operation; 21. Avoiding animal                                          1\n",
       "02. Ran off roadway; 08. Exceeded posted speed limit; 19. Erratic/reckless/careless/negligent/aggressive manner/unsafe operation; 24. Over-correcting/over-steering                            3\n",
       "02. Ran off roadway; 08. Exceeded posted speed limit; 19. Erratic/reckless/careless/negligent/aggressive manner/unsafe operation; 26. Evading law enforcement                                  5\n",
       "02. Ran off roadway; 08. Exceeded posted speed limit; 23. Avoiding motor vehicle; 24. Over-correcting/over-steering                                                                            1\n",
       "02. Ran off roadway; 08. Exceeded posted speed limit; 24. Over-correcting/over-steering                                                                                                        2\n",
       "02. Ran off roadway; 08. Exceeded posted speed limit; 24. Over-correcting/over-steering; 25. Swerve due to wind/slippery surface                                                               1\n",
       "02. Ran off roadway; 08. Exceeded posted speed limit; 24. Over-correcting/over-steering; 98. Other                                                                                             1\n",
       "02. Ran off roadway; 08. Exceeded posted speed limit; 98. Other                                                                                                                                1\n",
       "02. Ran off roadway; 09. Drove too fast for conditions                                                                                                                                        80\n",
       "02. Ran off roadway; 09. Drove too fast for conditions; 10. Improper turn                                                                                                                      2\n",
       "02. Ran off roadway; 09. Drove too fast for conditions; 10. Improper turn; 18. Failed to keep in proper lane                                                                                   1\n",
       "02. Ran off roadway; 09. Drove too fast for conditions; 10. Improper turn; 19. Erratic/reckless/careless/negligent/aggressive manner/unsafe operation                                          1\n",
       "02. Ran off roadway; 09. Drove too fast for conditions; 15. Driver distraction                                                                                                                 3\n",
       "02. Ran off roadway; 09. Drove too fast for conditions; 15. Driver distraction; 19. Erratic/reckless/careless/negligent/aggressive manner/unsafe operation                                     2\n",
       "02. Ran off roadway; 09. Drove too fast for conditions; 15. Driver distraction; 25. Swerve due to wind/slippery surface                                                                        1\n",
       "02. Ran off roadway; 09. Drove too fast for conditions; 16. Wrong side/wrong way; 19. Erratic/reckless/careless/negligent/aggressive manner/unsafe operation                                   1\n",
       "02. Ran off roadway; 09. Drove too fast for conditions; 17. Followed too closely; 25. Swerve due to wind/slippery surface                                                                      1\n",
       "02. Ran off roadway; 09. Drove too fast for conditions; 18. Failed to keep in proper lane                                                                                                     14\n",
       "02. Ran off roadway; 09. Drove too fast for conditions; 18. Failed to keep in proper lane; 19. Erratic/reckless/careless/negligent/aggressive manner/unsafe operation                         10\n",
       "02. Ran off roadway; 09. Drove too fast for conditions; 18. Failed to keep in proper lane; 23. Avoiding motor vehicle                                                                          1\n",
       "02. Ran off roadway; 09. Drove too fast for conditions; 18. Failed to keep in proper lane; 24. Over-correcting/over-steering                                                                   4\n",
       "02. Ran off roadway; 09. Drove too fast for conditions; 18. Failed to keep in proper lane; 25. Swerve due to wind/slippery surface                                                             3\n",
       "02. Ran off roadway; 09. Drove too fast for conditions; 18. Failed to keep in proper lane; 98. Other                                                                                           1\n",
       "02. Ran off roadway; 09. Drove too fast for conditions; 18. Failed to keep in proper lane; 99. Unknown                                                                                         1\n",
       "02. Ran off roadway; 09. Drove too fast for conditions; 19. Erratic/reckless/careless/negligent/aggressive manner/unsafe operation                                                            22\n",
       "02. Ran off roadway; 09. Drove too fast for conditions; 19. Erratic/reckless/careless/negligent/aggressive manner/unsafe operation; 21. Avoiding animal                                        1\n",
       "02. Ran off roadway; 09. Drove too fast for conditions; 19. Erratic/reckless/careless/negligent/aggressive manner/unsafe operation; 24. Over-correcting/over-steering                          5\n",
       "02. Ran off roadway; 09. Drove too fast for conditions; 19. Erratic/reckless/careless/negligent/aggressive manner/unsafe operation; 98. Other                                                  3\n",
       "02. Ran off roadway; 09. Drove too fast for conditions; 20. Avoiding an object on road                                                                                                         1\n",
       "02. Ran off roadway; 09. Drove too fast for conditions; 21. Avoiding animal                                                                                                                    1\n",
       "02. Ran off roadway; 09. Drove too fast for conditions; 21. Avoiding animal; 24. Over-correcting/over-steering                                                                                 1\n",
       "02. Ran off roadway; 09. Drove too fast for conditions; 23. Avoiding motor vehicle                                                                                                             4\n",
       "02. Ran off roadway; 09. Drove too fast for conditions; 24. Over-correcting/over-steering                                                                                                     11\n",
       "02. Ran off roadway; 09. Drove too fast for conditions; 24. Over-correcting/over-steering; 25. Swerve due to wind/slippery surface                                                            10\n",
       "02. Ran off roadway; 09. Drove too fast for conditions; 25. Swerve due to wind/slippery surface                                                                                                5\n",
       "02. Ran off roadway; 09. Drove too fast for conditions; 25. Swerve due to wind/slippery surface; 99. Unknown                                                                                   1\n",
       "02. Ran off roadway; 09. Drove too fast for conditions; 98. Other                                                                                                                              2\n",
       "02. Ran off roadway; 09. Drove too fast for conditions; 99. Unknown                                                                                                                            2\n",
       "02. Ran off roadway; 10. Improper turn                                                                                                                                                         8\n",
       "02. Ran off roadway; 10. Improper turn; 11. Improper backing                                                                                                                                   1\n",
       "02. Ran off roadway; 10. Improper turn; 15. Driver distraction; 19. Erratic/reckless/careless/negligent/aggressive manner/unsafe operation                                                     1\n",
       "02. Ran off roadway; 10. Improper turn; 15. Driver distraction; 24. Over-correcting/over-steering                                                                                              1\n",
       "02. Ran off roadway; 10. Improper turn; 17. Followed too closely; 18. Failed to keep in proper lane                                                                                            1\n",
       "02. Ran off roadway; 10. Improper turn; 18. Failed to keep in proper lane                                                                                                                      1\n",
       "02. Ran off roadway; 10. Improper turn; 18. Failed to keep in proper lane; 24. Over-correcting/over-steering                                                                                   3\n",
       "02. Ran off roadway; 10. Improper turn; 19. Erratic/reckless/careless/negligent/aggressive manner/unsafe operation                                                                             2\n",
       "02. Ran off roadway; 10. Improper turn; 19. Erratic/reckless/careless/negligent/aggressive manner/unsafe operation; 98. Other                                                                  2\n",
       "02. Ran off roadway; 10. Improper turn; 24. Over-correcting/over-steering                                                                                                                      1\n",
       "02. Ran off roadway; 11. Improper backing                                                                                                                                                      8\n",
       "02. Ran off roadway; 11. Improper backing; 16. Wrong side/wrong way                                                                                                                            1\n",
       "02. Ran off roadway; 11. Improper backing; 18. Failed to keep in proper lane                                                                                                                   1\n",
       "02. Ran off roadway; 11. Improper backing; 24. Over-correcting/over-steering                                                                                                                   2\n",
       "02. Ran off roadway; 12. Improper passing; 17. Followed too closely; 19. Erratic/reckless/careless/negligent/aggressive manner/unsafe operation                                                1\n",
       "02. Ran off roadway; 12. Improper passing; 19. Erratic/reckless/careless/negligent/aggressive manner/unsafe operation; 26. Evading law enforcement                                             1\n",
       "02. Ran off roadway; 13. Improper parking location                                                                                                                                             1\n",
       "02. Ran off roadway; 15. Driver distraction                                                                                                                                                   16\n",
       "02. Ran off roadway; 15. Driver distraction; 18. Failed to keep in proper lane                                                                                                                17\n",
       "02. Ran off roadway; 15. Driver distraction; 18. Failed to keep in proper lane; 19. Erratic/reckless/careless/negligent/aggressive manner/unsafe operation                                     7\n",
       "02. Ran off roadway; 15. Driver distraction; 18. Failed to keep in proper lane; 24. Over-correcting/over-steering                                                                              3\n",
       "02. Ran off roadway; 15. Driver distraction; 19. Erratic/reckless/careless/negligent/aggressive manner/unsafe operation                                                                        2\n",
       "02. Ran off roadway; 15. Driver distraction; 19. Erratic/reckless/careless/negligent/aggressive manner/unsafe operation; 24. Over-correcting/over-steering                                     2\n",
       "02. Ran off roadway; 15. Driver distraction; 19. Erratic/reckless/careless/negligent/aggressive manner/unsafe operation; 98. Other                                                             1\n",
       "02. Ran off roadway; 15. Driver distraction; 20. Avoiding an object on road; 21. Avoiding animal                                                                                               1\n",
       "02. Ran off roadway; 15. Driver distraction; 20. Avoiding an object on road; 98. Other                                                                                                         1\n",
       "02. Ran off roadway; 15. Driver distraction; 21. Avoiding animal                                                                                                                               2\n",
       "02. Ran off roadway; 15. Driver distraction; 22. Avoiding non-motorist/pedestrian; 24. Over-correcting/over-steering                                                                           1\n",
       "02. Ran off roadway; 15. Driver distraction; 24. Over-correcting/over-steering                                                                                                                 4\n",
       "02. Ran off roadway; 15. Driver distraction; 24. Over-correcting/over-steering; 99. Unknown                                                                                                    1\n",
       "02. Ran off roadway; 15. Driver distraction; 98. Other                                                                                                                                         3\n",
       "02. Ran off roadway; 16. Wrong side/wrong way                                                                                                                                                  1\n",
       "02. Ran off roadway; 16. Wrong side/wrong way; 18. Failed to keep in proper lane                                                                                                               1\n",
       "02. Ran off roadway; 16. Wrong side/wrong way; 18. Failed to keep in proper lane; 19. Erratic/reckless/careless/negligent/aggressive manner/unsafe operation                                   2\n",
       "02. Ran off roadway; 16. Wrong side/wrong way; 18. Failed to keep in proper lane; 21. Avoiding animal                                                                                          1\n",
       "02. Ran off roadway; 16. Wrong side/wrong way; 18. Failed to keep in proper lane; 24. Over-correcting/over-steering                                                                            1\n",
       "02. Ran off roadway; 16. Wrong side/wrong way; 19. Erratic/reckless/careless/negligent/aggressive manner/unsafe operation                                                                      1\n",
       "02. Ran off roadway; 16. Wrong side/wrong way; 98. Other                                                                                                                                       1\n",
       "02. Ran off roadway; 17. Followed too closely; 23. Avoiding motor vehicle                                                                                                                      2\n",
       "02. Ran off roadway; 17. Followed too closely; 23. Avoiding motor vehicle; 24. Over-correcting/over-steering                                                                                   1\n",
       "02. Ran off roadway; 17. Followed too closely; 24. Over-correcting/over-steering; 98. Other                                                                                                    1\n",
       "02. Ran off roadway; 18. Failed to keep in proper lane                                                                                                                                        34\n",
       "02. Ran off roadway; 18. Failed to keep in proper lane; 19. Erratic/reckless/careless/negligent/aggressive manner/unsafe operation                                                            11\n",
       "02. Ran off roadway; 18. Failed to keep in proper lane; 19. Erratic/reckless/careless/negligent/aggressive manner/unsafe operation; 21. Avoiding animal                                        1\n",
       "02. Ran off roadway; 18. Failed to keep in proper lane; 19. Erratic/reckless/careless/negligent/aggressive manner/unsafe operation; 24. Over-correcting/over-steering                          2\n",
       "02. Ran off roadway; 18. Failed to keep in proper lane; 19. Erratic/reckless/careless/negligent/aggressive manner/unsafe operation; 98. Other                                                  8\n",
       "02. Ran off roadway; 18. Failed to keep in proper lane; 19. Erratic/reckless/careless/negligent/aggressive manner/unsafe operation; 99. Unknown                                                1\n",
       "02. Ran off roadway; 18. Failed to keep in proper lane; 21. Avoiding animal                                                                                                                    2\n",
       "02. Ran off roadway; 18. Failed to keep in proper lane; 23. Avoiding motor vehicle                                                                                                             2\n",
       "02. Ran off roadway; 18. Failed to keep in proper lane; 24. Over-correcting/over-steering                                                                                                     11\n",
       "02. Ran off roadway; 18. Failed to keep in proper lane; 24. Over-correcting/over-steering; 25. Swerve due to wind/slippery surface                                                             2\n",
       "02. Ran off roadway; 18. Failed to keep in proper lane; 24. Over-correcting/over-steering; 98. Other                                                                                           1\n",
       "02. Ran off roadway; 18. Failed to keep in proper lane; 24. Over-correcting/over-steering; 99. Unknown                                                                                         1\n",
       "02. Ran off roadway; 18. Failed to keep in proper lane; 25. Swerve due to wind/slippery surface; 98. Other                                                                                     1\n",
       "02. Ran off roadway; 18. Failed to keep in proper lane; 98. Other                                                                                                                              7\n",
       "02. Ran off roadway; 18. Failed to keep in proper lane; 99. Unknown                                                                                                                            2\n",
       "02. Ran off roadway; 19. Erratic/reckless/careless/negligent/aggressive manner/unsafe operation                                                                                               63\n",
       "02. Ran off roadway; 19. Erratic/reckless/careless/negligent/aggressive manner/unsafe operation; 21. Avoiding animal                                                                           2\n",
       "02. Ran off roadway; 19. Erratic/reckless/careless/negligent/aggressive manner/unsafe operation; 23. Avoiding motor vehicle                                                                    2\n",
       "02. Ran off roadway; 19. Erratic/reckless/careless/negligent/aggressive manner/unsafe operation; 23. Avoiding motor vehicle; 24. Over-correcting/over-steering                                 1\n",
       "02. Ran off roadway; 19. Erratic/reckless/careless/negligent/aggressive manner/unsafe operation; 24. Over-correcting/over-steering                                                             4\n",
       "02. Ran off roadway; 19. Erratic/reckless/careless/negligent/aggressive manner/unsafe operation; 25. Swerve due to wind/slippery surface                                                       2\n",
       "02. Ran off roadway; 19. Erratic/reckless/careless/negligent/aggressive manner/unsafe operation; 26. Evading law enforcement                                                                   1\n",
       "02. Ran off roadway; 19. Erratic/reckless/careless/negligent/aggressive manner/unsafe operation; 98. Other                                                                                     7\n",
       "02. Ran off roadway; 20. Avoiding an object on road                                                                                                                                            5\n",
       "02. Ran off roadway; 20. Avoiding an object on road; 21. Avoiding animal                                                                                                                       2\n",
       "02. Ran off roadway; 20. Avoiding an object on road; 23. Avoiding motor vehicle; 24. Over-correcting/over-steering                                                                             1\n",
       "02. Ran off roadway; 20. Avoiding an object on road; 24. Over-correcting/over-steering; 98. Other                                                                                              1\n",
       "02. Ran off roadway; 21. Avoiding animal                                                                                                                                                      33\n",
       "02. Ran off roadway; 21. Avoiding animal; 23. Avoiding motor vehicle                                                                                                                           1\n",
       "02. Ran off roadway; 21. Avoiding animal; 24. Over-correcting/over-steering                                                                                                                    6\n",
       "02. Ran off roadway; 21. Avoiding animal; 98. Other                                                                                                                                            1\n",
       "02. Ran off roadway; 21. Avoiding animal; 99. Unknown                                                                                                                                          1\n",
       "02. Ran off roadway; 22. Avoiding non-motorist/pedestrian                                                                                                                                      1\n",
       "02. Ran off roadway; 22. Avoiding non-motorist/pedestrian; 25. Swerve due to wind/slippery surface                                                                                             1\n",
       "02. Ran off roadway; 23. Avoiding motor vehicle                                                                                                                                               29\n",
       "02. Ran off roadway; 23. Avoiding motor vehicle; 24. Over-correcting/over-steering                                                                                                             1\n",
       "02. Ran off roadway; 23. Avoiding motor vehicle; 25. Swerve due to wind/slippery surface                                                                                                       2\n",
       "02. Ran off roadway; 24. Over-correcting/over-steering                                                                                                                                        21\n",
       "02. Ran off roadway; 24. Over-correcting/over-steering; 25. Swerve due to wind/slippery surface                                                                                                8\n",
       "02. Ran off roadway; 24. Over-correcting/over-steering; 98. Other                                                                                                                              3\n",
       "02. Ran off roadway; 24. Over-correcting/over-steering; 99. Unknown                                                                                                                            2\n",
       "02. Ran off roadway; 25. Swerve due to wind/slippery surface                                                                                                                                  14\n",
       "02. Ran off roadway; 25. Swerve due to wind/slippery surface; 98. Other                                                                                                                        1\n",
       "02. Ran off roadway; 98. Other                                                                                                                                                                42\n",
       "02. Ran off roadway; 98. Other; 99. Unknown                                                                                                                                                    2\n",
       "02. Ran off roadway; 99. Unknown                                                                                                                                                              15\n",
       "03. Failed to yield to right-of-way                                                                                                                                                          318\n",
       "03. Failed to yield to right-of-way; 04. Ran red light; 19. Erratic/reckless/careless/negligent/aggressive manner/unsafe operation                                                             1\n",
       "03. Failed to yield to right-of-way; 05. Ran stop sign                                                                                                                                        21\n",
       "03. Failed to yield to right-of-way; 05. Ran stop sign; 07. Disregarded other road markings; 09. Drove too fast for conditions                                                                 1\n",
       "03. Failed to yield to right-of-way; 05. Ran stop sign; 09. Drove too fast for conditions                                                                                                      1\n",
       "03. Failed to yield to right-of-way; 05. Ran stop sign; 09. Drove too fast for conditions; 10. Improper turn                                                                                   1\n",
       "03. Failed to yield to right-of-way; 05. Ran stop sign; 10. Improper turn                                                                                                                      1\n",
       "03. Failed to yield to right-of-way; 05. Ran stop sign; 16. Wrong side/wrong way                                                                                                               1\n",
       "03. Failed to yield to right-of-way; 05. Ran stop sign; 17. Followed too closely                                                                                                               1\n",
       "03. Failed to yield to right-of-way; 05. Ran stop sign; 98. Other                                                                                                                              1\n",
       "03. Failed to yield to right-of-way; 06. Disregarded other traffic sign                                                                                                                        7\n",
       "03. Failed to yield to right-of-way; 06. Disregarded other traffic sign; 07. Disregarded other road markings; 19. Erratic/reckless/careless/negligent/aggressive manner/unsafe operation       1\n",
       "03. Failed to yield to right-of-way; 06. Disregarded other traffic sign; 10. Improper turn                                                                                                     2\n",
       "03. Failed to yield to right-of-way; 06. Disregarded other traffic sign; 19. Erratic/reckless/careless/negligent/aggressive manner/unsafe operation                                            1\n",
       "03. Failed to yield to right-of-way; 07. Disregarded other road markings                                                                                                                       2\n",
       "03. Failed to yield to right-of-way; 07. Disregarded other road markings; 09. Drove too fast for conditions                                                                                    1\n",
       "03. Failed to yield to right-of-way; 07. Disregarded other road markings; 09. Drove too fast for conditions; 16. Wrong side/wrong way                                                          1\n",
       "03. Failed to yield to right-of-way; 07. Disregarded other road markings; 10. Improper turn                                                                                                    3\n",
       "03. Failed to yield to right-of-way; 07. Disregarded other road markings; 12. Improper passing; 19. Erratic/reckless/careless/negligent/aggressive manner/unsafe operation                     1\n",
       "03. Failed to yield to right-of-way; 07. Disregarded other road markings; 18. Failed to keep in proper lane                                                                                    1\n",
       "03. Failed to yield to right-of-way; 08. Exceeded posted speed limit                                                                                                                           1\n",
       "03. Failed to yield to right-of-way; 08. Exceeded posted speed limit; 09. Drove too fast for conditions                                                                                        1\n",
       "03. Failed to yield to right-of-way; 09. Drove too fast for conditions                                                                                                                         3\n",
       "03. Failed to yield to right-of-way; 09. Drove too fast for conditions; 12. Improper passing                                                                                                   1\n",
       "03. Failed to yield to right-of-way; 09. Drove too fast for conditions; 12. Improper passing; 19. Erratic/reckless/careless/negligent/aggressive manner/unsafe operation                       2\n",
       "03. Failed to yield to right-of-way; 09. Drove too fast for conditions; 16. Wrong side/wrong way                                                                                               1\n",
       "03. Failed to yield to right-of-way; 09. Drove too fast for conditions; 17. Followed too closely                                                                                               1\n",
       "03. Failed to yield to right-of-way; 09. Drove too fast for conditions; 19. Erratic/reckless/careless/negligent/aggressive manner/unsafe operation                                             1\n",
       "03. Failed to yield to right-of-way; 10. Improper turn                                                                                                                                        28\n",
       "03. Failed to yield to right-of-way; 10. Improper turn; 15. Driver distraction                                                                                                                 2\n",
       "03. Failed to yield to right-of-way; 10. Improper turn; 15. Driver distraction; 23. Avoiding motor vehicle                                                                                     1\n",
       "03. Failed to yield to right-of-way; 10. Improper turn; 16. Wrong side/wrong way; 18. Failed to keep in proper lane                                                                            1\n",
       "03. Failed to yield to right-of-way; 10. Improper turn; 18. Failed to keep in proper lane                                                                                                      4\n",
       "03. Failed to yield to right-of-way; 10. Improper turn; 18. Failed to keep in proper lane; 19. Erratic/reckless/careless/negligent/aggressive manner/unsafe operation                          1\n",
       "03. Failed to yield to right-of-way; 10. Improper turn; 19. Erratic/reckless/careless/negligent/aggressive manner/unsafe operation                                                             6\n",
       "03. Failed to yield to right-of-way; 10. Improper turn; 23. Avoiding motor vehicle                                                                                                             1\n",
       "03. Failed to yield to right-of-way; 11. Improper backing                                                                                                                                      4\n",
       "03. Failed to yield to right-of-way; 11. Improper backing; 15. Driver distraction; 19. Erratic/reckless/careless/negligent/aggressive manner/unsafe operation                                  1\n",
       "03. Failed to yield to right-of-way; 11. Improper backing; 19. Erratic/reckless/careless/negligent/aggressive manner/unsafe operation                                                          4\n",
       "03. Failed to yield to right-of-way; 12. Improper passing                                                                                                                                      3\n",
       "03. Failed to yield to right-of-way; 12. Improper passing; 17. Followed too closely; 18. Failed to keep in proper lane                                                                         1\n",
       "03. Failed to yield to right-of-way; 12. Improper passing; 18. Failed to keep in proper lane                                                                                                   1\n",
       "03. Failed to yield to right-of-way; 12. Improper passing; 18. Failed to keep in proper lane; 19. Erratic/reckless/careless/negligent/aggressive manner/unsafe operation                       2\n",
       "03. Failed to yield to right-of-way; 12. Improper passing; 24. Over-correcting/over-steering                                                                                                   1\n",
       "03. Failed to yield to right-of-way; 12. Improper passing; 98. Other                                                                                                                           1\n",
       "03. Failed to yield to right-of-way; 13. Improper parking location; 15. Driver distraction                                                                                                     1\n",
       "03. Failed to yield to right-of-way; 13. Improper parking location; 18. Failed to keep in proper lane                                                                                          1\n",
       "03. Failed to yield to right-of-way; 15. Driver distraction                                                                                                                                    7\n",
       "03. Failed to yield to right-of-way; 15. Driver distraction; 16. Wrong side/wrong way                                                                                                          2\n",
       "03. Failed to yield to right-of-way; 15. Driver distraction; 17. Followed too closely                                                                                                          1\n",
       "03. Failed to yield to right-of-way; 15. Driver distraction; 17. Followed too closely; 23. Avoiding motor vehicle                                                                              3\n",
       "03. Failed to yield to right-of-way; 15. Driver distraction; 17. Followed too closely; 99. Unknown                                                                                             1\n",
       "03. Failed to yield to right-of-way; 15. Driver distraction; 19. Erratic/reckless/careless/negligent/aggressive manner/unsafe operation                                                        1\n",
       "03. Failed to yield to right-of-way; 17. Followed too closely                                                                                                                                  6\n",
       "03. Failed to yield to right-of-way; 18. Failed to keep in proper lane                                                                                                                        23\n",
       "03. Failed to yield to right-of-way; 18. Failed to keep in proper lane; 19. Erratic/reckless/careless/negligent/aggressive manner/unsafe operation                                             1\n",
       "03. Failed to yield to right-of-way; 18. Failed to keep in proper lane; 19. Erratic/reckless/careless/negligent/aggressive manner/unsafe operation; 99. Unknown                                1\n",
       "03. Failed to yield to right-of-way; 19. Erratic/reckless/careless/negligent/aggressive manner/unsafe operation                                                                               18\n",
       "03. Failed to yield to right-of-way; 19. Erratic/reckless/careless/negligent/aggressive manner/unsafe operation; 99. Unknown                                                                   1\n",
       "03. Failed to yield to right-of-way; 98. Other                                                                                                                                                 5\n",
       "03. Failed to yield to right-of-way; 99. Unknown                                                                                                                                               2\n",
       "04. Ran red light                                                                                                                                                                             17\n",
       "04. Ran red light; 98. Other                                                                                                                                                                   1\n",
       "05. Ran stop sign                                                                                                                                                                             26\n",
       "05. Ran stop sign; 09. Drove too fast for conditions                                                                                                                                           1\n",
       "05. Ran stop sign; 09. Drove too fast for conditions; 11. Improper backing                                                                                                                     1\n",
       "05. Ran stop sign; 15. Driver distraction                                                                                                                                                      1\n",
       "05. Ran stop sign; 17. Followed too closely                                                                                                                                                    1\n",
       "05. Ran stop sign; 98. Other                                                                                                                                                                   1\n",
       "06. Disregarded other traffic sign                                                                                                                                                            20\n",
       "06. Disregarded other traffic sign; 07. Disregarded other road markings                                                                                                                        2\n",
       "06. Disregarded other traffic sign; 07. Disregarded other road markings; 08. Exceeded posted speed limit; 09. Drove too fast for conditions                                                    2\n",
       "06. Disregarded other traffic sign; 07. Disregarded other road markings; 10. Improper turn                                                                                                     1\n",
       "06. Disregarded other traffic sign; 07. Disregarded other road markings; 10. Improper turn; 16. Wrong side/wrong way                                                                           1\n",
       "06. Disregarded other traffic sign; 07. Disregarded other road markings; 18. Failed to keep in proper lane; 19. Erratic/reckless/careless/negligent/aggressive manner/unsafe operation         1\n",
       "06. Disregarded other traffic sign; 07. Disregarded other road markings; 18. Failed to keep in proper lane; 23. Avoiding motor vehicle                                                         1\n",
       "06. Disregarded other traffic sign; 07. Disregarded other road markings; 19. Erratic/reckless/careless/negligent/aggressive manner/unsafe operation                                            1\n",
       "06. Disregarded other traffic sign; 07. Disregarded other road markings; 98. Other                                                                                                             1\n",
       "06. Disregarded other traffic sign; 08. Exceeded posted speed limit; 09. Drove too fast for conditions                                                                                         1\n",
       "06. Disregarded other traffic sign; 08. Exceeded posted speed limit; 09. Drove too fast for conditions; 19. Erratic/reckless/careless/negligent/aggressive manner/unsafe operation             3\n",
       "06. Disregarded other traffic sign; 08. Exceeded posted speed limit; 19. Erratic/reckless/careless/negligent/aggressive manner/unsafe operation                                                1\n",
       "06. Disregarded other traffic sign; 08. Exceeded posted speed limit; 19. Erratic/reckless/careless/negligent/aggressive manner/unsafe operation; 26. Evading law enforcement                   1\n",
       "06. Disregarded other traffic sign; 08. Exceeded posted speed limit; 26. Evading law enforcement                                                                                               1\n",
       "06. Disregarded other traffic sign; 09. Drove too fast for conditions                                                                                                                          1\n",
       "06. Disregarded other traffic sign; 09. Drove too fast for conditions; 10. Improper turn                                                                                                       1\n",
       "06. Disregarded other traffic sign; 09. Drove too fast for conditions; 15. Driver distraction                                                                                                  1\n",
       "06. Disregarded other traffic sign; 09. Drove too fast for conditions; 18. Failed to keep in proper lane                                                                                       1\n",
       "06. Disregarded other traffic sign; 09. Drove too fast for conditions; 18. Failed to keep in proper lane; 19. Erratic/reckless/careless/negligent/aggressive manner/unsafe operation           2\n",
       "06. Disregarded other traffic sign; 09. Drove too fast for conditions; 98. Other                                                                                                               4\n",
       "06. Disregarded other traffic sign; 10. Improper turn                                                                                                                                          4\n",
       "06. Disregarded other traffic sign; 11. Improper backing                                                                                                                                       1\n",
       "06. Disregarded other traffic sign; 15. Driver distraction                                                                                                                                     2\n",
       "06. Disregarded other traffic sign; 15. Driver distraction; 19. Erratic/reckless/careless/negligent/aggressive manner/unsafe operation                                                         1\n",
       "06. Disregarded other traffic sign; 16. Wrong side/wrong way                                                                                                                                   1\n",
       "06. Disregarded other traffic sign; 16. Wrong side/wrong way; 18. Failed to keep in proper lane; 19. Erratic/reckless/careless/negligent/aggressive manner/unsafe operation                    1\n",
       "06. Disregarded other traffic sign; 16. Wrong side/wrong way; 20. Avoiding an object on road                                                                                                   1\n",
       "06. Disregarded other traffic sign; 18. Failed to keep in proper lane; 23. Avoiding motor vehicle                                                                                              1\n",
       "06. Disregarded other traffic sign; 18. Failed to keep in proper lane; 98. Other                                                                                                               5\n",
       "06. Disregarded other traffic sign; 19. Erratic/reckless/careless/negligent/aggressive manner/unsafe operation                                                                                 1\n",
       "06. Disregarded other traffic sign; 98. Other                                                                                                                                                  3\n",
       "07. Disregarded other road markings                                                                                                                                                           29\n",
       "07. Disregarded other road markings; 08. Exceeded posted speed limit                                                                                                                           2\n",
       "07. Disregarded other road markings; 08. Exceeded posted speed limit; 09. Drove too fast for conditions                                                                                        1\n",
       "07. Disregarded other road markings; 08. Exceeded posted speed limit; 09. Drove too fast for conditions; 16. Wrong side/wrong way                                                              1\n",
       "07. Disregarded other road markings; 08. Exceeded posted speed limit; 09. Drove too fast for conditions; 19. Erratic/reckless/careless/negligent/aggressive manner/unsafe operation            3\n",
       "07. Disregarded other road markings; 08. Exceeded posted speed limit; 09. Drove too fast for conditions; 26. Evading law enforcement                                                           1\n",
       "07. Disregarded other road markings; 08. Exceeded posted speed limit; 12. Improper passing; 19. Erratic/reckless/careless/negligent/aggressive manner/unsafe operation                         2\n",
       "07. Disregarded other road markings; 08. Exceeded posted speed limit; 18. Failed to keep in proper lane                                                                                        1\n",
       "07. Disregarded other road markings; 08. Exceeded posted speed limit; 18. Failed to keep in proper lane; 19. Erratic/reckless/careless/negligent/aggressive manner/unsafe operation            1\n",
       "07. Disregarded other road markings; 09. Drove too fast for conditions                                                                                                                         1\n",
       "07. Disregarded other road markings; 09. Drove too fast for conditions; 10. Improper turn; 19. Erratic/reckless/careless/negligent/aggressive manner/unsafe operation                          1\n",
       "07. Disregarded other road markings; 09. Drove too fast for conditions; 11. Improper backing                                                                                                   1\n",
       "07. Disregarded other road markings; 09. Drove too fast for conditions; 12. Improper passing; 17. Followed too closely                                                                         1\n",
       "07. Disregarded other road markings; 09. Drove too fast for conditions; 16. Wrong side/wrong way; 19. Erratic/reckless/careless/negligent/aggressive manner/unsafe operation                   1\n",
       "07. Disregarded other road markings; 09. Drove too fast for conditions; 18. Failed to keep in proper lane                                                                                      1\n",
       "07. Disregarded other road markings; 09. Drove too fast for conditions; 18. Failed to keep in proper lane; 19. Erratic/reckless/careless/negligent/aggressive manner/unsafe operation          2\n",
       "07. Disregarded other road markings; 10. Improper turn                                                                                                                                         7\n",
       "07. Disregarded other road markings; 10. Improper turn; 11. Improper backing; 18. Failed to keep in proper lane                                                                                1\n",
       "07. Disregarded other road markings; 10. Improper turn; 15. Driver distraction; 18. Failed to keep in proper lane                                                                              1\n",
       "07. Disregarded other road markings; 10. Improper turn; 16. Wrong side/wrong way                                                                                                               1\n",
       "07. Disregarded other road markings; 10. Improper turn; 16. Wrong side/wrong way; 19. Erratic/reckless/careless/negligent/aggressive manner/unsafe operation                                   1\n",
       "07. Disregarded other road markings; 10. Improper turn; 18. Failed to keep in proper lane                                                                                                      5\n",
       "07. Disregarded other road markings; 10. Improper turn; 98. Other                                                                                                                              1\n",
       "07. Disregarded other road markings; 11. Improper backing                                                                                                                                      2\n",
       "07. Disregarded other road markings; 12. Improper passing                                                                                                                                      6\n",
       "07. Disregarded other road markings; 12. Improper passing; 17. Followed too closely                                                                                                            1\n",
       "07. Disregarded other road markings; 12. Improper passing; 18. Failed to keep in proper lane; 23. Avoiding motor vehicle                                                                       1\n",
       "07. Disregarded other road markings; 12. Improper passing; 19. Erratic/reckless/careless/negligent/aggressive manner/unsafe operation                                                          2\n",
       "07. Disregarded other road markings; 13. Improper parking location                                                                                                                             1\n",
       "07. Disregarded other road markings; 15. Driver distraction                                                                                                                                    2\n",
       "07. Disregarded other road markings; 15. Driver distraction; 16. Wrong side/wrong way                                                                                                          1\n",
       "07. Disregarded other road markings; 15. Driver distraction; 16. Wrong side/wrong way; 18. Failed to keep in proper lane                                                                       4\n",
       "07. Disregarded other road markings; 15. Driver distraction; 18. Failed to keep in proper lane                                                                                                 1\n",
       "07. Disregarded other road markings; 15. Driver distraction; 18. Failed to keep in proper lane; 19. Erratic/reckless/careless/negligent/aggressive manner/unsafe operation                     1\n",
       "07. Disregarded other road markings; 16. Wrong side/wrong way                                                                                                                                  2\n",
       "07. Disregarded other road markings; 16. Wrong side/wrong way; 18. Failed to keep in proper lane                                                                                               9\n",
       "07. Disregarded other road markings; 16. Wrong side/wrong way; 18. Failed to keep in proper lane; 19. Erratic/reckless/careless/negligent/aggressive manner/unsafe operation                   1\n",
       "07. Disregarded other road markings; 16. Wrong side/wrong way; 19. Erratic/reckless/careless/negligent/aggressive manner/unsafe operation                                                      1\n",
       "07. Disregarded other road markings; 16. Wrong side/wrong way; 19. Erratic/reckless/careless/negligent/aggressive manner/unsafe operation; 98. Other                                           1\n",
       "07. Disregarded other road markings; 17. Followed too closely; 19. Erratic/reckless/careless/negligent/aggressive manner/unsafe operation                                                      1\n",
       "07. Disregarded other road markings; 18. Failed to keep in proper lane                                                                                                                         6\n",
       "07. Disregarded other road markings; 18. Failed to keep in proper lane; 19. Erratic/reckless/careless/negligent/aggressive manner/unsafe operation                                             2\n",
       "07. Disregarded other road markings; 18. Failed to keep in proper lane; 19. Erratic/reckless/careless/negligent/aggressive manner/unsafe operation; 23. Avoiding motor vehicle                 1\n",
       "07. Disregarded other road markings; 18. Failed to keep in proper lane; 21. Avoiding animal                                                                                                    1\n",
       "07. Disregarded other road markings; 18. Failed to keep in proper lane; 98. Other                                                                                                              2\n",
       "07. Disregarded other road markings; 19. Erratic/reckless/careless/negligent/aggressive manner/unsafe operation                                                                                2\n",
       "07. Disregarded other road markings; 23. Avoiding motor vehicle                                                                                                                                2\n",
       "07. Disregarded other road markings; 98. Other                                                                                                                                                 4\n",
       "08. Exceeded posted speed limit                                                                                                                                                               36\n",
       "08. Exceeded posted speed limit; 09. Drove too fast for conditions                                                                                                                            31\n",
       "08. Exceeded posted speed limit; 09. Drove too fast for conditions; 10. Improper turn                                                                                                          1\n",
       "08. Exceeded posted speed limit; 09. Drove too fast for conditions; 10. Improper turn; 24. Over-correcting/over-steering                                                                       1\n",
       "08. Exceeded posted speed limit; 09. Drove too fast for conditions; 12. Improper passing; 17. Followed too closely                                                                             2\n",
       "08. Exceeded posted speed limit; 09. Drove too fast for conditions; 12. Improper passing; 19. Erratic/reckless/careless/negligent/aggressive manner/unsafe operation                           1\n",
       "08. Exceeded posted speed limit; 09. Drove too fast for conditions; 15. Driver distraction                                                                                                     2\n",
       "08. Exceeded posted speed limit; 09. Drove too fast for conditions; 17. Followed too closely; 19. Erratic/reckless/careless/negligent/aggressive manner/unsafe operation                       2\n",
       "08. Exceeded posted speed limit; 09. Drove too fast for conditions; 18. Failed to keep in proper lane                                                                                          5\n",
       "08. Exceeded posted speed limit; 09. Drove too fast for conditions; 18. Failed to keep in proper lane; 19. Erratic/reckless/careless/negligent/aggressive manner/unsafe operation              6\n",
       "08. Exceeded posted speed limit; 09. Drove too fast for conditions; 18. Failed to keep in proper lane; 24. Over-correcting/over-steering                                                       2\n",
       "08. Exceeded posted speed limit; 09. Drove too fast for conditions; 19. Erratic/reckless/careless/negligent/aggressive manner/unsafe operation                                                 5\n",
       "08. Exceeded posted speed limit; 09. Drove too fast for conditions; 19. Erratic/reckless/careless/negligent/aggressive manner/unsafe operation; 23. Avoiding motor vehicle                     1\n",
       "08. Exceeded posted speed limit; 09. Drove too fast for conditions; 19. Erratic/reckless/careless/negligent/aggressive manner/unsafe operation; 25. Swerve due to wind/slippery surface        1\n",
       "08. Exceeded posted speed limit; 09. Drove too fast for conditions; 19. Erratic/reckless/careless/negligent/aggressive manner/unsafe operation; 26. Evading law enforcement                    1\n",
       "08. Exceeded posted speed limit; 09. Drove too fast for conditions; 21. Avoiding animal                                                                                                        1\n",
       "08. Exceeded posted speed limit; 09. Drove too fast for conditions; 21. Avoiding animal; 24. Over-correcting/over-steering                                                                     1\n",
       "08. Exceeded posted speed limit; 09. Drove too fast for conditions; 24. Over-correcting/over-steering                                                                                          1\n",
       "08. Exceeded posted speed limit; 09. Drove too fast for conditions; 98. Other                                                                                                                  1\n",
       "08. Exceeded posted speed limit; 10. Improper turn; 15. Driver distraction; 24. Over-correcting/over-steering                                                                                  1\n",
       "08. Exceeded posted speed limit; 10. Improper turn; 19. Erratic/reckless/careless/negligent/aggressive manner/unsafe operation                                                                 1\n",
       "08. Exceeded posted speed limit; 15. Driver distraction; 17. Followed too closely                                                                                                              2\n",
       "08. Exceeded posted speed limit; 15. Driver distraction; 23. Avoiding motor vehicle                                                                                                            1\n",
       "08. Exceeded posted speed limit; 16. Wrong side/wrong way; 18. Failed to keep in proper lane; 19. Erratic/reckless/careless/negligent/aggressive manner/unsafe operation                       2\n",
       "08. Exceeded posted speed limit; 16. Wrong side/wrong way; 19. Erratic/reckless/careless/negligent/aggressive manner/unsafe operation                                                          1\n",
       "08. Exceeded posted speed limit; 16. Wrong side/wrong way; 19. Erratic/reckless/careless/negligent/aggressive manner/unsafe operation; 26. Evading law enforcement                             1\n",
       "08. Exceeded posted speed limit; 17. Followed too closely                                                                                                                                      1\n",
       "08. Exceeded posted speed limit; 17. Followed too closely; 19. Erratic/reckless/careless/negligent/aggressive manner/unsafe operation                                                          2\n",
       "08. Exceeded posted speed limit; 18. Failed to keep in proper lane                                                                                                                             3\n",
       "08. Exceeded posted speed limit; 18. Failed to keep in proper lane; 19. Erratic/reckless/careless/negligent/aggressive manner/unsafe operation                                                 1\n",
       "08. Exceeded posted speed limit; 18. Failed to keep in proper lane; 19. Erratic/reckless/careless/negligent/aggressive manner/unsafe operation; 24. Over-correcting/over-steering              1\n",
       "08. Exceeded posted speed limit; 18. Failed to keep in proper lane; 24. Over-correcting/over-steering                                                                                          1\n",
       "08. Exceeded posted speed limit; 19. Erratic/reckless/careless/negligent/aggressive manner/unsafe operation                                                                                    5\n",
       "08. Exceeded posted speed limit; 19. Erratic/reckless/careless/negligent/aggressive manner/unsafe operation; 24. Over-correcting/over-steering                                                 2\n",
       "08. Exceeded posted speed limit; 19. Erratic/reckless/careless/negligent/aggressive manner/unsafe operation; 26. Evading law enforcement                                                       1\n",
       "08. Exceeded posted speed limit; 19. Erratic/reckless/careless/negligent/aggressive manner/unsafe operation; 98. Other                                                                         1\n",
       "08. Exceeded posted speed limit; 21. Avoiding animal                                                                                                                                           3\n",
       "08. Exceeded posted speed limit; 24. Over-correcting/over-steering                                                                                                                             1\n",
       "08. Exceeded posted speed limit; 98. Other                                                                                                                                                     4\n",
       "08. Exceeded posted speed limit; 98. Other; 99. Unknown                                                                                                                                        1\n",
       "09. Drove too fast for conditions                                                                                                                                                            313\n",
       "09. Drove too fast for conditions; 10. Improper turn                                                                                                                                           4\n",
       "09. Drove too fast for conditions; 10. Improper turn; 11. Improper backing; 19. Erratic/reckless/careless/negligent/aggressive manner/unsafe operation                                         1\n",
       "09. Drove too fast for conditions; 11. Improper backing                                                                                                                                        1\n",
       "09. Drove too fast for conditions; 12. Improper passing                                                                                                                                        2\n",
       "09. Drove too fast for conditions; 12. Improper passing; 17. Followed too closely                                                                                                              1\n",
       "09. Drove too fast for conditions; 12. Improper passing; 17. Followed too closely; 19. Erratic/reckless/careless/negligent/aggressive manner/unsafe operation                                  1\n",
       "09. Drove too fast for conditions; 12. Improper passing; 18. Failed to keep in proper lane                                                                                                     1\n",
       "09. Drove too fast for conditions; 12. Improper passing; 18. Failed to keep in proper lane; 19. Erratic/reckless/careless/negligent/aggressive manner/unsafe operation                         4\n",
       "09. Drove too fast for conditions; 12. Improper passing; 19. Erratic/reckless/careless/negligent/aggressive manner/unsafe operation; 24. Over-correcting/over-steering                         1\n",
       "09. Drove too fast for conditions; 15. Driver distraction                                                                                                                                     10\n",
       "09. Drove too fast for conditions; 15. Driver distraction; 17. Followed too closely                                                                                                            3\n",
       "09. Drove too fast for conditions; 15. Driver distraction; 17. Followed too closely; 19. Erratic/reckless/careless/negligent/aggressive manner/unsafe operation                                1\n",
       "09. Drove too fast for conditions; 15. Driver distraction; 17. Followed too closely; 99. Unknown                                                                                               1\n",
       "09. Drove too fast for conditions; 15. Driver distraction; 18. Failed to keep in proper lane                                                                                                   1\n",
       "09. Drove too fast for conditions; 15. Driver distraction; 18. Failed to keep in proper lane; 19. Erratic/reckless/careless/negligent/aggressive manner/unsafe operation                       1\n",
       "09. Drove too fast for conditions; 15. Driver distraction; 19. Erratic/reckless/careless/negligent/aggressive manner/unsafe operation                                                          1\n",
       "09. Drove too fast for conditions; 15. Driver distraction; 19. Erratic/reckless/careless/negligent/aggressive manner/unsafe operation; 25. Swerve due to wind/slippery surface                 1\n",
       "09. Drove too fast for conditions; 16. Wrong side/wrong way; 19. Erratic/reckless/careless/negligent/aggressive manner/unsafe operation                                                        1\n",
       "09. Drove too fast for conditions; 16. Wrong side/wrong way; 24. Over-correcting/over-steering; 25. Swerve due to wind/slippery surface                                                        1\n",
       "09. Drove too fast for conditions; 17. Followed too closely                                                                                                                                   54\n",
       "09. Drove too fast for conditions; 17. Followed too closely; 18. Failed to keep in proper lane                                                                                                 1\n",
       "09. Drove too fast for conditions; 17. Followed too closely; 18. Failed to keep in proper lane; 23. Avoiding motor vehicle                                                                     1\n",
       "09. Drove too fast for conditions; 17. Followed too closely; 19. Erratic/reckless/careless/negligent/aggressive manner/unsafe operation                                                        4\n",
       "09. Drove too fast for conditions; 17. Followed too closely; 19. Erratic/reckless/careless/negligent/aggressive manner/unsafe operation; 23. Avoiding motor vehicle                            1\n",
       "09. Drove too fast for conditions; 17. Followed too closely; 23. Avoiding motor vehicle                                                                                                        3\n",
       "09. Drove too fast for conditions; 17. Followed too closely; 23. Avoiding motor vehicle; 25. Swerve due to wind/slippery surface                                                               3\n",
       "09. Drove too fast for conditions; 17. Followed too closely; 98. Other                                                                                                                         1\n",
       "09. Drove too fast for conditions; 17. Followed too closely; 99. Unknown                                                                                                                       1\n",
       "09. Drove too fast for conditions; 18. Failed to keep in proper lane                                                                                                                          34\n",
       "09. Drove too fast for conditions; 18. Failed to keep in proper lane; 19. Erratic/reckless/careless/negligent/aggressive manner/unsafe operation                                               1\n",
       "09. Drove too fast for conditions; 18. Failed to keep in proper lane; 19. Erratic/reckless/careless/negligent/aggressive manner/unsafe operation; 21. Avoiding animal                          1\n",
       "09. Drove too fast for conditions; 18. Failed to keep in proper lane; 19. Erratic/reckless/careless/negligent/aggressive manner/unsafe operation; 24. Over-correcting/over-steering            1\n",
       "09. Drove too fast for conditions; 18. Failed to keep in proper lane; 23. Avoiding motor vehicle; 24. Over-correcting/over-steering                                                            1\n",
       "09. Drove too fast for conditions; 18. Failed to keep in proper lane; 24. Over-correcting/over-steering                                                                                        3\n",
       "09. Drove too fast for conditions; 18. Failed to keep in proper lane; 24. Over-correcting/over-steering; 25. Swerve due to wind/slippery surface                                               1\n",
       "09. Drove too fast for conditions; 18. Failed to keep in proper lane; 25. Swerve due to wind/slippery surface                                                                                  6\n",
       "09. Drove too fast for conditions; 18. Failed to keep in proper lane; 98. Other                                                                                                                1\n",
       "09. Drove too fast for conditions; 19. Erratic/reckless/careless/negligent/aggressive manner/unsafe operation                                                                                 29\n",
       "09. Drove too fast for conditions; 19. Erratic/reckless/careless/negligent/aggressive manner/unsafe operation; 20. Avoiding an object on road; 26. Evading law enforcement                     1\n",
       "09. Drove too fast for conditions; 19. Erratic/reckless/careless/negligent/aggressive manner/unsafe operation; 24. Over-correcting/over-steering                                               2\n",
       "09. Drove too fast for conditions; 19. Erratic/reckless/careless/negligent/aggressive manner/unsafe operation; 24. Over-correcting/over-steering; 98. Other                                    1\n",
       "09. Drove too fast for conditions; 19. Erratic/reckless/careless/negligent/aggressive manner/unsafe operation; 98. Other                                                                       1\n",
       "09. Drove too fast for conditions; 19. Erratic/reckless/careless/negligent/aggressive manner/unsafe operation; 98. Other; 99. Unknown                                                          1\n",
       "09. Drove too fast for conditions; 19. Erratic/reckless/careless/negligent/aggressive manner/unsafe operation; 99. Unknown                                                                     1\n",
       "09. Drove too fast for conditions; 20. Avoiding an object on road                                                                                                                              2\n",
       "09. Drove too fast for conditions; 20. Avoiding an object on road; 23. Avoiding motor vehicle                                                                                                  2\n",
       "09. Drove too fast for conditions; 21. Avoiding animal                                                                                                                                         4\n",
       "09. Drove too fast for conditions; 21. Avoiding animal; 98. Other; 99. Unknown                                                                                                                 1\n",
       "09. Drove too fast for conditions; 22. Avoiding non-motorist/pedestrian                                                                                                                        2\n",
       "09. Drove too fast for conditions; 23. Avoiding motor vehicle                                                                                                                                  2\n",
       "09. Drove too fast for conditions; 23. Avoiding motor vehicle; 24. Over-correcting/over-steering                                                                                               1\n",
       "09. Drove too fast for conditions; 23. Avoiding motor vehicle; 25. Swerve due to wind/slippery surface                                                                                         1\n",
       "09. Drove too fast for conditions; 24. Over-correcting/over-steering                                                                                                                          11\n",
       "09. Drove too fast for conditions; 25. Swerve due to wind/slippery surface                                                                                                                    15\n",
       "09. Drove too fast for conditions; 98. Other                                                                                                                                                   8\n",
       "09. Drove too fast for conditions; 99. Unknown                                                                                                                                                 2\n",
       "10. Improper turn                                                                                                                                                                            167\n",
       "10. Improper turn; 11. Improper backing                                                                                                                                                        5\n",
       "10. Improper turn; 11. Improper backing; 13. Improper parking location; 20. Avoiding an object on road                                                                                         1\n",
       "10. Improper turn; 11. Improper backing; 18. Failed to keep in proper lane; 19. Erratic/reckless/careless/negligent/aggressive manner/unsafe operation                                         1\n",
       "10. Improper turn; 11. Improper backing; 18. Failed to keep in proper lane; 98. Other                                                                                                          4\n",
       "10. Improper turn; 12. Improper passing                                                                                                                                                        1\n",
       "10. Improper turn; 15. Driver distraction; 16. Wrong side/wrong way                                                                                                                            1\n",
       "10. Improper turn; 15. Driver distraction; 17. Followed too closely                                                                                                                            1\n",
       "10. Improper turn; 15. Driver distraction; 18. Failed to keep in proper lane                                                                                                                   2\n",
       "10. Improper turn; 15. Driver distraction; 19. Erratic/reckless/careless/negligent/aggressive manner/unsafe operation                                                                          1\n",
       "10. Improper turn; 15. Driver distraction; 19. Erratic/reckless/careless/negligent/aggressive manner/unsafe operation; 99. Unknown                                                             1\n",
       "10. Improper turn; 15. Driver distraction; 98. Other                                                                                                                                           1\n",
       "10. Improper turn; 15. Driver distraction; 98. Other; 99. Unknown                                                                                                                              1\n",
       "10. Improper turn; 16. Wrong side/wrong way                                                                                                                                                    1\n",
       "10. Improper turn; 18. Failed to keep in proper lane                                                                                                                                          10\n",
       "10. Improper turn; 18. Failed to keep in proper lane; 19. Erratic/reckless/careless/negligent/aggressive manner/unsafe operation                                                               3\n",
       "10. Improper turn; 18. Failed to keep in proper lane; 24. Over-correcting/over-steering                                                                                                        1\n",
       "10. Improper turn; 19. Erratic/reckless/careless/negligent/aggressive manner/unsafe operation                                                                                                  4\n",
       "10. Improper turn; 20. Avoiding an object on road                                                                                                                                              1\n",
       "10. Improper turn; 23. Avoiding motor vehicle                                                                                                                                                  2\n",
       "10. Improper turn; 24. Over-correcting/over-steering                                                                                                                                           5\n",
       "10. Improper turn; 98. Other                                                                                                                                                                   7\n",
       "11. Improper backing                                                                                                                                                                         491\n",
       "11. Improper backing; 13. Improper parking location                                                                                                                                            8\n",
       "11. Improper backing; 13. Improper parking location; 15. Driver distraction                                                                                                                    3\n",
       "11. Improper backing; 13. Improper parking location; 19. Erratic/reckless/careless/negligent/aggressive manner/unsafe operation                                                                3\n",
       "11. Improper backing; 15. Driver distraction                                                                                                                                                  10\n",
       "11. Improper backing; 15. Driver distraction; 21. Avoiding animal                                                                                                                              1\n",
       "11. Improper backing; 15. Driver distraction; 22. Avoiding non-motorist/pedestrian; 23. Avoiding motor vehicle                                                                                 1\n",
       "11. Improper backing; 15. Driver distraction; 24. Over-correcting/over-steering                                                                                                                1\n",
       "11. Improper backing; 15. Driver distraction; 99. Unknown                                                                                                                                      2\n",
       "11. Improper backing; 16. Wrong side/wrong way                                                                                                                                                 5\n",
       "11. Improper backing; 18. Failed to keep in proper lane                                                                                                                                        4\n",
       "11. Improper backing; 18. Failed to keep in proper lane; 24. Over-correcting/over-steering                                                                                                     1\n",
       "11. Improper backing; 19. Erratic/reckless/careless/negligent/aggressive manner/unsafe operation                                                                                              11\n",
       "11. Improper backing; 23. Avoiding motor vehicle                                                                                                                                               7\n",
       "11. Improper backing; 24. Over-correcting/over-steering                                                                                                                                        2\n",
       "11. Improper backing; 24. Over-correcting/over-steering; 98. Other                                                                                                                             1\n",
       "11. Improper backing; 98. Other                                                                                                                                                                5\n",
       "11. Improper backing; 99. Unknown                                                                                                                                                              5\n",
       "12. Improper passing                                                                                                                                                                          40\n",
       "12. Improper passing; 13. Improper parking location; 18. Failed to keep in proper lane; 19. Erratic/reckless/careless/negligent/aggressive manner/unsafe operation                             1\n",
       "12. Improper passing; 15. Driver distraction; 18. Failed to keep in proper lane                                                                                                                1\n",
       "12. Improper passing; 15. Driver distraction; 18. Failed to keep in proper lane; 19. Erratic/reckless/careless/negligent/aggressive manner/unsafe operation                                    1\n",
       "12. Improper passing; 17. Followed too closely                                                                                                                                                 4\n",
       "12. Improper passing; 17. Followed too closely; 19. Erratic/reckless/careless/negligent/aggressive manner/unsafe operation                                                                     1\n",
       "12. Improper passing; 18. Failed to keep in proper lane                                                                                                                                        3\n",
       "12. Improper passing; 18. Failed to keep in proper lane; 19. Erratic/reckless/careless/negligent/aggressive manner/unsafe operation                                                            2\n",
       "12. Improper passing; 19. Erratic/reckless/careless/negligent/aggressive manner/unsafe operation                                                                                               5\n",
       "12. Improper passing; 23. Avoiding motor vehicle                                                                                                                                               2\n",
       "12. Improper passing; 23. Avoiding motor vehicle; 98. Other                                                                                                                                    2\n",
       "12. Improper passing; 98. Other                                                                                                                                                                1\n",
       "12. Improper passing; 99. Unknown                                                                                                                                                              2\n",
       "13. Improper parking location                                                                                                                                                                 60\n",
       "13. Improper parking location; 15. Driver distraction                                                                                                                                          1\n",
       "13. Improper parking location; 19. Erratic/reckless/careless/negligent/aggressive manner/unsafe operation                                                                                      1\n",
       "13. Improper parking location; 20. Avoiding an object on road; 23. Avoiding motor vehicle                                                                                                      1\n",
       "13. Improper parking location; 98. Other                                                                                                                                                       3\n",
       "14. Driving without lights                                                                                                                                                                     1\n",
       "14. Driving without lights; 98. Other                                                                                                                                                          1\n",
       "15. Driver distraction                                                                                                                                                                       162\n",
       "15. Driver distraction; 16. Wrong side/wrong way; 18. Failed to keep in proper lane                                                                                                            2\n",
       "15. Driver distraction; 16. Wrong side/wrong way; 18. Failed to keep in proper lane; 19. Erratic/reckless/careless/negligent/aggressive manner/unsafe operation                                2\n",
       "15. Driver distraction; 17. Followed too closely                                                                                                                                              38\n",
       "15. Driver distraction; 17. Followed too closely; 19. Erratic/reckless/careless/negligent/aggressive manner/unsafe operation                                                                   5\n",
       "15. Driver distraction; 17. Followed too closely; 23. Avoiding motor vehicle                                                                                                                   1\n",
       "15. Driver distraction; 17. Followed too closely; 23. Avoiding motor vehicle; 24. Over-correcting/over-steering                                                                                2\n",
       "15. Driver distraction; 18. Failed to keep in proper lane                                                                                                                                      8\n",
       "15. Driver distraction; 18. Failed to keep in proper lane; 19. Erratic/reckless/careless/negligent/aggressive manner/unsafe operation                                                          6\n",
       "15. Driver distraction; 18. Failed to keep in proper lane; 19. Erratic/reckless/careless/negligent/aggressive manner/unsafe operation; 24. Over-correcting/over-steering                       2\n",
       "15. Driver distraction; 18. Failed to keep in proper lane; 19. Erratic/reckless/careless/negligent/aggressive manner/unsafe operation; 98. Other                                               1\n",
       "15. Driver distraction; 18. Failed to keep in proper lane; 24. Over-correcting/over-steering; 25. Swerve due to wind/slippery surface                                                          1\n",
       "15. Driver distraction; 18. Failed to keep in proper lane; 98. Other                                                                                                                           1\n",
       "15. Driver distraction; 19. Erratic/reckless/careless/negligent/aggressive manner/unsafe operation                                                                                            18\n",
       "15. Driver distraction; 19. Erratic/reckless/careless/negligent/aggressive manner/unsafe operation; 22. Avoiding non-motorist/pedestrian                                                       1\n",
       "15. Driver distraction; 19. Erratic/reckless/careless/negligent/aggressive manner/unsafe operation; 23. Avoiding motor vehicle                                                                 4\n",
       "15. Driver distraction; 19. Erratic/reckless/careless/negligent/aggressive manner/unsafe operation; 24. Over-correcting/over-steering                                                          1\n",
       "15. Driver distraction; 20. Avoiding an object on road                                                                                                                                         1\n",
       "15. Driver distraction; 21. Avoiding animal; 98. Other                                                                                                                                         1\n",
       "15. Driver distraction; 22. Avoiding non-motorist/pedestrian                                                                                                                                   2\n",
       "15. Driver distraction; 23. Avoiding motor vehicle                                                                                                                                             2\n",
       "15. Driver distraction; 23. Avoiding motor vehicle; 98. Other                                                                                                                                  1\n",
       "15. Driver distraction; 24. Over-correcting/over-steering                                                                                                                                      1\n",
       "15. Driver distraction; 98. Other                                                                                                                                                              7\n",
       "15. Driver distraction; 99. Unknown                                                                                                                                                            2\n",
       "16. Wrong side/wrong way                                                                                                                                                                      14\n",
       "16. Wrong side/wrong way; 18. Failed to keep in proper lane                                                                                                                                    1\n",
       "16. Wrong side/wrong way; 18. Failed to keep in proper lane; 19. Erratic/reckless/careless/negligent/aggressive manner/unsafe operation                                                        4\n",
       "16. Wrong side/wrong way; 18. Failed to keep in proper lane; 98. Other                                                                                                                         1\n",
       "16. Wrong side/wrong way; 18. Failed to keep in proper lane; 99. Unknown                                                                                                                       2\n",
       "16. Wrong side/wrong way; 19. Erratic/reckless/careless/negligent/aggressive manner/unsafe operation                                                                                           1\n",
       "16. Wrong side/wrong way; 21. Avoiding animal                                                                                                                                                  2\n",
       "16. Wrong side/wrong way; 24. Over-correcting/over-steering                                                                                                                                    1\n",
       "16. Wrong side/wrong way; 25. Swerve due to wind/slippery surface                                                                                                                              1\n",
       "17. Followed too closely                                                                                                                                                                     503\n",
       "17. Followed too closely; 18. Failed to keep in proper lane                                                                                                                                    1\n",
       "17. Followed too closely; 19. Erratic/reckless/careless/negligent/aggressive manner/unsafe operation                                                                                          32\n",
       "17. Followed too closely; 19. Erratic/reckless/careless/negligent/aggressive manner/unsafe operation; 23. Avoiding motor vehicle                                                               2\n",
       "17. Followed too closely; 19. Erratic/reckless/careless/negligent/aggressive manner/unsafe operation; 98. Other                                                                                1\n",
       "17. Followed too closely; 20. Avoiding an object on road; 23. Avoiding motor vehicle                                                                                                           2\n",
       "17. Followed too closely; 23. Avoiding motor vehicle                                                                                                                                          17\n",
       "17. Followed too closely; 23. Avoiding motor vehicle; 98. Other                                                                                                                                1\n",
       "17. Followed too closely; 98. Other                                                                                                                                                           16\n",
       "17. Followed too closely; 99. Unknown                                                                                                                                                          2\n",
       "18. Failed to keep in proper lane                                                                                                                                                            224\n",
       "18. Failed to keep in proper lane; 19. Erratic/reckless/careless/negligent/aggressive manner/unsafe operation                                                                                 29\n",
       "18. Failed to keep in proper lane; 19. Erratic/reckless/careless/negligent/aggressive manner/unsafe operation; 23. Avoiding motor vehicle                                                      1\n",
       "18. Failed to keep in proper lane; 19. Erratic/reckless/careless/negligent/aggressive manner/unsafe operation; 24. Over-correcting/over-steering                                               1\n",
       "18. Failed to keep in proper lane; 19. Erratic/reckless/careless/negligent/aggressive manner/unsafe operation; 98. Other                                                                       2\n",
       "18. Failed to keep in proper lane; 23. Avoiding motor vehicle                                                                                                                                  7\n",
       "18. Failed to keep in proper lane; 24. Over-correcting/over-steering                                                                                                                           8\n",
       "18. Failed to keep in proper lane; 24. Over-correcting/over-steering; 25. Swerve due to wind/slippery surface                                                                                  3\n",
       "18. Failed to keep in proper lane; 25. Swerve due to wind/slippery surface                                                                                                                     5\n",
       "18. Failed to keep in proper lane; 25. Swerve due to wind/slippery surface; 98. Other                                                                                                          1\n",
       "18. Failed to keep in proper lane; 98. Other                                                                                                                                                   9\n",
       "18. Failed to keep in proper lane; 99. Unknown                                                                                                                                                 1\n",
       "19. Erratic/reckless/careless/negligent/aggressive manner/unsafe operation                                                                                                                   247\n",
       "19. Erratic/reckless/careless/negligent/aggressive manner/unsafe operation; 21. Avoiding animal                                                                                                2\n",
       "19. Erratic/reckless/careless/negligent/aggressive manner/unsafe operation; 23. Avoiding motor vehicle                                                                                         7\n",
       "19. Erratic/reckless/careless/negligent/aggressive manner/unsafe operation; 24. Over-correcting/over-steering                                                                                  3\n",
       "19. Erratic/reckless/careless/negligent/aggressive manner/unsafe operation; 24. Over-correcting/over-steering; 98. Other                                                                       1\n",
       "19. Erratic/reckless/careless/negligent/aggressive manner/unsafe operation; 25. Swerve due to wind/slippery surface                                                                            1\n",
       "19. Erratic/reckless/careless/negligent/aggressive manner/unsafe operation; 26. Evading law enforcement                                                                                        4\n",
       "19. Erratic/reckless/careless/negligent/aggressive manner/unsafe operation; 26. Evading law enforcement; 98. Other                                                                             2\n",
       "19. Erratic/reckless/careless/negligent/aggressive manner/unsafe operation; 98. Other                                                                                                         18\n",
       "19. Erratic/reckless/careless/negligent/aggressive manner/unsafe operation; 99. Unknown                                                                                                        2\n",
       "20. Avoiding an object on road                                                                                                                                                                32\n",
       "20. Avoiding an object on road; 21. Avoiding animal                                                                                                                                            2\n",
       "20. Avoiding an object on road; 23. Avoiding motor vehicle                                                                                                                                     1\n",
       "20. Avoiding an object on road; 24. Over-correcting/over-steering; 99. Unknown                                                                                                                 1\n",
       "20. Avoiding an object on road; 98. Other                                                                                                                                                      3\n",
       "20. Avoiding an object on road; 99. Unknown                                                                                                                                                    2\n",
       "21. Avoiding animal                                                                                                                                                                          140\n",
       "21. Avoiding animal; 23. Avoiding motor vehicle                                                                                                                                                3\n",
       "21. Avoiding animal; 24. Over-correcting/over-steering                                                                                                                                         2\n",
       "21. Avoiding animal; 98. Other                                                                                                                                                                 2\n",
       "21. Avoiding animal; 99. Unknown                                                                                                                                                               1\n",
       "22. Avoiding non-motorist/pedestrian                                                                                                                                                          14\n",
       "22. Avoiding non-motorist/pedestrian; 23. Avoiding motor vehicle; 98. Other                                                                                                                    2\n",
       "22. Avoiding non-motorist/pedestrian; 24. Over-correcting/over-steering                                                                                                                        1\n",
       "23. Avoiding motor vehicle                                                                                                                                                                   197\n",
       "23. Avoiding motor vehicle; 24. Over-correcting/over-steering                                                                                                                                  2\n",
       "23. Avoiding motor vehicle; 24. Over-correcting/over-steering; 98. Other                                                                                                                       1\n",
       "23. Avoiding motor vehicle; 25. Swerve due to wind/slippery surface                                                                                                                            9\n",
       "23. Avoiding motor vehicle; 25. Swerve due to wind/slippery surface; 98. Other                                                                                                                 1\n",
       "23. Avoiding motor vehicle; 98. Other                                                                                                                                                          6\n",
       "23. Avoiding motor vehicle; 99. Unknown                                                                                                                                                        1\n",
       "24. Over-correcting/over-steering                                                                                                                                                             46\n",
       "24. Over-correcting/over-steering; 25. Swerve due to wind/slippery surface                                                                                                                     4\n",
       "24. Over-correcting/over-steering; 98. Other                                                                                                                                                   1\n",
       "25. Swerve due to wind/slippery surface                                                                                                                                                       26\n",
       "25. Swerve due to wind/slippery surface; 98. Other                                                                                                                                             2\n",
       "26. Evading law enforcement                                                                                                                                                                    2\n",
       "98. Other                                                                                                                                                                                    578\n",
       "98. Other; 99. Unknown                                                                                                                                                                        13\n",
       "99. Unknown                                                                                                                                                                                  585\n",
       "Name: Driver_Action, dtype: int64"
      ]
     },
     "execution_count": 30,
     "metadata": {},
     "output_type": "execute_result"
    }
   ],
   "source": [
    "imars_passenger.Driver_Action.value_counts().sort_index()"
   ]
  },
  {
   "cell_type": "code",
   "execution_count": 31,
   "id": "a1d88216",
   "metadata": {
    "scrolled": true
   },
   "outputs": [
    {
     "data": {
      "text/plain": [
       "2000                  22. Avoiding non-motorist/pedestrian\n",
       "2002                  22. Avoiding non-motorist/pedestrian\n",
       "3612                  22. Avoiding non-motorist/pedestrian\n",
       "3655                  22. Avoiding non-motorist/pedestrian\n",
       "3657                  22. Avoiding non-motorist/pedestrian\n",
       "3659                  22. Avoiding non-motorist/pedestrian\n",
       "3661                  22. Avoiding non-motorist/pedestrian\n",
       "3663                  22. Avoiding non-motorist/pedestrian\n",
       "5628     15. Driver distraction; 22. Avoiding non-motor...\n",
       "6380     02. Ran off roadway; 22. Avoiding non-motorist...\n",
       "6415                  22. Avoiding non-motorist/pedestrian\n",
       "6799                  22. Avoiding non-motorist/pedestrian\n",
       "7843     22. Avoiding non-motorist/pedestrian; 23. Avoi...\n",
       "7846     22. Avoiding non-motorist/pedestrian; 23. Avoi...\n",
       "8064                  22. Avoiding non-motorist/pedestrian\n",
       "8496     15. Driver distraction; 19. Erratic/reckless/c...\n",
       "8609     09. Drove too fast for conditions; 22. Avoidin...\n",
       "8610     09. Drove too fast for conditions; 22. Avoidin...\n",
       "11896                 22. Avoiding non-motorist/pedestrian\n",
       "12209                 22. Avoiding non-motorist/pedestrian\n",
       "14016    02. Ran off roadway; 22. Avoiding non-motorist...\n",
       "21417                 22. Avoiding non-motorist/pedestrian\n",
       "24664    02. Ran off roadway; 15. Driver distraction; 2...\n",
       "26480    15. Driver distraction; 22. Avoiding non-motor...\n",
       "26495    22. Avoiding non-motorist/pedestrian; 24. Over...\n",
       "27610    11. Improper backing; 15. Driver distraction; ...\n",
       "Name: Driver_Action, dtype: object"
      ]
     },
     "execution_count": 31,
     "metadata": {},
     "output_type": "execute_result"
    }
   ],
   "source": [
    "VRU_crashes = imars_passenger.loc[imars_passenger['Driver_Action'].str.contains(\"22. Avoiding non-motorist/pedestrian\")==True]\n",
    "VRU_crashes['Driver_Action']"
   ]
  },
  {
   "cell_type": "code",
   "execution_count": 32,
   "id": "40b6b602",
   "metadata": {},
   "outputs": [
    {
     "data": {
      "text/plain": [
       "(26, 37)"
      ]
     },
     "execution_count": 32,
     "metadata": {},
     "output_type": "execute_result"
    }
   ],
   "source": [
    "VRU_crashes.shape"
   ]
  },
  {
   "cell_type": "code",
   "execution_count": 33,
   "id": "f6dcc955",
   "metadata": {},
   "outputs": [],
   "source": [
    "# 26 crashes included \"Avoiding non-motorist/pedestrian\" as (at least one of the) contributing factors"
   ]
  },
  {
   "cell_type": "code",
   "execution_count": 34,
   "id": "f0f84c25",
   "metadata": {},
   "outputs": [
    {
     "data": {
      "text/plain": [
       "(15854, 37)"
      ]
     },
     "execution_count": 34,
     "metadata": {},
     "output_type": "execute_result"
    }
   ],
   "source": [
    "imars_passenger.loc[imars_passenger['Driver_Action'].isnull()==True].shape"
   ]
  },
  {
   "cell_type": "code",
   "execution_count": 35,
   "id": "4d11962c",
   "metadata": {},
   "outputs": [
    {
     "data": {
      "text/plain": [
       "56.8"
      ]
     },
     "execution_count": 35,
     "metadata": {},
     "output_type": "execute_result"
    }
   ],
   "source": [
    "#the percentage of passenger records with missing \"Driver Action\" entries is:\n",
    "round(15854/27931,3)*100"
   ]
  },
  {
   "cell_type": "code",
   "execution_count": 36,
   "id": "045dd12d",
   "metadata": {},
   "outputs": [
    {
     "data": {
      "text/plain": [
       "01. No improper action                                                                       160\n",
       "01. No improper action; 02. Dart/dash                                                          1\n",
       "01. No improper action; 09. Inattentive                                                        2\n",
       "01. No improper action; 10. Not visible                                                        1\n",
       "02. Dart/dash                                                                                 11\n",
       "02. Dart/dash; 03. Failure to yield right-of-way                                               1\n",
       "02. Dart/dash; 04. Failure to obey traffic signs, signals, or officer                          1\n",
       "02. Dart/dash; 05. In roadway improperly (standing, lying, working, playing)                   1\n",
       "02. Dart/dash; 09. Inattentive                                                                 1\n",
       "02. Dart/dash; 10. Not visible                                                                 1\n",
       "03. Failure to yield right-of-way                                                              4\n",
       "03. Failure to yield right-of-way; 04. Failure to obey traffic signs, signals, or officer      3\n",
       "03. Failure to yield right-of-way; 13. Wrong-way riding or walking                             1\n",
       "04. Failure to obey traffic signs, signals, or officer                                         8\n",
       "04. Failure to obey traffic signs, signals, or officer; 09. Inattentive                        2\n",
       "05. In roadway improperly (standing, lying, working, playing)                                  8\n",
       "05. In roadway improperly (standing, lying, working, playing); 09. Inattentive                 2\n",
       "05. In roadway improperly (standing, lying, working, playing); 10. Not visible                 2\n",
       "06. Bicyclists riding 2+ abreast                                                               1\n",
       "07. Disabled vehicle related                                                                   1\n",
       "08. Entering/exiting parked/standing vehicle                                                   1\n",
       "08. Entering/exiting parked/standing vehicle; 14. Other                                        1\n",
       "09. Inattentive                                                                               17\n",
       "09. Inattentive; 11. Improper turn/merge                                                       2\n",
       "09. Inattentive; 12. Improper passing                                                          1\n",
       "09. Inattentive; 14. Other                                                                     1\n",
       "10. Not visible                                                                                3\n",
       "10. Not visible; 14. Other                                                                     1\n",
       "11. Improper turn/merge                                                                        1\n",
       "11. Improper turn/merge; 12. Improper passing                                                  1\n",
       "12. Improper passing                                                                           2\n",
       "12. Improper passing; 14. Other                                                                1\n",
       "13. Wrong-way riding or walking                                                                2\n",
       "14. Other                                                                                     27\n",
       "99. Unknown                                                                                   38\n",
       "Name: Non_motorist_action_circumstance_at_time_of_crash, dtype: int64"
      ]
     },
     "execution_count": 36,
     "metadata": {},
     "output_type": "execute_result"
    }
   ],
   "source": [
    "imars_passenger.Non_motorist_action_circumstance_at_time_of_crash.value_counts().sort_index()"
   ]
  },
  {
   "cell_type": "code",
   "execution_count": 40,
   "id": "fdda4cfe",
   "metadata": {},
   "outputs": [
    {
     "data": {
      "text/plain": [
       "6550    06. Bicyclists riding 2+ abreast\n",
       "Name: Non_motorist_action_circumstance_at_time_of_crash, dtype: object"
      ]
     },
     "execution_count": 40,
     "metadata": {},
     "output_type": "execute_result"
    }
   ],
   "source": [
    "TwoCyclist_crashes = imars_passenger.loc[imars_passenger['Non_motorist_action_circumstance_at_time_of_crash'].str.contains(\"06.\")==True]\n",
    "TwoCyclist_crashes['Non_motorist_action_circumstance_at_time_of_crash']"
   ]
  },
  {
   "cell_type": "code",
   "execution_count": 41,
   "id": "ae189f62",
   "metadata": {},
   "outputs": [
    {
     "data": {
      "text/plain": [
       "(27620, 37)"
      ]
     },
     "execution_count": 41,
     "metadata": {},
     "output_type": "execute_result"
    }
   ],
   "source": [
    "imars_passenger.loc[imars_passenger['Non_motorist_action_circumstance_at_time_of_crash'].isnull()==True].shape"
   ]
  },
  {
   "cell_type": "code",
   "execution_count": 42,
   "id": "73c868d4",
   "metadata": {},
   "outputs": [
    {
     "data": {
      "text/plain": [
       "98.9"
      ]
     },
     "execution_count": 42,
     "metadata": {},
     "output_type": "execute_result"
    }
   ],
   "source": [
    "#the percentage of passenger records with missing \"Non-motorist actions at time of crash\" entries is:\n",
    "round(27620/27931,3)*100"
   ]
  },
  {
   "cell_type": "code",
   "execution_count": 44,
   "id": "b2c2ee5f",
   "metadata": {},
   "outputs": [
    {
     "data": {
      "text/plain": [
       "01. Intersection-marked crosswalk       34\n",
       "02. Intersection-unmarked crosswalk      3\n",
       "03. Intersection-other                  21\n",
       "04. Midblock-marked crosswalk            2\n",
       "05. Travel lane-other location          66\n",
       "06. Bicycle lane                        14\n",
       "07. Shoulder/roadside                   61\n",
       "08. Sidewalk                             3\n",
       "09. Median/crossing island               1\n",
       "10. Driveway access                      3\n",
       "11. Shared-use path or trail             7\n",
       "12. Non-roadway area                     6\n",
       "13. Other                               55\n",
       "99. Unknown                            145\n",
       "Name: Non_motorist_location_at_time_of_crash, dtype: int64"
      ]
     },
     "execution_count": 44,
     "metadata": {},
     "output_type": "execute_result"
    }
   ],
   "source": [
    "imars_passenger.Non_motorist_location_at_time_of_crash.value_counts().sort_index()"
   ]
  },
  {
   "cell_type": "code",
   "execution_count": 45,
   "id": "74bf3cc9",
   "metadata": {},
   "outputs": [
    {
     "data": {
      "text/plain": [
       "(27510, 37)"
      ]
     },
     "execution_count": 45,
     "metadata": {},
     "output_type": "execute_result"
    }
   ],
   "source": [
    "imars_passenger.loc[imars_passenger['Non_motorist_location_at_time_of_crash'].isnull()==True].shape"
   ]
  },
  {
   "cell_type": "code",
   "execution_count": 46,
   "id": "3f0ed2fc",
   "metadata": {},
   "outputs": [
    {
     "data": {
      "text/plain": [
       "98.5"
      ]
     },
     "execution_count": 46,
     "metadata": {},
     "output_type": "execute_result"
    }
   ],
   "source": [
    "#the percentage of passenger records with missing \"Non-mortorist locations at time of crash\" entries is:\n",
    "round(27510/27931,3)*100"
   ]
  },
  {
   "cell_type": "code",
   "execution_count": 5,
   "id": "b4b517b4",
   "metadata": {},
   "outputs": [
    {
     "data": {
      "text/plain": [
       "AKR      66\n",
       "IMR    1390\n",
       "MWR     176\n",
       "NCR     465\n",
       "NER     428\n",
       "PWR    1775\n",
       "SER    1815\n",
       "Name: Region, dtype: int64"
      ]
     },
     "execution_count": 5,
     "metadata": {},
     "output_type": "execute_result"
    }
   ],
   "source": [
    "imars_crash.Region.value_counts().sort_index()"
   ]
  },
  {
   "cell_type": "code",
   "execution_count": 6,
   "id": "75bc7fad",
   "metadata": {},
   "outputs": [
    {
     "data": {
      "text/plain": [
       "(6595, 55)"
      ]
     },
     "execution_count": 6,
     "metadata": {},
     "output_type": "execute_result"
    }
   ],
   "source": [
    "imars_crash.loc[imars_crash['Region'].isnull()==True].shape"
   ]
  },
  {
   "cell_type": "code",
   "execution_count": 7,
   "id": "261bc85b",
   "metadata": {},
   "outputs": [
    {
     "data": {
      "text/plain": [
       "AK      3\n",
       "IM     60\n",
       "MW      3\n",
       "NC    255\n",
       "NE     23\n",
       "PW     52\n",
       "SE    109\n",
       "Name: REGION, dtype: int64"
      ]
     },
     "execution_count": 7,
     "metadata": {},
     "output_type": "execute_result"
    }
   ],
   "source": [
    "imars_crash.REGION.value_counts().sort_index()"
   ]
  },
  {
   "cell_type": "code",
   "execution_count": 8,
   "id": "f262053c",
   "metadata": {},
   "outputs": [
    {
     "data": {
      "text/plain": [
       "(12205, 55)"
      ]
     },
     "execution_count": 8,
     "metadata": {},
     "output_type": "execute_result"
    }
   ],
   "source": [
    "imars_crash.loc[imars_crash['REGION'].isnull()==True].shape"
   ]
  },
  {
   "cell_type": "code",
   "execution_count": 6,
   "id": "ef884ad9",
   "metadata": {},
   "outputs": [
    {
     "data": {
      "text/plain": [
       "01. None                                                                                                                                                10101\n",
       "01. None; 02. Road surface condition (wet, icy, snow, slush, etc.)                                                                                         10\n",
       "01. None; 03. Debris                                                                                                                                        1\n",
       "01. None; 03. Debris; 04. Rut, holes, bumps                                                                                                                 1\n",
       "01. None; 04. Rut, holes, bumps                                                                                                                             2\n",
       "01. None; 04. Rut, holes, bumps; 06. Worn, travel-polished surface                                                                                          1\n",
       "01. None; 04. Rut, holes, bumps; 07. Obstruction in roadway (i.e. vehicles, etc.)                                                                           1\n",
       "01. None; 05. Work zone                                                                                                                                     8\n",
       "01. None; 07. Obstruction in roadway (i.e. vehicles, etc.)                                                                                                 10\n",
       "01. None; 09. Shoulders (none, low, soft, high)                                                                                                            14\n",
       "01. None; 11. Other                                                                                                                                        19\n",
       "01. None; 11. Other; 99. Unknown                                                                                                                            1\n",
       "01. None; 99. Unknown                                                                                                                                      24\n",
       "02. Road surface condition (wet, icy, snow, slush, etc.)                                                                                                 1503\n",
       "02. Road surface condition (wet, icy, snow, slush, etc.); 03. Debris                                                                                       43\n",
       "02. Road surface condition (wet, icy, snow, slush, etc.); 03. Debris; 04. Rut, holes, bumps                                                                 3\n",
       "02. Road surface condition (wet, icy, snow, slush, etc.); 03. Debris; 05. Work zone                                                                         1\n",
       "02. Road surface condition (wet, icy, snow, slush, etc.); 03. Debris; 07. Obstruction in roadway (i.e. vehicles, etc.)                                     17\n",
       "02. Road surface condition (wet, icy, snow, slush, etc.); 03. Debris; 09. Shoulders (none, low, soft, high)                                                 5\n",
       "02. Road surface condition (wet, icy, snow, slush, etc.); 03. Debris; 11. Other                                                                             2\n",
       "02. Road surface condition (wet, icy, snow, slush, etc.); 04. Rut, holes, bumps                                                                            38\n",
       "02. Road surface condition (wet, icy, snow, slush, etc.); 04. Rut, holes, bumps; 05. Work zone                                                              2\n",
       "02. Road surface condition (wet, icy, snow, slush, etc.); 04. Rut, holes, bumps; 06. Worn, travel-polished surface                                          2\n",
       "02. Road surface condition (wet, icy, snow, slush, etc.); 04. Rut, holes, bumps; 07. Obstruction in roadway (i.e. vehicles, etc.)                           1\n",
       "02. Road surface condition (wet, icy, snow, slush, etc.); 04. Rut, holes, bumps; 09. Shoulders (none, low, soft, high)                                     15\n",
       "02. Road surface condition (wet, icy, snow, slush, etc.); 04. Rut, holes, bumps; 11. Other                                                                  3\n",
       "02. Road surface condition (wet, icy, snow, slush, etc.); 05. Work zone                                                                                    11\n",
       "02. Road surface condition (wet, icy, snow, slush, etc.); 05. Work zone; 07. Obstruction in roadway (i.e. vehicles, etc.)                                   3\n",
       "02. Road surface condition (wet, icy, snow, slush, etc.); 05. Work zone; 09. Shoulders (none, low, soft, high)                                              1\n",
       "02. Road surface condition (wet, icy, snow, slush, etc.); 05. Work zone; 10. Off roadway work lane markings missing or faded                                1\n",
       "02. Road surface condition (wet, icy, snow, slush, etc.); 05. Work zone; 11. Other                                                                          2\n",
       "02. Road surface condition (wet, icy, snow, slush, etc.); 06. Worn, travel-polished surface                                                                 7\n",
       "02. Road surface condition (wet, icy, snow, slush, etc.); 06. Worn, travel-polished surface; 09. Shoulders (none, low, soft, high)                          3\n",
       "02. Road surface condition (wet, icy, snow, slush, etc.); 06. Worn, travel-polished surface; 10. Off roadway work lane markings missing or faded            1\n",
       "02. Road surface condition (wet, icy, snow, slush, etc.); 06. Worn, travel-polished surface; 11. Other                                                      2\n",
       "02. Road surface condition (wet, icy, snow, slush, etc.); 07. Obstruction in roadway (i.e. vehicles, etc.)                                                 42\n",
       "02. Road surface condition (wet, icy, snow, slush, etc.); 07. Obstruction in roadway (i.e. vehicles, etc.); 08. Traffic control device obscured             1\n",
       "02. Road surface condition (wet, icy, snow, slush, etc.); 07. Obstruction in roadway (i.e. vehicles, etc.); 09. Shoulders (none, low, soft, high)           5\n",
       "02. Road surface condition (wet, icy, snow, slush, etc.); 07. Obstruction in roadway (i.e. vehicles, etc.); 11. Other                                       5\n",
       "02. Road surface condition (wet, icy, snow, slush, etc.); 08. Traffic control device obscured                                                               6\n",
       "02. Road surface condition (wet, icy, snow, slush, etc.); 08. Traffic control device obscured; 09. Shoulders (none, low, soft, high)                        1\n",
       "02. Road surface condition (wet, icy, snow, slush, etc.); 09. Shoulders (none, low, soft, high)                                                            75\n",
       "02. Road surface condition (wet, icy, snow, slush, etc.); 09. Shoulders (none, low, soft, high); 10. Off roadway work lane markings missing or faded        2\n",
       "02. Road surface condition (wet, icy, snow, slush, etc.); 09. Shoulders (none, low, soft, high); 11. Other                                                  2\n",
       "02. Road surface condition (wet, icy, snow, slush, etc.); 09. Shoulders (none, low, soft, high); 99. Unknown                                                1\n",
       "02. Road surface condition (wet, icy, snow, slush, etc.); 10. Off roadway work lane markings missing or faded                                               2\n",
       "02. Road surface condition (wet, icy, snow, slush, etc.); 11. Other                                                                                        19\n",
       "02. Road surface condition (wet, icy, snow, slush, etc.); 99. Unknown                                                                                       5\n",
       "03. Debris                                                                                                                                                111\n",
       "03. Debris; 04. Rut, holes, bumps                                                                                                                          10\n",
       "03. Debris; 04. Rut, holes, bumps; 05. Work zone                                                                                                            1\n",
       "03. Debris; 04. Rut, holes, bumps; 07. Obstruction in roadway (i.e. vehicles, etc.)                                                                         1\n",
       "03. Debris; 04. Rut, holes, bumps; 09. Shoulders (none, low, soft, high)                                                                                    2\n",
       "03. Debris; 04. Rut, holes, bumps; 11. Other                                                                                                                2\n",
       "03. Debris; 05. Work zone                                                                                                                                   3\n",
       "03. Debris; 05. Work zone; 08. Traffic control device obscured                                                                                              1\n",
       "03. Debris; 07. Obstruction in roadway (i.e. vehicles, etc.)                                                                                               16\n",
       "03. Debris; 07. Obstruction in roadway (i.e. vehicles, etc.); 11. Other                                                                                     2\n",
       "03. Debris; 07. Obstruction in roadway (i.e. vehicles, etc.); 99. Unknown                                                                                   1\n",
       "03. Debris; 08. Traffic control device obscured                                                                                                             1\n",
       "03. Debris; 09. Shoulders (none, low, soft, high)                                                                                                           3\n",
       "03. Debris; 11. Other                                                                                                                                       4\n",
       "04. Rut, holes, bumps                                                                                                                                     169\n",
       "04. Rut, holes, bumps; 05. Work zone                                                                                                                        7\n",
       "04. Rut, holes, bumps; 05. Work zone; 08. Traffic control device obscured                                                                                   1\n",
       "04. Rut, holes, bumps; 05. Work zone; 10. Off roadway work lane markings missing or faded                                                                   2\n",
       "04. Rut, holes, bumps; 06. Worn, travel-polished surface                                                                                                    2\n",
       "04. Rut, holes, bumps; 06. Worn, travel-polished surface; 08. Traffic control device obscured                                                               1\n",
       "04. Rut, holes, bumps; 06. Worn, travel-polished surface; 09. Shoulders (none, low, soft, high)                                                             3\n",
       "04. Rut, holes, bumps; 06. Worn, travel-polished surface; 11. Other                                                                                         1\n",
       "04. Rut, holes, bumps; 07. Obstruction in roadway (i.e. vehicles, etc.)                                                                                     4\n",
       "04. Rut, holes, bumps; 07. Obstruction in roadway (i.e. vehicles, etc.); 10. Off roadway work lane markings missing or faded                                2\n",
       "04. Rut, holes, bumps; 09. Shoulders (none, low, soft, high)                                                                                               27\n",
       "04. Rut, holes, bumps; 09. Shoulders (none, low, soft, high); 10. Off roadway work lane markings missing or faded                                           1\n",
       "04. Rut, holes, bumps; 09. Shoulders (none, low, soft, high); 11. Other                                                                                     4\n",
       "04. Rut, holes, bumps; 10. Off roadway work lane markings missing or faded                                                                                  2\n",
       "04. Rut, holes, bumps; 11. Other                                                                                                                            8\n",
       "04. Rut, holes, bumps; 11. Other; 99. Unknown                                                                                                               1\n",
       "05. Work zone                                                                                                                                             117\n",
       "05. Work zone; 06. Worn, travel-polished surface                                                                                                            1\n",
       "05. Work zone; 07. Obstruction in roadway (i.e. vehicles, etc.)                                                                                             8\n",
       "05. Work zone; 07. Obstruction in roadway (i.e. vehicles, etc.); 09. Shoulders (none, low, soft, high)                                                      1\n",
       "05. Work zone; 07. Obstruction in roadway (i.e. vehicles, etc.); 11. Other                                                                                  1\n",
       "05. Work zone; 08. Traffic control device obscured                                                                                                          2\n",
       "05. Work zone; 09. Shoulders (none, low, soft, high)                                                                                                        7\n",
       "05. Work zone; 09. Shoulders (none, low, soft, high); 10. Off roadway work lane markings missing or faded                                                   2\n",
       "05. Work zone; 09. Shoulders (none, low, soft, high); 11. Other                                                                                             1\n",
       "05. Work zone; 10. Off roadway work lane markings missing or faded                                                                                          2\n",
       "05. Work zone; 99. Unknown                                                                                                                                  1\n",
       "06. Worn, travel-polished surface                                                                                                                           7\n",
       "06. Worn, travel-polished surface; 07. Obstruction in roadway (i.e. vehicles, etc.)                                                                         1\n",
       "06. Worn, travel-polished surface; 09. Shoulders (none, low, soft, high)                                                                                    3\n",
       "06. Worn, travel-polished surface; 11. Other                                                                                                                3\n",
       "06. Worn, travel-polished surface; 11. Other; 99. Unknown                                                                                                   1\n",
       "07. Obstruction in roadway (i.e. vehicles, etc.)                                                                                                          200\n",
       "07. Obstruction in roadway (i.e. vehicles, etc.); 08. Traffic control device obscured                                                                       3\n",
       "07. Obstruction in roadway (i.e. vehicles, etc.); 09. Shoulders (none, low, soft, high)                                                                    11\n",
       "07. Obstruction in roadway (i.e. vehicles, etc.); 09. Shoulders (none, low, soft, high); 11. Other                                                          1\n",
       "07. Obstruction in roadway (i.e. vehicles, etc.); 10. Off roadway work lane markings missing or faded; 11. Other                                            1\n",
       "07. Obstruction in roadway (i.e. vehicles, etc.); 11. Other                                                                                                 8\n",
       "08. Traffic control device obscured                                                                                                                         9\n",
       "09. Shoulders (none, low, soft, high)                                                                                                                     309\n",
       "09. Shoulders (none, low, soft, high); 10. Off roadway work lane markings missing or faded                                                                  3\n",
       "09. Shoulders (none, low, soft, high); 11. Other                                                                                                           13\n",
       "09. Shoulders (none, low, soft, high); 99. Unknown                                                                                                          4\n",
       "10. Off roadway work lane markings missing or faded                                                                                                        12\n",
       "11. Other                                                                                                                                                 253\n",
       "11. Other; 99. Unknown                                                                                                                                      1\n",
       "99. Unknown                                                                                                                                               438\n",
       "Name: AS_Road_Circumstance, dtype: int64"
      ]
     },
     "execution_count": 6,
     "metadata": {},
     "output_type": "execute_result"
    }
   ],
   "source": [
    "pd.options.display.max_rows = 10000000\n",
    "imars_crash_details.AS_Road_Circumstance.value_counts().sort_index()"
   ]
  },
  {
   "cell_type": "code",
   "execution_count": 7,
   "id": "b0e71fed",
   "metadata": {},
   "outputs": [
    {
     "data": {
      "text/plain": [
       "596                                          05. Work zone\n",
       "965                                01. None; 05. Work zone\n",
       "1060                                         05. Work zone\n",
       "1067     05. Work zone; 09. Shoulders (none, low, soft,...\n",
       "1136                  04. Rut, holes, bumps; 05. Work zone\n",
       "1187     05. Work zone; 08. Traffic control device obsc...\n",
       "1237                                         05. Work zone\n",
       "1290                                         05. Work zone\n",
       "1379                               01. None; 05. Work zone\n",
       "1544                                         05. Work zone\n",
       "1573                                         05. Work zone\n",
       "1643     05. Work zone; 09. Shoulders (none, low, soft,...\n",
       "1717     05. Work zone; 10. Off roadway work lane marki...\n",
       "1815                                         05. Work zone\n",
       "1943                                         05. Work zone\n",
       "2223     02. Road surface condition (wet, icy, snow, sl...\n",
       "2308     02. Road surface condition (wet, icy, snow, sl...\n",
       "2513                                         05. Work zone\n",
       "2516                                         05. Work zone\n",
       "2606                                         05. Work zone\n",
       "2636                                         05. Work zone\n",
       "2758     05. Work zone; 09. Shoulders (none, low, soft,...\n",
       "2856                                         05. Work zone\n",
       "2941     05. Work zone; 07. Obstruction in roadway (i.e...\n",
       "3028                  04. Rut, holes, bumps; 05. Work zone\n",
       "3045                                         05. Work zone\n",
       "3173                                         05. Work zone\n",
       "3176     05. Work zone; 09. Shoulders (none, low, soft,...\n",
       "3238                                         05. Work zone\n",
       "3428                                         05. Work zone\n",
       "3436     05. Work zone; 09. Shoulders (none, low, soft,...\n",
       "3453                                         05. Work zone\n",
       "3510                             03. Debris; 05. Work zone\n",
       "3622     05. Work zone; 07. Obstruction in roadway (i.e...\n",
       "3718                                         05. Work zone\n",
       "3783                                         05. Work zone\n",
       "3797                                         05. Work zone\n",
       "3829                                         05. Work zone\n",
       "4213                                         05. Work zone\n",
       "4248     05. Work zone; 07. Obstruction in roadway (i.e...\n",
       "4259     02. Road surface condition (wet, icy, snow, sl...\n",
       "4361                                         05. Work zone\n",
       "4418     02. Road surface condition (wet, icy, snow, sl...\n",
       "4535                                         05. Work zone\n",
       "4536                  04. Rut, holes, bumps; 05. Work zone\n",
       "4568                                         05. Work zone\n",
       "4611     04. Rut, holes, bumps; 05. Work zone; 10. Off ...\n",
       "4660                                         05. Work zone\n",
       "4685                                         05. Work zone\n",
       "4721                                         05. Work zone\n",
       "4819                            05. Work zone; 99. Unknown\n",
       "4868                                         05. Work zone\n",
       "4908                               01. None; 05. Work zone\n",
       "4987                                         05. Work zone\n",
       "5011                               01. None; 05. Work zone\n",
       "5078                                         05. Work zone\n",
       "5135     03. Debris; 05. Work zone; 08. Traffic control...\n",
       "5203     02. Road surface condition (wet, icy, snow, sl...\n",
       "5278     02. Road surface condition (wet, icy, snow, sl...\n",
       "5296                  04. Rut, holes, bumps; 05. Work zone\n",
       "5445                  04. Rut, holes, bumps; 05. Work zone\n",
       "5457     04. Rut, holes, bumps; 05. Work zone; 08. Traf...\n",
       "5477                                         05. Work zone\n",
       "5503                                         05. Work zone\n",
       "5519     02. Road surface condition (wet, icy, snow, sl...\n",
       "5569                                         05. Work zone\n",
       "5600     02. Road surface condition (wet, icy, snow, sl...\n",
       "5678                                         05. Work zone\n",
       "5868     02. Road surface condition (wet, icy, snow, sl...\n",
       "5888     05. Work zone; 08. Traffic control device obsc...\n",
       "5909                                         05. Work zone\n",
       "5934                                         05. Work zone\n",
       "6051                                         05. Work zone\n",
       "6052                                         05. Work zone\n",
       "6063                                         05. Work zone\n",
       "6114                                         05. Work zone\n",
       "6131                                         05. Work zone\n",
       "6311      05. Work zone; 06. Worn, travel-polished surface\n",
       "6333                                         05. Work zone\n",
       "6463     05. Work zone; 10. Off roadway work lane marki...\n",
       "6466                                         05. Work zone\n",
       "6560                                         05. Work zone\n",
       "6693                                         05. Work zone\n",
       "6697                               01. None; 05. Work zone\n",
       "6729                                         05. Work zone\n",
       "6733                  04. Rut, holes, bumps; 05. Work zone\n",
       "6736                                         05. Work zone\n",
       "6871                             03. Debris; 05. Work zone\n",
       "7457                                         05. Work zone\n",
       "7461                                         05. Work zone\n",
       "7769     02. Road surface condition (wet, icy, snow, sl...\n",
       "7812                                         05. Work zone\n",
       "7914                                         05. Work zone\n",
       "8065                                         05. Work zone\n",
       "8077                                         05. Work zone\n",
       "8135                                         05. Work zone\n",
       "8209                                         05. Work zone\n",
       "8227                                         05. Work zone\n",
       "8228     05. Work zone; 07. Obstruction in roadway (i.e...\n",
       "8433                                         05. Work zone\n",
       "8533                                         05. Work zone\n",
       "8634                                         05. Work zone\n",
       "8667                               01. None; 05. Work zone\n",
       "8733                                         05. Work zone\n",
       "8742                                         05. Work zone\n",
       "8802                                         05. Work zone\n",
       "8925     02. Road surface condition (wet, icy, snow, sl...\n",
       "8941     05. Work zone; 07. Obstruction in roadway (i.e...\n",
       "9007                                         05. Work zone\n",
       "9008                                         05. Work zone\n",
       "9057                                         05. Work zone\n",
       "9085                  04. Rut, holes, bumps; 05. Work zone\n",
       "9093                                         05. Work zone\n",
       "9133                                         05. Work zone\n",
       "9201     05. Work zone; 07. Obstruction in roadway (i.e...\n",
       "9217                                         05. Work zone\n",
       "9350     02. Road surface condition (wet, icy, snow, sl...\n",
       "9438                                         05. Work zone\n",
       "9445                                         05. Work zone\n",
       "9460                                         05. Work zone\n",
       "9501                                         05. Work zone\n",
       "9513     02. Road surface condition (wet, icy, snow, sl...\n",
       "9651                                         05. Work zone\n",
       "9672                                         05. Work zone\n",
       "9841                                         05. Work zone\n",
       "9846     05. Work zone; 07. Obstruction in roadway (i.e...\n",
       "9894     05. Work zone; 07. Obstruction in roadway (i.e...\n",
       "10036                                        05. Work zone\n",
       "10175                                        05. Work zone\n",
       "10304    02. Road surface condition (wet, icy, snow, sl...\n",
       "10514                                        05. Work zone\n",
       "10539                                        05. Work zone\n",
       "10546                                        05. Work zone\n",
       "10781                              01. None; 05. Work zone\n",
       "10983                              01. None; 05. Work zone\n",
       "10984                                        05. Work zone\n",
       "11016                                        05. Work zone\n",
       "11039                                        05. Work zone\n",
       "11060                                        05. Work zone\n",
       "11179                                        05. Work zone\n",
       "11193    05. Work zone; 09. Shoulders (none, low, soft,...\n",
       "11254                                        05. Work zone\n",
       "11315                                        05. Work zone\n",
       "11326    04. Rut, holes, bumps; 05. Work zone; 10. Off ...\n",
       "11364                                        05. Work zone\n",
       "11379                                        05. Work zone\n",
       "11381                                        05. Work zone\n",
       "11482                                        05. Work zone\n",
       "11512                                        05. Work zone\n",
       "11556    05. Work zone; 09. Shoulders (none, low, soft,...\n",
       "11581    05. Work zone; 09. Shoulders (none, low, soft,...\n",
       "11746     03. Debris; 04. Rut, holes, bumps; 05. Work zone\n",
       "11839                                        05. Work zone\n",
       "11948    05. Work zone; 07. Obstruction in roadway (i.e...\n",
       "12086                                        05. Work zone\n",
       "12238                                        05. Work zone\n",
       "12289                                        05. Work zone\n",
       "12302                                        05. Work zone\n",
       "12396    02. Road surface condition (wet, icy, snow, sl...\n",
       "12428                                        05. Work zone\n",
       "12481                            03. Debris; 05. Work zone\n",
       "12754                                        05. Work zone\n",
       "12816    02. Road surface condition (wet, icy, snow, sl...\n",
       "12888    02. Road surface condition (wet, icy, snow, sl...\n",
       "12936    02. Road surface condition (wet, icy, snow, sl...\n",
       "12942                                        05. Work zone\n",
       "13137                                        05. Work zone\n",
       "13203    05. Work zone; 09. Shoulders (none, low, soft,...\n",
       "13280                                        05. Work zone\n",
       "13319    02. Road surface condition (wet, icy, snow, sl...\n",
       "13454                                        05. Work zone\n",
       "13541                                        05. Work zone\n",
       "13627                                        05. Work zone\n",
       "13764                                        05. Work zone\n",
       "13830                                        05. Work zone\n",
       "14070    05. Work zone; 09. Shoulders (none, low, soft,...\n",
       "14071                                        05. Work zone\n",
       "14247                                        05. Work zone\n",
       "14329                                        05. Work zone\n",
       "14351                                        05. Work zone\n",
       "14424                                        05. Work zone\n",
       "14506                                        05. Work zone\n",
       "14512                                        05. Work zone\n",
       "14666    05. Work zone; 07. Obstruction in roadway (i.e...\n",
       "14903    02. Road surface condition (wet, icy, snow, sl...\n",
       "14911    02. Road surface condition (wet, icy, snow, sl...\n",
       "15162                                        05. Work zone\n",
       "Name: AS_Road_Circumstance, dtype: object"
      ]
     },
     "execution_count": 7,
     "metadata": {},
     "output_type": "execute_result"
    }
   ],
   "source": [
    "WorkZone_crashes = imars_crash_details.loc[imars_crash_details['AS_Road_Circumstance'].str.contains(\"05. Work zone\")==True]\n",
    "WorkZone_crashes['AS_Road_Circumstance']"
   ]
  },
  {
   "cell_type": "code",
   "execution_count": 8,
   "id": "05db1133",
   "metadata": {},
   "outputs": [
    {
     "data": {
      "text/plain": [
       "(187, 31)"
      ]
     },
     "execution_count": 8,
     "metadata": {},
     "output_type": "execute_result"
    }
   ],
   "source": [
    "WorkZone_crashes.shape"
   ]
  },
  {
   "cell_type": "code",
   "execution_count": 10,
   "id": "a3743eb6",
   "metadata": {},
   "outputs": [
    {
     "data": {
      "text/plain": [
       "(1460, 31)"
      ]
     },
     "execution_count": 10,
     "metadata": {},
     "output_type": "execute_result"
    }
   ],
   "source": [
    "imars_crash_details.loc[imars_crash_details['AS_Road_Circumstance'].isnull()==True].shape"
   ]
  },
  {
   "cell_type": "code",
   "execution_count": 9,
   "id": "0ee8e2a7",
   "metadata": {},
   "outputs": [
    {
     "data": {
      "text/plain": [
       "(15302, 31)"
      ]
     },
     "execution_count": 9,
     "metadata": {},
     "output_type": "execute_result"
    }
   ],
   "source": [
    "imars_crash_details.shape"
   ]
  },
  {
   "cell_type": "code",
   "execution_count": 11,
   "id": "93dbc0c7",
   "metadata": {},
   "outputs": [
    {
     "data": {
      "text/plain": [
       "9.5"
      ]
     },
     "execution_count": 11,
     "metadata": {},
     "output_type": "execute_result"
    }
   ],
   "source": [
    "#the percentage of crash records with missing \"AS_Road_Circumstances\" entries is:\n",
    "round(1460/15302,3)*100"
   ]
  },
  {
   "cell_type": "code",
   "execution_count": 12,
   "id": "7c2d14f3",
   "metadata": {},
   "outputs": [
    {
     "data": {
      "text/plain": [
       "01. Yes                 271\n",
       "02. No                11336\n",
       "03. Not applicable     1004\n",
       "99. Unknown             403\n",
       "Name: Work_Zone_Related, dtype: int64"
      ]
     },
     "execution_count": 12,
     "metadata": {},
     "output_type": "execute_result"
    }
   ],
   "source": [
    "imars_crash_details.Work_Zone_Related.value_counts().sort_index()"
   ]
  },
  {
   "cell_type": "code",
   "execution_count": 13,
   "id": "b28fe942",
   "metadata": {},
   "outputs": [
    {
     "data": {
      "text/plain": [
       "(2288, 31)"
      ]
     },
     "execution_count": 13,
     "metadata": {},
     "output_type": "execute_result"
    }
   ],
   "source": [
    "imars_crash_details.loc[imars_crash_details['Work_Zone_Related'].isnull()==True].shape"
   ]
  },
  {
   "cell_type": "code",
   "execution_count": 14,
   "id": "89859ffb",
   "metadata": {},
   "outputs": [
    {
     "data": {
      "text/plain": [
       "15.0"
      ]
     },
     "execution_count": 14,
     "metadata": {},
     "output_type": "execute_result"
    }
   ],
   "source": [
    "#the percentage of crash records with missing \"Work Zone Related\" entries is:\n",
    "round(2288/15302,3)*100"
   ]
  },
  {
   "cell_type": "code",
   "execution_count": 15,
   "id": "5a925581",
   "metadata": {},
   "outputs": [
    {
     "data": {
      "text/plain": [
       "01. Yes                140\n",
       "02. No                7947\n",
       "03. Not applicable    2610\n",
       "99. Unknown            516\n",
       "Name: Work_Zone_Workers_Present, dtype: int64"
      ]
     },
     "execution_count": 15,
     "metadata": {},
     "output_type": "execute_result"
    }
   ],
   "source": [
    "imars_crash_details.Work_Zone_Workers_Present.value_counts().sort_index()"
   ]
  },
  {
   "cell_type": "code",
   "execution_count": 16,
   "id": "a2ff3b40",
   "metadata": {},
   "outputs": [
    {
     "data": {
      "text/plain": [
       "(4089, 31)"
      ]
     },
     "execution_count": 16,
     "metadata": {},
     "output_type": "execute_result"
    }
   ],
   "source": [
    "imars_crash_details.loc[imars_crash_details['Work_Zone_Workers_Present'].isnull()==True].shape"
   ]
  },
  {
   "cell_type": "code",
   "execution_count": 17,
   "id": "4302fae9",
   "metadata": {},
   "outputs": [
    {
     "data": {
      "text/plain": [
       "26.700000000000003"
      ]
     },
     "execution_count": 17,
     "metadata": {},
     "output_type": "execute_result"
    }
   ],
   "source": [
    "#the percentage of crash records with missing \"Work Zone Workers Present\" entries is:\n",
    "round(4089/15302,3)*100"
   ]
  },
  {
   "cell_type": "code",
   "execution_count": 18,
   "id": "84cde910",
   "metadata": {},
   "outputs": [
    {
     "data": {
      "text/plain": [
       "01. Not applicable                 10397\n",
       "02. Lane closure                      80\n",
       "03. Lane shift or crossover           25\n",
       "04. Work on shoulder/median           35\n",
       "05. Intermittent or moving work       45\n",
       "06. Other                             56\n",
       "99. Unknown                          558\n",
       "Name: Work_Zone_Location, dtype: int64"
      ]
     },
     "execution_count": 18,
     "metadata": {},
     "output_type": "execute_result"
    }
   ],
   "source": [
    "imars_crash_details.Work_Zone_Location.value_counts().sort_index()"
   ]
  },
  {
   "cell_type": "code",
   "execution_count": 19,
   "id": "2b67db75",
   "metadata": {},
   "outputs": [
    {
     "data": {
      "text/plain": [
       "(4106, 31)"
      ]
     },
     "execution_count": 19,
     "metadata": {},
     "output_type": "execute_result"
    }
   ],
   "source": [
    "imars_crash_details.loc[imars_crash_details['Work_Zone_Location'].isnull()==True].shape"
   ]
  },
  {
   "cell_type": "code",
   "execution_count": 20,
   "id": "afff5cd9",
   "metadata": {},
   "outputs": [
    {
     "data": {
      "text/plain": [
       "26.8"
      ]
     },
     "execution_count": 20,
     "metadata": {},
     "output_type": "execute_result"
    }
   ],
   "source": [
    "#the percentage of crash records with missing \"Work Zone Location\" entries is:\n",
    "round(4106/15302,3)*100"
   ]
  },
  {
   "cell_type": "code",
   "execution_count": 21,
   "id": "0496fd09",
   "metadata": {},
   "outputs": [
    {
     "data": {
      "text/plain": [
       "01. No                                      7660\n",
       "02. Officer present                           39\n",
       "03. Law enforcement vehicle only present       6\n",
       "04. Not applicable                          3056\n",
       "99. Unknown                                  454\n",
       "Name: Law_Enforcement_Present_at_Work_Zone, dtype: int64"
      ]
     },
     "execution_count": 21,
     "metadata": {},
     "output_type": "execute_result"
    }
   ],
   "source": [
    "imars_crash_details.Law_Enforcement_Present_at_Work_Zone.value_counts().sort_index()"
   ]
  },
  {
   "cell_type": "code",
   "execution_count": 22,
   "id": "49ee075e",
   "metadata": {},
   "outputs": [
    {
     "data": {
      "text/plain": [
       "(4087, 31)"
      ]
     },
     "execution_count": 22,
     "metadata": {},
     "output_type": "execute_result"
    }
   ],
   "source": [
    "imars_crash_details.loc[imars_crash_details['Law_Enforcement_Present_at_Work_Zone'].isnull()==True].shape"
   ]
  },
  {
   "cell_type": "code",
   "execution_count": 23,
   "id": "fce0dd3c",
   "metadata": {},
   "outputs": [
    {
     "data": {
      "text/plain": [
       "26.700000000000003"
      ]
     },
     "execution_count": 23,
     "metadata": {},
     "output_type": "execute_result"
    }
   ],
   "source": [
    "#the percentage of crash records with missing Law Enforcement Presence at Work Zone entries is:\n",
    "round(4087/15302,3)*100"
   ]
  },
  {
   "cell_type": "code",
   "execution_count": 24,
   "id": "a65b018f",
   "metadata": {},
   "outputs": [
    {
     "data": {
      "text/plain": [
       "00. Not applicable                                                         313\n",
       "01. Overturn/rollover                                                      201\n",
       "02. Fire/explosion                                                          13\n",
       "03. Immersion                                                               11\n",
       "04. Jackknife                                                               10\n",
       "05. Cargo/equipment loss or shift                                           22\n",
       "06. Separation of units                                                     13\n",
       "07. Ran off the road right                                                1084\n",
       "08. Ran Off the road left                                                  355\n",
       "09. Cross median or centerline                                             229\n",
       "10. Downhill runaway                                                        20\n",
       "11. Fell/jumped from motor vehicle                                          26\n",
       "12. Avoiding an object on road                                             126\n",
       "13. Avoiding an animal on road                                             135\n",
       "14. Thrown or falling object                                                57\n",
       "16. Other non-collision                                                    597\n",
       "17. Pedestrian                                                              70\n",
       "18. Bicycle                                                                118\n",
       "19. Other pedacycle                                                          5\n",
       "20. Railway vehicle                                                          6\n",
       "21. Motor vehicle in transport                                           10202\n",
       "22. Parked motor vehicle                                                  1903\n",
       "23. Struck by falling, shifting cargo or anything set in motion by MV       59\n",
       "24. Work zone/maintenance equipment                                         37\n",
       "25. Other non-fixed object                                                 458\n",
       "26. Horse/llama                                                             15\n",
       "27. Cow                                                                      4\n",
       "28. Deer                                                                   883\n",
       "29. Elk                                                                    109\n",
       "30. Moose                                                                   14\n",
       "31. Bison                                                                  151\n",
       "32. Bear                                                                   100\n",
       "33. Antelope                                                                10\n",
       "34. Sheep/goats                                                             13\n",
       "36. Other wild animal (crocodile, birds, coyote, etc.)                      33\n",
       "37. Other domestic (dog, cat, etc.)                                          4\n",
       "38. Impact attenuator/crash cushion                                         15\n",
       "39. Bridge overhead structure                                               22\n",
       "40. Bridge pier or support                                                   7\n",
       "41. Bridge rail                                                             33\n",
       "42. Cable barrier                                                            2\n",
       "43. End of drainage pipe/structure/culvert                                  30\n",
       "44. Median/curb                                                            154\n",
       "45. Ditch                                                                  181\n",
       "46. Earth embankment/berm                                                  251\n",
       "47. Guardrail/cable face                                                    60\n",
       "48. Guardrail/cable end                                                     16\n",
       "49. Guardrail/concrete traffic barrier                                     129\n",
       "50. Wall                                                                   122\n",
       "51. Other traffic barrier/barricade                                        152\n",
       "52. Tree/shrub                                                             920\n",
       "53. Utility pole/light support                                              50\n",
       "54. Traffic sign support                                                   115\n",
       "55. Traffic signal support                                                   6\n",
       "56. Overhead traffic sign                                                    1\n",
       "57. Fence (including post)                                                  76\n",
       "58. Mailbox                                                                  1\n",
       "59. Building                                                                83\n",
       "60. Rock, boulder, rock slide                                              270\n",
       "61. Tunnel                                                                  23\n",
       "62. Snow embankment                                                         37\n",
       "64. Delineator                                                              11\n",
       "65. Other post, pole or support                                            170\n",
       "66. Other fixed object                                                     253\n",
       "99. Unknown                                                                667\n",
       "Name: First_Event, dtype: int64"
      ]
     },
     "execution_count": 24,
     "metadata": {},
     "output_type": "execute_result"
    }
   ],
   "source": [
    "imars_vehicle.First_Event.value_counts().sort_index()"
   ]
  },
  {
   "cell_type": "code",
   "execution_count": 25,
   "id": "c30f7ab0",
   "metadata": {},
   "outputs": [
    {
     "data": {
      "text/plain": [
       "00. Not applicable                                                       10369\n",
       "01. Overturn/rollover                                                      276\n",
       "02. Fire/explosion                                                           9\n",
       "03. Immersion                                                                1\n",
       "04. Jackknife                                                                4\n",
       "05. Cargo/equipment loss or shift                                            5\n",
       "06. Separation of units                                                     82\n",
       "07. Ran off the road right                                                 203\n",
       "08. Ran Off the road left                                                  152\n",
       "09. Cross median or centerline                                             106\n",
       "10. Downhill runaway                                                        21\n",
       "11. Fell/jumped from motor vehicle                                          56\n",
       "12. Avoiding an object on road                                               6\n",
       "13. Avoiding an animal on road                                               4\n",
       "16. Other non-collision                                                    324\n",
       "17. Pedestrian                                                              24\n",
       "18. Bicycle                                                                  7\n",
       "19. Other pedacycle                                                          3\n",
       "21. Motor vehicle in transport                                             989\n",
       "22. Parked motor vehicle                                                   161\n",
       "23. Struck by falling, shifting cargo or anything set in motion by MV       18\n",
       "24. Work zone/maintenance equipment                                          3\n",
       "25. Other non-fixed object                                                  74\n",
       "26. Horse/llama                                                              1\n",
       "27. Cow                                                                      1\n",
       "28. Deer                                                                    10\n",
       "29. Elk                                                                      2\n",
       "31. Bison                                                                   11\n",
       "32. Bear                                                                     1\n",
       "38. Impact attenuator/crash cushion                                          2\n",
       "39. Bridge overhead structure                                                2\n",
       "40. Bridge pier or support                                                   4\n",
       "41. Bridge rail                                                             12\n",
       "42. Cable barrier                                                            1\n",
       "43. End of drainage pipe/structure/culvert                                  37\n",
       "44. Median/curb                                                             75\n",
       "45. Ditch                                                                  173\n",
       "46. Earth embankment/berm                                                  249\n",
       "47. Guardrail/cable face                                                    40\n",
       "48. Guardrail/cable end                                                     14\n",
       "49. Guardrail/concrete traffic barrier                                      88\n",
       "50. Wall                                                                    89\n",
       "51. Other traffic barrier/barricade                                         52\n",
       "52. Tree/shrub                                                             746\n",
       "53. Utility pole/light support                                              21\n",
       "54. Traffic sign support                                                    78\n",
       "55. Traffic signal support                                                   2\n",
       "57. Fence (including post)                                                  29\n",
       "59. Building                                                                 6\n",
       "60. Rock, boulder, rock slide                                              168\n",
       "61. Tunnel                                                                  11\n",
       "62. Snow embankment                                                         23\n",
       "64. Delineator                                                               3\n",
       "65. Other post, pole or support                                             47\n",
       "66. Other fixed object                                                     121\n",
       "99. Unknown                                                               4064\n",
       "Name: Second_Event, dtype: int64"
      ]
     },
     "execution_count": 25,
     "metadata": {},
     "output_type": "execute_result"
    }
   ],
   "source": [
    "imars_vehicle.Second_Event.value_counts().sort_index()"
   ]
  },
  {
   "cell_type": "code",
   "execution_count": 26,
   "id": "b399546c",
   "metadata": {},
   "outputs": [
    {
     "data": {
      "text/plain": [
       "00. Not applicable                                                       12366\n",
       "01. Overturn/rollover                                                      179\n",
       "02. Fire/explosion                                                           7\n",
       "03. Immersion                                                                2\n",
       "04. Jackknife                                                                1\n",
       "05. Cargo/equipment loss or shift                                            7\n",
       "06. Separation of units                                                     10\n",
       "07. Ran off the road right                                                  43\n",
       "08. Ran Off the road left                                                   72\n",
       "09. Cross median or centerline                                              17\n",
       "10. Downhill runaway                                                         7\n",
       "11. Fell/jumped from motor vehicle                                          18\n",
       "12. Avoiding an object on road                                               2\n",
       "13. Avoiding an animal on road                                               1\n",
       "14. Thrown or falling object                                                 1\n",
       "16. Other non-collision                                                    275\n",
       "17. Pedestrian                                                               4\n",
       "19. Other pedacycle                                                          1\n",
       "21. Motor vehicle in transport                                             240\n",
       "22. Parked motor vehicle                                                    45\n",
       "23. Struck by falling, shifting cargo or anything set in motion by MV        4\n",
       "25. Other non-fixed object                                                  15\n",
       "26. Horse/llama                                                              1\n",
       "28. Deer                                                                     3\n",
       "29. Elk                                                                      1\n",
       "31. Bison                                                                    2\n",
       "32. Bear                                                                     1\n",
       "40. Bridge pier or support                                                   1\n",
       "41. Bridge rail                                                              5\n",
       "43. End of drainage pipe/structure/culvert                                  10\n",
       "44. Median/curb                                                             14\n",
       "45. Ditch                                                                   61\n",
       "46. Earth embankment/berm                                                  122\n",
       "47. Guardrail/cable face                                                    15\n",
       "48. Guardrail/cable end                                                      4\n",
       "49. Guardrail/concrete traffic barrier                                      16\n",
       "50. Wall                                                                    26\n",
       "51. Other traffic barrier/barricade                                         15\n",
       "52. Tree/shrub                                                             375\n",
       "53. Utility pole/light support                                               3\n",
       "54. Traffic sign support                                                    20\n",
       "57. Fence (including post)                                                  11\n",
       "59. Building                                                                 5\n",
       "60. Rock, boulder, rock slide                                               78\n",
       "61. Tunnel                                                                   5\n",
       "62. Snow embankment                                                          6\n",
       "64. Delineator                                                               2\n",
       "65. Other post, pole or support                                              9\n",
       "66. Other fixed object                                                      34\n",
       "99. Unknown                                                               4703\n",
       "Name: Third_Event, dtype: int64"
      ]
     },
     "execution_count": 26,
     "metadata": {},
     "output_type": "execute_result"
    }
   ],
   "source": [
    "imars_vehicle.Third_Event.value_counts().sort_index()"
   ]
  },
  {
   "cell_type": "code",
   "execution_count": 27,
   "id": "f3f71964",
   "metadata": {},
   "outputs": [
    {
     "data": {
      "text/plain": [
       "00. Not applicable                                                       13026\n",
       "01. Overturn/rollover                                                       80\n",
       "02. Fire/explosion                                                           6\n",
       "05. Cargo/equipment loss or shift                                            4\n",
       "06. Separation of units                                                     10\n",
       "07. Ran off the road right                                                   9\n",
       "08. Ran Off the road left                                                    5\n",
       "09. Cross median or centerline                                               4\n",
       "10. Downhill runaway                                                         3\n",
       "11. Fell/jumped from motor vehicle                                           9\n",
       "13. Avoiding an animal on road                                              13\n",
       "16. Other non-collision                                                    242\n",
       "17. Pedestrian                                                               2\n",
       "19. Other pedacycle                                                          1\n",
       "21. Motor vehicle in transport                                             128\n",
       "22. Parked motor vehicle                                                    17\n",
       "23. Struck by falling, shifting cargo or anything set in motion by MV        2\n",
       "25. Other non-fixed object                                                   7\n",
       "26. Horse/llama                                                              1\n",
       "28. Deer                                                                     3\n",
       "29. Elk                                                                      1\n",
       "31. Bison                                                                    2\n",
       "32. Bear                                                                     1\n",
       "39. Bridge overhead structure                                                1\n",
       "41. Bridge rail                                                              2\n",
       "43. End of drainage pipe/structure/culvert                                   1\n",
       "44. Median/curb                                                              3\n",
       "45. Ditch                                                                   16\n",
       "46. Earth embankment/berm                                                   44\n",
       "47. Guardrail/cable face                                                     4\n",
       "49. Guardrail/concrete traffic barrier                                       5\n",
       "50. Wall                                                                     6\n",
       "51. Other traffic barrier/barricade                                          6\n",
       "52. Tree/shrub                                                             146\n",
       "53. Utility pole/light support                                               2\n",
       "54. Traffic sign support                                                     7\n",
       "57. Fence (including post)                                                   2\n",
       "59. Building                                                                 1\n",
       "60. Rock, boulder, rock slide                                               22\n",
       "61. Tunnel                                                                   2\n",
       "62. Snow embankment                                                          1\n",
       "65. Other post, pole or support                                              3\n",
       "66. Other fixed object                                                      14\n",
       "99. Unknown                                                               4925\n",
       "Name: Fourth_Event, dtype: int64"
      ]
     },
     "execution_count": 27,
     "metadata": {},
     "output_type": "execute_result"
    }
   ],
   "source": [
    "imars_vehicle.Fourth_Event.value_counts().sort_index()"
   ]
  },
  {
   "cell_type": "code",
   "execution_count": 28,
   "id": "adc441ac",
   "metadata": {},
   "outputs": [
    {
     "data": {
      "text/plain": [
       "40"
      ]
     },
     "execution_count": 28,
     "metadata": {},
     "output_type": "execute_result"
    }
   ],
   "source": [
    "# total vehicle records in which \"24. Work zone/maintenance equipment\" was listed as at least one of four events:\n",
    "37+3+0+0"
   ]
  },
  {
   "cell_type": "code",
   "execution_count": 30,
   "id": "9e0d966e",
   "metadata": {},
   "outputs": [
    {
     "data": {
      "text/plain": [
       "(2305, 57)"
      ]
     },
     "execution_count": 30,
     "metadata": {},
     "output_type": "execute_result"
    }
   ],
   "source": [
    "no_Event1 = imars_vehicle.loc[imars_vehicle['First_Event'].isnull()==True]\n",
    "no_Event1_2 = no_Event1.loc[no_Event1['Second_Event'].isnull()==True]\n",
    "no_Event1_3 = no_Event1_2.loc[no_Event1_2['Third_Event'].isnull()==True]\n",
    "no_Event_any = no_Event1_3.loc[no_Event1_3['Fourth_Event'].isnull()==True]\n",
    "no_Event_any.shape"
   ]
  },
  {
   "cell_type": "code",
   "execution_count": 31,
   "id": "bff6c4d6",
   "metadata": {},
   "outputs": [
    {
     "data": {
      "text/plain": [
       "(23576, 57)"
      ]
     },
     "execution_count": 31,
     "metadata": {},
     "output_type": "execute_result"
    }
   ],
   "source": [
    "imars_vehicle.shape"
   ]
  },
  {
   "cell_type": "code",
   "execution_count": 32,
   "id": "1eeb02f3",
   "metadata": {},
   "outputs": [
    {
     "data": {
      "text/plain": [
       "9.8"
      ]
     },
     "execution_count": 32,
     "metadata": {},
     "output_type": "execute_result"
    }
   ],
   "source": [
    "#the percentage of vehicle records with no \"Events\" whatsoever\n",
    "round(2305/23576,3)*100"
   ]
  }
 ],
 "metadata": {
  "kernelspec": {
   "display_name": "geo_env",
   "language": "python",
   "name": "geo_env"
  },
  "language_info": {
   "codemirror_mode": {
    "name": "ipython",
    "version": 3
   },
   "file_extension": ".py",
   "mimetype": "text/x-python",
   "name": "python",
   "nbconvert_exporter": "python",
   "pygments_lexer": "ipython3",
   "version": "3.10.5"
  }
 },
 "nbformat": 4,
 "nbformat_minor": 5
}
