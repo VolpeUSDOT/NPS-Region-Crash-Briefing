{
 "cells": [
  {
   "cell_type": "code",
   "execution_count": 1,
   "metadata": {},
   "outputs": [
    {
     "name": "stderr",
     "output_type": "stream",
     "text": [
      "C:\\ProgramData\\Anaconda3\\lib\\site-packages\\pandas\\compat\\_optional.py:138: UserWarning: Pandas requires version '2.7.0' or newer of 'numexpr' (version '2.6.9' currently installed).\n",
      "  warnings.warn(msg, UserWarning)\n"
     ]
    }
   ],
   "source": [
    "import pandas as pd\n",
    "import geopandas\n",
    "import matplotlib.pyplot as plt\n",
    "from datetime import datetime\n",
    "from matplotlib.ticker import PercentFormatter\n",
    "import numpy as np\n",
    "import math\n",
    "import seaborn as sns\n",
    "import os"
   ]
  },
  {
   "cell_type": "code",
   "execution_count": 2,
   "metadata": {},
   "outputs": [],
   "source": [
    "myworkingdirectory = r\"C:\\Users\\eric.englin\\Desktop\\TSP\" \n",
    "os.chdir(myworkingdirectory)"
   ]
  },
  {
   "cell_type": "code",
   "execution_count": 9,
   "metadata": {},
   "outputs": [
    {
     "name": "stderr",
     "output_type": "stream",
     "text": [
      "C:\\ProgramData\\Anaconda3\\lib\\site-packages\\IPython\\core\\interactiveshell.py:3296: DtypeWarning: Columns (1) have mixed types.Specify dtype option on import or set low_memory=False.\n",
      "  exec(code_obj, self.user_global_ns, self.user_ns)\n"
     ]
    }
   ],
   "source": [
    "crash_df = pd.read_csv(\"./crash_data_joined.csv\")"
   ]
  },
  {
   "cell_type": "code",
   "execution_count": 10,
   "metadata": {},
   "outputs": [],
   "source": [
    "crash_df['CRASH_DATE']=pd.to_datetime(crash_df['CRASH_DATE'])\n",
    "crash_df['day_of_week'] = crash_df['CRASH_DATE'].dt.day_name\n",
    "crash_df['year'] = crash_df['CRASH_DATE'].dt.year"
   ]
  },
  {
   "cell_type": "code",
   "execution_count": 11,
   "metadata": {},
   "outputs": [],
   "source": [
    "crash_df = crash_df.loc[crash_df['year']<2021]\n",
    "crash_df = crash_df.loc[crash_df['year']>1989]"
   ]
  },
  {
   "cell_type": "code",
   "execution_count": 12,
   "metadata": {},
   "outputs": [
    {
     "data": {
      "text/html": [
       "<div>\n",
       "<style scoped>\n",
       "    .dataframe tbody tr th:only-of-type {\n",
       "        vertical-align: middle;\n",
       "    }\n",
       "\n",
       "    .dataframe tbody tr th {\n",
       "        vertical-align: top;\n",
       "    }\n",
       "\n",
       "    .dataframe thead th {\n",
       "        text-align: right;\n",
       "    }\n",
       "</style>\n",
       "<table border=\"1\" class=\"dataframe\">\n",
       "  <thead>\n",
       "    <tr style=\"text-align: right;\">\n",
       "      <th></th>\n",
       "      <th>INCID_NO</th>\n",
       "      <th>CASENUM</th>\n",
       "      <th>NUM_OCC</th>\n",
       "      <th>Non-Collision</th>\n",
       "      <th>Collision with Other Motor Vehicle</th>\n",
       "      <th>Collision with Fixed Object</th>\n",
       "      <th>Collision with Pedestrian</th>\n",
       "      <th>Collision with Bicycle</th>\n",
       "      <th>Collision with Parked Motor Vehicle</th>\n",
       "      <th>Collision with Railway Train</th>\n",
       "      <th>...</th>\n",
       "      <th>LONGITUDE</th>\n",
       "      <th>FATALS</th>\n",
       "      <th>INJURED</th>\n",
       "      <th>Data_Origin</th>\n",
       "      <th>UNIT_NAME</th>\n",
       "      <th>REGION</th>\n",
       "      <th>UNIT_TYPE</th>\n",
       "      <th>_merge</th>\n",
       "      <th>day_of_week</th>\n",
       "      <th>year</th>\n",
       "    </tr>\n",
       "  </thead>\n",
       "  <tbody>\n",
       "    <tr>\n",
       "      <th>0</th>\n",
       "      <td>ABLI9000000001</td>\n",
       "      <td>0</td>\n",
       "      <td>0.0</td>\n",
       "      <td>0</td>\n",
       "      <td>0</td>\n",
       "      <td>0</td>\n",
       "      <td>0</td>\n",
       "      <td>0</td>\n",
       "      <td>1</td>\n",
       "      <td>0</td>\n",
       "      <td>...</td>\n",
       "      <td>0.0</td>\n",
       "      <td>0.0</td>\n",
       "      <td>0.0</td>\n",
       "      <td>STARS</td>\n",
       "      <td>Abraham Lincoln Birthplace National Historical...</td>\n",
       "      <td>SE</td>\n",
       "      <td>National Historical Park</td>\n",
       "      <td>both</td>\n",
       "      <td>&lt;bound method PandasDelegate._add_delegate_acc...</td>\n",
       "      <td>1990.0</td>\n",
       "    </tr>\n",
       "    <tr>\n",
       "      <th>1</th>\n",
       "      <td>ABLI9100000001</td>\n",
       "      <td>0</td>\n",
       "      <td>2.0</td>\n",
       "      <td>0</td>\n",
       "      <td>0</td>\n",
       "      <td>1</td>\n",
       "      <td>0</td>\n",
       "      <td>0</td>\n",
       "      <td>0</td>\n",
       "      <td>0</td>\n",
       "      <td>...</td>\n",
       "      <td>0.0</td>\n",
       "      <td>0.0</td>\n",
       "      <td>0.0</td>\n",
       "      <td>STARS</td>\n",
       "      <td>Abraham Lincoln Birthplace National Historical...</td>\n",
       "      <td>SE</td>\n",
       "      <td>National Historical Park</td>\n",
       "      <td>both</td>\n",
       "      <td>&lt;bound method PandasDelegate._add_delegate_acc...</td>\n",
       "      <td>1991.0</td>\n",
       "    </tr>\n",
       "    <tr>\n",
       "      <th>2</th>\n",
       "      <td>ACAD0000000003</td>\n",
       "      <td>0</td>\n",
       "      <td>1.0</td>\n",
       "      <td>0</td>\n",
       "      <td>0</td>\n",
       "      <td>1</td>\n",
       "      <td>0</td>\n",
       "      <td>0</td>\n",
       "      <td>0</td>\n",
       "      <td>0</td>\n",
       "      <td>...</td>\n",
       "      <td>0.0</td>\n",
       "      <td>0.0</td>\n",
       "      <td>0.0</td>\n",
       "      <td>STARS</td>\n",
       "      <td>Acadia National Park</td>\n",
       "      <td>NE</td>\n",
       "      <td>National Park</td>\n",
       "      <td>both</td>\n",
       "      <td>&lt;bound method PandasDelegate._add_delegate_acc...</td>\n",
       "      <td>2000.0</td>\n",
       "    </tr>\n",
       "    <tr>\n",
       "      <th>3</th>\n",
       "      <td>ACAD0000000014</td>\n",
       "      <td>0</td>\n",
       "      <td>2.0</td>\n",
       "      <td>0</td>\n",
       "      <td>0</td>\n",
       "      <td>1</td>\n",
       "      <td>0</td>\n",
       "      <td>0</td>\n",
       "      <td>0</td>\n",
       "      <td>0</td>\n",
       "      <td>...</td>\n",
       "      <td>0.0</td>\n",
       "      <td>0.0</td>\n",
       "      <td>0.0</td>\n",
       "      <td>STARS</td>\n",
       "      <td>Acadia National Park</td>\n",
       "      <td>NE</td>\n",
       "      <td>National Park</td>\n",
       "      <td>both</td>\n",
       "      <td>&lt;bound method PandasDelegate._add_delegate_acc...</td>\n",
       "      <td>2000.0</td>\n",
       "    </tr>\n",
       "    <tr>\n",
       "      <th>4</th>\n",
       "      <td>ACAD0000000026</td>\n",
       "      <td>0</td>\n",
       "      <td>1.0</td>\n",
       "      <td>0</td>\n",
       "      <td>0</td>\n",
       "      <td>1</td>\n",
       "      <td>0</td>\n",
       "      <td>0</td>\n",
       "      <td>0</td>\n",
       "      <td>0</td>\n",
       "      <td>...</td>\n",
       "      <td>0.0</td>\n",
       "      <td>0.0</td>\n",
       "      <td>0.0</td>\n",
       "      <td>STARS</td>\n",
       "      <td>Acadia National Park</td>\n",
       "      <td>NE</td>\n",
       "      <td>National Park</td>\n",
       "      <td>both</td>\n",
       "      <td>&lt;bound method PandasDelegate._add_delegate_acc...</td>\n",
       "      <td>2000.0</td>\n",
       "    </tr>\n",
       "  </tbody>\n",
       "</table>\n",
       "<p>5 rows × 35 columns</p>\n",
       "</div>"
      ],
      "text/plain": [
       "         INCID_NO CASENUM  NUM_OCC  Non-Collision  \\\n",
       "0  ABLI9000000001       0      0.0              0   \n",
       "1  ABLI9100000001       0      2.0              0   \n",
       "2  ACAD0000000003       0      1.0              0   \n",
       "3  ACAD0000000014       0      2.0              0   \n",
       "4  ACAD0000000026       0      1.0              0   \n",
       "\n",
       "   Collision with Other Motor Vehicle  Collision with Fixed Object  \\\n",
       "0                                   0                            0   \n",
       "1                                   0                            1   \n",
       "2                                   0                            1   \n",
       "3                                   0                            1   \n",
       "4                                   0                            1   \n",
       "\n",
       "   Collision with Pedestrian  Collision with Bicycle  \\\n",
       "0                          0                       0   \n",
       "1                          0                       0   \n",
       "2                          0                       0   \n",
       "3                          0                       0   \n",
       "4                          0                       0   \n",
       "\n",
       "   Collision with Parked Motor Vehicle  Collision with Railway Train  ...  \\\n",
       "0                                    1                             0  ...   \n",
       "1                                    0                             0  ...   \n",
       "2                                    0                             0  ...   \n",
       "3                                    0                             0  ...   \n",
       "4                                    0                             0  ...   \n",
       "\n",
       "   LONGITUDE  FATALS  INJURED  Data_Origin  \\\n",
       "0        0.0     0.0      0.0        STARS   \n",
       "1        0.0     0.0      0.0        STARS   \n",
       "2        0.0     0.0      0.0        STARS   \n",
       "3        0.0     0.0      0.0        STARS   \n",
       "4        0.0     0.0      0.0        STARS   \n",
       "\n",
       "                                           UNIT_NAME  REGION  \\\n",
       "0  Abraham Lincoln Birthplace National Historical...      SE   \n",
       "1  Abraham Lincoln Birthplace National Historical...      SE   \n",
       "2                               Acadia National Park      NE   \n",
       "3                               Acadia National Park      NE   \n",
       "4                               Acadia National Park      NE   \n",
       "\n",
       "                  UNIT_TYPE  _merge  \\\n",
       "0  National Historical Park    both   \n",
       "1  National Historical Park    both   \n",
       "2             National Park    both   \n",
       "3             National Park    both   \n",
       "4             National Park    both   \n",
       "\n",
       "                                         day_of_week    year  \n",
       "0  <bound method PandasDelegate._add_delegate_acc...  1990.0  \n",
       "1  <bound method PandasDelegate._add_delegate_acc...  1991.0  \n",
       "2  <bound method PandasDelegate._add_delegate_acc...  2000.0  \n",
       "3  <bound method PandasDelegate._add_delegate_acc...  2000.0  \n",
       "4  <bound method PandasDelegate._add_delegate_acc...  2000.0  \n",
       "\n",
       "[5 rows x 35 columns]"
      ]
     },
     "execution_count": 12,
     "metadata": {},
     "output_type": "execute_result"
    }
   ],
   "source": [
    "crash_df.head()"
   ]
  },
  {
   "cell_type": "code",
   "execution_count": 18,
   "metadata": {},
   "outputs": [],
   "source": [
    "crash_df['FatInj']= crash_df['FATALS']+crash_df['INJURED']"
   ]
  },
  {
   "cell_type": "code",
   "execution_count": 19,
   "metadata": {},
   "outputs": [
    {
     "data": {
      "text/plain": [
       "(1488, 36)"
      ]
     },
     "execution_count": 19,
     "metadata": {},
     "output_type": "execute_result"
    }
   ],
   "source": [
    "crash_df_YELL = crash_df.loc[crash_df['PARK_ALPHA']==\"YELL\"]\n",
    "crash_df_YELL = crash_df_YELL.loc[crash_df_YELL['FatInj']>0]\n",
    "crash_df_YELL.shape"
   ]
  },
  {
   "cell_type": "code",
   "execution_count": 20,
   "metadata": {},
   "outputs": [
    {
     "data": {
      "text/plain": [
       "(2165.0, 53.0)"
      ]
     },
     "execution_count": 20,
     "metadata": {},
     "output_type": "execute_result"
    }
   ],
   "source": [
    "crash_df_YELL.INJURED.sum(), crash_df_YELL.FATALS.sum(), "
   ]
  },
  {
   "cell_type": "code",
   "execution_count": 28,
   "metadata": {},
   "outputs": [],
   "source": [
    "crash_df_YELL_year = crash_df_YELL.groupby(\"year\").sum()\n",
    "crash_df_YELL_year = crash_df_YELL_year.reset_index()"
   ]
  },
  {
   "cell_type": "code",
   "execution_count": 30,
   "metadata": {},
   "outputs": [
    {
     "data": {
      "image/png": "[encoded data removed]",
      "text/plain": [
       "<Figure size 432x288 with 1 Axes>"
      ]
     },
     "metadata": {
      "needs_background": "light"
     },
     "output_type": "display_data"
    }
   ],
   "source": [
    "import numpy as np\n",
    "import matplotlib.pyplot as plt\n",
    "\n",
    "\n",
    "width = 1       # the width of the bars: can also be len(x) sequence\n",
    "\n",
    "p2 = plt.bar(crash_df_YELL_year['year'], crash_df_YELL_year['INJURED'], width,\n",
    "             bottom=crash_df_YELL_year['FATALS'])\n",
    "\n",
    "p1 = plt.bar(crash_df_YELL_year['year'], crash_df_YELL_year['FATALS'], width)\n",
    "\n",
    "plt.ylabel('Injuries or Fatalities')\n",
    "plt.title('Yearly YELL Injuries and Fatalities')\n",
    "plt.legend((p1[0], p2[0]), ('Fatals', 'Injuries'))\n",
    "\n",
    "plt.show()"
   ]
  },
  {
   "cell_type": "code",
   "execution_count": null,
   "metadata": {},
   "outputs": [],
   "source": []
  }
 ],
 "metadata": {
  "kernelspec": {
   "display_name": "myenv",
   "language": "python",
   "name": "myenv"
  },
  "language_info": {
   "codemirror_mode": {
    "name": "ipython",
    "version": 3
   },
   "file_extension": ".py",
   "mimetype": "text/x-python",
   "name": "python",
   "nbconvert_exporter": "python",
   "pygments_lexer": "ipython3",
   "version": "3.7.3"
  }
 },
 "nbformat": 4,
 "nbformat_minor": 2
}
