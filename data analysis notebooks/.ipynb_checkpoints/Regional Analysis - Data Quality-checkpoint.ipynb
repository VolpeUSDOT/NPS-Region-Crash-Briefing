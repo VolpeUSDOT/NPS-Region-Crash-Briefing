{
 "cells": [
  {
   "cell_type": "markdown",
   "id": "331229bc",
   "metadata": {},
   "source": [
    "## Automating Regional Briefings\n",
    "Author: Smitha Mahesh, Eric Englin\n",
    "\n",
    "Purpose: To complete the analyses and visualizations required for the region-level briefings. "
   ]
  },
  {
   "cell_type": "code",
   "execution_count": 1,
   "id": "8c0a4220",
   "metadata": {},
   "outputs": [],
   "source": [
    "import pandas as pd\n",
    "import numpy as np\n",
    "import os\n",
    "import matplotlib.pyplot as plt\n",
    "import matplotlib.pyplot as plt\n",
    "import matplotlib.ticker as ticker\n",
    "import seaborn as sns\n",
    "import docx"
   ]
  },
  {
   "cell_type": "code",
   "execution_count": 2,
   "id": "a9e49484",
   "metadata": {},
   "outputs": [],
   "source": [
    "myworkingdirectory = r\"C:\\Users\\Eric.Englin\\DOT OST\\volpe-proj-VU16A100 - Transportation Safety Program\\Region Briefing\"\n",
    "os.chdir(myworkingdirectory)"
   ]
  },
  {
   "cell_type": "code",
   "execution_count": 3,
   "id": "e3dce859",
   "metadata": {},
   "outputs": [],
   "source": [
    "analysis_2022 = pd.read_csv(\".//Data//Output Data//analysis_database_2022.csv\")\n"
   ]
  },
  {
   "cell_type": "code",
   "execution_count": 110,
   "id": "8bee36cc",
   "metadata": {},
   "outputs": [],
   "source": [
    "park_info = pd.read_csv(\".//Data//Reference Data/Park_Info_Table.csv\")\n",
    "park_info = park_info.rename(columns={'UNIT_CODE':'Park','REGION':'RGN'})\n"
   ]
  },
  {
   "cell_type": "code",
   "execution_count": 4,
   "id": "d18645cb",
   "metadata": {},
   "outputs": [
    {
     "data": {
      "text/plain": [
       "Index(['INCID_NO', 'NUM_OCC', '5_mph', '10_mph', '15_mph', '20_mph', '25_mph',\n",
       "       '30_mph', '35_mph', '40_mph', '45_mph', '50_mph', '55_mph', '60_mph',\n",
       "       '65_mph', '70_mph', '75_mph', 'no_posted_speed', 'Crosswalk',\n",
       "       'Outside a Crosswalk', 'No Injury', 'Possible Injury',\n",
       "       'Non-incapacitating Injury', 'Incapacitating Injury', 'Fatality',\n",
       "       'Unknown Injury', 'Num_Fatalities', 'Num_Injuries', 'Injury or Fatal',\n",
       "       'Pedestrian', 'Bicycle', 'Pedacycle', 'VRU', 'HorseLlama', 'Cow',\n",
       "       'Deer', 'Elk', 'Moose', 'Buffalo', 'Bear', 'Antelope', 'SheepGoats',\n",
       "       'OtherWild', 'OtherDomestic', 'Involving Animal', 'LATITUDE',\n",
       "       'LONGITUDE', 'Park', 'RGN', 'CRASH_DATE', 'CRASH_TIME', 'CRASH_YEAR',\n",
       "       'database'],\n",
       "      dtype='object')"
      ]
     },
     "execution_count": 4,
     "metadata": {},
     "output_type": "execute_result"
    }
   ],
   "source": [
    "analysis_2022.columns"
   ]
  },
  {
   "cell_type": "markdown",
   "id": "49c01b80",
   "metadata": {},
   "source": [
    "## Available Data Fields"
   ]
  },
  {
   "cell_type": "code",
   "execution_count": 5,
   "id": "58cfbc5d",
   "metadata": {},
   "outputs": [
    {
     "data": {
      "text/plain": [
       "CDS      194307\n",
       "IMARS     11804\n",
       "Name: database, dtype: int64"
      ]
     },
     "execution_count": 5,
     "metadata": {},
     "output_type": "execute_result"
    }
   ],
   "source": [
    "analysis_2022.database.value_counts()"
   ]
  },
  {
   "cell_type": "code",
   "execution_count": 68,
   "id": "24a561d2",
   "metadata": {},
   "outputs": [],
   "source": [
    "safety_studies = pd.read_excel(\".//Safety Studies//NPS_TSP_Safety_Study_Catalog_2010-2020.xlsx\",  \"Safety Studies 2010-2020 \")\n",
    "safety_studies['RGN'] = safety_studies['Legacy Region Abbreviation']\n",
    "safety_studies['INCID_NO']=1"
   ]
  },
  {
   "cell_type": "code",
   "execution_count": 11,
   "id": "5888383e",
   "metadata": {},
   "outputs": [],
   "source": [
    "safety_analyst_parks = pd.read_excel(\".//Data//Safety Analyst//Safety Analyst Parks.xlsx\")\n",
    "safety_analyst_parks['Safety Analyst Park']=1"
   ]
  },
  {
   "cell_type": "code",
   "execution_count": 16,
   "id": "b808a11b",
   "metadata": {},
   "outputs": [],
   "source": [
    "analysis_2022_merge = analysis_2022.merge(safety_analyst_parks, on=\"Park\", how = \"left\")"
   ]
  },
  {
   "cell_type": "code",
   "execution_count": 17,
   "id": "7289421f",
   "metadata": {
    "scrolled": true
   },
   "outputs": [
    {
     "data": {
      "text/plain": [
       "((206111, 55), (206111, 53))"
      ]
     },
     "execution_count": 17,
     "metadata": {},
     "output_type": "execute_result"
    }
   ],
   "source": [
    "analysis_2022_merge.shape, analysis_2022.shape"
   ]
  },
  {
   "cell_type": "code",
   "execution_count": 78,
   "id": "e5833041",
   "metadata": {},
   "outputs": [],
   "source": [
    "def pull_source_table_data(df, region, field, filter_value):\n",
    "    df = df.loc[df['RGN']==region]\n",
    "    df = df.loc[df[field]==filter_value]\n",
    "    parks, crashes = df.groupby(\"Park\").agg({\n",
    "        'INCID_NO':'count',\n",
    "    }).reset_index().agg({\n",
    "        \"Park\":\"count\",\n",
    "        'INCID_NO':sum,\n",
    "    })\n",
    "    \n",
    "    parks = str(parks) + \" Park Units\"\n",
    "    crashes = \"{:,}\".format(crashes) + \" Crash Reports\"\n",
    "    \n",
    "    return parks, crashes\n",
    "\n",
    "\n",
    "def make_source_table(region):\n",
    "\n",
    "    CDS_parks, CDS_crash_reports = pull_source_table_data(analysis_2022_merge, \"IMR\", 'database', 'CDS')\n",
    "    IMARS_parks, IMARS_crash_reports = pull_source_table_data(analysis_2022_merge, \"IMR\", 'database', 'IMARS')\n",
    "    SA_parks, SA_crash_reports = pull_source_table_data(analysis_2022_merge, \"IMR\", 'Safety Analyst Park', 1)\n",
    "    SS_parks, SS_crash_reports = pull_source_table_data(safety_studies, \"IMR\", 'INCID_NO', 1)\n",
    "\n",
    "    source_list = []\n",
    "    parks_list = [CDS_parks, IMARS_parks, SA_parks, SS_parks]\n",
    "    crash_reports_list = [CDS_crash_reports, IMARS_crash_reports, SA_crash_reports, SS_crash_reports]\n",
    "\n",
    "    final_df = pd.DataFrame({\n",
    "        \"Source\":[\"Crash Data System (CDS)\", \n",
    "                  \"Incident Management Analysis and Reporting System (IMARS)\",\n",
    "                  'Safety Analyst', \"Safety Studies\"],\n",
    "        \"Locations\": parks_list,\n",
    "        'Years': [\"1989-2013\", \"2012-present\", \"2005-2014\", \"2010-present\"],\n",
    "        \"Quantity of Data\": crash_reports_list\n",
    "    })\n",
    "    \n",
    "    return final_df\n"
   ]
  },
  {
   "cell_type": "markdown",
   "id": "6ed779c0",
   "metadata": {},
   "source": [
    "## Data Quality Tables"
   ]
  },
  {
   "cell_type": "markdown",
   "id": "50ea925b",
   "metadata": {},
   "source": [
    "### CDS"
   ]
  },
  {
   "cell_type": "code",
   "execution_count": 111,
   "id": "6884de2a",
   "metadata": {},
   "outputs": [],
   "source": [
    "cds_crash = pd.read_excel('./Data/New CDS/New CDS Excel Files/ALL_CRASH.xlsx')\n",
    "cds_crash = cds_crash.rename(columns={'PARK_ALPHA' : 'Park'})"
   ]
  },
  {
   "cell_type": "code",
   "execution_count": 112,
   "id": "38ea5d97",
   "metadata": {},
   "outputs": [
    {
     "data": {
      "text/plain": [
       "(204687, 57)"
      ]
     },
     "execution_count": 112,
     "metadata": {},
     "output_type": "execute_result"
    }
   ],
   "source": [
    "# add RGN column from lookup table to CDS crash database, joining the two datasets based on park name\n",
    "cds_crash = pd.merge(cds_crash, park_info[['RGN','Park']], how='left', on='Park')\n",
    "# resulting dataframe after join should have one additional column and no additional rows\n",
    "cds_crash = cds_crash.drop_duplicates() \n",
    "cds_crash.shape"
   ]
  },
  {
   "cell_type": "code",
   "execution_count": 126,
   "id": "53db5731",
   "metadata": {},
   "outputs": [
    {
     "data": {
      "text/plain": [
       "Index(['OBJECTID', 'INCID_NO', 'CASE_NUM', 'Park', 'STATE_CODE', 'CRASH_DATE',\n",
       "       'CRASH_TIME', 'RTE_NO', 'RTE_NAME', 'NODE_DIST_FT', 'NODE_DIST_MI',\n",
       "       'NODE_DIR', 'NODE_NUM', 'LIGHT', 'WEATHER', 'CRASH_LOCATION',\n",
       "       'SURF_COND', 'CRASH_CLASS', 'VEH_COLL', 'OBJ_STRUCK', 'ROAD_CHAR',\n",
       "       'CON_FACT1', 'CON_FACT2', 'CON_FACT3', 'CON_FACT4', 'CON_FACT5',\n",
       "       'CON_FACT6', 'HIT_RUN', 'CATEGORY', 'FATALS', 'INJURED', 'PED_FAT',\n",
       "       'PED_INJ', 'BIKE_FAT', 'BIKE_INJ', 'PED', 'CRASH_YEAR', 'COMMENTS',\n",
       "       'ZIPFILE', 'LOCATION', 'PHOTOS_TAKEN', 'USPP_NPS_VEH_INV',\n",
       "       'PARK_PTY_DEST', 'LOCKED_UPDATE', 'LOCKED_BY_USER', 'DATA_SRC',\n",
       "       'LATITUDE', 'LONGITUDE', 'MILEPOST', 'IMPORT_DATE', 'FILE_NAME',\n",
       "       'SAVE_DATE', 'ROUTE_IDENT', 'RIP_CYCLE', 'MP_NODE', 'SPTL_LOC', 'RGN'],\n",
       "      dtype='object')"
      ]
     },
     "execution_count": 126,
     "metadata": {},
     "output_type": "execute_result"
    }
   ],
   "source": [
    "cds_crash.columns"
   ]
  },
  {
   "cell_type": "code",
   "execution_count": 124,
   "id": "babeb348",
   "metadata": {},
   "outputs": [],
   "source": [
    "cds_unit = pd.read_excel('./Data/New CDS/New CDS Excel Files/ALL_UNIT.xlsx')"
   ]
  },
  {
   "cell_type": "code",
   "execution_count": 125,
   "id": "c2507106",
   "metadata": {},
   "outputs": [
    {
     "data": {
      "text/plain": [
       "Index(['OBJECTID', 'INCID_NO', 'UNIT_NO', 'VEH_YEAR', 'MAKE_MOD', 'MODEL',\n",
       "       'NUM_OCC', 'REG_STATE', 'REG_YEAR', 'PLATE_NUM', 'DIR_TRAVEL',\n",
       "       'SPEED_LIMIT', 'BODY_TYPE', 'VEH_MANVR', 'VEH_DAMAGE', 'DAM_LOCATION',\n",
       "       'LIC_NUM', 'LIC_STATE', 'PED', 'BRTH_DATE', 'DRIVER_SEX', 'DRIVER_BELT',\n",
       "       'DRIVER_EJECT', 'DRIVER_INJ', 'DRIVER_VIOLTN', 'VIOL_CHG1', 'VIOL_CHG2',\n",
       "       'PED_TYPE', 'PED_LOC', 'PED_ACTN', 'REPAIR'],\n",
       "      dtype='object')"
      ]
     },
     "execution_count": 125,
     "metadata": {},
     "output_type": "execute_result"
    }
   ],
   "source": [
    "cds_unit.columns"
   ]
  },
  {
   "cell_type": "code",
   "execution_count": 129,
   "id": "721bda90",
   "metadata": {},
   "outputs": [],
   "source": [
    "cds_unit = cds_unit.merge(cds_crash[['INCID_NO','Park','RGN']], on = 'INCID_NO', how = 'left')\n"
   ]
  },
  {
   "cell_type": "code",
   "execution_count": null,
   "id": "16253673",
   "metadata": {},
   "outputs": [],
   "source": [
    "#cds_df_crash to find lat/long\n",
    "#cds_df_unit to find speed"
   ]
  },
  {
   "cell_type": "code",
   "execution_count": 137,
   "id": "1a2a5790",
   "metadata": {},
   "outputs": [],
   "source": [
    "def make_data_quality_table_cds(region):\n",
    "    not_linked_table = pd.DataFrame({\n",
    "        \"Area\":[\"National\", \"NCR\", \"IMR\",'SER','PWR','NER','MWR','AKR'],\n",
    "        'Total': [203909, 97838, 33076,27262, 24419,18642, 2435, 237], \n",
    "        \"Unlinked\": [9602, 7988, 183, 1221, 117, 73,19, 1]\n",
    "    })\n",
    "    not_linked_table[\"Unlinked Percent\"]=not_linked_table[\"Unlinked\"]/not_linked_table['Total']\n",
    "    \n",
    "    df = not_linked_table.loc[(not_linked_table['Area']==\"National\")|(not_linked_table['Area']==region)]\n",
    "    \n",
    "    cds_crash_region = cds_crash.loc[cds_crash['RGN']==region[:2]]\n",
    "    \n",
    "    df['Missing coordinates'] = (len(cds_crash.loc[cds_crash['LATITUDE'].isnull()==True]),\n",
    "                                len(cds_crash_region.loc[cds_crash_region['LATITUDE'].isnull()==True]))\n",
    "    \n",
    "    cds_unit_region = cds_unit.loc[cds_unit['RGN']==region[:2]]\n",
    "    df['Missing speed'] = (len(cds_unit.loc[cds_unit['SPEED_LIMIT'].isnull()==True]),\n",
    "                                len(cds_unit_region.loc[cds_unit_region['SPEED_LIMIT'].isnull()==True]))\n",
    "    \n",
    "    no_ConFact1 = cds_crash.loc[cds_crash['CON_FACT1'].isnull()==True]\n",
    "    no_ConFact1_2 = no_ConFact1.loc[no_ConFact1['CON_FACT2'].isnull()==True]\n",
    "    no_ConFact1_3 = no_ConFact1_2.loc[no_ConFact1_2['CON_FACT3'].isnull()==True]\n",
    "    no_ConFact1_4 = no_ConFact1_3.loc[no_ConFact1_3['CON_FACT4'].isnull()==True]\n",
    "    no_ConFact1_5 = no_ConFact1_4.loc[no_ConFact1_4['CON_FACT5'].isnull()==True]\n",
    "    no_ConFact_any = no_ConFact1_5.loc[no_ConFact1_5['CON_FACT6'].isnull()==True]\n",
    "    \n",
    "    no_ConFact_any_region = no_ConFact_any.loc[no_ConFact_any['RGN']==region[:2]]\n",
    "    df['Missing contributing factors']= (len(no_ConFact_any),\n",
    "                                len(no_ConFact_any_region))\n",
    "    \n",
    "    return df"
   ]
  },
  {
   "cell_type": "code",
   "execution_count": null,
   "id": "cc79f0b2",
   "metadata": {},
   "outputs": [],
   "source": []
  },
  {
   "cell_type": "markdown",
   "id": "eff3f8d5",
   "metadata": {},
   "source": [
    "### IMARS"
   ]
  },
  {
   "cell_type": "code",
   "execution_count": null,
   "id": "5b34518a",
   "metadata": {},
   "outputs": [],
   "source": []
  },
  {
   "cell_type": "code",
   "execution_count": null,
   "id": "370875a7",
   "metadata": {},
   "outputs": [],
   "source": [
    "def make_data_quality_table_imars(region):\n",
    "    not_linked_table = pd.DataFrame({\n",
    "        \"Area\":[\"National\", \"NCR\", \"IMR\",'SER','PWR','NER','MWR','AKR'],\n",
    "        'Total': [12790,3541,2656,2642,2293,1206,372,80], \n",
    "        \"Unlinked\": [986,213,267,210,201,72,19,4]\n",
    "    })\n",
    "    not_linked_table[\"Unlinked Percent\"]=not_linked_table[\"Unlinked\"]/not_linked_table['Total']\n"
   ]
  },
  {
   "cell_type": "code",
   "execution_count": null,
   "id": "c8192e93",
   "metadata": {},
   "outputs": [],
   "source": []
  },
  {
   "cell_type": "code",
   "execution_count": null,
   "id": "6b6d7b84",
   "metadata": {},
   "outputs": [],
   "source": []
  },
  {
   "cell_type": "code",
   "execution_count": null,
   "id": "fe543eb4",
   "metadata": {},
   "outputs": [],
   "source": []
  },
  {
   "cell_type": "markdown",
   "id": "ee9f4e79",
   "metadata": {},
   "source": [
    "# Create final document"
   ]
  },
  {
   "cell_type": "code",
   "execution_count": 142,
   "id": "fd1b7897",
   "metadata": {},
   "outputs": [],
   "source": [
    "def add_regional_information(region):\n",
    "    df = make_source_table(region)\n",
    "    doc_name = './22-23/Drafted Deliverables/NPS TSP Regional Briefing Draft 22-23 - Testing.docx'\n",
    "    doc = docx.Document(doc_name)\n",
    "    doc.add_heading(\"Overview of Region\")\n",
    "    doc.add_heading(\"Available Data\", 2)\n",
    "    doc.add_paragraph(\" \")\n",
    "    doc.add_paragraph(\"Table 2. Overview of Data Sources\", style=\"Caption\")\n",
    "    t = doc.add_table(df.shape[0]+1, df.shape[1], style=\"Table Grid\")\n",
    "\n",
    "    for j in range(df.shape[-1]):\n",
    "        t.cell(0,j).text = df.columns[j]\n",
    "\n",
    "    for i in range(df.shape[0]):\n",
    "        for j in range(df.shape[-1]):\n",
    "            t.cell(i+1,j).text = str(df.values[i,j])\n",
    "    \n",
    "    doc.add_heading(\"Data Quality\", 2)\n",
    "    doc.add_paragraph(\"Below is a table of CDS and IMARS crash report completeness, broken down by region. Reports are labeled as incomplete if they only contain a crash table with core crash elements (e.g. coordinates, crash classification, etc.). For CDS crashes, this means vehicle and passenger data tables are not populated. The NCR was an outlier as compared to other regions, with around 8% of reports failing to include vehicle or passenger data tables. For IMARS crashes, this means crash details, vehicle, and passenger data tables are not populated. IMARS reports have generally been less complete across each region. \")\n",
    "    doc.add_paragraph(\"Table 3. Regional CDS Crash Reports\", style=\"Caption\")\n",
    "    \n",
    "    df = make_data_quality_table_cds(region)\n",
    "    \n",
    "    t = doc.add_table(df.shape[0]+1, df.shape[1], style=\"Table Grid\")\n",
    "\n",
    "    for j in range(df.shape[-1]):\n",
    "        t.cell(0,j).text = df.columns[j]\n",
    "\n",
    "    for i in range(df.shape[0]):\n",
    "        for j in range(df.shape[-1]):\n",
    "            t.cell(i+1,j).text = str(df.values[i,j])\n",
    "    doc.add_paragraph(\" \")\n",
    "    doc.add_paragraph(\"Table 4. Regional IMARS Crash Reports\", style=\"Caption\")\n",
    "\n",
    "    doc_name_new = './22-23/Drafted Deliverables/NPS TSP Regional Briefing Draft 22-23 - Testing_' + region + \".docx\"\n",
    "\n",
    "    doc.save(doc_name_new)"
   ]
  },
  {
   "cell_type": "code",
   "execution_count": 143,
   "id": "145f6c44",
   "metadata": {},
   "outputs": [
    {
     "name": "stderr",
     "output_type": "stream",
     "text": [
      "C:\\Users\\ERIC~1.ENG\\AppData\\Local\\Temp/ipykernel_6716/1954900771.py:13: SettingWithCopyWarning: \n",
      "A value is trying to be set on a copy of a slice from a DataFrame.\n",
      "Try using .loc[row_indexer,col_indexer] = value instead\n",
      "\n",
      "See the caveats in the documentation: https://pandas.pydata.org/pandas-docs/stable/user_guide/indexing.html#returning-a-view-versus-a-copy\n",
      "  df['Missing coordinates'] = (len(cds_crash.loc[cds_crash['LATITUDE'].isnull()==True]),\n",
      "C:\\Users\\ERIC~1.ENG\\AppData\\Local\\Temp/ipykernel_6716/1954900771.py:17: SettingWithCopyWarning: \n",
      "A value is trying to be set on a copy of a slice from a DataFrame.\n",
      "Try using .loc[row_indexer,col_indexer] = value instead\n",
      "\n",
      "See the caveats in the documentation: https://pandas.pydata.org/pandas-docs/stable/user_guide/indexing.html#returning-a-view-versus-a-copy\n",
      "  df['Missing speed'] = (len(cds_unit.loc[cds_unit['SPEED_LIMIT'].isnull()==True]),\n",
      "C:\\Users\\ERIC~1.ENG\\AppData\\Local\\Temp/ipykernel_6716/1954900771.py:28: SettingWithCopyWarning: \n",
      "A value is trying to be set on a copy of a slice from a DataFrame.\n",
      "Try using .loc[row_indexer,col_indexer] = value instead\n",
      "\n",
      "See the caveats in the documentation: https://pandas.pydata.org/pandas-docs/stable/user_guide/indexing.html#returning-a-view-versus-a-copy\n",
      "  df['Missing contributing factors']= (len(no_ConFact_any),\n"
     ]
    }
   ],
   "source": [
    "add_regional_information(\"NCR\")"
   ]
  },
  {
   "cell_type": "code",
   "execution_count": 100,
   "id": "b955ec79",
   "metadata": {
    "scrolled": true
   },
   "outputs": [
    {
     "name": "stdout",
     "output_type": "stream",
     "text": [
      "SER\n",
      "NER\n",
      "MWR\n",
      "IMR\n",
      "NCR\n",
      "PWR\n",
      "AKR\n"
     ]
    }
   ],
   "source": [
    "\n",
    "for x in analysis_2022.RGN.unique():\n",
    "    print(x)\n"
   ]
  },
  {
   "cell_type": "code",
   "execution_count": null,
   "id": "a6912dcc",
   "metadata": {},
   "outputs": [],
   "source": []
  }
 ],
 "metadata": {
  "kernelspec": {
   "display_name": "Python 3 (ipykernel)",
   "language": "python",
   "name": "python3"
  },
  "language_info": {
   "codemirror_mode": {
    "name": "ipython",
    "version": 3
   },
   "file_extension": ".py",
   "mimetype": "text/x-python",
   "name": "python",
   "nbconvert_exporter": "python",
   "pygments_lexer": "ipython3",
   "version": "3.9.7"
  }
 },
 "nbformat": 4,
 "nbformat_minor": 5
}
