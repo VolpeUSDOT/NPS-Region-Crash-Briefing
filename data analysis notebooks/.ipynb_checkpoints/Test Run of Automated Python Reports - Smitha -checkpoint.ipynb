{
 "cells": [
  {
   "cell_type": "markdown",
   "id": "c817fabd",
   "metadata": {},
   "source": [
    "## Test Run of Regional and National Briefings\n",
    "#### Author: Smitha Mahesh \n",
    "### Purpose: To test run the template to automate the production of 7 regional briefings and 8 regional briefings. I started using the actual datafile completed by Sophie to be able to test all variables of interest."
   ]
  },
  {
   "cell_type": "code",
   "execution_count": 1,
   "id": "585d4fda",
   "metadata": {},
   "outputs": [],
   "source": [
    "import pandas as pd\n",
    "import numpy as np\n",
    "import os\n",
    "import matplotlib.pyplot as plt"
   ]
  },
  {
   "cell_type": "code",
   "execution_count": 2,
   "id": "8f76c3f9",
   "metadata": {
    "scrolled": true
   },
   "outputs": [],
   "source": [
    "myworkingdirectory = r\"H:\\NPS TSP Project\"\n",
    "#Jupyter Notebook does not allow using a sharepoint link for the working directory. You have to download the file and then reroute to your working directory to where you downloaded the file "
   ]
  },
  {
   "cell_type": "code",
   "execution_count": 3,
   "id": "388a2477",
   "metadata": {},
   "outputs": [
    {
     "name": "stdout",
     "output_type": "stream",
     "text": [
      "analysis_database_2022 (1).csv\n",
      "CDS All Crashes Table for FLH 6-28-2 - Null to Empty.csv\n",
      "Full Gap Analysis_4 5 2016 (002).docx\n",
      "NPS TPS Interview Qs V3.pptx\n",
      "NPS TSP Executive Memo_011018 (002).docx\n",
      "NPS TSP Report_6.15_FINAL (002).docx\n",
      "NPS TSP Safety Brief Draft 1.0 (002).docx\n",
      "TSP Region Briefing Planning and Feedback NCR Notes .docx\n"
     ]
    }
   ],
   "source": [
    "files = os.listdir(myworkingdirectory)\n",
    "for f in files:\n",
    "    print(f)"
   ]
  },
  {
   "cell_type": "code",
   "execution_count": 4,
   "id": "d79f5dcc",
   "metadata": {},
   "outputs": [],
   "source": [
    "os.chdir(myworkingdirectory)"
   ]
  },
  {
   "cell_type": "code",
   "execution_count": 5,
   "id": "7602c63f",
   "metadata": {},
   "outputs": [],
   "source": [
    "analysis_2022 = pd.read_csv(\"analysis_database_2022 (1).csv\")"
   ]
  },
  {
   "cell_type": "code",
   "execution_count": 6,
   "id": "d499e36f",
   "metadata": {},
   "outputs": [
    {
     "data": {
      "text/plain": [
       "Index(['INCID_NO', 'NUM_OCC', '5_mph', '10_mph', '15_mph', '20_mph', '25_mph',\n",
       "       '30_mph', '35_mph', '40_mph', '45_mph', '50_mph', '55_mph', '60_mph',\n",
       "       '65_mph', '70_mph', '75_mph', 'no_posted_speed', 'Crosswalk',\n",
       "       'Outside a Crosswalk', 'No Injury', 'Possible Injury',\n",
       "       'Non-incapacitating Injury', 'Incapacitating Injury', 'Fatality',\n",
       "       'Unknown Injury', 'Num_Fatalities', 'Num_Injuries', 'Injury or Fatal',\n",
       "       'Pedestrian', 'Bicycle', 'Pedacycle', 'VRU', 'HorseLlama', 'Cow',\n",
       "       'Deer', 'Elk', 'Moose', 'Buffalo', 'Bear', 'Antelope', 'SheepGoats',\n",
       "       'OtherWild', 'OtherDomestic', 'Involving Animal', 'LATITUDE',\n",
       "       'LONGITUDE', 'Park', 'RGN', 'CRASH_DATE', 'CRASH_TIME', 'CRASH_YEAR',\n",
       "       'database'],\n",
       "      dtype='object')"
      ]
     },
     "execution_count": 6,
     "metadata": {},
     "output_type": "execute_result"
    }
   ],
   "source": [
    "analysis_2022.columns"
   ]
  },
  {
   "cell_type": "markdown",
   "id": "b2c66397",
   "metadata": {},
   "source": [
    "# National Data Trends "
   ]
  },
  {
   "cell_type": "markdown",
   "id": "475c0d7d",
   "metadata": {},
   "source": [
    "### Crashes Involving Animals "
   ]
  },
  {
   "cell_type": "markdown",
   "id": "3345e567",
   "metadata": {},
   "source": [
    "#### Computing % of Total Crashes Involving Animals "
   ]
  },
  {
   "cell_type": "code",
   "execution_count": 18,
   "id": "f7e4c1b2",
   "metadata": {
    "scrolled": true
   },
   "outputs": [
    {
     "name": "stdout",
     "output_type": "stream",
     "text": [
      "                INCID_NO  NUM_OCC  5_mph  10_mph  15_mph  20_mph  25_mph  \\\n",
      "50        ACAD0000000807      1.0    0.0     0.0     0.0     0.0     0.0   \n",
      "106     ACAD000919090000      1.0    0.0     0.0     0.0     0.0     0.0   \n",
      "145       ACAD0100000459      1.0    0.0     0.0     0.0     0.0     0.0   \n",
      "166       ACAD0100000775      4.0    0.0     0.0     0.0     0.0     0.0   \n",
      "169       ACAD0100000994      1.0    0.0     0.0     0.0     0.0     0.0   \n",
      "...                  ...      ...    ...     ...     ...     ...     ...   \n",
      "206065        NP20128193      1.0    0.0     0.0     0.0     0.0     0.0   \n",
      "206069        NP20128536      1.0    0.0     0.0     0.0     0.0     0.0   \n",
      "206102        NP20130774      2.0    0.0     0.0     0.0     0.0     0.0   \n",
      "206103        NP20130889      2.0    0.0     0.0     0.0     0.0     0.0   \n",
      "206109        PP20058930      2.0    0.0     0.0     0.0     0.0     0.0   \n",
      "\n",
      "        30_mph  35_mph  40_mph  ...  OtherDomestic  Involving Animal  \\\n",
      "50         0.0     1.0     0.0  ...            0.0               1.0   \n",
      "106        0.0     1.0     0.0  ...            0.0               1.0   \n",
      "145        0.0     1.0     0.0  ...            0.0               1.0   \n",
      "166        0.0     1.0     0.0  ...            0.0               1.0   \n",
      "169        0.0     1.0     0.0  ...            0.0               1.0   \n",
      "...        ...     ...     ...  ...            ...               ...   \n",
      "206065     0.0     0.0     0.0  ...            0.0               1.0   \n",
      "206069     0.0     1.0     0.0  ...            0.0               1.0   \n",
      "206102     0.0     1.0     0.0  ...            0.0               1.0   \n",
      "206103     0.0     1.0     0.0  ...            0.0               1.0   \n",
      "206109     0.0     0.0     0.0  ...            0.0               1.0   \n",
      "\n",
      "        LATITUDE  LONGITUDE  Park  RGN  CRASH_DATE  CRASH_TIME  CRASH_YEAR  \\\n",
      "50           NaN        NaN  ACAD  NER  2000-09-19         900      2000.0   \n",
      "106          NaN        NaN  ACAD  NER  2000-09-19         900      2000.0   \n",
      "145          NaN        NaN  ACAD  NER  2001-07-31        2110      2001.0   \n",
      "166          NaN        NaN  ACAD  NER  2001-08-25        1630      2001.0   \n",
      "169          NaN        NaN  ACAD  NER  2001-09-23         230      2001.0   \n",
      "...          ...        ...   ...  ...         ...         ...         ...   \n",
      "206065       NaN        NaN  LINC  NCR  2017-02-14        1400      2017.0   \n",
      "206069       NaN        NaN  YELL  IMR  2017-05-13        1531      2017.0   \n",
      "206102       NaN        NaN  DEWA  NER  2020-05-02        1747      2020.0   \n",
      "206103       NaN        NaN  YELL  IMR  2020-09-19        1832      2020.0   \n",
      "206109       NaN        NaN  YOSE  PWR  2021-09-21         829      2021.0   \n",
      "\n",
      "        database  \n",
      "50           CDS  \n",
      "106          CDS  \n",
      "145          CDS  \n",
      "166          CDS  \n",
      "169          CDS  \n",
      "...          ...  \n",
      "206065     IMARS  \n",
      "206069     IMARS  \n",
      "206102     IMARS  \n",
      "206103     IMARS  \n",
      "206109     IMARS  \n",
      "\n",
      "[22743 rows x 53 columns]\n"
     ]
    }
   ],
   "source": [
    "#First need to create a dataframe where collision w animals equals 1 \n",
    "involveanimals = analysis_2022[analysis_2022['Involving Animal'] == 1]\n",
    "print(involveanimals)"
   ]
  },
  {
   "cell_type": "code",
   "execution_count": 21,
   "id": "06b25dd1",
   "metadata": {},
   "outputs": [],
   "source": [
    "#Obtaining number of crashes where collision w animals is 1 or True \n",
    "involveanimal_total = involveanimals.shape[0]\n"
   ]
  },
  {
   "cell_type": "code",
   "execution_count": 22,
   "id": "8f630876",
   "metadata": {},
   "outputs": [
    {
     "name": "stdout",
     "output_type": "stream",
     "text": [
      "22743\n"
     ]
    }
   ],
   "source": [
    "print(involveanimal_total)"
   ]
  },
  {
   "cell_type": "code",
   "execution_count": 23,
   "id": "0d735a02",
   "metadata": {
    "scrolled": true
   },
   "outputs": [
    {
     "name": "stdout",
     "output_type": "stream",
     "text": [
      "206111\n"
     ]
    }
   ],
   "source": [
    "#Obtaining total number of crashes in the entire dataset \n",
    "total_crashes = analysis_2022.shape[0]\n",
    "print(total_crashes)"
   ]
  },
  {
   "cell_type": "code",
   "execution_count": 35,
   "id": "a313dfd2",
   "metadata": {
    "scrolled": true
   },
   "outputs": [
    {
     "data": {
      "text/plain": [
       "11.0"
      ]
     },
     "execution_count": 35,
     "metadata": {},
     "output_type": "execute_result"
    }
   ],
   "source": [
    "#Computing % of Total Crashes Involving Animal\n",
    "involveanimal_percentage = round(involveanimal_total/total_crashes,3)*100\n",
    "involveanimal_percentage"
   ]
  },
  {
   "cell_type": "markdown",
   "id": "a33febe0",
   "metadata": {},
   "source": [
    "#### Computing No. of Injuries Among Crashes Involving Animals"
   ]
  },
  {
   "cell_type": "code",
   "execution_count": 25,
   "id": "f9ae2878",
   "metadata": {},
   "outputs": [
    {
     "name": "stdout",
     "output_type": "stream",
     "text": [
      "2856.0\n"
     ]
    }
   ],
   "source": [
    "numinjuries_involveanimal = involveanimals['Num_Injuries'].sum()\n",
    "print(numinjuries_involveanimal)"
   ]
  },
  {
   "cell_type": "markdown",
   "id": "ec1aa2a3",
   "metadata": {},
   "source": [
    "#### Computing No. Fatalities Among Crashes Involving Animals \n"
   ]
  },
  {
   "cell_type": "code",
   "execution_count": 27,
   "id": "1fd44b97",
   "metadata": {
    "scrolled": true
   },
   "outputs": [
    {
     "name": "stdout",
     "output_type": "stream",
     "text": [
      "28.0\n"
     ]
    }
   ],
   "source": [
    "numfatalities_involveanimal = involveanimals['Num_Fatalities'].sum()\n",
    "print(numfatalities_involveanimal)\n"
   ]
  },
  {
   "cell_type": "markdown",
   "id": "c9fd642e",
   "metadata": {},
   "source": [
    "#### Number of Serious Injuries Among Crahses Involving Animals "
   ]
  },
  {
   "cell_type": "code",
   "execution_count": 29,
   "id": "5a0eea05",
   "metadata": {},
   "outputs": [
    {
     "name": "stdout",
     "output_type": "stream",
     "text": [
      "402.0\n"
     ]
    }
   ],
   "source": [
    "seriousinjuries_involveanimals = involveanimals['Incapacitating Injury'].sum()\n",
    "print(seriousinjuries_involveanimals)"
   ]
  },
  {
   "cell_type": "markdown",
   "id": "c0c2e9c9",
   "metadata": {},
   "source": [
    "### Crashes Involving VRUs "
   ]
  },
  {
   "cell_type": "markdown",
   "id": "bec21e7f",
   "metadata": {},
   "source": [
    "#### Computing % of Crashes Involving VRUs"
   ]
  },
  {
   "cell_type": "code",
   "execution_count": 30,
   "id": "683455b5",
   "metadata": {
    "scrolled": true
   },
   "outputs": [
    {
     "name": "stdout",
     "output_type": "stream",
     "text": [
      "                INCID_NO  NUM_OCC  5_mph  10_mph  15_mph  20_mph  25_mph  \\\n",
      "2       ABLI091117170900      2.0    0.0     0.0     0.0     0.0     1.0   \n",
      "133       ACAD0100000265      4.0    0.0     0.0     0.0     0.0     0.0   \n",
      "195     ACAD010716103000      4.0    0.0     0.0     0.0     0.0     0.0   \n",
      "348     ACAD090421120000     14.0    0.0     0.0     0.0     0.0     0.0   \n",
      "580       ACAD8900006028      4.0    0.0     0.0     0.0     0.0     1.0   \n",
      "...                  ...      ...    ...     ...     ...     ...     ...   \n",
      "205725        NP20101607      1.0    0.0     0.0     0.0     0.0     0.0   \n",
      "205730        NP20102165      2.0    0.0     0.0     1.0     0.0     0.0   \n",
      "205745        NP20102524      1.0    0.0     0.0     0.0     0.0     0.0   \n",
      "205968        PP20056040      3.0    0.0     0.0     0.0     0.0     0.0   \n",
      "206027        PP20057279      2.0    0.0     0.0     0.0     0.0     1.0   \n",
      "\n",
      "        30_mph  35_mph  40_mph  ...  OtherDomestic  Involving Animal  \\\n",
      "2          0.0     0.0     0.0  ...            0.0               0.0   \n",
      "133        0.0     0.0     0.0  ...            0.0               0.0   \n",
      "195        0.0     0.0     0.0  ...            0.0               0.0   \n",
      "348        0.0     1.0     0.0  ...            0.0               0.0   \n",
      "580        0.0     0.0     0.0  ...            0.0               0.0   \n",
      "...        ...     ...     ...  ...            ...               ...   \n",
      "205725     0.0     1.0     0.0  ...            0.0               0.0   \n",
      "205730     0.0     0.0     0.0  ...            0.0               0.0   \n",
      "205745     0.0     0.0     0.0  ...            0.0               0.0   \n",
      "205968     0.0     0.0     0.0  ...            0.0               0.0   \n",
      "206027     0.0     0.0     0.0  ...            0.0               0.0   \n",
      "\n",
      "         LATITUDE  LONGITUDE  Park  RGN  CRASH_DATE  CRASH_TIME  CRASH_YEAR  \\\n",
      "2             NaN        NaN  ABLI  SER  2009-11-17        1709      2009.0   \n",
      "133           NaN        NaN  ACAD  NER  2001-07-16        1030      2001.0   \n",
      "195           NaN        NaN  ACAD  NER  2001-07-16        1030      2001.0   \n",
      "348     44.368910 -68.238560  ACAD  NER  2009-04-21        1200      2009.0   \n",
      "580           NaN        NaN  ACAD  NER  1989-07-25        1118      1989.0   \n",
      "...           ...        ...   ...  ...         ...         ...         ...   \n",
      "205725  40.591000 -73.884020  GATE  NER  2017-02-01         840      2017.0   \n",
      "205730  37.248577 -76.698877  COLO  NER  2017-02-07        1315      2017.0   \n",
      "205745  38.920000 -76.930000  NACA  NCR  2017-03-01         444      2017.0   \n",
      "205968  38.920000 -76.930000  NACA  NCR  2018-03-26        2143      2018.0   \n",
      "206027  38.940841 -77.133592  GWMP  NCR  2020-12-17         955      2020.0   \n",
      "\n",
      "        database  \n",
      "2            CDS  \n",
      "133          CDS  \n",
      "195          CDS  \n",
      "348          CDS  \n",
      "580          CDS  \n",
      "...          ...  \n",
      "205725     IMARS  \n",
      "205730     IMARS  \n",
      "205745     IMARS  \n",
      "205968     IMARS  \n",
      "206027     IMARS  \n",
      "\n",
      "[2815 rows x 53 columns]\n"
     ]
    }
   ],
   "source": [
    "VRU = analysis_2022[analysis_2022['VRU'] == 1]\n",
    "print(VRU)"
   ]
  },
  {
   "cell_type": "code",
   "execution_count": 31,
   "id": "e5b15340",
   "metadata": {},
   "outputs": [
    {
     "name": "stdout",
     "output_type": "stream",
     "text": [
      "2815\n"
     ]
    }
   ],
   "source": [
    "#Obtaining number of crashes involving VRU is 1 or True \n",
    "VRU_total = VRU.shape[0]\n",
    "print(VRU_total)"
   ]
  },
  {
   "cell_type": "code",
   "execution_count": 32,
   "id": "ca6ae328",
   "metadata": {},
   "outputs": [
    {
     "name": "stdout",
     "output_type": "stream",
     "text": [
      "1.366\n"
     ]
    }
   ],
   "source": [
    "#Calculating total % of crashes involving VRU\n",
    "VRU_percentage = round(VRU_total/total_crashes, 5)*100\n",
    "print(VRU_percentage)"
   ]
  },
  {
   "cell_type": "markdown",
   "id": "4e66f7b9",
   "metadata": {},
   "source": [
    "#### Computing No. of Injuries Involving VRU"
   ]
  },
  {
   "cell_type": "code",
   "execution_count": 33,
   "id": "a6e8cfa6",
   "metadata": {
    "scrolled": true
   },
   "outputs": [
    {
     "name": "stdout",
     "output_type": "stream",
     "text": [
      "1282.0\n"
     ]
    }
   ],
   "source": [
    "numinjuries_VRU = VRU['Num_Injuries'].sum()\n",
    "print(numinjuries_VRU)"
   ]
  },
  {
   "cell_type": "markdown",
   "id": "13816c14",
   "metadata": {},
   "source": [
    "#### Computing No. of Fatalities Among Crashes Involving VRU"
   ]
  },
  {
   "cell_type": "code",
   "execution_count": 34,
   "id": "bfb22ee7",
   "metadata": {
    "scrolled": false
   },
   "outputs": [
    {
     "name": "stdout",
     "output_type": "stream",
     "text": [
      "26.0\n"
     ]
    }
   ],
   "source": [
    "numfatalities_VRU = VRU['Num_Fatalities'].sum()\n",
    "print(numfatalities_VRU)"
   ]
  },
  {
   "cell_type": "code",
   "execution_count": 39,
   "id": "6f4efdd0",
   "metadata": {},
   "outputs": [
    {
     "name": "stdout",
     "output_type": "stream",
     "text": [
      "581.0\n"
     ]
    }
   ],
   "source": [
    "seriousinjuries_VRU = VRU['Incapacitating Injury'].sum()\n",
    "print(seriousinjuries_VRU)"
   ]
  },
  {
   "cell_type": "markdown",
   "id": "fdf278ee",
   "metadata": {},
   "source": [
    "### Table of National Trends"
   ]
  },
  {
   "cell_type": "code",
   "execution_count": 44,
   "id": "0ba94606",
   "metadata": {},
   "outputs": [],
   "source": [
    "nationaldata= {'Collision Type': ['Crashes Involving VRUs','Crashes Involving Animals'], 'Percentage of Total Crashes': [VRU_percentage,involveanimal_percentage], 'Number of Injuries':[numinjuries_VRU, numinjuries_involveanimal], 'Number of Serious Injuries':[seriousinjuries_VRU, seriousinjuries_involveanimals], 'Number of Fatalities':[numfatalities_VRU,numfatalities_involveanimal]}"
   ]
  },
  {
   "cell_type": "code",
   "execution_count": 45,
   "id": "d8370c71",
   "metadata": {},
   "outputs": [],
   "source": [
    "df5 = pd.DataFrame(nationaldata)"
   ]
  },
  {
   "cell_type": "code",
   "execution_count": 46,
   "id": "13379161",
   "metadata": {
    "scrolled": true
   },
   "outputs": [
    {
     "name": "stdout",
     "output_type": "stream",
     "text": [
      "              Collision Type  Percentage of Total Crashes  Number of Injuries  \\\n",
      "0     Crashes Involving VRUs                        1.366              1282.0   \n",
      "1  Crashes Involving Animals                       11.000              2856.0   \n",
      "\n",
      "   Number of Serious Injuries  Number of Fatalities  \n",
      "0                       581.0                  26.0  \n",
      "1                       402.0                  28.0  \n"
     ]
    }
   ],
   "source": [
    "print(df5)"
   ]
  },
  {
   "cell_type": "code",
   "execution_count": 47,
   "id": "467eecdc",
   "metadata": {
    "scrolled": true
   },
   "outputs": [
    {
     "data": {
      "text/plain": [
       "Percentage of Total Crashes      12.366\n",
       "Number of Injuries             4138.000\n",
       "Number of Serious Injuries      983.000\n",
       "Number of Fatalities             54.000\n",
       "dtype: float64"
      ]
     },
     "execution_count": 47,
     "metadata": {},
     "output_type": "execute_result"
    }
   ],
   "source": [
    "#Calculate Grant Total to Table \n",
    "df5[['Percentage of Total Crashes', 'Number of Injuries', 'Number of Serious Injuries', 'Number of Fatalities']].sum()"
   ]
  },
  {
   "cell_type": "code",
   "execution_count": 48,
   "id": "c190a47d",
   "metadata": {
    "scrolled": false
   },
   "outputs": [
    {
     "name": "stderr",
     "output_type": "stream",
     "text": [
      "C:\\Users\\Smitha.Mahesh\\AppData\\Local\\Temp\\ipykernel_19832\\3692146198.py:2: FutureWarning: The frame.append method is deprecated and will be removed from pandas in a future version. Use pandas.concat instead.\n",
      "  df5.append(df5[['Percentage of Total Crashes', 'Number of Injuries', 'Number of Serious Injuries', 'Number of Fatalities']].sum().rename('Servicewide Total')).fillna('')\n"
     ]
    },
    {
     "data": {
      "text/html": [
       "<div>\n",
       "<style scoped>\n",
       "    .dataframe tbody tr th:only-of-type {\n",
       "        vertical-align: middle;\n",
       "    }\n",
       "\n",
       "    .dataframe tbody tr th {\n",
       "        vertical-align: top;\n",
       "    }\n",
       "\n",
       "    .dataframe thead th {\n",
       "        text-align: right;\n",
       "    }\n",
       "</style>\n",
       "<table border=\"1\" class=\"dataframe\">\n",
       "  <thead>\n",
       "    <tr style=\"text-align: right;\">\n",
       "      <th></th>\n",
       "      <th>Collision Type</th>\n",
       "      <th>Percentage of Total Crashes</th>\n",
       "      <th>Number of Injuries</th>\n",
       "      <th>Number of Serious Injuries</th>\n",
       "      <th>Number of Fatalities</th>\n",
       "    </tr>\n",
       "  </thead>\n",
       "  <tbody>\n",
       "    <tr>\n",
       "      <th>0</th>\n",
       "      <td>Crashes Involving VRUs</td>\n",
       "      <td>1.366</td>\n",
       "      <td>1282.0</td>\n",
       "      <td>581.0</td>\n",
       "      <td>26.0</td>\n",
       "    </tr>\n",
       "    <tr>\n",
       "      <th>1</th>\n",
       "      <td>Crashes Involving Animals</td>\n",
       "      <td>11.000</td>\n",
       "      <td>2856.0</td>\n",
       "      <td>402.0</td>\n",
       "      <td>28.0</td>\n",
       "    </tr>\n",
       "    <tr>\n",
       "      <th>Servicewide Total</th>\n",
       "      <td></td>\n",
       "      <td>12.366</td>\n",
       "      <td>4138.0</td>\n",
       "      <td>983.0</td>\n",
       "      <td>54.0</td>\n",
       "    </tr>\n",
       "  </tbody>\n",
       "</table>\n",
       "</div>"
      ],
      "text/plain": [
       "                              Collision Type  Percentage of Total Crashes  \\\n",
       "0                     Crashes Involving VRUs                        1.366   \n",
       "1                  Crashes Involving Animals                       11.000   \n",
       "Servicewide Total                                                  12.366   \n",
       "\n",
       "                   Number of Injuries  Number of Serious Injuries  \\\n",
       "0                              1282.0                       581.0   \n",
       "1                              2856.0                       402.0   \n",
       "Servicewide Total              4138.0                       983.0   \n",
       "\n",
       "                   Number of Fatalities  \n",
       "0                                  26.0  \n",
       "1                                  28.0  \n",
       "Servicewide Total                  54.0  "
      ]
     },
     "execution_count": 48,
     "metadata": {},
     "output_type": "execute_result"
    }
   ],
   "source": [
    "#Add Grand Totals to Table \n",
    "df5.append(df5[['Percentage of Total Crashes', 'Number of Injuries', 'Number of Serious Injuries', 'Number of Fatalities']].sum().rename('Servicewide Total')).fillna('')\n"
   ]
  },
  {
   "cell_type": "code",
   "execution_count": 8,
   "id": "470b1efd",
   "metadata": {
    "scrolled": false
   },
   "outputs": [
    {
     "name": "stdout",
     "output_type": "stream",
     "text": [
      "1335.0\n",
      "The percentage of crashes involving VRUs that resulted in a fatality or injury is 1335.0\n"
     ]
    }
   ],
   "source": [
    "#% of crashes involving VRUs that resulted in a fatality OR injury  \n",
    "injuryorfatality_VRU = VRU['Injury or Fatal'].sum()\n",
    "print(injuryorfatality_VRU)\n",
    "print(\"The percentage of crashes involving VRUs that resulted in a fatality or injury is\", injuryorfatality_VRU)"
   ]
  },
  {
   "cell_type": "code",
   "execution_count": 9,
   "id": "c65a8317",
   "metadata": {},
   "outputs": [
    {
     "name": "stdout",
     "output_type": "stream",
     "text": [
      "0.0\n",
      "0.0\n",
      "0.0\n",
      "0.0\n"
     ]
    }
   ],
   "source": [
    "#The following were excluded from the graph because there are no crashes found at the posted speeds \n",
    "VRU_60 = VRU['60_mph'].sum() \n",
    "print(VRU_60)\n",
    "VRU_65 = VRU['65_mph'].sum()\n",
    "print(VRU_65)\n",
    "VRU_70 = VRU['70_mph'].sum() \n",
    "print(VRU_70)\n",
    "VRU_75 = VRU['75_mph'].sum()\n",
    "print(VRU_75)"
   ]
  },
  {
   "cell_type": "code",
   "execution_count": 31,
   "id": "c73b3111",
   "metadata": {
    "scrolled": true
   },
   "outputs": [
    {
     "data": {
      "text/plain": [
       "Text(0, 0.5, 'Number of Crashes')"
      ]
     },
     "execution_count": 31,
     "metadata": {},
     "output_type": "execute_result"
    },
    {
     "data": {
      "image/png": "[encoded data removed]",
      "text/plain": [
       "<Figure size 432x288 with 1 Axes>"
      ]
     },
     "metadata": {
      "needs_background": "light"
     },
     "output_type": "display_data"
    }
   ],
   "source": [
    "#Bar graph of total crashes involving VRUs sorted by posted speed\n",
    "VRU_5 = VRU['5_mph'].sum()\n",
    "VRU_10 = VRU['10_mph'].sum() \n",
    "VRU_15 = VRU['15_mph'].sum()\n",
    "VRU_20 = VRU['20_mph'].sum() \n",
    "VRU_25 = VRU['25_mph'].sum() \n",
    "VRU_30 = VRU['30_mph'].sum()\n",
    "VRU_35 = VRU['35_mph'].sum()\n",
    "VRU_40 = VRU['40_mph'].sum()\n",
    "VRU_45 = VRU['45_mph'].sum() \n",
    "VRU_50 = VRU['50_mph'].sum()\n",
    "VRU_55 = VRU['55_mph'].sum()\n",
    "VRU_60 = VRU['60_mph'].sum() \n",
    "df = pd.DataFrame({'Posted Speed':[5,10,15,20,25,30,35,50,45,50,55], 'Total Crashes Involving VRUs':[VRU_5,VRU_10,VRU_15,VRU_20,VRU_25,VRU_30,VRU_35,VRU_40,VRU_45,VRU_50,VRU_55]})\n",
    "ax = df.plot.bar(x='Posted Speed', y='Total Crashes Involving VRUs', rot=0)\n",
    "\n",
    "plt.title('Total Crashes Involving VRUs')\n",
    "plt.xlabel('Posted Speed')\n",
    "plt.ylabel('Number of Crashes')"
   ]
  },
  {
   "cell_type": "code",
   "execution_count": 16,
   "id": "41be6b70",
   "metadata": {},
   "outputs": [
    {
     "name": "stdout",
     "output_type": "stream",
     "text": [
      "                INCID_NO  NUM_OCC  5_mph  10_mph  15_mph  20_mph  25_mph  \\\n",
      "3462    BAWA030822224400      1.0    0.0     0.0     0.0     0.0     0.0   \n",
      "3513    BAWA030919222300      0.0    0.0     0.0     0.0     0.0     0.0   \n",
      "3627    BAWA031104232100      1.0    0.0     0.0     0.0     0.0     0.0   \n",
      "4561    BAWA060415060700      1.0    0.0     0.0     0.0     0.0     0.0   \n",
      "5674    BAWA071229024700      3.0    0.0     0.0     0.0     0.0     0.0   \n",
      "5811    BAWA080419212100      0.0    0.0     0.0     0.0     0.0     0.0   \n",
      "6420    BAWA090210193900      2.0    0.0     0.0     0.0     0.0     0.0   \n",
      "6668    BAWA090804211100      5.0    0.0     0.0     0.0     0.0     0.0   \n",
      "14387   BAWA941226181600      1.0    0.0     0.0     0.0     0.0     0.0   \n",
      "14400   BAWA950103173100      1.0    0.0     0.0     0.0     0.0     0.0   \n",
      "27294     BWMP0200025844      1.0    0.0     0.0     0.0     0.0     0.0   \n",
      "27318     BWMP0200026932      0.0    0.0     0.0     0.0     0.0     0.0   \n",
      "27972     BWMP0300025403      1.0    0.0     0.0     0.0     0.0     0.0   \n",
      "28024     BWMP0300028634      0.0    0.0     0.0     0.0     0.0     0.0   \n",
      "28137     BWMP0300033403      1.0    0.0     0.0     0.0     0.0     0.0   \n",
      "29787     BWMP0600012874      1.0    0.0     0.0     0.0     0.0     0.0   \n",
      "30436     BWMP8900008899      2.0    0.0     0.0     0.0     0.0     0.0   \n",
      "32449     BWMP9100037108      3.0    0.0     0.0     0.0     0.0     0.0   \n",
      "35483     BWMP9400062053      1.0    0.0     0.0     0.0     0.0     0.0   \n",
      "38513     BWMP9900011903      2.0    0.0     0.0     0.0     0.0     0.0   \n",
      "43797     COLO9500000777      1.0    0.0     0.0     0.0     0.0     0.0   \n",
      "43829   COLO950605105500      1.0    0.0     0.0     0.0     0.0     0.0   \n",
      "44371     CRLA0600000437      2.0    0.0     0.0     0.0     0.0     0.0   \n",
      "74443     GRTE9100003509      1.0    0.0     0.0     0.0     0.0     0.0   \n",
      "78678     GWMP0300007099      1.0    0.0     0.0     0.0     0.0     0.0   \n",
      "79278   GWMP030319034900      1.0    0.0     0.0     0.0     0.0     0.0   \n",
      "79836     GWMP0400006221      1.0    0.0     0.0     0.0     0.0     0.0   \n",
      "87050     GWMP9100045868      1.0    0.0     0.0     0.0     0.0     0.0   \n",
      "87892   GWMP911206223200      1.0    0.0     0.0     0.0     0.0     0.0   \n",
      "105098    LAME9000002820      1.0    0.0     0.0     0.0     0.0     0.0   \n",
      "106795    LAMR9600000397      1.0    0.0     0.0     0.0     0.0     0.0   \n",
      "120563    NACC9000023640      1.0    0.0     0.0     0.0     0.0     1.0   \n",
      "121787  NACC900604212400      1.0    0.0     0.0     0.0     0.0     1.0   \n",
      "126392    NACC9300011751      1.0    0.0     0.0     0.0     0.0     1.0   \n",
      "126432    NACC9300013873      0.0    0.0     0.0     0.0     0.0     1.0   \n",
      "126984    NACC9300040284      1.0    0.0     0.0     0.0     0.0     0.0   \n",
      "127100    NACC9300046112      1.0    0.0     0.0     0.0     0.0     0.0   \n",
      "127386  NACC930330184600      1.0    0.0     0.0     0.0     0.0     1.0   \n",
      "127417  NACC930413222400      0.0    0.0     0.0     0.0     0.0     1.0   \n",
      "127910  NACC930916234700      1.0    0.0     0.0     0.0     0.0     0.0   \n",
      "128013  NACC931026194300      1.0    0.0     0.0     0.0     0.0     0.0   \n",
      "134844  NACC970109014800      1.0    0.0     0.0     0.0     0.0     0.0   \n",
      "137592    NACE8900020252      0.0    0.0     0.0     0.0     0.0     0.0   \n",
      "139277  NATR020502225300      1.0    0.0     0.0     0.0     0.0     0.0   \n",
      "139514    NATR02A0000082      1.0    0.0     0.0     0.0     0.0     0.0   \n",
      "142835    NATR9200000127      0.0    0.0     0.0     0.0     0.0     0.0   \n",
      "164353    SUIT0000011208      0.0    0.0     0.0     0.0     0.0     0.0   \n",
      "181297    YELL9200000235      2.0    0.0     0.0     0.0     0.0     1.0   \n",
      "195007        NP16054129      3.0    0.0     0.0     0.0     0.0     0.0   \n",
      "200271        PP18077934      3.0    0.0     0.0     0.0     0.0     0.0   \n",
      "203563        NP19158419      2.0    0.0     0.0     0.0     0.0     0.0   \n",
      "\n",
      "        30_mph  35_mph  40_mph  ...  OtherDomestic  Involving Animal  \\\n",
      "3462       0.0     0.0     0.0  ...            0.0               0.0   \n",
      "3513       0.0     0.0     0.0  ...            0.0               0.0   \n",
      "3627       0.0     0.0     0.0  ...            0.0               0.0   \n",
      "4561       0.0     0.0     0.0  ...            0.0               0.0   \n",
      "5674       0.0     0.0     0.0  ...            0.0               0.0   \n",
      "5811       0.0     0.0     0.0  ...            0.0               0.0   \n",
      "6420       0.0     0.0     0.0  ...            0.0               0.0   \n",
      "6668       0.0     0.0     0.0  ...            0.0               0.0   \n",
      "14387      0.0     0.0     0.0  ...            0.0               0.0   \n",
      "14400      0.0     0.0     0.0  ...            0.0               0.0   \n",
      "27294      0.0     0.0     0.0  ...            0.0               0.0   \n",
      "27318      0.0     0.0     0.0  ...            0.0               0.0   \n",
      "27972      0.0     0.0     0.0  ...            0.0               0.0   \n",
      "28024      0.0     0.0     0.0  ...            0.0               0.0   \n",
      "28137      0.0     0.0     0.0  ...            0.0               0.0   \n",
      "29787      0.0     0.0     0.0  ...            0.0               0.0   \n",
      "30436      0.0     0.0     0.0  ...            0.0               0.0   \n",
      "32449      0.0     0.0     0.0  ...            0.0               0.0   \n",
      "35483      0.0     0.0     0.0  ...            0.0               0.0   \n",
      "38513      0.0     0.0     0.0  ...            0.0               0.0   \n",
      "43797      0.0     0.0     0.0  ...            0.0               0.0   \n",
      "43829      0.0     0.0     0.0  ...            0.0               0.0   \n",
      "44371      0.0     1.0     0.0  ...            0.0               0.0   \n",
      "74443      0.0     0.0     0.0  ...            0.0               0.0   \n",
      "78678      0.0     0.0     1.0  ...            0.0               0.0   \n",
      "79278      0.0     0.0     1.0  ...            0.0               0.0   \n",
      "79836      0.0     0.0     0.0  ...            0.0               0.0   \n",
      "87050      0.0     0.0     0.0  ...            0.0               0.0   \n",
      "87892      0.0     0.0     0.0  ...            0.0               0.0   \n",
      "105098     0.0     1.0     0.0  ...            0.0               0.0   \n",
      "106795     0.0     0.0     0.0  ...            0.0               0.0   \n",
      "120563     0.0     0.0     0.0  ...            0.0               0.0   \n",
      "121787     0.0     0.0     0.0  ...            0.0               0.0   \n",
      "126392     0.0     0.0     0.0  ...            0.0               0.0   \n",
      "126432     0.0     0.0     0.0  ...            0.0               0.0   \n",
      "126984     0.0     1.0     0.0  ...            0.0               0.0   \n",
      "127100     0.0     1.0     0.0  ...            0.0               0.0   \n",
      "127386     0.0     0.0     0.0  ...            0.0               0.0   \n",
      "127417     0.0     0.0     0.0  ...            0.0               0.0   \n",
      "127910     0.0     1.0     0.0  ...            0.0               0.0   \n",
      "128013     0.0     1.0     0.0  ...            0.0               0.0   \n",
      "134844     0.0     1.0     0.0  ...            0.0               0.0   \n",
      "137592     0.0     0.0     0.0  ...            0.0               0.0   \n",
      "139277     0.0     0.0     0.0  ...            0.0               0.0   \n",
      "139514     0.0     0.0     0.0  ...            0.0               0.0   \n",
      "142835     0.0     0.0     0.0  ...            0.0               0.0   \n",
      "164353     0.0     0.0     0.0  ...            0.0               0.0   \n",
      "181297     0.0     0.0     0.0  ...            0.0               0.0   \n",
      "195007     0.0     0.0     0.0  ...            0.0               0.0   \n",
      "200271     0.0     0.0     0.0  ...            0.0               0.0   \n",
      "203563     0.0     0.0     0.0  ...            0.0               0.0   \n",
      "\n",
      "         LATITUDE   LONGITUDE  Park  RGN  CRASH_DATE  CRASH_TIME  CRASH_YEAR  \\\n",
      "3462    38.926340  -76.928790  BAWA  NCR  2003-08-22        2244      2003.0   \n",
      "3513    38.933770  -76.918730  BAWA  NCR  2003-09-19        2223      2003.0   \n",
      "3627    38.997750  -76.871450  BAWA  NCR  2003-11-04        2321      2003.0   \n",
      "4561    39.137130  -76.757290  BAWA  NCR  2006-04-15         607      2006.0   \n",
      "5674    39.055980  -76.839970  BAWA  NCR  2007-12-29         247      2007.0   \n",
      "5811    38.937740  -76.915250  BAWA  NCR  2008-04-19        2121      2008.0   \n",
      "6420    38.922640  -76.932920  BAWA  NCR  2009-02-10        1939      2009.0   \n",
      "6668    38.937050  -76.915380  BAWA  NCR  2009-08-04        2111      2009.0   \n",
      "14387   38.938380  -76.914890  BAWA  NCR  1994-12-26        1816      1994.0   \n",
      "14400   38.938440  -76.914850  BAWA  NCR  1995-01-03        1731      1995.0   \n",
      "27294         NaN         NaN  BAWA  NCR  2002-08-10         335      2002.0   \n",
      "27318         NaN         NaN  BAWA  NCR  2002-08-21          12      2002.0   \n",
      "27972         NaN         NaN  BAWA  NCR  2003-08-22        2244      2003.0   \n",
      "28024         NaN         NaN  BAWA  NCR  2003-09-19        2223      2003.0   \n",
      "28137         NaN         NaN  BAWA  NCR  2003-11-04        2321      2003.0   \n",
      "29787         NaN         NaN  BAWA  NCR  2006-04-15         607         NaN   \n",
      "30436         NaN         NaN  BAWA  NCR  1989-03-05          23      1989.0   \n",
      "32449         NaN         NaN  BAWA  NCR  1991-09-26        2100      1991.0   \n",
      "35483         NaN         NaN  BAWA  NCR  1994-12-26        1816      1994.0   \n",
      "38513         NaN         NaN  BAWA  NCR  1999-04-25         143      1999.0   \n",
      "43797         NaN         NaN  COLO  NER  1995-06-05        1055      1995.0   \n",
      "43829   37.239390  -76.523560  COLO  NER  1995-06-05        1055      1995.0   \n",
      "44371         NaN         NaN  CRLA  PWR  2006-08-19        1010         NaN   \n",
      "74443         NaN         NaN  GRTE  IMR  1991-09-04         925      1991.0   \n",
      "78678         NaN         NaN  GWMP  NCR  2003-03-19         349      2003.0   \n",
      "79278         NaN         NaN  GWMP  NCR  2003-03-19         349      2003.0   \n",
      "79836         NaN         NaN  GWMP  NCR  2004-03-03        1721      2004.0   \n",
      "87050         NaN         NaN  GWMP  NCR  1991-12-06        2232      1991.0   \n",
      "87892         NaN         NaN  GWMP  NCR  1991-12-06        2232      1991.0   \n",
      "105098        NaN         NaN  LAKE  PWR  1990-08-23        1625      1990.0   \n",
      "106795        NaN         NaN  LAMR  IMR  1996-07-19        2230      1996.0   \n",
      "120563        NaN         NaN  NACC  NCR  1990-06-04        2124      1990.0   \n",
      "121787        NaN         NaN  NAMA  NCR  1990-06-04        2124      1990.0   \n",
      "126392        NaN         NaN  NACC  NCR  1993-03-30        1846      1993.0   \n",
      "126432        NaN         NaN  NACC  NCR  1993-04-13        2224      1993.0   \n",
      "126984        NaN         NaN  NACC  NCR  1993-09-16        2347      1993.0   \n",
      "127100        NaN         NaN  NACC  NCR  1993-10-26        1943      1993.0   \n",
      "127386        NaN         NaN  NAMA  NCR  1993-03-30        1846      1993.0   \n",
      "127417        NaN         NaN  NAMA  NCR  1993-04-13        2224      1993.0   \n",
      "127910        NaN         NaN  NAMA  NCR  1993-09-16        2347      1993.0   \n",
      "128013        NaN         NaN  NAMA  NCR  1993-10-26        1943      1993.0   \n",
      "134844        NaN         NaN  NAMA  NCR  1997-01-09         148      1997.0   \n",
      "137592        NaN         NaN  NACE  NCR  1989-05-15         307      1989.0   \n",
      "139277        NaN         NaN  NATR  SER  2002-05-02        2253      2002.0   \n",
      "139514        NaN         NaN  NATR  SER  2002-05-02        2253      2002.0   \n",
      "142835        NaN         NaN  NATR  SER  1992-07-19         130      1992.0   \n",
      "164353        NaN         NaN  SUIT  NCR  2000-04-24        2113      2000.0   \n",
      "181297        NaN         NaN  YELL  IMR  1992-07-20        1530      1992.0   \n",
      "195007  44.994621 -110.693618  YELL  IMR  2017-03-31        2032      2017.0   \n",
      "200271  38.574500  -78.383861  SHEN  NER  2019-11-08        1642      2019.0   \n",
      "203563        NaN         NaN  VAFO  NER  2021-05-08        1330      2021.0   \n",
      "\n",
      "        database  \n",
      "3462         CDS  \n",
      "3513         CDS  \n",
      "3627         CDS  \n",
      "4561         CDS  \n",
      "5674         CDS  \n",
      "5811         CDS  \n",
      "6420         CDS  \n",
      "6668         CDS  \n",
      "14387        CDS  \n",
      "14400        CDS  \n",
      "27294        CDS  \n",
      "27318        CDS  \n",
      "27972        CDS  \n",
      "28024        CDS  \n",
      "28137        CDS  \n",
      "29787        CDS  \n",
      "30436        CDS  \n",
      "32449        CDS  \n",
      "35483        CDS  \n",
      "38513        CDS  \n",
      "43797        CDS  \n",
      "43829        CDS  \n",
      "44371        CDS  \n",
      "74443        CDS  \n",
      "78678        CDS  \n",
      "79278        CDS  \n",
      "79836        CDS  \n",
      "87050        CDS  \n",
      "87892        CDS  \n",
      "105098       CDS  \n",
      "106795       CDS  \n",
      "120563       CDS  \n",
      "121787       CDS  \n",
      "126392       CDS  \n",
      "126432       CDS  \n",
      "126984       CDS  \n",
      "127100       CDS  \n",
      "127386       CDS  \n",
      "127417       CDS  \n",
      "127910       CDS  \n",
      "128013       CDS  \n",
      "134844       CDS  \n",
      "137592       CDS  \n",
      "139277       CDS  \n",
      "139514       CDS  \n",
      "142835       CDS  \n",
      "164353       CDS  \n",
      "181297       CDS  \n",
      "195007     IMARS  \n",
      "200271     IMARS  \n",
      "203563     IMARS  \n",
      "\n",
      "[51 rows x 53 columns]\n"
     ]
    }
   ],
   "source": [
    "fatality_VRU = VRU[VRU['Fatality'] == 1]\n",
    "print(fatality_VRU)"
   ]
  },
  {
   "cell_type": "code",
   "execution_count": 23,
   "id": "b4b029b1",
   "metadata": {
    "scrolled": true
   },
   "outputs": [],
   "source": [
    "VRUfatal_5 = fatality_VRU['5_mph'].sum()\n",
    "VRUfatal_10 = fatality_VRU['10_mph'].sum() \n",
    "VRUfatal_15 = fatality_VRU['15_mph'].sum() \n",
    "VRUfatal_20 = fatality_VRU['20_mph'].sum() \n",
    "VRUfatal_25 = fatality_VRU['25_mph'].sum() \n",
    "VRUfatal_30 = fatality_VRU['30_mph'].sum() \n",
    "VRUfatal_35 = fatality_VRU['35_mph'].sum() \n",
    "VRUfatal_40 = fatality_VRU['40_mph'].sum() \n",
    "VRUfatal_45 = fatality_VRU['45_mph'].sum()\n",
    "VRUfatal_50 = fatality_VRU['50_mph'].sum()\n",
    "VRUfatal_55 = fatality_VRU['55_mph'].sum()"
   ]
  },
  {
   "cell_type": "code",
   "execution_count": 26,
   "id": "ee10aab0",
   "metadata": {},
   "outputs": [],
   "source": [
    "VRU_fatal_postedspeed= {'Posted Speed': ['5 mph', '10 mph', '15 mph', '20 mph', '25 mph', '30 mph', '35 mph', '40 mph', '45 mph', '50 mph', '55 mph'], 'Number of Fatalities':[VRUfatal_5, VRUfatal_10, VRUfatal_15, VRUfatal_20, VRUfatal_25, VRUfatal_30, VRUfatal_35, VRUfatal_40, VRUfatal_45, VRUfatal_50, VRUfatal_55]}"
   ]
  },
  {
   "cell_type": "code",
   "execution_count": 27,
   "id": "d0b0e559",
   "metadata": {},
   "outputs": [
    {
     "name": "stdout",
     "output_type": "stream",
     "text": [
      "   Posted Speed  Number of Fatalities\n",
      "0         5 mph                   0.0\n",
      "1        10 mph                   0.0\n",
      "2        15 mph                   0.0\n",
      "3        20 mph                   0.0\n",
      "4        25 mph                   7.0\n",
      "5        30 mph                   0.0\n",
      "6        35 mph                   7.0\n",
      "7        40 mph                   2.0\n",
      "8        45 mph                  15.0\n",
      "9        50 mph                   2.0\n",
      "10       55 mph                   9.0\n"
     ]
    }
   ],
   "source": [
    "df6 = pd.DataFrame(VRU_fatal_postedspeed)\n",
    "print(df6)"
   ]
  },
  {
   "cell_type": "code",
   "execution_count": 16,
   "id": "e811946e",
   "metadata": {},
   "outputs": [
    {
     "name": "stdout",
     "output_type": "stream",
     "text": [
      "   Posted Speed  Number of Fatalities\n",
      "0         5 mph                   0.0\n",
      "1        10 mph                   0.0\n",
      "2        15 mph                   0.0\n",
      "3        20 mph                   0.0\n",
      "4        25 mph                   7.0\n",
      "5        30 mph                   0.0\n",
      "6        35 mph                   6.0\n",
      "7        40 mph                   2.0\n",
      "8        45 mph                  13.0\n",
      "9        50 mph                   1.0\n",
      "10       55 mph                   9.0\n",
      "11       60 mph                   0.0\n",
      "12       65 mph                   0.0\n",
      "13       70 mph                   0.0\n"
     ]
    }
   ],
   "source": [
    "# No. pedestrian fatalities and posted speed\n",
    "#Repeated same process as done for VRU. First construct dataframe that pulls all crashes related to Pedestrian \n",
    "pedestrian = analysis_2022[analysis_2022['Pedestrian'] == 1]\n",
    "\n",
    "#Within that dataframe, construct a dataframe where pedestrian-related crashes had fatalities \n",
    "fatalped = pedestrian[pedestrian['Fatality'] == 1]\n",
    "\n",
    "#Now define variables to capture pedestrian fatalities by posted speed\n",
    "pedfatal_5 = fatalped['5_mph'].sum()\n",
    "pedfatal_10 = fatalped['10_mph'].sum() \n",
    "pedfatal_15 = fatalped['15_mph'].sum() \n",
    "pedfatal_20 = fatalped['20_mph'].sum() \n",
    "pedfatal_25 = fatalped['25_mph'].sum() \n",
    "pedfatal_30 = fatalped['30_mph'].sum() \n",
    "pedfatal_35 = fatalped['35_mph'].sum() \n",
    "pedfatal_40 = fatalped['40_mph'].sum() \n",
    "pedfatal_45 = fatalped['45_mph'].sum()\n",
    "pedfatal_50 = fatalped['50_mph'].sum()\n",
    "pedfatal_55 = fatalped['55_mph'].sum()\n",
    "pedfatal_60 = fatalped['60_mph'].sum()\n",
    "pedfatal_65 = fatalped['65_mph'].sum()\n",
    "pedfatal_70 = fatalped['70_mph'].sum() \n",
    "\n",
    "#Create a table that lists number of pedestrian fatalities by posted speed \n",
    "pedfatal_postedspeed= {'Posted Speed': ['5 mph', '10 mph', '15 mph', '20 mph', '25 mph', '30 mph', '35 mph', '40 mph', '45 mph', '50 mph', '55 mph', '60 mph', '65 mph', '70 mph'], 'Number of Fatalities':[pedfatal_5, pedfatal_10, pedfatal_15, pedfatal_20, pedfatal_25, pedfatal_30, pedfatal_35, pedfatal_40, pedfatal_45, pedfatal_50, pedfatal_55, pedfatal_60, pedfatal_65, pedfatal_70]}\n",
    "df7 = pd.DataFrame(pedfatal_postedspeed)\n",
    "print(df7)"
   ]
  },
  {
   "cell_type": "code",
   "execution_count": 18,
   "id": "30e09152",
   "metadata": {},
   "outputs": [
    {
     "name": "stdout",
     "output_type": "stream",
     "text": [
      "   Posted Speed  Number of Fatalities\n",
      "0         5 mph                   0.0\n",
      "1        10 mph                   0.0\n",
      "2        15 mph                   0.0\n",
      "3        20 mph                   0.0\n",
      "4        25 mph                   0.0\n",
      "5        30 mph                   0.0\n",
      "6        35 mph                   1.0\n",
      "7        40 mph                   0.0\n",
      "8        45 mph                   2.0\n",
      "9        50 mph                   1.0\n",
      "10       55 mph                   9.0\n",
      "11       60 mph                   0.0\n",
      "12       65 mph                   0.0\n",
      "13       70 mph                   0.0\n"
     ]
    }
   ],
   "source": [
    "# No. of cyclist fatalities by posted speed\n",
    "#Repeated same process as done for VRU. First construct dataframe that pulls all crashes related to cyclists \n",
    "cyclists = analysis_2022[analysis_2022['Bicycle'] == 1]\n",
    "\n",
    "#Within that dataframe, construct a dataframe where cyclist-related crashes had fatalities \n",
    "fatalcyc = cyclists[cyclists['Fatality'] == 1]\n",
    "\n",
    "#Now define variables to capture pedestrian fatalities by posted speed\n",
    "cycfatal_5 = fatalcyc['5_mph'].sum()\n",
    "cycfatal_10 = fatalcyc['10_mph'].sum() \n",
    "cycfatal_15 = fatalcyc['15_mph'].sum() \n",
    "cycfatal_20 = fatalcyc['20_mph'].sum() \n",
    "cycfatal_25 = fatalcyc['25_mph'].sum() \n",
    "cycfatal_30 = fatalcyc['30_mph'].sum() \n",
    "cycfatal_35 = fatalcyc['35_mph'].sum() \n",
    "cycfatal_40 = fatalcyc['40_mph'].sum() \n",
    "cycfatal_45 = fatalcyc['45_mph'].sum()\n",
    "cycfatal_50 = fatalcyc['50_mph'].sum()\n",
    "cycfatal_55 = fatalcyc['55_mph'].sum()\n",
    "cycfatal_60 = fatalcyc['60_mph'].sum()\n",
    "cycfatal_65 = fatalcyc['65_mph'].sum()\n",
    "cycfatal_70 = fatalcyc['70_mph'].sum() \n",
    "\n",
    "#Create a table that lists number of cyclist fatalities by posted speed \n",
    "cycfatal_postedspeed= {'Posted Speed': ['5 mph', '10 mph', '15 mph', '20 mph', '25 mph', '30 mph', '35 mph', '40 mph', '45 mph', '50 mph', '55 mph', '60 mph', '65 mph', '70 mph'], 'Number of Fatalities':[cycfatal_5, cycfatal_10, cycfatal_15, cycfatal_20, cycfatal_25, cycfatal_30, cycfatal_35, cycfatal_40, cycfatal_45, cycfatal_50, pedfatal_55, cycfatal_60, cycfatal_65, cycfatal_70]}\n",
    "df8 = pd.DataFrame(cycfatal_postedspeed)\n",
    "print(df8)"
   ]
  },
  {
   "cell_type": "code",
   "execution_count": 28,
   "id": "e475590c",
   "metadata": {},
   "outputs": [
    {
     "data": {
      "text/plain": [
       "Text(0, 0.5, 'Number of Fatalities')"
      ]
     },
     "execution_count": 28,
     "metadata": {},
     "output_type": "execute_result"
    },
    {
     "data": {
      "image/png": "[encoded data removed]",
      "text/plain": [
       "<Figure size 432x288 with 1 Axes>"
      ]
     },
     "metadata": {
      "needs_background": "light"
     },
     "output_type": "display_data"
    }
   ],
   "source": [
    "#Pie chart/bar graph of fatalities by VRU type (peds vs. cyclists)\n",
    "postedspeed_index = [5,10,15,20,25,30,35,50,45,50,55]\n",
    "df = pd.DataFrame({'Pedestrian Fatalities':[pedfatal_5,pedfatal_10,pedfatal_15,pedfatal_20,pedfatal_25,pedfatal_30,pedfatal_35,pedfatal_40,pedfatal_45,pedfatal_50,pedfatal_55], 'Cyclist Fatalities':[cycfatal_5,cycfatal_10,cycfatal_15,cycfatal_20,pedfatal_25,cycfatal_30,cycfatal_35,cycfatal_40,cycfatal_45,cycfatal_50,cycfatal_55]}, index = postedspeed_index)\n",
    "ax = df.plot.bar(rot=0)\n",
    "\n",
    "plt.title('Fatalities by VRU Type (Pedestrians Vs. Cyclists)')\n",
    "plt.xlabel('Posted Speed')\n",
    "plt.ylabel('Number of Fatalities')"
   ]
  },
  {
   "cell_type": "markdown",
   "id": "88fa1904",
   "metadata": {},
   "source": [
    "#### See Question in One Note for the following code re. \"Injury and Fatality\" or \"Injury or Fatal\""
   ]
  },
  {
   "cell_type": "code",
   "execution_count": 35,
   "id": "c4bbf844",
   "metadata": {},
   "outputs": [
    {
     "name": "stdout",
     "output_type": "stream",
     "text": [
      "                INCID_NO  NUM_OCC  5_mph  10_mph  15_mph  20_mph  25_mph  \\\n",
      "348     ACAD090421120000     14.0    0.0     0.0     0.0     0.0     0.0   \n",
      "580       ACAD8900006028      4.0    0.0     0.0     0.0     0.0     1.0   \n",
      "1360      ACAD9900000944      0.0    0.0     0.0     0.0     0.0     0.0   \n",
      "1416    ACAD990930100000      0.0    0.0     0.0     0.0     0.0     0.0   \n",
      "1987      ASIS0100000341      2.0    0.0     0.0     0.0     0.0     0.0   \n",
      "...                  ...      ...    ...     ...     ...     ...     ...   \n",
      "205402        NP20077087      3.0    0.0     0.0     0.0     0.0     0.0   \n",
      "205467        NP20082987      2.0    0.0     0.0     0.0     0.0     0.0   \n",
      "205725        NP20101607      1.0    0.0     0.0     0.0     0.0     0.0   \n",
      "205730        NP20102165      2.0    0.0     0.0     1.0     0.0     0.0   \n",
      "205968        PP20056040      3.0    0.0     0.0     0.0     0.0     0.0   \n",
      "\n",
      "        30_mph  35_mph  40_mph  ...  OtherDomestic  Involving Animal  \\\n",
      "348        0.0     1.0     0.0  ...            0.0               0.0   \n",
      "580        0.0     0.0     0.0  ...            0.0               0.0   \n",
      "1360       0.0     0.0     0.0  ...            0.0               0.0   \n",
      "1416       0.0     0.0     0.0  ...            0.0               0.0   \n",
      "1987       0.0     0.0     0.0  ...            0.0               0.0   \n",
      "...        ...     ...     ...  ...            ...               ...   \n",
      "205402     0.0     1.0     0.0  ...            0.0               0.0   \n",
      "205467     0.0     0.0     1.0  ...            0.0               0.0   \n",
      "205725     0.0     1.0     0.0  ...            0.0               0.0   \n",
      "205730     0.0     0.0     0.0  ...            0.0               0.0   \n",
      "205968     0.0     0.0     0.0  ...            0.0               0.0   \n",
      "\n",
      "         LATITUDE   LONGITUDE  Park  RGN  CRASH_DATE  CRASH_TIME  CRASH_YEAR  \\\n",
      "348     44.368910  -68.238560  ACAD  NER  2009-04-21        1200      2009.0   \n",
      "580           NaN         NaN  ACAD  NER  1989-07-25        1118      1989.0   \n",
      "1360          NaN         NaN  ACAD  NER  1999-09-30        1000      1999.0   \n",
      "1416          NaN         NaN  ACAD  NER  1999-09-30        1000      1999.0   \n",
      "1987          NaN         NaN  ASIS  NER  2001-06-26        1200      2001.0   \n",
      "...           ...         ...   ...  ...         ...         ...         ...   \n",
      "205402        NaN         NaN  CRLA  PWR  2021-12-11        1343      2021.0   \n",
      "205467  40.367062 -105.561539  ROMO  IMR  2021-12-23        1509      2021.0   \n",
      "205725  40.591000  -73.884020  GATE  NER  2017-02-01         840      2017.0   \n",
      "205730  37.248577  -76.698877  COLO  NER  2017-02-07        1315      2017.0   \n",
      "205968  38.920000  -76.930000  NACA  NCR  2018-03-26        2143      2018.0   \n",
      "\n",
      "        database  \n",
      "348          CDS  \n",
      "580          CDS  \n",
      "1360         CDS  \n",
      "1416         CDS  \n",
      "1987         CDS  \n",
      "...          ...  \n",
      "205402     IMARS  \n",
      "205467     IMARS  \n",
      "205725     IMARS  \n",
      "205730     IMARS  \n",
      "205968     IMARS  \n",
      "\n",
      "[1335 rows x 53 columns]\n"
     ]
    }
   ],
   "source": [
    "#Bar graph of VRU fatalities AND injuries combined sorted by posted speed \n",
    "injuryandfatality_VRU = VRU[VRU['Injury or Fatal'] == 1]\n",
    "print(injuryandfatality_VRU)"
   ]
  },
  {
   "cell_type": "code",
   "execution_count": 12,
   "id": "0c7bca4d",
   "metadata": {},
   "outputs": [
    {
     "data": {
      "text/plain": [
       "Text(0, 0.5, 'Total Number of Crashes')"
      ]
     },
     "execution_count": 12,
     "metadata": {},
     "output_type": "execute_result"
    },
    {
     "data": {
      "image/png": "[encoded data removed]",
      "text/plain": [
       "<Figure size 432x288 with 1 Axes>"
      ]
     },
     "metadata": {
      "needs_background": "light"
     },
     "output_type": "display_data"
    }
   ],
   "source": [
    "#Bar graph of total crashes involving VRUs occurring at crosswalks vs. locations other than crosswalks\n",
    "\n",
    "#First need to capture crashes involving VRUs  \n",
    "VRU = analysis_2022[analysis_2022['VRU'] == 1]\n",
    "\n",
    "#Then capture crashes involving VRUs occuring at crosswalks \n",
    "VRUcross = VRU[VRU['Crosswalk'] == 1]\n",
    "\n",
    "#Compute total crashes involving VRUs occuring at crosswalks \n",
    "VRUcrosstotal = VRUcross.shape[0]\n",
    "\n",
    "#Next capture crashes involving VRUs occuring at locations other than crosswalks \n",
    "VRUother = VRU[VRU['Outside a Crosswalk'] == 1]\n",
    "\n",
    "#Compute total crashes involving VRUs occuring at locations other than crosswalks \n",
    "VRUothertotal = VRUother.shape[0] \n",
    "\n",
    "#Construct bar graph \n",
    "\n",
    "#df = pd.DataFrame({'Crashes Occuring at Crosswalks':[VRUcrosstotal], 'Crashes Outside a Crosswalk':[VRUothertotal]})\n",
    "df = pd.DataFrame({'location':['Crosswalks', 'Outside a Crosswalk'], 'val':[VRUcrosstotal, VRUothertotal]})\n",
    "ax = df.plot.bar(x='location', y='val',color ='red', rot=0)\n",
    "plt.title('Total Crashes Involving VRUs Occuring at Crosswalks vs. Locations Other than Crosswalks')\n",
    "plt.xlabel('Location of Crash')\n",
    "plt.ylabel('Total Number of Crashes')"
   ]
  },
  {
   "cell_type": "code",
   "execution_count": 14,
   "id": "84080c3f",
   "metadata": {
    "scrolled": true
   },
   "outputs": [
    {
     "data": {
      "text/plain": [
       "Text(0, 0.5, 'Number of Crashes')"
      ]
     },
     "execution_count": 14,
     "metadata": {},
     "output_type": "execute_result"
    },
    {
     "data": {
      "image/png": "[encoded data removed]",
      "text/plain": [
       "<Figure size 432x288 with 1 Axes>"
      ]
     },
     "metadata": {
      "needs_background": "light"
     },
     "output_type": "display_data"
    }
   ],
   "source": [
    "#Figure of all crashes by posted speed \n",
    "total_5 = analysis_2022['5_mph'].sum()\n",
    "total_10 = analysis_2022['10_mph'].sum() \n",
    "total_15 = analysis_2022['15_mph'].sum()\n",
    "total_20 = analysis_2022['20_mph'].sum() \n",
    "total_25 = analysis_2022['25_mph'].sum() \n",
    "total_30 = analysis_2022['30_mph'].sum()\n",
    "total_35 = analysis_2022['35_mph'].sum()\n",
    "total_40 = analysis_2022['40_mph'].sum()\n",
    "total_45 = analysis_2022['45_mph'].sum() \n",
    "total_50 = analysis_2022['50_mph'].sum()\n",
    "total_55 = analysis_2022['55_mph'].sum()\n",
    "total_60 = analysis_2022['60_mph'].sum() \n",
    "total_65 = analysis_2022['65_mph'].sum() \n",
    "total_70 = analysis_2022['70_mph'].sum()\n",
    "df = pd.DataFrame({'Posted Speed':[5,10,15,20,25,30,35,50,45,50,55,60,65,70], 'Total Crashes':[total_5,total_10,total_15,total_20,total_25,total_30,total_35,total_40,total_45,total_50,total_55,total_60,total_65,total_70]})\n",
    "ax = df.plot.bar(x='Posted Speed', y='Total Crashes', rot=0)\n",
    "\n",
    "plt.title('Total Crashes')\n",
    "plt.xlabel('Posted Speed')\n",
    "plt.ylabel('Number of Crashes')"
   ]
  },
  {
   "cell_type": "code",
   "execution_count": 14,
   "id": "9d229032",
   "metadata": {
    "scrolled": true
   },
   "outputs": [
    {
     "data": {
      "text/plain": [
       "Text(0, 0.5, 'Number of Crashes')"
      ]
     },
     "execution_count": 14,
     "metadata": {},
     "output_type": "execute_result"
    },
    {
     "data": {
      "image/png": "[encoded data removed]",
      "text/plain": [
       "<Figure size 432x288 with 1 Axes>"
      ]
     },
     "metadata": {
      "needs_background": "light"
     },
     "output_type": "display_data"
    }
   ],
   "source": [
    "#Figure of all crashes involving animals by posted speed \n",
    "involveanimals = analysis_2022[analysis_2022['Involving Animal'] == 1]\n",
    "animal_5 = involveanimals['5_mph'].sum()\n",
    "animal_10 = involveanimals['10_mph'].sum() \n",
    "animal_15 = involveanimals['15_mph'].sum()\n",
    "animal_20 = involveanimals['20_mph'].sum()\n",
    "animal_25 = involveanimals['25_mph'].sum() \n",
    "animal_30 = involveanimals['30_mph'].sum()\n",
    "animal_35 = involveanimals['35_mph'].sum() \n",
    "animal_40 = involveanimals['40_mph'].sum() \n",
    "animal_45 = involveanimals['45_mph'].sum() \n",
    "animal_50 = involveanimals['50_mph'].sum() \n",
    "animal_55 = involveanimals['55_mph'].sum() \n",
    "animal_60 = involveanimals['60_mph'].sum() \n",
    "animal_65 = involveanimals['65_mph'].sum() \n",
    "animal_70 = involveanimals['70_mph'].sum() \n",
    "\n",
    "df = pd.DataFrame({'Posted Speed':[5,10,15,20,25,30,35,50,45,50,55,60,65,70], 'Total Crashes Involving Animals':[animal_5,animal_10,animal_15,animal_20,animal_25,animal_30,animal_35, animal_40,animal_45,animal_50,animal_55, animal_60,animal_65,animal_70]})\n",
    "ax = df.plot.bar(x='Posted Speed', y='Total Crashes Involving Animals', rot=0)\n",
    "\n",
    "plt.title('Total Crashes Involving Animals')\n",
    "plt.xlabel('Posted Speed')\n",
    "plt.ylabel('Number of Crashes')"
   ]
  },
  {
   "cell_type": "code",
   "execution_count": 15,
   "id": "b32339d7",
   "metadata": {},
   "outputs": [
    {
     "data": {
      "text/plain": [
       "Text(0, 0.5, 'Number of Crashes')"
      ]
     },
     "execution_count": 15,
     "metadata": {},
     "output_type": "execute_result"
    },
    {
     "data": {
      "image/png": "[encoded data removed]",
      "text/plain": [
       "<Figure size 432x288 with 1 Axes>"
      ]
     },
     "metadata": {
      "needs_background": "light"
     },
     "output_type": "display_data"
    }
   ],
   "source": [
    "#Figure of crashes involving animals that resulted in serious injury or fatality, by posted speed \n",
    "\n",
    "#First create dataframe that captures crashes involving animals resulting in serious injury, aka incapacitating injury\n",
    "seriousinvolveanimals = involveanimals[involveanimals['Incapacitating Injury'] ==1]\n",
    "\n",
    "#Create dataframe that captures crashes involving animals resulting in fatality \n",
    "fatalinvolveanimals = involveanimals[involveanimals['Fatality'] ==1]\n",
    "\n",
    "#Combine the two dataframes\n",
    "frames =[seriousinvolveanimals, fatalinvolveanimals]\n",
    "pd.concat(frames)\n",
    "combinedanimals = pd.concat(frames)\n",
    "\n",
    "#Construct bargraph with combined dataframe by posted speed \n",
    "ca5 = combinedanimals['5_mph'].sum()\n",
    "ca10 = combinedanimals['10_mph'].sum() \n",
    "ca15 = combinedanimals['15_mph'].sum()\n",
    "ca20 = combinedanimals['20_mph'].sum()\n",
    "ca25 = combinedanimals['25_mph'].sum() \n",
    "ca30 = combinedanimals['30_mph'].sum()\n",
    "ca35 = combinedanimals['35_mph'].sum() \n",
    "ca40 = combinedanimals['40_mph'].sum() \n",
    "ca45 = combinedanimals['45_mph'].sum() \n",
    "ca50 = combinedanimals['50_mph'].sum() \n",
    "ca55 = combinedanimals['55_mph'].sum() \n",
    "ca60 = combinedanimals['60_mph'].sum() \n",
    "ca65 = combinedanimals['65_mph'].sum() \n",
    "ca70 = combinedanimals['70_mph'].sum() \n",
    "\n",
    "df = pd.DataFrame({'Posted Speed':[5,10,15,20,25,30,35,50,45,50,55,60,65,70], 'Total Crashes':[ca5, ca10, ca15, ca20, ca25, ca30, ca35, ca40, ca45, ca50, ca55, ca60, ca65, ca70]})\n",
    "ax = df.plot.bar(x='Posted Speed', y='Total Crashes', rot=0)\n",
    "\n",
    "plt.title('Total Crashes Involving Animals That Resulted in Serious Injury or Fatality')\n",
    "plt.xlabel('Posted Speed')\n",
    "plt.ylabel('Number of Crashes')\n",
    "#Need help formatting legend or removing legend "
   ]
  },
  {
   "cell_type": "markdown",
   "id": "ed5746b4",
   "metadata": {},
   "source": [
    "# Regional Briefing Data Overview - Loop "
   ]
  },
  {
   "cell_type": "code",
   "execution_count": 7,
   "id": "200299f5",
   "metadata": {
    "scrolled": true
   },
   "outputs": [
    {
     "name": "stdout",
     "output_type": "stream",
     "text": [
      "['SER' 'NER' 'MWR' 'IMR' 'NCR' 'PWR' 'AKR']\n"
     ]
    }
   ],
   "source": [
    "regions = analysis_2022.RGN.unique()\n",
    "print(regions)"
   ]
  },
  {
   "cell_type": "markdown",
   "id": "4688c84f",
   "metadata": {},
   "source": [
    "### New Regional Loop - Work in Progress "
   ]
  },
  {
   "cell_type": "code",
   "execution_count": 8,
   "id": "e45a8d75",
   "metadata": {},
   "outputs": [
    {
     "ename": "SyntaxError",
     "evalue": "invalid syntax (4062423222.py, line 10)",
     "output_type": "error",
     "traceback": [
      "\u001b[1;36m  Input \u001b[1;32mIn [8]\u001b[1;36m\u001b[0m\n\u001b[1;33m    print(injuryorfatalityVRUreg)\u001b[0m\n\u001b[1;37m    ^\u001b[0m\n\u001b[1;31mSyntaxError\u001b[0m\u001b[1;31m:\u001b[0m invalid syntax\n"
     ]
    }
   ],
   "source": [
    "region = ['SER', 'NER', 'IMR', 'NCR', 'PWR', 'AKR']\n",
    "for index, item in enumerate(region):\n",
    "    regionabrv = region[index]\n",
    "    print(regionabrv)\n",
    "    regional_analysis_df = analysis_2022[analysis_2022['RGN'] == regionabrv]\n",
    "    \n",
    "    #Computing % of crashes involving VRUs that resulted in fatality or injury \n",
    "    VRUreg = regional_analysis_df[regional_analysis_df['VRU'] == 1]\n",
    "    injuryorfatalityVRUreg = VRUreg[VRUreg['Injury or Fatal'].sum()\n",
    "    print(injuryorfatalityVRUreg)\n",
    "    #print(\"The percentage of crashes involving VRUs that resulted in a fatality or injury is\", injuryorfatalityVRUreg)\n",
    "    "
   ]
  },
  {
   "cell_type": "markdown",
   "id": "303eacd7",
   "metadata": {},
   "source": [
    "### Old Regional Loop - Keeping for Reference Will Remove Soon "
   ]
  },
  {
   "cell_type": "code",
   "execution_count": 29,
   "id": "6ee0c76f",
   "metadata": {
    "scrolled": true
   },
   "outputs": [
    {
     "name": "stdout",
     "output_type": "stream",
     "text": [
      "SER\n"
     ]
    },
    {
     "ename": "KeyError",
     "evalue": "'Collision w Animal'",
     "output_type": "error",
     "traceback": [
      "\u001b[1;31m---------------------------------------------------------------------------\u001b[0m",
      "\u001b[1;31mKeyError\u001b[0m                                  Traceback (most recent call last)",
      "File \u001b[1;32m~\\Anaconda\\lib\\site-packages\\pandas\\core\\indexes\\base.py:3621\u001b[0m, in \u001b[0;36mIndex.get_loc\u001b[1;34m(self, key, method, tolerance)\u001b[0m\n\u001b[0;32m   3620\u001b[0m \u001b[38;5;28;01mtry\u001b[39;00m:\n\u001b[1;32m-> 3621\u001b[0m     \u001b[38;5;28;01mreturn\u001b[39;00m \u001b[38;5;28;43mself\u001b[39;49m\u001b[38;5;241;43m.\u001b[39;49m\u001b[43m_engine\u001b[49m\u001b[38;5;241;43m.\u001b[39;49m\u001b[43mget_loc\u001b[49m\u001b[43m(\u001b[49m\u001b[43mcasted_key\u001b[49m\u001b[43m)\u001b[49m\n\u001b[0;32m   3622\u001b[0m \u001b[38;5;28;01mexcept\u001b[39;00m \u001b[38;5;167;01mKeyError\u001b[39;00m \u001b[38;5;28;01mas\u001b[39;00m err:\n",
      "File \u001b[1;32m~\\Anaconda\\lib\\site-packages\\pandas\\_libs\\index.pyx:136\u001b[0m, in \u001b[0;36mpandas._libs.index.IndexEngine.get_loc\u001b[1;34m()\u001b[0m\n",
      "File \u001b[1;32m~\\Anaconda\\lib\\site-packages\\pandas\\_libs\\index.pyx:163\u001b[0m, in \u001b[0;36mpandas._libs.index.IndexEngine.get_loc\u001b[1;34m()\u001b[0m\n",
      "File \u001b[1;32mpandas\\_libs\\hashtable_class_helper.pxi:5198\u001b[0m, in \u001b[0;36mpandas._libs.hashtable.PyObjectHashTable.get_item\u001b[1;34m()\u001b[0m\n",
      "File \u001b[1;32mpandas\\_libs\\hashtable_class_helper.pxi:5206\u001b[0m, in \u001b[0;36mpandas._libs.hashtable.PyObjectHashTable.get_item\u001b[1;34m()\u001b[0m\n",
      "\u001b[1;31mKeyError\u001b[0m: 'Collision w Animal'",
      "\nThe above exception was the direct cause of the following exception:\n",
      "\u001b[1;31mKeyError\u001b[0m                                  Traceback (most recent call last)",
      "Input \u001b[1;32mIn [29]\u001b[0m, in \u001b[0;36m<cell line: 2>\u001b[1;34m()\u001b[0m\n\u001b[0;32m      5\u001b[0m regional_analysis_df \u001b[38;5;241m=\u001b[39m analysis_2022[analysis_2022[\u001b[38;5;124m'\u001b[39m\u001b[38;5;124mRGN\u001b[39m\u001b[38;5;124m'\u001b[39m] \u001b[38;5;241m==\u001b[39m regionabrv]\n\u001b[0;32m      7\u001b[0m \u001b[38;5;66;03m#Finding Count of Injuries or Fatalities by Collision with Animal\u001b[39;00m\n\u001b[1;32m----> 8\u001b[0m RGN_collisionwanimal \u001b[38;5;241m=\u001b[39m regional_analysis_df[\u001b[43mregional_analysis_df\u001b[49m\u001b[43m[\u001b[49m\u001b[38;5;124;43m'\u001b[39;49m\u001b[38;5;124;43mCollision w Animal\u001b[39;49m\u001b[38;5;124;43m'\u001b[39;49m\u001b[43m]\u001b[49m \u001b[38;5;241m==\u001b[39m \u001b[38;5;241m1\u001b[39m]\n\u001b[0;32m      9\u001b[0m RGNnuminjuries_collisionwanimals \u001b[38;5;241m=\u001b[39m RGN_collisionwanimal[\u001b[38;5;124m'\u001b[39m\u001b[38;5;124mNum_Injuries\u001b[39m\u001b[38;5;124m'\u001b[39m]\u001b[38;5;241m.\u001b[39msum()\n\u001b[0;32m     10\u001b[0m RGNnumfatalities_collisionwanimals \u001b[38;5;241m=\u001b[39m RGN_collisionwanimal[\u001b[38;5;124m'\u001b[39m\u001b[38;5;124mNum_Fatalities\u001b[39m\u001b[38;5;124m'\u001b[39m]\u001b[38;5;241m.\u001b[39msum()\n",
      "File \u001b[1;32m~\\Anaconda\\lib\\site-packages\\pandas\\core\\frame.py:3505\u001b[0m, in \u001b[0;36mDataFrame.__getitem__\u001b[1;34m(self, key)\u001b[0m\n\u001b[0;32m   3503\u001b[0m \u001b[38;5;28;01mif\u001b[39;00m \u001b[38;5;28mself\u001b[39m\u001b[38;5;241m.\u001b[39mcolumns\u001b[38;5;241m.\u001b[39mnlevels \u001b[38;5;241m>\u001b[39m \u001b[38;5;241m1\u001b[39m:\n\u001b[0;32m   3504\u001b[0m     \u001b[38;5;28;01mreturn\u001b[39;00m \u001b[38;5;28mself\u001b[39m\u001b[38;5;241m.\u001b[39m_getitem_multilevel(key)\n\u001b[1;32m-> 3505\u001b[0m indexer \u001b[38;5;241m=\u001b[39m \u001b[38;5;28;43mself\u001b[39;49m\u001b[38;5;241;43m.\u001b[39;49m\u001b[43mcolumns\u001b[49m\u001b[38;5;241;43m.\u001b[39;49m\u001b[43mget_loc\u001b[49m\u001b[43m(\u001b[49m\u001b[43mkey\u001b[49m\u001b[43m)\u001b[49m\n\u001b[0;32m   3506\u001b[0m \u001b[38;5;28;01mif\u001b[39;00m is_integer(indexer):\n\u001b[0;32m   3507\u001b[0m     indexer \u001b[38;5;241m=\u001b[39m [indexer]\n",
      "File \u001b[1;32m~\\Anaconda\\lib\\site-packages\\pandas\\core\\indexes\\base.py:3623\u001b[0m, in \u001b[0;36mIndex.get_loc\u001b[1;34m(self, key, method, tolerance)\u001b[0m\n\u001b[0;32m   3621\u001b[0m     \u001b[38;5;28;01mreturn\u001b[39;00m \u001b[38;5;28mself\u001b[39m\u001b[38;5;241m.\u001b[39m_engine\u001b[38;5;241m.\u001b[39mget_loc(casted_key)\n\u001b[0;32m   3622\u001b[0m \u001b[38;5;28;01mexcept\u001b[39;00m \u001b[38;5;167;01mKeyError\u001b[39;00m \u001b[38;5;28;01mas\u001b[39;00m err:\n\u001b[1;32m-> 3623\u001b[0m     \u001b[38;5;28;01mraise\u001b[39;00m \u001b[38;5;167;01mKeyError\u001b[39;00m(key) \u001b[38;5;28;01mfrom\u001b[39;00m \u001b[38;5;21;01merr\u001b[39;00m\n\u001b[0;32m   3624\u001b[0m \u001b[38;5;28;01mexcept\u001b[39;00m \u001b[38;5;167;01mTypeError\u001b[39;00m:\n\u001b[0;32m   3625\u001b[0m     \u001b[38;5;66;03m# If we have a listlike key, _check_indexing_error will raise\u001b[39;00m\n\u001b[0;32m   3626\u001b[0m     \u001b[38;5;66;03m#  InvalidIndexError. Otherwise we fall through and re-raise\u001b[39;00m\n\u001b[0;32m   3627\u001b[0m     \u001b[38;5;66;03m#  the TypeError.\u001b[39;00m\n\u001b[0;32m   3628\u001b[0m     \u001b[38;5;28mself\u001b[39m\u001b[38;5;241m.\u001b[39m_check_indexing_error(key)\n",
      "\u001b[1;31mKeyError\u001b[0m: 'Collision w Animal'"
     ]
    }
   ],
   "source": [
    "region = ['SER', 'NER', 'IMR', 'NCR', 'PWR', 'AKR']\n",
    "for index, item in enumerate(region):\n",
    "    regionabrv = region[index]\n",
    "    print(regionabrv)\n",
    "    regional_analysis_df = analysis_2022[analysis_2022['RGN'] == regionabrv]\n",
    "    \n",
    "    #Finding Count of Injuries or Fatalities by Collision with Animal\n",
    "    RGN_collisionwanimal = regional_analysis_df[regional_analysis_df['Collision w Animal'] == 1]\n",
    "    RGNnuminjuries_collisionwanimals = RGN_collisionwanimal['Num_Injuries'].sum()\n",
    "    RGNnumfatalities_collisionwanimals = RGN_collisionwanimal['Num_Fatalities'].sum()\n",
    "    \n",
    "    #Finding Count of Injuries or Fatalities by Avoiding Animal\n",
    "    RGN_avoidinganimals = regional_analysis_df[regional_analysis_df['Avoiding Animal'] == 1]\n",
    "    RGNnumfatalities_avoidinganimals = RGN_avoidinganimals['Num_Fatalities'].sum()\n",
    "    RGNnuminjuries_avoidinganimals = RGN_avoidinganimals['Num_Injuries'].sum()\n",
    "    \n",
    "    #Finding Count of Injuries or Fatalities by Pedestrians \n",
    "    RGN_pedestrians = regional_analysis_df[regional_analysis_df['Pedestrian'] == 1]\n",
    "    RGNpedinjuries = RGN_pedestrians['Num_Injuries'].sum()\n",
    "    RGNpedfatal = RGN_pedestrians['Num_Fatalities'].sum()\n",
    "    \n",
    "    #Finding Count of Injuries or Fatalities by Bicyclists  \n",
    "    RGN_bicyclists = regional_analysis_df[regional_analysis_df['Bicycle'] == 1]\n",
    "    RGNbikeinjuries = RGN_bicyclists['Num_Injuries'].sum()\n",
    "    RGNbikefatal = RGN_bicyclists['Num_Fatalities'].sum()\n",
    "    \n",
    "    #Finding Count of Injuries or Fatalities by Pedacyclists \n",
    "    RGN_pedacycle = regional_analysis_df[regional_analysis_df['Pedacycle'] == 1]\n",
    "    RGNpedacycleinjuries = RGN_pedacycle['Num_Injuries'].sum()\n",
    "    RGNpedacyclefatal = RGN_pedacycle['Num_Fatalities'].sum() \n",
    "    \n",
    "    #Creating table from data \n",
    "    RGNdata= {'Collision Type': ['Collision w Animal','Avoiding Animal', 'Pedestrian','Bicycle','Pedacycle'], 'Number of Injuries':[RGNnuminjuries_collisionwanimals, RGNnuminjuries_avoidinganimals, RGNpedinjuries, RGNbikeinjuries, RGNpedacycleinjuries], 'Number of Fatalities':[RGNnumfatalities_collisionwanimals,RGNnumfatalities_avoidinganimals, RGNpedfatal, RGNbikefatal, RGNpedacyclefatal]}\n",
    "    df2 = pd.DataFrame(RGNdata)\n",
    "    print(df2)\n",
    "    df2[['Number of Injuries', 'Number of Fatalities']].sum()\n",
    "    df2.append(df2[['Number of Injuries', 'Number of Fatalities']].sum().rename('Servicewide Total')).fillna('')\n",
    "    #NEED HELP: Servicewide Total Won't Show\n",
    "    \n",
    "    #Creating bar graph from data \n",
    "    injuries = [RGNnuminjuries_collisionwanimals, RGNnuminjuries_avoidinganimals, RGNpedinjuries, RGNbikeinjuries, RGNpedacycleinjuries]\n",
    "    fatalities = [RGNnumfatalities_collisionwanimals, RGNnumfatalities_avoidinganimals, RGNpedfatal, RGNbikefatal, RGNpedacyclefatal]\n",
    "    index = ['Collision with Animal', 'Avoiding Animal', 'Pedestrian', 'Bicycle', 'Pedacycle']\n",
    "    df3 = pd.DataFrame({'number of injuries': injuries, 'number of fatalities':fatalities}, index=index)\n",
    "    \n",
    "    ax = df3.plot.bar(rot=0)\n",
    "    #NEED HELP: Fix size of bar graphs so everything isn't squished "
   ]
  },
  {
   "cell_type": "markdown",
   "id": "9a3914dd",
   "metadata": {},
   "source": [
    "### Crashes Involving Pedestrians "
   ]
  },
  {
   "cell_type": "markdown",
   "id": "f8e1e8e9",
   "metadata": {},
   "source": [
    "#### Computing % of Crashes Involving Pedestrians "
   ]
  },
  {
   "cell_type": "code",
   "execution_count": 89,
   "id": "c0705d9a",
   "metadata": {
    "scrolled": true
   },
   "outputs": [
    {
     "data": {
      "text/plain": [
       "0    840650\n",
       "1      6501\n",
       "Name: Pedestrian, dtype: int64"
      ]
     },
     "execution_count": 89,
     "metadata": {},
     "output_type": "execute_result"
    }
   ],
   "source": [
    "analysis_2022['Pedestrian'].value_counts().sort_index()"
   ]
  },
  {
   "cell_type": "code",
   "execution_count": 90,
   "id": "cd3f2111",
   "metadata": {},
   "outputs": [
    {
     "name": "stdout",
     "output_type": "stream",
     "text": [
      "6501\n"
     ]
    }
   ],
   "source": [
    "pedestrian_total_crashes = 6501\n",
    "print(pedestrian_total_crashes)"
   ]
  },
  {
   "cell_type": "code",
   "execution_count": 91,
   "id": "9af318d5",
   "metadata": {},
   "outputs": [
    {
     "data": {
      "text/plain": [
       "(847151, 56)"
      ]
     },
     "execution_count": 91,
     "metadata": {},
     "output_type": "execute_result"
    }
   ],
   "source": [
    "analysis_2022.shape"
   ]
  },
  {
   "cell_type": "code",
   "execution_count": 92,
   "id": "33809821",
   "metadata": {},
   "outputs": [
    {
     "data": {
      "text/plain": [
       "0.8"
      ]
     },
     "execution_count": 92,
     "metadata": {},
     "output_type": "execute_result"
    }
   ],
   "source": [
    "pedestrian_percentage = round(pedestrian_total_crashes/847151,3)*100\n",
    "pedestrian_percentage"
   ]
  },
  {
   "cell_type": "markdown",
   "id": "dba67ef9",
   "metadata": {},
   "source": [
    "#### Computing % of Injury/Fatality Involving Pedestrians"
   ]
  },
  {
   "cell_type": "code",
   "execution_count": 93,
   "id": "d73bb6ac",
   "metadata": {
    "scrolled": true
   },
   "outputs": [
    {
     "data": {
      "text/plain": [
       "Pedestrian  Injury or Fatal\n",
       "0           0                  666623\n",
       "            1                  174027\n",
       "1           0                    3451\n",
       "            1                    3050\n",
       "dtype: int64"
      ]
     },
     "execution_count": 93,
     "metadata": {},
     "output_type": "execute_result"
    }
   ],
   "source": [
    "#First find the number of injury/fatalities involving pedestrians \n",
    "analysis_2022.value_counts([\"Pedestrian\", \"Injury or Fatal\"])"
   ]
  },
  {
   "cell_type": "code",
   "execution_count": 94,
   "id": "0fe9f175",
   "metadata": {},
   "outputs": [
    {
     "name": "stdout",
     "output_type": "stream",
     "text": [
      "3050\n"
     ]
    }
   ],
   "source": [
    "#Pedestrian = 1 and Injury or Fatal = 1 means crash involving pedestrian resulted in injury or fatality \n",
    "pedestrian_counts= 3050\n",
    "print (pedestrian_counts)"
   ]
  },
  {
   "cell_type": "code",
   "execution_count": 95,
   "id": "c24ed38a",
   "metadata": {},
   "outputs": [
    {
     "data": {
      "text/plain": [
       "46.9"
      ]
     },
     "execution_count": 95,
     "metadata": {},
     "output_type": "execute_result"
    }
   ],
   "source": [
    "#Percentage of Injury/Fatality for Pedestrians\n",
    "pedestrian_injuryfatality_percentage = round(pedestrian_counts/pedestrian_total_crashes, 3)*100\n",
    "pedestrian_injuryfatality_percentage"
   ]
  },
  {
   "cell_type": "markdown",
   "id": "57fccc96",
   "metadata": {},
   "source": [
    "#### No. Fatalities Involving Pedestrians - avoiding this code for now so as not to repeat error code... "
   ]
  },
  {
   "cell_type": "markdown",
   "id": "efb8c43a",
   "metadata": {},
   "source": [
    "## Crashes Involving Cyclists "
   ]
  },
  {
   "cell_type": "markdown",
   "id": "c16509b7",
   "metadata": {},
   "source": [
    "#### Computing % of Crashes Involving Cyclists "
   ]
  },
  {
   "cell_type": "code",
   "execution_count": 96,
   "id": "f0705fd4",
   "metadata": {
    "scrolled": true
   },
   "outputs": [
    {
     "data": {
      "text/plain": [
       "0    840685\n",
       "1      6466\n",
       "Name: Bicycle, dtype: int64"
      ]
     },
     "execution_count": 96,
     "metadata": {},
     "output_type": "execute_result"
    }
   ],
   "source": [
    "analysis_2022['Bicycle'].value_counts().sort_index()"
   ]
  },
  {
   "cell_type": "code",
   "execution_count": 97,
   "id": "9e4bfe28",
   "metadata": {},
   "outputs": [
    {
     "name": "stdout",
     "output_type": "stream",
     "text": [
      "6466\n"
     ]
    }
   ],
   "source": [
    "cyclists_total_crashes = 6466\n",
    "print(cyclists_total_crashes)"
   ]
  },
  {
   "cell_type": "code",
   "execution_count": 98,
   "id": "0ab67909",
   "metadata": {},
   "outputs": [
    {
     "data": {
      "text/plain": [
       "(847151, 56)"
      ]
     },
     "execution_count": 98,
     "metadata": {},
     "output_type": "execute_result"
    }
   ],
   "source": [
    "analysis_2022.shape"
   ]
  },
  {
   "cell_type": "code",
   "execution_count": 99,
   "id": "621649af",
   "metadata": {},
   "outputs": [
    {
     "data": {
      "text/plain": [
       "0.8"
      ]
     },
     "execution_count": 99,
     "metadata": {},
     "output_type": "execute_result"
    }
   ],
   "source": [
    "cyclists_percentage = round(cyclists_total_crashes/847151,3)*100\n",
    "cyclists_percentage"
   ]
  },
  {
   "cell_type": "markdown",
   "id": "e1072253",
   "metadata": {},
   "source": [
    "#### Computing % of Injury/Fatality Involving Cyclists "
   ]
  },
  {
   "cell_type": "code",
   "execution_count": 100,
   "id": "e94ab4e3",
   "metadata": {
    "scrolled": true
   },
   "outputs": [
    {
     "data": {
      "text/plain": [
       "Bicycle  Injury or Fatal\n",
       "0        0                  667219\n",
       "         1                  173466\n",
       "1        1                    3611\n",
       "         0                    2855\n",
       "dtype: int64"
      ]
     },
     "execution_count": 100,
     "metadata": {},
     "output_type": "execute_result"
    }
   ],
   "source": [
    "#First find the number of injury/fatalities involving cyclists \n",
    "analysis_2022.value_counts([\"Bicycle\", \"Injury or Fatal\"])"
   ]
  },
  {
   "cell_type": "code",
   "execution_count": 101,
   "id": "d06662eb",
   "metadata": {},
   "outputs": [
    {
     "name": "stdout",
     "output_type": "stream",
     "text": [
      "3611\n"
     ]
    }
   ],
   "source": [
    "#Bicycle = 1 and Injury or Fatal = 1 means crash involving bicycle resulted in injury or fatality\n",
    "cyclists_counts= 3611\n",
    "print (cyclists_counts)"
   ]
  },
  {
   "cell_type": "code",
   "execution_count": 102,
   "id": "3c130549",
   "metadata": {},
   "outputs": [
    {
     "data": {
      "text/plain": [
       "55.800000000000004"
      ]
     },
     "execution_count": 102,
     "metadata": {},
     "output_type": "execute_result"
    }
   ],
   "source": [
    "#Percentage of Injury/Fatality Involving Cyclists\n",
    "cyclists_injuryfatality_percentage = round(cyclists_counts/cyclists_total_crashes, 3)*100\n",
    "cyclists_injuryfatality_percentage"
   ]
  },
  {
   "cell_type": "markdown",
   "id": "e073fd0b",
   "metadata": {},
   "source": [
    "#### No. Fatalities Involving Cyclists - avoiding this code for now so as not to repeat error code... "
   ]
  },
  {
   "cell_type": "markdown",
   "id": "b93aa502",
   "metadata": {},
   "source": [
    "#### Table of Crash Class and Severity - NOT READY NOT, WORK IN PROGRESS "
   ]
  },
  {
   "cell_type": "code",
   "execution_count": 103,
   "id": "d3402043",
   "metadata": {},
   "outputs": [
    {
     "name": "stdout",
     "output_type": "stream",
     "text": [
      "For an NPS service wide perspective, the TSP has aggregated available crash data from 1990 – 2020.  Available below is a list of the most common crash classifications for that time period servicewide for crashes that resulted in a fatality or an injury. A key take away is\n"
     ]
    }
   ],
   "source": [
    "print(\"For an NPS service wide perspective, the TSP has aggregated available crash data from 1990 – 2020.  Available below is a list of the most common crash classifications for that time period servicewide for crashes that resulted in a fatality or an injury. A key take away is\")"
   ]
  },
  {
   "cell_type": "code",
   "execution_count": 104,
   "id": "76ef029d",
   "metadata": {},
   "outputs": [],
   "source": [
    "#Template of code for table but got to figure out values for percentage of total crashes\n",
    "#Values for 100 are fake, will be replaced soon, just put in for sake of balancing table\n",
    "data= {'Collision Type': ['Collision w Animal','Avoiding Animal','Pedestrian', 'Bicycle'], 'Percentage of Total Crashes': [collision_with_animal_percentage,avoiding_animal_percentage,pedestrian_percentage,cyclists_percentage], 'Percentage in Fatality or Injury':[Collisionwanimal_injury_or_fatal, avoiding_animal_injuryfatality_percentage,pedestrian_injuryfatality_percentage,cyclists_injuryfatality_percentage]}"
   ]
  },
  {
   "cell_type": "code",
   "execution_count": 105,
   "id": "a1286953",
   "metadata": {},
   "outputs": [],
   "source": [
    "df = pd.DataFrame(data)"
   ]
  },
  {
   "cell_type": "code",
   "execution_count": 106,
   "id": "63e84c68",
   "metadata": {},
   "outputs": [
    {
     "name": "stdout",
     "output_type": "stream",
     "text": [
      "       Collision Type  Percentage of Total Crashes  \\\n",
      "0  Collision w Animal                        3.100   \n",
      "1     Avoiding Animal                        0.008   \n",
      "2          Pedestrian                        0.800   \n",
      "3             Bicycle                        0.800   \n",
      "\n",
      "   Percentage in Fatality or Injury  \n",
      "0                               6.7  \n",
      "1                               9.2  \n",
      "2                              46.9  \n",
      "3                              55.8  \n"
     ]
    }
   ],
   "source": [
    "print(df)"
   ]
  },
  {
   "cell_type": "markdown",
   "id": "781fa8b9",
   "metadata": {},
   "source": [
    "### Next section will construction bar graph of fatalities and injuries sorted by posted speed \n"
   ]
  },
  {
   "cell_type": "code",
   "execution_count": 32,
   "id": "60414d3b",
   "metadata": {},
   "outputs": [
    {
     "data": {
      "image/png": "[encoded data removed]",
      "text/plain": [
       "<Figure size 432x288 with 1 Axes>"
      ]
     },
     "metadata": {
      "needs_background": "light"
     },
     "output_type": "display_data"
    }
   ],
   "source": [
    "#TEMPLATED EXAMPLE \n",
    "fatalities = [0.1, 17.5, 40, 48, 52, 69, 88, 1,2,3,4,5,6,7,8,9,10]\n",
    "injuries = [2, 8, 70, 1.5, 25, 12, 28, 1,2,3,4,5,6,7,8,9,10]\n",
    "index = [5,10,15,20,25,30,35,40,45,50,55,60,65,70,75]\n",
    "df = pd.DataFrame({'speed': speed,\n",
    "                   'lifespan': lifespan}, index=index)\n",
    "ax = df.plot.bar(rot=0)\n",
    "#TEMPLATE NEED TO ADJUST - first one tests on fatalities and injuries "
   ]
  }
 ],
 "metadata": {
  "kernelspec": {
   "display_name": "Python 3 (ipykernel)",
   "language": "python",
   "name": "python3"
  },
  "language_info": {
   "codemirror_mode": {
    "name": "ipython",
    "version": 3
   },
   "file_extension": ".py",
   "mimetype": "text/x-python",
   "name": "python",
   "nbconvert_exporter": "python",
   "pygments_lexer": "ipython3",
   "version": "3.9.12"
  }
 },
 "nbformat": 4,
 "nbformat_minor": 5
}
