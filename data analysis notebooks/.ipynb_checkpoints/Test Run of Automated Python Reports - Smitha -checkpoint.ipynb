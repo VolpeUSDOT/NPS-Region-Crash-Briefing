{
 "cells": [
  {
   "cell_type": "markdown",
   "id": "c817fabd",
   "metadata": {},
   "source": [
    "## Test Run of Regional and National Briefings\n",
    "#### Author: Smitha Mahesh \n",
    "### Purpose: To test run the template to automate the production of 7 regional briefings and 8 regional briefings "
   ]
  },
  {
   "cell_type": "code",
   "execution_count": 4,
   "id": "585d4fda",
   "metadata": {},
   "outputs": [],
   "source": [
    "import pandas as pd\n",
    "import numpy as np\n",
    "import os"
   ]
  },
  {
   "cell_type": "code",
   "execution_count": 5,
   "id": "8f76c3f9",
   "metadata": {},
   "outputs": [],
   "source": [
    "myworkingdirectory = r\"C:\\Users\\smitha.mahesh\\Desktop\\Old Data Test Run\"\n",
    "os.chdir(myworkingdirectory)"
   ]
  },
  {
   "cell_type": "code",
   "execution_count": 6,
   "id": "388a2477",
   "metadata": {},
   "outputs": [
    {
     "name": "stdout",
     "output_type": "stream",
     "text": [
      "crash_data_joined.csv\n",
      "crash_data_joined.xlsx\n"
     ]
    }
   ],
   "source": [
    "files = os.listdir(myworkingdirectory)\n",
    "for f in files:\n",
    "    print(f)"
   ]
  },
  {
   "cell_type": "code",
   "execution_count": 7,
   "id": "d79f5dcc",
   "metadata": {},
   "outputs": [],
   "source": [
    "os.chdir(myworkingdirectory)"
   ]
  },
  {
   "cell_type": "code",
   "execution_count": 8,
   "id": "7602c63f",
   "metadata": {},
   "outputs": [
    {
     "name": "stderr",
     "output_type": "stream",
     "text": [
      "C:\\Users\\Smitha.Mahesh\\AppData\\Local\\Temp\\ipykernel_12280\\641417500.py:1: DtypeWarning: Columns (1) have mixed types. Specify dtype option on import or set low_memory=False.\n",
      "  old_data_joined = pd.read_csv(\"crash_data_joined.csv\")\n"
     ]
    }
   ],
   "source": [
    "old_data_joined = pd.read_csv(\"crash_data_joined.csv\")"
   ]
  },
  {
   "cell_type": "code",
   "execution_count": 9,
   "id": "d499e36f",
   "metadata": {},
   "outputs": [
    {
     "data": {
      "text/plain": [
       "Index(['INCID_NO', 'CASENUM', 'NUM_OCC', 'Non-Collision',\n",
       "       'Collision with Other Motor Vehicle', 'Collision with Fixed Object',\n",
       "       'Collision with Pedestrian', 'Collision with Bicycle',\n",
       "       'Collision with Parked Motor Vehicle', 'Collision with Railway Train',\n",
       "       'Collision with Animal', 'Collision with Other Object',\n",
       "       'Collision with Unknown', 'Other Accident Class', 'No Injury',\n",
       "       'Possible Injury', 'Non-incapacitating Injury', 'Incapacitating Injury',\n",
       "       'Fatality', 'Unknown Injury', 'PARK_ALPHA', 'STATE', 'CRASH_DATE',\n",
       "       'CRASH_TIME', 'LATITUDE', 'LONGITUDE', 'FATALS', 'INJURED',\n",
       "       'Data_Origin', 'UNIT_NAME', 'REGION', 'UNIT_TYPE', '_merge'],\n",
       "      dtype='object')"
      ]
     },
     "execution_count": 9,
     "metadata": {},
     "output_type": "execute_result"
    }
   ],
   "source": [
    "old_data_joined.columns"
   ]
  },
  {
   "cell_type": "code",
   "execution_count": 10,
   "id": "6ecfde40",
   "metadata": {},
   "outputs": [
    {
     "data": {
      "text/plain": [
       "0    193135\n",
       "1     19822\n",
       "Name: Collision with Animal, dtype: int64"
      ]
     },
     "execution_count": 10,
     "metadata": {},
     "output_type": "execute_result"
    }
   ],
   "source": [
    "old_data_joined['Collision with Animal'].value_counts().sort_index()"
   ]
  },
  {
   "cell_type": "code",
   "execution_count": 23,
   "id": "d53167f6",
   "metadata": {
    "scrolled": true
   },
   "outputs": [
    {
     "data": {
      "text/plain": [
       "(0, 33)"
      ]
     },
     "execution_count": 23,
     "metadata": {},
     "output_type": "execute_result"
    }
   ],
   "source": [
    "old_data_joined.loc[old_data_joined['Collision with Animal']=='1'].shape\n",
    "#collision_with_animal = old_data_joined.loc[old_data_joined['Collision with Animal'].str.contains(\"1\")==True]\n",
    "#collision_with_animal['Collision with Animal']"
   ]
  },
  {
   "cell_type": "code",
   "execution_count": 24,
   "id": "0d735a02",
   "metadata": {},
   "outputs": [
    {
     "data": {
      "text/plain": [
       "(212957, 33)"
      ]
     },
     "execution_count": 24,
     "metadata": {},
     "output_type": "execute_result"
    }
   ],
   "source": [
    "old_data_joined.shape"
   ]
  },
  {
   "cell_type": "code",
   "execution_count": 25,
   "id": "a313dfd2",
   "metadata": {
    "scrolled": true
   },
   "outputs": [
    {
     "data": {
      "text/plain": [
       "9.3"
      ]
     },
     "execution_count": 25,
     "metadata": {},
     "output_type": "execute_result"
    }
   ],
   "source": [
    "#Computing the percentage of total crashes for collision with animal\n",
    "collision_with_animal_percentage = round(19822/212957,3)*100\n",
    "collision_with_animal_percentage"
   ]
  },
  {
   "cell_type": "code",
   "execution_count": 19,
   "id": "f0357b30",
   "metadata": {
    "scrolled": true
   },
   "outputs": [
    {
     "data": {
      "text/plain": [
       "Collision with Animal  Fatality\n",
       "0                      0.0         139882\n",
       "1                      0.0          15018\n",
       "0                      1.0            751\n",
       "                       2.0             66\n",
       "1                      1.0             18\n",
       "0                      3.0             12\n",
       "                       4.0              4\n",
       "                       5.0              3\n",
       "                       6.0              2\n",
       "dtype: int64"
      ]
     },
     "execution_count": 19,
     "metadata": {},
     "output_type": "execute_result"
    }
   ],
   "source": [
    "#Computing Number of Fatalities Among Collisions with Animals \n",
    "#old_data_joined.loc[old_data_joined['Collision with Animal']== '1'and old_data_joined['Fatality']=='1'].shape\n",
    "old_data_joined.value_counts([\"Collision with Animal\", \"Fatality\"])\n",
    "#Good question to ask Eric: How do I read this? I think I need clarity on why Fatality is going from 0.0 to 6.0. It looks like collision with animal = 1 and fatality = 1 results in 18. "
   ]
  },
  {
   "cell_type": "code",
   "execution_count": 21,
   "id": "bdecb1cd",
   "metadata": {},
   "outputs": [
    {
     "data": {
      "text/plain": [
       "0.008"
      ]
     },
     "execution_count": 21,
     "metadata": {},
     "output_type": "execute_result"
    }
   ],
   "source": [
    "collision_with_animal_fatal_percentage = round(18/212957,5)*100\n",
    "collision_with_animal_fatal_percentage"
   ]
  },
  {
   "cell_type": "code",
   "execution_count": 3,
   "id": "209f0bb5",
   "metadata": {},
   "outputs": [
    {
     "name": "stdout",
     "output_type": "stream",
     "text": [
      "For an NPS service wide perspective, the TSP has aggregated available crash data from 1990 – 2020.  Available below is a list of the most common crash classifications for that time period servicewide for crashes that resulted in a fatality or an injury. A key take away is\n"
     ]
    }
   ],
   "source": [
    "print(\"For an NPS service wide perspective, the TSP has aggregated available crash data from 1990 – 2020.  Available below is a list of the most common crash classifications for that time period servicewide for crashes that resulted in a fatality or an injury. A key take away is\")"
   ]
  },
  {
   "cell_type": "code",
   "execution_count": 26,
   "id": "76ef029d",
   "metadata": {},
   "outputs": [],
   "source": [
    "#Template of code for table but got to figure out values for percentage of total crashes\n",
    "#Values for 100 are fake, will be replaced soon, just put in for sake of balancing table\n",
    "data= {'Collision Type': ['Collision with Animal','Collision with Other Motor Vehicle',], 'Percentage of Total Crashes': [collision_with_animal_percentage,100], 'Percentage in Fatality or Injury':[collision_with_animal_fatal_percentage, 100], 'Number of Fatalities':[18, 100]}"
   ]
  },
  {
   "cell_type": "code",
   "execution_count": 27,
   "id": "a1286953",
   "metadata": {},
   "outputs": [],
   "source": [
    "df = pd.DataFrame(data)"
   ]
  },
  {
   "cell_type": "code",
   "execution_count": 29,
   "id": "63e84c68",
   "metadata": {},
   "outputs": [
    {
     "name": "stdout",
     "output_type": "stream",
     "text": [
      "                       Collision Type  Percentage of Total Crashes  \\\n",
      "0               Collision with Animal                          9.3   \n",
      "1  Collision with Other Motor Vehicle                        100.0   \n",
      "\n",
      "   Percentage in Fatality or Injury  Number of Fatalities  \n",
      "0                             0.008                    18  \n",
      "1                           100.000                   100  \n"
     ]
    }
   ],
   "source": [
    "print(df)"
   ]
  },
  {
   "cell_type": "code",
   "execution_count": 32,
   "id": "60414d3b",
   "metadata": {},
   "outputs": [
    {
     "data": {
      "image/png": "[encoded data removed]",
      "text/plain": [
       "<Figure size 432x288 with 1 Axes>"
      ]
     },
     "metadata": {
      "needs_background": "light"
     },
     "output_type": "display_data"
    }
   ],
   "source": [
    "#Next section will construction bar graph of fatalities and injuries sorted by posted speed \n",
    "speed = [0.1, 17.5, 40, 48, 52, 69, 88, 1,2,3,4,5,6,7,8,9,10]\n",
    "lifespan = [2, 8, 70, 1.5, 25, 12, 28, 1,2,3,4,5,6,7,8,9,10]\n",
    "index = [5,10,15,20,25,30,35,40,45,50,55,60,65,70,75,'Not Posted','Unknown']\n",
    "df = pd.DataFrame({'speed': speed,\n",
    "                   'lifespan': lifespan}, index=index)\n",
    "ax = df.plot.bar(rot=0)\n",
    "#TEMPLATE NEED TO ADJUST - first one tests on fatalities and injuries "
   ]
  },
  {
   "cell_type": "code",
   "execution_count": null,
   "id": "636b357f",
   "metadata": {},
   "outputs": [],
   "source": []
  }
 ],
 "metadata": {
  "kernelspec": {
   "display_name": "Python 3 (ipykernel)",
   "language": "python",
   "name": "python3"
  },
  "language_info": {
   "codemirror_mode": {
    "name": "ipython",
    "version": 3
   },
   "file_extension": ".py",
   "mimetype": "text/x-python",
   "name": "python",
   "nbconvert_exporter": "python",
   "pygments_lexer": "ipython3",
   "version": "3.9.12"
  }
 },
 "nbformat": 4,
 "nbformat_minor": 5
}
