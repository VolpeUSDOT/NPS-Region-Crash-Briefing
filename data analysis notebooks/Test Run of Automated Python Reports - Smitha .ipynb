{
 "cells": [
  {
   "cell_type": "markdown",
   "id": "c817fabd",
   "metadata": {},
   "source": [
    "## Test Run of Regional and National Briefings\n",
    "#### Author: Smitha Mahesh \n",
    "### Purpose: To test run the template to automate the production of 7 regional briefings and 8 regional briefings. I started using the actual datafile completed by Sophie to be able to test all variables of interest."
   ]
  },
  {
   "cell_type": "code",
   "execution_count": 66,
   "id": "585d4fda",
   "metadata": {},
   "outputs": [],
   "source": [
    "import pandas as pd\n",
    "import numpy as np\n",
    "import os"
   ]
  },
  {
   "cell_type": "code",
   "execution_count": 67,
   "id": "8f76c3f9",
   "metadata": {},
   "outputs": [],
   "source": [
    "myworkingdirectory = r\"Y:\\NPS\\WASO_Projects\\Strategic Program Support\\Safety\\TSP Development Capacity Building 2021\\Data Tasks\\Region Briefings\\Data\\Output Data\"\n",
    "os.chdir(myworkingdirectory)"
   ]
  },
  {
   "cell_type": "code",
   "execution_count": 68,
   "id": "388a2477",
   "metadata": {},
   "outputs": [
    {
     "name": "stdout",
     "output_type": "stream",
     "text": [
      "analysis_database_2022.csv\n",
      "archive\n",
      "CDS_slim_clean.csv\n",
      "For Wayne\n",
      "IMARS_slim_clean.csv\n",
      "individual tables\n"
     ]
    }
   ],
   "source": [
    "files = os.listdir(myworkingdirectory)\n",
    "for f in files:\n",
    "    print(f)"
   ]
  },
  {
   "cell_type": "code",
   "execution_count": 69,
   "id": "d79f5dcc",
   "metadata": {},
   "outputs": [],
   "source": [
    "os.chdir(myworkingdirectory)"
   ]
  },
  {
   "cell_type": "code",
   "execution_count": 70,
   "id": "7602c63f",
   "metadata": {},
   "outputs": [],
   "source": [
    "analysis_2022 = pd.read_csv(\"analysis_database_2022.csv\")"
   ]
  },
  {
   "cell_type": "code",
   "execution_count": 71,
   "id": "d499e36f",
   "metadata": {},
   "outputs": [
    {
     "data": {
      "text/plain": [
       "Index(['INCID_NO', '5_mph', '10_mph', '15_mph', '20_mph', '25_mph', '30_mph',\n",
       "       '35_mph', '40_mph', '45_mph', '50_mph', '55_mph', '60_mph', '65_mph',\n",
       "       '70_mph', '75_mph', 'no_posted_speed', 'Crosswalk', 'Not a Crosswalk',\n",
       "       'NUM_OCC', 'No Injury', 'Possible Injury', 'Non-incapacitating Injury',\n",
       "       'Incapacitating Injury', 'Fatality', 'Unknown Injury', 'Num_Injuries',\n",
       "       'Num_Fatalities', 'Injury or Fatal', 'Collision w Animal',\n",
       "       'Avoiding Animal', 'Falling Object', 'Pedestrian', 'Bicycle',\n",
       "       'Pedacycle', 'HorseLlama', 'Cow', 'Deer', 'Elk', 'Moose', 'Buffalo',\n",
       "       'Bear', 'Antelope', 'SheepGoats', 'OtherWild', 'OtherDomestic',\n",
       "       'Rock in Roadway', 'Animal in Roadway', 'Rockfall', 'LATITUDE',\n",
       "       'LONGITUDE', 'Park', 'RGN', 'CRASH_DATE', 'CRASH_TIME', 'CRASH_YEAR'],\n",
       "      dtype='object')"
      ]
     },
     "execution_count": 71,
     "metadata": {},
     "output_type": "execute_result"
    }
   ],
   "source": [
    "analysis_2022.columns"
   ]
  },
  {
   "cell_type": "markdown",
   "id": "475c0d7d",
   "metadata": {},
   "source": [
    "### Collisions with Animals Severity"
   ]
  },
  {
   "cell_type": "markdown",
   "id": "3345e567",
   "metadata": {},
   "source": [
    "#### Computing % of Total Crashes by Collision with Animals "
   ]
  },
  {
   "cell_type": "code",
   "execution_count": 72,
   "id": "6ecfde40",
   "metadata": {},
   "outputs": [
    {
     "data": {
      "text/plain": [
       "0    821269\n",
       "1     25882\n",
       "Name: Collision w Animal, dtype: int64"
      ]
     },
     "execution_count": 72,
     "metadata": {},
     "output_type": "execute_result"
    }
   ],
   "source": [
    "analysis_2022['Collision w Animal'].value_counts().sort_index()"
   ]
  },
  {
   "cell_type": "code",
   "execution_count": 73,
   "id": "6b1ab6e9",
   "metadata": {},
   "outputs": [],
   "source": [
    "collisionwanimal_total_crashes = 25882"
   ]
  },
  {
   "cell_type": "code",
   "execution_count": 74,
   "id": "0d735a02",
   "metadata": {},
   "outputs": [
    {
     "data": {
      "text/plain": [
       "(847151, 56)"
      ]
     },
     "execution_count": 74,
     "metadata": {},
     "output_type": "execute_result"
    }
   ],
   "source": [
    "analysis_2022.shape"
   ]
  },
  {
   "cell_type": "code",
   "execution_count": 75,
   "id": "a313dfd2",
   "metadata": {
    "scrolled": true
   },
   "outputs": [
    {
     "data": {
      "text/plain": [
       "3.1"
      ]
     },
     "execution_count": 75,
     "metadata": {},
     "output_type": "execute_result"
    }
   ],
   "source": [
    "collision_with_animal_percentage = round(collisionwanimal_total_crashes/847151,3)*100\n",
    "collision_with_animal_percentage"
   ]
  },
  {
   "cell_type": "markdown",
   "id": "3a08c753",
   "metadata": {},
   "source": [
    "#### Computing % Injury or Fatality by Collision with Animal "
   ]
  },
  {
   "cell_type": "code",
   "execution_count": 76,
   "id": "f7e4c1b2",
   "metadata": {},
   "outputs": [
    {
     "name": "stdout",
     "output_type": "stream",
     "text": [
      "1739\n"
     ]
    }
   ],
   "source": [
    "#First find the number of collisions with animals that cause injury or fatality \n",
    "analysis_2022.value_counts([\"Collision w Animal\", \"Injury or Fatal\"])\n",
    "#Collision w Animal = 1 and Injury or Fatal = 1 is 1739\n",
    "collisionwanimal_counts=1739 \n",
    "print (collisionwanimal_counts)"
   ]
  },
  {
   "cell_type": "code",
   "execution_count": 77,
   "id": "17f22a21",
   "metadata": {
    "scrolled": true
   },
   "outputs": [
    {
     "data": {
      "text/plain": [
       "6.7"
      ]
     },
     "execution_count": 77,
     "metadata": {},
     "output_type": "execute_result"
    }
   ],
   "source": [
    "#Computing percentage of injury or fatal\n",
    "Collisionwanimal_injury_or_fatal= round(collisionwanimal_counts/collisionwanimal_total_crashes,3)*100\n",
    "Collisionwanimal_injury_or_fatal"
   ]
  },
  {
   "cell_type": "markdown",
   "id": "ec1aa2a3",
   "metadata": {},
   "source": [
    "#### Computing No. Fatalities Among Collisions with Animals \n"
   ]
  },
  {
   "cell_type": "code",
   "execution_count": 78,
   "id": "1fd44b97",
   "metadata": {
    "scrolled": true
   },
   "outputs": [
    {
     "data": {
      "text/plain": [
       "Collision w Animal  Fatality\n",
       "0                   0.0         818361\n",
       "1                   0.0          25863\n",
       "0                   1.0           2744\n",
       "                    2.0            164\n",
       "1                   1.0             19\n",
       "dtype: int64"
      ]
     },
     "execution_count": 78,
     "metadata": {},
     "output_type": "execute_result"
    }
   ],
   "source": [
    "analysis_2022.value_counts([\"Collision w Animal\", \"Fatality\"])\n",
    "#Good question to ask team: I am looking at Collision w Animal = 1 and Fatality = 1, which the count would be 19. But I am unsure why Fatality 2.0 is showing up, even though there are no 2 values in that column in the spreadsheet"
   ]
  },
  {
   "cell_type": "code",
   "execution_count": 81,
   "id": "f0357b30",
   "metadata": {
    "scrolled": true
   },
   "outputs": [
    {
     "data": {
      "text/plain": [
       "847151"
      ]
     },
     "execution_count": 81,
     "metadata": {},
     "output_type": "execute_result"
    }
   ],
   "source": [
    "#Computing Number of Fatalities Among Collisions with Animals \n",
    "#Idea 2:\n",
    "analysis_2022.apply(lambda x: True if x['Collision w Animal'] == '1' and x['Fatality'] == '1' else False, axis = 1)\n",
    "num_rows = len(analysis_2022[analysis_2022 == True].index)\n",
    "num_rows\n",
    "#I wanted to see if this method can make the extraction of the count much cleaner. \n",
    "#Discussion Q: I see there is a column for 'Fatality' and another column for 'number of fatalities' Should we consider both or one of them? And what does 'Injury or Fatality' mean?\n",
    "#I am not coding for Deer/Buffalo/etc. because I notice in the table that is more a detail of collision with animal charge code, not an additional separate charge code. "
   ]
  },
  {
   "cell_type": "markdown",
   "id": "c0c2e9c9",
   "metadata": {},
   "source": [
    "### Avoiding Animals (aka Animal-Related Crashes) Severity "
   ]
  },
  {
   "cell_type": "markdown",
   "id": "bec21e7f",
   "metadata": {},
   "source": [
    "#### Computing % of Crashes caused by Avoiding Animals "
   ]
  },
  {
   "cell_type": "code",
   "execution_count": 82,
   "id": "683455b5",
   "metadata": {
    "scrolled": true
   },
   "outputs": [
    {
     "data": {
      "text/plain": [
       "0    847086\n",
       "1        65\n",
       "Name: Avoiding Animal, dtype: int64"
      ]
     },
     "execution_count": 82,
     "metadata": {},
     "output_type": "execute_result"
    }
   ],
   "source": [
    "analysis_2022['Avoiding Animal'].value_counts().sort_index()"
   ]
  },
  {
   "cell_type": "code",
   "execution_count": 83,
   "id": "e5b15340",
   "metadata": {},
   "outputs": [
    {
     "name": "stdout",
     "output_type": "stream",
     "text": [
      "65\n"
     ]
    }
   ],
   "source": [
    "avoidinganimal_total_crashes = 65\n",
    "print(avoidinganimal_total_crashes)"
   ]
  },
  {
   "cell_type": "code",
   "execution_count": 84,
   "id": "40e4c254",
   "metadata": {},
   "outputs": [
    {
     "data": {
      "text/plain": [
       "(847151, 56)"
      ]
     },
     "execution_count": 84,
     "metadata": {},
     "output_type": "execute_result"
    }
   ],
   "source": [
    "analysis_2022.shape"
   ]
  },
  {
   "cell_type": "code",
   "execution_count": 85,
   "id": "ca6ae328",
   "metadata": {},
   "outputs": [
    {
     "data": {
      "text/plain": [
       "0.008"
      ]
     },
     "execution_count": 85,
     "metadata": {},
     "output_type": "execute_result"
    }
   ],
   "source": [
    "avoiding_animal_percentage = round(avoidinganimal_total_crashes/847151,5)*100\n",
    "avoiding_animal_percentage"
   ]
  },
  {
   "cell_type": "markdown",
   "id": "4e66f7b9",
   "metadata": {},
   "source": [
    "#### Computing % of Injury/Fatality for Avoiding Animals "
   ]
  },
  {
   "cell_type": "code",
   "execution_count": 86,
   "id": "a6e8cfa6",
   "metadata": {
    "scrolled": true
   },
   "outputs": [
    {
     "data": {
      "text/plain": [
       "Avoiding Animal  Injury or Fatal\n",
       "0                0                  670015\n",
       "                 1                  177071\n",
       "1                0                      59\n",
       "                 1                       6\n",
       "dtype: int64"
      ]
     },
     "execution_count": 86,
     "metadata": {},
     "output_type": "execute_result"
    }
   ],
   "source": [
    "#First find the number of injury/fatalities caused by avoiding animal \n",
    "analysis_2022.value_counts([\"Avoiding Animal\", \"Injury or Fatal\"])"
   ]
  },
  {
   "cell_type": "code",
   "execution_count": 87,
   "id": "4ac0c2d5",
   "metadata": {},
   "outputs": [
    {
     "name": "stdout",
     "output_type": "stream",
     "text": [
      "6\n"
     ]
    }
   ],
   "source": [
    "#Avoiding Animal = 1 and Injury or Fatal = 1 \n",
    "avoidinganimal_counts= 6\n",
    "print (avoidinganimal_counts)"
   ]
  },
  {
   "cell_type": "code",
   "execution_count": 88,
   "id": "ff5074e7",
   "metadata": {},
   "outputs": [
    {
     "data": {
      "text/plain": [
       "9.2"
      ]
     },
     "execution_count": 88,
     "metadata": {},
     "output_type": "execute_result"
    }
   ],
   "source": [
    "#Percentage of Injury/Fatality for Avoiding Animals\n",
    "avoiding_animal_injuryfatality_percentage = round(avoidinganimal_counts/avoidinganimal_total_crashes, 3)*100\n",
    "avoiding_animal_injuryfatality_percentage"
   ]
  },
  {
   "cell_type": "markdown",
   "id": "13816c14",
   "metadata": {},
   "source": [
    "#### No. Fatalities for Avoiding Animals - avoiding this code for now so as not to repeat error code... "
   ]
  },
  {
   "cell_type": "markdown",
   "id": "9a3914dd",
   "metadata": {},
   "source": [
    "### Crashes Involving Pedestrians "
   ]
  },
  {
   "cell_type": "markdown",
   "id": "f8e1e8e9",
   "metadata": {},
   "source": [
    "#### Computing % of Crashes Involving Pedestrians "
   ]
  },
  {
   "cell_type": "code",
   "execution_count": 89,
   "id": "c0705d9a",
   "metadata": {
    "scrolled": true
   },
   "outputs": [
    {
     "data": {
      "text/plain": [
       "0    840650\n",
       "1      6501\n",
       "Name: Pedestrian, dtype: int64"
      ]
     },
     "execution_count": 89,
     "metadata": {},
     "output_type": "execute_result"
    }
   ],
   "source": [
    "analysis_2022['Pedestrian'].value_counts().sort_index()"
   ]
  },
  {
   "cell_type": "code",
   "execution_count": 90,
   "id": "cd3f2111",
   "metadata": {},
   "outputs": [
    {
     "name": "stdout",
     "output_type": "stream",
     "text": [
      "6501\n"
     ]
    }
   ],
   "source": [
    "pedestrian_total_crashes = 6501\n",
    "print(pedestrian_total_crashes)"
   ]
  },
  {
   "cell_type": "code",
   "execution_count": 91,
   "id": "9af318d5",
   "metadata": {},
   "outputs": [
    {
     "data": {
      "text/plain": [
       "(847151, 56)"
      ]
     },
     "execution_count": 91,
     "metadata": {},
     "output_type": "execute_result"
    }
   ],
   "source": [
    "analysis_2022.shape"
   ]
  },
  {
   "cell_type": "code",
   "execution_count": 92,
   "id": "33809821",
   "metadata": {},
   "outputs": [
    {
     "data": {
      "text/plain": [
       "0.8"
      ]
     },
     "execution_count": 92,
     "metadata": {},
     "output_type": "execute_result"
    }
   ],
   "source": [
    "pedestrian_percentage = round(pedestrian_total_crashes/847151,3)*100\n",
    "pedestrian_percentage"
   ]
  },
  {
   "cell_type": "markdown",
   "id": "dba67ef9",
   "metadata": {},
   "source": [
    "#### Computing % of Injury/Fatality Involving Pedestrians"
   ]
  },
  {
   "cell_type": "code",
   "execution_count": 93,
   "id": "d73bb6ac",
   "metadata": {
    "scrolled": true
   },
   "outputs": [
    {
     "data": {
      "text/plain": [
       "Pedestrian  Injury or Fatal\n",
       "0           0                  666623\n",
       "            1                  174027\n",
       "1           0                    3451\n",
       "            1                    3050\n",
       "dtype: int64"
      ]
     },
     "execution_count": 93,
     "metadata": {},
     "output_type": "execute_result"
    }
   ],
   "source": [
    "#First find the number of injury/fatalities involving pedestrians \n",
    "analysis_2022.value_counts([\"Pedestrian\", \"Injury or Fatal\"])"
   ]
  },
  {
   "cell_type": "code",
   "execution_count": 94,
   "id": "0fe9f175",
   "metadata": {},
   "outputs": [
    {
     "name": "stdout",
     "output_type": "stream",
     "text": [
      "3050\n"
     ]
    }
   ],
   "source": [
    "#Pedestrian = 1 and Injury or Fatal = 1 means crash involving pedestrian resulted in injury or fatality \n",
    "pedestrian_counts= 3050\n",
    "print (pedestrian_counts)"
   ]
  },
  {
   "cell_type": "code",
   "execution_count": 95,
   "id": "c24ed38a",
   "metadata": {},
   "outputs": [
    {
     "data": {
      "text/plain": [
       "46.9"
      ]
     },
     "execution_count": 95,
     "metadata": {},
     "output_type": "execute_result"
    }
   ],
   "source": [
    "#Percentage of Injury/Fatality for Pedestrians\n",
    "pedestrian_injuryfatality_percentage = round(pedestrian_counts/pedestrian_total_crashes, 3)*100\n",
    "pedestrian_injuryfatality_percentage"
   ]
  },
  {
   "cell_type": "markdown",
   "id": "57fccc96",
   "metadata": {},
   "source": [
    "#### No. Fatalities Involving Pedestrians - avoiding this code for now so as not to repeat error code... "
   ]
  },
  {
   "cell_type": "markdown",
   "id": "efb8c43a",
   "metadata": {},
   "source": [
    "## Crashes Involving Cyclists "
   ]
  },
  {
   "cell_type": "markdown",
   "id": "c16509b7",
   "metadata": {},
   "source": [
    "#### Computing % of Crashes Involving Cyclists "
   ]
  },
  {
   "cell_type": "code",
   "execution_count": 96,
   "id": "f0705fd4",
   "metadata": {
    "scrolled": true
   },
   "outputs": [
    {
     "data": {
      "text/plain": [
       "0    840685\n",
       "1      6466\n",
       "Name: Bicycle, dtype: int64"
      ]
     },
     "execution_count": 96,
     "metadata": {},
     "output_type": "execute_result"
    }
   ],
   "source": [
    "analysis_2022['Bicycle'].value_counts().sort_index()"
   ]
  },
  {
   "cell_type": "code",
   "execution_count": 97,
   "id": "9e4bfe28",
   "metadata": {},
   "outputs": [
    {
     "name": "stdout",
     "output_type": "stream",
     "text": [
      "6466\n"
     ]
    }
   ],
   "source": [
    "cyclists_total_crashes = 6466\n",
    "print(cyclists_total_crashes)"
   ]
  },
  {
   "cell_type": "code",
   "execution_count": 98,
   "id": "0ab67909",
   "metadata": {},
   "outputs": [
    {
     "data": {
      "text/plain": [
       "(847151, 56)"
      ]
     },
     "execution_count": 98,
     "metadata": {},
     "output_type": "execute_result"
    }
   ],
   "source": [
    "analysis_2022.shape"
   ]
  },
  {
   "cell_type": "code",
   "execution_count": 99,
   "id": "621649af",
   "metadata": {},
   "outputs": [
    {
     "data": {
      "text/plain": [
       "0.8"
      ]
     },
     "execution_count": 99,
     "metadata": {},
     "output_type": "execute_result"
    }
   ],
   "source": [
    "cyclists_percentage = round(cyclists_total_crashes/847151,3)*100\n",
    "cyclists_percentage"
   ]
  },
  {
   "cell_type": "markdown",
   "id": "e1072253",
   "metadata": {},
   "source": [
    "#### Computing % of Injury/Fatality Involving Cyclists "
   ]
  },
  {
   "cell_type": "code",
   "execution_count": 100,
   "id": "e94ab4e3",
   "metadata": {
    "scrolled": true
   },
   "outputs": [
    {
     "data": {
      "text/plain": [
       "Bicycle  Injury or Fatal\n",
       "0        0                  667219\n",
       "         1                  173466\n",
       "1        1                    3611\n",
       "         0                    2855\n",
       "dtype: int64"
      ]
     },
     "execution_count": 100,
     "metadata": {},
     "output_type": "execute_result"
    }
   ],
   "source": [
    "#First find the number of injury/fatalities involving cyclists \n",
    "analysis_2022.value_counts([\"Bicycle\", \"Injury or Fatal\"])"
   ]
  },
  {
   "cell_type": "code",
   "execution_count": 101,
   "id": "d06662eb",
   "metadata": {},
   "outputs": [
    {
     "name": "stdout",
     "output_type": "stream",
     "text": [
      "3611\n"
     ]
    }
   ],
   "source": [
    "#Bicycle = 1 and Injury or Fatal = 1 means crash involving bicycle resulted in injury or fatality\n",
    "cyclists_counts= 3611\n",
    "print (cyclists_counts)"
   ]
  },
  {
   "cell_type": "code",
   "execution_count": 102,
   "id": "3c130549",
   "metadata": {},
   "outputs": [
    {
     "data": {
      "text/plain": [
       "55.800000000000004"
      ]
     },
     "execution_count": 102,
     "metadata": {},
     "output_type": "execute_result"
    }
   ],
   "source": [
    "#Percentage of Injury/Fatality Involving Cyclists\n",
    "cyclists_injuryfatality_percentage = round(cyclists_counts/cyclists_total_crashes, 3)*100\n",
    "cyclists_injuryfatality_percentage"
   ]
  },
  {
   "cell_type": "markdown",
   "id": "e073fd0b",
   "metadata": {},
   "source": [
    "#### No. Fatalities Involving Cyclists - avoiding this code for now so as not to repeat error code... "
   ]
  },
  {
   "cell_type": "markdown",
   "id": "b93aa502",
   "metadata": {},
   "source": [
    "#### Table of Crash Class and Severity - NOT READY NOT, WORK IN PROGRESS "
   ]
  },
  {
   "cell_type": "code",
   "execution_count": 103,
   "id": "d3402043",
   "metadata": {},
   "outputs": [
    {
     "name": "stdout",
     "output_type": "stream",
     "text": [
      "For an NPS service wide perspective, the TSP has aggregated available crash data from 1990 – 2020.  Available below is a list of the most common crash classifications for that time period servicewide for crashes that resulted in a fatality or an injury. A key take away is\n"
     ]
    }
   ],
   "source": [
    "print(\"For an NPS service wide perspective, the TSP has aggregated available crash data from 1990 – 2020.  Available below is a list of the most common crash classifications for that time period servicewide for crashes that resulted in a fatality or an injury. A key take away is\")"
   ]
  },
  {
   "cell_type": "code",
   "execution_count": 104,
   "id": "76ef029d",
   "metadata": {},
   "outputs": [],
   "source": [
    "#Template of code for table but got to figure out values for percentage of total crashes\n",
    "#Values for 100 are fake, will be replaced soon, just put in for sake of balancing table\n",
    "data= {'Collision Type': ['Collision w Animal','Avoiding Animal','Pedestrian', 'Bicycle'], 'Percentage of Total Crashes': [collision_with_animal_percentage,avoiding_animal_percentage,pedestrian_percentage,cyclists_percentage], 'Percentage in Fatality or Injury':[Collisionwanimal_injury_or_fatal, avoiding_animal_injuryfatality_percentage,pedestrian_injuryfatality_percentage,cyclists_injuryfatality_percentage]}"
   ]
  },
  {
   "cell_type": "code",
   "execution_count": 105,
   "id": "a1286953",
   "metadata": {},
   "outputs": [],
   "source": [
    "df = pd.DataFrame(data)"
   ]
  },
  {
   "cell_type": "code",
   "execution_count": 106,
   "id": "63e84c68",
   "metadata": {},
   "outputs": [
    {
     "name": "stdout",
     "output_type": "stream",
     "text": [
      "       Collision Type  Percentage of Total Crashes  \\\n",
      "0  Collision w Animal                        3.100   \n",
      "1     Avoiding Animal                        0.008   \n",
      "2          Pedestrian                        0.800   \n",
      "3             Bicycle                        0.800   \n",
      "\n",
      "   Percentage in Fatality or Injury  \n",
      "0                               6.7  \n",
      "1                               9.2  \n",
      "2                              46.9  \n",
      "3                              55.8  \n"
     ]
    }
   ],
   "source": [
    "print(df)"
   ]
  },
  {
   "cell_type": "markdown",
   "id": "781fa8b9",
   "metadata": {},
   "source": [
    "### Next section will construction bar graph of fatalities and injuries sorted by posted speed \n"
   ]
  },
  {
   "cell_type": "code",
   "execution_count": 32,
   "id": "60414d3b",
   "metadata": {},
   "outputs": [
    {
     "data": {
      "image/png": "[encoded data removed]",
      "text/plain": [
       "<Figure size 432x288 with 1 Axes>"
      ]
     },
     "metadata": {
      "needs_background": "light"
     },
     "output_type": "display_data"
    }
   ],
   "source": [
    "#TEMPLATED EXAMPLE \n",
    "speed = [0.1, 17.5, 40, 48, 52, 69, 88, 1,2,3,4,5,6,7,8,9,10]\n",
    "lifespan = [2, 8, 70, 1.5, 25, 12, 28, 1,2,3,4,5,6,7,8,9,10]\n",
    "index = [5,10,15,20,25,30,35,40,45,50,55,60,65,70,75,'Not Posted','Unknown']\n",
    "df = pd.DataFrame({'speed': speed,\n",
    "                   'lifespan': lifespan}, index=index)\n",
    "ax = df.plot.bar(rot=0)\n",
    "#TEMPLATE NEED TO ADJUST - first one tests on fatalities and injuries "
   ]
  },
  {
   "cell_type": "code",
   "execution_count": null,
   "id": "38cce3a7",
   "metadata": {},
   "outputs": [],
   "source": []
  }
 ],
 "metadata": {
  "kernelspec": {
   "display_name": "Python 3 (ipykernel)",
   "language": "python",
   "name": "python3"
  },
  "language_info": {
   "codemirror_mode": {
    "name": "ipython",
    "version": 3
   },
   "file_extension": ".py",
   "mimetype": "text/x-python",
   "name": "python",
   "nbconvert_exporter": "python",
   "pygments_lexer": "ipython3",
   "version": "3.9.12"
  }
 },
 "nbformat": 4,
 "nbformat_minor": 5
}
