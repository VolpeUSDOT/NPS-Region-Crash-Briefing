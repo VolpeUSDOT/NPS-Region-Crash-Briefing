{
 "cells": [
  {
   "cell_type": "markdown",
   "id": "c817fabd",
   "metadata": {},
   "source": [
    "## Test Run of Regional and National Briefings\n",
    "#### Author: Smitha Mahesh \n",
    "### Purpose: To test run the template to automate the production of 7 regional briefings and 8 regional briefings. I started using the actual datafile completed by Sophie to be able to test all variables of interest."
   ]
  },
  {
   "cell_type": "code",
   "execution_count": 12,
   "id": "585d4fda",
   "metadata": {},
   "outputs": [],
   "source": [
    "import pandas as pd\n",
    "import numpy as np\n",
    "import os"
   ]
  },
  {
   "cell_type": "code",
   "execution_count": 13,
   "id": "8f76c3f9",
   "metadata": {
    "scrolled": true
   },
   "outputs": [],
   "source": [
    "myworkingdirectory = r\"H:\\NPS TSP Project\"\n",
    "#Jupyter Notebook does not allow using a sharepoint link for the working directory. You have to download the file and then reroute to your working directory to where you downloaded the file "
   ]
  },
  {
   "cell_type": "code",
   "execution_count": 14,
   "id": "388a2477",
   "metadata": {},
   "outputs": [
    {
     "name": "stdout",
     "output_type": "stream",
     "text": [
      "analysis_database_2022 (1).csv\n",
      "CDS All Crashes Table for FLH 6-28-2 - Null to Empty.csv\n",
      "Full Gap Analysis_4 5 2016 (002).docx\n",
      "NPS TPS Interview Qs V3.pptx\n",
      "NPS TSP Executive Memo_011018 (002).docx\n",
      "NPS TSP Report_6.15_FINAL (002).docx\n",
      "NPS TSP Safety Brief Draft 1.0 (002).docx\n",
      "TSP Region Briefing Planning and Feedback NCR Notes .docx\n"
     ]
    }
   ],
   "source": [
    "files = os.listdir(myworkingdirectory)\n",
    "for f in files:\n",
    "    print(f)"
   ]
  },
  {
   "cell_type": "code",
   "execution_count": 15,
   "id": "d79f5dcc",
   "metadata": {},
   "outputs": [],
   "source": [
    "os.chdir(myworkingdirectory)"
   ]
  },
  {
   "cell_type": "code",
   "execution_count": 16,
   "id": "7602c63f",
   "metadata": {},
   "outputs": [],
   "source": [
    "analysis_2022 = pd.read_csv(\"analysis_database_2022 (1).csv\")"
   ]
  },
  {
   "cell_type": "code",
   "execution_count": 17,
   "id": "d499e36f",
   "metadata": {},
   "outputs": [
    {
     "data": {
      "text/plain": [
       "Index(['INCID_NO', 'NUM_OCC', '5_mph', '10_mph', '15_mph', '20_mph', '25_mph',\n",
       "       '30_mph', '35_mph', '40_mph', '45_mph', '50_mph', '55_mph', '60_mph',\n",
       "       '65_mph', '70_mph', '75_mph', 'no_posted_speed', 'Crosswalk',\n",
       "       'Outside a Crosswalk', 'No Injury', 'Possible Injury',\n",
       "       'Non-incapacitating Injury', 'Incapacitating Injury', 'Fatality',\n",
       "       'Unknown Injury', 'Num_Fatalities', 'Num_Injuries', 'Injury or Fatal',\n",
       "       'Pedestrian', 'Bicycle', 'Pedacycle', 'VRU', 'HorseLlama', 'Cow',\n",
       "       'Deer', 'Elk', 'Moose', 'Buffalo', 'Bear', 'Antelope', 'SheepGoats',\n",
       "       'OtherWild', 'OtherDomestic', 'Involving Animal', 'LATITUDE',\n",
       "       'LONGITUDE', 'Park', 'RGN', 'CRASH_DATE', 'CRASH_TIME', 'CRASH_YEAR',\n",
       "       'database'],\n",
       "      dtype='object')"
      ]
     },
     "execution_count": 17,
     "metadata": {},
     "output_type": "execute_result"
    }
   ],
   "source": [
    "analysis_2022.columns"
   ]
  },
  {
   "cell_type": "markdown",
   "id": "b2c66397",
   "metadata": {},
   "source": [
    "# National Data Trends "
   ]
  },
  {
   "cell_type": "markdown",
   "id": "475c0d7d",
   "metadata": {},
   "source": [
    "### Crashes Involving Animals "
   ]
  },
  {
   "cell_type": "markdown",
   "id": "3345e567",
   "metadata": {},
   "source": [
    "#### Computing % of Total Crashes Involving Animals "
   ]
  },
  {
   "cell_type": "code",
   "execution_count": 18,
   "id": "f7e4c1b2",
   "metadata": {
    "scrolled": true
   },
   "outputs": [
    {
     "name": "stdout",
     "output_type": "stream",
     "text": [
      "                INCID_NO  NUM_OCC  5_mph  10_mph  15_mph  20_mph  25_mph  \\\n",
      "50        ACAD0000000807      1.0    0.0     0.0     0.0     0.0     0.0   \n",
      "106     ACAD000919090000      1.0    0.0     0.0     0.0     0.0     0.0   \n",
      "145       ACAD0100000459      1.0    0.0     0.0     0.0     0.0     0.0   \n",
      "166       ACAD0100000775      4.0    0.0     0.0     0.0     0.0     0.0   \n",
      "169       ACAD0100000994      1.0    0.0     0.0     0.0     0.0     0.0   \n",
      "...                  ...      ...    ...     ...     ...     ...     ...   \n",
      "206065        NP20128193      1.0    0.0     0.0     0.0     0.0     0.0   \n",
      "206069        NP20128536      1.0    0.0     0.0     0.0     0.0     0.0   \n",
      "206102        NP20130774      2.0    0.0     0.0     0.0     0.0     0.0   \n",
      "206103        NP20130889      2.0    0.0     0.0     0.0     0.0     0.0   \n",
      "206109        PP20058930      2.0    0.0     0.0     0.0     0.0     0.0   \n",
      "\n",
      "        30_mph  35_mph  40_mph  ...  OtherDomestic  Involving Animal  \\\n",
      "50         0.0     1.0     0.0  ...            0.0               1.0   \n",
      "106        0.0     1.0     0.0  ...            0.0               1.0   \n",
      "145        0.0     1.0     0.0  ...            0.0               1.0   \n",
      "166        0.0     1.0     0.0  ...            0.0               1.0   \n",
      "169        0.0     1.0     0.0  ...            0.0               1.0   \n",
      "...        ...     ...     ...  ...            ...               ...   \n",
      "206065     0.0     0.0     0.0  ...            0.0               1.0   \n",
      "206069     0.0     1.0     0.0  ...            0.0               1.0   \n",
      "206102     0.0     1.0     0.0  ...            0.0               1.0   \n",
      "206103     0.0     1.0     0.0  ...            0.0               1.0   \n",
      "206109     0.0     0.0     0.0  ...            0.0               1.0   \n",
      "\n",
      "        LATITUDE  LONGITUDE  Park  RGN  CRASH_DATE  CRASH_TIME  CRASH_YEAR  \\\n",
      "50           NaN        NaN  ACAD  NER  2000-09-19         900      2000.0   \n",
      "106          NaN        NaN  ACAD  NER  2000-09-19         900      2000.0   \n",
      "145          NaN        NaN  ACAD  NER  2001-07-31        2110      2001.0   \n",
      "166          NaN        NaN  ACAD  NER  2001-08-25        1630      2001.0   \n",
      "169          NaN        NaN  ACAD  NER  2001-09-23         230      2001.0   \n",
      "...          ...        ...   ...  ...         ...         ...         ...   \n",
      "206065       NaN        NaN  LINC  NCR  2017-02-14        1400      2017.0   \n",
      "206069       NaN        NaN  YELL  IMR  2017-05-13        1531      2017.0   \n",
      "206102       NaN        NaN  DEWA  NER  2020-05-02        1747      2020.0   \n",
      "206103       NaN        NaN  YELL  IMR  2020-09-19        1832      2020.0   \n",
      "206109       NaN        NaN  YOSE  PWR  2021-09-21         829      2021.0   \n",
      "\n",
      "        database  \n",
      "50           CDS  \n",
      "106          CDS  \n",
      "145          CDS  \n",
      "166          CDS  \n",
      "169          CDS  \n",
      "...          ...  \n",
      "206065     IMARS  \n",
      "206069     IMARS  \n",
      "206102     IMARS  \n",
      "206103     IMARS  \n",
      "206109     IMARS  \n",
      "\n",
      "[22743 rows x 53 columns]\n"
     ]
    }
   ],
   "source": [
    "#First need to create a dataframe where collision w animals equals 1 \n",
    "involveanimals = analysis_2022[analysis_2022['Involving Animal'] == 1]\n",
    "print(involveanimals)"
   ]
  },
  {
   "cell_type": "code",
   "execution_count": 21,
   "id": "06b25dd1",
   "metadata": {},
   "outputs": [],
   "source": [
    "#Obtaining number of crashes where collision w animals is 1 or True \n",
    "involveanimal_total = involveanimals.shape[0]\n"
   ]
  },
  {
   "cell_type": "code",
   "execution_count": 22,
   "id": "8f630876",
   "metadata": {},
   "outputs": [
    {
     "name": "stdout",
     "output_type": "stream",
     "text": [
      "22743\n"
     ]
    }
   ],
   "source": [
    "print(involveanimal_total)"
   ]
  },
  {
   "cell_type": "code",
   "execution_count": 23,
   "id": "0d735a02",
   "metadata": {
    "scrolled": true
   },
   "outputs": [
    {
     "name": "stdout",
     "output_type": "stream",
     "text": [
      "206111\n"
     ]
    }
   ],
   "source": [
    "#Obtaining total number of crashes in the entire dataset \n",
    "total_crashes = analysis_2022.shape[0]\n",
    "print(total_crashes)"
   ]
  },
  {
   "cell_type": "code",
   "execution_count": 35,
   "id": "a313dfd2",
   "metadata": {
    "scrolled": true
   },
   "outputs": [
    {
     "data": {
      "text/plain": [
       "11.0"
      ]
     },
     "execution_count": 35,
     "metadata": {},
     "output_type": "execute_result"
    }
   ],
   "source": [
    "#Computing % of Total Crashes Involving Animal\n",
    "involveanimal_percentage = round(involveanimal_total/total_crashes,3)*100\n",
    "involveanimal_percentage"
   ]
  },
  {
   "cell_type": "markdown",
   "id": "c5afa3fd",
   "metadata": {},
   "source": [
    "#### Computing No. of Injuries Among Crashes Involving Animals"
   ]
  },
  {
   "cell_type": "code",
   "execution_count": 25,
   "id": "f9ae2878",
   "metadata": {},
   "outputs": [
    {
     "name": "stdout",
     "output_type": "stream",
     "text": [
      "2856.0\n"
     ]
    }
   ],
   "source": [
    "numinjuries_involveanimal = involveanimals['Num_Injuries'].sum()\n",
    "print(numinjuries_involveanimal)"
   ]
  },
  {
   "cell_type": "markdown",
   "id": "ec1aa2a3",
   "metadata": {},
   "source": [
    "#### Computing No. Fatalities Among Crashes Involving Animals \n"
   ]
  },
  {
   "cell_type": "code",
   "execution_count": 27,
   "id": "1fd44b97",
   "metadata": {
    "scrolled": true
   },
   "outputs": [
    {
     "name": "stdout",
     "output_type": "stream",
     "text": [
      "28.0\n"
     ]
    }
   ],
   "source": [
    "numfatalities_involveanimal = involveanimals['Num_Fatalities'].sum()\n",
    "print(numfatalities_involveanimal)\n"
   ]
  },
  {
   "cell_type": "markdown",
   "id": "13826788",
   "metadata": {},
   "source": [
    "#### Number of Serious Injuries Among Crahses Involving Animals "
   ]
  },
  {
   "cell_type": "code",
   "execution_count": 29,
   "id": "62e1e294",
   "metadata": {},
   "outputs": [
    {
     "name": "stdout",
     "output_type": "stream",
     "text": [
      "402.0\n"
     ]
    }
   ],
   "source": [
    "seriousinjuries_involveanimals = involveanimals['Incapacitating Injury'].sum()\n",
    "print(seriousinjuries_involveanimals)"
   ]
  },
  {
   "cell_type": "markdown",
   "id": "c0c2e9c9",
   "metadata": {},
   "source": [
    "### Crashes Involving VRUs "
   ]
  },
  {
   "cell_type": "markdown",
   "id": "bec21e7f",
   "metadata": {},
   "source": [
    "#### Computing % of Crashes Involving VRUs"
   ]
  },
  {
   "cell_type": "code",
   "execution_count": 30,
   "id": "683455b5",
   "metadata": {
    "scrolled": true
   },
   "outputs": [
    {
     "name": "stdout",
     "output_type": "stream",
     "text": [
      "                INCID_NO  NUM_OCC  5_mph  10_mph  15_mph  20_mph  25_mph  \\\n",
      "2       ABLI091117170900      2.0    0.0     0.0     0.0     0.0     1.0   \n",
      "133       ACAD0100000265      4.0    0.0     0.0     0.0     0.0     0.0   \n",
      "195     ACAD010716103000      4.0    0.0     0.0     0.0     0.0     0.0   \n",
      "348     ACAD090421120000     14.0    0.0     0.0     0.0     0.0     0.0   \n",
      "580       ACAD8900006028      4.0    0.0     0.0     0.0     0.0     1.0   \n",
      "...                  ...      ...    ...     ...     ...     ...     ...   \n",
      "205725        NP20101607      1.0    0.0     0.0     0.0     0.0     0.0   \n",
      "205730        NP20102165      2.0    0.0     0.0     1.0     0.0     0.0   \n",
      "205745        NP20102524      1.0    0.0     0.0     0.0     0.0     0.0   \n",
      "205968        PP20056040      3.0    0.0     0.0     0.0     0.0     0.0   \n",
      "206027        PP20057279      2.0    0.0     0.0     0.0     0.0     1.0   \n",
      "\n",
      "        30_mph  35_mph  40_mph  ...  OtherDomestic  Involving Animal  \\\n",
      "2          0.0     0.0     0.0  ...            0.0               0.0   \n",
      "133        0.0     0.0     0.0  ...            0.0               0.0   \n",
      "195        0.0     0.0     0.0  ...            0.0               0.0   \n",
      "348        0.0     1.0     0.0  ...            0.0               0.0   \n",
      "580        0.0     0.0     0.0  ...            0.0               0.0   \n",
      "...        ...     ...     ...  ...            ...               ...   \n",
      "205725     0.0     1.0     0.0  ...            0.0               0.0   \n",
      "205730     0.0     0.0     0.0  ...            0.0               0.0   \n",
      "205745     0.0     0.0     0.0  ...            0.0               0.0   \n",
      "205968     0.0     0.0     0.0  ...            0.0               0.0   \n",
      "206027     0.0     0.0     0.0  ...            0.0               0.0   \n",
      "\n",
      "         LATITUDE  LONGITUDE  Park  RGN  CRASH_DATE  CRASH_TIME  CRASH_YEAR  \\\n",
      "2             NaN        NaN  ABLI  SER  2009-11-17        1709      2009.0   \n",
      "133           NaN        NaN  ACAD  NER  2001-07-16        1030      2001.0   \n",
      "195           NaN        NaN  ACAD  NER  2001-07-16        1030      2001.0   \n",
      "348     44.368910 -68.238560  ACAD  NER  2009-04-21        1200      2009.0   \n",
      "580           NaN        NaN  ACAD  NER  1989-07-25        1118      1989.0   \n",
      "...           ...        ...   ...  ...         ...         ...         ...   \n",
      "205725  40.591000 -73.884020  GATE  NER  2017-02-01         840      2017.0   \n",
      "205730  37.248577 -76.698877  COLO  NER  2017-02-07        1315      2017.0   \n",
      "205745  38.920000 -76.930000  NACA  NCR  2017-03-01         444      2017.0   \n",
      "205968  38.920000 -76.930000  NACA  NCR  2018-03-26        2143      2018.0   \n",
      "206027  38.940841 -77.133592  GWMP  NCR  2020-12-17         955      2020.0   \n",
      "\n",
      "        database  \n",
      "2            CDS  \n",
      "133          CDS  \n",
      "195          CDS  \n",
      "348          CDS  \n",
      "580          CDS  \n",
      "...          ...  \n",
      "205725     IMARS  \n",
      "205730     IMARS  \n",
      "205745     IMARS  \n",
      "205968     IMARS  \n",
      "206027     IMARS  \n",
      "\n",
      "[2815 rows x 53 columns]\n"
     ]
    }
   ],
   "source": [
    "VRU = analysis_2022[analysis_2022['VRU'] == 1]\n",
    "print(VRU)"
   ]
  },
  {
   "cell_type": "code",
   "execution_count": 31,
   "id": "e5b15340",
   "metadata": {},
   "outputs": [
    {
     "name": "stdout",
     "output_type": "stream",
     "text": [
      "2815\n"
     ]
    }
   ],
   "source": [
    "#Obtaining number of crashes involving VRU is 1 or True \n",
    "VRU_total = VRU.shape[0]\n",
    "print(VRU_total)"
   ]
  },
  {
   "cell_type": "code",
   "execution_count": 32,
   "id": "ca6ae328",
   "metadata": {},
   "outputs": [
    {
     "name": "stdout",
     "output_type": "stream",
     "text": [
      "1.366\n"
     ]
    }
   ],
   "source": [
    "#Calculating total % of crashes involving VRU\n",
    "VRU_percentage = round(VRU_total/total_crashes, 5)*100\n",
    "print(VRU_percentage)"
   ]
  },
  {
   "cell_type": "markdown",
   "id": "4e66f7b9",
   "metadata": {},
   "source": [
    "#### Computing No. of Injuries Involving VRU"
   ]
  },
  {
   "cell_type": "code",
   "execution_count": 33,
   "id": "a6e8cfa6",
   "metadata": {
    "scrolled": true
   },
   "outputs": [
    {
     "name": "stdout",
     "output_type": "stream",
     "text": [
      "1282.0\n"
     ]
    }
   ],
   "source": [
    "numinjuries_VRU = VRU['Num_Injuries'].sum()\n",
    "print(numinjuries_VRU)"
   ]
  },
  {
   "cell_type": "markdown",
   "id": "13816c14",
   "metadata": {},
   "source": [
    "#### Computing No. of Fatalities Among Crashes Involving VRU"
   ]
  },
  {
   "cell_type": "code",
   "execution_count": 34,
   "id": "bfb22ee7",
   "metadata": {
    "scrolled": false
   },
   "outputs": [
    {
     "name": "stdout",
     "output_type": "stream",
     "text": [
      "26.0\n"
     ]
    }
   ],
   "source": [
    "numfatalities_VRU = VRU['Num_Fatalities'].sum()\n",
    "print(numfatalities_VRU)"
   ]
  },
  {
   "cell_type": "code",
   "execution_count": 39,
   "id": "4ad4e328",
   "metadata": {},
   "outputs": [
    {
     "name": "stdout",
     "output_type": "stream",
     "text": [
      "581.0\n"
     ]
    }
   ],
   "source": [
    "seriousinjuries_VRU = VRU['Incapacitating Injury'].sum()\n",
    "print(seriousinjuries_VRU)"
   ]
  },
  {
   "cell_type": "markdown",
   "id": "fdf278ee",
   "metadata": {},
   "source": [
    "### Table of National Trends"
   ]
  },
  {
   "cell_type": "code",
   "execution_count": 44,
   "id": "0ba94606",
   "metadata": {},
   "outputs": [],
   "source": [
    "nationaldata= {'Collision Type': ['Crashes Involving VRUs','Crashes Involving Animals'], 'Percentage of Total Crashes': [VRU_percentage,involveanimal_percentage], 'Number of Injuries':[numinjuries_VRU, numinjuries_involveanimal], 'Number of Serious Injuries':[seriousinjuries_VRU, seriousinjuries_involveanimals], 'Number of Fatalities':[numfatalities_VRU,numfatalities_involveanimal]}"
   ]
  },
  {
   "cell_type": "code",
   "execution_count": 45,
   "id": "d8370c71",
   "metadata": {},
   "outputs": [],
   "source": [
    "df5 = pd.DataFrame(nationaldata)"
   ]
  },
  {
   "cell_type": "code",
   "execution_count": 46,
   "id": "13379161",
   "metadata": {
    "scrolled": true
   },
   "outputs": [
    {
     "name": "stdout",
     "output_type": "stream",
     "text": [
      "              Collision Type  Percentage of Total Crashes  Number of Injuries  \\\n",
      "0     Crashes Involving VRUs                        1.366              1282.0   \n",
      "1  Crashes Involving Animals                       11.000              2856.0   \n",
      "\n",
      "   Number of Serious Injuries  Number of Fatalities  \n",
      "0                       581.0                  26.0  \n",
      "1                       402.0                  28.0  \n"
     ]
    }
   ],
   "source": [
    "print(df5)"
   ]
  },
  {
   "cell_type": "code",
   "execution_count": 47,
   "id": "467eecdc",
   "metadata": {
    "scrolled": true
   },
   "outputs": [
    {
     "data": {
      "text/plain": [
       "Percentage of Total Crashes      12.366\n",
       "Number of Injuries             4138.000\n",
       "Number of Serious Injuries      983.000\n",
       "Number of Fatalities             54.000\n",
       "dtype: float64"
      ]
     },
     "execution_count": 47,
     "metadata": {},
     "output_type": "execute_result"
    }
   ],
   "source": [
    "#Calculate Grant Total to Table \n",
    "df5[['Percentage of Total Crashes', 'Number of Injuries', 'Number of Serious Injuries', 'Number of Fatalities']].sum()"
   ]
  },
  {
   "cell_type": "code",
   "execution_count": 48,
   "id": "c190a47d",
   "metadata": {
    "scrolled": false
   },
   "outputs": [
    {
     "name": "stderr",
     "output_type": "stream",
     "text": [
      "C:\\Users\\Smitha.Mahesh\\AppData\\Local\\Temp\\ipykernel_19832\\3692146198.py:2: FutureWarning: The frame.append method is deprecated and will be removed from pandas in a future version. Use pandas.concat instead.\n",
      "  df5.append(df5[['Percentage of Total Crashes', 'Number of Injuries', 'Number of Serious Injuries', 'Number of Fatalities']].sum().rename('Servicewide Total')).fillna('')\n"
     ]
    },
    {
     "data": {
      "text/html": [
       "<div>\n",
       "<style scoped>\n",
       "    .dataframe tbody tr th:only-of-type {\n",
       "        vertical-align: middle;\n",
       "    }\n",
       "\n",
       "    .dataframe tbody tr th {\n",
       "        vertical-align: top;\n",
       "    }\n",
       "\n",
       "    .dataframe thead th {\n",
       "        text-align: right;\n",
       "    }\n",
       "</style>\n",
       "<table border=\"1\" class=\"dataframe\">\n",
       "  <thead>\n",
       "    <tr style=\"text-align: right;\">\n",
       "      <th></th>\n",
       "      <th>Collision Type</th>\n",
       "      <th>Percentage of Total Crashes</th>\n",
       "      <th>Number of Injuries</th>\n",
       "      <th>Number of Serious Injuries</th>\n",
       "      <th>Number of Fatalities</th>\n",
       "    </tr>\n",
       "  </thead>\n",
       "  <tbody>\n",
       "    <tr>\n",
       "      <th>0</th>\n",
       "      <td>Crashes Involving VRUs</td>\n",
       "      <td>1.366</td>\n",
       "      <td>1282.0</td>\n",
       "      <td>581.0</td>\n",
       "      <td>26.0</td>\n",
       "    </tr>\n",
       "    <tr>\n",
       "      <th>1</th>\n",
       "      <td>Crashes Involving Animals</td>\n",
       "      <td>11.000</td>\n",
       "      <td>2856.0</td>\n",
       "      <td>402.0</td>\n",
       "      <td>28.0</td>\n",
       "    </tr>\n",
       "    <tr>\n",
       "      <th>Servicewide Total</th>\n",
       "      <td></td>\n",
       "      <td>12.366</td>\n",
       "      <td>4138.0</td>\n",
       "      <td>983.0</td>\n",
       "      <td>54.0</td>\n",
       "    </tr>\n",
       "  </tbody>\n",
       "</table>\n",
       "</div>"
      ],
      "text/plain": [
       "                              Collision Type  Percentage of Total Crashes  \\\n",
       "0                     Crashes Involving VRUs                        1.366   \n",
       "1                  Crashes Involving Animals                       11.000   \n",
       "Servicewide Total                                                  12.366   \n",
       "\n",
       "                   Number of Injuries  Number of Serious Injuries  \\\n",
       "0                              1282.0                       581.0   \n",
       "1                              2856.0                       402.0   \n",
       "Servicewide Total              4138.0                       983.0   \n",
       "\n",
       "                   Number of Fatalities  \n",
       "0                                  26.0  \n",
       "1                                  28.0  \n",
       "Servicewide Total                  54.0  "
      ]
     },
     "execution_count": 48,
     "metadata": {},
     "output_type": "execute_result"
    }
   ],
   "source": [
    "#Add Grand Totals to Table \n",
    "df5.append(df5[['Percentage of Total Crashes', 'Number of Injuries', 'Number of Serious Injuries', 'Number of Fatalities']].sum().rename('Servicewide Total')).fillna('')\n"
   ]
  },
  {
   "cell_type": "code",
   "execution_count": 53,
   "id": "03e5c083",
   "metadata": {
    "scrolled": false
   },
   "outputs": [
    {
     "name": "stdout",
     "output_type": "stream",
     "text": [
      "1335.0\n",
      "The percentage of crashes involving VRUs that resulted in a fatality or injury is 1335.0\n"
     ]
    }
   ],
   "source": [
    "#% of crashes involving VRUs that resulted in a fatality OR injury  \n",
    "injuryorfatality_VRU = VRU['Injury or Fatal'].sum()\n",
    "print(injuryorfatality_VRU)\n",
    "print(\"The percentage of crashes involving VRUs that resulted in a fatality or injury is\", injuryorfatality_VRU)"
   ]
  },
  {
   "cell_type": "code",
   "execution_count": 60,
   "id": "eb70856c",
   "metadata": {},
   "outputs": [
    {
     "name": "stdout",
     "output_type": "stream",
     "text": [
      "0.0\n",
      "0.0\n",
      "0.0\n",
      "0.0\n"
     ]
    }
   ],
   "source": [
    "#The following were excluded from the graph because there are no crashes found at the posted speeds \n",
    "VRU_60 = VRU['60_mph'].sum() \n",
    "print(VRU_60)\n",
    "VRU_65 = VRU['65_mph'].sum()\n",
    "print(VRU_65)\n",
    "VRU_70 = VRU['70_mph'].sum() \n",
    "print(VRU_70)\n",
    "VRU_75 = VRU['75_mph'].sum()\n",
    "print(VRU_75)"
   ]
  },
  {
   "cell_type": "code",
   "execution_count": 61,
   "id": "b07f3845",
   "metadata": {
    "scrolled": true
   },
   "outputs": [
    {
     "data": {
      "image/png": "[encoded data removed]",
      "text/plain": [
       "<Figure size 432x288 with 1 Axes>"
      ]
     },
     "metadata": {
      "needs_background": "light"
     },
     "output_type": "display_data"
    }
   ],
   "source": [
    "#Bar graph of total crashes involving VRUs sorted by posted speed\n",
    "VRU_5 = VRU['5_mph'].sum()\n",
    "VRU_10 = VRU['10_mph'].sum() \n",
    "VRU_15 = VRU['15_mph'].sum()\n",
    "VRU_20 = VRU['20_mph'].sum() \n",
    "VRU_25 = VRU['25_mph'].sum() \n",
    "VRU_30 = VRU['30_mph'].sum()\n",
    "VRU_35 = VRU['35_mph'].sum()\n",
    "VRU_40 = VRU['40_mph'].sum()\n",
    "VRU_45 = VRU['45_mph'].sum() \n",
    "VRU_50 = VRU['50_mph'].sum()\n",
    "VRU_55 = VRU['55_mph'].sum()\n",
    "VRU_60 = VRU['60_mph'].sum() \n",
    "df = pd.DataFrame({'Posted Speed':[5,10,15,20,25,30,35,50,45,50,55], 'Total Crashes Involving VRUs':[VRU_5,VRU_10,VRU_15,VRU_20,VRU_25,VRU_30,VRU_35,VRU_40,VRU_45,VRU_50,VRU_55]})\n",
    "ax = df.plot.bar(x='Posted Speed', y='Total Crashes Involving VRUs', rot=0)"
   ]
  },
  {
   "cell_type": "code",
   "execution_count": 62,
   "id": "68957ebb",
   "metadata": {},
   "outputs": [
    {
     "ename": "TypeError",
     "evalue": "sort_values() got an unexpected keyword argument 'by'",
     "output_type": "error",
     "traceback": [
      "\u001b[1;31m---------------------------------------------------------------------------\u001b[0m",
      "\u001b[1;31mTypeError\u001b[0m                                 Traceback (most recent call last)",
      "Input \u001b[1;32mIn [62]\u001b[0m, in \u001b[0;36m<cell line: 6>\u001b[1;34m()\u001b[0m\n\u001b[0;32m      1\u001b[0m \u001b[38;5;66;03m# Number of VRU fatalities by posted speed  \u001b[39;00m\n\u001b[0;32m      2\u001b[0m \u001b[38;5;66;03m#VRUfatalities_speed= {'Posted Speed': ['5_mph','10_mph','15_mph','20_mph','25_mph','30_mph','35_mph','40_mph','45_mph','50_mph','55_mph'] 'Number of Fatalities': [NUM_]}\u001b[39;00m\n\u001b[0;32m      3\u001b[0m \u001b[38;5;66;03m#df6 = pd.DataFrame(VRUfatalities_speed)\u001b[39;00m\n\u001b[0;32m      4\u001b[0m \u001b[38;5;66;03m#print(df6)\u001b[39;00m\n\u001b[1;32m----> 6\u001b[0m \u001b[43mVRU\u001b[49m\u001b[43m[\u001b[49m\u001b[38;5;124;43m'\u001b[39;49m\u001b[38;5;124;43mNum_Fatalities\u001b[39;49m\u001b[38;5;124;43m'\u001b[39;49m\u001b[43m]\u001b[49m\u001b[38;5;241;43m.\u001b[39;49m\u001b[43msort_values\u001b[49m\u001b[43m(\u001b[49m\u001b[43mby\u001b[49m\u001b[38;5;241;43m=\u001b[39;49m\u001b[43m[\u001b[49m\u001b[38;5;124;43m'\u001b[39;49m\u001b[38;5;124;43m5_mph\u001b[39;49m\u001b[38;5;124;43m'\u001b[39;49m\u001b[43m]\u001b[49m\u001b[43m)\u001b[49m\n",
      "File \u001b[1;32m~\\Anaconda\\lib\\site-packages\\pandas\\util\\_decorators.py:311\u001b[0m, in \u001b[0;36mdeprecate_nonkeyword_arguments.<locals>.decorate.<locals>.wrapper\u001b[1;34m(*args, **kwargs)\u001b[0m\n\u001b[0;32m    305\u001b[0m \u001b[38;5;28;01mif\u001b[39;00m \u001b[38;5;28mlen\u001b[39m(args) \u001b[38;5;241m>\u001b[39m num_allow_args:\n\u001b[0;32m    306\u001b[0m     warnings\u001b[38;5;241m.\u001b[39mwarn(\n\u001b[0;32m    307\u001b[0m         msg\u001b[38;5;241m.\u001b[39mformat(arguments\u001b[38;5;241m=\u001b[39marguments),\n\u001b[0;32m    308\u001b[0m         \u001b[38;5;167;01mFutureWarning\u001b[39;00m,\n\u001b[0;32m    309\u001b[0m         stacklevel\u001b[38;5;241m=\u001b[39mstacklevel,\n\u001b[0;32m    310\u001b[0m     )\n\u001b[1;32m--> 311\u001b[0m \u001b[38;5;28;01mreturn\u001b[39;00m func(\u001b[38;5;241m*\u001b[39margs, \u001b[38;5;241m*\u001b[39m\u001b[38;5;241m*\u001b[39mkwargs)\n",
      "\u001b[1;31mTypeError\u001b[0m: sort_values() got an unexpected keyword argument 'by'"
     ]
    }
   ],
   "source": [
    "# Number of VRU fatalities by posted speed  - I NEED HELP \n",
    "#VRUfatalities_speed= {'Posted Speed': ['5_mph','10_mph','15_mph','20_mph','25_mph','30_mph','35_mph','40_mph','45_mph','50_mph','55_mph'] 'Number of Fatalities': [NUM_]}\n",
    "#df6 = pd.DataFrame(VRUfatalities_speed)\n",
    "#print(df6)\n",
    "\n",
    "VRU['Num_Fatalities'].sort_values(by=['5_mph'])"
   ]
  },
  {
   "cell_type": "markdown",
   "id": "ed5746b4",
   "metadata": {},
   "source": [
    "# Regional Briefing Data Overview - Loop "
   ]
  },
  {
   "cell_type": "code",
   "execution_count": 44,
   "id": "200299f5",
   "metadata": {
    "scrolled": true
   },
   "outputs": [
    {
     "name": "stdout",
     "output_type": "stream",
     "text": [
      "['SER' 'NER' 'MWR' 'IMR' 'NCR' 'PWR' 'AKR']\n"
     ]
    }
   ],
   "source": [
    "regions = analysis_2022.RGN.unique()\n",
    "print(regions)"
   ]
  },
  {
   "cell_type": "code",
   "execution_count": 123,
   "id": "6ee0c76f",
   "metadata": {
    "scrolled": false
   },
   "outputs": [
    {
     "name": "stdout",
     "output_type": "stream",
     "text": [
      "SER\n",
      "       Collision Type  Number of Injuries  Number of Fatalities\n",
      "0  Collision w Animal               614.0                   8.0\n",
      "1     Avoiding Animal                 2.0                   0.0\n",
      "2          Pedestrian                59.0                   2.0\n",
      "3             Bicycle                99.0                   0.0\n",
      "4           Pedacycle                 0.0                   0.0\n",
      "NER\n",
      "       Collision Type  Number of Injuries  Number of Fatalities\n",
      "0  Collision w Animal               438.0                   2.0\n",
      "1     Avoiding Animal                 0.0                   0.0\n",
      "2          Pedestrian                64.0                   1.0\n",
      "3             Bicycle                82.0                   4.0\n",
      "4           Pedacycle                 1.0                   0.0\n",
      "IMR\n",
      "       Collision Type  Number of Injuries  Number of Fatalities\n",
      "0  Collision w Animal               349.0                   4.0\n",
      "1     Avoiding Animal                 1.0                   0.0\n",
      "2          Pedestrian               130.0                   5.0\n",
      "3             Bicycle                76.0                   0.0\n",
      "4           Pedacycle                 0.0                   0.0\n",
      "NCR\n"
     ]
    },
    {
     "name": "stderr",
     "output_type": "stream",
     "text": [
      "C:\\Users\\Smitha.Mahesh\\AppData\\Local\\Temp\\ipykernel_9788\\3782376735.py:31: FutureWarning: The frame.append method is deprecated and will be removed from pandas in a future version. Use pandas.concat instead.\n",
      "  df2.append(df2[['Number of Injuries', 'Number of Fatalities']].sum().rename('Servicewide Total')).fillna('')\n",
      "C:\\Users\\Smitha.Mahesh\\AppData\\Local\\Temp\\ipykernel_9788\\3782376735.py:31: FutureWarning: The frame.append method is deprecated and will be removed from pandas in a future version. Use pandas.concat instead.\n",
      "  df2.append(df2[['Number of Injuries', 'Number of Fatalities']].sum().rename('Servicewide Total')).fillna('')\n",
      "C:\\Users\\Smitha.Mahesh\\AppData\\Local\\Temp\\ipykernel_9788\\3782376735.py:31: FutureWarning: The frame.append method is deprecated and will be removed from pandas in a future version. Use pandas.concat instead.\n",
      "  df2.append(df2[['Number of Injuries', 'Number of Fatalities']].sum().rename('Servicewide Total')).fillna('')\n",
      "C:\\Users\\Smitha.Mahesh\\AppData\\Local\\Temp\\ipykernel_9788\\3782376735.py:31: FutureWarning: The frame.append method is deprecated and will be removed from pandas in a future version. Use pandas.concat instead.\n",
      "  df2.append(df2[['Number of Injuries', 'Number of Fatalities']].sum().rename('Servicewide Total')).fillna('')\n"
     ]
    },
    {
     "name": "stdout",
     "output_type": "stream",
     "text": [
      "       Collision Type  Number of Injuries  Number of Fatalities\n",
      "0  Collision w Animal                78.0                   0.0\n",
      "1     Avoiding Animal                 3.0                   0.0\n",
      "2          Pedestrian               157.0                  12.0\n",
      "3             Bicycle               211.0                   0.0\n",
      "4           Pedacycle                 0.0                   0.0\n",
      "PWR\n",
      "       Collision Type  Number of Injuries  Number of Fatalities\n",
      "0  Collision w Animal                81.0                   4.0\n",
      "1     Avoiding Animal                 0.0                   0.0\n",
      "2          Pedestrian               132.0                   1.0\n",
      "3             Bicycle               253.0                   1.0\n",
      "4           Pedacycle                 0.0                   0.0\n",
      "AKR\n",
      "       Collision Type  Number of Injuries  Number of Fatalities\n",
      "0  Collision w Animal                 0.0                   0.0\n",
      "1     Avoiding Animal                 0.0                   0.0\n",
      "2          Pedestrian                 3.0                   0.0\n",
      "3             Bicycle                 0.0                   0.0\n",
      "4           Pedacycle                 0.0                   0.0\n"
     ]
    },
    {
     "name": "stderr",
     "output_type": "stream",
     "text": [
      "C:\\Users\\Smitha.Mahesh\\AppData\\Local\\Temp\\ipykernel_9788\\3782376735.py:31: FutureWarning: The frame.append method is deprecated and will be removed from pandas in a future version. Use pandas.concat instead.\n",
      "  df2.append(df2[['Number of Injuries', 'Number of Fatalities']].sum().rename('Servicewide Total')).fillna('')\n",
      "C:\\Users\\Smitha.Mahesh\\AppData\\Local\\Temp\\ipykernel_9788\\3782376735.py:31: FutureWarning: The frame.append method is deprecated and will be removed from pandas in a future version. Use pandas.concat instead.\n",
      "  df2.append(df2[['Number of Injuries', 'Number of Fatalities']].sum().rename('Servicewide Total')).fillna('')\n"
     ]
    },
    {
     "data": {
      "image/png": "[encoded data removed]",
      "text/plain": [
       "<Figure size 432x288 with 1 Axes>"
      ]
     },
     "metadata": {
      "needs_background": "light"
     },
     "output_type": "display_data"
    },
    {
     "data": {
      "image/png": "[encoded data removed]",
      "text/plain": [
       "<Figure size 432x288 with 1 Axes>"
      ]
     },
     "metadata": {
      "needs_background": "light"
     },
     "output_type": "display_data"
    },
    {
     "data": {
      "image/png": "[encoded data removed]",
      "text/plain": [
       "<Figure size 432x288 with 1 Axes>"
      ]
     },
     "metadata": {
      "needs_background": "light"
     },
     "output_type": "display_data"
    },
    {
     "data": {
      "image/png": "[encoded data removed]",
      "text/plain": [
       "<Figure size 432x288 with 1 Axes>"
      ]
     },
     "metadata": {
      "needs_background": "light"
     },
     "output_type": "display_data"
    },
    {
     "data": {
      "image/png": "[encoded data removed]",
      "text/plain": [
       "<Figure size 432x288 with 1 Axes>"
      ]
     },
     "metadata": {
      "needs_background": "light"
     },
     "output_type": "display_data"
    },
    {
     "data": {
      "image/png": "[encoded data removed]",
      "text/plain": [
       "<Figure size 432x288 with 1 Axes>"
      ]
     },
     "metadata": {
      "needs_background": "light"
     },
     "output_type": "display_data"
    }
   ],
   "source": [
    "region = ['SER', 'NER', 'IMR', 'NCR', 'PWR', 'AKR']\n",
    "for index, item in enumerate(region):\n",
    "    regionabrv = region[index]\n",
    "    print(regionabrv)\n",
    "    regional_analysis_df = analysis_2022[analysis_2022['RGN'] == regionabrv]\n",
    "    \n",
    "    #Finding Count of Injuries or Fatalities by Collision with Animal\n",
    "    RGN_collisionwanimal = regional_analysis_df[regional_analysis_df['Collision w Animal'] == 1]\n",
    "    RGNnuminjuries_collisionwanimals = RGN_collisionwanimal['Num_Injuries'].sum()\n",
    "    RGNnumfatalities_collisionwanimals = RGN_collisionwanimal['Num_Fatalities'].sum()\n",
    "    \n",
    "    #Finding Count of Injuries or Fatalities by Avoiding Animal\n",
    "    RGN_avoidinganimals = regional_analysis_df[regional_analysis_df['Avoiding Animal'] == 1]\n",
    "    RGNnumfatalities_avoidinganimals = RGN_avoidinganimals['Num_Fatalities'].sum()\n",
    "    RGNnuminjuries_avoidinganimals = RGN_avoidinganimals['Num_Injuries'].sum()\n",
    "    \n",
    "    #Finding Count of Injuries or Fatalities by Pedestrians \n",
    "    RGN_pedestrians = regional_analysis_df[regional_analysis_df['Pedestrian'] == 1]\n",
    "    RGNpedinjuries = RGN_pedestrians['Num_Injuries'].sum()\n",
    "    RGNpedfatal = RGN_pedestrians['Num_Fatalities'].sum()\n",
    "    \n",
    "    #Finding Count of Injuries or Fatalities by Bicyclists  \n",
    "    RGN_bicyclists = regional_analysis_df[regional_analysis_df['Bicycle'] == 1]\n",
    "    RGNbikeinjuries = RGN_bicyclists['Num_Injuries'].sum()\n",
    "    RGNbikefatal = RGN_bicyclists['Num_Fatalities'].sum()\n",
    "    \n",
    "    #Finding Count of Injuries or Fatalities by Pedacyclists \n",
    "    RGN_pedacycle = regional_analysis_df[regional_analysis_df['Pedacycle'] == 1]\n",
    "    RGNpedacycleinjuries = RGN_pedacycle['Num_Injuries'].sum()\n",
    "    RGNpedacyclefatal = RGN_pedacycle['Num_Fatalities'].sum() \n",
    "    \n",
    "    #Creating table from data \n",
    "    RGNdata= {'Collision Type': ['Collision w Animal','Avoiding Animal', 'Pedestrian','Bicycle','Pedacycle'], 'Number of Injuries':[RGNnuminjuries_collisionwanimals, RGNnuminjuries_avoidinganimals, RGNpedinjuries, RGNbikeinjuries, RGNpedacycleinjuries], 'Number of Fatalities':[RGNnumfatalities_collisionwanimals,RGNnumfatalities_avoidinganimals, RGNpedfatal, RGNbikefatal, RGNpedacyclefatal]}\n",
    "    df2 = pd.DataFrame(RGNdata)\n",
    "    print(df2)\n",
    "    df2[['Number of Injuries', 'Number of Fatalities']].sum()\n",
    "    df2.append(df2[['Number of Injuries', 'Number of Fatalities']].sum().rename('Servicewide Total')).fillna('')\n",
    "    #NEED HELP: Servicewide Total Won't Show\n",
    "    \n",
    "    #Creating bar graph from data \n",
    "    injuries = [RGNnuminjuries_collisionwanimals, RGNnuminjuries_avoidinganimals, RGNpedinjuries, RGNbikeinjuries, RGNpedacycleinjuries]\n",
    "    fatalities = [RGNnumfatalities_collisionwanimals, RGNnumfatalities_avoidinganimals, RGNpedfatal, RGNbikefatal, RGNpedacyclefatal]\n",
    "    index = ['Collision with Animal', 'Avoiding Animal', 'Pedestrian', 'Bicycle', 'Pedacycle']\n",
    "    df3 = pd.DataFrame({'number of injuries': injuries, 'number of fatalities':fatalities}, index=index)\n",
    "    \n",
    "    ax = df3.plot.bar(rot=0)\n",
    "    #NEED HELP: Fix size of bar graphs so everything isn't squished "
   ]
  },
  {
   "cell_type": "markdown",
   "id": "9a3914dd",
   "metadata": {},
   "source": [
    "### Crashes Involving Pedestrians "
   ]
  },
  {
   "cell_type": "markdown",
   "id": "f8e1e8e9",
   "metadata": {},
   "source": [
    "#### Computing % of Crashes Involving Pedestrians "
   ]
  },
  {
   "cell_type": "code",
   "execution_count": 89,
   "id": "c0705d9a",
   "metadata": {
    "scrolled": true
   },
   "outputs": [
    {
     "data": {
      "text/plain": [
       "0    840650\n",
       "1      6501\n",
       "Name: Pedestrian, dtype: int64"
      ]
     },
     "execution_count": 89,
     "metadata": {},
     "output_type": "execute_result"
    }
   ],
   "source": [
    "analysis_2022['Pedestrian'].value_counts().sort_index()"
   ]
  },
  {
   "cell_type": "code",
   "execution_count": 90,
   "id": "cd3f2111",
   "metadata": {},
   "outputs": [
    {
     "name": "stdout",
     "output_type": "stream",
     "text": [
      "6501\n"
     ]
    }
   ],
   "source": [
    "pedestrian_total_crashes = 6501\n",
    "print(pedestrian_total_crashes)"
   ]
  },
  {
   "cell_type": "code",
   "execution_count": 91,
   "id": "9af318d5",
   "metadata": {},
   "outputs": [
    {
     "data": {
      "text/plain": [
       "(847151, 56)"
      ]
     },
     "execution_count": 91,
     "metadata": {},
     "output_type": "execute_result"
    }
   ],
   "source": [
    "analysis_2022.shape"
   ]
  },
  {
   "cell_type": "code",
   "execution_count": 92,
   "id": "33809821",
   "metadata": {},
   "outputs": [
    {
     "data": {
      "text/plain": [
       "0.8"
      ]
     },
     "execution_count": 92,
     "metadata": {},
     "output_type": "execute_result"
    }
   ],
   "source": [
    "pedestrian_percentage = round(pedestrian_total_crashes/847151,3)*100\n",
    "pedestrian_percentage"
   ]
  },
  {
   "cell_type": "markdown",
   "id": "dba67ef9",
   "metadata": {},
   "source": [
    "#### Computing % of Injury/Fatality Involving Pedestrians"
   ]
  },
  {
   "cell_type": "code",
   "execution_count": 93,
   "id": "d73bb6ac",
   "metadata": {
    "scrolled": true
   },
   "outputs": [
    {
     "data": {
      "text/plain": [
       "Pedestrian  Injury or Fatal\n",
       "0           0                  666623\n",
       "            1                  174027\n",
       "1           0                    3451\n",
       "            1                    3050\n",
       "dtype: int64"
      ]
     },
     "execution_count": 93,
     "metadata": {},
     "output_type": "execute_result"
    }
   ],
   "source": [
    "#First find the number of injury/fatalities involving pedestrians \n",
    "analysis_2022.value_counts([\"Pedestrian\", \"Injury or Fatal\"])"
   ]
  },
  {
   "cell_type": "code",
   "execution_count": 94,
   "id": "0fe9f175",
   "metadata": {},
   "outputs": [
    {
     "name": "stdout",
     "output_type": "stream",
     "text": [
      "3050\n"
     ]
    }
   ],
   "source": [
    "#Pedestrian = 1 and Injury or Fatal = 1 means crash involving pedestrian resulted in injury or fatality \n",
    "pedestrian_counts= 3050\n",
    "print (pedestrian_counts)"
   ]
  },
  {
   "cell_type": "code",
   "execution_count": 95,
   "id": "c24ed38a",
   "metadata": {},
   "outputs": [
    {
     "data": {
      "text/plain": [
       "46.9"
      ]
     },
     "execution_count": 95,
     "metadata": {},
     "output_type": "execute_result"
    }
   ],
   "source": [
    "#Percentage of Injury/Fatality for Pedestrians\n",
    "pedestrian_injuryfatality_percentage = round(pedestrian_counts/pedestrian_total_crashes, 3)*100\n",
    "pedestrian_injuryfatality_percentage"
   ]
  },
  {
   "cell_type": "markdown",
   "id": "57fccc96",
   "metadata": {},
   "source": [
    "#### No. Fatalities Involving Pedestrians - avoiding this code for now so as not to repeat error code... "
   ]
  },
  {
   "cell_type": "markdown",
   "id": "efb8c43a",
   "metadata": {},
   "source": [
    "## Crashes Involving Cyclists "
   ]
  },
  {
   "cell_type": "markdown",
   "id": "c16509b7",
   "metadata": {},
   "source": [
    "#### Computing % of Crashes Involving Cyclists "
   ]
  },
  {
   "cell_type": "code",
   "execution_count": 96,
   "id": "f0705fd4",
   "metadata": {
    "scrolled": true
   },
   "outputs": [
    {
     "data": {
      "text/plain": [
       "0    840685\n",
       "1      6466\n",
       "Name: Bicycle, dtype: int64"
      ]
     },
     "execution_count": 96,
     "metadata": {},
     "output_type": "execute_result"
    }
   ],
   "source": [
    "analysis_2022['Bicycle'].value_counts().sort_index()"
   ]
  },
  {
   "cell_type": "code",
   "execution_count": 97,
   "id": "9e4bfe28",
   "metadata": {},
   "outputs": [
    {
     "name": "stdout",
     "output_type": "stream",
     "text": [
      "6466\n"
     ]
    }
   ],
   "source": [
    "cyclists_total_crashes = 6466\n",
    "print(cyclists_total_crashes)"
   ]
  },
  {
   "cell_type": "code",
   "execution_count": 98,
   "id": "0ab67909",
   "metadata": {},
   "outputs": [
    {
     "data": {
      "text/plain": [
       "(847151, 56)"
      ]
     },
     "execution_count": 98,
     "metadata": {},
     "output_type": "execute_result"
    }
   ],
   "source": [
    "analysis_2022.shape"
   ]
  },
  {
   "cell_type": "code",
   "execution_count": 99,
   "id": "621649af",
   "metadata": {},
   "outputs": [
    {
     "data": {
      "text/plain": [
       "0.8"
      ]
     },
     "execution_count": 99,
     "metadata": {},
     "output_type": "execute_result"
    }
   ],
   "source": [
    "cyclists_percentage = round(cyclists_total_crashes/847151,3)*100\n",
    "cyclists_percentage"
   ]
  },
  {
   "cell_type": "markdown",
   "id": "e1072253",
   "metadata": {},
   "source": [
    "#### Computing % of Injury/Fatality Involving Cyclists "
   ]
  },
  {
   "cell_type": "code",
   "execution_count": 100,
   "id": "e94ab4e3",
   "metadata": {
    "scrolled": true
   },
   "outputs": [
    {
     "data": {
      "text/plain": [
       "Bicycle  Injury or Fatal\n",
       "0        0                  667219\n",
       "         1                  173466\n",
       "1        1                    3611\n",
       "         0                    2855\n",
       "dtype: int64"
      ]
     },
     "execution_count": 100,
     "metadata": {},
     "output_type": "execute_result"
    }
   ],
   "source": [
    "#First find the number of injury/fatalities involving cyclists \n",
    "analysis_2022.value_counts([\"Bicycle\", \"Injury or Fatal\"])"
   ]
  },
  {
   "cell_type": "code",
   "execution_count": 101,
   "id": "d06662eb",
   "metadata": {},
   "outputs": [
    {
     "name": "stdout",
     "output_type": "stream",
     "text": [
      "3611\n"
     ]
    }
   ],
   "source": [
    "#Bicycle = 1 and Injury or Fatal = 1 means crash involving bicycle resulted in injury or fatality\n",
    "cyclists_counts= 3611\n",
    "print (cyclists_counts)"
   ]
  },
  {
   "cell_type": "code",
   "execution_count": 102,
   "id": "3c130549",
   "metadata": {},
   "outputs": [
    {
     "data": {
      "text/plain": [
       "55.800000000000004"
      ]
     },
     "execution_count": 102,
     "metadata": {},
     "output_type": "execute_result"
    }
   ],
   "source": [
    "#Percentage of Injury/Fatality Involving Cyclists\n",
    "cyclists_injuryfatality_percentage = round(cyclists_counts/cyclists_total_crashes, 3)*100\n",
    "cyclists_injuryfatality_percentage"
   ]
  },
  {
   "cell_type": "markdown",
   "id": "e073fd0b",
   "metadata": {},
   "source": [
    "#### No. Fatalities Involving Cyclists - avoiding this code for now so as not to repeat error code... "
   ]
  },
  {
   "cell_type": "markdown",
   "id": "b93aa502",
   "metadata": {},
   "source": [
    "#### Table of Crash Class and Severity - NOT READY NOT, WORK IN PROGRESS "
   ]
  },
  {
   "cell_type": "code",
   "execution_count": 103,
   "id": "d3402043",
   "metadata": {},
   "outputs": [
    {
     "name": "stdout",
     "output_type": "stream",
     "text": [
      "For an NPS service wide perspective, the TSP has aggregated available crash data from 1990 – 2020.  Available below is a list of the most common crash classifications for that time period servicewide for crashes that resulted in a fatality or an injury. A key take away is\n"
     ]
    }
   ],
   "source": [
    "print(\"For an NPS service wide perspective, the TSP has aggregated available crash data from 1990 – 2020.  Available below is a list of the most common crash classifications for that time period servicewide for crashes that resulted in a fatality or an injury. A key take away is\")"
   ]
  },
  {
   "cell_type": "code",
   "execution_count": 104,
   "id": "76ef029d",
   "metadata": {},
   "outputs": [],
   "source": [
    "#Template of code for table but got to figure out values for percentage of total crashes\n",
    "#Values for 100 are fake, will be replaced soon, just put in for sake of balancing table\n",
    "data= {'Collision Type': ['Collision w Animal','Avoiding Animal','Pedestrian', 'Bicycle'], 'Percentage of Total Crashes': [collision_with_animal_percentage,avoiding_animal_percentage,pedestrian_percentage,cyclists_percentage], 'Percentage in Fatality or Injury':[Collisionwanimal_injury_or_fatal, avoiding_animal_injuryfatality_percentage,pedestrian_injuryfatality_percentage,cyclists_injuryfatality_percentage]}"
   ]
  },
  {
   "cell_type": "code",
   "execution_count": 105,
   "id": "a1286953",
   "metadata": {},
   "outputs": [],
   "source": [
    "df = pd.DataFrame(data)"
   ]
  },
  {
   "cell_type": "code",
   "execution_count": 106,
   "id": "63e84c68",
   "metadata": {},
   "outputs": [
    {
     "name": "stdout",
     "output_type": "stream",
     "text": [
      "       Collision Type  Percentage of Total Crashes  \\\n",
      "0  Collision w Animal                        3.100   \n",
      "1     Avoiding Animal                        0.008   \n",
      "2          Pedestrian                        0.800   \n",
      "3             Bicycle                        0.800   \n",
      "\n",
      "   Percentage in Fatality or Injury  \n",
      "0                               6.7  \n",
      "1                               9.2  \n",
      "2                              46.9  \n",
      "3                              55.8  \n"
     ]
    }
   ],
   "source": [
    "print(df)"
   ]
  },
  {
   "cell_type": "markdown",
   "id": "781fa8b9",
   "metadata": {},
   "source": [
    "### Next section will construction bar graph of fatalities and injuries sorted by posted speed \n"
   ]
  },
  {
   "cell_type": "code",
   "execution_count": 32,
   "id": "60414d3b",
   "metadata": {},
   "outputs": [
    {
     "data": {
      "image/png": "[encoded data removed]",
      "text/plain": [
       "<Figure size 432x288 with 1 Axes>"
      ]
     },
     "metadata": {
      "needs_background": "light"
     },
     "output_type": "display_data"
    }
   ],
   "source": [
    "#TEMPLATED EXAMPLE \n",
    "fatalities = [0.1, 17.5, 40, 48, 52, 69, 88, 1,2,3,4,5,6,7,8,9,10]\n",
    "injuries = [2, 8, 70, 1.5, 25, 12, 28, 1,2,3,4,5,6,7,8,9,10]\n",
    "index = [5,10,15,20,25,30,35,40,45,50,55,60,65,70,75]\n",
    "df = pd.DataFrame({'speed': speed,\n",
    "                   'lifespan': lifespan}, index=index)\n",
    "ax = df.plot.bar(rot=0)\n",
    "#TEMPLATE NEED TO ADJUST - first one tests on fatalities and injuries "
   ]
  }
 ],
 "metadata": {
  "kernelspec": {
   "display_name": "Python 3 (ipykernel)",
   "language": "python",
   "name": "python3"
  },
  "language_info": {
   "codemirror_mode": {
    "name": "ipython",
    "version": 3
   },
   "file_extension": ".py",
   "mimetype": "text/x-python",
   "name": "python",
   "nbconvert_exporter": "python",
   "pygments_lexer": "ipython3",
   "version": "3.9.12"
  }
 },
 "nbformat": 4,
 "nbformat_minor": 5
}
