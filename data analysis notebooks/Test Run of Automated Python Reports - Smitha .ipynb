{
 "cells": [
  {
   "cell_type": "markdown",
   "id": "c817fabd",
   "metadata": {},
   "source": [
    "## Test Run of Regional and National Briefings\n",
    "#### Author: Smitha Mahesh \n",
    "### Purpose: To test run the template to automate the production of 7 regional briefings and 8 regional briefings "
   ]
  },
  {
   "cell_type": "code",
   "execution_count": 1,
   "id": "585d4fda",
   "metadata": {},
   "outputs": [],
   "source": [
    "import pandas as pd\n",
    "import numpy as np\n",
    "import os"
   ]
  },
  {
   "cell_type": "code",
   "execution_count": 3,
   "id": "8f76c3f9",
   "metadata": {},
   "outputs": [],
   "source": [
    "myworkingdirectory = r\"C:\\Users\\smitha.mahesh\\Desktop\\Old Data Test Run\"\n",
    "os.chdir(myworkingdirectory)"
   ]
  },
  {
   "cell_type": "code",
   "execution_count": 5,
   "id": "388a2477",
   "metadata": {},
   "outputs": [
    {
     "name": "stdout",
     "output_type": "stream",
     "text": [
      "crash_data_joined.csv\n",
      "crash_data_joined.xlsx\n"
     ]
    }
   ],
   "source": [
    "files = os.listdir(myworkingdirectory)\n",
    "for f in files:\n",
    "    print(f)"
   ]
  },
  {
   "cell_type": "code",
   "execution_count": 6,
   "id": "d79f5dcc",
   "metadata": {},
   "outputs": [],
   "source": [
    "os.chdir(myworkingdirectory)"
   ]
  },
  {
   "cell_type": "code",
   "execution_count": 7,
   "id": "7602c63f",
   "metadata": {},
   "outputs": [
    {
     "name": "stderr",
     "output_type": "stream",
     "text": [
      "C:\\Users\\Smitha.Mahesh\\AppData\\Local\\Temp\\ipykernel_20076\\641417500.py:1: DtypeWarning: Columns (1) have mixed types. Specify dtype option on import or set low_memory=False.\n",
      "  old_data_joined = pd.read_csv(\"crash_data_joined.csv\")\n"
     ]
    }
   ],
   "source": [
    "old_data_joined = pd.read_csv(\"crash_data_joined.csv\")"
   ]
  },
  {
   "cell_type": "code",
   "execution_count": 8,
   "id": "d499e36f",
   "metadata": {},
   "outputs": [
    {
     "data": {
      "text/plain": [
       "Index(['INCID_NO', 'CASENUM', 'NUM_OCC', 'Non-Collision',\n",
       "       'Collision with Other Motor Vehicle', 'Collision with Fixed Object',\n",
       "       'Collision with Pedestrian', 'Collision with Bicycle',\n",
       "       'Collision with Parked Motor Vehicle', 'Collision with Railway Train',\n",
       "       'Collision with Animal', 'Collision with Other Object',\n",
       "       'Collision with Unknown', 'Other Accident Class', 'No Injury',\n",
       "       'Possible Injury', 'Non-incapacitating Injury', 'Incapacitating Injury',\n",
       "       'Fatality', 'Unknown Injury', 'PARK_ALPHA', 'STATE', 'CRASH_DATE',\n",
       "       'CRASH_TIME', 'LATITUDE', 'LONGITUDE', 'FATALS', 'INJURED',\n",
       "       'Data_Origin', 'UNIT_NAME', 'REGION', 'UNIT_TYPE', '_merge'],\n",
       "      dtype='object')"
      ]
     },
     "execution_count": 8,
     "metadata": {},
     "output_type": "execute_result"
    }
   ],
   "source": [
    "old_data_joined.columns"
   ]
  },
  {
   "cell_type": "code",
   "execution_count": 23,
   "id": "6ecfde40",
   "metadata": {},
   "outputs": [
    {
     "data": {
      "text/plain": [
       "0    193135\n",
       "1     19822\n",
       "Name: Collision with Animal, dtype: int64"
      ]
     },
     "execution_count": 23,
     "metadata": {},
     "output_type": "execute_result"
    }
   ],
   "source": [
    "old_data_joined['Collision with Animal'].value_counts().sort_index()"
   ]
  },
  {
   "cell_type": "code",
   "execution_count": 30,
   "id": "d53167f6",
   "metadata": {
    "scrolled": true
   },
   "outputs": [
    {
     "data": {
      "text/plain": [
       "(0, 33)"
      ]
     },
     "execution_count": 30,
     "metadata": {},
     "output_type": "execute_result"
    }
   ],
   "source": [
    "old_data_joined.loc[old_data_joined['Collision with Animal']=='1'].shape\n",
    "#collision_with_animal = old_data_joined.loc[old_data_joined['Collision with Animal'].str.contains(\"1\")==True]\n",
    "#collision_with_animal['Collision with Animal']"
   ]
  },
  {
   "cell_type": "code",
   "execution_count": 31,
   "id": "0d735a02",
   "metadata": {},
   "outputs": [
    {
     "data": {
      "text/plain": [
       "(212957, 33)"
      ]
     },
     "execution_count": 31,
     "metadata": {},
     "output_type": "execute_result"
    }
   ],
   "source": [
    "old_data_joined.shape"
   ]
  },
  {
   "cell_type": "code",
   "execution_count": 33,
   "id": "a313dfd2",
   "metadata": {
    "scrolled": true
   },
   "outputs": [
    {
     "data": {
      "text/plain": [
       "9.3"
      ]
     },
     "execution_count": 33,
     "metadata": {},
     "output_type": "execute_result"
    }
   ],
   "source": [
    "#Computing the percentage of total crashes for collision with animal\n",
    "collision_with_animal_percentage = round(19822/212957,3)*100\n",
    "collision_with_animal_percentage"
   ]
  },
  {
   "cell_type": "code",
   "execution_count": 59,
   "id": "f0357b30",
   "metadata": {},
   "outputs": [
    {
     "data": {
      "text/plain": [
       "0         33\n",
       "1         33\n",
       "2         33\n",
       "3         33\n",
       "4         33\n",
       "          ..\n",
       "212952    32\n",
       "212953    32\n",
       "212954    32\n",
       "212955    32\n",
       "212956    32\n",
       "Length: 212957, dtype: int64"
      ]
     },
     "execution_count": 59,
     "metadata": {},
     "output_type": "execute_result"
    }
   ],
   "source": [
    "#Computing Number of Fatalities Among Collisions with Animals \n"
   ]
  },
  {
   "cell_type": "code",
   "execution_count": 55,
   "id": "76ef029d",
   "metadata": {},
   "outputs": [],
   "source": [
    "#Template of code for table but got to figure out values for percentage of total crashes\n",
    "data= {'Collision Type': ['Collision with Animal','Collision with Other Motor Vehicle',], 'Percentage of Total Crashes': [collision_with_animal,100]}"
   ]
  },
  {
   "cell_type": "code",
   "execution_count": 56,
   "id": "a1286953",
   "metadata": {},
   "outputs": [],
   "source": [
    "df = pd.DataFrame(data)"
   ]
  },
  {
   "cell_type": "code",
   "execution_count": 57,
   "id": "63e84c68",
   "metadata": {},
   "outputs": [
    {
     "name": "stdout",
     "output_type": "stream",
     "text": [
      "                       Collision Type  Percentage of Total Crashes\n",
      "0               Collision with Animal                          9.3\n",
      "1  Collision with Other Motor Vehicle                        100.0\n"
     ]
    }
   ],
   "source": [
    "print(df)"
   ]
  },
  {
   "cell_type": "code",
   "execution_count": null,
   "id": "60414d3b",
   "metadata": {},
   "outputs": [],
   "source": []
  }
 ],
 "metadata": {
  "kernelspec": {
   "display_name": "Python 3 (ipykernel)",
   "language": "python",
   "name": "python3"
  },
  "language_info": {
   "codemirror_mode": {
    "name": "ipython",
    "version": 3
   },
   "file_extension": ".py",
   "mimetype": "text/x-python",
   "name": "python",
   "nbconvert_exporter": "python",
   "pygments_lexer": "ipython3",
   "version": "3.9.12"
  }
 },
 "nbformat": 4,
 "nbformat_minor": 5
}
