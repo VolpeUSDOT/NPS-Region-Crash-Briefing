{
 "cells": [
  {
   "cell_type": "markdown",
   "id": "c817fabd",
   "metadata": {},
   "source": [
    "## Test Run of Regional and National Briefings\n",
    "#### Author: Smitha Mahesh \n",
    "### Purpose: To test run the template to automate the production of 7 regional briefings and 8 regional briefings. I started using the actual datafile completed by Sophie to be able to test all variables of interest."
   ]
  },
  {
   "cell_type": "code",
   "execution_count": 1,
   "id": "585d4fda",
   "metadata": {},
   "outputs": [],
   "source": [
    "import pandas as pd\n",
    "import numpy as np\n",
    "import os"
   ]
  },
  {
   "cell_type": "code",
   "execution_count": 2,
   "id": "8f76c3f9",
   "metadata": {
    "scrolled": true
   },
   "outputs": [],
   "source": [
    "myworkingdirectory = r\"H:\\NPS TSP Project\"\n",
    "#Jupyter Notebook does not allow using a sharepoint link for the working directory. You have to download the file and then reroute to your working directory to where you downloaded the file "
   ]
  },
  {
   "cell_type": "code",
   "execution_count": 3,
   "id": "388a2477",
   "metadata": {},
   "outputs": [
    {
     "ename": "FileNotFoundError",
     "evalue": "[WinError 3] The system cannot find the path specified: 'H:\\\\NPS TSP Project'",
     "output_type": "error",
     "traceback": [
      "\u001b[1;31m---------------------------------------------------------------------------\u001b[0m",
      "\u001b[1;31mFileNotFoundError\u001b[0m                         Traceback (most recent call last)",
      "Input \u001b[1;32mIn [3]\u001b[0m, in \u001b[0;36m<cell line: 1>\u001b[1;34m()\u001b[0m\n\u001b[1;32m----> 1\u001b[0m files \u001b[38;5;241m=\u001b[39m \u001b[43mos\u001b[49m\u001b[38;5;241;43m.\u001b[39;49m\u001b[43mlistdir\u001b[49m\u001b[43m(\u001b[49m\u001b[43mmyworkingdirectory\u001b[49m\u001b[43m)\u001b[49m\n\u001b[0;32m      2\u001b[0m \u001b[38;5;28;01mfor\u001b[39;00m f \u001b[38;5;129;01min\u001b[39;00m files:\n\u001b[0;32m      3\u001b[0m     \u001b[38;5;28mprint\u001b[39m(f)\n",
      "\u001b[1;31mFileNotFoundError\u001b[0m: [WinError 3] The system cannot find the path specified: 'H:\\\\NPS TSP Project'"
     ]
    }
   ],
   "source": [
    "files = os.listdir(myworkingdirectory)\n",
    "for f in files:\n",
    "    print(f)"
   ]
  },
  {
   "cell_type": "code",
   "execution_count": 5,
   "id": "d79f5dcc",
   "metadata": {},
   "outputs": [],
   "source": [
    "os.chdir(myworkingdirectory)"
   ]
  },
  {
   "cell_type": "code",
   "execution_count": 6,
   "id": "7602c63f",
   "metadata": {},
   "outputs": [],
   "source": [
    "analysis_2022 = pd.read_csv(\"analysis_database_2022.csv\")"
   ]
  },
  {
   "cell_type": "code",
   "execution_count": 7,
   "id": "d499e36f",
   "metadata": {},
   "outputs": [
    {
     "data": {
      "text/plain": [
       "Index(['INCID_NO', '5_mph', '10_mph', '15_mph', '20_mph', '25_mph', '30_mph',\n",
       "       '35_mph', '40_mph', '45_mph', '50_mph', '55_mph', '60_mph', '65_mph',\n",
       "       '70_mph', '75_mph', 'no_posted_speed', 'Crosswalk',\n",
       "       'Outside a Crosswalk', 'NUM_OCC', 'No Injury', 'Possible Injury',\n",
       "       'Non-incapacitating Injury', 'Incapacitating Injury', 'Fatality',\n",
       "       'Unknown Injury', 'Motorist Distraction', 'Non-motorist Distraction',\n",
       "       'Num_Fatalities', 'Num_Injuries', 'Injury or Fatal',\n",
       "       'Collision w Animal', 'Collision w Fixed Object', 'Non-Collision',\n",
       "       'Other Accident Class', 'Rollover', 'Collision w Other Vehicle',\n",
       "       'Collision w Parked Vehicle', 'Collision w Train',\n",
       "       'Collision w Other Object', 'Collision w Unknown', 'Roadway Departure',\n",
       "       'Avoiding Animal', 'Falling Object', 'Pedestrian', 'Bicycle',\n",
       "       'Pedacycle', 'VRU', 'HorseLlama', 'Cow', 'Deer', 'Elk', 'Moose',\n",
       "       'Buffalo', 'Bear', 'Antelope', 'SheepGoats', 'OtherWild',\n",
       "       'OtherDomestic', 'Rock in Roadway', 'Animal in Roadway', 'Rockfall',\n",
       "       'LATITUDE', 'LONGITUDE', 'Park', 'RGN', 'CRASH_DATE', 'CRASH_TIME',\n",
       "       'CRASH_YEAR', 'database'],\n",
       "      dtype='object')"
      ]
     },
     "execution_count": 7,
     "metadata": {},
     "output_type": "execute_result"
    }
   ],
   "source": [
    "analysis_2022.columns"
   ]
  },
  {
   "cell_type": "markdown",
   "id": "b2c66397",
   "metadata": {},
   "source": [
    "# National Data Trends "
   ]
  },
  {
   "cell_type": "markdown",
   "id": "475c0d7d",
   "metadata": {},
   "source": [
    "### Collisions with Animals Severity"
   ]
  },
  {
   "cell_type": "markdown",
   "id": "3345e567",
   "metadata": {},
   "source": [
    "#### Computing % of Total Crashes by Collision with Animals "
   ]
  },
  {
   "cell_type": "code",
   "execution_count": 37,
   "id": "f7e4c1b2",
   "metadata": {
    "scrolled": true
   },
   "outputs": [
    {
     "name": "stdout",
     "output_type": "stream",
     "text": [
      "                INCID_NO  5_mph  10_mph  15_mph  20_mph  25_mph  30_mph  \\\n",
      "50        ACAD0000000807    0.0     0.0     0.0     0.0     0.0     0.0   \n",
      "106     ACAD000919090000    0.0     0.0     0.0     0.0     0.0     0.0   \n",
      "145       ACAD0100000459    0.0     0.0     0.0     0.0     0.0     0.0   \n",
      "166       ACAD0100000775    0.0     0.0     0.0     0.0     0.0     0.0   \n",
      "176       ACAD0100001162    0.0     0.0     0.0     0.0     0.0     0.0   \n",
      "...                  ...    ...     ...     ...     ...     ...     ...   \n",
      "206023        NP20125801    0.0     0.0     0.0     0.0     0.0     0.0   \n",
      "206053        NP20127998    0.0     0.0     0.0     0.0     0.0     0.0   \n",
      "206065        NP20128193    0.0     0.0     0.0     0.0     0.0     0.0   \n",
      "206102        NP20130774    0.0     0.0     0.0     0.0     0.0     0.0   \n",
      "206103        NP20130889    0.0     0.0     0.0     0.0     0.0     0.0   \n",
      "\n",
      "        35_mph  40_mph  45_mph  ...  Animal in Roadway  Rockfall   LATITUDE  \\\n",
      "50         1.0     0.0     0.0  ...                1.0       0.0        NaN   \n",
      "106        1.0     0.0     0.0  ...                1.0       0.0        NaN   \n",
      "145        1.0     0.0     0.0  ...                1.0       0.0        NaN   \n",
      "166        1.0     0.0     0.0  ...                1.0       0.0        NaN   \n",
      "176        1.0     0.0     0.0  ...                1.0       0.0        NaN   \n",
      "...        ...     ...     ...  ...                ...       ...        ...   \n",
      "206023     0.0     1.0     0.0  ...                1.0       0.0  40.100297   \n",
      "206053     0.0     0.0     1.0  ...                1.0       0.0        NaN   \n",
      "206065     0.0     0.0     1.0  ...                0.0       0.0        NaN   \n",
      "206102     1.0     0.0     0.0  ...                1.0       0.0        NaN   \n",
      "206103     1.0     0.0     0.0  ...                0.0       0.0        NaN   \n",
      "\n",
      "        LONGITUDE  Park  RGN  CRASH_DATE  CRASH_TIME  CRASH_YEAR  database  \n",
      "50            NaN  ACAD  NER  2000-09-19         900      2000.0       CDS  \n",
      "106           NaN  ACAD  NER  2000-09-19         900      2000.0       CDS  \n",
      "145           NaN  ACAD  NER  2001-07-31        2110      2001.0       CDS  \n",
      "166           NaN  ACAD  NER  2001-08-25        1630      2001.0       CDS  \n",
      "176           NaN  ACAD  NER  2001-10-26        1750      2001.0       CDS  \n",
      "...           ...   ...  ...         ...         ...         ...       ...  \n",
      "206023 -75.420135  VAFO  NER  2020-09-08         945      2020.0     IMARS  \n",
      "206053        NaN  YELL  IMR  2016-08-23        1716      2016.0     IMARS  \n",
      "206065        NaN  LINC  NCR  2017-02-14        1400      2017.0     IMARS  \n",
      "206102        NaN  DEWA  NER  2020-05-02        1747      2020.0     IMARS  \n",
      "206103        NaN  YELL  IMR  2020-09-19        1832      2020.0     IMARS  \n",
      "\n",
      "[19294 rows x 70 columns]\n"
     ]
    }
   ],
   "source": [
    "#First need to create a dataframe where collision w animals equals 1 \n",
    "collisionwanimals = analysis_2022[analysis_2022['Collision w Animal'] == 1]\n",
    "print(collisionwanimals)"
   ]
  },
  {
   "cell_type": "code",
   "execution_count": 59,
   "id": "06b25dd1",
   "metadata": {},
   "outputs": [
    {
     "name": "stdout",
     "output_type": "stream",
     "text": [
      "19294\n"
     ]
    }
   ],
   "source": [
    "#Obtaining number of crashes where collision w animals is 1 or True \n",
    "colliwionwanimal_total_crashes = collisionwanimals.shape[0]\n",
    "print(collisionwanimal_total_crashes)"
   ]
  },
  {
   "cell_type": "code",
   "execution_count": 60,
   "id": "0d735a02",
   "metadata": {
    "scrolled": true
   },
   "outputs": [
    {
     "name": "stdout",
     "output_type": "stream",
     "text": [
      "206111\n"
     ]
    }
   ],
   "source": [
    "#Obtaining total number of crashes in the entire dataset \n",
    "total_crashes = analysis_2022.shape[0]\n",
    "print(total_crashes)"
   ]
  },
  {
   "cell_type": "code",
   "execution_count": 61,
   "id": "a313dfd2",
   "metadata": {
    "scrolled": true
   },
   "outputs": [
    {
     "data": {
      "text/plain": [
       "9.4"
      ]
     },
     "execution_count": 61,
     "metadata": {},
     "output_type": "execute_result"
    }
   ],
   "source": [
    "collision_with_animal_percentage = round(collisionwanimal_total_crashes/total_crashes,3)*100\n",
    "collision_with_animal_percentage"
   ]
  },
  {
   "cell_type": "markdown",
   "id": "3a08c753",
   "metadata": {},
   "source": [
    "#### Computing No. of Injuries Among Collisions with Animals"
   ]
  },
  {
   "cell_type": "code",
   "execution_count": 62,
   "id": "f9ae2878",
   "metadata": {},
   "outputs": [
    {
     "name": "stdout",
     "output_type": "stream",
     "text": [
      "1578.0\n"
     ]
    }
   ],
   "source": [
    "numinjuries_collisionwanimals = collisionwanimals['Num_Injuries'].sum()\n",
    "print(numinjuries_collisionwanimals)"
   ]
  },
  {
   "cell_type": "markdown",
   "id": "ec1aa2a3",
   "metadata": {},
   "source": [
    "#### Computing No. Fatalities Among Collisions with Animals \n"
   ]
  },
  {
   "cell_type": "code",
   "execution_count": 63,
   "id": "1fd44b97",
   "metadata": {
    "scrolled": true
   },
   "outputs": [
    {
     "name": "stdout",
     "output_type": "stream",
     "text": [
      "18.0\n"
     ]
    }
   ],
   "source": [
    "numfatalities_collisionwanimals = collisionwanimals['Num_Fatalities'].sum()\n",
    "print(numfatalities_collisionwanimals)\n"
   ]
  },
  {
   "cell_type": "markdown",
   "id": "c0c2e9c9",
   "metadata": {},
   "source": [
    "### Avoiding Animals (aka Animal-Related Crashes) Severity "
   ]
  },
  {
   "cell_type": "markdown",
   "id": "bec21e7f",
   "metadata": {},
   "source": [
    "#### Computing % of Crashes caused by Avoiding Animals "
   ]
  },
  {
   "cell_type": "code",
   "execution_count": 64,
   "id": "683455b5",
   "metadata": {
    "scrolled": true
   },
   "outputs": [
    {
     "name": "stdout",
     "output_type": "stream",
     "text": [
      "          INCID_NO  5_mph  10_mph  15_mph  20_mph  25_mph  30_mph  35_mph  \\\n",
      "194450  NP13008174    0.0     0.0     0.0     0.0     0.0     0.0     0.0   \n",
      "194494  NP13011654    0.0     0.0     0.0     0.0     0.0     0.0     0.0   \n",
      "194506  NP13015496    0.0     0.0     0.0     0.0     0.0     0.0     0.0   \n",
      "194568  NP13023989    0.0     0.0     0.0     0.0     0.0     0.0     0.0   \n",
      "194631  NP13036954    0.0     0.0     0.0     0.0     0.0     0.0     0.0   \n",
      "194642  NP13042259    0.0     0.0     0.0     0.0     0.0     0.0     0.0   \n",
      "194664  NP13042662    0.0     0.0     0.0     0.0     0.0     0.0     0.0   \n",
      "194897  NP16039257    0.0     0.0     0.0     0.0     0.0     0.0     0.0   \n",
      "194918  NP16042041    0.0     0.0     0.0     0.0     0.0     1.0     0.0   \n",
      "195135  NP16066518    0.0     0.0     0.0     0.0     0.0     0.0     0.0   \n",
      "196098  NP16176813    0.0     0.0     0.0     0.0     1.0     0.0     0.0   \n",
      "196271  NP16196215    0.0     0.0     0.0     0.0     0.0     0.0     0.0   \n",
      "197066  NP17067913    0.0     0.0     0.0     0.0     0.0     0.0     0.0   \n",
      "197258  NP17091733    0.0     0.0     0.0     0.0     0.0     0.0     0.0   \n",
      "197333  NP17102129    0.0     0.0     0.0     0.0     0.0     0.0     1.0   \n",
      "197709  NP17146047    0.0     0.0     0.0     0.0     0.0     0.0     1.0   \n",
      "197791  NP17158314    0.0     0.0     0.0     0.0     0.0     0.0     0.0   \n",
      "198159  NP17207195    0.0     0.0     0.0     0.0     1.0     0.0     0.0   \n",
      "198295  NP18004927    0.0     0.0     0.0     0.0     0.0     0.0     1.0   \n",
      "198833  NP18055805    0.0     0.0     0.0     0.0     0.0     0.0     0.0   \n",
      "199254  NP18086050    0.0     0.0     0.0     0.0     0.0     0.0     1.0   \n",
      "199691  NP18115759    0.0     0.0     0.0     0.0     0.0     0.0     1.0   \n",
      "201017  NP18198545    0.0     0.0     0.0     0.0     0.0     0.0     1.0   \n",
      "202047  NP19043698    0.0     0.0     0.0     0.0     0.0     0.0     0.0   \n",
      "202207  NP19053644    0.0     0.0     0.0     0.0     0.0     0.0     0.0   \n",
      "202318  NP19060136    0.0     0.0     0.0     0.0     0.0     0.0     0.0   \n",
      "202598  NP19082403    0.0     0.0     0.0     0.0     0.0     0.0     0.0   \n",
      "202705  NP19090892    0.0     0.0     0.0     0.0     0.0     0.0     0.0   \n",
      "202734  NP19094043    0.0     0.0     0.0     0.0     0.0     0.0     1.0   \n",
      "202769  NP19097561    0.0     0.0     0.0     0.0     0.0     0.0     1.0   \n",
      "202780  NP19098285    0.0     0.0     0.0     0.0     1.0     0.0     0.0   \n",
      "202795  NP19099606    0.0     0.0     0.0     0.0     0.0     0.0     0.0   \n",
      "203430  NP19149802    0.0     0.0     0.0     1.0     0.0     0.0     0.0   \n",
      "203659  NP19163379    0.0     0.0     0.0     0.0     0.0     0.0     1.0   \n",
      "203827  NP19172864    0.0     0.0     0.0     0.0     0.0     0.0     1.0   \n",
      "204016  NP19182562    0.0     0.0     0.0     0.0     0.0     0.0     0.0   \n",
      "204872  NP20029580    0.0     0.0     0.0     0.0     1.0     0.0     0.0   \n",
      "204997  NP20041756    0.0     0.0     0.0     0.0     0.0     0.0     0.0   \n",
      "205334  NP20070908    0.0     0.0     0.0     0.0     0.0     0.0     1.0   \n",
      "205629  NP20094255    0.0     0.0     0.0     0.0     0.0     0.0     0.0   \n",
      "205692  NP20099535    0.0     0.0     0.0     0.0     0.0     0.0     1.0   \n",
      "205896  NP20114687    0.0     0.0     0.0     0.0     0.0     0.0     0.0   \n",
      "\n",
      "        40_mph  45_mph  ...  Animal in Roadway  Rockfall   LATITUDE  \\\n",
      "194450     0.0     0.0  ...                0.0       0.0        NaN   \n",
      "194494     0.0     0.0  ...                0.0       0.0        NaN   \n",
      "194506     0.0     0.0  ...                0.0       0.0        NaN   \n",
      "194568     0.0     0.0  ...                0.0       0.0  44.567156   \n",
      "194631     0.0     0.0  ...                0.0       0.0        NaN   \n",
      "194642     0.0     0.0  ...                0.0       0.0        NaN   \n",
      "194664     0.0     0.0  ...                0.0       0.0        NaN   \n",
      "194897     0.0     1.0  ...                1.0       0.0        NaN   \n",
      "194918     0.0     0.0  ...                1.0       0.0        NaN   \n",
      "195135     0.0     0.0  ...                1.0       0.0        NaN   \n",
      "196098     0.0     0.0  ...                0.0       0.0        NaN   \n",
      "196271     0.0     1.0  ...                1.0       0.0  39.696300   \n",
      "197066     0.0     1.0  ...                1.0       0.0  38.883641   \n",
      "197258     0.0     0.0  ...                0.0       0.0  39.055000   \n",
      "197333     0.0     0.0  ...                1.0       0.0        NaN   \n",
      "197709     0.0     0.0  ...                1.0       0.0  38.000000   \n",
      "197791     0.0     1.0  ...                1.0       0.0  42.896667   \n",
      "198159     0.0     0.0  ...                1.0       0.0  38.912866   \n",
      "198295     0.0     0.0  ...                1.0       0.0        NaN   \n",
      "198833     0.0     1.0  ...                1.0       0.0  36.177950   \n",
      "199254     0.0     0.0  ...                1.0       0.0   0.000000   \n",
      "199691     0.0     0.0  ...                1.0       0.0  38.887553   \n",
      "201017     0.0     0.0  ...                0.0       0.0  38.925495   \n",
      "202047     0.0     0.0  ...                1.0       0.0  37.736769   \n",
      "202207     0.0     1.0  ...                1.0       0.0  40.540750   \n",
      "202318     0.0     1.0  ...                1.0       0.0  39.114000   \n",
      "202598     0.0     0.0  ...                0.0       0.0  38.889555   \n",
      "202705     0.0     1.0  ...                1.0       0.0  33.982000   \n",
      "202734     0.0     0.0  ...                0.0       0.0  32.741914   \n",
      "202769     0.0     0.0  ...                1.0       0.0  38.886331   \n",
      "202780     0.0     0.0  ...                1.0       0.0  37.270360   \n",
      "202795     0.0     1.0  ...                0.0       0.0        NaN   \n",
      "203430     0.0     0.0  ...                1.0       0.0  38.878653   \n",
      "203659     0.0     0.0  ...                1.0       0.0  34.279187   \n",
      "203827     0.0     0.0  ...                1.0       0.0        NaN   \n",
      "204016     0.0     1.0  ...                1.0       0.0        NaN   \n",
      "204872     0.0     0.0  ...                1.0       0.0        NaN   \n",
      "204997     0.0     1.0  ...                1.0       0.0  36.210004   \n",
      "205334     0.0     0.0  ...                0.0       0.0        NaN   \n",
      "205629     0.0     0.0  ...                1.0       0.0  38.887830   \n",
      "205692     0.0     0.0  ...                1.0       0.0  38.908908   \n",
      "205896     0.0     0.0  ...                1.0       0.0  35.319782   \n",
      "\n",
      "         LONGITUDE  Park  RGN  CRASH_DATE  CRASH_TIME  CRASH_YEAR  database  \n",
      "194450         NaN  YOSE  PWR  2016-06-07        1538      2016.0     IMARS  \n",
      "194494         NaN  BUFF  MWR  2016-06-18        1711      2016.0     IMARS  \n",
      "194506         NaN  YOSE  PWR  2016-06-21        1514      2016.0     IMARS  \n",
      "194568 -110.383301  YELL  IMR  2016-07-07        1454      2016.0     IMARS  \n",
      "194631         NaN  YELL  IMR  2016-07-27        2018      2016.0     IMARS  \n",
      "194642         NaN  YOSE  PWR  2016-07-29        1322      2016.0     IMARS  \n",
      "194664         NaN  YOSE  PWR  2016-08-03        1225      2016.0     IMARS  \n",
      "194897         NaN  YELL  IMR  2016-11-21        1314      2016.0     IMARS  \n",
      "194918         NaN  YELL  IMR  2016-12-15        1141      2016.0     IMARS  \n",
      "195135         NaN  LAKE  PWR  2017-06-28        2215      2017.0     IMARS  \n",
      "196098         NaN  CUGA  SER  2018-06-19        1737      2018.0     IMARS  \n",
      "196271 -105.149000  GLAC  IMR  2018-07-06        1721      2018.0     IMARS  \n",
      "197066 -177.056756  GWMP  NCR  2018-09-26        1150      2018.0     IMARS  \n",
      "197258  -76.830000  BAWA  NCR  2018-10-23         610      2018.0     IMARS  \n",
      "197333         NaN  SHEN  NER  2018-11-03        1459      2018.0     IMARS  \n",
      "197709  -76.000000  BAWA  NCR  2019-01-08         500      2019.0     IMARS  \n",
      "197791 -122.136111  CRLA  PWR  2019-01-21        1130      2019.0     IMARS  \n",
      "198159  -77.054526  ROCR  NCR  2019-04-05        1855      2019.0     IMARS  \n",
      "198295         NaN  CHIC  IMR  2019-04-27        2042      2019.0     IMARS  \n",
      "198833 -114.766660  LAKE  PWR  2019-06-29        2130      2019.0     IMARS  \n",
      "199254    0.000000  REDW  PWR  2019-08-02         720      2019.0     IMARS  \n",
      "199691  -77.041248  MLND  NCR  2019-09-10        1731      2019.0     IMARS  \n",
      "201017  -76.929413  BAWA  NCR  2020-03-25        1839      2020.0     IMARS  \n",
      "202047 -119.570689  YOSE  PWR  2020-08-28        1955      2020.0     IMARS  \n",
      "202207  -74.127583  GATE  NER  2020-09-12        1515      2020.0     IMARS  \n",
      "202318  -76.770000  BAWA  NCR  2020-09-26         426      2020.0     IMARS  \n",
      "202598  -77.063374  GWMP  NCR  2020-10-31         546      2020.0     IMARS  \n",
      "202705  -84.586600  KEMO  SER  2020-11-16        1554      2020.0     IMARS  \n",
      "202734  -89.688981  NATR  SER  2020-11-21        1845      2020.0     IMARS  \n",
      "202769  -77.059894  GWMP  NCR  2020-11-27        1418      2020.0     IMARS  \n",
      "202780  -76.567860  COLO  NER  2020-11-30         411      2020.0     IMARS  \n",
      "202795         NaN  ORPI  IMR  2020-12-03        1458      2020.0     IMARS  \n",
      "203430  -77.029617  MLND  NCR  2021-04-12          51      2021.0     IMARS  \n",
      "203659  -88.734874  NATR  SER  2021-05-22        1637      2021.0     IMARS  \n",
      "203827         NaN  GRTE  IMR  2021-06-09        1253      2021.0     IMARS  \n",
      "204016         NaN  BLRI  SER  2021-06-26        2048      2021.0     IMARS  \n",
      "204872         NaN  COLM  IMR  2021-09-24        1935      2021.0     IMARS  \n",
      "204997 -112.059797  GRCA  IMR  2021-10-11        1316      2021.0     IMARS  \n",
      "205334         NaN  NATR  SER  2021-11-27        1718      2021.0     IMARS  \n",
      "205629  -77.051815  GWMP  NCR  2016-08-23        1400      2016.0     IMARS  \n",
      "205692  -77.053296  NACA  NCR  2016-11-30        1258      2016.0     IMARS  \n",
      "205896  -82.847648  BLRI  SER  2017-11-17           0      2017.0     IMARS  \n",
      "\n",
      "[42 rows x 70 columns]\n"
     ]
    }
   ],
   "source": [
    "avoidinganimals = analysis_2022[analysis_2022['Avoiding Animal'] == 1]\n",
    "print(avoidinganimals)"
   ]
  },
  {
   "cell_type": "code",
   "execution_count": 66,
   "id": "e5b15340",
   "metadata": {},
   "outputs": [
    {
     "name": "stdout",
     "output_type": "stream",
     "text": [
      "42\n"
     ]
    }
   ],
   "source": [
    "#Obtaining number of crashes where avoiding animal is 1 or True \n",
    "avoidinganimal_total = avoidinganimals.shape[0]\n",
    "print(avoidinganimal_total)"
   ]
  },
  {
   "cell_type": "code",
   "execution_count": 70,
   "id": "ca6ae328",
   "metadata": {},
   "outputs": [
    {
     "data": {
      "text/plain": [
       "0.02"
      ]
     },
     "execution_count": 70,
     "metadata": {},
     "output_type": "execute_result"
    }
   ],
   "source": [
    "avoiding_animal_percentage = round(avoidinganimal_total/total_crashes, 5)*100\n",
    "avoiding_animal_percentage"
   ]
  },
  {
   "cell_type": "markdown",
   "id": "4e66f7b9",
   "metadata": {},
   "source": [
    "#### Computing No. of Injuries Among Collisions with Animals"
   ]
  },
  {
   "cell_type": "code",
   "execution_count": 71,
   "id": "a6e8cfa6",
   "metadata": {
    "scrolled": true
   },
   "outputs": [
    {
     "name": "stdout",
     "output_type": "stream",
     "text": [
      "6.0\n"
     ]
    }
   ],
   "source": [
    "numinjuries_avoidinganimals = avoidinganimals['Num_Injuries'].sum()\n",
    "print(numinjuries_avoidinganimals)"
   ]
  },
  {
   "cell_type": "markdown",
   "id": "13816c14",
   "metadata": {},
   "source": [
    "#### Computing No. of Fatalities Among Avoiding Animals "
   ]
  },
  {
   "cell_type": "code",
   "execution_count": 73,
   "id": "bfb22ee7",
   "metadata": {
    "scrolled": true
   },
   "outputs": [
    {
     "name": "stdout",
     "output_type": "stream",
     "text": [
      "0.0\n"
     ]
    }
   ],
   "source": [
    "numfatalities_avoidinganimals = avoidinganimals['Num_Fatalities'].sum()\n",
    "print(numfatalities_avoidinganimals)"
   ]
  },
  {
   "cell_type": "markdown",
   "id": "fdf278ee",
   "metadata": {},
   "source": [
    "#### Table of National Trends"
   ]
  },
  {
   "cell_type": "code",
   "execution_count": 80,
   "id": "0ba94606",
   "metadata": {},
   "outputs": [],
   "source": [
    "#How do I compute sub-totals? \n",
    "nationaldata= {'Collision Type': ['Collision w Animal','Avoiding Animal'], 'Percentage of Total Crashes': [collision_with_animal_percentage,avoiding_animal_percentage], 'Number of Injuries':[numinjuries_collisionwanimals, numinjuries_avoidinganimals], 'Number of Fatalities':[numfatalities_collisionwanimals,numfatalities_avoidinganimals]}"
   ]
  },
  {
   "cell_type": "code",
   "execution_count": 81,
   "id": "d8370c71",
   "metadata": {},
   "outputs": [],
   "source": [
    "df = pd.DataFrame(nationaldata)"
   ]
  },
  {
   "cell_type": "code",
   "execution_count": 82,
   "id": "13379161",
   "metadata": {},
   "outputs": [
    {
     "name": "stdout",
     "output_type": "stream",
     "text": [
      "       Collision Type  Percentage of Total Crashes  Number of Injuries  \\\n",
      "0  Collision w Animal                         9.40              1578.0   \n",
      "1     Avoiding Animal                         0.02                 6.0   \n",
      "\n",
      "   Number of Fatalities  \n",
      "0                  18.0  \n",
      "1                   0.0  \n"
     ]
    }
   ],
   "source": [
    "print(df)"
   ]
  },
  {
   "cell_type": "markdown",
   "id": "ed5746b4",
   "metadata": {},
   "source": [
    "# Regional Briefing Data Overview - Loop "
   ]
  },
  {
   "cell_type": "code",
   "execution_count": 84,
   "id": "1d7c85b1",
   "metadata": {},
   "outputs": [],
   "source": [
    "for RGN in analysis_2022:\n",
    "    collisionwanimalsRGN = analysis_2022[analysis_2022['Collision w Animal'] == 1]\n",
    "    #colliwionwanimal_total_crashesRGN = collisionwanimalsRGN.shape[0]\n",
    "    #total_crashes = analysis_2022.shape[0]\n",
    "    #collision_with_animal_percentage = round(collisionwanimal_total_crashesRGN/total_crashes,3)*100\n",
    "    #collision_with_animal_percentage"
   ]
  },
  {
   "cell_type": "markdown",
   "id": "9a3914dd",
   "metadata": {},
   "source": [
    "### Crashes Involving Pedestrians "
   ]
  },
  {
   "cell_type": "markdown",
   "id": "f8e1e8e9",
   "metadata": {},
   "source": [
    "#### Computing % of Crashes Involving Pedestrians "
   ]
  },
  {
   "cell_type": "code",
   "execution_count": 89,
   "id": "c0705d9a",
   "metadata": {
    "scrolled": true
   },
   "outputs": [
    {
     "data": {
      "text/plain": [
       "0    840650\n",
       "1      6501\n",
       "Name: Pedestrian, dtype: int64"
      ]
     },
     "execution_count": 89,
     "metadata": {},
     "output_type": "execute_result"
    }
   ],
   "source": [
    "analysis_2022['Pedestrian'].value_counts().sort_index()"
   ]
  },
  {
   "cell_type": "code",
   "execution_count": 90,
   "id": "cd3f2111",
   "metadata": {},
   "outputs": [
    {
     "name": "stdout",
     "output_type": "stream",
     "text": [
      "6501\n"
     ]
    }
   ],
   "source": [
    "pedestrian_total_crashes = 6501\n",
    "print(pedestrian_total_crashes)"
   ]
  },
  {
   "cell_type": "code",
   "execution_count": 91,
   "id": "9af318d5",
   "metadata": {},
   "outputs": [
    {
     "data": {
      "text/plain": [
       "(847151, 56)"
      ]
     },
     "execution_count": 91,
     "metadata": {},
     "output_type": "execute_result"
    }
   ],
   "source": [
    "analysis_2022.shape"
   ]
  },
  {
   "cell_type": "code",
   "execution_count": 92,
   "id": "33809821",
   "metadata": {},
   "outputs": [
    {
     "data": {
      "text/plain": [
       "0.8"
      ]
     },
     "execution_count": 92,
     "metadata": {},
     "output_type": "execute_result"
    }
   ],
   "source": [
    "pedestrian_percentage = round(pedestrian_total_crashes/847151,3)*100\n",
    "pedestrian_percentage"
   ]
  },
  {
   "cell_type": "markdown",
   "id": "dba67ef9",
   "metadata": {},
   "source": [
    "#### Computing % of Injury/Fatality Involving Pedestrians"
   ]
  },
  {
   "cell_type": "code",
   "execution_count": 93,
   "id": "d73bb6ac",
   "metadata": {
    "scrolled": true
   },
   "outputs": [
    {
     "data": {
      "text/plain": [
       "Pedestrian  Injury or Fatal\n",
       "0           0                  666623\n",
       "            1                  174027\n",
       "1           0                    3451\n",
       "            1                    3050\n",
       "dtype: int64"
      ]
     },
     "execution_count": 93,
     "metadata": {},
     "output_type": "execute_result"
    }
   ],
   "source": [
    "#First find the number of injury/fatalities involving pedestrians \n",
    "analysis_2022.value_counts([\"Pedestrian\", \"Injury or Fatal\"])"
   ]
  },
  {
   "cell_type": "code",
   "execution_count": 94,
   "id": "0fe9f175",
   "metadata": {},
   "outputs": [
    {
     "name": "stdout",
     "output_type": "stream",
     "text": [
      "3050\n"
     ]
    }
   ],
   "source": [
    "#Pedestrian = 1 and Injury or Fatal = 1 means crash involving pedestrian resulted in injury or fatality \n",
    "pedestrian_counts= 3050\n",
    "print (pedestrian_counts)"
   ]
  },
  {
   "cell_type": "code",
   "execution_count": 95,
   "id": "c24ed38a",
   "metadata": {},
   "outputs": [
    {
     "data": {
      "text/plain": [
       "46.9"
      ]
     },
     "execution_count": 95,
     "metadata": {},
     "output_type": "execute_result"
    }
   ],
   "source": [
    "#Percentage of Injury/Fatality for Pedestrians\n",
    "pedestrian_injuryfatality_percentage = round(pedestrian_counts/pedestrian_total_crashes, 3)*100\n",
    "pedestrian_injuryfatality_percentage"
   ]
  },
  {
   "cell_type": "markdown",
   "id": "57fccc96",
   "metadata": {},
   "source": [
    "#### No. Fatalities Involving Pedestrians - avoiding this code for now so as not to repeat error code... "
   ]
  },
  {
   "cell_type": "markdown",
   "id": "efb8c43a",
   "metadata": {},
   "source": [
    "## Crashes Involving Cyclists "
   ]
  },
  {
   "cell_type": "markdown",
   "id": "c16509b7",
   "metadata": {},
   "source": [
    "#### Computing % of Crashes Involving Cyclists "
   ]
  },
  {
   "cell_type": "code",
   "execution_count": 96,
   "id": "f0705fd4",
   "metadata": {
    "scrolled": true
   },
   "outputs": [
    {
     "data": {
      "text/plain": [
       "0    840685\n",
       "1      6466\n",
       "Name: Bicycle, dtype: int64"
      ]
     },
     "execution_count": 96,
     "metadata": {},
     "output_type": "execute_result"
    }
   ],
   "source": [
    "analysis_2022['Bicycle'].value_counts().sort_index()"
   ]
  },
  {
   "cell_type": "code",
   "execution_count": 97,
   "id": "9e4bfe28",
   "metadata": {},
   "outputs": [
    {
     "name": "stdout",
     "output_type": "stream",
     "text": [
      "6466\n"
     ]
    }
   ],
   "source": [
    "cyclists_total_crashes = 6466\n",
    "print(cyclists_total_crashes)"
   ]
  },
  {
   "cell_type": "code",
   "execution_count": 98,
   "id": "0ab67909",
   "metadata": {},
   "outputs": [
    {
     "data": {
      "text/plain": [
       "(847151, 56)"
      ]
     },
     "execution_count": 98,
     "metadata": {},
     "output_type": "execute_result"
    }
   ],
   "source": [
    "analysis_2022.shape"
   ]
  },
  {
   "cell_type": "code",
   "execution_count": 99,
   "id": "621649af",
   "metadata": {},
   "outputs": [
    {
     "data": {
      "text/plain": [
       "0.8"
      ]
     },
     "execution_count": 99,
     "metadata": {},
     "output_type": "execute_result"
    }
   ],
   "source": [
    "cyclists_percentage = round(cyclists_total_crashes/847151,3)*100\n",
    "cyclists_percentage"
   ]
  },
  {
   "cell_type": "markdown",
   "id": "e1072253",
   "metadata": {},
   "source": [
    "#### Computing % of Injury/Fatality Involving Cyclists "
   ]
  },
  {
   "cell_type": "code",
   "execution_count": 100,
   "id": "e94ab4e3",
   "metadata": {
    "scrolled": true
   },
   "outputs": [
    {
     "data": {
      "text/plain": [
       "Bicycle  Injury or Fatal\n",
       "0        0                  667219\n",
       "         1                  173466\n",
       "1        1                    3611\n",
       "         0                    2855\n",
       "dtype: int64"
      ]
     },
     "execution_count": 100,
     "metadata": {},
     "output_type": "execute_result"
    }
   ],
   "source": [
    "#First find the number of injury/fatalities involving cyclists \n",
    "analysis_2022.value_counts([\"Bicycle\", \"Injury or Fatal\"])"
   ]
  },
  {
   "cell_type": "code",
   "execution_count": 101,
   "id": "d06662eb",
   "metadata": {},
   "outputs": [
    {
     "name": "stdout",
     "output_type": "stream",
     "text": [
      "3611\n"
     ]
    }
   ],
   "source": [
    "#Bicycle = 1 and Injury or Fatal = 1 means crash involving bicycle resulted in injury or fatality\n",
    "cyclists_counts= 3611\n",
    "print (cyclists_counts)"
   ]
  },
  {
   "cell_type": "code",
   "execution_count": 102,
   "id": "3c130549",
   "metadata": {},
   "outputs": [
    {
     "data": {
      "text/plain": [
       "55.800000000000004"
      ]
     },
     "execution_count": 102,
     "metadata": {},
     "output_type": "execute_result"
    }
   ],
   "source": [
    "#Percentage of Injury/Fatality Involving Cyclists\n",
    "cyclists_injuryfatality_percentage = round(cyclists_counts/cyclists_total_crashes, 3)*100\n",
    "cyclists_injuryfatality_percentage"
   ]
  },
  {
   "cell_type": "markdown",
   "id": "e073fd0b",
   "metadata": {},
   "source": [
    "#### No. Fatalities Involving Cyclists - avoiding this code for now so as not to repeat error code... "
   ]
  },
  {
   "cell_type": "markdown",
   "id": "b93aa502",
   "metadata": {},
   "source": [
    "#### Table of Crash Class and Severity - NOT READY NOT, WORK IN PROGRESS "
   ]
  },
  {
   "cell_type": "code",
   "execution_count": 103,
   "id": "d3402043",
   "metadata": {},
   "outputs": [
    {
     "name": "stdout",
     "output_type": "stream",
     "text": [
      "For an NPS service wide perspective, the TSP has aggregated available crash data from 1990 – 2020.  Available below is a list of the most common crash classifications for that time period servicewide for crashes that resulted in a fatality or an injury. A key take away is\n"
     ]
    }
   ],
   "source": [
    "print(\"For an NPS service wide perspective, the TSP has aggregated available crash data from 1990 – 2020.  Available below is a list of the most common crash classifications for that time period servicewide for crashes that resulted in a fatality or an injury. A key take away is\")"
   ]
  },
  {
   "cell_type": "code",
   "execution_count": 104,
   "id": "76ef029d",
   "metadata": {},
   "outputs": [],
   "source": [
    "#Template of code for table but got to figure out values for percentage of total crashes\n",
    "#Values for 100 are fake, will be replaced soon, just put in for sake of balancing table\n",
    "data= {'Collision Type': ['Collision w Animal','Avoiding Animal','Pedestrian', 'Bicycle'], 'Percentage of Total Crashes': [collision_with_animal_percentage,avoiding_animal_percentage,pedestrian_percentage,cyclists_percentage], 'Percentage in Fatality or Injury':[Collisionwanimal_injury_or_fatal, avoiding_animal_injuryfatality_percentage,pedestrian_injuryfatality_percentage,cyclists_injuryfatality_percentage]}"
   ]
  },
  {
   "cell_type": "code",
   "execution_count": 105,
   "id": "a1286953",
   "metadata": {},
   "outputs": [],
   "source": [
    "df = pd.DataFrame(data)"
   ]
  },
  {
   "cell_type": "code",
   "execution_count": 106,
   "id": "63e84c68",
   "metadata": {},
   "outputs": [
    {
     "name": "stdout",
     "output_type": "stream",
     "text": [
      "       Collision Type  Percentage of Total Crashes  \\\n",
      "0  Collision w Animal                        3.100   \n",
      "1     Avoiding Animal                        0.008   \n",
      "2          Pedestrian                        0.800   \n",
      "3             Bicycle                        0.800   \n",
      "\n",
      "   Percentage in Fatality or Injury  \n",
      "0                               6.7  \n",
      "1                               9.2  \n",
      "2                              46.9  \n",
      "3                              55.8  \n"
     ]
    }
   ],
   "source": [
    "print(df)"
   ]
  },
  {
   "cell_type": "markdown",
   "id": "781fa8b9",
   "metadata": {},
   "source": [
    "### Next section will construction bar graph of fatalities and injuries sorted by posted speed \n"
   ]
  },
  {
   "cell_type": "code",
   "execution_count": 32,
   "id": "60414d3b",
   "metadata": {},
   "outputs": [
    {
     "data": {
      "image/png": "[encoded data removed]",
      "text/plain": [
       "<Figure size 432x288 with 1 Axes>"
      ]
     },
     "metadata": {
      "needs_background": "light"
     },
     "output_type": "display_data"
    }
   ],
   "source": [
    "#TEMPLATED EXAMPLE \n",
    "fatalities = [0.1, 17.5, 40, 48, 52, 69, 88, 1,2,3,4,5,6,7,8,9,10]\n",
    "injuries = [2, 8, 70, 1.5, 25, 12, 28, 1,2,3,4,5,6,7,8,9,10]\n",
    "index = [5,10,15,20,25,30,35,40,45,50,55,60,65,70,75]\n",
    "df = pd.DataFrame({'speed': speed,\n",
    "                   'lifespan': lifespan}, index=index)\n",
    "ax = df.plot.bar(rot=0)\n",
    "#TEMPLATE NEED TO ADJUST - first one tests on fatalities and injuries "
   ]
  }
 ],
 "metadata": {
  "kernelspec": {
   "display_name": "Python 3 (ipykernel)",
   "language": "python",
   "name": "python3"
  },
  "language_info": {
   "codemirror_mode": {
    "name": "ipython",
    "version": 3
   },
   "file_extension": ".py",
   "mimetype": "text/x-python",
   "name": "python",
   "nbconvert_exporter": "python",
   "pygments_lexer": "ipython3",
   "version": "3.9.12"
  }
 },
 "nbformat": 4,
 "nbformat_minor": 5
}
