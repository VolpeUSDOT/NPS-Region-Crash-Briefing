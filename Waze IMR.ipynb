{
 "cells": [
  {
   "cell_type": "code",
   "execution_count": null,
   "id": "fb90d89d",
   "metadata": {},
   "outputs": [],
   "source": []
  },
  {
   "cell_type": "code",
   "execution_count": null,
   "id": "a4cbb1f0",
   "metadata": {},
   "outputs": [],
   "source": [
    "waze=pd.read_csv('Waze IMR park results 20210817.csv', encoding = \"utf-8\")\n",
    "waze.head()"
   ]
  },
  {
   "cell_type": "code",
   "execution_count": null,
   "id": "24a647c0",
   "metadata": {},
   "outputs": [],
   "source": [
    "waze.rename(columns={'Unnamed: 0': 'Alerts'}, inplace=True)"
   ]
  },
  {
   "cell_type": "code",
   "execution_count": null,
   "id": "66c731eb",
   "metadata": {},
   "outputs": [],
   "source": [
    "alertPoints = gpd.GeoDataFrame(waze, geometry=gpd.points_from_xy(waze.Lon, waze.Lat),crs={'init' :'epsg:4326'})\n",
    "alertPoints=alertPoints.to_crs(epsg=4326)"
   ]
  },
  {
   "cell_type": "code",
   "execution_count": null,
   "id": "835417d2",
   "metadata": {},
   "outputs": [],
   "source": [
    "wazeAccidents=alertPoints.loc[waze['Alert']=='ACCIDENT']"
   ]
  },
  {
   "cell_type": "code",
   "execution_count": null,
   "id": "26fbffda",
   "metadata": {},
   "outputs": [],
   "source": [
    "wazeAccidentsgrouped=wazeAccidents.groupby(['NAME']).count()\n",
    "wazeAccidentsgrouped=wazeAccidentsgrouped.reset_index()\n",
    "wazeAccidentsgrouped=wazeAccidentsgrouped[['NAME','Alerts']].sort_values(by='NAME')\n",
    "wazeAccidentsgrouped.rename(columns={'Alerts':'Waze Accident Alerts'}, inplace=True)\n",
    "wazeAccidentsgrouped.rename(columns={'NAME':'Park'}, inplace=True)\n",
    "wazeAccidentsgrouped"
   ]
  },
  {
   "cell_type": "code",
   "execution_count": null,
   "id": "27012c75",
   "metadata": {},
   "outputs": [],
   "source": [
    "wazelist = wazeAccidentsgrouped['Park'].tolist()\n",
    "cdslist = df_park_groupedIMR['Park'].tolist()"
   ]
  },
  {
   "cell_type": "code",
   "execution_count": null,
   "id": "3e6447b7",
   "metadata": {},
   "outputs": [],
   "source": [
    "notinwaze= list(set(cdslist) - set(wazelist))\n",
    "notincds= list(set(wazelist) - set(cdslist))\n",
    "print(notinwaze)\n",
    "print(notincds)"
   ]
  },
  {
   "cell_type": "code",
   "execution_count": null,
   "id": "1aebb49d",
   "metadata": {},
   "outputs": [],
   "source": [
    "d = {'Park': ['BAND', 'CORO', 'PAIS', 'AMIS', 'PETR', 'DETO', 'GLCA', 'PECO', 'COLM', 'SAPU', 'FOBU', 'CHIC', 'FLFO', 'CANY', 'BITH', 'JODR', 'LAMR', 'HUTR'], 'Waze Accident Alerts': [0,0,0,0,0,0,0,0,0,0,0,0,0,0,0,0,0,0]}\n",
    "df2 = pd.DataFrame(data=d)\n",
    "wazeAccidentsgrouped=wazeAccidentsgrouped.append(df2,ignore_index=True)\n",
    "wazeAccidentsgrouped"
   ]
  },
  {
   "cell_type": "code",
   "execution_count": null,
   "id": "017bcabb",
   "metadata": {},
   "outputs": [],
   "source": [
    "d = {'Park': ['WHSA', 'GUMO', 'CAVE'], 'number_of_crashes': [0,0,0]}\n",
    "df2 = pd.DataFrame(data=d)\n",
    "df_park_groupedIMR=df_park_groupedIMR.append(df2,ignore_index=True)\n",
    "df_park_groupedIMR"
   ]
  },
  {
   "cell_type": "code",
   "execution_count": null,
   "id": "ed94b09a",
   "metadata": {},
   "outputs": [],
   "source": [
    "CDSwazeAccidents=df_park_groupedIMR.join(wazeAccidentsgrouped.set_index('Park'), on='Park')\n",
    "CDSwazeAccidents"
   ]
  },
  {
   "cell_type": "code",
   "execution_count": null,
   "id": "c8b0a498",
   "metadata": {},
   "outputs": [],
   "source": [
    "CDSwazeAccidents.rename(columns={'number_of_crashes':'Number of CDS Accidents'}, inplace=True)\n",
    "ax = CDSwazeAccidents.plot.bar(x='Park',y=[\"Number of CDS Accidents\", \"Waze Accident Alerts\"] )\n",
    "# for container, hatch in zip(ax.containers, (\" \", \"//\")):\n",
    "#     for patch in container.patches:\n",
    "#         patch.set_hatch(hatch)\n",
    "ax.legend(loc='upper right')\n",
    "plt.title('Waze Accidents Alerts Compared to CDS Recorded Accidents')\n",
    "plt.ylabel('Number of Accidents')\n",
    "plt.xticks(rotation = 45)\n",
    "plt.grid(False)\n",
    "plt.show()"
   ]
  },
  {
   "cell_type": "code",
   "execution_count": null,
   "id": "f14e6ad0",
   "metadata": {},
   "outputs": [],
   "source": [
    "wazegrouped=waze.groupby(['Alert']).count()\n",
    "wazegrouped=wazegrouped.reset_index()\n",
    "wazegrouped=wazegrouped[['Alert','Alerts']].sort_values(by='Alert')\n",
    "wazegrouped.rename(columns={'Alert':'Type of Alert'}, inplace=True)\n",
    "wazegrouped"
   ]
  },
  {
   "cell_type": "code",
   "execution_count": null,
   "id": "f6379258",
   "metadata": {},
   "outputs": [],
   "source": [
    "wazegroupedSub=waze.groupby(['Sub_Alert']).count()\n",
    "wazegroupedSub=wazegroupedSub.reset_index()\n",
    "wazegroupedSub=wazegroupedSub[['Sub_Alert','Alerts']].sort_values(by='Sub_Alert')\n",
    "wazegroupedSub=wazegroupedSub.sort_values(by=['Alerts'],ascending=False)\n",
    "wazegroupedSub"
   ]
  }
 ],
 "metadata": {
  "kernelspec": {
   "display_name": "geo_env",
   "language": "python",
   "name": "geo_env"
  },
  "language_info": {
   "codemirror_mode": {
    "name": "ipython",
    "version": 3
   },
   "file_extension": ".py",
   "mimetype": "text/x-python",
   "name": "python",
   "nbconvert_exporter": "python",
   "pygments_lexer": "ipython3",
   "version": "3.9.6"
  }
 },
 "nbformat": 4,
 "nbformat_minor": 5
}
