{
 "cells": [
  {
   "cell_type": "code",
   "execution_count": 1,
   "id": "7a9bfea4",
   "metadata": {},
   "outputs": [],
   "source": [
    "import matplotlib.pyplot as plt\n",
    "from datetime import datetime\n",
    "import folium\n",
    "import numpy as np\n",
    "import matplotlib as mpl\n",
    "from folium.plugins import MarkerCluster\n",
    "import json\n",
    "import fiona \n",
    "import geopandas as gpd\n",
    "from shapely.geometry import Point\n",
    "import matplotlib.ticker as ticker\n",
    "import pandas as pd"
   ]
  },
  {
   "cell_type": "code",
   "execution_count": 2,
   "id": "6b02f545",
   "metadata": {},
   "outputs": [
    {
     "name": "stderr",
     "output_type": "stream",
     "text": [
      "C:\\Users\\Meredith.Raymer\\Anaconda3\\envs\\geo-env\\lib\\site-packages\\IPython\\core\\interactiveshell.py:3165: DtypeWarning: Columns (18) have mixed types.Specify dtype option on import or set low_memory=False.\n",
      "  has_raised = await self.run_ast_nodes(code_ast.body, cell_name,\n"
     ]
    }
   ],
   "source": [
    "#import WAZE data\n",
    "df=pd.read_csv('MORA_alerts.csv', encoding=\"ISO-8859-1\")"
   ]
  },
  {
   "cell_type": "code",
   "execution_count": 3,
   "id": "dd96e448",
   "metadata": {},
   "outputs": [
    {
     "data": {
      "text/plain": [
       "WEATHERHAZARD    520247\n",
       "ROAD_CLOSED       83210\n",
       "JAM               42448\n",
       "ACCIDENT          11490\n",
       "Name: alert_type, dtype: int64"
      ]
     },
     "execution_count": 3,
     "metadata": {},
     "output_type": "execute_result"
    }
   ],
   "source": [
    "df.alert_type.value_counts()"
   ]
  },
  {
   "cell_type": "code",
   "execution_count": 5,
   "id": "2f7368ef",
   "metadata": {},
   "outputs": [
    {
     "data": {
      "text/plain": [
       "WEATHERHAZARD    520247\n",
       "JAM               42448\n",
       "ACCIDENT          11490\n",
       "Name: alert_type, dtype: int64"
      ]
     },
     "execution_count": 5,
     "metadata": {},
     "output_type": "execute_result"
    }
   ],
   "source": [
    "alerts = df.loc[df.alert_type != 'ROAD_CLOSED']\n",
    "alerts.alert_type.value_counts()"
   ]
  },
  {
   "cell_type": "code",
   "execution_count": 6,
   "id": "2f5738d2",
   "metadata": {},
   "outputs": [
    {
     "data": {
      "text/plain": [
       "HAZARD_ON_SHOULDER_CAR_STOPPED        412580\n",
       "HAZARD_ON_ROAD_CONSTRUCTION            28431\n",
       "HAZARD_ON_ROAD_OBJECT                  20494\n",
       "JAM_MODERATE_TRAFFIC                   15963\n",
       "HAZARD_ON_ROAD_CAR_STOPPED             15164\n",
       "HAZARD_WEATHER_FOG                     13158\n",
       "JAM_HEAVY_TRAFFIC                      12783\n",
       "JAM_STAND_STILL_TRAFFIC                 9934\n",
       "HAZARD_ON_ROAD_POT_HOLE                 5550\n",
       "HAZARD_ON_ROAD_ROAD_KILL                4344\n",
       "ACCIDENT_MAJOR                          3634\n",
       "ACCIDENT_MINOR                          3067\n",
       "HAZARD_ON_SHOULDER_ANIMALS              2902\n",
       "HAZARD_ON_SHOULDER                      1945\n",
       "HAZARD_ON_SHOULDER_MISSING_SIGN         1436\n",
       "HAZARD_ON_ROAD_ICE                      1415\n",
       "HAZARD_ON_ROAD                           559\n",
       "HAZARD_WEATHER                           273\n",
       "HAZARD_ON_ROAD_TRAFFIC_LIGHT_FAULT       152\n",
       "HAZARD_WEATHER_FLOOD                     128\n",
       "HAZARD_WEATHER_HEAVY_SNOW                 95\n",
       "HAZARD_WEATHER_HAIL                       91\n",
       "HAZARD_ON_ROAD_LANE_CLOSED                 4\n",
       "Name: sub_type, dtype: int64"
      ]
     },
     "execution_count": 6,
     "metadata": {},
     "output_type": "execute_result"
    }
   ],
   "source": [
    "alerts.sub_type.value_counts()"
   ]
  },
  {
   "cell_type": "code",
   "execution_count": 8,
   "id": "621cdc07",
   "metadata": {},
   "outputs": [],
   "source": [
    "#converting WAZE data frame into GeoDataFrame with geometry point \n",
    "alertPoints = gpd.GeoDataFrame(alerts, geometry=gpd.points_from_xy(alerts.location_lon, alerts.location_lat),crs={'init' :'epsg:4326'})\n",
    "alertPoints=alertPoints.to_crs(epsg=4326)"
   ]
  },
  {
   "cell_type": "code",
   "execution_count": 23,
   "id": "5aeab382",
   "metadata": {},
   "outputs": [],
   "source": [
    "#opening park shapefile\n",
    "gpd.io.file.fiona.drvsupport.supported_drivers['KML'] = 'rw'\n",
    "park = gpd.read_file('ParkOutline.kml', driver='KML')"
   ]
  },
  {
   "cell_type": "code",
   "execution_count": 24,
   "id": "ab088824",
   "metadata": {},
   "outputs": [],
   "source": [
    "#clipping WAZE points to those within the park\n",
    "parkAlerts=gpd.clip(alertPoints,park)"
   ]
  },
  {
   "cell_type": "code",
   "execution_count": 26,
   "id": "4f5b36ea",
   "metadata": {},
   "outputs": [],
   "source": [
    "#opening region shapefile\n",
    "gpd.io.file.fiona.drvsupport.supported_drivers['KML'] = 'rw'\n",
    "region = gpd.read_file('MORA Region.kml', driver='KML')"
   ]
  },
  {
   "cell_type": "code",
   "execution_count": 27,
   "id": "bb476a87",
   "metadata": {},
   "outputs": [],
   "source": [
    "#clipping WAZE points to those within the region (includes the park)\n",
    "regionAlerts=gpd.clip(alertPoints,region)"
   ]
  },
  {
   "cell_type": "code",
   "execution_count": 28,
   "id": "c6e9e456",
   "metadata": {},
   "outputs": [
    {
     "data": {
      "text/plain": [
       "HAZARD_ON_SHOULDER_CAR_STOPPED        35779\n",
       "JAM_MODERATE_TRAFFIC                  10087\n",
       "HAZARD_ON_ROAD_CONSTRUCTION            6028\n",
       "JAM_HEAVY_TRAFFIC                      2938\n",
       "HAZARD_ON_ROAD_POT_HOLE                2653\n",
       "JAM_STAND_STILL_TRAFFIC                2483\n",
       "HAZARD_ON_ROAD_CAR_STOPPED             2296\n",
       "HAZARD_ON_ROAD_OBJECT                  2099\n",
       "HAZARD_WEATHER_FOG                      903\n",
       "ACCIDENT_MAJOR                          524\n",
       "ACCIDENT_MINOR                          427\n",
       "HAZARD_ON_ROAD_ROAD_KILL                383\n",
       "HAZARD_ON_SHOULDER_ANIMALS              224\n",
       "HAZARD_ON_ROAD_ICE                      202\n",
       "HAZARD_ON_SHOULDER                      156\n",
       "HAZARD_ON_SHOULDER_MISSING_SIGN          94\n",
       "HAZARD_ON_ROAD                           45\n",
       "HAZARD_WEATHER_FLOOD                     24\n",
       "HAZARD_WEATHER_HEAVY_SNOW                22\n",
       "HAZARD_WEATHER                           21\n",
       "HAZARD_ON_ROAD_TRAFFIC_LIGHT_FAULT       16\n",
       "HAZARD_WEATHER_HAIL                       4\n",
       "Name: sub_type, dtype: int64"
      ]
     },
     "execution_count": 28,
     "metadata": {},
     "output_type": "execute_result"
    }
   ],
   "source": [
    "regionAlerts.sub_type.value_counts()"
   ]
  },
  {
   "cell_type": "code",
   "execution_count": 25,
   "id": "34cbed05",
   "metadata": {},
   "outputs": [
    {
     "data": {
      "text/plain": [
       "JAM_STAND_STILL_TRAFFIC           83\n",
       "HAZARD_ON_ROAD_CONSTRUCTION       12\n",
       "JAM_HEAVY_TRAFFIC                 10\n",
       "HAZARD_ON_SHOULDER_CAR_STOPPED     4\n",
       "JAM_MODERATE_TRAFFIC               2\n",
       "HAZARD_ON_ROAD_CAR_STOPPED         1\n",
       "ACCIDENT_MINOR                     1\n",
       "HAZARD_ON_SHOULDER_ANIMALS         1\n",
       "Name: sub_type, dtype: int64"
      ]
     },
     "execution_count": 25,
     "metadata": {},
     "output_type": "execute_result"
    }
   ],
   "source": [
    "parkAlerts.sub_type.value_counts()"
   ]
  },
  {
   "cell_type": "code",
   "execution_count": 29,
   "id": "d65e4752",
   "metadata": {},
   "outputs": [
    {
     "data": {
      "text/html": [
       "<div>\n",
       "<style scoped>\n",
       "    .dataframe tbody tr th:only-of-type {\n",
       "        vertical-align: middle;\n",
       "    }\n",
       "\n",
       "    .dataframe tbody tr th {\n",
       "        vertical-align: top;\n",
       "    }\n",
       "\n",
       "    .dataframe thead th {\n",
       "        text-align: right;\n",
       "    }\n",
       "</style>\n",
       "<table border=\"1\" class=\"dataframe\">\n",
       "  <thead>\n",
       "    <tr style=\"text-align: right;\">\n",
       "      <th></th>\n",
       "      <th>Alert Sub-Type</th>\n",
       "      <th>Number of In-Park Alerts</th>\n",
       "    </tr>\n",
       "  </thead>\n",
       "  <tbody>\n",
       "    <tr>\n",
       "      <th>0</th>\n",
       "      <td>ACCIDENT_MINOR</td>\n",
       "      <td>1</td>\n",
       "    </tr>\n",
       "    <tr>\n",
       "      <th>1</th>\n",
       "      <td>HAZARD_ON_ROAD_CAR_STOPPED</td>\n",
       "      <td>1</td>\n",
       "    </tr>\n",
       "    <tr>\n",
       "      <th>2</th>\n",
       "      <td>HAZARD_ON_ROAD_CONSTRUCTION</td>\n",
       "      <td>12</td>\n",
       "    </tr>\n",
       "    <tr>\n",
       "      <th>3</th>\n",
       "      <td>HAZARD_ON_SHOULDER_ANIMALS</td>\n",
       "      <td>1</td>\n",
       "    </tr>\n",
       "    <tr>\n",
       "      <th>4</th>\n",
       "      <td>HAZARD_ON_SHOULDER_CAR_STOPPED</td>\n",
       "      <td>4</td>\n",
       "    </tr>\n",
       "    <tr>\n",
       "      <th>5</th>\n",
       "      <td>JAM_HEAVY_TRAFFIC</td>\n",
       "      <td>10</td>\n",
       "    </tr>\n",
       "    <tr>\n",
       "      <th>6</th>\n",
       "      <td>JAM_MODERATE_TRAFFIC</td>\n",
       "      <td>2</td>\n",
       "    </tr>\n",
       "    <tr>\n",
       "      <th>7</th>\n",
       "      <td>JAM_STAND_STILL_TRAFFIC</td>\n",
       "      <td>83</td>\n",
       "    </tr>\n",
       "  </tbody>\n",
       "</table>\n",
       "</div>"
      ],
      "text/plain": [
       "                   Alert Sub-Type  Number of In-Park Alerts\n",
       "0                  ACCIDENT_MINOR                         1\n",
       "1      HAZARD_ON_ROAD_CAR_STOPPED                         1\n",
       "2     HAZARD_ON_ROAD_CONSTRUCTION                        12\n",
       "3      HAZARD_ON_SHOULDER_ANIMALS                         1\n",
       "4  HAZARD_ON_SHOULDER_CAR_STOPPED                         4\n",
       "5               JAM_HEAVY_TRAFFIC                        10\n",
       "6            JAM_MODERATE_TRAFFIC                         2\n",
       "7         JAM_STAND_STILL_TRAFFIC                        83"
      ]
     },
     "execution_count": 29,
     "metadata": {},
     "output_type": "execute_result"
    }
   ],
   "source": [
    "#grouping park alerts by subtype\n",
    "parkSubType=parkAlerts.groupby(['sub_type']).count()\n",
    "parkSubType=parkSubType.reset_index()\n",
    "parkSubType=parkSubType[['sub_type','alert_char_crc']].sort_values(by='sub_type')\n",
    "parkSubType.columns = ['Alert Sub-Type', 'Number of In-Park Alerts']\n",
    "parkSubType"
   ]
  },
  {
   "cell_type": "code",
   "execution_count": 30,
   "id": "4186d62e",
   "metadata": {},
   "outputs": [
    {
     "data": {
      "text/html": [
       "<div>\n",
       "<style scoped>\n",
       "    .dataframe tbody tr th:only-of-type {\n",
       "        vertical-align: middle;\n",
       "    }\n",
       "\n",
       "    .dataframe tbody tr th {\n",
       "        vertical-align: top;\n",
       "    }\n",
       "\n",
       "    .dataframe thead th {\n",
       "        text-align: right;\n",
       "    }\n",
       "</style>\n",
       "<table border=\"1\" class=\"dataframe\">\n",
       "  <thead>\n",
       "    <tr style=\"text-align: right;\">\n",
       "      <th></th>\n",
       "      <th>Alert Sub-Type</th>\n",
       "      <th>Number of Region Alerts</th>\n",
       "    </tr>\n",
       "  </thead>\n",
       "  <tbody>\n",
       "    <tr>\n",
       "      <th>0</th>\n",
       "      <td>ACCIDENT_MAJOR</td>\n",
       "      <td>524</td>\n",
       "    </tr>\n",
       "    <tr>\n",
       "      <th>1</th>\n",
       "      <td>ACCIDENT_MINOR</td>\n",
       "      <td>427</td>\n",
       "    </tr>\n",
       "    <tr>\n",
       "      <th>2</th>\n",
       "      <td>HAZARD_ON_ROAD</td>\n",
       "      <td>45</td>\n",
       "    </tr>\n",
       "    <tr>\n",
       "      <th>3</th>\n",
       "      <td>HAZARD_ON_ROAD_CAR_STOPPED</td>\n",
       "      <td>2296</td>\n",
       "    </tr>\n",
       "    <tr>\n",
       "      <th>4</th>\n",
       "      <td>HAZARD_ON_ROAD_CONSTRUCTION</td>\n",
       "      <td>6028</td>\n",
       "    </tr>\n",
       "    <tr>\n",
       "      <th>5</th>\n",
       "      <td>HAZARD_ON_ROAD_ICE</td>\n",
       "      <td>202</td>\n",
       "    </tr>\n",
       "    <tr>\n",
       "      <th>6</th>\n",
       "      <td>HAZARD_ON_ROAD_OBJECT</td>\n",
       "      <td>2099</td>\n",
       "    </tr>\n",
       "    <tr>\n",
       "      <th>7</th>\n",
       "      <td>HAZARD_ON_ROAD_POT_HOLE</td>\n",
       "      <td>2653</td>\n",
       "    </tr>\n",
       "    <tr>\n",
       "      <th>8</th>\n",
       "      <td>HAZARD_ON_ROAD_ROAD_KILL</td>\n",
       "      <td>383</td>\n",
       "    </tr>\n",
       "    <tr>\n",
       "      <th>9</th>\n",
       "      <td>HAZARD_ON_ROAD_TRAFFIC_LIGHT_FAULT</td>\n",
       "      <td>16</td>\n",
       "    </tr>\n",
       "    <tr>\n",
       "      <th>10</th>\n",
       "      <td>HAZARD_ON_SHOULDER</td>\n",
       "      <td>156</td>\n",
       "    </tr>\n",
       "    <tr>\n",
       "      <th>11</th>\n",
       "      <td>HAZARD_ON_SHOULDER_ANIMALS</td>\n",
       "      <td>224</td>\n",
       "    </tr>\n",
       "    <tr>\n",
       "      <th>12</th>\n",
       "      <td>HAZARD_ON_SHOULDER_CAR_STOPPED</td>\n",
       "      <td>35779</td>\n",
       "    </tr>\n",
       "    <tr>\n",
       "      <th>13</th>\n",
       "      <td>HAZARD_ON_SHOULDER_MISSING_SIGN</td>\n",
       "      <td>94</td>\n",
       "    </tr>\n",
       "    <tr>\n",
       "      <th>14</th>\n",
       "      <td>HAZARD_WEATHER</td>\n",
       "      <td>21</td>\n",
       "    </tr>\n",
       "    <tr>\n",
       "      <th>15</th>\n",
       "      <td>HAZARD_WEATHER_FLOOD</td>\n",
       "      <td>24</td>\n",
       "    </tr>\n",
       "    <tr>\n",
       "      <th>16</th>\n",
       "      <td>HAZARD_WEATHER_FOG</td>\n",
       "      <td>903</td>\n",
       "    </tr>\n",
       "    <tr>\n",
       "      <th>17</th>\n",
       "      <td>HAZARD_WEATHER_HAIL</td>\n",
       "      <td>4</td>\n",
       "    </tr>\n",
       "    <tr>\n",
       "      <th>18</th>\n",
       "      <td>HAZARD_WEATHER_HEAVY_SNOW</td>\n",
       "      <td>22</td>\n",
       "    </tr>\n",
       "    <tr>\n",
       "      <th>19</th>\n",
       "      <td>JAM_HEAVY_TRAFFIC</td>\n",
       "      <td>2938</td>\n",
       "    </tr>\n",
       "    <tr>\n",
       "      <th>20</th>\n",
       "      <td>JAM_MODERATE_TRAFFIC</td>\n",
       "      <td>10087</td>\n",
       "    </tr>\n",
       "    <tr>\n",
       "      <th>21</th>\n",
       "      <td>JAM_STAND_STILL_TRAFFIC</td>\n",
       "      <td>2483</td>\n",
       "    </tr>\n",
       "  </tbody>\n",
       "</table>\n",
       "</div>"
      ],
      "text/plain": [
       "                        Alert Sub-Type  Number of Region Alerts\n",
       "0                       ACCIDENT_MAJOR                      524\n",
       "1                       ACCIDENT_MINOR                      427\n",
       "2                       HAZARD_ON_ROAD                       45\n",
       "3           HAZARD_ON_ROAD_CAR_STOPPED                     2296\n",
       "4          HAZARD_ON_ROAD_CONSTRUCTION                     6028\n",
       "5                   HAZARD_ON_ROAD_ICE                      202\n",
       "6                HAZARD_ON_ROAD_OBJECT                     2099\n",
       "7              HAZARD_ON_ROAD_POT_HOLE                     2653\n",
       "8             HAZARD_ON_ROAD_ROAD_KILL                      383\n",
       "9   HAZARD_ON_ROAD_TRAFFIC_LIGHT_FAULT                       16\n",
       "10                  HAZARD_ON_SHOULDER                      156\n",
       "11          HAZARD_ON_SHOULDER_ANIMALS                      224\n",
       "12      HAZARD_ON_SHOULDER_CAR_STOPPED                    35779\n",
       "13     HAZARD_ON_SHOULDER_MISSING_SIGN                       94\n",
       "14                      HAZARD_WEATHER                       21\n",
       "15                HAZARD_WEATHER_FLOOD                       24\n",
       "16                  HAZARD_WEATHER_FOG                      903\n",
       "17                 HAZARD_WEATHER_HAIL                        4\n",
       "18           HAZARD_WEATHER_HEAVY_SNOW                       22\n",
       "19                   JAM_HEAVY_TRAFFIC                     2938\n",
       "20                JAM_MODERATE_TRAFFIC                    10087\n",
       "21             JAM_STAND_STILL_TRAFFIC                     2483"
      ]
     },
     "execution_count": 30,
     "metadata": {},
     "output_type": "execute_result"
    }
   ],
   "source": [
    "#grouping park alerts by subtype\n",
    "regionSubType=regionAlerts.groupby(['sub_type']).count()\n",
    "regionSubType=regionSubType.reset_index()\n",
    "regionSubType=regionSubType[['sub_type','alert_char_crc']].sort_values(by='sub_type')\n",
    "regionSubType.columns = ['Alert Sub-Type', 'Number of Region Alerts']\n",
    "regionSubType"
   ]
  },
  {
   "cell_type": "code",
   "execution_count": 32,
   "id": "1135930e",
   "metadata": {},
   "outputs": [],
   "source": [
    "regionSubType['Number of Region Alerts']=regionSubType['Number of Region Alerts']-parkSubType['Number of In-Park Alerts']"
   ]
  },
  {
   "cell_type": "code",
   "execution_count": 35,
   "id": "ac5a535f",
   "metadata": {},
   "outputs": [
    {
     "data": {
      "text/plain": [
       "14046.0"
      ]
     },
     "execution_count": 35,
     "metadata": {},
     "output_type": "execute_result"
    }
   ],
   "source": [
    "TotalR = regionSubType['Number of Region Alerts'].sum()\n",
    "TotalR"
   ]
  },
  {
   "cell_type": "code",
   "execution_count": 36,
   "id": "677f3f9b",
   "metadata": {},
   "outputs": [
    {
     "data": {
      "text/plain": [
       "114"
      ]
     },
     "execution_count": 36,
     "metadata": {},
     "output_type": "execute_result"
    }
   ],
   "source": [
    "TotalP=parkSubType[ 'Number of In-Park Alerts'].sum()\n",
    "TotalP"
   ]
  },
  {
   "cell_type": "code",
   "execution_count": 50,
   "id": "1455608b",
   "metadata": {},
   "outputs": [
    {
     "data": {
      "text/html": [
       "<div>\n",
       "<style scoped>\n",
       "    .dataframe tbody tr th:only-of-type {\n",
       "        vertical-align: middle;\n",
       "    }\n",
       "\n",
       "    .dataframe tbody tr th {\n",
       "        vertical-align: top;\n",
       "    }\n",
       "\n",
       "    .dataframe thead th {\n",
       "        text-align: right;\n",
       "    }\n",
       "</style>\n",
       "<table border=\"1\" class=\"dataframe\">\n",
       "  <thead>\n",
       "    <tr style=\"text-align: right;\">\n",
       "      <th></th>\n",
       "      <th>Alert Sub-Type</th>\n",
       "      <th>Number of In-Park Alerts_x</th>\n",
       "      <th>Number of Region Alerts</th>\n",
       "      <th>Number of In-Park Alerts_y</th>\n",
       "    </tr>\n",
       "  </thead>\n",
       "  <tbody>\n",
       "    <tr>\n",
       "      <th>0</th>\n",
       "      <td>ACCIDENT_MINOR</td>\n",
       "      <td>1.0</td>\n",
       "      <td>425.0</td>\n",
       "      <td>1.0</td>\n",
       "    </tr>\n",
       "    <tr>\n",
       "      <th>1</th>\n",
       "      <td>HAZARD_ON_ROAD_CAR_STOPPED</td>\n",
       "      <td>1.0</td>\n",
       "      <td>2294.0</td>\n",
       "      <td>1.0</td>\n",
       "    </tr>\n",
       "    <tr>\n",
       "      <th>2</th>\n",
       "      <td>HAZARD_ON_ROAD_CONSTRUCTION</td>\n",
       "      <td>12.0</td>\n",
       "      <td>6020.0</td>\n",
       "      <td>4.0</td>\n",
       "    </tr>\n",
       "    <tr>\n",
       "      <th>3</th>\n",
       "      <td>HAZARD_ON_SHOULDER_ANIMALS</td>\n",
       "      <td>1.0</td>\n",
       "      <td>NaN</td>\n",
       "      <td>NaN</td>\n",
       "    </tr>\n",
       "    <tr>\n",
       "      <th>4</th>\n",
       "      <td>HAZARD_ON_SHOULDER_CAR_STOPPED</td>\n",
       "      <td>4.0</td>\n",
       "      <td>NaN</td>\n",
       "      <td>NaN</td>\n",
       "    </tr>\n",
       "    <tr>\n",
       "      <th>5</th>\n",
       "      <td>JAM_HEAVY_TRAFFIC</td>\n",
       "      <td>10.0</td>\n",
       "      <td>NaN</td>\n",
       "      <td>NaN</td>\n",
       "    </tr>\n",
       "    <tr>\n",
       "      <th>6</th>\n",
       "      <td>JAM_MODERATE_TRAFFIC</td>\n",
       "      <td>2.0</td>\n",
       "      <td>NaN</td>\n",
       "      <td>NaN</td>\n",
       "    </tr>\n",
       "    <tr>\n",
       "      <th>7</th>\n",
       "      <td>JAM_STAND_STILL_TRAFFIC</td>\n",
       "      <td>83.0</td>\n",
       "      <td>NaN</td>\n",
       "      <td>NaN</td>\n",
       "    </tr>\n",
       "    <tr>\n",
       "      <th>8</th>\n",
       "      <td>ACCIDENT_MAJOR</td>\n",
       "      <td>NaN</td>\n",
       "      <td>522.0</td>\n",
       "      <td>1.0</td>\n",
       "    </tr>\n",
       "    <tr>\n",
       "      <th>9</th>\n",
       "      <td>HAZARD_ON_ROAD</td>\n",
       "      <td>NaN</td>\n",
       "      <td>21.0</td>\n",
       "      <td>12.0</td>\n",
       "    </tr>\n",
       "    <tr>\n",
       "      <th>10</th>\n",
       "      <td>HAZARD_ON_ROAD_ICE</td>\n",
       "      <td>NaN</td>\n",
       "      <td>182.0</td>\n",
       "      <td>10.0</td>\n",
       "    </tr>\n",
       "    <tr>\n",
       "      <th>11</th>\n",
       "      <td>HAZARD_ON_ROAD_OBJECT</td>\n",
       "      <td>NaN</td>\n",
       "      <td>2095.0</td>\n",
       "      <td>2.0</td>\n",
       "    </tr>\n",
       "    <tr>\n",
       "      <th>12</th>\n",
       "      <td>HAZARD_ON_ROAD_POT_HOLE</td>\n",
       "      <td>NaN</td>\n",
       "      <td>2487.0</td>\n",
       "      <td>83.0</td>\n",
       "    </tr>\n",
       "    <tr>\n",
       "      <th>13</th>\n",
       "      <td>HAZARD_ON_ROAD_ROAD_KILL</td>\n",
       "      <td>NaN</td>\n",
       "      <td>NaN</td>\n",
       "      <td>NaN</td>\n",
       "    </tr>\n",
       "    <tr>\n",
       "      <th>14</th>\n",
       "      <td>HAZARD_ON_ROAD_TRAFFIC_LIGHT_FAULT</td>\n",
       "      <td>NaN</td>\n",
       "      <td>NaN</td>\n",
       "      <td>NaN</td>\n",
       "    </tr>\n",
       "    <tr>\n",
       "      <th>15</th>\n",
       "      <td>HAZARD_ON_SHOULDER</td>\n",
       "      <td>NaN</td>\n",
       "      <td>NaN</td>\n",
       "      <td>NaN</td>\n",
       "    </tr>\n",
       "    <tr>\n",
       "      <th>16</th>\n",
       "      <td>HAZARD_ON_SHOULDER_MISSING_SIGN</td>\n",
       "      <td>NaN</td>\n",
       "      <td>NaN</td>\n",
       "      <td>NaN</td>\n",
       "    </tr>\n",
       "    <tr>\n",
       "      <th>17</th>\n",
       "      <td>HAZARD_WEATHER</td>\n",
       "      <td>NaN</td>\n",
       "      <td>NaN</td>\n",
       "      <td>NaN</td>\n",
       "    </tr>\n",
       "    <tr>\n",
       "      <th>18</th>\n",
       "      <td>HAZARD_WEATHER_FLOOD</td>\n",
       "      <td>NaN</td>\n",
       "      <td>NaN</td>\n",
       "      <td>NaN</td>\n",
       "    </tr>\n",
       "    <tr>\n",
       "      <th>19</th>\n",
       "      <td>HAZARD_WEATHER_FOG</td>\n",
       "      <td>NaN</td>\n",
       "      <td>NaN</td>\n",
       "      <td>NaN</td>\n",
       "    </tr>\n",
       "    <tr>\n",
       "      <th>20</th>\n",
       "      <td>HAZARD_WEATHER_HAIL</td>\n",
       "      <td>NaN</td>\n",
       "      <td>NaN</td>\n",
       "      <td>NaN</td>\n",
       "    </tr>\n",
       "    <tr>\n",
       "      <th>21</th>\n",
       "      <td>HAZARD_WEATHER_HEAVY_SNOW</td>\n",
       "      <td>NaN</td>\n",
       "      <td>NaN</td>\n",
       "      <td>NaN</td>\n",
       "    </tr>\n",
       "  </tbody>\n",
       "</table>\n",
       "</div>"
      ],
      "text/plain": [
       "                        Alert Sub-Type  Number of In-Park Alerts_x  \\\n",
       "0                       ACCIDENT_MINOR                         1.0   \n",
       "1           HAZARD_ON_ROAD_CAR_STOPPED                         1.0   \n",
       "2          HAZARD_ON_ROAD_CONSTRUCTION                        12.0   \n",
       "3           HAZARD_ON_SHOULDER_ANIMALS                         1.0   \n",
       "4       HAZARD_ON_SHOULDER_CAR_STOPPED                         4.0   \n",
       "5                    JAM_HEAVY_TRAFFIC                        10.0   \n",
       "6                 JAM_MODERATE_TRAFFIC                         2.0   \n",
       "7              JAM_STAND_STILL_TRAFFIC                        83.0   \n",
       "8                       ACCIDENT_MAJOR                         NaN   \n",
       "9                       HAZARD_ON_ROAD                         NaN   \n",
       "10                  HAZARD_ON_ROAD_ICE                         NaN   \n",
       "11               HAZARD_ON_ROAD_OBJECT                         NaN   \n",
       "12             HAZARD_ON_ROAD_POT_HOLE                         NaN   \n",
       "13            HAZARD_ON_ROAD_ROAD_KILL                         NaN   \n",
       "14  HAZARD_ON_ROAD_TRAFFIC_LIGHT_FAULT                         NaN   \n",
       "15                  HAZARD_ON_SHOULDER                         NaN   \n",
       "16     HAZARD_ON_SHOULDER_MISSING_SIGN                         NaN   \n",
       "17                      HAZARD_WEATHER                         NaN   \n",
       "18                HAZARD_WEATHER_FLOOD                         NaN   \n",
       "19                  HAZARD_WEATHER_FOG                         NaN   \n",
       "20                 HAZARD_WEATHER_HAIL                         NaN   \n",
       "21           HAZARD_WEATHER_HEAVY_SNOW                         NaN   \n",
       "\n",
       "    Number of Region Alerts  Number of In-Park Alerts_y  \n",
       "0                     425.0                         1.0  \n",
       "1                    2294.0                         1.0  \n",
       "2                    6020.0                         4.0  \n",
       "3                       NaN                         NaN  \n",
       "4                       NaN                         NaN  \n",
       "5                       NaN                         NaN  \n",
       "6                       NaN                         NaN  \n",
       "7                       NaN                         NaN  \n",
       "8                     522.0                         1.0  \n",
       "9                      21.0                        12.0  \n",
       "10                    182.0                        10.0  \n",
       "11                   2095.0                         2.0  \n",
       "12                   2487.0                        83.0  \n",
       "13                      NaN                         NaN  \n",
       "14                      NaN                         NaN  \n",
       "15                      NaN                         NaN  \n",
       "16                      NaN                         NaN  \n",
       "17                      NaN                         NaN  \n",
       "18                      NaN                         NaN  \n",
       "19                      NaN                         NaN  \n",
       "20                      NaN                         NaN  \n",
       "21                      NaN                         NaN  "
      ]
     },
     "execution_count": 50,
     "metadata": {},
     "output_type": "execute_result"
    }
   ],
   "source": [
    "subTypes = parkSubType.merge(regionSubType, on='Alert Sub-Type' , how='outer')\n",
    "subTypes"
   ]
  }
 ],
 "metadata": {
  "kernelspec": {
   "display_name": "geo-env",
   "language": "python",
   "name": "geo-env"
  },
  "language_info": {
   "codemirror_mode": {
    "name": "ipython",
    "version": 3
   },
   "file_extension": ".py",
   "mimetype": "text/x-python",
   "name": "python",
   "nbconvert_exporter": "python",
   "pygments_lexer": "ipython3",
   "version": "3.9.5"
  }
 },
 "nbformat": 4,
 "nbformat_minor": 5
}
