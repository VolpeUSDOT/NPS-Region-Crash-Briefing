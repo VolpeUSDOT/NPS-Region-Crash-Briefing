{
 "cells": [
  {
   "cell_type": "code",
   "execution_count": 1,
   "id": "4c7ab91f",
   "metadata": {},
   "outputs": [],
   "source": [
    "import matplotlib.pyplot as plt\n",
    "from datetime import datetime\n",
    "import folium\n",
    "import numpy as np\n",
    "import matplotlib as mpl\n",
    "from folium.plugins import MarkerCluster\n",
    "import json\n",
    "import fiona \n",
    "import geopandas as gpd\n",
    "from shapely.geometry import Point\n",
    "import matplotlib.ticker as ticker\n",
    "import pandas as pd\n",
    "from plotly import graph_objs as go"
   ]
  },
  {
   "cell_type": "code",
   "execution_count": 2,
   "id": "da1807a8",
   "metadata": {},
   "outputs": [],
   "source": [
    "import warnings\n",
    "warnings.filterwarnings('ignore')"
   ]
  },
  {
   "cell_type": "code",
   "execution_count": 3,
   "id": "50e6256c",
   "metadata": {},
   "outputs": [],
   "source": [
    "#import WAZE data\n",
    "df=pd.read_csv('MORA_alerts.csv', encoding=\"ISO-8859-1\")"
   ]
  },
  {
   "cell_type": "code",
   "execution_count": 4,
   "id": "05099735",
   "metadata": {},
   "outputs": [],
   "source": [
    "#opening entrances shapefile\n",
    "gpd.io.file.fiona.drvsupport.supported_drivers['KML'] = 'rw'\n",
    "entrances = gpd.read_file('MORA Park Entrances.kml', driver='KML')"
   ]
  },
  {
   "cell_type": "code",
   "execution_count": 4,
   "id": "7b4d2841",
   "metadata": {},
   "outputs": [],
   "source": [
    "#converting WAZE data frame into GeoDataFrame with geometry point \n",
    "alertPoints = gpd.GeoDataFrame(df, geometry=gpd.points_from_xy(df.location_lon, df.location_lat),crs={'init' :'epsg:4326'})\n",
    "alertPoints=alertPoints.to_crs(epsg=4326)"
   ]
  },
  {
   "cell_type": "code",
   "execution_count": 6,
   "id": "e32066f6",
   "metadata": {},
   "outputs": [],
   "source": [
    "#clipping WAZE points to those within the entrance\n",
    "MORAalerts=gpd.clip(alertPoints,entrances)"
   ]
  },
  {
   "cell_type": "code",
   "execution_count": 7,
   "id": "5462bfb0",
   "metadata": {},
   "outputs": [],
   "source": [
    "#Spatial join to tie entrance name to alert \n",
    "alerts_with_entrance=gpd.sjoin(MORAalerts,entrances,how=\"inner\", op='intersects')"
   ]
  },
  {
   "cell_type": "code",
   "execution_count": null,
   "id": "8ec16516",
   "metadata": {},
   "outputs": [],
   "source": []
  },
  {
   "cell_type": "code",
   "execution_count": 8,
   "id": "e2ce327c",
   "metadata": {},
   "outputs": [
    {
     "data": {
      "text/html": [
       "<div>\n",
       "<style scoped>\n",
       "    .dataframe tbody tr th:only-of-type {\n",
       "        vertical-align: middle;\n",
       "    }\n",
       "\n",
       "    .dataframe tbody tr th {\n",
       "        vertical-align: top;\n",
       "    }\n",
       "\n",
       "    .dataframe thead th {\n",
       "        text-align: right;\n",
       "    }\n",
       "</style>\n",
       "<table border=\"1\" class=\"dataframe\">\n",
       "  <thead>\n",
       "    <tr style=\"text-align: right;\">\n",
       "      <th></th>\n",
       "      <th>Name</th>\n",
       "      <th>alert_char_crc</th>\n",
       "    </tr>\n",
       "  </thead>\n",
       "  <tbody>\n",
       "    <tr>\n",
       "      <th>0</th>\n",
       "      <td>Carbon River</td>\n",
       "      <td>36</td>\n",
       "    </tr>\n",
       "    <tr>\n",
       "      <th>1</th>\n",
       "      <td>Cayuse Pass</td>\n",
       "      <td>41656</td>\n",
       "    </tr>\n",
       "    <tr>\n",
       "      <th>2</th>\n",
       "      <td>Mowich Lake</td>\n",
       "      <td>24</td>\n",
       "    </tr>\n",
       "    <tr>\n",
       "      <th>3</th>\n",
       "      <td>Nisqually</td>\n",
       "      <td>707</td>\n",
       "    </tr>\n",
       "    <tr>\n",
       "      <th>4</th>\n",
       "      <td>SR-410 and Sunrise Rd</td>\n",
       "      <td>2644</td>\n",
       "    </tr>\n",
       "    <tr>\n",
       "      <th>5</th>\n",
       "      <td>Stevens Canyon</td>\n",
       "      <td>185</td>\n",
       "    </tr>\n",
       "  </tbody>\n",
       "</table>\n",
       "</div>"
      ],
      "text/plain": [
       "                    Name  alert_char_crc\n",
       "0           Carbon River              36\n",
       "1            Cayuse Pass           41656\n",
       "2            Mowich Lake              24\n",
       "3              Nisqually             707\n",
       "4  SR-410 and Sunrise Rd            2644\n",
       "5         Stevens Canyon             185"
      ]
     },
     "execution_count": 8,
     "metadata": {},
     "output_type": "execute_result"
    }
   ],
   "source": [
    "#Number of Total Alerts at Each entrance\n",
    "df_ent_grouped=alerts_with_entrance.groupby(['Name']).count()\n",
    "df_ent_grouped=df_ent_grouped.reset_index()\n",
    "df_ent_grouped=df_ent_grouped[['Name','alert_char_crc']].sort_values(by='Name')\n",
    "df_ent_grouped"
   ]
  },
  {
   "cell_type": "code",
   "execution_count": 9,
   "id": "7a1d05ef",
   "metadata": {},
   "outputs": [
    {
     "data": {
      "image/png": "[encoded data removed]",
      "text/plain": [
       "<Figure size 1008x504 with 1 Axes>"
      ]
     },
     "metadata": {},
     "output_type": "display_data"
    }
   ],
   "source": [
    "plt.style.use('seaborn')\n",
    "\n",
    "tick_spacing = 3 \n",
    "fig,ax = plt.subplots(1,1, figsize=(14, 7))\n",
    "ax.bar(df_ent_grouped.Name, df_ent_grouped.alert_char_crc, linewidth=4)\n",
    "ax.set_title('Waze Alerts at Entrances 2017-2021', fontsize=20)\n",
    "\n",
    "ax.set_xlabel('Entrance Name', fontsize=20)\n",
    "ax.set_ylabel('Number of Waze Alerts', fontsize=20)\n",
    "ax.grid('off')\n",
    "\n",
    "plt.show()"
   ]
  },
  {
   "cell_type": "code",
   "execution_count": 10,
   "id": "59728cd7",
   "metadata": {},
   "outputs": [
    {
     "data": {
      "text/plain": [
       "ROAD_CLOSED      44434\n",
       "JAM                796\n",
       "WEATHERHAZARD       22\n",
       "Name: alert_type, dtype: int64"
      ]
     },
     "execution_count": 10,
     "metadata": {},
     "output_type": "execute_result"
    }
   ],
   "source": [
    "#Total types of main alerts \n",
    "alerts_with_entrance.alert_type.value_counts()"
   ]
  },
  {
   "cell_type": "code",
   "execution_count": 11,
   "id": "4fdf3630",
   "metadata": {},
   "outputs": [
    {
     "data": {
      "text/plain": [
       "ROAD_CLOSED_EVENT                 44434\n",
       "JAM_STAND_STILL_TRAFFIC             567\n",
       "JAM_HEAVY_TRAFFIC                   149\n",
       "JAM_MODERATE_TRAFFIC                 25\n",
       "HAZARD_ON_SHOULDER_CAR_STOPPED       10\n",
       "HAZARD_ON_ROAD_CONSTRUCTION           9\n",
       "HAZARD_ON_ROAD_CAR_STOPPED            1\n",
       "HAZARD_ON_ROAD_OBJECT                 1\n",
       "HAZARD_ON_SHOULDER_ANIMALS            1\n",
       "Name: sub_type, dtype: int64"
      ]
     },
     "execution_count": 11,
     "metadata": {},
     "output_type": "execute_result"
    }
   ],
   "source": [
    "#Counts of alert subtypes\n",
    "alerts_with_entrance.sub_type.value_counts()"
   ]
  },
  {
   "cell_type": "code",
   "execution_count": 12,
   "id": "d25912dd",
   "metadata": {},
   "outputs": [],
   "source": [
    "#Separating the different kinds of alerts into their own data frames\n",
    "df_accidents = alerts_with_entrance.loc[df['alert_type']=='ACCIDENT']\n",
    "df_accidents = df_accidents.reset_index()\n",
    "df_jams = alerts_with_entrance.loc[df['alert_type']=='JAM']\n",
    "df_jams = df_jams.reset_index()\n",
    "df_shoulder = alerts_with_entrance.loc[df['sub_type']=='HAZARD_ON_SHOULDER_CAR_STOPPED']\n",
    "df_shoulder = df_shoulder.reset_index()"
   ]
  },
  {
   "cell_type": "code",
   "execution_count": 13,
   "id": "21cb368b",
   "metadata": {},
   "outputs": [
    {
     "name": "stdout",
     "output_type": "stream",
     "text": [
      "JAM_STAND_STILL_TRAFFIC :  567\n",
      "JAM_HEAVY_TRAFFIC :  149\n",
      "No Details Captured :  0\n",
      "JAM_MODERATE_TRAFFIC :  25\n"
     ]
    },
    {
     "data": {
      "text/html": [
       "<div>\n",
       "<style scoped>\n",
       "    .dataframe tbody tr th:only-of-type {\n",
       "        vertical-align: middle;\n",
       "    }\n",
       "\n",
       "    .dataframe tbody tr th {\n",
       "        vertical-align: top;\n",
       "    }\n",
       "\n",
       "    .dataframe thead th {\n",
       "        text-align: right;\n",
       "    }\n",
       "</style>\n",
       "<table border=\"1\" class=\"dataframe\">\n",
       "  <thead>\n",
       "    <tr style=\"text-align: right;\">\n",
       "      <th></th>\n",
       "      <th>Name</th>\n",
       "      <th>JAM_STAND_STILL_TRAFFIC</th>\n",
       "      <th>JAM_HEAVY_TRAFFIC</th>\n",
       "      <th>No Details Captured</th>\n",
       "      <th>JAM_MODERATE_TRAFFIC</th>\n",
       "    </tr>\n",
       "  </thead>\n",
       "  <tbody>\n",
       "    <tr>\n",
       "      <th>0</th>\n",
       "      <td>Cayuse Pass</td>\n",
       "      <td>108.0</td>\n",
       "      <td>14.0</td>\n",
       "      <td>0.0</td>\n",
       "      <td>4.0</td>\n",
       "    </tr>\n",
       "    <tr>\n",
       "      <th>1</th>\n",
       "      <td>SR-410 and Sunrise Rd</td>\n",
       "      <td>459.0</td>\n",
       "      <td>135.0</td>\n",
       "      <td>0.0</td>\n",
       "      <td>21.0</td>\n",
       "    </tr>\n",
       "    <tr>\n",
       "      <th>2</th>\n",
       "      <td>Nisqually</td>\n",
       "      <td>0.0</td>\n",
       "      <td>0.0</td>\n",
       "      <td>0.0</td>\n",
       "      <td>0.0</td>\n",
       "    </tr>\n",
       "    <tr>\n",
       "      <th>3</th>\n",
       "      <td>Stevens Canyon</td>\n",
       "      <td>0.0</td>\n",
       "      <td>0.0</td>\n",
       "      <td>0.0</td>\n",
       "      <td>0.0</td>\n",
       "    </tr>\n",
       "    <tr>\n",
       "      <th>4</th>\n",
       "      <td>Carbon River</td>\n",
       "      <td>0.0</td>\n",
       "      <td>0.0</td>\n",
       "      <td>0.0</td>\n",
       "      <td>0.0</td>\n",
       "    </tr>\n",
       "    <tr>\n",
       "      <th>5</th>\n",
       "      <td>Mowich Lake</td>\n",
       "      <td>0.0</td>\n",
       "      <td>0.0</td>\n",
       "      <td>0.0</td>\n",
       "      <td>0.0</td>\n",
       "    </tr>\n",
       "  </tbody>\n",
       "</table>\n",
       "</div>"
      ],
      "text/plain": [
       "                    Name  JAM_STAND_STILL_TRAFFIC  JAM_HEAVY_TRAFFIC  \\\n",
       "0            Cayuse Pass                    108.0               14.0   \n",
       "1  SR-410 and Sunrise Rd                    459.0              135.0   \n",
       "2              Nisqually                      0.0                0.0   \n",
       "3         Stevens Canyon                      0.0                0.0   \n",
       "4           Carbon River                      0.0                0.0   \n",
       "5            Mowich Lake                      0.0                0.0   \n",
       "\n",
       "   No Details Captured  JAM_MODERATE_TRAFFIC  \n",
       "0                  0.0                   4.0  \n",
       "1                  0.0                  21.0  \n",
       "2                  0.0                   0.0  \n",
       "3                  0.0                   0.0  \n",
       "4                  0.0                   0.0  \n",
       "5                  0.0                   0.0  "
      ]
     },
     "execution_count": 13,
     "metadata": {},
     "output_type": "execute_result"
    }
   ],
   "source": [
    "#Counting the types of traffic jams at each Entrance SOMETHING WRONG CHECK AGAIN\n",
    "entrances = ['Cayuse Pass', 'SR-410 and Sunrise Rd', 'Nisqually', 'Stevens Canyon','Carbon River','Mowich Lake']   \n",
    "\n",
    "entrances_df_jams = pd.DataFrame({'Name':entrances})\n",
    "\n",
    "for x in df_jams.sub_type.unique():\n",
    "    temp_df = df_jams.loc[df_jams['sub_type']==x]\n",
    "    if str(x) =='nan':\n",
    "        x=\"No Details Captured\"\n",
    "        temp_df = df_accidents.loc[df_jams['sub_type'].isin(['JAM_MODERATE_TRAFFIC','JAM_HEAVY_TRAFFIC', 'JAM_STAND_STILL_TRAFFIC'])==False]\n",
    "        \n",
    "\n",
    "    print(x, \": \", len(temp_df))\n",
    "    \n",
    "    temp_df_entrances = temp_df.groupby(['Name']).count()\n",
    "    temp_df_entrances= temp_df_entrances.reset_index()\n",
    "\n",
    "    temp_df_entrances = temp_df_entrances[['Name','alert_char_crc']]\n",
    "    \n",
    "    temp_df_entrances['alert_char_crc']=temp_df_entrances['alert_char_crc']\n",
    "    temp_df_entrances.Name = temp_df_entrances.Name.astype(\"category\")\n",
    "    temp_df_entrances.Name.cat.set_categories(entrances, inplace=True)\n",
    "    temp_df_entrances = temp_df_entrances.sort_values('Name')\n",
    "    temp_df_entrances= temp_df_entrances.reset_index()\n",
    "    entrances_df_jams[x] =temp_df_entrances[['alert_char_crc']] \n",
    "\n",
    "entrances_df_jams.fillna(0)"
   ]
  },
  {
   "cell_type": "code",
   "execution_count": 14,
   "id": "9134070d",
   "metadata": {},
   "outputs": [
    {
     "data": {
      "image/png": "[encoded data removed]",
      "text/plain": [
       "<Figure size 1080x720 with 1 Axes>"
      ]
     },
     "metadata": {},
     "output_type": "display_data"
    }
   ],
   "source": [
    "plt.style.use('seaborn')\n",
    "tick_spacing = 1\n",
    "\n",
    "entrances = ['Cayuse Pass', 'SR-410 and Sunrise Rd', 'Nisqually', 'Stevens Canyon','Carbon River','Mowich Lake']  \n",
    "\n",
    "fig, ax = plt.subplots(1,1,figsize=(15,10))\n",
    "ax.bar(entrances,entrances_df_jams['JAM_MODERATE_TRAFFIC'], label = 'Moderate Traffic Jams', linewidth=1)\n",
    "ax.bar(entrances,entrances_df_jams['JAM_HEAVY_TRAFFIC'], label = 'Heavy Traffic Jams', \n",
    "       bottom = entrances_df_jams['JAM_MODERATE_TRAFFIC'] , linewidth=1, color = 'orange')\n",
    "ax.bar(entrances,entrances_df_jams['JAM_STAND_STILL_TRAFFIC'], label = 'Stand Still Traffic', \n",
    "       bottom = entrances_df_jams['JAM_HEAVY_TRAFFIC']+entrances_df_jams['JAM_MODERATE_TRAFFIC'] , linewidth=1, color = 'salmon')\n",
    "\n",
    "ax.set_title('Traffic Jam Alerts by Entrance March 2017-March 2021',fontsize= 35, pad = 20) # title of plot\n",
    "\n",
    "ax.set_xlabel('Entrance',fontsize = 30) #xlabel\n",
    "ax.set_ylabel('Number of Waze Crash Alerts', fontsize = 30)#ylabel\n",
    "ax.xaxis.set_major_locator(ticker.MultipleLocator(tick_spacing))\n",
    "ax.tick_params(axis='x', which='major', labelsize=25,rotation = 25)\n",
    "ax.tick_params(axis='y', which='major', labelsize=25)\n",
    "ax.tick_params(axis='both', which='minor', labelsize=8)\n",
    "ax.grid('on')\n",
    "plt.legend(fontsize = 24)\n",
    "plt.show()"
   ]
  },
  {
   "cell_type": "code",
   "execution_count": 15,
   "id": "c7602a8b",
   "metadata": {},
   "outputs": [],
   "source": [
    "#Removing Road Closure Alerts \n",
    "nonclosureAlerts = alerts_with_entrance.loc[df.sub_type != 'ROAD_CLOSED_EVENT']"
   ]
  },
  {
   "cell_type": "code",
   "execution_count": 16,
   "id": "ba4371cc",
   "metadata": {},
   "outputs": [],
   "source": [
    "nonclosureAlerts.to_csv(\"nonclosureAlerts.csv\",index=False,mode='w')"
   ]
  },
  {
   "cell_type": "code",
   "execution_count": 17,
   "id": "79944ae3",
   "metadata": {},
   "outputs": [
    {
     "data": {
      "text/plain": [
       "JAM_STAND_STILL_TRAFFIC           567\n",
       "JAM_HEAVY_TRAFFIC                 149\n",
       "JAM_MODERATE_TRAFFIC               25\n",
       "HAZARD_ON_SHOULDER_CAR_STOPPED     10\n",
       "HAZARD_ON_ROAD_CONSTRUCTION         9\n",
       "HAZARD_ON_ROAD_CAR_STOPPED          1\n",
       "HAZARD_ON_SHOULDER_ANIMALS          1\n",
       "HAZARD_ON_ROAD_OBJECT               1\n",
       "Name: sub_type, dtype: int64"
      ]
     },
     "execution_count": 17,
     "metadata": {},
     "output_type": "execute_result"
    }
   ],
   "source": [
    "nonclosureAlerts.sub_type.value_counts()"
   ]
  },
  {
   "cell_type": "code",
   "execution_count": 18,
   "id": "47e6f420",
   "metadata": {},
   "outputs": [
    {
     "data": {
      "text/html": [
       "<div>\n",
       "<style scoped>\n",
       "    .dataframe tbody tr th:only-of-type {\n",
       "        vertical-align: middle;\n",
       "    }\n",
       "\n",
       "    .dataframe tbody tr th {\n",
       "        vertical-align: top;\n",
       "    }\n",
       "\n",
       "    .dataframe thead th {\n",
       "        text-align: right;\n",
       "    }\n",
       "</style>\n",
       "<table border=\"1\" class=\"dataframe\">\n",
       "  <thead>\n",
       "    <tr style=\"text-align: right;\">\n",
       "      <th></th>\n",
       "      <th>Name</th>\n",
       "      <th>alert_char_crc</th>\n",
       "    </tr>\n",
       "  </thead>\n",
       "  <tbody>\n",
       "    <tr>\n",
       "      <th>0</th>\n",
       "      <td>Cayuse Pass</td>\n",
       "      <td>2</td>\n",
       "    </tr>\n",
       "    <tr>\n",
       "      <th>1</th>\n",
       "      <td>Nisqually</td>\n",
       "      <td>682</td>\n",
       "    </tr>\n",
       "    <tr>\n",
       "      <th>2</th>\n",
       "      <td>SR-410 and Sunrise Rd</td>\n",
       "      <td>133</td>\n",
       "    </tr>\n",
       "    <tr>\n",
       "      <th>3</th>\n",
       "      <td>Stevens Canyon</td>\n",
       "      <td>1</td>\n",
       "    </tr>\n",
       "  </tbody>\n",
       "</table>\n",
       "</div>"
      ],
      "text/plain": [
       "                    Name  alert_char_crc\n",
       "0            Cayuse Pass               2\n",
       "1              Nisqually             682\n",
       "2  SR-410 and Sunrise Rd             133\n",
       "3         Stevens Canyon               1"
      ]
     },
     "execution_count": 18,
     "metadata": {},
     "output_type": "execute_result"
    }
   ],
   "source": [
    "#Number of Total Alerts at Each entrance\n",
    "df_ent_groupedNOclosed=nonclosureAlerts.groupby(['Name']).count()\n",
    "df_ent_groupedNOclosed=df_ent_groupedNOclosed.reset_index()\n",
    "df_ent_groupedNOclosed=df_ent_groupedNOclosed[['Name','alert_char_crc']].sort_values(by='Name')\n",
    "df_ent_groupedNOclosed"
   ]
  },
  {
   "cell_type": "code",
   "execution_count": 19,
   "id": "5e0a6f9a",
   "metadata": {},
   "outputs": [
    {
     "data": {
      "application/vnd.plotly.v1+json": {
       "config": {
        "plotlyServerURL": "https://plot.ly"
       },
       "data": [
        {
         "cells": {
          "align": "left",
          "fill": {
           "color": "lavender"
          },
          "values": [
           [
            "Cayuse Pass",
            "Nisqually",
            "SR-410 and Sunrise Rd",
            "Stevens Canyon"
           ],
           [
            2,
            682,
            133,
            1
           ]
          ]
         },
         "header": {
          "align": "left",
          "fill": {
           "color": "paleturquoise"
          },
          "values": [
           "Name",
           "alert_char_crc"
          ]
         },
         "type": "table",
         "uid": "7b8c327a-750d-4cd5-85fe-95d4cf3b1d70"
        }
       ],
       "layout": {}
      }
     },
     "metadata": {},
     "output_type": "display_data"
    }
   ],
   "source": [
    "fig = go.Figure(data=[go.Table(\n",
    "    header=dict(values=list(df_ent_groupedNOclosed.columns),\n",
    "                fill_color='paleturquoise',\n",
    "                align='left'),\n",
    "    cells=dict(values=[df_ent_groupedNOclosed.Name, df_ent_groupedNOclosed.alert_char_crc],\n",
    "               fill_color='lavender',\n",
    "               align='left'))\n",
    "])\n",
    "\n",
    "fig.show()"
   ]
  },
  {
   "cell_type": "code",
   "execution_count": null,
   "id": "3e6a91c1",
   "metadata": {},
   "outputs": [],
   "source": []
  },
  {
   "cell_type": "code",
   "execution_count": 20,
   "id": "9907784f",
   "metadata": {},
   "outputs": [
    {
     "data": {
      "image/png": "[encoded data removed]",
      "text/plain": [
       "<Figure size 1008x504 with 1 Axes>"
      ]
     },
     "metadata": {},
     "output_type": "display_data"
    }
   ],
   "source": [
    "plt.style.use('seaborn')\n",
    "\n",
    "tick_spacing = 3 \n",
    "fig,ax = plt.subplots(1,1, figsize=(14, 7))\n",
    "ax.bar(df_ent_groupedNOclosed.Name, df_ent_groupedNOclosed.alert_char_crc, linewidth=4)\n",
    "ax.set_title('Waze Alerts at Entrances 2017-2021 (excluding closures)', fontsize=20)\n",
    "\n",
    "ax.set_xlabel('Entrance Name', fontsize=20)\n",
    "ax.set_ylabel('Number of Waze Alerts', fontsize=20)\n",
    "ax.grid('off')\n",
    "\n",
    "plt.show()"
   ]
  },
  {
   "cell_type": "code",
   "execution_count": 21,
   "id": "f9247b18",
   "metadata": {},
   "outputs": [
    {
     "data": {
      "text/html": [
       "<div>\n",
       "<style scoped>\n",
       "    .dataframe tbody tr th:only-of-type {\n",
       "        vertical-align: middle;\n",
       "    }\n",
       "\n",
       "    .dataframe tbody tr th {\n",
       "        vertical-align: top;\n",
       "    }\n",
       "\n",
       "    .dataframe thead th {\n",
       "        text-align: right;\n",
       "    }\n",
       "</style>\n",
       "<table border=\"1\" class=\"dataframe\">\n",
       "  <thead>\n",
       "    <tr style=\"text-align: right;\">\n",
       "      <th></th>\n",
       "      <th>Name</th>\n",
       "      <th>alert_char_crc</th>\n",
       "      <th>IRMA Counts</th>\n",
       "    </tr>\n",
       "  </thead>\n",
       "  <tbody>\n",
       "    <tr>\n",
       "      <th>0</th>\n",
       "      <td>Cayuse Pass</td>\n",
       "      <td>2</td>\n",
       "      <td>472187</td>\n",
       "    </tr>\n",
       "    <tr>\n",
       "      <th>1</th>\n",
       "      <td>Nisqually</td>\n",
       "      <td>682</td>\n",
       "      <td>1087426</td>\n",
       "    </tr>\n",
       "    <tr>\n",
       "      <th>2</th>\n",
       "      <td>SR-410 and Sunrise Rd</td>\n",
       "      <td>133</td>\n",
       "      <td>771349</td>\n",
       "    </tr>\n",
       "    <tr>\n",
       "      <th>3</th>\n",
       "      <td>Stevens Canyon</td>\n",
       "      <td>1</td>\n",
       "      <td>433493</td>\n",
       "    </tr>\n",
       "  </tbody>\n",
       "</table>\n",
       "</div>"
      ],
      "text/plain": [
       "                    Name  alert_char_crc  IRMA Counts\n",
       "0            Cayuse Pass               2       472187\n",
       "1              Nisqually             682      1087426\n",
       "2  SR-410 and Sunrise Rd             133       771349\n",
       "3         Stevens Canyon               1       433493"
      ]
     },
     "execution_count": 21,
     "metadata": {},
     "output_type": "execute_result"
    }
   ],
   "source": [
    "#Adding IRMA traffic counts to # alerts dataframe without closed \n",
    "d = {'Name': ['Nisqually','Stevens Canyon','Cayuse Pass','SR-410 and Sunrise Rd','Mowich Lake','Carbon River'], 'IRMA Counts': [1087426, 433493, 472187, 771349, 553362, 111790]}\n",
    "IRMA = pd.DataFrame(data=d)\n",
    "wazeIrma=df_ent_groupedNOclosed.join(IRMA.set_index('Name'), on='Name')\n",
    "wazeIrma"
   ]
  },
  {
   "cell_type": "code",
   "execution_count": 22,
   "id": "c0756ac2",
   "metadata": {},
   "outputs": [
    {
     "data": {
      "text/html": [
       "<div>\n",
       "<style scoped>\n",
       "    .dataframe tbody tr th:only-of-type {\n",
       "        vertical-align: middle;\n",
       "    }\n",
       "\n",
       "    .dataframe tbody tr th {\n",
       "        vertical-align: top;\n",
       "    }\n",
       "\n",
       "    .dataframe thead th {\n",
       "        text-align: right;\n",
       "    }\n",
       "</style>\n",
       "<table border=\"1\" class=\"dataframe\">\n",
       "  <thead>\n",
       "    <tr style=\"text-align: right;\">\n",
       "      <th></th>\n",
       "      <th>Name</th>\n",
       "      <th>alert_char_crc</th>\n",
       "      <th>IRMA Counts</th>\n",
       "      <th>WAZE percent</th>\n",
       "      <th>IRMA percent</th>\n",
       "    </tr>\n",
       "  </thead>\n",
       "  <tbody>\n",
       "    <tr>\n",
       "      <th>0</th>\n",
       "      <td>Cayuse Pass</td>\n",
       "      <td>2</td>\n",
       "      <td>472187</td>\n",
       "      <td>0.244499</td>\n",
       "      <td>17.080654</td>\n",
       "    </tr>\n",
       "    <tr>\n",
       "      <th>1</th>\n",
       "      <td>Nisqually</td>\n",
       "      <td>682</td>\n",
       "      <td>1087426</td>\n",
       "      <td>83.374083</td>\n",
       "      <td>39.335999</td>\n",
       "    </tr>\n",
       "    <tr>\n",
       "      <th>2</th>\n",
       "      <td>SR-410 and Sunrise Rd</td>\n",
       "      <td>133</td>\n",
       "      <td>771349</td>\n",
       "      <td>16.259169</td>\n",
       "      <td>27.902389</td>\n",
       "    </tr>\n",
       "    <tr>\n",
       "      <th>3</th>\n",
       "      <td>Stevens Canyon</td>\n",
       "      <td>1</td>\n",
       "      <td>433493</td>\n",
       "      <td>0.122249</td>\n",
       "      <td>15.680957</td>\n",
       "    </tr>\n",
       "  </tbody>\n",
       "</table>\n",
       "</div>"
      ],
      "text/plain": [
       "                    Name  alert_char_crc  IRMA Counts  WAZE percent  \\\n",
       "0            Cayuse Pass               2       472187      0.244499   \n",
       "1              Nisqually             682      1087426     83.374083   \n",
       "2  SR-410 and Sunrise Rd             133       771349     16.259169   \n",
       "3         Stevens Canyon               1       433493      0.122249   \n",
       "\n",
       "   IRMA percent  \n",
       "0     17.080654  \n",
       "1     39.335999  \n",
       "2     27.902389  \n",
       "3     15.680957  "
      ]
     },
     "execution_count": 22,
     "metadata": {},
     "output_type": "execute_result"
    }
   ],
   "source": [
    "wazeIrma['WAZE percent'] = (wazeIrma['alert_char_crc'] / wazeIrma['alert_char_crc'].sum()) * 100\n",
    "wazeIrma['IRMA percent'] = (wazeIrma['IRMA Counts'] / wazeIrma['IRMA Counts'].sum()) * 100\n",
    "wazeIrma  "
   ]
  },
  {
   "cell_type": "code",
   "execution_count": 23,
   "id": "54b4f920",
   "metadata": {},
   "outputs": [],
   "source": [
    "#opening link locations shapefile\n",
    "gpd.io.file.fiona.drvsupport.supported_drivers['KML'] = 'rw'\n",
    "links = gpd.read_file('FOTSCLBS Corresponding Polygons.kml', driver='KML')"
   ]
  },
  {
   "cell_type": "code",
   "execution_count": 24,
   "id": "2dd9bc30",
   "metadata": {},
   "outputs": [],
   "source": [
    "#clip alerts to LBS measurement points and join \n",
    "MORAalertsLBS=gpd.clip(alertPoints,links)\n",
    "alertsAlongLinks=gpd.sjoin(MORAalertsLBS,links,how=\"inner\", op='intersects')"
   ]
  },
  {
   "cell_type": "code",
   "execution_count": 25,
   "id": "476807a5",
   "metadata": {},
   "outputs": [],
   "source": [
    "#Number of Total Alerts at Each link\n",
    "linkAlerts=alertsAlongLinks.groupby(['Name']).count()\n",
    "linkAlerts=linkAlerts.reset_index()\n",
    "linkAlerts=linkAlerts[['Name','alert_char_crc']].sort_values(by='Name')"
   ]
  },
  {
   "cell_type": "code",
   "execution_count": 26,
   "id": "cccdca3a",
   "metadata": {},
   "outputs": [],
   "source": [
    "#Adding FOTSC & LBS traffic counts to # alerts dataframe\n",
    "d = {'Name': ['East/West Nisqually','SR 410 N of Sunrise Rd','SR 410 S of Sunrise Rd','Sunrise Rd. W of SR 410','West/East Stevens Canyon Rd. West of SR123'],\n",
    "     'FOTSC Counts': [275453, 337421, 291879, 163190, 137699],\n",
    "    'LBS Counts':[16641, 14844, 11013, 10399, 8056]}\n",
    "flows = pd.DataFrame(data=d)\n",
    "alertsAndFlows=linkAlerts.join(flows.set_index('Name'), on='Name')"
   ]
  },
  {
   "cell_type": "code",
   "execution_count": 27,
   "id": "b8b3d6e0",
   "metadata": {},
   "outputs": [
    {
     "data": {
      "text/html": [
       "<div>\n",
       "<style scoped>\n",
       "    .dataframe tbody tr th:only-of-type {\n",
       "        vertical-align: middle;\n",
       "    }\n",
       "\n",
       "    .dataframe tbody tr th {\n",
       "        vertical-align: top;\n",
       "    }\n",
       "\n",
       "    .dataframe thead th {\n",
       "        text-align: right;\n",
       "    }\n",
       "</style>\n",
       "<table border=\"1\" class=\"dataframe\">\n",
       "  <thead>\n",
       "    <tr style=\"text-align: right;\">\n",
       "      <th></th>\n",
       "      <th>Name</th>\n",
       "      <th>alert_char_crc</th>\n",
       "      <th>FOTSC Counts</th>\n",
       "      <th>LBS Counts</th>\n",
       "      <th>WAZE percent</th>\n",
       "      <th>LBS percent</th>\n",
       "      <th>FOTSC percent</th>\n",
       "    </tr>\n",
       "  </thead>\n",
       "  <tbody>\n",
       "    <tr>\n",
       "      <th>0</th>\n",
       "      <td>East/West Nisqually</td>\n",
       "      <td>730</td>\n",
       "      <td>275453</td>\n",
       "      <td>16641</td>\n",
       "      <td>19.671248</td>\n",
       "      <td>22.846998</td>\n",
       "      <td>27.301363</td>\n",
       "    </tr>\n",
       "    <tr>\n",
       "      <th>1</th>\n",
       "      <td>SR 410 N of Sunrise Rd</td>\n",
       "      <td>1</td>\n",
       "      <td>337421</td>\n",
       "      <td>14844</td>\n",
       "      <td>0.026947</td>\n",
       "      <td>27.986832</td>\n",
       "      <td>24.353190</td>\n",
       "    </tr>\n",
       "    <tr>\n",
       "      <th>2</th>\n",
       "      <td>SR 410 S of Sunrise Rd</td>\n",
       "      <td>2454</td>\n",
       "      <td>291879</td>\n",
       "      <td>11013</td>\n",
       "      <td>66.127728</td>\n",
       "      <td>24.209425</td>\n",
       "      <td>18.068020</td>\n",
       "    </tr>\n",
       "    <tr>\n",
       "      <th>3</th>\n",
       "      <td>Sunrise Rd. W of SR 410</td>\n",
       "      <td>180</td>\n",
       "      <td>163190</td>\n",
       "      <td>10399</td>\n",
       "      <td>4.850445</td>\n",
       "      <td>13.535527</td>\n",
       "      <td>17.060686</td>\n",
       "    </tr>\n",
       "    <tr>\n",
       "      <th>4</th>\n",
       "      <td>West/East Stevens Canyon Rd. West of SR123</td>\n",
       "      <td>346</td>\n",
       "      <td>137699</td>\n",
       "      <td>8056</td>\n",
       "      <td>9.323632</td>\n",
       "      <td>11.421218</td>\n",
       "      <td>13.216741</td>\n",
       "    </tr>\n",
       "  </tbody>\n",
       "</table>\n",
       "</div>"
      ],
      "text/plain": [
       "                                         Name  alert_char_crc  FOTSC Counts  \\\n",
       "0                         East/West Nisqually             730        275453   \n",
       "1                      SR 410 N of Sunrise Rd               1        337421   \n",
       "2                      SR 410 S of Sunrise Rd            2454        291879   \n",
       "3                     Sunrise Rd. W of SR 410             180        163190   \n",
       "4  West/East Stevens Canyon Rd. West of SR123             346        137699   \n",
       "\n",
       "   LBS Counts  WAZE percent  LBS percent  FOTSC percent  \n",
       "0       16641     19.671248    22.846998      27.301363  \n",
       "1       14844      0.026947    27.986832      24.353190  \n",
       "2       11013     66.127728    24.209425      18.068020  \n",
       "3       10399      4.850445    13.535527      17.060686  \n",
       "4        8056      9.323632    11.421218      13.216741  "
      ]
     },
     "execution_count": 27,
     "metadata": {},
     "output_type": "execute_result"
    }
   ],
   "source": [
    "#Calculating Percentages\n",
    "alertsAndFlows['WAZE percent'] = (alertsAndFlows['alert_char_crc'] / alertsAndFlows['alert_char_crc'].sum()) * 100\n",
    "alertsAndFlows['LBS percent'] = (alertsAndFlows['FOTSC Counts'] / alertsAndFlows['FOTSC Counts'].sum()) * 100\n",
    "alertsAndFlows['FOTSC percent'] = (alertsAndFlows['LBS Counts'] / alertsAndFlows['LBS Counts'].sum()) * 100\n",
    "alertsAndFlows"
   ]
  },
  {
   "cell_type": "code",
   "execution_count": 28,
   "id": "77b93136",
   "metadata": {},
   "outputs": [
    {
     "data": {
      "text/html": [
       "<div>\n",
       "<style scoped>\n",
       "    .dataframe tbody tr th:only-of-type {\n",
       "        vertical-align: middle;\n",
       "    }\n",
       "\n",
       "    .dataframe tbody tr th {\n",
       "        vertical-align: top;\n",
       "    }\n",
       "\n",
       "    .dataframe thead th {\n",
       "        text-align: right;\n",
       "    }\n",
       "</style>\n",
       "<table border=\"1\" class=\"dataframe\">\n",
       "  <thead>\n",
       "    <tr style=\"text-align: right;\">\n",
       "      <th></th>\n",
       "      <th>Name</th>\n",
       "      <th>alert_char_crc</th>\n",
       "      <th>FOTSC Counts</th>\n",
       "      <th>LBS Counts</th>\n",
       "      <th>WAZE percent</th>\n",
       "      <th>FOTSC percent</th>\n",
       "      <th>LBS percent</th>\n",
       "    </tr>\n",
       "  </thead>\n",
       "  <tbody>\n",
       "    <tr>\n",
       "      <th>0</th>\n",
       "      <td>East/West Nisqually</td>\n",
       "      <td>683</td>\n",
       "      <td>275453</td>\n",
       "      <td>16641</td>\n",
       "      <td>84.529703</td>\n",
       "      <td>27.301363</td>\n",
       "      <td>22.846998</td>\n",
       "    </tr>\n",
       "    <tr>\n",
       "      <th>1</th>\n",
       "      <td>SR 410 N of Sunrise Rd</td>\n",
       "      <td>1</td>\n",
       "      <td>337421</td>\n",
       "      <td>14844</td>\n",
       "      <td>0.123762</td>\n",
       "      <td>24.353190</td>\n",
       "      <td>27.986832</td>\n",
       "    </tr>\n",
       "    <tr>\n",
       "      <th>2</th>\n",
       "      <td>SR 410 S of Sunrise Rd</td>\n",
       "      <td>3</td>\n",
       "      <td>291879</td>\n",
       "      <td>11013</td>\n",
       "      <td>0.371287</td>\n",
       "      <td>18.068020</td>\n",
       "      <td>24.209425</td>\n",
       "    </tr>\n",
       "    <tr>\n",
       "      <th>3</th>\n",
       "      <td>Sunrise Rd. W of SR 410</td>\n",
       "      <td>120</td>\n",
       "      <td>163190</td>\n",
       "      <td>10399</td>\n",
       "      <td>14.851485</td>\n",
       "      <td>17.060686</td>\n",
       "      <td>13.535527</td>\n",
       "    </tr>\n",
       "    <tr>\n",
       "      <th>4</th>\n",
       "      <td>West/East Stevens Canyon Rd. West of SR123</td>\n",
       "      <td>1</td>\n",
       "      <td>137699</td>\n",
       "      <td>8056</td>\n",
       "      <td>0.123762</td>\n",
       "      <td>13.216741</td>\n",
       "      <td>11.421218</td>\n",
       "    </tr>\n",
       "  </tbody>\n",
       "</table>\n",
       "</div>"
      ],
      "text/plain": [
       "                                         Name  alert_char_crc  FOTSC Counts  \\\n",
       "0                         East/West Nisqually             683        275453   \n",
       "1                      SR 410 N of Sunrise Rd               1        337421   \n",
       "2                      SR 410 S of Sunrise Rd               3        291879   \n",
       "3                     Sunrise Rd. W of SR 410             120        163190   \n",
       "4  West/East Stevens Canyon Rd. West of SR123               1        137699   \n",
       "\n",
       "   LBS Counts  WAZE percent  FOTSC percent  LBS percent  \n",
       "0       16641     84.529703      27.301363    22.846998  \n",
       "1       14844      0.123762      24.353190    27.986832  \n",
       "2       11013      0.371287      18.068020    24.209425  \n",
       "3       10399     14.851485      17.060686    13.535527  \n",
       "4        8056      0.123762      13.216741    11.421218  "
      ]
     },
     "execution_count": 28,
     "metadata": {},
     "output_type": "execute_result"
    }
   ],
   "source": [
    "# LBS calculations without road closure\n",
    "#Removing Road Closure Alerts \n",
    "nonclosureAlerts = alertsAlongLinks[df.alert_type != 'ROAD_CLOSED']\n",
    "#Number of Total Alerts at Each LBS \n",
    "LBSnoClosed=nonclosureAlerts.groupby(['Name']).count()\n",
    "LBSnoClosed=LBSnoClosed.reset_index()\n",
    "LBSnoClosed=LBSnoClosed[['Name','alert_char_crc']].sort_values(by='Name')\n",
    "LBSnoClosed\n",
    "#Adding FOTSC & LBS traffic counts to # alerts dataframe\n",
    "d = {'Name': ['East/West Nisqually','SR 410 N of Sunrise Rd','SR 410 S of Sunrise Rd','Sunrise Rd. W of SR 410','West/East Stevens Canyon Rd. West of SR123'],\n",
    "     'FOTSC Counts': [275453, 337421, 291879, 163190, 137699],\n",
    "    'LBS Counts':[16641, 14844, 11013, 10399, 8056]}\n",
    "flows = pd.DataFrame(data=d)\n",
    "alertsAndFlows=LBSnoClosed.join(flows.set_index('Name'), on='Name')\n",
    "#Calculating Percentages\n",
    "alertsAndFlows['WAZE percent'] = (alertsAndFlows['alert_char_crc'] / alertsAndFlows['alert_char_crc'].sum()) * 100\n",
    "alertsAndFlows['FOTSC percent'] = (alertsAndFlows['LBS Counts'] / alertsAndFlows['LBS Counts'].sum()) * 100\n",
    "alertsAndFlows['LBS percent'] = (alertsAndFlows['FOTSC Counts'] / alertsAndFlows['FOTSC Counts'].sum()) * 100\n",
    "alertsAndFlows"
   ]
  },
  {
   "cell_type": "code",
   "execution_count": 29,
   "id": "c08aa883",
   "metadata": {},
   "outputs": [],
   "source": [
    "#working with full park shape \n",
    "gpd.io.file.fiona.drvsupport.supported_drivers['KML'] = 'rw'\n",
    "outline = gpd.read_file('ParkOutline.kml', driver='KML')\n",
    "MORAparkAlerts=gpd.clip(alertPoints,outline)"
   ]
  },
  {
   "cell_type": "code",
   "execution_count": 30,
   "id": "21658fc5",
   "metadata": {},
   "outputs": [
    {
     "data": {
      "text/plain": [
       "Low       24417\n",
       "Medium       64\n",
       "High          6\n",
       "Name: qRating, dtype: int64"
      ]
     },
     "execution_count": 30,
     "metadata": {},
     "output_type": "execute_result"
    }
   ],
   "source": [
    "#creating quality index and adding 3 levels \n",
    "MORAparkAlerts['Quality']=(MORAparkAlerts['reliability']+MORAparkAlerts['report_rating'])\n",
    "bins = [0, 7, 11, 16]\n",
    "names = ['Low', 'Medium', 'High']\n",
    "\n",
    "MORAparkAlerts['qRating'] = pd.cut(MORAparkAlerts['Quality'], bins, labels=names)\n",
    "MORAparkAlerts.qRating.value_counts()"
   ]
  },
  {
   "cell_type": "code",
   "execution_count": 31,
   "id": "f9f5a9b5",
   "metadata": {},
   "outputs": [],
   "source": [
    "def label_season(row):\n",
    "    if row['pub_utc_timestamp_date'].month in [1,2,3,4,11,12] or (row['pub_utc_timestamp_date'].month==5 and row['pub_utc_timestamp_date'].day<=15):\n",
    "        return('Winter')\n",
    "    elif row['pub_utc_timestamp_date'].month in [6] or (row['pub_utc_timestamp_date'].month==5 and row['pub_utc_timestamp_date'].day>15) or (row['pub_utc_timestamp_date'].month==10 and row['pub_utc_timestamp_date'].day<15):\n",
    "        return('Shoulder')\n",
    "    return('Peak')"
   ]
  },
  {
   "cell_type": "code",
   "execution_count": 32,
   "id": "5378c3ec",
   "metadata": {},
   "outputs": [],
   "source": [
    "MORAparkAlerts['pub_utc_timestamp_date']=pd.to_datetime(df['pub_utc_timestamp'])"
   ]
  },
  {
   "cell_type": "code",
   "execution_count": 33,
   "id": "e12168cc",
   "metadata": {},
   "outputs": [],
   "source": [
    "MORAparkAlerts['season']=MORAparkAlerts.apply(lambda row:label_season(row), axis=1)\n",
    "df_season_grouped=MORAparkAlerts.groupby(['season']).count()\n",
    "df_season_grouped=df_season_grouped.reset_index()\n",
    "df_season_grouped=df_season_grouped[['season','alert_char_crc']].sort_values(by='season')"
   ]
  },
  {
   "cell_type": "code",
   "execution_count": 34,
   "id": "be0fb33a",
   "metadata": {},
   "outputs": [],
   "source": [
    "MORAparkAlerts['day_of_week'] = MORAparkAlerts['pub_utc_timestamp_date'].dt.day_name()\n",
    "df_day_grouped=MORAparkAlerts.groupby(['day_of_week']).count()\n",
    "df_day_grouped=df_day_grouped.reset_index()\n",
    "df_day_grouped=df_day_grouped[['day_of_week','alert_char_crc']].sort_values(by='day_of_week')"
   ]
  },
  {
   "cell_type": "code",
   "execution_count": 35,
   "id": "671a509a",
   "metadata": {},
   "outputs": [],
   "source": [
    "#removing closures and doing weekday and seasonal analysis \n",
    "nonclosureAlertsPark = MORAparkAlerts[df.alert_type != 'ROAD_CLOSED']\n",
    "df_season_groupedNOclosed=nonclosureAlertsPark.groupby(['season']).count()\n",
    "df_season_groupedNOclosed=df_season_groupedNOclosed.reset_index()\n",
    "df_season_groupedNOclosed=df_season_groupedNOclosed[['season','alert_char_crc']].sort_values(by='season')\n"
   ]
  },
  {
   "cell_type": "code",
   "execution_count": 36,
   "id": "78f0ded8",
   "metadata": {},
   "outputs": [],
   "source": [
    "#day of the week without closed alerts \n",
    "df_day_groupedNOclosed=nonclosureAlertsPark.groupby(['day_of_week']).count()\n",
    "df_day_groupedNOclosed=df_day_groupedNOclosed.reset_index()\n",
    "df_day_groupedNOclosed=df_day_groupedNOclosed[['day_of_week','alert_char_crc']].sort_values(by='day_of_week')"
   ]
  },
  {
   "cell_type": "code",
   "execution_count": 37,
   "id": "555f2919",
   "metadata": {},
   "outputs": [
    {
     "data": {
      "text/html": [
       "<div>\n",
       "<style scoped>\n",
       "    .dataframe tbody tr th:only-of-type {\n",
       "        vertical-align: middle;\n",
       "    }\n",
       "\n",
       "    .dataframe tbody tr th {\n",
       "        vertical-align: top;\n",
       "    }\n",
       "\n",
       "    .dataframe thead th {\n",
       "        text-align: right;\n",
       "    }\n",
       "</style>\n",
       "<table border=\"1\" class=\"dataframe\">\n",
       "  <thead>\n",
       "    <tr style=\"text-align: right;\">\n",
       "      <th></th>\n",
       "      <th>day_of_week</th>\n",
       "      <th>alert_char_crc</th>\n",
       "      <th>Including Closure</th>\n",
       "    </tr>\n",
       "  </thead>\n",
       "  <tbody>\n",
       "    <tr>\n",
       "      <th>0</th>\n",
       "      <td>Friday</td>\n",
       "      <td>10</td>\n",
       "      <td>3463</td>\n",
       "    </tr>\n",
       "    <tr>\n",
       "      <th>1</th>\n",
       "      <td>Monday</td>\n",
       "      <td>8</td>\n",
       "      <td>3414</td>\n",
       "    </tr>\n",
       "    <tr>\n",
       "      <th>2</th>\n",
       "      <td>Saturday</td>\n",
       "      <td>41</td>\n",
       "      <td>3360</td>\n",
       "    </tr>\n",
       "    <tr>\n",
       "      <th>3</th>\n",
       "      <td>Sunday</td>\n",
       "      <td>42</td>\n",
       "      <td>3609</td>\n",
       "    </tr>\n",
       "    <tr>\n",
       "      <th>4</th>\n",
       "      <td>Thursday</td>\n",
       "      <td>8</td>\n",
       "      <td>3380</td>\n",
       "    </tr>\n",
       "    <tr>\n",
       "      <th>5</th>\n",
       "      <td>Tuesday</td>\n",
       "      <td>4</td>\n",
       "      <td>4017</td>\n",
       "    </tr>\n",
       "    <tr>\n",
       "      <th>6</th>\n",
       "      <td>Wednesday</td>\n",
       "      <td>9</td>\n",
       "      <td>3244</td>\n",
       "    </tr>\n",
       "  </tbody>\n",
       "</table>\n",
       "</div>"
      ],
      "text/plain": [
       "  day_of_week  alert_char_crc  Including Closure\n",
       "0      Friday              10               3463\n",
       "1      Monday               8               3414\n",
       "2    Saturday              41               3360\n",
       "3      Sunday              42               3609\n",
       "4    Thursday               8               3380\n",
       "5     Tuesday               4               4017\n",
       "6   Wednesday               9               3244"
      ]
     },
     "execution_count": 37,
     "metadata": {},
     "output_type": "execute_result"
    }
   ],
   "source": [
    "df_day_groupedNOclosed['Including Closure']=df_day_grouped['alert_char_crc']\n",
    "df_day_groupedNOclosed"
   ]
  },
  {
   "cell_type": "code",
   "execution_count": 38,
   "id": "db6a1184",
   "metadata": {},
   "outputs": [
    {
     "data": {
      "text/html": [
       "<div>\n",
       "<style scoped>\n",
       "    .dataframe tbody tr th:only-of-type {\n",
       "        vertical-align: middle;\n",
       "    }\n",
       "\n",
       "    .dataframe tbody tr th {\n",
       "        vertical-align: top;\n",
       "    }\n",
       "\n",
       "    .dataframe thead th {\n",
       "        text-align: right;\n",
       "    }\n",
       "</style>\n",
       "<table border=\"1\" class=\"dataframe\">\n",
       "  <thead>\n",
       "    <tr style=\"text-align: right;\">\n",
       "      <th></th>\n",
       "      <th>season</th>\n",
       "      <th>alert_char_crc</th>\n",
       "      <th>Including Closure</th>\n",
       "    </tr>\n",
       "  </thead>\n",
       "  <tbody>\n",
       "    <tr>\n",
       "      <th>0</th>\n",
       "      <td>Peak</td>\n",
       "      <td>106</td>\n",
       "      <td>385</td>\n",
       "    </tr>\n",
       "    <tr>\n",
       "      <th>1</th>\n",
       "      <td>Shoulder</td>\n",
       "      <td>15</td>\n",
       "      <td>536</td>\n",
       "    </tr>\n",
       "    <tr>\n",
       "      <th>2</th>\n",
       "      <td>Winter</td>\n",
       "      <td>1</td>\n",
       "      <td>23566</td>\n",
       "    </tr>\n",
       "  </tbody>\n",
       "</table>\n",
       "</div>"
      ],
      "text/plain": [
       "     season  alert_char_crc  Including Closure\n",
       "0      Peak             106                385\n",
       "1  Shoulder              15                536\n",
       "2    Winter               1              23566"
      ]
     },
     "execution_count": 38,
     "metadata": {},
     "output_type": "execute_result"
    }
   ],
   "source": [
    "df_season_groupedNOclosed['Including Closure']=df_season_grouped['alert_char_crc']\n",
    "df_season_groupedNOclosed"
   ]
  },
  {
   "cell_type": "code",
   "execution_count": 5,
   "id": "a3e159f8",
   "metadata": {},
   "outputs": [],
   "source": [
    "gpd.io.file.fiona.drvsupport.supported_drivers['KML'] = 'rw'\n",
    "region = gpd.read_file('MORA Region.kml', driver='KML')\n",
    "MORAregionAlerts=gpd.clip(alertPoints,region)\n",
    "MORAregionAlerts.to_csv(\"MORAregionAlerts.csv\",index=False,mode='w')"
   ]
  }
 ],
 "metadata": {
  "kernelspec": {
   "display_name": "geo-env",
   "language": "python",
   "name": "geo-env"
  },
  "language_info": {
   "codemirror_mode": {
    "name": "ipython",
    "version": 3
   },
   "file_extension": ".py",
   "mimetype": "text/x-python",
   "name": "python",
   "nbconvert_exporter": "python",
   "pygments_lexer": "ipython3",
   "version": "3.9.5"
  },
  "toc": {
   "base_numbering": 1,
   "nav_menu": {},
   "number_sections": true,
   "sideBar": true,
   "skip_h1_title": false,
   "title_cell": "Table of Contents",
   "title_sidebar": "Contents",
   "toc_cell": true,
   "toc_position": {
    "height": "calc(100% - 180px)",
    "left": "10px",
    "top": "150px",
    "width": "165px"
   },
   "toc_section_display": true,
   "toc_window_display": true
  }
 },
 "nbformat": 4,
 "nbformat_minor": 5
}
