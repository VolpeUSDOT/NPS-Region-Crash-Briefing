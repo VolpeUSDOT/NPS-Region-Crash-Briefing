{
 "cells": [
  {
   "cell_type": "code",
   "execution_count": 1,
   "id": "f6bb5cc6",
   "metadata": {},
   "outputs": [],
   "source": [
    "import pandas as pd\n",
    "import matplotlib.pyplot as plt\n",
    "from datetime import datetime\n",
    "import folium\n",
    "import numpy as np\n",
    "import matplotlib as mpl\n",
    "from folium.plugins import MarkerCluster\n",
    "import json\n",
    "import fiona \n",
    "import geopandas as gpd\n",
    "from shapely.geometry import Point\n",
    "import matplotlib.ticker as ticker"
   ]
  },
  {
   "cell_type": "code",
   "execution_count": 2,
   "id": "3e963864",
   "metadata": {},
   "outputs": [
    {
     "name": "stderr",
     "output_type": "stream",
     "text": [
      "C:\\Users\\Meredith.Raymer\\Anaconda3\\envs\\geo-env\\lib\\site-packages\\IPython\\core\\interactiveshell.py:3165: DtypeWarning: Columns (18) have mixed types.Specify dtype option on import or set low_memory=False.\n",
      "  has_raised = await self.run_ast_nodes(code_ast.body, cell_name,\n"
     ]
    }
   ],
   "source": [
    "#import WAZE data\n",
    "df=pd.read_csv('MORA_alerts.csv', encoding=\"ISO-8859-1\")"
   ]
  },
  {
   "cell_type": "code",
   "execution_count": 3,
   "id": "1d772676",
   "metadata": {},
   "outputs": [],
   "source": [
    "#opening link locations shapefile\n",
    "gpd.io.file.fiona.drvsupport.supported_drivers['KML'] = 'rw'\n",
    "links = gpd.read_file('FOTSCLBS Corresponding Polygons.kml', driver='KML')"
   ]
  },
  {
   "cell_type": "code",
   "execution_count": 4,
   "id": "07bc9aad",
   "metadata": {},
   "outputs": [
    {
     "name": "stderr",
     "output_type": "stream",
     "text": [
      "C:\\Users\\Meredith.Raymer\\Anaconda3\\envs\\geo-env\\lib\\site-packages\\pyproj\\crs\\crs.py:68: FutureWarning: '+init=<authority>:<code>' syntax is deprecated. '<authority>:<code>' is the preferred initialization method. When making the change, be mindful of axis order changes: https://pyproj4.github.io/pyproj/stable/gotchas.html#axis-order-changes-in-proj-6\n",
      "  return _prepare_from_string(\" \".join(pjargs))\n"
     ]
    }
   ],
   "source": [
    "#converting WAZE data fram into GeoDataFrame with geometry point \n",
    "alertPoints = gpd.GeoDataFrame(df, geometry=gpd.points_from_xy(df.location_lon, df.location_lat),crs={'init' :'epsg:4326'})\n",
    "alertPoints=alertPoints.to_crs(epsg=4326)"
   ]
  },
  {
   "cell_type": "code",
   "execution_count": 5,
   "id": "5c5e473d",
   "metadata": {},
   "outputs": [],
   "source": [
    "#clipping WAZE points to those within the entrance\n",
    "MORAalertsLBS=gpd.clip(alertPoints,links)"
   ]
  },
  {
   "cell_type": "code",
   "execution_count": 6,
   "id": "cdd3684b",
   "metadata": {},
   "outputs": [],
   "source": [
    "alertsAlongLinks=gpd.sjoin(MORAalerts,links,how=\"inner\", op='intersects')"
   ]
  },
  {
   "cell_type": "code",
   "execution_count": 10,
   "id": "f3cdc1bc",
   "metadata": {},
   "outputs": [],
   "source": [
    "#Number of Total Alerts at Each link\n",
    "linkAlerts=alertsAlongLinks.groupby(['Name']).count()\n",
    "linkAlerts=linkAlerts.reset_index()\n",
    "linkAlerts=linkAlerts[['Name','alert_char_crc']].sort_values(by='Name')"
   ]
  },
  {
   "cell_type": "code",
   "execution_count": 11,
   "id": "4d7c9b8e",
   "metadata": {},
   "outputs": [
    {
     "data": {
      "text/html": [
       "<div>\n",
       "<style scoped>\n",
       "    .dataframe tbody tr th:only-of-type {\n",
       "        vertical-align: middle;\n",
       "    }\n",
       "\n",
       "    .dataframe tbody tr th {\n",
       "        vertical-align: top;\n",
       "    }\n",
       "\n",
       "    .dataframe thead th {\n",
       "        text-align: right;\n",
       "    }\n",
       "</style>\n",
       "<table border=\"1\" class=\"dataframe\">\n",
       "  <thead>\n",
       "    <tr style=\"text-align: right;\">\n",
       "      <th></th>\n",
       "      <th>Name</th>\n",
       "      <th>alert_char_crc</th>\n",
       "      <th>FOTSC</th>\n",
       "      <th>LBS Generated</th>\n",
       "    </tr>\n",
       "  </thead>\n",
       "  <tbody>\n",
       "    <tr>\n",
       "      <th>0</th>\n",
       "      <td>East/West Nisqually</td>\n",
       "      <td>730</td>\n",
       "      <td>275453</td>\n",
       "      <td>16641</td>\n",
       "    </tr>\n",
       "    <tr>\n",
       "      <th>1</th>\n",
       "      <td>SR 410 N of Sunrise Rd</td>\n",
       "      <td>1</td>\n",
       "      <td>337421</td>\n",
       "      <td>14844</td>\n",
       "    </tr>\n",
       "    <tr>\n",
       "      <th>2</th>\n",
       "      <td>SR 410 S of Sunrise Rd</td>\n",
       "      <td>2454</td>\n",
       "      <td>291879</td>\n",
       "      <td>11013</td>\n",
       "    </tr>\n",
       "    <tr>\n",
       "      <th>3</th>\n",
       "      <td>Sunrise Rd. W of SR 410</td>\n",
       "      <td>180</td>\n",
       "      <td>163190</td>\n",
       "      <td>10399</td>\n",
       "    </tr>\n",
       "    <tr>\n",
       "      <th>4</th>\n",
       "      <td>West/East Stevens Canyon Rd. West of SR123</td>\n",
       "      <td>346</td>\n",
       "      <td>137699</td>\n",
       "      <td>8056</td>\n",
       "    </tr>\n",
       "  </tbody>\n",
       "</table>\n",
       "</div>"
      ],
      "text/plain": [
       "                                         Name  alert_char_crc   FOTSC  \\\n",
       "0                         East/West Nisqually             730  275453   \n",
       "1                      SR 410 N of Sunrise Rd               1  337421   \n",
       "2                      SR 410 S of Sunrise Rd            2454  291879   \n",
       "3                     Sunrise Rd. W of SR 410             180  163190   \n",
       "4  West/East Stevens Canyon Rd. West of SR123             346  137699   \n",
       "\n",
       "   LBS Generated  \n",
       "0          16641  \n",
       "1          14844  \n",
       "2          11013  \n",
       "3          10399  \n",
       "4           8056  "
      ]
     },
     "execution_count": 11,
     "metadata": {},
     "output_type": "execute_result"
    }
   ],
   "source": [
    "#Adding FOTSC & LBS traffic counts to # alerts dataframe\n",
    "d = {'Name': ['East/West Nisqually','SR 410 N of Sunrise Rd','SR 410 S of Sunrise Rd','Sunrise Rd. W of SR 410','West/East Stevens Canyon Rd. West of SR123'],\n",
    "     'FOTSC': [275453, 337421, 291879, 163190, 137699],\n",
    "    'LBS Generated':[16641, 14844, 11013, 10399, 8056]}\n",
    "flows = pd.DataFrame(data=d)\n",
    "alertsAndFlows=linkAlerts.join(flows.set_index('Name'), on='Name')\n",
    "alertsAndFlows"
   ]
  },
  {
   "cell_type": "code",
   "execution_count": null,
   "id": "fc7b4b6d",
   "metadata": {},
   "outputs": [],
   "source": []
  }
 ],
 "metadata": {
  "kernelspec": {
   "display_name": "geo-env",
   "language": "python",
   "name": "geo-env"
  },
  "language_info": {
   "codemirror_mode": {
    "name": "ipython",
    "version": 3
   },
   "file_extension": ".py",
   "mimetype": "text/x-python",
   "name": "python",
   "nbconvert_exporter": "python",
   "pygments_lexer": "ipython3",
   "version": "3.9.5"
  }
 },
 "nbformat": 4,
 "nbformat_minor": 5
}
