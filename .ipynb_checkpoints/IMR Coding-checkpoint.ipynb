{
 "cells": [
  {
   "cell_type": "code",
   "execution_count": 105,
   "metadata": {},
   "outputs": [],
   "source": [
    "import pandas as pd"
   ]
  },
  {
   "cell_type": "code",
   "execution_count": 106,
   "metadata": {},
   "outputs": [],
   "source": [
    "df = pd.read_csv('IMR_data.csv')"
   ]
  },
  {
   "cell_type": "code",
   "execution_count": 107,
   "metadata": {},
   "outputs": [
    {
     "data": {
      "text/html": [
       "<div>\n",
       "<style scoped>\n",
       "    .dataframe tbody tr th:only-of-type {\n",
       "        vertical-align: middle;\n",
       "    }\n",
       "\n",
       "    .dataframe tbody tr th {\n",
       "        vertical-align: top;\n",
       "    }\n",
       "\n",
       "    .dataframe thead th {\n",
       "        text-align: right;\n",
       "    }\n",
       "</style>\n",
       "<table border=\"1\" class=\"dataframe\">\n",
       "  <thead>\n",
       "    <tr style=\"text-align: right;\">\n",
       "      <th></th>\n",
       "      <th>Unit_Code</th>\n",
       "      <th>Average_of_Recreation_Visits_2008x2012</th>\n",
       "      <th>Average_crashes_per_year_2008x2012</th>\n",
       "      <th>Safety_Studies</th>\n",
       "    </tr>\n",
       "  </thead>\n",
       "  <tbody>\n",
       "    <tr>\n",
       "      <th>0</th>\n",
       "      <td>ALFL</td>\n",
       "      <td>3232</td>\n",
       "      <td>NaN</td>\n",
       "      <td>NaN</td>\n",
       "    </tr>\n",
       "    <tr>\n",
       "      <th>1</th>\n",
       "      <td>AMIS</td>\n",
       "      <td>1786653</td>\n",
       "      <td>NaN</td>\n",
       "      <td>NaN</td>\n",
       "    </tr>\n",
       "    <tr>\n",
       "      <th>2</th>\n",
       "      <td>ARCH</td>\n",
       "      <td>1010169</td>\n",
       "      <td>NaN</td>\n",
       "      <td>NaN</td>\n",
       "    </tr>\n",
       "    <tr>\n",
       "      <th>3</th>\n",
       "      <td>AZRU</td>\n",
       "      <td>40046</td>\n",
       "      <td>NaN</td>\n",
       "      <td>NaN</td>\n",
       "    </tr>\n",
       "    <tr>\n",
       "      <th>4</th>\n",
       "      <td>BAND</td>\n",
       "      <td>199860</td>\n",
       "      <td>NaN</td>\n",
       "      <td>NaN</td>\n",
       "    </tr>\n",
       "  </tbody>\n",
       "</table>\n",
       "</div>"
      ],
      "text/plain": [
       "  Unit_Code  Average_of_Recreation_Visits_2008x2012  \\\n",
       "0      ALFL                                    3232   \n",
       "1      AMIS                                 1786653   \n",
       "2      ARCH                                 1010169   \n",
       "3      AZRU                                   40046   \n",
       "4      BAND                                  199860   \n",
       "\n",
       "   Average_crashes_per_year_2008x2012  Safety_Studies  \n",
       "0                                 NaN             NaN  \n",
       "1                                 NaN             NaN  \n",
       "2                                 NaN             NaN  \n",
       "3                                 NaN             NaN  \n",
       "4                                 NaN             NaN  "
      ]
     },
     "execution_count": 107,
     "metadata": {},
     "output_type": "execute_result"
    }
   ],
   "source": [
    "df.head()"
   ]
  },
  {
   "cell_type": "code",
   "execution_count": 119,
   "metadata": {},
   "outputs": [
    {
     "data": {
      "text/html": [
       "<div>\n",
       "<style scoped>\n",
       "    .dataframe tbody tr th:only-of-type {\n",
       "        vertical-align: middle;\n",
       "    }\n",
       "\n",
       "    .dataframe tbody tr th {\n",
       "        vertical-align: top;\n",
       "    }\n",
       "\n",
       "    .dataframe thead th {\n",
       "        text-align: right;\n",
       "    }\n",
       "</style>\n",
       "<table border=\"1\" class=\"dataframe\">\n",
       "  <thead>\n",
       "    <tr style=\"text-align: right;\">\n",
       "      <th></th>\n",
       "      <th>Unit_Code</th>\n",
       "      <th>Average_of_Recreation_Visits_2008x2012</th>\n",
       "      <th>Average_crashes_per_year_2008x2012</th>\n",
       "      <th>Safety_Studies</th>\n",
       "    </tr>\n",
       "  </thead>\n",
       "  <tbody>\n",
       "    <tr>\n",
       "      <th>0</th>\n",
       "      <td>ALFL</td>\n",
       "      <td>3232</td>\n",
       "      <td>NaN</td>\n",
       "      <td>NaN</td>\n",
       "    </tr>\n",
       "    <tr>\n",
       "      <th>1</th>\n",
       "      <td>AMIS</td>\n",
       "      <td>1786653</td>\n",
       "      <td>NaN</td>\n",
       "      <td>NaN</td>\n",
       "    </tr>\n",
       "    <tr>\n",
       "      <th>2</th>\n",
       "      <td>ARCH</td>\n",
       "      <td>1010169</td>\n",
       "      <td>NaN</td>\n",
       "      <td>NaN</td>\n",
       "    </tr>\n",
       "    <tr>\n",
       "      <th>3</th>\n",
       "      <td>AZRU</td>\n",
       "      <td>40046</td>\n",
       "      <td>NaN</td>\n",
       "      <td>NaN</td>\n",
       "    </tr>\n",
       "    <tr>\n",
       "      <th>4</th>\n",
       "      <td>BAND</td>\n",
       "      <td>199860</td>\n",
       "      <td>NaN</td>\n",
       "      <td>NaN</td>\n",
       "    </tr>\n",
       "    <tr>\n",
       "      <th>...</th>\n",
       "      <td>...</td>\n",
       "      <td>...</td>\n",
       "      <td>...</td>\n",
       "      <td>...</td>\n",
       "    </tr>\n",
       "    <tr>\n",
       "      <th>74</th>\n",
       "      <td>WACA</td>\n",
       "      <td>118487</td>\n",
       "      <td>NaN</td>\n",
       "      <td>NaN</td>\n",
       "    </tr>\n",
       "    <tr>\n",
       "      <th>75</th>\n",
       "      <td>WHSA</td>\n",
       "      <td>451382</td>\n",
       "      <td>NaN</td>\n",
       "      <td>NaN</td>\n",
       "    </tr>\n",
       "    <tr>\n",
       "      <th>76</th>\n",
       "      <td>WUPA</td>\n",
       "      <td>222211</td>\n",
       "      <td>NaN</td>\n",
       "      <td>NaN</td>\n",
       "    </tr>\n",
       "    <tr>\n",
       "      <th>77</th>\n",
       "      <td>YELL</td>\n",
       "      <td>3368801</td>\n",
       "      <td>399.4</td>\n",
       "      <td>1.0</td>\n",
       "    </tr>\n",
       "    <tr>\n",
       "      <th>78</th>\n",
       "      <td>ZION</td>\n",
       "      <td>2778128</td>\n",
       "      <td>41.5</td>\n",
       "      <td>1.0</td>\n",
       "    </tr>\n",
       "  </tbody>\n",
       "</table>\n",
       "<p>79 rows × 4 columns</p>\n",
       "</div>"
      ],
      "text/plain": [
       "   Unit_Code  Average_of_Recreation_Visits_2008x2012  \\\n",
       "0       ALFL                                    3232   \n",
       "1       AMIS                                 1786653   \n",
       "2       ARCH                                 1010169   \n",
       "3       AZRU                                   40046   \n",
       "4       BAND                                  199860   \n",
       "..       ...                                     ...   \n",
       "74      WACA                                  118487   \n",
       "75      WHSA                                  451382   \n",
       "76      WUPA                                  222211   \n",
       "77      YELL                                 3368801   \n",
       "78      ZION                                 2778128   \n",
       "\n",
       "    Average_crashes_per_year_2008x2012  Safety_Studies  \n",
       "0                                  NaN             NaN  \n",
       "1                                  NaN             NaN  \n",
       "2                                  NaN             NaN  \n",
       "3                                  NaN             NaN  \n",
       "4                                  NaN             NaN  \n",
       "..                                 ...             ...  \n",
       "74                                 NaN             NaN  \n",
       "75                                 NaN             NaN  \n",
       "76                                 NaN             NaN  \n",
       "77                               399.4             1.0  \n",
       "78                                41.5             1.0  \n",
       "\n",
       "[79 rows x 4 columns]"
      ]
     },
     "execution_count": 119,
     "metadata": {},
     "output_type": "execute_result"
    }
   ],
   "source": [
    "df"
   ]
  },
  {
   "cell_type": "code",
   "execution_count": 155,
   "metadata": {},
   "outputs": [
    {
     "data": {
      "text/plain": [
       "1.00      5\n",
       "26.20     1\n",
       "399.40    1\n",
       "13.40     1\n",
       "2.00      1\n",
       "12.60     1\n",
       "77.40     1\n",
       "180.60    1\n",
       "12.00     1\n",
       "10.75     1\n",
       "11.75     1\n",
       "11.00     1\n",
       "41.50     1\n",
       "92.20     1\n",
       "10.40     1\n",
       "25.20     1\n",
       "Name: Average_crashes_per_year_2008x2012, dtype: int64"
      ]
     },
     "execution_count": 155,
     "metadata": {},
     "output_type": "execute_result"
    }
   ],
   "source": [
    "df.Average_crashes_per_year_2008x2012.value_counts()"
   ]
  },
  {
   "cell_type": "code",
   "execution_count": 110,
   "metadata": {},
   "outputs": [
    {
     "data": {
      "text/html": [
       "<div>\n",
       "<style scoped>\n",
       "    .dataframe tbody tr th:only-of-type {\n",
       "        vertical-align: middle;\n",
       "    }\n",
       "\n",
       "    .dataframe tbody tr th {\n",
       "        vertical-align: top;\n",
       "    }\n",
       "\n",
       "    .dataframe thead th {\n",
       "        text-align: right;\n",
       "    }\n",
       "</style>\n",
       "<table border=\"1\" class=\"dataframe\">\n",
       "  <thead>\n",
       "    <tr style=\"text-align: right;\">\n",
       "      <th></th>\n",
       "      <th>Average_of_Recreation_Visits_2008x2012</th>\n",
       "      <th>Average_crashes_per_year_2008x2012</th>\n",
       "      <th>Safety_Studies</th>\n",
       "    </tr>\n",
       "  </thead>\n",
       "  <tbody>\n",
       "    <tr>\n",
       "      <th>count</th>\n",
       "      <td>7.900000e+01</td>\n",
       "      <td>20.00000</td>\n",
       "      <td>12.000000</td>\n",
       "    </tr>\n",
       "    <tr>\n",
       "      <th>mean</th>\n",
       "      <td>5.263872e+05</td>\n",
       "      <td>46.57000</td>\n",
       "      <td>1.750000</td>\n",
       "    </tr>\n",
       "    <tr>\n",
       "      <th>std</th>\n",
       "      <td>8.533507e+05</td>\n",
       "      <td>93.82819</td>\n",
       "      <td>1.712255</td>\n",
       "    </tr>\n",
       "    <tr>\n",
       "      <th>min</th>\n",
       "      <td>1.045000e+03</td>\n",
       "      <td>1.00000</td>\n",
       "      <td>1.000000</td>\n",
       "    </tr>\n",
       "    <tr>\n",
       "      <th>25%</th>\n",
       "      <td>4.788900e+04</td>\n",
       "      <td>1.75000</td>\n",
       "      <td>1.000000</td>\n",
       "    </tr>\n",
       "    <tr>\n",
       "      <th>50%</th>\n",
       "      <td>1.716240e+05</td>\n",
       "      <td>11.87500</td>\n",
       "      <td>1.000000</td>\n",
       "    </tr>\n",
       "    <tr>\n",
       "      <th>75%</th>\n",
       "      <td>5.820340e+05</td>\n",
       "      <td>30.02500</td>\n",
       "      <td>2.000000</td>\n",
       "    </tr>\n",
       "    <tr>\n",
       "      <th>max</th>\n",
       "      <td>4.376260e+06</td>\n",
       "      <td>399.40000</td>\n",
       "      <td>7.000000</td>\n",
       "    </tr>\n",
       "  </tbody>\n",
       "</table>\n",
       "</div>"
      ],
      "text/plain": [
       "       Average_of_Recreation_Visits_2008x2012  \\\n",
       "count                            7.900000e+01   \n",
       "mean                             5.263872e+05   \n",
       "std                              8.533507e+05   \n",
       "min                              1.045000e+03   \n",
       "25%                              4.788900e+04   \n",
       "50%                              1.716240e+05   \n",
       "75%                              5.820340e+05   \n",
       "max                              4.376260e+06   \n",
       "\n",
       "       Average_crashes_per_year_2008x2012  Safety_Studies  \n",
       "count                            20.00000       12.000000  \n",
       "mean                             46.57000        1.750000  \n",
       "std                              93.82819        1.712255  \n",
       "min                               1.00000        1.000000  \n",
       "25%                               1.75000        1.000000  \n",
       "50%                              11.87500        1.000000  \n",
       "75%                              30.02500        2.000000  \n",
       "max                             399.40000        7.000000  "
      ]
     },
     "execution_count": 110,
     "metadata": {},
     "output_type": "execute_result"
    }
   ],
   "source": [
    "df.describe()"
   ]
  },
  {
   "cell_type": "code",
   "execution_count": 116,
   "metadata": {},
   "outputs": [
    {
     "data": {
      "text/html": [
       "<div>\n",
       "<style scoped>\n",
       "    .dataframe tbody tr th:only-of-type {\n",
       "        vertical-align: middle;\n",
       "    }\n",
       "\n",
       "    .dataframe tbody tr th {\n",
       "        vertical-align: top;\n",
       "    }\n",
       "\n",
       "    .dataframe thead th {\n",
       "        text-align: right;\n",
       "    }\n",
       "</style>\n",
       "<table border=\"1\" class=\"dataframe\">\n",
       "  <thead>\n",
       "    <tr style=\"text-align: right;\">\n",
       "      <th></th>\n",
       "      <th>Unit_Code</th>\n",
       "      <th>Average_of_Recreation_Visits_2008x2012</th>\n",
       "      <th>Average_crashes_per_year_2008x2012</th>\n",
       "      <th>Safety_Studies</th>\n",
       "    </tr>\n",
       "  </thead>\n",
       "  <tbody>\n",
       "    <tr>\n",
       "      <th>0</th>\n",
       "      <td>ALFL</td>\n",
       "      <td>3232</td>\n",
       "      <td>NaN</td>\n",
       "      <td>NaN</td>\n",
       "    </tr>\n",
       "  </tbody>\n",
       "</table>\n",
       "</div>"
      ],
      "text/plain": [
       "  Unit_Code  Average_of_Recreation_Visits_2008x2012  \\\n",
       "0      ALFL                                    3232   \n",
       "\n",
       "   Average_crashes_per_year_2008x2012  Safety_Studies  \n",
       "0                                 NaN             NaN  "
      ]
     },
     "execution_count": 116,
     "metadata": {},
     "output_type": "execute_result"
    }
   ],
   "source": [
    "df.loc[df['Average_of_Recreation_Visits_2008x2012']==3232]"
   ]
  },
  {
   "cell_type": "code",
   "execution_count": 117,
   "metadata": {},
   "outputs": [
    {
     "data": {
      "text/html": [
       "<div>\n",
       "<style scoped>\n",
       "    .dataframe tbody tr th:only-of-type {\n",
       "        vertical-align: middle;\n",
       "    }\n",
       "\n",
       "    .dataframe tbody tr th {\n",
       "        vertical-align: top;\n",
       "    }\n",
       "\n",
       "    .dataframe thead th {\n",
       "        text-align: right;\n",
       "    }\n",
       "</style>\n",
       "<table border=\"1\" class=\"dataframe\">\n",
       "  <thead>\n",
       "    <tr style=\"text-align: right;\">\n",
       "      <th></th>\n",
       "      <th>Unit_Code</th>\n",
       "      <th>Average_of_Recreation_Visits_2008x2012</th>\n",
       "      <th>Average_crashes_per_year_2008x2012</th>\n",
       "      <th>Safety_Studies</th>\n",
       "    </tr>\n",
       "  </thead>\n",
       "  <tbody>\n",
       "  </tbody>\n",
       "</table>\n",
       "</div>"
      ],
      "text/plain": [
       "Empty DataFrame\n",
       "Columns: [Unit_Code, Average_of_Recreation_Visits_2008x2012, Average_crashes_per_year_2008x2012, Safety_Studies]\n",
       "Index: []"
      ]
     },
     "execution_count": 117,
     "metadata": {},
     "output_type": "execute_result"
    }
   ],
   "source": [
    "df_visit.head()"
   ]
  },
  {
   "cell_type": "code",
   "execution_count": 113,
   "metadata": {},
   "outputs": [],
   "source": [
    "import matplotlib.pyplot as plt"
   ]
  },
  {
   "cell_type": "code",
   "execution_count": 114,
   "metadata": {},
   "outputs": [
    {
     "data": {
      "image/png": "[encoded data removed]",
      "text/plain": [
       "<Figure size 432x288 with 1 Axes>"
      ]
     },
     "metadata": {
      "needs_background": "light"
     },
     "output_type": "display_data"
    }
   ],
   "source": [
    "x=[1,2,3,4,5,7]\n",
    "y=[2,1,6,4,8,5]\n",
    "\n",
    "plt.plot(x,y,marker=\"o\")\n",
    "plt.xlabel(\"X-Axis\")\n",
    "plt.ylabel(\"Y-Axis\")\n",
    "plt.title(\"Figure with default X labels\")\n",
    "plt.show()"
   ]
  },
  {
   "cell_type": "code",
   "execution_count": 145,
   "metadata": {},
   "outputs": [],
   "source": [
    "df_visit = df.loc[df['Average_of_Recreation_Visits_2008x2012']>1]"
   ]
  },
  {
   "cell_type": "code",
   "execution_count": 146,
   "metadata": {},
   "outputs": [
    {
     "data": {
      "image/png": "[encoded data removed]",
      "text/plain": [
       "<Figure size 1224x432 with 1 Axes>"
      ]
     },
     "metadata": {
      "needs_background": "light"
     },
     "output_type": "display_data"
    }
   ],
   "source": [
    "# Defining the parks\n",
    "parks = df.Unit_Code\n",
    "\n",
    "# Define visits\n",
    "visit = df_visit.Average_of_Recreation_Visits_2008x2012\n",
    "\n",
    "# Define plot space\n",
    "fig, ax = plt.subplots(figsize=(17, 6))\n",
    "\n",
    "# Define x and y axes\n",
    "ax.bar(parks, \n",
    "        visit)\n",
    "ax.set(title = \"Average Visitation per Year by Park\",\n",
    "       xlabel = \"Parks\",\n",
    "       ylabel = \"Average Visitation per Year\")\n",
    "plt.xticks(rotation = 270)\n",
    "plt.show()\n",
    "\n",
    "#Why is the Y-axis displaing a tick for the value and not putting them in numerical order"
   ]
  },
  {
   "cell_type": "code",
   "execution_count": 122,
   "metadata": {},
   "outputs": [
    {
     "data": {
      "text/plain": [
       "0     ALFL\n",
       "1     AMIS\n",
       "2     ARCH\n",
       "3     AZRU\n",
       "4     BAND\n",
       "      ... \n",
       "74    WACA\n",
       "75    WHSA\n",
       "76    WUPA\n",
       "77    YELL\n",
       "78    ZION\n",
       "Name: Unit_Code, Length: 79, dtype: object"
      ]
     },
     "execution_count": 122,
     "metadata": {},
     "output_type": "execute_result"
    }
   ],
   "source": [
    "df.Unit_Code"
   ]
  },
  {
   "cell_type": "code",
   "execution_count": 123,
   "metadata": {},
   "outputs": [
    {
     "data": {
      "text/plain": [
       "0        3232\n",
       "1     1786653\n",
       "2     1010169\n",
       "3       40046\n",
       "4      199860\n",
       "       ...   \n",
       "74     118487\n",
       "75     451382\n",
       "76     222211\n",
       "77    3368801\n",
       "78    2778128\n",
       "Name: Average_of_Recreation_Visits_2008x2012, Length: 79, dtype: int64"
      ]
     },
     "execution_count": 123,
     "metadata": {},
     "output_type": "execute_result"
    }
   ],
   "source": [
    "df.Average_of_Recreation_Visits_2008x2012\t"
   ]
  },
  {
   "cell_type": "code",
   "execution_count": 97,
   "metadata": {},
   "outputs": [
    {
     "data": {
      "text/plain": [
       "(array([8., 8., 8., 8., 7., 8., 8., 8., 8., 8.]),\n",
       " array([ 0. ,  7.8, 15.6, 23.4, 31.2, 39. , 46.8, 54.6, 62.4, 70.2, 78. ]),\n",
       " <BarContainer object of 10 artists>)"
      ]
     },
     "execution_count": 97,
     "metadata": {},
     "output_type": "execute_result"
    },
    {
     "data": {
      "image/png": "[encoded data removed]",
      "text/plain": [
       "<Figure size 432x288 with 1 Axes>"
      ]
     },
     "metadata": {
      "needs_background": "light"
     },
     "output_type": "display_data"
    }
   ],
   "source": [
    "plt.hist(df.Average_of_Recreation_Visits_2008x2012)"
   ]
  },
  {
   "cell_type": "code",
   "execution_count": 60,
   "metadata": {
    "scrolled": true
   },
   "outputs": [
    {
     "data": {
      "text/plain": [
       "(array([15.,  2.,  1.,  0.,  1.,  0.,  0.,  0.,  0.,  1.]),\n",
       " array([  1.  ,  40.84,  80.68, 120.52, 160.36, 200.2 , 240.04, 279.88,\n",
       "        319.72, 359.56, 399.4 ]),\n",
       " <BarContainer object of 10 artists>)"
      ]
     },
     "execution_count": 60,
     "metadata": {},
     "output_type": "execute_result"
    },
    {
     "data": {
      "image/png": "[encoded data removed]",
      "text/plain": [
       "<Figure size 432x288 with 1 Axes>"
      ]
     },
     "metadata": {
      "needs_background": "light"
     },
     "output_type": "display_data"
    }
   ],
   "source": [
    "plt.hist(df.Average_crashes_per_year_2008x2012)"
   ]
  },
  {
   "cell_type": "code",
   "execution_count": 156,
   "metadata": {},
   "outputs": [],
   "source": [
    "df_crash = df.loc[df['Average_crashes_per_year_2008x2012']>0]"
   ]
  },
  {
   "cell_type": "code",
   "execution_count": 158,
   "metadata": {},
   "outputs": [
    {
     "data": {
      "image/png": "[encoded data removed]",
      "text/plain": [
       "<Figure size 1224x432 with 1 Axes>"
      ]
     },
     "metadata": {
      "needs_background": "light"
     },
     "output_type": "display_data"
    }
   ],
   "source": [
    "# Defining the parks\n",
    "parks = df_crash.Unit_Code\n",
    "\n",
    "# Define Crashes\n",
    "crash = df_crash.Average_crashes_per_year_2008x2012\n",
    "\n",
    "# Define plot space\n",
    "fig, ax = plt.subplots(figsize=(17, 6))\n",
    "\n",
    "# Define x and y axes\n",
    "ax.bar(parks, \n",
    "        crash)\n",
    "ax.set(title = \"Average Crashes per Year by Park\",\n",
    "       xlabel = \"Parks\",\n",
    "       ylabel = \"Average Crashes per Year\")\n",
    "plt.xticks(rotation = 270)\n",
    "plt.show()\n",
    "\n",
    "#Why is the Y-axis displaing a tick for the value and not putting them in numerical order"
   ]
  },
  {
   "cell_type": "code",
   "execution_count": 61,
   "metadata": {
    "scrolled": false
   },
   "outputs": [
    {
     "data": {
      "text/plain": [
       "(array([8., 3., 0., 0., 0., 0., 0., 0., 0., 1.]),\n",
       " array([1. , 1.6, 2.2, 2.8, 3.4, 4. , 4.6, 5.2, 5.8, 6.4, 7. ]),\n",
       " <BarContainer object of 10 artists>)"
      ]
     },
     "execution_count": 61,
     "metadata": {},
     "output_type": "execute_result"
    },
    {
     "data": {
      "image/png": "[encoded data removed]",
      "text/plain": [
       "<Figure size 432x288 with 1 Axes>"
      ]
     },
     "metadata": {
      "needs_background": "light"
     },
     "output_type": "display_data"
    }
   ],
   "source": [
    "plt.hist(df.Safety_Studies)"
   ]
  },
  {
   "cell_type": "code",
   "execution_count": 159,
   "metadata": {
    "scrolled": false
   },
   "outputs": [
    {
     "data": {
      "image/png": "[encoded data removed]",
      "text/plain": [
       "<Figure size 1224x432 with 1 Axes>"
      ]
     },
     "metadata": {
      "needs_background": "light"
     },
     "output_type": "display_data"
    }
   ],
   "source": [
    "df_study = df.loc[df['Safety_Studies']>0]\n",
    "\n",
    "# Defining the parks\n",
    "parks = df_study.Unit_Code\n",
    "\n",
    "# Define Crashes\n",
    "study = df_study.Safety_Studies\n",
    "\n",
    "# Define plot space\n",
    "fig, ax = plt.subplots(figsize=(17, 6))\n",
    "\n",
    "# Define x and y axes\n",
    "ax.bar(parks, \n",
    "        study)\n",
    "ax.set(title = \"Safety Studies by Park\",\n",
    "       xlabel = \"Parks\",\n",
    "       ylabel = \"Number of Safety Studies\")\n",
    "plt.xticks(rotation = 270)\n",
    "\n",
    "plt.show()\n",
    "\n",
    "#Why is the Y-axis displaing a tick for the value and not putting them in numerical order"
   ]
  }
 ],
 "metadata": {
  "kernelspec": {
   "display_name": "Python 3",
   "language": "python",
   "name": "python3"
  },
  "language_info": {
   "codemirror_mode": {
    "name": "ipython",
    "version": 3
   },
   "file_extension": ".py",
   "mimetype": "text/x-python",
   "name": "python",
   "nbconvert_exporter": "python",
   "pygments_lexer": "ipython3",
   "version": "3.7.3"
  }
 },
 "nbformat": 4,
 "nbformat_minor": 5
}
